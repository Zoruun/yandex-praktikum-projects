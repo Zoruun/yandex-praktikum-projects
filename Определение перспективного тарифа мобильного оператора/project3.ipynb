{
 "cells": [
  {
   "cell_type": "markdown",
   "metadata": {},
   "source": [
    "# Определение перспективного тарифа для телеком компании"
   ]
  },
  {
   "cell_type": "markdown",
   "metadata": {},
   "source": [
    "Чтобы скорректировать рекламный бюджет, необходимо понять, какой тариф приносит больше денег.\n",
    "\n",
    "Необходимо сделать предварительный анализ тарифов на небольшой выборке клиентов. Есть данные 500 пользователей: кто они, откуда, каким тарифом пользуются, сколько звонков и сообщений каждый отправил за 2018 год."
   ]
  },
  {
   "cell_type": "markdown",
   "metadata": {},
   "source": [
    "Задачи проекта:\n",
    " \n",
    " - Посмотреть как клиенты пользуются услугами сотового оператора:  сколько звонков, интернет трафика и сообщений требуется помесячно;\n",
    " - Выслить ежемесячную выручку с клиентов;\n",
    " - Посмотреть, как отличается пользование тарифом Smart от пользования тарифа Ultra;\n",
    " - Проверить гипотезу: \"Средняя выручка пользователей тарифов «Ультра» и «Смарт» различается\";\n",
    " - Проверить гипотезу: \"Средняя выручка пользователей из Москвы отличается от выручки пользователей из других регионов\"\n",
    " - Выявить какой тариф более выгоден для компании."
   ]
  },
  {
   "cell_type": "markdown",
   "metadata": {},
   "source": [
    "## Шаг 1. Откройте файл с данными и изучите общую информацию"
   ]
  },
  {
   "cell_type": "code",
   "execution_count": 1,
   "metadata": {},
   "outputs": [],
   "source": [
    "#импортируем необходимые библиотеки\n",
    "import matplotlib.pyplot as plt\n",
    "import pandas as pd\n",
    "import numpy as np\n",
    "from math import factorial\n",
    "from scipy import stats as st\n",
    "import seaborn as sns\n",
    "from functools import reduce"
   ]
  },
  {
   "cell_type": "code",
   "execution_count": 2,
   "metadata": {},
   "outputs": [
    {
     "data": {
      "text/html": [
       "<div>\n",
       "<style scoped>\n",
       "    .dataframe tbody tr th:only-of-type {\n",
       "        vertical-align: middle;\n",
       "    }\n",
       "\n",
       "    .dataframe tbody tr th {\n",
       "        vertical-align: top;\n",
       "    }\n",
       "\n",
       "    .dataframe thead th {\n",
       "        text-align: right;\n",
       "    }\n",
       "</style>\n",
       "<table border=\"1\" class=\"dataframe\">\n",
       "  <thead>\n",
       "    <tr style=\"text-align: right;\">\n",
       "      <th></th>\n",
       "      <th>id</th>\n",
       "      <th>call_date</th>\n",
       "      <th>duration</th>\n",
       "      <th>user_id</th>\n",
       "    </tr>\n",
       "  </thead>\n",
       "  <tbody>\n",
       "    <tr>\n",
       "      <td>0</td>\n",
       "      <td>1000_0</td>\n",
       "      <td>2018-07-25</td>\n",
       "      <td>0.00</td>\n",
       "      <td>1000</td>\n",
       "    </tr>\n",
       "    <tr>\n",
       "      <td>1</td>\n",
       "      <td>1000_1</td>\n",
       "      <td>2018-08-17</td>\n",
       "      <td>0.00</td>\n",
       "      <td>1000</td>\n",
       "    </tr>\n",
       "    <tr>\n",
       "      <td>2</td>\n",
       "      <td>1000_2</td>\n",
       "      <td>2018-06-11</td>\n",
       "      <td>2.85</td>\n",
       "      <td>1000</td>\n",
       "    </tr>\n",
       "    <tr>\n",
       "      <td>3</td>\n",
       "      <td>1000_3</td>\n",
       "      <td>2018-09-21</td>\n",
       "      <td>13.80</td>\n",
       "      <td>1000</td>\n",
       "    </tr>\n",
       "    <tr>\n",
       "      <td>4</td>\n",
       "      <td>1000_4</td>\n",
       "      <td>2018-12-15</td>\n",
       "      <td>5.18</td>\n",
       "      <td>1000</td>\n",
       "    </tr>\n",
       "  </tbody>\n",
       "</table>\n",
       "</div>"
      ],
      "text/plain": [
       "       id   call_date  duration  user_id\n",
       "0  1000_0  2018-07-25      0.00     1000\n",
       "1  1000_1  2018-08-17      0.00     1000\n",
       "2  1000_2  2018-06-11      2.85     1000\n",
       "3  1000_3  2018-09-21     13.80     1000\n",
       "4  1000_4  2018-12-15      5.18     1000"
      ]
     },
     "execution_count": 2,
     "metadata": {},
     "output_type": "execute_result"
    }
   ],
   "source": [
    "#откроем таблицу для звонков и выведем её на экран\n",
    "data_calls = pd.read_csv('/datasets/calls.csv')\n",
    "data_calls.head()"
   ]
  },
  {
   "cell_type": "code",
   "execution_count": 3,
   "metadata": {},
   "outputs": [
    {
     "data": {
      "text/html": [
       "<div>\n",
       "<style scoped>\n",
       "    .dataframe tbody tr th:only-of-type {\n",
       "        vertical-align: middle;\n",
       "    }\n",
       "\n",
       "    .dataframe tbody tr th {\n",
       "        vertical-align: top;\n",
       "    }\n",
       "\n",
       "    .dataframe thead th {\n",
       "        text-align: right;\n",
       "    }\n",
       "</style>\n",
       "<table border=\"1\" class=\"dataframe\">\n",
       "  <thead>\n",
       "    <tr style=\"text-align: right;\">\n",
       "      <th></th>\n",
       "      <th>duration</th>\n",
       "      <th>user_id</th>\n",
       "    </tr>\n",
       "  </thead>\n",
       "  <tbody>\n",
       "    <tr>\n",
       "      <td>count</td>\n",
       "      <td>202607.000000</td>\n",
       "      <td>202607.000000</td>\n",
       "    </tr>\n",
       "    <tr>\n",
       "      <td>mean</td>\n",
       "      <td>6.755887</td>\n",
       "      <td>1253.940619</td>\n",
       "    </tr>\n",
       "    <tr>\n",
       "      <td>std</td>\n",
       "      <td>5.843365</td>\n",
       "      <td>144.722751</td>\n",
       "    </tr>\n",
       "    <tr>\n",
       "      <td>min</td>\n",
       "      <td>0.000000</td>\n",
       "      <td>1000.000000</td>\n",
       "    </tr>\n",
       "    <tr>\n",
       "      <td>25%</td>\n",
       "      <td>1.300000</td>\n",
       "      <td>1126.000000</td>\n",
       "    </tr>\n",
       "    <tr>\n",
       "      <td>50%</td>\n",
       "      <td>6.000000</td>\n",
       "      <td>1260.000000</td>\n",
       "    </tr>\n",
       "    <tr>\n",
       "      <td>75%</td>\n",
       "      <td>10.700000</td>\n",
       "      <td>1379.000000</td>\n",
       "    </tr>\n",
       "    <tr>\n",
       "      <td>max</td>\n",
       "      <td>38.000000</td>\n",
       "      <td>1499.000000</td>\n",
       "    </tr>\n",
       "  </tbody>\n",
       "</table>\n",
       "</div>"
      ],
      "text/plain": [
       "            duration        user_id\n",
       "count  202607.000000  202607.000000\n",
       "mean        6.755887    1253.940619\n",
       "std         5.843365     144.722751\n",
       "min         0.000000    1000.000000\n",
       "25%         1.300000    1126.000000\n",
       "50%         6.000000    1260.000000\n",
       "75%        10.700000    1379.000000\n",
       "max        38.000000    1499.000000"
      ]
     },
     "execution_count": 3,
     "metadata": {},
     "output_type": "execute_result"
    }
   ],
   "source": [
    "# посмотрим основные числовые характеристики для data_calls\n",
    "data_calls.describe()"
   ]
  },
  {
   "cell_type": "code",
   "execution_count": 4,
   "metadata": {},
   "outputs": [
    {
     "name": "stdout",
     "output_type": "stream",
     "text": [
      "<class 'pandas.core.frame.DataFrame'>\n",
      "RangeIndex: 202607 entries, 0 to 202606\n",
      "Data columns (total 4 columns):\n",
      "id           202607 non-null object\n",
      "call_date    202607 non-null object\n",
      "duration     202607 non-null float64\n",
      "user_id      202607 non-null int64\n",
      "dtypes: float64(1), int64(1), object(2)\n",
      "memory usage: 6.2+ MB\n"
     ]
    }
   ],
   "source": [
    "# посмотрим основную информацию по таблицу data_calls\n",
    "data_calls.info()"
   ]
  },
  {
   "cell_type": "code",
   "execution_count": 5,
   "metadata": {},
   "outputs": [
    {
     "data": {
      "text/html": [
       "<div>\n",
       "<style scoped>\n",
       "    .dataframe tbody tr th:only-of-type {\n",
       "        vertical-align: middle;\n",
       "    }\n",
       "\n",
       "    .dataframe tbody tr th {\n",
       "        vertical-align: top;\n",
       "    }\n",
       "\n",
       "    .dataframe thead th {\n",
       "        text-align: right;\n",
       "    }\n",
       "</style>\n",
       "<table border=\"1\" class=\"dataframe\">\n",
       "  <thead>\n",
       "    <tr style=\"text-align: right;\">\n",
       "      <th></th>\n",
       "      <th>Unnamed: 0</th>\n",
       "      <th>id</th>\n",
       "      <th>mb_used</th>\n",
       "      <th>session_date</th>\n",
       "      <th>user_id</th>\n",
       "    </tr>\n",
       "  </thead>\n",
       "  <tbody>\n",
       "    <tr>\n",
       "      <td>0</td>\n",
       "      <td>0</td>\n",
       "      <td>1000_0</td>\n",
       "      <td>112.95</td>\n",
       "      <td>2018-11-25</td>\n",
       "      <td>1000</td>\n",
       "    </tr>\n",
       "    <tr>\n",
       "      <td>1</td>\n",
       "      <td>1</td>\n",
       "      <td>1000_1</td>\n",
       "      <td>1052.81</td>\n",
       "      <td>2018-09-07</td>\n",
       "      <td>1000</td>\n",
       "    </tr>\n",
       "    <tr>\n",
       "      <td>2</td>\n",
       "      <td>2</td>\n",
       "      <td>1000_2</td>\n",
       "      <td>1197.26</td>\n",
       "      <td>2018-06-25</td>\n",
       "      <td>1000</td>\n",
       "    </tr>\n",
       "    <tr>\n",
       "      <td>3</td>\n",
       "      <td>3</td>\n",
       "      <td>1000_3</td>\n",
       "      <td>550.27</td>\n",
       "      <td>2018-08-22</td>\n",
       "      <td>1000</td>\n",
       "    </tr>\n",
       "    <tr>\n",
       "      <td>4</td>\n",
       "      <td>4</td>\n",
       "      <td>1000_4</td>\n",
       "      <td>302.56</td>\n",
       "      <td>2018-09-24</td>\n",
       "      <td>1000</td>\n",
       "    </tr>\n",
       "  </tbody>\n",
       "</table>\n",
       "</div>"
      ],
      "text/plain": [
       "   Unnamed: 0      id  mb_used session_date  user_id\n",
       "0           0  1000_0   112.95   2018-11-25     1000\n",
       "1           1  1000_1  1052.81   2018-09-07     1000\n",
       "2           2  1000_2  1197.26   2018-06-25     1000\n",
       "3           3  1000_3   550.27   2018-08-22     1000\n",
       "4           4  1000_4   302.56   2018-09-24     1000"
      ]
     },
     "execution_count": 5,
     "metadata": {},
     "output_type": "execute_result"
    }
   ],
   "source": [
    "#откроем таблицу для интернета и выведем её на экран\n",
    "data_internet = pd.read_csv('/datasets/internet.csv')\n",
    "data_internet.head()"
   ]
  },
  {
   "cell_type": "code",
   "execution_count": 6,
   "metadata": {},
   "outputs": [
    {
     "data": {
      "text/html": [
       "<div>\n",
       "<style scoped>\n",
       "    .dataframe tbody tr th:only-of-type {\n",
       "        vertical-align: middle;\n",
       "    }\n",
       "\n",
       "    .dataframe tbody tr th {\n",
       "        vertical-align: top;\n",
       "    }\n",
       "\n",
       "    .dataframe thead th {\n",
       "        text-align: right;\n",
       "    }\n",
       "</style>\n",
       "<table border=\"1\" class=\"dataframe\">\n",
       "  <thead>\n",
       "    <tr style=\"text-align: right;\">\n",
       "      <th></th>\n",
       "      <th>Unnamed: 0</th>\n",
       "      <th>mb_used</th>\n",
       "      <th>user_id</th>\n",
       "    </tr>\n",
       "  </thead>\n",
       "  <tbody>\n",
       "    <tr>\n",
       "      <td>count</td>\n",
       "      <td>149396.000000</td>\n",
       "      <td>149396.000000</td>\n",
       "      <td>149396.000000</td>\n",
       "    </tr>\n",
       "    <tr>\n",
       "      <td>mean</td>\n",
       "      <td>74697.500000</td>\n",
       "      <td>370.192426</td>\n",
       "      <td>1252.099842</td>\n",
       "    </tr>\n",
       "    <tr>\n",
       "      <td>std</td>\n",
       "      <td>43127.054745</td>\n",
       "      <td>278.300951</td>\n",
       "      <td>144.050823</td>\n",
       "    </tr>\n",
       "    <tr>\n",
       "      <td>min</td>\n",
       "      <td>0.000000</td>\n",
       "      <td>0.000000</td>\n",
       "      <td>1000.000000</td>\n",
       "    </tr>\n",
       "    <tr>\n",
       "      <td>25%</td>\n",
       "      <td>37348.750000</td>\n",
       "      <td>138.187500</td>\n",
       "      <td>1130.000000</td>\n",
       "    </tr>\n",
       "    <tr>\n",
       "      <td>50%</td>\n",
       "      <td>74697.500000</td>\n",
       "      <td>348.015000</td>\n",
       "      <td>1251.000000</td>\n",
       "    </tr>\n",
       "    <tr>\n",
       "      <td>75%</td>\n",
       "      <td>112046.250000</td>\n",
       "      <td>559.552500</td>\n",
       "      <td>1380.000000</td>\n",
       "    </tr>\n",
       "    <tr>\n",
       "      <td>max</td>\n",
       "      <td>149395.000000</td>\n",
       "      <td>1724.830000</td>\n",
       "      <td>1499.000000</td>\n",
       "    </tr>\n",
       "  </tbody>\n",
       "</table>\n",
       "</div>"
      ],
      "text/plain": [
       "          Unnamed: 0        mb_used        user_id\n",
       "count  149396.000000  149396.000000  149396.000000\n",
       "mean    74697.500000     370.192426    1252.099842\n",
       "std     43127.054745     278.300951     144.050823\n",
       "min         0.000000       0.000000    1000.000000\n",
       "25%     37348.750000     138.187500    1130.000000\n",
       "50%     74697.500000     348.015000    1251.000000\n",
       "75%    112046.250000     559.552500    1380.000000\n",
       "max    149395.000000    1724.830000    1499.000000"
      ]
     },
     "execution_count": 6,
     "metadata": {},
     "output_type": "execute_result"
    }
   ],
   "source": [
    "# посмотрим основные числовые характеристики для data_internet\n",
    "data_internet.describe()"
   ]
  },
  {
   "cell_type": "code",
   "execution_count": 7,
   "metadata": {},
   "outputs": [
    {
     "name": "stdout",
     "output_type": "stream",
     "text": [
      "<class 'pandas.core.frame.DataFrame'>\n",
      "RangeIndex: 149396 entries, 0 to 149395\n",
      "Data columns (total 5 columns):\n",
      "Unnamed: 0      149396 non-null int64\n",
      "id              149396 non-null object\n",
      "mb_used         149396 non-null float64\n",
      "session_date    149396 non-null object\n",
      "user_id         149396 non-null int64\n",
      "dtypes: float64(1), int64(2), object(2)\n",
      "memory usage: 5.7+ MB\n"
     ]
    }
   ],
   "source": [
    "# посмотрим основную информацию по таблицу data_internet\n",
    "data_internet.info()"
   ]
  },
  {
   "cell_type": "code",
   "execution_count": 8,
   "metadata": {},
   "outputs": [
    {
     "data": {
      "text/html": [
       "<div>\n",
       "<style scoped>\n",
       "    .dataframe tbody tr th:only-of-type {\n",
       "        vertical-align: middle;\n",
       "    }\n",
       "\n",
       "    .dataframe tbody tr th {\n",
       "        vertical-align: top;\n",
       "    }\n",
       "\n",
       "    .dataframe thead th {\n",
       "        text-align: right;\n",
       "    }\n",
       "</style>\n",
       "<table border=\"1\" class=\"dataframe\">\n",
       "  <thead>\n",
       "    <tr style=\"text-align: right;\">\n",
       "      <th></th>\n",
       "      <th>id</th>\n",
       "      <th>message_date</th>\n",
       "      <th>user_id</th>\n",
       "    </tr>\n",
       "  </thead>\n",
       "  <tbody>\n",
       "    <tr>\n",
       "      <td>0</td>\n",
       "      <td>1000_0</td>\n",
       "      <td>2018-06-27</td>\n",
       "      <td>1000</td>\n",
       "    </tr>\n",
       "    <tr>\n",
       "      <td>1</td>\n",
       "      <td>1000_1</td>\n",
       "      <td>2018-10-08</td>\n",
       "      <td>1000</td>\n",
       "    </tr>\n",
       "    <tr>\n",
       "      <td>2</td>\n",
       "      <td>1000_2</td>\n",
       "      <td>2018-08-04</td>\n",
       "      <td>1000</td>\n",
       "    </tr>\n",
       "    <tr>\n",
       "      <td>3</td>\n",
       "      <td>1000_3</td>\n",
       "      <td>2018-06-16</td>\n",
       "      <td>1000</td>\n",
       "    </tr>\n",
       "    <tr>\n",
       "      <td>4</td>\n",
       "      <td>1000_4</td>\n",
       "      <td>2018-12-05</td>\n",
       "      <td>1000</td>\n",
       "    </tr>\n",
       "  </tbody>\n",
       "</table>\n",
       "</div>"
      ],
      "text/plain": [
       "       id message_date  user_id\n",
       "0  1000_0   2018-06-27     1000\n",
       "1  1000_1   2018-10-08     1000\n",
       "2  1000_2   2018-08-04     1000\n",
       "3  1000_3   2018-06-16     1000\n",
       "4  1000_4   2018-12-05     1000"
      ]
     },
     "execution_count": 8,
     "metadata": {},
     "output_type": "execute_result"
    }
   ],
   "source": [
    "#откроем таблицу для сообщений и выведем её на экран\n",
    "data_messages = pd.read_csv('/datasets/messages.csv')\n",
    "data_messages.head()"
   ]
  },
  {
   "cell_type": "code",
   "execution_count": 9,
   "metadata": {},
   "outputs": [
    {
     "name": "stdout",
     "output_type": "stream",
     "text": [
      "<class 'pandas.core.frame.DataFrame'>\n",
      "RangeIndex: 123036 entries, 0 to 123035\n",
      "Data columns (total 3 columns):\n",
      "id              123036 non-null object\n",
      "message_date    123036 non-null object\n",
      "user_id         123036 non-null int64\n",
      "dtypes: int64(1), object(2)\n",
      "memory usage: 2.8+ MB\n"
     ]
    }
   ],
   "source": [
    "# посмотрим основную информацию по таблицу data_messages\n",
    "data_messages.info()"
   ]
  },
  {
   "cell_type": "code",
   "execution_count": 10,
   "metadata": {},
   "outputs": [
    {
     "data": {
      "text/html": [
       "<div>\n",
       "<style scoped>\n",
       "    .dataframe tbody tr th:only-of-type {\n",
       "        vertical-align: middle;\n",
       "    }\n",
       "\n",
       "    .dataframe tbody tr th {\n",
       "        vertical-align: top;\n",
       "    }\n",
       "\n",
       "    .dataframe thead th {\n",
       "        text-align: right;\n",
       "    }\n",
       "</style>\n",
       "<table border=\"1\" class=\"dataframe\">\n",
       "  <thead>\n",
       "    <tr style=\"text-align: right;\">\n",
       "      <th></th>\n",
       "      <th>messages_included</th>\n",
       "      <th>mb_per_month_included</th>\n",
       "      <th>minutes_included</th>\n",
       "      <th>rub_monthly_fee</th>\n",
       "      <th>rub_per_gb</th>\n",
       "      <th>rub_per_message</th>\n",
       "      <th>rub_per_minute</th>\n",
       "      <th>tariff_name</th>\n",
       "    </tr>\n",
       "  </thead>\n",
       "  <tbody>\n",
       "    <tr>\n",
       "      <td>0</td>\n",
       "      <td>50</td>\n",
       "      <td>15360</td>\n",
       "      <td>500</td>\n",
       "      <td>550</td>\n",
       "      <td>200</td>\n",
       "      <td>3</td>\n",
       "      <td>3</td>\n",
       "      <td>smart</td>\n",
       "    </tr>\n",
       "    <tr>\n",
       "      <td>1</td>\n",
       "      <td>1000</td>\n",
       "      <td>30720</td>\n",
       "      <td>3000</td>\n",
       "      <td>1950</td>\n",
       "      <td>150</td>\n",
       "      <td>1</td>\n",
       "      <td>1</td>\n",
       "      <td>ultra</td>\n",
       "    </tr>\n",
       "  </tbody>\n",
       "</table>\n",
       "</div>"
      ],
      "text/plain": [
       "   messages_included  mb_per_month_included  minutes_included  \\\n",
       "0                 50                  15360               500   \n",
       "1               1000                  30720              3000   \n",
       "\n",
       "   rub_monthly_fee  rub_per_gb  rub_per_message  rub_per_minute tariff_name  \n",
       "0              550         200                3               3       smart  \n",
       "1             1950         150                1               1       ultra  "
      ]
     },
     "execution_count": 10,
     "metadata": {},
     "output_type": "execute_result"
    }
   ],
   "source": [
    "#откроем таблицу тарифов и выведем её на экран\n",
    "data_tariffs = pd.read_csv('/datasets/tariffs.csv')\n",
    "data_tariffs"
   ]
  },
  {
   "cell_type": "code",
   "execution_count": 11,
   "metadata": {},
   "outputs": [
    {
     "data": {
      "text/html": [
       "<div>\n",
       "<style scoped>\n",
       "    .dataframe tbody tr th:only-of-type {\n",
       "        vertical-align: middle;\n",
       "    }\n",
       "\n",
       "    .dataframe tbody tr th {\n",
       "        vertical-align: top;\n",
       "    }\n",
       "\n",
       "    .dataframe thead th {\n",
       "        text-align: right;\n",
       "    }\n",
       "</style>\n",
       "<table border=\"1\" class=\"dataframe\">\n",
       "  <thead>\n",
       "    <tr style=\"text-align: right;\">\n",
       "      <th></th>\n",
       "      <th>user_id</th>\n",
       "      <th>age</th>\n",
       "      <th>churn_date</th>\n",
       "      <th>city</th>\n",
       "      <th>first_name</th>\n",
       "      <th>last_name</th>\n",
       "      <th>reg_date</th>\n",
       "      <th>tariff</th>\n",
       "    </tr>\n",
       "  </thead>\n",
       "  <tbody>\n",
       "    <tr>\n",
       "      <td>0</td>\n",
       "      <td>1000</td>\n",
       "      <td>52</td>\n",
       "      <td>NaN</td>\n",
       "      <td>Краснодар</td>\n",
       "      <td>Рафаил</td>\n",
       "      <td>Верещагин</td>\n",
       "      <td>2018-05-25</td>\n",
       "      <td>ultra</td>\n",
       "    </tr>\n",
       "    <tr>\n",
       "      <td>1</td>\n",
       "      <td>1001</td>\n",
       "      <td>41</td>\n",
       "      <td>NaN</td>\n",
       "      <td>Москва</td>\n",
       "      <td>Иван</td>\n",
       "      <td>Ежов</td>\n",
       "      <td>2018-11-01</td>\n",
       "      <td>smart</td>\n",
       "    </tr>\n",
       "    <tr>\n",
       "      <td>2</td>\n",
       "      <td>1002</td>\n",
       "      <td>59</td>\n",
       "      <td>NaN</td>\n",
       "      <td>Стерлитамак</td>\n",
       "      <td>Евгений</td>\n",
       "      <td>Абрамович</td>\n",
       "      <td>2018-06-17</td>\n",
       "      <td>smart</td>\n",
       "    </tr>\n",
       "    <tr>\n",
       "      <td>3</td>\n",
       "      <td>1003</td>\n",
       "      <td>23</td>\n",
       "      <td>NaN</td>\n",
       "      <td>Москва</td>\n",
       "      <td>Белла</td>\n",
       "      <td>Белякова</td>\n",
       "      <td>2018-08-17</td>\n",
       "      <td>ultra</td>\n",
       "    </tr>\n",
       "    <tr>\n",
       "      <td>4</td>\n",
       "      <td>1004</td>\n",
       "      <td>68</td>\n",
       "      <td>NaN</td>\n",
       "      <td>Новокузнецк</td>\n",
       "      <td>Татьяна</td>\n",
       "      <td>Авдеенко</td>\n",
       "      <td>2018-05-14</td>\n",
       "      <td>ultra</td>\n",
       "    </tr>\n",
       "  </tbody>\n",
       "</table>\n",
       "</div>"
      ],
      "text/plain": [
       "   user_id  age churn_date         city first_name  last_name    reg_date  \\\n",
       "0     1000   52        NaN    Краснодар     Рафаил  Верещагин  2018-05-25   \n",
       "1     1001   41        NaN       Москва       Иван       Ежов  2018-11-01   \n",
       "2     1002   59        NaN  Стерлитамак    Евгений  Абрамович  2018-06-17   \n",
       "3     1003   23        NaN       Москва      Белла   Белякова  2018-08-17   \n",
       "4     1004   68        NaN  Новокузнецк    Татьяна   Авдеенко  2018-05-14   \n",
       "\n",
       "  tariff  \n",
       "0  ultra  \n",
       "1  smart  \n",
       "2  smart  \n",
       "3  ultra  \n",
       "4  ultra  "
      ]
     },
     "execution_count": 11,
     "metadata": {},
     "output_type": "execute_result"
    }
   ],
   "source": [
    "#откроем таблицу клиентов и выведем её на экран\n",
    "data_users = pd.read_csv('/datasets/users.csv')\n",
    "data_users.head()"
   ]
  },
  {
   "cell_type": "code",
   "execution_count": 12,
   "metadata": {},
   "outputs": [
    {
     "data": {
      "text/plain": [
       "smart    351\n",
       "ultra    149\n",
       "Name: tariff, dtype: int64"
      ]
     },
     "execution_count": 12,
     "metadata": {},
     "output_type": "execute_result"
    }
   ],
   "source": [
    "# посмотрим сколько у нас клиентов с разными тарифами\n",
    "data_users['tariff'].value_counts()"
   ]
  },
  {
   "cell_type": "code",
   "execution_count": 13,
   "metadata": {},
   "outputs": [
    {
     "name": "stdout",
     "output_type": "stream",
     "text": [
      "<class 'pandas.core.frame.DataFrame'>\n",
      "RangeIndex: 500 entries, 0 to 499\n",
      "Data columns (total 8 columns):\n",
      "user_id       500 non-null int64\n",
      "age           500 non-null int64\n",
      "churn_date    38 non-null object\n",
      "city          500 non-null object\n",
      "first_name    500 non-null object\n",
      "last_name     500 non-null object\n",
      "reg_date      500 non-null object\n",
      "tariff        500 non-null object\n",
      "dtypes: int64(2), object(6)\n",
      "memory usage: 31.4+ KB\n"
     ]
    }
   ],
   "source": [
    "# посмотрим основную информацию по таблицу data_users\n",
    "data_users.info()"
   ]
  },
  {
   "cell_type": "markdown",
   "metadata": {},
   "source": [
    "### Вывод"
   ]
  },
  {
   "cell_type": "markdown",
   "metadata": {},
   "source": [
    "Рассмотрим наши таблице. \n",
    "\n",
    "В таблице data_calls, показывающей количество звонков для того или иного клиента, есть следующие стобцы\n",
    " -\tid — уникальный номер звонка\n",
    " -\tcall_date — дата звонка\n",
    " -\tduration — длительность звонка в минутах\n",
    " -\tuser_id — идентификатор пользователя, сделавшего звонок\n",
    "\n",
    "Нет ни одного пропущенного значения\n",
    "Среднее время звонка 6 минут, медианное приближается к 7.\n",
    "\n",
    "В таблице data_internet, показывается количество потраченного интернета за ту или иную сессию для каждого клиента.\n",
    " -\tid — уникальный номер сессии\n",
    " -\tmb_used — объём потраченного за сессию интернет-трафика (в мегабайтах)\n",
    " -\tsession_date — дата интернет-сессии\n",
    " -\tuser_id — идентификатор пользователя\n",
    "\n",
    "Нет ни одного пропущенного значения\n",
    "Средний трафик за одну сессию 370 мегабайт, медианное около к 350.\n",
    "Данное распределение говорит, что есть выбросы более долгих сессий по мегабайтам.\n",
    "\n",
    "В таблице data_messages, содержится информация о дате отправке смс тем или иным пользователем\n",
    " -\tid — уникальный номер сообщения\n",
    " -\tmessage_date — дата сообщения\n",
    " -\tuser_id — идентификатор пользователя, отправившего сообщение\n",
    "\n",
    "В таблице нет ни одного пропущенного\n",
    "\n",
    "В таблице data_users содержится информация о клиентах\n",
    " -\tuser_id — уникальный идентификатор пользователя\n",
    " -\tfirst_name — имя пользователя\n",
    " -\tlast_name — фамилия пользователя\n",
    " -\tage — возраст пользователя (годы)\n",
    " -\treg_date — дата подключения тарифа (день, месяц, год)\n",
    " -\tchurn_date — дата прекращения пользования тарифом (если значение пропущено, то тариф ещё действовал на момент выгрузки данных)\n",
    " -\tcity — город проживания пользователя\n",
    " -\ttariff — название тарифного плана\n",
    "\n",
    "Всего у нас 500 клиентов, пропущенные значения есть только по столбцу churn_date, где указано сколько клиентов в определённый момент отказались от тарифа.\n",
    "\n",
    "В таблице data_tariffs у нас информация о тарифах\n",
    "\n",
    "Тариф «Смарт»\n",
    "1.\tЕжемесячная плата: 550 рублей\n",
    "2.\tВключено 500 минут разговора, 50 сообщений и 15 Гб интернет-трафика\n",
    "3.\tСтоимость услуг сверх тарифного пакета:\n",
    "  -\tминута разговора: 3 рубля\n",
    "  -\tсообщение: 3 рубля\n",
    "  -\t1 Гб интернет-трафика: 200 рублей\n",
    "Тариф «Ультра»\n",
    "1.\tЕжемесячная плата: 1950 рублей\n",
    "2.\tВключено 3000 минут разговора, 1000 сообщений и 30 Гб интернет-трафика\n",
    "3.\tСтоимость услуг сверх тарифного пакета:\n",
    "  -\tминута разговора: 1 рубль\n",
    "  -\tсообщение: 1 рубль\n",
    "  -\t1 Гб интернет-трафика: 150 рублей\n",
    "\n",
    "«Мегалайн» всегда округляет вверх значения минут и мегабайтов. Если пользователь проговорил всего 1 секунду, в тарифе засчитывается целая минута.\n",
    "\n",
    "Всего у нас 351 клиент с тарифом Smart и 149 клиентов с тарифом Ultra."
   ]
  },
  {
   "cell_type": "markdown",
   "metadata": {},
   "source": [
    "## Шаг 2. Подготовка данных"
   ]
  },
  {
   "cell_type": "markdown",
   "metadata": {},
   "source": [
    "Начнём с обработки таблицы data_calls.\n",
    "\n",
    "Проверим таблицу на дубликаты.\n",
    "\n",
    "Нулевые значения это скорее всего пропущенные звонки.\n",
    "Нулевые значения влияют на медиану и на среднее, поэтому нулевые значения мы удалим, и тогда они никак не повлияют на расчёты. И 0 звонки не оплачиваются, так что и на стоимость это не повлияет.\n",
    "\n",
    " - Округлим значение минут до целых с округлением ввверх, так как если пользователь проговорил всего 1 секунду, в тарифе засчитывается целая минута;\n",
    " - Изменим тип данных столбца с датой и заменим всю дату только на номер месяца;\n",
    " - Посчитаем количество исходящих звонков и минут для каждого клиента по месяцам."
   ]
  },
  {
   "cell_type": "code",
   "execution_count": 14,
   "metadata": {},
   "outputs": [
    {
     "name": "stdout",
     "output_type": "stream",
     "text": [
      "В таблице data_calls 0 пропусков\n"
     ]
    }
   ],
   "source": [
    "# Проверим таблицу на наличие дубликатов с помощью метода duplicated()\n",
    "print('В таблице data_calls', data_calls.duplicated().sum(), 'пропусков')"
   ]
  },
  {
   "cell_type": "code",
   "execution_count": 15,
   "metadata": {},
   "outputs": [
    {
     "data": {
      "text/html": [
       "<div>\n",
       "<style scoped>\n",
       "    .dataframe tbody tr th:only-of-type {\n",
       "        vertical-align: middle;\n",
       "    }\n",
       "\n",
       "    .dataframe tbody tr th {\n",
       "        vertical-align: top;\n",
       "    }\n",
       "\n",
       "    .dataframe thead th {\n",
       "        text-align: right;\n",
       "    }\n",
       "</style>\n",
       "<table border=\"1\" class=\"dataframe\">\n",
       "  <thead>\n",
       "    <tr style=\"text-align: right;\">\n",
       "      <th></th>\n",
       "      <th>duration</th>\n",
       "      <th>user_id</th>\n",
       "    </tr>\n",
       "  </thead>\n",
       "  <tbody>\n",
       "    <tr>\n",
       "      <td>count</td>\n",
       "      <td>162994.000000</td>\n",
       "      <td>162994.000000</td>\n",
       "    </tr>\n",
       "    <tr>\n",
       "      <td>mean</td>\n",
       "      <td>8.897880</td>\n",
       "      <td>1254.149877</td>\n",
       "    </tr>\n",
       "    <tr>\n",
       "      <td>std</td>\n",
       "      <td>5.353761</td>\n",
       "      <td>144.751050</td>\n",
       "    </tr>\n",
       "    <tr>\n",
       "      <td>min</td>\n",
       "      <td>1.000000</td>\n",
       "      <td>1000.000000</td>\n",
       "    </tr>\n",
       "    <tr>\n",
       "      <td>25%</td>\n",
       "      <td>5.000000</td>\n",
       "      <td>1126.000000</td>\n",
       "    </tr>\n",
       "    <tr>\n",
       "      <td>50%</td>\n",
       "      <td>8.000000</td>\n",
       "      <td>1261.000000</td>\n",
       "    </tr>\n",
       "    <tr>\n",
       "      <td>75%</td>\n",
       "      <td>12.000000</td>\n",
       "      <td>1379.000000</td>\n",
       "    </tr>\n",
       "    <tr>\n",
       "      <td>max</td>\n",
       "      <td>38.000000</td>\n",
       "      <td>1499.000000</td>\n",
       "    </tr>\n",
       "  </tbody>\n",
       "</table>\n",
       "</div>"
      ],
      "text/plain": [
       "            duration        user_id\n",
       "count  162994.000000  162994.000000\n",
       "mean        8.897880    1254.149877\n",
       "std         5.353761     144.751050\n",
       "min         1.000000    1000.000000\n",
       "25%         5.000000    1126.000000\n",
       "50%         8.000000    1261.000000\n",
       "75%        12.000000    1379.000000\n",
       "max        38.000000    1499.000000"
      ]
     },
     "execution_count": 15,
     "metadata": {},
     "output_type": "execute_result"
    }
   ],
   "source": [
    "# Округлим количество минут до целых в большую сторону.\n",
    "data_calls['duration'] = np.ceil(data_calls['duration'])\n",
    "\n",
    "# удалим все пропущенные звонки\n",
    "data_calls.drop(data_calls.loc[data_calls['duration']==0].index, inplace=True)\n",
    "\n",
    "# Посмотрим как изменились числовые характеристики\n",
    "data_calls.describe()"
   ]
  },
  {
   "cell_type": "markdown",
   "metadata": {},
   "source": [
    "Ранее среднее время звонка составляло 6 минут, медианное приближалось к 7.\n",
    "После преобразование среднее время состовляет 8,9 минуты звонка а медианное равно 8."
   ]
  },
  {
   "cell_type": "code",
   "execution_count": 16,
   "metadata": {},
   "outputs": [],
   "source": [
    "# Приведем столбец call_date к типу данных даты\n",
    "data_calls['call_date'] = pd.to_datetime(data_calls['call_date'],\n",
    "format='%Y.%m.%d')\n",
    "\n",
    "# И оставим только месяц, так как выборка у нас за один год.\n",
    "data_calls['call_date']=data_calls['call_date'].dt.month\n",
    "\n",
    "# Сгрупируем таблицу так, чтобы было указано количество звонков и сумма исходящих звонков по месяцам для каждого клиента\n",
    "# Также переменуем некоторые столбцы для удобства\n",
    "user_calls = data_calls.groupby(['user_id', 'call_date'])\\\n",
    "                  .agg({'duration':'sum', 'id':'count'})\\\n",
    "                  .reset_index()\\\n",
    "                  .rename(columns={\"id\": \"amount_calls\", 'call_date': 'month', 'duration':'duration_calls'})"
   ]
  },
  {
   "cell_type": "markdown",
   "metadata": {},
   "source": [
    "Теперь обработаем таблицу с интернетом:\n",
    "\n",
    "Проверим таблицу на дубликаты.\n",
    "\n",
    "Нулевые значения возможно ошибочные данные.\n",
    "Нулевые значения влияют на медиану и на среднее, поэтому нулевые значения мы удалим, и тогда они никак не повлияют на расчёты.\n",
    "\n",
    " - Округлим значение мегабайт до целых с округлением ввверх, так как если пользователь использовал всего 1 мегабайт, в тарифе \"открывается\" новый гигабайт;\n",
    " - Изменим тип данных столбца с датой и заменим всю дату только на номер месяца;\n",
    " - Посчитаем количество используемого интернета для каждого клиента по месяцам."
   ]
  },
  {
   "cell_type": "code",
   "execution_count": 17,
   "metadata": {
    "scrolled": true
   },
   "outputs": [
    {
     "name": "stdout",
     "output_type": "stream",
     "text": [
      "В таблице data_internet 0 пропусков\n"
     ]
    }
   ],
   "source": [
    "# Проверим таблицу на наличие дубликатов с помощью метода duplicated()\n",
    "print('В таблице data_internet', data_internet.duplicated().sum(), 'пропусков')"
   ]
  },
  {
   "cell_type": "code",
   "execution_count": 18,
   "metadata": {},
   "outputs": [
    {
     "data": {
      "text/html": [
       "<div>\n",
       "<style scoped>\n",
       "    .dataframe tbody tr th:only-of-type {\n",
       "        vertical-align: middle;\n",
       "    }\n",
       "\n",
       "    .dataframe tbody tr th {\n",
       "        vertical-align: top;\n",
       "    }\n",
       "\n",
       "    .dataframe thead th {\n",
       "        text-align: right;\n",
       "    }\n",
       "</style>\n",
       "<table border=\"1\" class=\"dataframe\">\n",
       "  <thead>\n",
       "    <tr style=\"text-align: right;\">\n",
       "      <th></th>\n",
       "      <th>Unnamed: 0</th>\n",
       "      <th>mb_used</th>\n",
       "      <th>user_id</th>\n",
       "    </tr>\n",
       "  </thead>\n",
       "  <tbody>\n",
       "    <tr>\n",
       "      <td>count</td>\n",
       "      <td>129798.000000</td>\n",
       "      <td>129798.000000</td>\n",
       "      <td>129798.000000</td>\n",
       "    </tr>\n",
       "    <tr>\n",
       "      <td>mean</td>\n",
       "      <td>74978.644879</td>\n",
       "      <td>426.087210</td>\n",
       "      <td>1253.046318</td>\n",
       "    </tr>\n",
       "    <tr>\n",
       "      <td>std</td>\n",
       "      <td>43047.137838</td>\n",
       "      <td>255.596447</td>\n",
       "      <td>143.782672</td>\n",
       "    </tr>\n",
       "    <tr>\n",
       "      <td>min</td>\n",
       "      <td>0.000000</td>\n",
       "      <td>0.030000</td>\n",
       "      <td>1000.000000</td>\n",
       "    </tr>\n",
       "    <tr>\n",
       "      <td>25%</td>\n",
       "      <td>37675.250000</td>\n",
       "      <td>227.460000</td>\n",
       "      <td>1132.000000</td>\n",
       "    </tr>\n",
       "    <tr>\n",
       "      <td>50%</td>\n",
       "      <td>75253.000000</td>\n",
       "      <td>400.540000</td>\n",
       "      <td>1252.000000</td>\n",
       "    </tr>\n",
       "    <tr>\n",
       "      <td>75%</td>\n",
       "      <td>112247.750000</td>\n",
       "      <td>592.947500</td>\n",
       "      <td>1380.000000</td>\n",
       "    </tr>\n",
       "    <tr>\n",
       "      <td>max</td>\n",
       "      <td>149395.000000</td>\n",
       "      <td>1724.830000</td>\n",
       "      <td>1499.000000</td>\n",
       "    </tr>\n",
       "  </tbody>\n",
       "</table>\n",
       "</div>"
      ],
      "text/plain": [
       "          Unnamed: 0        mb_used        user_id\n",
       "count  129798.000000  129798.000000  129798.000000\n",
       "mean    74978.644879     426.087210    1253.046318\n",
       "std     43047.137838     255.596447     143.782672\n",
       "min         0.000000       0.030000    1000.000000\n",
       "25%     37675.250000     227.460000    1132.000000\n",
       "50%     75253.000000     400.540000    1252.000000\n",
       "75%    112247.750000     592.947500    1380.000000\n",
       "max    149395.000000    1724.830000    1499.000000"
      ]
     },
     "execution_count": 18,
     "metadata": {},
     "output_type": "execute_result"
    }
   ],
   "source": [
    "# Создадим новую таблицу на основании имеющейся, но без значений 0 в столбце mb_used\n",
    "data_internet  = data_internet[data_internet['mb_used'] != 0]\n",
    "\n",
    "# Посмотрим как изменились числовые характеристики\n",
    "data_internet.describe()"
   ]
  },
  {
   "cell_type": "markdown",
   "metadata": {},
   "source": [
    "Ранее средний размер интернет сессии  составлял 370 мегабайт, медианное 348 мегабайт.\n",
    "\n",
    "После преобразование средняя сессия равна 426 мегабайт, а медианное равно 400 мегабайт."
   ]
  },
  {
   "cell_type": "code",
   "execution_count": 19,
   "metadata": {},
   "outputs": [],
   "source": [
    "# Округлим количество мегабайт до целых в большую сторону.\n",
    "data_internet['mb_used'] = np.ceil(data_internet['mb_used'])\n",
    "\n",
    "# Приведем столбец session_date к типу данных даты\n",
    "data_internet['session_date'] = pd.to_datetime(data_internet['session_date'],\n",
    "format='%Y.%m.%d')\n",
    "\n",
    "# И оставим только месяц, так как выборка у нас за один год.\n",
    "data_internet['session_date']=data_internet['session_date'].dt.month\n",
    "\n",
    "# Сгрупируем таблицу так, чтобы было указано количество использованного интернет трафика по месяцам для каждого клиента\n",
    "# Также переменуем столбец с датой для удобства\n",
    "user_internet = data_internet.groupby(['user_id', 'session_date'])\\\n",
    "                        .agg({'mb_used':'sum'})\\\n",
    "                        .reset_index()\\\n",
    "                        .rename(columns={'session_date': 'month'})"
   ]
  },
  {
   "cell_type": "markdown",
   "metadata": {},
   "source": [
    "Теперь обработаем таблицу с СМС:\n",
    "\n",
    "Проверим таблицу на дубликаты.\n",
    "\n",
    " - Изменим тип данных столбца с датой и заменим всю дату только на номер месяца;\n",
    " - Посчитаем количество СМС для каждого клиента по месяцам;"
   ]
  },
  {
   "cell_type": "code",
   "execution_count": 20,
   "metadata": {},
   "outputs": [
    {
     "name": "stdout",
     "output_type": "stream",
     "text": [
      "В таблице data_messages 0 пропусков\n"
     ]
    }
   ],
   "source": [
    "# Проверим таблицу на наличие дубликатов с помощью метода duplicated()\n",
    "print('В таблице data_messages', data_messages.duplicated().sum(), 'пропусков')"
   ]
  },
  {
   "cell_type": "code",
   "execution_count": 21,
   "metadata": {},
   "outputs": [],
   "source": [
    "# Приведем столбец session_date к типу данных даты\n",
    "data_messages['message_date'] = pd.to_datetime(data_messages['message_date'],\n",
    "format='%Y.%m.%d')\n",
    "\n",
    "# И оставим только месяц, так как выборка у нас за один год.\n",
    "data_messages['message_date']=data_messages['message_date'].dt.month\n",
    "\n",
    "# Сгрупируем таблицу так, чтобы было указано количество отправленных СМС по месяцам для каждого клиента\n",
    "# Также переменуем несколько столбцов для удобства\n",
    "user_messages = data_messages.groupby(['user_id', 'message_date'])\\\n",
    "                        .agg({'id':'count'})\\\n",
    "                        .reset_index()\\\n",
    "                        .rename(columns={\"id\": \"amount_messages\", 'message_date': 'month'})"
   ]
  },
  {
   "cell_type": "markdown",
   "metadata": {},
   "source": [
    "Теперь создадим единую таблицу, чтобы вся интересующая нас информация была в одной таблице."
   ]
  },
  {
   "cell_type": "code",
   "execution_count": 22,
   "metadata": {},
   "outputs": [],
   "source": [
    "# Объединим таблицы звонков, смс и интернет трафика по столбцам Id и месяца\n",
    "data_frames = [user_calls, user_messages, user_internet]\n",
    "df = reduce(lambda  left,right: pd.merge(left,right,on=['user_id', 'month'],\n",
    "                                            how='outer'), data_frames)\n",
    "# Заменим все пропущенные значения на 0\n",
    "df = df.fillna(0)\n",
    "\n",
    "# Объединим таблицы трафика и таблицу с информация по клиентам по ID\n",
    "df = pd.merge(df, data_users, on='user_id')\n",
    "\n",
    "# Переименуем один столбец в таблице с тарифами, чтобы по данному столбцу мы могли объединить таблицу.\n",
    "data_tariffs=data_tariffs.rename(columns={\"tariff_name\": \"tariff\"})\n",
    "\n",
    "# И объдиняем нашу таблицу с тарифами с нашей остальной таблицей по столбцу tariff с помощью метода merge()\n",
    "df = pd.merge(df, data_tariffs, on='tariff')"
   ]
  },
  {
   "cell_type": "code",
   "execution_count": 23,
   "metadata": {},
   "outputs": [],
   "source": [
    "# Создадим цикл для просчёта ежемесячной выручки с каждого клиента\n",
    "# Цикл будем выстраивать на минутах разговора\n",
    "\n",
    "def expenses_month (row):\n",
    "    \n",
    "# Где rub_monthly_fee = абонентская плата   \n",
    "    rub_monthly_fee = row['rub_monthly_fee']\n",
    "    \n",
    "# rub_calls_fee = сумма рублей за привышение разговоров согласно тарифному плану\n",
    "    rub_calls_fee = (row['duration_calls'] - row['minutes_included'])*row['rub_per_minute']\n",
    "    \n",
    "# rub_mb_fee = сумма рублей за привышение использования интернета согласно тарифному плану\n",
    "    rub_mb_fee = np.ceil((row['mb_used']-row['mb_per_month_included'])/1024)*row['rub_per_gb']\n",
    "    \n",
    "# rub_mb_fee = сумма рублей за привышение использования количества СМС согласно тарифному плану\n",
    "    rub_messages_fee = (row['amount_messages'] - row['messages_included'])*row['rub_per_message']\n",
    "    \n",
    "\n",
    "# Цикл, где минут разговора в месяц использовано меньше чем в пакете\n",
    "    if row['minutes_included'] - row['duration_calls'] >=0:\n",
    "        if row['mb_per_month_included'] - row['mb_used'] >=0:\n",
    "            if row['messages_included'] - row['amount_messages'] >=0:\n",
    "                return rub_monthly_fee\n",
    "            if row['messages_included'] - row['amount_messages'] < 0:\n",
    "                return rub_monthly_fee + rub_messages_fee\n",
    "\n",
    "        if row['mb_per_month_included'] - row['mb_used'] < 0:\n",
    "            if row['messages_included'] - row['amount_messages'] >=0:\n",
    "                return rub_monthly_fee + rub_mb_fee\n",
    "            if row['messages_included'] - row['amount_messages'] < 0:\n",
    "                return rub_monthly_fee + rub_mb_fee + rub_messages_fee\n",
    "\n",
    "            \n",
    "# Цикл, где минут разговора в месяц использовано больше чем в пакете                      \n",
    "    if row['minutes_included'] - row['duration_calls'] <0:\n",
    "        if row['mb_per_month_included'] - row['mb_used'] >=0:\n",
    "            if row['messages_included'] - row['amount_messages'] >=0:\n",
    "                return rub_monthly_fee + rub_calls_fee\n",
    "            if row['messages_included'] - row['amount_messages'] < 0:\n",
    "                return rub_monthly_fee + rub_calls_fee + rub_messages_fee\n",
    "\n",
    "        if row['minutes_included'] - row['duration_calls'] < 0:\n",
    "            if row['messages_included'] - row['amount_messages'] >=0:\n",
    "                return rub_monthly_fee + rub_calls_fee + rub_mb_fee\n",
    "            if row['messages_included'] - row['amount_messages'] < 0:\n",
    "                return rub_monthly_fee + rub_calls_fee + rub_mb_fee + rub_messages_fee\n",
    "\n",
    "        \n",
    "\n",
    "# И добавим новый столбец с ежемесячной выручкой с каждого клиента\n",
    "df['expenses_month'] = df.apply(expenses_month, axis=1)"
   ]
  },
  {
   "cell_type": "code",
   "execution_count": 24,
   "metadata": {},
   "outputs": [
    {
     "data": {
      "text/html": [
       "<div>\n",
       "<style scoped>\n",
       "    .dataframe tbody tr th:only-of-type {\n",
       "        vertical-align: middle;\n",
       "    }\n",
       "\n",
       "    .dataframe tbody tr th {\n",
       "        vertical-align: top;\n",
       "    }\n",
       "\n",
       "    .dataframe thead th {\n",
       "        text-align: right;\n",
       "    }\n",
       "</style>\n",
       "<table border=\"1\" class=\"dataframe\">\n",
       "  <thead>\n",
       "    <tr style=\"text-align: right;\">\n",
       "      <th></th>\n",
       "      <th>user_id</th>\n",
       "      <th>month</th>\n",
       "      <th>duration_calls</th>\n",
       "      <th>amount_calls</th>\n",
       "      <th>amount_messages</th>\n",
       "      <th>mb_used</th>\n",
       "      <th>age</th>\n",
       "      <th>churn_date</th>\n",
       "      <th>city</th>\n",
       "      <th>first_name</th>\n",
       "      <th>...</th>\n",
       "      <th>reg_date</th>\n",
       "      <th>tariff</th>\n",
       "      <th>messages_included</th>\n",
       "      <th>mb_per_month_included</th>\n",
       "      <th>minutes_included</th>\n",
       "      <th>rub_monthly_fee</th>\n",
       "      <th>rub_per_gb</th>\n",
       "      <th>rub_per_message</th>\n",
       "      <th>rub_per_minute</th>\n",
       "      <th>expenses_month</th>\n",
       "    </tr>\n",
       "  </thead>\n",
       "  <tbody>\n",
       "    <tr>\n",
       "      <td>3157</td>\n",
       "      <td>1486</td>\n",
       "      <td>12</td>\n",
       "      <td>1007.0</td>\n",
       "      <td>115.0</td>\n",
       "      <td>83.0</td>\n",
       "      <td>38610.0</td>\n",
       "      <td>35</td>\n",
       "      <td>NaN</td>\n",
       "      <td>Нижний Новгород</td>\n",
       "      <td>Матвей</td>\n",
       "      <td>...</td>\n",
       "      <td>2018-10-31</td>\n",
       "      <td>smart</td>\n",
       "      <td>50</td>\n",
       "      <td>15360</td>\n",
       "      <td>500</td>\n",
       "      <td>550</td>\n",
       "      <td>200</td>\n",
       "      <td>3</td>\n",
       "      <td>3</td>\n",
       "      <td>6770.0</td>\n",
       "    </tr>\n",
       "    <tr>\n",
       "      <td>1183</td>\n",
       "      <td>1042</td>\n",
       "      <td>12</td>\n",
       "      <td>728.0</td>\n",
       "      <td>94.0</td>\n",
       "      <td>75.0</td>\n",
       "      <td>37219.0</td>\n",
       "      <td>42</td>\n",
       "      <td>NaN</td>\n",
       "      <td>Хабаровск</td>\n",
       "      <td>Константин</td>\n",
       "      <td>...</td>\n",
       "      <td>2018-11-25</td>\n",
       "      <td>smart</td>\n",
       "      <td>50</td>\n",
       "      <td>15360</td>\n",
       "      <td>500</td>\n",
       "      <td>550</td>\n",
       "      <td>200</td>\n",
       "      <td>3</td>\n",
       "      <td>3</td>\n",
       "      <td>5709.0</td>\n",
       "    </tr>\n",
       "    <tr>\n",
       "      <td>3156</td>\n",
       "      <td>1486</td>\n",
       "      <td>11</td>\n",
       "      <td>764.0</td>\n",
       "      <td>84.0</td>\n",
       "      <td>96.0</td>\n",
       "      <td>36319.0</td>\n",
       "      <td>35</td>\n",
       "      <td>NaN</td>\n",
       "      <td>Нижний Новгород</td>\n",
       "      <td>Матвей</td>\n",
       "      <td>...</td>\n",
       "      <td>2018-10-31</td>\n",
       "      <td>smart</td>\n",
       "      <td>50</td>\n",
       "      <td>15360</td>\n",
       "      <td>500</td>\n",
       "      <td>550</td>\n",
       "      <td>200</td>\n",
       "      <td>3</td>\n",
       "      <td>3</td>\n",
       "      <td>5680.0</td>\n",
       "    </tr>\n",
       "    <tr>\n",
       "      <td>2177</td>\n",
       "      <td>1261</td>\n",
       "      <td>12</td>\n",
       "      <td>1074.0</td>\n",
       "      <td>113.0</td>\n",
       "      <td>22.0</td>\n",
       "      <td>32697.0</td>\n",
       "      <td>46</td>\n",
       "      <td>NaN</td>\n",
       "      <td>Казань</td>\n",
       "      <td>Мадина</td>\n",
       "      <td>...</td>\n",
       "      <td>2018-10-30</td>\n",
       "      <td>smart</td>\n",
       "      <td>50</td>\n",
       "      <td>15360</td>\n",
       "      <td>500</td>\n",
       "      <td>550</td>\n",
       "      <td>200</td>\n",
       "      <td>3</td>\n",
       "      <td>3</td>\n",
       "      <td>5672.0</td>\n",
       "    </tr>\n",
       "    <tr>\n",
       "      <td>2298</td>\n",
       "      <td>1286</td>\n",
       "      <td>12</td>\n",
       "      <td>739.0</td>\n",
       "      <td>83.0</td>\n",
       "      <td>68.0</td>\n",
       "      <td>35151.0</td>\n",
       "      <td>19</td>\n",
       "      <td>NaN</td>\n",
       "      <td>Москва</td>\n",
       "      <td>Рашид</td>\n",
       "      <td>...</td>\n",
       "      <td>2018-11-27</td>\n",
       "      <td>smart</td>\n",
       "      <td>50</td>\n",
       "      <td>15360</td>\n",
       "      <td>500</td>\n",
       "      <td>550</td>\n",
       "      <td>200</td>\n",
       "      <td>3</td>\n",
       "      <td>3</td>\n",
       "      <td>5321.0</td>\n",
       "    </tr>\n",
       "    <tr>\n",
       "      <td>...</td>\n",
       "      <td>...</td>\n",
       "      <td>...</td>\n",
       "      <td>...</td>\n",
       "      <td>...</td>\n",
       "      <td>...</td>\n",
       "      <td>...</td>\n",
       "      <td>...</td>\n",
       "      <td>...</td>\n",
       "      <td>...</td>\n",
       "      <td>...</td>\n",
       "      <td>...</td>\n",
       "      <td>...</td>\n",
       "      <td>...</td>\n",
       "      <td>...</td>\n",
       "      <td>...</td>\n",
       "      <td>...</td>\n",
       "      <td>...</td>\n",
       "      <td>...</td>\n",
       "      <td>...</td>\n",
       "      <td>...</td>\n",
       "      <td>...</td>\n",
       "    </tr>\n",
       "    <tr>\n",
       "      <td>2225</td>\n",
       "      <td>1269</td>\n",
       "      <td>7</td>\n",
       "      <td>145.0</td>\n",
       "      <td>14.0</td>\n",
       "      <td>14.0</td>\n",
       "      <td>9861.0</td>\n",
       "      <td>31</td>\n",
       "      <td>NaN</td>\n",
       "      <td>Омск</td>\n",
       "      <td>Аким</td>\n",
       "      <td>...</td>\n",
       "      <td>2018-07-17</td>\n",
       "      <td>smart</td>\n",
       "      <td>50</td>\n",
       "      <td>15360</td>\n",
       "      <td>500</td>\n",
       "      <td>550</td>\n",
       "      <td>200</td>\n",
       "      <td>3</td>\n",
       "      <td>3</td>\n",
       "      <td>550.0</td>\n",
       "    </tr>\n",
       "    <tr>\n",
       "      <td>2221</td>\n",
       "      <td>1268</td>\n",
       "      <td>9</td>\n",
       "      <td>251.0</td>\n",
       "      <td>32.0</td>\n",
       "      <td>50.0</td>\n",
       "      <td>15259.0</td>\n",
       "      <td>18</td>\n",
       "      <td>NaN</td>\n",
       "      <td>Москва</td>\n",
       "      <td>Трофим</td>\n",
       "      <td>...</td>\n",
       "      <td>2018-05-28</td>\n",
       "      <td>smart</td>\n",
       "      <td>50</td>\n",
       "      <td>15360</td>\n",
       "      <td>500</td>\n",
       "      <td>550</td>\n",
       "      <td>200</td>\n",
       "      <td>3</td>\n",
       "      <td>3</td>\n",
       "      <td>550.0</td>\n",
       "    </tr>\n",
       "    <tr>\n",
       "      <td>2792</td>\n",
       "      <td>1410</td>\n",
       "      <td>8</td>\n",
       "      <td>51.0</td>\n",
       "      <td>5.0</td>\n",
       "      <td>5.0</td>\n",
       "      <td>3775.0</td>\n",
       "      <td>25</td>\n",
       "      <td>NaN</td>\n",
       "      <td>Нижний Тагил</td>\n",
       "      <td>Гарри</td>\n",
       "      <td>...</td>\n",
       "      <td>2018-08-28</td>\n",
       "      <td>smart</td>\n",
       "      <td>50</td>\n",
       "      <td>15360</td>\n",
       "      <td>500</td>\n",
       "      <td>550</td>\n",
       "      <td>200</td>\n",
       "      <td>3</td>\n",
       "      <td>3</td>\n",
       "      <td>550.0</td>\n",
       "    </tr>\n",
       "    <tr>\n",
       "      <td>2220</td>\n",
       "      <td>1268</td>\n",
       "      <td>8</td>\n",
       "      <td>460.0</td>\n",
       "      <td>49.0</td>\n",
       "      <td>35.0</td>\n",
       "      <td>15037.0</td>\n",
       "      <td>18</td>\n",
       "      <td>NaN</td>\n",
       "      <td>Москва</td>\n",
       "      <td>Трофим</td>\n",
       "      <td>...</td>\n",
       "      <td>2018-05-28</td>\n",
       "      <td>smart</td>\n",
       "      <td>50</td>\n",
       "      <td>15360</td>\n",
       "      <td>500</td>\n",
       "      <td>550</td>\n",
       "      <td>200</td>\n",
       "      <td>3</td>\n",
       "      <td>3</td>\n",
       "      <td>550.0</td>\n",
       "    </tr>\n",
       "    <tr>\n",
       "      <td>1611</td>\n",
       "      <td>1136</td>\n",
       "      <td>11</td>\n",
       "      <td>147.0</td>\n",
       "      <td>19.0</td>\n",
       "      <td>26.0</td>\n",
       "      <td>8630.0</td>\n",
       "      <td>39</td>\n",
       "      <td>NaN</td>\n",
       "      <td>Липецк</td>\n",
       "      <td>Пётр</td>\n",
       "      <td>...</td>\n",
       "      <td>2018-11-19</td>\n",
       "      <td>smart</td>\n",
       "      <td>50</td>\n",
       "      <td>15360</td>\n",
       "      <td>500</td>\n",
       "      <td>550</td>\n",
       "      <td>200</td>\n",
       "      <td>3</td>\n",
       "      <td>3</td>\n",
       "      <td>550.0</td>\n",
       "    </tr>\n",
       "  </tbody>\n",
       "</table>\n",
       "<p>3214 rows × 21 columns</p>\n",
       "</div>"
      ],
      "text/plain": [
       "      user_id  month  duration_calls  amount_calls  amount_messages  mb_used  \\\n",
       "3157     1486     12          1007.0         115.0             83.0  38610.0   \n",
       "1183     1042     12           728.0          94.0             75.0  37219.0   \n",
       "3156     1486     11           764.0          84.0             96.0  36319.0   \n",
       "2177     1261     12          1074.0         113.0             22.0  32697.0   \n",
       "2298     1286     12           739.0          83.0             68.0  35151.0   \n",
       "...       ...    ...             ...           ...              ...      ...   \n",
       "2225     1269      7           145.0          14.0             14.0   9861.0   \n",
       "2221     1268      9           251.0          32.0             50.0  15259.0   \n",
       "2792     1410      8            51.0           5.0              5.0   3775.0   \n",
       "2220     1268      8           460.0          49.0             35.0  15037.0   \n",
       "1611     1136     11           147.0          19.0             26.0   8630.0   \n",
       "\n",
       "      age churn_date             city  first_name  ...    reg_date tariff  \\\n",
       "3157   35        NaN  Нижний Новгород      Матвей  ...  2018-10-31  smart   \n",
       "1183   42        NaN        Хабаровск  Константин  ...  2018-11-25  smart   \n",
       "3156   35        NaN  Нижний Новгород      Матвей  ...  2018-10-31  smart   \n",
       "2177   46        NaN           Казань      Мадина  ...  2018-10-30  smart   \n",
       "2298   19        NaN           Москва       Рашид  ...  2018-11-27  smart   \n",
       "...   ...        ...              ...         ...  ...         ...    ...   \n",
       "2225   31        NaN             Омск        Аким  ...  2018-07-17  smart   \n",
       "2221   18        NaN           Москва      Трофим  ...  2018-05-28  smart   \n",
       "2792   25        NaN     Нижний Тагил       Гарри  ...  2018-08-28  smart   \n",
       "2220   18        NaN           Москва      Трофим  ...  2018-05-28  smart   \n",
       "1611   39        NaN           Липецк        Пётр  ...  2018-11-19  smart   \n",
       "\n",
       "     messages_included  mb_per_month_included  minutes_included  \\\n",
       "3157                50                  15360               500   \n",
       "1183                50                  15360               500   \n",
       "3156                50                  15360               500   \n",
       "2177                50                  15360               500   \n",
       "2298                50                  15360               500   \n",
       "...                ...                    ...               ...   \n",
       "2225                50                  15360               500   \n",
       "2221                50                  15360               500   \n",
       "2792                50                  15360               500   \n",
       "2220                50                  15360               500   \n",
       "1611                50                  15360               500   \n",
       "\n",
       "      rub_monthly_fee  rub_per_gb  rub_per_message  rub_per_minute  \\\n",
       "3157              550         200                3               3   \n",
       "1183              550         200                3               3   \n",
       "3156              550         200                3               3   \n",
       "2177              550         200                3               3   \n",
       "2298              550         200                3               3   \n",
       "...               ...         ...              ...             ...   \n",
       "2225              550         200                3               3   \n",
       "2221              550         200                3               3   \n",
       "2792              550         200                3               3   \n",
       "2220              550         200                3               3   \n",
       "1611              550         200                3               3   \n",
       "\n",
       "      expenses_month  \n",
       "3157          6770.0  \n",
       "1183          5709.0  \n",
       "3156          5680.0  \n",
       "2177          5672.0  \n",
       "2298          5321.0  \n",
       "...              ...  \n",
       "2225           550.0  \n",
       "2221           550.0  \n",
       "2792           550.0  \n",
       "2220           550.0  \n",
       "1611           550.0  \n",
       "\n",
       "[3214 rows x 21 columns]"
      ]
     },
     "execution_count": 24,
     "metadata": {},
     "output_type": "execute_result"
    }
   ],
   "source": [
    "# Посмотрим что получилось и отсортируем по убыванию по столбцу с помесячной выручкой\n",
    "df.sort_values(by='expenses_month', ascending = False)"
   ]
  },
  {
   "cell_type": "markdown",
   "metadata": {},
   "source": [
    "### Вывод"
   ]
  },
  {
   "cell_type": "markdown",
   "metadata": {},
   "source": [
    "В данном блоке я подготавливала данные:\n",
    " \n",
    " - Округлила количество минут и интернет трафика вверх из-за особенностей тарифа; \n",
    " - Удалила нулевые значения звонков для каждого клиента. Скорее всего это были пропущенные звонки, они никак не влияют на стоимость, но влияют на среднюю и медиану. После преобразование среднее время состовляет 8,9 минуты звонка а медианное равно 8.\n",
    " - Расчитывала помесячно количество израсходованных минут, смс и интернета для каждого клиента;\n",
    " - Создала единую таблицу;\n",
    " - Создала новый столбец с выручкой с каждого клиента помесячно."
   ]
  },
  {
   "cell_type": "markdown",
   "metadata": {},
   "source": [
    "## Шаг 3. Анализ данных"
   ]
  },
  {
   "cell_type": "markdown",
   "metadata": {},
   "source": [
    "Создадим отдельные таблицы для дальнейших расчётов:\n",
    "\n",
    " - Таблицу для клиентов с тарифом Smart\n",
    " - Таблицу для клиентов с тарифом Ultra"
   ]
  },
  {
   "cell_type": "code",
   "execution_count": 25,
   "metadata": {},
   "outputs": [],
   "source": [
    "# Таблица для тарифа Смарт\n",
    "df_smart = df[df['tariff'] == 'smart']\n",
    "\n",
    "# Таблица для тарифа Ультра\n",
    "df_ultra = df[df['tariff'] == 'ultra']"
   ]
  },
  {
   "cell_type": "code",
   "execution_count": 26,
   "metadata": {},
   "outputs": [
    {
     "name": "stdout",
     "output_type": "stream",
     "text": [
      "Средняя длительность звонков в месяц для клиента с тарифом Smart: 417.9349484073576\n",
      "Дисперсия: 36219.31578434428\n",
      "Среднее отклонение: 190.31372988921288\n"
     ]
    }
   ],
   "source": [
    "# рассчитаем среднее количество, дисперсию и стандартное отклонение для клиентов smart по звонкам\n",
    "mean_smart_calls = df_smart['duration_calls'].mean()\n",
    "dispersion_smart_calls = np.var(df_smart['duration_calls'], ddof = 1)\n",
    "std_smart_calls = np.std(df_smart['duration_calls'], ddof = 1)\n",
    "\n",
    "# И выведем их на экран\n",
    "print('Средняя длительность звонков в месяц для клиента с тарифом Smart:', mean_smart_calls)\n",
    "print('Дисперсия:', dispersion_smart_calls)\n",
    "print('Среднее отклонение:', std_smart_calls)"
   ]
  },
  {
   "cell_type": "code",
   "execution_count": 27,
   "metadata": {},
   "outputs": [
    {
     "name": "stdout",
     "output_type": "stream",
     "text": [
      "Средняя длительность звонков в месяц для клиента с тарифом Ultra: 526.6233502538071\n",
      "Дисперсия: 100873.63339730098\n",
      "Среднее отклонение: 317.6060978591264\n"
     ]
    }
   ],
   "source": [
    "# рассчитаем среднее количество, дисперсию и стандартное отклонение для клиентов Ultra по звонкам\n",
    "mean_ultra_calls = df_ultra['duration_calls'].mean()\n",
    "dispersion_ultra_calls = np.var(df_ultra['duration_calls'], ddof = 1)\n",
    "std_ultra_calls = np.std(df_ultra['duration_calls'], ddof = 1)\n",
    "\n",
    "# И выведем их на экран\n",
    "print('Средняя длительность звонков в месяц для клиента с тарифом Ultra:', mean_ultra_calls)\n",
    "print('Дисперсия:', dispersion_ultra_calls)\n",
    "print('Среднее отклонение:', std_ultra_calls)"
   ]
  },
  {
   "cell_type": "code",
   "execution_count": 28,
   "metadata": {},
   "outputs": [
    {
     "data": {
      "image/png": "[encoded data removed]",
      "text/plain": [
       "<Figure size 1152x360 with 2 Axes>"
      ]
     },
     "metadata": {
      "needs_background": "light"
     },
     "output_type": "display_data"
    }
   ],
   "source": [
    "# Создадим одну строку с двумя колонками\n",
    "fig, axes = plt.subplots(1, 2, figsize=(16, 5))\n",
    "\n",
    "# Построим гистрограмму плотности по звонкам для обоих тарифов\n",
    "plt.style.use  ('ggplot')\n",
    "sns.distplot(df_smart['duration_calls'], hist = False, kde = True,\n",
    "                 kde_kws = {'linewidth': 3}, label = 'Smart', ax=axes[0])\n",
    "\n",
    "sns.distplot(df_ultra['duration_calls'], hist = False, kde = True,\n",
    "                 kde_kws = {'linewidth': 3},label = 'Ultra', ax=axes[0])\n",
    "\n",
    "# Создадим график boxplot для двух тарифов во второй колонке\n",
    "sns.boxplot(data=df.sort_values(by='tariff'), x='duration_calls', y='tariff', ax=axes[1])\n",
    "\n",
    "\n",
    "# Добавим подписи для каждой колонки \n",
    "axes[0].legend(loc='upper right', labels=['smart','ultra'])\n",
    "axes[0].set_xlabel('мин/мес.')\n",
    "axes[0].set_ylabel('Плотность распределения')\n",
    "axes[1].set_xlabel('мин/мес.')\n",
    "axes[1].set_ylabel('Tariff')\n",
    "\n",
    "# Добавим общий заголовок\n",
    "fig.suptitle('Распределение минут по тарифам');"
   ]
  },
  {
   "cell_type": "markdown",
   "metadata": {},
   "source": [
    "Для клиентов тарифа Смарт пик звонком приходится примерно на 500 минут. Среднее же составляет 420 минут.\n",
    "Большинство клиент пытается уложится в ограничение тарифного плана в 500 минут. Потому после 500 минут идёт довольно резкое снижение.\n",
    "\n",
    "Для клиенто тарифа Ультра нет островыраженного пика, но он находится около 550 минут. Среднее же составляет 547 минут.\n",
    "Так как в тарифном плане включены 3000 минут, поэтому и нет никакого резкого снижения. Потому распределение похоже на нормальное."
   ]
  },
  {
   "cell_type": "code",
   "execution_count": 29,
   "metadata": {},
   "outputs": [
    {
     "name": "stdout",
     "output_type": "stream",
     "text": [
      "Среднее количество отправленных СМС для клиента с тарифом Smart: 33.384028712427096\n",
      "Дисперсия: 796.8129584480083\n",
      "Среднее отклонение: 28.22787555676141\n"
     ]
    }
   ],
   "source": [
    "# рассчитаем среднее количество, дисперсию и стандартное отклонение для клиентов smart по количеству СМС\n",
    "mean_smart_messages = df_smart['amount_messages'].mean()\n",
    "dispersion_smart_messages = np.var(df_smart['amount_messages'], ddof = 1)\n",
    "std_smart_messages = np.std(df_smart['amount_messages'], ddof = 1)\n",
    "\n",
    "# И выведем их на экран\n",
    "print('Среднее количество отправленных СМС для клиента с тарифом Smart:', mean_smart_messages)\n",
    "print('Дисперсия:', dispersion_smart_messages)\n",
    "print('Среднее отклонение:', std_smart_messages)"
   ]
  },
  {
   "cell_type": "code",
   "execution_count": 30,
   "metadata": {},
   "outputs": [
    {
     "name": "stdout",
     "output_type": "stream",
     "text": [
      "Среднее количество отправленных СМС для клиента с тарифом Ultra: 49.36345177664975\n",
      "Дисперсия: 2285.2661425446736\n",
      "Среднее отклонение: 47.804457350174715\n"
     ]
    }
   ],
   "source": [
    "# рассчитаем среднее количество, дисперсию и стандартное отклонение для клиентов Ultra по количеству СМС\n",
    "mean_ultra_messages = df_ultra['amount_messages'].mean()\n",
    "dispersion_ultra_messages = np.var(df_ultra['amount_messages'], ddof = 1)\n",
    "std_ultra_messages = np.std(df_ultra['amount_messages'], ddof = 1)\n",
    "\n",
    "# И выведем их на экран\n",
    "print('Среднее количество отправленных СМС для клиента с тарифом Ultra:', mean_ultra_messages)\n",
    "print('Дисперсия:', dispersion_ultra_messages)\n",
    "print('Среднее отклонение:', std_ultra_messages)"
   ]
  },
  {
   "cell_type": "code",
   "execution_count": 31,
   "metadata": {},
   "outputs": [
    {
     "data": {
      "image/png": "[encoded data removed]",
      "text/plain": [
       "<Figure size 1152x360 with 2 Axes>"
      ]
     },
     "metadata": {},
     "output_type": "display_data"
    }
   ],
   "source": [
    "# Создадим одну строку с двумя колонками\n",
    "fig, axes = plt.subplots(1, 2, figsize=(16, 5))\n",
    "\n",
    "# Создадим две гистограммы для разных тарифов. \n",
    "plt.style.use  ('ggplot')\n",
    "sns.distplot(df_smart['amount_messages'], hist = False, kde = True,\n",
    "                 kde_kws = {'linewidth': 3}, label = 'Smart', ax=axes[0])\n",
    "\n",
    "sns.distplot(df_ultra['amount_messages'], hist = False, kde = True,\n",
    "                 kde_kws = {'linewidth': 3}, label = 'Ultra', ax=axes[0])\n",
    "\n",
    "\n",
    "# Создадим график boxplot для двух тарифов во второй колонке\n",
    "sns.boxplot(data=df.sort_values(by='tariff'), x='amount_messages', y='tariff', ax=axes[1])\n",
    "\n",
    "\n",
    "# Добавим подписи для каждой колонки \n",
    "axes[0].legend(loc='upper right', labels=['smart','ultra'])\n",
    "axes[0].set_xlabel('SMS/мес.')\n",
    "axes[0].set_ylabel('Плотность распределения')\n",
    "axes[1].set_xlabel('SMS/мес.')\n",
    "axes[1].set_ylabel('Tariff')\n",
    "\n",
    "# Добавим общий заголовок\n",
    "fig.suptitle('Распределение SMS по тарифам');"
   ]
  },
  {
   "cell_type": "markdown",
   "metadata": {},
   "source": [
    "Для клиентов тарифа Смарт пик СМС приходится примерно на 30 cообщений. Среднее же составляет 33 сообщений.\n",
    "Большинство клиент пытается уложится в ограничение тарифного плана в 50 СМС. Пик начинает резко снижаться после 45 СМС.\n",
    "\n",
    "\n",
    "Для клиенто тарифа Ультра нет островыраженного пика, но тоже находится в районе 30-40 сообщений. Среднее же составляет 49 сообщение.\n",
    "Так как в тарифном плане включены 1000 СМС, поэтому и нет никакого резкого снижения. \n",
    "\n",
    "Сам вид данной связи не очень популярен. Потому распредения имеют вид положительной скоженности."
   ]
  },
  {
   "cell_type": "code",
   "execution_count": 32,
   "metadata": {},
   "outputs": [
    {
     "name": "stdout",
     "output_type": "stream",
     "text": [
      "Среднее количество интернет трафика для клиента с тарифом Smart: 16229.188425302826\n",
      "Дисперсия: 34545911.12695753\n",
      "Среднее отклонение: 5877.576977544193\n"
     ]
    }
   ],
   "source": [
    "# рассчитаем среднее количество, дисперсию и стандартное отклонение для клиентов smart по интернету\n",
    "mean_smart_mb = df_smart['mb_used'].mean()\n",
    "dispersion_smart_mb = np.var(df_smart['mb_used'], ddof = 1)\n",
    "std_smart_mb = np.std(df_smart['mb_used'], ddof = 1)\n",
    "\n",
    "# И выведем их на экран\n",
    "print('Среднее количество интернет трафика для клиента с тарифом Smart:', mean_smart_mb)\n",
    "print('Дисперсия:', dispersion_smart_mb)\n",
    "print('Среднее отклонение:', std_smart_mb)"
   ]
  },
  {
   "cell_type": "code",
   "execution_count": 33,
   "metadata": {},
   "outputs": [
    {
     "name": "stdout",
     "output_type": "stream",
     "text": [
      "Среднее количество интернет трафика для клиента с тарифом Ultra: 19486.90152284264\n",
      "Дисперсия: 101935621.04821923\n",
      "Среднее отклонение: 10096.317202238608\n"
     ]
    }
   ],
   "source": [
    "# рассчитаем среднее количество, дисперсию и стандартное отклонение для клиентов Ultra по интернету\n",
    "mean_ultra_mb = df_ultra['mb_used'].mean()\n",
    "dispersion_ultra_mb = np.var(df_ultra['mb_used'], ddof = 1)\n",
    "std_ultra_mb = np.std(df_ultra['mb_used'], ddof = 1)\n",
    "\n",
    "# И выведем их на экран\n",
    "print('Среднее количество интернет трафика для клиента с тарифом Ultra:', mean_ultra_mb)\n",
    "print('Дисперсия:', dispersion_ultra_mb)\n",
    "print('Среднее отклонение:', std_ultra_mb)"
   ]
  },
  {
   "cell_type": "code",
   "execution_count": 34,
   "metadata": {},
   "outputs": [
    {
     "data": {
      "image/png": "[encoded data removed]",
      "text/plain": [
       "<Figure size 1152x360 with 2 Axes>"
      ]
     },
     "metadata": {},
     "output_type": "display_data"
    }
   ],
   "source": [
    "# Создадим одну строку с двумя колонками\n",
    "fig, axes = plt.subplots(1, 2, figsize=(16, 5))\n",
    "\n",
    "# Построим гистрограмму плотности по интернет трафику для обоих тарифов\n",
    "plt.style.use  ('ggplot')\n",
    "sns.distplot(df_smart['mb_used'], hist = False, kde = True,\n",
    "                 kde_kws = {'linewidth': 3}, label = 'Smart', ax=axes[0])\n",
    "\n",
    "sns.distplot(df_ultra['mb_used'], hist = False, kde = True,\n",
    "                 kde_kws = {'linewidth': 3}, label = 'Ultra', ax=axes[0])\n",
    "\n",
    "# Создадим график boxplot для двух тарифов во второй колонке\n",
    "sns.boxplot(data=df.sort_values(by='tariff'), x='mb_used', y='tariff', ax=axes[1])\n",
    "\n",
    "# Добавим подписи для каждой колонки \n",
    "axes[0].legend(loc='upper right', labels=['smart','ultra'])\n",
    "axes[0].set_xlabel('Мб/мес.')\n",
    "axes[0].set_ylabel('Плотность распределения')\n",
    "axes[1].set_xlabel('Мб/мес.')\n",
    "axes[1].set_ylabel('Tariff')\n",
    "\n",
    "# Добавим общий заголовок\n",
    "fig.suptitle('Распределение Мегабайт по тарифам');"
   ]
  },
  {
   "cell_type": "markdown",
   "metadata": {},
   "source": [
    "Для клиентов тарифа Смарт пик интернет трафика приходится примерно на 17000 мегабайт. Среднее же составляет 16230 мегабайт.\n",
    "Большинство клиент пытается уложится в ограничение тарифного плана в 15360 мегабайт. Но этого явно мало. Так что снижение начинается только около 19 гигабайт.\n",
    "\n",
    "Для клиенто тарифа Ультра нет островыраженного пика, но он находится около 20 гигабай. Среднее же составляет 19486 мегабайт.\n",
    "Так как в тарифном плане включены 30720 мегабайт (большинство клиентов в него попадают), поэтому и нет никакого резкого снижения. Потому распределение похоже на нормальное."
   ]
  },
  {
   "cell_type": "markdown",
   "metadata": {},
   "source": [
    "### Вывод"
   ]
  },
  {
   "cell_type": "markdown",
   "metadata": {},
   "source": [
    "В среднем для клиентов обоих тарифов идёт одинаковая потребность в длительности звонков, СМС и интернет трафике.\n",
    "Средняя продолжительность звонков помесячно составляет около 500 минут.\n",
    "Среднее количество использованных СМС составляет примерно 30-40 СМС.\n",
    "Среднее количество используемого интернет трафика составляет около 16 Гигабайт у тарифов смарт и 19 у тарифов ультра.\n",
    "\n",
    "Есть только разное поведение клиентов, т.к. у клиентов тарифа смарт пакет услуг меньше, то после привышения или около этой цифры идёт резкое снижение пользователей данных услуг. Чтобы съэкономить деньги.\n",
    "\n",
    "Клиенты тарифе Ультра не имеют резких пиков и снижений в использовании услуг, потому имеют более платное движение и больше похожи на нормальное распределение."
   ]
  },
  {
   "cell_type": "markdown",
   "metadata": {},
   "source": [
    "## Шаг 4. Проверка гипотез"
   ]
  },
  {
   "cell_type": "markdown",
   "metadata": {},
   "source": [
    "### Гипотеза: средняя выручка пользователей тарифов «Ультра» и «Смарт» различается."
   ]
  },
  {
   "cell_type": "markdown",
   "metadata": {},
   "source": [
    "Нулевая гипотеза звучит так: средняя выручка пользователей тарифов «Ультра» и «Смарт» совпадают.\n",
    "\n",
    "Альтернативная: что они отличаются."
   ]
  },
  {
   "cell_type": "code",
   "execution_count": 35,
   "metadata": {},
   "outputs": [
    {
     "name": "stdout",
     "output_type": "stream",
     "text": [
      "cредняя выручка тарифов Smart:  1294.6393001345896\n",
      "cредняя выручка тарифов Ultra:  2071.0659898477156\n",
      "p-значение: 2.9776448000521676e-158\n",
      "Отвергаем нулевую гипотезу\n"
     ]
    }
   ],
   "source": [
    "# Выведем на экран среднюю выручку тарифов Смарт и Ультра.\n",
    "print('cредняя выручка тарифов Smart: ', df_smart['expenses_month'].mean())\n",
    "print('cредняя выручка тарифов Ultra: ', df_ultra['expenses_month'].mean())\n",
    "\n",
    "alpha = 0.05\n",
    "results = st.ttest_ind(df_smart['expenses_month'], df_ultra['expenses_month']) \n",
    "print('p-значение:', results.pvalue)\n",
    "\n",
    "if results.pvalue < alpha:\n",
    "    print(\"Отвергаем нулевую гипотезу\")\n",
    "else:\n",
    "    print(\"Не получилось отвергнуть нулевую гипотезу\")"
   ]
  },
  {
   "cell_type": "markdown",
   "metadata": {},
   "source": [
    "#### Вывод"
   ]
  },
  {
   "cell_type": "markdown",
   "metadata": {},
   "source": [
    "Раз нулевая гипотеза с формулировкой, что средняя выручка пользователей разных тарифов равна, опроверглась.\n",
    "Выходит, что средняя выручка пользоватлей отличается. \n",
    "В сторону клиентов тарифа Ультра. У них выручка в среднем на 800 рублей выше, чем у клиентов тарифа Смарт.\n",
    "\n",
    "Мы не можем отвергнуть нашу гипотезу по данной выборке."
   ]
  },
  {
   "cell_type": "markdown",
   "metadata": {},
   "source": [
    "### Гипотеза: средняя выручка пользователей из Москвы отличается от выручки пользователей из других регионов"
   ]
  },
  {
   "cell_type": "markdown",
   "metadata": {},
   "source": [
    "Нулевая гипотеза звучит так: средняя выручка пользователей из Москвы совпадает с выручкой пользователей из других регионов.\n",
    "\n",
    "Альтернативная: что они отличаются."
   ]
  },
  {
   "cell_type": "code",
   "execution_count": 36,
   "metadata": {},
   "outputs": [],
   "source": [
    "# Создадим новые таблицы\n",
    "# Для клиентов из Москвы\n",
    "df_moscow  = df[df['city'] == 'Москва']\n",
    "\n",
    "# Для клиентов из остальных городов\n",
    "df_cities  = df[df['city'] != 'Москва']"
   ]
  },
  {
   "cell_type": "code",
   "execution_count": 37,
   "metadata": {},
   "outputs": [
    {
     "name": "stdout",
     "output_type": "stream",
     "text": [
      "cредняя выручка по клиетам из Москвы:  1550.8052373158755\n",
      "cредняя выручка по клиентам из остальных городам:  1528.3169419900116\n",
      "p-значение: 0.531666503831252\n",
      "Не получилось отвергнуть нулевую гипотезу\n"
     ]
    }
   ],
   "source": [
    "# Выведем на экран среднюю выручку клиентов из Москвы и из остальных городов.\n",
    "print('cредняя выручка по клиетам из Москвы: ', df_moscow['expenses_month'].mean())\n",
    "print('cредняя выручка по клиентам из остальных городам: ', df_cities['expenses_month'].mean())\n",
    "\n",
    "alpha = 0.05\n",
    "results = st.ttest_ind(df_moscow['expenses_month'], df_cities['expenses_month']) \n",
    "print('p-значение:', results.pvalue)\n",
    "\n",
    "if results.pvalue < alpha:\n",
    "    print(\"Отвергаем нулевую гипотезу\")\n",
    "else:\n",
    "    print(\"Не получилось отвергнуть нулевую гипотезу\")"
   ]
  },
  {
   "cell_type": "markdown",
   "metadata": {},
   "source": [
    "#### Вывод"
   ]
  },
  {
   "cell_type": "markdown",
   "metadata": {},
   "source": [
    "Мы не смогли отвергнуть нашу нулевую теорию, выходит, что средняя выручка пользователей из Москвы не отличается от выручки пользователей из других регионов. Разница всего около 2х процентов."
   ]
  },
  {
   "cell_type": "markdown",
   "metadata": {},
   "source": [
    "### Вывод"
   ]
  },
  {
   "cell_type": "markdown",
   "metadata": {},
   "source": [
    "По данной нам выборке мы не смогли опровергнуть гипотезу:\n",
    "\n",
    " - Средняя выручка пользователей тарифов «Ультра» и «Смарт» различается.\n",
    " \n",
    "Но опровергли гипотезу:\n",
    "\n",
    " - Средняя выручка пользователей из Москвы отличается от выручки пользователей из других регионов."
   ]
  },
  {
   "cell_type": "markdown",
   "metadata": {},
   "source": [
    "## Шаг 5. Общий вывод"
   ]
  },
  {
   "cell_type": "markdown",
   "metadata": {},
   "source": [
    "В данной работе мы рассмотрели выборку из 500 клиентов за 2018 год.\n",
    "Добавили новых расчётов:\n",
    "\n",
    " - Помесячное количество использованных минут для каждого клиента\n",
    " - Помесячное количество использованных СМС для каждого клиента\n",
    " - Помесячное количество использованных мегабайт для каждого клиента\n",
    " - Помесячную выручку с каждого клиента\n",
    " \n",
    "Рассмотрели через гистограммы использование минут разговора, СМС и интернет трафика для клиентов каждого из двух тарифов:\n",
    "Что для клиентво Смарт, что для клиентов Ультра идёт примерно одинаковые использование, что минут разговора, что СМС.\n",
    "Средняя продолжительность звонков помесячно составляет около 500 минут.\n",
    "Среднее количество использованных СМС составляет примерно 30-40 СМС.\n",
    "\n",
    "Есть небольшая разница в использования трафика интернета:\n",
    "У тарифо Смарт - это 16 гигабайт, у тарифов Ультра - 19 гигабайт.\n",
    "\n",
    "Но из-за того, что у клиентов тарифа Смарт пакет услуг меньше, то при приближении к предельно допустимому бесплатному использованию, идёт резкое снижение.\n",
    "\n",
    "Клиенты тарифов Ультра не имеют таких резких пиков и снижений в использовании услуг, потому имеют более платное движение и больше похожи на нормальное распределение. \n",
    " \n",
    "Также проверили две гипотезы.\n",
    "Гипотезу:\n",
    "\n",
    " - Средняя выручка пользователей из Москвы отличается от выручки пользователей из других регионов\n",
    " \n",
    "Мы опровергли, выручка не сильно отличается:\n",
    "\n",
    " 1) Средняя выручка по клиетам из Москвы:  1550\n",
    " \n",
    " 2) Средняя выручка по клиентам из остальных городам:  1528\n",
    " \n",
    "Клиенты из Москвы тратят на услуги связи примерно на 2% больше по данной выборке.\n",
    "\n",
    "Гипотезу:\n",
    "\n",
    " - Средняя выручка пользователей тарифов «Ультра» и «Смарт» различается\n",
    "\n",
    "Мы не можем опровергнуть, ведь:\n",
    " \n",
    " 1) Средняя выручка тарифов Smart:  1295\n",
    " \n",
    " 2) Средняя выручка тарифов Ultra:  2071\n",
    "\n",
    "Потому для компании наибольшую ценность состаляет тариф Ультра."
   ]
  }
 ],
 "metadata": {
  "ExecuteTimeLog": [
   {
    "duration": 1110,
    "start_time": "2022-02-07T15:01:13.402Z"
   },
   {
    "duration": 167,
    "start_time": "2022-02-07T15:01:16.129Z"
   },
   {
    "duration": 119,
    "start_time": "2022-02-07T15:01:36.375Z"
   },
   {
    "duration": 146,
    "start_time": "2022-02-07T15:01:44.916Z"
   },
   {
    "duration": 43,
    "start_time": "2022-02-07T15:02:07.962Z"
   },
   {
    "duration": 76,
    "start_time": "2022-02-07T15:03:15.444Z"
   },
   {
    "duration": 41,
    "start_time": "2022-02-07T15:03:35.395Z"
   },
   {
    "duration": 56,
    "start_time": "2022-02-07T15:04:16.491Z"
   },
   {
    "duration": 49,
    "start_time": "2022-02-07T15:04:50.861Z"
   },
   {
    "duration": 46,
    "start_time": "2022-02-07T15:07:28.674Z"
   },
   {
    "duration": 30,
    "start_time": "2022-02-07T15:07:30.802Z"
   },
   {
    "duration": 1064,
    "start_time": "2022-02-07T15:07:59.116Z"
   },
   {
    "duration": 149,
    "start_time": "2022-02-07T15:08:01.092Z"
   },
   {
    "duration": 25,
    "start_time": "2022-02-07T15:08:03.555Z"
   },
   {
    "duration": 18,
    "start_time": "2022-02-07T15:08:04.267Z"
   },
   {
    "duration": 116,
    "start_time": "2022-02-07T15:08:10.843Z"
   },
   {
    "duration": 25,
    "start_time": "2022-02-07T15:08:11.287Z"
   },
   {
    "duration": 15,
    "start_time": "2022-02-07T15:08:11.809Z"
   },
   {
    "duration": 82,
    "start_time": "2022-02-07T15:08:19.753Z"
   },
   {
    "duration": 12,
    "start_time": "2022-02-07T15:08:20.865Z"
   },
   {
    "duration": 19,
    "start_time": "2022-02-07T15:08:21.561Z"
   },
   {
    "duration": 42,
    "start_time": "2022-02-07T15:08:22.209Z"
   },
   {
    "duration": 6,
    "start_time": "2022-02-07T15:08:26.735Z"
   },
   {
    "duration": 6,
    "start_time": "2022-02-07T15:08:27.063Z"
   },
   {
    "duration": 86,
    "start_time": "2022-02-07T15:08:34.182Z"
   },
   {
    "duration": 45,
    "start_time": "2022-02-07T15:08:34.974Z"
   },
   {
    "duration": 56,
    "start_time": "2022-02-07T15:08:38.068Z"
   },
   {
    "duration": 49,
    "start_time": "2022-02-07T15:08:43.636Z"
   },
   {
    "duration": 30,
    "start_time": "2022-02-07T15:09:17.646Z"
   },
   {
    "duration": 43,
    "start_time": "2022-02-07T15:09:46.465Z"
   },
   {
    "duration": 36,
    "start_time": "2022-02-07T15:10:10.838Z"
   },
   {
    "duration": 62,
    "start_time": "2022-02-07T15:10:23.174Z"
   },
   {
    "duration": 3,
    "start_time": "2022-02-07T15:18:51.698Z"
   },
   {
    "duration": 404,
    "start_time": "2022-02-07T15:18:59.858Z"
   },
   {
    "duration": 11,
    "start_time": "2022-02-07T15:19:05.337Z"
   },
   {
    "duration": 869,
    "start_time": "2022-02-07T16:19:55.590Z"
   },
   {
    "duration": 1312,
    "start_time": "2022-02-07T16:20:10.570Z"
   },
   {
    "duration": 1285,
    "start_time": "2022-02-07T16:20:12.362Z"
   },
   {
    "duration": 925,
    "start_time": "2022-02-07T16:20:19.752Z"
   },
   {
    "duration": 1088,
    "start_time": "2022-02-07T16:20:21.387Z"
   },
   {
    "duration": 19,
    "start_time": "2022-02-07T16:20:26.543Z"
   },
   {
    "duration": 313,
    "start_time": "2022-02-07T16:20:28.471Z"
   },
   {
    "duration": 25,
    "start_time": "2022-02-07T16:20:30.464Z"
   },
   {
    "duration": 6,
    "start_time": "2022-02-07T16:20:35.615Z"
   },
   {
    "duration": 5,
    "start_time": "2022-02-07T16:20:37.102Z"
   },
   {
    "duration": 8,
    "start_time": "2022-02-07T16:20:39.967Z"
   },
   {
    "duration": 322,
    "start_time": "2022-02-07T16:20:40.608Z"
   },
   {
    "duration": 433,
    "start_time": "2022-02-07T16:21:14.016Z"
   },
   {
    "duration": 6,
    "start_time": "2022-02-07T16:21:33.445Z"
   },
   {
    "duration": 6,
    "start_time": "2022-02-07T16:21:34.103Z"
   },
   {
    "duration": 337,
    "start_time": "2022-02-07T16:21:34.838Z"
   },
   {
    "duration": 6,
    "start_time": "2022-02-07T16:21:39.995Z"
   },
   {
    "duration": 6,
    "start_time": "2022-02-07T16:21:44.539Z"
   },
   {
    "duration": 383,
    "start_time": "2022-02-07T16:22:04.959Z"
   },
   {
    "duration": 328,
    "start_time": "2022-02-07T16:22:16.509Z"
   },
   {
    "duration": 326,
    "start_time": "2022-02-07T16:23:48.462Z"
   },
   {
    "duration": 6,
    "start_time": "2022-02-07T16:27:05.193Z"
   },
   {
    "duration": 6,
    "start_time": "2022-02-07T16:27:16.202Z"
   },
   {
    "duration": 37,
    "start_time": "2022-02-07T16:28:18.944Z"
   },
   {
    "duration": 7,
    "start_time": "2022-02-07T16:28:45.089Z"
   },
   {
    "duration": 1042,
    "start_time": "2022-02-07T16:29:53.022Z"
   },
   {
    "duration": 1016,
    "start_time": "2022-02-07T16:29:54.066Z"
   },
   {
    "duration": 23,
    "start_time": "2022-02-07T16:29:55.084Z"
   },
   {
    "duration": 26,
    "start_time": "2022-02-07T16:29:55.109Z"
   },
   {
    "duration": 506,
    "start_time": "2022-02-07T16:29:55.136Z"
   },
   {
    "duration": 24,
    "start_time": "2022-02-07T16:29:55.644Z"
   },
   {
    "duration": 15,
    "start_time": "2022-02-07T16:29:55.670Z"
   },
   {
    "duration": 93,
    "start_time": "2022-02-07T16:29:55.688Z"
   },
   {
    "duration": 13,
    "start_time": "2022-02-07T16:29:55.783Z"
   },
   {
    "duration": 19,
    "start_time": "2022-02-07T16:29:55.797Z"
   },
   {
    "duration": 45,
    "start_time": "2022-02-07T16:29:55.817Z"
   },
   {
    "duration": 4,
    "start_time": "2022-02-07T16:29:55.863Z"
   },
   {
    "duration": 7,
    "start_time": "2022-02-07T16:29:55.869Z"
   },
   {
    "duration": 85,
    "start_time": "2022-02-07T16:29:55.878Z"
   },
   {
    "duration": 43,
    "start_time": "2022-02-07T16:29:55.964Z"
   },
   {
    "duration": 66,
    "start_time": "2022-02-07T16:29:56.008Z"
   },
   {
    "duration": 54,
    "start_time": "2022-02-07T16:29:56.075Z"
   },
   {
    "duration": 28,
    "start_time": "2022-02-07T16:29:56.131Z"
   },
   {
    "duration": 41,
    "start_time": "2022-02-07T16:29:56.160Z"
   },
   {
    "duration": 51,
    "start_time": "2022-02-07T16:29:56.202Z"
   },
   {
    "duration": 41,
    "start_time": "2022-02-07T16:29:56.255Z"
   },
   {
    "duration": 31,
    "start_time": "2022-02-07T16:29:56.297Z"
   },
   {
    "duration": 359,
    "start_time": "2022-02-07T16:29:56.331Z"
   },
   {
    "duration": 36,
    "start_time": "2022-02-07T16:29:56.692Z"
   },
   {
    "duration": 6,
    "start_time": "2022-02-07T16:29:56.729Z"
   },
   {
    "duration": 5,
    "start_time": "2022-02-07T16:29:56.736Z"
   },
   {
    "duration": 8,
    "start_time": "2022-02-07T16:29:56.742Z"
   },
   {
    "duration": 366,
    "start_time": "2022-02-07T16:29:56.751Z"
   },
   {
    "duration": 5,
    "start_time": "2022-02-07T16:29:57.127Z"
   },
   {
    "duration": 6,
    "start_time": "2022-02-07T16:29:57.134Z"
   },
   {
    "duration": 353,
    "start_time": "2022-02-07T16:29:57.142Z"
   },
   {
    "duration": 6,
    "start_time": "2022-02-07T16:29:57.496Z"
   },
   {
    "duration": 7,
    "start_time": "2022-02-07T16:29:57.504Z"
   },
   {
    "duration": 335,
    "start_time": "2022-02-07T16:29:57.527Z"
   },
   {
    "duration": 6,
    "start_time": "2022-02-07T16:29:57.864Z"
   },
   {
    "duration": 12,
    "start_time": "2022-02-07T16:29:57.872Z"
   },
   {
    "duration": 13,
    "start_time": "2022-02-07T16:29:57.885Z"
   }
  ],
  "kernelspec": {
   "display_name": "Python 3",
   "language": "python",
   "name": "python3"
  },
  "language_info": {
   "codemirror_mode": {
    "name": "ipython",
    "version": 3
   },
   "file_extension": ".py",
   "mimetype": "text/x-python",
   "name": "python",
   "nbconvert_exporter": "python",
   "pygments_lexer": "ipython3",
   "version": "3.7.8"
  },
  "toc": {
   "base_numbering": 1,
   "nav_menu": {},
   "number_sections": true,
   "sideBar": true,
   "skip_h1_title": true,
   "title_cell": "Table of Contents",
   "title_sidebar": "Contents",
   "toc_cell": false,
   "toc_position": {
    "height": "calc(100% - 180px)",
    "left": "10px",
    "top": "150px",
    "width": "366.4px"
   },
   "toc_section_display": true,
   "toc_window_display": false
  }
 },
 "nbformat": 4,
 "nbformat_minor": 2
}
