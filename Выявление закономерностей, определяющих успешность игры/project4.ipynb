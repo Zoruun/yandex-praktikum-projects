{
 "cells": [
  {
   "cell_type": "markdown",
   "metadata": {},
   "source": [
    "# Выявление закономерностей успешной игры "
   ]
  },
  {
   "cell_type": "markdown",
   "metadata": {},
   "source": [
    "Задачи проекта:\n",
    "\n",
    " - Выявить актуальный период и проводить анализ по нему;\n",
    " - Выбрать несколько потенциально прибыльных платформ;\n",
    " - Посмотреть, как на продажи влияют отзывы пользователей и критиков;\n",
    " - Посмотреть, какие жанры игр самые прибыльные; \n",
    " - Составь портреты пользователя каждого региона:\n",
    " \n",
    "  1) Рассмотреть для каждого региона самые популярные платформы;\n",
    "  \n",
    "  2) Рассмотреть для каждого региона самый популярный жанр;\n",
    "  \n",
    "  3) Рассмотреть влияет ли рейтинг ESRB на продажи региона. \n",
    "  \n",
    "  \n",
    " - Проверить гипотезу: \"Средние пользовательские рейтинги платформ Xbox One и PC одинаковые\";\n",
    " - Проверить гипотезу: \"Средние пользовательские рейтинги жанров Action и Sports разные.\"\n",
    " - Определить потенциально успешные характеристики игр на 2017-й год."
   ]
  },
  {
   "cell_type": "markdown",
   "metadata": {},
   "source": [
    "## Шаг 1. Откройте файл с данными и изучите общую информацию"
   ]
  },
  {
   "cell_type": "code",
   "execution_count": 1,
   "metadata": {},
   "outputs": [],
   "source": [
    "#импортируем необходимые библиотеки\n",
    "import matplotlib.pyplot as plt\n",
    "import pandas as pd\n",
    "import numpy as np\n",
    "from math import factorial\n",
    "from scipy import stats as st\n",
    "import seaborn as sns\n",
    "from functools import reduce\n",
    "import warnings\n",
    "warnings.filterwarnings(\"ignore\")"
   ]
  },
  {
   "cell_type": "code",
   "execution_count": 2,
   "metadata": {},
   "outputs": [
    {
     "data": {
      "text/html": [
       "<div>\n",
       "<style scoped>\n",
       "    .dataframe tbody tr th:only-of-type {\n",
       "        vertical-align: middle;\n",
       "    }\n",
       "\n",
       "    .dataframe tbody tr th {\n",
       "        vertical-align: top;\n",
       "    }\n",
       "\n",
       "    .dataframe thead th {\n",
       "        text-align: right;\n",
       "    }\n",
       "</style>\n",
       "<table border=\"1\" class=\"dataframe\">\n",
       "  <thead>\n",
       "    <tr style=\"text-align: right;\">\n",
       "      <th></th>\n",
       "      <th>Name</th>\n",
       "      <th>Platform</th>\n",
       "      <th>Year_of_Release</th>\n",
       "      <th>Genre</th>\n",
       "      <th>NA_sales</th>\n",
       "      <th>EU_sales</th>\n",
       "      <th>JP_sales</th>\n",
       "      <th>Other_sales</th>\n",
       "      <th>Critic_Score</th>\n",
       "      <th>User_Score</th>\n",
       "      <th>Rating</th>\n",
       "    </tr>\n",
       "  </thead>\n",
       "  <tbody>\n",
       "    <tr>\n",
       "      <td>0</td>\n",
       "      <td>Wii Sports</td>\n",
       "      <td>Wii</td>\n",
       "      <td>2006.0</td>\n",
       "      <td>Sports</td>\n",
       "      <td>41.36</td>\n",
       "      <td>28.96</td>\n",
       "      <td>3.77</td>\n",
       "      <td>8.45</td>\n",
       "      <td>76.0</td>\n",
       "      <td>8</td>\n",
       "      <td>E</td>\n",
       "    </tr>\n",
       "    <tr>\n",
       "      <td>1</td>\n",
       "      <td>Super Mario Bros.</td>\n",
       "      <td>NES</td>\n",
       "      <td>1985.0</td>\n",
       "      <td>Platform</td>\n",
       "      <td>29.08</td>\n",
       "      <td>3.58</td>\n",
       "      <td>6.81</td>\n",
       "      <td>0.77</td>\n",
       "      <td>NaN</td>\n",
       "      <td>NaN</td>\n",
       "      <td>NaN</td>\n",
       "    </tr>\n",
       "    <tr>\n",
       "      <td>2</td>\n",
       "      <td>Mario Kart Wii</td>\n",
       "      <td>Wii</td>\n",
       "      <td>2008.0</td>\n",
       "      <td>Racing</td>\n",
       "      <td>15.68</td>\n",
       "      <td>12.76</td>\n",
       "      <td>3.79</td>\n",
       "      <td>3.29</td>\n",
       "      <td>82.0</td>\n",
       "      <td>8.3</td>\n",
       "      <td>E</td>\n",
       "    </tr>\n",
       "    <tr>\n",
       "      <td>3</td>\n",
       "      <td>Wii Sports Resort</td>\n",
       "      <td>Wii</td>\n",
       "      <td>2009.0</td>\n",
       "      <td>Sports</td>\n",
       "      <td>15.61</td>\n",
       "      <td>10.93</td>\n",
       "      <td>3.28</td>\n",
       "      <td>2.95</td>\n",
       "      <td>80.0</td>\n",
       "      <td>8</td>\n",
       "      <td>E</td>\n",
       "    </tr>\n",
       "    <tr>\n",
       "      <td>4</td>\n",
       "      <td>Pokemon Red/Pokemon Blue</td>\n",
       "      <td>GB</td>\n",
       "      <td>1996.0</td>\n",
       "      <td>Role-Playing</td>\n",
       "      <td>11.27</td>\n",
       "      <td>8.89</td>\n",
       "      <td>10.22</td>\n",
       "      <td>1.00</td>\n",
       "      <td>NaN</td>\n",
       "      <td>NaN</td>\n",
       "      <td>NaN</td>\n",
       "    </tr>\n",
       "  </tbody>\n",
       "</table>\n",
       "</div>"
      ],
      "text/plain": [
       "                       Name Platform  Year_of_Release         Genre  NA_sales  \\\n",
       "0                Wii Sports      Wii           2006.0        Sports     41.36   \n",
       "1         Super Mario Bros.      NES           1985.0      Platform     29.08   \n",
       "2            Mario Kart Wii      Wii           2008.0        Racing     15.68   \n",
       "3         Wii Sports Resort      Wii           2009.0        Sports     15.61   \n",
       "4  Pokemon Red/Pokemon Blue       GB           1996.0  Role-Playing     11.27   \n",
       "\n",
       "   EU_sales  JP_sales  Other_sales  Critic_Score User_Score Rating  \n",
       "0     28.96      3.77         8.45          76.0          8      E  \n",
       "1      3.58      6.81         0.77           NaN        NaN    NaN  \n",
       "2     12.76      3.79         3.29          82.0        8.3      E  \n",
       "3     10.93      3.28         2.95          80.0          8      E  \n",
       "4      8.89     10.22         1.00           NaN        NaN    NaN  "
      ]
     },
     "execution_count": 2,
     "metadata": {},
     "output_type": "execute_result"
    }
   ],
   "source": [
    "#откроем таблицу и выведем её на экран\n",
    "data = pd.read_csv('/datasets/games.csv')\n",
    "data.head()"
   ]
  },
  {
   "cell_type": "code",
   "execution_count": 3,
   "metadata": {},
   "outputs": [
    {
     "data": {
      "text/html": [
       "<div>\n",
       "<style scoped>\n",
       "    .dataframe tbody tr th:only-of-type {\n",
       "        vertical-align: middle;\n",
       "    }\n",
       "\n",
       "    .dataframe tbody tr th {\n",
       "        vertical-align: top;\n",
       "    }\n",
       "\n",
       "    .dataframe thead th {\n",
       "        text-align: right;\n",
       "    }\n",
       "</style>\n",
       "<table border=\"1\" class=\"dataframe\">\n",
       "  <thead>\n",
       "    <tr style=\"text-align: right;\">\n",
       "      <th></th>\n",
       "      <th>Year_of_Release</th>\n",
       "      <th>NA_sales</th>\n",
       "      <th>EU_sales</th>\n",
       "      <th>JP_sales</th>\n",
       "      <th>Other_sales</th>\n",
       "      <th>Critic_Score</th>\n",
       "    </tr>\n",
       "  </thead>\n",
       "  <tbody>\n",
       "    <tr>\n",
       "      <td>count</td>\n",
       "      <td>16446.000000</td>\n",
       "      <td>16715.000000</td>\n",
       "      <td>16715.000000</td>\n",
       "      <td>16715.000000</td>\n",
       "      <td>16715.000000</td>\n",
       "      <td>8137.000000</td>\n",
       "    </tr>\n",
       "    <tr>\n",
       "      <td>mean</td>\n",
       "      <td>2006.484616</td>\n",
       "      <td>0.263377</td>\n",
       "      <td>0.145060</td>\n",
       "      <td>0.077617</td>\n",
       "      <td>0.047342</td>\n",
       "      <td>68.967679</td>\n",
       "    </tr>\n",
       "    <tr>\n",
       "      <td>std</td>\n",
       "      <td>5.877050</td>\n",
       "      <td>0.813604</td>\n",
       "      <td>0.503339</td>\n",
       "      <td>0.308853</td>\n",
       "      <td>0.186731</td>\n",
       "      <td>13.938165</td>\n",
       "    </tr>\n",
       "    <tr>\n",
       "      <td>min</td>\n",
       "      <td>1980.000000</td>\n",
       "      <td>0.000000</td>\n",
       "      <td>0.000000</td>\n",
       "      <td>0.000000</td>\n",
       "      <td>0.000000</td>\n",
       "      <td>13.000000</td>\n",
       "    </tr>\n",
       "    <tr>\n",
       "      <td>25%</td>\n",
       "      <td>2003.000000</td>\n",
       "      <td>0.000000</td>\n",
       "      <td>0.000000</td>\n",
       "      <td>0.000000</td>\n",
       "      <td>0.000000</td>\n",
       "      <td>60.000000</td>\n",
       "    </tr>\n",
       "    <tr>\n",
       "      <td>50%</td>\n",
       "      <td>2007.000000</td>\n",
       "      <td>0.080000</td>\n",
       "      <td>0.020000</td>\n",
       "      <td>0.000000</td>\n",
       "      <td>0.010000</td>\n",
       "      <td>71.000000</td>\n",
       "    </tr>\n",
       "    <tr>\n",
       "      <td>75%</td>\n",
       "      <td>2010.000000</td>\n",
       "      <td>0.240000</td>\n",
       "      <td>0.110000</td>\n",
       "      <td>0.040000</td>\n",
       "      <td>0.030000</td>\n",
       "      <td>79.000000</td>\n",
       "    </tr>\n",
       "    <tr>\n",
       "      <td>max</td>\n",
       "      <td>2016.000000</td>\n",
       "      <td>41.360000</td>\n",
       "      <td>28.960000</td>\n",
       "      <td>10.220000</td>\n",
       "      <td>10.570000</td>\n",
       "      <td>98.000000</td>\n",
       "    </tr>\n",
       "  </tbody>\n",
       "</table>\n",
       "</div>"
      ],
      "text/plain": [
       "       Year_of_Release      NA_sales      EU_sales      JP_sales  \\\n",
       "count     16446.000000  16715.000000  16715.000000  16715.000000   \n",
       "mean       2006.484616      0.263377      0.145060      0.077617   \n",
       "std           5.877050      0.813604      0.503339      0.308853   \n",
       "min        1980.000000      0.000000      0.000000      0.000000   \n",
       "25%        2003.000000      0.000000      0.000000      0.000000   \n",
       "50%        2007.000000      0.080000      0.020000      0.000000   \n",
       "75%        2010.000000      0.240000      0.110000      0.040000   \n",
       "max        2016.000000     41.360000     28.960000     10.220000   \n",
       "\n",
       "        Other_sales  Critic_Score  \n",
       "count  16715.000000   8137.000000  \n",
       "mean       0.047342     68.967679  \n",
       "std        0.186731     13.938165  \n",
       "min        0.000000     13.000000  \n",
       "25%        0.000000     60.000000  \n",
       "50%        0.010000     71.000000  \n",
       "75%        0.030000     79.000000  \n",
       "max       10.570000     98.000000  "
      ]
     },
     "execution_count": 3,
     "metadata": {},
     "output_type": "execute_result"
    }
   ],
   "source": [
    "# посмотрим основные числовые характеристики для data\n",
    "data.describe()"
   ]
  },
  {
   "cell_type": "code",
   "execution_count": 4,
   "metadata": {},
   "outputs": [
    {
     "name": "stdout",
     "output_type": "stream",
     "text": [
      "<class 'pandas.core.frame.DataFrame'>\n",
      "RangeIndex: 16715 entries, 0 to 16714\n",
      "Data columns (total 11 columns):\n",
      "Name               16713 non-null object\n",
      "Platform           16715 non-null object\n",
      "Year_of_Release    16446 non-null float64\n",
      "Genre              16713 non-null object\n",
      "NA_sales           16715 non-null float64\n",
      "EU_sales           16715 non-null float64\n",
      "JP_sales           16715 non-null float64\n",
      "Other_sales        16715 non-null float64\n",
      "Critic_Score       8137 non-null float64\n",
      "User_Score         10014 non-null object\n",
      "Rating             9949 non-null object\n",
      "dtypes: float64(6), object(5)\n",
      "memory usage: 1.4+ MB\n"
     ]
    }
   ],
   "source": [
    "# посмотрим основную информацию по таблицу data\n",
    "data.info()"
   ]
  },
  {
   "cell_type": "markdown",
   "metadata": {},
   "source": [
    "### Вывод"
   ]
  },
  {
   "cell_type": "markdown",
   "metadata": {},
   "source": [
    "Наша таблица имеет 16715 строк и 11 столбцов.\n",
    "\n",
    "Рассмотрим столбцы:\n",
    "\n",
    " -  Name — название игры\n",
    " -\tPlatform — платформа\n",
    " -\tYear_of_Release — год выпуска\n",
    " -\tGenre — жанр игры\n",
    " -\tNA_sales — продажи в Северной Америке (миллионы проданных копий)\n",
    " -\tEU_sales — продажи в Европе (миллионы проданных копий)\n",
    " -\tJP_sales — продажи в Японии (миллионы проданных копий)\n",
    " -\tOther_sales — продажи в других странах (миллионы проданных копий)\n",
    " -\tCritic_Score — оценка критиков (максимум 100)\n",
    " -\tUser_Score — оценка пользователей (максимум 10)\n",
    " -\tRating — рейтинг от организации ESRB (англ. Entertainment Software Rating Board). Эта ассоциация определяет рейтинг компьютерных игр и присваивает им подходящую возрастную категорию.\n",
    "\n",
    "Учтём, что данные за 2016 год могут быть неполными.\n",
    "\n",
    "У нас столбец от оценки юзеров имеет тип данных object - это странно.\n",
    "Также есть много нулевых значений в столбах по продажам в миллионах копий. \n",
    "Будем рассматривать данные несостыковки в следующей части проекта."
   ]
  },
  {
   "cell_type": "markdown",
   "metadata": {},
   "source": [
    "## Шаг 2. Подготовка данных"
   ]
  },
  {
   "cell_type": "code",
   "execution_count": 5,
   "metadata": {},
   "outputs": [
    {
     "name": "stdout",
     "output_type": "stream",
     "text": [
      "В нашей таблице 0 дубликатов\n"
     ]
    }
   ],
   "source": [
    "# проверим на наличие дубликатов нашу таблицу\n",
    "print('В нашей таблице', data.duplicated().sum(), 'дубликатов')"
   ]
  },
  {
   "cell_type": "code",
   "execution_count": 6,
   "metadata": {},
   "outputs": [
    {
     "name": "stdout",
     "output_type": "stream",
     "text": [
      "В нашей таблице незаполнено название 2 игр\n"
     ]
    }
   ],
   "source": [
    "# приведём названия столбцов к нижнему регистру\n",
    "data.columns = map(str.lower, data.columns)\n",
    "\n",
    "# Посмотрим пропущенные в стоблце с названием игры\n",
    "print('В нашей таблице незаполнено название', data['name'].isnull().sum(), 'игр')"
   ]
  },
  {
   "cell_type": "code",
   "execution_count": 7,
   "metadata": {},
   "outputs": [
    {
     "data": {
      "text/html": [
       "<div>\n",
       "<style scoped>\n",
       "    .dataframe tbody tr th:only-of-type {\n",
       "        vertical-align: middle;\n",
       "    }\n",
       "\n",
       "    .dataframe tbody tr th {\n",
       "        vertical-align: top;\n",
       "    }\n",
       "\n",
       "    .dataframe thead th {\n",
       "        text-align: right;\n",
       "    }\n",
       "</style>\n",
       "<table border=\"1\" class=\"dataframe\">\n",
       "  <thead>\n",
       "    <tr style=\"text-align: right;\">\n",
       "      <th></th>\n",
       "      <th>name</th>\n",
       "      <th>platform</th>\n",
       "      <th>year_of_release</th>\n",
       "      <th>genre</th>\n",
       "      <th>na_sales</th>\n",
       "      <th>eu_sales</th>\n",
       "      <th>jp_sales</th>\n",
       "      <th>other_sales</th>\n",
       "      <th>critic_score</th>\n",
       "      <th>user_score</th>\n",
       "      <th>rating</th>\n",
       "    </tr>\n",
       "  </thead>\n",
       "  <tbody>\n",
       "    <tr>\n",
       "      <td>659</td>\n",
       "      <td>NaN</td>\n",
       "      <td>GEN</td>\n",
       "      <td>1993.0</td>\n",
       "      <td>NaN</td>\n",
       "      <td>1.78</td>\n",
       "      <td>0.53</td>\n",
       "      <td>0.00</td>\n",
       "      <td>0.08</td>\n",
       "      <td>NaN</td>\n",
       "      <td>NaN</td>\n",
       "      <td>NaN</td>\n",
       "    </tr>\n",
       "    <tr>\n",
       "      <td>14244</td>\n",
       "      <td>NaN</td>\n",
       "      <td>GEN</td>\n",
       "      <td>1993.0</td>\n",
       "      <td>NaN</td>\n",
       "      <td>0.00</td>\n",
       "      <td>0.00</td>\n",
       "      <td>0.03</td>\n",
       "      <td>0.00</td>\n",
       "      <td>NaN</td>\n",
       "      <td>NaN</td>\n",
       "      <td>NaN</td>\n",
       "    </tr>\n",
       "  </tbody>\n",
       "</table>\n",
       "</div>"
      ],
      "text/plain": [
       "      name platform  year_of_release genre  na_sales  eu_sales  jp_sales  \\\n",
       "659    NaN      GEN           1993.0   NaN      1.78      0.53      0.00   \n",
       "14244  NaN      GEN           1993.0   NaN      0.00      0.00      0.03   \n",
       "\n",
       "       other_sales  critic_score user_score rating  \n",
       "659           0.08           NaN        NaN    NaN  \n",
       "14244         0.00           NaN        NaN    NaN  "
      ]
     },
     "execution_count": 7,
     "metadata": {},
     "output_type": "execute_result"
    }
   ],
   "source": [
    "# Посмотрим что это за строки в таблице\n",
    "data.query('name.isna()')"
   ]
  },
  {
   "cell_type": "code",
   "execution_count": 8,
   "metadata": {},
   "outputs": [],
   "source": [
    "# удалим пропущенные значения из столбца с названием игр с помощью dropna ()\n",
    "data.dropna(subset = ['name'], inplace = True)"
   ]
  },
  {
   "cell_type": "markdown",
   "metadata": {},
   "source": [
    "В столбце platform пропущенных значений нет.\n",
    "\n",
    "В столбце year_of_release есть около 300 пропущенных значений.\n",
    "Изучим данные строки."
   ]
  },
  {
   "cell_type": "code",
   "execution_count": 9,
   "metadata": {},
   "outputs": [
    {
     "data": {
      "text/html": [
       "<div>\n",
       "<style scoped>\n",
       "    .dataframe tbody tr th:only-of-type {\n",
       "        vertical-align: middle;\n",
       "    }\n",
       "\n",
       "    .dataframe tbody tr th {\n",
       "        vertical-align: top;\n",
       "    }\n",
       "\n",
       "    .dataframe thead th {\n",
       "        text-align: right;\n",
       "    }\n",
       "</style>\n",
       "<table border=\"1\" class=\"dataframe\">\n",
       "  <thead>\n",
       "    <tr style=\"text-align: right;\">\n",
       "      <th></th>\n",
       "      <th>name</th>\n",
       "      <th>platform</th>\n",
       "      <th>year_of_release</th>\n",
       "      <th>genre</th>\n",
       "      <th>na_sales</th>\n",
       "      <th>eu_sales</th>\n",
       "      <th>jp_sales</th>\n",
       "      <th>other_sales</th>\n",
       "      <th>critic_score</th>\n",
       "      <th>user_score</th>\n",
       "      <th>rating</th>\n",
       "    </tr>\n",
       "  </thead>\n",
       "  <tbody>\n",
       "    <tr>\n",
       "      <td>183</td>\n",
       "      <td>Madden NFL 2004</td>\n",
       "      <td>PS2</td>\n",
       "      <td>NaN</td>\n",
       "      <td>Sports</td>\n",
       "      <td>4.26</td>\n",
       "      <td>0.26</td>\n",
       "      <td>0.01</td>\n",
       "      <td>0.71</td>\n",
       "      <td>94.0</td>\n",
       "      <td>8.5</td>\n",
       "      <td>E</td>\n",
       "    </tr>\n",
       "    <tr>\n",
       "      <td>377</td>\n",
       "      <td>FIFA Soccer 2004</td>\n",
       "      <td>PS2</td>\n",
       "      <td>NaN</td>\n",
       "      <td>Sports</td>\n",
       "      <td>0.59</td>\n",
       "      <td>2.36</td>\n",
       "      <td>0.04</td>\n",
       "      <td>0.51</td>\n",
       "      <td>84.0</td>\n",
       "      <td>6.4</td>\n",
       "      <td>E</td>\n",
       "    </tr>\n",
       "    <tr>\n",
       "      <td>456</td>\n",
       "      <td>LEGO Batman: The Videogame</td>\n",
       "      <td>Wii</td>\n",
       "      <td>NaN</td>\n",
       "      <td>Action</td>\n",
       "      <td>1.80</td>\n",
       "      <td>0.97</td>\n",
       "      <td>0.00</td>\n",
       "      <td>0.29</td>\n",
       "      <td>74.0</td>\n",
       "      <td>7.9</td>\n",
       "      <td>E10+</td>\n",
       "    </tr>\n",
       "    <tr>\n",
       "      <td>475</td>\n",
       "      <td>wwe Smackdown vs. Raw 2006</td>\n",
       "      <td>PS2</td>\n",
       "      <td>NaN</td>\n",
       "      <td>Fighting</td>\n",
       "      <td>1.57</td>\n",
       "      <td>1.02</td>\n",
       "      <td>0.00</td>\n",
       "      <td>0.41</td>\n",
       "      <td>NaN</td>\n",
       "      <td>NaN</td>\n",
       "      <td>NaN</td>\n",
       "    </tr>\n",
       "    <tr>\n",
       "      <td>609</td>\n",
       "      <td>Space Invaders</td>\n",
       "      <td>2600</td>\n",
       "      <td>NaN</td>\n",
       "      <td>Shooter</td>\n",
       "      <td>2.36</td>\n",
       "      <td>0.14</td>\n",
       "      <td>0.00</td>\n",
       "      <td>0.03</td>\n",
       "      <td>NaN</td>\n",
       "      <td>NaN</td>\n",
       "      <td>NaN</td>\n",
       "    </tr>\n",
       "    <tr>\n",
       "      <td>...</td>\n",
       "      <td>...</td>\n",
       "      <td>...</td>\n",
       "      <td>...</td>\n",
       "      <td>...</td>\n",
       "      <td>...</td>\n",
       "      <td>...</td>\n",
       "      <td>...</td>\n",
       "      <td>...</td>\n",
       "      <td>...</td>\n",
       "      <td>...</td>\n",
       "      <td>...</td>\n",
       "    </tr>\n",
       "    <tr>\n",
       "      <td>16373</td>\n",
       "      <td>PDC World Championship Darts 2008</td>\n",
       "      <td>PSP</td>\n",
       "      <td>NaN</td>\n",
       "      <td>Sports</td>\n",
       "      <td>0.01</td>\n",
       "      <td>0.00</td>\n",
       "      <td>0.00</td>\n",
       "      <td>0.00</td>\n",
       "      <td>43.0</td>\n",
       "      <td>tbd</td>\n",
       "      <td>E10+</td>\n",
       "    </tr>\n",
       "    <tr>\n",
       "      <td>16405</td>\n",
       "      <td>Freaky Flyers</td>\n",
       "      <td>GC</td>\n",
       "      <td>NaN</td>\n",
       "      <td>Racing</td>\n",
       "      <td>0.01</td>\n",
       "      <td>0.00</td>\n",
       "      <td>0.00</td>\n",
       "      <td>0.00</td>\n",
       "      <td>69.0</td>\n",
       "      <td>6.5</td>\n",
       "      <td>T</td>\n",
       "    </tr>\n",
       "    <tr>\n",
       "      <td>16448</td>\n",
       "      <td>Inversion</td>\n",
       "      <td>PC</td>\n",
       "      <td>NaN</td>\n",
       "      <td>Shooter</td>\n",
       "      <td>0.01</td>\n",
       "      <td>0.00</td>\n",
       "      <td>0.00</td>\n",
       "      <td>0.00</td>\n",
       "      <td>59.0</td>\n",
       "      <td>6.7</td>\n",
       "      <td>M</td>\n",
       "    </tr>\n",
       "    <tr>\n",
       "      <td>16458</td>\n",
       "      <td>Hakuouki: Shinsengumi Kitan</td>\n",
       "      <td>PS3</td>\n",
       "      <td>NaN</td>\n",
       "      <td>Adventure</td>\n",
       "      <td>0.01</td>\n",
       "      <td>0.00</td>\n",
       "      <td>0.00</td>\n",
       "      <td>0.00</td>\n",
       "      <td>NaN</td>\n",
       "      <td>NaN</td>\n",
       "      <td>NaN</td>\n",
       "    </tr>\n",
       "    <tr>\n",
       "      <td>16522</td>\n",
       "      <td>Virtua Quest</td>\n",
       "      <td>GC</td>\n",
       "      <td>NaN</td>\n",
       "      <td>Role-Playing</td>\n",
       "      <td>0.01</td>\n",
       "      <td>0.00</td>\n",
       "      <td>0.00</td>\n",
       "      <td>0.00</td>\n",
       "      <td>55.0</td>\n",
       "      <td>5.5</td>\n",
       "      <td>T</td>\n",
       "    </tr>\n",
       "  </tbody>\n",
       "</table>\n",
       "<p>269 rows × 11 columns</p>\n",
       "</div>"
      ],
      "text/plain": [
       "                                    name platform  year_of_release  \\\n",
       "183                      Madden NFL 2004      PS2              NaN   \n",
       "377                     FIFA Soccer 2004      PS2              NaN   \n",
       "456           LEGO Batman: The Videogame      Wii              NaN   \n",
       "475           wwe Smackdown vs. Raw 2006      PS2              NaN   \n",
       "609                       Space Invaders     2600              NaN   \n",
       "...                                  ...      ...              ...   \n",
       "16373  PDC World Championship Darts 2008      PSP              NaN   \n",
       "16405                      Freaky Flyers       GC              NaN   \n",
       "16448                          Inversion       PC              NaN   \n",
       "16458        Hakuouki: Shinsengumi Kitan      PS3              NaN   \n",
       "16522                       Virtua Quest       GC              NaN   \n",
       "\n",
       "              genre  na_sales  eu_sales  jp_sales  other_sales  critic_score  \\\n",
       "183          Sports      4.26      0.26      0.01         0.71          94.0   \n",
       "377          Sports      0.59      2.36      0.04         0.51          84.0   \n",
       "456          Action      1.80      0.97      0.00         0.29          74.0   \n",
       "475        Fighting      1.57      1.02      0.00         0.41           NaN   \n",
       "609         Shooter      2.36      0.14      0.00         0.03           NaN   \n",
       "...             ...       ...       ...       ...          ...           ...   \n",
       "16373        Sports      0.01      0.00      0.00         0.00          43.0   \n",
       "16405        Racing      0.01      0.00      0.00         0.00          69.0   \n",
       "16448       Shooter      0.01      0.00      0.00         0.00          59.0   \n",
       "16458     Adventure      0.01      0.00      0.00         0.00           NaN   \n",
       "16522  Role-Playing      0.01      0.00      0.00         0.00          55.0   \n",
       "\n",
       "      user_score rating  \n",
       "183          8.5      E  \n",
       "377          6.4      E  \n",
       "456          7.9   E10+  \n",
       "475          NaN    NaN  \n",
       "609          NaN    NaN  \n",
       "...          ...    ...  \n",
       "16373        tbd   E10+  \n",
       "16405        6.5      T  \n",
       "16448        6.7      M  \n",
       "16458        NaN    NaN  \n",
       "16522        5.5      T  \n",
       "\n",
       "[269 rows x 11 columns]"
      ]
     },
     "execution_count": 9,
     "metadata": {},
     "output_type": "execute_result"
    }
   ],
   "source": [
    "# Посмотрим что это за строки в таблице\n",
    "data.query('year_of_release.isna()')"
   ]
  },
  {
   "cell_type": "markdown",
   "metadata": {},
   "source": [
    "Значений меньше 2% от всей таблицы. Так что можем их удалить."
   ]
  },
  {
   "cell_type": "code",
   "execution_count": 10,
   "metadata": {},
   "outputs": [],
   "source": [
    "# удалим пропущенные значения из столбца года выпуска с помощью dropna ()\n",
    "data.dropna(subset = ['year_of_release'], inplace = True)\n",
    "\n",
    "# приведём столбец к числовому типу\n",
    "data['year_of_release']=data['year_of_release'].astype('float64')"
   ]
  },
  {
   "cell_type": "markdown",
   "metadata": {},
   "source": [
    "После удаления двух игр без названия, в столбце genre больше нет пропущенных.\n",
    "\n",
    "Также нет пропущенных в стобцах: na_sales, eu_sales, jp_sales, other_sales.\n",
    "\n",
    "В столбце critic_score около половины значений пропущенных, но их заменить тоже не получится математическим способом.\n",
    "Это же касается и столбца user_score. Но столбец user_score имеет тип данных object, попробуем узнать из-за чего и исправить это."
   ]
  },
  {
   "cell_type": "code",
   "execution_count": 11,
   "metadata": {},
   "outputs": [
    {
     "data": {
      "text/plain": [
       "array(['8', nan, '8.3', '8.5', '6.6', '8.4', '8.6', '7.7', '6.3', '7.4',\n",
       "       '8.2', '9', '7.9', '8.1', '8.7', '7.1', '3.4', '5.3', '4.8', '3.2',\n",
       "       '8.9', '6.4', '7.8', '7.5', '2.6', '7.2', '9.2', '7', '7.3', '4.3',\n",
       "       '7.6', '5.7', '5', '9.1', '6.5', 'tbd', '8.8', '6.9', '9.4', '6.8',\n",
       "       '6.1', '6.7', '5.4', '4', '4.9', '4.5', '9.3', '6.2', '4.2', '6',\n",
       "       '3.7', '4.1', '5.8', '5.6', '5.5', '4.4', '4.6', '5.9', '3.9',\n",
       "       '3.1', '2.9', '5.2', '3.3', '4.7', '5.1', '3.5', '2.5', '1.9', '3',\n",
       "       '2.7', '2.2', '2', '9.5', '2.1', '3.6', '2.8', '1.8', '3.8', '0',\n",
       "       '1.6', '9.6', '2.4', '1.7', '1.1', '0.3', '1.5', '0.7', '1.2',\n",
       "       '2.3', '0.5', '1.3', '0.2', '0.6', '1.4', '0.9', '1', '9.7'],\n",
       "      dtype=object)"
      ]
     },
     "execution_count": 11,
     "metadata": {},
     "output_type": "execute_result"
    }
   ],
   "source": [
    "# Посмотрим уникальные значения столбца с оценкой пользователей\n",
    "data['user_score'].unique()"
   ]
  },
  {
   "cell_type": "markdown",
   "metadata": {},
   "source": [
    "Есть некое значение 'tbd'. Из интернета выясняем, что это означает \"To Be Determined, то есть \"Будет определено\".\n",
    "Думаю в нашем контексте мы можем спокойно заменить его на Nan."
   ]
  },
  {
   "cell_type": "code",
   "execution_count": 12,
   "metadata": {},
   "outputs": [
    {
     "name": "stdout",
     "output_type": "stream",
     "text": [
      "<class 'pandas.core.frame.DataFrame'>\n",
      "Int64Index: 16444 entries, 0 to 16714\n",
      "Data columns (total 11 columns):\n",
      "name               16444 non-null object\n",
      "platform           16444 non-null object\n",
      "year_of_release    16444 non-null float64\n",
      "genre              16444 non-null object\n",
      "na_sales           16444 non-null float64\n",
      "eu_sales           16444 non-null float64\n",
      "jp_sales           16444 non-null float64\n",
      "other_sales        16444 non-null float64\n",
      "critic_score       7983 non-null float64\n",
      "user_score         7463 non-null float64\n",
      "rating             9768 non-null object\n",
      "dtypes: float64(7), object(4)\n",
      "memory usage: 1.5+ MB\n"
     ]
    }
   ],
   "source": [
    "# заменим TBD на пропущенные значения\n",
    "data = data.replace('tbd', np.nan)\n",
    "\n",
    "# и приведём столбик с оценкой пользователей к числовому типу\n",
    "data['user_score']=data['user_score'].astype('float64')\n",
    "\n",
    "# проверим изменение типа данных\n",
    "data.info()"
   ]
  },
  {
   "cell_type": "code",
   "execution_count": 13,
   "metadata": {},
   "outputs": [
    {
     "data": {
      "text/html": [
       "<div>\n",
       "<style scoped>\n",
       "    .dataframe tbody tr th:only-of-type {\n",
       "        vertical-align: middle;\n",
       "    }\n",
       "\n",
       "    .dataframe tbody tr th {\n",
       "        vertical-align: top;\n",
       "    }\n",
       "\n",
       "    .dataframe thead th {\n",
       "        text-align: right;\n",
       "    }\n",
       "</style>\n",
       "<table border=\"1\" class=\"dataframe\">\n",
       "  <thead>\n",
       "    <tr style=\"text-align: right;\">\n",
       "      <th></th>\n",
       "      <th>year_of_release</th>\n",
       "      <th>na_sales</th>\n",
       "      <th>eu_sales</th>\n",
       "      <th>jp_sales</th>\n",
       "      <th>other_sales</th>\n",
       "      <th>critic_score</th>\n",
       "      <th>user_score</th>\n",
       "    </tr>\n",
       "  </thead>\n",
       "  <tbody>\n",
       "    <tr>\n",
       "      <td>count</td>\n",
       "      <td>16444.000000</td>\n",
       "      <td>16444.000000</td>\n",
       "      <td>16444.000000</td>\n",
       "      <td>16444.000000</td>\n",
       "      <td>16444.000000</td>\n",
       "      <td>7983.000000</td>\n",
       "      <td>7463.000000</td>\n",
       "    </tr>\n",
       "    <tr>\n",
       "      <td>mean</td>\n",
       "      <td>2006.486256</td>\n",
       "      <td>0.264012</td>\n",
       "      <td>0.145930</td>\n",
       "      <td>0.078487</td>\n",
       "      <td>0.047594</td>\n",
       "      <td>68.994363</td>\n",
       "      <td>7.126330</td>\n",
       "    </tr>\n",
       "    <tr>\n",
       "      <td>std</td>\n",
       "      <td>5.875525</td>\n",
       "      <td>0.818378</td>\n",
       "      <td>0.506716</td>\n",
       "      <td>0.311100</td>\n",
       "      <td>0.188005</td>\n",
       "      <td>13.920060</td>\n",
       "      <td>1.499447</td>\n",
       "    </tr>\n",
       "    <tr>\n",
       "      <td>min</td>\n",
       "      <td>1980.000000</td>\n",
       "      <td>0.000000</td>\n",
       "      <td>0.000000</td>\n",
       "      <td>0.000000</td>\n",
       "      <td>0.000000</td>\n",
       "      <td>13.000000</td>\n",
       "      <td>0.000000</td>\n",
       "    </tr>\n",
       "    <tr>\n",
       "      <td>25%</td>\n",
       "      <td>2003.000000</td>\n",
       "      <td>0.000000</td>\n",
       "      <td>0.000000</td>\n",
       "      <td>0.000000</td>\n",
       "      <td>0.000000</td>\n",
       "      <td>60.000000</td>\n",
       "      <td>6.400000</td>\n",
       "    </tr>\n",
       "    <tr>\n",
       "      <td>50%</td>\n",
       "      <td>2007.000000</td>\n",
       "      <td>0.080000</td>\n",
       "      <td>0.020000</td>\n",
       "      <td>0.000000</td>\n",
       "      <td>0.010000</td>\n",
       "      <td>71.000000</td>\n",
       "      <td>7.500000</td>\n",
       "    </tr>\n",
       "    <tr>\n",
       "      <td>75%</td>\n",
       "      <td>2010.000000</td>\n",
       "      <td>0.240000</td>\n",
       "      <td>0.110000</td>\n",
       "      <td>0.040000</td>\n",
       "      <td>0.030000</td>\n",
       "      <td>79.000000</td>\n",
       "      <td>8.200000</td>\n",
       "    </tr>\n",
       "    <tr>\n",
       "      <td>max</td>\n",
       "      <td>2016.000000</td>\n",
       "      <td>41.360000</td>\n",
       "      <td>28.960000</td>\n",
       "      <td>10.220000</td>\n",
       "      <td>10.570000</td>\n",
       "      <td>98.000000</td>\n",
       "      <td>9.700000</td>\n",
       "    </tr>\n",
       "  </tbody>\n",
       "</table>\n",
       "</div>"
      ],
      "text/plain": [
       "       year_of_release      na_sales      eu_sales      jp_sales  \\\n",
       "count     16444.000000  16444.000000  16444.000000  16444.000000   \n",
       "mean       2006.486256      0.264012      0.145930      0.078487   \n",
       "std           5.875525      0.818378      0.506716      0.311100   \n",
       "min        1980.000000      0.000000      0.000000      0.000000   \n",
       "25%        2003.000000      0.000000      0.000000      0.000000   \n",
       "50%        2007.000000      0.080000      0.020000      0.000000   \n",
       "75%        2010.000000      0.240000      0.110000      0.040000   \n",
       "max        2016.000000     41.360000     28.960000     10.220000   \n",
       "\n",
       "        other_sales  critic_score   user_score  \n",
       "count  16444.000000   7983.000000  7463.000000  \n",
       "mean       0.047594     68.994363     7.126330  \n",
       "std        0.188005     13.920060     1.499447  \n",
       "min        0.000000     13.000000     0.000000  \n",
       "25%        0.000000     60.000000     6.400000  \n",
       "50%        0.010000     71.000000     7.500000  \n",
       "75%        0.030000     79.000000     8.200000  \n",
       "max       10.570000     98.000000     9.700000  "
      ]
     },
     "execution_count": 13,
     "metadata": {},
     "output_type": "execute_result"
    }
   ],
   "source": [
    "# и выведем основные числовые характеристики\n",
    "data.describe()"
   ]
  },
  {
   "cell_type": "markdown",
   "metadata": {},
   "source": [
    "В столбце rating около 7 тысяч пропусков, их заменить тоже никак не получится. Но посмотрим какие рейтинги есть у нас в данной таблице."
   ]
  },
  {
   "cell_type": "code",
   "execution_count": 14,
   "metadata": {},
   "outputs": [
    {
     "data": {
      "text/plain": [
       "array(['E', nan, 'M', 'T', 'E10+', 'K-A', 'AO', 'EC', 'RP'], dtype=object)"
      ]
     },
     "execution_count": 14,
     "metadata": {},
     "output_type": "execute_result"
    }
   ],
   "source": [
    "# Посмотрим уникальные значения столбца с рейтингом игр\n",
    "data['rating'].unique()"
   ]
  },
  {
   "cell_type": "markdown",
   "metadata": {},
   "source": [
    "Найдём расшифровку рейтингов в интернете:\n",
    "\n",
    " - «E» («Everyone») — «Для всех»: Содержание вполне подходит для возрастной категории от 6 лет;\n",
    " - «M» («Mature») — «Для взрослых»: Материалы игры не подходят для подростков младше 17 лет;\n",
    " - «T» («Teen») — «Подросткам»: Игра подходит для лиц от 13 лет;\n",
    " - «E10+» («Everyone 10 and older») — «Для всех от 10 лет и старше»;\n",
    " - «K-A» - «Для детей и взрослых: игры, содержащие контент, подходящий для широкой аудитории. Этот рейтинг использовался до 1998 года, когда он был переименован в E»;\n",
    " - «AO» («Adults Only 18+») — «Только для взрослых»: Содержание игры только для взрослых старше 18 лет;\n",
    " - «EC» («Early childhood») — «Для детей младшего возраста»: Игра подходит для детей от 3 лет и не содержит материалов, которые родители могли бы счесть неподходящими;\n",
    " - «RP» («Rating Pending») — «Рейтинг ожидается»: Продукт был отправлен в ESRB и ожидает присвоения рейтинга."
   ]
  },
  {
   "cell_type": "code",
   "execution_count": 15,
   "metadata": {},
   "outputs": [],
   "source": [
    "# Изменим рейтинг K-A на E\n",
    "data['rating']=data['rating'].replace('K-A', 'E')\n",
    "\n",
    "# Изменим рейтинг RP на Nan\n",
    "data['rating']=data['rating'].replace('RP', np.nan)"
   ]
  },
  {
   "cell_type": "markdown",
   "metadata": {},
   "source": [
    "Создадим столбец с продажами во всем регионах."
   ]
  },
  {
   "cell_type": "code",
   "execution_count": 16,
   "metadata": {},
   "outputs": [],
   "source": [
    "data['all_sales'] = data['na_sales'] + data['eu_sales'] + data['jp_sales'] + data['other_sales']"
   ]
  },
  {
   "cell_type": "markdown",
   "metadata": {},
   "source": [
    "### Вывод"
   ]
  },
  {
   "cell_type": "markdown",
   "metadata": {},
   "source": [
    "Я проверила таблицу на дубликаты и пропущенные значения.\n",
    "\n",
    "Дубликатов не оказалось, удалила строки с пропущенными значениями в названии игр, их всего 2, так что это не повлияет на мои расчёты. \n",
    "\n",
    "Заменила значение tbd на пропущенное в столбце с рейтингом от игроков, т.к. расшифровка \"To Be Determined, то есть \"Будет определено\", в нашем контексте вполне можно заменить на пропущенное, что по факту тоже не определено. Также из-за этого tbd столбец имел тип данных object, я заменила его на числовой.\n",
    "\n",
    "Есть много пропущенных значений в столбцах с рейтингом от критиков, игроков и от организации ESRB. Их невозможно никак заменить. Пропуски в данных столбцах связаны с тем, что не все игры оценивают критики или игроки, или такие рейтинги не попали в глобальный интернет или в нашу таблицу. Отсутствие некоторых рейтингов по рейтингу от организации ESRB может быть связано с тем, что компания образована в 1994 году, до этого года они не могли присуждать играм рейтинг.\n",
    "\n",
    "Также я создала столбец с итоговыми продажами."
   ]
  },
  {
   "cell_type": "markdown",
   "metadata": {},
   "source": [
    "## Шаг 3. Исследовательский анализ данных"
   ]
  },
  {
   "cell_type": "markdown",
   "metadata": {},
   "source": [
    "### Посмотрим сколько игр выпускалось в разные годы"
   ]
  },
  {
   "cell_type": "code",
   "execution_count": 17,
   "metadata": {},
   "outputs": [
    {
     "data": {
      "image/png": "[encoded data removed]",
      "text/plain": [
       "<Figure size 1152x360 with 2 Axes>"
      ]
     },
     "metadata": {
      "needs_background": "light"
     },
     "output_type": "display_data"
    }
   ],
   "source": [
    "# Создадим одну строку с двумя колонками\n",
    "fig, axes = plt.subplots(1, 2, figsize=(16, 5))\n",
    "\n",
    "# Построим гистрограмму для столбца с годом выпуска\n",
    "plt.style.use  ('ggplot')\n",
    "data['year_of_release'].hist(bins = 30, ax=axes[0])\n",
    "\n",
    "# Создадим график boxplot для выпущенных игр по году выпуска\n",
    "sns.boxplot(data=data.sort_values(by='year_of_release'), x='year_of_release', ax=axes[1])\n",
    "\n",
    "# Добавим подписи для каждой колонки \n",
    "axes[0].set_xlabel('Год выпуска')\n",
    "axes[0].set_ylabel('Количество выпущенных игр')\n",
    "axes[1].set_xlabel('Год выпуска')\n",
    "\n",
    "# Добавим общий заголовок\n",
    "fig.suptitle('Количество выпущенных игр по годам');"
   ]
  },
  {
   "cell_type": "code",
   "execution_count": 18,
   "metadata": {},
   "outputs": [],
   "source": [
    "# Уберём из таблицы все строки с годом выпусска игры ранее 2012 года\n",
    "data = data[data['year_of_release'] >= 2012]"
   ]
  },
  {
   "cell_type": "markdown",
   "metadata": {},
   "source": [
    "#### Вывод"
   ]
  },
  {
   "cell_type": "markdown",
   "metadata": {},
   "source": [
    "Как видим по нашим графикам, больше всего игр было выпущено в 2011 году, и также что игры датой выпуска ранее 1993 попадают в выбросы. Но 22 года слишком большой срок для таких задач. Возьмём период в 3 года."
   ]
  },
  {
   "cell_type": "markdown",
   "metadata": {},
   "source": [
    "### Рассмотрим, как менялись продажи по платформам."
   ]
  },
  {
   "cell_type": "code",
   "execution_count": 19,
   "metadata": {},
   "outputs": [
    {
     "data": {
      "text/html": [
       "<div>\n",
       "<style scoped>\n",
       "    .dataframe tbody tr th:only-of-type {\n",
       "        vertical-align: middle;\n",
       "    }\n",
       "\n",
       "    .dataframe tbody tr th {\n",
       "        vertical-align: top;\n",
       "    }\n",
       "\n",
       "    .dataframe thead th {\n",
       "        text-align: right;\n",
       "    }\n",
       "</style>\n",
       "<table border=\"1\" class=\"dataframe\">\n",
       "  <thead>\n",
       "    <tr style=\"text-align: right;\">\n",
       "      <th></th>\n",
       "      <th>all_sales</th>\n",
       "    </tr>\n",
       "    <tr>\n",
       "      <th>platform</th>\n",
       "      <th></th>\n",
       "    </tr>\n",
       "  </thead>\n",
       "  <tbody>\n",
       "    <tr>\n",
       "      <td>PS4</td>\n",
       "      <td>314.14</td>\n",
       "    </tr>\n",
       "    <tr>\n",
       "      <td>PS3</td>\n",
       "      <td>288.79</td>\n",
       "    </tr>\n",
       "    <tr>\n",
       "      <td>X360</td>\n",
       "      <td>236.54</td>\n",
       "    </tr>\n",
       "    <tr>\n",
       "      <td>3DS</td>\n",
       "      <td>194.61</td>\n",
       "    </tr>\n",
       "    <tr>\n",
       "      <td>XOne</td>\n",
       "      <td>159.32</td>\n",
       "    </tr>\n",
       "    <tr>\n",
       "      <td>WiiU</td>\n",
       "      <td>82.19</td>\n",
       "    </tr>\n",
       "    <tr>\n",
       "      <td>PC</td>\n",
       "      <td>62.65</td>\n",
       "    </tr>\n",
       "    <tr>\n",
       "      <td>PSV</td>\n",
       "      <td>49.18</td>\n",
       "    </tr>\n",
       "    <tr>\n",
       "      <td>Wii</td>\n",
       "      <td>35.37</td>\n",
       "    </tr>\n",
       "    <tr>\n",
       "      <td>DS</td>\n",
       "      <td>12.55</td>\n",
       "    </tr>\n",
       "    <tr>\n",
       "      <td>PSP</td>\n",
       "      <td>11.19</td>\n",
       "    </tr>\n",
       "  </tbody>\n",
       "</table>\n",
       "</div>"
      ],
      "text/plain": [
       "          all_sales\n",
       "platform           \n",
       "PS4          314.14\n",
       "PS3          288.79\n",
       "X360         236.54\n",
       "3DS          194.61\n",
       "XOne         159.32\n",
       "WiiU          82.19\n",
       "PC            62.65\n",
       "PSV           49.18\n",
       "Wii           35.37\n",
       "DS            12.55\n",
       "PSP           11.19"
      ]
     },
     "execution_count": 19,
     "metadata": {},
     "output_type": "execute_result"
    }
   ],
   "source": [
    "# Создадим новую таблицу, в которой будет название платформа \n",
    "# и сумма продаж на данной платформе\n",
    "sales_by_platform = data.pivot_table(\n",
    "    index = 'platform', values = 'all_sales', aggfunc = sum)\n",
    "\n",
    "# Выведем последнюю таблицу и отсортируем по возрастанию\n",
    "sales_by_platform.sort_values(by = 'all_sales', ascending = False)"
   ]
  },
  {
   "cell_type": "markdown",
   "metadata": {},
   "source": [
    "Рассмотрим более подробно по продаже по графикам по годам."
   ]
  },
  {
   "cell_type": "code",
   "execution_count": 20,
   "metadata": {
    "scrolled": false
   },
   "outputs": [
    {
     "name": "stdout",
     "output_type": "stream",
     "text": [
      "PS4\n"
     ]
    },
    {
     "data": {
      "image/png": "[encoded data removed]",
      "text/plain": [
       "<Figure size 432x288 with 1 Axes>"
      ]
     },
     "metadata": {},
     "output_type": "display_data"
    },
    {
     "name": "stdout",
     "output_type": "stream",
     "text": [
      "PS3\n"
     ]
    },
    {
     "data": {
      "image/png": "[encoded data removed]",
      "text/plain": [
       "<Figure size 432x288 with 1 Axes>"
      ]
     },
     "metadata": {},
     "output_type": "display_data"
    },
    {
     "name": "stdout",
     "output_type": "stream",
     "text": [
      "X360\n"
     ]
    },
    {
     "data": {
      "image/png": "[encoded data removed]",
      "text/plain": [
       "<Figure size 432x288 with 1 Axes>"
      ]
     },
     "metadata": {},
     "output_type": "display_data"
    },
    {
     "name": "stdout",
     "output_type": "stream",
     "text": [
      "3DS\n"
     ]
    },
    {
     "data": {
      "image/png": "[encoded data removed]",
      "text/plain": [
       "<Figure size 432x288 with 1 Axes>"
      ]
     },
     "metadata": {},
     "output_type": "display_data"
    },
    {
     "name": "stdout",
     "output_type": "stream",
     "text": [
      "XOne\n"
     ]
    },
    {
     "data": {
      "image/png": "[encoded data removed]",
      "text/plain": [
       "<Figure size 432x288 with 1 Axes>"
      ]
     },
     "metadata": {},
     "output_type": "display_data"
    },
    {
     "name": "stdout",
     "output_type": "stream",
     "text": [
      "WiiU\n"
     ]
    },
    {
     "data": {
      "image/png": "[encoded data removed]",
      "text/plain": [
       "<Figure size 432x288 with 1 Axes>"
      ]
     },
     "metadata": {},
     "output_type": "display_data"
    },
    {
     "name": "stdout",
     "output_type": "stream",
     "text": [
      "PC\n"
     ]
    },
    {
     "data": {
      "image/png": "[encoded data removed]",
      "text/plain": [
       "<Figure size 432x288 with 1 Axes>"
      ]
     },
     "metadata": {},
     "output_type": "display_data"
    },
    {
     "name": "stdout",
     "output_type": "stream",
     "text": [
      "PSV\n"
     ]
    },
    {
     "data": {
      "image/png": "[encoded data removed]",
      "text/plain": [
       "<Figure size 432x288 with 1 Axes>"
      ]
     },
     "metadata": {},
     "output_type": "display_data"
    },
    {
     "name": "stdout",
     "output_type": "stream",
     "text": [
      "Wii\n"
     ]
    },
    {
     "data": {
      "image/png": "[encoded data removed]",
      "text/plain": [
       "<Figure size 432x288 with 1 Axes>"
      ]
     },
     "metadata": {},
     "output_type": "display_data"
    },
    {
     "name": "stdout",
     "output_type": "stream",
     "text": [
      "DS\n"
     ]
    },
    {
     "data": {
      "image/png": "[encoded data removed]",
      "text/plain": [
       "<Figure size 432x288 with 1 Axes>"
      ]
     },
     "metadata": {},
     "output_type": "display_data"
    },
    {
     "name": "stdout",
     "output_type": "stream",
     "text": [
      "PSP\n"
     ]
    },
    {
     "data": {
      "image/png": "[encoded data removed]",
      "text/plain": [
       "<Figure size 432x288 with 1 Axes>"
      ]
     },
     "metadata": {},
     "output_type": "display_data"
    }
   ],
   "source": [
    "# Создадим сводную таблицу по платформам\n",
    "platform_sales = (\n",
    "    data\n",
    "    .pivot_table(index='platform', values='all_sales', aggfunc='sum')\n",
    "    .sort_values('all_sales', ascending=False)\n",
    ")\n",
    "\n",
    "# Сделаем функцию по созданной таблице\n",
    "for platform in platform_sales.index:\n",
    "    print(platform)\n",
    "    (data\n",
    "     .query('platform == @platform')\n",
    "     .pivot_table(index='year_of_release', values='all_sales', aggfunc='sum')\n",
    "     .plot()\n",
    "    )\n",
    "    plt.show()    "
   ]
  },
  {
   "cell_type": "markdown",
   "metadata": {},
   "source": [
    "PS4 перспективная платформа, хоть и находится в упадке, но на 2016 год имеет около 70 миллионов продаж.\n",
    "\n",
    "Платформа PS3, уже почти не имеет продаж на 2016 года, пик пришёлся на 2013 год.\n",
    "\n",
    "X360 на 2016 год не имеет продаж.\n",
    "\n",
    "3DS имел пик в 2013 году, на 2016 год почти не имеет продаж.\n",
    "\n",
    "Xone имел пик продаж на 2015 год, на 2016 имеет около 25 миллионов копий продаж.\n",
    "\n",
    "WiiU имел пик в 2013 и 2014 годах, на 2016 год имеет около 5 миллионов копий продаж.\n",
    "\n",
    "PC имеет пик на 2011 год, но всё ещё имеет около 5 миллионовкопий продаж на 2016 год.\n",
    "\n",
    "PSV имел пика на 2012 год, на 2016 год имеет около 4 миллионов копий продаж.\n",
    "\n",
    "Wii имел пик продаж в 2012 году, продаж на 2016 почти не имеет.\n",
    "\n",
    "DS после 2013 не имеет продаж.\n",
    "\n",
    "PSP не имеет продаж с 2014 года"
   ]
  },
  {
   "cell_type": "markdown",
   "metadata": {},
   "source": [
    "В среднем платформы \"живут\" 5-10 лет, исключение составляет только PC, то есть персональный компьютер.\n",
    "\n",
    "Из списка выше выведем потенциально прибыльные платформы, у которых есть продажи на 2016 год."
   ]
  },
  {
   "cell_type": "code",
   "execution_count": 21,
   "metadata": {},
   "outputs": [],
   "source": [
    "# Создадим переменную с перечислением наших 5 платформ\n",
    "top_5_platform = [\n",
    "    'PS4', 'PC', 'XOne', 'WiiU', 'PSV']\n",
    "\n",
    "# Создадим новую таблицу, в которой будет информация по играм из 5 платформ\n",
    "data_top_5_platform = data.query('platform == @top_5_platform')"
   ]
  },
  {
   "cell_type": "code",
   "execution_count": 22,
   "metadata": {},
   "outputs": [
    {
     "data": {
      "image/png": "[encoded data removed]",
      "text/plain": [
       "<Figure size 1152x360 with 2 Axes>"
      ]
     },
     "metadata": {},
     "output_type": "display_data"
    }
   ],
   "source": [
    "# Создадим одну строку с двумя колонками\n",
    "fig, axes = plt.subplots(1, 2, figsize=(16, 5))\n",
    "\n",
    "# Построим график «ящик с усами» по глобальным продажам игр в разбивке по платформам.\n",
    "plt.style.use  ('ggplot')\n",
    "sns.boxplot(data = data_top_5_platform, y = 'all_sales', x='platform', ax=axes[0])\n",
    "\n",
    "# Построит тот же график, но немного увеличим\n",
    "sns.boxplot(data = data_top_5_platform, y = 'all_sales', x='platform', ax=axes[1])\n",
    "plt.ylim(0,2)\n",
    "\n",
    "# Добавим подписи для каждой колонки \n",
    "axes[0].set_xlabel('Платформы')\n",
    "axes[0].set_ylabel('Количество проданных копий')\n",
    "axes[1].set_xlabel('Платформы')\n",
    "axes[1].set_ylabel('Количество проданных копий')\n",
    "\n",
    "# Добавим общий заголовок\n",
    "fig.suptitle('Количество проданных копий игр по платформам');"
   ]
  },
  {
   "cell_type": "markdown",
   "metadata": {},
   "source": [
    "#### Вывод"
   ]
  },
  {
   "cell_type": "markdown",
   "metadata": {},
   "source": [
    "Я вывела графики для каждой платформы, чтобы посмотреть подробнее про их продажи.\n",
    "\n",
    "Не смотря на то что у многих платформ продажи выше, чем у тех, какие я взяла для рассчётов, но на данный момент для таких платформ игры уже не выпускаются или имеют продажи приближенные к нулю.\n",
    "\n",
    "Потому я взяла следующие 5 платформ, у которых есть продажи на 2016 год: PS4, PC, XOne, WiiU, PSV.\n",
    "\n",
    "Лидером по продажам является платформа PS4, следующие платформа XOne, WiiU, PC и PSV соответственно. Основные продажи игр попадают в 1-2 миллиона копий, медиана попадает примерно в 250 тысяч копий, 75% квантиль в 700 тысяч копий, всё остальное попадает в выбросы."
   ]
  },
  {
   "cell_type": "markdown",
   "metadata": {},
   "source": [
    "### Посмотрим как на продажи влияют отзывы пользователей и критиков на примере платформы PS4."
   ]
  },
  {
   "cell_type": "code",
   "execution_count": 23,
   "metadata": {},
   "outputs": [
    {
     "data": {
      "text/html": [
       "<div>\n",
       "<style scoped>\n",
       "    .dataframe tbody tr th:only-of-type {\n",
       "        vertical-align: middle;\n",
       "    }\n",
       "\n",
       "    .dataframe tbody tr th {\n",
       "        vertical-align: top;\n",
       "    }\n",
       "\n",
       "    .dataframe thead th {\n",
       "        text-align: right;\n",
       "    }\n",
       "</style>\n",
       "<table border=\"1\" class=\"dataframe\">\n",
       "  <thead>\n",
       "    <tr style=\"text-align: right;\">\n",
       "      <th></th>\n",
       "      <th>critic_score</th>\n",
       "      <th>user_score</th>\n",
       "      <th>all_sales</th>\n",
       "    </tr>\n",
       "  </thead>\n",
       "  <tbody>\n",
       "    <tr>\n",
       "      <td>critic_score</td>\n",
       "      <td>1.000000</td>\n",
       "      <td>0.557654</td>\n",
       "      <td>0.406568</td>\n",
       "    </tr>\n",
       "    <tr>\n",
       "      <td>user_score</td>\n",
       "      <td>0.557654</td>\n",
       "      <td>1.000000</td>\n",
       "      <td>-0.031957</td>\n",
       "    </tr>\n",
       "    <tr>\n",
       "      <td>all_sales</td>\n",
       "      <td>0.406568</td>\n",
       "      <td>-0.031957</td>\n",
       "      <td>1.000000</td>\n",
       "    </tr>\n",
       "  </tbody>\n",
       "</table>\n",
       "</div>"
      ],
      "text/plain": [
       "              critic_score  user_score  all_sales\n",
       "critic_score      1.000000    0.557654   0.406568\n",
       "user_score        0.557654    1.000000  -0.031957\n",
       "all_sales         0.406568   -0.031957   1.000000"
      ]
     },
     "execution_count": 23,
     "metadata": {},
     "output_type": "execute_result"
    },
    {
     "data": {
      "image/png": "[encoded data removed]",
      "text/plain": [
       "<Figure size 1152x360 with 2 Axes>"
      ]
     },
     "metadata": {},
     "output_type": "display_data"
    }
   ],
   "source": [
    "# Создадим таблицу только с платформой PS4\n",
    "PS4_platform = ['PS4']\n",
    "data_PS4 = data_top_5_platform.query('platform == @PS4_platform')\n",
    "\n",
    "# И оставим в таблице только столбцы с итоговыми продажами и отзывы от игроков и критиков\n",
    "data_PS4 = data_PS4[['platform', 'critic_score', 'user_score', 'all_sales']]\n",
    "\n",
    "# Создадим одну строку с двумя колонками\n",
    "fig, axes = plt.subplots(1, 2, figsize=(16, 5))\n",
    "\n",
    "# Построим диаграмму рассеяния в соотношении отзывов критиков и копий продаж\n",
    "plt.style.use  ('ggplot')\n",
    "data_PS4.plot(x=\"critic_score\", y=\"all_sales\", kind=\"scatter\", ax=axes[0])\n",
    "\n",
    "# Создадим гиаграмму рассеяния в соотношении отзывов игроков и копий продаж\n",
    "data_PS4.plot(x=\"user_score\", y=\"all_sales\", kind=\"scatter\", ax=axes[1])\n",
    "\n",
    "# Добавим подписи для каждой колонки \n",
    "axes[0].set_xlabel('Рейтинг от критиков')\n",
    "axes[0].set_ylabel('Количество проданных копий')\n",
    "axes[1].set_xlabel('Рейтинг от игроков')\n",
    "axes[1].set_ylabel('Количество проданных копий')\n",
    "\n",
    "# Добавим общий заголовок\n",
    "fig.suptitle('Зависимость между продажами по платформе PS4 и отзывами от критиков и игроков');\n",
    "\n",
    "# И выведем числовую зависимость с помощью метода corr ()\n",
    "data_PS4.corr()"
   ]
  },
  {
   "cell_type": "code",
   "execution_count": 24,
   "metadata": {},
   "outputs": [
    {
     "data": {
      "text/html": [
       "<div>\n",
       "<style scoped>\n",
       "    .dataframe tbody tr th:only-of-type {\n",
       "        vertical-align: middle;\n",
       "    }\n",
       "\n",
       "    .dataframe tbody tr th {\n",
       "        vertical-align: top;\n",
       "    }\n",
       "\n",
       "    .dataframe thead th {\n",
       "        text-align: right;\n",
       "    }\n",
       "</style>\n",
       "<table border=\"1\" class=\"dataframe\">\n",
       "  <thead>\n",
       "    <tr style=\"text-align: right;\">\n",
       "      <th></th>\n",
       "      <th>critic_score</th>\n",
       "      <th>user_score</th>\n",
       "      <th>all_sales</th>\n",
       "    </tr>\n",
       "  </thead>\n",
       "  <tbody>\n",
       "    <tr>\n",
       "      <td>critic_score</td>\n",
       "      <td>1.000000</td>\n",
       "      <td>0.432587</td>\n",
       "      <td>0.237243</td>\n",
       "    </tr>\n",
       "    <tr>\n",
       "      <td>user_score</td>\n",
       "      <td>0.432587</td>\n",
       "      <td>1.000000</td>\n",
       "      <td>-0.121867</td>\n",
       "    </tr>\n",
       "    <tr>\n",
       "      <td>all_sales</td>\n",
       "      <td>0.237243</td>\n",
       "      <td>-0.121867</td>\n",
       "      <td>1.000000</td>\n",
       "    </tr>\n",
       "  </tbody>\n",
       "</table>\n",
       "</div>"
      ],
      "text/plain": [
       "              critic_score  user_score  all_sales\n",
       "critic_score      1.000000    0.432587   0.237243\n",
       "user_score        0.432587    1.000000  -0.121867\n",
       "all_sales         0.237243   -0.121867   1.000000"
      ]
     },
     "execution_count": 24,
     "metadata": {},
     "output_type": "execute_result"
    },
    {
     "data": {
      "image/png": "[encoded data removed]",
      "text/plain": [
       "<Figure size 1152x360 with 2 Axes>"
      ]
     },
     "metadata": {},
     "output_type": "display_data"
    }
   ],
   "source": [
    "# Создадим таблицу только с платформой PC\n",
    "PC_platform = ['PC']\n",
    "data_PC = data_top_5_platform.query('platform == @PC_platform')\n",
    "\n",
    "# И оставим в таблице только столбцы с итоговыми продажами и отзывы от игроков и критиков\n",
    "data_PC = data_PC[['platform', 'critic_score', 'user_score', 'all_sales']]\n",
    "\n",
    "# Создадим одну строку с двумя колонками\n",
    "fig, axes = plt.subplots(1, 2, figsize=(16, 5))\n",
    "\n",
    "# Построим диаграмму рассеяния в соотношении отзывов критиков и копий продаж\n",
    "plt.style.use  ('ggplot')\n",
    "data_PC.plot(x=\"critic_score\", y=\"all_sales\", kind=\"scatter\", ax=axes[0])\n",
    "\n",
    "# Создадим гиаграмму рассеяния в соотношении отзывов игроков и копий продаж\n",
    "data_PC.plot(x=\"user_score\", y=\"all_sales\", kind=\"scatter\", ax=axes[1])\n",
    "\n",
    "# Добавим подписи для каждой колонки \n",
    "axes[0].set_xlabel('Рейтинг от критиков')\n",
    "axes[0].set_ylabel('Количество проданных копий')\n",
    "axes[1].set_xlabel('Рейтинг от игроков')\n",
    "axes[1].set_ylabel('Количество проданных копий')\n",
    "\n",
    "# Добавим общий заголовок\n",
    "fig.suptitle('Зависимость между продажами по платформе PC и отзывами от критиков и игроков');\n",
    "\n",
    "# И выведем числовую зависимость с помощью метода corr ()\n",
    "data_PC.corr()"
   ]
  },
  {
   "cell_type": "code",
   "execution_count": 25,
   "metadata": {},
   "outputs": [
    {
     "data": {
      "text/html": [
       "<div>\n",
       "<style scoped>\n",
       "    .dataframe tbody tr th:only-of-type {\n",
       "        vertical-align: middle;\n",
       "    }\n",
       "\n",
       "    .dataframe tbody tr th {\n",
       "        vertical-align: top;\n",
       "    }\n",
       "\n",
       "    .dataframe thead th {\n",
       "        text-align: right;\n",
       "    }\n",
       "</style>\n",
       "<table border=\"1\" class=\"dataframe\">\n",
       "  <thead>\n",
       "    <tr style=\"text-align: right;\">\n",
       "      <th></th>\n",
       "      <th>critic_score</th>\n",
       "      <th>user_score</th>\n",
       "      <th>all_sales</th>\n",
       "    </tr>\n",
       "  </thead>\n",
       "  <tbody>\n",
       "    <tr>\n",
       "      <td>critic_score</td>\n",
       "      <td>1.000000</td>\n",
       "      <td>0.472462</td>\n",
       "      <td>0.416998</td>\n",
       "    </tr>\n",
       "    <tr>\n",
       "      <td>user_score</td>\n",
       "      <td>0.472462</td>\n",
       "      <td>1.000000</td>\n",
       "      <td>-0.068925</td>\n",
       "    </tr>\n",
       "    <tr>\n",
       "      <td>all_sales</td>\n",
       "      <td>0.416998</td>\n",
       "      <td>-0.068925</td>\n",
       "      <td>1.000000</td>\n",
       "    </tr>\n",
       "  </tbody>\n",
       "</table>\n",
       "</div>"
      ],
      "text/plain": [
       "              critic_score  user_score  all_sales\n",
       "critic_score      1.000000    0.472462   0.416998\n",
       "user_score        0.472462    1.000000  -0.068925\n",
       "all_sales         0.416998   -0.068925   1.000000"
      ]
     },
     "execution_count": 25,
     "metadata": {},
     "output_type": "execute_result"
    },
    {
     "data": {
      "image/png": "[encoded data removed]",
      "text/plain": [
       "<Figure size 1152x360 with 2 Axes>"
      ]
     },
     "metadata": {},
     "output_type": "display_data"
    }
   ],
   "source": [
    "# Создадим таблицу только с платформой XOne\n",
    "XOne_platform = ['XOne']\n",
    "data_XOne = data_top_5_platform.query('platform == @XOne_platform')\n",
    "\n",
    "# И оставим в таблице только столбцы с итоговыми продажами и отзывы от игроков и критиков\n",
    "data_XOne = data_XOne[['platform', 'critic_score', 'user_score', 'all_sales']]\n",
    "\n",
    "# Создадим одну строку с двумя колонками\n",
    "fig, axes = plt.subplots(1, 2, figsize=(16, 5))\n",
    "\n",
    "# Построим диаграмму рассеяния в соотношении отзывов критиков и копий продаж\n",
    "plt.style.use  ('ggplot')\n",
    "data_XOne.plot(x=\"critic_score\", y=\"all_sales\", kind=\"scatter\", ax=axes[0])\n",
    "\n",
    "# Создадим гиаграмму рассеяния в соотношении отзывов игроков и копий продаж\n",
    "data_XOne.plot(x=\"user_score\", y=\"all_sales\", kind=\"scatter\", ax=axes[1])\n",
    "\n",
    "# Добавим подписи для каждой колонки \n",
    "axes[0].set_xlabel('Рейтинг от критиков')\n",
    "axes[0].set_ylabel('Количество проданных копий')\n",
    "axes[1].set_xlabel('Рейтинг от игроков')\n",
    "axes[1].set_ylabel('Количество проданных копий')\n",
    "\n",
    "# Добавим общий заголовок\n",
    "fig.suptitle('Зависимость между продажами по платформе XOne и отзывами от критиков и игроков');\n",
    "\n",
    "# И выведем числовую зависимость с помощью метода corr ()\n",
    "data_XOne.corr()"
   ]
  },
  {
   "cell_type": "code",
   "execution_count": 26,
   "metadata": {},
   "outputs": [
    {
     "data": {
      "text/html": [
       "<div>\n",
       "<style scoped>\n",
       "    .dataframe tbody tr th:only-of-type {\n",
       "        vertical-align: middle;\n",
       "    }\n",
       "\n",
       "    .dataframe tbody tr th {\n",
       "        vertical-align: top;\n",
       "    }\n",
       "\n",
       "    .dataframe thead th {\n",
       "        text-align: right;\n",
       "    }\n",
       "</style>\n",
       "<table border=\"1\" class=\"dataframe\">\n",
       "  <thead>\n",
       "    <tr style=\"text-align: right;\">\n",
       "      <th></th>\n",
       "      <th>critic_score</th>\n",
       "      <th>user_score</th>\n",
       "      <th>all_sales</th>\n",
       "    </tr>\n",
       "  </thead>\n",
       "  <tbody>\n",
       "    <tr>\n",
       "      <td>critic_score</td>\n",
       "      <td>1.00000</td>\n",
       "      <td>0.770080</td>\n",
       "      <td>0.348380</td>\n",
       "    </tr>\n",
       "    <tr>\n",
       "      <td>user_score</td>\n",
       "      <td>0.77008</td>\n",
       "      <td>1.000000</td>\n",
       "      <td>0.400219</td>\n",
       "    </tr>\n",
       "    <tr>\n",
       "      <td>all_sales</td>\n",
       "      <td>0.34838</td>\n",
       "      <td>0.400219</td>\n",
       "      <td>1.000000</td>\n",
       "    </tr>\n",
       "  </tbody>\n",
       "</table>\n",
       "</div>"
      ],
      "text/plain": [
       "              critic_score  user_score  all_sales\n",
       "critic_score       1.00000    0.770080   0.348380\n",
       "user_score         0.77008    1.000000   0.400219\n",
       "all_sales          0.34838    0.400219   1.000000"
      ]
     },
     "execution_count": 26,
     "metadata": {},
     "output_type": "execute_result"
    },
    {
     "data": {
      "image/png": "[encoded data removed]",
      "text/plain": [
       "<Figure size 1152x360 with 2 Axes>"
      ]
     },
     "metadata": {},
     "output_type": "display_data"
    }
   ],
   "source": [
    "# Создадим таблицу только с платформой WiiU\n",
    "WiiU_platform = ['WiiU']\n",
    "data_WiiU = data_top_5_platform.query('platform == @WiiU_platform')\n",
    "\n",
    "# И оставим в таблице только столбцы с итоговыми продажами и отзывы от игроков и критиков\n",
    "data_WiiU = data_WiiU[['platform', 'critic_score', 'user_score', 'all_sales']]\n",
    "\n",
    "# Создадим одну строку с двумя колонками\n",
    "fig, axes = plt.subplots(1, 2, figsize=(16, 5))\n",
    "\n",
    "# Построим диаграмму рассеяния в соотношении отзывов критиков и копий продаж\n",
    "plt.style.use  ('ggplot')\n",
    "data_WiiU.plot(x=\"critic_score\", y=\"all_sales\", kind=\"scatter\", ax=axes[0])\n",
    "\n",
    "# Создадим гиаграмму рассеяния в соотношении отзывов игроков и копий продаж\n",
    "data_WiiU.plot(x=\"user_score\", y=\"all_sales\", kind=\"scatter\", ax=axes[1])\n",
    "\n",
    "# Добавим подписи для каждой колонки \n",
    "axes[0].set_xlabel('Рейтинг от критиков')\n",
    "axes[0].set_ylabel('Количество проданных копий')\n",
    "axes[1].set_xlabel('Рейтинг от игроков')\n",
    "axes[1].set_ylabel('Количество проданных копий')\n",
    "\n",
    "# Добавим общий заголовок\n",
    "fig.suptitle('Зависимость между продажами по платформе WiiU и отзывами от критиков и игроков');\n",
    "\n",
    "# И выведем числовую зависимость с помощью метода corr ()\n",
    "data_WiiU.corr()"
   ]
  },
  {
   "cell_type": "code",
   "execution_count": 27,
   "metadata": {},
   "outputs": [
    {
     "data": {
      "text/html": [
       "<div>\n",
       "<style scoped>\n",
       "    .dataframe tbody tr th:only-of-type {\n",
       "        vertical-align: middle;\n",
       "    }\n",
       "\n",
       "    .dataframe tbody tr th {\n",
       "        vertical-align: top;\n",
       "    }\n",
       "\n",
       "    .dataframe thead th {\n",
       "        text-align: right;\n",
       "    }\n",
       "</style>\n",
       "<table border=\"1\" class=\"dataframe\">\n",
       "  <thead>\n",
       "    <tr style=\"text-align: right;\">\n",
       "      <th></th>\n",
       "      <th>critic_score</th>\n",
       "      <th>user_score</th>\n",
       "      <th>all_sales</th>\n",
       "    </tr>\n",
       "  </thead>\n",
       "  <tbody>\n",
       "    <tr>\n",
       "      <td>critic_score</td>\n",
       "      <td>1.000000</td>\n",
       "      <td>0.699199</td>\n",
       "      <td>0.094488</td>\n",
       "    </tr>\n",
       "    <tr>\n",
       "      <td>user_score</td>\n",
       "      <td>0.699199</td>\n",
       "      <td>1.000000</td>\n",
       "      <td>-0.004339</td>\n",
       "    </tr>\n",
       "    <tr>\n",
       "      <td>all_sales</td>\n",
       "      <td>0.094488</td>\n",
       "      <td>-0.004339</td>\n",
       "      <td>1.000000</td>\n",
       "    </tr>\n",
       "  </tbody>\n",
       "</table>\n",
       "</div>"
      ],
      "text/plain": [
       "              critic_score  user_score  all_sales\n",
       "critic_score      1.000000    0.699199   0.094488\n",
       "user_score        0.699199    1.000000  -0.004339\n",
       "all_sales         0.094488   -0.004339   1.000000"
      ]
     },
     "execution_count": 27,
     "metadata": {},
     "output_type": "execute_result"
    },
    {
     "data": {
      "image/png": "[encoded data removed]",
      "text/plain": [
       "<Figure size 1152x360 with 2 Axes>"
      ]
     },
     "metadata": {},
     "output_type": "display_data"
    }
   ],
   "source": [
    "# Создадим таблицу только с платформой PSV\n",
    "PSV_platform = ['PSV']\n",
    "data_PSV = data_top_5_platform.query('platform == @PSV_platform')\n",
    "\n",
    "# И оставим в таблице только столбцы с итоговыми продажами и отзывы от игроков и критиков\n",
    "data_PSV = data_PSV[['platform', 'critic_score', 'user_score', 'all_sales']]\n",
    "\n",
    "# Создадим одну строку с двумя колонками\n",
    "fig, axes = plt.subplots(1, 2, figsize=(16, 5))\n",
    "\n",
    "# Построим диаграмму рассеяния в соотношении отзывов критиков и копий продаж\n",
    "plt.style.use  ('ggplot')\n",
    "data_PSV.plot(x=\"critic_score\", y=\"all_sales\", kind=\"scatter\", ax=axes[0])\n",
    "\n",
    "# Создадим гиаграмму рассеяния в соотношении отзывов игроков и копий продаж\n",
    "data_PSV.plot(x=\"user_score\", y=\"all_sales\", kind=\"scatter\", ax=axes[1])\n",
    "\n",
    "# Добавим подписи для каждой колонки \n",
    "axes[0].set_xlabel('Рейтинг от критиков')\n",
    "axes[0].set_ylabel('Количество проданных копий')\n",
    "axes[1].set_xlabel('Рейтинг от игроков')\n",
    "axes[1].set_ylabel('Количество проданных копий')\n",
    "\n",
    "# Добавим общий заголовок\n",
    "fig.suptitle('Зависимость между продажами по платформе PSV и отзывами от критиков и игроков');\n",
    "\n",
    "# И выведем числовую зависимость с помощью метода corr ()\n",
    "data_PSV.corr()"
   ]
  },
  {
   "cell_type": "markdown",
   "metadata": {},
   "source": [
    "#### Вывод"
   ]
  },
  {
   "cell_type": "markdown",
   "metadata": {},
   "source": [
    "Судя по левой диаграмме рассеяния, есть зависимость между продажами и отзывами от критиков, чем выше отзывы у критиков, тем больше продаж, особенно псоле оценки в 70 баллов из 100.\n",
    "\n",
    "По правой же диаграмме нет, такой прямой зависимости, от отзывов игроков и количествам продаж. Но при оценки после 6 баллов из 9, идут более активные продажи, но нет больших продаж в количествам миллиона копий.\n",
    "\n",
    "По числовой корреляции тоже видно, что продажи больше зависят от оценки критиков, но не 100%.\n",
    "\n",
    "Наверное, игроки больше доверяют критикам, чем другим игрокам."
   ]
  },
  {
   "cell_type": "markdown",
   "metadata": {},
   "source": [
    "### Посмотрим какой жанр игры самый прибыльный."
   ]
  },
  {
   "cell_type": "code",
   "execution_count": 28,
   "metadata": {},
   "outputs": [
    {
     "data": {
      "image/png": "[encoded data removed]",
      "text/plain": [
       "<Figure size 864x360 with 1 Axes>"
      ]
     },
     "metadata": {},
     "output_type": "display_data"
    }
   ],
   "source": [
    "# Построим график где будет указано количество выпущенных игр того или иного жанра по годам\n",
    "data_top_5_platform[['all_sales', 'year_of_release', 'genre']]\\\n",
    ".groupby(['year_of_release', 'genre']).sum().unstack('genre').plot(kind='bar', figsize=(12,5));\n",
    "plt.legend(bbox_to_anchor=(1.05, 1));"
   ]
  },
  {
   "cell_type": "markdown",
   "metadata": {},
   "source": [
    "Лидирующий жанр следует выбрать по средним продажам"
   ]
  },
  {
   "cell_type": "code",
   "execution_count": 29,
   "metadata": {},
   "outputs": [
    {
     "data": {
      "image/png": "[encoded data removed]",
      "text/plain": [
       "<Figure size 864x360 with 1 Axes>"
      ]
     },
     "metadata": {},
     "output_type": "display_data"
    }
   ],
   "source": [
    "# Создадим сводную таблицу, где будут указаны жанры и их средние общие продажи\n",
    "sales_genres  = data_top_5_platform.groupby(['genre'])\\\n",
    "                        .agg({'all_sales':'mean'})\\\n",
    "\n",
    "# Построим на основании сводной таблицы график\n",
    "sales_genres.plot(kind='bar', figsize=(12,5));"
   ]
  },
  {
   "cell_type": "markdown",
   "metadata": {},
   "source": [
    "#### Вывод"
   ]
  },
  {
   "cell_type": "markdown",
   "metadata": {},
   "source": [
    "За поcледние 5 лет больше всего игр выходят в жанрах это Action, Shooter и Sports.\n",
    "\n",
    "Меньше всего жанров Strategy, Puzzle и Adventure.\n",
    "\n",
    "Но при этом самые прибыльные жанры это Shooter, Platform и Sports.\n",
    "\n",
    "Меньше всего прибыли приносят игры жанров Adventure, Puzzle и Strategy."
   ]
  },
  {
   "cell_type": "markdown",
   "metadata": {},
   "source": [
    "### Вывод"
   ]
  },
  {
   "cell_type": "markdown",
   "metadata": {},
   "source": [
    "В итоге за основную таблицу, на основе которой у меня будут проводится дальнейшие расчёты, я взяла следующие параметры:\n",
    " - Год выпуска игр после 1993 года;\n",
    " - Платформы имеющие на 2016 год продажи: PS4, PC, XOne, WiiU, PSV;\n",
    "\n",
    "Также выявила следующие закономерности:\n",
    " - После отзывов критиков с оценкой не менее 70 из 100 идут более высокие продажи;\n",
    " - Отзывы игроков не сильно влияют на уровень продаж;\n",
    " - Самые прибыльные жанры: Shooter, Platform и Sports;\n",
    " - Жанры с самыми низкими продажами: Strategy, Puzzle и Adventure."
   ]
  },
  {
   "cell_type": "markdown",
   "metadata": {},
   "source": [
    "## Шаг 4. Составление портрета пользователя каждого региона"
   ]
  },
  {
   "cell_type": "markdown",
   "metadata": {},
   "source": [
    "### Рассмотрим самые популярные платформы."
   ]
  },
  {
   "cell_type": "markdown",
   "metadata": {},
   "source": [
    "Определите для пользователя каждого региона (NA, EU, JP):\n",
    " - Самые популярные платформы (топ-5). Опишите различия в долях продаж."
   ]
  },
  {
   "cell_type": "code",
   "execution_count": 30,
   "metadata": {},
   "outputs": [
    {
     "data": {
      "image/png": "[encoded data removed]",
      "text/plain": [
       "<Figure size 864x360 with 1 Axes>"
      ]
     },
     "metadata": {},
     "output_type": "display_data"
    },
    {
     "data": {
      "image/png": "[encoded data removed]",
      "text/plain": [
       "<Figure size 864x360 with 1 Axes>"
      ]
     },
     "metadata": {},
     "output_type": "display_data"
    },
    {
     "data": {
      "image/png": "[encoded data removed]",
      "text/plain": [
       "<Figure size 864x360 with 1 Axes>"
      ]
     },
     "metadata": {},
     "output_type": "display_data"
    }
   ],
   "source": [
    "# Создадим график где будет видна зависимость платформы и продаж в Северной Америке\n",
    "data_top_5_platform.pivot_table(index='platform', values='na_sales', aggfunc='sum').plot(kind='bar', figsize=(12,5))\n",
    "plt.show()  \n",
    "\n",
    "# Создадим график где будет видна зависимость платформы и продаж в Европе\n",
    "data_top_5_platform.pivot_table(index='platform', values='eu_sales', aggfunc='sum').plot(kind='bar', figsize=(12,5))\n",
    "plt.show()\n",
    "\n",
    "# Создадим график где будет видна зависимость платформы и продаж в Японии\n",
    "data_top_5_platform.pivot_table(index='platform', values='jp_sales', aggfunc='sum').plot(kind='bar', figsize=(12,5));"
   ]
  },
  {
   "cell_type": "markdown",
   "metadata": {},
   "source": [
    "#### Вывод"
   ]
  },
  {
   "cell_type": "markdown",
   "metadata": {},
   "source": [
    "Самые любимые платформы в Северной Америке это: PS4, XOne и WiiU соответственно.\n",
    "\n",
    "У Европы - PS4, XOne и PC.\n",
    "\n",
    "В Японии - PSV, PS4 и WiiU."
   ]
  },
  {
   "cell_type": "markdown",
   "metadata": {},
   "source": [
    "### Рассмотрим самые популярные жанры."
   ]
  },
  {
   "cell_type": "code",
   "execution_count": 31,
   "metadata": {},
   "outputs": [
    {
     "data": {
      "image/png": "[encoded data removed]",
      "text/plain": [
       "<Figure size 864x360 with 1 Axes>"
      ]
     },
     "metadata": {},
     "output_type": "display_data"
    }
   ],
   "source": [
    "# Построим график где будет указано количество проданных игр того или иного жанра по годам для Северной Америки\n",
    "data_top_5_platform[['na_sales', 'year_of_release', 'genre']]\\\n",
    ".groupby(['year_of_release', 'genre']).sum().unstack('genre').plot(kind='bar', figsize=(12,5))\n",
    "plt.legend(bbox_to_anchor=(1.05, 1));"
   ]
  },
  {
   "cell_type": "code",
   "execution_count": 32,
   "metadata": {},
   "outputs": [
    {
     "data": {
      "image/png": "[encoded data removed]",
      "text/plain": [
       "<Figure size 864x360 with 1 Axes>"
      ]
     },
     "metadata": {},
     "output_type": "display_data"
    }
   ],
   "source": [
    "# Построим график где будет указано количество проданных игр того или иного жанра по годам для Европы\n",
    "data_top_5_platform[['eu_sales', 'year_of_release', 'genre']]\\\n",
    ".groupby(['year_of_release', 'genre']).sum().unstack('genre').plot(kind='bar', figsize=(12,5))\n",
    "plt.legend(bbox_to_anchor=(1.05, 1));"
   ]
  },
  {
   "cell_type": "code",
   "execution_count": 33,
   "metadata": {},
   "outputs": [
    {
     "data": {
      "image/png": "[encoded data removed]",
      "text/plain": [
       "<Figure size 864x360 with 1 Axes>"
      ]
     },
     "metadata": {},
     "output_type": "display_data"
    }
   ],
   "source": [
    "# Построим график где будет указано количество проданных игр того или иного жанра по годам для Японии\n",
    "data_top_5_platform[['jp_sales', 'year_of_release', 'genre']]\\\n",
    ".groupby(['year_of_release', 'genre']).sum().unstack('genre').plot(kind='bar', figsize=(12,5))\n",
    "plt.legend(bbox_to_anchor=(1.05, 1));"
   ]
  },
  {
   "cell_type": "markdown",
   "metadata": {},
   "source": [
    "#### Вывод"
   ]
  },
  {
   "cell_type": "markdown",
   "metadata": {},
   "source": [
    "В каждом регионе свой топ 3 любимых жанров:\n",
    " - для Северной Америки это: Action, Shooter и Sports\n",
    " - для Европы - Action, Shooter и Sports\n",
    " - а для Японии это: Action, Role - Playing и Shooter\n",
    " \n",
    "Возможно жанр ролевых игр пользуется успехов в Японии, потому что есть особый вид ролевых игр - JRPG — (англ. Japanese Role-Playing Game) — японская ролевая игра. Если быть точным, это особый поджанр RPG со своими особенностями, отличные от западных представителей жанра."
   ]
  },
  {
   "cell_type": "markdown",
   "metadata": {},
   "source": [
    "### Посмотрим как влияет рейтинг ESRB на продажи"
   ]
  },
  {
   "cell_type": "code",
   "execution_count": 34,
   "metadata": {
    "scrolled": false
   },
   "outputs": [
    {
     "data": {
      "image/png": "[encoded data removed]",
      "text/plain": [
       "<Figure size 864x360 with 1 Axes>"
      ]
     },
     "metadata": {},
     "output_type": "display_data"
    },
    {
     "data": {
      "image/png": "[encoded data removed]",
      "text/plain": [
       "<Figure size 864x360 with 1 Axes>"
      ]
     },
     "metadata": {},
     "output_type": "display_data"
    },
    {
     "data": {
      "image/png": "[encoded data removed]",
      "text/plain": [
       "<Figure size 864x360 with 1 Axes>"
      ]
     },
     "metadata": {},
     "output_type": "display_data"
    }
   ],
   "source": [
    "# Заменим пропущенные значения в столбце rating, например, на X, чтобы увидеть, как популярны игры без рейтинга\n",
    "data_top_5_platform['rating'] = data_top_5_platform['rating'].fillna('X')\n",
    "\n",
    "# Создадим график где будет видна зависимость рейтинга ESRB и продаж в Северной Америке\n",
    "data_top_5_platform.pivot_table(index='rating', values='na_sales', aggfunc='sum').plot(kind='bar', figsize=(12,5))\n",
    "plt.show()  \n",
    "\n",
    "# Создадим график где будет видна зависимость рейтинга ESRB и продаж в Европе\n",
    "data_top_5_platform.pivot_table(index='rating', values='eu_sales', aggfunc='sum').plot(kind='bar', figsize=(12,5))\n",
    "plt.show()\n",
    "\n",
    "# Создадим график где будет видна зависимость рейтинга ESRB и продаж в Японии\n",
    "data_top_5_platform.pivot_table(index='rating', values='jp_sales', aggfunc='sum').plot(kind='bar', figsize=(12,5));"
   ]
  },
  {
   "cell_type": "markdown",
   "metadata": {},
   "source": [
    "#### Вывод"
   ]
  },
  {
   "cell_type": "markdown",
   "metadata": {},
   "source": [
    "Самый непопурный рейтинг во всех регионах это E10+ - «Для всех от 10 лет и старше».\n",
    "\n",
    "Самыйе популярные игры для Северной Америки и Европы имеют рейтинг M - «Для взрослых»: Материалы игры не подходят для подростков младше 17 лет.\n",
    "\n",
    "Самые популярные игры для Японии имеют рейтинг T - «Подросткам»: Игра подходит для лиц от 13 лет."
   ]
  },
  {
   "cell_type": "markdown",
   "metadata": {},
   "source": [
    "### Вывод"
   ]
  },
  {
   "cell_type": "markdown",
   "metadata": {},
   "source": [
    "Для игроков из Северной Америки характерны следующие черты:\n",
    " - Любимые платформы это: PS4, XOne и WiiU;\n",
    " - Любимые жанры: Action, Shooter и Sports;\n",
    " - Самые популярные игры имеют рейтинг M - для взрослых;\n",
    " - Самые непопурные игры имеют рейтинг E10+ - «Для всех от 10 лет и старше».\n",
    " \n",
    "Для игроков из Европы характерны следующие черты:\n",
    " - Любимые платформы это: PS4, XOne и PC;\n",
    " - Любимые жанры: Action, Shooter и Sports;\n",
    " - Самые популярные игры имеют рейтинг M - для взрослых;\n",
    " - Самые непопурные игры имеют рейтинг E10+ - «Для всех от 10 лет и старше».\n",
    " \n",
    "Для игроков из Японии характерны следующие черты:\n",
    " - Любимые платформы это: PSV, PS4 и WiiU;\n",
    " - Любимые жанры: Action, Role - Playing и Shooter;\n",
    " - Самые популярные игры имеют рейтинг T - Подросткам;\n",
    " - Самые непопурные игры имеют рейтинг E10+ - «Для всех от 10 лет и старше»."
   ]
  },
  {
   "cell_type": "markdown",
   "metadata": {},
   "source": [
    "## Шаг 5. Проверка гипотез"
   ]
  },
  {
   "cell_type": "markdown",
   "metadata": {},
   "source": [
    "### Гипотеза: Средние пользовательские рейтинги платформ Xbox One и PC одинаковые"
   ]
  },
  {
   "cell_type": "markdown",
   "metadata": {},
   "source": [
    "Нулевая гипотеза звучит так: Средние пользовательские рейтинги платформ Xbox One и PC совпадают.\n",
    "\n",
    "Альтернативная: что они отличаются."
   ]
  },
  {
   "cell_type": "code",
   "execution_count": 35,
   "metadata": {},
   "outputs": [],
   "source": [
    "# Создадим таблицу только для платформы Xone\n",
    "data_XOne  = data_top_5_platform[data_top_5_platform['platform'] == 'XOne']\n",
    "# Удалим все пропущенные значения в столбце user_score\n",
    "data_XOne.dropna(subset = ['user_score'], inplace = True)\n",
    "\n",
    "# Создадим таблицу только для платформы PC\n",
    "data_PC  = data_top_5_platform[data_top_5_platform['platform'] == 'PC']\n",
    "# Удалим все пропущенные значения в столбце user_score\n",
    "data_PC.dropna(subset = ['user_score'], inplace = True)\n",
    "\n",
    "import warnings\n",
    "warnings.filterwarnings(\"ignore\")"
   ]
  },
  {
   "cell_type": "code",
   "execution_count": 36,
   "metadata": {},
   "outputs": [
    {
     "name": "stdout",
     "output_type": "stream",
     "text": [
      "Дисперсия по платформе XOne: 1.9069968429360695\n",
      "Дисперсия по платформе PC: 2.770443997158418\n"
     ]
    }
   ],
   "source": [
    "# Посмотрим на дисперсии наших выборок\n",
    "\n",
    "# рассчитаем дисперсию для платформы Xone\n",
    "# Так как выборка в нашей изначальной таблице может быть неполной, то ddorf = 1\n",
    "dispersion_XOne = np.var(data_XOne['user_score'], ddof = 1)\n",
    "\n",
    "# рассчитаем дисперсию для платформы PC\n",
    "dispersion_PC = np.var(data_PC['user_score'], ddof = 1)\n",
    "\n",
    "# И выведем их на экран\n",
    "print('Дисперсия по платформе XOne:', dispersion_XOne)\n",
    "print('Дисперсия по платформе PC:', dispersion_PC)"
   ]
  },
  {
   "cell_type": "markdown",
   "metadata": {},
   "source": [
    "Значит нам нужно использовать equal_var = False"
   ]
  },
  {
   "cell_type": "code",
   "execution_count": 37,
   "metadata": {},
   "outputs": [
    {
     "name": "stdout",
     "output_type": "stream",
     "text": [
      "cредний пользовательский рейтинг платформы XOne:  6.521428571428572\n",
      "cредний пользовательский рейтинг платформы PC:  6.4286407766990274\n",
      "p-значение: 0.5489537965134912\n",
      "Не получилось отвергнуть нулевую гипотезу\n"
     ]
    }
   ],
   "source": [
    "# Выведем на экран средние пользовательские рейтинги для платформ XOne и PC.\n",
    "print('cредний пользовательский рейтинг платформы XOne: ', data_XOne['user_score'].mean())\n",
    "print('cредний пользовательский рейтинг платформы PC: ', data_PC['user_score'].mean())\n",
    "\n",
    "alpha = 0.05\n",
    "results = st.ttest_ind(data_XOne['user_score'], data_PC['user_score'], equal_var = False) \n",
    "print('p-значение:', results.pvalue)\n",
    "\n",
    "if results.pvalue < alpha:\n",
    "    print(\"Отвергаем нулевую гипотезу\")\n",
    "else:\n",
    "    print(\"Не получилось отвергнуть нулевую гипотезу\")"
   ]
  },
  {
   "cell_type": "markdown",
   "metadata": {},
   "source": [
    "#### Вывод"
   ]
  },
  {
   "cell_type": "markdown",
   "metadata": {},
   "source": [
    "Раз нулевая гипотеза с формулировкой, что средние пользовательские рейтинги платформ Xbox One и PC совпадают. Выходит, что средние пользовательские рейтинги отличаются. В сторону игроков платформы PC. У них в среднем рейтинг выше на 0,5 балла из 10, чем у игроков платформы XOne.\n",
    "\n",
    "Так что мы отвергаем гипотезу по нашей выборке."
   ]
  },
  {
   "cell_type": "markdown",
   "metadata": {},
   "source": [
    "### Гипотеза: Средние пользовательские рейтинги жанров Action и Sports разные."
   ]
  },
  {
   "cell_type": "markdown",
   "metadata": {},
   "source": [
    "Нулевая гипотеза звучит так: средние пользовательские рейтинги жанров Action и Sports совпадают.\n",
    "\n",
    "Альтернативная: что они отличаются."
   ]
  },
  {
   "cell_type": "code",
   "execution_count": 38,
   "metadata": {},
   "outputs": [],
   "source": [
    "# Создадим таблицу только для жанра Action\n",
    "data_Action  = data_top_5_platform[data_top_5_platform['genre'] == 'Action']\n",
    "# Удалим все пропущенные значения в столбце user_score\n",
    "data_Action.dropna(subset = ['user_score'], inplace = True)\n",
    "\n",
    "# Создадим таблицу только для жанра Sports\n",
    "data_Sports  = data_top_5_platform[data_top_5_platform['genre'] == 'Sports']\n",
    "# Удалим все пропущенные значения в столбце user_score\n",
    "data_Sports.dropna(subset = ['user_score'], inplace = True)"
   ]
  },
  {
   "cell_type": "code",
   "execution_count": 39,
   "metadata": {},
   "outputs": [
    {
     "name": "stdout",
     "output_type": "stream",
     "text": [
      "Дисперсия по жанру Action: 1.6964019433582178\n",
      "Дисперсия по жанру Sports: 2.57964953271028\n"
     ]
    }
   ],
   "source": [
    "# Посмотрим на дисперсии наших выборок\n",
    "\n",
    "# рассчитаем дисперсию для жанра Action\n",
    "# Так как выборка в нашей изначальной таблице может быть неполной, то ddorf = 1\n",
    "dispersion_Action = np.var(data_Action['user_score'], ddof = 1)\n",
    "\n",
    "# рассчитаем дисперсию для жанра Sports\n",
    "dispersion_Sports = np.var(data_Sports['user_score'], ddof = 1)\n",
    "\n",
    "# И выведем их на экран\n",
    "print('Дисперсия по жанру Action:', dispersion_Action)\n",
    "print('Дисперсия по жанру Sports:', dispersion_Sports)"
   ]
  },
  {
   "cell_type": "markdown",
   "metadata": {},
   "source": [
    "Значит нам нужно использовать equal_var = False"
   ]
  },
  {
   "cell_type": "code",
   "execution_count": 40,
   "metadata": {},
   "outputs": [
    {
     "name": "stdout",
     "output_type": "stream",
     "text": [
      "cредний пользовательский рейтинг жанра Action:  6.903436426116839\n",
      "cредний пользовательский рейтинг жанра Sports:  5.658333333333332\n",
      "p-значение: 1.879412529507438e-11\n",
      "Отвергаем нулевую гипотезу\n"
     ]
    }
   ],
   "source": [
    "# Выведем на экран средние пользовательские рейтинги для платформ XOne и PC.\n",
    "print('cредний пользовательский рейтинг жанра Action: ', data_Action['user_score'].mean())\n",
    "print('cредний пользовательский рейтинг жанра Sports: ', data_Sports['user_score'].mean())\n",
    "\n",
    "alpha = 0.05\n",
    "results = st.ttest_ind(data_Action['user_score'], data_Sports['user_score'], equal_var = False) \n",
    "print('p-значение:', results.pvalue)\n",
    "\n",
    "if results.pvalue < alpha:\n",
    "    print(\"Отвергаем нулевую гипотезу\")\n",
    "else:\n",
    "    print(\"Не получилось отвергнуть нулевую гипотезу\")"
   ]
  },
  {
   "cell_type": "markdown",
   "metadata": {},
   "source": [
    "#### Вывод"
   ]
  },
  {
   "cell_type": "markdown",
   "metadata": {},
   "source": [
    "Раз нулевая гипотеза с формулировкой, что средние пользовательские рейтинги жанров Action и Sports совпадают, отвергается. Выходит, что средние пользовательские рейтинги отличаются. В сторону игроков жанра Action. У них в среднем рейтинг выше на 1,2 балла из 10, чем у игроков платформы Sports.\n",
    "\n",
    "Так что по нашей выборке мы не можем опровергнуть гипотезу, что средние пользовательские рейтинги жанров Action и Sports разные."
   ]
  },
  {
   "cell_type": "markdown",
   "metadata": {},
   "source": [
    "### Вывод"
   ]
  },
  {
   "cell_type": "markdown",
   "metadata": {},
   "source": [
    "По данной нам выборке мы не смогли опровергнуть гипотезу:\n",
    "\n",
    "    Средние пользовательские рейтинги жанров Action и Sports разные.\n",
    "\n",
    "Но опровергли гипотезу:\n",
    "\n",
    "    Средние пользовательские рейтинги платформ Xbox One и PC одинаковые."
   ]
  },
  {
   "cell_type": "markdown",
   "metadata": {},
   "source": [
    "## Общий вывод"
   ]
  },
  {
   "cell_type": "markdown",
   "metadata": {},
   "source": [
    "В данной работе мы рассмотрели данные до 2016 года.\n",
    "Заменили некоторые значения:\n",
    " - Оценку tbd на пропущенные в столбце с отзывы от игроков;\n",
    " - Изменили рейтинг K-A на E в столбце с рейтингом ESRB;\n",
    " - Изменили рейтинг RP на Nan в столбце с рейтингом ESRB.\n",
    " \n",
    "Добавили новый столбец:\n",
    "\n",
    " - С продажами во всем регионах.\n",
    "  \n",
    "Рассмотрели сколько игр выпускалось в разные года. Сделали отборку, что не будем рассматривать выпуск игр до 1993 года\n",
    "\n",
    "Рассмотрели как меняли продажи по платформам, и сделали отборку, что не будем рассматривать платформы, которые не имеют продажи на 2016 годы, в итоге остались следующие платформы: PS4, PC, XOne, WiiU, PSV.\n",
    "\n",
    "Рассмотрели, как влияют отзывы критиков и игроков на продажи. Большая зависимость выстраивается между отзывами критиков и продажами, чем между отзывами игроков и продажами.\n",
    "\n",
    "Вывели cамые прибыльные жанры: Shooter, Platform и Sports.\n",
    "\n",
    "И самые непопулярные жанры: Strategy, Puzzle и Adventure\n",
    "\n",
    "Составили портреты для пользователей региона:\n",
    "\n",
    "Для игроков из Северной Америки характерны следующие черты:\n",
    "\n",
    "    Любимые платформы это: PS4, XOne и WiiU;\n",
    "    Любимые жанры: Action, Shooter и Sports;\n",
    "    Самые популярные игры имеют рейтинг M - для взрослых;\n",
    "    Самые непопулярные игры имею рейтинг EC - для детей младшего возраста.\n",
    "\n",
    "Для игроков из Европы характерны следующие черты:\n",
    "\n",
    "    Любимые платформы это: PS4, XOne и PC;\n",
    "    Любимые жанры: Action, Shooter и Sports;\n",
    "    Самые популярные игры имеют рейтинг M - для взрослых;\n",
    "    Самые непопулярные игры имею рейтинг EC - для детей младшего возраста.\n",
    "\n",
    "Для игроков из Японии характерны следующие черты:\n",
    "\n",
    "    Любимые платформы это: PSV, PS4 и WiiU;\n",
    "    Любимые жанры: Action, Role - Playing и Shooter;\n",
    "    Самые популярные игры имеют рейтинг T - Подросткам;\n",
    "    Самые непопулярные игры имею рейтинг EC - для детей младшего возраста.\n",
    "\n",
    "Также проверили две гипотезы.\n",
    "Гипотезу:\n",
    "\n",
    " - Средние пользовательские рейтинги платформ Xbox One и PC одинаковые\n",
    " \n",
    "Мы опровергли данную гипотезу:\n",
    "\n",
    "1) Средний пользовательский рейтинг платформы XOne:  6.521428571428572\n",
    "\n",
    "2) Средний пользовательский рейтинг платформы PC:  7.072606382978724\n",
    " \n",
    "Игроки платформы pc имеют более восторженные отзывы от игроков этой же платформы, чем игроки платформы XOne. \n",
    "\n",
    "Гипотезу:\n",
    "\n",
    " - Средние пользовательские рейтинги жанров Action и Sports разные.\n",
    "\n",
    "Мы не можем опровергнуть, ведь:\n",
    " \n",
    "1) Cредний пользовательский рейтинг жанра Action:  6.967015706806283\n",
    "\n",
    "2) Cредний пользовательский рейтинг жанра Sports:  5.793798449612404\n",
    "\n",
    "Потенциально успешные характеристики игра на 2017 год:\n",
    " - Игра на платформе PS4;\n",
    " - Жанром Shooter, Platform или Sports;\n",
    " - С рейтингом M - для Северной Америки или Европы, или T - для Японии."
   ]
  }
 ],
 "metadata": {
  "ExecuteTimeLog": [
   {
    "duration": 420,
    "start_time": "2021-06-09T13:35:16.974Z"
   },
   {
    "duration": 1736,
    "start_time": "2021-06-09T13:35:25.652Z"
   },
   {
    "duration": 58,
    "start_time": "2021-06-09T13:35:27.390Z"
   },
   {
    "duration": 14,
    "start_time": "2021-06-09T13:35:27.451Z"
   },
   {
    "duration": 24,
    "start_time": "2021-06-09T13:35:27.468Z"
   },
   {
    "duration": 33,
    "start_time": "2021-06-09T13:35:27.495Z"
   },
   {
    "duration": 13,
    "start_time": "2021-06-09T13:35:27.531Z"
   },
   {
    "duration": 32,
    "start_time": "2021-06-09T13:35:27.546Z"
   },
   {
    "duration": 14,
    "start_time": "2021-06-09T13:35:27.583Z"
   },
   {
    "duration": 54,
    "start_time": "2021-06-09T13:35:27.601Z"
   },
   {
    "duration": 12,
    "start_time": "2021-06-09T13:35:27.658Z"
   },
   {
    "duration": 6,
    "start_time": "2021-06-09T13:35:27.673Z"
   },
   {
    "duration": 11,
    "start_time": "2021-06-09T13:35:27.681Z"
   },
   {
    "duration": 40,
    "start_time": "2021-06-09T13:35:27.695Z"
   },
   {
    "duration": 660,
    "start_time": "2021-06-09T13:35:27.738Z"
   },
   {
    "duration": 7,
    "start_time": "2021-06-09T13:35:28.401Z"
   },
   {
    "duration": 23,
    "start_time": "2021-06-09T13:35:28.425Z"
   },
   {
    "duration": 2593,
    "start_time": "2021-06-09T13:35:28.451Z"
   },
   {
    "duration": 245,
    "start_time": "2021-06-09T13:35:31.047Z"
   },
   {
    "duration": 3358,
    "start_time": "2021-06-09T13:36:18.572Z"
   },
   {
    "duration": 3286,
    "start_time": "2021-06-09T13:38:36.813Z"
   },
   {
    "duration": 1616,
    "start_time": "2021-06-09T13:39:02.881Z"
   },
   {
    "duration": 68,
    "start_time": "2021-06-09T13:39:04.500Z"
   },
   {
    "duration": 19,
    "start_time": "2021-06-09T13:39:04.572Z"
   },
   {
    "duration": 55,
    "start_time": "2021-06-09T13:39:04.594Z"
   },
   {
    "duration": 4,
    "start_time": "2021-06-09T13:39:04.652Z"
   },
   {
    "duration": 11,
    "start_time": "2021-06-09T13:39:04.659Z"
   },
   {
    "duration": 13,
    "start_time": "2021-06-09T13:39:04.672Z"
   },
   {
    "duration": 40,
    "start_time": "2021-06-09T13:39:04.689Z"
   },
   {
    "duration": 43,
    "start_time": "2021-06-09T13:39:04.732Z"
   },
   {
    "duration": 11,
    "start_time": "2021-06-09T13:39:04.777Z"
   },
   {
    "duration": 34,
    "start_time": "2021-06-09T13:39:04.791Z"
   },
   {
    "duration": 5,
    "start_time": "2021-06-09T13:39:04.828Z"
   },
   {
    "duration": 15,
    "start_time": "2021-06-09T13:39:04.836Z"
   },
   {
    "duration": 672,
    "start_time": "2021-06-09T13:39:04.853Z"
   },
   {
    "duration": 8,
    "start_time": "2021-06-09T13:39:05.527Z"
   },
   {
    "duration": 31,
    "start_time": "2021-06-09T13:39:05.538Z"
   },
   {
    "duration": 486,
    "start_time": "2021-06-09T13:39:05.571Z"
   },
   {
    "duration": 400,
    "start_time": "2021-06-09T13:39:05.659Z"
   },
   {
    "duration": 387,
    "start_time": "2021-06-09T13:39:19.433Z"
   },
   {
    "duration": 400,
    "start_time": "2021-06-09T13:39:43.619Z"
   },
   {
    "duration": 362,
    "start_time": "2021-06-09T13:39:50.612Z"
   },
   {
    "duration": 7407,
    "start_time": "2021-06-09T13:50:35.294Z"
   },
   {
    "duration": 2578,
    "start_time": "2021-06-09T13:51:09.751Z"
   },
   {
    "duration": 1567,
    "start_time": "2021-06-09T13:51:18.321Z"
   },
   {
    "duration": 53,
    "start_time": "2021-06-09T13:51:19.890Z"
   },
   {
    "duration": 13,
    "start_time": "2021-06-09T13:51:19.945Z"
   },
   {
    "duration": 26,
    "start_time": "2021-06-09T13:51:19.961Z"
   },
   {
    "duration": 3,
    "start_time": "2021-06-09T13:51:19.989Z"
   },
   {
    "duration": 34,
    "start_time": "2021-06-09T13:51:19.994Z"
   },
   {
    "duration": 12,
    "start_time": "2021-06-09T13:51:20.030Z"
   },
   {
    "duration": 7,
    "start_time": "2021-06-09T13:51:20.046Z"
   },
   {
    "duration": 74,
    "start_time": "2021-06-09T13:51:20.056Z"
   },
   {
    "duration": 11,
    "start_time": "2021-06-09T13:51:20.133Z"
   },
   {
    "duration": 6,
    "start_time": "2021-06-09T13:51:20.147Z"
   },
   {
    "duration": 8,
    "start_time": "2021-06-09T13:51:20.155Z"
   },
   {
    "duration": 12,
    "start_time": "2021-06-09T13:51:20.165Z"
   },
   {
    "duration": 674,
    "start_time": "2021-06-09T13:51:20.180Z"
   },
   {
    "duration": 7,
    "start_time": "2021-06-09T13:51:20.856Z"
   },
   {
    "duration": 22,
    "start_time": "2021-06-09T13:51:20.866Z"
   },
   {
    "duration": 2571,
    "start_time": "2021-06-09T13:51:20.890Z"
   },
   {
    "duration": 245,
    "start_time": "2021-06-09T13:51:23.464Z"
   },
   {
    "duration": 649,
    "start_time": "2021-06-09T13:51:45.933Z"
   },
   {
    "duration": 500,
    "start_time": "2021-06-09T13:52:42.743Z"
   },
   {
    "duration": 9190,
    "start_time": "2021-06-09T13:52:52.614Z"
   },
   {
    "duration": 11514,
    "start_time": "2021-06-09T13:53:08.695Z"
   },
   {
    "duration": 9564,
    "start_time": "2021-06-09T13:54:40.337Z"
   },
   {
    "duration": 9470,
    "start_time": "2021-06-09T13:55:12.112Z"
   },
   {
    "duration": 902,
    "start_time": "2021-06-09T14:23:17.247Z"
   },
   {
    "duration": 378,
    "start_time": "2021-06-09T14:23:25.224Z"
   },
   {
    "duration": 680,
    "start_time": "2021-06-09T14:23:34.052Z"
   },
   {
    "duration": 9393,
    "start_time": "2021-06-09T14:24:01.951Z"
   },
   {
    "duration": 496,
    "start_time": "2021-06-09T15:18:29.854Z"
   },
   {
    "duration": 1029,
    "start_time": "2021-06-09T15:18:40.743Z"
   },
   {
    "duration": 9,
    "start_time": "2021-06-09T15:28:17.355Z"
   },
   {
    "duration": 306,
    "start_time": "2021-06-09T15:46:15.673Z"
   },
   {
    "duration": 1634,
    "start_time": "2021-06-09T15:46:59.041Z"
   },
   {
    "duration": 56,
    "start_time": "2021-06-09T15:47:00.678Z"
   },
   {
    "duration": 14,
    "start_time": "2021-06-09T15:47:00.737Z"
   },
   {
    "duration": 27,
    "start_time": "2021-06-09T15:47:00.754Z"
   },
   {
    "duration": 4,
    "start_time": "2021-06-09T15:47:00.784Z"
   },
   {
    "duration": 38,
    "start_time": "2021-06-09T15:47:00.790Z"
   },
   {
    "duration": 22,
    "start_time": "2021-06-09T15:47:00.831Z"
   },
   {
    "duration": 21,
    "start_time": "2021-06-09T15:47:00.857Z"
   },
   {
    "duration": 50,
    "start_time": "2021-06-09T15:47:00.881Z"
   },
   {
    "duration": 13,
    "start_time": "2021-06-09T15:47:00.934Z"
   },
   {
    "duration": 7,
    "start_time": "2021-06-09T15:47:00.950Z"
   },
   {
    "duration": 23,
    "start_time": "2021-06-09T15:47:00.960Z"
   },
   {
    "duration": 15,
    "start_time": "2021-06-09T15:47:00.985Z"
   },
   {
    "duration": 740,
    "start_time": "2021-06-09T15:47:01.003Z"
   },
   {
    "duration": 7,
    "start_time": "2021-06-09T15:47:01.746Z"
   },
   {
    "duration": 30,
    "start_time": "2021-06-09T15:47:01.755Z"
   },
   {
    "duration": 9292,
    "start_time": "2021-06-09T15:47:01.787Z"
   },
   {
    "duration": 7,
    "start_time": "2021-06-09T15:47:11.082Z"
   },
   {
    "duration": 358,
    "start_time": "2021-06-09T15:47:11.092Z"
   },
   {
    "duration": 1435,
    "start_time": "2021-06-13T13:09:03.129Z"
   },
   {
    "duration": 39,
    "start_time": "2021-06-13T13:09:04.567Z"
   },
   {
    "duration": 13,
    "start_time": "2021-06-13T13:09:04.612Z"
   },
   {
    "duration": 48,
    "start_time": "2021-06-13T13:09:04.627Z"
   },
   {
    "duration": 4,
    "start_time": "2021-06-13T13:09:04.677Z"
   },
   {
    "duration": 9,
    "start_time": "2021-06-13T13:09:04.683Z"
   },
   {
    "duration": 15,
    "start_time": "2021-06-13T13:09:04.695Z"
   },
   {
    "duration": 7,
    "start_time": "2021-06-13T13:09:04.712Z"
   },
   {
    "duration": 68,
    "start_time": "2021-06-13T13:09:04.721Z"
   },
   {
    "duration": 11,
    "start_time": "2021-06-13T13:09:04.792Z"
   },
   {
    "duration": 6,
    "start_time": "2021-06-13T13:09:04.805Z"
   },
   {
    "duration": 42,
    "start_time": "2021-06-13T13:09:04.814Z"
   },
   {
    "duration": 16,
    "start_time": "2021-06-13T13:09:04.858Z"
   },
   {
    "duration": 570,
    "start_time": "2021-06-13T13:09:04.876Z"
   },
   {
    "duration": 12,
    "start_time": "2021-06-13T13:09:05.449Z"
   },
   {
    "duration": 23,
    "start_time": "2021-06-13T13:09:05.464Z"
   },
   {
    "duration": 8317,
    "start_time": "2021-06-13T13:09:05.490Z"
   },
   {
    "duration": 9,
    "start_time": "2021-06-13T13:09:13.809Z"
   },
   {
    "duration": 329,
    "start_time": "2021-06-13T13:09:13.820Z"
   },
   {
    "duration": 8,
    "start_time": "2021-06-13T13:17:22.465Z"
   },
   {
    "duration": 1393,
    "start_time": "2021-06-13T13:17:35.064Z"
   },
   {
    "duration": 40,
    "start_time": "2021-06-13T13:17:36.459Z"
   },
   {
    "duration": 12,
    "start_time": "2021-06-13T13:17:36.502Z"
   },
   {
    "duration": 49,
    "start_time": "2021-06-13T13:17:36.517Z"
   },
   {
    "duration": 5,
    "start_time": "2021-06-13T13:17:36.568Z"
   },
   {
    "duration": 16,
    "start_time": "2021-06-13T13:17:36.575Z"
   },
   {
    "duration": 14,
    "start_time": "2021-06-13T13:17:36.593Z"
   },
   {
    "duration": 7,
    "start_time": "2021-06-13T13:17:36.611Z"
   },
   {
    "duration": 68,
    "start_time": "2021-06-13T13:17:36.620Z"
   },
   {
    "duration": 11,
    "start_time": "2021-06-13T13:17:36.690Z"
   },
   {
    "duration": 6,
    "start_time": "2021-06-13T13:17:36.703Z"
   },
   {
    "duration": 11,
    "start_time": "2021-06-13T13:17:36.711Z"
   },
   {
    "duration": 38,
    "start_time": "2021-06-13T13:17:36.724Z"
   },
   {
    "duration": 610,
    "start_time": "2021-06-13T13:17:36.765Z"
   },
   {
    "duration": 8,
    "start_time": "2021-06-13T13:17:37.377Z"
   },
   {
    "duration": 21,
    "start_time": "2021-06-13T13:17:37.387Z"
   },
   {
    "duration": 8585,
    "start_time": "2021-06-13T13:17:37.411Z"
   },
   {
    "duration": 9,
    "start_time": "2021-06-13T13:17:45.998Z"
   },
   {
    "duration": 328,
    "start_time": "2021-06-13T13:17:46.009Z"
   },
   {
    "duration": 399,
    "start_time": "2021-06-13T13:22:09.099Z"
   },
   {
    "duration": 6,
    "start_time": "2021-06-13T13:22:47.079Z"
   },
   {
    "duration": 29,
    "start_time": "2021-06-13T13:23:00.555Z"
   },
   {
    "duration": 6,
    "start_time": "2021-06-13T13:23:12.057Z"
   },
   {
    "duration": 387,
    "start_time": "2021-06-13T13:23:37.236Z"
   },
   {
    "duration": 82,
    "start_time": "2021-06-13T13:24:06.632Z"
   },
   {
    "duration": 13,
    "start_time": "2021-06-13T13:24:44.763Z"
   },
   {
    "duration": 9,
    "start_time": "2021-06-13T13:24:58.243Z"
   },
   {
    "duration": 19,
    "start_time": "2021-06-13T13:25:46.180Z"
   },
   {
    "duration": 274,
    "start_time": "2021-06-13T13:26:03.916Z"
   },
   {
    "duration": 427,
    "start_time": "2021-06-13T13:28:06.131Z"
   },
   {
    "duration": 1294,
    "start_time": "2021-06-13T13:29:43.716Z"
   },
   {
    "duration": 843,
    "start_time": "2021-06-13T13:30:32.180Z"
   },
   {
    "duration": 705,
    "start_time": "2021-06-13T13:30:40.117Z"
   },
   {
    "duration": 718,
    "start_time": "2021-06-13T13:32:22.598Z"
   },
   {
    "duration": 16,
    "start_time": "2021-06-13T13:37:36.927Z"
   },
   {
    "duration": 30,
    "start_time": "2021-06-13T13:38:31.383Z"
   },
   {
    "duration": 1435,
    "start_time": "2021-06-13T13:40:13.118Z"
   },
   {
    "duration": 38,
    "start_time": "2021-06-13T13:40:14.556Z"
   },
   {
    "duration": 13,
    "start_time": "2021-06-13T13:40:14.597Z"
   },
   {
    "duration": 46,
    "start_time": "2021-06-13T13:40:14.613Z"
   },
   {
    "duration": 3,
    "start_time": "2021-06-13T13:40:14.661Z"
   },
   {
    "duration": 14,
    "start_time": "2021-06-13T13:40:14.666Z"
   },
   {
    "duration": 15,
    "start_time": "2021-06-13T13:40:14.682Z"
   },
   {
    "duration": 8,
    "start_time": "2021-06-13T13:40:14.702Z"
   },
   {
    "duration": 65,
    "start_time": "2021-06-13T13:40:14.713Z"
   },
   {
    "duration": 10,
    "start_time": "2021-06-13T13:40:14.781Z"
   },
   {
    "duration": 6,
    "start_time": "2021-06-13T13:40:14.793Z"
   },
   {
    "duration": 9,
    "start_time": "2021-06-13T13:40:14.801Z"
   },
   {
    "duration": 8,
    "start_time": "2021-06-13T13:40:14.812Z"
   },
   {
    "duration": 621,
    "start_time": "2021-06-13T13:40:14.823Z"
   },
   {
    "duration": 14,
    "start_time": "2021-06-13T13:40:15.446Z"
   },
   {
    "duration": 22,
    "start_time": "2021-06-13T13:40:15.462Z"
   },
   {
    "duration": 8395,
    "start_time": "2021-06-13T13:40:15.486Z"
   },
   {
    "duration": 10,
    "start_time": "2021-06-13T13:40:23.884Z"
   },
   {
    "duration": 324,
    "start_time": "2021-06-13T13:40:23.897Z"
   },
   {
    "duration": 7,
    "start_time": "2021-06-13T13:40:24.224Z"
   },
   {
    "duration": 950,
    "start_time": "2021-06-13T13:40:24.234Z"
   },
   {
    "duration": 11,
    "start_time": "2021-06-13T13:40:25.187Z"
   },
   {
    "duration": 21,
    "start_time": "2021-06-13T13:40:25.203Z"
   },
   {
    "duration": 750,
    "start_time": "2021-06-13T13:41:04.001Z"
   },
   {
    "duration": 834,
    "start_time": "2021-06-13T13:52:05.264Z"
   },
   {
    "duration": 825,
    "start_time": "2021-06-13T13:52:08.203Z"
   },
   {
    "duration": 839,
    "start_time": "2021-06-13T13:52:11.606Z"
   },
   {
    "duration": 805,
    "start_time": "2021-06-13T13:52:14.748Z"
   },
   {
    "duration": 7153,
    "start_time": "2021-06-13T14:01:38.407Z"
   },
   {
    "duration": 30,
    "start_time": "2021-06-13T14:01:58.375Z"
   },
   {
    "duration": 6,
    "start_time": "2021-06-13T14:02:04.492Z"
   },
   {
    "duration": 281,
    "start_time": "2021-06-13T14:04:04.551Z"
   },
   {
    "duration": 1418,
    "start_time": "2021-06-13T14:04:36.929Z"
   },
   {
    "duration": 1404,
    "start_time": "2021-06-13T14:04:42.325Z"
   },
   {
    "duration": 502,
    "start_time": "2021-06-13T14:06:20.394Z"
   },
   {
    "duration": 2843,
    "start_time": "2021-06-13T14:08:32.863Z"
   },
   {
    "duration": 3075,
    "start_time": "2021-06-13T14:09:00.181Z"
   },
   {
    "duration": 19,
    "start_time": "2021-06-13T14:09:43.531Z"
   },
   {
    "duration": 3671,
    "start_time": "2021-06-13T14:10:29.961Z"
   },
   {
    "duration": 253,
    "start_time": "2021-06-13T14:12:25.682Z"
   },
   {
    "duration": 75891,
    "start_time": "2021-06-13T14:13:51.356Z"
   },
   {
    "duration": 41185,
    "start_time": "2021-06-13T14:15:52.692Z"
   },
   {
    "duration": 45050,
    "start_time": "2021-06-13T14:17:28.719Z"
   },
   {
    "duration": 44209,
    "start_time": "2021-06-13T14:18:26.031Z"
   },
   {
    "duration": 108,
    "start_time": "2021-06-13T14:27:01.054Z"
   },
   {
    "duration": 374,
    "start_time": "2021-06-13T14:27:03.881Z"
   },
   {
    "duration": 372,
    "start_time": "2021-06-13T14:27:16.035Z"
   },
   {
    "duration": 249,
    "start_time": "2021-06-13T14:28:08.218Z"
   },
   {
    "duration": 252,
    "start_time": "2021-06-13T14:28:43.728Z"
   },
   {
    "duration": 244,
    "start_time": "2021-06-13T14:28:50.392Z"
   },
   {
    "duration": 250,
    "start_time": "2021-06-13T14:29:19.672Z"
   },
   {
    "duration": 127502,
    "start_time": "2021-06-13T14:29:28.293Z"
   },
   {
    "duration": 82,
    "start_time": "2021-06-13T14:35:37.933Z"
   },
   {
    "duration": 15,
    "start_time": "2021-06-13T14:35:59.463Z"
   },
   {
    "duration": 21,
    "start_time": "2021-06-13T14:36:05.796Z"
   },
   {
    "duration": 4516,
    "start_time": "2021-06-13T14:36:40.609Z"
   },
   {
    "duration": 4415,
    "start_time": "2021-06-13T14:36:55.967Z"
   },
   {
    "duration": 4272,
    "start_time": "2021-06-13T14:37:06.602Z"
   },
   {
    "duration": 89,
    "start_time": "2021-06-13T14:38:30.896Z"
   },
   {
    "duration": 25,
    "start_time": "2021-06-13T14:38:42.101Z"
   },
   {
    "duration": 423,
    "start_time": "2021-06-13T14:39:01.060Z"
   },
   {
    "duration": 3651,
    "start_time": "2021-06-13T14:39:30.172Z"
   },
   {
    "duration": 84,
    "start_time": "2021-06-13T14:40:37.957Z"
   },
   {
    "duration": 3453,
    "start_time": "2021-06-13T14:40:52.185Z"
   },
   {
    "duration": 3400,
    "start_time": "2021-06-13T14:41:22.933Z"
   },
   {
    "duration": 3589,
    "start_time": "2021-06-13T14:41:32.774Z"
   },
   {
    "duration": 286,
    "start_time": "2021-06-13T14:41:46.575Z"
   },
   {
    "duration": 1648,
    "start_time": "2021-06-14T07:17:12.583Z"
   },
   {
    "duration": 42,
    "start_time": "2021-06-14T07:17:14.234Z"
   },
   {
    "duration": 13,
    "start_time": "2021-06-14T07:17:14.280Z"
   },
   {
    "duration": 22,
    "start_time": "2021-06-14T07:17:14.296Z"
   },
   {
    "duration": 41,
    "start_time": "2021-06-14T07:17:14.321Z"
   },
   {
    "duration": 13,
    "start_time": "2021-06-14T07:17:14.364Z"
   },
   {
    "duration": 11,
    "start_time": "2021-06-14T07:17:14.380Z"
   },
   {
    "duration": 7,
    "start_time": "2021-06-14T07:17:14.395Z"
   },
   {
    "duration": 69,
    "start_time": "2021-06-14T07:17:14.406Z"
   },
   {
    "duration": 12,
    "start_time": "2021-06-14T07:17:14.477Z"
   },
   {
    "duration": 6,
    "start_time": "2021-06-14T07:17:14.492Z"
   },
   {
    "duration": 10,
    "start_time": "2021-06-14T07:17:14.500Z"
   },
   {
    "duration": 29,
    "start_time": "2021-06-14T07:17:14.512Z"
   },
   {
    "duration": 648,
    "start_time": "2021-06-14T07:17:14.543Z"
   },
   {
    "duration": 7,
    "start_time": "2021-06-14T07:17:15.193Z"
   },
   {
    "duration": 23,
    "start_time": "2021-06-14T07:17:15.203Z"
   },
   {
    "duration": 9347,
    "start_time": "2021-06-14T07:17:15.229Z"
   },
   {
    "duration": 8,
    "start_time": "2021-06-14T07:17:24.579Z"
   },
   {
    "duration": 351,
    "start_time": "2021-06-14T07:17:24.589Z"
   },
   {
    "duration": 950,
    "start_time": "2021-06-14T07:17:24.943Z"
   },
   {
    "duration": 847,
    "start_time": "2021-06-14T07:17:25.896Z"
   },
   {
    "duration": 861,
    "start_time": "2021-06-14T07:17:26.745Z"
   },
   {
    "duration": 919,
    "start_time": "2021-06-14T07:17:27.610Z"
   },
   {
    "duration": 1165,
    "start_time": "2021-06-14T07:17:28.532Z"
   },
   {
    "duration": 7,
    "start_time": "2021-06-14T07:17:29.700Z"
   },
   {
    "duration": 4072,
    "start_time": "2021-06-14T07:17:29.710Z"
   },
   {
    "duration": 96,
    "start_time": "2021-06-14T07:19:11.566Z"
   },
   {
    "duration": 894,
    "start_time": "2021-06-14T07:19:21.725Z"
   },
   {
    "duration": 1733,
    "start_time": "2021-06-14T07:19:44.153Z"
   },
   {
    "duration": 122,
    "start_time": "2021-06-14T07:21:43.242Z"
   },
   {
    "duration": 110,
    "start_time": "2021-06-14T07:21:59.631Z"
   },
   {
    "duration": 1518,
    "start_time": "2021-06-14T07:22:11.964Z"
   },
   {
    "duration": 1631,
    "start_time": "2021-06-14T07:22:25.658Z"
   },
   {
    "duration": 678,
    "start_time": "2021-06-14T07:25:01.141Z"
   },
   {
    "duration": 102,
    "start_time": "2021-06-14T07:27:07.008Z"
   },
   {
    "duration": 121,
    "start_time": "2021-06-14T07:27:19.198Z"
   },
   {
    "duration": 97,
    "start_time": "2021-06-14T07:27:24.883Z"
   },
   {
    "duration": 661,
    "start_time": "2021-06-14T07:27:31.971Z"
   },
   {
    "duration": 2060,
    "start_time": "2021-06-14T07:27:41.751Z"
   },
   {
    "duration": 652,
    "start_time": "2021-06-14T07:27:47.102Z"
   },
   {
    "duration": 649,
    "start_time": "2021-06-14T07:31:38.865Z"
   },
   {
    "duration": 37,
    "start_time": "2021-06-14T07:55:33.582Z"
   },
   {
    "duration": 1548,
    "start_time": "2021-06-14T07:56:43.481Z"
   },
   {
    "duration": 1592,
    "start_time": "2021-06-14T07:56:45.032Z"
   },
   {
    "duration": 1626,
    "start_time": "2021-06-14T07:56:48.886Z"
   },
   {
    "duration": 617,
    "start_time": "2021-06-14T07:57:50.629Z"
   },
   {
    "duration": 585,
    "start_time": "2021-06-14T07:58:49.554Z"
   },
   {
    "duration": 582,
    "start_time": "2021-06-14T07:58:51.920Z"
   },
   {
    "duration": 459,
    "start_time": "2021-06-14T08:09:18.103Z"
   },
   {
    "duration": 1029,
    "start_time": "2021-06-14T08:12:20.802Z"
   },
   {
    "duration": 748,
    "start_time": "2021-06-14T08:13:48.481Z"
   },
   {
    "duration": 1013,
    "start_time": "2021-06-14T08:14:10.833Z"
   },
   {
    "duration": 842,
    "start_time": "2021-06-14T08:14:19.452Z"
   },
   {
    "duration": 863,
    "start_time": "2021-06-14T08:14:55.154Z"
   },
   {
    "duration": 869,
    "start_time": "2021-06-14T08:16:02.336Z"
   },
   {
    "duration": 356,
    "start_time": "2021-06-14T08:16:46.797Z"
   },
   {
    "duration": 369,
    "start_time": "2021-06-14T08:17:13.563Z"
   },
   {
    "duration": 905,
    "start_time": "2021-06-14T08:19:57.661Z"
   },
   {
    "duration": 108,
    "start_time": "2021-06-14T08:20:51.342Z"
   },
   {
    "duration": 796,
    "start_time": "2021-06-14T08:20:59.140Z"
   },
   {
    "duration": 1233,
    "start_time": "2021-06-14T08:21:30.489Z"
   },
   {
    "duration": 1089,
    "start_time": "2021-06-14T08:22:10.320Z"
   },
   {
    "duration": 753,
    "start_time": "2021-06-14T08:23:14.992Z"
   },
   {
    "duration": 755,
    "start_time": "2021-06-14T08:29:02.376Z"
   },
   {
    "duration": 322,
    "start_time": "2021-06-14T08:29:24.793Z"
   },
   {
    "duration": 1561,
    "start_time": "2021-06-14T08:29:52.251Z"
   },
   {
    "duration": 59,
    "start_time": "2021-06-14T08:29:53.815Z"
   },
   {
    "duration": 17,
    "start_time": "2021-06-14T08:29:53.878Z"
   },
   {
    "duration": 27,
    "start_time": "2021-06-14T08:29:53.898Z"
   },
   {
    "duration": 37,
    "start_time": "2021-06-14T08:29:53.928Z"
   },
   {
    "duration": 14,
    "start_time": "2021-06-14T08:29:53.968Z"
   },
   {
    "duration": 13,
    "start_time": "2021-06-14T08:29:53.985Z"
   },
   {
    "duration": 7,
    "start_time": "2021-06-14T08:29:54.004Z"
   },
   {
    "duration": 80,
    "start_time": "2021-06-14T08:29:54.015Z"
   },
   {
    "duration": 14,
    "start_time": "2021-06-14T08:29:54.098Z"
   },
   {
    "duration": 7,
    "start_time": "2021-06-14T08:29:54.115Z"
   },
   {
    "duration": 44,
    "start_time": "2021-06-14T08:29:54.125Z"
   },
   {
    "duration": 13,
    "start_time": "2021-06-14T08:29:54.172Z"
   },
   {
    "duration": 679,
    "start_time": "2021-06-14T08:29:54.187Z"
   },
   {
    "duration": 10,
    "start_time": "2021-06-14T08:29:54.869Z"
   },
   {
    "duration": 26,
    "start_time": "2021-06-14T08:29:54.881Z"
   },
   {
    "duration": 10104,
    "start_time": "2021-06-14T08:29:54.910Z"
   },
   {
    "duration": 8,
    "start_time": "2021-06-14T08:30:05.017Z"
   },
   {
    "duration": 360,
    "start_time": "2021-06-14T08:30:05.028Z"
   },
   {
    "duration": 934,
    "start_time": "2021-06-14T08:30:05.391Z"
   },
   {
    "duration": 916,
    "start_time": "2021-06-14T08:30:06.327Z"
   },
   {
    "duration": 1140,
    "start_time": "2021-06-14T08:30:07.246Z"
   },
   {
    "duration": 1185,
    "start_time": "2021-06-14T08:30:08.392Z"
   },
   {
    "duration": 1212,
    "start_time": "2021-06-14T08:30:09.580Z"
   },
   {
    "duration": 810,
    "start_time": "2021-06-14T08:30:10.795Z"
   },
   {
    "duration": 1004,
    "start_time": "2021-06-14T08:30:11.608Z"
   },
   {
    "duration": 880,
    "start_time": "2021-06-14T08:30:12.615Z"
   },
   {
    "duration": 929,
    "start_time": "2021-06-14T08:30:13.498Z"
   },
   {
    "duration": 796,
    "start_time": "2021-06-14T08:30:14.430Z"
   },
   {
    "duration": 8,
    "start_time": "2021-06-14T08:42:07.558Z"
   },
   {
    "duration": 11,
    "start_time": "2021-06-14T08:42:08.661Z"
   },
   {
    "duration": 16,
    "start_time": "2021-06-14T08:43:31.403Z"
   },
   {
    "duration": 10,
    "start_time": "2021-06-14T08:43:36.312Z"
   },
   {
    "duration": 8,
    "start_time": "2021-06-14T08:47:41.007Z"
   },
   {
    "duration": 17,
    "start_time": "2021-06-14T08:47:51.032Z"
   },
   {
    "duration": 11,
    "start_time": "2021-06-14T08:48:50.279Z"
   },
   {
    "duration": 17,
    "start_time": "2021-06-14T08:54:08.945Z"
   },
   {
    "duration": 7,
    "start_time": "2021-06-14T08:55:18.945Z"
   },
   {
    "duration": 119,
    "start_time": "2021-06-14T08:56:19.568Z"
   },
   {
    "duration": 9,
    "start_time": "2021-06-14T08:56:31.641Z"
   },
   {
    "duration": 775,
    "start_time": "2021-06-14T09:04:57.589Z"
   },
   {
    "duration": 1527,
    "start_time": "2021-06-14T09:11:35.892Z"
   },
   {
    "duration": 70,
    "start_time": "2021-06-14T09:11:37.422Z"
   },
   {
    "duration": 21,
    "start_time": "2021-06-14T09:11:37.496Z"
   },
   {
    "duration": 56,
    "start_time": "2021-06-14T09:11:37.521Z"
   },
   {
    "duration": 5,
    "start_time": "2021-06-14T09:11:37.580Z"
   },
   {
    "duration": 13,
    "start_time": "2021-06-14T09:11:37.588Z"
   },
   {
    "duration": 13,
    "start_time": "2021-06-14T09:11:37.604Z"
   },
   {
    "duration": 42,
    "start_time": "2021-06-14T09:11:37.624Z"
   },
   {
    "duration": 60,
    "start_time": "2021-06-14T09:11:37.671Z"
   },
   {
    "duration": 40,
    "start_time": "2021-06-14T09:11:37.735Z"
   },
   {
    "duration": 21,
    "start_time": "2021-06-14T09:11:37.778Z"
   },
   {
    "duration": 8,
    "start_time": "2021-06-14T09:11:37.802Z"
   },
   {
    "duration": 16,
    "start_time": "2021-06-14T09:11:37.812Z"
   },
   {
    "duration": 664,
    "start_time": "2021-06-14T09:11:37.831Z"
   },
   {
    "duration": 9,
    "start_time": "2021-06-14T09:11:38.498Z"
   },
   {
    "duration": 24,
    "start_time": "2021-06-14T09:11:38.509Z"
   },
   {
    "duration": 9440,
    "start_time": "2021-06-14T09:11:38.535Z"
   },
   {
    "duration": 9,
    "start_time": "2021-06-14T09:11:47.977Z"
   },
   {
    "duration": 464,
    "start_time": "2021-06-14T09:11:47.988Z"
   },
   {
    "duration": 942,
    "start_time": "2021-06-14T09:11:48.461Z"
   },
   {
    "duration": 839,
    "start_time": "2021-06-14T09:11:49.405Z"
   },
   {
    "duration": 870,
    "start_time": "2021-06-14T09:11:50.247Z"
   },
   {
    "duration": 861,
    "start_time": "2021-06-14T09:11:51.122Z"
   },
   {
    "duration": 833,
    "start_time": "2021-06-14T09:11:51.986Z"
   },
   {
    "duration": 510,
    "start_time": "2021-06-14T09:11:52.821Z"
   },
   {
    "duration": 877,
    "start_time": "2021-06-14T09:11:53.334Z"
   },
   {
    "duration": 569,
    "start_time": "2021-06-14T09:11:54.214Z"
   },
   {
    "duration": 557,
    "start_time": "2021-06-14T09:11:54.786Z"
   },
   {
    "duration": 591,
    "start_time": "2021-06-14T09:11:55.345Z"
   },
   {
    "duration": 873,
    "start_time": "2021-06-14T09:11:55.938Z"
   },
   {
    "duration": 15,
    "start_time": "2021-06-14T09:11:56.814Z"
   },
   {
    "duration": 31,
    "start_time": "2021-06-14T09:11:56.832Z"
   },
   {
    "duration": 18,
    "start_time": "2021-06-14T09:11:56.866Z"
   },
   {
    "duration": 16,
    "start_time": "2021-06-14T09:11:56.887Z"
   },
   {
    "duration": 10,
    "start_time": "2021-06-14T09:11:56.905Z"
   },
   {
    "duration": 12,
    "start_time": "2021-06-14T09:11:56.918Z"
   },
   {
    "duration": 597,
    "start_time": "2021-06-14T09:14:12.073Z"
   },
   {
    "duration": 599,
    "start_time": "2021-06-14T09:14:21.684Z"
   },
   {
    "duration": 1499,
    "start_time": "2021-06-14T09:37:29.217Z"
   },
   {
    "duration": 56,
    "start_time": "2021-06-14T09:37:30.718Z"
   },
   {
    "duration": 13,
    "start_time": "2021-06-14T09:37:30.777Z"
   },
   {
    "duration": 24,
    "start_time": "2021-06-14T09:37:30.793Z"
   },
   {
    "duration": 4,
    "start_time": "2021-06-14T09:37:30.819Z"
   },
   {
    "duration": 38,
    "start_time": "2021-06-14T09:37:30.825Z"
   },
   {
    "duration": 27,
    "start_time": "2021-06-14T09:37:30.866Z"
   },
   {
    "duration": 11,
    "start_time": "2021-06-14T09:37:30.897Z"
   },
   {
    "duration": 61,
    "start_time": "2021-06-14T09:37:30.911Z"
   },
   {
    "duration": 12,
    "start_time": "2021-06-14T09:37:30.974Z"
   },
   {
    "duration": 9,
    "start_time": "2021-06-14T09:37:30.988Z"
   },
   {
    "duration": 9,
    "start_time": "2021-06-14T09:37:30.999Z"
   },
   {
    "duration": 19,
    "start_time": "2021-06-14T09:37:31.010Z"
   },
   {
    "duration": 688,
    "start_time": "2021-06-14T09:37:31.031Z"
   },
   {
    "duration": 7,
    "start_time": "2021-06-14T09:37:31.722Z"
   },
   {
    "duration": 39,
    "start_time": "2021-06-14T09:37:31.732Z"
   },
   {
    "duration": 10167,
    "start_time": "2021-06-14T09:37:31.774Z"
   },
   {
    "duration": 21,
    "start_time": "2021-06-14T09:37:41.944Z"
   },
   {
    "duration": 522,
    "start_time": "2021-06-14T09:37:41.968Z"
   },
   {
    "duration": 1296,
    "start_time": "2021-06-14T09:37:42.493Z"
   },
   {
    "duration": 1223,
    "start_time": "2021-06-14T09:37:43.793Z"
   },
   {
    "duration": 1161,
    "start_time": "2021-06-14T09:37:45.019Z"
   },
   {
    "duration": 1156,
    "start_time": "2021-06-14T09:37:46.187Z"
   },
   {
    "duration": 1163,
    "start_time": "2021-06-14T09:37:47.347Z"
   },
   {
    "duration": 1065,
    "start_time": "2021-06-14T09:37:48.513Z"
   },
   {
    "duration": 805,
    "start_time": "2021-06-14T09:37:49.581Z"
   },
   {
    "duration": 561,
    "start_time": "2021-06-14T09:37:50.389Z"
   },
   {
    "duration": 564,
    "start_time": "2021-06-14T09:37:50.961Z"
   },
   {
    "duration": 606,
    "start_time": "2021-06-14T09:37:51.527Z"
   },
   {
    "duration": 870,
    "start_time": "2021-06-14T09:37:52.135Z"
   },
   {
    "duration": 17,
    "start_time": "2021-06-14T09:37:53.008Z"
   },
   {
    "duration": 34,
    "start_time": "2021-06-14T09:37:53.028Z"
   },
   {
    "duration": 96,
    "start_time": "2021-06-14T09:37:53.065Z"
   },
   {
    "duration": 665,
    "start_time": "2021-06-14T09:37:52.499Z"
   },
   {
    "duration": 650,
    "start_time": "2021-06-14T09:37:52.516Z"
   },
   {
    "duration": 619,
    "start_time": "2021-06-14T09:37:52.548Z"
   },
   {
    "duration": 461,
    "start_time": "2021-06-14T09:38:09.101Z"
   },
   {
    "duration": 8,
    "start_time": "2021-06-14T09:38:29.601Z"
   },
   {
    "duration": 17,
    "start_time": "2021-06-14T09:38:32.424Z"
   },
   {
    "duration": 7,
    "start_time": "2021-06-14T09:38:34.243Z"
   },
   {
    "duration": 10,
    "start_time": "2021-06-14T09:38:35.794Z"
   },
   {
    "duration": 573,
    "start_time": "2021-06-14T09:39:54.414Z"
   },
   {
    "duration": 577,
    "start_time": "2021-06-14T09:40:02.864Z"
   },
   {
    "duration": 589,
    "start_time": "2021-06-14T09:40:21.935Z"
   },
   {
    "duration": 553,
    "start_time": "2021-06-14T09:40:23.791Z"
   },
   {
    "duration": 643,
    "start_time": "2021-06-14T09:40:25.309Z"
   },
   {
    "duration": 1986,
    "start_time": "2021-06-14T09:42:34.714Z"
   },
   {
    "duration": 45,
    "start_time": "2021-06-14T09:42:36.703Z"
   },
   {
    "duration": 22,
    "start_time": "2021-06-14T09:42:36.751Z"
   },
   {
    "duration": 22,
    "start_time": "2021-06-14T09:42:36.776Z"
   },
   {
    "duration": 3,
    "start_time": "2021-06-14T09:42:36.801Z"
   },
   {
    "duration": 9,
    "start_time": "2021-06-14T09:42:36.807Z"
   },
   {
    "duration": 50,
    "start_time": "2021-06-14T09:42:36.818Z"
   },
   {
    "duration": 15,
    "start_time": "2021-06-14T09:42:36.872Z"
   },
   {
    "duration": 42,
    "start_time": "2021-06-14T09:42:36.890Z"
   },
   {
    "duration": 29,
    "start_time": "2021-06-14T09:42:36.935Z"
   },
   {
    "duration": 7,
    "start_time": "2021-06-14T09:42:36.966Z"
   },
   {
    "duration": 9,
    "start_time": "2021-06-14T09:42:36.976Z"
   },
   {
    "duration": 8,
    "start_time": "2021-06-14T09:42:36.987Z"
   },
   {
    "duration": 675,
    "start_time": "2021-06-14T09:42:36.997Z"
   },
   {
    "duration": 8,
    "start_time": "2021-06-14T09:42:37.676Z"
   },
   {
    "duration": 26,
    "start_time": "2021-06-14T09:42:37.687Z"
   },
   {
    "duration": 9917,
    "start_time": "2021-06-14T09:42:37.716Z"
   },
   {
    "duration": 9,
    "start_time": "2021-06-14T09:42:47.635Z"
   },
   {
    "duration": 337,
    "start_time": "2021-06-14T09:42:47.663Z"
   },
   {
    "duration": 947,
    "start_time": "2021-06-14T09:42:48.002Z"
   },
   {
    "duration": 1546,
    "start_time": "2021-06-14T09:42:48.952Z"
   },
   {
    "duration": 1172,
    "start_time": "2021-06-14T09:42:50.501Z"
   },
   {
    "duration": 1182,
    "start_time": "2021-06-14T09:42:51.680Z"
   },
   {
    "duration": 1249,
    "start_time": "2021-06-14T09:42:52.866Z"
   },
   {
    "duration": 1089,
    "start_time": "2021-06-14T09:42:54.119Z"
   },
   {
    "duration": 1263,
    "start_time": "2021-06-14T09:42:55.211Z"
   },
   {
    "duration": 1453,
    "start_time": "2021-06-14T09:42:56.476Z"
   },
   {
    "duration": 1563,
    "start_time": "2021-06-14T09:42:57.933Z"
   },
   {
    "duration": 1437,
    "start_time": "2021-06-14T09:42:59.499Z"
   },
   {
    "duration": 806,
    "start_time": "2021-06-14T09:43:00.939Z"
   },
   {
    "duration": 27,
    "start_time": "2021-06-14T09:43:01.748Z"
   },
   {
    "duration": 21,
    "start_time": "2021-06-14T09:43:01.778Z"
   },
   {
    "duration": 38,
    "start_time": "2021-06-14T09:43:01.802Z"
   },
   {
    "duration": 41,
    "start_time": "2021-06-14T09:43:01.843Z"
   },
   {
    "duration": 15,
    "start_time": "2021-06-14T09:43:01.887Z"
   },
   {
    "duration": 56,
    "start_time": "2021-06-14T09:43:01.904Z"
   },
   {
    "duration": 591,
    "start_time": "2021-06-14T09:43:10.489Z"
   },
   {
    "duration": 693,
    "start_time": "2021-06-14T09:44:03.990Z"
   },
   {
    "duration": 582,
    "start_time": "2021-06-14T09:44:06.425Z"
   },
   {
    "duration": 579,
    "start_time": "2021-06-14T09:44:08.847Z"
   },
   {
    "duration": 1523,
    "start_time": "2021-06-14T09:45:02.761Z"
   },
   {
    "duration": 42,
    "start_time": "2021-06-14T09:45:04.286Z"
   },
   {
    "duration": 31,
    "start_time": "2021-06-14T09:45:04.331Z"
   },
   {
    "duration": 22,
    "start_time": "2021-06-14T09:45:04.365Z"
   },
   {
    "duration": 4,
    "start_time": "2021-06-14T09:45:04.390Z"
   },
   {
    "duration": 10,
    "start_time": "2021-06-14T09:45:04.396Z"
   },
   {
    "duration": 16,
    "start_time": "2021-06-14T09:45:04.408Z"
   },
   {
    "duration": 40,
    "start_time": "2021-06-14T09:45:04.428Z"
   },
   {
    "duration": 41,
    "start_time": "2021-06-14T09:45:04.471Z"
   },
   {
    "duration": 11,
    "start_time": "2021-06-14T09:45:04.515Z"
   },
   {
    "duration": 36,
    "start_time": "2021-06-14T09:45:04.529Z"
   },
   {
    "duration": 12,
    "start_time": "2021-06-14T09:45:04.567Z"
   },
   {
    "duration": 10,
    "start_time": "2021-06-14T09:45:04.581Z"
   },
   {
    "duration": 652,
    "start_time": "2021-06-14T09:45:04.593Z"
   },
   {
    "duration": 14,
    "start_time": "2021-06-14T09:45:05.248Z"
   },
   {
    "duration": 23,
    "start_time": "2021-06-14T09:45:05.264Z"
   },
   {
    "duration": 9827,
    "start_time": "2021-06-14T09:45:05.290Z"
   },
   {
    "duration": 9,
    "start_time": "2021-06-14T09:45:15.119Z"
   },
   {
    "duration": 335,
    "start_time": "2021-06-14T09:45:15.130Z"
   },
   {
    "duration": 957,
    "start_time": "2021-06-14T09:45:15.467Z"
   },
   {
    "duration": 923,
    "start_time": "2021-06-14T09:45:16.427Z"
   },
   {
    "duration": 831,
    "start_time": "2021-06-14T09:45:17.353Z"
   },
   {
    "duration": 796,
    "start_time": "2021-06-14T09:45:18.189Z"
   },
   {
    "duration": 936,
    "start_time": "2021-06-14T09:45:18.988Z"
   },
   {
    "duration": 675,
    "start_time": "2021-06-14T09:45:19.927Z"
   },
   {
    "duration": 876,
    "start_time": "2021-06-14T09:45:20.604Z"
   },
   {
    "duration": 579,
    "start_time": "2021-06-14T09:45:21.483Z"
   },
   {
    "duration": 593,
    "start_time": "2021-06-14T09:45:22.064Z"
   },
   {
    "duration": 592,
    "start_time": "2021-06-14T09:45:22.662Z"
   },
   {
    "duration": 863,
    "start_time": "2021-06-14T09:45:23.261Z"
   },
   {
    "duration": 16,
    "start_time": "2021-06-14T09:45:24.126Z"
   },
   {
    "duration": 9,
    "start_time": "2021-06-14T09:45:24.161Z"
   },
   {
    "duration": 12,
    "start_time": "2021-06-14T09:45:24.173Z"
   },
   {
    "duration": 22,
    "start_time": "2021-06-14T09:45:24.188Z"
   },
   {
    "duration": 52,
    "start_time": "2021-06-14T09:45:24.213Z"
   },
   {
    "duration": 20,
    "start_time": "2021-06-14T09:45:24.268Z"
   },
   {
    "duration": 1572,
    "start_time": "2021-06-14T21:21:22.971Z"
   },
   {
    "duration": 44,
    "start_time": "2021-06-14T21:21:24.546Z"
   },
   {
    "duration": 16,
    "start_time": "2021-06-14T21:21:24.593Z"
   },
   {
    "duration": 62,
    "start_time": "2021-06-14T21:21:24.613Z"
   },
   {
    "duration": 4,
    "start_time": "2021-06-14T21:21:24.677Z"
   },
   {
    "duration": 12,
    "start_time": "2021-06-14T21:21:24.685Z"
   },
   {
    "duration": 15,
    "start_time": "2021-06-14T21:21:24.700Z"
   },
   {
    "duration": 41,
    "start_time": "2021-06-14T21:21:24.721Z"
   },
   {
    "duration": 39,
    "start_time": "2021-06-14T21:21:24.765Z"
   },
   {
    "duration": 11,
    "start_time": "2021-06-14T21:21:24.807Z"
   },
   {
    "duration": 6,
    "start_time": "2021-06-14T21:21:24.820Z"
   },
   {
    "duration": 41,
    "start_time": "2021-06-14T21:21:24.828Z"
   },
   {
    "duration": 11,
    "start_time": "2021-06-14T21:21:24.871Z"
   },
   {
    "duration": 649,
    "start_time": "2021-06-14T21:21:24.885Z"
   },
   {
    "duration": 7,
    "start_time": "2021-06-14T21:21:25.537Z"
   },
   {
    "duration": 34,
    "start_time": "2021-06-14T21:21:25.547Z"
   },
   {
    "duration": 12388,
    "start_time": "2021-06-14T21:21:25.583Z"
   },
   {
    "duration": 9,
    "start_time": "2021-06-14T21:21:37.973Z"
   },
   {
    "duration": 345,
    "start_time": "2021-06-14T21:21:37.985Z"
   },
   {
    "duration": 965,
    "start_time": "2021-06-14T21:21:38.332Z"
   },
   {
    "duration": 845,
    "start_time": "2021-06-14T21:21:39.299Z"
   },
   {
    "duration": 837,
    "start_time": "2021-06-14T21:21:40.147Z"
   },
   {
    "duration": 815,
    "start_time": "2021-06-14T21:21:40.989Z"
   },
   {
    "duration": 839,
    "start_time": "2021-06-14T21:21:41.807Z"
   },
   {
    "duration": 733,
    "start_time": "2021-06-14T21:21:42.648Z"
   },
   {
    "duration": 790,
    "start_time": "2021-06-14T21:21:43.384Z"
   },
   {
    "duration": 600,
    "start_time": "2021-06-14T21:21:44.176Z"
   },
   {
    "duration": 736,
    "start_time": "2021-06-14T21:21:44.779Z"
   },
   {
    "duration": 747,
    "start_time": "2021-06-14T21:21:45.518Z"
   },
   {
    "duration": 875,
    "start_time": "2021-06-14T21:21:46.268Z"
   },
   {
    "duration": 24,
    "start_time": "2021-06-14T21:21:47.146Z"
   },
   {
    "duration": 10,
    "start_time": "2021-06-14T21:21:47.172Z"
   },
   {
    "duration": 10,
    "start_time": "2021-06-14T21:21:47.184Z"
   },
   {
    "duration": 15,
    "start_time": "2021-06-14T21:21:47.196Z"
   },
   {
    "duration": 51,
    "start_time": "2021-06-14T21:21:47.214Z"
   },
   {
    "duration": 10,
    "start_time": "2021-06-14T21:21:47.268Z"
   },
   {
    "duration": 89,
    "start_time": "2021-06-16T11:56:44.685Z"
   },
   {
    "duration": 1493,
    "start_time": "2021-06-16T11:56:55.192Z"
   },
   {
    "duration": 43,
    "start_time": "2021-06-16T11:56:56.688Z"
   },
   {
    "duration": 27,
    "start_time": "2021-06-16T11:56:56.734Z"
   },
   {
    "duration": 23,
    "start_time": "2021-06-16T11:56:56.764Z"
   },
   {
    "duration": 3,
    "start_time": "2021-06-16T11:56:56.790Z"
   },
   {
    "duration": 11,
    "start_time": "2021-06-16T11:56:56.795Z"
   },
   {
    "duration": 45,
    "start_time": "2021-06-16T11:56:56.809Z"
   },
   {
    "duration": 7,
    "start_time": "2021-06-16T11:56:56.858Z"
   },
   {
    "duration": 45,
    "start_time": "2021-06-16T11:56:56.868Z"
   },
   {
    "duration": 11,
    "start_time": "2021-06-16T11:56:56.915Z"
   },
   {
    "duration": 7,
    "start_time": "2021-06-16T11:56:56.955Z"
   },
   {
    "duration": 13,
    "start_time": "2021-06-16T11:56:56.964Z"
   },
   {
    "duration": 12,
    "start_time": "2021-06-16T11:56:56.979Z"
   },
   {
    "duration": 648,
    "start_time": "2021-06-16T11:56:56.994Z"
   },
   {
    "duration": 13,
    "start_time": "2021-06-16T11:56:57.644Z"
   },
   {
    "duration": 23,
    "start_time": "2021-06-16T11:56:57.660Z"
   },
   {
    "duration": 10096,
    "start_time": "2021-06-16T11:56:57.685Z"
   },
   {
    "duration": 8,
    "start_time": "2021-06-16T11:57:07.783Z"
   },
   {
    "duration": 335,
    "start_time": "2021-06-16T11:57:07.794Z"
   },
   {
    "duration": 1000,
    "start_time": "2021-06-16T11:57:08.131Z"
   },
   {
    "duration": 1012,
    "start_time": "2021-06-16T11:57:09.134Z"
   },
   {
    "duration": 849,
    "start_time": "2021-06-16T11:57:10.149Z"
   },
   {
    "duration": 774,
    "start_time": "2021-06-16T11:57:11.005Z"
   },
   {
    "duration": 817,
    "start_time": "2021-06-16T11:57:11.782Z"
   },
   {
    "duration": 655,
    "start_time": "2021-06-16T11:57:12.602Z"
   },
   {
    "duration": 855,
    "start_time": "2021-06-16T11:57:13.259Z"
   },
   {
    "duration": 677,
    "start_time": "2021-06-16T11:57:14.117Z"
   },
   {
    "duration": 698,
    "start_time": "2021-06-16T11:57:14.796Z"
   },
   {
    "duration": 576,
    "start_time": "2021-06-16T11:57:15.497Z"
   },
   {
    "duration": 875,
    "start_time": "2021-06-16T11:57:16.075Z"
   },
   {
    "duration": 15,
    "start_time": "2021-06-16T11:57:16.955Z"
   },
   {
    "duration": 38,
    "start_time": "2021-06-16T11:57:16.972Z"
   },
   {
    "duration": 30,
    "start_time": "2021-06-16T11:57:17.013Z"
   },
   {
    "duration": 44,
    "start_time": "2021-06-16T11:57:17.045Z"
   },
   {
    "duration": 32,
    "start_time": "2021-06-16T11:57:17.093Z"
   },
   {
    "duration": 22,
    "start_time": "2021-06-16T11:57:17.128Z"
   },
   {
    "duration": 380,
    "start_time": "2021-06-16T11:58:32.952Z"
   },
   {
    "duration": 6446,
    "start_time": "2021-06-16T11:58:36.969Z"
   },
   {
    "duration": 324,
    "start_time": "2021-06-16T12:00:33.861Z"
   },
   {
    "duration": 324,
    "start_time": "2021-06-16T12:00:52.988Z"
   },
   {
    "duration": 10,
    "start_time": "2021-06-16T12:01:45.114Z"
   },
   {
    "duration": 296,
    "start_time": "2021-06-16T12:01:52.649Z"
   },
   {
    "duration": 16,
    "start_time": "2021-06-16T12:02:56.423Z"
   },
   {
    "duration": 15,
    "start_time": "2021-06-16T12:03:15.541Z"
   },
   {
    "duration": 14,
    "start_time": "2021-06-16T12:03:19.101Z"
   },
   {
    "duration": 9,
    "start_time": "2021-06-16T12:03:35.352Z"
   },
   {
    "duration": 10,
    "start_time": "2021-06-16T12:04:18.324Z"
   },
   {
    "duration": 11,
    "start_time": "2021-06-16T12:04:24.163Z"
   },
   {
    "duration": 16,
    "start_time": "2021-06-16T12:18:45.904Z"
   },
   {
    "duration": 1559,
    "start_time": "2021-06-16T12:19:01.720Z"
   },
   {
    "duration": 42,
    "start_time": "2021-06-16T12:19:03.282Z"
   },
   {
    "duration": 34,
    "start_time": "2021-06-16T12:19:03.327Z"
   },
   {
    "duration": 29,
    "start_time": "2021-06-16T12:19:03.364Z"
   },
   {
    "duration": 9,
    "start_time": "2021-06-16T12:19:03.395Z"
   },
   {
    "duration": 16,
    "start_time": "2021-06-16T12:19:03.407Z"
   },
   {
    "duration": 44,
    "start_time": "2021-06-16T12:19:03.425Z"
   },
   {
    "duration": 10,
    "start_time": "2021-06-16T12:19:03.472Z"
   },
   {
    "duration": 15,
    "start_time": "2021-06-16T12:19:03.485Z"
   },
   {
    "duration": 66,
    "start_time": "2021-06-16T12:19:03.503Z"
   },
   {
    "duration": 11,
    "start_time": "2021-06-16T12:19:03.572Z"
   },
   {
    "duration": 9,
    "start_time": "2021-06-16T12:19:03.585Z"
   },
   {
    "duration": 13,
    "start_time": "2021-06-16T12:19:03.596Z"
   },
   {
    "duration": 14,
    "start_time": "2021-06-16T12:19:03.611Z"
   },
   {
    "duration": 1329,
    "start_time": "2021-06-16T12:19:03.654Z"
   },
   {
    "duration": 7,
    "start_time": "2021-06-16T12:19:04.985Z"
   },
   {
    "duration": 71,
    "start_time": "2021-06-16T12:19:04.994Z"
   },
   {
    "duration": 9233,
    "start_time": "2021-06-16T12:19:05.068Z"
   },
   {
    "duration": 8,
    "start_time": "2021-06-16T12:19:14.304Z"
   },
   {
    "duration": 355,
    "start_time": "2021-06-16T12:19:14.314Z"
   },
   {
    "duration": 909,
    "start_time": "2021-06-16T12:19:14.671Z"
   },
   {
    "duration": 845,
    "start_time": "2021-06-16T12:19:15.583Z"
   },
   {
    "duration": 824,
    "start_time": "2021-06-16T12:19:16.434Z"
   },
   {
    "duration": 802,
    "start_time": "2021-06-16T12:19:17.260Z"
   },
   {
    "duration": 817,
    "start_time": "2021-06-16T12:19:18.065Z"
   },
   {
    "duration": 727,
    "start_time": "2021-06-16T12:19:18.884Z"
   },
   {
    "duration": 761,
    "start_time": "2021-06-16T12:19:19.614Z"
   },
   {
    "duration": 693,
    "start_time": "2021-06-16T12:19:20.378Z"
   },
   {
    "duration": 587,
    "start_time": "2021-06-16T12:19:21.073Z"
   },
   {
    "duration": 569,
    "start_time": "2021-06-16T12:19:21.662Z"
   },
   {
    "duration": 838,
    "start_time": "2021-06-16T12:19:22.233Z"
   },
   {
    "duration": 15,
    "start_time": "2021-06-16T12:19:23.073Z"
   },
   {
    "duration": 12,
    "start_time": "2021-06-16T12:19:23.091Z"
   },
   {
    "duration": 15,
    "start_time": "2021-06-16T12:19:23.105Z"
   },
   {
    "duration": 41,
    "start_time": "2021-06-16T12:19:23.122Z"
   },
   {
    "duration": 25,
    "start_time": "2021-06-16T12:19:23.166Z"
   },
   {
    "duration": 15,
    "start_time": "2021-06-16T12:19:23.194Z"
   },
   {
    "duration": 15,
    "start_time": "2021-06-16T12:28:08.256Z"
   },
   {
    "duration": 1489,
    "start_time": "2021-06-16T12:28:15.286Z"
   },
   {
    "duration": 43,
    "start_time": "2021-06-16T12:28:16.777Z"
   },
   {
    "duration": 34,
    "start_time": "2021-06-16T12:28:16.823Z"
   },
   {
    "duration": 23,
    "start_time": "2021-06-16T12:28:16.859Z"
   },
   {
    "duration": 4,
    "start_time": "2021-06-16T12:28:16.885Z"
   },
   {
    "duration": 12,
    "start_time": "2021-06-16T12:28:16.891Z"
   },
   {
    "duration": 50,
    "start_time": "2021-06-16T12:28:16.906Z"
   },
   {
    "duration": 10,
    "start_time": "2021-06-16T12:28:16.960Z"
   },
   {
    "duration": 39,
    "start_time": "2021-06-16T12:28:16.973Z"
   },
   {
    "duration": 6,
    "start_time": "2021-06-16T12:28:17.015Z"
   },
   {
    "duration": 68,
    "start_time": "2021-06-16T12:28:17.023Z"
   },
   {
    "duration": 11,
    "start_time": "2021-06-16T12:28:17.093Z"
   },
   {
    "duration": 10,
    "start_time": "2021-06-16T12:28:17.106Z"
   },
   {
    "duration": 37,
    "start_time": "2021-06-16T12:28:17.118Z"
   },
   {
    "duration": 7,
    "start_time": "2021-06-16T12:28:17.157Z"
   },
   {
    "duration": 811,
    "start_time": "2021-06-16T12:28:17.166Z"
   },
   {
    "duration": 7,
    "start_time": "2021-06-16T12:28:17.979Z"
   },
   {
    "duration": 84,
    "start_time": "2021-06-16T12:28:17.989Z"
   },
   {
    "duration": 9460,
    "start_time": "2021-06-16T12:28:18.076Z"
   },
   {
    "duration": 18,
    "start_time": "2021-06-16T12:28:27.538Z"
   },
   {
    "duration": 350,
    "start_time": "2021-06-16T12:28:27.559Z"
   },
   {
    "duration": 886,
    "start_time": "2021-06-16T12:28:27.912Z"
   },
   {
    "duration": 815,
    "start_time": "2021-06-16T12:28:28.803Z"
   },
   {
    "duration": 847,
    "start_time": "2021-06-16T12:28:29.621Z"
   },
   {
    "duration": 846,
    "start_time": "2021-06-16T12:28:30.470Z"
   },
   {
    "duration": 891,
    "start_time": "2021-06-16T12:28:31.319Z"
   },
   {
    "duration": 806,
    "start_time": "2021-06-16T12:28:32.212Z"
   },
   {
    "duration": 870,
    "start_time": "2021-06-16T12:28:33.021Z"
   },
   {
    "duration": 634,
    "start_time": "2021-06-16T12:28:33.894Z"
   },
   {
    "duration": 608,
    "start_time": "2021-06-16T12:28:34.531Z"
   },
   {
    "duration": 593,
    "start_time": "2021-06-16T12:28:35.141Z"
   },
   {
    "duration": 843,
    "start_time": "2021-06-16T12:28:35.736Z"
   },
   {
    "duration": 15,
    "start_time": "2021-06-16T12:28:36.581Z"
   },
   {
    "duration": 15,
    "start_time": "2021-06-16T12:28:36.598Z"
   },
   {
    "duration": 12,
    "start_time": "2021-06-16T12:28:36.615Z"
   },
   {
    "duration": 16,
    "start_time": "2021-06-16T12:28:36.653Z"
   },
   {
    "duration": 16,
    "start_time": "2021-06-16T12:28:36.671Z"
   },
   {
    "duration": 17,
    "start_time": "2021-06-16T12:28:36.689Z"
   },
   {
    "duration": 10,
    "start_time": "2021-06-16T12:29:58.915Z"
   },
   {
    "duration": 1669,
    "start_time": "2021-06-16T12:30:05.940Z"
   },
   {
    "duration": 71,
    "start_time": "2021-06-16T12:30:07.613Z"
   },
   {
    "duration": 17,
    "start_time": "2021-06-16T12:30:07.687Z"
   },
   {
    "duration": 54,
    "start_time": "2021-06-16T12:30:07.708Z"
   },
   {
    "duration": 7,
    "start_time": "2021-06-16T12:30:07.765Z"
   },
   {
    "duration": 23,
    "start_time": "2021-06-16T12:30:07.776Z"
   },
   {
    "duration": 61,
    "start_time": "2021-06-16T12:30:07.802Z"
   },
   {
    "duration": 14,
    "start_time": "2021-06-16T12:30:07.869Z"
   },
   {
    "duration": 44,
    "start_time": "2021-06-16T12:30:07.888Z"
   },
   {
    "duration": 27,
    "start_time": "2021-06-16T12:30:07.935Z"
   },
   {
    "duration": 26,
    "start_time": "2021-06-16T12:30:07.966Z"
   },
   {
    "duration": 78,
    "start_time": "2021-06-16T12:30:07.994Z"
   },
   {
    "duration": 15,
    "start_time": "2021-06-16T12:30:08.075Z"
   },
   {
    "duration": 18,
    "start_time": "2021-06-16T12:30:08.094Z"
   },
   {
    "duration": 39,
    "start_time": "2021-06-16T12:30:08.115Z"
   },
   {
    "duration": 12,
    "start_time": "2021-06-16T12:30:08.158Z"
   },
   {
    "duration": 1045,
    "start_time": "2021-06-16T12:30:08.174Z"
   },
   {
    "duration": 10,
    "start_time": "2021-06-16T12:30:09.223Z"
   },
   {
    "duration": 58,
    "start_time": "2021-06-16T12:30:09.236Z"
   },
   {
    "duration": 9718,
    "start_time": "2021-06-16T12:30:09.297Z"
   },
   {
    "duration": 11,
    "start_time": "2021-06-16T12:30:19.018Z"
   },
   {
    "duration": 460,
    "start_time": "2021-06-16T12:30:19.032Z"
   },
   {
    "duration": 1114,
    "start_time": "2021-06-16T12:30:19.500Z"
   },
   {
    "duration": 1302,
    "start_time": "2021-06-16T12:30:20.617Z"
   },
   {
    "duration": 891,
    "start_time": "2021-06-16T12:30:21.922Z"
   },
   {
    "duration": 1038,
    "start_time": "2021-06-16T12:30:22.816Z"
   },
   {
    "duration": 1010,
    "start_time": "2021-06-16T12:30:23.857Z"
   },
   {
    "duration": 822,
    "start_time": "2021-06-16T12:30:24.871Z"
   },
   {
    "duration": 922,
    "start_time": "2021-06-16T12:30:25.695Z"
   },
   {
    "duration": 590,
    "start_time": "2021-06-16T12:30:26.619Z"
   },
   {
    "duration": 692,
    "start_time": "2021-06-16T12:30:27.212Z"
   },
   {
    "duration": 681,
    "start_time": "2021-06-16T12:30:27.907Z"
   },
   {
    "duration": 915,
    "start_time": "2021-06-16T12:30:28.591Z"
   },
   {
    "duration": 23,
    "start_time": "2021-06-16T12:30:29.509Z"
   },
   {
    "duration": 9,
    "start_time": "2021-06-16T12:30:29.555Z"
   },
   {
    "duration": 13,
    "start_time": "2021-06-16T12:30:29.568Z"
   },
   {
    "duration": 17,
    "start_time": "2021-06-16T12:30:29.585Z"
   },
   {
    "duration": 49,
    "start_time": "2021-06-16T12:30:29.606Z"
   },
   {
    "duration": 9,
    "start_time": "2021-06-16T12:30:29.658Z"
   },
   {
    "duration": 12,
    "start_time": "2021-06-16T12:34:34.844Z"
   },
   {
    "duration": 1524,
    "start_time": "2021-06-16T12:34:50.360Z"
   },
   {
    "duration": 48,
    "start_time": "2021-06-16T12:34:51.886Z"
   },
   {
    "duration": 23,
    "start_time": "2021-06-16T12:34:51.937Z"
   },
   {
    "duration": 25,
    "start_time": "2021-06-16T12:34:51.963Z"
   },
   {
    "duration": 4,
    "start_time": "2021-06-16T12:34:51.990Z"
   },
   {
    "duration": 21,
    "start_time": "2021-06-16T12:34:51.996Z"
   },
   {
    "duration": 51,
    "start_time": "2021-06-16T12:34:52.020Z"
   },
   {
    "duration": 10,
    "start_time": "2021-06-16T12:34:52.075Z"
   },
   {
    "duration": 32,
    "start_time": "2021-06-16T12:34:52.088Z"
   },
   {
    "duration": 39,
    "start_time": "2021-06-16T12:34:52.123Z"
   },
   {
    "duration": 7,
    "start_time": "2021-06-16T12:34:52.164Z"
   },
   {
    "duration": 44,
    "start_time": "2021-06-16T12:34:52.174Z"
   },
   {
    "duration": 36,
    "start_time": "2021-06-16T12:34:52.220Z"
   },
   {
    "duration": 6,
    "start_time": "2021-06-16T12:34:52.258Z"
   },
   {
    "duration": 9,
    "start_time": "2021-06-16T12:34:52.267Z"
   },
   {
    "duration": 9,
    "start_time": "2021-06-16T12:34:52.278Z"
   },
   {
    "duration": 657,
    "start_time": "2021-06-16T12:34:52.289Z"
   },
   {
    "duration": 12,
    "start_time": "2021-06-16T12:34:52.948Z"
   },
   {
    "duration": 27,
    "start_time": "2021-06-16T12:34:52.962Z"
   },
   {
    "duration": 9627,
    "start_time": "2021-06-16T12:34:52.991Z"
   },
   {
    "duration": 9,
    "start_time": "2021-06-16T12:35:02.620Z"
   },
   {
    "duration": 330,
    "start_time": "2021-06-16T12:35:02.632Z"
   },
   {
    "duration": 903,
    "start_time": "2021-06-16T12:35:02.967Z"
   },
   {
    "duration": 862,
    "start_time": "2021-06-16T12:35:03.874Z"
   },
   {
    "duration": 847,
    "start_time": "2021-06-16T12:35:04.739Z"
   },
   {
    "duration": 780,
    "start_time": "2021-06-16T12:35:05.588Z"
   },
   {
    "duration": 942,
    "start_time": "2021-06-16T12:35:06.371Z"
   },
   {
    "duration": 702,
    "start_time": "2021-06-16T12:35:07.316Z"
   },
   {
    "duration": 749,
    "start_time": "2021-06-16T12:35:08.020Z"
   },
   {
    "duration": 589,
    "start_time": "2021-06-16T12:35:08.771Z"
   },
   {
    "duration": 725,
    "start_time": "2021-06-16T12:35:09.362Z"
   },
   {
    "duration": 578,
    "start_time": "2021-06-16T12:35:10.089Z"
   },
   {
    "duration": 841,
    "start_time": "2021-06-16T12:35:10.669Z"
   },
   {
    "duration": 18,
    "start_time": "2021-06-16T12:35:11.512Z"
   },
   {
    "duration": 36,
    "start_time": "2021-06-16T12:35:11.532Z"
   },
   {
    "duration": 18,
    "start_time": "2021-06-16T12:35:11.570Z"
   },
   {
    "duration": 15,
    "start_time": "2021-06-16T12:35:11.591Z"
   },
   {
    "duration": 13,
    "start_time": "2021-06-16T12:35:11.609Z"
   },
   {
    "duration": 30,
    "start_time": "2021-06-16T12:35:11.625Z"
   },
   {
    "duration": 53,
    "start_time": "2021-06-16T12:35:25.722Z"
   },
   {
    "duration": 1530,
    "start_time": "2021-06-16T12:50:06.560Z"
   },
   {
    "duration": 43,
    "start_time": "2021-06-16T12:50:08.093Z"
   },
   {
    "duration": 19,
    "start_time": "2021-06-16T12:50:08.155Z"
   },
   {
    "duration": 39,
    "start_time": "2021-06-16T12:50:08.178Z"
   },
   {
    "duration": 9,
    "start_time": "2021-06-16T12:50:08.219Z"
   },
   {
    "duration": 37,
    "start_time": "2021-06-16T12:50:08.230Z"
   },
   {
    "duration": 44,
    "start_time": "2021-06-16T12:50:08.269Z"
   },
   {
    "duration": 10,
    "start_time": "2021-06-16T12:50:08.316Z"
   },
   {
    "duration": 54,
    "start_time": "2021-06-16T12:50:08.329Z"
   },
   {
    "duration": 14,
    "start_time": "2021-06-16T12:50:08.385Z"
   },
   {
    "duration": 19,
    "start_time": "2021-06-16T12:50:08.401Z"
   },
   {
    "duration": 61,
    "start_time": "2021-06-16T12:50:08.423Z"
   },
   {
    "duration": 47,
    "start_time": "2021-06-16T12:50:08.486Z"
   },
   {
    "duration": 24,
    "start_time": "2021-06-16T12:50:08.535Z"
   },
   {
    "duration": 19,
    "start_time": "2021-06-16T12:50:08.562Z"
   },
   {
    "duration": 21,
    "start_time": "2021-06-16T12:50:08.583Z"
   },
   {
    "duration": 647,
    "start_time": "2021-06-16T12:50:08.607Z"
   },
   {
    "duration": 8,
    "start_time": "2021-06-16T12:50:09.257Z"
   },
   {
    "duration": 24,
    "start_time": "2021-06-16T12:50:09.268Z"
   },
   {
    "duration": 4024,
    "start_time": "2021-06-16T12:50:09.294Z"
   },
   {
    "duration": 8,
    "start_time": "2021-06-16T12:50:13.321Z"
   },
   {
    "duration": 353,
    "start_time": "2021-06-16T12:50:13.332Z"
   },
   {
    "duration": 827,
    "start_time": "2021-06-16T12:50:13.690Z"
   },
   {
    "duration": 863,
    "start_time": "2021-06-16T12:50:14.520Z"
   },
   {
    "duration": 901,
    "start_time": "2021-06-16T12:50:15.385Z"
   },
   {
    "duration": 901,
    "start_time": "2021-06-16T12:50:16.289Z"
   },
   {
    "duration": 829,
    "start_time": "2021-06-16T12:50:17.193Z"
   },
   {
    "duration": 609,
    "start_time": "2021-06-16T12:50:18.024Z"
   },
   {
    "duration": 788,
    "start_time": "2021-06-16T12:50:18.635Z"
   },
   {
    "duration": 619,
    "start_time": "2021-06-16T12:50:19.426Z"
   },
   {
    "duration": 760,
    "start_time": "2021-06-16T12:50:20.048Z"
   },
   {
    "duration": 602,
    "start_time": "2021-06-16T12:50:20.811Z"
   },
   {
    "duration": 806,
    "start_time": "2021-06-16T12:50:21.415Z"
   },
   {
    "duration": 17,
    "start_time": "2021-06-16T12:50:22.224Z"
   },
   {
    "duration": 11,
    "start_time": "2021-06-16T12:50:22.256Z"
   },
   {
    "duration": 18,
    "start_time": "2021-06-16T12:50:22.269Z"
   },
   {
    "duration": 23,
    "start_time": "2021-06-16T12:50:22.289Z"
   },
   {
    "duration": 18,
    "start_time": "2021-06-16T12:50:22.314Z"
   },
   {
    "duration": 30,
    "start_time": "2021-06-16T12:50:22.335Z"
   },
   {
    "duration": 1651,
    "start_time": "2021-06-16T13:10:26.749Z"
   },
   {
    "duration": 69,
    "start_time": "2021-06-16T13:10:28.405Z"
   },
   {
    "duration": 15,
    "start_time": "2021-06-16T13:10:28.478Z"
   },
   {
    "duration": 28,
    "start_time": "2021-06-16T13:10:28.496Z"
   },
   {
    "duration": 29,
    "start_time": "2021-06-16T13:10:28.527Z"
   },
   {
    "duration": 13,
    "start_time": "2021-06-16T13:10:28.559Z"
   },
   {
    "duration": 30,
    "start_time": "2021-06-16T13:10:28.575Z"
   },
   {
    "duration": 45,
    "start_time": "2021-06-16T13:10:28.611Z"
   },
   {
    "duration": 36,
    "start_time": "2021-06-16T13:10:28.660Z"
   },
   {
    "duration": 19,
    "start_time": "2021-06-16T13:10:28.699Z"
   },
   {
    "duration": 22,
    "start_time": "2021-06-16T13:10:28.721Z"
   },
   {
    "duration": 44,
    "start_time": "2021-06-16T13:10:28.754Z"
   },
   {
    "duration": 70,
    "start_time": "2021-06-16T13:10:28.800Z"
   },
   {
    "duration": 7,
    "start_time": "2021-06-16T13:10:28.872Z"
   },
   {
    "duration": 24,
    "start_time": "2021-06-16T13:10:28.883Z"
   },
   {
    "duration": 25,
    "start_time": "2021-06-16T13:10:28.909Z"
   },
   {
    "duration": 847,
    "start_time": "2021-06-16T13:10:28.937Z"
   },
   {
    "duration": 7,
    "start_time": "2021-06-16T13:10:29.787Z"
   },
   {
    "duration": 81,
    "start_time": "2021-06-16T13:10:29.797Z"
   },
   {
    "duration": 3951,
    "start_time": "2021-06-16T13:10:29.881Z"
   },
   {
    "duration": 19,
    "start_time": "2021-06-16T13:10:33.835Z"
   },
   {
    "duration": 379,
    "start_time": "2021-06-16T13:10:33.857Z"
   },
   {
    "duration": 1046,
    "start_time": "2021-06-16T13:10:34.241Z"
   },
   {
    "duration": 1306,
    "start_time": "2021-06-16T13:10:35.292Z"
   },
   {
    "duration": 1288,
    "start_time": "2021-06-16T13:10:36.602Z"
   },
   {
    "duration": 1102,
    "start_time": "2021-06-16T13:10:37.893Z"
   },
   {
    "duration": 951,
    "start_time": "2021-06-16T13:10:38.999Z"
   },
   {
    "duration": 631,
    "start_time": "2021-06-16T13:10:39.955Z"
   },
   {
    "duration": 1036,
    "start_time": "2021-06-16T13:10:40.590Z"
   },
   {
    "duration": 936,
    "start_time": "2021-06-16T13:10:41.629Z"
   },
   {
    "duration": 969,
    "start_time": "2021-06-16T13:10:42.568Z"
   },
   {
    "duration": 925,
    "start_time": "2021-06-16T13:10:43.539Z"
   },
   {
    "duration": 1394,
    "start_time": "2021-06-16T13:10:44.467Z"
   },
   {
    "duration": 23,
    "start_time": "2021-06-16T13:10:45.865Z"
   },
   {
    "duration": 12,
    "start_time": "2021-06-16T13:10:45.892Z"
   },
   {
    "duration": 19,
    "start_time": "2021-06-16T13:10:45.906Z"
   },
   {
    "duration": 44,
    "start_time": "2021-06-16T13:10:45.927Z"
   },
   {
    "duration": 11,
    "start_time": "2021-06-16T13:10:45.974Z"
   },
   {
    "duration": 17,
    "start_time": "2021-06-16T13:10:45.987Z"
   },
   {
    "duration": 730,
    "start_time": "2021-06-16T13:51:18.447Z"
   },
   {
    "duration": 718,
    "start_time": "2021-06-16T13:51:38.471Z"
   },
   {
    "duration": 858,
    "start_time": "2021-06-16T13:54:47.592Z"
   },
   {
    "duration": 614,
    "start_time": "2021-06-16T13:55:19.551Z"
   },
   {
    "duration": 1557,
    "start_time": "2021-06-16T13:55:33.645Z"
   },
   {
    "duration": 57,
    "start_time": "2021-06-16T13:55:35.204Z"
   },
   {
    "duration": 15,
    "start_time": "2021-06-16T13:55:35.265Z"
   },
   {
    "duration": 40,
    "start_time": "2021-06-16T13:55:35.283Z"
   },
   {
    "duration": 6,
    "start_time": "2021-06-16T13:55:35.326Z"
   },
   {
    "duration": 29,
    "start_time": "2021-06-16T13:55:35.335Z"
   },
   {
    "duration": 41,
    "start_time": "2021-06-16T13:55:35.367Z"
   },
   {
    "duration": 11,
    "start_time": "2021-06-16T13:55:35.413Z"
   },
   {
    "duration": 50,
    "start_time": "2021-06-16T13:55:35.427Z"
   },
   {
    "duration": 11,
    "start_time": "2021-06-16T13:55:35.480Z"
   },
   {
    "duration": 18,
    "start_time": "2021-06-16T13:55:35.494Z"
   },
   {
    "duration": 65,
    "start_time": "2021-06-16T13:55:35.515Z"
   },
   {
    "duration": 47,
    "start_time": "2021-06-16T13:55:35.582Z"
   },
   {
    "duration": 35,
    "start_time": "2021-06-16T13:55:35.631Z"
   },
   {
    "duration": 8,
    "start_time": "2021-06-16T13:55:35.669Z"
   },
   {
    "duration": 14,
    "start_time": "2021-06-16T13:55:35.679Z"
   },
   {
    "duration": 668,
    "start_time": "2021-06-16T13:55:35.696Z"
   },
   {
    "duration": 9,
    "start_time": "2021-06-16T13:55:36.367Z"
   },
   {
    "duration": 25,
    "start_time": "2021-06-16T13:55:36.378Z"
   },
   {
    "duration": 3741,
    "start_time": "2021-06-16T13:55:36.405Z"
   },
   {
    "duration": 12,
    "start_time": "2021-06-16T13:55:40.148Z"
   },
   {
    "duration": 782,
    "start_time": "2021-06-16T13:55:40.165Z"
   },
   {
    "duration": 862,
    "start_time": "2021-06-16T13:55:40.957Z"
   },
   {
    "duration": 848,
    "start_time": "2021-06-16T13:55:41.822Z"
   },
   {
    "duration": 925,
    "start_time": "2021-06-16T13:55:42.672Z"
   },
   {
    "duration": 923,
    "start_time": "2021-06-16T13:55:43.600Z"
   },
   {
    "duration": 952,
    "start_time": "2021-06-16T13:55:44.526Z"
   },
   {
    "duration": 667,
    "start_time": "2021-06-16T13:55:45.481Z"
   },
   {
    "duration": 955,
    "start_time": "2021-06-16T13:55:46.150Z"
   },
   {
    "duration": 404,
    "start_time": "2021-06-16T13:55:47.107Z"
   },
   {
    "duration": 58,
    "start_time": "2021-06-16T13:55:47.456Z"
   },
   {
    "duration": 53,
    "start_time": "2021-06-16T13:55:47.462Z"
   },
   {
    "duration": 49,
    "start_time": "2021-06-16T13:55:47.467Z"
   },
   {
    "duration": 43,
    "start_time": "2021-06-16T13:55:47.474Z"
   },
   {
    "duration": 40,
    "start_time": "2021-06-16T13:55:47.479Z"
   },
   {
    "duration": 36,
    "start_time": "2021-06-16T13:55:47.484Z"
   },
   {
    "duration": 31,
    "start_time": "2021-06-16T13:55:47.490Z"
   },
   {
    "duration": 28,
    "start_time": "2021-06-16T13:55:47.495Z"
   },
   {
    "duration": 23,
    "start_time": "2021-06-16T13:55:47.501Z"
   },
   {
    "duration": 626,
    "start_time": "2021-06-16T13:59:24.428Z"
   },
   {
    "duration": 715,
    "start_time": "2021-06-16T13:59:30.311Z"
   },
   {
    "duration": 615,
    "start_time": "2021-06-16T13:59:34.804Z"
   },
   {
    "duration": 814,
    "start_time": "2021-06-16T14:04:35.115Z"
   },
   {
    "duration": 10,
    "start_time": "2021-06-16T14:07:41.404Z"
   },
   {
    "duration": 14,
    "start_time": "2021-06-16T14:11:33.975Z"
   },
   {
    "duration": 1583,
    "start_time": "2021-06-16T14:11:46.132Z"
   },
   {
    "duration": 51,
    "start_time": "2021-06-16T14:11:47.721Z"
   },
   {
    "duration": 15,
    "start_time": "2021-06-16T14:11:47.775Z"
   },
   {
    "duration": 27,
    "start_time": "2021-06-16T14:11:47.793Z"
   },
   {
    "duration": 40,
    "start_time": "2021-06-16T14:11:47.823Z"
   },
   {
    "duration": 12,
    "start_time": "2021-06-16T14:11:47.865Z"
   },
   {
    "duration": 24,
    "start_time": "2021-06-16T14:11:47.881Z"
   },
   {
    "duration": 10,
    "start_time": "2021-06-16T14:11:47.910Z"
   },
   {
    "duration": 60,
    "start_time": "2021-06-16T14:11:47.923Z"
   },
   {
    "duration": 10,
    "start_time": "2021-06-16T14:11:47.986Z"
   },
   {
    "duration": 6,
    "start_time": "2021-06-16T14:11:47.998Z"
   },
   {
    "duration": 83,
    "start_time": "2021-06-16T14:11:48.007Z"
   },
   {
    "duration": 47,
    "start_time": "2021-06-16T14:11:48.093Z"
   },
   {
    "duration": 14,
    "start_time": "2021-06-16T14:11:48.154Z"
   },
   {
    "duration": 7,
    "start_time": "2021-06-16T14:11:48.171Z"
   },
   {
    "duration": 8,
    "start_time": "2021-06-16T14:11:48.181Z"
   },
   {
    "duration": 670,
    "start_time": "2021-06-16T14:11:48.191Z"
   },
   {
    "duration": 7,
    "start_time": "2021-06-16T14:11:48.864Z"
   },
   {
    "duration": 22,
    "start_time": "2021-06-16T14:11:48.874Z"
   },
   {
    "duration": 3688,
    "start_time": "2021-06-16T14:11:48.898Z"
   },
   {
    "duration": 8,
    "start_time": "2021-06-16T14:11:52.588Z"
   },
   {
    "duration": 771,
    "start_time": "2021-06-16T14:11:52.600Z"
   },
   {
    "duration": 837,
    "start_time": "2021-06-16T14:11:53.374Z"
   },
   {
    "duration": 820,
    "start_time": "2021-06-16T14:11:54.213Z"
   },
   {
    "duration": 934,
    "start_time": "2021-06-16T14:11:55.035Z"
   },
   {
    "duration": 828,
    "start_time": "2021-06-16T14:11:55.972Z"
   },
   {
    "duration": 814,
    "start_time": "2021-06-16T14:11:56.803Z"
   },
   {
    "duration": 609,
    "start_time": "2021-06-16T14:11:57.619Z"
   },
   {
    "duration": 816,
    "start_time": "2021-06-16T14:11:58.230Z"
   },
   {
    "duration": 694,
    "start_time": "2021-06-16T14:11:59.049Z"
   },
   {
    "duration": 623,
    "start_time": "2021-06-16T14:11:59.746Z"
   },
   {
    "duration": 614,
    "start_time": "2021-06-16T14:12:00.371Z"
   },
   {
    "duration": 797,
    "start_time": "2021-06-16T14:12:00.988Z"
   },
   {
    "duration": 16,
    "start_time": "2021-06-16T14:12:01.788Z"
   },
   {
    "duration": 12,
    "start_time": "2021-06-16T14:12:01.807Z"
   },
   {
    "duration": 44,
    "start_time": "2021-06-16T14:12:01.821Z"
   },
   {
    "duration": 22,
    "start_time": "2021-06-16T14:12:01.868Z"
   },
   {
    "duration": 27,
    "start_time": "2021-06-16T14:12:01.893Z"
   },
   {
    "duration": 20,
    "start_time": "2021-06-16T14:12:01.922Z"
   },
   {
    "duration": 15,
    "start_time": "2021-06-16T14:12:28.501Z"
   },
   {
    "duration": 718,
    "start_time": "2021-06-16T14:17:09.608Z"
   },
   {
    "duration": 1570,
    "start_time": "2021-06-16T14:17:14.930Z"
   },
   {
    "duration": 59,
    "start_time": "2021-06-16T14:17:16.502Z"
   },
   {
    "duration": 15,
    "start_time": "2021-06-16T14:17:16.565Z"
   },
   {
    "duration": 24,
    "start_time": "2021-06-16T14:17:16.582Z"
   },
   {
    "duration": 4,
    "start_time": "2021-06-16T14:17:16.608Z"
   },
   {
    "duration": 49,
    "start_time": "2021-06-16T14:17:16.615Z"
   },
   {
    "duration": 24,
    "start_time": "2021-06-16T14:17:16.667Z"
   },
   {
    "duration": 10,
    "start_time": "2021-06-16T14:17:16.694Z"
   },
   {
    "duration": 70,
    "start_time": "2021-06-16T14:17:16.707Z"
   },
   {
    "duration": 10,
    "start_time": "2021-06-16T14:17:16.780Z"
   },
   {
    "duration": 7,
    "start_time": "2021-06-16T14:17:16.792Z"
   },
   {
    "duration": 72,
    "start_time": "2021-06-16T14:17:16.801Z"
   },
   {
    "duration": 50,
    "start_time": "2021-06-16T14:17:16.876Z"
   },
   {
    "duration": 6,
    "start_time": "2021-06-16T14:17:16.929Z"
   },
   {
    "duration": 10,
    "start_time": "2021-06-16T14:17:16.959Z"
   },
   {
    "duration": 7,
    "start_time": "2021-06-16T14:17:16.971Z"
   },
   {
    "duration": 699,
    "start_time": "2021-06-16T14:17:16.980Z"
   },
   {
    "duration": 6,
    "start_time": "2021-06-16T14:17:17.682Z"
   },
   {
    "duration": 23,
    "start_time": "2021-06-16T14:17:17.690Z"
   },
   {
    "duration": 3723,
    "start_time": "2021-06-16T14:17:17.715Z"
   },
   {
    "duration": 16,
    "start_time": "2021-06-16T14:17:21.440Z"
   },
   {
    "duration": 748,
    "start_time": "2021-06-16T14:17:21.459Z"
   },
   {
    "duration": 897,
    "start_time": "2021-06-16T14:17:22.213Z"
   },
   {
    "duration": 977,
    "start_time": "2021-06-16T14:17:23.112Z"
   },
   {
    "duration": 865,
    "start_time": "2021-06-16T14:17:24.092Z"
   },
   {
    "duration": 1055,
    "start_time": "2021-06-16T14:17:24.959Z"
   },
   {
    "duration": 817,
    "start_time": "2021-06-16T14:17:26.016Z"
   },
   {
    "duration": 633,
    "start_time": "2021-06-16T14:17:26.836Z"
   },
   {
    "duration": 849,
    "start_time": "2021-06-16T14:17:27.473Z"
   },
   {
    "duration": 734,
    "start_time": "2021-06-16T14:17:28.325Z"
   },
   {
    "duration": 967,
    "start_time": "2021-06-16T14:17:29.063Z"
   },
   {
    "duration": 715,
    "start_time": "2021-06-16T14:17:30.033Z"
   },
   {
    "duration": 946,
    "start_time": "2021-06-16T14:17:30.755Z"
   },
   {
    "duration": 16,
    "start_time": "2021-06-16T14:17:31.704Z"
   },
   {
    "duration": 24,
    "start_time": "2021-06-16T14:17:31.723Z"
   },
   {
    "duration": 41,
    "start_time": "2021-06-16T14:17:31.755Z"
   },
   {
    "duration": 29,
    "start_time": "2021-06-16T14:17:31.798Z"
   },
   {
    "duration": 10,
    "start_time": "2021-06-16T14:17:31.830Z"
   },
   {
    "duration": 20,
    "start_time": "2021-06-16T14:17:31.842Z"
   },
   {
    "duration": 10,
    "start_time": "2021-06-16T14:51:01.446Z"
   },
   {
    "duration": 16,
    "start_time": "2021-06-16T14:51:06.095Z"
   },
   {
    "duration": 366,
    "start_time": "2021-06-16T14:51:19.272Z"
   },
   {
    "duration": 15,
    "start_time": "2021-06-16T14:51:28.937Z"
   },
   {
    "duration": 301,
    "start_time": "2021-06-16T14:51:44.510Z"
   },
   {
    "duration": 328,
    "start_time": "2021-06-16T14:51:56.650Z"
   },
   {
    "duration": 370,
    "start_time": "2021-06-16T14:52:03.040Z"
   },
   {
    "duration": 15,
    "start_time": "2021-06-16T14:55:32.365Z"
   },
   {
    "duration": 1925,
    "start_time": "2021-06-16T14:55:52.563Z"
   },
   {
    "duration": 70,
    "start_time": "2021-06-16T14:55:54.492Z"
   },
   {
    "duration": 18,
    "start_time": "2021-06-16T14:55:54.569Z"
   },
   {
    "duration": 24,
    "start_time": "2021-06-16T14:55:54.590Z"
   },
   {
    "duration": 4,
    "start_time": "2021-06-16T14:55:54.617Z"
   },
   {
    "duration": 43,
    "start_time": "2021-06-16T14:55:54.623Z"
   },
   {
    "duration": 26,
    "start_time": "2021-06-16T14:55:54.669Z"
   },
   {
    "duration": 10,
    "start_time": "2021-06-16T14:55:54.699Z"
   },
   {
    "duration": 58,
    "start_time": "2021-06-16T14:55:54.713Z"
   },
   {
    "duration": 13,
    "start_time": "2021-06-16T14:55:54.775Z"
   },
   {
    "duration": 14,
    "start_time": "2021-06-16T14:55:54.791Z"
   },
   {
    "duration": 79,
    "start_time": "2021-06-16T14:55:54.808Z"
   },
   {
    "duration": 48,
    "start_time": "2021-06-16T14:55:54.890Z"
   },
   {
    "duration": 9,
    "start_time": "2021-06-16T14:55:54.956Z"
   },
   {
    "duration": 16,
    "start_time": "2021-06-16T14:55:54.968Z"
   },
   {
    "duration": 19,
    "start_time": "2021-06-16T14:55:54.987Z"
   },
   {
    "duration": 665,
    "start_time": "2021-06-16T14:55:55.008Z"
   },
   {
    "duration": 8,
    "start_time": "2021-06-16T14:55:55.675Z"
   },
   {
    "duration": 34,
    "start_time": "2021-06-16T14:55:55.685Z"
   },
   {
    "duration": 3556,
    "start_time": "2021-06-16T14:55:55.721Z"
   },
   {
    "duration": 9,
    "start_time": "2021-06-16T14:55:59.280Z"
   },
   {
    "duration": 785,
    "start_time": "2021-06-16T14:55:59.292Z"
   },
   {
    "duration": 834,
    "start_time": "2021-06-16T14:56:00.085Z"
   },
   {
    "duration": 856,
    "start_time": "2021-06-16T14:56:00.922Z"
   },
   {
    "duration": 903,
    "start_time": "2021-06-16T14:56:01.781Z"
   },
   {
    "duration": 805,
    "start_time": "2021-06-16T14:56:02.687Z"
   },
   {
    "duration": 826,
    "start_time": "2021-06-16T14:56:03.494Z"
   },
   {
    "duration": 608,
    "start_time": "2021-06-16T14:56:04.322Z"
   },
   {
    "duration": 378,
    "start_time": "2021-06-16T14:56:04.932Z"
   },
   {
    "duration": 899,
    "start_time": "2021-06-16T14:56:05.313Z"
   },
   {
    "duration": 620,
    "start_time": "2021-06-16T14:56:06.215Z"
   },
   {
    "duration": 600,
    "start_time": "2021-06-16T14:56:06.837Z"
   },
   {
    "duration": 704,
    "start_time": "2021-06-16T14:56:07.439Z"
   },
   {
    "duration": 764,
    "start_time": "2021-06-16T14:56:08.145Z"
   },
   {
    "duration": 17,
    "start_time": "2021-06-16T14:56:08.911Z"
   },
   {
    "duration": 34,
    "start_time": "2021-06-16T14:56:08.931Z"
   },
   {
    "duration": 20,
    "start_time": "2021-06-16T14:56:08.968Z"
   },
   {
    "duration": 15,
    "start_time": "2021-06-16T14:56:08.991Z"
   },
   {
    "duration": 21,
    "start_time": "2021-06-16T14:56:09.008Z"
   },
   {
    "duration": 9,
    "start_time": "2021-06-16T14:56:09.031Z"
   },
   {
    "duration": 1923,
    "start_time": "2021-06-16T14:57:18.749Z"
   },
   {
    "duration": 45,
    "start_time": "2021-06-16T14:57:20.676Z"
   },
   {
    "duration": 36,
    "start_time": "2021-06-16T14:57:20.725Z"
   },
   {
    "duration": 25,
    "start_time": "2021-06-16T14:57:20.765Z"
   },
   {
    "duration": 5,
    "start_time": "2021-06-16T14:57:20.793Z"
   },
   {
    "duration": 13,
    "start_time": "2021-06-16T14:57:20.800Z"
   },
   {
    "duration": 64,
    "start_time": "2021-06-16T14:57:20.816Z"
   },
   {
    "duration": 11,
    "start_time": "2021-06-16T14:57:20.884Z"
   },
   {
    "duration": 37,
    "start_time": "2021-06-16T14:57:20.897Z"
   },
   {
    "duration": 32,
    "start_time": "2021-06-16T14:57:20.937Z"
   },
   {
    "duration": 8,
    "start_time": "2021-06-16T14:57:20.972Z"
   },
   {
    "duration": 76,
    "start_time": "2021-06-16T14:57:20.983Z"
   },
   {
    "duration": 55,
    "start_time": "2021-06-16T14:57:21.062Z"
   },
   {
    "duration": 7,
    "start_time": "2021-06-16T14:57:21.119Z"
   },
   {
    "duration": 36,
    "start_time": "2021-06-16T14:57:21.128Z"
   },
   {
    "duration": 12,
    "start_time": "2021-06-16T14:57:21.167Z"
   },
   {
    "duration": 719,
    "start_time": "2021-06-16T14:57:21.182Z"
   },
   {
    "duration": 7,
    "start_time": "2021-06-16T14:57:21.903Z"
   },
   {
    "duration": 46,
    "start_time": "2021-06-16T14:57:21.912Z"
   },
   {
    "duration": 3957,
    "start_time": "2021-06-16T14:57:21.960Z"
   },
   {
    "duration": 9,
    "start_time": "2021-06-16T14:57:25.920Z"
   },
   {
    "duration": 967,
    "start_time": "2021-06-16T14:57:25.932Z"
   },
   {
    "duration": 1013,
    "start_time": "2021-06-16T14:57:26.906Z"
   },
   {
    "duration": 888,
    "start_time": "2021-06-16T14:57:27.923Z"
   },
   {
    "duration": 1007,
    "start_time": "2021-06-16T14:57:28.814Z"
   },
   {
    "duration": 948,
    "start_time": "2021-06-16T14:57:29.824Z"
   },
   {
    "duration": 1018,
    "start_time": "2021-06-16T14:57:30.774Z"
   },
   {
    "duration": 685,
    "start_time": "2021-06-16T14:57:31.795Z"
   },
   {
    "duration": 411,
    "start_time": "2021-06-16T14:57:32.483Z"
   },
   {
    "duration": 1005,
    "start_time": "2021-06-16T14:57:32.897Z"
   },
   {
    "duration": 653,
    "start_time": "2021-06-16T14:57:33.906Z"
   },
   {
    "duration": 718,
    "start_time": "2021-06-16T14:57:34.563Z"
   },
   {
    "duration": 681,
    "start_time": "2021-06-16T14:57:35.284Z"
   },
   {
    "duration": 787,
    "start_time": "2021-06-16T14:57:35.970Z"
   },
   {
    "duration": 19,
    "start_time": "2021-06-16T14:57:36.760Z"
   },
   {
    "duration": 8,
    "start_time": "2021-06-16T14:57:36.782Z"
   },
   {
    "duration": 17,
    "start_time": "2021-06-16T14:57:36.793Z"
   },
   {
    "duration": 61,
    "start_time": "2021-06-16T14:57:36.813Z"
   },
   {
    "duration": 8,
    "start_time": "2021-06-16T14:57:36.877Z"
   },
   {
    "duration": 11,
    "start_time": "2021-06-16T14:57:36.888Z"
   },
   {
    "duration": 357,
    "start_time": "2021-06-16T15:15:18.158Z"
   },
   {
    "duration": 460,
    "start_time": "2021-06-16T15:15:35.932Z"
   },
   {
    "duration": 447,
    "start_time": "2021-06-16T15:17:03.518Z"
   },
   {
    "duration": 1905,
    "start_time": "2021-06-16T16:09:08.083Z"
   },
   {
    "duration": 77,
    "start_time": "2021-06-16T16:09:09.995Z"
   },
   {
    "duration": 32,
    "start_time": "2021-06-16T16:09:10.076Z"
   },
   {
    "duration": 29,
    "start_time": "2021-06-16T16:09:10.115Z"
   },
   {
    "duration": 20,
    "start_time": "2021-06-16T16:09:10.146Z"
   },
   {
    "duration": 21,
    "start_time": "2021-06-16T16:09:10.169Z"
   },
   {
    "duration": 36,
    "start_time": "2021-06-16T16:09:10.192Z"
   },
   {
    "duration": 11,
    "start_time": "2021-06-16T16:09:10.231Z"
   },
   {
    "duration": 45,
    "start_time": "2021-06-16T16:09:10.264Z"
   },
   {
    "duration": 11,
    "start_time": "2021-06-16T16:09:10.313Z"
   },
   {
    "duration": 8,
    "start_time": "2021-06-16T16:09:10.327Z"
   },
   {
    "duration": 67,
    "start_time": "2021-06-16T16:09:10.359Z"
   },
   {
    "duration": 80,
    "start_time": "2021-06-16T16:09:10.428Z"
   },
   {
    "duration": 8,
    "start_time": "2021-06-16T16:09:10.513Z"
   },
   {
    "duration": 10,
    "start_time": "2021-06-16T16:09:10.523Z"
   },
   {
    "duration": 29,
    "start_time": "2021-06-16T16:09:10.535Z"
   },
   {
    "duration": 845,
    "start_time": "2021-06-16T16:09:10.567Z"
   },
   {
    "duration": 8,
    "start_time": "2021-06-16T16:09:11.415Z"
   },
   {
    "duration": 54,
    "start_time": "2021-06-16T16:09:11.426Z"
   },
   {
    "duration": 4541,
    "start_time": "2021-06-16T16:09:11.483Z"
   },
   {
    "duration": 7,
    "start_time": "2021-06-16T16:09:16.026Z"
   },
   {
    "duration": 887,
    "start_time": "2021-06-16T16:09:16.036Z"
   },
   {
    "duration": 991,
    "start_time": "2021-06-16T16:09:16.927Z"
   },
   {
    "duration": 963,
    "start_time": "2021-06-16T16:09:17.922Z"
   },
   {
    "duration": 1041,
    "start_time": "2021-06-16T16:09:18.888Z"
   },
   {
    "duration": 1077,
    "start_time": "2021-06-16T16:09:19.932Z"
   },
   {
    "duration": 1074,
    "start_time": "2021-06-16T16:09:21.013Z"
   },
   {
    "duration": 710,
    "start_time": "2021-06-16T16:09:22.091Z"
   },
   {
    "duration": 620,
    "start_time": "2021-06-16T16:09:22.805Z"
   },
   {
    "duration": 1896,
    "start_time": "2021-06-16T16:09:23.432Z"
   },
   {
    "duration": 697,
    "start_time": "2021-06-16T16:09:25.331Z"
   },
   {
    "duration": 771,
    "start_time": "2021-06-16T16:09:26.031Z"
   },
   {
    "duration": 879,
    "start_time": "2021-06-16T16:09:26.805Z"
   },
   {
    "duration": 864,
    "start_time": "2021-06-16T16:09:27.698Z"
   },
   {
    "duration": 21,
    "start_time": "2021-06-16T16:09:28.566Z"
   },
   {
    "duration": 27,
    "start_time": "2021-06-16T16:09:28.591Z"
   },
   {
    "duration": 19,
    "start_time": "2021-06-16T16:09:28.620Z"
   },
   {
    "duration": 33,
    "start_time": "2021-06-16T16:09:28.642Z"
   },
   {
    "duration": 12,
    "start_time": "2021-06-16T16:09:28.679Z"
   },
   {
    "duration": 14,
    "start_time": "2021-06-16T16:09:28.694Z"
   },
   {
    "duration": 6,
    "start_time": "2021-06-16T16:10:12.924Z"
   },
   {
    "duration": 482,
    "start_time": "2021-06-16T16:10:21.104Z"
   },
   {
    "duration": 905,
    "start_time": "2021-06-16T16:11:04.670Z"
   },
   {
    "duration": 10,
    "start_time": "2021-06-16T16:11:08.847Z"
   },
   {
    "duration": 763,
    "start_time": "2021-06-16T16:12:53.623Z"
   },
   {
    "duration": 2112,
    "start_time": "2021-06-16T16:14:32.110Z"
   },
   {
    "duration": 51,
    "start_time": "2021-06-16T16:14:34.225Z"
   },
   {
    "duration": 14,
    "start_time": "2021-06-16T16:14:34.279Z"
   },
   {
    "duration": 26,
    "start_time": "2021-06-16T16:14:34.296Z"
   },
   {
    "duration": 4,
    "start_time": "2021-06-16T16:14:34.324Z"
   },
   {
    "duration": 8,
    "start_time": "2021-06-16T16:14:34.360Z"
   },
   {
    "duration": 35,
    "start_time": "2021-06-16T16:14:34.371Z"
   },
   {
    "duration": 13,
    "start_time": "2021-06-16T16:14:34.410Z"
   },
   {
    "duration": 62,
    "start_time": "2021-06-16T16:14:34.426Z"
   },
   {
    "duration": 14,
    "start_time": "2021-06-16T16:14:34.491Z"
   },
   {
    "duration": 9,
    "start_time": "2021-06-16T16:14:34.508Z"
   },
   {
    "duration": 52,
    "start_time": "2021-06-16T16:14:34.557Z"
   },
   {
    "duration": 63,
    "start_time": "2021-06-16T16:14:34.612Z"
   },
   {
    "duration": 6,
    "start_time": "2021-06-16T16:14:34.678Z"
   },
   {
    "duration": 10,
    "start_time": "2021-06-16T16:14:34.687Z"
   },
   {
    "duration": 10,
    "start_time": "2021-06-16T16:14:34.700Z"
   },
   {
    "duration": 695,
    "start_time": "2021-06-16T16:14:34.713Z"
   },
   {
    "duration": 7,
    "start_time": "2021-06-16T16:14:35.410Z"
   },
   {
    "duration": 50,
    "start_time": "2021-06-16T16:14:35.420Z"
   },
   {
    "duration": 5010,
    "start_time": "2021-06-16T16:14:35.472Z"
   },
   {
    "duration": 10,
    "start_time": "2021-06-16T16:14:40.484Z"
   },
   {
    "duration": 787,
    "start_time": "2021-06-16T16:14:40.496Z"
   },
   {
    "duration": 1098,
    "start_time": "2021-06-16T16:14:41.288Z"
   },
   {
    "duration": 842,
    "start_time": "2021-06-16T16:14:42.390Z"
   },
   {
    "duration": 863,
    "start_time": "2021-06-16T16:14:43.234Z"
   },
   {
    "duration": 1039,
    "start_time": "2021-06-16T16:14:44.100Z"
   },
   {
    "duration": 925,
    "start_time": "2021-06-16T16:14:45.142Z"
   },
   {
    "duration": 733,
    "start_time": "2021-06-16T16:14:46.073Z"
   },
   {
    "duration": 370,
    "start_time": "2021-06-16T16:14:46.808Z"
   },
   {
    "duration": 906,
    "start_time": "2021-06-16T16:14:47.181Z"
   },
   {
    "duration": 723,
    "start_time": "2021-06-16T16:14:48.090Z"
   },
   {
    "duration": 653,
    "start_time": "2021-06-16T16:14:48.815Z"
   },
   {
    "duration": 611,
    "start_time": "2021-06-16T16:14:49.471Z"
   },
   {
    "duration": 815,
    "start_time": "2021-06-16T16:14:50.087Z"
   },
   {
    "duration": 15,
    "start_time": "2021-06-16T16:14:50.904Z"
   },
   {
    "duration": 25,
    "start_time": "2021-06-16T16:14:50.922Z"
   },
   {
    "duration": 12,
    "start_time": "2021-06-16T16:14:50.959Z"
   },
   {
    "duration": 33,
    "start_time": "2021-06-16T16:14:50.975Z"
   },
   {
    "duration": 24,
    "start_time": "2021-06-16T16:14:51.010Z"
   },
   {
    "duration": 30,
    "start_time": "2021-06-16T16:14:51.037Z"
   },
   {
    "duration": 1590,
    "start_time": "2021-06-17T08:31:55.756Z"
   },
   {
    "duration": 51,
    "start_time": "2021-06-17T08:31:57.348Z"
   },
   {
    "duration": 16,
    "start_time": "2021-06-17T08:31:57.402Z"
   },
   {
    "duration": 43,
    "start_time": "2021-06-17T08:31:57.422Z"
   },
   {
    "duration": 24,
    "start_time": "2021-06-17T08:31:57.468Z"
   },
   {
    "duration": 8,
    "start_time": "2021-06-17T08:31:57.495Z"
   },
   {
    "duration": 29,
    "start_time": "2021-06-17T08:31:57.505Z"
   },
   {
    "duration": 10,
    "start_time": "2021-06-17T08:31:57.537Z"
   },
   {
    "duration": 79,
    "start_time": "2021-06-17T08:31:57.550Z"
   },
   {
    "duration": 16,
    "start_time": "2021-06-17T08:31:57.632Z"
   },
   {
    "duration": 39,
    "start_time": "2021-06-17T08:31:57.651Z"
   },
   {
    "duration": 46,
    "start_time": "2021-06-17T08:31:57.693Z"
   },
   {
    "duration": 80,
    "start_time": "2021-06-17T08:31:57.742Z"
   },
   {
    "duration": 7,
    "start_time": "2021-06-17T08:31:57.824Z"
   },
   {
    "duration": 9,
    "start_time": "2021-06-17T08:31:57.833Z"
   },
   {
    "duration": 10,
    "start_time": "2021-06-17T08:31:57.845Z"
   },
   {
    "duration": 782,
    "start_time": "2021-06-17T08:31:57.895Z"
   },
   {
    "duration": 12,
    "start_time": "2021-06-17T08:31:58.686Z"
   },
   {
    "duration": 21,
    "start_time": "2021-06-17T08:31:58.703Z"
   },
   {
    "duration": 3784,
    "start_time": "2021-06-17T08:31:58.727Z"
   },
   {
    "duration": 9,
    "start_time": "2021-06-17T08:32:02.514Z"
   },
   {
    "duration": 1219,
    "start_time": "2021-06-17T08:32:02.527Z"
   },
   {
    "duration": 1208,
    "start_time": "2021-06-17T08:32:03.753Z"
   },
   {
    "duration": 939,
    "start_time": "2021-06-17T08:32:04.966Z"
   },
   {
    "duration": 829,
    "start_time": "2021-06-17T08:32:05.907Z"
   },
   {
    "duration": 909,
    "start_time": "2021-06-17T08:32:06.738Z"
   },
   {
    "duration": 892,
    "start_time": "2021-06-17T08:32:07.650Z"
   },
   {
    "duration": 658,
    "start_time": "2021-06-17T08:32:08.544Z"
   },
   {
    "duration": 358,
    "start_time": "2021-06-17T08:32:09.204Z"
   },
   {
    "duration": 885,
    "start_time": "2021-06-17T08:32:09.564Z"
   },
   {
    "duration": 713,
    "start_time": "2021-06-17T08:32:10.451Z"
   },
   {
    "duration": 652,
    "start_time": "2021-06-17T08:32:11.166Z"
   },
   {
    "duration": 690,
    "start_time": "2021-06-17T08:32:11.820Z"
   },
   {
    "duration": 1273,
    "start_time": "2021-06-17T08:32:12.513Z"
   },
   {
    "duration": 27,
    "start_time": "2021-06-17T08:32:13.790Z"
   },
   {
    "duration": 12,
    "start_time": "2021-06-17T08:32:13.820Z"
   },
   {
    "duration": 11,
    "start_time": "2021-06-17T08:32:13.835Z"
   },
   {
    "duration": 45,
    "start_time": "2021-06-17T08:32:13.849Z"
   },
   {
    "duration": 16,
    "start_time": "2021-06-17T08:32:13.900Z"
   },
   {
    "duration": 14,
    "start_time": "2021-06-17T08:32:13.918Z"
   },
   {
    "duration": 1875,
    "start_time": "2021-06-17T15:31:33.018Z"
   },
   {
    "duration": 56,
    "start_time": "2021-06-17T15:31:34.896Z"
   },
   {
    "duration": 14,
    "start_time": "2021-06-17T15:31:34.955Z"
   },
   {
    "duration": 55,
    "start_time": "2021-06-17T15:31:34.972Z"
   },
   {
    "duration": 4,
    "start_time": "2021-06-17T15:31:35.029Z"
   },
   {
    "duration": 17,
    "start_time": "2021-06-17T15:31:35.035Z"
   },
   {
    "duration": 26,
    "start_time": "2021-06-17T15:31:35.054Z"
   },
   {
    "duration": 42,
    "start_time": "2021-06-17T15:31:35.084Z"
   },
   {
    "duration": 36,
    "start_time": "2021-06-17T15:31:35.129Z"
   },
   {
    "duration": 10,
    "start_time": "2021-06-17T15:31:35.167Z"
   },
   {
    "duration": 8,
    "start_time": "2021-06-17T15:31:35.180Z"
   },
   {
    "duration": 43,
    "start_time": "2021-06-17T15:31:35.225Z"
   },
   {
    "duration": 77,
    "start_time": "2021-06-17T15:31:35.270Z"
   },
   {
    "duration": 7,
    "start_time": "2021-06-17T15:31:35.349Z"
   },
   {
    "duration": 12,
    "start_time": "2021-06-17T15:31:35.358Z"
   },
   {
    "duration": 17,
    "start_time": "2021-06-17T15:31:35.372Z"
   },
   {
    "duration": 680,
    "start_time": "2021-06-17T15:31:35.392Z"
   },
   {
    "duration": 8,
    "start_time": "2021-06-17T15:31:36.075Z"
   },
   {
    "duration": 53,
    "start_time": "2021-06-17T15:31:36.086Z"
   },
   {
    "duration": 3633,
    "start_time": "2021-06-17T15:31:36.142Z"
   },
   {
    "duration": 7,
    "start_time": "2021-06-17T15:31:39.777Z"
   },
   {
    "duration": 753,
    "start_time": "2021-06-17T15:31:39.787Z"
   },
   {
    "duration": 834,
    "start_time": "2021-06-17T15:31:40.545Z"
   },
   {
    "duration": 783,
    "start_time": "2021-06-17T15:31:41.383Z"
   },
   {
    "duration": 834,
    "start_time": "2021-06-17T15:31:42.169Z"
   },
   {
    "duration": 932,
    "start_time": "2021-06-17T15:31:43.005Z"
   },
   {
    "duration": 919,
    "start_time": "2021-06-17T15:31:43.940Z"
   },
   {
    "duration": 611,
    "start_time": "2021-06-17T15:31:44.862Z"
   },
   {
    "duration": 468,
    "start_time": "2021-06-17T15:31:45.476Z"
   },
   {
    "duration": 823,
    "start_time": "2021-06-17T15:31:45.946Z"
   },
   {
    "duration": 707,
    "start_time": "2021-06-17T15:31:46.772Z"
   },
   {
    "duration": 612,
    "start_time": "2021-06-17T15:31:47.482Z"
   },
   {
    "duration": 601,
    "start_time": "2021-06-17T15:31:48.097Z"
   },
   {
    "duration": 796,
    "start_time": "2021-06-17T15:31:48.701Z"
   },
   {
    "duration": 26,
    "start_time": "2021-06-17T15:31:49.501Z"
   },
   {
    "duration": 11,
    "start_time": "2021-06-17T15:31:49.531Z"
   },
   {
    "duration": 12,
    "start_time": "2021-06-17T15:31:49.546Z"
   },
   {
    "duration": 16,
    "start_time": "2021-06-17T15:31:49.562Z"
   },
   {
    "duration": 7,
    "start_time": "2021-06-17T15:31:49.625Z"
   },
   {
    "duration": 12,
    "start_time": "2021-06-17T15:31:49.635Z"
   },
   {
    "duration": 6,
    "start_time": "2021-06-17T15:32:36.305Z"
   },
   {
    "duration": 9,
    "start_time": "2021-06-17T15:32:53.760Z"
   },
   {
    "duration": 593,
    "start_time": "2022-02-07T16:45:51.407Z"
   },
   {
    "duration": 984,
    "start_time": "2022-02-07T16:45:55.171Z"
   },
   {
    "duration": 160,
    "start_time": "2022-02-07T16:45:56.157Z"
   },
   {
    "duration": 15,
    "start_time": "2022-02-07T16:46:41.262Z"
   },
   {
    "duration": 7,
    "start_time": "2022-02-07T16:47:36.444Z"
   },
   {
    "duration": 7,
    "start_time": "2022-02-07T16:50:02.892Z"
   },
   {
    "duration": 104,
    "start_time": "2022-02-07T16:50:33.331Z"
   },
   {
    "duration": 102,
    "start_time": "2022-02-07T16:50:55.908Z"
   },
   {
    "duration": 379,
    "start_time": "2022-02-07T16:55:55.926Z"
   },
   {
    "duration": 9,
    "start_time": "2022-02-07T16:56:03.878Z"
   },
   {
    "duration": 13,
    "start_time": "2022-02-07T16:56:10.218Z"
   },
   {
    "duration": 344,
    "start_time": "2022-02-07T16:58:03.011Z"
   },
   {
    "duration": 317,
    "start_time": "2022-02-07T16:58:51.782Z"
   },
   {
    "duration": 379,
    "start_time": "2022-02-07T16:59:12.675Z"
   },
   {
    "duration": 107,
    "start_time": "2022-02-07T17:00:10.513Z"
   },
   {
    "duration": 14,
    "start_time": "2022-02-07T17:00:15.432Z"
   },
   {
    "duration": 316,
    "start_time": "2022-02-07T17:00:57.098Z"
   },
   {
    "duration": 316,
    "start_time": "2022-02-07T17:01:02.328Z"
   },
   {
    "duration": 370,
    "start_time": "2022-02-07T17:01:46.577Z"
   },
   {
    "duration": 327,
    "start_time": "2022-02-07T17:01:55.226Z"
   },
   {
    "duration": 346,
    "start_time": "2022-02-07T17:02:03.593Z"
   },
   {
    "duration": 325,
    "start_time": "2022-02-07T17:02:08.511Z"
   },
   {
    "duration": 126,
    "start_time": "2022-02-07T17:04:45.052Z"
   },
   {
    "duration": 142,
    "start_time": "2022-02-07T17:04:54.584Z"
   },
   {
    "duration": 121,
    "start_time": "2022-02-07T17:05:00.251Z"
   },
   {
    "duration": 115,
    "start_time": "2022-02-07T17:05:08.206Z"
   },
   {
    "duration": 1159,
    "start_time": "2022-02-07T17:06:08.599Z"
   },
   {
    "duration": 44,
    "start_time": "2022-02-07T17:06:09.759Z"
   },
   {
    "duration": 24,
    "start_time": "2022-02-07T17:06:09.805Z"
   },
   {
    "duration": 8,
    "start_time": "2022-02-07T17:06:09.831Z"
   },
   {
    "duration": 15,
    "start_time": "2022-02-07T17:06:09.840Z"
   },
   {
    "duration": 5,
    "start_time": "2022-02-07T17:06:09.856Z"
   },
   {
    "duration": 18,
    "start_time": "2022-02-07T17:06:09.863Z"
   },
   {
    "duration": 6,
    "start_time": "2022-02-07T17:06:09.883Z"
   },
   {
    "duration": 43,
    "start_time": "2022-02-07T17:06:09.892Z"
   },
   {
    "duration": 6,
    "start_time": "2022-02-07T17:06:09.937Z"
   },
   {
    "duration": 4,
    "start_time": "2022-02-07T17:06:09.944Z"
   },
   {
    "duration": 28,
    "start_time": "2022-02-07T17:06:09.950Z"
   },
   {
    "duration": 54,
    "start_time": "2022-02-07T17:06:09.979Z"
   },
   {
    "duration": 5,
    "start_time": "2022-02-07T17:06:10.035Z"
   },
   {
    "duration": 7,
    "start_time": "2022-02-07T17:06:10.042Z"
   },
   {
    "duration": 5,
    "start_time": "2022-02-07T17:06:10.051Z"
   },
   {
    "duration": 354,
    "start_time": "2022-02-07T17:06:10.058Z"
   },
   {
    "duration": 13,
    "start_time": "2022-02-07T17:06:10.414Z"
   },
   {
    "duration": 13,
    "start_time": "2022-02-07T17:06:10.428Z"
   },
   {
    "duration": 12,
    "start_time": "2022-02-07T17:06:10.442Z"
   },
   {
    "duration": 9,
    "start_time": "2022-02-07T17:06:10.455Z"
   },
   {
    "duration": 109,
    "start_time": "2022-02-07T17:06:10.466Z"
   },
   {
    "duration": 43,
    "start_time": "2022-02-07T17:06:10.534Z"
   },
   {
    "duration": 30,
    "start_time": "2022-02-07T17:06:10.548Z"
   },
   {
    "duration": 25,
    "start_time": "2022-02-07T17:06:10.554Z"
   },
   {
    "duration": 15,
    "start_time": "2022-02-07T17:06:10.565Z"
   },
   {
    "duration": 9,
    "start_time": "2022-02-07T17:06:10.571Z"
   },
   {
    "duration": 1,
    "start_time": "2022-02-07T17:06:10.580Z"
   },
   {
    "duration": -5,
    "start_time": "2022-02-07T17:06:10.587Z"
   },
   {
    "duration": -13,
    "start_time": "2022-02-07T17:06:10.596Z"
   },
   {
    "duration": -37,
    "start_time": "2022-02-07T17:06:10.621Z"
   },
   {
    "duration": -45,
    "start_time": "2022-02-07T17:06:10.630Z"
   },
   {
    "duration": -50,
    "start_time": "2022-02-07T17:06:10.636Z"
   },
   {
    "duration": -58,
    "start_time": "2022-02-07T17:06:10.645Z"
   },
   {
    "duration": -64,
    "start_time": "2022-02-07T17:06:10.652Z"
   },
   {
    "duration": -72,
    "start_time": "2022-02-07T17:06:10.661Z"
   },
   {
    "duration": -77,
    "start_time": "2022-02-07T17:06:10.667Z"
   },
   {
    "duration": -85,
    "start_time": "2022-02-07T17:06:10.676Z"
   },
   {
    "duration": -91,
    "start_time": "2022-02-07T17:06:10.683Z"
   },
   {
    "duration": -98,
    "start_time": "2022-02-07T17:06:10.691Z"
   },
   {
    "duration": -104,
    "start_time": "2022-02-07T17:06:10.698Z"
   },
   {
    "duration": -110,
    "start_time": "2022-02-07T17:06:10.705Z"
   },
   {
    "duration": -118,
    "start_time": "2022-02-07T17:06:10.714Z"
   },
   {
    "duration": -125,
    "start_time": "2022-02-07T17:06:10.722Z"
   },
   {
    "duration": 9,
    "start_time": "2022-02-07T17:06:43.866Z"
   },
   {
    "duration": 22,
    "start_time": "2022-02-07T17:06:52.859Z"
   },
   {
    "duration": 12,
    "start_time": "2022-02-07T17:07:01.417Z"
   },
   {
    "duration": 164,
    "start_time": "2022-02-07T17:07:29.131Z"
   },
   {
    "duration": 163,
    "start_time": "2022-02-07T17:07:33.780Z"
   },
   {
    "duration": 415,
    "start_time": "2022-02-07T17:07:50.403Z"
   },
   {
    "duration": 161,
    "start_time": "2022-02-07T17:08:59.383Z"
   },
   {
    "duration": 165,
    "start_time": "2022-02-07T17:09:50.067Z"
   },
   {
    "duration": 146,
    "start_time": "2022-02-07T17:10:04.257Z"
   },
   {
    "duration": 336,
    "start_time": "2022-02-07T17:16:30.200Z"
   },
   {
    "duration": 323,
    "start_time": "2022-02-07T17:17:12.811Z"
   },
   {
    "duration": 346,
    "start_time": "2022-02-07T17:18:00.296Z"
   },
   {
    "duration": 333,
    "start_time": "2022-02-07T17:18:45.458Z"
   },
   {
    "duration": 336,
    "start_time": "2022-02-07T17:19:35.177Z"
   },
   {
    "duration": 346,
    "start_time": "2022-02-07T17:19:45.600Z"
   },
   {
    "duration": 10,
    "start_time": "2022-02-07T17:20:01.741Z"
   },
   {
    "duration": 188,
    "start_time": "2022-02-07T17:20:35.150Z"
   },
   {
    "duration": 370,
    "start_time": "2022-02-07T17:20:40.124Z"
   },
   {
    "duration": 335,
    "start_time": "2022-02-07T17:20:49.019Z"
   },
   {
    "duration": 117,
    "start_time": "2022-02-07T17:21:00.962Z"
   },
   {
    "duration": 315,
    "start_time": "2022-02-07T17:21:04.904Z"
   },
   {
    "duration": 8095,
    "start_time": "2022-02-07T17:21:50.695Z"
   },
   {
    "duration": 8024,
    "start_time": "2022-02-07T17:22:14.300Z"
   },
   {
    "duration": 9990,
    "start_time": "2022-02-07T17:22:40.959Z"
   },
   {
    "duration": 7,
    "start_time": "2022-02-07T17:23:09.019Z"
   },
   {
    "duration": 1063,
    "start_time": "2022-02-07T17:23:48.474Z"
   },
   {
    "duration": 44,
    "start_time": "2022-02-07T17:23:49.538Z"
   },
   {
    "duration": 23,
    "start_time": "2022-02-07T17:23:49.584Z"
   },
   {
    "duration": 8,
    "start_time": "2022-02-07T17:23:49.609Z"
   },
   {
    "duration": 16,
    "start_time": "2022-02-07T17:23:49.619Z"
   },
   {
    "duration": 4,
    "start_time": "2022-02-07T17:23:49.636Z"
   },
   {
    "duration": 15,
    "start_time": "2022-02-07T17:23:49.642Z"
   },
   {
    "duration": 6,
    "start_time": "2022-02-07T17:23:49.659Z"
   },
   {
    "duration": 16,
    "start_time": "2022-02-07T17:23:49.667Z"
   },
   {
    "duration": 6,
    "start_time": "2022-02-07T17:23:49.685Z"
   },
   {
    "duration": 4,
    "start_time": "2022-02-07T17:23:49.692Z"
   },
   {
    "duration": 60,
    "start_time": "2022-02-07T17:23:49.697Z"
   },
   {
    "duration": 33,
    "start_time": "2022-02-07T17:23:49.767Z"
   },
   {
    "duration": 5,
    "start_time": "2022-02-07T17:23:49.801Z"
   },
   {
    "duration": 21,
    "start_time": "2022-02-07T17:23:49.808Z"
   },
   {
    "duration": 4,
    "start_time": "2022-02-07T17:23:49.830Z"
   },
   {
    "duration": 339,
    "start_time": "2022-02-07T17:23:49.836Z"
   },
   {
    "duration": 5,
    "start_time": "2022-02-07T17:23:50.176Z"
   },
   {
    "duration": 15,
    "start_time": "2022-02-07T17:23:50.182Z"
   },
   {
    "duration": 10,
    "start_time": "2022-02-07T17:23:50.198Z"
   },
   {
    "duration": 27,
    "start_time": "2022-02-07T17:23:50.210Z"
   },
   {
    "duration": 13,
    "start_time": "2022-02-07T17:23:50.238Z"
   },
   {
    "duration": 443,
    "start_time": "2022-02-07T17:23:50.254Z"
   },
   {
    "duration": 40,
    "start_time": "2022-02-07T17:23:50.659Z"
   },
   {
    "duration": 28,
    "start_time": "2022-02-07T17:23:50.672Z"
   },
   {
    "duration": 17,
    "start_time": "2022-02-07T17:23:50.684Z"
   },
   {
    "duration": 8,
    "start_time": "2022-02-07T17:23:50.694Z"
   },
   {
    "duration": -3,
    "start_time": "2022-02-07T17:23:50.706Z"
   },
   {
    "duration": -15,
    "start_time": "2022-02-07T17:23:50.719Z"
   },
   {
    "duration": -28,
    "start_time": "2022-02-07T17:23:50.733Z"
   },
   {
    "duration": -38,
    "start_time": "2022-02-07T17:23:50.744Z"
   },
   {
    "duration": -49,
    "start_time": "2022-02-07T17:23:50.755Z"
   },
   {
    "duration": -60,
    "start_time": "2022-02-07T17:23:50.767Z"
   },
   {
    "duration": -69,
    "start_time": "2022-02-07T17:23:50.777Z"
   },
   {
    "duration": -79,
    "start_time": "2022-02-07T17:23:50.788Z"
   },
   {
    "duration": -94,
    "start_time": "2022-02-07T17:23:50.804Z"
   },
   {
    "duration": -109,
    "start_time": "2022-02-07T17:23:50.820Z"
   },
   {
    "duration": -140,
    "start_time": "2022-02-07T17:23:50.852Z"
   },
   {
    "duration": -149,
    "start_time": "2022-02-07T17:23:50.862Z"
   },
   {
    "duration": -160,
    "start_time": "2022-02-07T17:23:50.874Z"
   },
   {
    "duration": -173,
    "start_time": "2022-02-07T17:23:50.887Z"
   },
   {
    "duration": -183,
    "start_time": "2022-02-07T17:23:50.898Z"
   },
   {
    "duration": -193,
    "start_time": "2022-02-07T17:23:50.909Z"
   },
   {
    "duration": -202,
    "start_time": "2022-02-07T17:23:50.919Z"
   },
   {
    "duration": -213,
    "start_time": "2022-02-07T17:23:50.931Z"
   },
   {
    "duration": -221,
    "start_time": "2022-02-07T17:23:50.940Z"
   },
   {
    "duration": -233,
    "start_time": "2022-02-07T17:23:50.953Z"
   },
   {
    "duration": 1050,
    "start_time": "2022-02-07T17:24:23.908Z"
   },
   {
    "duration": 45,
    "start_time": "2022-02-07T17:24:24.959Z"
   },
   {
    "duration": 24,
    "start_time": "2022-02-07T17:24:25.006Z"
   },
   {
    "duration": 8,
    "start_time": "2022-02-07T17:24:25.031Z"
   },
   {
    "duration": 14,
    "start_time": "2022-02-07T17:24:25.041Z"
   },
   {
    "duration": 4,
    "start_time": "2022-02-07T17:24:25.056Z"
   },
   {
    "duration": 15,
    "start_time": "2022-02-07T17:24:25.062Z"
   },
   {
    "duration": 6,
    "start_time": "2022-02-07T17:24:25.079Z"
   },
   {
    "duration": 47,
    "start_time": "2022-02-07T17:24:25.088Z"
   },
   {
    "duration": 6,
    "start_time": "2022-02-07T17:24:25.137Z"
   },
   {
    "duration": 5,
    "start_time": "2022-02-07T17:24:25.144Z"
   },
   {
    "duration": 29,
    "start_time": "2022-02-07T17:24:25.151Z"
   },
   {
    "duration": 47,
    "start_time": "2022-02-07T17:24:25.181Z"
   },
   {
    "duration": 4,
    "start_time": "2022-02-07T17:24:25.229Z"
   },
   {
    "duration": 7,
    "start_time": "2022-02-07T17:24:25.235Z"
   },
   {
    "duration": 5,
    "start_time": "2022-02-07T17:24:25.243Z"
   },
   {
    "duration": 344,
    "start_time": "2022-02-07T17:24:25.250Z"
   },
   {
    "duration": 5,
    "start_time": "2022-02-07T17:24:25.595Z"
   },
   {
    "duration": 20,
    "start_time": "2022-02-07T17:24:25.601Z"
   },
   {
    "duration": 11,
    "start_time": "2022-02-07T17:24:25.627Z"
   },
   {
    "duration": 13,
    "start_time": "2022-02-07T17:24:25.639Z"
   },
   {
    "duration": 420,
    "start_time": "2022-02-07T17:24:25.654Z"
   },
   {
    "duration": 72,
    "start_time": "2022-02-07T17:24:26.004Z"
   },
   {
    "duration": 1,
    "start_time": "2022-02-07T17:24:26.076Z"
   },
   {
    "duration": -11,
    "start_time": "2022-02-07T17:24:26.089Z"
   },
   {
    "duration": -25,
    "start_time": "2022-02-07T17:24:26.103Z"
   },
   {
    "duration": -34,
    "start_time": "2022-02-07T17:24:26.113Z"
   },
   {
    "duration": -40,
    "start_time": "2022-02-07T17:24:26.120Z"
   },
   {
    "duration": -50,
    "start_time": "2022-02-07T17:24:26.131Z"
   },
   {
    "duration": -58,
    "start_time": "2022-02-07T17:24:26.139Z"
   },
   {
    "duration": -69,
    "start_time": "2022-02-07T17:24:26.151Z"
   },
   {
    "duration": -75,
    "start_time": "2022-02-07T17:24:26.158Z"
   },
   {
    "duration": -85,
    "start_time": "2022-02-07T17:24:26.169Z"
   },
   {
    "duration": -95,
    "start_time": "2022-02-07T17:24:26.180Z"
   },
   {
    "duration": -102,
    "start_time": "2022-02-07T17:24:26.187Z"
   },
   {
    "duration": -111,
    "start_time": "2022-02-07T17:24:26.197Z"
   },
   {
    "duration": -117,
    "start_time": "2022-02-07T17:24:26.204Z"
   },
   {
    "duration": -127,
    "start_time": "2022-02-07T17:24:26.215Z"
   },
   {
    "duration": -135,
    "start_time": "2022-02-07T17:24:26.223Z"
   },
   {
    "duration": -145,
    "start_time": "2022-02-07T17:24:26.234Z"
   },
   {
    "duration": -150,
    "start_time": "2022-02-07T17:24:26.240Z"
   },
   {
    "duration": -160,
    "start_time": "2022-02-07T17:24:26.251Z"
   },
   {
    "duration": -170,
    "start_time": "2022-02-07T17:24:26.262Z"
   },
   {
    "duration": -176,
    "start_time": "2022-02-07T17:24:26.269Z"
   },
   {
    "duration": -188,
    "start_time": "2022-02-07T17:24:26.281Z"
   },
   {
    "duration": -194,
    "start_time": "2022-02-07T17:24:26.288Z"
   },
   {
    "duration": 9,
    "start_time": "2022-02-07T17:25:23.215Z"
   },
   {
    "duration": 8964,
    "start_time": "2022-02-07T17:25:28.013Z"
   },
   {
    "duration": 1146,
    "start_time": "2022-02-07T17:25:53.225Z"
   },
   {
    "duration": 49,
    "start_time": "2022-02-07T17:25:54.373Z"
   },
   {
    "duration": 36,
    "start_time": "2022-02-07T17:25:54.425Z"
   },
   {
    "duration": 10,
    "start_time": "2022-02-07T17:25:54.463Z"
   },
   {
    "duration": 25,
    "start_time": "2022-02-07T17:25:54.475Z"
   },
   {
    "duration": 11,
    "start_time": "2022-02-07T17:25:54.502Z"
   },
   {
    "duration": 32,
    "start_time": "2022-02-07T17:25:54.514Z"
   },
   {
    "duration": 9,
    "start_time": "2022-02-07T17:25:54.547Z"
   },
   {
    "duration": 18,
    "start_time": "2022-02-07T17:25:54.560Z"
   },
   {
    "duration": 7,
    "start_time": "2022-02-07T17:25:54.580Z"
   },
   {
    "duration": 5,
    "start_time": "2022-02-07T17:25:54.588Z"
   },
   {
    "duration": 52,
    "start_time": "2022-02-07T17:25:54.594Z"
   },
   {
    "duration": 29,
    "start_time": "2022-02-07T17:25:54.647Z"
   },
   {
    "duration": 5,
    "start_time": "2022-02-07T17:25:54.677Z"
   },
   {
    "duration": 6,
    "start_time": "2022-02-07T17:25:54.683Z"
   },
   {
    "duration": 6,
    "start_time": "2022-02-07T17:25:54.691Z"
   },
   {
    "duration": 360,
    "start_time": "2022-02-07T17:25:54.699Z"
   },
   {
    "duration": 4,
    "start_time": "2022-02-07T17:25:55.061Z"
   },
   {
    "duration": 14,
    "start_time": "2022-02-07T17:25:55.067Z"
   },
   {
    "duration": 12,
    "start_time": "2022-02-07T17:25:55.082Z"
   },
   {
    "duration": 12,
    "start_time": "2022-02-07T17:25:55.095Z"
   },
   {
    "duration": 12,
    "start_time": "2022-02-07T17:25:55.127Z"
   },
   {
    "duration": 409,
    "start_time": "2022-02-07T17:25:55.141Z"
   },
   {
    "duration": 93,
    "start_time": "2022-02-07T17:25:55.460Z"
   },
   {
    "duration": 78,
    "start_time": "2022-02-07T17:25:55.475Z"
   },
   {
    "duration": 69,
    "start_time": "2022-02-07T17:25:55.485Z"
   },
   {
    "duration": 60,
    "start_time": "2022-02-07T17:25:55.495Z"
   },
   {
    "duration": 55,
    "start_time": "2022-02-07T17:25:55.501Z"
   },
   {
    "duration": 46,
    "start_time": "2022-02-07T17:25:55.511Z"
   },
   {
    "duration": 41,
    "start_time": "2022-02-07T17:25:55.517Z"
   },
   {
    "duration": 31,
    "start_time": "2022-02-07T17:25:55.528Z"
   },
   {
    "duration": 27,
    "start_time": "2022-02-07T17:25:55.533Z"
   },
   {
    "duration": 17,
    "start_time": "2022-02-07T17:25:55.544Z"
   },
   {
    "duration": 13,
    "start_time": "2022-02-07T17:25:55.549Z"
   },
   {
    "duration": 8,
    "start_time": "2022-02-07T17:25:55.555Z"
   },
   {
    "duration": 1,
    "start_time": "2022-02-07T17:25:55.563Z"
   },
   {
    "duration": -5,
    "start_time": "2022-02-07T17:25:55.569Z"
   },
   {
    "duration": -13,
    "start_time": "2022-02-07T17:25:55.578Z"
   },
   {
    "duration": -17,
    "start_time": "2022-02-07T17:25:55.583Z"
   },
   {
    "duration": -24,
    "start_time": "2022-02-07T17:25:55.591Z"
   },
   {
    "duration": -29,
    "start_time": "2022-02-07T17:25:55.597Z"
   },
   {
    "duration": -33,
    "start_time": "2022-02-07T17:25:55.602Z"
   },
   {
    "duration": -41,
    "start_time": "2022-02-07T17:25:55.611Z"
   },
   {
    "duration": -45,
    "start_time": "2022-02-07T17:25:55.616Z"
   },
   {
    "duration": -79,
    "start_time": "2022-02-07T17:25:55.651Z"
   },
   {
    "duration": -89,
    "start_time": "2022-02-07T17:25:55.662Z"
   },
   {
    "duration": -93,
    "start_time": "2022-02-07T17:25:55.667Z"
   },
   {
    "duration": 1075,
    "start_time": "2022-02-07T17:28:05.398Z"
   },
   {
    "duration": 45,
    "start_time": "2022-02-07T17:28:06.475Z"
   },
   {
    "duration": 24,
    "start_time": "2022-02-07T17:28:06.521Z"
   },
   {
    "duration": 8,
    "start_time": "2022-02-07T17:28:06.547Z"
   },
   {
    "duration": 13,
    "start_time": "2022-02-07T17:28:06.557Z"
   },
   {
    "duration": 4,
    "start_time": "2022-02-07T17:28:06.571Z"
   },
   {
    "duration": 14,
    "start_time": "2022-02-07T17:28:06.577Z"
   },
   {
    "duration": 35,
    "start_time": "2022-02-07T17:28:06.593Z"
   },
   {
    "duration": 19,
    "start_time": "2022-02-07T17:28:06.630Z"
   },
   {
    "duration": 8,
    "start_time": "2022-02-07T17:28:06.650Z"
   },
   {
    "duration": 5,
    "start_time": "2022-02-07T17:28:06.660Z"
   },
   {
    "duration": 28,
    "start_time": "2022-02-07T17:28:06.667Z"
   },
   {
    "duration": 52,
    "start_time": "2022-02-07T17:28:06.697Z"
   },
   {
    "duration": 4,
    "start_time": "2022-02-07T17:28:06.750Z"
   },
   {
    "duration": 9,
    "start_time": "2022-02-07T17:28:06.755Z"
   },
   {
    "duration": 5,
    "start_time": "2022-02-07T17:28:06.765Z"
   },
   {
    "duration": 369,
    "start_time": "2022-02-07T17:28:06.772Z"
   },
   {
    "duration": 5,
    "start_time": "2022-02-07T17:28:07.143Z"
   },
   {
    "duration": 15,
    "start_time": "2022-02-07T17:28:07.149Z"
   },
   {
    "duration": 63,
    "start_time": "2022-02-07T17:28:07.165Z"
   },
   {
    "duration": 13,
    "start_time": "2022-02-07T17:28:07.230Z"
   },
   {
    "duration": 1334,
    "start_time": "2022-02-07T17:28:07.244Z"
   },
   {
    "duration": 12,
    "start_time": "2022-02-07T17:28:08.581Z"
   },
   {
    "duration": 389,
    "start_time": "2022-02-07T17:28:08.595Z"
   },
   {
    "duration": -5270,
    "start_time": "2022-02-07T17:28:14.256Z"
   },
   {
    "duration": -5275,
    "start_time": "2022-02-07T17:28:14.262Z"
   },
   {
    "duration": -5284,
    "start_time": "2022-02-07T17:28:14.271Z"
   },
   {
    "duration": -5289,
    "start_time": "2022-02-07T17:28:14.277Z"
   },
   {
    "duration": -5297,
    "start_time": "2022-02-07T17:28:14.286Z"
   },
   {
    "duration": -5303,
    "start_time": "2022-02-07T17:28:14.293Z"
   },
   {
    "duration": -5307,
    "start_time": "2022-02-07T17:28:14.298Z"
   },
   {
    "duration": -5315,
    "start_time": "2022-02-07T17:28:14.307Z"
   },
   {
    "duration": -5321,
    "start_time": "2022-02-07T17:28:14.313Z"
   },
   {
    "duration": -5328,
    "start_time": "2022-02-07T17:28:14.321Z"
   },
   {
    "duration": -5333,
    "start_time": "2022-02-07T17:28:14.327Z"
   },
   {
    "duration": -5342,
    "start_time": "2022-02-07T17:28:14.337Z"
   },
   {
    "duration": -5345,
    "start_time": "2022-02-07T17:28:14.341Z"
   },
   {
    "duration": -5350,
    "start_time": "2022-02-07T17:28:14.347Z"
   },
   {
    "duration": -5360,
    "start_time": "2022-02-07T17:28:14.358Z"
   },
   {
    "duration": -5364,
    "start_time": "2022-02-07T17:28:14.363Z"
   },
   {
    "duration": -5374,
    "start_time": "2022-02-07T17:28:14.374Z"
   },
   {
    "duration": -5378,
    "start_time": "2022-02-07T17:28:14.379Z"
   },
   {
    "duration": -5390,
    "start_time": "2022-02-07T17:28:14.392Z"
   },
   {
    "duration": -5395,
    "start_time": "2022-02-07T17:28:14.398Z"
   },
   {
    "duration": -5403,
    "start_time": "2022-02-07T17:28:14.407Z"
   },
   {
    "duration": -5423,
    "start_time": "2022-02-07T17:28:14.428Z"
   },
   {
    "duration": -5433,
    "start_time": "2022-02-07T17:28:14.439Z"
   },
   {
    "duration": -5437,
    "start_time": "2022-02-07T17:28:14.444Z"
   },
   {
    "duration": 328,
    "start_time": "2022-02-07T17:29:40.764Z"
   },
   {
    "duration": 1008,
    "start_time": "2022-02-07T17:29:51.180Z"
   },
   {
    "duration": 44,
    "start_time": "2022-02-07T17:29:52.189Z"
   },
   {
    "duration": 25,
    "start_time": "2022-02-07T17:29:52.235Z"
   },
   {
    "duration": 9,
    "start_time": "2022-02-07T17:29:52.261Z"
   },
   {
    "duration": 15,
    "start_time": "2022-02-07T17:29:52.271Z"
   },
   {
    "duration": 4,
    "start_time": "2022-02-07T17:29:52.288Z"
   },
   {
    "duration": 40,
    "start_time": "2022-02-07T17:29:52.293Z"
   },
   {
    "duration": 6,
    "start_time": "2022-02-07T17:29:52.336Z"
   },
   {
    "duration": 18,
    "start_time": "2022-02-07T17:29:52.344Z"
   },
   {
    "duration": 6,
    "start_time": "2022-02-07T17:29:52.364Z"
   },
   {
    "duration": 4,
    "start_time": "2022-02-07T17:29:52.372Z"
   },
   {
    "duration": 62,
    "start_time": "2022-02-07T17:29:52.377Z"
   },
   {
    "duration": 28,
    "start_time": "2022-02-07T17:29:52.441Z"
   },
   {
    "duration": 4,
    "start_time": "2022-02-07T17:29:52.470Z"
   },
   {
    "duration": 19,
    "start_time": "2022-02-07T17:29:52.475Z"
   },
   {
    "duration": 7,
    "start_time": "2022-02-07T17:29:52.495Z"
   },
   {
    "duration": 341,
    "start_time": "2022-02-07T17:29:52.503Z"
   },
   {
    "duration": 5,
    "start_time": "2022-02-07T17:29:52.845Z"
   },
   {
    "duration": 17,
    "start_time": "2022-02-07T17:29:52.851Z"
   },
   {
    "duration": 10,
    "start_time": "2022-02-07T17:29:52.870Z"
   },
   {
    "duration": 12,
    "start_time": "2022-02-07T17:29:52.882Z"
   },
   {
    "duration": 618,
    "start_time": "2022-02-07T17:29:52.896Z"
   },
   {
    "duration": 102,
    "start_time": "2022-02-07T17:29:53.415Z"
   },
   {
    "duration": 85,
    "start_time": "2022-02-07T17:29:53.432Z"
   },
   {
    "duration": 81,
    "start_time": "2022-02-07T17:29:53.437Z"
   },
   {
    "duration": 76,
    "start_time": "2022-02-07T17:29:53.443Z"
   },
   {
    "duration": 67,
    "start_time": "2022-02-07T17:29:53.453Z"
   },
   {
    "duration": 61,
    "start_time": "2022-02-07T17:29:53.460Z"
   },
   {
    "duration": 56,
    "start_time": "2022-02-07T17:29:53.470Z"
   },
   {
    "duration": 52,
    "start_time": "2022-02-07T17:29:53.475Z"
   },
   {
    "duration": 44,
    "start_time": "2022-02-07T17:29:53.484Z"
   },
   {
    "duration": 39,
    "start_time": "2022-02-07T17:29:53.490Z"
   },
   {
    "duration": 32,
    "start_time": "2022-02-07T17:29:53.498Z"
   },
   {
    "duration": 26,
    "start_time": "2022-02-07T17:29:53.504Z"
   },
   {
    "duration": 21,
    "start_time": "2022-02-07T17:29:53.510Z"
   },
   {
    "duration": 14,
    "start_time": "2022-02-07T17:29:53.518Z"
   },
   {
    "duration": 9,
    "start_time": "2022-02-07T17:29:53.524Z"
   },
   {
    "duration": 1,
    "start_time": "2022-02-07T17:29:53.533Z"
   },
   {
    "duration": -4,
    "start_time": "2022-02-07T17:29:53.538Z"
   },
   {
    "duration": -8,
    "start_time": "2022-02-07T17:29:53.544Z"
   },
   {
    "duration": -16,
    "start_time": "2022-02-07T17:29:53.552Z"
   },
   {
    "duration": -22,
    "start_time": "2022-02-07T17:29:53.559Z"
   },
   {
    "duration": -29,
    "start_time": "2022-02-07T17:29:53.567Z"
   },
   {
    "duration": -34,
    "start_time": "2022-02-07T17:29:53.573Z"
   },
   {
    "duration": -38,
    "start_time": "2022-02-07T17:29:53.578Z"
   },
   {
    "duration": -47,
    "start_time": "2022-02-07T17:29:53.588Z"
   },
   {
    "duration": -51,
    "start_time": "2022-02-07T17:29:53.593Z"
   },
   {
    "duration": -60,
    "start_time": "2022-02-07T17:29:53.603Z"
   },
   {
    "duration": 1307,
    "start_time": "2022-02-07T17:30:35.658Z"
   },
   {
    "duration": 1200,
    "start_time": "2022-02-07T17:32:48.181Z"
   },
   {
    "duration": 309,
    "start_time": "2022-02-07T17:33:40.199Z"
   },
   {
    "duration": 351,
    "start_time": "2022-02-07T17:33:57.367Z"
   },
   {
    "duration": 3153,
    "start_time": "2022-02-07T17:34:03.589Z"
   },
   {
    "duration": 328,
    "start_time": "2022-02-07T17:34:16.714Z"
   },
   {
    "duration": 360,
    "start_time": "2022-02-07T17:35:52.426Z"
   },
   {
    "duration": 1211,
    "start_time": "2022-02-07T17:36:02.566Z"
   },
   {
    "duration": 1189,
    "start_time": "2022-02-07T17:36:52.766Z"
   },
   {
    "duration": 382,
    "start_time": "2022-02-07T17:37:25.210Z"
   },
   {
    "duration": 320,
    "start_time": "2022-02-07T17:37:54.367Z"
   },
   {
    "duration": 1334,
    "start_time": "2022-02-07T17:40:54.837Z"
   },
   {
    "duration": 1966,
    "start_time": "2022-02-07T17:41:27.840Z"
   },
   {
    "duration": 2091,
    "start_time": "2022-02-07T17:42:08.441Z"
   },
   {
    "duration": 1380,
    "start_time": "2022-02-07T17:44:23.266Z"
   },
   {
    "duration": 44,
    "start_time": "2022-02-07T17:44:24.647Z"
   },
   {
    "duration": 52,
    "start_time": "2022-02-07T17:44:24.694Z"
   },
   {
    "duration": 12,
    "start_time": "2022-02-07T17:44:24.748Z"
   },
   {
    "duration": 71,
    "start_time": "2022-02-07T17:44:24.762Z"
   },
   {
    "duration": 6,
    "start_time": "2022-02-07T17:44:24.835Z"
   },
   {
    "duration": 23,
    "start_time": "2022-02-07T17:44:24.844Z"
   },
   {
    "duration": 58,
    "start_time": "2022-02-07T17:44:24.869Z"
   },
   {
    "duration": 28,
    "start_time": "2022-02-07T17:44:24.929Z"
   },
   {
    "duration": 8,
    "start_time": "2022-02-07T17:44:24.959Z"
   },
   {
    "duration": 59,
    "start_time": "2022-02-07T17:44:24.969Z"
   },
   {
    "duration": 40,
    "start_time": "2022-02-07T17:44:25.030Z"
   },
   {
    "duration": 42,
    "start_time": "2022-02-07T17:44:25.127Z"
   },
   {
    "duration": 5,
    "start_time": "2022-02-07T17:44:25.171Z"
   },
   {
    "duration": 7,
    "start_time": "2022-02-07T17:44:25.178Z"
   },
   {
    "duration": 40,
    "start_time": "2022-02-07T17:44:25.187Z"
   },
   {
    "duration": 343,
    "start_time": "2022-02-07T17:44:25.229Z"
   },
   {
    "duration": 5,
    "start_time": "2022-02-07T17:44:25.574Z"
   },
   {
    "duration": 12,
    "start_time": "2022-02-07T17:44:25.581Z"
   },
   {
    "duration": 1934,
    "start_time": "2022-02-07T17:44:25.595Z"
   },
   {
    "duration": 5,
    "start_time": "2022-02-07T17:44:27.530Z"
   },
   {
    "duration": 396,
    "start_time": "2022-02-07T17:44:27.538Z"
   },
   {
    "duration": 643,
    "start_time": "2022-02-07T17:44:27.936Z"
   },
   {
    "duration": 680,
    "start_time": "2022-02-07T17:44:28.582Z"
   },
   {
    "duration": 831,
    "start_time": "2022-02-07T17:44:29.264Z"
   },
   {
    "duration": 526,
    "start_time": "2022-02-07T17:44:30.096Z"
   },
   {
    "duration": 477,
    "start_time": "2022-02-07T17:44:30.627Z"
   },
   {
    "duration": 323,
    "start_time": "2022-02-07T17:44:31.106Z"
   },
   {
    "duration": 183,
    "start_time": "2022-02-07T17:44:31.430Z"
   },
   {
    "duration": 488,
    "start_time": "2022-02-07T17:44:31.615Z"
   },
   {
    "duration": 314,
    "start_time": "2022-02-07T17:44:32.104Z"
   },
   {
    "duration": 317,
    "start_time": "2022-02-07T17:44:32.419Z"
   },
   {
    "duration": 316,
    "start_time": "2022-02-07T17:44:32.738Z"
   },
   {
    "duration": 408,
    "start_time": "2022-02-07T17:44:33.056Z"
   },
   {
    "duration": 9,
    "start_time": "2022-02-07T17:44:33.466Z"
   },
   {
    "duration": 12,
    "start_time": "2022-02-07T17:44:33.476Z"
   },
   {
    "duration": 8,
    "start_time": "2022-02-07T17:44:33.489Z"
   },
   {
    "duration": 10,
    "start_time": "2022-02-07T17:44:33.498Z"
   },
   {
    "duration": 5,
    "start_time": "2022-02-07T17:44:33.510Z"
   },
   {
    "duration": 9,
    "start_time": "2022-02-07T17:44:33.527Z"
   },
   {
    "duration": 628,
    "start_time": "2022-02-07T17:46:50.068Z"
   },
   {
    "duration": 344,
    "start_time": "2022-02-07T17:46:54.785Z"
   },
   {
    "duration": 379,
    "start_time": "2022-02-07T17:47:12.455Z"
   },
   {
    "duration": 490,
    "start_time": "2022-02-07T17:47:39.042Z"
   },
   {
    "duration": 561,
    "start_time": "2022-02-07T17:47:44.602Z"
   },
   {
    "duration": 995,
    "start_time": "2022-02-07T17:50:07.062Z"
   },
   {
    "duration": 46,
    "start_time": "2022-02-07T17:50:08.059Z"
   },
   {
    "duration": 25,
    "start_time": "2022-02-07T17:50:08.106Z"
   },
   {
    "duration": 8,
    "start_time": "2022-02-07T17:50:08.133Z"
   },
   {
    "duration": 15,
    "start_time": "2022-02-07T17:50:08.143Z"
   },
   {
    "duration": 4,
    "start_time": "2022-02-07T17:50:08.159Z"
   },
   {
    "duration": 17,
    "start_time": "2022-02-07T17:50:08.165Z"
   },
   {
    "duration": 6,
    "start_time": "2022-02-07T17:50:08.184Z"
   },
   {
    "duration": 44,
    "start_time": "2022-02-07T17:50:08.192Z"
   },
   {
    "duration": 6,
    "start_time": "2022-02-07T17:50:08.237Z"
   },
   {
    "duration": 6,
    "start_time": "2022-02-07T17:50:08.245Z"
   },
   {
    "duration": 30,
    "start_time": "2022-02-07T17:50:08.252Z"
   },
   {
    "duration": 26,
    "start_time": "2022-02-07T17:50:08.283Z"
   },
   {
    "duration": 5,
    "start_time": "2022-02-07T17:50:08.327Z"
   },
   {
    "duration": 6,
    "start_time": "2022-02-07T17:50:08.333Z"
   },
   {
    "duration": 5,
    "start_time": "2022-02-07T17:50:08.341Z"
   },
   {
    "duration": 360,
    "start_time": "2022-02-07T17:50:08.347Z"
   },
   {
    "duration": 6,
    "start_time": "2022-02-07T17:50:08.708Z"
   },
   {
    "duration": 21,
    "start_time": "2022-02-07T17:50:08.715Z"
   },
   {
    "duration": 2121,
    "start_time": "2022-02-07T17:50:08.738Z"
   },
   {
    "duration": 5,
    "start_time": "2022-02-07T17:50:10.860Z"
   },
   {
    "duration": 508,
    "start_time": "2022-02-07T17:50:10.867Z"
   },
   {
    "duration": 520,
    "start_time": "2022-02-07T17:50:11.378Z"
   },
   {
    "duration": 484,
    "start_time": "2022-02-07T17:50:11.900Z"
   },
   {
    "duration": 527,
    "start_time": "2022-02-07T17:50:12.386Z"
   },
   {
    "duration": 568,
    "start_time": "2022-02-07T17:50:12.915Z"
   },
   {
    "duration": 597,
    "start_time": "2022-02-07T17:50:13.485Z"
   },
   {
    "duration": 363,
    "start_time": "2022-02-07T17:50:14.084Z"
   },
   {
    "duration": 221,
    "start_time": "2022-02-07T17:50:14.449Z"
   },
   {
    "duration": 529,
    "start_time": "2022-02-07T17:50:14.672Z"
   },
   {
    "duration": 355,
    "start_time": "2022-02-07T17:50:15.202Z"
   },
   {
    "duration": 416,
    "start_time": "2022-02-07T17:50:15.558Z"
   },
   {
    "duration": 352,
    "start_time": "2022-02-07T17:50:15.975Z"
   },
   {
    "duration": 512,
    "start_time": "2022-02-07T17:50:16.328Z"
   },
   {
    "duration": 8,
    "start_time": "2022-02-07T17:50:16.842Z"
   },
   {
    "duration": 14,
    "start_time": "2022-02-07T17:50:16.851Z"
   },
   {
    "duration": 8,
    "start_time": "2022-02-07T17:50:16.867Z"
   },
   {
    "duration": 13,
    "start_time": "2022-02-07T17:50:16.876Z"
   },
   {
    "duration": 7,
    "start_time": "2022-02-07T17:50:16.890Z"
   },
   {
    "duration": 6,
    "start_time": "2022-02-07T17:50:16.898Z"
   }
  ],
  "kernelspec": {
   "display_name": "Python 3",
   "language": "python",
   "name": "python3"
  },
  "language_info": {
   "codemirror_mode": {
    "name": "ipython",
    "version": 3
   },
   "file_extension": ".py",
   "mimetype": "text/x-python",
   "name": "python",
   "nbconvert_exporter": "python",
   "pygments_lexer": "ipython3",
   "version": "3.7.8"
  },
  "toc": {
   "base_numbering": 1,
   "nav_menu": {},
   "number_sections": true,
   "sideBar": true,
   "skip_h1_title": true,
   "title_cell": "Table of Contents",
   "title_sidebar": "Contents",
   "toc_cell": false,
   "toc_position": {
    "height": "calc(100% - 180px)",
    "left": "10px",
    "top": "150px",
    "width": "236px"
   },
   "toc_section_display": true,
   "toc_window_display": true
  }
 },
 "nbformat": 4,
 "nbformat_minor": 2
}
