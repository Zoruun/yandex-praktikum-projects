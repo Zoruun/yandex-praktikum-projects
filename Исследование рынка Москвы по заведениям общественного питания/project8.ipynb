{
 "cells": [
  {
   "cell_type": "markdown",
   "metadata": {},
   "source": [
    "Ссылка на презентацию: https://drive.google.com/file/d/1smE1BAKXU7EETTV0QDUl_wo8UUy4eSPE/view?usp=sharing"
   ]
  },
  {
   "cell_type": "markdown",
   "metadata": {},
   "source": [
    "# Рынок заведений общественного питания Москвы"
   ]
  },
  {
   "cell_type": "markdown",
   "metadata": {},
   "source": [
    "Задачи проекта:\n",
    "\n",
    " - Выявить, сколько всего видов общественного питания в Москве и их количество;\n",
    " - Выявить, сколько сетевых и несетевых заведений;\n",
    " - Выявить, для какого вида общественного питания характерно сетевое распространение;\n",
    " - Выявить, что характерно для сетевых заведений: много заведений с маленьким количеством посадочных мест или мало заведений с большим количеством посадочных мест;\n",
    " - Выявить количество посадочных мест для каждого из вида общественного питания;\n",
    " - Создать отдельный столбец с названием улицы;\n",
    " - Выявить топ 10 улиц с наибольшим количеством заведений;\n",
    " - Посчитать сколько улиц в Москве с один заведением общественного питания;\n",
    " - Выявить среднее количество посадочных мест для улиц с большим количеством объектов общественного питания."
   ]
  },
  {
   "cell_type": "markdown",
   "metadata": {},
   "source": [
    "## Шаг №1. Загрузка данных и подготовка их к анализу"
   ]
  },
  {
   "cell_type": "code",
   "execution_count": 1,
   "metadata": {},
   "outputs": [],
   "source": [
    "#импортируем необходимые библиотеки\n",
    "\n",
    "import pandas as pd\n",
    "from pymystem3 import Mystem\n",
    "m = Mystem()\n",
    "import plotly.express as px\n",
    "from numpy import median\n",
    "import seaborn as sns\n",
    "from io import BytesIO\n",
    "import requests\n",
    "from matplotlib import pyplot as plt\n",
    "import matplotlib.ticker as ticker"
   ]
  },
  {
   "cell_type": "code",
   "execution_count": 2,
   "metadata": {},
   "outputs": [
    {
     "data": {
      "text/html": [
       "<div>\n",
       "<style scoped>\n",
       "    .dataframe tbody tr th:only-of-type {\n",
       "        vertical-align: middle;\n",
       "    }\n",
       "\n",
       "    .dataframe tbody tr th {\n",
       "        vertical-align: top;\n",
       "    }\n",
       "\n",
       "    .dataframe thead th {\n",
       "        text-align: right;\n",
       "    }\n",
       "</style>\n",
       "<table border=\"1\" class=\"dataframe\">\n",
       "  <thead>\n",
       "    <tr style=\"text-align: right;\">\n",
       "      <th></th>\n",
       "      <th>id</th>\n",
       "      <th>object_name</th>\n",
       "      <th>chain</th>\n",
       "      <th>object_type</th>\n",
       "      <th>address</th>\n",
       "      <th>number</th>\n",
       "    </tr>\n",
       "  </thead>\n",
       "  <tbody>\n",
       "    <tr>\n",
       "      <td>0</td>\n",
       "      <td>151635</td>\n",
       "      <td>СМЕТАНА</td>\n",
       "      <td>нет</td>\n",
       "      <td>кафе</td>\n",
       "      <td>город Москва, улица Егора Абакумова, дом 9</td>\n",
       "      <td>48</td>\n",
       "    </tr>\n",
       "    <tr>\n",
       "      <td>1</td>\n",
       "      <td>77874</td>\n",
       "      <td>Родник</td>\n",
       "      <td>нет</td>\n",
       "      <td>кафе</td>\n",
       "      <td>город Москва, улица Талалихина, дом 2/1, корпус 1</td>\n",
       "      <td>35</td>\n",
       "    </tr>\n",
       "    <tr>\n",
       "      <td>2</td>\n",
       "      <td>24309</td>\n",
       "      <td>Кафе «Академия»</td>\n",
       "      <td>нет</td>\n",
       "      <td>кафе</td>\n",
       "      <td>город Москва, Абельмановская улица, дом 6</td>\n",
       "      <td>95</td>\n",
       "    </tr>\n",
       "    <tr>\n",
       "      <td>3</td>\n",
       "      <td>21894</td>\n",
       "      <td>ПИЦЦЕТОРИЯ</td>\n",
       "      <td>да</td>\n",
       "      <td>кафе</td>\n",
       "      <td>город Москва, Абрамцевская улица, дом 1</td>\n",
       "      <td>40</td>\n",
       "    </tr>\n",
       "    <tr>\n",
       "      <td>4</td>\n",
       "      <td>119365</td>\n",
       "      <td>Кафе «Вишневая метель»</td>\n",
       "      <td>нет</td>\n",
       "      <td>кафе</td>\n",
       "      <td>город Москва, Абрамцевская улица, дом 9, корпус 1</td>\n",
       "      <td>50</td>\n",
       "    </tr>\n",
       "  </tbody>\n",
       "</table>\n",
       "</div>"
      ],
      "text/plain": [
       "       id             object_name chain object_type  \\\n",
       "0  151635                 СМЕТАНА   нет        кафе   \n",
       "1   77874                  Родник   нет        кафе   \n",
       "2   24309         Кафе «Академия»   нет        кафе   \n",
       "3   21894              ПИЦЦЕТОРИЯ    да        кафе   \n",
       "4  119365  Кафе «Вишневая метель»   нет        кафе   \n",
       "\n",
       "                                             address  number  \n",
       "0         город Москва, улица Егора Абакумова, дом 9      48  \n",
       "1  город Москва, улица Талалихина, дом 2/1, корпус 1      35  \n",
       "2          город Москва, Абельмановская улица, дом 6      95  \n",
       "3            город Москва, Абрамцевская улица, дом 1      40  \n",
       "4  город Москва, Абрамцевская улица, дом 9, корпус 1      50  "
      ]
     },
     "execution_count": 2,
     "metadata": {},
     "output_type": "execute_result"
    }
   ],
   "source": [
    "#откроем таблицу о заведениях общественного питания Москвы и выведем её на экран\n",
    "rest_data = pd.read_csv('/datasets/rest_data.csv')\n",
    "rest_data.head()"
   ]
  },
  {
   "cell_type": "code",
   "execution_count": 3,
   "metadata": {},
   "outputs": [
    {
     "name": "stdout",
     "output_type": "stream",
     "text": [
      "<class 'pandas.core.frame.DataFrame'>\n",
      "RangeIndex: 15366 entries, 0 to 15365\n",
      "Data columns (total 6 columns):\n",
      "id             15366 non-null int64\n",
      "object_name    15366 non-null object\n",
      "chain          15366 non-null object\n",
      "object_type    15366 non-null object\n",
      "address        15366 non-null object\n",
      "number         15366 non-null int64\n",
      "dtypes: int64(2), object(4)\n",
      "memory usage: 720.4+ KB\n"
     ]
    }
   ],
   "source": [
    "# посмотрим основную информацию по таблицу rest_data\n",
    "rest_data.info()"
   ]
  },
  {
   "cell_type": "code",
   "execution_count": 4,
   "metadata": {},
   "outputs": [],
   "source": [
    "# Сброс ограничений на количество выводимых рядов\n",
    "pd.set_option('display.max_rows', None)"
   ]
  },
  {
   "cell_type": "code",
   "execution_count": 5,
   "metadata": {},
   "outputs": [],
   "source": [
    "# Приведём object_name к нижнему регистру \n",
    "rest_data['object_name'] = rest_data['object_name'].str.lower()"
   ]
  },
  {
   "cell_type": "code",
   "execution_count": 6,
   "metadata": {},
   "outputs": [],
   "source": [
    "# переименуем имеющиеся некоторые кафе в общие группы или названия\n",
    "\n",
    "def category_purpose(row):\n",
    "    lem_object = m.lemmatize(row)\n",
    "    if 'школьный' in lem_object:\n",
    "        return 'столовая при школе'\n",
    "    if 'старбакс' in lem_object:\n",
    "        return 'starbucks'\n",
    "    if 'сабвевать' in lem_object:\n",
    "        return 'subway'\n",
    "    if 'школа' in lem_object:\n",
    "        return 'столовая при школе'\n",
    "    if 'вок' in lem_object:\n",
    "        return 'суши wok'\n",
    "    if 'kfc' in lem_object:\n",
    "        return 'kfc'\n",
    "    if 'макдоналдс' in lem_object:\n",
    "        return 'макдоналдс'\n",
    "    if 'king' in lem_object:\n",
    "        return 'burger king'\n",
    "    if 'кинг' in lem_object:\n",
    "        return 'burger king'\n",
    "    if 'караваев' in lem_object:\n",
    "        return 'кулинарная лавка братьев караваевых'\n",
    "    if 'сош' in lem_object:\n",
    "        return 'столовая при школе'\n",
    "    if 'шоколадница' in lem_object:\n",
    "        return 'шоколадница'\n",
    "    if 'теремок' in lem_object:\n",
    "        return 'теремок'\n",
    "    if 'хаус' in lem_object:\n",
    "        return 'кофе хаус'\n",
    "    if 'танука' in lem_object:\n",
    "        return 'тануки'\n",
    "    if 'якитория' in lem_object:\n",
    "        return 'якитория'\n",
    "    if 'dominos' in lem_object:\n",
    "        return 'dominos пицца'\n",
    "    if 'домино' in lem_object:\n",
    "        return 'dominos пицца'\n",
    "    if 'му' in lem_object:\n",
    "        return 'му-му'\n",
    "    if 'шаурма' in lem_object:\n",
    "        return 'шаурма'\n",
    "    if 'шк' in lem_object:\n",
    "        return 'столовая при школе'\n",
    "    else:\n",
    "        return row\n",
    "\n",
    "\n",
    "rest_data['object_name']=rest_data['object_name'].apply(category_purpose)"
   ]
  },
  {
   "cell_type": "markdown",
   "metadata": {},
   "source": [
    "Таблица содержит 15366 строк и нет ни одного пропуска, это хорошо. Типы данных каждого из столбцов имеют правильный вид."
   ]
  },
  {
   "cell_type": "code",
   "execution_count": 7,
   "metadata": {},
   "outputs": [
    {
     "name": "stdout",
     "output_type": "stream",
     "text": [
      "В таблице 0 дубликатов\n"
     ]
    }
   ],
   "source": [
    "# Проверим таблицу на дубликаты\n",
    "print('В таблице', rest_data.duplicated().sum(), 'дубликатов')"
   ]
  },
  {
   "cell_type": "code",
   "execution_count": 8,
   "metadata": {},
   "outputs": [
    {
     "data": {
      "text/html": [
       "<div>\n",
       "<style scoped>\n",
       "    .dataframe tbody tr th:only-of-type {\n",
       "        vertical-align: middle;\n",
       "    }\n",
       "\n",
       "    .dataframe tbody tr th {\n",
       "        vertical-align: top;\n",
       "    }\n",
       "\n",
       "    .dataframe thead th {\n",
       "        text-align: right;\n",
       "    }\n",
       "</style>\n",
       "<table border=\"1\" class=\"dataframe\">\n",
       "  <thead>\n",
       "    <tr style=\"text-align: right;\">\n",
       "      <th></th>\n",
       "      <th>id</th>\n",
       "      <th>number</th>\n",
       "    </tr>\n",
       "  </thead>\n",
       "  <tbody>\n",
       "    <tr>\n",
       "      <td>count</td>\n",
       "      <td>15366.000000</td>\n",
       "      <td>15366.000000</td>\n",
       "    </tr>\n",
       "    <tr>\n",
       "      <td>mean</td>\n",
       "      <td>119720.066901</td>\n",
       "      <td>59.547182</td>\n",
       "    </tr>\n",
       "    <tr>\n",
       "      <td>std</td>\n",
       "      <td>73036.130732</td>\n",
       "      <td>74.736833</td>\n",
       "    </tr>\n",
       "    <tr>\n",
       "      <td>min</td>\n",
       "      <td>838.000000</td>\n",
       "      <td>0.000000</td>\n",
       "    </tr>\n",
       "    <tr>\n",
       "      <td>25%</td>\n",
       "      <td>28524.000000</td>\n",
       "      <td>12.000000</td>\n",
       "    </tr>\n",
       "    <tr>\n",
       "      <td>50%</td>\n",
       "      <td>144974.500000</td>\n",
       "      <td>40.000000</td>\n",
       "    </tr>\n",
       "    <tr>\n",
       "      <td>75%</td>\n",
       "      <td>184262.250000</td>\n",
       "      <td>80.000000</td>\n",
       "    </tr>\n",
       "    <tr>\n",
       "      <td>max</td>\n",
       "      <td>223439.000000</td>\n",
       "      <td>1700.000000</td>\n",
       "    </tr>\n",
       "  </tbody>\n",
       "</table>\n",
       "</div>"
      ],
      "text/plain": [
       "                  id        number\n",
       "count   15366.000000  15366.000000\n",
       "mean   119720.066901     59.547182\n",
       "std     73036.130732     74.736833\n",
       "min       838.000000      0.000000\n",
       "25%     28524.000000     12.000000\n",
       "50%    144974.500000     40.000000\n",
       "75%    184262.250000     80.000000\n",
       "max    223439.000000   1700.000000"
      ]
     },
     "execution_count": 8,
     "metadata": {},
     "output_type": "execute_result"
    }
   ],
   "source": [
    "# посмотрим основные числовые характеристики для rest_data\n",
    "rest_data.describe()"
   ]
  },
  {
   "cell_type": "markdown",
   "metadata": {},
   "source": [
    "### Вывод"
   ]
  },
  {
   "cell_type": "markdown",
   "metadata": {},
   "source": [
    "Таблица имеет 15366 сток и 6 столбцов:\n",
    "\n",
    " - id — идентификатор объекта;\n",
    " - object_name — название объекта общественного питания;\n",
    " - chain — сетевой ресторан;\n",
    " - object_type — тип объекта общественного питания;\n",
    " - address — адрес;\n",
    " - number — количество посадочных мест.\n",
    "\n",
    "В таблице нет пропусков и дубликатов, типы данных соотвествуют данным для каждого из столбцов."
   ]
  },
  {
   "cell_type": "markdown",
   "metadata": {},
   "source": [
    "## Шаг №2. Анализ данных."
   ]
  },
  {
   "cell_type": "markdown",
   "metadata": {},
   "source": [
    "### Исследование соотношение видов объектов общественного питания по количеству."
   ]
  },
  {
   "cell_type": "code",
   "execution_count": 9,
   "metadata": {},
   "outputs": [
    {
     "data": {
      "image/png": "[encoded data removed]",
      "text/plain": [
       "<Figure size 1152x360 with 1 Axes>"
      ]
     },
     "metadata": {},
     "output_type": "display_data"
    }
   ],
   "source": [
    "sns.set_style(\"darkgrid\") \n",
    "\n",
    "# Сгруппируем таблицу по типу объекта общественного питания и посчитаем их количество\n",
    "rest_data.groupby('object_type').agg({'id': 'nunique'}).sort_values('id', ascending = True).plot(figsize=(16, 5), kind = 'bar')\n",
    "\n",
    "# Добавим подписи к графику\n",
    "plt.title('Типы объектов общественного питания')\n",
    "plt.xlabel('Тип объекта общественного питания')\n",
    "plt.ylabel('Количествено заведений')\n",
    "\n",
    "\n",
    "xlabels = ['магазин (отдел кулинарии)', 'закусочная', 'кафетерий', 'буфет', 'бар', 'предприятие быстрого обслуживания',\n",
    "           'ресторан', 'столовая', 'кафе']\n",
    "\n",
    "# xlabels_new = [re.sub(\"(.{9})\", \"\\\\1\\n\", label, 0, re.DOTALL) for label in xlabels]\n",
    "xlabels_new = [\"\\n\".join(label.split()) for label in xlabels]\n",
    "plt.xticks(range(9), xlabels_new, rotation=0)\n",
    "plt.show();"
   ]
  },
  {
   "cell_type": "markdown",
   "metadata": {},
   "source": [
    "#### Вывод"
   ]
  },
  {
   "cell_type": "markdown",
   "metadata": {},
   "source": [
    "Больше всего заведений с типом \"Кафе\" - их около 6 тысяч.\n",
    "\n",
    "Далее идут такие типы заведений, как \"столовая\", \"ресторан\" и \"предприятие быстрого обслуживания\". Они имеют от 2000 до 2500 заведений в Москве. \n",
    "\n",
    "Меньше всего в Москве заведений с типом \"магазин (отдел кулинарии)\". Их всего около 250."
   ]
  },
  {
   "cell_type": "markdown",
   "metadata": {},
   "source": [
    "### Соотношение сетевых и несетевых заведений по количеству."
   ]
  },
  {
   "cell_type": "code",
   "execution_count": 10,
   "metadata": {},
   "outputs": [
    {
     "data": {
      "image/png": "[encoded data removed]",
      "text/plain": [
       "<Figure size 1152x360 with 1 Axes>"
      ]
     },
     "metadata": {},
     "output_type": "display_data"
    }
   ],
   "source": [
    "sns.set_style(\"darkgrid\") \n",
    "\n",
    "# Сгруппируем таблицу по типу объекта общественного питания и посчитаем их количество\n",
    "rest_data.groupby('chain').agg({'id': 'nunique'}).sort_values('id', ascending = True).plot(figsize=(16, 5), kind = 'bar')\n",
    "\n",
    "# Добавим подписи к графику\n",
    "plt.title('Соотношение сетевых и несетевых заведений')\n",
    "plt.xlabel('Является ли заведение сетевым')\n",
    "plt.ylabel('Количествено заведений')\n",
    "plt.xticks(rotation=0);"
   ]
  },
  {
   "cell_type": "markdown",
   "metadata": {},
   "source": [
    "#### Вывод"
   ]
  },
  {
   "cell_type": "markdown",
   "metadata": {},
   "source": [
    "В Москве больше всего несетевых заведений. Их больше 12 тысяч. Сетевых же заведений в Москве около 3000."
   ]
  },
  {
   "cell_type": "markdown",
   "metadata": {},
   "source": [
    "### Для какого вида объекта общественного питания характерно сетевое распространение?"
   ]
  },
  {
   "cell_type": "code",
   "execution_count": 11,
   "metadata": {},
   "outputs": [
    {
     "data": {
      "image/png": "[encoded data removed]",
      "text/plain": [
       "<Figure size 1152x360 with 1 Axes>"
      ]
     },
     "metadata": {},
     "output_type": "display_data"
    }
   ],
   "source": [
    "rest_data_1 = rest_data.copy()\n",
    "rest_data_1['x'] = rest_data_1['id'] / rest_data_1['id']\n",
    "\n",
    "# Укажем размер графика\n",
    "plt.figure(figsize=(16, 5))\n",
    "sns.set_style(\"darkgrid\") \n",
    "\n",
    "# Создадим график по типу объекта и количеству заведений и вызовем третье измерение, является ли заведение сетевым рестораном\n",
    "sns.barplot(x=\"object_type\", y=\"x\", hue=\"chain\", data=rest_data_1, estimator=sum)\n",
    "\n",
    "# Добавим подписи к графику\n",
    "plt.title('Сетевое распространение для видов объекта общественного питания')\n",
    "plt.xlabel('Тип объекта общественного питания')\n",
    "plt.ylabel('Количествено заведений')\n",
    "xlabels = ['кафе', 'закусочная', 'кафетерий', 'столовая', 'буфет', 'предприятие быстрого обслуживания',\n",
    "           'ресторан', 'бар', 'магазин (отдел кулинарии)']\n",
    "xlabels_new = [\"\\n\".join(label.split()) for label in xlabels]\n",
    "plt.xticks(range(9), xlabels_new, rotation=0);"
   ]
  },
  {
   "cell_type": "code",
   "execution_count": 12,
   "metadata": {},
   "outputs": [
    {
     "data": {
      "text/plain": [
       "object_type                        chain\n",
       "бар                                нет       819\n",
       "                                   да         37\n",
       "буфет                              нет       574\n",
       "                                   да         11\n",
       "закусочная                         нет       304\n",
       "                                   да         56\n",
       "кафе                               нет      4703\n",
       "                                   да       1396\n",
       "кафетерий                          нет       346\n",
       "                                   да         52\n",
       "магазин (отдел кулинарии)          нет       195\n",
       "                                   да         78\n",
       "предприятие быстрого обслуживания  нет      1132\n",
       "                                   да        791\n",
       "ресторан                           нет      1741\n",
       "                                   да        544\n",
       "столовая                           нет      2584\n",
       "                                   да          3\n",
       "Name: chain, dtype: int64"
      ]
     },
     "execution_count": 12,
     "metadata": {},
     "output_type": "execute_result"
    }
   ],
   "source": [
    "rest_data.groupby('object_type')['chain'].value_counts()"
   ]
  },
  {
   "cell_type": "markdown",
   "metadata": {},
   "source": [
    "#### Вывод"
   ]
  },
  {
   "cell_type": "markdown",
   "metadata": {},
   "source": [
    "Сетевое распространение характерно для следующих заведений в следующих пропорциях:\n",
    "\n",
    " - Для кафе 23%\n",
    " - Для ресторанов 23%\n",
    " - Для магазинов с отделом кулинарии 28%\n",
    " - Для предприятий быстрого питания 41%"
   ]
  },
  {
   "cell_type": "markdown",
   "metadata": {},
   "source": [
    "###  Что характерно для сетевых заведений: много заведений с небольшим числом посадочных мест в каждом или мало заведений с большим количеством посадочных мест?"
   ]
  },
  {
   "cell_type": "code",
   "execution_count": 13,
   "metadata": {},
   "outputs": [],
   "source": [
    "# Создадим новую таблицу, в которой будет информация только по сетевым заведениям\n",
    "rest_data_network = rest_data.loc[rest_data['chain'] == 'да']\n",
    "\n",
    "# Создадим новую таблицу группировкой и будем дальше её трансформировать\n",
    "rest_data_5 = rest_data_network.groupby('object_name').agg({'id': 'count', 'number': 'mean'})"
   ]
  },
  {
   "cell_type": "code",
   "execution_count": 14,
   "metadata": {},
   "outputs": [],
   "source": [
    "# Создадим 2 набора данных, по которым мы будем создавать дальшейную сортировку\n",
    "bin_labels_2 = ['мало мест', 'много мест']\n",
    "bin_labels_2_2 = ['много заведений', 'мало заведений']\n",
    "\n",
    "# Создадим сортировку по количеству мест в заведении\n",
    "rest_data_5['quantile'] = pd.qcut(rest_data_5['number'],\n",
    "                              q=[0, .7, 1],\n",
    "                              labels=bin_labels_2)\n",
    "\n",
    "# Создадим сортировку по количеству заведений\n",
    "rest_data_5['quantile_2'] = pd.qcut(rest_data_5['id'],\n",
    "                              q=[0, .7, 1],\n",
    "                              labels=bin_labels_2_2)\n",
    "\n",
    "# Создадим единую столбец с количеством заведений и мест в них\n",
    "rest_data_5['Name'] = rest_data_5[['quantile', 'quantile_2']].apply(lambda row: (row[0],row[1]),axis=1)"
   ]
  },
  {
   "cell_type": "code",
   "execution_count": 15,
   "metadata": {},
   "outputs": [
    {
     "data": {
      "image/png": "[encoded data removed]",
      "text/plain": [
       "<Figure size 1440x720 with 1 Axes>"
      ]
     },
     "metadata": {},
     "output_type": "display_data"
    }
   ],
   "source": [
    "# Создадим наш график с цветовой разметкой количества заведений и мест в них\n",
    "plt.figure(figsize=(20,10))\n",
    "sns.scatterplot(data=rest_data_5, x=\"id\", y=\"number\", hue=\"Name\")\n",
    "plt.legend(prop={'size': 17});"
   ]
  },
  {
   "cell_type": "markdown",
   "metadata": {},
   "source": [
    "#### Вывод"
   ]
  },
  {
   "cell_type": "markdown",
   "metadata": {},
   "source": [
    "По данному графику можно сделать вывод, что для сетевых заведений характерно много заведений с небольшим количество мест. В средней около 40 мест на одно заведение."
   ]
  },
  {
   "cell_type": "markdown",
   "metadata": {},
   "source": [
    "###  Среднее количество посадочных мест для каждого вида объекта общественного питания."
   ]
  },
  {
   "cell_type": "code",
   "execution_count": 16,
   "metadata": {},
   "outputs": [
    {
     "data": {
      "image/png": "[encoded data removed]",
      "text/plain": [
       "<Figure size 1152x360 with 1 Axes>"
      ]
     },
     "metadata": {},
     "output_type": "display_data"
    }
   ],
   "source": [
    "sns.set_style(\"darkgrid\") \n",
    "\n",
    "# Сгруппируем таблицу по типу объекта общественного питания и посчитаем медиану по количеству мест\n",
    "rest_data.groupby('object_type').agg({'number': 'median'}).sort_values('number', ascending = True).plot(figsize=(16, 5), kind = 'bar')\n",
    "\n",
    "# Добавим подписи к графику\n",
    "plt.title('Среднее количество мест для определённого типа объекта общественного питания')\n",
    "plt.xlabel('Тип объекта общественного питания')\n",
    "plt.ylabel('Количествено мест')\n",
    "xlabels = ['закусочная', 'магазин (отдел кулинарии)', 'кафетерий', 'предприятие быстрого обслуживания', 'буфет',\n",
    "           'кафе', 'бар', 'ресторан', 'столовая']\n",
    "xlabels_new = [\"\\n\".join(label.split()) for label in xlabels]\n",
    "plt.xticks(range(9), xlabels_new, rotation=0);"
   ]
  },
  {
   "cell_type": "code",
   "execution_count": 17,
   "metadata": {},
   "outputs": [
    {
     "data": {
      "image/png": "[encoded data removed]",
      "text/plain": [
       "<Figure size 1152x360 with 1 Axes>"
      ]
     },
     "metadata": {},
     "output_type": "display_data"
    }
   ],
   "source": [
    "# и создадим общие коробки с усами\n",
    "plt.figure(figsize=(16, 5))\n",
    "sns.set_style(\"darkgrid\") \n",
    "sns.boxplot(x='object_type', y='number', data=rest_data)\n",
    "plt.title('Среднее количество мест для определённого типа объекта общественного питания')\n",
    "plt.xlabel('Тип объекта общественного питания')\n",
    "plt.ylabel('Количествено мест')\n",
    "plt.ylim(0,400)\n",
    "xlabels = ['кафе', 'закусочная', 'кафетерий', 'столовая', 'буфет', 'предприятие быстрого обслуживания',\n",
    "           'ресторан', 'бар', 'магазин (отдел кулинарии)']\n",
    "xlabels_new = [\"\\n\".join(label.split()) for label in xlabels]\n",
    "plt.xticks(range(9), xlabels_new, rotation=0);"
   ]
  },
  {
   "cell_type": "markdown",
   "metadata": {},
   "source": [
    "#### Вывод"
   ]
  },
  {
   "cell_type": "markdown",
   "metadata": {},
   "source": [
    "Больше всего мест предлагают столовые - в среднем 100 мест. \n",
    "\n",
    "Дальше идут рестораны, в среднем с 80 количеством посадочных мест. \n",
    "\n",
    "Меньше всего посадочных мест у предприятий быстрого обслуживания и кафетериях, у них в среднем 6-7 посадочных места."
   ]
  },
  {
   "cell_type": "markdown",
   "metadata": {},
   "source": [
    "### Создание столбца с информацией об улице."
   ]
  },
  {
   "cell_type": "code",
   "execution_count": 18,
   "metadata": {},
   "outputs": [],
   "source": [
    "# делаем из адреса датафрейм с его частями\n",
    "split_address = rest_data['address'].str.split(', ', expand=True)\n",
    "\n",
    "# включаем в регулярное выражение значения для фильтрации\n",
    "filter_regex = 'город|дом|корпус|строение|поселение|деревня|посёлок|село|владение|сооружение|дачный|рабочий'\n",
    "\n",
    "# проходимся циклом по всем столбцам и заменяем ячейки, включающие ненужные значения, на пустые значения\n",
    "for col in split_address.columns:\n",
    "     split_address.loc[split_address[col].str.match(filter_regex, na=False, case=False), col] = None\n",
    "\n",
    "# обратно соединяем в новый столбец куски адреса без ненужных частей\n",
    "rest_data['streetname'] = split_address.apply(lambda x: x.str.cat(sep=', ', join='left'), axis=1)"
   ]
  },
  {
   "cell_type": "code",
   "execution_count": 19,
   "metadata": {},
   "outputs": [],
   "source": [
    "# возьмём информацию из интернета по районам и улицам\n",
    "spreadsheet_id = '18F8HNE8ONdJEJA7xA_-Q3jQybRAqPRWxYk7TNv4iU0A'\n",
    "file_name = 'https://docs.google.com/spreadsheets/d/{}/export?format=csv'.format(spreadsheet_id)\n",
    "r = requests.get(file_name)\n",
    "districts = pd.read_csv(BytesIO(r.content))\n",
    "districts.head()\n",
    "\n",
    "# объединим наши таблицы\n",
    "rest_data = rest_data.merge(districts, on='streetname')"
   ]
  },
  {
   "cell_type": "markdown",
   "metadata": {},
   "source": [
    "### График топ-10 улиц по количеству объектов общественного питания."
   ]
  },
  {
   "cell_type": "code",
   "execution_count": 20,
   "metadata": {},
   "outputs": [
    {
     "data": {
      "text/html": [
       "<div>\n",
       "<style scoped>\n",
       "    .dataframe tbody tr th:only-of-type {\n",
       "        vertical-align: middle;\n",
       "    }\n",
       "\n",
       "    .dataframe tbody tr th {\n",
       "        vertical-align: top;\n",
       "    }\n",
       "\n",
       "    .dataframe thead th {\n",
       "        text-align: right;\n",
       "    }\n",
       "</style>\n",
       "<table border=\"1\" class=\"dataframe\">\n",
       "  <thead>\n",
       "    <tr style=\"text-align: right;\">\n",
       "      <th></th>\n",
       "      <th>id</th>\n",
       "    </tr>\n",
       "    <tr>\n",
       "      <th>streetname</th>\n",
       "      <th></th>\n",
       "    </tr>\n",
       "  </thead>\n",
       "  <tbody>\n",
       "    <tr>\n",
       "      <td>проспект Мира</td>\n",
       "      <td>204</td>\n",
       "    </tr>\n",
       "    <tr>\n",
       "      <td>Профсоюзная улица</td>\n",
       "      <td>183</td>\n",
       "    </tr>\n",
       "    <tr>\n",
       "      <td>Ленинградский проспект</td>\n",
       "      <td>173</td>\n",
       "    </tr>\n",
       "    <tr>\n",
       "      <td>Пресненская набережная</td>\n",
       "      <td>167</td>\n",
       "    </tr>\n",
       "    <tr>\n",
       "      <td>Варшавское шоссе</td>\n",
       "      <td>162</td>\n",
       "    </tr>\n",
       "    <tr>\n",
       "      <td>Ленинский проспект</td>\n",
       "      <td>148</td>\n",
       "    </tr>\n",
       "    <tr>\n",
       "      <td>проспект Вернадского</td>\n",
       "      <td>132</td>\n",
       "    </tr>\n",
       "    <tr>\n",
       "      <td>Кутузовский проспект</td>\n",
       "      <td>114</td>\n",
       "    </tr>\n",
       "    <tr>\n",
       "      <td>Каширское шоссе</td>\n",
       "      <td>112</td>\n",
       "    </tr>\n",
       "    <tr>\n",
       "      <td>Кировоградская улица</td>\n",
       "      <td>110</td>\n",
       "    </tr>\n",
       "  </tbody>\n",
       "</table>\n",
       "</div>"
      ],
      "text/plain": [
       "                         id\n",
       "streetname                 \n",
       "проспект Мира           204\n",
       "Профсоюзная улица       183\n",
       "Ленинградский проспект  173\n",
       "Пресненская набережная  167\n",
       "Варшавское шоссе        162\n",
       "Ленинский проспект      148\n",
       "проспект Вернадского    132\n",
       "Кутузовский проспект    114\n",
       "Каширское шоссе         112\n",
       "Кировоградская улица    110"
      ]
     },
     "execution_count": 20,
     "metadata": {},
     "output_type": "execute_result"
    }
   ],
   "source": [
    "# Посмотрим 10 улиц с самым большим количество заведений\n",
    "rest_data.groupby('streetname').agg({'id': 'nunique'}).sort_values('id', ascending = False).head(10)"
   ]
  },
  {
   "cell_type": "code",
   "execution_count": 21,
   "metadata": {},
   "outputs": [
    {
     "data": {
      "image/png": "[encoded data removed]",
      "text/plain": [
       "<Figure size 1152x360 with 1 Axes>"
      ]
     },
     "metadata": {},
     "output_type": "display_data"
    }
   ],
   "source": [
    "# Создадим переменную с нашими 10 улицами\n",
    "streets = ['проспект Мира', 'Профсоюзная улица', 'Ленинградский проспект', 'Пресненская набережная',\n",
    "           'Варшавское шоссе', 'Ленинский проспект', 'проспект Вернадского', 'Кутузовский проспект',\n",
    "           'Каширское шоссе', 'Кировоградская улица']\n",
    "\n",
    "# Создадим новую таблицу, в которой будет информация только по сетевым заведениям\n",
    "rest_data_10_streets = rest_data.query('streetname == @streets')\n",
    "sns.set_style(\"darkgrid\") \n",
    "\n",
    "rest_data_10_streets.groupby('streetname').agg({'id': 'nunique'}).sort_values('id', ascending = True).plot(figsize=(16, 5), kind = 'bar')\n",
    "\n",
    "\n",
    "# Добавим подписи к графику\n",
    "plt.title('Топ 10 улиц с самым большим количество заведений')\n",
    "plt.xlabel('Название улицы')\n",
    "plt.ylabel('Количествено заведений')\n",
    "xlabels = ['Кировоградская улица', 'Каширское шоссе', 'Кутузовский проспект', 'проспект Вернадского', \n",
    "           'Ленинский проспект', 'Варшавское шоссе', 'Пресненская набережная', 'Ленинградский проспект',\n",
    "           'Профсоюзная улица', 'проспект Мира']\n",
    "xlabels_new = [\"\\n\".join(label.split()) for label in xlabels]\n",
    "plt.xticks(range(10), xlabels_new, rotation=0);"
   ]
  },
  {
   "cell_type": "code",
   "execution_count": 22,
   "metadata": {},
   "outputs": [
    {
     "data": {
      "text/html": [
       "<div>\n",
       "<style scoped>\n",
       "    .dataframe tbody tr th:only-of-type {\n",
       "        vertical-align: middle;\n",
       "    }\n",
       "\n",
       "    .dataframe tbody tr th {\n",
       "        vertical-align: top;\n",
       "    }\n",
       "\n",
       "    .dataframe thead th {\n",
       "        text-align: right;\n",
       "    }\n",
       "</style>\n",
       "<table border=\"1\" class=\"dataframe\">\n",
       "  <thead>\n",
       "    <tr style=\"text-align: right;\">\n",
       "      <th></th>\n",
       "      <th>streetname</th>\n",
       "      <th>areaid</th>\n",
       "      <th>okrug</th>\n",
       "      <th>area</th>\n",
       "    </tr>\n",
       "  </thead>\n",
       "  <tbody>\n",
       "    <tr>\n",
       "      <td>3241</td>\n",
       "      <td>Варшавское шоссе</td>\n",
       "      <td>99</td>\n",
       "      <td>ЮАО</td>\n",
       "      <td>Донской район</td>\n",
       "    </tr>\n",
       "    <tr>\n",
       "      <td>4065</td>\n",
       "      <td>Варшавское шоссе</td>\n",
       "      <td>133</td>\n",
       "      <td>ЮЗАО</td>\n",
       "      <td>Район Южное Бутово</td>\n",
       "    </tr>\n",
       "    <tr>\n",
       "      <td>3125</td>\n",
       "      <td>Варшавское шоссе</td>\n",
       "      <td>110</td>\n",
       "      <td>ЮАО</td>\n",
       "      <td>Район Чертаново Южное</td>\n",
       "    </tr>\n",
       "    <tr>\n",
       "      <td>3999</td>\n",
       "      <td>Варшавское шоссе</td>\n",
       "      <td>130</td>\n",
       "      <td>ЮЗАО</td>\n",
       "      <td>Район Северное Бутово</td>\n",
       "    </tr>\n",
       "    <tr>\n",
       "      <td>3117</td>\n",
       "      <td>Варшавское шоссе</td>\n",
       "      <td>108</td>\n",
       "      <td>ЮАО</td>\n",
       "      <td>Район Чертаново Северное</td>\n",
       "    </tr>\n",
       "    <tr>\n",
       "      <td>3105</td>\n",
       "      <td>Варшавское шоссе</td>\n",
       "      <td>109</td>\n",
       "      <td>ЮАО</td>\n",
       "      <td>Район Чертаново Центральное</td>\n",
       "    </tr>\n",
       "    <tr>\n",
       "      <td>3349</td>\n",
       "      <td>Варшавское шоссе</td>\n",
       "      <td>104</td>\n",
       "      <td>ЮАО</td>\n",
       "      <td>Нагорный район</td>\n",
       "    </tr>\n",
       "    <tr>\n",
       "      <td>3305</td>\n",
       "      <td>Варшавское шоссе</td>\n",
       "      <td>102</td>\n",
       "      <td>ЮАО</td>\n",
       "      <td>Район Нагатино-Садовники</td>\n",
       "    </tr>\n",
       "    <tr>\n",
       "      <td>3308</td>\n",
       "      <td>Каширское шоссе</td>\n",
       "      <td>102</td>\n",
       "      <td>ЮАО</td>\n",
       "      <td>Район Нагатино-Садовники</td>\n",
       "    </tr>\n",
       "    <tr>\n",
       "      <td>3292</td>\n",
       "      <td>Каширское шоссе</td>\n",
       "      <td>101</td>\n",
       "      <td>ЮАО</td>\n",
       "      <td>Район Москворечье-Сабурово</td>\n",
       "    </tr>\n",
       "    <tr>\n",
       "      <td>3369</td>\n",
       "      <td>Каширское шоссе</td>\n",
       "      <td>106</td>\n",
       "      <td>ЮАО</td>\n",
       "      <td>Район Орехово-Борисово Южное</td>\n",
       "    </tr>\n",
       "    <tr>\n",
       "      <td>3392</td>\n",
       "      <td>Каширское шоссе</td>\n",
       "      <td>105</td>\n",
       "      <td>ЮАО</td>\n",
       "      <td>Район Орехово-Борисово Северное</td>\n",
       "    </tr>\n",
       "    <tr>\n",
       "      <td>3120</td>\n",
       "      <td>Кировоградская улица</td>\n",
       "      <td>108</td>\n",
       "      <td>ЮАО</td>\n",
       "      <td>Район Чертаново Северное</td>\n",
       "    </tr>\n",
       "    <tr>\n",
       "      <td>3111</td>\n",
       "      <td>Кировоградская улица</td>\n",
       "      <td>109</td>\n",
       "      <td>ЮАО</td>\n",
       "      <td>Район Чертаново Центральное</td>\n",
       "    </tr>\n",
       "    <tr>\n",
       "      <td>3131</td>\n",
       "      <td>Кировоградская улица</td>\n",
       "      <td>110</td>\n",
       "      <td>ЮАО</td>\n",
       "      <td>Район Чертаново Южное</td>\n",
       "    </tr>\n",
       "    <tr>\n",
       "      <td>1280</td>\n",
       "      <td>Кутузовский проспект</td>\n",
       "      <td>49</td>\n",
       "      <td>ЗАО</td>\n",
       "      <td>Район Фили-Давыдково</td>\n",
       "    </tr>\n",
       "    <tr>\n",
       "      <td>1208</td>\n",
       "      <td>Кутузовский проспект</td>\n",
       "      <td>38</td>\n",
       "      <td>ЗАО</td>\n",
       "      <td>Район Дорогомилово</td>\n",
       "    </tr>\n",
       "    <tr>\n",
       "      <td>2150</td>\n",
       "      <td>Ленинградский проспект</td>\n",
       "      <td>66</td>\n",
       "      <td>САО</td>\n",
       "      <td>Район Сокол</td>\n",
       "    </tr>\n",
       "    <tr>\n",
       "      <td>1992</td>\n",
       "      <td>Ленинградский проспект</td>\n",
       "      <td>69</td>\n",
       "      <td>САО</td>\n",
       "      <td>Хорошевский район</td>\n",
       "    </tr>\n",
       "    <tr>\n",
       "      <td>1896</td>\n",
       "      <td>Ленинградский проспект</td>\n",
       "      <td>55</td>\n",
       "      <td>САО</td>\n",
       "      <td>Район Беговой</td>\n",
       "    </tr>\n",
       "    <tr>\n",
       "      <td>1857</td>\n",
       "      <td>Ленинградский проспект</td>\n",
       "      <td>54</td>\n",
       "      <td>САО</td>\n",
       "      <td>Район Аэропорт</td>\n",
       "    </tr>\n",
       "    <tr>\n",
       "      <td>3986</td>\n",
       "      <td>Ленинский проспект</td>\n",
       "      <td>129</td>\n",
       "      <td>ЮЗАО</td>\n",
       "      <td>Обручевский район</td>\n",
       "    </tr>\n",
       "    <tr>\n",
       "      <td>1602</td>\n",
       "      <td>Ленинский проспект</td>\n",
       "      <td>47</td>\n",
       "      <td>ЗАО</td>\n",
       "      <td>Район Тропарево-Никулино</td>\n",
       "    </tr>\n",
       "    <tr>\n",
       "      <td>4021</td>\n",
       "      <td>Ленинский проспект</td>\n",
       "      <td>131</td>\n",
       "      <td>ЮЗАО</td>\n",
       "      <td>Район Теплый Стан</td>\n",
       "    </tr>\n",
       "    <tr>\n",
       "      <td>1504</td>\n",
       "      <td>Ленинский проспект</td>\n",
       "      <td>44</td>\n",
       "      <td>ЗАО</td>\n",
       "      <td>Район Проспект Вернадского</td>\n",
       "    </tr>\n",
       "    <tr>\n",
       "      <td>4163</td>\n",
       "      <td>Ленинский проспект</td>\n",
       "      <td>21</td>\n",
       "      <td>ЦАО</td>\n",
       "      <td>Район Якиманка</td>\n",
       "    </tr>\n",
       "    <tr>\n",
       "      <td>3260</td>\n",
       "      <td>Ленинский проспект</td>\n",
       "      <td>99</td>\n",
       "      <td>ЮАО</td>\n",
       "      <td>Донской район</td>\n",
       "    </tr>\n",
       "    <tr>\n",
       "      <td>3973</td>\n",
       "      <td>Ленинский проспект</td>\n",
       "      <td>128</td>\n",
       "      <td>ЮЗАО</td>\n",
       "      <td>Ломоносовский район</td>\n",
       "    </tr>\n",
       "    <tr>\n",
       "      <td>3886</td>\n",
       "      <td>Ленинский проспект</td>\n",
       "      <td>124</td>\n",
       "      <td>ЮЗАО</td>\n",
       "      <td>Район Гагаринский</td>\n",
       "    </tr>\n",
       "    <tr>\n",
       "      <td>72</td>\n",
       "      <td>Пресненская набережная</td>\n",
       "      <td>17</td>\n",
       "      <td>ЦАО</td>\n",
       "      <td>Пресненский район</td>\n",
       "    </tr>\n",
       "    <tr>\n",
       "      <td>3845</td>\n",
       "      <td>Профсоюзная улица</td>\n",
       "      <td>123</td>\n",
       "      <td>ЮЗАО</td>\n",
       "      <td>Академический район</td>\n",
       "    </tr>\n",
       "    <tr>\n",
       "      <td>3867</td>\n",
       "      <td>Профсоюзная улица</td>\n",
       "      <td>132</td>\n",
       "      <td>ЮЗАО</td>\n",
       "      <td>Район Черемушки</td>\n",
       "    </tr>\n",
       "    <tr>\n",
       "      <td>4024</td>\n",
       "      <td>Профсоюзная улица</td>\n",
       "      <td>131</td>\n",
       "      <td>ЮЗАО</td>\n",
       "      <td>Район Теплый Стан</td>\n",
       "    </tr>\n",
       "    <tr>\n",
       "      <td>3916</td>\n",
       "      <td>Профсоюзная улица</td>\n",
       "      <td>134</td>\n",
       "      <td>ЮЗАО</td>\n",
       "      <td>Район Ясенево</td>\n",
       "    </tr>\n",
       "    <tr>\n",
       "      <td>3948</td>\n",
       "      <td>Профсоюзная улица</td>\n",
       "      <td>126</td>\n",
       "      <td>ЮЗАО</td>\n",
       "      <td>Район Коньково</td>\n",
       "    </tr>\n",
       "    <tr>\n",
       "      <td>3996</td>\n",
       "      <td>Профсоюзная улица</td>\n",
       "      <td>129</td>\n",
       "      <td>ЮЗАО</td>\n",
       "      <td>Обручевский район</td>\n",
       "    </tr>\n",
       "    <tr>\n",
       "      <td>3967</td>\n",
       "      <td>проспект Вернадского</td>\n",
       "      <td>128</td>\n",
       "      <td>ЮЗАО</td>\n",
       "      <td>Ломоносовский район</td>\n",
       "    </tr>\n",
       "    <tr>\n",
       "      <td>1501</td>\n",
       "      <td>проспект Вернадского</td>\n",
       "      <td>44</td>\n",
       "      <td>ЗАО</td>\n",
       "      <td>Район Проспект Вернадского</td>\n",
       "    </tr>\n",
       "    <tr>\n",
       "      <td>3878</td>\n",
       "      <td>проспект Вернадского</td>\n",
       "      <td>124</td>\n",
       "      <td>ЮЗАО</td>\n",
       "      <td>Район Гагаринский</td>\n",
       "    </tr>\n",
       "    <tr>\n",
       "      <td>1510</td>\n",
       "      <td>проспект Вернадского</td>\n",
       "      <td>45</td>\n",
       "      <td>ЗАО</td>\n",
       "      <td>Район Раменки</td>\n",
       "    </tr>\n",
       "    <tr>\n",
       "      <td>1598</td>\n",
       "      <td>проспект Вернадского</td>\n",
       "      <td>47</td>\n",
       "      <td>ЗАО</td>\n",
       "      <td>Район Тропарево-Никулино</td>\n",
       "    </tr>\n",
       "    <tr>\n",
       "      <td>2644</td>\n",
       "      <td>проспект Мира</td>\n",
       "      <td>81</td>\n",
       "      <td>СВАО</td>\n",
       "      <td>Район Ростокино</td>\n",
       "    </tr>\n",
       "    <tr>\n",
       "      <td>2390</td>\n",
       "      <td>проспект Мира</td>\n",
       "      <td>86</td>\n",
       "      <td>СВАО</td>\n",
       "      <td>Ярославский Район</td>\n",
       "    </tr>\n",
       "    <tr>\n",
       "      <td>2712</td>\n",
       "      <td>проспект Мира</td>\n",
       "      <td>82</td>\n",
       "      <td>СВАО</td>\n",
       "      <td>Район Свиблово</td>\n",
       "    </tr>\n",
       "    <tr>\n",
       "      <td>2531</td>\n",
       "      <td>проспект Мира</td>\n",
       "      <td>78</td>\n",
       "      <td>СВАО</td>\n",
       "      <td>Район Марьина роща</td>\n",
       "    </tr>\n",
       "    <tr>\n",
       "      <td>2578</td>\n",
       "      <td>проспект Мира</td>\n",
       "      <td>79</td>\n",
       "      <td>СВАО</td>\n",
       "      <td>Останкинский район</td>\n",
       "    </tr>\n",
       "    <tr>\n",
       "      <td>2293</td>\n",
       "      <td>проспект Мира</td>\n",
       "      <td>70</td>\n",
       "      <td>СВАО</td>\n",
       "      <td>Алексеевский район</td>\n",
       "    </tr>\n",
       "    <tr>\n",
       "      <td>4334</td>\n",
       "      <td>проспект Мира</td>\n",
       "      <td>16</td>\n",
       "      <td>ЦАО</td>\n",
       "      <td>Мещанский район</td>\n",
       "    </tr>\n",
       "  </tbody>\n",
       "</table>\n",
       "</div>"
      ],
      "text/plain": [
       "                  streetname  areaid okrug                             area\n",
       "3241        Варшавское шоссе      99   ЮАО                    Донской район\n",
       "4065        Варшавское шоссе     133  ЮЗАО               Район Южное Бутово\n",
       "3125        Варшавское шоссе     110   ЮАО            Район Чертаново Южное\n",
       "3999        Варшавское шоссе     130  ЮЗАО            Район Северное Бутово\n",
       "3117        Варшавское шоссе     108   ЮАО         Район Чертаново Северное\n",
       "3105        Варшавское шоссе     109   ЮАО      Район Чертаново Центральное\n",
       "3349        Варшавское шоссе     104   ЮАО                   Нагорный район\n",
       "3305        Варшавское шоссе     102   ЮАО         Район Нагатино-Садовники\n",
       "3308         Каширское шоссе     102   ЮАО         Район Нагатино-Садовники\n",
       "3292         Каширское шоссе     101   ЮАО       Район Москворечье-Сабурово\n",
       "3369         Каширское шоссе     106   ЮАО     Район Орехово-Борисово Южное\n",
       "3392         Каширское шоссе     105   ЮАО  Район Орехово-Борисово Северное\n",
       "3120    Кировоградская улица     108   ЮАО         Район Чертаново Северное\n",
       "3111    Кировоградская улица     109   ЮАО      Район Чертаново Центральное\n",
       "3131    Кировоградская улица     110   ЮАО            Район Чертаново Южное\n",
       "1280    Кутузовский проспект      49   ЗАО             Район Фили-Давыдково\n",
       "1208    Кутузовский проспект      38   ЗАО               Район Дорогомилово\n",
       "2150  Ленинградский проспект      66   САО                      Район Сокол\n",
       "1992  Ленинградский проспект      69   САО                Хорошевский район\n",
       "1896  Ленинградский проспект      55   САО                    Район Беговой\n",
       "1857  Ленинградский проспект      54   САО                   Район Аэропорт\n",
       "3986      Ленинский проспект     129  ЮЗАО                Обручевский район\n",
       "1602      Ленинский проспект      47   ЗАО         Район Тропарево-Никулино\n",
       "4021      Ленинский проспект     131  ЮЗАО                Район Теплый Стан\n",
       "1504      Ленинский проспект      44   ЗАО       Район Проспект Вернадского\n",
       "4163      Ленинский проспект      21   ЦАО                   Район Якиманка\n",
       "3260      Ленинский проспект      99   ЮАО                    Донской район\n",
       "3973      Ленинский проспект     128  ЮЗАО              Ломоносовский район\n",
       "3886      Ленинский проспект     124  ЮЗАО                Район Гагаринский\n",
       "72    Пресненская набережная      17   ЦАО                Пресненский район\n",
       "3845       Профсоюзная улица     123  ЮЗАО              Академический район\n",
       "3867       Профсоюзная улица     132  ЮЗАО                  Район Черемушки\n",
       "4024       Профсоюзная улица     131  ЮЗАО                Район Теплый Стан\n",
       "3916       Профсоюзная улица     134  ЮЗАО                    Район Ясенево\n",
       "3948       Профсоюзная улица     126  ЮЗАО                   Район Коньково\n",
       "3996       Профсоюзная улица     129  ЮЗАО                Обручевский район\n",
       "3967    проспект Вернадского     128  ЮЗАО              Ломоносовский район\n",
       "1501    проспект Вернадского      44   ЗАО       Район Проспект Вернадского\n",
       "3878    проспект Вернадского     124  ЮЗАО                Район Гагаринский\n",
       "1510    проспект Вернадского      45   ЗАО                    Район Раменки\n",
       "1598    проспект Вернадского      47   ЗАО         Район Тропарево-Никулино\n",
       "2644           проспект Мира      81  СВАО                  Район Ростокино\n",
       "2390           проспект Мира      86  СВАО                Ярославский Район\n",
       "2712           проспект Мира      82  СВАО                   Район Свиблово\n",
       "2531           проспект Мира      78  СВАО               Район Марьина роща\n",
       "2578           проспект Мира      79  СВАО               Останкинский район\n",
       "2293           проспект Мира      70  СВАО               Алексеевский район\n",
       "4334           проспект Мира      16   ЦАО                  Мещанский район"
      ]
     },
     "execution_count": 22,
     "metadata": {},
     "output_type": "execute_result"
    }
   ],
   "source": [
    "# выведем таблицу только с названием улицы, округа и района\n",
    "districts_10 = districts.query('streetname == @streets')\n",
    "districts_10.sort_values('streetname', ascending = True)"
   ]
  },
  {
   "cell_type": "markdown",
   "metadata": {},
   "source": [
    "По последней таблице видно, что наши топ 10 улиц проходит через большое количество районов, создадим альтернативный список топ_10."
   ]
  },
  {
   "cell_type": "code",
   "execution_count": 23,
   "metadata": {},
   "outputs": [
    {
     "data": {
      "image/png": "[encoded data removed]",
      "text/plain": [
       "<Figure size 1152x360 with 1 Axes>"
      ]
     },
     "metadata": {},
     "output_type": "display_data"
    }
   ],
   "source": [
    "streets_2 = [\n",
    "    'Пресненская набережная', 'Пятницкая улица', 'Тверская улица', 'Ходынский бульвар', 'Ярославское шоссе',\n",
    "    'улица Арбат', 'улица Ленинская Слобода', 'улица Новый Арбат', 'улица Покровка', 'Ярцевская улица']\n",
    "\n",
    "# Создадим новую таблицу, в которой будет информация только по сетевым заведениям\n",
    "rest_data_10_streets_2 = rest_data.query('streetname == @streets_2')\n",
    "sns.set_style(\"darkgrid\") \n",
    "\n",
    "rest_data_10_streets_2.groupby('streetname').agg({'id': 'nunique'}).sort_values('id', ascending = True).plot(figsize=(16, 5), kind = 'bar')\n",
    "\n",
    "\n",
    "# Добавим подписи к графику\n",
    "plt.title('Топ 10 улиц с самым большим количество заведений')\n",
    "plt.xlabel('Название улицы')\n",
    "plt.ylabel('Количествено заведений')\n",
    "xlabels = ['Ярцевская улица', 'Ярославское шоссе', 'Тверская улица', 'улица Арбат', \n",
    "           'улица Покровка', 'Пятницкая улица', 'улица Ленинская Слобода', 'улица Новый Арбат',\n",
    "           'Ходынский бульвар', 'Пресненская набережная']\n",
    "xlabels_new = [\"\\n\".join(label.split()) for label in xlabels]\n",
    "plt.xticks(range(10), xlabels_new, rotation=0);"
   ]
  },
  {
   "cell_type": "code",
   "execution_count": 24,
   "metadata": {},
   "outputs": [
    {
     "data": {
      "text/html": [
       "<div>\n",
       "<style scoped>\n",
       "    .dataframe tbody tr th:only-of-type {\n",
       "        vertical-align: middle;\n",
       "    }\n",
       "\n",
       "    .dataframe tbody tr th {\n",
       "        vertical-align: top;\n",
       "    }\n",
       "\n",
       "    .dataframe thead th {\n",
       "        text-align: right;\n",
       "    }\n",
       "</style>\n",
       "<table border=\"1\" class=\"dataframe\">\n",
       "  <thead>\n",
       "    <tr style=\"text-align: right;\">\n",
       "      <th></th>\n",
       "      <th>streetname</th>\n",
       "      <th>areaid</th>\n",
       "      <th>okrug</th>\n",
       "      <th>area</th>\n",
       "    </tr>\n",
       "  </thead>\n",
       "  <tbody>\n",
       "    <tr>\n",
       "      <td>72</td>\n",
       "      <td>Пресненская набережная</td>\n",
       "      <td>17</td>\n",
       "      <td>ЦАО</td>\n",
       "      <td>Пресненский район</td>\n",
       "    </tr>\n",
       "    <tr>\n",
       "      <td>540</td>\n",
       "      <td>Пятницкая улица</td>\n",
       "      <td>14</td>\n",
       "      <td>ЦАО</td>\n",
       "      <td>Район Замоскворечье</td>\n",
       "    </tr>\n",
       "    <tr>\n",
       "      <td>327</td>\n",
       "      <td>Тверская улица</td>\n",
       "      <td>19</td>\n",
       "      <td>ЦАО</td>\n",
       "      <td>Тверской район</td>\n",
       "    </tr>\n",
       "    <tr>\n",
       "      <td>2013</td>\n",
       "      <td>Ходынский бульвар</td>\n",
       "      <td>69</td>\n",
       "      <td>САО</td>\n",
       "      <td>Хорошевский район</td>\n",
       "    </tr>\n",
       "    <tr>\n",
       "      <td>2402</td>\n",
       "      <td>Ярославское шоссе</td>\n",
       "      <td>86</td>\n",
       "      <td>СВАО</td>\n",
       "      <td>Ярославский Район</td>\n",
       "    </tr>\n",
       "    <tr>\n",
       "      <td>1361</td>\n",
       "      <td>Ярцевская улица</td>\n",
       "      <td>40</td>\n",
       "      <td>ЗАО</td>\n",
       "      <td>Район Кунцево</td>\n",
       "    </tr>\n",
       "    <tr>\n",
       "      <td>490</td>\n",
       "      <td>улица Арбат</td>\n",
       "      <td>12</td>\n",
       "      <td>ЦАО</td>\n",
       "      <td>Район Арбат</td>\n",
       "    </tr>\n",
       "    <tr>\n",
       "      <td>3182</td>\n",
       "      <td>улица Ленинская Слобода</td>\n",
       "      <td>98</td>\n",
       "      <td>ЮАО</td>\n",
       "      <td>Даниловский район</td>\n",
       "    </tr>\n",
       "    <tr>\n",
       "      <td>604</td>\n",
       "      <td>улица Новый Арбат</td>\n",
       "      <td>12</td>\n",
       "      <td>ЦАО</td>\n",
       "      <td>Район Арбат</td>\n",
       "    </tr>\n",
       "    <tr>\n",
       "      <td>2279</td>\n",
       "      <td>улица Покровка</td>\n",
       "      <td>13</td>\n",
       "      <td>ЦАО</td>\n",
       "      <td>Басманный район</td>\n",
       "    </tr>\n",
       "  </tbody>\n",
       "</table>\n",
       "</div>"
      ],
      "text/plain": [
       "                   streetname  areaid okrug                 area\n",
       "72     Пресненская набережная      17   ЦАО    Пресненский район\n",
       "540           Пятницкая улица      14   ЦАО  Район Замоскворечье\n",
       "327            Тверская улица      19   ЦАО       Тверской район\n",
       "2013        Ходынский бульвар      69   САО    Хорошевский район\n",
       "2402        Ярославское шоссе      86  СВАО    Ярославский Район\n",
       "1361          Ярцевская улица      40   ЗАО        Район Кунцево\n",
       "490               улица Арбат      12   ЦАО          Район Арбат\n",
       "3182  улица Ленинская Слобода      98   ЮАО    Даниловский район\n",
       "604         улица Новый Арбат      12   ЦАО          Район Арбат\n",
       "2279           улица Покровка      13   ЦАО      Басманный район"
      ]
     },
     "execution_count": 24,
     "metadata": {},
     "output_type": "execute_result"
    }
   ],
   "source": [
    "# выведем таблицу только с названием улицы, округа и района\n",
    "districts_10_2 = districts.query('streetname == @streets_2')\n",
    "districts_10_2.sort_values('streetname', ascending = True)"
   ]
  },
  {
   "cell_type": "code",
   "execution_count": 25,
   "metadata": {},
   "outputs": [
    {
     "data": {
      "text/html": [
       "<div>\n",
       "<style scoped>\n",
       "    .dataframe tbody tr th:only-of-type {\n",
       "        vertical-align: middle;\n",
       "    }\n",
       "\n",
       "    .dataframe tbody tr th {\n",
       "        vertical-align: top;\n",
       "    }\n",
       "\n",
       "    .dataframe thead th {\n",
       "        text-align: right;\n",
       "    }\n",
       "</style>\n",
       "<table border=\"1\" class=\"dataframe\">\n",
       "  <thead>\n",
       "    <tr style=\"text-align: right;\">\n",
       "      <th></th>\n",
       "      <th>id</th>\n",
       "    </tr>\n",
       "    <tr>\n",
       "      <th>streetname</th>\n",
       "      <th></th>\n",
       "    </tr>\n",
       "  </thead>\n",
       "  <tbody>\n",
       "    <tr>\n",
       "      <td>Пресненская набережная</td>\n",
       "      <td>167</td>\n",
       "    </tr>\n",
       "    <tr>\n",
       "      <td>Ходынский бульвар</td>\n",
       "      <td>102</td>\n",
       "    </tr>\n",
       "    <tr>\n",
       "      <td>улица Новый Арбат</td>\n",
       "      <td>92</td>\n",
       "    </tr>\n",
       "    <tr>\n",
       "      <td>улица Ленинская Слобода</td>\n",
       "      <td>89</td>\n",
       "    </tr>\n",
       "    <tr>\n",
       "      <td>Пятницкая улица</td>\n",
       "      <td>80</td>\n",
       "    </tr>\n",
       "    <tr>\n",
       "      <td>улица Арбат</td>\n",
       "      <td>77</td>\n",
       "    </tr>\n",
       "    <tr>\n",
       "      <td>улица Покровка</td>\n",
       "      <td>77</td>\n",
       "    </tr>\n",
       "    <tr>\n",
       "      <td>Тверская улица</td>\n",
       "      <td>68</td>\n",
       "    </tr>\n",
       "    <tr>\n",
       "      <td>Ярославское шоссе</td>\n",
       "      <td>65</td>\n",
       "    </tr>\n",
       "    <tr>\n",
       "      <td>Ярцевская улица</td>\n",
       "      <td>62</td>\n",
       "    </tr>\n",
       "  </tbody>\n",
       "</table>\n",
       "</div>"
      ],
      "text/plain": [
       "                          id\n",
       "streetname                  \n",
       "Пресненская набережная   167\n",
       "Ходынский бульвар        102\n",
       "улица Новый Арбат         92\n",
       "улица Ленинская Слобода   89\n",
       "Пятницкая улица           80\n",
       "улица Арбат               77\n",
       "улица Покровка            77\n",
       "Тверская улица            68\n",
       "Ярославское шоссе         65\n",
       "Ярцевская улица           62"
      ]
     },
     "execution_count": 25,
     "metadata": {},
     "output_type": "execute_result"
    }
   ],
   "source": [
    "rest_data_10_streets_2.groupby('streetname').agg({'id': 'nunique'}).sort_values('id', ascending = False)"
   ]
  },
  {
   "cell_type": "markdown",
   "metadata": {},
   "source": [
    "#### Вывод"
   ]
  },
  {
   "cell_type": "markdown",
   "metadata": {},
   "source": [
    "На улицах, какие вошли в топ 10 с самым большим количеством заведений находится от 62 (Ярцевская улица) до 167 заведений (Пресненская набережная).\n",
    "\n",
    " 1) **Ярцевская улица** имеет 62 заведения и проходит через район Кунцево.\n",
    " \n",
    " 2) **Ярославское шоссе** имеет 65 заведений и проходит через Ярославский район\n",
    " \n",
    " 3) **Тверская улица** имеет 68 заведений и проходит через Тверской район.\n",
    " \n",
    " 4) **улица Арбат** имеет 77 заведений и проходит через район Арбат.\n",
    " \n",
    " 5) **улица Покровка** имеет 77 заведений и проходит через Бассманный район\n",
    " \n",
    " 6) **Пятницкая улица** имеет 80 заведений и проходит через Район Замоскворечье.\n",
    " \n",
    " 7) **улица Ленинская Слобода** имеет 89 заведений и проходит через Даниловский район.\n",
    " \n",
    " 8) **улица Новый Арбат** имеет 92 заведения и проходит через Район Арбат.\n",
    " \n",
    " 9) **Ходынский бульвар** имеет 102 заведения и проходит через Хорошевский район.\n",
    " \n",
    " 10) **Пресненская набережная** имеет 167 заведений и проходит через Пресненский район."
   ]
  },
  {
   "cell_type": "markdown",
   "metadata": {},
   "source": [
    "### Сколько улиц с одним объектом общественного питания. "
   ]
  },
  {
   "cell_type": "code",
   "execution_count": 26,
   "metadata": {},
   "outputs": [
    {
     "name": "stdout",
     "output_type": "stream",
     "text": [
      "Всего у нас 521 улиц с одним заведением на улицу\n"
     ]
    }
   ],
   "source": [
    "# Посмотрим 10 улиц с самым большим количество заведений\n",
    "data = rest_data.groupby('streetname').agg({'id': 'nunique'}).sort_values('id', ascending = True)\n",
    "\n",
    "# Создадим новую таблицу, в которой будет информация только по сетевым заведениям\n",
    "rest_data_1_institution = data.query('id == 1')\n",
    "\n",
    "# Посмотрим длину таблицы\n",
    "print('Всего у нас', len(rest_data_1_institution), 'улиц с одним заведением на улицу')"
   ]
  },
  {
   "cell_type": "code",
   "execution_count": 27,
   "metadata": {},
   "outputs": [
    {
     "data": {
      "text/html": [
       "<div>\n",
       "<style scoped>\n",
       "    .dataframe tbody tr th:only-of-type {\n",
       "        vertical-align: middle;\n",
       "    }\n",
       "\n",
       "    .dataframe tbody tr th {\n",
       "        vertical-align: top;\n",
       "    }\n",
       "\n",
       "    .dataframe thead th {\n",
       "        text-align: right;\n",
       "    }\n",
       "</style>\n",
       "<table border=\"1\" class=\"dataframe\">\n",
       "  <thead>\n",
       "    <tr style=\"text-align: right;\">\n",
       "      <th></th>\n",
       "      <th>id</th>\n",
       "    </tr>\n",
       "    <tr>\n",
       "      <th>area</th>\n",
       "      <th></th>\n",
       "    </tr>\n",
       "  </thead>\n",
       "  <tbody>\n",
       "    <tr>\n",
       "      <td>Таганский район</td>\n",
       "      <td>27</td>\n",
       "    </tr>\n",
       "    <tr>\n",
       "      <td>Район Хамовники</td>\n",
       "      <td>26</td>\n",
       "    </tr>\n",
       "    <tr>\n",
       "      <td>Басманный район</td>\n",
       "      <td>25</td>\n",
       "    </tr>\n",
       "    <tr>\n",
       "      <td>Тверской район</td>\n",
       "      <td>20</td>\n",
       "    </tr>\n",
       "    <tr>\n",
       "      <td>Пресненский район</td>\n",
       "      <td>20</td>\n",
       "    </tr>\n",
       "  </tbody>\n",
       "</table>\n",
       "</div>"
      ],
      "text/plain": [
       "                   id\n",
       "area                 \n",
       "Таганский район    27\n",
       "Район Хамовники    26\n",
       "Басманный район    25\n",
       "Тверской район     20\n",
       "Пресненский район  20"
      ]
     },
     "execution_count": 27,
     "metadata": {},
     "output_type": "execute_result"
    }
   ],
   "source": [
    "# Объединим нашу таблицу с 521 улицей с таблицей округов и районов\n",
    "rest_data_1_institution =  rest_data_1_institution.merge(districts, on='streetname')\n",
    "rest_data_1_institution.groupby('area').agg({'id': 'count'}).sort_values('id', ascending = False).head()"
   ]
  },
  {
   "cell_type": "markdown",
   "metadata": {},
   "source": [
    "#### Вывод"
   ]
  },
  {
   "cell_type": "markdown",
   "metadata": {},
   "source": [
    "Всего 521 улиц с одним заведением. Они есть в каждом районе Москвы.\n",
    "\n",
    "Больше всего их в Таганском, Басманном районах и районе Хамовники. Здесь больше 25 улиц в каждом районе, где по одному заведению."
   ]
  },
  {
   "cell_type": "markdown",
   "metadata": {},
   "source": [
    "### Распределение количества посадочных мест для улиц с большим количеством объектов общественного питания."
   ]
  },
  {
   "cell_type": "code",
   "execution_count": 28,
   "metadata": {},
   "outputs": [
    {
     "data": {
      "image/png": "[encoded data removed]",
      "text/plain": [
       "<Figure size 1152x360 with 1 Axes>"
      ]
     },
     "metadata": {},
     "output_type": "display_data"
    }
   ],
   "source": [
    "sns.set_style(\"darkgrid\") \n",
    "\n",
    "# Сгруппируем таблицу по типу объекта общественного питания и посчитаем медиану по количеству мест\n",
    "rest_data_10_streets_2.groupby('streetname').agg({'number': 'mean'}).sort_values('number', ascending = True).plot(figsize=(16, 5), kind = 'bar')\n",
    "\n",
    "# Добавим подписи к графику\n",
    "plt.title('Среднее количество мест в заведениях для определённой улицы')\n",
    "plt.xlabel('Название улицы')\n",
    "plt.ylabel('Количествено мест')\n",
    "xlabels = ['Ходынский бульвар', 'улица Ленинская Слобода', 'Пресненская набережная', 'Ярцевская улица',\n",
    "           'улица Покровка', 'улица Новый Арбат', 'улица Арбат', 'Пятницкая улица', 'Ярославское шоссе', \n",
    "           'Тверская улица']\n",
    "xlabels_new = [\"\\n\".join(label.split()) for label in xlabels]\n",
    "plt.xticks(range(10), xlabels_new, rotation=0);"
   ]
  },
  {
   "cell_type": "markdown",
   "metadata": {},
   "source": [
    "По данному графику можно сказать, что больше всего посадочных мест предлагает Тверская улица и Ярославское шоссе. Больше 70 мест на одно заведение."
   ]
  },
  {
   "cell_type": "code",
   "execution_count": 29,
   "metadata": {},
   "outputs": [
    {
     "data": {
      "image/png": "[encoded data removed]",
      "text/plain": [
       "<Figure size 1152x360 with 1 Axes>"
      ]
     },
     "metadata": {},
     "output_type": "display_data"
    }
   ],
   "source": [
    "plt.figure(figsize=(16, 5))\n",
    "sns.set_style(\"whitegrid\") \n",
    "\n",
    "# Создадим график с третьим измерением\n",
    "sns.barplot(x=\"streetname\", y=\"number\", hue=\"object_type\", data=rest_data_10_streets_2, ci=None)\n",
    "\n",
    "# Добавим подписи к графику\n",
    "plt.title('Сетевое распространение для видов объекта общественного питания')\n",
    "plt.xlabel('Название улицы и тип объекта')\n",
    "plt.ylabel('Количествено мест в заведении')\n",
    "plt.ylim(0,280)\n",
    "xlabels = ['улица Арбат', 'Тверская улица', 'улица Новый Арбат', 'улица Покровка', 'Пятницкая улица', \n",
    "           'Ярославское шоссе', 'Ярцевская улица', 'улица Ленинская Слобода', 'Ходынский бульвар',\n",
    "           'Пресненская набережная']\n",
    "xlabels_new = [\"\\n\".join(label.split()) for label in xlabels]\n",
    "plt.xticks(range(10), xlabels_new, rotation=0)\n",
    "plt.legend(bbox_to_anchor=(1.05, 1));"
   ]
  },
  {
   "cell_type": "markdown",
   "metadata": {},
   "source": [
    "Но по данному графику можно увидеть, что большое количество мест на Ярославском шоссе дают столовые. Если исключить данные заведения, то в большинство мест дают столовые и рестораны. В столовых посадочных мест повсеместно больше."
   ]
  },
  {
   "cell_type": "code",
   "execution_count": 30,
   "metadata": {},
   "outputs": [
    {
     "data": {
      "image/png": "[encoded data removed]",
      "text/plain": [
       "<Figure size 1152x360 with 1 Axes>"
      ]
     },
     "metadata": {},
     "output_type": "display_data"
    }
   ],
   "source": [
    "plt.figure(figsize=(16, 5))\n",
    "sns.set_style(\"whitegrid\") \n",
    "\n",
    "rest_data_2 = rest_data_10_streets_2.copy()\n",
    "rest_data_2['x'] = rest_data_2['id'] / rest_data_2['id']\n",
    "\n",
    "\n",
    "# Создадим график с третьим измерением\n",
    "sns.barplot(x=\"streetname\", y=\"x\", hue=\"object_type\", data=rest_data_2, estimator=sum)\n",
    "\n",
    "# Добавим подписи к графику\n",
    "plt.title('Сетевое распространение для видов объекта общественного питания')\n",
    "plt.xlabel('Название улицы и тип объекта')\n",
    "plt.ylabel('Количествено мест в заведении')\n",
    "plt.ylim(0,120)\n",
    "xlabels = ['улица Арбат', 'Тверская улица', 'улица Новый Арбат', 'улица Покровка', 'Пятницкая улица', \n",
    "           'Ярославское шоссе', 'Ярцевская улица', 'улица Ленинская Слобода', 'Ходынский бульвар',\n",
    "           'Пресненская набережная']\n",
    "xlabels_new = [\"\\n\".join(label.split()) for label in xlabels]\n",
    "plt.xticks(range(10), xlabels_new, rotation=0)\n",
    "plt.legend(bbox_to_anchor=(1.05, 1));"
   ]
  },
  {
   "cell_type": "markdown",
   "metadata": {},
   "source": [
    "## Вывод"
   ]
  },
  {
   "cell_type": "markdown",
   "metadata": {},
   "source": [
    "В Москве больше всего кафе, их больше 6000.\n",
    "\n",
    "Сетевых предприятий около 3 тысяч, несетевых больше 12 тысяч.\n",
    "\n",
    "Для предприятий быстрого питания характерно сетевое распространения, около 41% заведений типа являют сетевыми.\n",
    "\n",
    "На топ-10 улиц больше всего встречается заведений типа кафе.\n",
    "\n",
    "Для сетевых предприятий характерно большое количество заведений с небольшим количеством мест. Около 40 мест на заведение.\n",
    "\n",
    "Лучше всего открыть кафе или предприятие быстрого обслуживания на одной из топа 10 улиц.\n",
    "Так как баров не так много, и пьяные гости + дорогостояющие роботы - это не лучшее сочетание.\n",
    "Также для столовой или буфета, нужно будет очень много роботов, что потребует очень большое количество затрат. Или же поставить роботов на раздачу, но не думаю, что это сильно будет привлекать гостей, это очень быстро надоест.\n",
    "\n",
    "На 40-45 посадочных мест (это среднее количество, что для кафе, что для общепита)\n",
    "\n",
    "Я бы рекомендовала открыть кафе, так как в нём не такой большой поток посетителей, как в общепите, значит и роботы прослужат дольше."
   ]
  },
  {
   "cell_type": "markdown",
   "metadata": {},
   "source": [
    "Ссылка на презентацию: https://drive.google.com/file/d/1smE1BAKXU7EETTV0QDUl_wo8UUy4eSPE/view?usp=sharing"
   ]
  }
 ],
 "metadata": {
  "ExecuteTimeLog": [
   {
    "duration": 747,
    "start_time": "2021-08-11T16:38:07.576Z"
   },
   {
    "duration": 75,
    "start_time": "2021-08-11T16:38:50.001Z"
   },
   {
    "duration": 11,
    "start_time": "2021-08-11T16:39:09.992Z"
   },
   {
    "duration": 27,
    "start_time": "2021-08-11T16:41:53.923Z"
   },
   {
    "duration": 32,
    "start_time": "2021-08-11T16:43:46.468Z"
   },
   {
    "duration": 13,
    "start_time": "2021-08-11T16:48:01.147Z"
   },
   {
    "duration": 450,
    "start_time": "2021-08-11T16:48:10.910Z"
   },
   {
    "duration": 414,
    "start_time": "2021-08-11T16:48:42.879Z"
   },
   {
    "duration": 371,
    "start_time": "2021-08-11T16:49:23.120Z"
   },
   {
    "duration": 705,
    "start_time": "2021-08-11T16:50:48.673Z"
   },
   {
    "duration": 69,
    "start_time": "2021-08-11T16:50:49.380Z"
   },
   {
    "duration": 11,
    "start_time": "2021-08-11T16:50:49.452Z"
   },
   {
    "duration": 37,
    "start_time": "2021-08-11T16:50:49.465Z"
   },
   {
    "duration": 21,
    "start_time": "2021-08-11T16:50:49.504Z"
   },
   {
    "duration": 670,
    "start_time": "2021-08-11T16:52:04.204Z"
   },
   {
    "duration": 73,
    "start_time": "2021-08-11T16:52:04.877Z"
   },
   {
    "duration": 12,
    "start_time": "2021-08-11T16:52:04.953Z"
   },
   {
    "duration": 36,
    "start_time": "2021-08-11T16:52:04.968Z"
   },
   {
    "duration": 24,
    "start_time": "2021-08-11T16:52:05.008Z"
   },
   {
    "duration": 712,
    "start_time": "2021-08-11T16:52:23.108Z"
   },
   {
    "duration": 75,
    "start_time": "2021-08-11T16:52:25.372Z"
   },
   {
    "duration": 14,
    "start_time": "2021-08-11T16:52:27.331Z"
   },
   {
    "duration": 25,
    "start_time": "2021-08-11T16:52:29.074Z"
   },
   {
    "duration": 21,
    "start_time": "2021-08-11T16:52:30.682Z"
   },
   {
    "duration": 748,
    "start_time": "2021-08-11T16:53:01.241Z"
   },
   {
    "duration": 74,
    "start_time": "2021-08-11T16:53:01.992Z"
   },
   {
    "duration": 21,
    "start_time": "2021-08-11T16:53:02.069Z"
   },
   {
    "duration": 31,
    "start_time": "2021-08-11T16:53:02.092Z"
   },
   {
    "duration": 22,
    "start_time": "2021-08-11T16:53:02.125Z"
   },
   {
    "duration": 43,
    "start_time": "2021-08-11T16:53:02.150Z"
   },
   {
    "duration": 675,
    "start_time": "2021-08-11T16:53:35.812Z"
   },
   {
    "duration": 70,
    "start_time": "2021-08-11T16:53:36.490Z"
   },
   {
    "duration": 22,
    "start_time": "2021-08-11T16:53:36.563Z"
   },
   {
    "duration": 26,
    "start_time": "2021-08-11T16:53:36.588Z"
   },
   {
    "duration": 21,
    "start_time": "2021-08-11T16:53:36.616Z"
   },
   {
    "duration": 948,
    "start_time": "2021-08-11T16:54:05.514Z"
   },
   {
    "duration": 71,
    "start_time": "2021-08-11T16:54:06.465Z"
   },
   {
    "duration": 12,
    "start_time": "2021-08-11T16:54:06.538Z"
   },
   {
    "duration": 51,
    "start_time": "2021-08-11T16:54:06.553Z"
   },
   {
    "duration": 22,
    "start_time": "2021-08-11T16:54:06.606Z"
   },
   {
    "duration": 863,
    "start_time": "2021-08-11T16:54:06.630Z"
   },
   {
    "duration": 769,
    "start_time": "2021-08-11T16:55:09.619Z"
   },
   {
    "duration": 66,
    "start_time": "2021-08-11T16:55:10.390Z"
   },
   {
    "duration": 12,
    "start_time": "2021-08-11T16:55:10.459Z"
   },
   {
    "duration": 24,
    "start_time": "2021-08-11T16:55:10.484Z"
   },
   {
    "duration": 23,
    "start_time": "2021-08-11T16:55:10.510Z"
   },
   {
    "duration": 1380,
    "start_time": "2021-08-11T16:55:46.603Z"
   },
   {
    "duration": 64,
    "start_time": "2021-08-11T16:55:47.986Z"
   },
   {
    "duration": 10,
    "start_time": "2021-08-11T16:55:48.053Z"
   },
   {
    "duration": 36,
    "start_time": "2021-08-11T16:55:48.066Z"
   },
   {
    "duration": 21,
    "start_time": "2021-08-11T16:55:48.104Z"
   },
   {
    "duration": 1370,
    "start_time": "2021-08-11T16:56:07.476Z"
   },
   {
    "duration": 66,
    "start_time": "2021-08-11T16:56:08.849Z"
   },
   {
    "duration": 13,
    "start_time": "2021-08-11T16:56:08.923Z"
   },
   {
    "duration": 51,
    "start_time": "2021-08-11T16:56:08.938Z"
   },
   {
    "duration": 21,
    "start_time": "2021-08-11T16:56:08.992Z"
   },
   {
    "duration": 432,
    "start_time": "2021-08-11T16:56:09.015Z"
   },
   {
    "duration": 1317,
    "start_time": "2021-08-11T17:01:56.113Z"
   },
   {
    "duration": 69,
    "start_time": "2021-08-11T17:01:57.432Z"
   },
   {
    "duration": 11,
    "start_time": "2021-08-11T17:01:57.504Z"
   },
   {
    "duration": 24,
    "start_time": "2021-08-11T17:01:57.518Z"
   },
   {
    "duration": 50,
    "start_time": "2021-08-11T17:01:57.544Z"
   },
   {
    "duration": 838,
    "start_time": "2021-08-11T17:01:57.596Z"
   },
   {
    "duration": 713,
    "start_time": "2021-08-11T17:02:15.346Z"
   },
   {
    "duration": 1102,
    "start_time": "2021-08-11T17:02:27.298Z"
   },
   {
    "duration": 1289,
    "start_time": "2021-08-11T17:06:28.379Z"
   },
   {
    "duration": 65,
    "start_time": "2021-08-11T17:06:29.671Z"
   },
   {
    "duration": 14,
    "start_time": "2021-08-11T17:06:29.740Z"
   },
   {
    "duration": 47,
    "start_time": "2021-08-11T17:06:29.757Z"
   },
   {
    "duration": 23,
    "start_time": "2021-08-11T17:06:29.807Z"
   },
   {
    "duration": 406,
    "start_time": "2021-08-11T17:06:29.833Z"
   },
   {
    "duration": 659,
    "start_time": "2021-08-11T17:08:48.472Z"
   },
   {
    "duration": 523,
    "start_time": "2021-08-11T17:09:45.567Z"
   },
   {
    "duration": 722,
    "start_time": "2021-08-11T17:09:48.705Z"
   },
   {
    "duration": 1725,
    "start_time": "2021-08-11T17:10:17.696Z"
   },
   {
    "duration": 64,
    "start_time": "2021-08-11T17:10:19.423Z"
   },
   {
    "duration": 11,
    "start_time": "2021-08-11T17:10:19.493Z"
   },
   {
    "duration": 26,
    "start_time": "2021-08-11T17:10:19.506Z"
   },
   {
    "duration": 53,
    "start_time": "2021-08-11T17:10:19.535Z"
   },
   {
    "duration": 407,
    "start_time": "2021-08-11T17:10:19.590Z"
   },
   {
    "duration": 751,
    "start_time": "2021-08-11T17:10:54.044Z"
   },
   {
    "duration": 410,
    "start_time": "2021-08-11T17:11:13.944Z"
   },
   {
    "duration": 16,
    "start_time": "2021-08-11T17:13:19.722Z"
   },
   {
    "duration": 306,
    "start_time": "2021-08-11T17:16:54.123Z"
   },
   {
    "duration": 13,
    "start_time": "2021-08-11T17:17:04.215Z"
   },
   {
    "duration": 1946,
    "start_time": "2021-08-11T17:27:57.248Z"
   },
   {
    "duration": 66,
    "start_time": "2021-08-11T17:27:59.197Z"
   },
   {
    "duration": 16,
    "start_time": "2021-08-11T17:27:59.266Z"
   },
   {
    "duration": 25,
    "start_time": "2021-08-11T17:27:59.285Z"
   },
   {
    "duration": 21,
    "start_time": "2021-08-11T17:27:59.312Z"
   },
   {
    "duration": 456,
    "start_time": "2021-08-11T17:27:59.336Z"
   },
   {
    "duration": 15,
    "start_time": "2021-08-11T17:27:59.794Z"
   },
   {
    "duration": 361,
    "start_time": "2021-08-11T17:27:59.812Z"
   },
   {
    "duration": 15,
    "start_time": "2021-08-11T17:28:00.182Z"
   },
   {
    "duration": 2819,
    "start_time": "2021-08-11T17:28:00.200Z"
   },
   {
    "duration": 443,
    "start_time": "2021-08-11T17:31:36.849Z"
   },
   {
    "duration": 2860,
    "start_time": "2021-08-11T17:31:43.245Z"
   },
   {
    "duration": 1785,
    "start_time": "2021-08-11T17:50:14.933Z"
   },
   {
    "duration": 65,
    "start_time": "2021-08-11T17:50:16.721Z"
   },
   {
    "duration": 12,
    "start_time": "2021-08-11T17:50:16.789Z"
   },
   {
    "duration": 31,
    "start_time": "2021-08-11T17:50:16.804Z"
   },
   {
    "duration": 47,
    "start_time": "2021-08-11T17:50:16.837Z"
   },
   {
    "duration": 426,
    "start_time": "2021-08-11T17:50:16.886Z"
   },
   {
    "duration": 15,
    "start_time": "2021-08-11T17:50:17.314Z"
   },
   {
    "duration": 328,
    "start_time": "2021-08-11T17:50:17.332Z"
   },
   {
    "duration": 25,
    "start_time": "2021-08-11T17:50:17.663Z"
   },
   {
    "duration": 2918,
    "start_time": "2021-08-11T17:50:17.690Z"
   },
   {
    "duration": 239,
    "start_time": "2021-08-11T17:52:32.693Z"
   },
   {
    "duration": 312,
    "start_time": "2021-08-11T17:53:38.592Z"
   },
   {
    "duration": 575,
    "start_time": "2021-08-11T17:53:58.808Z"
   },
   {
    "duration": 1495,
    "start_time": "2021-08-11T17:58:05.348Z"
   },
   {
    "duration": 1427,
    "start_time": "2021-08-11T17:58:35.117Z"
   },
   {
    "duration": 1865,
    "start_time": "2021-08-11T18:09:59.052Z"
   },
   {
    "duration": 67,
    "start_time": "2021-08-11T18:10:00.919Z"
   },
   {
    "duration": 13,
    "start_time": "2021-08-11T18:10:00.992Z"
   },
   {
    "duration": 28,
    "start_time": "2021-08-11T18:10:01.007Z"
   },
   {
    "duration": 57,
    "start_time": "2021-08-11T18:10:01.037Z"
   },
   {
    "duration": 428,
    "start_time": "2021-08-11T18:10:01.096Z"
   },
   {
    "duration": 16,
    "start_time": "2021-08-11T18:10:01.526Z"
   },
   {
    "duration": 384,
    "start_time": "2021-08-11T18:10:01.546Z"
   },
   {
    "duration": 16,
    "start_time": "2021-08-11T18:10:01.933Z"
   },
   {
    "duration": 110,
    "start_time": "2021-08-11T18:10:01.952Z"
   },
   {
    "duration": 70,
    "start_time": "2021-08-11T18:10:20.238Z"
   },
   {
    "duration": 1410,
    "start_time": "2021-08-11T18:10:27.900Z"
   },
   {
    "duration": 1351,
    "start_time": "2021-08-11T18:12:55.772Z"
   },
   {
    "duration": 1498,
    "start_time": "2021-08-11T18:13:05.354Z"
   },
   {
    "duration": 1549,
    "start_time": "2021-08-11T18:15:01.366Z"
   },
   {
    "duration": 470,
    "start_time": "2021-08-11T18:15:26.142Z"
   },
   {
    "duration": 314,
    "start_time": "2021-08-11T18:15:31.163Z"
   },
   {
    "duration": 304,
    "start_time": "2021-08-11T18:15:36.881Z"
   },
   {
    "duration": 304,
    "start_time": "2021-08-11T18:15:42.251Z"
   },
   {
    "duration": 1492,
    "start_time": "2021-08-11T18:15:47.525Z"
   },
   {
    "duration": 468,
    "start_time": "2021-08-11T18:18:17.987Z"
   },
   {
    "duration": 260,
    "start_time": "2021-08-11T18:18:27.087Z"
   },
   {
    "duration": 23,
    "start_time": "2021-08-11T18:18:36.192Z"
   },
   {
    "duration": 29,
    "start_time": "2021-08-11T18:18:40.895Z"
   },
   {
    "duration": 19,
    "start_time": "2021-08-11T18:18:49.012Z"
   },
   {
    "duration": 23,
    "start_time": "2021-08-11T18:19:40.599Z"
   },
   {
    "duration": 20,
    "start_time": "2021-08-11T18:20:03.224Z"
   },
   {
    "duration": 104,
    "start_time": "2021-08-11T18:22:52.969Z"
   },
   {
    "duration": 28,
    "start_time": "2021-08-11T18:22:57.178Z"
   },
   {
    "duration": 1747,
    "start_time": "2021-08-11T18:23:12.139Z"
   },
   {
    "duration": 62,
    "start_time": "2021-08-11T18:23:13.889Z"
   },
   {
    "duration": 11,
    "start_time": "2021-08-11T18:23:13.954Z"
   },
   {
    "duration": 26,
    "start_time": "2021-08-11T18:23:13.981Z"
   },
   {
    "duration": 21,
    "start_time": "2021-08-11T18:23:14.009Z"
   },
   {
    "duration": 437,
    "start_time": "2021-08-11T18:23:14.032Z"
   },
   {
    "duration": 316,
    "start_time": "2021-08-11T18:23:14.471Z"
   },
   {
    "duration": 13,
    "start_time": "2021-08-11T18:23:14.790Z"
   },
   {
    "duration": 768,
    "start_time": "2021-08-11T18:23:14.806Z"
   },
   {
    "duration": 857,
    "start_time": "2021-08-11T18:23:14.719Z"
   },
   {
    "duration": 25,
    "start_time": "2021-08-11T18:23:22.384Z"
   },
   {
    "duration": 279,
    "start_time": "2021-08-11T18:23:47.702Z"
   },
   {
    "duration": 26,
    "start_time": "2021-08-11T18:25:54.350Z"
   },
   {
    "duration": 33,
    "start_time": "2021-08-11T18:26:07.564Z"
   },
   {
    "duration": 6482,
    "start_time": "2021-08-11T18:26:24.551Z"
   },
   {
    "duration": 21,
    "start_time": "2021-08-11T18:26:37.428Z"
   },
   {
    "duration": 15,
    "start_time": "2021-08-11T18:26:49.638Z"
   },
   {
    "duration": 20,
    "start_time": "2021-08-11T18:26:59.817Z"
   },
   {
    "duration": 20,
    "start_time": "2021-08-11T18:27:09.793Z"
   },
   {
    "duration": 16,
    "start_time": "2021-08-11T18:27:26.031Z"
   },
   {
    "duration": 1726,
    "start_time": "2021-08-11T18:27:56.546Z"
   },
   {
    "duration": 1480,
    "start_time": "2021-08-11T18:28:25.975Z"
   },
   {
    "duration": 320,
    "start_time": "2021-08-11T18:28:57.754Z"
   },
   {
    "duration": 1818,
    "start_time": "2021-08-11T18:29:09.048Z"
   },
   {
    "duration": 63,
    "start_time": "2021-08-11T18:29:10.868Z"
   },
   {
    "duration": 11,
    "start_time": "2021-08-11T18:29:10.934Z"
   },
   {
    "duration": 47,
    "start_time": "2021-08-11T18:29:10.948Z"
   },
   {
    "duration": 22,
    "start_time": "2021-08-11T18:29:10.998Z"
   },
   {
    "duration": 450,
    "start_time": "2021-08-11T18:29:11.023Z"
   },
   {
    "duration": 310,
    "start_time": "2021-08-11T18:29:11.482Z"
   },
   {
    "duration": 14,
    "start_time": "2021-08-11T18:29:11.795Z"
   },
   {
    "duration": 446,
    "start_time": "2021-08-11T18:29:11.811Z"
   },
   {
    "duration": 862,
    "start_time": "2021-08-11T18:29:11.398Z"
   },
   {
    "duration": 1536,
    "start_time": "2021-08-11T18:29:18.862Z"
   },
   {
    "duration": 294,
    "start_time": "2021-08-11T18:37:19.463Z"
   },
   {
    "duration": 397,
    "start_time": "2021-08-11T18:37:26.956Z"
   },
   {
    "duration": 15,
    "start_time": "2021-08-11T18:37:47.410Z"
   },
   {
    "duration": 411,
    "start_time": "2021-08-11T18:44:53.681Z"
   },
   {
    "duration": 755,
    "start_time": "2021-08-11T18:46:01.940Z"
   },
   {
    "duration": 951,
    "start_time": "2021-08-11T18:46:12.386Z"
   },
   {
    "duration": 1797,
    "start_time": "2021-08-11T18:47:13.509Z"
   },
   {
    "duration": 62,
    "start_time": "2021-08-11T18:47:15.309Z"
   },
   {
    "duration": 17,
    "start_time": "2021-08-11T18:47:15.374Z"
   },
   {
    "duration": 25,
    "start_time": "2021-08-11T18:47:15.394Z"
   },
   {
    "duration": 25,
    "start_time": "2021-08-11T18:47:15.421Z"
   },
   {
    "duration": 452,
    "start_time": "2021-08-11T18:47:15.448Z"
   },
   {
    "duration": 324,
    "start_time": "2021-08-11T18:47:15.903Z"
   },
   {
    "duration": 14,
    "start_time": "2021-08-11T18:47:16.230Z"
   },
   {
    "duration": 1652,
    "start_time": "2021-08-11T18:47:16.247Z"
   },
   {
    "duration": 1852,
    "start_time": "2021-08-11T18:48:09.249Z"
   },
   {
    "duration": 62,
    "start_time": "2021-08-11T18:48:11.104Z"
   },
   {
    "duration": 18,
    "start_time": "2021-08-11T18:48:11.169Z"
   },
   {
    "duration": 31,
    "start_time": "2021-08-11T18:48:11.189Z"
   },
   {
    "duration": 22,
    "start_time": "2021-08-11T18:48:11.222Z"
   },
   {
    "duration": 543,
    "start_time": "2021-08-11T18:48:11.246Z"
   },
   {
    "duration": 341,
    "start_time": "2021-08-11T18:48:11.792Z"
   },
   {
    "duration": 13,
    "start_time": "2021-08-11T18:48:12.136Z"
   },
   {
    "duration": 1762,
    "start_time": "2021-08-11T18:48:12.152Z"
   },
   {
    "duration": 12,
    "start_time": "2021-08-11T18:48:13.917Z"
   },
   {
    "duration": 438,
    "start_time": "2021-08-11T18:48:13.931Z"
   },
   {
    "duration": 2304,
    "start_time": "2021-08-11T18:51:59.005Z"
   },
   {
    "duration": 2058,
    "start_time": "2021-08-11T18:52:15.832Z"
   },
   {
    "duration": 1728,
    "start_time": "2021-08-11T18:52:27.523Z"
   },
   {
    "duration": 7,
    "start_time": "2021-08-11T18:53:04.907Z"
   },
   {
    "duration": 1937,
    "start_time": "2021-08-11T18:54:56.610Z"
   },
   {
    "duration": 1746,
    "start_time": "2021-08-11T18:55:15.305Z"
   },
   {
    "duration": 1712,
    "start_time": "2021-08-11T18:55:25.177Z"
   },
   {
    "duration": 1751,
    "start_time": "2021-08-11T18:55:36.477Z"
   },
   {
    "duration": 1800,
    "start_time": "2021-08-11T18:55:51.830Z"
   },
   {
    "duration": 1819,
    "start_time": "2021-08-11T18:56:01.739Z"
   },
   {
    "duration": 1687,
    "start_time": "2021-08-11T18:56:11.923Z"
   },
   {
    "duration": 1725,
    "start_time": "2021-08-11T18:56:43.314Z"
   },
   {
    "duration": 8,
    "start_time": "2021-08-11T18:56:54.383Z"
   },
   {
    "duration": 2026,
    "start_time": "2021-08-11T18:57:31.595Z"
   },
   {
    "duration": 13,
    "start_time": "2021-08-11T18:58:44.880Z"
   },
   {
    "duration": 24,
    "start_time": "2021-08-11T18:59:53.091Z"
   },
   {
    "duration": 29,
    "start_time": "2021-08-11T19:00:07.664Z"
   },
   {
    "duration": 19,
    "start_time": "2021-08-11T19:00:14.238Z"
   },
   {
    "duration": 19,
    "start_time": "2021-08-11T19:00:36.008Z"
   },
   {
    "duration": 16,
    "start_time": "2021-08-11T19:02:00.085Z"
   },
   {
    "duration": 1719,
    "start_time": "2021-08-11T19:02:24.437Z"
   },
   {
    "duration": 24,
    "start_time": "2021-08-11T19:02:28.051Z"
   },
   {
    "duration": 1796,
    "start_time": "2021-08-11T19:02:43.162Z"
   },
   {
    "duration": 22,
    "start_time": "2021-08-11T19:02:48.318Z"
   },
   {
    "duration": 19,
    "start_time": "2021-08-11T19:03:11.404Z"
   },
   {
    "duration": 426,
    "start_time": "2021-08-11T19:07:50.359Z"
   },
   {
    "duration": 14,
    "start_time": "2021-08-11T19:07:59.953Z"
   },
   {
    "duration": 326,
    "start_time": "2021-08-11T19:10:45.516Z"
   },
   {
    "duration": 255,
    "start_time": "2021-08-11T19:16:43.053Z"
   },
   {
    "duration": 1809,
    "start_time": "2021-08-11T19:16:46.974Z"
   },
   {
    "duration": 1899,
    "start_time": "2021-08-11T19:16:54.901Z"
   },
   {
    "duration": 2581,
    "start_time": "2021-08-11T19:16:57.575Z"
   },
   {
    "duration": 20,
    "start_time": "2021-08-11T19:18:49.352Z"
   },
   {
    "duration": 22,
    "start_time": "2021-08-11T19:18:54.477Z"
   },
   {
    "duration": 22,
    "start_time": "2021-08-11T19:19:01.852Z"
   },
   {
    "duration": 22,
    "start_time": "2021-08-11T19:19:06.537Z"
   },
   {
    "duration": 21,
    "start_time": "2021-08-11T19:19:10.236Z"
   },
   {
    "duration": 22,
    "start_time": "2021-08-11T19:19:13.474Z"
   },
   {
    "duration": 22,
    "start_time": "2021-08-11T19:19:16.746Z"
   },
   {
    "duration": 22,
    "start_time": "2021-08-11T19:19:20.297Z"
   },
   {
    "duration": 22,
    "start_time": "2021-08-11T19:19:23.786Z"
   },
   {
    "duration": 22,
    "start_time": "2021-08-11T19:19:28.715Z"
   },
   {
    "duration": 22,
    "start_time": "2021-08-11T19:19:32.302Z"
   },
   {
    "duration": 22,
    "start_time": "2021-08-11T19:19:35.336Z"
   },
   {
    "duration": 22,
    "start_time": "2021-08-11T19:19:38.334Z"
   },
   {
    "duration": 22,
    "start_time": "2021-08-11T19:19:42.316Z"
   },
   {
    "duration": 23,
    "start_time": "2021-08-11T19:19:45.672Z"
   },
   {
    "duration": 22,
    "start_time": "2021-08-11T19:19:49.503Z"
   },
   {
    "duration": 18,
    "start_time": "2021-08-11T19:22:40.775Z"
   },
   {
    "duration": 294,
    "start_time": "2021-08-11T19:22:57.868Z"
   },
   {
    "duration": 20,
    "start_time": "2021-08-11T19:23:02.534Z"
   },
   {
    "duration": 24,
    "start_time": "2021-08-11T19:23:07.204Z"
   },
   {
    "duration": 25,
    "start_time": "2021-08-11T19:23:17.654Z"
   },
   {
    "duration": 20,
    "start_time": "2021-08-11T19:23:29.736Z"
   },
   {
    "duration": 1878,
    "start_time": "2021-08-13T13:15:21.431Z"
   },
   {
    "duration": 66,
    "start_time": "2021-08-13T13:15:23.312Z"
   },
   {
    "duration": 12,
    "start_time": "2021-08-13T13:15:23.381Z"
   },
   {
    "duration": 25,
    "start_time": "2021-08-13T13:15:23.396Z"
   },
   {
    "duration": 51,
    "start_time": "2021-08-13T13:15:23.424Z"
   },
   {
    "duration": 556,
    "start_time": "2021-08-13T13:15:23.478Z"
   },
   {
    "duration": 398,
    "start_time": "2021-08-13T13:15:24.037Z"
   },
   {
    "duration": 1623,
    "start_time": "2021-08-13T13:15:24.438Z"
   },
   {
    "duration": 1852,
    "start_time": "2021-08-13T13:15:26.064Z"
   },
   {
    "duration": 446,
    "start_time": "2021-08-13T13:15:27.919Z"
   },
   {
    "duration": 1955,
    "start_time": "2021-08-13T13:15:28.368Z"
   },
   {
    "duration": 37,
    "start_time": "2021-08-13T13:15:30.325Z"
   },
   {
    "duration": 474,
    "start_time": "2021-08-13T13:15:30.365Z"
   },
   {
    "duration": 323,
    "start_time": "2021-08-13T13:15:30.841Z"
   },
   {
    "duration": 20,
    "start_time": "2021-08-13T13:15:31.167Z"
   },
   {
    "duration": 1784,
    "start_time": "2021-08-13T13:21:56.895Z"
   },
   {
    "duration": 1467,
    "start_time": "2021-08-13T13:23:41.745Z"
   },
   {
    "duration": 1789,
    "start_time": "2021-08-13T13:28:03.505Z"
   },
   {
    "duration": 70,
    "start_time": "2021-08-13T13:28:05.297Z"
   },
   {
    "duration": 13,
    "start_time": "2021-08-13T13:28:05.371Z"
   },
   {
    "duration": 26,
    "start_time": "2021-08-13T13:28:05.388Z"
   },
   {
    "duration": 56,
    "start_time": "2021-08-13T13:28:05.417Z"
   },
   {
    "duration": 460,
    "start_time": "2021-08-13T13:28:05.476Z"
   },
   {
    "duration": 345,
    "start_time": "2021-08-13T13:28:05.939Z"
   },
   {
    "duration": 1622,
    "start_time": "2021-08-13T13:28:06.288Z"
   },
   {
    "duration": 1390,
    "start_time": "2021-08-13T13:28:07.912Z"
   },
   {
    "duration": 7198,
    "start_time": "2021-08-13T13:28:09.305Z"
   },
   {
    "duration": 446,
    "start_time": "2021-08-13T13:28:16.507Z"
   },
   {
    "duration": 1958,
    "start_time": "2021-08-13T13:28:16.961Z"
   },
   {
    "duration": 25,
    "start_time": "2021-08-13T13:28:18.922Z"
   },
   {
    "duration": 478,
    "start_time": "2021-08-13T13:28:18.963Z"
   },
   {
    "duration": 200,
    "start_time": "2021-08-13T13:28:19.444Z"
   },
   {
    "duration": 22,
    "start_time": "2021-08-13T13:28:19.646Z"
   },
   {
    "duration": 7972,
    "start_time": "2021-08-13T13:28:41.192Z"
   },
   {
    "duration": 1457,
    "start_time": "2021-08-13T13:29:03.088Z"
   },
   {
    "duration": 7239,
    "start_time": "2021-08-13T13:29:30.297Z"
   },
   {
    "duration": 1962,
    "start_time": "2021-08-13T13:32:10.235Z"
   },
   {
    "duration": 69,
    "start_time": "2021-08-13T13:32:12.199Z"
   },
   {
    "duration": 18,
    "start_time": "2021-08-13T13:32:12.272Z"
   },
   {
    "duration": 27,
    "start_time": "2021-08-13T13:32:12.293Z"
   },
   {
    "duration": 57,
    "start_time": "2021-08-13T13:32:12.322Z"
   },
   {
    "duration": 518,
    "start_time": "2021-08-13T13:32:12.382Z"
   },
   {
    "duration": 342,
    "start_time": "2021-08-13T13:32:12.902Z"
   },
   {
    "duration": 1597,
    "start_time": "2021-08-13T13:32:13.248Z"
   },
   {
    "duration": 1416,
    "start_time": "2021-08-13T13:32:14.848Z"
   },
   {
    "duration": 2701,
    "start_time": "2021-08-13T13:33:18.053Z"
   },
   {
    "duration": 99,
    "start_time": "2021-08-13T13:33:20.758Z"
   },
   {
    "duration": 19,
    "start_time": "2021-08-13T13:33:20.863Z"
   },
   {
    "duration": 43,
    "start_time": "2021-08-13T13:33:20.885Z"
   },
   {
    "duration": 55,
    "start_time": "2021-08-13T13:33:20.932Z"
   },
   {
    "duration": 701,
    "start_time": "2021-08-13T13:33:20.990Z"
   },
   {
    "duration": 485,
    "start_time": "2021-08-13T13:33:21.695Z"
   },
   {
    "duration": 1671,
    "start_time": "2021-08-13T13:33:22.184Z"
   },
   {
    "duration": 1409,
    "start_time": "2021-08-13T13:33:23.857Z"
   },
   {
    "duration": 364,
    "start_time": "2021-08-13T13:33:25.268Z"
   },
   {
    "duration": 547,
    "start_time": "2021-08-13T13:33:25.634Z"
   },
   {
    "duration": 1961,
    "start_time": "2021-08-13T13:33:26.183Z"
   },
   {
    "duration": 31,
    "start_time": "2021-08-13T13:33:28.146Z"
   },
   {
    "duration": 474,
    "start_time": "2021-08-13T13:33:28.179Z"
   },
   {
    "duration": 1073,
    "start_time": "2021-08-13T13:33:28.655Z"
   },
   {
    "duration": 20,
    "start_time": "2021-08-13T13:33:29.730Z"
   },
   {
    "duration": 1416,
    "start_time": "2021-08-13T13:40:15.782Z"
   },
   {
    "duration": 331,
    "start_time": "2021-08-13T13:41:29.765Z"
   },
   {
    "duration": 351,
    "start_time": "2021-08-13T13:41:38.557Z"
   },
   {
    "duration": 1544,
    "start_time": "2021-08-13T13:42:26.131Z"
   },
   {
    "duration": 1916,
    "start_time": "2021-08-13T13:49:52.299Z"
   },
   {
    "duration": 67,
    "start_time": "2021-08-13T13:49:54.218Z"
   },
   {
    "duration": 12,
    "start_time": "2021-08-13T13:49:54.288Z"
   },
   {
    "duration": 24,
    "start_time": "2021-08-13T13:49:54.303Z"
   },
   {
    "duration": 51,
    "start_time": "2021-08-13T13:49:54.330Z"
   },
   {
    "duration": 467,
    "start_time": "2021-08-13T13:49:54.383Z"
   },
   {
    "duration": 350,
    "start_time": "2021-08-13T13:49:54.852Z"
   },
   {
    "duration": 1726,
    "start_time": "2021-08-13T13:49:55.205Z"
   },
   {
    "duration": 1585,
    "start_time": "2021-08-13T13:49:56.934Z"
   },
   {
    "duration": 80,
    "start_time": "2021-08-13T13:49:58.442Z"
   },
   {
    "duration": 75,
    "start_time": "2021-08-13T13:49:58.448Z"
   },
   {
    "duration": 69,
    "start_time": "2021-08-13T13:49:58.455Z"
   },
   {
    "duration": 66,
    "start_time": "2021-08-13T13:49:58.460Z"
   },
   {
    "duration": 64,
    "start_time": "2021-08-13T13:49:58.463Z"
   },
   {
    "duration": 59,
    "start_time": "2021-08-13T13:49:58.469Z"
   },
   {
    "duration": 58,
    "start_time": "2021-08-13T13:49:58.472Z"
   },
   {
    "duration": 1498,
    "start_time": "2021-08-13T13:50:51.031Z"
   },
   {
    "duration": 1800,
    "start_time": "2021-08-13T13:51:00.486Z"
   },
   {
    "duration": 340,
    "start_time": "2021-08-13T13:51:26.115Z"
   },
   {
    "duration": 308,
    "start_time": "2021-08-13T13:51:46.924Z"
   },
   {
    "duration": 1837,
    "start_time": "2021-08-13T13:58:38.608Z"
   },
   {
    "duration": 1950,
    "start_time": "2021-08-13T13:58:54.398Z"
   },
   {
    "duration": 312,
    "start_time": "2021-08-13T13:59:33.659Z"
   },
   {
    "duration": 436,
    "start_time": "2021-08-13T13:59:55.279Z"
   },
   {
    "duration": 1953,
    "start_time": "2021-08-13T14:00:40.640Z"
   },
   {
    "duration": 578,
    "start_time": "2021-08-13T14:00:43.937Z"
   },
   {
    "duration": 6,
    "start_time": "2021-08-13T14:02:44.103Z"
   },
   {
    "duration": 15,
    "start_time": "2021-08-13T14:02:49.977Z"
   },
   {
    "duration": 1929,
    "start_time": "2021-08-13T14:06:06.339Z"
   },
   {
    "duration": 453,
    "start_time": "2021-08-13T14:06:15.393Z"
   },
   {
    "duration": 27,
    "start_time": "2021-08-13T14:06:18.041Z"
   },
   {
    "duration": 63,
    "start_time": "2021-08-13T14:06:26.034Z"
   },
   {
    "duration": 1848,
    "start_time": "2021-08-13T14:06:39.260Z"
   },
   {
    "duration": 76,
    "start_time": "2021-08-13T14:06:41.111Z"
   },
   {
    "duration": 13,
    "start_time": "2021-08-13T14:06:41.190Z"
   },
   {
    "duration": 26,
    "start_time": "2021-08-13T14:06:41.207Z"
   },
   {
    "duration": 49,
    "start_time": "2021-08-13T14:06:41.235Z"
   },
   {
    "duration": 467,
    "start_time": "2021-08-13T14:06:41.287Z"
   },
   {
    "duration": 342,
    "start_time": "2021-08-13T14:06:41.756Z"
   },
   {
    "duration": 1615,
    "start_time": "2021-08-13T14:06:42.102Z"
   },
   {
    "duration": 1778,
    "start_time": "2021-08-13T14:06:43.720Z"
   },
   {
    "duration": 320,
    "start_time": "2021-08-13T14:06:45.501Z"
   },
   {
    "duration": 568,
    "start_time": "2021-08-13T14:06:45.823Z"
   },
   {
    "duration": 1845,
    "start_time": "2021-08-13T14:06:46.394Z"
   },
   {
    "duration": 792,
    "start_time": "2021-08-13T14:06:48.242Z"
   },
   {
    "duration": 34,
    "start_time": "2021-08-13T14:06:49.036Z"
   },
   {
    "duration": 30,
    "start_time": "2021-08-13T14:06:49.072Z"
   },
   {
    "duration": 510,
    "start_time": "2021-08-13T14:06:49.104Z"
   },
   {
    "duration": -75,
    "start_time": "2021-08-13T14:06:49.691Z"
   },
   {
    "duration": 374,
    "start_time": "2021-08-13T14:09:08.271Z"
   },
   {
    "duration": 273,
    "start_time": "2021-08-13T14:09:54.135Z"
   },
   {
    "duration": 24,
    "start_time": "2021-08-13T14:10:15.724Z"
   },
   {
    "duration": 271,
    "start_time": "2021-08-13T14:10:25.787Z"
   },
   {
    "duration": 469,
    "start_time": "2021-08-13T14:10:41.537Z"
   },
   {
    "duration": 1883,
    "start_time": "2021-08-13T14:16:10.811Z"
   },
   {
    "duration": 69,
    "start_time": "2021-08-13T14:16:12.697Z"
   },
   {
    "duration": 13,
    "start_time": "2021-08-13T14:16:12.769Z"
   },
   {
    "duration": 33,
    "start_time": "2021-08-13T14:16:12.785Z"
   },
   {
    "duration": 46,
    "start_time": "2021-08-13T14:16:12.821Z"
   },
   {
    "duration": 463,
    "start_time": "2021-08-13T14:16:12.869Z"
   },
   {
    "duration": 360,
    "start_time": "2021-08-13T14:16:13.335Z"
   },
   {
    "duration": 1663,
    "start_time": "2021-08-13T14:16:13.699Z"
   },
   {
    "duration": 1775,
    "start_time": "2021-08-13T14:16:15.365Z"
   },
   {
    "duration": 330,
    "start_time": "2021-08-13T14:16:17.143Z"
   },
   {
    "duration": 530,
    "start_time": "2021-08-13T14:16:17.475Z"
   },
   {
    "duration": 1809,
    "start_time": "2021-08-13T14:16:18.007Z"
   },
   {
    "duration": 445,
    "start_time": "2021-08-13T14:16:19.818Z"
   },
   {
    "duration": 30,
    "start_time": "2021-08-13T14:16:20.265Z"
   },
   {
    "duration": 488,
    "start_time": "2021-08-13T14:16:20.298Z"
   },
   {
    "duration": 26,
    "start_time": "2021-08-13T14:16:20.789Z"
   },
   {
    "duration": 54,
    "start_time": "2021-08-13T14:16:20.817Z"
   },
   {
    "duration": 25,
    "start_time": "2021-08-13T14:19:39.601Z"
   },
   {
    "duration": 13,
    "start_time": "2021-08-13T14:20:08.927Z"
   },
   {
    "duration": 34,
    "start_time": "2021-08-13T14:20:13.677Z"
   },
   {
    "duration": 22,
    "start_time": "2021-08-13T14:22:09.669Z"
   },
   {
    "duration": 87,
    "start_time": "2021-08-13T14:24:02.219Z"
   },
   {
    "duration": 87,
    "start_time": "2021-08-13T14:24:14.790Z"
   },
   {
    "duration": 97,
    "start_time": "2021-08-13T14:24:24.126Z"
   },
   {
    "duration": 2089,
    "start_time": "2021-08-13T14:24:33.672Z"
   },
   {
    "duration": 23,
    "start_time": "2021-08-13T14:25:44.607Z"
   },
   {
    "duration": 1448,
    "start_time": "2021-08-13T14:47:03.878Z"
   },
   {
    "duration": 2149,
    "start_time": "2021-08-13T14:47:13.086Z"
   },
   {
    "duration": 421,
    "start_time": "2021-08-13T14:48:03.391Z"
   },
   {
    "duration": 343,
    "start_time": "2021-08-13T14:55:51.489Z"
   },
   {
    "duration": 356,
    "start_time": "2021-08-13T14:56:03.959Z"
   },
   {
    "duration": 349,
    "start_time": "2021-08-13T14:56:09.653Z"
   },
   {
    "duration": 342,
    "start_time": "2021-08-13T14:57:13.598Z"
   },
   {
    "duration": 11,
    "start_time": "2021-08-13T15:01:10.524Z"
   },
   {
    "duration": 27,
    "start_time": "2021-08-13T15:05:08.254Z"
   },
   {
    "duration": 8244,
    "start_time": "2021-08-13T15:06:08.563Z"
   },
   {
    "duration": 38,
    "start_time": "2021-08-13T15:06:32.352Z"
   },
   {
    "duration": 3417,
    "start_time": "2021-08-13T15:06:41.911Z"
   },
   {
    "duration": 104,
    "start_time": "2021-08-13T15:06:45.331Z"
   },
   {
    "duration": 27,
    "start_time": "2021-08-13T15:06:45.439Z"
   },
   {
    "duration": 37,
    "start_time": "2021-08-13T15:06:45.469Z"
   },
   {
    "duration": 56,
    "start_time": "2021-08-13T15:06:45.509Z"
   },
   {
    "duration": 661,
    "start_time": "2021-08-13T15:06:45.568Z"
   },
   {
    "duration": 495,
    "start_time": "2021-08-13T15:06:46.233Z"
   },
   {
    "duration": 2206,
    "start_time": "2021-08-13T15:06:46.733Z"
   },
   {
    "duration": 1793,
    "start_time": "2021-08-13T15:06:48.943Z"
   },
   {
    "duration": 364,
    "start_time": "2021-08-13T15:06:50.739Z"
   },
   {
    "duration": 459,
    "start_time": "2021-08-13T15:06:51.105Z"
   },
   {
    "duration": 426,
    "start_time": "2021-08-13T15:06:51.567Z"
   },
   {
    "duration": 1908,
    "start_time": "2021-08-13T15:06:51.995Z"
   },
   {
    "duration": 5579,
    "start_time": "2021-08-13T15:06:53.905Z"
   },
   {
    "duration": 30,
    "start_time": "2021-08-13T15:06:59.486Z"
   },
   {
    "duration": 498,
    "start_time": "2021-08-13T15:06:59.519Z"
   },
   {
    "duration": 24,
    "start_time": "2021-08-13T15:07:00.019Z"
   },
   {
    "duration": 47,
    "start_time": "2021-08-13T15:07:00.045Z"
   },
   {
    "duration": 14,
    "start_time": "2021-08-13T15:07:00.094Z"
   },
   {
    "duration": 440,
    "start_time": "2021-08-13T15:12:19.541Z"
   },
   {
    "duration": 452,
    "start_time": "2021-08-13T15:12:27.790Z"
   },
   {
    "duration": 4485,
    "start_time": "2021-08-13T15:14:12.811Z"
   },
   {
    "duration": 4629,
    "start_time": "2021-08-13T15:15:05.138Z"
   },
   {
    "duration": 4558,
    "start_time": "2021-08-13T15:16:18.219Z"
   },
   {
    "duration": 4572,
    "start_time": "2021-08-13T15:16:31.635Z"
   },
   {
    "duration": 4625,
    "start_time": "2021-08-13T15:17:38.475Z"
   },
   {
    "duration": 314,
    "start_time": "2021-08-13T15:21:20.617Z"
   },
   {
    "duration": 1820,
    "start_time": "2021-08-13T15:21:31.368Z"
   },
   {
    "duration": 70,
    "start_time": "2021-08-13T15:21:33.190Z"
   },
   {
    "duration": 13,
    "start_time": "2021-08-13T15:21:33.263Z"
   },
   {
    "duration": 25,
    "start_time": "2021-08-13T15:21:33.278Z"
   },
   {
    "duration": 23,
    "start_time": "2021-08-13T15:21:33.306Z"
   },
   {
    "duration": 478,
    "start_time": "2021-08-13T15:21:33.331Z"
   },
   {
    "duration": 356,
    "start_time": "2021-08-13T15:21:33.812Z"
   },
   {
    "duration": 403,
    "start_time": "2021-08-13T15:21:34.174Z"
   },
   {
    "duration": 112,
    "start_time": "2021-08-13T15:21:34.470Z"
   },
   {
    "duration": 96,
    "start_time": "2021-08-13T15:21:34.487Z"
   },
   {
    "duration": 86,
    "start_time": "2021-08-13T15:21:34.500Z"
   },
   {
    "duration": 85,
    "start_time": "2021-08-13T15:21:34.504Z"
   },
   {
    "duration": 76,
    "start_time": "2021-08-13T15:21:34.515Z"
   },
   {
    "duration": 73,
    "start_time": "2021-08-13T15:21:34.520Z"
   },
   {
    "duration": 72,
    "start_time": "2021-08-13T15:21:34.524Z"
   },
   {
    "duration": 62,
    "start_time": "2021-08-13T15:21:34.536Z"
   },
   {
    "duration": 60,
    "start_time": "2021-08-13T15:21:34.540Z"
   },
   {
    "duration": 52,
    "start_time": "2021-08-13T15:21:34.550Z"
   },
   {
    "duration": 52,
    "start_time": "2021-08-13T15:21:34.553Z"
   },
   {
    "duration": 50,
    "start_time": "2021-08-13T15:21:34.557Z"
   },
   {
    "duration": 43,
    "start_time": "2021-08-13T15:21:34.567Z"
   },
   {
    "duration": 1648,
    "start_time": "2021-08-13T15:21:47.670Z"
   },
   {
    "duration": 295,
    "start_time": "2021-08-13T15:24:21.843Z"
   },
   {
    "duration": 29,
    "start_time": "2021-08-13T15:25:53.151Z"
   },
   {
    "duration": 1553,
    "start_time": "2021-08-13T15:26:12.973Z"
   },
   {
    "duration": 1860,
    "start_time": "2021-08-13T15:28:06.808Z"
   },
   {
    "duration": 339,
    "start_time": "2021-08-13T15:29:05.584Z"
   },
   {
    "duration": 1674,
    "start_time": "2021-08-13T15:29:11.042Z"
   },
   {
    "duration": 1952,
    "start_time": "2021-08-13T15:41:28.159Z"
   },
   {
    "duration": 77,
    "start_time": "2021-08-13T15:41:30.114Z"
   },
   {
    "duration": 14,
    "start_time": "2021-08-13T15:41:30.196Z"
   },
   {
    "duration": 52,
    "start_time": "2021-08-13T15:41:30.214Z"
   },
   {
    "duration": 25,
    "start_time": "2021-08-13T15:41:30.269Z"
   },
   {
    "duration": 475,
    "start_time": "2021-08-13T15:41:30.297Z"
   },
   {
    "duration": 366,
    "start_time": "2021-08-13T15:41:30.775Z"
   },
   {
    "duration": 1932,
    "start_time": "2021-08-13T15:41:31.147Z"
   },
   {
    "duration": 1797,
    "start_time": "2021-08-13T15:41:33.083Z"
   },
   {
    "duration": 366,
    "start_time": "2021-08-13T15:41:34.883Z"
   },
   {
    "duration": 460,
    "start_time": "2021-08-13T15:41:35.252Z"
   },
   {
    "duration": 446,
    "start_time": "2021-08-13T15:41:35.715Z"
   },
   {
    "duration": 1877,
    "start_time": "2021-08-13T15:41:36.164Z"
   },
   {
    "duration": 558,
    "start_time": "2021-08-13T15:41:38.044Z"
   },
   {
    "duration": 31,
    "start_time": "2021-08-13T15:41:38.605Z"
   },
   {
    "duration": 469,
    "start_time": "2021-08-13T15:41:38.638Z"
   },
   {
    "duration": 24,
    "start_time": "2021-08-13T15:41:39.109Z"
   },
   {
    "duration": 46,
    "start_time": "2021-08-13T15:41:39.135Z"
   },
   {
    "duration": 13,
    "start_time": "2021-08-13T15:41:39.184Z"
   },
   {
    "duration": 499,
    "start_time": "2021-08-13T15:41:39.200Z"
   },
   {
    "duration": 4583,
    "start_time": "2021-08-13T15:41:39.701Z"
   },
   {
    "duration": 1917,
    "start_time": "2021-08-14T09:03:47.871Z"
   },
   {
    "duration": 72,
    "start_time": "2021-08-14T09:03:49.791Z"
   },
   {
    "duration": 14,
    "start_time": "2021-08-14T09:03:49.867Z"
   },
   {
    "duration": 26,
    "start_time": "2021-08-14T09:03:49.885Z"
   },
   {
    "duration": 61,
    "start_time": "2021-08-14T09:03:49.914Z"
   },
   {
    "duration": 460,
    "start_time": "2021-08-14T09:03:49.978Z"
   },
   {
    "duration": 354,
    "start_time": "2021-08-14T09:03:50.441Z"
   },
   {
    "duration": 1840,
    "start_time": "2021-08-14T09:03:50.799Z"
   },
   {
    "duration": 1749,
    "start_time": "2021-08-14T09:03:52.642Z"
   },
   {
    "duration": 359,
    "start_time": "2021-08-14T09:03:54.393Z"
   },
   {
    "duration": 432,
    "start_time": "2021-08-14T09:03:54.755Z"
   },
   {
    "duration": 431,
    "start_time": "2021-08-14T09:03:55.190Z"
   },
   {
    "duration": 1989,
    "start_time": "2021-08-14T09:03:55.624Z"
   },
   {
    "duration": 353,
    "start_time": "2021-08-14T09:03:57.615Z"
   },
   {
    "duration": 43,
    "start_time": "2021-08-14T09:03:57.971Z"
   },
   {
    "duration": 673,
    "start_time": "2021-08-14T09:03:58.017Z"
   },
   {
    "duration": 35,
    "start_time": "2021-08-14T09:03:58.693Z"
   },
   {
    "duration": 47,
    "start_time": "2021-08-14T09:03:58.730Z"
   },
   {
    "duration": 13,
    "start_time": "2021-08-14T09:03:58.780Z"
   },
   {
    "duration": 475,
    "start_time": "2021-08-14T09:03:58.795Z"
   },
   {
    "duration": 4101,
    "start_time": "2021-08-14T09:03:59.272Z"
   },
   {
    "duration": 15,
    "start_time": "2021-08-14T09:14:28.665Z"
   },
   {
    "duration": 145,
    "start_time": "2021-08-14T09:14:42.965Z"
   },
   {
    "duration": 16,
    "start_time": "2021-08-14T09:14:48.105Z"
   },
   {
    "duration": 15,
    "start_time": "2021-08-14T09:14:55.678Z"
   },
   {
    "duration": 1875,
    "start_time": "2021-08-14T09:20:05.223Z"
   },
   {
    "duration": 69,
    "start_time": "2021-08-14T09:20:07.101Z"
   },
   {
    "duration": 13,
    "start_time": "2021-08-14T09:20:07.173Z"
   },
   {
    "duration": 39,
    "start_time": "2021-08-14T09:20:07.189Z"
   },
   {
    "duration": 36,
    "start_time": "2021-08-14T09:20:07.230Z"
   },
   {
    "duration": 451,
    "start_time": "2021-08-14T09:20:07.268Z"
   },
   {
    "duration": 344,
    "start_time": "2021-08-14T09:20:07.722Z"
   },
   {
    "duration": 1878,
    "start_time": "2021-08-14T09:20:08.070Z"
   },
   {
    "duration": 21,
    "start_time": "2021-08-14T09:20:09.951Z"
   },
   {
    "duration": 2827,
    "start_time": "2021-08-14T09:20:09.975Z"
   },
   {
    "duration": 356,
    "start_time": "2021-08-14T09:20:12.805Z"
   },
   {
    "duration": 421,
    "start_time": "2021-08-14T09:20:13.164Z"
   },
   {
    "duration": 437,
    "start_time": "2021-08-14T09:20:13.588Z"
   },
   {
    "duration": 1768,
    "start_time": "2021-08-14T09:20:14.027Z"
   },
   {
    "duration": 116,
    "start_time": "2021-08-14T09:20:15.797Z"
   },
   {
    "duration": 30,
    "start_time": "2021-08-14T09:20:15.915Z"
   },
   {
    "duration": 488,
    "start_time": "2021-08-14T09:20:15.948Z"
   },
   {
    "duration": 35,
    "start_time": "2021-08-14T09:20:16.438Z"
   },
   {
    "duration": 23,
    "start_time": "2021-08-14T09:20:16.475Z"
   },
   {
    "duration": 14,
    "start_time": "2021-08-14T09:20:16.500Z"
   },
   {
    "duration": 496,
    "start_time": "2021-08-14T09:20:16.517Z"
   },
   {
    "duration": 4383,
    "start_time": "2021-08-14T09:20:17.016Z"
   },
   {
    "duration": 16,
    "start_time": "2021-08-14T09:21:12.606Z"
   },
   {
    "duration": 15,
    "start_time": "2021-08-14T09:24:51.110Z"
   },
   {
    "duration": 13,
    "start_time": "2021-08-14T09:25:25.153Z"
   },
   {
    "duration": 14,
    "start_time": "2021-08-14T09:25:30.457Z"
   },
   {
    "duration": 14,
    "start_time": "2021-08-14T09:25:44.878Z"
   },
   {
    "duration": 5,
    "start_time": "2021-08-14T09:30:44.481Z"
   },
   {
    "duration": 68,
    "start_time": "2021-08-14T09:30:45.864Z"
   },
   {
    "duration": 2080,
    "start_time": "2021-08-14T09:30:55.669Z"
   },
   {
    "duration": 68,
    "start_time": "2021-08-14T09:30:57.751Z"
   },
   {
    "duration": 14,
    "start_time": "2021-08-14T09:30:59.461Z"
   },
   {
    "duration": 25,
    "start_time": "2021-08-14T09:31:00.984Z"
   },
   {
    "duration": 24,
    "start_time": "2021-08-14T09:31:02.045Z"
   },
   {
    "duration": 2720,
    "start_time": "2021-08-14T09:31:04.704Z"
   },
   {
    "duration": 1933,
    "start_time": "2021-08-14T09:39:15.265Z"
   },
   {
    "duration": 70,
    "start_time": "2021-08-14T09:39:17.731Z"
   },
   {
    "duration": 14,
    "start_time": "2021-08-14T09:39:19.709Z"
   },
   {
    "duration": 25,
    "start_time": "2021-08-14T09:39:21.403Z"
   },
   {
    "duration": 22,
    "start_time": "2021-08-14T09:39:23.133Z"
   },
   {
    "duration": 431,
    "start_time": "2021-08-14T09:39:25.177Z"
   },
   {
    "duration": 419,
    "start_time": "2021-08-14T09:39:32.643Z"
   },
   {
    "duration": 337,
    "start_time": "2021-08-14T09:39:43.350Z"
   },
   {
    "duration": 417,
    "start_time": "2021-08-14T09:39:47.102Z"
   },
   {
    "duration": 237,
    "start_time": "2021-08-14T09:39:53.757Z"
   },
   {
    "duration": 321,
    "start_time": "2021-08-14T09:40:11.704Z"
   },
   {
    "duration": 1851,
    "start_time": "2021-08-14T09:43:27.760Z"
   },
   {
    "duration": 74,
    "start_time": "2021-08-14T09:43:29.614Z"
   },
   {
    "duration": 25,
    "start_time": "2021-08-14T09:43:30.736Z"
   },
   {
    "duration": 23,
    "start_time": "2021-08-14T09:43:31.943Z"
   },
   {
    "duration": 433,
    "start_time": "2021-08-14T09:43:34.105Z"
   },
   {
    "duration": 340,
    "start_time": "2021-08-14T09:43:36.852Z"
   },
   {
    "duration": 488,
    "start_time": "2021-08-14T09:44:47.470Z"
   },
   {
    "duration": 322,
    "start_time": "2021-08-14T09:45:03.206Z"
   },
   {
    "duration": 2181,
    "start_time": "2021-08-14T09:45:32.658Z"
   },
   {
    "duration": 1137,
    "start_time": "2021-08-14T09:45:45.039Z"
   },
   {
    "duration": 1237,
    "start_time": "2021-08-14T09:46:57.498Z"
   },
   {
    "duration": 5,
    "start_time": "2021-08-14T09:47:25.380Z"
   },
   {
    "duration": 1327,
    "start_time": "2021-08-14T09:47:45.444Z"
   },
   {
    "duration": 1353,
    "start_time": "2021-08-14T09:48:38.950Z"
   },
   {
    "duration": 1343,
    "start_time": "2021-08-14T09:49:04.652Z"
   },
   {
    "duration": 1738,
    "start_time": "2021-08-14T09:50:09.798Z"
   },
   {
    "duration": 1345,
    "start_time": "2021-08-14T09:50:17.778Z"
   },
   {
    "duration": 2352,
    "start_time": "2021-08-14T09:50:25.058Z"
   },
   {
    "duration": 5,
    "start_time": "2021-08-14T09:50:33.834Z"
   },
   {
    "duration": 2420,
    "start_time": "2021-08-14T09:50:37.791Z"
   },
   {
    "duration": 1355,
    "start_time": "2021-08-14T09:54:00.971Z"
   },
   {
    "duration": 1313,
    "start_time": "2021-08-14T09:56:46.737Z"
   },
   {
    "duration": 1978,
    "start_time": "2021-08-14T09:57:00.332Z"
   },
   {
    "duration": 75,
    "start_time": "2021-08-14T09:57:02.313Z"
   },
   {
    "duration": 15,
    "start_time": "2021-08-14T09:57:02.392Z"
   },
   {
    "duration": 53,
    "start_time": "2021-08-14T09:57:02.410Z"
   },
   {
    "duration": 24,
    "start_time": "2021-08-14T09:57:02.467Z"
   },
   {
    "duration": 463,
    "start_time": "2021-08-14T09:57:02.494Z"
   },
   {
    "duration": 340,
    "start_time": "2021-08-14T09:57:02.960Z"
   },
   {
    "duration": 4659,
    "start_time": "2021-08-14T09:57:03.306Z"
   },
   {
    "duration": 13,
    "start_time": "2021-08-14T09:57:07.968Z"
   },
   {
    "duration": 1920,
    "start_time": "2021-08-14T09:57:07.984Z"
   },
   {
    "duration": 354,
    "start_time": "2021-08-14T09:57:09.907Z"
   },
   {
    "duration": 444,
    "start_time": "2021-08-14T09:57:10.264Z"
   },
   {
    "duration": 454,
    "start_time": "2021-08-14T09:57:10.710Z"
   },
   {
    "duration": 1858,
    "start_time": "2021-08-14T09:57:11.167Z"
   },
   {
    "duration": 453,
    "start_time": "2021-08-14T09:57:13.027Z"
   },
   {
    "duration": 42,
    "start_time": "2021-08-14T09:57:13.483Z"
   },
   {
    "duration": 672,
    "start_time": "2021-08-14T09:57:13.528Z"
   },
   {
    "duration": 34,
    "start_time": "2021-08-14T09:57:14.203Z"
   },
   {
    "duration": 52,
    "start_time": "2021-08-14T09:57:14.240Z"
   },
   {
    "duration": 18,
    "start_time": "2021-08-14T09:57:14.295Z"
   },
   {
    "duration": 680,
    "start_time": "2021-08-14T09:57:14.316Z"
   },
   {
    "duration": 4196,
    "start_time": "2021-08-14T09:57:14.999Z"
   },
   {
    "duration": 2179,
    "start_time": "2021-08-14T09:58:31.000Z"
   },
   {
    "duration": 351,
    "start_time": "2021-08-14T09:59:10.202Z"
   },
   {
    "duration": 368,
    "start_time": "2021-08-14T09:59:15.910Z"
   },
   {
    "duration": 368,
    "start_time": "2021-08-14T09:59:20.184Z"
   },
   {
    "duration": 477,
    "start_time": "2021-08-14T09:59:36.288Z"
   },
   {
    "duration": 498,
    "start_time": "2021-08-14T10:01:11.604Z"
   },
   {
    "duration": 357,
    "start_time": "2021-08-14T10:01:21.837Z"
   },
   {
    "duration": 2406,
    "start_time": "2021-08-14T10:02:46.892Z"
   },
   {
    "duration": 92,
    "start_time": "2021-08-14T10:02:49.302Z"
   },
   {
    "duration": 17,
    "start_time": "2021-08-14T10:02:49.398Z"
   },
   {
    "duration": 54,
    "start_time": "2021-08-14T10:02:49.419Z"
   },
   {
    "duration": 32,
    "start_time": "2021-08-14T10:02:49.476Z"
   },
   {
    "duration": 744,
    "start_time": "2021-08-14T10:02:49.511Z"
   },
   {
    "duration": 523,
    "start_time": "2021-08-14T10:02:50.258Z"
   },
   {
    "duration": 8949,
    "start_time": "2021-08-14T10:02:50.784Z"
   },
   {
    "duration": 26,
    "start_time": "2021-08-14T10:02:59.739Z"
   },
   {
    "duration": 2964,
    "start_time": "2021-08-14T10:02:59.769Z"
   },
   {
    "duration": 552,
    "start_time": "2021-08-14T10:03:02.737Z"
   },
   {
    "duration": 665,
    "start_time": "2021-08-14T10:03:03.292Z"
   },
   {
    "duration": 733,
    "start_time": "2021-08-14T10:03:03.960Z"
   },
   {
    "duration": 3003,
    "start_time": "2021-08-14T10:03:04.697Z"
   },
   {
    "duration": 100,
    "start_time": "2021-08-14T10:03:07.703Z"
   },
   {
    "duration": 30,
    "start_time": "2021-08-14T10:03:07.806Z"
   },
   {
    "duration": 531,
    "start_time": "2021-08-14T10:03:07.838Z"
   },
   {
    "duration": 23,
    "start_time": "2021-08-14T10:03:08.372Z"
   },
   {
    "duration": 28,
    "start_time": "2021-08-14T10:03:08.397Z"
   },
   {
    "duration": 47,
    "start_time": "2021-08-14T10:03:08.427Z"
   },
   {
    "duration": 710,
    "start_time": "2021-08-14T10:03:08.476Z"
   },
   {
    "duration": 5850,
    "start_time": "2021-08-14T10:03:09.190Z"
   },
   {
    "duration": 319,
    "start_time": "2021-08-14T21:10:03.340Z"
   },
   {
    "duration": 2697,
    "start_time": "2021-08-14T21:10:10.304Z"
   },
   {
    "duration": 98,
    "start_time": "2021-08-14T21:10:13.005Z"
   },
   {
    "duration": 18,
    "start_time": "2021-08-14T21:10:13.108Z"
   },
   {
    "duration": 34,
    "start_time": "2021-08-14T21:10:13.130Z"
   },
   {
    "duration": 55,
    "start_time": "2021-08-14T21:10:13.168Z"
   },
   {
    "duration": 504,
    "start_time": "2021-08-14T21:10:13.226Z"
   },
   {
    "duration": 550,
    "start_time": "2021-08-14T21:10:13.734Z"
   },
   {
    "duration": 4499,
    "start_time": "2021-08-14T21:10:14.287Z"
   },
   {
    "duration": 22,
    "start_time": "2021-08-14T21:10:18.790Z"
   },
   {
    "duration": 21,
    "start_time": "2021-08-14T21:10:18.814Z"
   },
   {
    "duration": 2053,
    "start_time": "2021-08-14T21:10:18.837Z"
   },
   {
    "duration": 376,
    "start_time": "2021-08-14T21:10:20.900Z"
   },
   {
    "duration": 477,
    "start_time": "2021-08-14T21:10:21.279Z"
   },
   {
    "duration": 506,
    "start_time": "2021-08-14T21:10:21.759Z"
   },
   {
    "duration": 1864,
    "start_time": "2021-08-14T21:10:22.268Z"
   },
   {
    "duration": 493,
    "start_time": "2021-08-14T21:10:24.134Z"
   },
   {
    "duration": 31,
    "start_time": "2021-08-14T21:10:24.630Z"
   },
   {
    "duration": 552,
    "start_time": "2021-08-14T21:10:24.664Z"
   },
   {
    "duration": 22,
    "start_time": "2021-08-14T21:10:25.219Z"
   },
   {
    "duration": 24,
    "start_time": "2021-08-14T21:10:25.244Z"
   },
   {
    "duration": 42,
    "start_time": "2021-08-14T21:10:25.270Z"
   },
   {
    "duration": 542,
    "start_time": "2021-08-14T21:10:25.314Z"
   },
   {
    "duration": 4893,
    "start_time": "2021-08-14T21:10:25.859Z"
   },
   {
    "duration": 90,
    "start_time": "2021-08-14T21:14:34.549Z"
   },
   {
    "duration": 93,
    "start_time": "2021-08-14T21:15:24.381Z"
   },
   {
    "duration": 83,
    "start_time": "2021-08-14T21:22:51.306Z"
   },
   {
    "duration": 329,
    "start_time": "2021-08-15T09:32:50.831Z"
   },
   {
    "duration": 1637,
    "start_time": "2021-08-15T09:32:55.840Z"
   },
   {
    "duration": 53,
    "start_time": "2021-08-15T09:32:59.343Z"
   },
   {
    "duration": 10,
    "start_time": "2021-08-15T09:33:00.867Z"
   },
   {
    "duration": 8,
    "start_time": "2021-08-15T09:33:02.481Z"
   },
   {
    "duration": 11,
    "start_time": "2021-08-15T09:33:40.326Z"
   },
   {
    "duration": 14,
    "start_time": "2021-08-15T10:05:18.874Z"
   },
   {
    "duration": 11,
    "start_time": "2021-08-15T10:05:21.886Z"
   },
   {
    "duration": 341,
    "start_time": "2021-08-15T10:07:36.036Z"
   },
   {
    "duration": 3,
    "start_time": "2021-08-15T10:07:54.928Z"
   },
   {
    "duration": 15,
    "start_time": "2021-08-15T10:07:57.343Z"
   },
   {
    "duration": 138,
    "start_time": "2021-08-15T10:08:02.217Z"
   },
   {
    "duration": 9,
    "start_time": "2021-08-15T10:13:02.691Z"
   },
   {
    "duration": 1213,
    "start_time": "2021-08-15T11:14:23.656Z"
   },
   {
    "duration": 126,
    "start_time": "2021-08-15T11:14:28.138Z"
   },
   {
    "duration": 1304,
    "start_time": "2021-08-15T11:15:18.169Z"
   },
   {
    "duration": 122,
    "start_time": "2021-08-15T11:15:21.585Z"
   },
   {
    "duration": 1177,
    "start_time": "2021-08-15T11:15:28.908Z"
   },
   {
    "duration": 122,
    "start_time": "2021-08-15T11:15:33.970Z"
   },
   {
    "duration": 1410,
    "start_time": "2021-08-15T11:20:13.021Z"
   },
   {
    "duration": 53,
    "start_time": "2021-08-15T11:20:16.402Z"
   },
   {
    "duration": 10,
    "start_time": "2021-08-15T11:20:19.884Z"
   },
   {
    "duration": 3,
    "start_time": "2021-08-15T11:20:21.306Z"
   },
   {
    "duration": 10,
    "start_time": "2021-08-15T11:20:24.374Z"
   },
   {
    "duration": 3028,
    "start_time": "2021-08-15T11:21:04.849Z"
   },
   {
    "duration": 7,
    "start_time": "2021-08-15T11:21:10.097Z"
   },
   {
    "duration": 7,
    "start_time": "2021-08-15T11:21:16.296Z"
   },
   {
    "duration": 117,
    "start_time": "2021-08-15T11:21:27.196Z"
   },
   {
    "duration": 1420,
    "start_time": "2021-08-15T11:21:58.513Z"
   },
   {
    "duration": 59,
    "start_time": "2021-08-15T11:22:00.321Z"
   },
   {
    "duration": 10,
    "start_time": "2021-08-15T11:22:02.274Z"
   },
   {
    "duration": 3,
    "start_time": "2021-08-15T11:22:03.988Z"
   },
   {
    "duration": 10,
    "start_time": "2021-08-15T11:22:05.200Z"
   },
   {
    "duration": 1355,
    "start_time": "2021-08-15T11:22:42.499Z"
   },
   {
    "duration": 52,
    "start_time": "2021-08-15T11:22:44.168Z"
   },
   {
    "duration": 9,
    "start_time": "2021-08-15T11:22:45.876Z"
   },
   {
    "duration": 2,
    "start_time": "2021-08-15T11:22:47.695Z"
   },
   {
    "duration": 9,
    "start_time": "2021-08-15T11:22:49.720Z"
   },
   {
    "duration": 128,
    "start_time": "2021-08-15T11:22:51.140Z"
   },
   {
    "duration": 3044,
    "start_time": "2021-08-15T11:23:52.356Z"
   },
   {
    "duration": 8,
    "start_time": "2021-08-15T11:24:04.331Z"
   },
   {
    "duration": 1339,
    "start_time": "2021-08-15T11:25:32.885Z"
   },
   {
    "duration": 51,
    "start_time": "2021-08-15T11:25:34.550Z"
   },
   {
    "duration": 9,
    "start_time": "2021-08-15T11:25:36.373Z"
   },
   {
    "duration": 3,
    "start_time": "2021-08-15T11:25:37.900Z"
   },
   {
    "duration": 11,
    "start_time": "2021-08-15T11:25:39.136Z"
   },
   {
    "duration": 123,
    "start_time": "2021-08-15T11:25:40.750Z"
   },
   {
    "duration": 90,
    "start_time": "2021-08-15T11:26:08.604Z"
   },
   {
    "duration": 3114,
    "start_time": "2021-08-15T11:27:21.766Z"
   },
   {
    "duration": 141,
    "start_time": "2021-08-15T11:27:30.449Z"
   },
   {
    "duration": 2650,
    "start_time": "2021-08-15T11:27:56.911Z"
   },
   {
    "duration": 126,
    "start_time": "2021-08-15T11:28:02.750Z"
   },
   {
    "duration": 177,
    "start_time": "2021-08-15T11:28:37.193Z"
   },
   {
    "duration": 2698,
    "start_time": "2021-08-15T11:29:10.875Z"
   },
   {
    "duration": 192,
    "start_time": "2021-08-15T11:29:14.605Z"
   },
   {
    "duration": 2498,
    "start_time": "2021-08-15T11:29:24.875Z"
   },
   {
    "duration": 183,
    "start_time": "2021-08-15T11:29:28.764Z"
   },
   {
    "duration": 2346,
    "start_time": "2021-08-15T11:29:37.357Z"
   },
   {
    "duration": 160,
    "start_time": "2021-08-15T11:29:40.477Z"
   },
   {
    "duration": 1482,
    "start_time": "2021-08-15T11:30:07.930Z"
   },
   {
    "duration": 52,
    "start_time": "2021-08-15T11:30:09.706Z"
   },
   {
    "duration": 9,
    "start_time": "2021-08-15T11:30:11.651Z"
   },
   {
    "duration": 2,
    "start_time": "2021-08-15T11:30:13.642Z"
   },
   {
    "duration": 10,
    "start_time": "2021-08-15T11:30:14.833Z"
   },
   {
    "duration": 124,
    "start_time": "2021-08-15T11:30:16.051Z"
   },
   {
    "duration": 1418,
    "start_time": "2021-08-15T11:39:10.510Z"
   },
   {
    "duration": 52,
    "start_time": "2021-08-15T11:39:12.164Z"
   },
   {
    "duration": 9,
    "start_time": "2021-08-15T11:39:14.034Z"
   },
   {
    "duration": 3,
    "start_time": "2021-08-15T11:39:15.719Z"
   },
   {
    "duration": 10,
    "start_time": "2021-08-15T11:39:17.621Z"
   },
   {
    "duration": 121,
    "start_time": "2021-08-15T11:39:19.029Z"
   },
   {
    "duration": 3134,
    "start_time": "2021-08-15T11:39:46.370Z"
   },
   {
    "duration": 125,
    "start_time": "2021-08-15T11:39:50.676Z"
   },
   {
    "duration": 2442,
    "start_time": "2021-08-15T11:40:53.452Z"
   },
   {
    "duration": 126,
    "start_time": "2021-08-15T11:41:00.172Z"
   },
   {
    "duration": 171,
    "start_time": "2021-08-15T11:45:27.711Z"
   },
   {
    "duration": 2483,
    "start_time": "2021-08-15T11:45:42.861Z"
   },
   {
    "duration": 236,
    "start_time": "2021-08-15T11:45:45.349Z"
   },
   {
    "duration": 18,
    "start_time": "2021-08-15T11:46:11.584Z"
   },
   {
    "duration": 2316,
    "start_time": "2021-08-15T11:46:56.354Z"
   },
   {
    "duration": 123,
    "start_time": "2021-08-15T11:47:00.509Z"
   },
   {
    "duration": 1333,
    "start_time": "2021-08-15T11:55:10.797Z"
   },
   {
    "duration": 53,
    "start_time": "2021-08-15T11:55:12.131Z"
   },
   {
    "duration": 8,
    "start_time": "2021-08-15T11:55:12.186Z"
   },
   {
    "duration": 21,
    "start_time": "2021-08-15T11:55:12.196Z"
   },
   {
    "duration": 16,
    "start_time": "2021-08-15T11:55:12.218Z"
   },
   {
    "duration": 136,
    "start_time": "2021-08-15T11:55:12.235Z"
   },
   {
    "duration": 3207,
    "start_time": "2021-08-15T11:55:12.373Z"
   },
   {
    "duration": 125,
    "start_time": "2021-08-15T11:55:15.582Z"
   },
   {
    "duration": 34,
    "start_time": "2021-08-15T11:55:15.709Z"
   },
   {
    "duration": 15,
    "start_time": "2021-08-15T11:55:15.745Z"
   },
   {
    "duration": 307,
    "start_time": "2021-08-15T11:55:15.761Z"
   },
   {
    "duration": 210,
    "start_time": "2021-08-15T11:55:16.070Z"
   },
   {
    "duration": 3067,
    "start_time": "2021-08-15T11:55:16.282Z"
   },
   {
    "duration": 9,
    "start_time": "2021-08-15T11:55:19.351Z"
   },
   {
    "duration": 1492,
    "start_time": "2021-08-15T11:55:21.784Z"
   },
   {
    "duration": 299,
    "start_time": "2021-08-15T11:55:23.278Z"
   },
   {
    "duration": 394,
    "start_time": "2021-08-15T11:55:23.578Z"
   },
   {
    "duration": 291,
    "start_time": "2021-08-15T11:55:23.973Z"
   },
   {
    "duration": 1528,
    "start_time": "2021-08-15T11:55:24.266Z"
   },
   {
    "duration": 671,
    "start_time": "2021-08-15T11:55:25.796Z"
   },
   {
    "duration": 20,
    "start_time": "2021-08-15T11:55:26.469Z"
   },
   {
    "duration": 302,
    "start_time": "2021-08-15T11:55:26.491Z"
   },
   {
    "duration": 13,
    "start_time": "2021-08-15T11:55:26.795Z"
   },
   {
    "duration": 32,
    "start_time": "2021-08-15T11:55:26.810Z"
   },
   {
    "duration": 9,
    "start_time": "2021-08-15T11:55:26.843Z"
   },
   {
    "duration": 316,
    "start_time": "2021-08-15T11:55:26.853Z"
   },
   {
    "duration": 2303,
    "start_time": "2021-08-15T11:55:27.170Z"
   },
   {
    "duration": 1363,
    "start_time": "2021-08-15T12:02:12.470Z"
   },
   {
    "duration": 52,
    "start_time": "2021-08-15T12:02:15.840Z"
   },
   {
    "duration": 9,
    "start_time": "2021-08-15T12:02:17.789Z"
   },
   {
    "duration": 3,
    "start_time": "2021-08-15T12:02:19.413Z"
   },
   {
    "duration": 11,
    "start_time": "2021-08-15T12:02:20.908Z"
   },
   {
    "duration": 124,
    "start_time": "2021-08-15T12:02:23.214Z"
   },
   {
    "duration": 3169,
    "start_time": "2021-08-15T12:02:27.316Z"
   },
   {
    "duration": 127,
    "start_time": "2021-08-15T12:02:33.376Z"
   },
   {
    "duration": 19,
    "start_time": "2021-08-15T12:02:52.593Z"
   },
   {
    "duration": 17,
    "start_time": "2021-08-15T12:02:54.813Z"
   },
   {
    "duration": 2563,
    "start_time": "2021-08-15T12:04:20.948Z"
   },
   {
    "duration": 5,
    "start_time": "2021-08-15T12:04:24.882Z"
   },
   {
    "duration": 1521,
    "start_time": "2021-08-15T12:04:38.823Z"
   },
   {
    "duration": 54,
    "start_time": "2021-08-15T12:04:43.112Z"
   },
   {
    "duration": 9,
    "start_time": "2021-08-15T12:04:44.216Z"
   },
   {
    "duration": 2,
    "start_time": "2021-08-15T12:04:45.942Z"
   },
   {
    "duration": 10,
    "start_time": "2021-08-15T12:04:46.374Z"
   },
   {
    "duration": 126,
    "start_time": "2021-08-15T12:04:46.862Z"
   },
   {
    "duration": 3193,
    "start_time": "2021-08-15T12:04:48.903Z"
   },
   {
    "duration": 6,
    "start_time": "2021-08-15T12:04:53.431Z"
   },
   {
    "duration": 1348,
    "start_time": "2021-08-15T12:05:04.282Z"
   },
   {
    "duration": 52,
    "start_time": "2021-08-15T12:05:08.058Z"
   },
   {
    "duration": 9,
    "start_time": "2021-08-15T12:05:09.881Z"
   },
   {
    "duration": 2,
    "start_time": "2021-08-15T12:05:10.616Z"
   },
   {
    "duration": 11,
    "start_time": "2021-08-15T12:05:11.079Z"
   },
   {
    "duration": 125,
    "start_time": "2021-08-15T12:05:11.854Z"
   },
   {
    "duration": 3285,
    "start_time": "2021-08-15T12:05:14.408Z"
   },
   {
    "duration": 128,
    "start_time": "2021-08-15T12:05:18.934Z"
   },
   {
    "duration": 19,
    "start_time": "2021-08-15T12:05:27.229Z"
   },
   {
    "duration": 15,
    "start_time": "2021-08-15T12:05:28.876Z"
   },
   {
    "duration": 6525,
    "start_time": "2021-08-15T12:06:53.724Z"
   },
   {
    "duration": 289,
    "start_time": "2021-08-15T12:07:20.041Z"
   },
   {
    "duration": 305,
    "start_time": "2021-08-15T12:15:14.721Z"
   },
   {
    "duration": 4,
    "start_time": "2021-08-15T12:15:19.403Z"
   },
   {
    "duration": 255,
    "start_time": "2021-08-15T12:15:56.314Z"
   },
   {
    "duration": 269,
    "start_time": "2021-08-15T12:16:08.962Z"
   },
   {
    "duration": 269,
    "start_time": "2021-08-15T12:16:46.864Z"
   },
   {
    "duration": 248,
    "start_time": "2021-08-15T12:17:04.552Z"
   },
   {
    "duration": 270,
    "start_time": "2021-08-15T12:17:09.507Z"
   },
   {
    "duration": 299,
    "start_time": "2021-08-15T12:17:26.217Z"
   },
   {
    "duration": 90,
    "start_time": "2021-08-15T12:18:37.076Z"
   },
   {
    "duration": 565,
    "start_time": "2021-08-15T12:18:43.527Z"
   },
   {
    "duration": 274,
    "start_time": "2021-08-15T12:18:50.766Z"
   },
   {
    "duration": 260,
    "start_time": "2021-08-15T12:19:07.212Z"
   },
   {
    "duration": 1453,
    "start_time": "2021-08-15T12:22:48.057Z"
   },
   {
    "duration": 53,
    "start_time": "2021-08-15T12:22:51.326Z"
   },
   {
    "duration": 9,
    "start_time": "2021-08-15T12:22:52.165Z"
   },
   {
    "duration": 3,
    "start_time": "2021-08-15T12:22:53.542Z"
   },
   {
    "duration": 10,
    "start_time": "2021-08-15T12:22:55.358Z"
   },
   {
    "duration": 131,
    "start_time": "2021-08-15T12:22:55.756Z"
   },
   {
    "duration": 3074,
    "start_time": "2021-08-15T12:22:57.600Z"
   },
   {
    "duration": 130,
    "start_time": "2021-08-15T12:23:00.676Z"
   },
   {
    "duration": 21,
    "start_time": "2021-08-15T12:23:02.852Z"
   },
   {
    "duration": 284,
    "start_time": "2021-08-15T12:23:08.187Z"
   },
   {
    "duration": 205,
    "start_time": "2021-08-15T12:23:11.672Z"
   },
   {
    "duration": 363,
    "start_time": "2021-08-15T12:23:23.410Z"
   },
   {
    "duration": 3042,
    "start_time": "2021-08-15T12:23:33.984Z"
   },
   {
    "duration": 9,
    "start_time": "2021-08-15T12:23:40.912Z"
   },
   {
    "duration": 272,
    "start_time": "2021-08-15T12:23:44.672Z"
   },
   {
    "duration": 10,
    "start_time": "2021-08-15T12:23:53.336Z"
   },
   {
    "duration": 9,
    "start_time": "2021-08-15T12:24:11.992Z"
   },
   {
    "duration": 3114,
    "start_time": "2021-08-15T12:28:29.395Z"
   },
   {
    "duration": 9,
    "start_time": "2021-08-15T12:28:42.086Z"
   },
   {
    "duration": 1348,
    "start_time": "2021-08-15T12:28:51.785Z"
   },
   {
    "duration": 52,
    "start_time": "2021-08-15T12:28:54.955Z"
   },
   {
    "duration": 9,
    "start_time": "2021-08-15T12:28:56.615Z"
   },
   {
    "duration": 3,
    "start_time": "2021-08-15T12:28:57.723Z"
   },
   {
    "duration": 10,
    "start_time": "2021-08-15T12:28:58.773Z"
   },
   {
    "duration": 128,
    "start_time": "2021-08-15T12:28:59.817Z"
   },
   {
    "duration": 3310,
    "start_time": "2021-08-15T12:29:02.650Z"
   },
   {
    "duration": 125,
    "start_time": "2021-08-15T12:29:06.617Z"
   },
   {
    "duration": 19,
    "start_time": "2021-08-15T12:29:09.104Z"
   },
   {
    "duration": 16,
    "start_time": "2021-08-15T12:29:09.698Z"
   },
   {
    "duration": 282,
    "start_time": "2021-08-15T12:29:14.239Z"
   },
   {
    "duration": 199,
    "start_time": "2021-08-15T12:29:17.096Z"
   },
   {
    "duration": 3056,
    "start_time": "2021-08-15T12:29:20.088Z"
   },
   {
    "duration": 9,
    "start_time": "2021-08-15T12:29:25.292Z"
   },
   {
    "duration": 258,
    "start_time": "2021-08-15T12:29:29.475Z"
   },
   {
    "duration": 9,
    "start_time": "2021-08-15T12:29:32.452Z"
   },
   {
    "duration": 298,
    "start_time": "2021-08-15T12:31:05.820Z"
   },
   {
    "duration": 278,
    "start_time": "2021-08-15T12:31:10.582Z"
   },
   {
    "duration": 90,
    "start_time": "2021-08-15T12:31:36.800Z"
   },
   {
    "duration": 386,
    "start_time": "2021-08-15T12:38:17.437Z"
   },
   {
    "duration": 107,
    "start_time": "2021-08-15T12:38:25.224Z"
   },
   {
    "duration": 1382,
    "start_time": "2021-08-15T12:38:30.940Z"
   },
   {
    "duration": 10,
    "start_time": "2021-08-15T12:39:36.498Z"
   },
   {
    "duration": 477,
    "start_time": "2021-08-15T12:45:43.245Z"
   },
   {
    "duration": 372,
    "start_time": "2021-08-15T12:46:04.032Z"
   },
   {
    "duration": 308,
    "start_time": "2021-08-15T12:46:44.688Z"
   },
   {
    "duration": 11,
    "start_time": "2021-08-15T12:47:15.535Z"
   },
   {
    "duration": 10,
    "start_time": "2021-08-15T12:47:49.336Z"
   },
   {
    "duration": 450,
    "start_time": "2021-08-15T12:52:35.935Z"
   },
   {
    "duration": 345,
    "start_time": "2021-08-15T12:52:39.314Z"
   },
   {
    "duration": 272,
    "start_time": "2021-08-15T12:54:08.646Z"
   },
   {
    "duration": 311,
    "start_time": "2021-08-15T12:54:20.069Z"
   },
   {
    "duration": 299,
    "start_time": "2021-08-15T12:54:21.975Z"
   },
   {
    "duration": 283,
    "start_time": "2021-08-15T12:54:24.529Z"
   },
   {
    "duration": 1570,
    "start_time": "2021-08-15T12:54:27.171Z"
   },
   {
    "duration": 503,
    "start_time": "2021-08-15T12:54:28.892Z"
   },
   {
    "duration": 22,
    "start_time": "2021-08-15T12:54:32.414Z"
   },
   {
    "duration": 301,
    "start_time": "2021-08-15T12:54:45.748Z"
   },
   {
    "duration": 298,
    "start_time": "2021-08-15T12:57:24.558Z"
   },
   {
    "duration": 1004,
    "start_time": "2021-08-15T12:58:05.134Z"
   },
   {
    "duration": 3938,
    "start_time": "2021-08-15T12:58:26.861Z"
   },
   {
    "duration": 1389,
    "start_time": "2021-08-15T12:59:15.940Z"
   },
   {
    "duration": 52,
    "start_time": "2021-08-15T12:59:17.331Z"
   },
   {
    "duration": 8,
    "start_time": "2021-08-15T12:59:17.385Z"
   },
   {
    "duration": 2,
    "start_time": "2021-08-15T12:59:17.395Z"
   },
   {
    "duration": 13,
    "start_time": "2021-08-15T12:59:17.399Z"
   },
   {
    "duration": 139,
    "start_time": "2021-08-15T12:59:17.413Z"
   },
   {
    "duration": 3251,
    "start_time": "2021-08-15T12:59:17.554Z"
   },
   {
    "duration": 134,
    "start_time": "2021-08-15T12:59:20.808Z"
   },
   {
    "duration": 20,
    "start_time": "2021-08-15T12:59:20.944Z"
   },
   {
    "duration": 17,
    "start_time": "2021-08-15T12:59:20.965Z"
   },
   {
    "duration": 335,
    "start_time": "2021-08-15T12:59:20.983Z"
   },
   {
    "duration": 222,
    "start_time": "2021-08-15T12:59:21.320Z"
   },
   {
    "duration": 3108,
    "start_time": "2021-08-15T12:59:21.544Z"
   },
   {
    "duration": 11,
    "start_time": "2021-08-15T12:59:24.654Z"
   },
   {
    "duration": 283,
    "start_time": "2021-08-15T12:59:24.666Z"
   },
   {
    "duration": 8,
    "start_time": "2021-08-15T12:59:24.951Z"
   },
   {
    "duration": 1403,
    "start_time": "2021-08-15T12:59:24.961Z"
   },
   {
    "duration": 356,
    "start_time": "2021-08-15T12:59:26.365Z"
   },
   {
    "duration": 19,
    "start_time": "2021-08-15T12:59:26.723Z"
   },
   {
    "duration": 301,
    "start_time": "2021-08-15T12:59:26.743Z"
   },
   {
    "duration": 300,
    "start_time": "2021-08-15T12:59:27.046Z"
   },
   {
    "duration": 279,
    "start_time": "2021-08-15T12:59:27.347Z"
   },
   {
    "duration": 1587,
    "start_time": "2021-08-15T12:59:27.629Z"
   },
   {
    "duration": 340,
    "start_time": "2021-08-15T12:59:29.218Z"
   },
   {
    "duration": 22,
    "start_time": "2021-08-15T12:59:29.560Z"
   },
   {
    "duration": 302,
    "start_time": "2021-08-15T12:59:29.584Z"
   },
   {
    "duration": 15,
    "start_time": "2021-08-15T12:59:29.887Z"
   },
   {
    "duration": 477,
    "start_time": "2021-08-15T12:59:29.903Z"
   },
   {
    "duration": 25,
    "start_time": "2021-08-15T12:59:30.357Z"
   },
   {
    "duration": 15,
    "start_time": "2021-08-15T12:59:30.368Z"
   },
   {
    "duration": 10,
    "start_time": "2021-08-15T12:59:30.374Z"
   },
   {
    "duration": 1,
    "start_time": "2021-08-15T12:59:30.384Z"
   },
   {
    "duration": 25,
    "start_time": "2021-08-15T13:02:11.780Z"
   },
   {
    "duration": 12,
    "start_time": "2021-08-15T13:02:30.733Z"
   },
   {
    "duration": 1403,
    "start_time": "2021-08-15T13:05:11.127Z"
   },
   {
    "duration": 51,
    "start_time": "2021-08-15T13:05:12.532Z"
   },
   {
    "duration": 7,
    "start_time": "2021-08-15T13:05:12.585Z"
   },
   {
    "duration": 4,
    "start_time": "2021-08-15T13:05:12.594Z"
   },
   {
    "duration": 15,
    "start_time": "2021-08-15T13:05:12.600Z"
   },
   {
    "duration": 133,
    "start_time": "2021-08-15T13:05:12.617Z"
   },
   {
    "duration": 3134,
    "start_time": "2021-08-15T13:05:12.752Z"
   },
   {
    "duration": 135,
    "start_time": "2021-08-15T13:05:15.889Z"
   },
   {
    "duration": 27,
    "start_time": "2021-08-15T13:05:16.026Z"
   },
   {
    "duration": 14,
    "start_time": "2021-08-15T13:05:16.054Z"
   },
   {
    "duration": 323,
    "start_time": "2021-08-15T13:05:16.070Z"
   },
   {
    "duration": 218,
    "start_time": "2021-08-15T13:05:16.395Z"
   },
   {
    "duration": 3120,
    "start_time": "2021-08-15T13:05:16.614Z"
   },
   {
    "duration": 11,
    "start_time": "2021-08-15T13:05:19.736Z"
   },
   {
    "duration": 280,
    "start_time": "2021-08-15T13:05:19.748Z"
   },
   {
    "duration": 13,
    "start_time": "2021-08-15T13:05:20.029Z"
   },
   {
    "duration": 1422,
    "start_time": "2021-08-15T13:05:20.044Z"
   },
   {
    "duration": 353,
    "start_time": "2021-08-15T13:05:21.468Z"
   },
   {
    "duration": 9,
    "start_time": "2021-08-15T13:05:21.822Z"
   },
   {
    "duration": 311,
    "start_time": "2021-08-15T13:05:21.833Z"
   },
   {
    "duration": 299,
    "start_time": "2021-08-15T13:05:22.145Z"
   },
   {
    "duration": 282,
    "start_time": "2021-08-15T13:05:22.445Z"
   },
   {
    "duration": 1558,
    "start_time": "2021-08-15T13:05:22.730Z"
   },
   {
    "duration": 495,
    "start_time": "2021-08-15T13:05:24.290Z"
   },
   {
    "duration": 24,
    "start_time": "2021-08-15T13:05:24.787Z"
   },
   {
    "duration": 294,
    "start_time": "2021-08-15T13:05:24.813Z"
   },
   {
    "duration": 15,
    "start_time": "2021-08-15T13:05:25.109Z"
   },
   {
    "duration": 17,
    "start_time": "2021-08-15T13:05:25.140Z"
   },
   {
    "duration": 12,
    "start_time": "2021-08-15T13:05:25.159Z"
   },
   {
    "duration": 304,
    "start_time": "2021-08-15T13:05:25.172Z"
   },
   {
    "duration": 2511,
    "start_time": "2021-08-15T13:05:25.478Z"
   },
   {
    "duration": 13,
    "start_time": "2021-08-15T13:06:06.265Z"
   },
   {
    "duration": 13,
    "start_time": "2021-08-15T13:06:26.744Z"
   },
   {
    "duration": 18,
    "start_time": "2021-08-15T13:07:43.900Z"
   },
   {
    "duration": 18,
    "start_time": "2021-08-15T13:09:16.468Z"
   },
   {
    "duration": 382,
    "start_time": "2021-08-15T13:13:50.678Z"
   },
   {
    "duration": 2867,
    "start_time": "2021-08-15T13:15:19.443Z"
   },
   {
    "duration": 2882,
    "start_time": "2021-08-15T13:15:51.261Z"
   },
   {
    "duration": 2983,
    "start_time": "2021-08-15T13:15:57.620Z"
   },
   {
    "duration": 2568,
    "start_time": "2021-08-15T13:17:27.793Z"
   },
   {
    "duration": 2832,
    "start_time": "2021-08-15T13:17:38.198Z"
   },
   {
    "duration": 2827,
    "start_time": "2021-08-15T13:17:47.038Z"
   },
   {
    "duration": 84,
    "start_time": "2021-08-15T13:22:23.342Z"
   },
   {
    "duration": 337,
    "start_time": "2021-08-15T13:22:33.432Z"
   },
   {
    "duration": 251,
    "start_time": "2021-08-15T13:23:47.222Z"
   },
   {
    "duration": 7,
    "start_time": "2021-08-15T13:23:55.877Z"
   },
   {
    "duration": 17,
    "start_time": "2021-08-15T13:24:19.015Z"
   },
   {
    "duration": 13,
    "start_time": "2021-08-15T13:25:04.215Z"
   },
   {
    "duration": 1368,
    "start_time": "2021-08-15T13:25:12.673Z"
   },
   {
    "duration": 52,
    "start_time": "2021-08-15T13:25:14.042Z"
   },
   {
    "duration": 10,
    "start_time": "2021-08-15T13:25:14.096Z"
   },
   {
    "duration": 5,
    "start_time": "2021-08-15T13:25:14.108Z"
   },
   {
    "duration": 20,
    "start_time": "2021-08-15T13:25:14.115Z"
   },
   {
    "duration": 148,
    "start_time": "2021-08-15T13:25:14.137Z"
   },
   {
    "duration": 3302,
    "start_time": "2021-08-15T13:25:14.287Z"
   },
   {
    "duration": 134,
    "start_time": "2021-08-15T13:25:17.591Z"
   },
   {
    "duration": 26,
    "start_time": "2021-08-15T13:25:17.727Z"
   },
   {
    "duration": 16,
    "start_time": "2021-08-15T13:25:17.755Z"
   },
   {
    "duration": 332,
    "start_time": "2021-08-15T13:25:17.772Z"
   },
   {
    "duration": 213,
    "start_time": "2021-08-15T13:25:18.105Z"
   },
   {
    "duration": 3299,
    "start_time": "2021-08-15T13:25:18.320Z"
   },
   {
    "duration": 20,
    "start_time": "2021-08-15T13:25:21.621Z"
   },
   {
    "duration": 272,
    "start_time": "2021-08-15T13:25:21.643Z"
   },
   {
    "duration": 8,
    "start_time": "2021-08-15T13:25:21.916Z"
   },
   {
    "duration": 1437,
    "start_time": "2021-08-15T13:25:21.926Z"
   },
   {
    "duration": 337,
    "start_time": "2021-08-15T13:25:23.365Z"
   },
   {
    "duration": 10,
    "start_time": "2021-08-15T13:25:23.704Z"
   },
   {
    "duration": 320,
    "start_time": "2021-08-15T13:25:23.715Z"
   },
   {
    "duration": 304,
    "start_time": "2021-08-15T13:25:24.037Z"
   },
   {
    "duration": 291,
    "start_time": "2021-08-15T13:25:24.342Z"
   },
   {
    "duration": 1580,
    "start_time": "2021-08-15T13:25:24.636Z"
   },
   {
    "duration": 609,
    "start_time": "2021-08-15T13:25:26.218Z"
   },
   {
    "duration": 23,
    "start_time": "2021-08-15T13:25:26.829Z"
   },
   {
    "duration": 304,
    "start_time": "2021-08-15T13:25:26.854Z"
   },
   {
    "duration": 15,
    "start_time": "2021-08-15T13:25:27.160Z"
   },
   {
    "duration": 12,
    "start_time": "2021-08-15T13:25:27.177Z"
   },
   {
    "duration": 18,
    "start_time": "2021-08-15T13:25:27.191Z"
   },
   {
    "duration": 41,
    "start_time": "2021-08-15T13:25:27.210Z"
   },
   {
    "duration": 304,
    "start_time": "2021-08-15T13:25:27.252Z"
   },
   {
    "duration": 2455,
    "start_time": "2021-08-15T13:25:27.558Z"
   },
   {
    "duration": 2867,
    "start_time": "2021-08-15T13:25:30.015Z"
   },
   {
    "duration": 372,
    "start_time": "2021-08-15T13:26:00.665Z"
   },
   {
    "duration": 290,
    "start_time": "2021-08-15T13:26:20.736Z"
   },
   {
    "duration": 17,
    "start_time": "2021-08-15T13:30:49.790Z"
   },
   {
    "duration": 48,
    "start_time": "2021-08-15T13:32:41.043Z"
   },
   {
    "duration": 275,
    "start_time": "2021-08-15T13:33:18.987Z"
   },
   {
    "duration": 49,
    "start_time": "2021-08-15T13:33:27.747Z"
   },
   {
    "duration": 11,
    "start_time": "2021-08-15T13:36:14.239Z"
   },
   {
    "duration": 1380,
    "start_time": "2021-08-15T14:10:04.166Z"
   },
   {
    "duration": 52,
    "start_time": "2021-08-15T14:10:05.548Z"
   },
   {
    "duration": 8,
    "start_time": "2021-08-15T14:10:05.602Z"
   },
   {
    "duration": 19,
    "start_time": "2021-08-15T14:10:05.611Z"
   },
   {
    "duration": 30,
    "start_time": "2021-08-15T14:10:05.631Z"
   },
   {
    "duration": 134,
    "start_time": "2021-08-15T14:10:05.662Z"
   },
   {
    "duration": 3186,
    "start_time": "2021-08-15T14:10:05.797Z"
   },
   {
    "duration": 134,
    "start_time": "2021-08-15T14:10:08.986Z"
   },
   {
    "duration": 31,
    "start_time": "2021-08-15T14:10:09.122Z"
   },
   {
    "duration": 16,
    "start_time": "2021-08-15T14:10:09.155Z"
   },
   {
    "duration": 326,
    "start_time": "2021-08-15T14:10:09.173Z"
   },
   {
    "duration": 211,
    "start_time": "2021-08-15T14:10:09.501Z"
   },
   {
    "duration": 3190,
    "start_time": "2021-08-15T14:10:09.714Z"
   },
   {
    "duration": 10,
    "start_time": "2021-08-15T14:10:12.906Z"
   },
   {
    "duration": 283,
    "start_time": "2021-08-15T14:10:12.918Z"
   },
   {
    "duration": 9,
    "start_time": "2021-08-15T14:10:13.203Z"
   },
   {
    "duration": 1421,
    "start_time": "2021-08-15T14:10:13.214Z"
   },
   {
    "duration": 356,
    "start_time": "2021-08-15T14:10:14.636Z"
   },
   {
    "duration": 9,
    "start_time": "2021-08-15T14:10:14.994Z"
   },
   {
    "duration": 309,
    "start_time": "2021-08-15T14:10:15.005Z"
   },
   {
    "duration": 342,
    "start_time": "2021-08-15T14:10:15.316Z"
   },
   {
    "duration": 281,
    "start_time": "2021-08-15T14:10:15.660Z"
   },
   {
    "duration": 1579,
    "start_time": "2021-08-15T14:10:15.944Z"
   },
   {
    "duration": 237,
    "start_time": "2021-08-15T14:10:17.525Z"
   },
   {
    "duration": 23,
    "start_time": "2021-08-15T14:10:17.763Z"
   },
   {
    "duration": 307,
    "start_time": "2021-08-15T14:10:17.787Z"
   },
   {
    "duration": 16,
    "start_time": "2021-08-15T14:10:18.095Z"
   },
   {
    "duration": 64,
    "start_time": "2021-08-15T14:10:18.112Z"
   },
   {
    "duration": 2,
    "start_time": "2021-08-15T14:10:18.178Z"
   },
   {
    "duration": 18,
    "start_time": "2021-08-15T14:10:18.182Z"
   },
   {
    "duration": 313,
    "start_time": "2021-08-15T14:10:18.202Z"
   },
   {
    "duration": 28,
    "start_time": "2021-08-15T14:10:18.517Z"
   },
   {
    "duration": 23,
    "start_time": "2021-08-15T14:10:18.547Z"
   },
   {
    "duration": 375,
    "start_time": "2021-08-15T14:10:18.571Z"
   },
   {
    "duration": 2438,
    "start_time": "2021-08-15T14:10:18.948Z"
   },
   {
    "duration": 2986,
    "start_time": "2021-08-15T14:10:21.388Z"
   },
   {
    "duration": 9,
    "start_time": "2021-08-15T14:16:52.154Z"
   },
   {
    "duration": 365,
    "start_time": "2021-08-15T14:16:53.823Z"
   },
   {
    "duration": 261,
    "start_time": "2021-08-15T14:17:03.447Z"
   },
   {
    "duration": 3,
    "start_time": "2021-08-15T14:17:11.407Z"
   },
   {
    "duration": 243,
    "start_time": "2021-08-15T14:17:37.541Z"
   },
   {
    "duration": 9,
    "start_time": "2021-08-15T14:17:39.672Z"
   },
   {
    "duration": 106,
    "start_time": "2021-08-15T14:17:42.324Z"
   },
   {
    "duration": 3,
    "start_time": "2021-08-15T14:18:51.050Z"
   },
   {
    "duration": 8,
    "start_time": "2021-08-15T14:18:52.456Z"
   },
   {
    "duration": 91,
    "start_time": "2021-08-15T14:18:54.868Z"
   },
   {
    "duration": 12,
    "start_time": "2021-08-15T14:20:00.786Z"
   },
   {
    "duration": 3,
    "start_time": "2021-08-15T14:22:18.326Z"
   },
   {
    "duration": 11,
    "start_time": "2021-08-15T14:22:18.762Z"
   },
   {
    "duration": 12,
    "start_time": "2021-08-15T14:22:20.914Z"
   },
   {
    "duration": 308,
    "start_time": "2021-08-15T14:25:47.900Z"
   },
   {
    "duration": 12,
    "start_time": "2021-08-15T14:26:14.548Z"
   },
   {
    "duration": 258,
    "start_time": "2021-08-15T14:27:12.607Z"
   },
   {
    "duration": 1463,
    "start_time": "2021-08-15T14:27:57.628Z"
   },
   {
    "duration": 52,
    "start_time": "2021-08-15T14:27:59.093Z"
   },
   {
    "duration": 8,
    "start_time": "2021-08-15T14:27:59.146Z"
   },
   {
    "duration": 5,
    "start_time": "2021-08-15T14:27:59.156Z"
   },
   {
    "duration": 13,
    "start_time": "2021-08-15T14:27:59.162Z"
   },
   {
    "duration": 140,
    "start_time": "2021-08-15T14:27:59.177Z"
   },
   {
    "duration": 3293,
    "start_time": "2021-08-15T14:27:59.319Z"
   },
   {
    "duration": 148,
    "start_time": "2021-08-15T14:28:02.615Z"
   },
   {
    "duration": 21,
    "start_time": "2021-08-15T14:28:02.766Z"
   },
   {
    "duration": 53,
    "start_time": "2021-08-15T14:28:02.789Z"
   },
   {
    "duration": 304,
    "start_time": "2021-08-15T14:28:02.845Z"
   },
   {
    "duration": 213,
    "start_time": "2021-08-15T14:28:03.151Z"
   },
   {
    "duration": 3036,
    "start_time": "2021-08-15T14:28:03.366Z"
   },
   {
    "duration": 10,
    "start_time": "2021-08-15T14:28:06.404Z"
   },
   {
    "duration": 280,
    "start_time": "2021-08-15T14:28:06.415Z"
   },
   {
    "duration": 8,
    "start_time": "2021-08-15T14:28:06.697Z"
   },
   {
    "duration": 1452,
    "start_time": "2021-08-15T14:28:06.706Z"
   },
   {
    "duration": 352,
    "start_time": "2021-08-15T14:28:08.160Z"
   },
   {
    "duration": 9,
    "start_time": "2021-08-15T14:28:08.514Z"
   },
   {
    "duration": 316,
    "start_time": "2021-08-15T14:28:08.525Z"
   },
   {
    "duration": 314,
    "start_time": "2021-08-15T14:28:08.843Z"
   },
   {
    "duration": 311,
    "start_time": "2021-08-15T14:28:09.158Z"
   },
   {
    "duration": 1809,
    "start_time": "2021-08-15T14:28:09.472Z"
   },
   {
    "duration": 701,
    "start_time": "2021-08-15T14:28:11.283Z"
   },
   {
    "duration": 22,
    "start_time": "2021-08-15T14:28:11.986Z"
   },
   {
    "duration": 297,
    "start_time": "2021-08-15T14:28:12.009Z"
   },
   {
    "duration": 14,
    "start_time": "2021-08-15T14:28:12.308Z"
   },
   {
    "duration": 312,
    "start_time": "2021-08-15T14:28:12.323Z"
   },
   {
    "duration": 13,
    "start_time": "2021-08-15T14:28:12.636Z"
   },
   {
    "duration": 17,
    "start_time": "2021-08-15T14:28:12.651Z"
   },
   {
    "duration": 12,
    "start_time": "2021-08-15T14:28:12.670Z"
   },
   {
    "duration": 6566,
    "start_time": "2021-08-15T14:28:12.684Z"
   },
   {
    "duration": 20,
    "start_time": "2021-08-15T14:28:19.232Z"
   },
   {
    "duration": -1,
    "start_time": "2021-08-15T14:28:19.254Z"
   },
   {
    "duration": 298,
    "start_time": "2021-08-15T14:28:26.831Z"
   },
   {
    "duration": 290,
    "start_time": "2021-08-15T14:28:57.401Z"
   },
   {
    "duration": 251,
    "start_time": "2021-08-15T14:29:05.695Z"
   },
   {
    "duration": 1760,
    "start_time": "2021-08-15T14:29:35.665Z"
   },
   {
    "duration": 1348,
    "start_time": "2021-08-15T14:29:39.368Z"
   },
   {
    "duration": 312,
    "start_time": "2021-08-15T14:30:59.303Z"
   },
   {
    "duration": 312,
    "start_time": "2021-08-15T14:31:08.074Z"
   },
   {
    "duration": 10,
    "start_time": "2021-08-15T14:35:29.595Z"
   },
   {
    "duration": 1676,
    "start_time": "2021-08-15T14:43:11.095Z"
   },
   {
    "duration": 1446,
    "start_time": "2021-08-15T14:43:26.557Z"
   },
   {
    "duration": 574,
    "start_time": "2021-08-15T14:49:01.153Z"
   },
   {
    "duration": 565,
    "start_time": "2021-08-15T14:50:28.578Z"
   },
   {
    "duration": 250,
    "start_time": "2021-08-15T14:51:41.966Z"
   },
   {
    "duration": 256,
    "start_time": "2021-08-15T14:52:21.415Z"
   },
   {
    "duration": 1412,
    "start_time": "2021-08-15T14:53:04.105Z"
   },
   {
    "duration": 51,
    "start_time": "2021-08-15T14:53:05.518Z"
   },
   {
    "duration": 8,
    "start_time": "2021-08-15T14:53:05.571Z"
   },
   {
    "duration": 4,
    "start_time": "2021-08-15T14:53:05.581Z"
   },
   {
    "duration": 13,
    "start_time": "2021-08-15T14:53:05.587Z"
   },
   {
    "duration": 142,
    "start_time": "2021-08-15T14:53:05.602Z"
   },
   {
    "duration": 3105,
    "start_time": "2021-08-15T14:53:05.746Z"
   },
   {
    "duration": 128,
    "start_time": "2021-08-15T14:53:08.854Z"
   },
   {
    "duration": 18,
    "start_time": "2021-08-15T14:53:08.984Z"
   },
   {
    "duration": 44,
    "start_time": "2021-08-15T14:53:09.003Z"
   },
   {
    "duration": 353,
    "start_time": "2021-08-15T14:53:09.049Z"
   },
   {
    "duration": -264,
    "start_time": "2021-08-15T14:53:09.669Z"
   },
   {
    "duration": -278,
    "start_time": "2021-08-15T14:53:09.684Z"
   },
   {
    "duration": -283,
    "start_time": "2021-08-15T14:53:09.690Z"
   },
   {
    "duration": -294,
    "start_time": "2021-08-15T14:53:09.702Z"
   },
   {
    "duration": -304,
    "start_time": "2021-08-15T14:53:09.713Z"
   },
   {
    "duration": -309,
    "start_time": "2021-08-15T14:53:09.719Z"
   },
   {
    "duration": -313,
    "start_time": "2021-08-15T14:53:09.724Z"
   },
   {
    "duration": -324,
    "start_time": "2021-08-15T14:53:09.736Z"
   },
   {
    "duration": -333,
    "start_time": "2021-08-15T14:53:09.746Z"
   },
   {
    "duration": -338,
    "start_time": "2021-08-15T14:53:09.752Z"
   },
   {
    "duration": -349,
    "start_time": "2021-08-15T14:53:09.763Z"
   },
   {
    "duration": -353,
    "start_time": "2021-08-15T14:53:09.768Z"
   },
   {
    "duration": -359,
    "start_time": "2021-08-15T14:53:09.775Z"
   },
   {
    "duration": -369,
    "start_time": "2021-08-15T14:53:09.786Z"
   },
   {
    "duration": -377,
    "start_time": "2021-08-15T14:53:09.795Z"
   },
   {
    "duration": -382,
    "start_time": "2021-08-15T14:53:09.801Z"
   },
   {
    "duration": -388,
    "start_time": "2021-08-15T14:53:09.808Z"
   },
   {
    "duration": -397,
    "start_time": "2021-08-15T14:53:09.818Z"
   },
   {
    "duration": -402,
    "start_time": "2021-08-15T14:53:09.824Z"
   },
   {
    "duration": -410,
    "start_time": "2021-08-15T14:53:09.833Z"
   },
   {
    "duration": -414,
    "start_time": "2021-08-15T14:53:09.838Z"
   },
   {
    "duration": -425,
    "start_time": "2021-08-15T14:53:09.849Z"
   },
   {
    "duration": -429,
    "start_time": "2021-08-15T14:53:09.854Z"
   },
   {
    "duration": -439,
    "start_time": "2021-08-15T14:53:09.865Z"
   },
   {
    "duration": -443,
    "start_time": "2021-08-15T14:53:09.870Z"
   },
   {
    "duration": 5,
    "start_time": "2021-08-15T14:53:37.826Z"
   },
   {
    "duration": 561,
    "start_time": "2021-08-15T14:53:59.065Z"
   },
   {
    "duration": 228,
    "start_time": "2021-08-15T14:55:41.779Z"
   },
   {
    "duration": 273,
    "start_time": "2021-08-15T14:56:18.648Z"
   },
   {
    "duration": 274,
    "start_time": "2021-08-15T14:56:25.733Z"
   },
   {
    "duration": 271,
    "start_time": "2021-08-15T14:56:31.141Z"
   },
   {
    "duration": 270,
    "start_time": "2021-08-15T14:56:38.137Z"
   },
   {
    "duration": 266,
    "start_time": "2021-08-15T14:56:57.577Z"
   },
   {
    "duration": 275,
    "start_time": "2021-08-15T14:57:01.946Z"
   },
   {
    "duration": 379,
    "start_time": "2021-08-15T14:57:06.164Z"
   },
   {
    "duration": 261,
    "start_time": "2021-08-15T14:57:11.412Z"
   },
   {
    "duration": 1426,
    "start_time": "2021-08-15T14:59:29.026Z"
   },
   {
    "duration": 54,
    "start_time": "2021-08-15T14:59:30.455Z"
   },
   {
    "duration": 9,
    "start_time": "2021-08-15T14:59:30.510Z"
   },
   {
    "duration": 19,
    "start_time": "2021-08-15T14:59:30.520Z"
   },
   {
    "duration": 36,
    "start_time": "2021-08-15T14:59:30.541Z"
   },
   {
    "duration": 152,
    "start_time": "2021-08-15T14:59:30.579Z"
   },
   {
    "duration": 3209,
    "start_time": "2021-08-15T14:59:30.732Z"
   },
   {
    "duration": 133,
    "start_time": "2021-08-15T14:59:33.944Z"
   },
   {
    "duration": 19,
    "start_time": "2021-08-15T14:59:34.079Z"
   },
   {
    "duration": 53,
    "start_time": "2021-08-15T14:59:34.099Z"
   },
   {
    "duration": 4,
    "start_time": "2021-08-15T14:59:34.153Z"
   },
   {
    "duration": 287,
    "start_time": "2021-08-15T14:59:34.158Z"
   },
   {
    "duration": 217,
    "start_time": "2021-08-15T14:59:34.447Z"
   },
   {
    "duration": 4126,
    "start_time": "2021-08-15T14:59:34.666Z"
   },
   {
    "duration": 11,
    "start_time": "2021-08-15T14:59:38.794Z"
   },
   {
    "duration": 427,
    "start_time": "2021-08-15T14:59:38.806Z"
   },
   {
    "duration": 8,
    "start_time": "2021-08-15T14:59:39.234Z"
   },
   {
    "duration": 1398,
    "start_time": "2021-08-15T14:59:39.244Z"
   },
   {
    "duration": 371,
    "start_time": "2021-08-15T14:59:40.644Z"
   },
   {
    "duration": 10,
    "start_time": "2021-08-15T14:59:41.017Z"
   },
   {
    "duration": 303,
    "start_time": "2021-08-15T14:59:41.029Z"
   },
   {
    "duration": 311,
    "start_time": "2021-08-15T14:59:41.334Z"
   },
   {
    "duration": 281,
    "start_time": "2021-08-15T14:59:41.650Z"
   },
   {
    "duration": 1558,
    "start_time": "2021-08-15T14:59:41.941Z"
   },
   {
    "duration": 716,
    "start_time": "2021-08-15T14:59:43.501Z"
   },
   {
    "duration": 23,
    "start_time": "2021-08-15T14:59:44.219Z"
   },
   {
    "duration": 313,
    "start_time": "2021-08-15T14:59:44.243Z"
   },
   {
    "duration": 14,
    "start_time": "2021-08-15T14:59:44.558Z"
   },
   {
    "duration": 323,
    "start_time": "2021-08-15T14:59:44.574Z"
   },
   {
    "duration": 11,
    "start_time": "2021-08-15T14:59:44.899Z"
   },
   {
    "duration": 10,
    "start_time": "2021-08-15T14:59:44.911Z"
   },
   {
    "duration": 32,
    "start_time": "2021-08-15T14:59:44.923Z"
   },
   {
    "duration": 12,
    "start_time": "2021-08-15T14:59:44.956Z"
   },
   {
    "duration": 305,
    "start_time": "2021-08-15T14:59:44.970Z"
   },
   {
    "duration": 1713,
    "start_time": "2021-08-15T14:59:45.277Z"
   },
   {
    "duration": 1397,
    "start_time": "2021-08-15T14:59:46.992Z"
   },
   {
    "duration": 353,
    "start_time": "2021-08-16T10:29:32.819Z"
   },
   {
    "duration": 1864,
    "start_time": "2021-08-16T10:29:34.915Z"
   },
   {
    "duration": 65,
    "start_time": "2021-08-16T10:29:36.783Z"
   },
   {
    "duration": 12,
    "start_time": "2021-08-16T10:29:36.851Z"
   },
   {
    "duration": 17,
    "start_time": "2021-08-16T10:29:36.866Z"
   },
   {
    "duration": 22,
    "start_time": "2021-08-16T10:29:36.886Z"
   },
   {
    "duration": 207,
    "start_time": "2021-08-16T10:29:36.910Z"
   },
   {
    "duration": 4245,
    "start_time": "2021-08-16T10:29:37.120Z"
   },
   {
    "duration": 214,
    "start_time": "2021-08-16T10:29:41.381Z"
   },
   {
    "duration": 34,
    "start_time": "2021-08-16T10:29:41.599Z"
   },
   {
    "duration": 25,
    "start_time": "2021-08-16T10:29:41.683Z"
   },
   {
    "duration": 6,
    "start_time": "2021-08-16T10:29:41.710Z"
   },
   {
    "duration": 9,
    "start_time": "2021-08-16T10:29:41.718Z"
   },
   {
    "duration": 568,
    "start_time": "2021-08-16T10:29:41.729Z"
   },
   {
    "duration": 372,
    "start_time": "2021-08-16T10:29:42.300Z"
   },
   {
    "duration": 5200,
    "start_time": "2021-08-16T10:29:42.675Z"
   },
   {
    "duration": 14,
    "start_time": "2021-08-16T10:29:47.878Z"
   },
   {
    "duration": 462,
    "start_time": "2021-08-16T10:29:47.894Z"
   },
   {
    "duration": 24,
    "start_time": "2021-08-16T10:29:48.358Z"
   },
   {
    "duration": 2119,
    "start_time": "2021-08-16T10:29:48.384Z"
   },
   {
    "duration": 499,
    "start_time": "2021-08-16T10:29:50.506Z"
   },
   {
    "duration": 15,
    "start_time": "2021-08-16T10:29:51.007Z"
   },
   {
    "duration": 523,
    "start_time": "2021-08-16T10:29:51.025Z"
   },
   {
    "duration": 509,
    "start_time": "2021-08-16T10:29:51.553Z"
   },
   {
    "duration": 462,
    "start_time": "2021-08-16T10:29:52.065Z"
   },
   {
    "duration": 2936,
    "start_time": "2021-08-16T10:29:52.529Z"
   },
   {
    "duration": 1014,
    "start_time": "2021-08-16T10:29:55.467Z"
   },
   {
    "duration": 54673,
    "start_time": "2021-08-16T10:29:01.810Z"
   },
   {
    "duration": 54674,
    "start_time": "2021-08-16T10:29:01.811Z"
   },
   {
    "duration": 54673,
    "start_time": "2021-08-16T10:29:01.813Z"
   },
   {
    "duration": 54672,
    "start_time": "2021-08-16T10:29:01.815Z"
   },
   {
    "duration": 54673,
    "start_time": "2021-08-16T10:29:01.816Z"
   },
   {
    "duration": 54670,
    "start_time": "2021-08-16T10:29:01.820Z"
   },
   {
    "duration": 54670,
    "start_time": "2021-08-16T10:29:01.822Z"
   },
   {
    "duration": 54669,
    "start_time": "2021-08-16T10:29:01.824Z"
   },
   {
    "duration": 54657,
    "start_time": "2021-08-16T10:29:01.837Z"
   },
   {
    "duration": 54655,
    "start_time": "2021-08-16T10:29:01.840Z"
   },
   {
    "duration": 54655,
    "start_time": "2021-08-16T10:29:01.842Z"
   },
   {
    "duration": 460,
    "start_time": "2021-08-16T10:32:05.147Z"
   },
   {
    "duration": 108,
    "start_time": "2021-08-16T10:35:01.552Z"
   },
   {
    "duration": 840,
    "start_time": "2021-08-16T10:37:00.842Z"
   },
   {
    "duration": 399,
    "start_time": "2021-08-16T10:37:49.395Z"
   },
   {
    "duration": 674,
    "start_time": "2021-08-16T10:38:13.745Z"
   },
   {
    "duration": 308,
    "start_time": "2021-08-16T10:38:30.782Z"
   },
   {
    "duration": 705,
    "start_time": "2021-08-16T10:38:41.967Z"
   },
   {
    "duration": 514,
    "start_time": "2021-08-16T10:48:00.814Z"
   },
   {
    "duration": 107,
    "start_time": "2021-08-16T10:53:56.734Z"
   },
   {
    "duration": 118,
    "start_time": "2021-08-16T11:01:14.019Z"
   },
   {
    "duration": 2127,
    "start_time": "2021-08-16T13:36:23.724Z"
   },
   {
    "duration": 71,
    "start_time": "2021-08-16T13:36:25.854Z"
   },
   {
    "duration": 13,
    "start_time": "2021-08-16T13:36:25.928Z"
   },
   {
    "duration": 3,
    "start_time": "2021-08-16T13:36:25.944Z"
   },
   {
    "duration": 44,
    "start_time": "2021-08-16T13:36:25.950Z"
   },
   {
    "duration": 237,
    "start_time": "2021-08-16T13:36:25.997Z"
   },
   {
    "duration": 4274,
    "start_time": "2021-08-16T13:36:26.236Z"
   },
   {
    "duration": 233,
    "start_time": "2021-08-16T13:36:30.514Z"
   },
   {
    "duration": 47,
    "start_time": "2021-08-16T13:36:30.751Z"
   },
   {
    "duration": 26,
    "start_time": "2021-08-16T13:36:30.801Z"
   },
   {
    "duration": 6,
    "start_time": "2021-08-16T13:36:30.829Z"
   },
   {
    "duration": 503,
    "start_time": "2021-08-16T13:36:30.886Z"
   },
   {
    "duration": 491,
    "start_time": "2021-08-16T13:36:31.391Z"
   },
   {
    "duration": 5185,
    "start_time": "2021-08-16T13:36:31.884Z"
   },
   {
    "duration": 17,
    "start_time": "2021-08-16T13:36:37.072Z"
   },
   {
    "duration": 539,
    "start_time": "2021-08-16T13:36:37.091Z"
   },
   {
    "duration": 4,
    "start_time": "2021-08-16T13:36:37.632Z"
   },
   {
    "duration": 786,
    "start_time": "2021-08-16T13:36:37.638Z"
   },
   {
    "duration": 13,
    "start_time": "2021-08-16T13:36:38.427Z"
   },
   {
    "duration": 2286,
    "start_time": "2021-08-16T13:36:38.443Z"
   },
   {
    "duration": 519,
    "start_time": "2021-08-16T13:36:40.732Z"
   },
   {
    "duration": 575,
    "start_time": "2021-08-16T13:36:41.253Z"
   },
   {
    "duration": 13,
    "start_time": "2021-08-16T13:36:41.833Z"
   },
   {
    "duration": 576,
    "start_time": "2021-08-16T13:36:41.849Z"
   },
   {
    "duration": 553,
    "start_time": "2021-08-16T13:36:42.427Z"
   },
   {
    "duration": 479,
    "start_time": "2021-08-16T13:36:42.982Z"
   },
   {
    "duration": 859,
    "start_time": "2021-08-16T13:36:43.464Z"
   },
   {
    "duration": 3260,
    "start_time": "2021-08-16T13:36:44.325Z"
   },
   {
    "duration": 4862,
    "start_time": "2021-08-16T13:36:47.588Z"
   },
   {
    "duration": 34,
    "start_time": "2021-08-16T13:36:52.453Z"
   },
   {
    "duration": 559,
    "start_time": "2021-08-16T13:36:52.490Z"
   },
   {
    "duration": 35,
    "start_time": "2021-08-16T13:36:53.052Z"
   },
   {
    "duration": 557,
    "start_time": "2021-08-16T13:36:53.090Z"
   },
   {
    "duration": 35,
    "start_time": "2021-08-16T13:36:53.650Z"
   },
   {
    "duration": 14,
    "start_time": "2021-08-16T13:36:53.687Z"
   },
   {
    "duration": 30,
    "start_time": "2021-08-16T13:36:53.704Z"
   },
   {
    "duration": 50,
    "start_time": "2021-08-16T13:36:53.737Z"
   },
   {
    "duration": 587,
    "start_time": "2021-08-16T13:36:53.789Z"
   },
   {
    "duration": 3049,
    "start_time": "2021-08-16T13:36:54.385Z"
   },
   {
    "duration": 2427,
    "start_time": "2021-08-16T13:36:57.436Z"
   },
   {
    "duration": 1885,
    "start_time": "2021-08-17T07:22:58.143Z"
   },
   {
    "duration": 71,
    "start_time": "2021-08-17T07:23:00.030Z"
   },
   {
    "duration": 13,
    "start_time": "2021-08-17T07:23:00.104Z"
   },
   {
    "duration": 11,
    "start_time": "2021-08-17T07:23:00.120Z"
   },
   {
    "duration": 24,
    "start_time": "2021-08-17T07:23:00.133Z"
   },
   {
    "duration": 224,
    "start_time": "2021-08-17T07:23:00.160Z"
   },
   {
    "duration": 4178,
    "start_time": "2021-08-17T07:23:00.387Z"
   },
   {
    "duration": 215,
    "start_time": "2021-08-17T07:23:04.570Z"
   },
   {
    "duration": 26,
    "start_time": "2021-08-17T07:23:04.800Z"
   },
   {
    "duration": 74,
    "start_time": "2021-08-17T07:23:04.828Z"
   },
   {
    "duration": 6,
    "start_time": "2021-08-17T07:23:04.904Z"
   },
   {
    "duration": 478,
    "start_time": "2021-08-17T07:23:04.912Z"
   },
   {
    "duration": 362,
    "start_time": "2021-08-17T07:23:05.393Z"
   },
   {
    "duration": 4806,
    "start_time": "2021-08-17T07:23:05.758Z"
   },
   {
    "duration": 12,
    "start_time": "2021-08-17T07:23:10.567Z"
   },
   {
    "duration": 479,
    "start_time": "2021-08-17T07:23:10.602Z"
   },
   {
    "duration": 3,
    "start_time": "2021-08-17T07:23:11.084Z"
   },
   {
    "duration": 843,
    "start_time": "2021-08-17T07:23:11.100Z"
   },
   {
    "duration": 14,
    "start_time": "2021-08-17T07:23:11.946Z"
   },
   {
    "duration": 2138,
    "start_time": "2021-08-17T07:23:11.962Z"
   },
   {
    "duration": 524,
    "start_time": "2021-08-17T07:23:14.103Z"
   },
   {
    "duration": 531,
    "start_time": "2021-08-17T07:23:14.630Z"
   },
   {
    "duration": 15,
    "start_time": "2021-08-17T07:23:15.166Z"
   },
   {
    "duration": 564,
    "start_time": "2021-08-17T07:23:15.184Z"
   },
   {
    "duration": 554,
    "start_time": "2021-08-17T07:23:15.751Z"
   },
   {
    "duration": 509,
    "start_time": "2021-08-17T07:23:16.308Z"
   },
   {
    "duration": 821,
    "start_time": "2021-08-17T07:23:16.819Z"
   },
   {
    "duration": 3102,
    "start_time": "2021-08-17T07:23:17.642Z"
   },
   {
    "duration": 217,
    "start_time": "2021-08-17T07:23:20.746Z"
   },
   {
    "duration": 32,
    "start_time": "2021-08-17T07:23:20.966Z"
   },
   {
    "duration": 542,
    "start_time": "2021-08-17T07:23:21.000Z"
   },
   {
    "duration": 22,
    "start_time": "2021-08-17T07:23:21.545Z"
   },
   {
    "duration": 536,
    "start_time": "2021-08-17T07:23:21.569Z"
   },
   {
    "duration": 20,
    "start_time": "2021-08-17T07:23:22.108Z"
   },
   {
    "duration": 25,
    "start_time": "2021-08-17T07:23:22.130Z"
   },
   {
    "duration": 42,
    "start_time": "2021-08-17T07:23:22.158Z"
   },
   {
    "duration": 19,
    "start_time": "2021-08-17T07:23:22.202Z"
   },
   {
    "duration": 523,
    "start_time": "2021-08-17T07:23:22.224Z"
   },
   {
    "duration": 3055,
    "start_time": "2021-08-17T07:23:22.749Z"
   },
   {
    "duration": 2455,
    "start_time": "2021-08-17T07:23:25.806Z"
   },
   {
    "duration": 349,
    "start_time": "2021-08-17T07:24:57.354Z"
   },
   {
    "duration": 8726,
    "start_time": "2021-08-17T07:25:34.965Z"
   },
   {
    "duration": 8376,
    "start_time": "2021-08-17T07:26:32.333Z"
   },
   {
    "duration": 453,
    "start_time": "2021-08-17T07:30:40.587Z"
   },
   {
    "duration": 1068,
    "start_time": "2021-08-17T07:31:19.213Z"
   },
   {
    "duration": 1301,
    "start_time": "2021-08-17T07:32:20.176Z"
   },
   {
    "duration": 1130,
    "start_time": "2021-08-17T07:32:40.250Z"
   },
   {
    "duration": 1003,
    "start_time": "2021-08-17T07:32:52.869Z"
   },
   {
    "duration": 600,
    "start_time": "2021-08-17T07:34:54.750Z"
   },
   {
    "duration": 519,
    "start_time": "2021-08-17T07:35:02.287Z"
   },
   {
    "duration": 511,
    "start_time": "2021-08-17T09:25:07.754Z"
   },
   {
    "duration": 588,
    "start_time": "2021-08-17T09:27:02.580Z"
   },
   {
    "duration": 3223,
    "start_time": "2021-08-17T09:28:31.568Z"
   },
   {
    "duration": 867,
    "start_time": "2021-08-17T09:29:07.869Z"
   },
   {
    "duration": 2602,
    "start_time": "2021-08-17T09:29:56.098Z"
   },
   {
    "duration": 1889,
    "start_time": "2021-08-17T09:33:17.834Z"
   },
   {
    "duration": 68,
    "start_time": "2021-08-17T09:33:19.725Z"
   },
   {
    "duration": 12,
    "start_time": "2021-08-17T09:33:19.796Z"
   },
   {
    "duration": 16,
    "start_time": "2021-08-17T09:33:19.810Z"
   },
   {
    "duration": 16,
    "start_time": "2021-08-17T09:33:19.829Z"
   },
   {
    "duration": 203,
    "start_time": "2021-08-17T09:33:19.848Z"
   },
   {
    "duration": 4170,
    "start_time": "2021-08-17T09:33:20.053Z"
   },
   {
    "duration": 203,
    "start_time": "2021-08-17T09:33:24.228Z"
   },
   {
    "duration": 66,
    "start_time": "2021-08-17T09:33:24.434Z"
   },
   {
    "duration": 23,
    "start_time": "2021-08-17T09:33:24.503Z"
   },
   {
    "duration": 5,
    "start_time": "2021-08-17T09:33:24.529Z"
   },
   {
    "duration": 533,
    "start_time": "2021-08-17T09:33:24.536Z"
   },
   {
    "duration": 363,
    "start_time": "2021-08-17T09:33:25.071Z"
   },
   {
    "duration": 5089,
    "start_time": "2021-08-17T09:33:25.436Z"
   },
   {
    "duration": 13,
    "start_time": "2021-08-17T09:33:30.528Z"
   },
   {
    "duration": 495,
    "start_time": "2021-08-17T09:33:30.543Z"
   },
   {
    "duration": 4,
    "start_time": "2021-08-17T09:33:31.042Z"
   },
   {
    "duration": 768,
    "start_time": "2021-08-17T09:33:31.050Z"
   },
   {
    "duration": 14,
    "start_time": "2021-08-17T09:33:31.821Z"
   },
   {
    "duration": 2171,
    "start_time": "2021-08-17T09:33:31.838Z"
   },
   {
    "duration": 517,
    "start_time": "2021-08-17T09:33:34.013Z"
   },
   {
    "duration": 527,
    "start_time": "2021-08-17T09:33:34.533Z"
   },
   {
    "duration": 35,
    "start_time": "2021-08-17T09:33:35.065Z"
   },
   {
    "duration": 545,
    "start_time": "2021-08-17T09:33:35.103Z"
   },
   {
    "duration": 550,
    "start_time": "2021-08-17T09:33:35.650Z"
   },
   {
    "duration": 479,
    "start_time": "2021-08-17T09:33:36.203Z"
   },
   {
    "duration": 843,
    "start_time": "2021-08-17T09:33:36.685Z"
   },
   {
    "duration": 3156,
    "start_time": "2021-08-17T09:33:37.531Z"
   },
   {
    "duration": 6448,
    "start_time": "2021-08-17T09:33:40.690Z"
   },
   {
    "duration": -162,
    "start_time": "2021-08-17T09:33:47.303Z"
   },
   {
    "duration": -169,
    "start_time": "2021-08-17T09:33:47.312Z"
   },
   {
    "duration": -178,
    "start_time": "2021-08-17T09:33:47.322Z"
   },
   {
    "duration": -184,
    "start_time": "2021-08-17T09:33:47.329Z"
   },
   {
    "duration": -188,
    "start_time": "2021-08-17T09:33:47.335Z"
   },
   {
    "duration": -194,
    "start_time": "2021-08-17T09:33:47.343Z"
   },
   {
    "duration": -198,
    "start_time": "2021-08-17T09:33:47.348Z"
   },
   {
    "duration": -202,
    "start_time": "2021-08-17T09:33:47.354Z"
   },
   {
    "duration": -209,
    "start_time": "2021-08-17T09:33:47.362Z"
   },
   {
    "duration": -213,
    "start_time": "2021-08-17T09:33:47.368Z"
   },
   {
    "duration": -219,
    "start_time": "2021-08-17T09:33:47.376Z"
   },
   {
    "duration": 966,
    "start_time": "2021-08-17T09:44:13.756Z"
   },
   {
    "duration": 2011,
    "start_time": "2021-08-17T09:47:02.943Z"
   },
   {
    "duration": 72,
    "start_time": "2021-08-17T09:47:04.956Z"
   },
   {
    "duration": 15,
    "start_time": "2021-08-17T09:47:05.032Z"
   },
   {
    "duration": 12,
    "start_time": "2021-08-17T09:47:05.051Z"
   },
   {
    "duration": 42,
    "start_time": "2021-08-17T09:47:05.065Z"
   },
   {
    "duration": 216,
    "start_time": "2021-08-17T09:47:05.109Z"
   },
   {
    "duration": 4211,
    "start_time": "2021-08-17T09:47:05.328Z"
   },
   {
    "duration": 214,
    "start_time": "2021-08-17T09:47:09.543Z"
   },
   {
    "duration": 46,
    "start_time": "2021-08-17T09:47:09.760Z"
   },
   {
    "duration": 24,
    "start_time": "2021-08-17T09:47:09.808Z"
   },
   {
    "duration": 6,
    "start_time": "2021-08-17T09:47:09.834Z"
   },
   {
    "duration": 543,
    "start_time": "2021-08-17T09:47:09.842Z"
   },
   {
    "duration": 384,
    "start_time": "2021-08-17T09:47:10.387Z"
   },
   {
    "duration": 5255,
    "start_time": "2021-08-17T09:47:10.773Z"
   },
   {
    "duration": 13,
    "start_time": "2021-08-17T09:47:16.030Z"
   },
   {
    "duration": 522,
    "start_time": "2021-08-17T09:47:16.046Z"
   },
   {
    "duration": 3,
    "start_time": "2021-08-17T09:47:16.571Z"
   },
   {
    "duration": 871,
    "start_time": "2021-08-17T09:47:16.576Z"
   },
   {
    "duration": 13,
    "start_time": "2021-08-17T09:47:17.449Z"
   },
   {
    "duration": 2386,
    "start_time": "2021-08-17T09:47:17.464Z"
   },
   {
    "duration": 577,
    "start_time": "2021-08-17T09:47:19.853Z"
   },
   {
    "duration": 548,
    "start_time": "2021-08-17T09:47:20.432Z"
   },
   {
    "duration": 23,
    "start_time": "2021-08-17T09:47:20.985Z"
   },
   {
    "duration": 578,
    "start_time": "2021-08-17T09:47:21.011Z"
   },
   {
    "duration": 547,
    "start_time": "2021-08-17T09:47:21.592Z"
   },
   {
    "duration": 494,
    "start_time": "2021-08-17T09:47:22.142Z"
   },
   {
    "duration": 882,
    "start_time": "2021-08-17T09:47:22.638Z"
   },
   {
    "duration": 3426,
    "start_time": "2021-08-17T09:47:23.523Z"
   },
   {
    "duration": 1151,
    "start_time": "2021-08-17T09:47:26.951Z"
   },
   {
    "duration": -176,
    "start_time": "2021-08-17T09:47:28.280Z"
   },
   {
    "duration": -192,
    "start_time": "2021-08-17T09:47:28.298Z"
   },
   {
    "duration": -197,
    "start_time": "2021-08-17T09:47:28.304Z"
   },
   {
    "duration": -201,
    "start_time": "2021-08-17T09:47:28.310Z"
   },
   {
    "duration": -206,
    "start_time": "2021-08-17T09:47:28.316Z"
   },
   {
    "duration": -217,
    "start_time": "2021-08-17T09:47:28.329Z"
   },
   {
    "duration": -223,
    "start_time": "2021-08-17T09:47:28.336Z"
   },
   {
    "duration": -232,
    "start_time": "2021-08-17T09:47:28.347Z"
   },
   {
    "duration": -247,
    "start_time": "2021-08-17T09:47:28.363Z"
   },
   {
    "duration": -260,
    "start_time": "2021-08-17T09:47:28.378Z"
   },
   {
    "duration": -267,
    "start_time": "2021-08-17T09:47:28.386Z"
   },
   {
    "duration": -276,
    "start_time": "2021-08-17T09:47:28.397Z"
   },
   {
    "duration": 32,
    "start_time": "2021-08-17T09:47:34.999Z"
   },
   {
    "duration": 445,
    "start_time": "2021-08-17T09:49:03.972Z"
   },
   {
    "duration": 11,
    "start_time": "2021-08-17T09:49:06.558Z"
   },
   {
    "duration": 1470,
    "start_time": "2021-08-17T09:49:24.729Z"
   },
   {
    "duration": 30,
    "start_time": "2021-08-17T09:49:32.144Z"
   },
   {
    "duration": 6467,
    "start_time": "2021-08-17T09:50:09.501Z"
   },
   {
    "duration": 31,
    "start_time": "2021-08-17T09:50:32.484Z"
   },
   {
    "duration": 2188,
    "start_time": "2021-08-17T09:50:46.334Z"
   },
   {
    "duration": 99,
    "start_time": "2021-08-17T09:50:48.525Z"
   },
   {
    "duration": 12,
    "start_time": "2021-08-17T09:50:48.626Z"
   },
   {
    "duration": 22,
    "start_time": "2021-08-17T09:50:48.641Z"
   },
   {
    "duration": 25,
    "start_time": "2021-08-17T09:50:48.666Z"
   },
   {
    "duration": 325,
    "start_time": "2021-08-17T09:50:48.693Z"
   },
   {
    "duration": 4926,
    "start_time": "2021-08-17T09:50:49.020Z"
   },
   {
    "duration": 213,
    "start_time": "2021-08-17T09:50:53.951Z"
   },
   {
    "duration": 47,
    "start_time": "2021-08-17T09:50:54.167Z"
   },
   {
    "duration": 25,
    "start_time": "2021-08-17T09:50:54.216Z"
   },
   {
    "duration": 5,
    "start_time": "2021-08-17T09:50:54.243Z"
   },
   {
    "duration": 500,
    "start_time": "2021-08-17T09:50:54.301Z"
   },
   {
    "duration": 374,
    "start_time": "2021-08-17T09:50:54.803Z"
   },
   {
    "duration": 5036,
    "start_time": "2021-08-17T09:50:55.180Z"
   },
   {
    "duration": 13,
    "start_time": "2021-08-17T09:51:00.219Z"
   },
   {
    "duration": 522,
    "start_time": "2021-08-17T09:51:00.235Z"
   },
   {
    "duration": 5,
    "start_time": "2021-08-17T09:51:00.760Z"
   },
   {
    "duration": 755,
    "start_time": "2021-08-17T09:51:00.767Z"
   },
   {
    "duration": 14,
    "start_time": "2021-08-17T09:51:01.525Z"
   },
   {
    "duration": 2271,
    "start_time": "2021-08-17T09:51:01.541Z"
   },
   {
    "duration": 522,
    "start_time": "2021-08-17T09:51:03.814Z"
   },
   {
    "duration": 525,
    "start_time": "2021-08-17T09:51:04.339Z"
   },
   {
    "duration": 14,
    "start_time": "2021-08-17T09:51:04.869Z"
   },
   {
    "duration": 545,
    "start_time": "2021-08-17T09:51:04.901Z"
   },
   {
    "duration": 527,
    "start_time": "2021-08-17T09:51:05.448Z"
   },
   {
    "duration": 629,
    "start_time": "2021-08-17T09:51:05.978Z"
   },
   {
    "duration": 860,
    "start_time": "2021-08-17T09:51:06.610Z"
   },
   {
    "duration": 3195,
    "start_time": "2021-08-17T09:51:07.473Z"
   },
   {
    "duration": 8031,
    "start_time": "2021-08-17T09:51:10.670Z"
   },
   {
    "duration": -182,
    "start_time": "2021-08-17T09:51:18.886Z"
   },
   {
    "duration": -188,
    "start_time": "2021-08-17T09:51:18.893Z"
   },
   {
    "duration": -199,
    "start_time": "2021-08-17T09:51:18.906Z"
   },
   {
    "duration": -209,
    "start_time": "2021-08-17T09:51:18.917Z"
   },
   {
    "duration": -213,
    "start_time": "2021-08-17T09:51:18.923Z"
   },
   {
    "duration": -223,
    "start_time": "2021-08-17T09:51:18.935Z"
   },
   {
    "duration": -229,
    "start_time": "2021-08-17T09:51:18.942Z"
   },
   {
    "duration": -237,
    "start_time": "2021-08-17T09:51:18.952Z"
   },
   {
    "duration": -241,
    "start_time": "2021-08-17T09:51:18.957Z"
   },
   {
    "duration": -250,
    "start_time": "2021-08-17T09:51:18.968Z"
   },
   {
    "duration": -253,
    "start_time": "2021-08-17T09:51:18.973Z"
   },
   {
    "duration": -264,
    "start_time": "2021-08-17T09:51:18.985Z"
   },
   {
    "duration": 375,
    "start_time": "2021-08-17T09:51:25.033Z"
   },
   {
    "duration": 994,
    "start_time": "2021-08-17T09:51:39.047Z"
   },
   {
    "duration": 30,
    "start_time": "2021-08-17T09:51:42.648Z"
   },
   {
    "duration": 916,
    "start_time": "2021-08-17T09:55:38.893Z"
   },
   {
    "duration": 19,
    "start_time": "2021-08-17T09:55:42.994Z"
   },
   {
    "duration": 1114,
    "start_time": "2021-08-17T09:56:56.221Z"
   },
   {
    "duration": 10,
    "start_time": "2021-08-17T09:57:00.355Z"
   },
   {
    "duration": 6476,
    "start_time": "2021-08-17T09:57:10.056Z"
   },
   {
    "duration": 12,
    "start_time": "2021-08-17T09:57:27.209Z"
   },
   {
    "duration": 6658,
    "start_time": "2021-08-17T09:57:50.495Z"
   },
   {
    "duration": 6550,
    "start_time": "2021-08-17T09:58:03.105Z"
   },
   {
    "duration": 6447,
    "start_time": "2021-08-17T09:58:23.311Z"
   },
   {
    "duration": -163,
    "start_time": "2021-08-17T09:58:29.923Z"
   },
   {
    "duration": 10,
    "start_time": "2021-08-17T09:58:36.951Z"
   },
   {
    "duration": 2181,
    "start_time": "2021-08-17T09:59:02.876Z"
   },
   {
    "duration": 9,
    "start_time": "2021-08-17T09:59:08.227Z"
   },
   {
    "duration": 2112,
    "start_time": "2021-08-17T09:59:13.548Z"
   },
   {
    "duration": 10,
    "start_time": "2021-08-17T09:59:18.300Z"
   },
   {
    "duration": 6254,
    "start_time": "2021-08-17T09:59:29.921Z"
   },
   {
    "duration": 9,
    "start_time": "2021-08-17T09:59:39.121Z"
   },
   {
    "duration": 452,
    "start_time": "2021-08-17T09:59:56.199Z"
   },
   {
    "duration": 1892,
    "start_time": "2021-08-17T10:02:12.132Z"
   },
   {
    "duration": 68,
    "start_time": "2021-08-17T10:02:14.027Z"
   },
   {
    "duration": 12,
    "start_time": "2021-08-17T10:02:14.098Z"
   },
   {
    "duration": 19,
    "start_time": "2021-08-17T10:02:14.112Z"
   },
   {
    "duration": 31,
    "start_time": "2021-08-17T10:02:14.133Z"
   },
   {
    "duration": 215,
    "start_time": "2021-08-17T10:02:14.166Z"
   },
   {
    "duration": 4168,
    "start_time": "2021-08-17T10:02:14.383Z"
   },
   {
    "duration": 202,
    "start_time": "2021-08-17T10:02:18.556Z"
   },
   {
    "duration": 51,
    "start_time": "2021-08-17T10:02:18.762Z"
   },
   {
    "duration": 25,
    "start_time": "2021-08-17T10:02:18.816Z"
   },
   {
    "duration": 57,
    "start_time": "2021-08-17T10:02:18.843Z"
   },
   {
    "duration": 477,
    "start_time": "2021-08-17T10:02:18.903Z"
   },
   {
    "duration": 355,
    "start_time": "2021-08-17T10:02:19.383Z"
   },
   {
    "duration": 5860,
    "start_time": "2021-08-17T10:02:19.742Z"
   },
   {
    "duration": 13,
    "start_time": "2021-08-17T10:02:25.604Z"
   },
   {
    "duration": 596,
    "start_time": "2021-08-17T10:02:25.620Z"
   },
   {
    "duration": 4,
    "start_time": "2021-08-17T10:02:26.219Z"
   },
   {
    "duration": 869,
    "start_time": "2021-08-17T10:02:26.226Z"
   },
   {
    "duration": 14,
    "start_time": "2021-08-17T10:02:27.101Z"
   },
   {
    "duration": 2223,
    "start_time": "2021-08-17T10:02:27.118Z"
   },
   {
    "duration": 550,
    "start_time": "2021-08-17T10:02:29.343Z"
   },
   {
    "duration": 581,
    "start_time": "2021-08-17T10:02:29.896Z"
   },
   {
    "duration": 23,
    "start_time": "2021-08-17T10:02:30.482Z"
   },
   {
    "duration": 569,
    "start_time": "2021-08-17T10:02:30.508Z"
   },
   {
    "duration": 567,
    "start_time": "2021-08-17T10:02:31.080Z"
   },
   {
    "duration": 490,
    "start_time": "2021-08-17T10:02:31.650Z"
   },
   {
    "duration": 885,
    "start_time": "2021-08-17T10:02:32.142Z"
   },
   {
    "duration": 3356,
    "start_time": "2021-08-17T10:02:33.030Z"
   },
   {
    "duration": 148,
    "start_time": "2021-08-17T10:02:36.388Z"
   },
   {
    "duration": 32,
    "start_time": "2021-08-17T10:02:36.539Z"
   },
   {
    "duration": 532,
    "start_time": "2021-08-17T10:02:36.574Z"
   },
   {
    "duration": 25,
    "start_time": "2021-08-17T10:02:37.109Z"
   },
   {
    "duration": 542,
    "start_time": "2021-08-17T10:02:37.136Z"
   },
   {
    "duration": 29,
    "start_time": "2021-08-17T10:02:37.680Z"
   },
   {
    "duration": 26,
    "start_time": "2021-08-17T10:02:37.712Z"
   },
   {
    "duration": 36,
    "start_time": "2021-08-17T10:02:37.741Z"
   },
   {
    "duration": 36,
    "start_time": "2021-08-17T10:02:37.780Z"
   },
   {
    "duration": 551,
    "start_time": "2021-08-17T10:02:37.818Z"
   },
   {
    "duration": 1080,
    "start_time": "2021-08-17T10:02:38.372Z"
   },
   {
    "duration": 2704,
    "start_time": "2021-08-17T10:02:39.455Z"
   },
   {
    "duration": 2145,
    "start_time": "2021-08-17T11:58:49.010Z"
   },
   {
    "duration": 74,
    "start_time": "2021-08-17T11:58:51.158Z"
   },
   {
    "duration": 17,
    "start_time": "2021-08-17T11:58:51.236Z"
   },
   {
    "duration": 6,
    "start_time": "2021-08-17T11:58:51.257Z"
   },
   {
    "duration": 50,
    "start_time": "2021-08-17T11:58:51.266Z"
   },
   {
    "duration": 266,
    "start_time": "2021-08-17T11:58:51.321Z"
   },
   {
    "duration": 4277,
    "start_time": "2021-08-17T11:58:51.590Z"
   },
   {
    "duration": 212,
    "start_time": "2021-08-17T11:58:55.869Z"
   },
   {
    "duration": 38,
    "start_time": "2021-08-17T11:58:56.083Z"
   },
   {
    "duration": 25,
    "start_time": "2021-08-17T11:58:56.123Z"
   },
   {
    "duration": 50,
    "start_time": "2021-08-17T11:58:56.150Z"
   },
   {
    "duration": 585,
    "start_time": "2021-08-17T11:58:56.203Z"
   },
   {
    "duration": 467,
    "start_time": "2021-08-17T11:58:56.790Z"
   },
   {
    "duration": 5433,
    "start_time": "2021-08-17T11:58:57.259Z"
   },
   {
    "duration": 17,
    "start_time": "2021-08-17T11:59:02.694Z"
   },
   {
    "duration": 511,
    "start_time": "2021-08-17T11:59:02.714Z"
   },
   {
    "duration": 3,
    "start_time": "2021-08-17T11:59:03.227Z"
   },
   {
    "duration": 857,
    "start_time": "2021-08-17T11:59:03.235Z"
   },
   {
    "duration": 13,
    "start_time": "2021-08-17T11:59:04.095Z"
   },
   {
    "duration": 2101,
    "start_time": "2021-08-17T11:59:04.110Z"
   },
   {
    "duration": 519,
    "start_time": "2021-08-17T11:59:06.213Z"
   },
   {
    "duration": 524,
    "start_time": "2021-08-17T11:59:06.735Z"
   },
   {
    "duration": 15,
    "start_time": "2021-08-17T11:59:07.262Z"
   },
   {
    "duration": 566,
    "start_time": "2021-08-17T11:59:07.280Z"
   },
   {
    "duration": 655,
    "start_time": "2021-08-17T11:59:07.849Z"
   },
   {
    "duration": 477,
    "start_time": "2021-08-17T11:59:08.507Z"
   },
   {
    "duration": 955,
    "start_time": "2021-08-17T11:59:08.986Z"
   },
   {
    "duration": 3478,
    "start_time": "2021-08-17T11:59:09.944Z"
   },
   {
    "duration": 130,
    "start_time": "2021-08-17T11:59:13.424Z"
   },
   {
    "duration": -101,
    "start_time": "2021-08-17T11:59:13.658Z"
   },
   {
    "duration": -115,
    "start_time": "2021-08-17T11:59:13.674Z"
   },
   {
    "duration": -122,
    "start_time": "2021-08-17T11:59:13.682Z"
   },
   {
    "duration": -128,
    "start_time": "2021-08-17T11:59:13.690Z"
   },
   {
    "duration": -140,
    "start_time": "2021-08-17T11:59:13.704Z"
   },
   {
    "duration": -147,
    "start_time": "2021-08-17T11:59:13.712Z"
   },
   {
    "duration": -156,
    "start_time": "2021-08-17T11:59:13.723Z"
   },
   {
    "duration": -166,
    "start_time": "2021-08-17T11:59:13.734Z"
   },
   {
    "duration": -169,
    "start_time": "2021-08-17T11:59:13.739Z"
   },
   {
    "duration": -178,
    "start_time": "2021-08-17T11:59:13.749Z"
   },
   {
    "duration": -181,
    "start_time": "2021-08-17T11:59:13.754Z"
   },
   {
    "duration": -186,
    "start_time": "2021-08-17T11:59:13.760Z"
   },
   {
    "duration": 130,
    "start_time": "2021-08-17T11:59:39.701Z"
   },
   {
    "duration": 621,
    "start_time": "2021-08-17T12:00:54.251Z"
   },
   {
    "duration": 131,
    "start_time": "2021-08-17T12:03:50.217Z"
   },
   {
    "duration": 140,
    "start_time": "2021-08-17T12:05:39.281Z"
   },
   {
    "duration": 124,
    "start_time": "2021-08-17T12:05:54.094Z"
   },
   {
    "duration": 933,
    "start_time": "2021-08-17T12:06:01.980Z"
   },
   {
    "duration": 2100,
    "start_time": "2021-08-17T12:06:42.366Z"
   },
   {
    "duration": 72,
    "start_time": "2021-08-17T12:06:44.469Z"
   },
   {
    "duration": 13,
    "start_time": "2021-08-17T12:06:44.544Z"
   },
   {
    "duration": 13,
    "start_time": "2021-08-17T12:06:44.559Z"
   },
   {
    "duration": 34,
    "start_time": "2021-08-17T12:06:44.575Z"
   },
   {
    "duration": 216,
    "start_time": "2021-08-17T12:06:44.611Z"
   },
   {
    "duration": 4286,
    "start_time": "2021-08-17T12:06:44.830Z"
   },
   {
    "duration": 218,
    "start_time": "2021-08-17T12:06:49.121Z"
   },
   {
    "duration": 68,
    "start_time": "2021-08-17T12:06:49.343Z"
   },
   {
    "duration": 25,
    "start_time": "2021-08-17T12:06:49.413Z"
   },
   {
    "duration": 11,
    "start_time": "2021-08-17T12:06:49.441Z"
   },
   {
    "duration": 502,
    "start_time": "2021-08-17T12:06:49.501Z"
   },
   {
    "duration": 366,
    "start_time": "2021-08-17T12:06:50.006Z"
   },
   {
    "duration": 5018,
    "start_time": "2021-08-17T12:06:50.375Z"
   },
   {
    "duration": 14,
    "start_time": "2021-08-17T12:06:55.395Z"
   },
   {
    "duration": 499,
    "start_time": "2021-08-17T12:06:55.412Z"
   },
   {
    "duration": 3,
    "start_time": "2021-08-17T12:06:55.914Z"
   },
   {
    "duration": 1011,
    "start_time": "2021-08-17T12:06:55.919Z"
   },
   {
    "duration": 13,
    "start_time": "2021-08-17T12:06:56.932Z"
   },
   {
    "duration": 2032,
    "start_time": "2021-08-17T12:06:56.947Z"
   },
   {
    "duration": 534,
    "start_time": "2021-08-17T12:06:58.981Z"
   },
   {
    "duration": 538,
    "start_time": "2021-08-17T12:06:59.517Z"
   },
   {
    "duration": 15,
    "start_time": "2021-08-17T12:07:00.060Z"
   },
   {
    "duration": 566,
    "start_time": "2021-08-17T12:07:00.078Z"
   },
   {
    "duration": 636,
    "start_time": "2021-08-17T12:07:00.647Z"
   },
   {
    "duration": 489,
    "start_time": "2021-08-17T12:07:01.286Z"
   },
   {
    "duration": 844,
    "start_time": "2021-08-17T12:07:01.778Z"
   },
   {
    "duration": 3194,
    "start_time": "2021-08-17T12:07:02.625Z"
   },
   {
    "duration": 989,
    "start_time": "2021-08-17T12:07:05.822Z"
   },
   {
    "duration": 30,
    "start_time": "2021-08-17T12:07:06.814Z"
   },
   {
    "duration": 528,
    "start_time": "2021-08-17T12:07:06.847Z"
   },
   {
    "duration": 32,
    "start_time": "2021-08-17T12:07:07.378Z"
   },
   {
    "duration": 539,
    "start_time": "2021-08-17T12:07:07.413Z"
   },
   {
    "duration": 18,
    "start_time": "2021-08-17T12:07:07.955Z"
   },
   {
    "duration": 37,
    "start_time": "2021-08-17T12:07:07.976Z"
   },
   {
    "duration": 28,
    "start_time": "2021-08-17T12:07:08.016Z"
   },
   {
    "duration": 56,
    "start_time": "2021-08-17T12:07:08.047Z"
   },
   {
    "duration": 531,
    "start_time": "2021-08-17T12:07:08.106Z"
   },
   {
    "duration": 918,
    "start_time": "2021-08-17T12:07:08.640Z"
   },
   {
    "duration": 2384,
    "start_time": "2021-08-17T12:07:09.561Z"
   },
   {
    "duration": 2476,
    "start_time": "2021-08-17T13:35:21.141Z"
   },
   {
    "duration": 2369,
    "start_time": "2021-08-17T13:35:28.789Z"
   },
   {
    "duration": 2100,
    "start_time": "2021-08-17T13:36:50.651Z"
   },
   {
    "duration": 68,
    "start_time": "2021-08-17T13:36:52.754Z"
   },
   {
    "duration": 12,
    "start_time": "2021-08-17T13:36:52.825Z"
   },
   {
    "duration": 14,
    "start_time": "2021-08-17T13:36:52.840Z"
   },
   {
    "duration": 27,
    "start_time": "2021-08-17T13:36:52.856Z"
   },
   {
    "duration": 235,
    "start_time": "2021-08-17T13:36:52.885Z"
   },
   {
    "duration": 4247,
    "start_time": "2021-08-17T13:36:53.122Z"
   },
   {
    "duration": 211,
    "start_time": "2021-08-17T13:36:57.375Z"
   },
   {
    "duration": 42,
    "start_time": "2021-08-17T13:36:57.589Z"
   },
   {
    "duration": 85,
    "start_time": "2021-08-17T13:36:57.634Z"
   },
   {
    "duration": 6,
    "start_time": "2021-08-17T13:36:57.722Z"
   },
   {
    "duration": 505,
    "start_time": "2021-08-17T13:36:57.731Z"
   },
   {
    "duration": 366,
    "start_time": "2021-08-17T13:36:58.238Z"
   },
   {
    "duration": 5039,
    "start_time": "2021-08-17T13:36:58.606Z"
   },
   {
    "duration": 12,
    "start_time": "2021-08-17T13:37:03.648Z"
   },
   {
    "duration": 500,
    "start_time": "2021-08-17T13:37:03.662Z"
   },
   {
    "duration": 3,
    "start_time": "2021-08-17T13:37:04.165Z"
   },
   {
    "duration": 854,
    "start_time": "2021-08-17T13:37:04.170Z"
   },
   {
    "duration": 15,
    "start_time": "2021-08-17T13:37:05.026Z"
   },
   {
    "duration": 2043,
    "start_time": "2021-08-17T13:37:05.043Z"
   },
   {
    "duration": 538,
    "start_time": "2021-08-17T13:37:07.089Z"
   },
   {
    "duration": 532,
    "start_time": "2021-08-17T13:37:07.630Z"
   },
   {
    "duration": 14,
    "start_time": "2021-08-17T13:37:08.168Z"
   },
   {
    "duration": 561,
    "start_time": "2021-08-17T13:37:08.200Z"
   },
   {
    "duration": 539,
    "start_time": "2021-08-17T13:37:08.764Z"
   },
   {
    "duration": 465,
    "start_time": "2021-08-17T13:37:09.306Z"
   },
   {
    "duration": 844,
    "start_time": "2021-08-17T13:37:09.775Z"
   },
   {
    "duration": 3281,
    "start_time": "2021-08-17T13:37:10.622Z"
   },
   {
    "duration": 1282,
    "start_time": "2021-08-17T13:37:13.905Z"
   },
   {
    "duration": 33,
    "start_time": "2021-08-17T13:37:15.190Z"
   },
   {
    "duration": 529,
    "start_time": "2021-08-17T13:37:15.225Z"
   },
   {
    "duration": 23,
    "start_time": "2021-08-17T13:37:15.756Z"
   },
   {
    "duration": 588,
    "start_time": "2021-08-17T13:37:15.781Z"
   },
   {
    "duration": 31,
    "start_time": "2021-08-17T13:37:16.372Z"
   },
   {
    "duration": 23,
    "start_time": "2021-08-17T13:37:16.406Z"
   },
   {
    "duration": 31,
    "start_time": "2021-08-17T13:37:16.432Z"
   },
   {
    "duration": 52,
    "start_time": "2021-08-17T13:37:16.466Z"
   },
   {
    "duration": 545,
    "start_time": "2021-08-17T13:37:16.520Z"
   },
   {
    "duration": 910,
    "start_time": "2021-08-17T13:37:17.068Z"
   },
   {
    "duration": 2387,
    "start_time": "2021-08-17T13:37:17.980Z"
   },
   {
    "duration": 6001,
    "start_time": "2021-08-17T14:23:41.051Z"
   },
   {
    "duration": 207,
    "start_time": "2021-08-17T14:23:49.587Z"
   },
   {
    "duration": 6,
    "start_time": "2021-08-17T14:25:08.192Z"
   },
   {
    "duration": 6,
    "start_time": "2021-08-17T14:25:48.572Z"
   },
   {
    "duration": 6,
    "start_time": "2021-08-17T15:55:53.185Z"
   },
   {
    "duration": 6,
    "start_time": "2021-08-17T15:56:33.228Z"
   },
   {
    "duration": 7,
    "start_time": "2021-08-17T15:56:59.060Z"
   },
   {
    "duration": 7,
    "start_time": "2021-08-17T15:57:12.005Z"
   },
   {
    "duration": 7,
    "start_time": "2021-08-17T15:57:58.440Z"
   },
   {
    "duration": 6,
    "start_time": "2021-08-17T15:58:17.180Z"
   },
   {
    "duration": 7,
    "start_time": "2021-08-17T15:59:13.027Z"
   },
   {
    "duration": 127,
    "start_time": "2021-08-17T15:59:34.419Z"
   },
   {
    "duration": 5978,
    "start_time": "2021-08-17T15:59:47.956Z"
   },
   {
    "duration": 201,
    "start_time": "2021-08-17T15:59:56.737Z"
   },
   {
    "duration": 7,
    "start_time": "2021-08-17T16:00:57.518Z"
   },
   {
    "duration": 6,
    "start_time": "2021-08-17T16:02:00.509Z"
   },
   {
    "duration": 6,
    "start_time": "2021-08-17T16:02:41.951Z"
   },
   {
    "duration": 6,
    "start_time": "2021-08-17T16:02:57.831Z"
   },
   {
    "duration": 6,
    "start_time": "2021-08-17T16:03:52.753Z"
   },
   {
    "duration": 6,
    "start_time": "2021-08-17T16:04:43.611Z"
   },
   {
    "duration": 6,
    "start_time": "2021-08-17T16:05:27.060Z"
   },
   {
    "duration": 7,
    "start_time": "2021-08-17T16:06:08.062Z"
   },
   {
    "duration": 6,
    "start_time": "2021-08-17T16:06:26.820Z"
   },
   {
    "duration": 6554,
    "start_time": "2021-08-17T16:06:46.285Z"
   },
   {
    "duration": 6,
    "start_time": "2021-08-17T16:07:31.540Z"
   },
   {
    "duration": 7,
    "start_time": "2021-08-17T16:08:01.957Z"
   },
   {
    "duration": 5814,
    "start_time": "2021-08-17T16:08:47.086Z"
   },
   {
    "duration": 2122,
    "start_time": "2021-08-17T16:09:04.646Z"
   },
   {
    "duration": 70,
    "start_time": "2021-08-17T16:09:06.771Z"
   },
   {
    "duration": 12,
    "start_time": "2021-08-17T16:09:06.844Z"
   },
   {
    "duration": 6,
    "start_time": "2021-08-17T16:09:06.859Z"
   },
   {
    "duration": 43,
    "start_time": "2021-08-17T16:09:06.867Z"
   },
   {
    "duration": 210,
    "start_time": "2021-08-17T16:09:06.912Z"
   },
   {
    "duration": 4629,
    "start_time": "2021-08-17T16:09:07.124Z"
   },
   {
    "duration": 198,
    "start_time": "2021-08-17T16:09:11.757Z"
   },
   {
    "duration": 51,
    "start_time": "2021-08-17T16:09:11.958Z"
   },
   {
    "duration": 25,
    "start_time": "2021-08-17T16:09:12.012Z"
   },
   {
    "duration": 19,
    "start_time": "2021-08-17T16:09:12.039Z"
   },
   {
    "duration": 495,
    "start_time": "2021-08-17T16:09:12.102Z"
   },
   {
    "duration": 402,
    "start_time": "2021-08-17T16:09:12.601Z"
   },
   {
    "duration": 4987,
    "start_time": "2021-08-17T16:09:13.005Z"
   },
   {
    "duration": 13,
    "start_time": "2021-08-17T16:09:17.995Z"
   },
   {
    "duration": 506,
    "start_time": "2021-08-17T16:09:18.010Z"
   },
   {
    "duration": 3,
    "start_time": "2021-08-17T16:09:18.519Z"
   },
   {
    "duration": 933,
    "start_time": "2021-08-17T16:09:18.524Z"
   },
   {
    "duration": 13,
    "start_time": "2021-08-17T16:09:19.459Z"
   },
   {
    "duration": 2010,
    "start_time": "2021-08-17T16:09:19.474Z"
   },
   {
    "duration": 531,
    "start_time": "2021-08-17T16:09:21.487Z"
   },
   {
    "duration": 528,
    "start_time": "2021-08-17T16:09:22.021Z"
   },
   {
    "duration": 14,
    "start_time": "2021-08-17T16:09:22.554Z"
   },
   {
    "duration": 643,
    "start_time": "2021-08-17T16:09:22.571Z"
   },
   {
    "duration": 529,
    "start_time": "2021-08-17T16:09:23.216Z"
   },
   {
    "duration": 465,
    "start_time": "2021-08-17T16:09:23.748Z"
   },
   {
    "duration": 841,
    "start_time": "2021-08-17T16:09:24.216Z"
   },
   {
    "duration": 3283,
    "start_time": "2021-08-17T16:09:25.060Z"
   },
   {
    "duration": 1168,
    "start_time": "2021-08-17T16:09:28.345Z"
   },
   {
    "duration": 30,
    "start_time": "2021-08-17T16:09:29.515Z"
   },
   {
    "duration": 535,
    "start_time": "2021-08-17T16:09:29.548Z"
   },
   {
    "duration": 26,
    "start_time": "2021-08-17T16:09:30.086Z"
   },
   {
    "duration": 528,
    "start_time": "2021-08-17T16:09:30.114Z"
   },
   {
    "duration": 17,
    "start_time": "2021-08-17T16:09:30.644Z"
   },
   {
    "duration": 40,
    "start_time": "2021-08-17T16:09:30.663Z"
   },
   {
    "duration": 31,
    "start_time": "2021-08-17T16:09:30.705Z"
   },
   {
    "duration": 21,
    "start_time": "2021-08-17T16:09:30.739Z"
   },
   {
    "duration": 545,
    "start_time": "2021-08-17T16:09:30.764Z"
   },
   {
    "duration": 938,
    "start_time": "2021-08-17T16:09:31.312Z"
   },
   {
    "duration": 2329,
    "start_time": "2021-08-17T16:09:32.253Z"
   },
   {
    "duration": 22,
    "start_time": "2021-08-17T16:21:40.102Z"
   },
   {
    "duration": 9,
    "start_time": "2021-08-17T16:22:23.286Z"
   },
   {
    "duration": 700,
    "start_time": "2021-08-17T16:24:06.532Z"
   },
   {
    "duration": 24,
    "start_time": "2021-08-17T16:24:15.485Z"
   },
   {
    "duration": 11,
    "start_time": "2021-08-17T16:24:28.384Z"
   },
   {
    "duration": 10,
    "start_time": "2021-08-17T16:24:35.792Z"
   },
   {
    "duration": 11,
    "start_time": "2021-08-17T16:24:49.124Z"
   },
   {
    "duration": 9,
    "start_time": "2021-08-17T16:26:36.241Z"
   },
   {
    "duration": 15,
    "start_time": "2021-08-17T16:26:44.977Z"
   },
   {
    "duration": 23,
    "start_time": "2021-08-17T16:27:03.383Z"
   },
   {
    "duration": 22,
    "start_time": "2021-08-17T16:27:10.847Z"
   },
   {
    "duration": 2096,
    "start_time": "2021-08-17T16:28:17.878Z"
   },
   {
    "duration": 78,
    "start_time": "2021-08-17T16:28:19.976Z"
   },
   {
    "duration": 12,
    "start_time": "2021-08-17T16:28:20.057Z"
   },
   {
    "duration": 14,
    "start_time": "2021-08-17T16:28:20.071Z"
   },
   {
    "duration": 27,
    "start_time": "2021-08-17T16:28:20.087Z"
   },
   {
    "duration": 219,
    "start_time": "2021-08-17T16:28:20.116Z"
   },
   {
    "duration": 4338,
    "start_time": "2021-08-17T16:28:20.337Z"
   },
   {
    "duration": 191,
    "start_time": "2021-08-17T16:28:24.679Z"
   },
   {
    "duration": 30,
    "start_time": "2021-08-17T16:28:24.873Z"
   },
   {
    "duration": 24,
    "start_time": "2021-08-17T16:28:24.906Z"
   },
   {
    "duration": 10,
    "start_time": "2021-08-17T16:28:24.932Z"
   },
   {
    "duration": 515,
    "start_time": "2021-08-17T16:28:24.944Z"
   },
   {
    "duration": 384,
    "start_time": "2021-08-17T16:28:25.461Z"
   },
   {
    "duration": 5482,
    "start_time": "2021-08-17T16:28:25.848Z"
   },
   {
    "duration": 14,
    "start_time": "2021-08-17T16:28:31.333Z"
   },
   {
    "duration": 555,
    "start_time": "2021-08-17T16:28:31.349Z"
   },
   {
    "duration": 3,
    "start_time": "2021-08-17T16:28:31.907Z"
   },
   {
    "duration": 844,
    "start_time": "2021-08-17T16:28:31.913Z"
   },
   {
    "duration": 13,
    "start_time": "2021-08-17T16:28:32.760Z"
   },
   {
    "duration": 1997,
    "start_time": "2021-08-17T16:28:32.776Z"
   },
   {
    "duration": 546,
    "start_time": "2021-08-17T16:28:34.776Z"
   },
   {
    "duration": 529,
    "start_time": "2021-08-17T16:28:35.325Z"
   },
   {
    "duration": 10,
    "start_time": "2021-08-17T16:28:35.860Z"
   },
   {
    "duration": 42,
    "start_time": "2021-08-17T16:28:35.873Z"
   },
   {
    "duration": 25,
    "start_time": "2021-08-17T16:28:35.917Z"
   },
   {
    "duration": 9871,
    "start_time": "2021-08-17T16:28:35.944Z"
   },
   {
    "duration": -41,
    "start_time": "2021-08-17T16:28:45.860Z"
   },
   {
    "duration": -45,
    "start_time": "2021-08-17T16:28:45.866Z"
   },
   {
    "duration": -55,
    "start_time": "2021-08-17T16:28:45.878Z"
   },
   {
    "duration": -65,
    "start_time": "2021-08-17T16:28:45.890Z"
   },
   {
    "duration": -67,
    "start_time": "2021-08-17T16:28:45.895Z"
   },
   {
    "duration": -77,
    "start_time": "2021-08-17T16:28:45.907Z"
   },
   {
    "duration": -79,
    "start_time": "2021-08-17T16:28:45.911Z"
   },
   {
    "duration": -96,
    "start_time": "2021-08-17T16:28:45.930Z"
   },
   {
    "duration": -105,
    "start_time": "2021-08-17T16:28:45.942Z"
   },
   {
    "duration": -108,
    "start_time": "2021-08-17T16:28:45.947Z"
   },
   {
    "duration": -117,
    "start_time": "2021-08-17T16:28:45.958Z"
   },
   {
    "duration": -138,
    "start_time": "2021-08-17T16:28:45.981Z"
   },
   {
    "duration": -148,
    "start_time": "2021-08-17T16:28:45.994Z"
   },
   {
    "duration": -159,
    "start_time": "2021-08-17T16:28:46.007Z"
   },
   {
    "duration": -162,
    "start_time": "2021-08-17T16:28:46.012Z"
   },
   {
    "duration": -171,
    "start_time": "2021-08-17T16:28:46.023Z"
   },
   {
    "duration": -174,
    "start_time": "2021-08-17T16:28:46.029Z"
   },
   {
    "duration": -140,
    "start_time": "2021-08-17T16:28:46.039Z"
   },
   {
    "duration": -142,
    "start_time": "2021-08-17T16:28:46.044Z"
   },
   {
    "duration": 10,
    "start_time": "2021-08-17T16:30:03.182Z"
   },
   {
    "duration": 8,
    "start_time": "2021-08-17T16:30:13.348Z"
   },
   {
    "duration": 19,
    "start_time": "2021-08-17T16:30:27.772Z"
   },
   {
    "duration": 18,
    "start_time": "2021-08-17T16:30:32.677Z"
   },
   {
    "duration": 18,
    "start_time": "2021-08-17T16:31:03.327Z"
   },
   {
    "duration": 2060,
    "start_time": "2021-08-17T16:31:51.111Z"
   },
   {
    "duration": 70,
    "start_time": "2021-08-17T16:31:53.174Z"
   },
   {
    "duration": 11,
    "start_time": "2021-08-17T16:31:53.247Z"
   },
   {
    "duration": 4,
    "start_time": "2021-08-17T16:31:53.261Z"
   },
   {
    "duration": 34,
    "start_time": "2021-08-17T16:31:53.267Z"
   },
   {
    "duration": 214,
    "start_time": "2021-08-17T16:31:53.303Z"
   },
   {
    "duration": 4432,
    "start_time": "2021-08-17T16:31:53.519Z"
   },
   {
    "duration": 28,
    "start_time": "2021-08-17T16:31:57.955Z"
   },
   {
    "duration": 26,
    "start_time": "2021-08-17T16:31:58.001Z"
   },
   {
    "duration": 6,
    "start_time": "2021-08-17T16:31:58.029Z"
   },
   {
    "duration": 509,
    "start_time": "2021-08-17T16:31:58.037Z"
   },
   {
    "duration": 456,
    "start_time": "2021-08-17T16:31:58.549Z"
   },
   {
    "duration": 5051,
    "start_time": "2021-08-17T16:31:59.008Z"
   },
   {
    "duration": 13,
    "start_time": "2021-08-17T16:32:04.061Z"
   },
   {
    "duration": 490,
    "start_time": "2021-08-17T16:32:04.077Z"
   },
   {
    "duration": 3,
    "start_time": "2021-08-17T16:32:04.570Z"
   },
   {
    "duration": 864,
    "start_time": "2021-08-17T16:32:04.576Z"
   },
   {
    "duration": 15,
    "start_time": "2021-08-17T16:32:05.443Z"
   },
   {
    "duration": 2211,
    "start_time": "2021-08-17T16:32:05.461Z"
   },
   {
    "duration": 539,
    "start_time": "2021-08-17T16:32:07.675Z"
   },
   {
    "duration": 545,
    "start_time": "2021-08-17T16:32:08.217Z"
   },
   {
    "duration": 11,
    "start_time": "2021-08-17T16:32:08.766Z"
   },
   {
    "duration": 11,
    "start_time": "2021-08-17T16:32:08.801Z"
   },
   {
    "duration": 23,
    "start_time": "2021-08-17T16:32:08.814Z"
   },
   {
    "duration": 560,
    "start_time": "2021-08-17T16:32:08.840Z"
   },
   {
    "duration": 535,
    "start_time": "2021-08-17T16:32:09.403Z"
   },
   {
    "duration": 482,
    "start_time": "2021-08-17T16:32:09.942Z"
   },
   {
    "duration": 853,
    "start_time": "2021-08-17T16:32:10.428Z"
   },
   {
    "duration": 3298,
    "start_time": "2021-08-17T16:32:11.284Z"
   },
   {
    "duration": 1467,
    "start_time": "2021-08-17T16:32:14.585Z"
   },
   {
    "duration": 31,
    "start_time": "2021-08-17T16:32:16.054Z"
   },
   {
    "duration": 531,
    "start_time": "2021-08-17T16:32:16.088Z"
   },
   {
    "duration": 24,
    "start_time": "2021-08-17T16:32:16.622Z"
   },
   {
    "duration": 538,
    "start_time": "2021-08-17T16:32:16.649Z"
   },
   {
    "duration": 24,
    "start_time": "2021-08-17T16:32:17.190Z"
   },
   {
    "duration": 16,
    "start_time": "2021-08-17T16:32:17.217Z"
   },
   {
    "duration": 23,
    "start_time": "2021-08-17T16:32:17.236Z"
   },
   {
    "duration": 54,
    "start_time": "2021-08-17T16:32:17.263Z"
   },
   {
    "duration": 522,
    "start_time": "2021-08-17T16:32:17.320Z"
   },
   {
    "duration": 1021,
    "start_time": "2021-08-17T16:32:17.845Z"
   },
   {
    "duration": 2680,
    "start_time": "2021-08-17T16:32:18.868Z"
   },
   {
    "duration": 13,
    "start_time": "2021-08-17T16:33:30.139Z"
   },
   {
    "duration": 11,
    "start_time": "2021-08-17T16:37:31.411Z"
   },
   {
    "duration": 24,
    "start_time": "2021-08-17T16:37:38.425Z"
   },
   {
    "duration": 995,
    "start_time": "2021-08-17T16:40:21.473Z"
   },
   {
    "duration": 596,
    "start_time": "2021-08-17T16:42:48.507Z"
   },
   {
    "duration": 2104,
    "start_time": "2021-08-17T16:43:11.550Z"
   },
   {
    "duration": 69,
    "start_time": "2021-08-17T16:43:13.656Z"
   },
   {
    "duration": 13,
    "start_time": "2021-08-17T16:43:13.727Z"
   },
   {
    "duration": 18,
    "start_time": "2021-08-17T16:43:13.742Z"
   },
   {
    "duration": 18,
    "start_time": "2021-08-17T16:43:13.763Z"
   },
   {
    "duration": 212,
    "start_time": "2021-08-17T16:43:13.783Z"
   },
   {
    "duration": 4247,
    "start_time": "2021-08-17T16:43:14.001Z"
   },
   {
    "duration": 27,
    "start_time": "2021-08-17T16:43:18.252Z"
   },
   {
    "duration": 39,
    "start_time": "2021-08-17T16:43:18.282Z"
   },
   {
    "duration": 24,
    "start_time": "2021-08-17T16:43:18.324Z"
   },
   {
    "duration": 481,
    "start_time": "2021-08-17T16:43:18.350Z"
   },
   {
    "duration": 358,
    "start_time": "2021-08-17T16:43:18.834Z"
   },
   {
    "duration": 4951,
    "start_time": "2021-08-17T16:43:19.195Z"
   },
   {
    "duration": 16,
    "start_time": "2021-08-17T16:43:24.149Z"
   },
   {
    "duration": 521,
    "start_time": "2021-08-17T16:43:24.168Z"
   },
   {
    "duration": 5,
    "start_time": "2021-08-17T16:43:24.700Z"
   },
   {
    "duration": 843,
    "start_time": "2021-08-17T16:43:24.707Z"
   },
   {
    "duration": 14,
    "start_time": "2021-08-17T16:43:25.553Z"
   },
   {
    "duration": 2072,
    "start_time": "2021-08-17T16:43:25.569Z"
   },
   {
    "duration": 502,
    "start_time": "2021-08-17T16:43:27.644Z"
   },
   {
    "duration": 536,
    "start_time": "2021-08-17T16:43:28.149Z"
   },
   {
    "duration": 18,
    "start_time": "2021-08-17T16:43:28.687Z"
   },
   {
    "duration": 108,
    "start_time": "2021-08-17T16:43:28.710Z"
   },
   {
    "duration": 629,
    "start_time": "2021-08-17T16:43:28.821Z"
   },
   {
    "duration": 467,
    "start_time": "2021-08-17T16:43:29.453Z"
   },
   {
    "duration": 867,
    "start_time": "2021-08-17T16:43:29.923Z"
   },
   {
    "duration": 3377,
    "start_time": "2021-08-17T16:43:30.800Z"
   },
   {
    "duration": 1424,
    "start_time": "2021-08-17T16:43:34.180Z"
   },
   {
    "duration": 30,
    "start_time": "2021-08-17T16:43:35.607Z"
   },
   {
    "duration": 517,
    "start_time": "2021-08-17T16:43:35.640Z"
   },
   {
    "duration": 23,
    "start_time": "2021-08-17T16:43:36.160Z"
   },
   {
    "duration": 519,
    "start_time": "2021-08-17T16:43:36.201Z"
   },
   {
    "duration": 17,
    "start_time": "2021-08-17T16:43:36.724Z"
   },
   {
    "duration": 29,
    "start_time": "2021-08-17T16:43:36.744Z"
   },
   {
    "duration": 42,
    "start_time": "2021-08-17T16:43:36.776Z"
   },
   {
    "duration": 26,
    "start_time": "2021-08-17T16:43:36.821Z"
   },
   {
    "duration": 507,
    "start_time": "2021-08-17T16:43:36.850Z"
   },
   {
    "duration": 881,
    "start_time": "2021-08-17T16:43:37.360Z"
   },
   {
    "duration": 2362,
    "start_time": "2021-08-17T16:43:38.244Z"
   },
   {
    "duration": 991,
    "start_time": "2021-08-17T16:46:06.748Z"
   },
   {
    "duration": 17,
    "start_time": "2021-08-17T17:15:12.513Z"
   },
   {
    "duration": 1098,
    "start_time": "2021-08-17T17:31:40.968Z"
   },
   {
    "duration": 1811,
    "start_time": "2021-08-17T17:31:47.427Z"
   },
   {
    "duration": 1064,
    "start_time": "2021-08-17T17:31:57.624Z"
   },
   {
    "duration": 990,
    "start_time": "2021-08-17T17:32:02.635Z"
   },
   {
    "duration": 1133,
    "start_time": "2021-08-17T17:32:10.035Z"
   },
   {
    "duration": 1060,
    "start_time": "2021-08-17T17:32:16.285Z"
   },
   {
    "duration": 970,
    "start_time": "2021-08-17T17:32:22.355Z"
   },
   {
    "duration": 1047,
    "start_time": "2021-08-17T17:34:04.759Z"
   },
   {
    "duration": 1005,
    "start_time": "2021-08-17T17:34:11.209Z"
   },
   {
    "duration": 1003,
    "start_time": "2021-08-17T17:34:16.070Z"
   },
   {
    "duration": 949,
    "start_time": "2021-08-17T17:34:21.472Z"
   },
   {
    "duration": 537,
    "start_time": "2021-08-17T17:43:45.973Z"
   },
   {
    "duration": 456,
    "start_time": "2021-08-17T17:44:19.596Z"
   },
   {
    "duration": 1029,
    "start_time": "2021-08-17T17:44:34.471Z"
   },
   {
    "duration": 1160,
    "start_time": "2021-08-17T17:44:45.259Z"
   },
   {
    "duration": 15,
    "start_time": "2021-08-17T17:59:46.106Z"
   },
   {
    "duration": 2050,
    "start_time": "2021-08-17T18:29:20.423Z"
   },
   {
    "duration": 71,
    "start_time": "2021-08-17T18:29:22.475Z"
   },
   {
    "duration": 11,
    "start_time": "2021-08-17T18:29:22.549Z"
   },
   {
    "duration": 4,
    "start_time": "2021-08-17T18:29:22.563Z"
   },
   {
    "duration": 39,
    "start_time": "2021-08-17T18:29:22.570Z"
   },
   {
    "duration": 211,
    "start_time": "2021-08-17T18:29:22.612Z"
   },
   {
    "duration": 4348,
    "start_time": "2021-08-17T18:29:22.826Z"
   },
   {
    "duration": 41,
    "start_time": "2021-08-17T18:29:27.180Z"
   },
   {
    "duration": 35,
    "start_time": "2021-08-17T18:29:27.225Z"
   },
   {
    "duration": 6,
    "start_time": "2021-08-17T18:29:27.262Z"
   },
   {
    "duration": 508,
    "start_time": "2021-08-17T18:29:27.270Z"
   },
   {
    "duration": 366,
    "start_time": "2021-08-17T18:29:27.781Z"
   },
   {
    "duration": 4924,
    "start_time": "2021-08-17T18:29:28.150Z"
   },
   {
    "duration": 25,
    "start_time": "2021-08-17T18:29:33.077Z"
   },
   {
    "duration": 491,
    "start_time": "2021-08-17T18:29:33.104Z"
   },
   {
    "duration": 4,
    "start_time": "2021-08-17T18:29:33.600Z"
   },
   {
    "duration": 841,
    "start_time": "2021-08-17T18:29:33.606Z"
   },
   {
    "duration": 12,
    "start_time": "2021-08-17T18:29:34.450Z"
   },
   {
    "duration": 2047,
    "start_time": "2021-08-17T18:29:34.465Z"
   },
   {
    "duration": 528,
    "start_time": "2021-08-17T18:29:36.515Z"
   },
   {
    "duration": 563,
    "start_time": "2021-08-17T18:29:37.046Z"
   },
   {
    "duration": 8,
    "start_time": "2021-08-17T18:29:37.612Z"
   },
   {
    "duration": 123,
    "start_time": "2021-08-17T18:29:37.625Z"
   },
   {
    "duration": 985,
    "start_time": "2021-08-17T18:29:37.751Z"
   },
   {
    "duration": 472,
    "start_time": "2021-08-17T18:29:38.739Z"
   },
   {
    "duration": 863,
    "start_time": "2021-08-17T18:29:39.214Z"
   },
   {
    "duration": 3368,
    "start_time": "2021-08-17T18:29:40.080Z"
   },
   {
    "duration": 1176,
    "start_time": "2021-08-17T18:29:43.450Z"
   },
   {
    "duration": 30,
    "start_time": "2021-08-17T18:29:44.628Z"
   },
   {
    "duration": 513,
    "start_time": "2021-08-17T18:29:44.660Z"
   },
   {
    "duration": 30,
    "start_time": "2021-08-17T18:29:45.176Z"
   },
   {
    "duration": 518,
    "start_time": "2021-08-17T18:29:45.208Z"
   },
   {
    "duration": 16,
    "start_time": "2021-08-17T18:29:45.728Z"
   },
   {
    "duration": 17,
    "start_time": "2021-08-17T18:29:45.746Z"
   },
   {
    "duration": 47,
    "start_time": "2021-08-17T18:29:45.766Z"
   },
   {
    "duration": 20,
    "start_time": "2021-08-17T18:29:45.816Z"
   },
   {
    "duration": 530,
    "start_time": "2021-08-17T18:29:45.838Z"
   },
   {
    "duration": 883,
    "start_time": "2021-08-17T18:29:46.370Z"
   },
   {
    "duration": 2318,
    "start_time": "2021-08-17T18:29:47.256Z"
   },
   {
    "duration": 1031,
    "start_time": "2021-08-17T18:30:43.587Z"
   },
   {
    "duration": 1023,
    "start_time": "2021-08-17T18:30:55.520Z"
   },
   {
    "duration": 126,
    "start_time": "2021-08-18T10:24:46.322Z"
   },
   {
    "duration": 126,
    "start_time": "2021-08-18T14:19:13.153Z"
   },
   {
    "duration": 118,
    "start_time": "2021-08-18T14:19:16.032Z"
   },
   {
    "duration": 2129,
    "start_time": "2022-02-09T18:11:22.530Z"
   },
   {
    "duration": 65,
    "start_time": "2022-02-09T18:11:24.662Z"
   },
   {
    "duration": 11,
    "start_time": "2022-02-09T18:11:24.730Z"
   },
   {
    "duration": 25,
    "start_time": "2022-02-09T18:11:24.744Z"
   },
   {
    "duration": 21,
    "start_time": "2022-02-09T18:11:24.771Z"
   },
   {
    "duration": 4657,
    "start_time": "2022-02-09T18:11:24.794Z"
   },
   {
    "duration": 46,
    "start_time": "2022-02-09T18:11:29.454Z"
   },
   {
    "duration": 27,
    "start_time": "2022-02-09T18:11:29.505Z"
   },
   {
    "duration": 526,
    "start_time": "2022-02-09T18:11:29.534Z"
   },
   {
    "duration": 472,
    "start_time": "2022-02-09T18:11:30.070Z"
   },
   {
    "duration": 5635,
    "start_time": "2022-02-09T18:11:30.545Z"
   },
   {
    "duration": 13,
    "start_time": "2022-02-09T18:11:36.182Z"
   },
   {
    "duration": 489,
    "start_time": "2022-02-09T18:11:36.197Z"
   },
   {
    "duration": 1033,
    "start_time": "2022-02-09T18:11:35.657Z"
   },
   {
    "duration": 1024,
    "start_time": "2022-02-09T18:11:35.667Z"
   },
   {
    "duration": 1020,
    "start_time": "2022-02-09T18:11:35.672Z"
   },
   {
    "duration": 1006,
    "start_time": "2022-02-09T18:11:35.688Z"
   },
   {
    "duration": 995,
    "start_time": "2022-02-09T18:11:35.700Z"
   },
   {
    "duration": 990,
    "start_time": "2022-02-09T18:11:35.707Z"
   },
   {
    "duration": 977,
    "start_time": "2022-02-09T18:11:35.721Z"
   },
   {
    "duration": 974,
    "start_time": "2022-02-09T18:11:35.726Z"
   },
   {
    "duration": 971,
    "start_time": "2022-02-09T18:11:35.730Z"
   },
   {
    "duration": 964,
    "start_time": "2022-02-09T18:11:35.739Z"
   },
   {
    "duration": 954,
    "start_time": "2022-02-09T18:11:35.751Z"
   },
   {
    "duration": 952,
    "start_time": "2022-02-09T18:11:35.754Z"
   },
   {
    "duration": 944,
    "start_time": "2022-02-09T18:11:35.764Z"
   },
   {
    "duration": 940,
    "start_time": "2022-02-09T18:11:35.770Z"
   },
   {
    "duration": 929,
    "start_time": "2022-02-09T18:11:35.782Z"
   },
   {
    "duration": 920,
    "start_time": "2022-02-09T18:11:35.793Z"
   },
   {
    "duration": 905,
    "start_time": "2022-02-09T18:11:35.809Z"
   },
   {
    "duration": 2108,
    "start_time": "2022-02-09T18:13:05.984Z"
   },
   {
    "duration": 67,
    "start_time": "2022-02-09T18:13:08.095Z"
   },
   {
    "duration": 13,
    "start_time": "2022-02-09T18:13:08.172Z"
   },
   {
    "duration": 4,
    "start_time": "2022-02-09T18:13:08.187Z"
   },
   {
    "duration": 24,
    "start_time": "2022-02-09T18:13:08.193Z"
   },
   {
    "duration": 4861,
    "start_time": "2022-02-09T18:13:08.220Z"
   },
   {
    "duration": 28,
    "start_time": "2022-02-09T18:13:13.085Z"
   },
   {
    "duration": 33,
    "start_time": "2022-02-09T18:13:13.116Z"
   },
   {
    "duration": 524,
    "start_time": "2022-02-09T18:13:13.170Z"
   },
   {
    "duration": 786,
    "start_time": "2022-02-09T18:13:13.697Z"
   },
   {
    "duration": 5531,
    "start_time": "2022-02-09T18:13:14.486Z"
   },
   {
    "duration": 16,
    "start_time": "2022-02-09T18:13:20.020Z"
   },
   {
    "duration": 550,
    "start_time": "2022-02-09T18:13:20.039Z"
   },
   {
    "duration": 872,
    "start_time": "2022-02-09T18:13:19.720Z"
   },
   {
    "duration": 870,
    "start_time": "2022-02-09T18:13:19.724Z"
   },
   {
    "duration": 868,
    "start_time": "2022-02-09T18:13:19.727Z"
   },
   {
    "duration": 867,
    "start_time": "2022-02-09T18:13:19.730Z"
   },
   {
    "duration": 864,
    "start_time": "2022-02-09T18:13:19.734Z"
   },
   {
    "duration": 857,
    "start_time": "2022-02-09T18:13:19.743Z"
   },
   {
    "duration": 855,
    "start_time": "2022-02-09T18:13:19.746Z"
   },
   {
    "duration": 853,
    "start_time": "2022-02-09T18:13:19.750Z"
   },
   {
    "duration": 846,
    "start_time": "2022-02-09T18:13:19.758Z"
   },
   {
    "duration": 845,
    "start_time": "2022-02-09T18:13:19.761Z"
   },
   {
    "duration": 843,
    "start_time": "2022-02-09T18:13:19.764Z"
   },
   {
    "duration": 843,
    "start_time": "2022-02-09T18:13:19.766Z"
   },
   {
    "duration": 836,
    "start_time": "2022-02-09T18:13:19.774Z"
   },
   {
    "duration": 835,
    "start_time": "2022-02-09T18:13:19.777Z"
   },
   {
    "duration": 835,
    "start_time": "2022-02-09T18:13:19.780Z"
   },
   {
    "duration": 833,
    "start_time": "2022-02-09T18:13:19.783Z"
   },
   {
    "duration": 824,
    "start_time": "2022-02-09T18:13:19.793Z"
   },
   {
    "duration": 12,
    "start_time": "2022-02-09T18:15:15.011Z"
   },
   {
    "duration": 2017,
    "start_time": "2022-02-09T18:15:22.726Z"
   },
   {
    "duration": 70,
    "start_time": "2022-02-09T18:15:24.746Z"
   },
   {
    "duration": 13,
    "start_time": "2022-02-09T18:15:24.819Z"
   },
   {
    "duration": 4,
    "start_time": "2022-02-09T18:15:24.836Z"
   },
   {
    "duration": 39,
    "start_time": "2022-02-09T18:15:24.843Z"
   },
   {
    "duration": 5304,
    "start_time": "2022-02-09T18:15:24.884Z"
   },
   {
    "duration": 28,
    "start_time": "2022-02-09T18:15:30.190Z"
   },
   {
    "duration": 48,
    "start_time": "2022-02-09T18:15:30.221Z"
   },
   {
    "duration": 510,
    "start_time": "2022-02-09T18:15:30.272Z"
   },
   {
    "duration": 375,
    "start_time": "2022-02-09T18:15:30.785Z"
   },
   {
    "duration": 5169,
    "start_time": "2022-02-09T18:15:31.163Z"
   },
   {
    "duration": 14,
    "start_time": "2022-02-09T18:15:36.334Z"
   },
   {
    "duration": 32,
    "start_time": "2022-02-09T18:15:36.350Z"
   },
   {
    "duration": 127,
    "start_time": "2022-02-09T18:15:36.385Z"
   },
   {
    "duration": 1071,
    "start_time": "2022-02-09T18:15:36.515Z"
   },
   {
    "duration": 614,
    "start_time": "2022-02-09T18:15:37.589Z"
   },
   {
    "duration": 870,
    "start_time": "2022-02-09T18:15:38.205Z"
   },
   {
    "duration": 3339,
    "start_time": "2022-02-09T18:15:39.077Z"
   },
   {
    "duration": 1215,
    "start_time": "2022-02-09T18:15:42.418Z"
   },
   {
    "duration": 29,
    "start_time": "2022-02-09T18:15:43.636Z"
   },
   {
    "duration": 552,
    "start_time": "2022-02-09T18:15:43.668Z"
   },
   {
    "duration": 23,
    "start_time": "2022-02-09T18:15:44.222Z"
   },
   {
    "duration": 686,
    "start_time": "2022-02-09T18:15:44.250Z"
   },
   {
    "duration": 17,
    "start_time": "2022-02-09T18:15:44.938Z"
   },
   {
    "duration": 23,
    "start_time": "2022-02-09T18:15:44.957Z"
   },
   {
    "duration": 25,
    "start_time": "2022-02-09T18:15:44.983Z"
   },
   {
    "duration": 60,
    "start_time": "2022-02-09T18:15:45.011Z"
   },
   {
    "duration": 528,
    "start_time": "2022-02-09T18:15:45.074Z"
   },
   {
    "duration": 936,
    "start_time": "2022-02-09T18:15:45.605Z"
   },
   {
    "duration": 2600,
    "start_time": "2022-02-09T18:15:46.544Z"
   }
  ],
  "kernelspec": {
   "display_name": "Python 3",
   "language": "python",
   "name": "python3"
  },
  "language_info": {
   "codemirror_mode": {
    "name": "ipython",
    "version": 3
   },
   "file_extension": ".py",
   "mimetype": "text/x-python",
   "name": "python",
   "nbconvert_exporter": "python",
   "pygments_lexer": "ipython3",
   "version": "3.7.8"
  },
  "toc": {
   "base_numbering": 1,
   "nav_menu": {},
   "number_sections": true,
   "sideBar": true,
   "skip_h1_title": true,
   "title_cell": "Table of Contents",
   "title_sidebar": "Contents",
   "toc_cell": false,
   "toc_position": {
    "height": "calc(100% - 180px)",
    "left": "10px",
    "top": "150px",
    "width": "204.4px"
   },
   "toc_section_display": true,
   "toc_window_display": true
  }
 },
 "nbformat": 4,
 "nbformat_minor": 2
}
