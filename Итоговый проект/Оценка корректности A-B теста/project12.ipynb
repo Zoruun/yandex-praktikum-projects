{
 "cells": [
  {
   "cell_type": "markdown",
   "metadata": {},
   "source": [
    "# Проект по А/B-тестированию"
   ]
  },
  {
   "cell_type": "markdown",
   "metadata": {},
   "source": [
    "Цели исследования:\n",
    "- Оценить корректность проведения теста:\n",
    "\n",
    "1) Проверить пересечение тестовой аудитории с конкурирующим тестом;\n",
    "\n",
    "2) Проверить совпадение теста и маркетинговых событий, другие проблемы временных границ теста;\n",
    "\n",
    "- Провести исследовательский анализ данных:\n",
    "\n",
    "1) Исследовать конверсию в воронке на разных этапах;\n",
    "\n",
    "2) Исследовать есть ли в выборках одни и те же пользователи;\n",
    "\n",
    "3) Исследовать как число событий распределено по дням;\n",
    "\n",
    "4) Исследовать распределение клиентов по регионам;\n",
    "\n",
    "\n",
    "- Провести оценку результатов A/B-тестирования: \n",
    "\n",
    "1) Проверьте статистическую разницу долей z-критерием;\n",
    "\n",
    "- Проанализировать результаты теста"
   ]
  },
  {
   "cell_type": "markdown",
   "metadata": {},
   "source": [
    "## Шаг №1. Загрузка данных и подготовка их к анализу"
   ]
  },
  {
   "cell_type": "code",
   "execution_count": 1,
   "metadata": {},
   "outputs": [],
   "source": [
    "#импортируем необходимые библиотеки\n",
    "import pandas as pd\n",
    "import datetime as dt\n",
    "import numpy as np\n",
    "import seaborn as sns\n",
    "import matplotlib.pyplot as plt\n",
    "from plotly import graph_objects as go\n",
    "from functools import reduce\n",
    "from scipy import stats as st\n",
    "import warnings\n",
    "warnings.filterwarnings(\"ignore\")"
   ]
  },
  {
   "cell_type": "code",
   "execution_count": 2,
   "metadata": {},
   "outputs": [
    {
     "data": {
      "text/html": [
       "<div>\n",
       "<style scoped>\n",
       "    .dataframe tbody tr th:only-of-type {\n",
       "        vertical-align: middle;\n",
       "    }\n",
       "\n",
       "    .dataframe tbody tr th {\n",
       "        vertical-align: top;\n",
       "    }\n",
       "\n",
       "    .dataframe thead th {\n",
       "        text-align: right;\n",
       "    }\n",
       "</style>\n",
       "<table border=\"1\" class=\"dataframe\">\n",
       "  <thead>\n",
       "    <tr style=\"text-align: right;\">\n",
       "      <th></th>\n",
       "      <th>name</th>\n",
       "      <th>regions</th>\n",
       "      <th>start_dt</th>\n",
       "      <th>finish_dt</th>\n",
       "    </tr>\n",
       "  </thead>\n",
       "  <tbody>\n",
       "    <tr>\n",
       "      <td>0</td>\n",
       "      <td>Christmas&amp;New Year Promo</td>\n",
       "      <td>EU, N.America</td>\n",
       "      <td>2020-12-25</td>\n",
       "      <td>2021-01-03</td>\n",
       "    </tr>\n",
       "    <tr>\n",
       "      <td>1</td>\n",
       "      <td>St. Valentine's Day Giveaway</td>\n",
       "      <td>EU, CIS, APAC, N.America</td>\n",
       "      <td>2020-02-14</td>\n",
       "      <td>2020-02-16</td>\n",
       "    </tr>\n",
       "    <tr>\n",
       "      <td>2</td>\n",
       "      <td>St. Patric's Day Promo</td>\n",
       "      <td>EU, N.America</td>\n",
       "      <td>2020-03-17</td>\n",
       "      <td>2020-03-19</td>\n",
       "    </tr>\n",
       "    <tr>\n",
       "      <td>3</td>\n",
       "      <td>Easter Promo</td>\n",
       "      <td>EU, CIS, APAC, N.America</td>\n",
       "      <td>2020-04-12</td>\n",
       "      <td>2020-04-19</td>\n",
       "    </tr>\n",
       "    <tr>\n",
       "      <td>4</td>\n",
       "      <td>4th of July Promo</td>\n",
       "      <td>N.America</td>\n",
       "      <td>2020-07-04</td>\n",
       "      <td>2020-07-11</td>\n",
       "    </tr>\n",
       "    <tr>\n",
       "      <td>5</td>\n",
       "      <td>Black Friday Ads Campaign</td>\n",
       "      <td>EU, CIS, APAC, N.America</td>\n",
       "      <td>2020-11-26</td>\n",
       "      <td>2020-12-01</td>\n",
       "    </tr>\n",
       "    <tr>\n",
       "      <td>6</td>\n",
       "      <td>Chinese New Year Promo</td>\n",
       "      <td>APAC</td>\n",
       "      <td>2020-01-25</td>\n",
       "      <td>2020-02-07</td>\n",
       "    </tr>\n",
       "    <tr>\n",
       "      <td>7</td>\n",
       "      <td>Labor day (May 1st) Ads Campaign</td>\n",
       "      <td>EU, CIS, APAC</td>\n",
       "      <td>2020-05-01</td>\n",
       "      <td>2020-05-03</td>\n",
       "    </tr>\n",
       "    <tr>\n",
       "      <td>8</td>\n",
       "      <td>International Women's Day Promo</td>\n",
       "      <td>EU, CIS, APAC</td>\n",
       "      <td>2020-03-08</td>\n",
       "      <td>2020-03-10</td>\n",
       "    </tr>\n",
       "    <tr>\n",
       "      <td>9</td>\n",
       "      <td>Victory Day CIS (May 9th) Event</td>\n",
       "      <td>CIS</td>\n",
       "      <td>2020-05-09</td>\n",
       "      <td>2020-05-11</td>\n",
       "    </tr>\n",
       "    <tr>\n",
       "      <td>10</td>\n",
       "      <td>CIS New Year Gift Lottery</td>\n",
       "      <td>CIS</td>\n",
       "      <td>2020-12-30</td>\n",
       "      <td>2021-01-07</td>\n",
       "    </tr>\n",
       "    <tr>\n",
       "      <td>11</td>\n",
       "      <td>Dragon Boat Festival Giveaway</td>\n",
       "      <td>APAC</td>\n",
       "      <td>2020-06-25</td>\n",
       "      <td>2020-07-01</td>\n",
       "    </tr>\n",
       "    <tr>\n",
       "      <td>12</td>\n",
       "      <td>Single's Day Gift Promo</td>\n",
       "      <td>APAC</td>\n",
       "      <td>2020-11-11</td>\n",
       "      <td>2020-11-12</td>\n",
       "    </tr>\n",
       "    <tr>\n",
       "      <td>13</td>\n",
       "      <td>Chinese Moon Festival</td>\n",
       "      <td>APAC</td>\n",
       "      <td>2020-10-01</td>\n",
       "      <td>2020-10-07</td>\n",
       "    </tr>\n",
       "  </tbody>\n",
       "</table>\n",
       "</div>"
      ],
      "text/plain": [
       "                                name                   regions    start_dt  \\\n",
       "0           Christmas&New Year Promo             EU, N.America  2020-12-25   \n",
       "1       St. Valentine's Day Giveaway  EU, CIS, APAC, N.America  2020-02-14   \n",
       "2             St. Patric's Day Promo             EU, N.America  2020-03-17   \n",
       "3                       Easter Promo  EU, CIS, APAC, N.America  2020-04-12   \n",
       "4                  4th of July Promo                 N.America  2020-07-04   \n",
       "5          Black Friday Ads Campaign  EU, CIS, APAC, N.America  2020-11-26   \n",
       "6             Chinese New Year Promo                      APAC  2020-01-25   \n",
       "7   Labor day (May 1st) Ads Campaign             EU, CIS, APAC  2020-05-01   \n",
       "8    International Women's Day Promo             EU, CIS, APAC  2020-03-08   \n",
       "9    Victory Day CIS (May 9th) Event                       CIS  2020-05-09   \n",
       "10         CIS New Year Gift Lottery                       CIS  2020-12-30   \n",
       "11     Dragon Boat Festival Giveaway                      APAC  2020-06-25   \n",
       "12           Single's Day Gift Promo                      APAC  2020-11-11   \n",
       "13             Chinese Moon Festival                      APAC  2020-10-01   \n",
       "\n",
       "     finish_dt  \n",
       "0   2021-01-03  \n",
       "1   2020-02-16  \n",
       "2   2020-03-19  \n",
       "3   2020-04-19  \n",
       "4   2020-07-11  \n",
       "5   2020-12-01  \n",
       "6   2020-02-07  \n",
       "7   2020-05-03  \n",
       "8   2020-03-10  \n",
       "9   2020-05-11  \n",
       "10  2021-01-07  \n",
       "11  2020-07-01  \n",
       "12  2020-11-12  \n",
       "13  2020-10-07  "
      ]
     },
     "execution_count": 2,
     "metadata": {},
     "output_type": "execute_result"
    }
   ],
   "source": [
    "#откроем таблицу marketing_events и выведем её на экран\n",
    "marketing_events = pd.read_csv('/datasets/ab_project_marketing_events.csv')\n",
    "marketing_events"
   ]
  },
  {
   "cell_type": "code",
   "execution_count": 3,
   "metadata": {},
   "outputs": [
    {
     "name": "stdout",
     "output_type": "stream",
     "text": [
      "<class 'pandas.core.frame.DataFrame'>\n",
      "RangeIndex: 14 entries, 0 to 13\n",
      "Data columns (total 4 columns):\n",
      "name         14 non-null object\n",
      "regions      14 non-null object\n",
      "start_dt     14 non-null object\n",
      "finish_dt    14 non-null object\n",
      "dtypes: object(4)\n",
      "memory usage: 576.0+ bytes\n"
     ]
    }
   ],
   "source": [
    "# Просмотрим основную информацию по данной таблице\n",
    "marketing_events.info()"
   ]
  },
  {
   "cell_type": "markdown",
   "metadata": {},
   "source": [
    "В таблице нет пропущенных значений, но столбцы с датой имеют тип данных object, их нужно изменить"
   ]
  },
  {
   "cell_type": "code",
   "execution_count": 4,
   "metadata": {},
   "outputs": [],
   "source": [
    "# Приведем столбцы start_dt и finish_dt к типу данных дата\n",
    "marketing_events['start_dt'] = marketing_events['start_dt'].map(\n",
    "    lambda x: dt.datetime.strptime(x,'%Y-%m-%d')\n",
    ")\n",
    "\n",
    "marketing_events['finish_dt'] = marketing_events['finish_dt'].map(\n",
    "    lambda x: dt.datetime.strptime(x,'%Y-%m-%d')\n",
    ")"
   ]
  },
  {
   "cell_type": "code",
   "execution_count": 5,
   "metadata": {},
   "outputs": [
    {
     "data": {
      "text/html": [
       "<div>\n",
       "<style scoped>\n",
       "    .dataframe tbody tr th:only-of-type {\n",
       "        vertical-align: middle;\n",
       "    }\n",
       "\n",
       "    .dataframe tbody tr th {\n",
       "        vertical-align: top;\n",
       "    }\n",
       "\n",
       "    .dataframe thead th {\n",
       "        text-align: right;\n",
       "    }\n",
       "</style>\n",
       "<table border=\"1\" class=\"dataframe\">\n",
       "  <thead>\n",
       "    <tr style=\"text-align: right;\">\n",
       "      <th></th>\n",
       "      <th>user_id</th>\n",
       "      <th>first_date</th>\n",
       "      <th>region</th>\n",
       "      <th>device</th>\n",
       "    </tr>\n",
       "  </thead>\n",
       "  <tbody>\n",
       "    <tr>\n",
       "      <td>0</td>\n",
       "      <td>D72A72121175D8BE</td>\n",
       "      <td>2020-12-07</td>\n",
       "      <td>EU</td>\n",
       "      <td>PC</td>\n",
       "    </tr>\n",
       "    <tr>\n",
       "      <td>1</td>\n",
       "      <td>F1C668619DFE6E65</td>\n",
       "      <td>2020-12-07</td>\n",
       "      <td>N.America</td>\n",
       "      <td>Android</td>\n",
       "    </tr>\n",
       "    <tr>\n",
       "      <td>2</td>\n",
       "      <td>2E1BF1D4C37EA01F</td>\n",
       "      <td>2020-12-07</td>\n",
       "      <td>EU</td>\n",
       "      <td>PC</td>\n",
       "    </tr>\n",
       "    <tr>\n",
       "      <td>3</td>\n",
       "      <td>50734A22C0C63768</td>\n",
       "      <td>2020-12-07</td>\n",
       "      <td>EU</td>\n",
       "      <td>iPhone</td>\n",
       "    </tr>\n",
       "    <tr>\n",
       "      <td>4</td>\n",
       "      <td>E1BDDCE0DAFA2679</td>\n",
       "      <td>2020-12-07</td>\n",
       "      <td>N.America</td>\n",
       "      <td>iPhone</td>\n",
       "    </tr>\n",
       "  </tbody>\n",
       "</table>\n",
       "</div>"
      ],
      "text/plain": [
       "            user_id  first_date     region   device\n",
       "0  D72A72121175D8BE  2020-12-07         EU       PC\n",
       "1  F1C668619DFE6E65  2020-12-07  N.America  Android\n",
       "2  2E1BF1D4C37EA01F  2020-12-07         EU       PC\n",
       "3  50734A22C0C63768  2020-12-07         EU   iPhone\n",
       "4  E1BDDCE0DAFA2679  2020-12-07  N.America   iPhone"
      ]
     },
     "execution_count": 5,
     "metadata": {},
     "output_type": "execute_result"
    }
   ],
   "source": [
    "#откроем таблицу new_users и выведем её на экран\n",
    "new_users = pd.read_csv('/datasets/final_ab_new_users.csv')\n",
    "new_users.head(5)"
   ]
  },
  {
   "cell_type": "code",
   "execution_count": 6,
   "metadata": {},
   "outputs": [
    {
     "name": "stdout",
     "output_type": "stream",
     "text": [
      "<class 'pandas.core.frame.DataFrame'>\n",
      "RangeIndex: 61733 entries, 0 to 61732\n",
      "Data columns (total 4 columns):\n",
      "user_id       61733 non-null object\n",
      "first_date    61733 non-null object\n",
      "region        61733 non-null object\n",
      "device        61733 non-null object\n",
      "dtypes: object(4)\n",
      "memory usage: 1.9+ MB\n"
     ]
    }
   ],
   "source": [
    "# Просмотрим основную информацию по данной таблице\n",
    "new_users.info()"
   ]
  },
  {
   "cell_type": "code",
   "execution_count": 7,
   "metadata": {},
   "outputs": [
    {
     "name": "stdout",
     "output_type": "stream",
     "text": [
      "В таблице new_users 0 дубликатов\n"
     ]
    }
   ],
   "source": [
    "# Проверим таблицу на дубликаты\n",
    "print('В таблице new_users', new_users.duplicated().sum(), 'дубликатов')"
   ]
  },
  {
   "cell_type": "markdown",
   "metadata": {},
   "source": [
    "В нашей таблице нет пропусков, нет дубликатов, но столбец с датой имеет тип данных object"
   ]
  },
  {
   "cell_type": "code",
   "execution_count": 8,
   "metadata": {},
   "outputs": [],
   "source": [
    "# Приведем столбец first_date к типу данных дата\n",
    "new_users['first_date'] = new_users['first_date'].map(\n",
    "    lambda x: dt.datetime.strptime(x,'%Y-%m-%d')\n",
    ")"
   ]
  },
  {
   "cell_type": "code",
   "execution_count": 9,
   "metadata": {},
   "outputs": [
    {
     "data": {
      "text/html": [
       "<div>\n",
       "<style scoped>\n",
       "    .dataframe tbody tr th:only-of-type {\n",
       "        vertical-align: middle;\n",
       "    }\n",
       "\n",
       "    .dataframe tbody tr th {\n",
       "        vertical-align: top;\n",
       "    }\n",
       "\n",
       "    .dataframe thead th {\n",
       "        text-align: right;\n",
       "    }\n",
       "</style>\n",
       "<table border=\"1\" class=\"dataframe\">\n",
       "  <thead>\n",
       "    <tr style=\"text-align: right;\">\n",
       "      <th></th>\n",
       "      <th>user_id</th>\n",
       "      <th>event_dt</th>\n",
       "      <th>event_name</th>\n",
       "      <th>details</th>\n",
       "    </tr>\n",
       "  </thead>\n",
       "  <tbody>\n",
       "    <tr>\n",
       "      <td>0</td>\n",
       "      <td>E1BDDCE0DAFA2679</td>\n",
       "      <td>2020-12-07 20:22:03</td>\n",
       "      <td>purchase</td>\n",
       "      <td>99.99</td>\n",
       "    </tr>\n",
       "    <tr>\n",
       "      <td>1</td>\n",
       "      <td>7B6452F081F49504</td>\n",
       "      <td>2020-12-07 09:22:53</td>\n",
       "      <td>purchase</td>\n",
       "      <td>9.99</td>\n",
       "    </tr>\n",
       "    <tr>\n",
       "      <td>2</td>\n",
       "      <td>9CD9F34546DF254C</td>\n",
       "      <td>2020-12-07 12:59:29</td>\n",
       "      <td>purchase</td>\n",
       "      <td>4.99</td>\n",
       "    </tr>\n",
       "    <tr>\n",
       "      <td>3</td>\n",
       "      <td>96F27A054B191457</td>\n",
       "      <td>2020-12-07 04:02:40</td>\n",
       "      <td>purchase</td>\n",
       "      <td>4.99</td>\n",
       "    </tr>\n",
       "    <tr>\n",
       "      <td>4</td>\n",
       "      <td>1FD7660FDF94CA1F</td>\n",
       "      <td>2020-12-07 10:15:09</td>\n",
       "      <td>purchase</td>\n",
       "      <td>4.99</td>\n",
       "    </tr>\n",
       "  </tbody>\n",
       "</table>\n",
       "</div>"
      ],
      "text/plain": [
       "            user_id             event_dt event_name  details\n",
       "0  E1BDDCE0DAFA2679  2020-12-07 20:22:03   purchase    99.99\n",
       "1  7B6452F081F49504  2020-12-07 09:22:53   purchase     9.99\n",
       "2  9CD9F34546DF254C  2020-12-07 12:59:29   purchase     4.99\n",
       "3  96F27A054B191457  2020-12-07 04:02:40   purchase     4.99\n",
       "4  1FD7660FDF94CA1F  2020-12-07 10:15:09   purchase     4.99"
      ]
     },
     "execution_count": 9,
     "metadata": {},
     "output_type": "execute_result"
    }
   ],
   "source": [
    "#откроем таблицу events и выведем её на экран\n",
    "events = pd.read_csv('/datasets/final_ab_events.csv')\n",
    "events.head(5)"
   ]
  },
  {
   "cell_type": "code",
   "execution_count": 10,
   "metadata": {},
   "outputs": [
    {
     "name": "stdout",
     "output_type": "stream",
     "text": [
      "<class 'pandas.core.frame.DataFrame'>\n",
      "RangeIndex: 440317 entries, 0 to 440316\n",
      "Data columns (total 4 columns):\n",
      "user_id       440317 non-null object\n",
      "event_dt      440317 non-null object\n",
      "event_name    440317 non-null object\n",
      "details       62740 non-null float64\n",
      "dtypes: float64(1), object(3)\n",
      "memory usage: 13.4+ MB\n"
     ]
    }
   ],
   "source": [
    "# Просмотрим основную информацию по данной таблице\n",
    "events.info()"
   ]
  },
  {
   "cell_type": "code",
   "execution_count": 11,
   "metadata": {},
   "outputs": [
    {
     "name": "stdout",
     "output_type": "stream",
     "text": [
      "В таблице events 0 дубликатов\n"
     ]
    }
   ],
   "source": [
    "# Проверим таблицу на дубликаты\n",
    "print('В таблице events', events.duplicated().sum(), 'дубликатов')"
   ]
  },
  {
   "cell_type": "code",
   "execution_count": 12,
   "metadata": {},
   "outputs": [
    {
     "name": "stdout",
     "output_type": "stream",
     "text": [
      "<class 'pandas.core.frame.DataFrame'>\n",
      "Int64Index: 62740 entries, 0 to 62739\n",
      "Data columns (total 4 columns):\n",
      "user_id       62740 non-null object\n",
      "event_dt      62740 non-null object\n",
      "event_name    62740 non-null object\n",
      "details       62740 non-null float64\n",
      "dtypes: float64(1), object(3)\n",
      "memory usage: 2.4+ MB\n"
     ]
    }
   ],
   "source": [
    "# Посмотрим соответствует ли количество заполненных строк в столбце details количеству событий event_name\n",
    "events[events.event_name == 'purchase'].info()"
   ]
  },
  {
   "cell_type": "markdown",
   "metadata": {},
   "source": [
    "В таблице нет дубликатов, но есть пропущенных значения в столбце details, в нём содежится сумма покупки в долларах, для типа событий покупки. Т.к. не все события имеют данный тип, то и пропущенные значения также есть в данной колонке.\n",
    "\n",
    "Колонка с датой имеет неверный тип данных, изменим его на дату."
   ]
  },
  {
   "cell_type": "code",
   "execution_count": 13,
   "metadata": {},
   "outputs": [],
   "source": [
    "# Приведем столбец event_dt к типу данных дата\n",
    "events['event_dt'] = events['event_dt'].map(\n",
    "    lambda x: dt.datetime.strptime(x,'%Y-%m-%d %H:%M:%S')\n",
    ")"
   ]
  },
  {
   "cell_type": "code",
   "execution_count": 14,
   "metadata": {},
   "outputs": [
    {
     "data": {
      "text/html": [
       "<div>\n",
       "<style scoped>\n",
       "    .dataframe tbody tr th:only-of-type {\n",
       "        vertical-align: middle;\n",
       "    }\n",
       "\n",
       "    .dataframe tbody tr th {\n",
       "        vertical-align: top;\n",
       "    }\n",
       "\n",
       "    .dataframe thead th {\n",
       "        text-align: right;\n",
       "    }\n",
       "</style>\n",
       "<table border=\"1\" class=\"dataframe\">\n",
       "  <thead>\n",
       "    <tr style=\"text-align: right;\">\n",
       "      <th></th>\n",
       "      <th>user_id</th>\n",
       "      <th>group</th>\n",
       "      <th>ab_test</th>\n",
       "    </tr>\n",
       "  </thead>\n",
       "  <tbody>\n",
       "    <tr>\n",
       "      <td>0</td>\n",
       "      <td>D1ABA3E2887B6A73</td>\n",
       "      <td>A</td>\n",
       "      <td>recommender_system_test</td>\n",
       "    </tr>\n",
       "    <tr>\n",
       "      <td>1</td>\n",
       "      <td>A7A3664BD6242119</td>\n",
       "      <td>A</td>\n",
       "      <td>recommender_system_test</td>\n",
       "    </tr>\n",
       "    <tr>\n",
       "      <td>2</td>\n",
       "      <td>DABC14FDDFADD29E</td>\n",
       "      <td>A</td>\n",
       "      <td>recommender_system_test</td>\n",
       "    </tr>\n",
       "    <tr>\n",
       "      <td>3</td>\n",
       "      <td>04988C5DF189632E</td>\n",
       "      <td>A</td>\n",
       "      <td>recommender_system_test</td>\n",
       "    </tr>\n",
       "    <tr>\n",
       "      <td>4</td>\n",
       "      <td>482F14783456D21B</td>\n",
       "      <td>B</td>\n",
       "      <td>recommender_system_test</td>\n",
       "    </tr>\n",
       "  </tbody>\n",
       "</table>\n",
       "</div>"
      ],
      "text/plain": [
       "            user_id group                  ab_test\n",
       "0  D1ABA3E2887B6A73     A  recommender_system_test\n",
       "1  A7A3664BD6242119     A  recommender_system_test\n",
       "2  DABC14FDDFADD29E     A  recommender_system_test\n",
       "3  04988C5DF189632E     A  recommender_system_test\n",
       "4  482F14783456D21B     B  recommender_system_test"
      ]
     },
     "execution_count": 14,
     "metadata": {},
     "output_type": "execute_result"
    }
   ],
   "source": [
    "#откроем таблицу participants и выведем её на экран\n",
    "participants = pd.read_csv('/datasets/final_ab_participants.csv')\n",
    "participants.head(5)"
   ]
  },
  {
   "cell_type": "code",
   "execution_count": 15,
   "metadata": {},
   "outputs": [
    {
     "name": "stdout",
     "output_type": "stream",
     "text": [
      "<class 'pandas.core.frame.DataFrame'>\n",
      "RangeIndex: 18268 entries, 0 to 18267\n",
      "Data columns (total 3 columns):\n",
      "user_id    18268 non-null object\n",
      "group      18268 non-null object\n",
      "ab_test    18268 non-null object\n",
      "dtypes: object(3)\n",
      "memory usage: 428.3+ KB\n"
     ]
    }
   ],
   "source": [
    "# Просмотрим основную информацию по данной таблице\n",
    "participants.info()"
   ]
  },
  {
   "cell_type": "code",
   "execution_count": 16,
   "metadata": {},
   "outputs": [
    {
     "name": "stdout",
     "output_type": "stream",
     "text": [
      "В таблице participants 0 дубликатов\n"
     ]
    }
   ],
   "source": [
    "# Проверим таблицу на дубликаты\n",
    "print('В таблице participants', participants.duplicated().sum(), 'дубликатов')"
   ]
  },
  {
   "cell_type": "markdown",
   "metadata": {},
   "source": [
    "В таблице нет дубликатов, пропущенных значений и все ячейки соответствуют типам данных."
   ]
  },
  {
   "cell_type": "markdown",
   "metadata": {},
   "source": [
    "### Вывод"
   ]
  },
  {
   "cell_type": "markdown",
   "metadata": {},
   "source": [
    "Таблица marketing_events - это календарь маркетинговых событий на 2020 год;\n",
    "Таблица имеет 14 строк и 4 столбца:\n",
    "\n",
    "- name — название маркетингового события;\n",
    "- regions — регионы, в которых будет проводиться рекламная кампания;\n",
    "- start_dt — дата начала кампании;\n",
    "- finish_dt — дата завершения кампании.\n",
    "\n",
    "В таблице new_users пользователи, зарегистрировавшиеся в интернет-магазине в период с 7 по 21 декабря 2020 года.\n",
    "Таблица имеет 61733 строки и 4 столбца:\n",
    "\n",
    "- user_id — идентификатор пользователя;\n",
    "- first_date — дата регистрации;\n",
    "- region — регион пользователя;\n",
    "- device — устройство, с которого происходила регистрация.\n",
    "\n",
    "В таблице events у нас все события новых пользователей в период с 7 декабря 2020 по 4 января 2021 года;\n",
    "Таблица имеет 440317 строки и 4 столбца:\n",
    "\n",
    "- user_id — идентификатор пользователя;\n",
    "- event_dt — дата и время события;\n",
    "- event_name — тип события;\n",
    "- details — в этом поле хранится стоимость покупки в долларах.\n",
    "\n",
    "Таблтца participants - это таблица участников тестов.\n",
    "Таблица имеет 18268 строк и 3 столбца:\n",
    "\n",
    "- user_id — идентификатор пользователя;\n",
    "- ab_test — название теста;\n",
    "- group — группа пользователя.\n",
    "\n",
    "В таблицах не было дубликатов, во всех таблицах я изменила типы данных у столбцов с датами, т.к. они имели тип object.\n",
    "Пропуски есть только в таблице events в столбце с суммой покупки, но т.к. не все события из данной таблицы имеют тип покупка, то и есть пропущенные в данном столбце."
   ]
  },
  {
   "cell_type": "markdown",
   "metadata": {},
   "source": [
    "## Шаг №2. Исследовательский анализ данных"
   ]
  },
  {
   "cell_type": "markdown",
   "metadata": {},
   "source": [
    "### Период данных, кол-во событий и пользователей в логах."
   ]
  },
  {
   "cell_type": "code",
   "execution_count": 17,
   "metadata": {
    "scrolled": true
   },
   "outputs": [
    {
     "name": "stdout",
     "output_type": "stream",
     "text": [
      "Всего событий в логе 440317.\n",
      "\n",
      "Всего пользователей в логе 58703.\n",
      "\n",
      "В среднем на пользователя приходится 6 событий.\n"
     ]
    },
    {
     "data": {
      "image/png": "[encoded data removed]",
      "text/plain": [
       "<Figure size 1080x7200 with 1 Axes>"
      ]
     },
     "metadata": {
      "needs_background": "light"
     },
     "output_type": "display_data"
    }
   ],
   "source": [
    "print('Всего событий в логе {}.'.format(len(events['user_id'])))\n",
    "print('')\n",
    "print('Всего пользователей в логе {}.'.format(events['user_id'].nunique()))\n",
    "print('')\n",
    "print('В среднем на пользователя приходится {} событий.'\n",
    "      .format(int(events.groupby('user_id').agg({'event_dt': 'count'}).median())))\n",
    "\n",
    "plt.figure(figsize=(15, 100))\n",
    "ax = sns.countplot(y=events['event_dt'].dt.strftime('%Y-%m-%d %H'), hue='event_name', data=events)\n",
    "ax.set_title('Количество различных событий на период времени')\n",
    "plt.show()"
   ]
  },
  {
   "cell_type": "markdown",
   "metadata": {},
   "source": [
    "#### Вывод"
   ]
  },
  {
   "cell_type": "markdown",
   "metadata": {},
   "source": [
    "Всего событий в логе 440317.\n",
    "\n",
    "Всего пользователей в логе 58703.\n",
    "\n",
    "В среднем на пользователя приходится 6 событий.\n",
    "\n",
    "В период после 29 декабря 01 часа у нас очень мало данных.\n",
    "\n",
    "Также в период с 25 декабря по 3 января у нас проходит промо акция, что может очень сильно исказить данные теста."
   ]
  },
  {
   "cell_type": "markdown",
   "metadata": {},
   "source": [
    "### Изучение воронки событий"
   ]
  },
  {
   "cell_type": "markdown",
   "metadata": {},
   "source": [
    "Нам нужно провести изучение событий и воронки продаж на основе теста recommender_system_test"
   ]
  },
  {
   "cell_type": "code",
   "execution_count": 18,
   "metadata": {},
   "outputs": [
    {
     "name": "stdout",
     "output_type": "stream",
     "text": [
      "Участников, попавших в обе группы по тесту recommender_system_test  0 человек\n"
     ]
    }
   ],
   "source": [
    "# Сначала проверим, есть ли участники теста попавшие в обе группы\n",
    "common_clients = np.intersect1d(participants[participants.ab_test == 'recommender_system_test'].query('group == \"A\"')['user_id'].unique(), participants[participants.ab_test == 'recommender_system_test'].query('group == \"B\"')['user_id'].unique())\n",
    "print('Участников, попавших в обе группы по тесту recommender_system_test ', len(common_clients), 'человек')"
   ]
  },
  {
   "cell_type": "code",
   "execution_count": 19,
   "metadata": {},
   "outputs": [
    {
     "data": {
      "image/png": "[encoded data removed]",
      "text/plain": [
       "<Figure size 1152x360 with 1 Axes>"
      ]
     },
     "metadata": {
      "needs_background": "light"
     },
     "output_type": "display_data"
    }
   ],
   "source": [
    "# Объединим таблицу participants по тесту recommender_system_test и events\n",
    "data = participants[participants.ab_test == 'recommender_system_test'].merge(events, on='user_id', how='left')\n",
    "\n",
    "# Построим график по типу событий и отсортируем его по убыванию\n",
    "data.groupby('event_name').agg({'user_id': 'count'}).sort_values('user_id', ascending = True).plot(figsize=(16, 5), kind='barh')\n",
    "\n",
    "# Добавим подпись к таблице, вынесем легенду за график, и развернем подписи к оси x\n",
    "plt.title('Типы событий')\n",
    "plt.xlabel('Количество событий')\n",
    "plt.ylabel('Название события');"
   ]
  },
  {
   "cell_type": "code",
   "execution_count": 20,
   "metadata": {},
   "outputs": [
    {
     "data": {
      "text/plain": [
       "login           11190\n",
       "product_page     6930\n",
       "purchase         3331\n",
       "product_cart     3247\n",
       "Name: event_name, dtype: int64"
      ]
     },
     "execution_count": 20,
     "metadata": {},
     "output_type": "execute_result"
    }
   ],
   "source": [
    "# Посмотрим какие типы событий в нашей таблице\n",
    "data['event_name'].value_counts()"
   ]
  },
  {
   "cell_type": "markdown",
   "metadata": {},
   "source": [
    "#### Вывод"
   ]
  },
  {
   "cell_type": "markdown",
   "metadata": {},
   "source": [
    "Всего у нас 4 вида событий в таблице:\n",
    " - login - вошёл в приложении - его совершили 11 190 раз\n",
    " - product_page - открыл страницу продукта - его совершили 6 930 раза\n",
    " - purchase - совершил покупку - его совершили 3 331 раза\n",
    " - product_cart - открыл корзину - его совершили 3 247 раз\n",
    " \n",
    " \n",
    "Скорее всего клиент может, не просматривая корзину, перейти на этап оформления покупки и это отображается как этап \"покупка\"."
   ]
  },
  {
   "cell_type": "markdown",
   "metadata": {},
   "source": [
    "### Распределение клиентов по регионам"
   ]
  },
  {
   "cell_type": "code",
   "execution_count": 21,
   "metadata": {},
   "outputs": [
    {
     "data": {
      "image/png": "[encoded data removed]",
      "text/plain": [
       "<Figure size 1152x360 with 1 Axes>"
      ]
     },
     "metadata": {
      "needs_background": "light"
     },
     "output_type": "display_data"
    }
   ],
   "source": [
    "# Создадим таблицу с данными по региону клиентов, объединив две таблицы data и new_users\n",
    "data_region = data.merge(new_users, on ='user_id', how='left')\n",
    "# Посмотрим на распределение наших клиентов по регионам\n",
    "data_region.groupby('region').agg({'user_id': 'nunique'}).sort_values('user_id', ascending = True).plot(figsize=(16, 5), kind='barh')\n",
    "\n",
    "# Добавим подпись к таблице\n",
    "plt.title('Распеределение клиентов по регионам')\n",
    "plt.xlabel('Количество клиентов')\n",
    "plt.ylabel('Регион');"
   ]
  },
  {
   "cell_type": "code",
   "execution_count": 22,
   "metadata": {},
   "outputs": [
    {
     "data": {
      "text/html": [
       "<div>\n",
       "<style scoped>\n",
       "    .dataframe tbody tr th:only-of-type {\n",
       "        vertical-align: middle;\n",
       "    }\n",
       "\n",
       "    .dataframe tbody tr th {\n",
       "        vertical-align: top;\n",
       "    }\n",
       "\n",
       "    .dataframe thead th {\n",
       "        text-align: right;\n",
       "    }\n",
       "</style>\n",
       "<table border=\"1\" class=\"dataframe\">\n",
       "  <thead>\n",
       "    <tr style=\"text-align: right;\">\n",
       "      <th></th>\n",
       "      <th>region</th>\n",
       "      <th>A</th>\n",
       "      <th>B</th>\n",
       "      <th>all</th>\n",
       "      <th>share</th>\n",
       "    </tr>\n",
       "  </thead>\n",
       "  <tbody>\n",
       "    <tr>\n",
       "      <td>2</td>\n",
       "      <td>EU</td>\n",
       "      <td>3634</td>\n",
       "      <td>2717</td>\n",
       "      <td>46270</td>\n",
       "      <td>13.7</td>\n",
       "    </tr>\n",
       "    <tr>\n",
       "      <td>3</td>\n",
       "      <td>N.America</td>\n",
       "      <td>128</td>\n",
       "      <td>95</td>\n",
       "      <td>46270</td>\n",
       "      <td>0.5</td>\n",
       "    </tr>\n",
       "    <tr>\n",
       "      <td>0</td>\n",
       "      <td>APAC</td>\n",
       "      <td>37</td>\n",
       "      <td>35</td>\n",
       "      <td>46270</td>\n",
       "      <td>0.2</td>\n",
       "    </tr>\n",
       "    <tr>\n",
       "      <td>1</td>\n",
       "      <td>CIS</td>\n",
       "      <td>25</td>\n",
       "      <td>30</td>\n",
       "      <td>46270</td>\n",
       "      <td>0.1</td>\n",
       "    </tr>\n",
       "  </tbody>\n",
       "</table>\n",
       "</div>"
      ],
      "text/plain": [
       "      region     A     B    all  share\n",
       "2         EU  3634  2717  46270   13.7\n",
       "3  N.America   128    95  46270    0.5\n",
       "0       APAC    37    35  46270    0.2\n",
       "1        CIS    25    30  46270    0.1"
      ]
     },
     "execution_count": 22,
     "metadata": {},
     "output_type": "execute_result"
    }
   ],
   "source": [
    "data_region_tabl = data_region.pivot_table(index = 'region', values='user_id', columns=['group'], aggfunc=['nunique']).reset_index()\n",
    "data_region_tabl.columns = ['region', 'A', 'B']\n",
    "data_region_tabl['all'] = new_users[new_users.region == 'EU']['user_id'].nunique()\n",
    "data_region_tabl['share'] = ((data_region_tabl['B'] + data_region_tabl['A']) / data_region_tabl['all'] * 100).round(1)\n",
    "data_region_tabl.sort_values('A', ascending = False)"
   ]
  },
  {
   "cell_type": "markdown",
   "metadata": {},
   "source": [
    "#### Вывод"
   ]
  },
  {
   "cell_type": "markdown",
   "metadata": {},
   "source": [
    "Нам нужно было выяснить, что новых клиентов из региона EU у нас как минимум 15%.\n",
    "\n",
    "В итого клиентов из региона UE из новой группы клиентов 13,7%."
   ]
  },
  {
   "cell_type": "markdown",
   "metadata": {},
   "source": [
    "### Сколько пользователей совершали то или иное событие."
   ]
  },
  {
   "cell_type": "code",
   "execution_count": 23,
   "metadata": {},
   "outputs": [
    {
     "data": {
      "image/png": "[encoded data removed]",
      "text/plain": [
       "<Figure size 1152x360 with 1 Axes>"
      ]
     },
     "metadata": {
      "needs_background": "light"
     },
     "output_type": "display_data"
    }
   ],
   "source": [
    "data.groupby('event_name').agg({'user_id': 'nunique'}).reindex(['purchase', 'product_cart', 'product_page', 'login']).plot(figsize=(16, 5), kind='barh')\n",
    "# Добавим подпись к таблице, вынесем легенду за график, и развернем подписи к оси x\n",
    "plt.title('Типы событий')\n",
    "plt.xlabel('Количество событий')\n",
    "plt.ylabel('Название события');"
   ]
  },
  {
   "cell_type": "code",
   "execution_count": 24,
   "metadata": {},
   "outputs": [],
   "source": [
    "# Создадим новую таблицу и несколько столбцов в ней, чтобы вычислить долю пользоватлей\n",
    "data_1=data.pivot_table(index='event_name', values='user_id', aggfunc=['nunique']).reset_index()\n",
    "data_1.columns = ['name', '123', 'id']\n",
    "data_1 = data_1[['name', 'id']]\n",
    "data_1['all_id'] = data['user_id'].nunique()\n",
    "data_1['share'] = (data_1['id'] / data_1['all_id'] * 100).round(1)\n",
    "# Изменим таблицу в порядок login, product_page, product_cart, purchase\n",
    "data_1 = data_1.reindex([0, 2, 1, 3])"
   ]
  },
  {
   "cell_type": "markdown",
   "metadata": {},
   "source": [
    "У нас всего 6701 клиентов, но часть из них и вовсе не производило никаких действий, попробуем узнать сколько"
   ]
  },
  {
   "cell_type": "code",
   "execution_count": 25,
   "metadata": {},
   "outputs": [
    {
     "name": "stdout",
     "output_type": "stream",
     "text": [
      "3026 клиентов не произвели ни одного действия\n"
     ]
    }
   ],
   "source": [
    "# Сделаем отборку по столбцу event_name с пропущенными значениями и посмотрим количество уникальных id,\n",
    "# у которых не было ни одного действия\n",
    "print(data[data['event_name'].isnull()]['user_id'].nunique(), 'клиентов не произвели ни одного действия')"
   ]
  },
  {
   "cell_type": "code",
   "execution_count": null,
   "metadata": {},
   "outputs": [],
   "source": [
    "# Построим воронку продаж\n",
    "fig = go.Figure(go.Funnel(\n",
    "    y = (data_1['name']),\n",
    "    x = (data_1['id'])))\n",
    "\n",
    "fig.show()"
   ]
  },
  {
   "attachments": {
    "%D0%A1%D0%BD%D0%B8%D0%BC%D0%BE%D0%BA.PNG": {
     "image/png": "[encoded data removed]"
    }
   },
   "cell_type": "markdown",
   "metadata": {},
   "source": [
    "![%D0%A1%D0%BD%D0%B8%D0%BC%D0%BE%D0%BA.PNG](attachment:%D0%A1%D0%BD%D0%B8%D0%BC%D0%BE%D0%BA.PNG)"
   ]
  },
  {
   "cell_type": "markdown",
   "metadata": {},
   "source": [
    "#### Вывод"
   ]
  },
  {
   "cell_type": "markdown",
   "metadata": {},
   "source": [
    "Событие \"открытие главного экран\" (login) совершили 3675 клиентов - это 54,8% от всех пользователей\n",
    "\n",
    "Событие \"открытие экрана продукта\" (product_page) совершили 2303 клиента - это 34,4% от всех пользователей\n",
    "\n",
    "Событие \"покупка\" (purchase) совершили 1128 клиентов - это 16,8% от всех пользователей\n",
    "\n",
    "Событие \"открытие корзины\" (product_cart) совершили 1079 клиентов - это 16,1% от всех пользователей\n",
    "\n",
    "Также у нас есть  3026 клиентов, которые не произвели ни одного действия.\n",
    "\n",
    "У нас ожидаемое количество участников теста: 6000. Данный порог мы приодолели, но 3026 не произволи ни одно действия, тогда у нас остается всего 3675 активных участников теста."
   ]
  },
  {
   "cell_type": "markdown",
   "metadata": {},
   "source": [
    "### Пересечение аудиторий тестов"
   ]
  },
  {
   "cell_type": "code",
   "execution_count": 26,
   "metadata": {},
   "outputs": [
    {
     "data": {
      "text/plain": [
       "interface_eu_test          11567\n",
       "recommender_system_test     6701\n",
       "Name: ab_test, dtype: int64"
      ]
     },
     "execution_count": 26,
     "metadata": {},
     "output_type": "execute_result"
    }
   ],
   "source": [
    "# Посмотрим сколько у нас тестов\n",
    "participants['ab_test'].value_counts()"
   ]
  },
  {
   "cell_type": "code",
   "execution_count": 27,
   "metadata": {},
   "outputs": [
    {
     "name": "stdout",
     "output_type": "stream",
     "text": [
      "0 пользоватлей попало в обе группы в тесте interface_eu_test\n"
     ]
    }
   ],
   "source": [
    "# Проверим сколько пользователей попало в обе группы в тесте interface_eu_test\n",
    "common_clients = np.intersect1d(participants[participants.ab_test == 'interface_eu_test'].query('group == \"A\"')['user_id'].unique(), participants[participants.ab_test == 'interface_eu_test'].query('group == \"B\"')['user_id'].unique())\n",
    "print(len(common_clients), 'пользоватлей попало в обе группы в тесте interface_eu_test')"
   ]
  },
  {
   "cell_type": "code",
   "execution_count": 28,
   "metadata": {},
   "outputs": [
    {
     "name": "stdout",
     "output_type": "stream",
     "text": [
      "482 общих пользователей теста interface_eu_test группы А и теста recommender_system_test группы А\n"
     ]
    }
   ],
   "source": [
    "common_clients = np.intersect1d(participants[participants.ab_test == 'interface_eu_test'].query('group == \"A\"')['user_id'].unique(), participants[participants.ab_test == 'recommender_system_test'].query('group == \"A\"')['user_id'].unique())\n",
    "print(len(common_clients), 'общих пользователей теста interface_eu_test группы А и теста recommender_system_test группы А')"
   ]
  },
  {
   "cell_type": "code",
   "execution_count": 29,
   "metadata": {},
   "outputs": [
    {
     "name": "stdout",
     "output_type": "stream",
     "text": [
      "439 общих пользователей теста interface_eu_test группы В и теста recommender_system_test группы А\n"
     ]
    }
   ],
   "source": [
    "common_clients = np.intersect1d(participants[participants.ab_test == 'interface_eu_test'].query('group == \"B\"')['user_id'].unique(), participants[participants.ab_test == 'recommender_system_test'].query('group == \"A\"')['user_id'].unique())\n",
    "print(len(common_clients), 'общих пользователей теста interface_eu_test группы В и теста recommender_system_test группы А')"
   ]
  },
  {
   "cell_type": "code",
   "execution_count": 30,
   "metadata": {},
   "outputs": [
    {
     "name": "stdout",
     "output_type": "stream",
     "text": [
      "337 общих пользователей теста interface_eu_test группы А и теста recommender_system_test группы В\n"
     ]
    }
   ],
   "source": [
    "common_clients = np.intersect1d(participants[participants.ab_test == 'interface_eu_test'].query('group == \"A\"')['user_id'].unique(), participants[participants.ab_test == 'recommender_system_test'].query('group == \"B\"')['user_id'].unique())\n",
    "print(len(common_clients), 'общих пользователей теста interface_eu_test группы А и теста recommender_system_test группы В')"
   ]
  },
  {
   "cell_type": "code",
   "execution_count": 31,
   "metadata": {},
   "outputs": [
    {
     "name": "stdout",
     "output_type": "stream",
     "text": [
      "344 общих пользователей теста interface_eu_test группы В и теста recommender_system_test группы В\n"
     ]
    }
   ],
   "source": [
    "common_clients = np.intersect1d(participants[participants.ab_test == 'interface_eu_test'].query('group == \"B\"')['user_id'].unique(), participants[participants.ab_test == 'recommender_system_test'].query('group == \"B\"')['user_id'].unique())\n",
    "print(len(common_clients), 'общих пользователей теста interface_eu_test группы В и теста recommender_system_test группы В')"
   ]
  },
  {
   "cell_type": "code",
   "execution_count": 32,
   "metadata": {},
   "outputs": [
    {
     "name": "stdout",
     "output_type": "stream",
     "text": [
      "Всего 1602 пользователей попало в оба теста\n"
     ]
    }
   ],
   "source": [
    "common_clients = np.intersect1d(participants.query('ab_test == \"interface_eu_test\"')['user_id'].unique(), participants.query('ab_test == \"recommender_system_test\"')['user_id'].unique())\n",
    "print('Всего', len(common_clients), 'пользователей попало в оба теста')"
   ]
  },
  {
   "cell_type": "code",
   "execution_count": 33,
   "metadata": {},
   "outputs": [
    {
     "name": "stdout",
     "output_type": "stream",
     "text": [
      "5831 пользователей теста interface_eu_test в группе А\n"
     ]
    }
   ],
   "source": [
    "print(len(participants[participants.ab_test == 'interface_eu_test'].query('group == \"A\"')), 'пользователей теста interface_eu_test в группе А')"
   ]
  },
  {
   "cell_type": "code",
   "execution_count": 34,
   "metadata": {},
   "outputs": [
    {
     "name": "stdout",
     "output_type": "stream",
     "text": [
      "5736 пользователей теста interface_eu_test в группе B\n"
     ]
    }
   ],
   "source": [
    "print(len(participants[participants.ab_test == 'interface_eu_test'].query('group == \"B\"')), 'пользователей теста interface_eu_test в группе B')"
   ]
  },
  {
   "cell_type": "code",
   "execution_count": 35,
   "metadata": {},
   "outputs": [
    {
     "name": "stdout",
     "output_type": "stream",
     "text": [
      "3824 пользователей теста recommender_system_test в группе А\n"
     ]
    }
   ],
   "source": [
    "print(len(participants[participants.ab_test == 'recommender_system_test'].query('group == \"A\"')), 'пользователей теста recommender_system_test в группе А')"
   ]
  },
  {
   "cell_type": "code",
   "execution_count": 36,
   "metadata": {},
   "outputs": [
    {
     "name": "stdout",
     "output_type": "stream",
     "text": [
      "2877 пользователей теста recommender_system_test в группе B\n"
     ]
    }
   ],
   "source": [
    "print(len(participants[participants.ab_test == 'recommender_system_test'].query('group == \"B\"')), 'пользователей теста recommender_system_test в группе B')"
   ]
  },
  {
   "cell_type": "code",
   "execution_count": 37,
   "metadata": {},
   "outputs": [
    {
     "data": {
      "text/html": [
       "<div>\n",
       "<style scoped>\n",
       "    .dataframe tbody tr th:only-of-type {\n",
       "        vertical-align: middle;\n",
       "    }\n",
       "\n",
       "    .dataframe tbody tr th {\n",
       "        vertical-align: top;\n",
       "    }\n",
       "\n",
       "    .dataframe thead th {\n",
       "        text-align: right;\n",
       "    }\n",
       "</style>\n",
       "<table border=\"1\" class=\"dataframe\">\n",
       "  <thead>\n",
       "    <tr style=\"text-align: right;\">\n",
       "      <th></th>\n",
       "      <th></th>\n",
       "      <th>recommender system test group A</th>\n",
       "      <th>recommender system test group B</th>\n",
       "    </tr>\n",
       "  </thead>\n",
       "  <tbody>\n",
       "    <tr>\n",
       "      <td>0</td>\n",
       "      <td>interface eu test group A</td>\n",
       "      <td>482</td>\n",
       "      <td>337</td>\n",
       "    </tr>\n",
       "    <tr>\n",
       "      <td>1</td>\n",
       "      <td>interface eu test group B</td>\n",
       "      <td>439</td>\n",
       "      <td>344</td>\n",
       "    </tr>\n",
       "  </tbody>\n",
       "</table>\n",
       "</div>"
      ],
      "text/plain": [
       "                              recommender system test group A  \\\n",
       "0  interface eu test group A                              482   \n",
       "1  interface eu test group B                              439   \n",
       "\n",
       "   recommender system test group B  \n",
       "0                              337  \n",
       "1                              344  "
      ]
     },
     "execution_count": 37,
     "metadata": {},
     "output_type": "execute_result"
    }
   ],
   "source": [
    "# Создадим новый дата фрейм с данными пересекающихся пользователей\n",
    "common_clients_data = pd.DataFrame({'': ['interface eu test group A', 'interface eu test group B'], \n",
    "                                  'recommender system test group A': [482, 439],\n",
    "                                  'recommender system test group B': [337, 344]})\n",
    "common_clients_data"
   ]
  },
  {
   "cell_type": "code",
   "execution_count": 38,
   "metadata": {},
   "outputs": [
    {
     "data": {
      "text/html": [
       "<div>\n",
       "<style scoped>\n",
       "    .dataframe tbody tr th:only-of-type {\n",
       "        vertical-align: middle;\n",
       "    }\n",
       "\n",
       "    .dataframe tbody tr th {\n",
       "        vertical-align: top;\n",
       "    }\n",
       "\n",
       "    .dataframe thead th {\n",
       "        text-align: right;\n",
       "    }\n",
       "</style>\n",
       "<table border=\"1\" class=\"dataframe\">\n",
       "  <thead>\n",
       "    <tr style=\"text-align: right;\">\n",
       "      <th></th>\n",
       "      <th></th>\n",
       "      <th>share</th>\n",
       "    </tr>\n",
       "  </thead>\n",
       "  <tbody>\n",
       "    <tr>\n",
       "      <td>0</td>\n",
       "      <td>interface eu test group A</td>\n",
       "      <td>0.140456</td>\n",
       "    </tr>\n",
       "    <tr>\n",
       "      <td>1</td>\n",
       "      <td>interface eu test group B</td>\n",
       "      <td>0.136506</td>\n",
       "    </tr>\n",
       "    <tr>\n",
       "      <td>2</td>\n",
       "      <td>recommender system test group A</td>\n",
       "      <td>0.240847</td>\n",
       "    </tr>\n",
       "    <tr>\n",
       "      <td>3</td>\n",
       "      <td>recommender system test group B</td>\n",
       "      <td>0.236705</td>\n",
       "    </tr>\n",
       "  </tbody>\n",
       "</table>\n",
       "</div>"
      ],
      "text/plain": [
       "                                       share\n",
       "0        interface eu test group A  0.140456\n",
       "1        interface eu test group B  0.136506\n",
       "2  recommender system test group A  0.240847\n",
       "3  recommender system test group B  0.236705"
      ]
     },
     "execution_count": 38,
     "metadata": {},
     "output_type": "execute_result"
    }
   ],
   "source": [
    "# Создадим новый дата фрейм с данными пересекающихся пользователей\n",
    "common_clients_share = pd.DataFrame({'': ['interface eu test group A', 'interface eu test group B', 'recommender system test group A', 'recommender system test group B'], \n",
    "                                  'share': [(482 + 337) / 5831, (439 + 344) / 5736, (482 + 439) / 3824, (337 + 344) / 2877]})\n",
    "common_clients_share"
   ]
  },
  {
   "cell_type": "markdown",
   "metadata": {},
   "source": [
    "#### Вывод"
   ]
  },
  {
   "cell_type": "markdown",
   "metadata": {},
   "source": [
    "Всего у нас 1602 пользователя которые попали в оба теста.\n",
    "- 482 пользователя попало в тест recommender system test группы А и тест interface eu test group группы А\n",
    "- 439 пользователей попало в тест recommender system test группы А и тест interface eu test group группы В\n",
    "- 337 пользователей попало в тест recommender system test группы В и тест interface eu test group группы А\n",
    "- 344 пользователей попало в тест  recommender system test группы В и тест interface eu test group группы В\n",
    "\n",
    "Итого:\n",
    "- В тесте interface eu test группы А есть 14,05% пользователей, которые пересекаются с другим тестом\n",
    "- В тесте interface eu test группы В есть 13,65% пользователей, которые пересекаются с другим тестом\n",
    "- В тесте recommender system test группы А есть 24,08% пользователей, которые пересекаются с другим тестом\n",
    "- В тесте recommender system test групп В есть 23,67% пользователей, которые пересекаются с другим тестом\n",
    "\n",
    "Это равномерное распределение пользователей."
   ]
  },
  {
   "cell_type": "markdown",
   "metadata": {},
   "source": [
    "## Шаг №3. Изучение результатов эксперемента"
   ]
  },
  {
   "cell_type": "code",
   "execution_count": 39,
   "metadata": {},
   "outputs": [],
   "source": [
    "# Создадим сводную таблицу по группам пользователей и событиям, которые они совершали, по тесту interface_eu_test\n",
    "df = data.pivot_table(index = 'event_name', columns = 'group', values = 'user_id', aggfunc = 'nunique')\n",
    "# Скинем индексы\n",
    "df = df.reset_index()\n",
    "# Переименуем колонки\n",
    "df.columns = ['name', 'A', 'B']\n",
    "# Изменим таблицу в порядок login, product_page, product_cart, purchase\n",
    "df = df.reindex([0, 2, 1, 3])\n",
    "# Также создадим ключи, чтобы по номеру группы выводилось количество клиентов в этой группе\n",
    "group_id = {'A': data[data.group == 'A']['user_id'].nunique(),\n",
    "           'B': data[data.group == 'B']['user_id'].nunique()}"
   ]
  },
  {
   "cell_type": "markdown",
   "metadata": {},
   "source": [
    "Сформулируем нулевую и альтернативную гипотезы:\n",
    "\n",
    " - Нулевая гипотеза: Доли в группах одинаковые\n",
    " - Альтернативная гипотеза : Доли в группах разные\n",
    " \n",
    "Наши гипотезы будем проверять с уровнем значимости статистического теста = 0.10"
   ]
  },
  {
   "cell_type": "code",
   "execution_count": 40,
   "metadata": {},
   "outputs": [],
   "source": [
    "# Создадим функцию для сравнение долей в группах\n",
    "def difference(group_1, group_2, alpha):\n",
    "    for i in df.index:\n",
    "        alpha = alpha\n",
    "        # сколько людей выполнило действие относительно общего количества в первой группе\n",
    "        p1 = df[group_1][i] / group_id[group_1]\n",
    "        # сколько людей выполнило действие относительно общего количества во второй группе\n",
    "        p2 = df[group_2][i] / group_id[group_2]\n",
    "        # сколько людей выполнило действие относительно общего количества\n",
    "        p3 = ((df[group_1][i] + df[group_2][i]) / (group_id[group_1]+group_id[group_2]))\n",
    "        # разница пропорций\n",
    "        difference = p1 - p2\n",
    "        # статистика в ст.отклонениях стандартного нормального распределения\n",
    "        value = difference / np.sqrt(p3 * (1-p3) * (1/group_id[group_1] + 1/ group_id[group_2]))\n",
    "        # задаем стандартное нормальное распределение (среднее 0, ст.отклонение 1)\n",
    "        distr = st.norm(0, 1)\n",
    "        p_value = (1 - distr.cdf(abs(value))) * 2\n",
    "        print('Для события {} p-значение: {}'.format(df['name'][i], p_value))\n",
    "        if (p_value < alpha):\n",
    "            print(\"Отвергаем нулевую гипотезу: доли в группах\", group_1, 'и', group_2, 'разные')\n",
    "        else:\n",
    "            print(\"Не получилось отвергнуть нулевую гипотезу: доли в группах\", group_1, 'и', group_2, 'одинаковые')\n",
    "        print('')\n",
    "        \n",
    "# И добавим также в функцию построение воронки для наглядности   \n",
    "    fig = go.Figure()\n",
    "    for i, group in enumerate([group_1, group_2]):\n",
    "        fig.add_trace(go.Funnel(\n",
    "            name = str(group),\n",
    "            y = df['name'],\n",
    "            x = df[group]))\n",
    "\n",
    "    fig.show()"
   ]
  },
  {
   "cell_type": "code",
   "execution_count": 41,
   "metadata": {},
   "outputs": [
    {
     "name": "stdout",
     "output_type": "stream",
     "text": [
      "Для события login p-значение: 0.0\n",
      "Отвергаем нулевую гипотезу: доли в группах A и B разные\n",
      "\n",
      "Для события product_page p-значение: 0.0\n",
      "Отвергаем нулевую гипотезу: доли в группах A и B разные\n",
      "\n",
      "Для события product_cart p-значение: 0.0\n",
      "Отвергаем нулевую гипотезу: доли в группах A и B разные\n",
      "\n",
      "Для события purchase p-значение: 0.0\n",
      "Отвергаем нулевую гипотезу: доли в группах A и B разные\n",
      "\n"
     ]
    }
   ],
   "source": [
    "difference('A', 'B', 0.10)"
   ]
  },
  {
   "attachments": {
    "%D0%A1%D0%BD%D0%B8%D0%BC%D0%BE%D0%BA2.PNG": {
     "image/png": "[encoded data removed]"
    }
   },
   "cell_type": "markdown",
   "metadata": {},
   "source": [
    "![%D0%A1%D0%BD%D0%B8%D0%BC%D0%BE%D0%BA2.PNG](attachment:%D0%A1%D0%BD%D0%B8%D0%BC%D0%BE%D0%BA2.PNG)"
   ]
  },
  {
   "cell_type": "markdown",
   "metadata": {},
   "source": [
    "### Вывод"
   ]
  },
  {
   "cell_type": "markdown",
   "metadata": {},
   "source": [
    "Есть значимая разница между группой A и экспериментальной группой B."
   ]
  },
  {
   "cell_type": "markdown",
   "metadata": {},
   "source": [
    "## Вывод"
   ]
  },
  {
   "cell_type": "markdown",
   "metadata": {},
   "source": [
    "В четырех базовых таблицах у нас не было дублированных срок, и пропусков (кроме таблицы events в столбце details, где была указана сумма покупки, но т.к. не все события являются покупками, то и в данных строках есть пропуски).\n",
    "\n",
    "Везде был неправильный тип данных для дат, я их поменяла на нужный.\n",
    "\n",
    "Дата проведения нашего теста пересекается с новогодней промо акцией (с 25 декабря по 3 января), что может очень сильно исказить данные теста.\n",
    "\n",
    "Всего в логе 440317 событий, 58703 пользователей, в среднем на пользователя приходится 6 событий.\n",
    "\n",
    "В таблице есть 4 типа событий\n",
    "\n",
    " - login - открытие главного экран - его совершили 3675 клиентов(это 54,8% от всех пользователей) 11 190 раз\n",
    " - product_page - открытие экрана продукта - его совершили 2303 клиента (это 34,4% от всех клиентов)  6 930 раза\n",
    " - product_cart - открытие корзины - его совершили 1079 клиентав (это 16,1% от всех клиентов) 3 247 раза\n",
    " - purchase - покупка - его совершили 1128 клиентов (это 16,8% от всех клиентов) 3 331 раз\n",
    "\n",
    "Также у нас есть  3026 клиентов, которые не произвели ни одного действия.\n",
    "\n",
    "У нас ожидаемое количество участников теста: 6000. Данный порог мы приодолели, но 3026 не произволи ни одно действия, тогда у нас остается всего 3675 активных участников теста.\n",
    "\n",
    "Также у нас есть 1602 клиента, которые принимают участия в обоих тестах:\n",
    "\n",
    "- В тесте interface eu test группы А есть 14,05% пользователей, которые пересекаются с другим тестом\n",
    "- В тесте interface eu test группы В есть 13,65% пользователей, которые пересекаются с другим тестом\n",
    "- В тесте recommender system test группы А есть 24,08% пользователей, которые пересекаются с другим тестом\n",
    "- В тесте recommender system test групп В есть 23,67% пользователей, которые пересекаются с другим тестом\n",
    "\n",
    "Это равномерное распределение пользователей.\n",
    "\n",
    "Нам нужно было выяснить, что новых клиентов (из группы В) из региона EU у нас как минимум 15%. В итого клиентов из региона UE из новой группы клиентов 13.7%.\n",
    "\n",
    "Я провела 4 проверки статистических гипотез с уровнем значимости  0,10 между контрольными группой и группой с улучшенной рекомендательной системой, где результат, что есть значимая разница между данными группами.\n",
    "\n",
    "Но наш эксперемент проведён некорректно:\n",
    " - Время проведения теста пересекается с промо акцией.\n",
    " - Вместо 15% новых клиентов из региона EU, у нас всего 13,7%.\n",
    " - Вместо 6000 участников, у нас всего 3675 активных участников.\n",
    "\n",
    "Потому нельзя делать какие либо выводы из данного эксперемента, нельзя сделать вывод какая платёжная воронка лучше.\n",
    "\n",
    "Нужно продлить время эксперемента (для набора необходимого количества участников) и удалить некорректные временные данные (пересечение с промо акцией / ями)."
   ]
  }
 ],
 "metadata": {
  "ExecuteTimeLog": [
   {
    "duration": 592,
    "start_time": "2021-11-09T12:27:42.481Z"
   },
   {
    "duration": 2023,
    "start_time": "2021-11-09T12:28:47.642Z"
   },
   {
    "duration": 32,
    "start_time": "2021-11-09T12:28:59.619Z"
   },
   {
    "duration": 6,
    "start_time": "2021-11-09T12:29:17.675Z"
   },
   {
    "duration": 1778,
    "start_time": "2021-11-09T12:31:14.482Z"
   },
   {
    "duration": 3,
    "start_time": "2021-11-09T12:31:31.413Z"
   },
   {
    "duration": 6,
    "start_time": "2021-11-09T12:31:33.681Z"
   },
   {
    "duration": 7,
    "start_time": "2021-11-09T12:31:40.779Z"
   },
   {
    "duration": 24,
    "start_time": "2021-11-09T12:32:02.220Z"
   },
   {
    "duration": 6,
    "start_time": "2021-11-09T12:32:02.306Z"
   },
   {
    "duration": 24,
    "start_time": "2021-11-09T12:32:04.985Z"
   },
   {
    "duration": 75,
    "start_time": "2021-11-09T12:49:12.102Z"
   },
   {
    "duration": 76,
    "start_time": "2021-11-09T12:49:21.290Z"
   },
   {
    "duration": 79,
    "start_time": "2021-11-09T12:49:39.523Z"
   },
   {
    "duration": 15,
    "start_time": "2021-11-09T12:49:53.473Z"
   },
   {
    "duration": 40,
    "start_time": "2021-11-09T12:50:22.783Z"
   },
   {
    "duration": 6453,
    "start_time": "2021-11-09T12:51:25.431Z"
   },
   {
    "duration": 248,
    "start_time": "2021-11-09T12:52:03.007Z"
   },
   {
    "duration": 15,
    "start_time": "2021-11-09T12:52:10.422Z"
   },
   {
    "duration": 6285,
    "start_time": "2021-11-09T12:52:21.513Z"
   },
   {
    "duration": 6,
    "start_time": "2021-11-09T12:52:43.440Z"
   },
   {
    "duration": 413,
    "start_time": "2021-11-09T12:53:06.690Z"
   },
   {
    "duration": 489,
    "start_time": "2021-11-09T12:55:49.481Z"
   },
   {
    "duration": 56,
    "start_time": "2021-11-09T12:56:11.078Z"
   },
   {
    "duration": 290,
    "start_time": "2021-11-09T12:56:25.519Z"
   },
   {
    "duration": 1445,
    "start_time": "2021-11-09T13:00:02.869Z"
   },
   {
    "duration": 3948,
    "start_time": "2021-11-09T13:00:12.355Z"
   },
   {
    "duration": 41,
    "start_time": "2021-11-09T13:00:22.331Z"
   },
   {
    "duration": 10,
    "start_time": "2021-11-09T13:00:33.333Z"
   },
   {
    "duration": 33,
    "start_time": "2021-11-09T13:01:50.356Z"
   },
   {
    "duration": 9,
    "start_time": "2021-11-09T13:07:21.076Z"
   },
   {
    "duration": 10,
    "start_time": "2021-11-09T13:07:52.752Z"
   },
   {
    "duration": 253,
    "start_time": "2021-11-09T13:10:18.789Z"
   },
   {
    "duration": 3,
    "start_time": "2021-11-09T13:10:32.420Z"
   },
   {
    "duration": 40,
    "start_time": "2021-11-09T13:10:35.613Z"
   },
   {
    "duration": 7,
    "start_time": "2021-11-09T13:12:32.322Z"
   },
   {
    "duration": 7,
    "start_time": "2021-11-09T13:12:39.644Z"
   },
   {
    "duration": 8,
    "start_time": "2021-11-09T13:30:13.371Z"
   },
   {
    "duration": 37,
    "start_time": "2021-11-09T13:36:30.975Z"
   },
   {
    "duration": 34,
    "start_time": "2021-11-09T13:38:02.946Z"
   },
   {
    "duration": 491,
    "start_time": "2021-11-10T11:47:30.162Z"
   },
   {
    "duration": 547,
    "start_time": "2021-11-10T11:47:44.512Z"
   },
   {
    "duration": 32,
    "start_time": "2021-11-10T11:47:45.061Z"
   },
   {
    "duration": 5,
    "start_time": "2021-11-10T11:47:45.095Z"
   },
   {
    "duration": 7,
    "start_time": "2021-11-10T11:47:45.102Z"
   },
   {
    "duration": 77,
    "start_time": "2021-11-10T11:47:45.110Z"
   },
   {
    "duration": 13,
    "start_time": "2021-11-10T11:47:45.189Z"
   },
   {
    "duration": 31,
    "start_time": "2021-11-10T11:47:45.203Z"
   },
   {
    "duration": 415,
    "start_time": "2021-11-10T11:47:45.236Z"
   },
   {
    "duration": 464,
    "start_time": "2021-11-10T11:47:45.652Z"
   },
   {
    "duration": 53,
    "start_time": "2021-11-10T11:47:46.117Z"
   },
   {
    "duration": 277,
    "start_time": "2021-11-10T11:47:46.172Z"
   },
   {
    "duration": 44,
    "start_time": "2021-11-10T11:47:46.450Z"
   },
   {
    "duration": 3516,
    "start_time": "2021-11-10T11:47:46.496Z"
   },
   {
    "duration": 36,
    "start_time": "2021-11-10T11:47:50.014Z"
   },
   {
    "duration": 9,
    "start_time": "2021-11-10T11:47:50.051Z"
   },
   {
    "duration": 15,
    "start_time": "2021-11-10T11:47:50.062Z"
   },
   {
    "duration": 52,
    "start_time": "2021-11-10T11:47:50.092Z"
   },
   {
    "duration": 7,
    "start_time": "2021-11-10T11:47:50.146Z"
   },
   {
    "duration": 86,
    "start_time": "2021-11-10T11:47:50.155Z"
   },
   {
    "duration": 17,
    "start_time": "2021-11-10T12:02:35.485Z"
   },
   {
    "duration": 4,
    "start_time": "2021-11-10T12:04:22.027Z"
   },
   {
    "duration": 1373,
    "start_time": "2021-11-10T12:08:44.207Z"
   },
   {
    "duration": 80,
    "start_time": "2021-11-10T12:09:09.312Z"
   },
   {
    "duration": 255,
    "start_time": "2021-11-10T12:09:13.136Z"
   },
   {
    "duration": 565,
    "start_time": "2021-11-10T12:10:16.180Z"
   },
   {
    "duration": 30,
    "start_time": "2021-11-10T12:10:16.747Z"
   },
   {
    "duration": 10,
    "start_time": "2021-11-10T12:10:16.778Z"
   },
   {
    "duration": 10,
    "start_time": "2021-11-10T12:10:16.790Z"
   },
   {
    "duration": 86,
    "start_time": "2021-11-10T12:10:16.802Z"
   },
   {
    "duration": 14,
    "start_time": "2021-11-10T12:10:16.890Z"
   },
   {
    "duration": 37,
    "start_time": "2021-11-10T12:10:16.905Z"
   },
   {
    "duration": 419,
    "start_time": "2021-11-10T12:10:16.945Z"
   },
   {
    "duration": 479,
    "start_time": "2021-11-10T12:10:17.366Z"
   },
   {
    "duration": 59,
    "start_time": "2021-11-10T12:10:17.846Z"
   },
   {
    "duration": 273,
    "start_time": "2021-11-10T12:10:17.906Z"
   },
   {
    "duration": 42,
    "start_time": "2021-11-10T12:10:18.181Z"
   },
   {
    "duration": 3499,
    "start_time": "2021-11-10T12:10:18.225Z"
   },
   {
    "duration": 32,
    "start_time": "2021-11-10T12:10:21.726Z"
   },
   {
    "duration": 6,
    "start_time": "2021-11-10T12:10:21.760Z"
   },
   {
    "duration": 16,
    "start_time": "2021-11-10T12:10:21.768Z"
   },
   {
    "duration": 35,
    "start_time": "2021-11-10T12:10:21.786Z"
   },
   {
    "duration": 6,
    "start_time": "2021-11-10T12:10:21.823Z"
   },
   {
    "duration": 9,
    "start_time": "2021-11-10T12:10:21.830Z"
   },
   {
    "duration": 69,
    "start_time": "2021-11-10T12:10:21.840Z"
   },
   {
    "duration": 252,
    "start_time": "2021-11-10T12:10:21.910Z"
   },
   {
    "duration": 130,
    "start_time": "2021-11-10T12:10:22.164Z"
   },
   {
    "duration": 133,
    "start_time": "2021-11-10T12:10:40.859Z"
   },
   {
    "duration": 564,
    "start_time": "2021-11-10T12:13:07.946Z"
   },
   {
    "duration": 269,
    "start_time": "2021-11-10T12:13:10.830Z"
   },
   {
    "duration": 3,
    "start_time": "2021-11-10T12:13:31.481Z"
   },
   {
    "duration": 1103,
    "start_time": "2021-11-10T12:15:34.994Z"
   },
   {
    "duration": 27,
    "start_time": "2021-11-10T12:15:36.099Z"
   },
   {
    "duration": 6,
    "start_time": "2021-11-10T12:15:36.128Z"
   },
   {
    "duration": 7,
    "start_time": "2021-11-10T12:15:36.136Z"
   },
   {
    "duration": 76,
    "start_time": "2021-11-10T12:15:36.145Z"
   },
   {
    "duration": 15,
    "start_time": "2021-11-10T12:15:36.223Z"
   },
   {
    "duration": 31,
    "start_time": "2021-11-10T12:15:36.240Z"
   },
   {
    "duration": 400,
    "start_time": "2021-11-10T12:15:36.293Z"
   },
   {
    "duration": 468,
    "start_time": "2021-11-10T12:15:36.695Z"
   },
   {
    "duration": 61,
    "start_time": "2021-11-10T12:15:37.164Z"
   },
   {
    "duration": 264,
    "start_time": "2021-11-10T12:15:37.227Z"
   },
   {
    "duration": 34,
    "start_time": "2021-11-10T12:15:37.493Z"
   },
   {
    "duration": 3510,
    "start_time": "2021-11-10T12:15:37.528Z"
   },
   {
    "duration": 34,
    "start_time": "2021-11-10T12:15:41.040Z"
   },
   {
    "duration": 6,
    "start_time": "2021-11-10T12:15:41.076Z"
   },
   {
    "duration": 10,
    "start_time": "2021-11-10T12:15:41.084Z"
   },
   {
    "duration": 36,
    "start_time": "2021-11-10T12:15:41.096Z"
   },
   {
    "duration": 6,
    "start_time": "2021-11-10T12:15:41.133Z"
   },
   {
    "duration": 7,
    "start_time": "2021-11-10T12:15:41.140Z"
   },
   {
    "duration": 78,
    "start_time": "2021-11-10T12:15:41.148Z"
   },
   {
    "duration": 251,
    "start_time": "2021-11-10T12:15:41.228Z"
   },
   {
    "duration": 1090,
    "start_time": "2021-11-10T12:21:21.621Z"
   },
   {
    "duration": 28,
    "start_time": "2021-11-10T12:21:22.713Z"
   },
   {
    "duration": 8,
    "start_time": "2021-11-10T12:21:22.743Z"
   },
   {
    "duration": 7,
    "start_time": "2021-11-10T12:21:22.753Z"
   },
   {
    "duration": 73,
    "start_time": "2021-11-10T12:21:22.762Z"
   },
   {
    "duration": 12,
    "start_time": "2021-11-10T12:21:22.837Z"
   },
   {
    "duration": 41,
    "start_time": "2021-11-10T12:21:22.851Z"
   },
   {
    "duration": 391,
    "start_time": "2021-11-10T12:21:22.894Z"
   },
   {
    "duration": 479,
    "start_time": "2021-11-10T12:21:23.290Z"
   },
   {
    "duration": 61,
    "start_time": "2021-11-10T12:21:23.770Z"
   },
   {
    "duration": 272,
    "start_time": "2021-11-10T12:21:23.832Z"
   },
   {
    "duration": 35,
    "start_time": "2021-11-10T12:21:24.106Z"
   },
   {
    "duration": 3483,
    "start_time": "2021-11-10T12:21:24.142Z"
   },
   {
    "duration": 33,
    "start_time": "2021-11-10T12:21:27.627Z"
   },
   {
    "duration": 7,
    "start_time": "2021-11-10T12:21:27.661Z"
   },
   {
    "duration": 12,
    "start_time": "2021-11-10T12:21:27.670Z"
   },
   {
    "duration": 34,
    "start_time": "2021-11-10T12:21:27.692Z"
   },
   {
    "duration": 6,
    "start_time": "2021-11-10T12:21:27.727Z"
   },
   {
    "duration": 8,
    "start_time": "2021-11-10T12:21:27.735Z"
   },
   {
    "duration": 71,
    "start_time": "2021-11-10T12:21:27.744Z"
   },
   {
    "duration": 239,
    "start_time": "2021-11-10T12:21:27.817Z"
   },
   {
    "duration": 228,
    "start_time": "2021-11-10T12:23:38.267Z"
   },
   {
    "duration": 220,
    "start_time": "2021-11-10T12:23:38.276Z"
   },
   {
    "duration": 216,
    "start_time": "2021-11-10T12:23:38.281Z"
   },
   {
    "duration": 212,
    "start_time": "2021-11-10T12:23:38.285Z"
   },
   {
    "duration": 208,
    "start_time": "2021-11-10T12:23:38.290Z"
   },
   {
    "duration": 205,
    "start_time": "2021-11-10T12:23:38.294Z"
   },
   {
    "duration": 201,
    "start_time": "2021-11-10T12:23:38.299Z"
   },
   {
    "duration": 199,
    "start_time": "2021-11-10T12:23:38.301Z"
   },
   {
    "duration": 197,
    "start_time": "2021-11-10T12:23:38.304Z"
   },
   {
    "duration": 196,
    "start_time": "2021-11-10T12:23:38.306Z"
   },
   {
    "duration": 193,
    "start_time": "2021-11-10T12:23:38.310Z"
   },
   {
    "duration": 190,
    "start_time": "2021-11-10T12:23:38.314Z"
   },
   {
    "duration": 188,
    "start_time": "2021-11-10T12:23:38.316Z"
   },
   {
    "duration": 187,
    "start_time": "2021-11-10T12:23:38.318Z"
   },
   {
    "duration": 186,
    "start_time": "2021-11-10T12:23:38.320Z"
   },
   {
    "duration": 185,
    "start_time": "2021-11-10T12:23:38.322Z"
   },
   {
    "duration": 184,
    "start_time": "2021-11-10T12:23:38.324Z"
   },
   {
    "duration": 182,
    "start_time": "2021-11-10T12:23:38.327Z"
   },
   {
    "duration": 182,
    "start_time": "2021-11-10T12:23:38.328Z"
   },
   {
    "duration": 180,
    "start_time": "2021-11-10T12:23:38.330Z"
   },
   {
    "duration": 178,
    "start_time": "2021-11-10T12:23:38.333Z"
   },
   {
    "duration": 177,
    "start_time": "2021-11-10T12:23:38.335Z"
   },
   {
    "duration": 176,
    "start_time": "2021-11-10T12:23:38.337Z"
   },
   {
    "duration": 1142,
    "start_time": "2021-11-10T12:23:47.272Z"
   },
   {
    "duration": 25,
    "start_time": "2021-11-10T12:23:48.416Z"
   },
   {
    "duration": 8,
    "start_time": "2021-11-10T12:23:48.443Z"
   },
   {
    "duration": 8,
    "start_time": "2021-11-10T12:23:48.453Z"
   },
   {
    "duration": 76,
    "start_time": "2021-11-10T12:23:48.462Z"
   },
   {
    "duration": 13,
    "start_time": "2021-11-10T12:23:48.539Z"
   },
   {
    "duration": 47,
    "start_time": "2021-11-10T12:23:48.553Z"
   },
   {
    "duration": 405,
    "start_time": "2021-11-10T12:23:48.602Z"
   },
   {
    "duration": 488,
    "start_time": "2021-11-10T12:23:49.010Z"
   },
   {
    "duration": 54,
    "start_time": "2021-11-10T12:23:49.500Z"
   },
   {
    "duration": 273,
    "start_time": "2021-11-10T12:23:49.556Z"
   },
   {
    "duration": 41,
    "start_time": "2021-11-10T12:23:49.831Z"
   },
   {
    "duration": 3493,
    "start_time": "2021-11-10T12:23:49.873Z"
   },
   {
    "duration": 34,
    "start_time": "2021-11-10T12:23:53.368Z"
   },
   {
    "duration": 15,
    "start_time": "2021-11-10T12:23:53.404Z"
   },
   {
    "duration": 31,
    "start_time": "2021-11-10T12:23:53.420Z"
   },
   {
    "duration": 54,
    "start_time": "2021-11-10T12:23:53.453Z"
   },
   {
    "duration": 6,
    "start_time": "2021-11-10T12:23:53.509Z"
   },
   {
    "duration": 39,
    "start_time": "2021-11-10T12:23:53.516Z"
   },
   {
    "duration": 82,
    "start_time": "2021-11-10T12:23:53.556Z"
   },
   {
    "duration": 263,
    "start_time": "2021-11-10T12:23:53.640Z"
   },
   {
    "duration": 12,
    "start_time": "2021-11-10T12:23:53.905Z"
   },
   {
    "duration": 86,
    "start_time": "2021-11-10T12:23:53.919Z"
   },
   {
    "duration": 16,
    "start_time": "2021-11-10T12:24:35.198Z"
   },
   {
    "duration": 74,
    "start_time": "2021-11-10T12:24:35.276Z"
   },
   {
    "duration": 383,
    "start_time": "2021-11-10T12:24:47.820Z"
   },
   {
    "duration": 43,
    "start_time": "2021-11-10T12:24:54.757Z"
   },
   {
    "duration": 91,
    "start_time": "2021-11-10T12:24:54.802Z"
   },
   {
    "duration": 1305,
    "start_time": "2021-11-10T12:27:19.837Z"
   },
   {
    "duration": 26,
    "start_time": "2021-11-10T12:27:21.144Z"
   },
   {
    "duration": 12,
    "start_time": "2021-11-10T12:27:21.172Z"
   },
   {
    "duration": 7,
    "start_time": "2021-11-10T12:27:21.186Z"
   },
   {
    "duration": 71,
    "start_time": "2021-11-10T12:27:21.195Z"
   },
   {
    "duration": 12,
    "start_time": "2021-11-10T12:27:21.268Z"
   },
   {
    "duration": 37,
    "start_time": "2021-11-10T12:27:21.281Z"
   },
   {
    "duration": 401,
    "start_time": "2021-11-10T12:27:21.321Z"
   },
   {
    "duration": 468,
    "start_time": "2021-11-10T12:27:21.724Z"
   },
   {
    "duration": 54,
    "start_time": "2021-11-10T12:27:22.194Z"
   },
   {
    "duration": 273,
    "start_time": "2021-11-10T12:27:22.250Z"
   },
   {
    "duration": 36,
    "start_time": "2021-11-10T12:27:22.524Z"
   },
   {
    "duration": 3513,
    "start_time": "2021-11-10T12:27:22.562Z"
   },
   {
    "duration": 33,
    "start_time": "2021-11-10T12:27:26.077Z"
   },
   {
    "duration": 7,
    "start_time": "2021-11-10T12:27:26.112Z"
   },
   {
    "duration": 11,
    "start_time": "2021-11-10T12:27:26.121Z"
   },
   {
    "duration": 57,
    "start_time": "2021-11-10T12:27:26.134Z"
   },
   {
    "duration": 8,
    "start_time": "2021-11-10T12:27:26.193Z"
   },
   {
    "duration": 7,
    "start_time": "2021-11-10T12:27:26.202Z"
   },
   {
    "duration": 57,
    "start_time": "2021-11-10T12:27:26.211Z"
   },
   {
    "duration": 274,
    "start_time": "2021-11-10T12:27:26.270Z"
   },
   {
    "duration": 14,
    "start_time": "2021-11-10T12:27:26.546Z"
   },
   {
    "duration": 92,
    "start_time": "2021-11-10T12:27:26.562Z"
   },
   {
    "duration": 219,
    "start_time": "2021-11-10T12:27:26.437Z"
   },
   {
    "duration": 248,
    "start_time": "2021-11-10T12:29:53.744Z"
   },
   {
    "duration": 2379,
    "start_time": "2021-11-10T12:30:47.137Z"
   },
   {
    "duration": 1035,
    "start_time": "2021-11-10T12:31:20.753Z"
   },
   {
    "duration": 25,
    "start_time": "2021-11-10T12:31:21.790Z"
   },
   {
    "duration": 7,
    "start_time": "2021-11-10T12:31:21.817Z"
   },
   {
    "duration": 9,
    "start_time": "2021-11-10T12:31:21.826Z"
   },
   {
    "duration": 76,
    "start_time": "2021-11-10T12:31:21.836Z"
   },
   {
    "duration": 14,
    "start_time": "2021-11-10T12:31:21.913Z"
   },
   {
    "duration": 31,
    "start_time": "2021-11-10T12:31:21.929Z"
   },
   {
    "duration": 417,
    "start_time": "2021-11-10T12:31:21.962Z"
   },
   {
    "duration": 484,
    "start_time": "2021-11-10T12:31:22.381Z"
   },
   {
    "duration": 60,
    "start_time": "2021-11-10T12:31:22.867Z"
   },
   {
    "duration": 275,
    "start_time": "2021-11-10T12:31:22.929Z"
   },
   {
    "duration": 34,
    "start_time": "2021-11-10T12:31:23.206Z"
   },
   {
    "duration": 951,
    "start_time": "2021-11-10T12:31:23.241Z"
   },
   {
    "duration": 193,
    "start_time": "2021-11-10T12:31:24.001Z"
   },
   {
    "duration": 190,
    "start_time": "2021-11-10T12:31:24.005Z"
   },
   {
    "duration": 187,
    "start_time": "2021-11-10T12:31:24.009Z"
   },
   {
    "duration": 184,
    "start_time": "2021-11-10T12:31:24.013Z"
   },
   {
    "duration": 182,
    "start_time": "2021-11-10T12:31:24.016Z"
   },
   {
    "duration": 180,
    "start_time": "2021-11-10T12:31:24.019Z"
   },
   {
    "duration": 179,
    "start_time": "2021-11-10T12:31:24.021Z"
   },
   {
    "duration": 177,
    "start_time": "2021-11-10T12:31:24.024Z"
   },
   {
    "duration": 173,
    "start_time": "2021-11-10T12:31:24.028Z"
   },
   {
    "duration": 170,
    "start_time": "2021-11-10T12:31:24.032Z"
   },
   {
    "duration": 168,
    "start_time": "2021-11-10T12:31:24.035Z"
   },
   {
    "duration": 166,
    "start_time": "2021-11-10T12:31:24.038Z"
   },
   {
    "duration": 92,
    "start_time": "2021-11-10T12:34:11.876Z"
   },
   {
    "duration": 1049,
    "start_time": "2021-11-10T12:34:32.551Z"
   },
   {
    "duration": 25,
    "start_time": "2021-11-10T12:34:33.602Z"
   },
   {
    "duration": 12,
    "start_time": "2021-11-10T12:34:33.629Z"
   },
   {
    "duration": 7,
    "start_time": "2021-11-10T12:34:33.643Z"
   },
   {
    "duration": 74,
    "start_time": "2021-11-10T12:34:33.652Z"
   },
   {
    "duration": 13,
    "start_time": "2021-11-10T12:34:33.728Z"
   },
   {
    "duration": 43,
    "start_time": "2021-11-10T12:34:33.742Z"
   },
   {
    "duration": 392,
    "start_time": "2021-11-10T12:34:33.788Z"
   },
   {
    "duration": 447,
    "start_time": "2021-11-10T12:34:34.182Z"
   },
   {
    "duration": 61,
    "start_time": "2021-11-10T12:34:34.630Z"
   },
   {
    "duration": 253,
    "start_time": "2021-11-10T12:34:34.693Z"
   },
   {
    "duration": 34,
    "start_time": "2021-11-10T12:34:34.947Z"
   },
   {
    "duration": 3477,
    "start_time": "2021-11-10T12:34:34.982Z"
   },
   {
    "duration": 31,
    "start_time": "2021-11-10T12:34:38.461Z"
   },
   {
    "duration": 7,
    "start_time": "2021-11-10T12:34:38.494Z"
   },
   {
    "duration": 31,
    "start_time": "2021-11-10T12:34:38.504Z"
   },
   {
    "duration": 55,
    "start_time": "2021-11-10T12:34:38.537Z"
   },
   {
    "duration": 7,
    "start_time": "2021-11-10T12:34:38.594Z"
   },
   {
    "duration": 21,
    "start_time": "2021-11-10T12:34:38.602Z"
   },
   {
    "duration": 70,
    "start_time": "2021-11-10T12:34:38.625Z"
   },
   {
    "duration": 260,
    "start_time": "2021-11-10T12:34:38.697Z"
   },
   {
    "duration": 13,
    "start_time": "2021-11-10T12:34:38.960Z"
   },
   {
    "duration": 58,
    "start_time": "2021-11-10T12:34:38.976Z"
   },
   {
    "duration": 226,
    "start_time": "2021-11-10T12:34:38.811Z"
   },
   {
    "duration": 224,
    "start_time": "2021-11-10T12:34:38.814Z"
   },
   {
    "duration": 222,
    "start_time": "2021-11-10T12:34:38.817Z"
   },
   {
    "duration": 7,
    "start_time": "2021-11-10T12:34:43.813Z"
   },
   {
    "duration": 246,
    "start_time": "2021-11-10T12:34:43.863Z"
   },
   {
    "duration": 78,
    "start_time": "2021-11-10T12:36:25.648Z"
   },
   {
    "duration": 751,
    "start_time": "2021-11-10T12:36:31.328Z"
   },
   {
    "duration": 14064,
    "start_time": "2021-11-10T12:37:53.109Z"
   },
   {
    "duration": 15116,
    "start_time": "2021-11-10T12:39:03.384Z"
   },
   {
    "duration": 15289,
    "start_time": "2021-11-10T12:48:58.442Z"
   },
   {
    "duration": 15762,
    "start_time": "2021-11-10T12:50:10.942Z"
   },
   {
    "duration": 15803,
    "start_time": "2021-11-10T12:52:08.842Z"
   },
   {
    "duration": 199,
    "start_time": "2021-11-10T12:57:02.512Z"
   },
   {
    "duration": 14885,
    "start_time": "2021-11-10T12:57:21.706Z"
   },
   {
    "duration": 35,
    "start_time": "2021-11-10T13:48:42.340Z"
   },
   {
    "duration": 9,
    "start_time": "2021-11-10T13:49:39.916Z"
   },
   {
    "duration": 401,
    "start_time": "2021-11-10T13:49:58.162Z"
   },
   {
    "duration": 709,
    "start_time": "2021-11-10T13:58:34.740Z"
   },
   {
    "duration": 5603,
    "start_time": "2021-11-10T14:00:10.904Z"
   },
   {
    "duration": 543,
    "start_time": "2021-11-10T14:00:38.590Z"
   },
   {
    "duration": 5461,
    "start_time": "2021-11-10T14:00:48.995Z"
   },
   {
    "duration": 595,
    "start_time": "2021-11-10T14:01:11.032Z"
   },
   {
    "duration": 532,
    "start_time": "2021-11-10T14:01:35.349Z"
   },
   {
    "duration": 9,
    "start_time": "2021-11-10T14:01:37.951Z"
   },
   {
    "duration": 549,
    "start_time": "2021-11-10T14:01:51.236Z"
   },
   {
    "duration": 7,
    "start_time": "2021-11-10T14:01:54.148Z"
   },
   {
    "duration": 612,
    "start_time": "2021-11-10T14:02:07.780Z"
   },
   {
    "duration": 542,
    "start_time": "2021-11-10T14:02:08.394Z"
   },
   {
    "duration": 695,
    "start_time": "2021-11-10T14:02:59.486Z"
   },
   {
    "duration": 207,
    "start_time": "2021-11-10T14:26:02.551Z"
   },
   {
    "duration": 219,
    "start_time": "2021-11-10T14:26:20.593Z"
   },
   {
    "duration": 607,
    "start_time": "2021-11-10T14:26:23.632Z"
   },
   {
    "duration": 9,
    "start_time": "2021-11-10T14:26:47.186Z"
   },
   {
    "duration": 598,
    "start_time": "2021-11-10T14:27:03.510Z"
   },
   {
    "duration": 8,
    "start_time": "2021-11-10T14:27:06.396Z"
   },
   {
    "duration": 116,
    "start_time": "2021-11-10T14:27:10.044Z"
   },
   {
    "duration": 6,
    "start_time": "2021-11-10T14:40:10.171Z"
   },
   {
    "duration": 8,
    "start_time": "2021-11-10T14:41:07.979Z"
   },
   {
    "duration": 10,
    "start_time": "2021-11-10T14:43:22.504Z"
   },
   {
    "duration": 8,
    "start_time": "2021-11-10T14:48:45.000Z"
   },
   {
    "duration": 1905,
    "start_time": "2021-11-11T10:47:20.834Z"
   },
   {
    "duration": 32,
    "start_time": "2021-11-11T10:47:22.742Z"
   },
   {
    "duration": 25,
    "start_time": "2021-11-11T10:47:22.777Z"
   },
   {
    "duration": 17,
    "start_time": "2021-11-11T10:47:22.805Z"
   },
   {
    "duration": 128,
    "start_time": "2021-11-11T10:47:22.824Z"
   },
   {
    "duration": 18,
    "start_time": "2021-11-11T10:47:22.954Z"
   },
   {
    "duration": 61,
    "start_time": "2021-11-11T10:47:22.975Z"
   },
   {
    "duration": 772,
    "start_time": "2021-11-11T10:47:23.040Z"
   },
   {
    "duration": 629,
    "start_time": "2021-11-11T10:47:23.815Z"
   },
   {
    "duration": 83,
    "start_time": "2021-11-11T10:47:24.446Z"
   },
   {
    "duration": 348,
    "start_time": "2021-11-11T10:47:24.531Z"
   },
   {
    "duration": 62,
    "start_time": "2021-11-11T10:47:24.881Z"
   },
   {
    "duration": 6276,
    "start_time": "2021-11-11T10:47:24.946Z"
   },
   {
    "duration": 39,
    "start_time": "2021-11-11T10:47:31.225Z"
   },
   {
    "duration": 10,
    "start_time": "2021-11-11T10:47:31.266Z"
   },
   {
    "duration": 31,
    "start_time": "2021-11-11T10:47:31.278Z"
   },
   {
    "duration": 23931,
    "start_time": "2021-11-11T10:47:31.312Z"
   },
   {
    "duration": 23356,
    "start_time": "2021-11-11T10:47:55.246Z"
   },
   {
    "duration": 61,
    "start_time": "2021-11-11T10:48:18.604Z"
   },
   {
    "duration": 434,
    "start_time": "2021-11-11T10:48:18.667Z"
   },
   {
    "duration": 1042,
    "start_time": "2021-11-11T10:48:19.103Z"
   },
   {
    "duration": 884,
    "start_time": "2021-11-11T10:48:20.148Z"
   },
   {
    "duration": 822,
    "start_time": "2021-11-11T10:48:21.036Z"
   },
   {
    "duration": 9,
    "start_time": "2021-11-11T10:48:21.861Z"
   },
   {
    "duration": 57,
    "start_time": "2021-11-11T10:48:21.873Z"
   },
   {
    "duration": 96,
    "start_time": "2021-11-11T10:48:21.933Z"
   },
   {
    "duration": -1722,
    "start_time": "2021-11-11T10:48:23.753Z"
   },
   {
    "duration": -1728,
    "start_time": "2021-11-11T10:48:23.761Z"
   },
   {
    "duration": 30,
    "start_time": "2021-11-11T10:50:15.923Z"
   },
   {
    "duration": 31,
    "start_time": "2021-11-11T10:50:45.274Z"
   },
   {
    "duration": 43,
    "start_time": "2021-11-11T10:50:53.959Z"
   },
   {
    "duration": 51,
    "start_time": "2021-11-11T10:52:27.106Z"
   },
   {
    "duration": 9,
    "start_time": "2021-11-11T10:52:58.592Z"
   },
   {
    "duration": 12,
    "start_time": "2021-11-11T10:56:33.314Z"
   },
   {
    "duration": 22,
    "start_time": "2021-11-11T10:58:10.872Z"
   },
   {
    "duration": 5,
    "start_time": "2021-11-11T11:07:50.004Z"
   },
   {
    "duration": 566,
    "start_time": "2021-11-11T11:10:20.039Z"
   },
   {
    "duration": 4,
    "start_time": "2021-11-11T11:10:40.797Z"
   },
   {
    "duration": 230,
    "start_time": "2021-11-11T11:10:44.468Z"
   },
   {
    "duration": 5,
    "start_time": "2021-11-11T11:10:47.630Z"
   },
   {
    "duration": 5,
    "start_time": "2021-11-11T11:11:07.478Z"
   },
   {
    "duration": 6,
    "start_time": "2021-11-11T11:11:18.341Z"
   },
   {
    "duration": 19,
    "start_time": "2021-11-11T11:11:30.905Z"
   },
   {
    "duration": 161,
    "start_time": "2021-11-11T11:12:27.229Z"
   },
   {
    "duration": 238,
    "start_time": "2021-11-11T11:16:10.668Z"
   },
   {
    "duration": 100,
    "start_time": "2021-11-11T11:18:05.440Z"
   },
   {
    "duration": 7,
    "start_time": "2021-11-11T11:19:18.982Z"
   },
   {
    "duration": 7,
    "start_time": "2021-11-11T11:19:44.858Z"
   },
   {
    "duration": 9,
    "start_time": "2021-11-11T11:20:21.422Z"
   },
   {
    "duration": 7,
    "start_time": "2021-11-11T11:20:26.242Z"
   },
   {
    "duration": 11,
    "start_time": "2021-11-11T11:20:38.411Z"
   },
   {
    "duration": 58,
    "start_time": "2021-11-11T11:20:47.255Z"
   },
   {
    "duration": 6,
    "start_time": "2021-11-11T11:22:19.185Z"
   },
   {
    "duration": 5,
    "start_time": "2021-11-11T11:22:20.555Z"
   },
   {
    "duration": 162,
    "start_time": "2021-11-11T11:23:26.810Z"
   },
   {
    "duration": 17,
    "start_time": "2021-11-11T11:23:30.528Z"
   },
   {
    "duration": 5,
    "start_time": "2021-11-11T11:23:57.998Z"
   },
   {
    "duration": 4,
    "start_time": "2021-11-11T11:24:11.036Z"
   },
   {
    "duration": 9,
    "start_time": "2021-11-11T11:24:42.558Z"
   },
   {
    "duration": 15,
    "start_time": "2021-11-11T11:24:47.992Z"
   },
   {
    "duration": 18937,
    "start_time": "2021-11-11T12:04:39.731Z"
   },
   {
    "duration": 151,
    "start_time": "2021-11-11T12:07:52.009Z"
   },
   {
    "duration": 2024,
    "start_time": "2021-11-11T12:09:48.094Z"
   },
   {
    "duration": 33,
    "start_time": "2021-11-11T12:09:50.120Z"
   },
   {
    "duration": 10,
    "start_time": "2021-11-11T12:09:50.156Z"
   },
   {
    "duration": 11,
    "start_time": "2021-11-11T12:09:50.168Z"
   },
   {
    "duration": 111,
    "start_time": "2021-11-11T12:09:50.181Z"
   },
   {
    "duration": 19,
    "start_time": "2021-11-11T12:09:50.294Z"
   },
   {
    "duration": 45,
    "start_time": "2021-11-11T12:09:50.330Z"
   },
   {
    "duration": 726,
    "start_time": "2021-11-11T12:09:50.381Z"
   },
   {
    "duration": 639,
    "start_time": "2021-11-11T12:09:51.111Z"
   },
   {
    "duration": 82,
    "start_time": "2021-11-11T12:09:51.752Z"
   },
   {
    "duration": 380,
    "start_time": "2021-11-11T12:09:51.836Z"
   },
   {
    "duration": 62,
    "start_time": "2021-11-11T12:09:52.218Z"
   },
   {
    "duration": 6166,
    "start_time": "2021-11-11T12:09:52.282Z"
   },
   {
    "duration": 38,
    "start_time": "2021-11-11T12:09:58.450Z"
   },
   {
    "duration": 10,
    "start_time": "2021-11-11T12:09:58.490Z"
   },
   {
    "duration": 33,
    "start_time": "2021-11-11T12:09:58.502Z"
   },
   {
    "duration": 25370,
    "start_time": "2021-11-11T12:09:58.537Z"
   },
   {
    "duration": 20439,
    "start_time": "2021-11-11T12:10:23.910Z"
   },
   {
    "duration": 177,
    "start_time": "2021-11-11T12:10:44.352Z"
   },
   {
    "duration": 44,
    "start_time": "2021-11-11T12:10:44.531Z"
   },
   {
    "duration": 430,
    "start_time": "2021-11-11T12:10:44.578Z"
   },
   {
    "duration": 920,
    "start_time": "2021-11-11T12:10:45.011Z"
   },
   {
    "duration": 716,
    "start_time": "2021-11-11T12:10:45.936Z"
   },
   {
    "duration": 818,
    "start_time": "2021-11-11T12:10:46.654Z"
   },
   {
    "duration": 10,
    "start_time": "2021-11-11T12:10:47.474Z"
   },
   {
    "duration": 46,
    "start_time": "2021-11-11T12:10:47.487Z"
   },
   {
    "duration": 95,
    "start_time": "2021-11-11T12:10:47.535Z"
   },
   {
    "duration": 95,
    "start_time": "2021-11-11T12:10:47.633Z"
   },
   {
    "duration": 49,
    "start_time": "2021-11-11T12:10:47.730Z"
   },
   {
    "duration": 8,
    "start_time": "2021-11-11T12:10:47.782Z"
   },
   {
    "duration": 184,
    "start_time": "2021-11-11T12:10:47.792Z"
   },
   {
    "duration": 1885,
    "start_time": "2021-11-11T13:16:19.729Z"
   },
   {
    "duration": 33,
    "start_time": "2021-11-11T13:16:21.617Z"
   },
   {
    "duration": 9,
    "start_time": "2021-11-11T13:16:21.654Z"
   },
   {
    "duration": 15,
    "start_time": "2021-11-11T13:16:21.666Z"
   },
   {
    "duration": 113,
    "start_time": "2021-11-11T13:16:21.683Z"
   },
   {
    "duration": 18,
    "start_time": "2021-11-11T13:16:21.798Z"
   },
   {
    "duration": 52,
    "start_time": "2021-11-11T13:16:21.818Z"
   },
   {
    "duration": 709,
    "start_time": "2021-11-11T13:16:21.874Z"
   },
   {
    "duration": 627,
    "start_time": "2021-11-11T13:16:22.586Z"
   },
   {
    "duration": 80,
    "start_time": "2021-11-11T13:16:23.216Z"
   },
   {
    "duration": 370,
    "start_time": "2021-11-11T13:16:23.299Z"
   },
   {
    "duration": 60,
    "start_time": "2021-11-11T13:16:23.672Z"
   },
   {
    "duration": 6073,
    "start_time": "2021-11-11T13:16:23.735Z"
   },
   {
    "duration": 40,
    "start_time": "2021-11-11T13:16:29.810Z"
   },
   {
    "duration": 10,
    "start_time": "2021-11-11T13:16:29.852Z"
   },
   {
    "duration": 32,
    "start_time": "2021-11-11T13:16:29.864Z"
   },
   {
    "duration": 23655,
    "start_time": "2021-11-11T13:16:29.898Z"
   },
   {
    "duration": 22009,
    "start_time": "2021-11-11T13:16:53.555Z"
   },
   {
    "duration": 175,
    "start_time": "2021-11-11T13:17:15.567Z"
   },
   {
    "duration": 43,
    "start_time": "2021-11-11T13:17:15.745Z"
   },
   {
    "duration": 423,
    "start_time": "2021-11-11T13:17:15.790Z"
   },
   {
    "duration": 946,
    "start_time": "2021-11-11T13:17:16.216Z"
   },
   {
    "duration": 972,
    "start_time": "2021-11-11T13:17:17.167Z"
   },
   {
    "duration": 1157,
    "start_time": "2021-11-11T13:17:18.142Z"
   },
   {
    "duration": 32,
    "start_time": "2021-11-11T13:17:19.301Z"
   },
   {
    "duration": 39,
    "start_time": "2021-11-11T13:17:19.336Z"
   },
   {
    "duration": 78,
    "start_time": "2021-11-11T13:17:19.378Z"
   },
   {
    "duration": 102,
    "start_time": "2021-11-11T13:17:19.458Z"
   },
   {
    "duration": 79,
    "start_time": "2021-11-11T13:17:19.562Z"
   },
   {
    "duration": 178,
    "start_time": "2021-11-11T13:17:19.643Z"
   },
   {
    "duration": 13,
    "start_time": "2021-11-11T13:18:11.365Z"
   },
   {
    "duration": 592,
    "start_time": "2021-11-11T13:18:54.561Z"
   },
   {
    "duration": -376,
    "start_time": "2021-11-11T13:18:55.532Z"
   },
   {
    "duration": 423,
    "start_time": "2021-11-11T13:19:06.039Z"
   },
   {
    "duration": 156,
    "start_time": "2021-11-11T13:19:19.603Z"
   },
   {
    "duration": 8,
    "start_time": "2021-11-11T13:19:21.152Z"
   },
   {
    "duration": 140,
    "start_time": "2021-11-11T13:20:31.982Z"
   },
   {
    "duration": 9,
    "start_time": "2021-11-11T13:20:33.484Z"
   },
   {
    "duration": 185,
    "start_time": "2021-11-11T13:21:18.264Z"
   },
   {
    "duration": 9,
    "start_time": "2021-11-11T13:21:30.263Z"
   },
   {
    "duration": 181,
    "start_time": "2021-11-11T13:21:50.628Z"
   },
   {
    "duration": 9,
    "start_time": "2021-11-11T13:21:52.521Z"
   },
   {
    "duration": 180,
    "start_time": "2021-11-11T13:22:42.508Z"
   },
   {
    "duration": 10,
    "start_time": "2021-11-11T13:22:43.813Z"
   },
   {
    "duration": 9,
    "start_time": "2021-11-11T13:22:45.809Z"
   },
   {
    "duration": 185,
    "start_time": "2021-11-11T13:24:10.933Z"
   },
   {
    "duration": 13,
    "start_time": "2021-11-11T13:24:12.536Z"
   },
   {
    "duration": 10,
    "start_time": "2021-11-11T13:24:14.374Z"
   },
   {
    "duration": 191,
    "start_time": "2021-11-11T13:25:13.703Z"
   },
   {
    "duration": 11,
    "start_time": "2021-11-11T13:25:21.642Z"
   },
   {
    "duration": 207,
    "start_time": "2021-11-11T13:26:03.559Z"
   },
   {
    "duration": 12,
    "start_time": "2021-11-11T13:26:07.142Z"
   },
   {
    "duration": 26,
    "start_time": "2021-11-11T13:36:26.848Z"
   },
   {
    "duration": 15,
    "start_time": "2021-11-11T13:36:34.601Z"
   },
   {
    "duration": 45,
    "start_time": "2021-11-11T13:37:32.614Z"
   },
   {
    "duration": 347,
    "start_time": "2021-11-11T13:37:32.689Z"
   },
   {
    "duration": 35,
    "start_time": "2021-11-11T13:38:44.975Z"
   },
   {
    "duration": 95,
    "start_time": "2021-11-11T13:45:13.575Z"
   },
   {
    "duration": 296,
    "start_time": "2021-11-11T13:45:21.783Z"
   },
   {
    "duration": 6,
    "start_time": "2021-11-11T13:45:37.546Z"
   },
   {
    "duration": 5,
    "start_time": "2021-11-11T13:45:42.967Z"
   },
   {
    "duration": 6,
    "start_time": "2021-11-11T13:45:50.344Z"
   },
   {
    "duration": 5,
    "start_time": "2021-11-11T13:45:53.657Z"
   },
   {
    "duration": 9,
    "start_time": "2021-11-11T13:55:47.144Z"
   },
   {
    "duration": 563,
    "start_time": "2021-11-11T13:56:10.901Z"
   },
   {
    "duration": 5,
    "start_time": "2021-11-11T13:56:29.260Z"
   },
   {
    "duration": 535,
    "start_time": "2021-11-11T13:56:35.078Z"
   },
   {
    "duration": 4,
    "start_time": "2021-11-11T13:56:47.461Z"
   },
   {
    "duration": 595,
    "start_time": "2021-11-11T13:56:59.005Z"
   },
   {
    "duration": 9,
    "start_time": "2021-11-11T13:57:19.623Z"
   },
   {
    "duration": 14,
    "start_time": "2021-11-11T13:57:22.804Z"
   },
   {
    "duration": 15,
    "start_time": "2021-11-11T13:57:37.149Z"
   },
   {
    "duration": 22,
    "start_time": "2021-11-11T13:57:47.314Z"
   },
   {
    "duration": 16,
    "start_time": "2021-11-11T13:58:15.182Z"
   },
   {
    "duration": 444,
    "start_time": "2021-11-11T13:58:15.246Z"
   },
   {
    "duration": 5,
    "start_time": "2021-11-11T14:05:26.780Z"
   },
   {
    "duration": 6,
    "start_time": "2021-11-11T14:05:30.588Z"
   },
   {
    "duration": 4,
    "start_time": "2021-11-11T14:06:09.472Z"
   },
   {
    "duration": 8,
    "start_time": "2021-11-11T14:06:15.252Z"
   },
   {
    "duration": 9,
    "start_time": "2021-11-11T14:06:44.650Z"
   },
   {
    "duration": 10,
    "start_time": "2021-11-11T14:06:53.642Z"
   },
   {
    "duration": 312,
    "start_time": "2021-11-11T14:07:17.126Z"
   },
   {
    "duration": 309,
    "start_time": "2021-11-11T14:07:57.637Z"
   },
   {
    "duration": 293,
    "start_time": "2021-11-11T14:08:18.075Z"
   },
   {
    "duration": 7,
    "start_time": "2021-11-11T14:09:02.961Z"
   },
   {
    "duration": 280,
    "start_time": "2021-11-11T14:09:54.975Z"
   },
   {
    "duration": 1858,
    "start_time": "2021-11-11T14:10:15.072Z"
   },
   {
    "duration": 30,
    "start_time": "2021-11-11T14:10:16.933Z"
   },
   {
    "duration": 13,
    "start_time": "2021-11-11T14:10:16.970Z"
   },
   {
    "duration": 17,
    "start_time": "2021-11-11T14:10:16.986Z"
   },
   {
    "duration": 111,
    "start_time": "2021-11-11T14:10:17.005Z"
   },
   {
    "duration": 22,
    "start_time": "2021-11-11T14:10:17.118Z"
   },
   {
    "duration": 45,
    "start_time": "2021-11-11T14:10:17.144Z"
   },
   {
    "duration": 723,
    "start_time": "2021-11-11T14:10:17.192Z"
   },
   {
    "duration": 642,
    "start_time": "2021-11-11T14:10:17.917Z"
   },
   {
    "duration": 76,
    "start_time": "2021-11-11T14:10:18.562Z"
   },
   {
    "duration": 346,
    "start_time": "2021-11-11T14:10:18.641Z"
   },
   {
    "duration": 57,
    "start_time": "2021-11-11T14:10:18.990Z"
   },
   {
    "duration": 6191,
    "start_time": "2021-11-11T14:10:19.050Z"
   },
   {
    "duration": 39,
    "start_time": "2021-11-11T14:10:25.244Z"
   },
   {
    "duration": 13,
    "start_time": "2021-11-11T14:10:25.286Z"
   },
   {
    "duration": 37,
    "start_time": "2021-11-11T14:10:25.302Z"
   },
   {
    "duration": 23665,
    "start_time": "2021-11-11T14:10:25.342Z"
   },
   {
    "duration": 19403,
    "start_time": "2021-11-11T14:10:49.010Z"
   },
   {
    "duration": 189,
    "start_time": "2021-11-11T14:11:08.416Z"
   },
   {
    "duration": 48,
    "start_time": "2021-11-11T14:11:08.607Z"
   },
   {
    "duration": 425,
    "start_time": "2021-11-11T14:11:08.658Z"
   },
   {
    "duration": 918,
    "start_time": "2021-11-11T14:11:09.088Z"
   },
   {
    "duration": 826,
    "start_time": "2021-11-11T14:11:10.009Z"
   },
   {
    "duration": 819,
    "start_time": "2021-11-11T14:11:10.837Z"
   },
   {
    "duration": 11,
    "start_time": "2021-11-11T14:11:11.658Z"
   },
   {
    "duration": 69,
    "start_time": "2021-11-11T14:11:11.671Z"
   },
   {
    "duration": 100,
    "start_time": "2021-11-11T14:11:11.742Z"
   },
   {
    "duration": 85,
    "start_time": "2021-11-11T14:11:11.845Z"
   },
   {
    "duration": 50,
    "start_time": "2021-11-11T14:11:11.933Z"
   },
   {
    "duration": 176,
    "start_time": "2021-11-11T14:11:11.986Z"
   },
   {
    "duration": 11,
    "start_time": "2021-11-11T14:11:12.165Z"
   },
   {
    "duration": 220,
    "start_time": "2021-11-11T14:11:12.179Z"
   },
   {
    "duration": 99,
    "start_time": "2021-11-11T14:11:12.401Z"
   },
   {
    "duration": 8,
    "start_time": "2021-11-11T14:11:12.502Z"
   },
   {
    "duration": 54,
    "start_time": "2021-11-11T14:11:12.512Z"
   },
   {
    "duration": 39,
    "start_time": "2021-11-11T14:11:12.569Z"
   },
   {
    "duration": 596,
    "start_time": "2021-11-11T14:11:12.611Z"
   },
   {
    "duration": -336,
    "start_time": "2021-11-11T14:11:13.546Z"
   },
   {
    "duration": -339,
    "start_time": "2021-11-11T14:11:13.551Z"
   },
   {
    "duration": -342,
    "start_time": "2021-11-11T14:11:13.556Z"
   },
   {
    "duration": -344,
    "start_time": "2021-11-11T14:11:13.560Z"
   },
   {
    "duration": -346,
    "start_time": "2021-11-11T14:11:13.565Z"
   },
   {
    "duration": -348,
    "start_time": "2021-11-11T14:11:13.569Z"
   },
   {
    "duration": -351,
    "start_time": "2021-11-11T14:11:13.574Z"
   },
   {
    "duration": -353,
    "start_time": "2021-11-11T14:11:13.578Z"
   },
   {
    "duration": 10,
    "start_time": "2021-11-11T14:29:38.241Z"
   },
   {
    "duration": 194,
    "start_time": "2021-11-11T14:29:39.839Z"
   },
   {
    "duration": 5,
    "start_time": "2021-11-11T14:34:26.377Z"
   },
   {
    "duration": 2552,
    "start_time": "2021-11-11T14:34:33.638Z"
   },
   {
    "duration": 30,
    "start_time": "2021-11-11T14:34:36.193Z"
   },
   {
    "duration": 13,
    "start_time": "2021-11-11T14:34:36.226Z"
   },
   {
    "duration": 13,
    "start_time": "2021-11-11T14:34:36.241Z"
   },
   {
    "duration": 107,
    "start_time": "2021-11-11T14:34:36.257Z"
   },
   {
    "duration": 17,
    "start_time": "2021-11-11T14:34:36.366Z"
   },
   {
    "duration": 61,
    "start_time": "2021-11-11T14:34:36.386Z"
   },
   {
    "duration": 713,
    "start_time": "2021-11-11T14:34:36.451Z"
   },
   {
    "duration": 665,
    "start_time": "2021-11-11T14:34:37.167Z"
   },
   {
    "duration": 71,
    "start_time": "2021-11-11T14:34:37.836Z"
   },
   {
    "duration": 388,
    "start_time": "2021-11-11T14:34:37.909Z"
   },
   {
    "duration": 61,
    "start_time": "2021-11-11T14:34:38.300Z"
   },
   {
    "duration": 6321,
    "start_time": "2021-11-11T14:34:38.364Z"
   },
   {
    "duration": 42,
    "start_time": "2021-11-11T14:34:44.688Z"
   },
   {
    "duration": 11,
    "start_time": "2021-11-11T14:34:44.732Z"
   },
   {
    "duration": 34,
    "start_time": "2021-11-11T14:34:44.747Z"
   },
   {
    "duration": 24266,
    "start_time": "2021-11-11T14:34:44.784Z"
   },
   {
    "duration": 20223,
    "start_time": "2021-11-11T14:35:09.053Z"
   },
   {
    "duration": 211,
    "start_time": "2021-11-11T14:35:29.279Z"
   },
   {
    "duration": 57,
    "start_time": "2021-11-11T14:35:29.493Z"
   },
   {
    "duration": 608,
    "start_time": "2021-11-11T14:35:29.553Z"
   },
   {
    "duration": 1491,
    "start_time": "2021-11-11T14:35:30.164Z"
   },
   {
    "duration": 1227,
    "start_time": "2021-11-11T14:35:31.663Z"
   },
   {
    "duration": 2056,
    "start_time": "2021-11-11T14:43:01.393Z"
   },
   {
    "duration": 32,
    "start_time": "2021-11-11T14:43:03.452Z"
   },
   {
    "duration": 15,
    "start_time": "2021-11-11T14:43:03.490Z"
   },
   {
    "duration": 11,
    "start_time": "2021-11-11T14:43:03.507Z"
   },
   {
    "duration": 107,
    "start_time": "2021-11-11T14:43:03.521Z"
   },
   {
    "duration": 19,
    "start_time": "2021-11-11T14:43:03.631Z"
   },
   {
    "duration": 45,
    "start_time": "2021-11-11T14:43:03.654Z"
   },
   {
    "duration": 885,
    "start_time": "2021-11-11T14:43:03.702Z"
   },
   {
    "duration": 632,
    "start_time": "2021-11-11T14:43:04.589Z"
   },
   {
    "duration": 79,
    "start_time": "2021-11-11T14:43:05.223Z"
   },
   {
    "duration": 371,
    "start_time": "2021-11-11T14:43:05.304Z"
   },
   {
    "duration": 64,
    "start_time": "2021-11-11T14:43:05.678Z"
   },
   {
    "duration": 6055,
    "start_time": "2021-11-11T14:43:05.744Z"
   },
   {
    "duration": 38,
    "start_time": "2021-11-11T14:43:11.801Z"
   },
   {
    "duration": 10,
    "start_time": "2021-11-11T14:43:11.842Z"
   },
   {
    "duration": 20,
    "start_time": "2021-11-11T14:43:11.854Z"
   },
   {
    "duration": 23797,
    "start_time": "2021-11-11T14:43:11.877Z"
   },
   {
    "duration": 19861,
    "start_time": "2021-11-11T14:43:35.676Z"
   },
   {
    "duration": 191,
    "start_time": "2021-11-11T14:43:55.539Z"
   },
   {
    "duration": 44,
    "start_time": "2021-11-11T14:43:55.732Z"
   },
   {
    "duration": 430,
    "start_time": "2021-11-11T14:43:55.778Z"
   },
   {
    "duration": 921,
    "start_time": "2021-11-11T14:43:56.213Z"
   },
   {
    "duration": 746,
    "start_time": "2021-11-11T14:43:57.137Z"
   },
   {
    "duration": 806,
    "start_time": "2021-11-11T14:43:57.885Z"
   },
   {
    "duration": 35,
    "start_time": "2021-11-11T14:43:58.694Z"
   },
   {
    "duration": 29,
    "start_time": "2021-11-11T14:43:58.731Z"
   },
   {
    "duration": 96,
    "start_time": "2021-11-11T14:43:58.762Z"
   },
   {
    "duration": 101,
    "start_time": "2021-11-11T14:43:58.861Z"
   },
   {
    "duration": 192,
    "start_time": "2021-11-11T14:43:58.965Z"
   },
   {
    "duration": 208,
    "start_time": "2021-11-11T14:43:59.159Z"
   },
   {
    "duration": 97,
    "start_time": "2021-11-11T14:43:59.369Z"
   },
   {
    "duration": 9,
    "start_time": "2021-11-11T14:43:59.469Z"
   },
   {
    "duration": 212,
    "start_time": "2021-11-11T14:43:59.480Z"
   },
   {
    "duration": 216,
    "start_time": "2021-11-11T14:43:59.694Z"
   },
   {
    "duration": 6,
    "start_time": "2021-11-11T14:43:59.912Z"
   },
   {
    "duration": 531,
    "start_time": "2021-11-11T14:43:59.920Z"
   },
   {
    "duration": 2024,
    "start_time": "2021-11-12T07:08:38.966Z"
   },
   {
    "duration": 24,
    "start_time": "2021-11-12T07:08:40.992Z"
   },
   {
    "duration": 14,
    "start_time": "2021-11-12T07:08:41.018Z"
   },
   {
    "duration": 15,
    "start_time": "2021-11-12T07:08:41.033Z"
   },
   {
    "duration": 92,
    "start_time": "2021-11-12T07:08:41.050Z"
   },
   {
    "duration": 12,
    "start_time": "2021-11-12T07:08:41.144Z"
   },
   {
    "duration": 55,
    "start_time": "2021-11-12T07:08:41.157Z"
   },
   {
    "duration": 381,
    "start_time": "2021-11-12T07:08:41.214Z"
   },
   {
    "duration": 448,
    "start_time": "2021-11-12T07:08:41.598Z"
   },
   {
    "duration": 63,
    "start_time": "2021-11-12T07:08:42.049Z"
   },
   {
    "duration": 259,
    "start_time": "2021-11-12T07:08:42.114Z"
   },
   {
    "duration": 44,
    "start_time": "2021-11-12T07:08:42.375Z"
   },
   {
    "duration": 3373,
    "start_time": "2021-11-12T07:08:42.421Z"
   },
   {
    "duration": 30,
    "start_time": "2021-11-12T07:08:45.795Z"
   },
   {
    "duration": 6,
    "start_time": "2021-11-12T07:08:45.826Z"
   },
   {
    "duration": 26,
    "start_time": "2021-11-12T07:08:45.834Z"
   },
   {
    "duration": 14839,
    "start_time": "2021-11-12T07:08:45.861Z"
   },
   {
    "duration": 12236,
    "start_time": "2021-11-12T07:09:00.702Z"
   },
   {
    "duration": 134,
    "start_time": "2021-11-12T07:09:12.939Z"
   },
   {
    "duration": 35,
    "start_time": "2021-11-12T07:09:13.075Z"
   },
   {
    "duration": 265,
    "start_time": "2021-11-12T07:09:13.112Z"
   },
   {
    "duration": 607,
    "start_time": "2021-11-12T07:09:13.379Z"
   },
   {
    "duration": 482,
    "start_time": "2021-11-12T07:09:13.991Z"
   },
   {
    "duration": 560,
    "start_time": "2021-11-12T07:09:14.474Z"
   },
   {
    "duration": 7,
    "start_time": "2021-11-12T07:09:15.035Z"
   },
   {
    "duration": 61,
    "start_time": "2021-11-12T07:09:15.043Z"
   },
   {
    "duration": 29,
    "start_time": "2021-11-12T07:09:15.107Z"
   },
   {
    "duration": 86,
    "start_time": "2021-11-12T07:09:15.137Z"
   },
   {
    "duration": 135,
    "start_time": "2021-11-12T07:09:15.224Z"
   },
   {
    "duration": 132,
    "start_time": "2021-11-12T07:09:15.361Z"
   },
   {
    "duration": 57,
    "start_time": "2021-11-12T07:09:15.494Z"
   },
   {
    "duration": 6,
    "start_time": "2021-11-12T07:09:15.553Z"
   },
   {
    "duration": 131,
    "start_time": "2021-11-12T07:09:15.560Z"
   },
   {
    "duration": 120,
    "start_time": "2021-11-12T07:09:15.693Z"
   },
   {
    "duration": 4,
    "start_time": "2021-11-12T07:09:15.814Z"
   },
   {
    "duration": 326,
    "start_time": "2021-11-12T07:09:15.820Z"
   },
   {
    "duration": 5,
    "start_time": "2021-11-12T07:10:00.976Z"
   },
   {
    "duration": 5,
    "start_time": "2021-11-12T07:10:24.502Z"
   },
   {
    "duration": 6,
    "start_time": "2021-11-12T07:10:31.792Z"
   },
   {
    "duration": 59,
    "start_time": "2021-11-12T07:10:44.570Z"
   },
   {
    "duration": 182,
    "start_time": "2021-11-12T07:10:55.406Z"
   },
   {
    "duration": 6,
    "start_time": "2021-11-12T07:11:09.738Z"
   },
   {
    "duration": 6,
    "start_time": "2021-11-12T07:11:34.538Z"
   },
   {
    "duration": 6,
    "start_time": "2021-11-12T07:12:13.537Z"
   },
   {
    "duration": 7,
    "start_time": "2021-11-12T07:17:41.517Z"
   },
   {
    "duration": 54,
    "start_time": "2021-11-12T07:17:52.629Z"
   },
   {
    "duration": 1970,
    "start_time": "2021-11-13T10:20:53.912Z"
   },
   {
    "duration": 30,
    "start_time": "2021-11-13T10:20:55.884Z"
   },
   {
    "duration": 17,
    "start_time": "2021-11-13T10:20:55.917Z"
   },
   {
    "duration": 24,
    "start_time": "2021-11-13T10:20:55.937Z"
   },
   {
    "duration": 102,
    "start_time": "2021-11-13T10:20:55.964Z"
   },
   {
    "duration": 19,
    "start_time": "2021-11-13T10:20:56.068Z"
   },
   {
    "duration": 64,
    "start_time": "2021-11-13T10:20:56.089Z"
   },
   {
    "duration": 755,
    "start_time": "2021-11-13T10:20:56.157Z"
   },
   {
    "duration": 661,
    "start_time": "2021-11-13T10:20:56.915Z"
   },
   {
    "duration": 93,
    "start_time": "2021-11-13T10:20:57.579Z"
   },
   {
    "duration": 364,
    "start_time": "2021-11-13T10:20:57.674Z"
   },
   {
    "duration": 48,
    "start_time": "2021-11-13T10:20:58.041Z"
   },
   {
    "duration": 6046,
    "start_time": "2021-11-13T10:20:58.091Z"
   },
   {
    "duration": 42,
    "start_time": "2021-11-13T10:21:04.140Z"
   },
   {
    "duration": 10,
    "start_time": "2021-11-13T10:21:04.184Z"
   },
   {
    "duration": 33,
    "start_time": "2021-11-13T10:21:04.197Z"
   },
   {
    "duration": 27140,
    "start_time": "2021-11-13T10:21:04.233Z"
   },
   {
    "duration": 108,
    "start_time": "2021-11-13T10:21:31.375Z"
   },
   {
    "duration": 246,
    "start_time": "2021-11-13T10:21:31.240Z"
   },
   {
    "duration": 242,
    "start_time": "2021-11-13T10:21:31.245Z"
   },
   {
    "duration": 235,
    "start_time": "2021-11-13T10:21:31.254Z"
   },
   {
    "duration": 233,
    "start_time": "2021-11-13T10:21:31.257Z"
   },
   {
    "duration": 229,
    "start_time": "2021-11-13T10:21:31.262Z"
   },
   {
    "duration": 222,
    "start_time": "2021-11-13T10:21:31.270Z"
   },
   {
    "duration": 219,
    "start_time": "2021-11-13T10:21:31.275Z"
   },
   {
    "duration": 217,
    "start_time": "2021-11-13T10:21:31.278Z"
   },
   {
    "duration": 209,
    "start_time": "2021-11-13T10:21:31.287Z"
   },
   {
    "duration": 208,
    "start_time": "2021-11-13T10:21:31.290Z"
   },
   {
    "duration": 204,
    "start_time": "2021-11-13T10:21:31.295Z"
   },
   {
    "duration": 198,
    "start_time": "2021-11-13T10:21:31.302Z"
   },
   {
    "duration": 195,
    "start_time": "2021-11-13T10:21:31.306Z"
   },
   {
    "duration": 193,
    "start_time": "2021-11-13T10:21:31.310Z"
   },
   {
    "duration": 185,
    "start_time": "2021-11-13T10:21:31.319Z"
   },
   {
    "duration": 184,
    "start_time": "2021-11-13T10:21:31.322Z"
   },
   {
    "duration": 181,
    "start_time": "2021-11-13T10:21:31.326Z"
   },
   {
    "duration": 176,
    "start_time": "2021-11-13T10:21:31.333Z"
   },
   {
    "duration": 172,
    "start_time": "2021-11-13T10:21:31.338Z"
   },
   {
    "duration": 172,
    "start_time": "2021-11-13T10:21:31.341Z"
   },
   {
    "duration": 14,
    "start_time": "2021-11-13T10:22:07.460Z"
   },
   {
    "duration": 24,
    "start_time": "2021-11-13T10:22:07.531Z"
   },
   {
    "duration": 162,
    "start_time": "2021-11-13T10:23:09.428Z"
   },
   {
    "duration": 26,
    "start_time": "2021-11-13T10:23:12.512Z"
   },
   {
    "duration": 10,
    "start_time": "2021-11-13T10:23:33.028Z"
   },
   {
    "duration": 11,
    "start_time": "2021-11-13T10:24:21.095Z"
   },
   {
    "duration": 372,
    "start_time": "2021-11-13T10:24:39.310Z"
   },
   {
    "duration": 400,
    "start_time": "2021-11-13T10:33:45.473Z"
   },
   {
    "duration": 493,
    "start_time": "2021-11-13T10:34:31.884Z"
   },
   {
    "duration": 70,
    "start_time": "2021-11-13T10:34:45.576Z"
   },
   {
    "duration": 11,
    "start_time": "2021-11-13T10:36:16.440Z"
   },
   {
    "duration": 6,
    "start_time": "2021-11-13T10:36:28.553Z"
   },
   {
    "duration": 295,
    "start_time": "2021-11-13T10:36:40.981Z"
   },
   {
    "duration": 282,
    "start_time": "2021-11-13T10:36:51.706Z"
   },
   {
    "duration": 20,
    "start_time": "2021-11-13T10:36:56.328Z"
   },
   {
    "duration": 20,
    "start_time": "2021-11-13T10:37:42.350Z"
   },
   {
    "duration": 7,
    "start_time": "2021-11-13T10:37:59.508Z"
   },
   {
    "duration": 287,
    "start_time": "2021-11-13T10:38:22.650Z"
   },
   {
    "duration": 48,
    "start_time": "2021-11-13T10:38:29.025Z"
   },
   {
    "duration": 26,
    "start_time": "2021-11-13T10:40:55.300Z"
   },
   {
    "duration": 10,
    "start_time": "2021-11-13T10:41:10.312Z"
   },
   {
    "duration": 13,
    "start_time": "2021-11-13T10:44:40.465Z"
   },
   {
    "duration": 319,
    "start_time": "2021-11-13T10:51:52.788Z"
   },
   {
    "duration": 890,
    "start_time": "2021-11-13T10:52:08.066Z"
   },
   {
    "duration": 35,
    "start_time": "2021-11-13T10:54:20.807Z"
   },
   {
    "duration": 22,
    "start_time": "2021-11-13T10:57:19.554Z"
   },
   {
    "duration": 56,
    "start_time": "2021-11-13T10:59:35.802Z"
   },
   {
    "duration": 33,
    "start_time": "2021-11-13T11:00:44.361Z"
   },
   {
    "duration": 418,
    "start_time": "2021-11-13T11:00:59.671Z"
   },
   {
    "duration": 521,
    "start_time": "2021-11-13T11:01:08.931Z"
   },
   {
    "duration": 416,
    "start_time": "2021-11-13T11:01:15.120Z"
   },
   {
    "duration": 431,
    "start_time": "2021-11-13T11:01:49.679Z"
   },
   {
    "duration": 405,
    "start_time": "2021-11-13T11:02:45.635Z"
   },
   {
    "duration": 1957,
    "start_time": "2021-11-13T11:02:51.880Z"
   },
   {
    "duration": 30,
    "start_time": "2021-11-13T11:02:53.840Z"
   },
   {
    "duration": 12,
    "start_time": "2021-11-13T11:02:53.874Z"
   },
   {
    "duration": 12,
    "start_time": "2021-11-13T11:02:53.889Z"
   },
   {
    "duration": 102,
    "start_time": "2021-11-13T11:02:53.904Z"
   },
   {
    "duration": 26,
    "start_time": "2021-11-13T11:02:54.009Z"
   },
   {
    "duration": 47,
    "start_time": "2021-11-13T11:02:54.038Z"
   },
   {
    "duration": 821,
    "start_time": "2021-11-13T11:02:54.090Z"
   },
   {
    "duration": 645,
    "start_time": "2021-11-13T11:02:54.915Z"
   },
   {
    "duration": 83,
    "start_time": "2021-11-13T11:02:55.563Z"
   },
   {
    "duration": 358,
    "start_time": "2021-11-13T11:02:55.649Z"
   },
   {
    "duration": 52,
    "start_time": "2021-11-13T11:02:56.010Z"
   },
   {
    "duration": 6197,
    "start_time": "2021-11-13T11:02:56.065Z"
   },
   {
    "duration": 40,
    "start_time": "2021-11-13T11:03:02.264Z"
   },
   {
    "duration": 31,
    "start_time": "2021-11-13T11:03:02.306Z"
   },
   {
    "duration": 15,
    "start_time": "2021-11-13T11:03:02.340Z"
   },
   {
    "duration": 24023,
    "start_time": "2021-11-13T11:03:02.357Z"
   },
   {
    "duration": 54,
    "start_time": "2021-11-13T11:03:26.383Z"
   },
   {
    "duration": 180,
    "start_time": "2021-11-13T11:03:26.440Z"
   },
   {
    "duration": 431,
    "start_time": "2021-11-13T11:03:26.622Z"
   },
   {
    "duration": 11,
    "start_time": "2021-11-13T11:03:27.056Z"
   },
   {
    "duration": 399,
    "start_time": "2021-11-13T11:03:27.070Z"
   },
   {
    "duration": 12,
    "start_time": "2021-11-13T11:03:27.476Z"
   },
   {
    "duration": 440,
    "start_time": "2021-11-13T11:03:27.492Z"
   },
   {
    "duration": 63,
    "start_time": "2021-11-13T11:03:27.935Z"
   },
   {
    "duration": 29,
    "start_time": "2021-11-13T11:03:28.000Z"
   },
   {
    "duration": 859,
    "start_time": "2021-11-13T11:03:28.032Z"
   },
   {
    "duration": 38,
    "start_time": "2021-11-13T11:03:28.893Z"
   },
   {
    "duration": 34,
    "start_time": "2021-11-13T11:03:28.934Z"
   },
   {
    "duration": 102,
    "start_time": "2021-11-13T11:03:28.970Z"
   },
   {
    "duration": 110,
    "start_time": "2021-11-13T11:03:29.074Z"
   },
   {
    "duration": 224,
    "start_time": "2021-11-13T11:03:29.187Z"
   },
   {
    "duration": 242,
    "start_time": "2021-11-13T11:03:29.414Z"
   },
   {
    "duration": 120,
    "start_time": "2021-11-13T11:03:29.659Z"
   },
   {
    "duration": 10,
    "start_time": "2021-11-13T11:03:29.781Z"
   },
   {
    "duration": 417,
    "start_time": "2021-11-13T11:03:29.794Z"
   },
   {
    "duration": 228,
    "start_time": "2021-11-13T11:03:30.213Z"
   },
   {
    "duration": 6,
    "start_time": "2021-11-13T11:03:30.443Z"
   },
   {
    "duration": 13,
    "start_time": "2021-11-13T11:03:30.452Z"
   },
   {
    "duration": 572,
    "start_time": "2021-11-13T11:03:30.467Z"
   },
   {
    "duration": 401,
    "start_time": "2021-11-13T11:03:30.641Z"
   },
   {
    "duration": 400,
    "start_time": "2021-11-13T11:03:30.644Z"
   },
   {
    "duration": 33,
    "start_time": "2021-11-13T11:07:04.211Z"
   },
   {
    "duration": 14,
    "start_time": "2021-11-13T11:07:20.446Z"
   },
   {
    "duration": 16,
    "start_time": "2021-11-13T11:07:37.943Z"
   },
   {
    "duration": 419,
    "start_time": "2021-11-13T11:10:42.813Z"
   },
   {
    "duration": 14,
    "start_time": "2021-11-13T11:10:45.168Z"
   },
   {
    "duration": 96,
    "start_time": "2021-11-13T11:14:43.475Z"
   },
   {
    "duration": 307,
    "start_time": "2021-11-13T11:14:57.765Z"
   },
   {
    "duration": 18,
    "start_time": "2021-11-13T11:15:05.752Z"
   },
   {
    "duration": 28,
    "start_time": "2021-11-13T11:15:13.068Z"
   },
   {
    "duration": 41,
    "start_time": "2021-11-13T11:16:46.717Z"
   },
   {
    "duration": 40,
    "start_time": "2021-11-13T11:17:46.311Z"
   },
   {
    "duration": 8128,
    "start_time": "2021-11-13T11:18:29.598Z"
   },
   {
    "duration": 35,
    "start_time": "2021-11-13T11:18:49.276Z"
   },
   {
    "duration": 40,
    "start_time": "2021-11-13T11:21:02.756Z"
   },
   {
    "duration": 88,
    "start_time": "2021-11-13T11:31:27.719Z"
   },
   {
    "duration": 1910,
    "start_time": "2021-11-13T11:34:34.041Z"
   },
   {
    "duration": 32,
    "start_time": "2021-11-13T11:34:35.954Z"
   },
   {
    "duration": 9,
    "start_time": "2021-11-13T11:34:35.989Z"
   },
   {
    "duration": 19,
    "start_time": "2021-11-13T11:34:36.001Z"
   },
   {
    "duration": 104,
    "start_time": "2021-11-13T11:34:36.023Z"
   },
   {
    "duration": 21,
    "start_time": "2021-11-13T11:34:36.130Z"
   },
   {
    "duration": 47,
    "start_time": "2021-11-13T11:34:36.154Z"
   },
   {
    "duration": 714,
    "start_time": "2021-11-13T11:34:36.205Z"
   },
   {
    "duration": 994,
    "start_time": "2021-11-13T11:34:36.922Z"
   },
   {
    "duration": 72,
    "start_time": "2021-11-13T11:34:37.919Z"
   },
   {
    "duration": 572,
    "start_time": "2021-11-13T11:34:37.994Z"
   },
   {
    "duration": 166,
    "start_time": "2021-11-13T11:34:38.568Z"
   },
   {
    "duration": 6640,
    "start_time": "2021-11-13T11:34:38.737Z"
   },
   {
    "duration": 38,
    "start_time": "2021-11-13T11:34:45.379Z"
   },
   {
    "duration": 19,
    "start_time": "2021-11-13T11:34:45.419Z"
   },
   {
    "duration": 17,
    "start_time": "2021-11-13T11:34:45.441Z"
   },
   {
    "duration": 24395,
    "start_time": "2021-11-13T11:34:45.461Z"
   },
   {
    "duration": 36,
    "start_time": "2021-11-13T11:35:09.859Z"
   },
   {
    "duration": 218,
    "start_time": "2021-11-13T11:35:09.897Z"
   },
   {
    "duration": 390,
    "start_time": "2021-11-13T11:35:10.118Z"
   },
   {
    "duration": 21,
    "start_time": "2021-11-13T11:35:10.510Z"
   },
   {
    "duration": 448,
    "start_time": "2021-11-13T11:35:10.534Z"
   },
   {
    "duration": 14,
    "start_time": "2021-11-13T11:35:10.987Z"
   },
   {
    "duration": 66,
    "start_time": "2021-11-13T11:35:11.004Z"
   },
   {
    "duration": 422,
    "start_time": "2021-11-13T11:35:11.072Z"
   },
   {
    "duration": 81,
    "start_time": "2021-11-13T11:35:11.496Z"
   },
   {
    "duration": 9,
    "start_time": "2021-11-13T11:35:11.580Z"
   },
   {
    "duration": 817,
    "start_time": "2021-11-13T11:35:11.591Z"
   },
   {
    "duration": 28,
    "start_time": "2021-11-13T11:35:12.410Z"
   },
   {
    "duration": 33,
    "start_time": "2021-11-13T11:35:12.441Z"
   },
   {
    "duration": 94,
    "start_time": "2021-11-13T11:35:12.476Z"
   },
   {
    "duration": 107,
    "start_time": "2021-11-13T11:35:12.572Z"
   },
   {
    "duration": 206,
    "start_time": "2021-11-13T11:35:12.729Z"
   },
   {
    "duration": 245,
    "start_time": "2021-11-13T11:35:12.938Z"
   },
   {
    "duration": 124,
    "start_time": "2021-11-13T11:35:13.185Z"
   },
   {
    "duration": 18,
    "start_time": "2021-11-13T11:35:13.311Z"
   },
   {
    "duration": 414,
    "start_time": "2021-11-13T11:35:13.332Z"
   },
   {
    "duration": 219,
    "start_time": "2021-11-13T11:35:13.749Z"
   },
   {
    "duration": 6,
    "start_time": "2021-11-13T11:35:13.971Z"
   },
   {
    "duration": 16,
    "start_time": "2021-11-13T11:35:13.979Z"
   },
   {
    "duration": 839,
    "start_time": "2021-11-13T11:35:13.997Z"
   },
   {
    "duration": 406,
    "start_time": "2021-11-13T11:35:14.432Z"
   },
   {
    "duration": 399,
    "start_time": "2021-11-13T11:35:14.441Z"
   },
   {
    "duration": 10,
    "start_time": "2021-11-13T11:35:52.849Z"
   },
   {
    "duration": 40,
    "start_time": "2021-11-13T11:36:11.572Z"
   },
   {
    "duration": 46,
    "start_time": "2021-11-13T11:36:33.855Z"
   },
   {
    "duration": 2038,
    "start_time": "2021-11-13T11:37:07.175Z"
   },
   {
    "duration": 32,
    "start_time": "2021-11-13T11:37:09.216Z"
   },
   {
    "duration": 10,
    "start_time": "2021-11-13T11:37:09.251Z"
   },
   {
    "duration": 12,
    "start_time": "2021-11-13T11:37:09.264Z"
   },
   {
    "duration": 110,
    "start_time": "2021-11-13T11:37:09.279Z"
   },
   {
    "duration": 22,
    "start_time": "2021-11-13T11:37:09.392Z"
   },
   {
    "duration": 43,
    "start_time": "2021-11-13T11:37:09.430Z"
   },
   {
    "duration": 732,
    "start_time": "2021-11-13T11:37:09.477Z"
   },
   {
    "duration": 626,
    "start_time": "2021-11-13T11:37:10.212Z"
   },
   {
    "duration": 68,
    "start_time": "2021-11-13T11:37:10.841Z"
   },
   {
    "duration": 341,
    "start_time": "2021-11-13T11:37:10.928Z"
   },
   {
    "duration": 57,
    "start_time": "2021-11-13T11:37:11.271Z"
   },
   {
    "duration": 6366,
    "start_time": "2021-11-13T11:37:11.331Z"
   },
   {
    "duration": 42,
    "start_time": "2021-11-13T11:37:17.699Z"
   },
   {
    "duration": 11,
    "start_time": "2021-11-13T11:37:17.744Z"
   },
   {
    "duration": 26,
    "start_time": "2021-11-13T11:37:17.758Z"
   },
   {
    "duration": 25575,
    "start_time": "2021-11-13T11:37:17.787Z"
   },
   {
    "duration": 34,
    "start_time": "2021-11-13T11:37:43.365Z"
   },
   {
    "duration": 178,
    "start_time": "2021-11-13T11:37:43.430Z"
   },
   {
    "duration": 392,
    "start_time": "2021-11-13T11:37:43.610Z"
   },
   {
    "duration": 11,
    "start_time": "2021-11-13T11:37:44.004Z"
   },
   {
    "duration": 434,
    "start_time": "2021-11-13T11:37:44.017Z"
   },
   {
    "duration": 14,
    "start_time": "2021-11-13T11:37:44.457Z"
   },
   {
    "duration": 63,
    "start_time": "2021-11-13T11:37:44.474Z"
   },
   {
    "duration": 404,
    "start_time": "2021-11-13T11:37:44.540Z"
   },
   {
    "duration": 61,
    "start_time": "2021-11-13T11:37:44.947Z"
   },
   {
    "duration": 11,
    "start_time": "2021-11-13T11:37:45.029Z"
   },
   {
    "duration": 815,
    "start_time": "2021-11-13T11:37:45.042Z"
   },
   {
    "duration": 9,
    "start_time": "2021-11-13T11:37:45.860Z"
   },
   {
    "duration": 100,
    "start_time": "2021-11-13T11:37:45.872Z"
   },
   {
    "duration": 166,
    "start_time": "2021-11-13T11:37:45.975Z"
   },
   {
    "duration": 523,
    "start_time": "2021-11-13T11:37:46.144Z"
   },
   {
    "duration": 314,
    "start_time": "2021-11-13T11:37:46.355Z"
   },
   {
    "duration": 312,
    "start_time": "2021-11-13T11:37:46.359Z"
   },
   {
    "duration": 309,
    "start_time": "2021-11-13T11:37:46.364Z"
   },
   {
    "duration": 306,
    "start_time": "2021-11-13T11:37:46.368Z"
   },
   {
    "duration": 305,
    "start_time": "2021-11-13T11:37:46.371Z"
   },
   {
    "duration": 302,
    "start_time": "2021-11-13T11:37:46.375Z"
   },
   {
    "duration": 297,
    "start_time": "2021-11-13T11:37:46.381Z"
   },
   {
    "duration": 295,
    "start_time": "2021-11-13T11:37:46.385Z"
   },
   {
    "duration": 291,
    "start_time": "2021-11-13T11:37:46.390Z"
   },
   {
    "duration": 289,
    "start_time": "2021-11-13T11:37:46.394Z"
   },
   {
    "duration": 285,
    "start_time": "2021-11-13T11:37:46.399Z"
   },
   {
    "duration": 281,
    "start_time": "2021-11-13T11:37:46.404Z"
   },
   {
    "duration": 278,
    "start_time": "2021-11-13T11:37:46.408Z"
   },
   {
    "duration": 276,
    "start_time": "2021-11-13T11:37:46.412Z"
   },
   {
    "duration": 272,
    "start_time": "2021-11-13T11:37:46.417Z"
   },
   {
    "duration": 37,
    "start_time": "2021-11-13T11:40:26.325Z"
   },
   {
    "duration": 32,
    "start_time": "2021-11-13T11:40:47.947Z"
   },
   {
    "duration": 39,
    "start_time": "2021-11-13T11:40:57.623Z"
   },
   {
    "duration": 43,
    "start_time": "2021-11-13T11:43:30.177Z"
   },
   {
    "duration": 45,
    "start_time": "2021-11-13T11:43:47.819Z"
   },
   {
    "duration": 48,
    "start_time": "2021-11-13T11:44:54.117Z"
   },
   {
    "duration": 54,
    "start_time": "2021-11-13T11:45:20.916Z"
   },
   {
    "duration": 85,
    "start_time": "2021-11-13T11:45:47.035Z"
   },
   {
    "duration": 48,
    "start_time": "2021-11-13T11:45:51.484Z"
   },
   {
    "duration": 5,
    "start_time": "2021-11-13T11:46:23.194Z"
   },
   {
    "duration": 40,
    "start_time": "2021-11-13T11:52:18.527Z"
   },
   {
    "duration": 40,
    "start_time": "2021-11-13T11:52:20.838Z"
   },
   {
    "duration": 34,
    "start_time": "2021-11-13T11:52:22.579Z"
   },
   {
    "duration": 36,
    "start_time": "2021-11-13T11:52:24.383Z"
   },
   {
    "duration": 49,
    "start_time": "2021-11-13T11:52:42.261Z"
   },
   {
    "duration": 58,
    "start_time": "2021-11-13T11:53:57.907Z"
   },
   {
    "duration": 39,
    "start_time": "2021-11-13T11:53:59.338Z"
   },
   {
    "duration": 51,
    "start_time": "2021-11-13T11:54:00.610Z"
   },
   {
    "duration": 33,
    "start_time": "2021-11-13T11:54:01.965Z"
   },
   {
    "duration": 35,
    "start_time": "2021-11-13T11:54:03.514Z"
   },
   {
    "duration": 13,
    "start_time": "2021-11-13T11:56:44.659Z"
   },
   {
    "duration": 20,
    "start_time": "2021-11-13T11:56:51.243Z"
   },
   {
    "duration": 12,
    "start_time": "2021-11-13T11:56:58.599Z"
   },
   {
    "duration": 11,
    "start_time": "2021-11-13T11:57:23.696Z"
   },
   {
    "duration": 12,
    "start_time": "2021-11-13T11:57:34.598Z"
   },
   {
    "duration": 12,
    "start_time": "2021-11-13T11:58:57.247Z"
   },
   {
    "duration": 15,
    "start_time": "2021-11-13T11:59:21.836Z"
   },
   {
    "duration": 12,
    "start_time": "2021-11-13T11:59:45.637Z"
   },
   {
    "duration": 13,
    "start_time": "2021-11-13T11:59:58.481Z"
   },
   {
    "duration": 58,
    "start_time": "2021-11-13T12:00:41.805Z"
   },
   {
    "duration": 119,
    "start_time": "2021-11-13T12:04:56.370Z"
   },
   {
    "duration": 149,
    "start_time": "2021-11-13T12:05:04.429Z"
   },
   {
    "duration": 108,
    "start_time": "2021-11-13T12:05:18.478Z"
   },
   {
    "duration": 108,
    "start_time": "2021-11-13T12:05:21.562Z"
   },
   {
    "duration": 13,
    "start_time": "2021-11-13T12:05:38.900Z"
   },
   {
    "duration": 14,
    "start_time": "2021-11-13T12:14:46.029Z"
   },
   {
    "duration": 13,
    "start_time": "2021-11-13T12:15:18.152Z"
   },
   {
    "duration": 1577,
    "start_time": "2021-11-14T10:09:03.715Z"
   },
   {
    "duration": 28,
    "start_time": "2021-11-14T10:09:05.295Z"
   },
   {
    "duration": 6,
    "start_time": "2021-11-14T10:09:05.326Z"
   },
   {
    "duration": 14,
    "start_time": "2021-11-14T10:09:05.334Z"
   },
   {
    "duration": 78,
    "start_time": "2021-11-14T10:09:05.350Z"
   },
   {
    "duration": 15,
    "start_time": "2021-11-14T10:09:05.430Z"
   },
   {
    "duration": 38,
    "start_time": "2021-11-14T10:09:05.447Z"
   },
   {
    "duration": 436,
    "start_time": "2021-11-14T10:09:05.487Z"
   },
   {
    "duration": 664,
    "start_time": "2021-11-14T10:09:05.924Z"
   },
   {
    "duration": 103,
    "start_time": "2021-11-14T10:09:06.645Z"
   },
   {
    "duration": 316,
    "start_time": "2021-11-14T10:09:06.755Z"
   },
   {
    "duration": 34,
    "start_time": "2021-11-14T10:09:07.072Z"
   },
   {
    "duration": 4387,
    "start_time": "2021-11-14T10:09:07.108Z"
   },
   {
    "duration": 31,
    "start_time": "2021-11-14T10:09:11.497Z"
   },
   {
    "duration": 7,
    "start_time": "2021-11-14T10:09:11.530Z"
   },
   {
    "duration": 27,
    "start_time": "2021-11-14T10:09:11.538Z"
   },
   {
    "duration": 15321,
    "start_time": "2021-11-14T10:09:11.567Z"
   },
   {
    "duration": 27,
    "start_time": "2021-11-14T10:09:26.890Z"
   },
   {
    "duration": 146,
    "start_time": "2021-11-14T10:09:26.919Z"
   },
   {
    "duration": 228,
    "start_time": "2021-11-14T10:09:27.067Z"
   },
   {
    "duration": 8,
    "start_time": "2021-11-14T10:09:27.297Z"
   },
   {
    "duration": 261,
    "start_time": "2021-11-14T10:09:27.306Z"
   },
   {
    "duration": 9,
    "start_time": "2021-11-14T10:09:27.571Z"
   },
   {
    "duration": 26,
    "start_time": "2021-11-14T10:09:27.582Z"
   },
   {
    "duration": 254,
    "start_time": "2021-11-14T10:09:27.610Z"
   },
   {
    "duration": 37,
    "start_time": "2021-11-14T10:09:27.866Z"
   },
   {
    "duration": 7,
    "start_time": "2021-11-14T10:09:27.905Z"
   },
   {
    "duration": 576,
    "start_time": "2021-11-14T10:09:27.913Z"
   },
   {
    "duration": 6,
    "start_time": "2021-11-14T10:09:28.491Z"
   },
   {
    "duration": 72,
    "start_time": "2021-11-14T10:09:28.499Z"
   },
   {
    "duration": 80,
    "start_time": "2021-11-14T10:09:28.572Z"
   },
   {
    "duration": 25,
    "start_time": "2021-11-14T10:09:28.659Z"
   },
   {
    "duration": 67,
    "start_time": "2021-11-14T10:09:28.685Z"
   },
   {
    "duration": 27,
    "start_time": "2021-11-14T10:09:28.754Z"
   },
   {
    "duration": 34,
    "start_time": "2021-11-14T10:09:28.783Z"
   },
   {
    "duration": 8,
    "start_time": "2021-11-14T10:09:28.818Z"
   },
   {
    "duration": 15,
    "start_time": "2021-11-14T10:09:28.844Z"
   },
   {
    "duration": 12,
    "start_time": "2021-11-14T10:09:28.861Z"
   },
   {
    "duration": 8,
    "start_time": "2021-11-14T10:09:28.874Z"
   },
   {
    "duration": 8,
    "start_time": "2021-11-14T10:09:28.883Z"
   },
   {
    "duration": 9,
    "start_time": "2021-11-14T10:09:28.892Z"
   },
   {
    "duration": 9,
    "start_time": "2021-11-14T10:09:28.902Z"
   },
   {
    "duration": 53,
    "start_time": "2021-11-14T10:09:28.913Z"
   },
   {
    "duration": 30,
    "start_time": "2021-11-14T10:09:28.968Z"
   },
   {
    "duration": 53,
    "start_time": "2021-11-14T10:09:28.999Z"
   },
   {
    "duration": 116,
    "start_time": "2021-11-14T10:09:29.061Z"
   },
   {
    "duration": 154,
    "start_time": "2021-11-14T10:09:29.179Z"
   },
   {
    "duration": 97,
    "start_time": "2021-11-14T10:09:29.335Z"
   },
   {
    "duration": 11,
    "start_time": "2021-11-14T10:09:29.433Z"
   },
   {
    "duration": 318,
    "start_time": "2021-11-14T10:09:29.446Z"
   },
   {
    "duration": 147,
    "start_time": "2021-11-14T10:09:29.766Z"
   },
   {
    "duration": 5,
    "start_time": "2021-11-14T10:09:29.914Z"
   },
   {
    "duration": 16,
    "start_time": "2021-11-14T10:09:29.920Z"
   },
   {
    "duration": 484,
    "start_time": "2021-11-14T10:09:29.938Z"
   },
   {
    "duration": -232,
    "start_time": "2021-11-14T10:09:30.656Z"
   },
   {
    "duration": -241,
    "start_time": "2021-11-14T10:09:30.666Z"
   },
   {
    "duration": 1469,
    "start_time": "2021-11-14T10:15:11.632Z"
   },
   {
    "duration": 45,
    "start_time": "2021-11-14T10:15:13.103Z"
   },
   {
    "duration": 13,
    "start_time": "2021-11-14T10:15:13.150Z"
   },
   {
    "duration": 23,
    "start_time": "2021-11-14T10:15:13.165Z"
   },
   {
    "duration": 87,
    "start_time": "2021-11-14T10:15:13.190Z"
   },
   {
    "duration": 12,
    "start_time": "2021-11-14T10:15:13.279Z"
   },
   {
    "duration": 39,
    "start_time": "2021-11-14T10:15:13.293Z"
   },
   {
    "duration": 407,
    "start_time": "2021-11-14T10:15:13.334Z"
   },
   {
    "duration": 451,
    "start_time": "2021-11-14T10:15:13.744Z"
   },
   {
    "duration": 55,
    "start_time": "2021-11-14T10:15:14.197Z"
   },
   {
    "duration": 329,
    "start_time": "2021-11-14T10:15:14.254Z"
   },
   {
    "duration": 47,
    "start_time": "2021-11-14T10:15:14.585Z"
   },
   {
    "duration": 3570,
    "start_time": "2021-11-14T10:15:14.645Z"
   },
   {
    "duration": 32,
    "start_time": "2021-11-14T10:15:18.216Z"
   },
   {
    "duration": 6,
    "start_time": "2021-11-14T10:15:18.250Z"
   },
   {
    "duration": 10,
    "start_time": "2021-11-14T10:15:18.258Z"
   },
   {
    "duration": 14409,
    "start_time": "2021-11-14T10:15:18.269Z"
   },
   {
    "duration": 26,
    "start_time": "2021-11-14T10:15:32.680Z"
   },
   {
    "duration": 133,
    "start_time": "2021-11-14T10:15:32.708Z"
   },
   {
    "duration": 211,
    "start_time": "2021-11-14T10:15:32.844Z"
   },
   {
    "duration": 8,
    "start_time": "2021-11-14T10:15:33.057Z"
   },
   {
    "duration": 256,
    "start_time": "2021-11-14T10:15:33.066Z"
   },
   {
    "duration": 20,
    "start_time": "2021-11-14T10:15:33.325Z"
   },
   {
    "duration": 26,
    "start_time": "2021-11-14T10:15:33.347Z"
   },
   {
    "duration": 242,
    "start_time": "2021-11-14T10:15:33.374Z"
   },
   {
    "duration": 48,
    "start_time": "2021-11-14T10:15:33.618Z"
   },
   {
    "duration": 6,
    "start_time": "2021-11-14T10:15:33.667Z"
   },
   {
    "duration": 561,
    "start_time": "2021-11-14T10:15:33.675Z"
   },
   {
    "duration": 16,
    "start_time": "2021-11-14T10:15:34.238Z"
   },
   {
    "duration": 33,
    "start_time": "2021-11-14T10:15:34.256Z"
   },
   {
    "duration": 74,
    "start_time": "2021-11-14T10:15:34.291Z"
   },
   {
    "duration": 78,
    "start_time": "2021-11-14T10:15:34.367Z"
   },
   {
    "duration": 30,
    "start_time": "2021-11-14T10:15:34.447Z"
   },
   {
    "duration": 30,
    "start_time": "2021-11-14T10:15:34.479Z"
   },
   {
    "duration": 62,
    "start_time": "2021-11-14T10:15:34.511Z"
   },
   {
    "duration": 14,
    "start_time": "2021-11-14T10:15:34.575Z"
   },
   {
    "duration": 8,
    "start_time": "2021-11-14T10:15:34.590Z"
   },
   {
    "duration": 7,
    "start_time": "2021-11-14T10:15:34.600Z"
   },
   {
    "duration": 36,
    "start_time": "2021-11-14T10:15:34.609Z"
   },
   {
    "duration": 7,
    "start_time": "2021-11-14T10:15:34.647Z"
   },
   {
    "duration": 9,
    "start_time": "2021-11-14T10:15:34.656Z"
   },
   {
    "duration": 7,
    "start_time": "2021-11-14T10:15:34.667Z"
   },
   {
    "duration": 16,
    "start_time": "2021-11-14T10:15:34.676Z"
   },
   {
    "duration": 98,
    "start_time": "2021-11-14T10:15:34.694Z"
   },
   {
    "duration": -1674,
    "start_time": "2021-11-14T10:15:36.469Z"
   },
   {
    "duration": -1677,
    "start_time": "2021-11-14T10:15:36.473Z"
   },
   {
    "duration": -1687,
    "start_time": "2021-11-14T10:15:36.485Z"
   },
   {
    "duration": -1691,
    "start_time": "2021-11-14T10:15:36.491Z"
   },
   {
    "duration": -1701,
    "start_time": "2021-11-14T10:15:36.502Z"
   },
   {
    "duration": -1705,
    "start_time": "2021-11-14T10:15:36.507Z"
   },
   {
    "duration": -1714,
    "start_time": "2021-11-14T10:15:36.518Z"
   },
   {
    "duration": -1719,
    "start_time": "2021-11-14T10:15:36.524Z"
   },
   {
    "duration": -1729,
    "start_time": "2021-11-14T10:15:36.535Z"
   },
   {
    "duration": -1729,
    "start_time": "2021-11-14T10:15:36.541Z"
   },
   {
    "duration": 15,
    "start_time": "2021-11-14T10:16:25.650Z"
   },
   {
    "duration": 8,
    "start_time": "2021-11-14T10:16:33.650Z"
   },
   {
    "duration": 10,
    "start_time": "2021-11-14T10:16:42.858Z"
   },
   {
    "duration": 197,
    "start_time": "2021-11-14T10:17:14.498Z"
   },
   {
    "duration": 11,
    "start_time": "2021-11-14T10:17:16.553Z"
   },
   {
    "duration": 42,
    "start_time": "2021-11-14T10:18:33.466Z"
   },
   {
    "duration": 42,
    "start_time": "2021-11-14T10:18:41.189Z"
   },
   {
    "duration": 46,
    "start_time": "2021-11-14T10:19:18.884Z"
   },
   {
    "duration": 694,
    "start_time": "2021-11-14T10:20:25.175Z"
   },
   {
    "duration": 12,
    "start_time": "2021-11-14T10:20:59.897Z"
   },
   {
    "duration": 6,
    "start_time": "2021-11-14T10:22:03.852Z"
   },
   {
    "duration": 542,
    "start_time": "2021-11-14T10:22:21.880Z"
   },
   {
    "duration": 6,
    "start_time": "2021-11-14T10:22:39.473Z"
   },
   {
    "duration": 618,
    "start_time": "2021-11-14T10:22:42.859Z"
   },
   {
    "duration": 8,
    "start_time": "2021-11-14T10:22:58.485Z"
   },
   {
    "duration": 665,
    "start_time": "2021-11-14T10:23:00.739Z"
   },
   {
    "duration": 7,
    "start_time": "2021-11-14T10:23:14.422Z"
   },
   {
    "duration": 315,
    "start_time": "2021-11-14T10:23:16.629Z"
   },
   {
    "duration": 2245,
    "start_time": "2021-11-14T10:26:42.254Z"
   },
   {
    "duration": 27,
    "start_time": "2021-11-14T10:26:44.501Z"
   },
   {
    "duration": 10,
    "start_time": "2021-11-14T10:26:44.530Z"
   },
   {
    "duration": 15,
    "start_time": "2021-11-14T10:26:44.542Z"
   },
   {
    "duration": 91,
    "start_time": "2021-11-14T10:26:44.559Z"
   },
   {
    "duration": 24,
    "start_time": "2021-11-14T10:26:44.652Z"
   },
   {
    "duration": 46,
    "start_time": "2021-11-14T10:26:44.678Z"
   },
   {
    "duration": 570,
    "start_time": "2021-11-14T10:26:44.728Z"
   },
   {
    "duration": 460,
    "start_time": "2021-11-14T10:26:45.300Z"
   },
   {
    "duration": 50,
    "start_time": "2021-11-14T10:26:45.762Z"
   },
   {
    "duration": 277,
    "start_time": "2021-11-14T10:26:45.814Z"
   },
   {
    "duration": 34,
    "start_time": "2021-11-14T10:26:46.093Z"
   },
   {
    "duration": 3966,
    "start_time": "2021-11-14T10:26:46.129Z"
   },
   {
    "duration": 33,
    "start_time": "2021-11-14T10:26:50.097Z"
   },
   {
    "duration": 7,
    "start_time": "2021-11-14T10:26:50.132Z"
   },
   {
    "duration": 16,
    "start_time": "2021-11-14T10:26:50.144Z"
   },
   {
    "duration": 15790,
    "start_time": "2021-11-14T10:26:50.162Z"
   },
   {
    "duration": 114,
    "start_time": "2021-11-14T10:27:05.954Z"
   },
   {
    "duration": 116,
    "start_time": "2021-11-14T10:27:06.070Z"
   },
   {
    "duration": 224,
    "start_time": "2021-11-14T10:27:06.188Z"
   },
   {
    "duration": 11,
    "start_time": "2021-11-14T10:27:06.414Z"
   },
   {
    "duration": 327,
    "start_time": "2021-11-14T10:27:06.426Z"
   },
   {
    "duration": 12,
    "start_time": "2021-11-14T10:27:06.757Z"
   },
   {
    "duration": 34,
    "start_time": "2021-11-14T10:27:06.772Z"
   },
   {
    "duration": 314,
    "start_time": "2021-11-14T10:27:06.808Z"
   },
   {
    "duration": 67,
    "start_time": "2021-11-14T10:27:07.124Z"
   },
   {
    "duration": 8,
    "start_time": "2021-11-14T10:27:07.193Z"
   },
   {
    "duration": 614,
    "start_time": "2021-11-14T10:27:07.203Z"
   },
   {
    "duration": 28,
    "start_time": "2021-11-14T10:27:07.819Z"
   },
   {
    "duration": 45,
    "start_time": "2021-11-14T10:27:07.848Z"
   },
   {
    "duration": 29,
    "start_time": "2021-11-14T10:27:07.945Z"
   },
   {
    "duration": 76,
    "start_time": "2021-11-14T10:27:07.976Z"
   },
   {
    "duration": 26,
    "start_time": "2021-11-14T10:27:08.054Z"
   },
   {
    "duration": 74,
    "start_time": "2021-11-14T10:27:08.082Z"
   },
   {
    "duration": 54,
    "start_time": "2021-11-14T10:27:08.158Z"
   },
   {
    "duration": 37,
    "start_time": "2021-11-14T10:27:08.214Z"
   },
   {
    "duration": 10,
    "start_time": "2021-11-14T10:27:08.253Z"
   },
   {
    "duration": 8,
    "start_time": "2021-11-14T10:27:08.265Z"
   },
   {
    "duration": 8,
    "start_time": "2021-11-14T10:27:08.275Z"
   },
   {
    "duration": 7,
    "start_time": "2021-11-14T10:27:08.285Z"
   },
   {
    "duration": 50,
    "start_time": "2021-11-14T10:27:08.294Z"
   },
   {
    "duration": 12,
    "start_time": "2021-11-14T10:27:08.347Z"
   },
   {
    "duration": 737,
    "start_time": "2021-11-14T10:27:08.361Z"
   },
   {
    "duration": -808,
    "start_time": "2021-11-14T10:27:09.908Z"
   },
   {
    "duration": -818,
    "start_time": "2021-11-14T10:27:09.918Z"
   },
   {
    "duration": -821,
    "start_time": "2021-11-14T10:27:09.922Z"
   },
   {
    "duration": -824,
    "start_time": "2021-11-14T10:27:09.927Z"
   },
   {
    "duration": -831,
    "start_time": "2021-11-14T10:27:09.935Z"
   },
   {
    "duration": -835,
    "start_time": "2021-11-14T10:27:09.940Z"
   },
   {
    "duration": -842,
    "start_time": "2021-11-14T10:27:09.948Z"
   },
   {
    "duration": -846,
    "start_time": "2021-11-14T10:27:09.953Z"
   },
   {
    "duration": 45,
    "start_time": "2021-11-14T10:27:26.632Z"
   },
   {
    "duration": 11,
    "start_time": "2021-11-14T10:27:31.006Z"
   },
   {
    "duration": 6,
    "start_time": "2021-11-14T10:27:32.733Z"
   },
   {
    "duration": 123,
    "start_time": "2021-11-14T10:27:35.982Z"
   },
   {
    "duration": 278,
    "start_time": "2021-11-14T10:27:38.889Z"
   },
   {
    "duration": 360,
    "start_time": "2021-11-14T10:27:44.930Z"
   },
   {
    "duration": 5,
    "start_time": "2021-11-14T10:28:06.452Z"
   },
   {
    "duration": 275,
    "start_time": "2021-11-14T10:28:06.545Z"
   },
   {
    "duration": 6,
    "start_time": "2021-11-14T10:28:12.981Z"
   },
   {
    "duration": 6,
    "start_time": "2021-11-14T10:28:18.306Z"
   },
   {
    "duration": 182,
    "start_time": "2021-11-14T10:28:31.362Z"
   },
   {
    "duration": 130,
    "start_time": "2021-11-14T10:28:33.335Z"
   },
   {
    "duration": 8,
    "start_time": "2021-11-14T10:28:48.875Z"
   },
   {
    "duration": 5,
    "start_time": "2021-11-14T10:29:25.633Z"
   },
   {
    "duration": 6,
    "start_time": "2021-11-14T10:29:30.409Z"
   },
   {
    "duration": 4,
    "start_time": "2021-11-14T10:29:58.787Z"
   },
   {
    "duration": 304,
    "start_time": "2021-11-14T10:30:21.814Z"
   },
   {
    "duration": 298,
    "start_time": "2021-11-14T10:30:26.861Z"
   },
   {
    "duration": 5,
    "start_time": "2021-11-14T10:30:36.093Z"
   },
   {
    "duration": 5,
    "start_time": "2021-11-14T10:30:45.122Z"
   },
   {
    "duration": 337,
    "start_time": "2021-11-14T10:30:53.637Z"
   },
   {
    "duration": 7,
    "start_time": "2021-11-14T10:31:02.826Z"
   },
   {
    "duration": 8,
    "start_time": "2021-11-14T10:34:51.605Z"
   },
   {
    "duration": 8,
    "start_time": "2021-11-14T10:35:13.209Z"
   },
   {
    "duration": 8,
    "start_time": "2021-11-14T10:35:39.976Z"
   },
   {
    "duration": 7,
    "start_time": "2021-11-14T10:36:38.253Z"
   },
   {
    "duration": 127,
    "start_time": "2021-11-14T10:36:40.359Z"
   },
   {
    "duration": 1485,
    "start_time": "2021-11-14T10:36:51.308Z"
   },
   {
    "duration": 25,
    "start_time": "2021-11-14T10:36:52.795Z"
   },
   {
    "duration": 13,
    "start_time": "2021-11-14T10:36:52.822Z"
   },
   {
    "duration": 8,
    "start_time": "2021-11-14T10:36:52.836Z"
   },
   {
    "duration": 76,
    "start_time": "2021-11-14T10:36:52.845Z"
   },
   {
    "duration": 14,
    "start_time": "2021-11-14T10:36:52.922Z"
   },
   {
    "duration": 32,
    "start_time": "2021-11-14T10:36:52.938Z"
   },
   {
    "duration": 397,
    "start_time": "2021-11-14T10:36:52.974Z"
   },
   {
    "duration": 449,
    "start_time": "2021-11-14T10:36:53.373Z"
   },
   {
    "duration": 155,
    "start_time": "2021-11-14T10:36:53.824Z"
   },
   {
    "duration": 281,
    "start_time": "2021-11-14T10:36:53.981Z"
   },
   {
    "duration": 35,
    "start_time": "2021-11-14T10:36:54.263Z"
   },
   {
    "duration": 3619,
    "start_time": "2021-11-14T10:36:54.300Z"
   },
   {
    "duration": 34,
    "start_time": "2021-11-14T10:36:57.921Z"
   },
   {
    "duration": 8,
    "start_time": "2021-11-14T10:36:57.957Z"
   },
   {
    "duration": 13,
    "start_time": "2021-11-14T10:36:57.967Z"
   },
   {
    "duration": 14693,
    "start_time": "2021-11-14T10:36:57.982Z"
   },
   {
    "duration": 26,
    "start_time": "2021-11-14T10:37:12.676Z"
   },
   {
    "duration": 146,
    "start_time": "2021-11-14T10:37:12.705Z"
   },
   {
    "duration": 219,
    "start_time": "2021-11-14T10:37:12.853Z"
   },
   {
    "duration": 8,
    "start_time": "2021-11-14T10:37:13.074Z"
   },
   {
    "duration": 260,
    "start_time": "2021-11-14T10:37:13.084Z"
   },
   {
    "duration": 9,
    "start_time": "2021-11-14T10:37:13.348Z"
   },
   {
    "duration": 26,
    "start_time": "2021-11-14T10:37:13.359Z"
   },
   {
    "duration": 246,
    "start_time": "2021-11-14T10:37:13.387Z"
   },
   {
    "duration": 46,
    "start_time": "2021-11-14T10:37:13.635Z"
   },
   {
    "duration": 8,
    "start_time": "2021-11-14T10:37:13.683Z"
   },
   {
    "duration": 2124,
    "start_time": "2021-11-14T10:37:18.966Z"
   },
   {
    "duration": 25,
    "start_time": "2021-11-14T10:37:21.092Z"
   },
   {
    "duration": 11,
    "start_time": "2021-11-14T10:37:21.119Z"
   },
   {
    "duration": 11,
    "start_time": "2021-11-14T10:37:21.132Z"
   },
   {
    "duration": 74,
    "start_time": "2021-11-14T10:37:21.145Z"
   },
   {
    "duration": 13,
    "start_time": "2021-11-14T10:37:21.221Z"
   },
   {
    "duration": 38,
    "start_time": "2021-11-14T10:37:21.235Z"
   },
   {
    "duration": 412,
    "start_time": "2021-11-14T10:37:21.276Z"
   },
   {
    "duration": 470,
    "start_time": "2021-11-14T10:37:21.691Z"
   },
   {
    "duration": 54,
    "start_time": "2021-11-14T10:37:22.163Z"
   },
   {
    "duration": 491,
    "start_time": "2021-11-14T10:37:22.219Z"
   },
   {
    "duration": 63,
    "start_time": "2021-11-14T10:37:22.711Z"
   },
   {
    "duration": 3574,
    "start_time": "2021-11-14T10:37:22.776Z"
   },
   {
    "duration": 42,
    "start_time": "2021-11-14T10:37:26.352Z"
   },
   {
    "duration": 6,
    "start_time": "2021-11-14T10:37:26.396Z"
   },
   {
    "duration": 12,
    "start_time": "2021-11-14T10:37:26.404Z"
   },
   {
    "duration": 15175,
    "start_time": "2021-11-14T10:37:26.418Z"
   },
   {
    "duration": 44,
    "start_time": "2021-11-14T10:37:41.595Z"
   },
   {
    "duration": 144,
    "start_time": "2021-11-14T10:37:41.640Z"
   },
   {
    "duration": 252,
    "start_time": "2021-11-14T10:37:41.786Z"
   },
   {
    "duration": 11,
    "start_time": "2021-11-14T10:37:42.044Z"
   },
   {
    "duration": 260,
    "start_time": "2021-11-14T10:37:42.057Z"
   },
   {
    "duration": 9,
    "start_time": "2021-11-14T10:37:42.320Z"
   },
   {
    "duration": 31,
    "start_time": "2021-11-14T10:37:42.331Z"
   },
   {
    "duration": 237,
    "start_time": "2021-11-14T10:37:42.364Z"
   },
   {
    "duration": 49,
    "start_time": "2021-11-14T10:37:42.603Z"
   },
   {
    "duration": 8,
    "start_time": "2021-11-14T10:37:42.654Z"
   },
   {
    "duration": 560,
    "start_time": "2021-11-14T10:37:42.664Z"
   },
   {
    "duration": 11,
    "start_time": "2021-11-14T10:37:43.244Z"
   },
   {
    "duration": 102,
    "start_time": "2021-11-14T10:37:43.257Z"
   },
   {
    "duration": 89,
    "start_time": "2021-11-14T10:37:43.361Z"
   },
   {
    "duration": 34,
    "start_time": "2021-11-14T10:37:43.452Z"
   },
   {
    "duration": 57,
    "start_time": "2021-11-14T10:37:43.489Z"
   },
   {
    "duration": 22,
    "start_time": "2021-11-14T10:37:43.548Z"
   },
   {
    "duration": 31,
    "start_time": "2021-11-14T10:37:43.572Z"
   },
   {
    "duration": 8,
    "start_time": "2021-11-14T10:37:43.605Z"
   },
   {
    "duration": 36,
    "start_time": "2021-11-14T10:37:43.614Z"
   },
   {
    "duration": 10,
    "start_time": "2021-11-14T10:37:43.652Z"
   },
   {
    "duration": 19,
    "start_time": "2021-11-14T10:37:43.664Z"
   },
   {
    "duration": 20,
    "start_time": "2021-11-14T10:37:43.685Z"
   },
   {
    "duration": 19,
    "start_time": "2021-11-14T10:37:43.706Z"
   },
   {
    "duration": 17,
    "start_time": "2021-11-14T10:37:43.727Z"
   },
   {
    "duration": 50,
    "start_time": "2021-11-14T10:37:43.746Z"
   },
   {
    "duration": 11,
    "start_time": "2021-11-14T10:37:43.798Z"
   },
   {
    "duration": 15,
    "start_time": "2021-11-14T10:37:43.811Z"
   },
   {
    "duration": 371,
    "start_time": "2021-11-14T10:37:43.828Z"
   },
   {
    "duration": 7,
    "start_time": "2021-11-14T10:37:44.201Z"
   },
   {
    "duration": 9,
    "start_time": "2021-11-14T10:37:44.210Z"
   },
   {
    "duration": 13,
    "start_time": "2021-11-14T10:37:44.221Z"
   },
   {
    "duration": 11,
    "start_time": "2021-11-14T10:37:44.236Z"
   },
   {
    "duration": 19,
    "start_time": "2021-11-14T10:37:44.249Z"
   },
   {
    "duration": 10,
    "start_time": "2021-11-14T10:40:20.481Z"
   },
   {
    "duration": 120,
    "start_time": "2021-11-14T10:40:22.719Z"
   },
   {
    "duration": 80,
    "start_time": "2021-11-14T10:41:15.338Z"
   },
   {
    "duration": 25,
    "start_time": "2021-11-14T10:42:33.773Z"
   },
   {
    "duration": 27,
    "start_time": "2021-11-14T10:43:00.347Z"
   },
   {
    "duration": 28,
    "start_time": "2021-11-14T10:43:16.706Z"
   },
   {
    "duration": 238,
    "start_time": "2021-11-14T10:44:47.306Z"
   },
   {
    "duration": 30,
    "start_time": "2021-11-14T10:45:03.187Z"
   },
   {
    "duration": 445,
    "start_time": "2021-11-14T10:46:35.056Z"
   },
   {
    "duration": 294,
    "start_time": "2021-11-14T10:47:07.207Z"
   },
   {
    "duration": 229,
    "start_time": "2021-11-14T10:47:13.309Z"
   },
   {
    "duration": 376,
    "start_time": "2021-11-14T10:47:44.335Z"
   },
   {
    "duration": 56,
    "start_time": "2021-11-14T11:04:34.514Z"
   },
   {
    "duration": 1633,
    "start_time": "2021-11-14T11:13:25.908Z"
   },
   {
    "duration": 27,
    "start_time": "2021-11-14T11:13:27.543Z"
   },
   {
    "duration": 7,
    "start_time": "2021-11-14T11:13:27.572Z"
   },
   {
    "duration": 6,
    "start_time": "2021-11-14T11:13:27.581Z"
   },
   {
    "duration": 79,
    "start_time": "2021-11-14T11:13:27.589Z"
   },
   {
    "duration": 22,
    "start_time": "2021-11-14T11:13:27.671Z"
   },
   {
    "duration": 50,
    "start_time": "2021-11-14T11:13:27.695Z"
   },
   {
    "duration": 443,
    "start_time": "2021-11-14T11:13:27.750Z"
   },
   {
    "duration": 461,
    "start_time": "2021-11-14T11:13:28.195Z"
   },
   {
    "duration": 57,
    "start_time": "2021-11-14T11:13:28.657Z"
   },
   {
    "duration": 290,
    "start_time": "2021-11-14T11:13:28.715Z"
   },
   {
    "duration": 46,
    "start_time": "2021-11-14T11:13:29.007Z"
   },
   {
    "duration": 3736,
    "start_time": "2021-11-14T11:13:29.054Z"
   },
   {
    "duration": 33,
    "start_time": "2021-11-14T11:13:32.792Z"
   },
   {
    "duration": 8,
    "start_time": "2021-11-14T11:13:32.826Z"
   },
   {
    "duration": 16,
    "start_time": "2021-11-14T11:13:32.835Z"
   },
   {
    "duration": 14627,
    "start_time": "2021-11-14T11:13:32.853Z"
   },
   {
    "duration": 27,
    "start_time": "2021-11-14T11:13:47.481Z"
   },
   {
    "duration": 141,
    "start_time": "2021-11-14T11:13:47.509Z"
   },
   {
    "duration": 220,
    "start_time": "2021-11-14T11:13:47.652Z"
   },
   {
    "duration": 8,
    "start_time": "2021-11-14T11:13:47.874Z"
   },
   {
    "duration": 269,
    "start_time": "2021-11-14T11:13:47.884Z"
   },
   {
    "duration": 27,
    "start_time": "2021-11-14T11:13:48.156Z"
   },
   {
    "duration": 261,
    "start_time": "2021-11-14T11:13:48.186Z"
   },
   {
    "duration": 36,
    "start_time": "2021-11-14T11:13:48.449Z"
   },
   {
    "duration": 7,
    "start_time": "2021-11-14T11:13:48.487Z"
   },
   {
    "duration": 593,
    "start_time": "2021-11-14T11:13:48.496Z"
   },
   {
    "duration": 6,
    "start_time": "2021-11-14T11:13:49.091Z"
   },
   {
    "duration": 62,
    "start_time": "2021-11-14T11:13:49.099Z"
   },
   {
    "duration": 25,
    "start_time": "2021-11-14T11:13:49.163Z"
   },
   {
    "duration": 25,
    "start_time": "2021-11-14T11:13:49.244Z"
   },
   {
    "duration": 22,
    "start_time": "2021-11-14T11:13:49.271Z"
   },
   {
    "duration": 64,
    "start_time": "2021-11-14T11:13:49.294Z"
   },
   {
    "duration": 31,
    "start_time": "2021-11-14T11:13:49.360Z"
   },
   {
    "duration": 8,
    "start_time": "2021-11-14T11:13:49.393Z"
   },
   {
    "duration": 8,
    "start_time": "2021-11-14T11:13:49.403Z"
   },
   {
    "duration": 32,
    "start_time": "2021-11-14T11:13:49.413Z"
   },
   {
    "duration": 8,
    "start_time": "2021-11-14T11:13:49.447Z"
   },
   {
    "duration": 8,
    "start_time": "2021-11-14T11:13:49.457Z"
   },
   {
    "duration": 12,
    "start_time": "2021-11-14T11:13:49.467Z"
   },
   {
    "duration": 78,
    "start_time": "2021-11-14T11:13:49.481Z"
   },
   {
    "duration": 6,
    "start_time": "2021-11-14T11:13:49.561Z"
   },
   {
    "duration": 317,
    "start_time": "2021-11-14T11:13:49.569Z"
   },
   {
    "duration": 6,
    "start_time": "2021-11-14T11:13:49.888Z"
   },
   {
    "duration": 8,
    "start_time": "2021-11-14T11:13:49.896Z"
   },
   {
    "duration": 9,
    "start_time": "2021-11-14T11:13:49.905Z"
   },
   {
    "duration": 6,
    "start_time": "2021-11-14T11:13:49.916Z"
   },
   {
    "duration": 78915,
    "start_time": "2021-11-14T16:22:07.968Z"
   },
   {
    "duration": 25,
    "start_time": "2021-11-14T16:23:26.885Z"
   },
   {
    "duration": 7,
    "start_time": "2021-11-14T16:23:26.912Z"
   },
   {
    "duration": 8,
    "start_time": "2021-11-14T16:23:26.921Z"
   },
   {
    "duration": 88,
    "start_time": "2021-11-14T16:23:26.931Z"
   },
   {
    "duration": 13,
    "start_time": "2021-11-14T16:23:27.021Z"
   },
   {
    "duration": 34,
    "start_time": "2021-11-14T16:23:27.036Z"
   },
   {
    "duration": 483,
    "start_time": "2021-11-14T16:23:27.072Z"
   },
   {
    "duration": 449,
    "start_time": "2021-11-14T16:23:27.558Z"
   },
   {
    "duration": 49,
    "start_time": "2021-11-14T16:23:28.008Z"
   },
   {
    "duration": 259,
    "start_time": "2021-11-14T16:23:28.059Z"
   },
   {
    "duration": 33,
    "start_time": "2021-11-14T16:23:28.319Z"
   },
   {
    "duration": 3543,
    "start_time": "2021-11-14T16:23:28.354Z"
   },
   {
    "duration": 29,
    "start_time": "2021-11-14T16:23:31.899Z"
   },
   {
    "duration": 7,
    "start_time": "2021-11-14T16:23:31.930Z"
   },
   {
    "duration": 18,
    "start_time": "2021-11-14T16:23:31.939Z"
   },
   {
    "duration": 13791,
    "start_time": "2021-11-14T16:23:31.959Z"
   },
   {
    "duration": 29,
    "start_time": "2021-11-14T16:23:45.753Z"
   },
   {
    "duration": 114,
    "start_time": "2021-11-14T16:23:45.807Z"
   },
   {
    "duration": 211,
    "start_time": "2021-11-14T16:23:45.923Z"
   },
   {
    "duration": 9,
    "start_time": "2021-11-14T16:23:46.136Z"
   },
   {
    "duration": 243,
    "start_time": "2021-11-14T16:23:46.147Z"
   },
   {
    "duration": 32,
    "start_time": "2021-11-14T16:23:46.394Z"
   },
   {
    "duration": 242,
    "start_time": "2021-11-14T16:23:46.428Z"
   },
   {
    "duration": 46,
    "start_time": "2021-11-14T16:23:46.672Z"
   },
   {
    "duration": 8,
    "start_time": "2021-11-14T16:23:46.720Z"
   },
   {
    "duration": 549,
    "start_time": "2021-11-14T16:23:46.729Z"
   },
   {
    "duration": 27,
    "start_time": "2021-11-14T16:23:47.280Z"
   },
   {
    "duration": 102,
    "start_time": "2021-11-14T16:23:47.309Z"
   },
   {
    "duration": 37,
    "start_time": "2021-11-14T16:23:47.413Z"
   },
   {
    "duration": 37,
    "start_time": "2021-11-14T16:23:47.507Z"
   },
   {
    "duration": 68,
    "start_time": "2021-11-14T16:23:47.546Z"
   },
   {
    "duration": 20,
    "start_time": "2021-11-14T16:23:47.616Z"
   },
   {
    "duration": 46,
    "start_time": "2021-11-14T16:23:47.638Z"
   },
   {
    "duration": 24,
    "start_time": "2021-11-14T16:23:47.686Z"
   },
   {
    "duration": 24,
    "start_time": "2021-11-14T16:23:47.712Z"
   },
   {
    "duration": 48,
    "start_time": "2021-11-14T16:23:47.738Z"
   },
   {
    "duration": 23,
    "start_time": "2021-11-14T16:23:47.788Z"
   },
   {
    "duration": 33,
    "start_time": "2021-11-14T16:23:47.813Z"
   },
   {
    "duration": 29,
    "start_time": "2021-11-14T16:23:47.847Z"
   },
   {
    "duration": 88,
    "start_time": "2021-11-14T16:23:47.878Z"
   },
   {
    "duration": 6,
    "start_time": "2021-11-14T16:23:47.967Z"
   },
   {
    "duration": 303,
    "start_time": "2021-11-14T16:23:47.975Z"
   },
   {
    "duration": 6,
    "start_time": "2021-11-14T16:23:48.280Z"
   },
   {
    "duration": 7,
    "start_time": "2021-11-14T16:23:48.287Z"
   },
   {
    "duration": 13,
    "start_time": "2021-11-14T16:23:48.296Z"
   },
   {
    "duration": 6,
    "start_time": "2021-11-14T16:23:48.310Z"
   },
   {
    "duration": 17,
    "start_time": "2021-11-14T16:24:59.635Z"
   },
   {
    "duration": 6,
    "start_time": "2021-11-14T16:25:15.216Z"
   },
   {
    "duration": 22,
    "start_time": "2021-11-14T16:28:24.016Z"
   },
   {
    "duration": 6,
    "start_time": "2021-11-14T16:30:05.748Z"
   },
   {
    "duration": 4,
    "start_time": "2021-11-14T16:30:27.320Z"
   },
   {
    "duration": 2222,
    "start_time": "2021-11-15T06:32:52.255Z"
   },
   {
    "duration": 42,
    "start_time": "2021-11-15T06:32:54.480Z"
   },
   {
    "duration": 9,
    "start_time": "2021-11-15T06:32:54.530Z"
   },
   {
    "duration": 10,
    "start_time": "2021-11-15T06:32:54.542Z"
   },
   {
    "duration": 125,
    "start_time": "2021-11-15T06:32:54.555Z"
   },
   {
    "duration": 26,
    "start_time": "2021-11-15T06:32:54.683Z"
   },
   {
    "duration": 43,
    "start_time": "2021-11-15T06:32:54.713Z"
   },
   {
    "duration": 751,
    "start_time": "2021-11-15T06:32:54.760Z"
   },
   {
    "duration": 668,
    "start_time": "2021-11-15T06:32:55.513Z"
   },
   {
    "duration": 83,
    "start_time": "2021-11-15T06:32:56.183Z"
   },
   {
    "duration": 386,
    "start_time": "2021-11-15T06:32:56.269Z"
   },
   {
    "duration": 62,
    "start_time": "2021-11-15T06:32:56.657Z"
   },
   {
    "duration": 6459,
    "start_time": "2021-11-15T06:32:56.721Z"
   },
   {
    "duration": 60,
    "start_time": "2021-11-15T06:33:03.183Z"
   },
   {
    "duration": 10,
    "start_time": "2021-11-15T06:33:03.245Z"
   },
   {
    "duration": 17,
    "start_time": "2021-11-15T06:33:03.258Z"
   },
   {
    "duration": 25223,
    "start_time": "2021-11-15T06:33:03.278Z"
   },
   {
    "duration": 47,
    "start_time": "2021-11-15T06:33:28.504Z"
   },
   {
    "duration": 201,
    "start_time": "2021-11-15T06:33:28.554Z"
   },
   {
    "duration": 378,
    "start_time": "2021-11-15T06:33:28.758Z"
   },
   {
    "duration": 11,
    "start_time": "2021-11-15T06:33:29.138Z"
   },
   {
    "duration": 419,
    "start_time": "2021-11-15T06:33:29.155Z"
   },
   {
    "duration": 123,
    "start_time": "2021-11-15T06:33:29.578Z"
   },
   {
    "duration": 149,
    "start_time": "2021-11-15T06:33:29.704Z"
   },
   {
    "duration": -7,
    "start_time": "2021-11-15T06:33:29.862Z"
   },
   {
    "duration": -13,
    "start_time": "2021-11-15T06:33:29.869Z"
   },
   {
    "duration": -23,
    "start_time": "2021-11-15T06:33:29.881Z"
   },
   {
    "duration": -27,
    "start_time": "2021-11-15T06:33:29.886Z"
   },
   {
    "duration": -67,
    "start_time": "2021-11-15T06:33:29.927Z"
   },
   {
    "duration": -69,
    "start_time": "2021-11-15T06:33:29.931Z"
   },
   {
    "duration": -80,
    "start_time": "2021-11-15T06:33:29.943Z"
   },
   {
    "duration": -89,
    "start_time": "2021-11-15T06:33:29.953Z"
   },
   {
    "duration": -106,
    "start_time": "2021-11-15T06:33:29.971Z"
   },
   {
    "duration": -119,
    "start_time": "2021-11-15T06:33:29.985Z"
   },
   {
    "duration": -127,
    "start_time": "2021-11-15T06:33:29.994Z"
   },
   {
    "duration": -137,
    "start_time": "2021-11-15T06:33:30.006Z"
   },
   {
    "duration": -152,
    "start_time": "2021-11-15T06:33:30.022Z"
   },
   {
    "duration": -167,
    "start_time": "2021-11-15T06:33:30.039Z"
   },
   {
    "duration": -183,
    "start_time": "2021-11-15T06:33:30.057Z"
   },
   {
    "duration": -200,
    "start_time": "2021-11-15T06:33:30.075Z"
   },
   {
    "duration": -215,
    "start_time": "2021-11-15T06:33:30.091Z"
   },
   {
    "duration": -224,
    "start_time": "2021-11-15T06:33:30.102Z"
   },
   {
    "duration": -242,
    "start_time": "2021-11-15T06:33:30.121Z"
   },
   {
    "duration": -254,
    "start_time": "2021-11-15T06:33:30.135Z"
   },
   {
    "duration": -269,
    "start_time": "2021-11-15T06:33:30.151Z"
   },
   {
    "duration": -281,
    "start_time": "2021-11-15T06:33:30.165Z"
   },
   {
    "duration": -294,
    "start_time": "2021-11-15T06:33:30.179Z"
   },
   {
    "duration": -299,
    "start_time": "2021-11-15T06:33:30.185Z"
   },
   {
    "duration": -309,
    "start_time": "2021-11-15T06:33:30.197Z"
   },
   {
    "duration": 432,
    "start_time": "2021-11-15T06:34:43.868Z"
   },
   {
    "duration": 27,
    "start_time": "2021-11-15T06:34:55.833Z"
   },
   {
    "duration": 256,
    "start_time": "2021-11-15T06:34:55.912Z"
   },
   {
    "duration": 13,
    "start_time": "2021-11-15T06:36:09.476Z"
   },
   {
    "duration": 12333,
    "start_time": "2021-11-15T06:36:38.829Z"
   },
   {
    "duration": 12339,
    "start_time": "2021-11-15T06:37:34.255Z"
   },
   {
    "duration": 26,
    "start_time": "2021-11-15T06:38:07.777Z"
   },
   {
    "duration": 26,
    "start_time": "2021-11-15T06:38:18.081Z"
   },
   {
    "duration": 295,
    "start_time": "2021-11-15T06:38:24.222Z"
   },
   {
    "duration": 8,
    "start_time": "2021-11-15T06:38:37.911Z"
   },
   {
    "duration": 391,
    "start_time": "2021-11-15T06:40:20.968Z"
   },
   {
    "duration": 59,
    "start_time": "2021-11-15T06:40:23.468Z"
   },
   {
    "duration": 10,
    "start_time": "2021-11-15T06:40:25.958Z"
   },
   {
    "duration": 393,
    "start_time": "2021-11-15T06:40:27.498Z"
   },
   {
    "duration": 190,
    "start_time": "2021-11-15T06:41:02.355Z"
   },
   {
    "duration": 196,
    "start_time": "2021-11-15T06:41:08.368Z"
   },
   {
    "duration": 279,
    "start_time": "2021-11-15T06:41:35.742Z"
   },
   {
    "duration": 40,
    "start_time": "2021-11-15T06:43:00.245Z"
   },
   {
    "duration": 42,
    "start_time": "2021-11-15T06:43:28.221Z"
   },
   {
    "duration": 36,
    "start_time": "2021-11-15T06:43:33.826Z"
   },
   {
    "duration": 39,
    "start_time": "2021-11-15T06:44:05.937Z"
   },
   {
    "duration": 388,
    "start_time": "2021-11-15T06:44:13.488Z"
   },
   {
    "duration": 388,
    "start_time": "2021-11-15T06:44:59.384Z"
   },
   {
    "duration": 388,
    "start_time": "2021-11-15T06:45:09.296Z"
   },
   {
    "duration": 1997,
    "start_time": "2021-11-15T06:47:23.031Z"
   },
   {
    "duration": 32,
    "start_time": "2021-11-15T06:47:25.031Z"
   },
   {
    "duration": 11,
    "start_time": "2021-11-15T06:47:25.066Z"
   },
   {
    "duration": 9,
    "start_time": "2021-11-15T06:47:25.080Z"
   },
   {
    "duration": 109,
    "start_time": "2021-11-15T06:47:25.092Z"
   },
   {
    "duration": 20,
    "start_time": "2021-11-15T06:47:25.204Z"
   },
   {
    "duration": 45,
    "start_time": "2021-11-15T06:47:25.226Z"
   },
   {
    "duration": 712,
    "start_time": "2021-11-15T06:47:25.300Z"
   },
   {
    "duration": 636,
    "start_time": "2021-11-15T06:47:26.016Z"
   },
   {
    "duration": 82,
    "start_time": "2021-11-15T06:47:26.654Z"
   },
   {
    "duration": 379,
    "start_time": "2021-11-15T06:47:26.739Z"
   },
   {
    "duration": 48,
    "start_time": "2021-11-15T06:47:27.120Z"
   },
   {
    "duration": 6573,
    "start_time": "2021-11-15T06:47:27.170Z"
   },
   {
    "duration": 42,
    "start_time": "2021-11-15T06:47:33.746Z"
   },
   {
    "duration": 13,
    "start_time": "2021-11-15T06:47:33.790Z"
   },
   {
    "duration": 21,
    "start_time": "2021-11-15T06:47:33.806Z"
   },
   {
    "duration": 25480,
    "start_time": "2021-11-15T06:47:33.829Z"
   },
   {
    "duration": 52,
    "start_time": "2021-11-15T06:47:59.312Z"
   },
   {
    "duration": 195,
    "start_time": "2021-11-15T06:47:59.367Z"
   },
   {
    "duration": 373,
    "start_time": "2021-11-15T06:47:59.564Z"
   },
   {
    "duration": 11,
    "start_time": "2021-11-15T06:47:59.939Z"
   },
   {
    "duration": 464,
    "start_time": "2021-11-15T06:47:59.952Z"
   },
   {
    "duration": 117,
    "start_time": "2021-11-15T06:48:00.422Z"
   },
   {
    "duration": 7,
    "start_time": "2021-11-15T06:48:00.542Z"
   },
   {
    "duration": 418,
    "start_time": "2021-11-15T06:48:00.552Z"
   },
   {
    "duration": 69,
    "start_time": "2021-11-15T06:48:00.973Z"
   },
   {
    "duration": 9,
    "start_time": "2021-11-15T06:48:01.044Z"
   },
   {
    "duration": 899,
    "start_time": "2021-11-15T06:48:01.056Z"
   },
   {
    "duration": 125,
    "start_time": "2021-11-15T06:48:01.957Z"
   },
   {
    "duration": -888,
    "start_time": "2021-11-15T06:48:02.973Z"
   },
   {
    "duration": -893,
    "start_time": "2021-11-15T06:48:02.979Z"
   },
   {
    "duration": -902,
    "start_time": "2021-11-15T06:48:02.989Z"
   },
   {
    "duration": -905,
    "start_time": "2021-11-15T06:48:03.005Z"
   },
   {
    "duration": -914,
    "start_time": "2021-11-15T06:48:03.016Z"
   },
   {
    "duration": -923,
    "start_time": "2021-11-15T06:48:03.026Z"
   },
   {
    "duration": -927,
    "start_time": "2021-11-15T06:48:03.031Z"
   },
   {
    "duration": -935,
    "start_time": "2021-11-15T06:48:03.041Z"
   },
   {
    "duration": -938,
    "start_time": "2021-11-15T06:48:03.045Z"
   },
   {
    "duration": -946,
    "start_time": "2021-11-15T06:48:03.055Z"
   },
   {
    "duration": -949,
    "start_time": "2021-11-15T06:48:03.059Z"
   },
   {
    "duration": -953,
    "start_time": "2021-11-15T06:48:03.064Z"
   },
   {
    "duration": -961,
    "start_time": "2021-11-15T06:48:03.074Z"
   },
   {
    "duration": -964,
    "start_time": "2021-11-15T06:48:03.079Z"
   },
   {
    "duration": -972,
    "start_time": "2021-11-15T06:48:03.088Z"
   },
   {
    "duration": -975,
    "start_time": "2021-11-15T06:48:03.093Z"
   },
   {
    "duration": -979,
    "start_time": "2021-11-15T06:48:03.098Z"
   },
   {
    "duration": -992,
    "start_time": "2021-11-15T06:48:03.113Z"
   },
   {
    "duration": -1000,
    "start_time": "2021-11-15T06:48:03.122Z"
   },
   {
    "duration": -1002,
    "start_time": "2021-11-15T06:48:03.126Z"
   },
   {
    "duration": 10,
    "start_time": "2021-11-15T06:48:27.341Z"
   },
   {
    "duration": 45,
    "start_time": "2021-11-15T06:48:29.749Z"
   },
   {
    "duration": 37,
    "start_time": "2021-11-15T06:48:31.535Z"
   },
   {
    "duration": 38,
    "start_time": "2021-11-15T06:48:33.063Z"
   },
   {
    "duration": 35,
    "start_time": "2021-11-15T06:48:34.633Z"
   },
   {
    "duration": 33,
    "start_time": "2021-11-15T06:48:34.717Z"
   },
   {
    "duration": 50,
    "start_time": "2021-11-15T06:48:37.901Z"
   },
   {
    "duration": 14,
    "start_time": "2021-11-15T06:48:39.649Z"
   },
   {
    "duration": 14,
    "start_time": "2021-11-15T06:48:41.330Z"
   },
   {
    "duration": 12,
    "start_time": "2021-11-15T06:48:42.700Z"
   },
   {
    "duration": 13,
    "start_time": "2021-11-15T06:48:46.940Z"
   },
   {
    "duration": 11,
    "start_time": "2021-11-15T06:48:48.881Z"
   },
   {
    "duration": 13,
    "start_time": "2021-11-15T06:48:50.130Z"
   },
   {
    "duration": 75,
    "start_time": "2021-11-15T06:50:08.650Z"
   },
   {
    "duration": 10,
    "start_time": "2021-11-15T06:51:27.021Z"
   },
   {
    "duration": 448,
    "start_time": "2021-11-15T06:51:29.472Z"
   },
   {
    "duration": 1984,
    "start_time": "2021-11-15T07:09:34.587Z"
   },
   {
    "duration": 32,
    "start_time": "2021-11-15T07:09:36.574Z"
   },
   {
    "duration": 9,
    "start_time": "2021-11-15T07:09:36.612Z"
   },
   {
    "duration": 10,
    "start_time": "2021-11-15T07:09:36.624Z"
   },
   {
    "duration": 120,
    "start_time": "2021-11-15T07:09:36.636Z"
   },
   {
    "duration": 20,
    "start_time": "2021-11-15T07:09:36.759Z"
   },
   {
    "duration": 58,
    "start_time": "2021-11-15T07:09:36.783Z"
   },
   {
    "duration": 718,
    "start_time": "2021-11-15T07:09:36.844Z"
   },
   {
    "duration": 667,
    "start_time": "2021-11-15T07:09:37.564Z"
   },
   {
    "duration": 86,
    "start_time": "2021-11-15T07:09:38.233Z"
   },
   {
    "duration": 363,
    "start_time": "2021-11-15T07:09:38.321Z"
   },
   {
    "duration": 53,
    "start_time": "2021-11-15T07:09:38.687Z"
   },
   {
    "duration": 6693,
    "start_time": "2021-11-15T07:09:38.742Z"
   },
   {
    "duration": 675,
    "start_time": "2021-11-15T07:09:45.437Z"
   },
   {
    "duration": 10,
    "start_time": "2021-11-15T07:09:46.115Z"
   },
   {
    "duration": 15,
    "start_time": "2021-11-15T07:09:46.127Z"
   },
   {
    "duration": 27077,
    "start_time": "2021-11-15T07:09:46.144Z"
   },
   {
    "duration": 76,
    "start_time": "2021-11-15T07:10:13.224Z"
   },
   {
    "duration": 191,
    "start_time": "2021-11-15T07:10:13.303Z"
   },
   {
    "duration": 376,
    "start_time": "2021-11-15T07:10:13.496Z"
   },
   {
    "duration": 11,
    "start_time": "2021-11-15T07:10:13.875Z"
   },
   {
    "duration": 446,
    "start_time": "2021-11-15T07:10:13.903Z"
   },
   {
    "duration": 104,
    "start_time": "2021-11-15T07:10:14.352Z"
   },
   {
    "duration": 7,
    "start_time": "2021-11-15T07:10:14.458Z"
   },
   {
    "duration": 432,
    "start_time": "2021-11-15T07:10:14.468Z"
   },
   {
    "duration": 57,
    "start_time": "2021-11-15T07:10:14.903Z"
   },
   {
    "duration": 11,
    "start_time": "2021-11-15T07:10:14.962Z"
   },
   {
    "duration": 874,
    "start_time": "2021-11-15T07:10:15.000Z"
   },
   {
    "duration": 33,
    "start_time": "2021-11-15T07:10:15.877Z"
   },
   {
    "duration": 122,
    "start_time": "2021-11-15T07:10:15.913Z"
   },
   {
    "duration": 92,
    "start_time": "2021-11-15T07:10:16.039Z"
   },
   {
    "duration": 90,
    "start_time": "2021-11-15T07:10:16.133Z"
   },
   {
    "duration": 34,
    "start_time": "2021-11-15T07:10:16.225Z"
   },
   {
    "duration": 73,
    "start_time": "2021-11-15T07:10:16.261Z"
   },
   {
    "duration": 68,
    "start_time": "2021-11-15T07:10:16.336Z"
   },
   {
    "duration": 13,
    "start_time": "2021-11-15T07:10:16.406Z"
   },
   {
    "duration": 17,
    "start_time": "2021-11-15T07:10:16.421Z"
   },
   {
    "duration": 10,
    "start_time": "2021-11-15T07:10:16.441Z"
   },
   {
    "duration": 49,
    "start_time": "2021-11-15T07:10:16.454Z"
   },
   {
    "duration": 12,
    "start_time": "2021-11-15T07:10:16.505Z"
   },
   {
    "duration": 21,
    "start_time": "2021-11-15T07:10:16.519Z"
   },
   {
    "duration": 107,
    "start_time": "2021-11-15T07:10:16.542Z"
   },
   {
    "duration": 10,
    "start_time": "2021-11-15T07:10:16.651Z"
   },
   {
    "duration": 448,
    "start_time": "2021-11-15T07:10:16.664Z"
   },
   {
    "duration": 1899,
    "start_time": "2021-11-15T11:04:25.642Z"
   },
   {
    "duration": 30,
    "start_time": "2021-11-15T11:04:27.544Z"
   },
   {
    "duration": 8,
    "start_time": "2021-11-15T11:04:27.577Z"
   },
   {
    "duration": 10,
    "start_time": "2021-11-15T11:04:27.588Z"
   },
   {
    "duration": 102,
    "start_time": "2021-11-15T11:04:27.600Z"
   },
   {
    "duration": 29,
    "start_time": "2021-11-15T11:04:27.705Z"
   },
   {
    "duration": 42,
    "start_time": "2021-11-15T11:04:27.737Z"
   },
   {
    "duration": 727,
    "start_time": "2021-11-15T11:04:27.785Z"
   },
   {
    "duration": 625,
    "start_time": "2021-11-15T11:04:28.516Z"
   },
   {
    "duration": 70,
    "start_time": "2021-11-15T11:04:29.144Z"
   },
   {
    "duration": 348,
    "start_time": "2021-11-15T11:04:29.230Z"
   },
   {
    "duration": 61,
    "start_time": "2021-11-15T11:04:29.581Z"
   },
   {
    "duration": 6291,
    "start_time": "2021-11-15T11:04:29.644Z"
   },
   {
    "duration": 37,
    "start_time": "2021-11-15T11:04:35.937Z"
   },
   {
    "duration": 10,
    "start_time": "2021-11-15T11:04:35.977Z"
   },
   {
    "duration": 26,
    "start_time": "2021-11-15T11:04:35.990Z"
   },
   {
    "duration": 26977,
    "start_time": "2021-11-15T11:04:36.030Z"
   },
   {
    "duration": 62,
    "start_time": "2021-11-15T11:05:03.009Z"
   },
   {
    "duration": 201,
    "start_time": "2021-11-15T11:05:03.074Z"
   },
   {
    "duration": 378,
    "start_time": "2021-11-15T11:05:03.277Z"
   },
   {
    "duration": 12,
    "start_time": "2021-11-15T11:05:03.658Z"
   },
   {
    "duration": 473,
    "start_time": "2021-11-15T11:05:03.673Z"
   },
   {
    "duration": 114,
    "start_time": "2021-11-15T11:05:04.153Z"
   },
   {
    "duration": 8,
    "start_time": "2021-11-15T11:05:04.270Z"
   },
   {
    "duration": 421,
    "start_time": "2021-11-15T11:05:04.280Z"
   },
   {
    "duration": 61,
    "start_time": "2021-11-15T11:05:04.704Z"
   },
   {
    "duration": 9,
    "start_time": "2021-11-15T11:05:04.767Z"
   },
   {
    "duration": 851,
    "start_time": "2021-11-15T11:05:04.778Z"
   },
   {
    "duration": 9,
    "start_time": "2021-11-15T11:05:05.632Z"
   },
   {
    "duration": 99,
    "start_time": "2021-11-15T11:05:05.643Z"
   },
   {
    "duration": 85,
    "start_time": "2021-11-15T11:05:05.744Z"
   },
   {
    "duration": 39,
    "start_time": "2021-11-15T11:05:05.832Z"
   },
   {
    "duration": 82,
    "start_time": "2021-11-15T11:05:05.873Z"
   },
   {
    "duration": 33,
    "start_time": "2021-11-15T11:05:05.957Z"
   },
   {
    "duration": 71,
    "start_time": "2021-11-15T11:05:05.992Z"
   },
   {
    "duration": 12,
    "start_time": "2021-11-15T11:05:06.065Z"
   },
   {
    "duration": 11,
    "start_time": "2021-11-15T11:05:06.079Z"
   },
   {
    "duration": 37,
    "start_time": "2021-11-15T11:05:06.092Z"
   },
   {
    "duration": 10,
    "start_time": "2021-11-15T11:05:06.132Z"
   },
   {
    "duration": 19,
    "start_time": "2021-11-15T11:05:06.144Z"
   },
   {
    "duration": 23,
    "start_time": "2021-11-15T11:05:06.165Z"
   },
   {
    "duration": 102,
    "start_time": "2021-11-15T11:05:06.190Z"
   },
   {
    "duration": 9,
    "start_time": "2021-11-15T11:05:06.294Z"
   },
   {
    "duration": 398,
    "start_time": "2021-11-15T11:05:06.306Z"
   },
   {
    "duration": 1868,
    "start_time": "2021-11-15T11:06:27.728Z"
   },
   {
    "duration": 30,
    "start_time": "2021-11-15T11:06:29.599Z"
   },
   {
    "duration": 8,
    "start_time": "2021-11-15T11:06:29.632Z"
   },
   {
    "duration": 9,
    "start_time": "2021-11-15T11:06:29.643Z"
   },
   {
    "duration": 108,
    "start_time": "2021-11-15T11:06:29.655Z"
   },
   {
    "duration": 19,
    "start_time": "2021-11-15T11:06:29.765Z"
   },
   {
    "duration": 64,
    "start_time": "2021-11-15T11:06:29.786Z"
   },
   {
    "duration": 709,
    "start_time": "2021-11-15T11:06:29.854Z"
   },
   {
    "duration": 641,
    "start_time": "2021-11-15T11:06:30.566Z"
   },
   {
    "duration": 78,
    "start_time": "2021-11-15T11:06:31.209Z"
   },
   {
    "duration": 357,
    "start_time": "2021-11-15T11:06:31.289Z"
   },
   {
    "duration": 49,
    "start_time": "2021-11-15T11:06:31.648Z"
   },
   {
    "duration": 6676,
    "start_time": "2021-11-15T11:06:31.700Z"
   },
   {
    "duration": 42,
    "start_time": "2021-11-15T11:06:38.379Z"
   },
   {
    "duration": 18,
    "start_time": "2021-11-15T11:06:38.423Z"
   },
   {
    "duration": 19,
    "start_time": "2021-11-15T11:06:38.444Z"
   },
   {
    "duration": 23666,
    "start_time": "2021-11-15T11:06:38.466Z"
   },
   {
    "duration": 50,
    "start_time": "2021-11-15T11:07:02.135Z"
   },
   {
    "duration": 196,
    "start_time": "2021-11-15T11:07:02.187Z"
   },
   {
    "duration": 370,
    "start_time": "2021-11-15T11:07:02.386Z"
   },
   {
    "duration": 12,
    "start_time": "2021-11-15T11:07:02.759Z"
   },
   {
    "duration": 456,
    "start_time": "2021-11-15T11:07:02.773Z"
   },
   {
    "duration": 106,
    "start_time": "2021-11-15T11:07:03.236Z"
   },
   {
    "duration": 8,
    "start_time": "2021-11-15T11:07:03.345Z"
   },
   {
    "duration": 405,
    "start_time": "2021-11-15T11:07:03.355Z"
   },
   {
    "duration": 68,
    "start_time": "2021-11-15T11:07:03.762Z"
   },
   {
    "duration": 10,
    "start_time": "2021-11-15T11:07:03.832Z"
   },
   {
    "duration": 828,
    "start_time": "2021-11-15T11:07:03.844Z"
   },
   {
    "duration": 11,
    "start_time": "2021-11-15T11:07:04.674Z"
   },
   {
    "duration": 82,
    "start_time": "2021-11-15T11:07:04.687Z"
   },
   {
    "duration": 92,
    "start_time": "2021-11-15T11:07:04.771Z"
   },
   {
    "duration": 93,
    "start_time": "2021-11-15T11:07:04.865Z"
   },
   {
    "duration": 33,
    "start_time": "2021-11-15T11:07:04.961Z"
   },
   {
    "duration": 53,
    "start_time": "2021-11-15T11:07:04.997Z"
   },
   {
    "duration": 48,
    "start_time": "2021-11-15T11:07:05.053Z"
   },
   {
    "duration": 32,
    "start_time": "2021-11-15T11:07:05.103Z"
   },
   {
    "duration": 19,
    "start_time": "2021-11-15T11:07:05.137Z"
   },
   {
    "duration": 19,
    "start_time": "2021-11-15T11:07:05.158Z"
   },
   {
    "duration": 27,
    "start_time": "2021-11-15T11:07:05.179Z"
   },
   {
    "duration": 21,
    "start_time": "2021-11-15T11:07:05.208Z"
   },
   {
    "duration": 18,
    "start_time": "2021-11-15T11:07:05.232Z"
   },
   {
    "duration": 86,
    "start_time": "2021-11-15T11:07:05.252Z"
   },
   {
    "duration": 12,
    "start_time": "2021-11-15T11:07:05.340Z"
   },
   {
    "duration": 407,
    "start_time": "2021-11-15T11:07:05.354Z"
   },
   {
    "duration": 2709,
    "start_time": "2022-02-10T14:03:50.468Z"
   },
   {
    "duration": 42,
    "start_time": "2022-02-10T14:03:53.182Z"
   },
   {
    "duration": 12,
    "start_time": "2022-02-10T14:03:53.228Z"
   },
   {
    "duration": 17,
    "start_time": "2022-02-10T14:03:53.243Z"
   },
   {
    "duration": 103,
    "start_time": "2022-02-10T14:03:53.263Z"
   },
   {
    "duration": 20,
    "start_time": "2022-02-10T14:03:53.368Z"
   },
   {
    "duration": 42,
    "start_time": "2022-02-10T14:03:53.390Z"
   },
   {
    "duration": 713,
    "start_time": "2022-02-10T14:03:53.460Z"
   },
   {
    "duration": 740,
    "start_time": "2022-02-10T14:03:54.176Z"
   },
   {
    "duration": 84,
    "start_time": "2022-02-10T14:03:54.918Z"
   },
   {
    "duration": 383,
    "start_time": "2022-02-10T14:03:55.004Z"
   },
   {
    "duration": 49,
    "start_time": "2022-02-10T14:03:55.390Z"
   },
   {
    "duration": 6392,
    "start_time": "2022-02-10T14:03:55.441Z"
   },
   {
    "duration": 39,
    "start_time": "2022-02-10T14:04:01.836Z"
   },
   {
    "duration": 10,
    "start_time": "2022-02-10T14:04:01.877Z"
   },
   {
    "duration": 24,
    "start_time": "2022-02-10T14:04:01.889Z"
   },
   {
    "duration": 24855,
    "start_time": "2022-02-10T14:04:01.915Z"
   },
   {
    "duration": 41,
    "start_time": "2022-02-10T14:04:26.773Z"
   },
   {
    "duration": 572,
    "start_time": "2022-02-10T14:04:26.816Z"
   },
   {
    "duration": 11,
    "start_time": "2022-02-10T14:04:27.392Z"
   },
   {
    "duration": 560,
    "start_time": "2022-02-10T14:04:27.406Z"
   },
   {
    "duration": 163,
    "start_time": "2022-02-10T14:04:27.970Z"
   },
   {
    "duration": 423,
    "start_time": "2022-02-10T14:04:28.140Z"
   },
   {
    "duration": 59,
    "start_time": "2022-02-10T14:04:28.567Z"
   },
   {
    "duration": 37,
    "start_time": "2022-02-10T14:04:28.629Z"
   },
   {
    "duration": 825,
    "start_time": "2022-02-10T14:04:28.669Z"
   },
   {
    "duration": 9,
    "start_time": "2022-02-10T14:04:29.496Z"
   },
   {
    "duration": 89,
    "start_time": "2022-02-10T14:04:29.508Z"
   },
   {
    "duration": 85,
    "start_time": "2022-02-10T14:04:29.600Z"
   },
   {
    "duration": 98,
    "start_time": "2022-02-10T14:04:29.688Z"
   },
   {
    "duration": 77,
    "start_time": "2022-02-10T14:04:29.790Z"
   },
   {
    "duration": 36,
    "start_time": "2022-02-10T14:04:29.871Z"
   },
   {
    "duration": 79,
    "start_time": "2022-02-10T14:04:29.911Z"
   },
   {
    "duration": 14,
    "start_time": "2022-02-10T14:04:29.993Z"
   },
   {
    "duration": 13,
    "start_time": "2022-02-10T14:04:30.009Z"
   },
   {
    "duration": 54,
    "start_time": "2022-02-10T14:04:30.025Z"
   },
   {
    "duration": 18,
    "start_time": "2022-02-10T14:04:30.081Z"
   },
   {
    "duration": 13,
    "start_time": "2022-02-10T14:04:30.102Z"
   },
   {
    "duration": 16,
    "start_time": "2022-02-10T14:04:30.117Z"
   },
   {
    "duration": 101,
    "start_time": "2022-02-10T14:04:30.136Z"
   },
   {
    "duration": 10,
    "start_time": "2022-02-10T14:04:30.239Z"
   },
   {
    "duration": 409,
    "start_time": "2022-02-10T14:04:30.259Z"
   },
   {
    "duration": 1919,
    "start_time": "2022-02-10T14:14:34.809Z"
   },
   {
    "duration": 32,
    "start_time": "2022-02-10T14:14:39.195Z"
   },
   {
    "duration": 9,
    "start_time": "2022-02-10T14:14:39.563Z"
   },
   {
    "duration": 9,
    "start_time": "2022-02-10T14:14:40.571Z"
   },
   {
    "duration": 99,
    "start_time": "2022-02-10T14:14:41.121Z"
   },
   {
    "duration": 21,
    "start_time": "2022-02-10T14:14:41.778Z"
   },
   {
    "duration": 43,
    "start_time": "2022-02-10T14:14:46.161Z"
   },
   {
    "duration": 717,
    "start_time": "2022-02-10T14:14:46.207Z"
   },
   {
    "duration": 641,
    "start_time": "2022-02-10T14:14:46.927Z"
   },
   {
    "duration": 67,
    "start_time": "2022-02-10T14:14:49.394Z"
   },
   {
    "duration": 351,
    "start_time": "2022-02-10T14:14:49.666Z"
   },
   {
    "duration": 58,
    "start_time": "2022-02-10T14:14:50.019Z"
   },
   {
    "duration": 11696,
    "start_time": "2022-02-10T14:14:50.611Z"
   },
   {
    "duration": 54,
    "start_time": "2022-02-10T14:15:02.310Z"
   },
   {
    "duration": 16,
    "start_time": "2022-02-10T14:15:02.368Z"
   },
   {
    "duration": 29,
    "start_time": "2022-02-10T14:15:02.387Z"
   },
   {
    "duration": 30511,
    "start_time": "2022-02-10T14:15:02.419Z"
   },
   {
    "duration": 102,
    "start_time": "2022-02-10T14:15:32.948Z"
   },
   {
    "duration": 577,
    "start_time": "2022-02-10T14:15:33.062Z"
   },
   {
    "duration": 22,
    "start_time": "2022-02-10T14:15:33.643Z"
   },
   {
    "duration": 672,
    "start_time": "2022-02-10T14:15:33.668Z"
   },
   {
    "duration": 151,
    "start_time": "2022-02-10T14:15:34.343Z"
   },
   {
    "duration": 410,
    "start_time": "2022-02-10T14:15:34.497Z"
   },
   {
    "duration": 70,
    "start_time": "2022-02-10T14:15:34.909Z"
   },
   {
    "duration": 9,
    "start_time": "2022-02-10T14:15:34.983Z"
   },
   {
    "duration": 12,
    "start_time": "2022-02-10T14:15:34.996Z"
   },
   {
    "duration": 73,
    "start_time": "2022-02-10T14:15:35.011Z"
   },
   {
    "duration": 37,
    "start_time": "2022-02-10T14:15:35.086Z"
   },
   {
    "duration": 75,
    "start_time": "2022-02-10T14:15:35.126Z"
   },
   {
    "duration": 302,
    "start_time": "2022-02-10T14:15:35.204Z"
   },
   {
    "duration": 33,
    "start_time": "2022-02-10T14:15:35.508Z"
   },
   {
    "duration": 61,
    "start_time": "2022-02-10T14:15:35.543Z"
   },
   {
    "duration": 12,
    "start_time": "2022-02-10T14:15:35.607Z"
   },
   {
    "duration": 40,
    "start_time": "2022-02-10T14:15:35.621Z"
   },
   {
    "duration": 12,
    "start_time": "2022-02-10T14:15:35.665Z"
   },
   {
    "duration": 12,
    "start_time": "2022-02-10T14:15:35.679Z"
   },
   {
    "duration": 12,
    "start_time": "2022-02-10T14:15:35.693Z"
   },
   {
    "duration": 61,
    "start_time": "2022-02-10T14:15:35.708Z"
   },
   {
    "duration": 135,
    "start_time": "2022-02-10T14:15:35.774Z"
   },
   {
    "duration": 12,
    "start_time": "2022-02-10T14:15:41.874Z"
   },
   {
    "duration": 14,
    "start_time": "2022-02-10T14:15:45.322Z"
   }
  ],
  "kernelspec": {
   "display_name": "Python 3",
   "language": "python",
   "name": "python3"
  },
  "language_info": {
   "codemirror_mode": {
    "name": "ipython",
    "version": 3
   },
   "file_extension": ".py",
   "mimetype": "text/x-python",
   "name": "python",
   "nbconvert_exporter": "python",
   "pygments_lexer": "ipython3",
   "version": "3.7.8"
  },
  "toc": {
   "base_numbering": 1,
   "nav_menu": {},
   "number_sections": true,
   "sideBar": true,
   "skip_h1_title": true,
   "title_cell": "Table of Contents",
   "title_sidebar": "Contents",
   "toc_cell": false,
   "toc_position": {
    "height": "calc(100% - 180px)",
    "left": "10px",
    "top": "150px",
    "width": "366.4px"
   },
   "toc_section_display": true,
   "toc_window_display": false
  }
 },
 "nbformat": 4,
 "nbformat_minor": 2
}
