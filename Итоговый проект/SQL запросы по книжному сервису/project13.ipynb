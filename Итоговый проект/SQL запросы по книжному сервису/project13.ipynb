{
 "cells": [
  {
   "cell_type": "markdown",
   "metadata": {},
   "source": [
    "# Проект по SQL"
   ]
  },
  {
   "cell_type": "markdown",
   "metadata": {},
   "source": [
    "Компания купила крупный сервис для чтения книг по подписке. Ваша задача проанализировать базу данных. В ней — информация о книгах, издательствах, авторах, а также пользовательские обзоры книг. Эти данные помогут сформулировать ценностное предложение для нового продукта."
   ]
  },
  {
   "cell_type": "markdown",
   "metadata": {},
   "source": [
    "Цели проекта:\n",
    "\n",
    "- Посчитать, сколько книг вышло после 1 января 2000 года;\n",
    "- Для каждой книги посчитать количество обзоров и среднюю оценку;\n",
    "- Определить издательство, которое выпустило наибольшее число книг толще 50 страниц (это исключает брошюры);\n",
    "- Определить автора с самой высокой средней оценкой книг, учитывая только книги с 50 и более оценками;\n",
    "- Посчитать среднее количество обзоров от пользователей, которые поставили больше 50 оценок."
   ]
  },
  {
   "cell_type": "markdown",
   "metadata": {},
   "source": [
    "## Загрузка данных и подготовка их к анализу"
   ]
  },
  {
   "cell_type": "code",
   "execution_count": 1,
   "metadata": {},
   "outputs": [],
   "source": [
    "# импортируем библиотеки \n",
    "import pandas as pd \n",
    "from sqlalchemy import create_engine "
   ]
  },
  {
   "cell_type": "code",
   "execution_count": 2,
   "metadata": {},
   "outputs": [],
   "source": [
    "# устанавливаем параметры \n",
    "db_config = {'user': 'praktikum_student', # имя пользователя \n",
    "                     'pwd': 'Sdf4$2;d-d30pp', # пароль \n",
    "                     'host': 'rc1b-wcoijxj3yxfsf3fs.mdb.yandexcloud.net', \n",
    "                     'port': 6432, # порт подключения \n",
    "                     'db': 'data-analyst-final-project-db'} # название базы данных \n",
    "connection_string = 'postgresql://{}:{}@{}:{}/{}'.format(db_config['user'],\n",
    "                                                         db_config['pwd'],\n",
    "                                                         db_config['host'],\n",
    "                                                         db_config['port'],\n",
    "                                                         db_config['db']) \n",
    "\n",
    "# сохраняем коннектор \n",
    "engine = create_engine(connection_string, connect_args={'sslmode':'require'})"
   ]
  },
  {
   "cell_type": "code",
   "execution_count": 3,
   "metadata": {},
   "outputs": [],
   "source": [
    "# Формируем sql запрос\n",
    "query = ''' select\n",
    "                book_id,\n",
    "                author_id,\n",
    "                title,\n",
    "                num_pages,\n",
    "                publication_date,\n",
    "                publisher_id\n",
    "            from books\n",
    "            limit 5\n",
    "        '''"
   ]
  },
  {
   "cell_type": "code",
   "execution_count": 4,
   "metadata": {},
   "outputs": [],
   "source": [
    "# Выполняем запрос и сохраняем результат в books\n",
    "books = pd.io.sql.read_sql(query, con = engine)"
   ]
  },
  {
   "cell_type": "code",
   "execution_count": 5,
   "metadata": {},
   "outputs": [
    {
     "data": {
      "text/html": [
       "<div>\n",
       "<style scoped>\n",
       "    .dataframe tbody tr th:only-of-type {\n",
       "        vertical-align: middle;\n",
       "    }\n",
       "\n",
       "    .dataframe tbody tr th {\n",
       "        vertical-align: top;\n",
       "    }\n",
       "\n",
       "    .dataframe thead th {\n",
       "        text-align: right;\n",
       "    }\n",
       "</style>\n",
       "<table border=\"1\" class=\"dataframe\">\n",
       "  <thead>\n",
       "    <tr style=\"text-align: right;\">\n",
       "      <th></th>\n",
       "      <th>book_id</th>\n",
       "      <th>author_id</th>\n",
       "      <th>title</th>\n",
       "      <th>num_pages</th>\n",
       "      <th>publication_date</th>\n",
       "      <th>publisher_id</th>\n",
       "    </tr>\n",
       "  </thead>\n",
       "  <tbody>\n",
       "    <tr>\n",
       "      <td>0</td>\n",
       "      <td>1</td>\n",
       "      <td>546</td>\n",
       "      <td>'Salem's Lot</td>\n",
       "      <td>594</td>\n",
       "      <td>2005-11-01</td>\n",
       "      <td>93</td>\n",
       "    </tr>\n",
       "    <tr>\n",
       "      <td>1</td>\n",
       "      <td>2</td>\n",
       "      <td>465</td>\n",
       "      <td>1 000 Places to See Before You Die</td>\n",
       "      <td>992</td>\n",
       "      <td>2003-05-22</td>\n",
       "      <td>336</td>\n",
       "    </tr>\n",
       "    <tr>\n",
       "      <td>2</td>\n",
       "      <td>3</td>\n",
       "      <td>407</td>\n",
       "      <td>13 Little Blue Envelopes (Little Blue Envelope...</td>\n",
       "      <td>322</td>\n",
       "      <td>2010-12-21</td>\n",
       "      <td>135</td>\n",
       "    </tr>\n",
       "    <tr>\n",
       "      <td>3</td>\n",
       "      <td>4</td>\n",
       "      <td>82</td>\n",
       "      <td>1491: New Revelations of the Americas Before C...</td>\n",
       "      <td>541</td>\n",
       "      <td>2006-10-10</td>\n",
       "      <td>309</td>\n",
       "    </tr>\n",
       "    <tr>\n",
       "      <td>4</td>\n",
       "      <td>5</td>\n",
       "      <td>125</td>\n",
       "      <td>1776</td>\n",
       "      <td>386</td>\n",
       "      <td>2006-07-04</td>\n",
       "      <td>268</td>\n",
       "    </tr>\n",
       "  </tbody>\n",
       "</table>\n",
       "</div>"
      ],
      "text/plain": [
       "   book_id  author_id                                              title  \\\n",
       "0        1        546                                       'Salem's Lot   \n",
       "1        2        465                 1 000 Places to See Before You Die   \n",
       "2        3        407  13 Little Blue Envelopes (Little Blue Envelope...   \n",
       "3        4         82  1491: New Revelations of the Americas Before C...   \n",
       "4        5        125                                               1776   \n",
       "\n",
       "   num_pages publication_date  publisher_id  \n",
       "0        594       2005-11-01            93  \n",
       "1        992       2003-05-22           336  \n",
       "2        322       2010-12-21           135  \n",
       "3        541       2006-10-10           309  \n",
       "4        386       2006-07-04           268  "
      ]
     },
     "execution_count": 5,
     "metadata": {},
     "output_type": "execute_result"
    }
   ],
   "source": [
    "# Выведем первые 5 строк таблицы\n",
    "books"
   ]
  },
  {
   "cell_type": "markdown",
   "metadata": {},
   "source": [
    "**Таблица `books`**\n",
    "\n",
    "Содержит данные о книгах:\n",
    "\n",
    "- `book_id` — идентификатор книги;\n",
    "- `author_id` — идентификатор автора;\n",
    "- `title` — название книги;\n",
    "- `num_pages` — количество страниц;\n",
    "- `publication_date` — дата публикации книги;\n",
    "- `publisher_id` — идентификатор издателя."
   ]
  },
  {
   "cell_type": "code",
   "execution_count": 6,
   "metadata": {},
   "outputs": [],
   "source": [
    "# Формируем sql запрос\n",
    "query = ''' select\n",
    "                author_id,\n",
    "                author\n",
    "            from authors\n",
    "            limit 5\n",
    "        '''"
   ]
  },
  {
   "cell_type": "code",
   "execution_count": 7,
   "metadata": {},
   "outputs": [],
   "source": [
    "# Выполняем запрос и сохраняем результат в authors\n",
    "authors = pd.io.sql.read_sql(query, con = engine)"
   ]
  },
  {
   "cell_type": "code",
   "execution_count": 8,
   "metadata": {},
   "outputs": [
    {
     "data": {
      "text/html": [
       "<div>\n",
       "<style scoped>\n",
       "    .dataframe tbody tr th:only-of-type {\n",
       "        vertical-align: middle;\n",
       "    }\n",
       "\n",
       "    .dataframe tbody tr th {\n",
       "        vertical-align: top;\n",
       "    }\n",
       "\n",
       "    .dataframe thead th {\n",
       "        text-align: right;\n",
       "    }\n",
       "</style>\n",
       "<table border=\"1\" class=\"dataframe\">\n",
       "  <thead>\n",
       "    <tr style=\"text-align: right;\">\n",
       "      <th></th>\n",
       "      <th>author_id</th>\n",
       "      <th>author</th>\n",
       "    </tr>\n",
       "  </thead>\n",
       "  <tbody>\n",
       "    <tr>\n",
       "      <td>0</td>\n",
       "      <td>1</td>\n",
       "      <td>A.S. Byatt</td>\n",
       "    </tr>\n",
       "    <tr>\n",
       "      <td>1</td>\n",
       "      <td>2</td>\n",
       "      <td>Aesop/Laura Harris/Laura Gibbs</td>\n",
       "    </tr>\n",
       "    <tr>\n",
       "      <td>2</td>\n",
       "      <td>3</td>\n",
       "      <td>Agatha Christie</td>\n",
       "    </tr>\n",
       "    <tr>\n",
       "      <td>3</td>\n",
       "      <td>4</td>\n",
       "      <td>Alan Brennert</td>\n",
       "    </tr>\n",
       "    <tr>\n",
       "      <td>4</td>\n",
       "      <td>5</td>\n",
       "      <td>Alan Moore/David   Lloyd</td>\n",
       "    </tr>\n",
       "  </tbody>\n",
       "</table>\n",
       "</div>"
      ],
      "text/plain": [
       "   author_id                          author\n",
       "0          1                      A.S. Byatt\n",
       "1          2  Aesop/Laura Harris/Laura Gibbs\n",
       "2          3                 Agatha Christie\n",
       "3          4                   Alan Brennert\n",
       "4          5        Alan Moore/David   Lloyd"
      ]
     },
     "execution_count": 8,
     "metadata": {},
     "output_type": "execute_result"
    }
   ],
   "source": [
    "# Выведем первые 5 строк таблицы\n",
    "authors"
   ]
  },
  {
   "cell_type": "markdown",
   "metadata": {},
   "source": [
    "**Таблица `authors`**\n",
    "\n",
    "Содержит данные об авторах:\n",
    "\n",
    "- `author_id` — идентификатор автора;\n",
    "- `author` — имя автора."
   ]
  },
  {
   "cell_type": "code",
   "execution_count": 9,
   "metadata": {},
   "outputs": [],
   "source": [
    "# Формируем sql запрос\n",
    "query = ''' select\n",
    "                publisher_id,\n",
    "                publisher\n",
    "            from publishers\n",
    "            limit 5\n",
    "        '''"
   ]
  },
  {
   "cell_type": "code",
   "execution_count": 10,
   "metadata": {},
   "outputs": [],
   "source": [
    "# Выполняем запрос и сохраняем результат в publishers\n",
    "publishers = pd.io.sql.read_sql(query, con = engine)"
   ]
  },
  {
   "cell_type": "code",
   "execution_count": 11,
   "metadata": {},
   "outputs": [
    {
     "data": {
      "text/html": [
       "<div>\n",
       "<style scoped>\n",
       "    .dataframe tbody tr th:only-of-type {\n",
       "        vertical-align: middle;\n",
       "    }\n",
       "\n",
       "    .dataframe tbody tr th {\n",
       "        vertical-align: top;\n",
       "    }\n",
       "\n",
       "    .dataframe thead th {\n",
       "        text-align: right;\n",
       "    }\n",
       "</style>\n",
       "<table border=\"1\" class=\"dataframe\">\n",
       "  <thead>\n",
       "    <tr style=\"text-align: right;\">\n",
       "      <th></th>\n",
       "      <th>publisher_id</th>\n",
       "      <th>publisher</th>\n",
       "    </tr>\n",
       "  </thead>\n",
       "  <tbody>\n",
       "    <tr>\n",
       "      <td>0</td>\n",
       "      <td>1</td>\n",
       "      <td>Ace</td>\n",
       "    </tr>\n",
       "    <tr>\n",
       "      <td>1</td>\n",
       "      <td>2</td>\n",
       "      <td>Ace Book</td>\n",
       "    </tr>\n",
       "    <tr>\n",
       "      <td>2</td>\n",
       "      <td>3</td>\n",
       "      <td>Ace Books</td>\n",
       "    </tr>\n",
       "    <tr>\n",
       "      <td>3</td>\n",
       "      <td>4</td>\n",
       "      <td>Ace Hardcover</td>\n",
       "    </tr>\n",
       "    <tr>\n",
       "      <td>4</td>\n",
       "      <td>5</td>\n",
       "      <td>Addison Wesley Publishing Company</td>\n",
       "    </tr>\n",
       "  </tbody>\n",
       "</table>\n",
       "</div>"
      ],
      "text/plain": [
       "   publisher_id                          publisher\n",
       "0             1                                Ace\n",
       "1             2                           Ace Book\n",
       "2             3                          Ace Books\n",
       "3             4                      Ace Hardcover\n",
       "4             5  Addison Wesley Publishing Company"
      ]
     },
     "execution_count": 11,
     "metadata": {},
     "output_type": "execute_result"
    }
   ],
   "source": [
    "# Выведем первые 5 строк таблицы\n",
    "publishers"
   ]
  },
  {
   "cell_type": "markdown",
   "metadata": {},
   "source": [
    "**Таблица `publishers`**\n",
    "\n",
    "Содержит данные об издательствах:\n",
    "\n",
    "- `publisher_id` — идентификатор издательства;\n",
    "- `publisher` — название издательства;"
   ]
  },
  {
   "cell_type": "code",
   "execution_count": 12,
   "metadata": {},
   "outputs": [],
   "source": [
    "# Формируем sql запрос\n",
    "query = ''' select \n",
    "                rating_id, \n",
    "                book_id, \n",
    "                username, \n",
    "                rating\n",
    "            from ratings\n",
    "            limit 5\n",
    "        '''"
   ]
  },
  {
   "cell_type": "code",
   "execution_count": 13,
   "metadata": {},
   "outputs": [],
   "source": [
    "# Выполняем запрос и сохраняем результат в ratings\n",
    "ratings = pd.io.sql.read_sql(query, con = engine)"
   ]
  },
  {
   "cell_type": "code",
   "execution_count": 14,
   "metadata": {},
   "outputs": [
    {
     "data": {
      "text/html": [
       "<div>\n",
       "<style scoped>\n",
       "    .dataframe tbody tr th:only-of-type {\n",
       "        vertical-align: middle;\n",
       "    }\n",
       "\n",
       "    .dataframe tbody tr th {\n",
       "        vertical-align: top;\n",
       "    }\n",
       "\n",
       "    .dataframe thead th {\n",
       "        text-align: right;\n",
       "    }\n",
       "</style>\n",
       "<table border=\"1\" class=\"dataframe\">\n",
       "  <thead>\n",
       "    <tr style=\"text-align: right;\">\n",
       "      <th></th>\n",
       "      <th>rating_id</th>\n",
       "      <th>book_id</th>\n",
       "      <th>username</th>\n",
       "      <th>rating</th>\n",
       "    </tr>\n",
       "  </thead>\n",
       "  <tbody>\n",
       "    <tr>\n",
       "      <td>0</td>\n",
       "      <td>1</td>\n",
       "      <td>1</td>\n",
       "      <td>ryanfranco</td>\n",
       "      <td>4</td>\n",
       "    </tr>\n",
       "    <tr>\n",
       "      <td>1</td>\n",
       "      <td>2</td>\n",
       "      <td>1</td>\n",
       "      <td>grantpatricia</td>\n",
       "      <td>2</td>\n",
       "    </tr>\n",
       "    <tr>\n",
       "      <td>2</td>\n",
       "      <td>3</td>\n",
       "      <td>1</td>\n",
       "      <td>brandtandrea</td>\n",
       "      <td>5</td>\n",
       "    </tr>\n",
       "    <tr>\n",
       "      <td>3</td>\n",
       "      <td>4</td>\n",
       "      <td>2</td>\n",
       "      <td>lorichen</td>\n",
       "      <td>3</td>\n",
       "    </tr>\n",
       "    <tr>\n",
       "      <td>4</td>\n",
       "      <td>5</td>\n",
       "      <td>2</td>\n",
       "      <td>mariokeller</td>\n",
       "      <td>2</td>\n",
       "    </tr>\n",
       "  </tbody>\n",
       "</table>\n",
       "</div>"
      ],
      "text/plain": [
       "   rating_id  book_id       username  rating\n",
       "0          1        1     ryanfranco       4\n",
       "1          2        1  grantpatricia       2\n",
       "2          3        1   brandtandrea       5\n",
       "3          4        2       lorichen       3\n",
       "4          5        2    mariokeller       2"
      ]
     },
     "execution_count": 14,
     "metadata": {},
     "output_type": "execute_result"
    }
   ],
   "source": [
    "# Выведем первые 5 строк таблицы\n",
    "ratings"
   ]
  },
  {
   "cell_type": "markdown",
   "metadata": {},
   "source": [
    "**Таблица `ratings`**\n",
    "\n",
    "Содержит данные о пользовательских оценках книг:\n",
    "\n",
    "- `rating_id` — идентификатор оценки;\n",
    "- `book_id` — идентификатор книги;\n",
    "- `username` — имя пользователя, оставившего оценку;\n",
    "- `rating` — оценка книги."
   ]
  },
  {
   "cell_type": "code",
   "execution_count": 15,
   "metadata": {},
   "outputs": [],
   "source": [
    "# Формируем sql запрос\n",
    "query = ''' select \n",
    "                review_id, \n",
    "                book_id, \n",
    "                username, \n",
    "                text\n",
    "            from reviews\n",
    "            limit 5\n",
    "        '''"
   ]
  },
  {
   "cell_type": "code",
   "execution_count": 16,
   "metadata": {},
   "outputs": [],
   "source": [
    "# Выполняем запрос и сохраняем результат в reviews\n",
    "reviews = pd.io.sql.read_sql(query, con = engine)"
   ]
  },
  {
   "cell_type": "code",
   "execution_count": 17,
   "metadata": {},
   "outputs": [
    {
     "data": {
      "text/html": [
       "<div>\n",
       "<style scoped>\n",
       "    .dataframe tbody tr th:only-of-type {\n",
       "        vertical-align: middle;\n",
       "    }\n",
       "\n",
       "    .dataframe tbody tr th {\n",
       "        vertical-align: top;\n",
       "    }\n",
       "\n",
       "    .dataframe thead th {\n",
       "        text-align: right;\n",
       "    }\n",
       "</style>\n",
       "<table border=\"1\" class=\"dataframe\">\n",
       "  <thead>\n",
       "    <tr style=\"text-align: right;\">\n",
       "      <th></th>\n",
       "      <th>review_id</th>\n",
       "      <th>book_id</th>\n",
       "      <th>username</th>\n",
       "      <th>text</th>\n",
       "    </tr>\n",
       "  </thead>\n",
       "  <tbody>\n",
       "    <tr>\n",
       "      <td>0</td>\n",
       "      <td>1</td>\n",
       "      <td>1</td>\n",
       "      <td>brandtandrea</td>\n",
       "      <td>Mention society tell send professor analysis. ...</td>\n",
       "    </tr>\n",
       "    <tr>\n",
       "      <td>1</td>\n",
       "      <td>2</td>\n",
       "      <td>1</td>\n",
       "      <td>ryanfranco</td>\n",
       "      <td>Foot glass pretty audience hit themselves. Amo...</td>\n",
       "    </tr>\n",
       "    <tr>\n",
       "      <td>2</td>\n",
       "      <td>3</td>\n",
       "      <td>2</td>\n",
       "      <td>lorichen</td>\n",
       "      <td>Listen treat keep worry. Miss husband tax but ...</td>\n",
       "    </tr>\n",
       "    <tr>\n",
       "      <td>3</td>\n",
       "      <td>4</td>\n",
       "      <td>3</td>\n",
       "      <td>johnsonamanda</td>\n",
       "      <td>Finally month interesting blue could nature cu...</td>\n",
       "    </tr>\n",
       "    <tr>\n",
       "      <td>4</td>\n",
       "      <td>5</td>\n",
       "      <td>3</td>\n",
       "      <td>scotttamara</td>\n",
       "      <td>Nation purpose heavy give wait song will. List...</td>\n",
       "    </tr>\n",
       "  </tbody>\n",
       "</table>\n",
       "</div>"
      ],
      "text/plain": [
       "   review_id  book_id       username  \\\n",
       "0          1        1   brandtandrea   \n",
       "1          2        1     ryanfranco   \n",
       "2          3        2       lorichen   \n",
       "3          4        3  johnsonamanda   \n",
       "4          5        3    scotttamara   \n",
       "\n",
       "                                                text  \n",
       "0  Mention society tell send professor analysis. ...  \n",
       "1  Foot glass pretty audience hit themselves. Amo...  \n",
       "2  Listen treat keep worry. Miss husband tax but ...  \n",
       "3  Finally month interesting blue could nature cu...  \n",
       "4  Nation purpose heavy give wait song will. List...  "
      ]
     },
     "execution_count": 17,
     "metadata": {},
     "output_type": "execute_result"
    }
   ],
   "source": [
    "# Выведем первые 5 строк таблицы\n",
    "reviews"
   ]
  },
  {
   "cell_type": "markdown",
   "metadata": {},
   "source": [
    "**Таблица `reviews`**\n",
    "\n",
    "Содержит данные о пользовательских обзорах на книги:\n",
    "\n",
    "- `review_id` — идентификатор обзора;\n",
    "- `book_id` — идентификатор книги;\n",
    "- `username` — имя пользователя, написавшего обзор;\n",
    "- `text` — текст обзора."
   ]
  },
  {
   "cell_type": "markdown",
   "metadata": {},
   "source": [
    "## SQL - запросы"
   ]
  },
  {
   "cell_type": "markdown",
   "metadata": {},
   "source": [
    "### Cколько книг вышло после 1 января 2000 года?"
   ]
  },
  {
   "cell_type": "code",
   "execution_count": 18,
   "metadata": {},
   "outputs": [],
   "source": [
    "# Формируем sql запрос\n",
    "query = ''' select \n",
    "                count(title) as cnt_title\n",
    "            from books\n",
    "            where cast(publication_date as date) > '2000-01-01'\n",
    "        '''"
   ]
  },
  {
   "cell_type": "code",
   "execution_count": 19,
   "metadata": {},
   "outputs": [
    {
     "data": {
      "text/html": [
       "<div>\n",
       "<style scoped>\n",
       "    .dataframe tbody tr th:only-of-type {\n",
       "        vertical-align: middle;\n",
       "    }\n",
       "\n",
       "    .dataframe tbody tr th {\n",
       "        vertical-align: top;\n",
       "    }\n",
       "\n",
       "    .dataframe thead th {\n",
       "        text-align: right;\n",
       "    }\n",
       "</style>\n",
       "<table border=\"1\" class=\"dataframe\">\n",
       "  <thead>\n",
       "    <tr style=\"text-align: right;\">\n",
       "      <th></th>\n",
       "      <th>cnt_title</th>\n",
       "    </tr>\n",
       "  </thead>\n",
       "  <tbody>\n",
       "    <tr>\n",
       "      <td>0</td>\n",
       "      <td>819</td>\n",
       "    </tr>\n",
       "  </tbody>\n",
       "</table>\n",
       "</div>"
      ],
      "text/plain": [
       "   cnt_title\n",
       "0        819"
      ]
     },
     "execution_count": 19,
     "metadata": {},
     "output_type": "execute_result"
    }
   ],
   "source": [
    "# Выполняем запрос и сохраняем результат в books_01_2000\n",
    "df = pd.io.sql.read_sql(query, con = engine)\n",
    "df"
   ]
  },
  {
   "cell_type": "markdown",
   "metadata": {},
   "source": [
    "#### Вывод"
   ]
  },
  {
   "cell_type": "markdown",
   "metadata": {},
   "source": [
    "После 1 января вышло 819 книг."
   ]
  },
  {
   "cell_type": "markdown",
   "metadata": {},
   "source": [
    "### Какое количество обзоров и какая средняя оценка для каждой из книг?"
   ]
  },
  {
   "cell_type": "code",
   "execution_count": 20,
   "metadata": {},
   "outputs": [],
   "source": [
    "# Формируем sql запрос\n",
    "query = ''' select \n",
    "                books.book_id as book, \n",
    "                avg(ratings.rating) as reviews_mean, \n",
    "                count(reviews.book_id) as reviews_amount\n",
    "            from books\n",
    "                left join ratings\n",
    "                    on books.book_id = ratings.book_id \n",
    "                        left join reviews\n",
    "                            on books.book_id = reviews.book_id\n",
    "            group by book\n",
    "            order by reviews_mean\n",
    "        '''"
   ]
  },
  {
   "cell_type": "code",
   "execution_count": 21,
   "metadata": {},
   "outputs": [
    {
     "data": {
      "text/html": [
       "<div>\n",
       "<style scoped>\n",
       "    .dataframe tbody tr th:only-of-type {\n",
       "        vertical-align: middle;\n",
       "    }\n",
       "\n",
       "    .dataframe tbody tr th {\n",
       "        vertical-align: top;\n",
       "    }\n",
       "\n",
       "    .dataframe thead th {\n",
       "        text-align: right;\n",
       "    }\n",
       "</style>\n",
       "<table border=\"1\" class=\"dataframe\">\n",
       "  <thead>\n",
       "    <tr style=\"text-align: right;\">\n",
       "      <th></th>\n",
       "      <th>book</th>\n",
       "      <th>reviews_mean</th>\n",
       "      <th>reviews_amount</th>\n",
       "    </tr>\n",
       "  </thead>\n",
       "  <tbody>\n",
       "    <tr>\n",
       "      <td>0</td>\n",
       "      <td>303</td>\n",
       "      <td>1.50</td>\n",
       "      <td>4</td>\n",
       "    </tr>\n",
       "    <tr>\n",
       "      <td>1</td>\n",
       "      <td>202</td>\n",
       "      <td>2.00</td>\n",
       "      <td>9</td>\n",
       "    </tr>\n",
       "    <tr>\n",
       "      <td>2</td>\n",
       "      <td>371</td>\n",
       "      <td>2.00</td>\n",
       "      <td>4</td>\n",
       "    </tr>\n",
       "    <tr>\n",
       "      <td>3</td>\n",
       "      <td>316</td>\n",
       "      <td>2.00</td>\n",
       "      <td>4</td>\n",
       "    </tr>\n",
       "    <tr>\n",
       "      <td>4</td>\n",
       "      <td>915</td>\n",
       "      <td>2.25</td>\n",
       "      <td>12</td>\n",
       "    </tr>\n",
       "    <tr>\n",
       "      <td>...</td>\n",
       "      <td>...</td>\n",
       "      <td>...</td>\n",
       "      <td>...</td>\n",
       "    </tr>\n",
       "    <tr>\n",
       "      <td>995</td>\n",
       "      <td>182</td>\n",
       "      <td>5.00</td>\n",
       "      <td>4</td>\n",
       "    </tr>\n",
       "    <tr>\n",
       "      <td>996</td>\n",
       "      <td>599</td>\n",
       "      <td>5.00</td>\n",
       "      <td>2</td>\n",
       "    </tr>\n",
       "    <tr>\n",
       "      <td>997</td>\n",
       "      <td>62</td>\n",
       "      <td>5.00</td>\n",
       "      <td>4</td>\n",
       "    </tr>\n",
       "    <tr>\n",
       "      <td>998</td>\n",
       "      <td>913</td>\n",
       "      <td>5.00</td>\n",
       "      <td>4</td>\n",
       "    </tr>\n",
       "    <tr>\n",
       "      <td>999</td>\n",
       "      <td>441</td>\n",
       "      <td>5.00</td>\n",
       "      <td>4</td>\n",
       "    </tr>\n",
       "  </tbody>\n",
       "</table>\n",
       "<p>1000 rows × 3 columns</p>\n",
       "</div>"
      ],
      "text/plain": [
       "     book  reviews_mean  reviews_amount\n",
       "0     303          1.50               4\n",
       "1     202          2.00               9\n",
       "2     371          2.00               4\n",
       "3     316          2.00               4\n",
       "4     915          2.25              12\n",
       "..    ...           ...             ...\n",
       "995   182          5.00               4\n",
       "996   599          5.00               2\n",
       "997    62          5.00               4\n",
       "998   913          5.00               4\n",
       "999   441          5.00               4\n",
       "\n",
       "[1000 rows x 3 columns]"
      ]
     },
     "execution_count": 21,
     "metadata": {},
     "output_type": "execute_result"
    }
   ],
   "source": [
    "df_1 = pd.io.sql.read_sql(query, con = engine)\n",
    "df_1"
   ]
  },
  {
   "cell_type": "markdown",
   "metadata": {},
   "source": [
    "#### Вывод"
   ]
  },
  {
   "cell_type": "markdown",
   "metadata": {},
   "source": [
    "Я вывела таблицу с id книги и её средней оценкой и количеством отзывов с сортировкой по средней оценке"
   ]
  },
  {
   "cell_type": "markdown",
   "metadata": {},
   "source": [
    "### Какое издательство, которое выпустило наибольшее число книг толще 50 страниц (это исключает брошюры)?"
   ]
  },
  {
   "cell_type": "code",
   "execution_count": 22,
   "metadata": {},
   "outputs": [],
   "source": [
    "# Формируем sql запрос\n",
    "query = ''' select\n",
    "                publishers.publisher as publishing_house, \n",
    "                count(title) as cnt_title\n",
    "            from books \n",
    "                left join publishers \n",
    "                    on books.publisher_id = publishers.publisher_id\n",
    "            where num_pages > '50'\n",
    "            group by publishing_house\n",
    "            order by cnt_title\n",
    "        '''"
   ]
  },
  {
   "cell_type": "code",
   "execution_count": 23,
   "metadata": {},
   "outputs": [
    {
     "data": {
      "text/html": [
       "<div>\n",
       "<style scoped>\n",
       "    .dataframe tbody tr th:only-of-type {\n",
       "        vertical-align: middle;\n",
       "    }\n",
       "\n",
       "    .dataframe tbody tr th {\n",
       "        vertical-align: top;\n",
       "    }\n",
       "\n",
       "    .dataframe thead th {\n",
       "        text-align: right;\n",
       "    }\n",
       "</style>\n",
       "<table border=\"1\" class=\"dataframe\">\n",
       "  <thead>\n",
       "    <tr style=\"text-align: right;\">\n",
       "      <th></th>\n",
       "      <th>publishing_house</th>\n",
       "      <th>cnt_title</th>\n",
       "    </tr>\n",
       "  </thead>\n",
       "  <tbody>\n",
       "    <tr>\n",
       "      <td>0</td>\n",
       "      <td>Alfred A. Knopf Borzoi Books</td>\n",
       "      <td>1</td>\n",
       "    </tr>\n",
       "    <tr>\n",
       "      <td>1</td>\n",
       "      <td>Arthur A. Levine Books / Scholastic Inc.</td>\n",
       "      <td>1</td>\n",
       "    </tr>\n",
       "    <tr>\n",
       "      <td>2</td>\n",
       "      <td>Dante University of America Press</td>\n",
       "      <td>1</td>\n",
       "    </tr>\n",
       "    <tr>\n",
       "      <td>3</td>\n",
       "      <td>Red Fox</td>\n",
       "      <td>1</td>\n",
       "    </tr>\n",
       "    <tr>\n",
       "      <td>4</td>\n",
       "      <td>Citadel</td>\n",
       "      <td>1</td>\n",
       "    </tr>\n",
       "    <tr>\n",
       "      <td>...</td>\n",
       "      <td>...</td>\n",
       "      <td>...</td>\n",
       "    </tr>\n",
       "    <tr>\n",
       "      <td>329</td>\n",
       "      <td>Ballantine Books</td>\n",
       "      <td>19</td>\n",
       "    </tr>\n",
       "    <tr>\n",
       "      <td>330</td>\n",
       "      <td>Penguin Classics</td>\n",
       "      <td>24</td>\n",
       "    </tr>\n",
       "    <tr>\n",
       "      <td>331</td>\n",
       "      <td>Grand Central Publishing</td>\n",
       "      <td>25</td>\n",
       "    </tr>\n",
       "    <tr>\n",
       "      <td>332</td>\n",
       "      <td>Vintage</td>\n",
       "      <td>31</td>\n",
       "    </tr>\n",
       "    <tr>\n",
       "      <td>333</td>\n",
       "      <td>Penguin Books</td>\n",
       "      <td>42</td>\n",
       "    </tr>\n",
       "  </tbody>\n",
       "</table>\n",
       "<p>334 rows × 2 columns</p>\n",
       "</div>"
      ],
      "text/plain": [
       "                             publishing_house  cnt_title\n",
       "0                Alfred A. Knopf Borzoi Books          1\n",
       "1    Arthur A. Levine Books / Scholastic Inc.          1\n",
       "2           Dante University of America Press          1\n",
       "3                                     Red Fox          1\n",
       "4                                     Citadel          1\n",
       "..                                        ...        ...\n",
       "329                          Ballantine Books         19\n",
       "330                          Penguin Classics         24\n",
       "331                  Grand Central Publishing         25\n",
       "332                                   Vintage         31\n",
       "333                             Penguin Books         42\n",
       "\n",
       "[334 rows x 2 columns]"
      ]
     },
     "execution_count": 23,
     "metadata": {},
     "output_type": "execute_result"
    }
   ],
   "source": [
    "df_2 = pd.io.sql.read_sql(query, con = engine)\n",
    "df_2"
   ]
  },
  {
   "cell_type": "markdown",
   "metadata": {},
   "source": [
    "#### Вывод"
   ]
  },
  {
   "cell_type": "markdown",
   "metadata": {},
   "source": [
    "Издательство Penguin Books выпустило больше всего книг толще 50 страниц, а именно 42 книги."
   ]
  },
  {
   "cell_type": "markdown",
   "metadata": {},
   "source": [
    "### Какой автор с самой высокой средней оценкой книг, учитывая только книги с 50 и более оценками?"
   ]
  },
  {
   "cell_type": "code",
   "execution_count": 24,
   "metadata": {},
   "outputs": [],
   "source": [
    "# Формируем sql запрос\n",
    "query = ''' select\n",
    "                aql.author as author,\n",
    "                avg(ratings.rating) as ratings_mean\n",
    "            from(\n",
    "                select\n",
    "                    ratings.book_id,\n",
    "                    authors.author as author, \n",
    "                    count(ratings.rating) as ratings_amount \n",
    "                from books \n",
    "                    left join ratings \n",
    "                        on books.book_id = ratings.book_id\n",
    "                            left join authors \n",
    "                                on books.author_id = authors.author_id\n",
    "                group by \n",
    "                    author,\n",
    "                    ratings.book_id\n",
    "                having count(ratings.rating) > 50\n",
    "                order by ratings_amount) as aql\n",
    "                left join ratings \n",
    "                    on aql.book_id = ratings.book_id\n",
    "            group by author\n",
    "            order by ratings_mean\n",
    "        '''"
   ]
  },
  {
   "cell_type": "code",
   "execution_count": 25,
   "metadata": {},
   "outputs": [
    {
     "data": {
      "text/html": [
       "<div>\n",
       "<style scoped>\n",
       "    .dataframe tbody tr th:only-of-type {\n",
       "        vertical-align: middle;\n",
       "    }\n",
       "\n",
       "    .dataframe tbody tr th {\n",
       "        vertical-align: top;\n",
       "    }\n",
       "\n",
       "    .dataframe thead th {\n",
       "        text-align: right;\n",
       "    }\n",
       "</style>\n",
       "<table border=\"1\" class=\"dataframe\">\n",
       "  <thead>\n",
       "    <tr style=\"text-align: right;\">\n",
       "      <th></th>\n",
       "      <th>author</th>\n",
       "      <th>ratings_mean</th>\n",
       "    </tr>\n",
       "  </thead>\n",
       "  <tbody>\n",
       "    <tr>\n",
       "      <td>0</td>\n",
       "      <td>John Steinbeck</td>\n",
       "      <td>3.622951</td>\n",
       "    </tr>\n",
       "    <tr>\n",
       "      <td>1</td>\n",
       "      <td>Stephenie Meyer</td>\n",
       "      <td>3.662500</td>\n",
       "    </tr>\n",
       "    <tr>\n",
       "      <td>2</td>\n",
       "      <td>George Orwell/Boris Grabnar/Peter Škerl</td>\n",
       "      <td>3.729730</td>\n",
       "    </tr>\n",
       "    <tr>\n",
       "      <td>3</td>\n",
       "      <td>Dan Brown</td>\n",
       "      <td>3.741259</td>\n",
       "    </tr>\n",
       "    <tr>\n",
       "      <td>4</td>\n",
       "      <td>Lois Lowry</td>\n",
       "      <td>3.750000</td>\n",
       "    </tr>\n",
       "    <tr>\n",
       "      <td>5</td>\n",
       "      <td>William Shakespeare/Paul Werstine/Barbara A. M...</td>\n",
       "      <td>3.787879</td>\n",
       "    </tr>\n",
       "    <tr>\n",
       "      <td>6</td>\n",
       "      <td>Paulo Coelho/Alan R. Clarke/Özdemir İnce</td>\n",
       "      <td>3.789474</td>\n",
       "    </tr>\n",
       "    <tr>\n",
       "      <td>7</td>\n",
       "      <td>J.D. Salinger</td>\n",
       "      <td>3.825581</td>\n",
       "    </tr>\n",
       "    <tr>\n",
       "      <td>8</td>\n",
       "      <td>William Golding</td>\n",
       "      <td>3.901408</td>\n",
       "    </tr>\n",
       "    <tr>\n",
       "      <td>9</td>\n",
       "      <td>Rick Riordan</td>\n",
       "      <td>4.080645</td>\n",
       "    </tr>\n",
       "    <tr>\n",
       "      <td>10</td>\n",
       "      <td>Louisa May Alcott</td>\n",
       "      <td>4.192308</td>\n",
       "    </tr>\n",
       "    <tr>\n",
       "      <td>11</td>\n",
       "      <td>J.R.R. Tolkien</td>\n",
       "      <td>4.246914</td>\n",
       "    </tr>\n",
       "    <tr>\n",
       "      <td>12</td>\n",
       "      <td>Markus Zusak/Cao Xuân Việt Khương</td>\n",
       "      <td>4.264151</td>\n",
       "    </tr>\n",
       "    <tr>\n",
       "      <td>13</td>\n",
       "      <td>J.K. Rowling/Mary GrandPré</td>\n",
       "      <td>4.287097</td>\n",
       "    </tr>\n",
       "  </tbody>\n",
       "</table>\n",
       "</div>"
      ],
      "text/plain": [
       "                                               author  ratings_mean\n",
       "0                                      John Steinbeck      3.622951\n",
       "1                                     Stephenie Meyer      3.662500\n",
       "2             George Orwell/Boris Grabnar/Peter Škerl      3.729730\n",
       "3                                           Dan Brown      3.741259\n",
       "4                                          Lois Lowry      3.750000\n",
       "5   William Shakespeare/Paul Werstine/Barbara A. M...      3.787879\n",
       "6            Paulo Coelho/Alan R. Clarke/Özdemir İnce      3.789474\n",
       "7                                       J.D. Salinger      3.825581\n",
       "8                                     William Golding      3.901408\n",
       "9                                        Rick Riordan      4.080645\n",
       "10                                  Louisa May Alcott      4.192308\n",
       "11                                     J.R.R. Tolkien      4.246914\n",
       "12                  Markus Zusak/Cao Xuân Việt Khương      4.264151\n",
       "13                         J.K. Rowling/Mary GrandPré      4.287097"
      ]
     },
     "execution_count": 25,
     "metadata": {},
     "output_type": "execute_result"
    }
   ],
   "source": [
    "df_3 = pd.io.sql.read_sql(query, con = engine)\n",
    "df_3"
   ]
  },
  {
   "cell_type": "markdown",
   "metadata": {},
   "source": [
    "#### Вывод"
   ]
  },
  {
   "cell_type": "markdown",
   "metadata": {},
   "source": [
    "Автор J.K. Rowling/Mary GrandPré имеет самую высокую среднюю оценку среди книг с 50ю и более оценками, а именно 4,287097 балла."
   ]
  },
  {
   "cell_type": "markdown",
   "metadata": {},
   "source": [
    "### Какое среднее количество обзоров от пользователей, которые поставили больше 50 оценок"
   ]
  },
  {
   "cell_type": "code",
   "execution_count": 26,
   "metadata": {},
   "outputs": [],
   "source": [
    "# Формируем sql запрос\n",
    "query = ''' select \n",
    "                avg(reviews_amount)\n",
    "            from(\n",
    "                select \n",
    "                    distinct abs.name,\n",
    "                    count(reviews.text) as reviews_amount\n",
    "                from(\n",
    "                    select \n",
    "                        username as name,\n",
    "                        count(rating) as ratings_amount\n",
    "                    from ratings\n",
    "                    group by name\n",
    "                    having count(ratings.rating) > 50) as abs\n",
    "                        left join reviews \n",
    "                            on abs.name = reviews.username\n",
    "                        group by abs.name) as sba\n",
    "        '''"
   ]
  },
  {
   "cell_type": "code",
   "execution_count": 27,
   "metadata": {
    "scrolled": true
   },
   "outputs": [
    {
     "data": {
      "text/html": [
       "<div>\n",
       "<style scoped>\n",
       "    .dataframe tbody tr th:only-of-type {\n",
       "        vertical-align: middle;\n",
       "    }\n",
       "\n",
       "    .dataframe tbody tr th {\n",
       "        vertical-align: top;\n",
       "    }\n",
       "\n",
       "    .dataframe thead th {\n",
       "        text-align: right;\n",
       "    }\n",
       "</style>\n",
       "<table border=\"1\" class=\"dataframe\">\n",
       "  <thead>\n",
       "    <tr style=\"text-align: right;\">\n",
       "      <th></th>\n",
       "      <th>avg</th>\n",
       "    </tr>\n",
       "  </thead>\n",
       "  <tbody>\n",
       "    <tr>\n",
       "      <td>0</td>\n",
       "      <td>24.333333</td>\n",
       "    </tr>\n",
       "  </tbody>\n",
       "</table>\n",
       "</div>"
      ],
      "text/plain": [
       "         avg\n",
       "0  24.333333"
      ]
     },
     "execution_count": 27,
     "metadata": {},
     "output_type": "execute_result"
    }
   ],
   "source": [
    "df_4 = pd.io.sql.read_sql(query, con = engine)\n",
    "df_4"
   ]
  },
  {
   "cell_type": "markdown",
   "metadata": {},
   "source": [
    "#### Вывод"
   ]
  },
  {
   "cell_type": "markdown",
   "metadata": {},
   "source": [
    "В среднем пользователи, которые поставили больше 50 оценок, оставляют 24-25 обзоров (24,33)"
   ]
  },
  {
   "cell_type": "markdown",
   "metadata": {},
   "source": [
    "## Вывод"
   ]
  },
  {
   "cell_type": "markdown",
   "metadata": {},
   "source": [
    "- После 1 января вышло 819 книг;\n",
    "- Каждая книга имеет среднюю оценку от 1,5 до 5 баллов, и от 0 до 1120 отзывов. В зависимости от книги;\n",
    "- Издательство Penguin Books выпустило больше всего книг толще 50 страниц, а именно 42 книги;\n",
    "- Автор J.K. Rowling/Mary GrandPré имеет самую высокую среднюю оценку среди книг с 50ю и более оценками, а именно 4,287097 балла;\n",
    "- В среднем пользователи, которые поставили больше 50 оценок, оставляют 24-25 обзоров (24,33)."
   ]
  }
 ],
 "metadata": {
  "ExecuteTimeLog": [
   {
    "duration": 650,
    "start_time": "2021-11-16T07:34:38.191Z"
   },
   {
    "duration": 142,
    "start_time": "2021-11-16T07:34:46.786Z"
   },
   {
    "duration": 104,
    "start_time": "2021-11-16T07:35:03.996Z"
   },
   {
    "duration": 130,
    "start_time": "2021-11-16T07:41:42.153Z"
   },
   {
    "duration": 355,
    "start_time": "2021-11-16T07:43:20.885Z"
   },
   {
    "duration": 33,
    "start_time": "2021-11-16T07:43:45.081Z"
   },
   {
    "duration": 266,
    "start_time": "2021-11-16T07:43:47.026Z"
   },
   {
    "duration": 259,
    "start_time": "2021-11-16T07:52:03.034Z"
   },
   {
    "duration": 3,
    "start_time": "2021-11-16T07:56:35.781Z"
   },
   {
    "duration": 3,
    "start_time": "2021-11-16T08:01:32.623Z"
   },
   {
    "duration": 526,
    "start_time": "2021-11-16T08:01:33.966Z"
   },
   {
    "duration": 324,
    "start_time": "2021-11-16T08:01:41.403Z"
   },
   {
    "duration": 331,
    "start_time": "2021-11-16T08:02:28.922Z"
   },
   {
    "duration": 648,
    "start_time": "2021-11-16T08:03:04.254Z"
   },
   {
    "duration": 26,
    "start_time": "2021-11-16T08:03:04.904Z"
   },
   {
    "duration": 318,
    "start_time": "2021-11-16T08:03:04.934Z"
   },
   {
    "duration": -259,
    "start_time": "2021-11-16T08:03:05.513Z"
   },
   {
    "duration": -264,
    "start_time": "2021-11-16T08:03:05.519Z"
   },
   {
    "duration": -266,
    "start_time": "2021-11-16T08:03:05.522Z"
   },
   {
    "duration": 641,
    "start_time": "2021-11-16T12:38:38.110Z"
   },
   {
    "duration": 28,
    "start_time": "2021-11-16T12:38:38.753Z"
   },
   {
    "duration": 2,
    "start_time": "2021-11-16T12:38:38.783Z"
   },
   {
    "duration": 260,
    "start_time": "2021-11-16T12:38:38.787Z"
   },
   {
    "duration": 5,
    "start_time": "2021-11-16T12:38:39.049Z"
   },
   {
    "duration": 23,
    "start_time": "2021-11-16T12:38:50.535Z"
   },
   {
    "duration": 3,
    "start_time": "2021-11-16T12:39:50.894Z"
   },
   {
    "duration": 73,
    "start_time": "2021-11-16T12:39:51.000Z"
   },
   {
    "duration": 7,
    "start_time": "2021-11-16T12:40:03.912Z"
   },
   {
    "duration": 3,
    "start_time": "2021-11-16T12:40:48.445Z"
   },
   {
    "duration": 62,
    "start_time": "2021-11-16T12:41:09.485Z"
   },
   {
    "duration": 7,
    "start_time": "2021-11-16T12:41:10.756Z"
   },
   {
    "duration": 2,
    "start_time": "2021-11-16T12:42:08.570Z"
   },
   {
    "duration": 112,
    "start_time": "2021-11-16T12:42:09.815Z"
   },
   {
    "duration": 9,
    "start_time": "2021-11-16T12:42:11.322Z"
   },
   {
    "duration": 3,
    "start_time": "2021-11-16T12:43:01.573Z"
   },
   {
    "duration": 104,
    "start_time": "2021-11-16T12:43:03.888Z"
   },
   {
    "duration": 7,
    "start_time": "2021-11-16T12:43:05.302Z"
   },
   {
    "duration": 711,
    "start_time": "2021-11-16T12:43:29.445Z"
   },
   {
    "duration": 27,
    "start_time": "2021-11-16T12:43:30.158Z"
   },
   {
    "duration": 2,
    "start_time": "2021-11-16T12:43:30.190Z"
   },
   {
    "duration": 261,
    "start_time": "2021-11-16T12:43:30.194Z"
   },
   {
    "duration": 14,
    "start_time": "2021-11-16T12:43:30.457Z"
   },
   {
    "duration": 14,
    "start_time": "2021-11-16T12:43:30.473Z"
   },
   {
    "duration": 90,
    "start_time": "2021-11-16T12:43:30.489Z"
   },
   {
    "duration": 6,
    "start_time": "2021-11-16T12:43:30.581Z"
   },
   {
    "duration": 19,
    "start_time": "2021-11-16T12:43:30.589Z"
   },
   {
    "duration": 72,
    "start_time": "2021-11-16T12:43:30.610Z"
   },
   {
    "duration": 6,
    "start_time": "2021-11-16T12:43:30.684Z"
   },
   {
    "duration": 13,
    "start_time": "2021-11-16T12:43:30.691Z"
   },
   {
    "duration": 103,
    "start_time": "2021-11-16T12:43:30.705Z"
   },
   {
    "duration": 7,
    "start_time": "2021-11-16T12:43:30.810Z"
   },
   {
    "duration": 25,
    "start_time": "2021-11-16T12:43:30.819Z"
   },
   {
    "duration": 96,
    "start_time": "2021-11-16T12:43:30.846Z"
   },
   {
    "duration": 9,
    "start_time": "2021-11-16T12:43:30.943Z"
   },
   {
    "duration": 8,
    "start_time": "2021-11-16T13:07:27.081Z"
   },
   {
    "duration": 125,
    "start_time": "2021-11-16T14:01:26.742Z"
   },
   {
    "duration": 90,
    "start_time": "2021-11-16T14:02:23.483Z"
   },
   {
    "duration": 7,
    "start_time": "2021-11-16T14:03:04.027Z"
   },
   {
    "duration": 145,
    "start_time": "2021-11-16T14:11:27.268Z"
   },
   {
    "duration": 2,
    "start_time": "2021-11-16T14:15:05.513Z"
   },
   {
    "duration": 404,
    "start_time": "2021-11-16T14:15:05.571Z"
   },
   {
    "duration": 3,
    "start_time": "2021-11-16T14:15:15.138Z"
   },
   {
    "duration": 69,
    "start_time": "2021-11-16T14:15:16.218Z"
   },
   {
    "duration": 13,
    "start_time": "2021-11-16T14:23:55.911Z"
   },
   {
    "duration": 11,
    "start_time": "2021-11-16T14:26:07.735Z"
   },
   {
    "duration": 10,
    "start_time": "2021-11-16T14:32:45.118Z"
   },
   {
    "duration": 10,
    "start_time": "2021-11-16T14:33:06.215Z"
   },
   {
    "duration": 3,
    "start_time": "2021-11-16T14:36:22.600Z"
   },
   {
    "duration": 680,
    "start_time": "2021-11-16T14:36:50.355Z"
   },
   {
    "duration": 3,
    "start_time": "2021-11-16T14:37:43.839Z"
   },
   {
    "duration": 336,
    "start_time": "2021-11-16T14:37:46.097Z"
   },
   {
    "duration": 3,
    "start_time": "2021-11-16T14:37:55.004Z"
   },
   {
    "duration": 80,
    "start_time": "2021-11-16T14:37:57.275Z"
   },
   {
    "duration": 753,
    "start_time": "2021-11-16T14:49:57.623Z"
   },
   {
    "duration": 28,
    "start_time": "2021-11-16T14:49:58.378Z"
   },
   {
    "duration": 2,
    "start_time": "2021-11-16T14:49:58.408Z"
   },
   {
    "duration": 276,
    "start_time": "2021-11-16T14:49:58.412Z"
   },
   {
    "duration": 19,
    "start_time": "2021-11-16T14:49:58.691Z"
   },
   {
    "duration": 5,
    "start_time": "2021-11-16T14:49:58.712Z"
   },
   {
    "duration": 93,
    "start_time": "2021-11-16T14:49:58.719Z"
   },
   {
    "duration": 7,
    "start_time": "2021-11-16T14:49:58.814Z"
   },
   {
    "duration": 8,
    "start_time": "2021-11-16T14:49:58.823Z"
   },
   {
    "duration": 74,
    "start_time": "2021-11-16T14:49:58.833Z"
   },
   {
    "duration": 7,
    "start_time": "2021-11-16T14:49:58.909Z"
   },
   {
    "duration": 7,
    "start_time": "2021-11-16T14:49:58.918Z"
   },
   {
    "duration": 122,
    "start_time": "2021-11-16T14:49:58.926Z"
   },
   {
    "duration": 7,
    "start_time": "2021-11-16T14:49:59.050Z"
   },
   {
    "duration": 5,
    "start_time": "2021-11-16T14:49:59.059Z"
   },
   {
    "duration": 83,
    "start_time": "2021-11-16T14:49:59.066Z"
   },
   {
    "duration": 8,
    "start_time": "2021-11-16T14:49:59.151Z"
   },
   {
    "duration": 8,
    "start_time": "2021-11-16T14:49:59.161Z"
   },
   {
    "duration": 75,
    "start_time": "2021-11-16T14:49:59.171Z"
   },
   {
    "duration": 120,
    "start_time": "2021-11-16T14:49:59.247Z"
   },
   {
    "duration": -178,
    "start_time": "2021-11-16T14:49:59.548Z"
   },
   {
    "duration": -182,
    "start_time": "2021-11-16T14:49:59.553Z"
   },
   {
    "duration": -185,
    "start_time": "2021-11-16T14:49:59.557Z"
   },
   {
    "duration": -193,
    "start_time": "2021-11-16T14:49:59.566Z"
   },
   {
    "duration": -197,
    "start_time": "2021-11-16T14:49:59.571Z"
   },
   {
    "duration": -205,
    "start_time": "2021-11-16T14:49:59.580Z"
   },
   {
    "duration": 3,
    "start_time": "2021-11-16T14:50:09.604Z"
   },
   {
    "duration": 98,
    "start_time": "2021-11-16T14:50:11.137Z"
   },
   {
    "duration": 12,
    "start_time": "2021-11-16T14:50:13.419Z"
   },
   {
    "duration": 10,
    "start_time": "2021-11-16T14:50:15.150Z"
   },
   {
    "duration": 408,
    "start_time": "2021-11-16T14:50:17.840Z"
   },
   {
    "duration": 7,
    "start_time": "2021-11-16T14:50:33.623Z"
   },
   {
    "duration": 8,
    "start_time": "2021-11-16T14:50:51.143Z"
   },
   {
    "duration": 6,
    "start_time": "2021-11-16T14:51:13.732Z"
   },
   {
    "duration": 7,
    "start_time": "2021-11-16T14:51:41.054Z"
   },
   {
    "duration": 12295,
    "start_time": "2021-11-16T14:51:54.700Z"
   },
   {
    "duration": 2,
    "start_time": "2021-11-16T14:54:45.419Z"
   },
   {
    "duration": 402,
    "start_time": "2021-11-16T14:54:59.833Z"
   },
   {
    "duration": 2,
    "start_time": "2021-11-16T15:04:52.956Z"
   },
   {
    "duration": 81,
    "start_time": "2021-11-16T15:04:54.362Z"
   },
   {
    "duration": 88,
    "start_time": "2021-11-16T15:04:59.086Z"
   },
   {
    "duration": 13,
    "start_time": "2021-11-16T15:06:22.689Z"
   },
   {
    "duration": 7574,
    "start_time": "2021-11-16T15:06:32.868Z"
   },
   {
    "duration": 5,
    "start_time": "2021-11-16T15:07:21.233Z"
   },
   {
    "duration": 9,
    "start_time": "2021-11-16T15:08:18.039Z"
   },
   {
    "duration": 3,
    "start_time": "2021-11-16T15:10:08.834Z"
   },
   {
    "duration": 93,
    "start_time": "2021-11-16T15:10:21.714Z"
   },
   {
    "duration": 2,
    "start_time": "2021-11-16T15:12:33.303Z"
   },
   {
    "duration": 103,
    "start_time": "2021-11-16T15:12:35.072Z"
   },
   {
    "duration": 3,
    "start_time": "2021-11-16T15:16:23.670Z"
   },
   {
    "duration": 102,
    "start_time": "2021-11-16T15:16:25.434Z"
   },
   {
    "duration": 2,
    "start_time": "2021-11-16T15:16:35.093Z"
   },
   {
    "duration": 114,
    "start_time": "2021-11-16T15:16:36.388Z"
   },
   {
    "duration": 3,
    "start_time": "2021-11-16T15:16:52.332Z"
   },
   {
    "duration": 91,
    "start_time": "2021-11-16T15:16:54.514Z"
   },
   {
    "duration": 14,
    "start_time": "2021-11-16T15:58:52.226Z"
   },
   {
    "duration": 9,
    "start_time": "2021-11-16T15:59:23.159Z"
   },
   {
    "duration": 2,
    "start_time": "2021-11-16T16:03:35.354Z"
   },
   {
    "duration": 338,
    "start_time": "2021-11-16T16:03:47.121Z"
   },
   {
    "duration": 3,
    "start_time": "2021-11-16T16:04:29.969Z"
   },
   {
    "duration": 467,
    "start_time": "2021-11-16T16:04:31.707Z"
   },
   {
    "duration": 2,
    "start_time": "2021-11-16T16:05:13.586Z"
   },
   {
    "duration": 358,
    "start_time": "2021-11-16T16:05:15.380Z"
   },
   {
    "duration": 4,
    "start_time": "2021-11-16T16:06:09.458Z"
   },
   {
    "duration": 70,
    "start_time": "2021-11-16T16:06:12.914Z"
   },
   {
    "duration": 19,
    "start_time": "2021-11-16T16:06:12.987Z"
   },
   {
    "duration": 3,
    "start_time": "2021-11-16T16:06:24.946Z"
   },
   {
    "duration": 359,
    "start_time": "2021-11-16T16:06:26.483Z"
   },
   {
    "duration": 3,
    "start_time": "2021-11-16T16:06:33.981Z"
   },
   {
    "duration": 352,
    "start_time": "2021-11-16T16:06:35.719Z"
   },
   {
    "duration": 3,
    "start_time": "2021-11-16T16:08:32.124Z"
   },
   {
    "duration": 343,
    "start_time": "2021-11-16T16:08:33.314Z"
   },
   {
    "duration": 3,
    "start_time": "2021-11-16T16:08:59.473Z"
   },
   {
    "duration": 111,
    "start_time": "2021-11-16T16:09:00.962Z"
   },
   {
    "duration": 3,
    "start_time": "2021-11-16T16:09:16.479Z"
   },
   {
    "duration": 111,
    "start_time": "2021-11-16T16:09:18.401Z"
   },
   {
    "duration": 105,
    "start_time": "2021-11-16T16:10:13.816Z"
   },
   {
    "duration": 3,
    "start_time": "2021-11-16T16:12:48.108Z"
   },
   {
    "duration": 814,
    "start_time": "2021-11-16T16:13:00.114Z"
   },
   {
    "duration": 2,
    "start_time": "2021-11-16T16:13:11.428Z"
   },
   {
    "duration": 82,
    "start_time": "2021-11-16T16:13:13.088Z"
   },
   {
    "duration": 18,
    "start_time": "2021-11-16T16:13:13.172Z"
   },
   {
    "duration": 3,
    "start_time": "2021-11-16T16:13:24.327Z"
   },
   {
    "duration": 67,
    "start_time": "2021-11-16T16:13:27.398Z"
   },
   {
    "duration": 2,
    "start_time": "2021-11-16T16:13:46.042Z"
   },
   {
    "duration": 342,
    "start_time": "2021-11-16T16:13:48.500Z"
   },
   {
    "duration": -169,
    "start_time": "2021-11-16T16:13:49.013Z"
   },
   {
    "duration": 3,
    "start_time": "2021-11-16T16:14:08.369Z"
   },
   {
    "duration": 344,
    "start_time": "2021-11-16T16:14:10.103Z"
   },
   {
    "duration": 2,
    "start_time": "2021-11-16T16:14:42.248Z"
   },
   {
    "duration": 104,
    "start_time": "2021-11-16T16:14:44.297Z"
   },
   {
    "duration": 3,
    "start_time": "2021-11-16T16:15:45.139Z"
   },
   {
    "duration": 70,
    "start_time": "2021-11-16T16:15:47.338Z"
   },
   {
    "duration": 12,
    "start_time": "2021-11-16T16:15:47.410Z"
   },
   {
    "duration": 70,
    "start_time": "2021-11-16T16:15:52.420Z"
   },
   {
    "duration": 71,
    "start_time": "2021-11-16T16:16:33.517Z"
   },
   {
    "duration": 3,
    "start_time": "2021-11-16T16:16:59.915Z"
   },
   {
    "duration": 338,
    "start_time": "2021-11-16T16:17:07.596Z"
   },
   {
    "duration": 3,
    "start_time": "2021-11-16T16:17:12.386Z"
   },
   {
    "duration": 359,
    "start_time": "2021-11-16T16:17:13.952Z"
   },
   {
    "duration": 3,
    "start_time": "2021-11-16T16:17:21.363Z"
   },
   {
    "duration": 347,
    "start_time": "2021-11-16T16:17:23.841Z"
   },
   {
    "duration": 2,
    "start_time": "2021-11-16T16:17:50.200Z"
   },
   {
    "duration": 113,
    "start_time": "2021-11-16T16:17:52.422Z"
   },
   {
    "duration": 3,
    "start_time": "2021-11-16T16:18:09.244Z"
   },
   {
    "duration": 76,
    "start_time": "2021-11-16T16:18:11.580Z"
   },
   {
    "duration": 3,
    "start_time": "2021-11-16T16:18:54.389Z"
   },
   {
    "duration": 85,
    "start_time": "2021-11-16T16:18:55.688Z"
   },
   {
    "duration": 9,
    "start_time": "2021-11-16T16:23:34.570Z"
   },
   {
    "duration": 13,
    "start_time": "2021-11-16T16:23:43.332Z"
   },
   {
    "duration": 9,
    "start_time": "2021-11-16T16:23:43.406Z"
   },
   {
    "duration": 297,
    "start_time": "2021-11-16T16:24:16.845Z"
   },
   {
    "duration": 9,
    "start_time": "2021-11-16T16:24:45.778Z"
   },
   {
    "duration": 20,
    "start_time": "2021-11-16T16:24:52.727Z"
   },
   {
    "duration": 13,
    "start_time": "2021-11-16T16:26:52.940Z"
   },
   {
    "duration": 19,
    "start_time": "2021-11-16T16:26:58.239Z"
   },
   {
    "duration": 13,
    "start_time": "2021-11-16T16:26:58.289Z"
   },
   {
    "duration": 297,
    "start_time": "2021-11-16T16:29:20.907Z"
   },
   {
    "duration": -118,
    "start_time": "2021-11-16T16:29:21.324Z"
   },
   {
    "duration": 286,
    "start_time": "2021-11-16T16:29:28.651Z"
   },
   {
    "duration": -95,
    "start_time": "2021-11-16T16:29:29.034Z"
   },
   {
    "duration": 20,
    "start_time": "2021-11-16T16:29:41.168Z"
   },
   {
    "duration": 365,
    "start_time": "2021-11-16T16:29:48.019Z"
   },
   {
    "duration": 398,
    "start_time": "2021-11-16T16:30:07.439Z"
   },
   {
    "duration": 20,
    "start_time": "2021-11-16T16:30:16.200Z"
   },
   {
    "duration": 14,
    "start_time": "2021-11-16T16:30:16.254Z"
   },
   {
    "duration": 19,
    "start_time": "2021-11-16T16:30:38.022Z"
   },
   {
    "duration": 20,
    "start_time": "2021-11-16T16:30:44.246Z"
   },
   {
    "duration": 24,
    "start_time": "2021-11-16T16:32:46.034Z"
   },
   {
    "duration": 2,
    "start_time": "2021-11-16T16:32:59.542Z"
   },
   {
    "duration": 111,
    "start_time": "2021-11-16T16:33:00.864Z"
   },
   {
    "duration": 13,
    "start_time": "2021-11-16T16:45:23.332Z"
   },
   {
    "duration": 8,
    "start_time": "2021-11-16T16:45:32.745Z"
   },
   {
    "duration": 9,
    "start_time": "2021-11-16T16:46:04.633Z"
   },
   {
    "duration": 3,
    "start_time": "2021-11-16T16:48:26.983Z"
   },
   {
    "duration": 99,
    "start_time": "2021-11-16T16:48:36.717Z"
   },
   {
    "duration": 10,
    "start_time": "2021-11-16T16:48:48.743Z"
   },
   {
    "duration": 2,
    "start_time": "2021-11-16T16:48:48.806Z"
   },
   {
    "duration": 8,
    "start_time": "2021-11-16T16:49:00.308Z"
   },
   {
    "duration": 8,
    "start_time": "2021-11-16T16:51:34.253Z"
   },
   {
    "duration": 3,
    "start_time": "2021-11-16T16:52:51.547Z"
   },
   {
    "duration": 333,
    "start_time": "2021-11-16T16:53:04.216Z"
   },
   {
    "duration": 3,
    "start_time": "2021-11-16T16:53:11.455Z"
   },
   {
    "duration": 85,
    "start_time": "2021-11-16T16:53:13.744Z"
   },
   {
    "duration": 2,
    "start_time": "2021-11-16T16:55:12.001Z"
   },
   {
    "duration": 620,
    "start_time": "2021-11-16T16:55:20.534Z"
   },
   {
    "duration": 2,
    "start_time": "2021-11-16T16:58:27.000Z"
   },
   {
    "duration": 328,
    "start_time": "2021-11-16T16:58:28.669Z"
   },
   {
    "duration": 2,
    "start_time": "2021-11-16T16:58:57.730Z"
   },
   {
    "duration": 341,
    "start_time": "2021-11-16T16:59:01.230Z"
   },
   {
    "duration": 2,
    "start_time": "2021-11-16T16:59:16.139Z"
   },
   {
    "duration": 337,
    "start_time": "2021-11-16T16:59:18.373Z"
   },
   {
    "duration": 2,
    "start_time": "2021-11-16T17:00:14.955Z"
   },
   {
    "duration": 347,
    "start_time": "2021-11-16T17:00:18.830Z"
   },
   {
    "duration": 3,
    "start_time": "2021-11-16T17:00:29.937Z"
   },
   {
    "duration": 1054,
    "start_time": "2021-11-16T17:00:32.751Z"
   },
   {
    "duration": 3,
    "start_time": "2021-11-16T17:00:40.094Z"
   },
   {
    "duration": 421,
    "start_time": "2021-11-16T17:00:40.155Z"
   },
   {
    "duration": 2,
    "start_time": "2021-11-16T17:01:11.231Z"
   },
   {
    "duration": 350,
    "start_time": "2021-11-16T17:01:11.235Z"
   },
   {
    "duration": 3,
    "start_time": "2021-11-16T17:01:20.613Z"
   },
   {
    "duration": 348,
    "start_time": "2021-11-16T17:01:22.716Z"
   },
   {
    "duration": 3,
    "start_time": "2021-11-16T17:01:41.205Z"
   },
   {
    "duration": 375,
    "start_time": "2021-11-16T17:01:41.253Z"
   },
   {
    "duration": 2,
    "start_time": "2021-11-16T17:01:50.833Z"
   },
   {
    "duration": 340,
    "start_time": "2021-11-16T17:01:52.986Z"
   },
   {
    "duration": 2,
    "start_time": "2021-11-16T17:02:27.367Z"
   },
   {
    "duration": 344,
    "start_time": "2021-11-16T17:02:29.241Z"
   },
   {
    "duration": 3,
    "start_time": "2021-11-16T17:02:33.651Z"
   },
   {
    "duration": 332,
    "start_time": "2021-11-16T17:02:36.166Z"
   },
   {
    "duration": 3,
    "start_time": "2021-11-16T17:02:42.486Z"
   },
   {
    "duration": 79,
    "start_time": "2021-11-16T17:02:44.500Z"
   },
   {
    "duration": 3,
    "start_time": "2021-11-16T17:03:04.424Z"
   },
   {
    "duration": 393,
    "start_time": "2021-11-16T17:03:06.244Z"
   },
   {
    "duration": 3,
    "start_time": "2021-11-16T17:03:13.910Z"
   },
   {
    "duration": 788,
    "start_time": "2021-11-16T17:03:15.570Z"
   },
   {
    "duration": 385,
    "start_time": "2021-11-16T17:03:59.031Z"
   },
   {
    "duration": -140,
    "start_time": "2021-11-16T17:03:59.559Z"
   },
   {
    "duration": 2,
    "start_time": "2021-11-16T17:04:07.946Z"
   },
   {
    "duration": 76,
    "start_time": "2021-11-16T17:04:10.141Z"
   },
   {
    "duration": 2,
    "start_time": "2021-11-16T17:04:59.068Z"
   },
   {
    "duration": 78,
    "start_time": "2021-11-16T17:05:00.901Z"
   },
   {
    "duration": 10,
    "start_time": "2021-11-16T17:10:30.942Z"
   },
   {
    "duration": 7,
    "start_time": "2021-11-16T17:10:42.645Z"
   },
   {
    "duration": 7,
    "start_time": "2021-11-16T17:10:56.380Z"
   },
   {
    "duration": 22,
    "start_time": "2021-11-16T17:12:30.889Z"
   },
   {
    "duration": 21,
    "start_time": "2021-11-16T17:14:14.597Z"
   },
   {
    "duration": 17,
    "start_time": "2021-11-16T17:14:49.825Z"
   },
   {
    "duration": 26,
    "start_time": "2021-11-16T17:15:15.321Z"
   },
   {
    "duration": 21,
    "start_time": "2021-11-16T17:15:32.760Z"
   },
   {
    "duration": 27,
    "start_time": "2021-11-16T17:16:24.424Z"
   },
   {
    "duration": 31,
    "start_time": "2021-11-16T17:17:00.391Z"
   },
   {
    "duration": 31,
    "start_time": "2021-11-16T17:17:27.362Z"
   },
   {
    "duration": 8,
    "start_time": "2021-11-16T17:37:29.410Z"
   },
   {
    "duration": 3,
    "start_time": "2021-11-16T17:40:41.092Z"
   },
   {
    "duration": 341,
    "start_time": "2021-11-16T17:40:56.692Z"
   },
   {
    "duration": 3,
    "start_time": "2021-11-16T17:41:35.938Z"
   },
   {
    "duration": 68,
    "start_time": "2021-11-16T17:41:39.937Z"
   },
   {
    "duration": 3,
    "start_time": "2021-11-16T17:42:08.924Z"
   },
   {
    "duration": 72,
    "start_time": "2021-11-16T17:42:11.025Z"
   },
   {
    "duration": 2,
    "start_time": "2021-11-16T17:42:23.292Z"
   },
   {
    "duration": 72,
    "start_time": "2021-11-16T17:42:24.831Z"
   },
   {
    "duration": 3,
    "start_time": "2021-11-16T17:43:06.327Z"
   },
   {
    "duration": 72,
    "start_time": "2021-11-16T17:43:07.780Z"
   },
   {
    "duration": 8,
    "start_time": "2021-11-16T17:43:43.421Z"
   },
   {
    "duration": 8,
    "start_time": "2021-11-16T17:44:12.089Z"
   },
   {
    "duration": 3,
    "start_time": "2021-11-16T17:47:50.108Z"
   },
   {
    "duration": 342,
    "start_time": "2021-11-16T17:48:01.093Z"
   },
   {
    "duration": 2,
    "start_time": "2021-11-16T17:48:11.034Z"
   },
   {
    "duration": 409,
    "start_time": "2021-11-16T17:48:12.348Z"
   },
   {
    "duration": 3,
    "start_time": "2021-11-16T17:49:20.085Z"
   },
   {
    "duration": 322,
    "start_time": "2021-11-16T17:49:23.512Z"
   },
   {
    "duration": 3,
    "start_time": "2021-11-16T17:49:28.463Z"
   },
   {
    "duration": 80,
    "start_time": "2021-11-16T17:49:30.406Z"
   },
   {
    "duration": 3,
    "start_time": "2021-11-16T17:51:16.072Z"
   },
   {
    "duration": 97,
    "start_time": "2021-11-16T17:51:24.514Z"
   },
   {
    "duration": 3,
    "start_time": "2021-11-16T17:52:42.075Z"
   },
   {
    "duration": 93,
    "start_time": "2021-11-16T17:52:43.355Z"
   },
   {
    "duration": 11,
    "start_time": "2021-11-16T17:53:21.407Z"
   },
   {
    "duration": 3,
    "start_time": "2021-11-16T17:53:38.848Z"
   },
   {
    "duration": 94,
    "start_time": "2021-11-16T17:53:40.059Z"
   },
   {
    "duration": 3,
    "start_time": "2021-11-16T17:53:44.191Z"
   },
   {
    "duration": 6,
    "start_time": "2021-11-16T17:54:58.171Z"
   },
   {
    "duration": 21,
    "start_time": "2021-11-16T17:56:49.319Z"
   },
   {
    "duration": 16,
    "start_time": "2021-11-16T17:58:00.380Z"
   },
   {
    "duration": 8,
    "start_time": "2021-11-16T17:59:10.525Z"
   },
   {
    "duration": 3,
    "start_time": "2021-11-16T17:59:26.075Z"
   },
   {
    "duration": 70,
    "start_time": "2021-11-16T17:59:27.382Z"
   },
   {
    "duration": 18,
    "start_time": "2021-11-16T17:59:27.467Z"
   },
   {
    "duration": 7,
    "start_time": "2021-11-16T18:00:39.060Z"
   },
   {
    "duration": 3,
    "start_time": "2021-11-16T18:01:15.236Z"
   },
   {
    "duration": 332,
    "start_time": "2021-11-16T18:01:23.608Z"
   },
   {
    "duration": 3,
    "start_time": "2021-11-16T18:01:35.339Z"
   },
   {
    "duration": 71,
    "start_time": "2021-11-16T18:01:37.540Z"
   },
   {
    "duration": 2,
    "start_time": "2021-11-16T18:03:06.729Z"
   },
   {
    "duration": 96,
    "start_time": "2021-11-16T18:03:07.983Z"
   },
   {
    "duration": 3,
    "start_time": "2021-11-16T18:03:52.246Z"
   },
   {
    "duration": 70,
    "start_time": "2021-11-16T18:03:53.401Z"
   },
   {
    "duration": 3,
    "start_time": "2021-11-16T18:04:07.815Z"
   },
   {
    "duration": 96,
    "start_time": "2021-11-16T18:04:09.444Z"
   },
   {
    "duration": 2,
    "start_time": "2021-11-16T18:04:26.196Z"
   },
   {
    "duration": 92,
    "start_time": "2021-11-16T18:04:27.533Z"
   },
   {
    "duration": 2,
    "start_time": "2021-11-16T18:05:17.354Z"
   },
   {
    "duration": 556,
    "start_time": "2021-11-16T18:05:18.496Z"
   },
   {
    "duration": 2,
    "start_time": "2021-11-16T18:06:26.810Z"
   },
   {
    "duration": 550,
    "start_time": "2021-11-16T18:06:28.168Z"
   },
   {
    "duration": 10,
    "start_time": "2021-11-16T18:07:10.104Z"
   },
   {
    "duration": 2,
    "start_time": "2021-11-16T18:15:10.550Z"
   },
   {
    "duration": 335,
    "start_time": "2021-11-16T18:15:12.047Z"
   },
   {
    "duration": 3,
    "start_time": "2021-11-16T18:15:41.251Z"
   },
   {
    "duration": 86,
    "start_time": "2021-11-16T18:15:42.800Z"
   },
   {
    "duration": 3,
    "start_time": "2021-11-16T18:17:21.890Z"
   },
   {
    "duration": 85,
    "start_time": "2021-11-16T18:17:23.056Z"
   },
   {
    "duration": 3,
    "start_time": "2021-11-16T18:18:13.573Z"
   },
   {
    "duration": 330,
    "start_time": "2021-11-16T18:18:22.728Z"
   },
   {
    "duration": 3,
    "start_time": "2021-11-16T18:18:37.447Z"
   },
   {
    "duration": 372,
    "start_time": "2021-11-16T18:18:39.186Z"
   },
   {
    "duration": 3,
    "start_time": "2021-11-16T18:19:35.142Z"
   },
   {
    "duration": 341,
    "start_time": "2021-11-16T18:19:36.365Z"
   },
   {
    "duration": 3,
    "start_time": "2021-11-16T18:20:00.793Z"
   },
   {
    "duration": 331,
    "start_time": "2021-11-16T18:20:02.278Z"
   },
   {
    "duration": 3,
    "start_time": "2021-11-16T18:20:51.219Z"
   },
   {
    "duration": 85,
    "start_time": "2021-11-16T18:20:52.534Z"
   },
   {
    "duration": 3,
    "start_time": "2021-11-16T18:21:08.822Z"
   },
   {
    "duration": 70,
    "start_time": "2021-11-16T18:21:10.181Z"
   },
   {
    "duration": 3,
    "start_time": "2021-11-16T18:21:39.432Z"
   },
   {
    "duration": 362,
    "start_time": "2021-11-16T18:21:41.373Z"
   },
   {
    "duration": 3,
    "start_time": "2021-11-16T18:21:45.151Z"
   },
   {
    "duration": 412,
    "start_time": "2021-11-16T18:21:46.405Z"
   },
   {
    "duration": 3,
    "start_time": "2021-11-16T18:21:54.490Z"
   },
   {
    "duration": 330,
    "start_time": "2021-11-16T18:21:56.443Z"
   },
   {
    "duration": 3,
    "start_time": "2021-11-16T18:22:02.001Z"
   },
   {
    "duration": 69,
    "start_time": "2021-11-16T18:22:03.027Z"
   },
   {
    "duration": 3,
    "start_time": "2021-11-16T18:23:47.866Z"
   },
   {
    "duration": 72,
    "start_time": "2021-11-16T18:23:50.207Z"
   },
   {
    "duration": 2,
    "start_time": "2021-11-16T18:24:05.251Z"
   },
   {
    "duration": 104,
    "start_time": "2021-11-16T18:24:06.441Z"
   },
   {
    "duration": 3,
    "start_time": "2021-11-16T18:25:54.414Z"
   },
   {
    "duration": 365,
    "start_time": "2021-11-16T18:25:55.817Z"
   },
   {
    "duration": 2,
    "start_time": "2021-11-16T18:26:10.076Z"
   },
   {
    "duration": 378,
    "start_time": "2021-11-16T18:26:11.544Z"
   },
   {
    "duration": 3,
    "start_time": "2021-11-16T18:26:19.458Z"
   },
   {
    "duration": 368,
    "start_time": "2021-11-16T18:26:24.981Z"
   },
   {
    "duration": 3,
    "start_time": "2021-11-16T18:26:37.071Z"
   },
   {
    "duration": 989,
    "start_time": "2021-11-16T18:26:38.547Z"
   },
   {
    "duration": 3,
    "start_time": "2021-11-16T18:26:57.436Z"
   },
   {
    "duration": 364,
    "start_time": "2021-11-16T18:26:59.163Z"
   },
   {
    "duration": 3,
    "start_time": "2021-11-16T18:27:12.419Z"
   },
   {
    "duration": 71,
    "start_time": "2021-11-16T18:27:13.735Z"
   },
   {
    "duration": 10,
    "start_time": "2021-11-16T18:29:41.937Z"
   },
   {
    "duration": 10,
    "start_time": "2021-11-16T18:32:11.746Z"
   },
   {
    "duration": 14,
    "start_time": "2021-11-16T18:32:21.030Z"
   },
   {
    "duration": 11,
    "start_time": "2021-11-16T18:32:46.980Z"
   },
   {
    "duration": 3,
    "start_time": "2021-11-16T18:37:13.539Z"
   },
   {
    "duration": 337,
    "start_time": "2021-11-16T18:37:20.435Z"
   },
   {
    "duration": 3,
    "start_time": "2021-11-16T18:38:21.219Z"
   },
   {
    "duration": 334,
    "start_time": "2021-11-16T18:38:22.898Z"
   },
   {
    "duration": 2,
    "start_time": "2021-11-16T18:39:01.483Z"
   },
   {
    "duration": 70,
    "start_time": "2021-11-16T18:39:03.335Z"
   },
   {
    "duration": 2,
    "start_time": "2021-11-16T18:40:53.953Z"
   },
   {
    "duration": 70,
    "start_time": "2021-11-16T18:40:55.687Z"
   },
   {
    "duration": 652,
    "start_time": "2021-11-16T18:43:38.235Z"
   },
   {
    "duration": 25,
    "start_time": "2021-11-16T18:43:38.889Z"
   },
   {
    "duration": 3,
    "start_time": "2021-11-16T18:43:38.916Z"
   },
   {
    "duration": 270,
    "start_time": "2021-11-16T18:43:38.920Z"
   },
   {
    "duration": 15,
    "start_time": "2021-11-16T18:43:39.192Z"
   },
   {
    "duration": 2,
    "start_time": "2021-11-16T18:43:39.208Z"
   },
   {
    "duration": 74,
    "start_time": "2021-11-16T18:43:39.212Z"
   },
   {
    "duration": 7,
    "start_time": "2021-11-16T18:43:39.289Z"
   },
   {
    "duration": 5,
    "start_time": "2021-11-16T18:43:39.298Z"
   },
   {
    "duration": 73,
    "start_time": "2021-11-16T18:43:39.305Z"
   },
   {
    "duration": 7,
    "start_time": "2021-11-16T18:43:39.379Z"
   },
   {
    "duration": 5,
    "start_time": "2021-11-16T18:43:39.388Z"
   },
   {
    "duration": 100,
    "start_time": "2021-11-16T18:43:39.395Z"
   },
   {
    "duration": 7,
    "start_time": "2021-11-16T18:43:39.496Z"
   },
   {
    "duration": 4,
    "start_time": "2021-11-16T18:43:39.505Z"
   },
   {
    "duration": 86,
    "start_time": "2021-11-16T18:43:39.511Z"
   },
   {
    "duration": 8,
    "start_time": "2021-11-16T18:43:39.599Z"
   },
   {
    "duration": 6,
    "start_time": "2021-11-16T18:43:39.608Z"
   },
   {
    "duration": 71,
    "start_time": "2021-11-16T18:43:39.616Z"
   },
   {
    "duration": 2,
    "start_time": "2021-11-16T18:43:39.689Z"
   },
   {
    "duration": 91,
    "start_time": "2021-11-16T18:43:39.692Z"
   },
   {
    "duration": 2,
    "start_time": "2021-11-16T18:43:39.785Z"
   },
   {
    "duration": 77,
    "start_time": "2021-11-16T18:43:39.790Z"
   },
   {
    "duration": 3,
    "start_time": "2021-11-16T18:43:39.868Z"
   },
   {
    "duration": 88,
    "start_time": "2021-11-16T18:43:39.873Z"
   },
   {
    "duration": 3,
    "start_time": "2021-11-16T18:43:39.962Z"
   },
   {
    "duration": 77,
    "start_time": "2021-11-16T18:43:39.966Z"
   },
   {
    "duration": 3,
    "start_time": "2021-11-16T18:48:05.763Z"
   },
   {
    "duration": 103,
    "start_time": "2021-11-16T18:48:06.874Z"
   },
   {
    "duration": 3,
    "start_time": "2021-11-16T18:49:02.464Z"
   },
   {
    "duration": 702,
    "start_time": "2021-11-16T18:50:19.015Z"
   },
   {
    "duration": 31,
    "start_time": "2021-11-16T18:50:19.719Z"
   },
   {
    "duration": 2,
    "start_time": "2021-11-16T18:50:19.752Z"
   },
   {
    "duration": 261,
    "start_time": "2021-11-16T18:50:19.756Z"
   },
   {
    "duration": 17,
    "start_time": "2021-11-16T18:50:20.019Z"
   },
   {
    "duration": 4,
    "start_time": "2021-11-16T18:50:20.037Z"
   },
   {
    "duration": 72,
    "start_time": "2021-11-16T18:50:20.043Z"
   },
   {
    "duration": 6,
    "start_time": "2021-11-16T18:50:20.117Z"
   },
   {
    "duration": 8,
    "start_time": "2021-11-16T18:50:20.126Z"
   },
   {
    "duration": 71,
    "start_time": "2021-11-16T18:50:20.136Z"
   },
   {
    "duration": 6,
    "start_time": "2021-11-16T18:50:20.208Z"
   },
   {
    "duration": 6,
    "start_time": "2021-11-16T18:50:20.216Z"
   },
   {
    "duration": 100,
    "start_time": "2021-11-16T18:50:20.224Z"
   },
   {
    "duration": 7,
    "start_time": "2021-11-16T18:50:20.326Z"
   },
   {
    "duration": 9,
    "start_time": "2021-11-16T18:50:20.334Z"
   },
   {
    "duration": 86,
    "start_time": "2021-11-16T18:50:20.345Z"
   },
   {
    "duration": 6,
    "start_time": "2021-11-16T18:50:20.433Z"
   },
   {
    "duration": 6,
    "start_time": "2021-11-16T18:50:20.441Z"
   },
   {
    "duration": 70,
    "start_time": "2021-11-16T18:50:20.449Z"
   },
   {
    "duration": 3,
    "start_time": "2021-11-16T18:50:20.520Z"
   },
   {
    "duration": 101,
    "start_time": "2021-11-16T18:50:20.524Z"
   },
   {
    "duration": 3,
    "start_time": "2021-11-16T18:50:20.626Z"
   },
   {
    "duration": 93,
    "start_time": "2021-11-16T18:50:20.630Z"
   },
   {
    "duration": 3,
    "start_time": "2021-11-16T18:50:20.724Z"
   },
   {
    "duration": 77,
    "start_time": "2021-11-16T18:50:20.729Z"
   },
   {
    "duration": 2,
    "start_time": "2021-11-16T18:50:20.808Z"
   },
   {
    "duration": 74,
    "start_time": "2021-11-16T18:50:20.813Z"
   },
   {
    "duration": 3,
    "start_time": "2021-11-16T18:51:15.623Z"
   },
   {
    "duration": 387,
    "start_time": "2021-11-16T18:51:17.089Z"
   },
   {
    "duration": 2,
    "start_time": "2021-11-16T18:51:22.838Z"
   },
   {
    "duration": 70,
    "start_time": "2021-11-16T18:51:25.680Z"
   },
   {
    "duration": 608,
    "start_time": "2021-11-16T18:51:38.194Z"
   },
   {
    "duration": 27,
    "start_time": "2021-11-16T18:51:38.804Z"
   },
   {
    "duration": 2,
    "start_time": "2021-11-16T18:51:38.833Z"
   },
   {
    "duration": 270,
    "start_time": "2021-11-16T18:51:38.837Z"
   },
   {
    "duration": 14,
    "start_time": "2021-11-16T18:51:39.109Z"
   },
   {
    "duration": 11,
    "start_time": "2021-11-16T18:51:39.125Z"
   },
   {
    "duration": 80,
    "start_time": "2021-11-16T18:51:39.138Z"
   },
   {
    "duration": 6,
    "start_time": "2021-11-16T18:51:39.220Z"
   },
   {
    "duration": 12,
    "start_time": "2021-11-16T18:51:39.228Z"
   },
   {
    "duration": 73,
    "start_time": "2021-11-16T18:51:39.241Z"
   },
   {
    "duration": 6,
    "start_time": "2021-11-16T18:51:39.315Z"
   },
   {
    "duration": 5,
    "start_time": "2021-11-16T18:51:39.323Z"
   },
   {
    "duration": 110,
    "start_time": "2021-11-16T18:51:39.330Z"
   },
   {
    "duration": 7,
    "start_time": "2021-11-16T18:51:39.442Z"
   },
   {
    "duration": 4,
    "start_time": "2021-11-16T18:51:39.451Z"
   },
   {
    "duration": 85,
    "start_time": "2021-11-16T18:51:39.457Z"
   },
   {
    "duration": 6,
    "start_time": "2021-11-16T18:51:39.544Z"
   },
   {
    "duration": 5,
    "start_time": "2021-11-16T18:51:39.552Z"
   },
   {
    "duration": 71,
    "start_time": "2021-11-16T18:51:39.558Z"
   },
   {
    "duration": 2,
    "start_time": "2021-11-16T18:51:39.631Z"
   },
   {
    "duration": 87,
    "start_time": "2021-11-16T18:51:39.634Z"
   },
   {
    "duration": 3,
    "start_time": "2021-11-16T18:51:39.722Z"
   },
   {
    "duration": 76,
    "start_time": "2021-11-16T18:51:39.727Z"
   },
   {
    "duration": 2,
    "start_time": "2021-11-16T18:51:39.805Z"
   },
   {
    "duration": 82,
    "start_time": "2021-11-16T18:51:39.809Z"
   },
   {
    "duration": 2,
    "start_time": "2021-11-16T18:51:39.893Z"
   },
   {
    "duration": 76,
    "start_time": "2021-11-16T18:51:39.897Z"
   },
   {
    "duration": 627,
    "start_time": "2021-11-16T19:38:37.384Z"
   },
   {
    "duration": 25,
    "start_time": "2021-11-16T19:38:38.013Z"
   },
   {
    "duration": 3,
    "start_time": "2021-11-16T19:38:38.040Z"
   },
   {
    "duration": 282,
    "start_time": "2021-11-16T19:38:38.045Z"
   },
   {
    "duration": 17,
    "start_time": "2021-11-16T19:38:38.329Z"
   },
   {
    "duration": 2,
    "start_time": "2021-11-16T19:38:38.348Z"
   },
   {
    "duration": 71,
    "start_time": "2021-11-16T19:38:38.352Z"
   },
   {
    "duration": 7,
    "start_time": "2021-11-16T19:38:38.426Z"
   },
   {
    "duration": 4,
    "start_time": "2021-11-16T19:38:38.435Z"
   },
   {
    "duration": 70,
    "start_time": "2021-11-16T19:38:38.441Z"
   },
   {
    "duration": 5,
    "start_time": "2021-11-16T19:38:38.513Z"
   },
   {
    "duration": 4,
    "start_time": "2021-11-16T19:38:38.520Z"
   },
   {
    "duration": 113,
    "start_time": "2021-11-16T19:38:38.525Z"
   },
   {
    "duration": 9,
    "start_time": "2021-11-16T19:38:38.640Z"
   },
   {
    "duration": 4,
    "start_time": "2021-11-16T19:38:38.651Z"
   },
   {
    "duration": 92,
    "start_time": "2021-11-16T19:38:38.656Z"
   },
   {
    "duration": 8,
    "start_time": "2021-11-16T19:38:38.750Z"
   },
   {
    "duration": 7,
    "start_time": "2021-11-16T19:38:38.760Z"
   },
   {
    "duration": 73,
    "start_time": "2021-11-16T19:38:38.769Z"
   },
   {
    "duration": 3,
    "start_time": "2021-11-16T19:38:38.844Z"
   },
   {
    "duration": 98,
    "start_time": "2021-11-16T19:38:38.848Z"
   },
   {
    "duration": 2,
    "start_time": "2021-11-16T19:38:38.948Z"
   },
   {
    "duration": 76,
    "start_time": "2021-11-16T19:38:38.953Z"
   },
   {
    "duration": 2,
    "start_time": "2021-11-16T19:38:39.031Z"
   },
   {
    "duration": 85,
    "start_time": "2021-11-16T19:38:39.034Z"
   },
   {
    "duration": 2,
    "start_time": "2021-11-16T19:38:39.121Z"
   },
   {
    "duration": 77,
    "start_time": "2021-11-16T19:38:39.124Z"
   },
   {
    "duration": 821,
    "start_time": "2021-11-17T06:42:09.997Z"
   },
   {
    "duration": 46,
    "start_time": "2021-11-17T06:42:10.821Z"
   },
   {
    "duration": 3,
    "start_time": "2021-11-17T06:42:10.871Z"
   },
   {
    "duration": 249,
    "start_time": "2021-11-17T06:42:10.877Z"
   },
   {
    "duration": 22,
    "start_time": "2021-11-17T06:42:11.128Z"
   },
   {
    "duration": 3,
    "start_time": "2021-11-17T06:42:11.152Z"
   },
   {
    "duration": 66,
    "start_time": "2021-11-17T06:42:11.157Z"
   },
   {
    "duration": 8,
    "start_time": "2021-11-17T06:42:11.227Z"
   },
   {
    "duration": 8,
    "start_time": "2021-11-17T06:42:11.238Z"
   },
   {
    "duration": 66,
    "start_time": "2021-11-17T06:42:11.248Z"
   },
   {
    "duration": 10,
    "start_time": "2021-11-17T06:42:11.316Z"
   },
   {
    "duration": 6,
    "start_time": "2021-11-17T06:42:11.328Z"
   },
   {
    "duration": 96,
    "start_time": "2021-11-17T06:42:11.336Z"
   },
   {
    "duration": 10,
    "start_time": "2021-11-17T06:42:11.435Z"
   },
   {
    "duration": 5,
    "start_time": "2021-11-17T06:42:11.447Z"
   },
   {
    "duration": 84,
    "start_time": "2021-11-17T06:42:11.454Z"
   },
   {
    "duration": 11,
    "start_time": "2021-11-17T06:42:11.540Z"
   },
   {
    "duration": 5,
    "start_time": "2021-11-17T06:42:11.553Z"
   },
   {
    "duration": 76,
    "start_time": "2021-11-17T06:42:11.561Z"
   },
   {
    "duration": 3,
    "start_time": "2021-11-17T06:42:11.640Z"
   },
   {
    "duration": 94,
    "start_time": "2021-11-17T06:42:11.645Z"
   },
   {
    "duration": 4,
    "start_time": "2021-11-17T06:42:11.741Z"
   },
   {
    "duration": 74,
    "start_time": "2021-11-17T06:42:11.749Z"
   },
   {
    "duration": 3,
    "start_time": "2021-11-17T06:42:11.825Z"
   },
   {
    "duration": 79,
    "start_time": "2021-11-17T06:42:11.830Z"
   },
   {
    "duration": 3,
    "start_time": "2021-11-17T06:42:11.911Z"
   },
   {
    "duration": 73,
    "start_time": "2021-11-17T06:42:11.916Z"
   },
   {
    "duration": 3,
    "start_time": "2021-11-17T06:43:36.652Z"
   },
   {
    "duration": 733,
    "start_time": "2021-11-17T06:43:37.883Z"
   },
   {
    "duration": 3,
    "start_time": "2021-11-17T06:43:40.300Z"
   },
   {
    "duration": 73,
    "start_time": "2021-11-17T06:43:42.486Z"
   },
   {
    "duration": 3,
    "start_time": "2021-11-17T06:44:04.844Z"
   },
   {
    "duration": 645,
    "start_time": "2021-11-17T06:44:06.311Z"
   },
   {
    "duration": 476,
    "start_time": "2021-11-17T06:44:09.960Z"
   },
   {
    "duration": 4,
    "start_time": "2021-11-17T06:44:12.442Z"
   },
   {
    "duration": 74,
    "start_time": "2021-11-17T06:44:13.743Z"
   },
   {
    "duration": 3,
    "start_time": "2021-11-17T06:48:13.244Z"
   },
   {
    "duration": 83,
    "start_time": "2021-11-17T06:48:39.564Z"
   },
   {
    "duration": 873,
    "start_time": "2021-11-17T07:08:30.511Z"
   },
   {
    "duration": 53,
    "start_time": "2021-11-17T07:08:31.386Z"
   },
   {
    "duration": 4,
    "start_time": "2021-11-17T07:08:31.446Z"
   },
   {
    "duration": 258,
    "start_time": "2021-11-17T07:08:31.452Z"
   },
   {
    "duration": 23,
    "start_time": "2021-11-17T07:08:31.712Z"
   },
   {
    "duration": 8,
    "start_time": "2021-11-17T07:08:31.738Z"
   },
   {
    "duration": 66,
    "start_time": "2021-11-17T07:08:31.750Z"
   },
   {
    "duration": 8,
    "start_time": "2021-11-17T07:08:31.820Z"
   },
   {
    "duration": 12,
    "start_time": "2021-11-17T07:08:31.831Z"
   },
   {
    "duration": 71,
    "start_time": "2021-11-17T07:08:31.845Z"
   },
   {
    "duration": 9,
    "start_time": "2021-11-17T07:08:31.919Z"
   },
   {
    "duration": 14,
    "start_time": "2021-11-17T07:08:31.931Z"
   },
   {
    "duration": 104,
    "start_time": "2021-11-17T07:08:31.947Z"
   },
   {
    "duration": 15,
    "start_time": "2021-11-17T07:08:32.053Z"
   },
   {
    "duration": 9,
    "start_time": "2021-11-17T07:08:32.070Z"
   },
   {
    "duration": 85,
    "start_time": "2021-11-17T07:08:32.081Z"
   },
   {
    "duration": 13,
    "start_time": "2021-11-17T07:08:32.169Z"
   },
   {
    "duration": 6,
    "start_time": "2021-11-17T07:08:32.185Z"
   },
   {
    "duration": 70,
    "start_time": "2021-11-17T07:08:32.194Z"
   },
   {
    "duration": 3,
    "start_time": "2021-11-17T07:08:32.267Z"
   },
   {
    "duration": 86,
    "start_time": "2021-11-17T07:08:32.273Z"
   },
   {
    "duration": 3,
    "start_time": "2021-11-17T07:08:32.366Z"
   },
   {
    "duration": 83,
    "start_time": "2021-11-17T07:08:32.372Z"
   },
   {
    "duration": 4,
    "start_time": "2021-11-17T07:08:32.458Z"
   },
   {
    "duration": 97,
    "start_time": "2021-11-17T07:08:32.465Z"
   },
   {
    "duration": 4,
    "start_time": "2021-11-17T07:08:32.565Z"
   },
   {
    "duration": 73,
    "start_time": "2021-11-17T07:08:32.571Z"
   },
   {
    "duration": 4,
    "start_time": "2021-11-17T07:14:23.924Z"
   },
   {
    "duration": 6,
    "start_time": "2021-11-17T07:14:26.252Z"
   },
   {
    "duration": 4,
    "start_time": "2021-11-17T07:14:27.567Z"
   },
   {
    "duration": 203,
    "start_time": "2021-11-17T07:14:28.973Z"
   },
   {
    "duration": 11,
    "start_time": "2021-11-17T07:14:30.777Z"
   },
   {
    "duration": 857,
    "start_time": "2021-11-17T07:15:02.836Z"
   },
   {
    "duration": 43,
    "start_time": "2021-11-17T07:15:03.695Z"
   },
   {
    "duration": 4,
    "start_time": "2021-11-17T07:15:03.741Z"
   },
   {
    "duration": 229,
    "start_time": "2021-11-17T07:15:03.748Z"
   },
   {
    "duration": 22,
    "start_time": "2021-11-17T07:15:03.979Z"
   },
   {
    "duration": 13,
    "start_time": "2021-11-17T07:15:04.003Z"
   },
   {
    "duration": 66,
    "start_time": "2021-11-17T07:15:04.018Z"
   },
   {
    "duration": 9,
    "start_time": "2021-11-17T07:15:04.086Z"
   },
   {
    "duration": 4,
    "start_time": "2021-11-17T07:15:04.099Z"
   },
   {
    "duration": 66,
    "start_time": "2021-11-17T07:15:04.105Z"
   },
   {
    "duration": 8,
    "start_time": "2021-11-17T07:15:04.174Z"
   },
   {
    "duration": 5,
    "start_time": "2021-11-17T07:15:04.185Z"
   },
   {
    "duration": 72,
    "start_time": "2021-11-17T07:15:04.192Z"
   },
   {
    "duration": 10,
    "start_time": "2021-11-17T07:15:04.266Z"
   },
   {
    "duration": 16,
    "start_time": "2021-11-17T07:15:04.278Z"
   },
   {
    "duration": 63,
    "start_time": "2021-11-17T07:15:04.296Z"
   },
   {
    "duration": 10,
    "start_time": "2021-11-17T07:15:04.362Z"
   },
   {
    "duration": 10,
    "start_time": "2021-11-17T07:15:04.374Z"
   },
   {
    "duration": 69,
    "start_time": "2021-11-17T07:15:04.386Z"
   },
   {
    "duration": 3,
    "start_time": "2021-11-17T07:15:04.458Z"
   },
   {
    "duration": 97,
    "start_time": "2021-11-17T07:15:04.463Z"
   },
   {
    "duration": 3,
    "start_time": "2021-11-17T07:15:04.562Z"
   },
   {
    "duration": 76,
    "start_time": "2021-11-17T07:15:04.567Z"
   },
   {
    "duration": 4,
    "start_time": "2021-11-17T07:15:04.645Z"
   },
   {
    "duration": 78,
    "start_time": "2021-11-17T07:15:04.651Z"
   },
   {
    "duration": 4,
    "start_time": "2021-11-17T07:15:04.731Z"
   },
   {
    "duration": 67,
    "start_time": "2021-11-17T07:15:04.739Z"
   },
   {
    "duration": 105,
    "start_time": "2021-11-17T07:16:23.148Z"
   },
   {
    "duration": 4,
    "start_time": "2021-11-17T09:32:45.622Z"
   },
   {
    "duration": 435,
    "start_time": "2021-11-17T09:32:55.452Z"
   },
   {
    "duration": 4,
    "start_time": "2021-11-17T09:33:08.300Z"
   },
   {
    "duration": 75,
    "start_time": "2021-11-17T09:33:08.339Z"
   },
   {
    "duration": 3,
    "start_time": "2021-11-17T09:33:40.322Z"
   },
   {
    "duration": 70,
    "start_time": "2021-11-17T09:33:45.207Z"
   },
   {
    "duration": 12,
    "start_time": "2021-11-17T10:47:20.307Z"
   },
   {
    "duration": 4,
    "start_time": "2021-11-17T10:49:11.588Z"
   },
   {
    "duration": 348,
    "start_time": "2021-11-17T10:49:13.454Z"
   },
   {
    "duration": 194,
    "start_time": "2021-11-17T10:49:13.610Z"
   },
   {
    "duration": 4,
    "start_time": "2021-11-17T10:49:39.268Z"
   },
   {
    "duration": 71,
    "start_time": "2021-11-17T10:49:40.874Z"
   },
   {
    "duration": 10,
    "start_time": "2021-11-17T10:49:58.419Z"
   },
   {
    "duration": 4,
    "start_time": "2021-11-17T10:51:04.207Z"
   },
   {
    "duration": 383,
    "start_time": "2021-11-17T10:51:05.567Z"
   },
   {
    "duration": 3,
    "start_time": "2021-11-17T10:51:44.513Z"
   },
   {
    "duration": 339,
    "start_time": "2021-11-17T10:51:45.978Z"
   },
   {
    "duration": 4,
    "start_time": "2021-11-17T10:51:59.941Z"
   },
   {
    "duration": 73,
    "start_time": "2021-11-17T10:52:01.794Z"
   },
   {
    "duration": 73,
    "start_time": "2021-11-17T10:52:01.870Z"
   },
   {
    "duration": 4,
    "start_time": "2021-11-17T10:53:03.644Z"
   },
   {
    "duration": 1868,
    "start_time": "2021-11-17T10:53:05.024Z"
   },
   {
    "duration": 805,
    "start_time": "2021-11-17T10:56:51.302Z"
   },
   {
    "duration": 40,
    "start_time": "2021-11-17T10:56:52.110Z"
   },
   {
    "duration": 14,
    "start_time": "2021-11-17T10:56:52.153Z"
   },
   {
    "duration": 205,
    "start_time": "2021-11-17T10:56:52.171Z"
   },
   {
    "duration": 23,
    "start_time": "2021-11-17T10:56:52.378Z"
   },
   {
    "duration": 9,
    "start_time": "2021-11-17T10:56:52.403Z"
   },
   {
    "duration": 58,
    "start_time": "2021-11-17T10:56:52.415Z"
   },
   {
    "duration": 8,
    "start_time": "2021-11-17T10:56:52.477Z"
   },
   {
    "duration": 8,
    "start_time": "2021-11-17T10:56:52.488Z"
   },
   {
    "duration": 64,
    "start_time": "2021-11-17T10:56:52.499Z"
   },
   {
    "duration": 9,
    "start_time": "2021-11-17T10:56:52.565Z"
   },
   {
    "duration": 8,
    "start_time": "2021-11-17T10:56:52.576Z"
   },
   {
    "duration": 60,
    "start_time": "2021-11-17T10:56:52.586Z"
   },
   {
    "duration": 10,
    "start_time": "2021-11-17T10:56:52.648Z"
   },
   {
    "duration": 12,
    "start_time": "2021-11-17T10:56:52.661Z"
   },
   {
    "duration": 59,
    "start_time": "2021-11-17T10:56:52.675Z"
   },
   {
    "duration": 10,
    "start_time": "2021-11-17T10:56:52.736Z"
   },
   {
    "duration": 9,
    "start_time": "2021-11-17T10:56:52.749Z"
   },
   {
    "duration": 62,
    "start_time": "2021-11-17T10:56:52.760Z"
   },
   {
    "duration": 3,
    "start_time": "2021-11-17T10:56:52.825Z"
   },
   {
    "duration": 96,
    "start_time": "2021-11-17T10:56:52.830Z"
   },
   {
    "duration": 3,
    "start_time": "2021-11-17T10:56:52.929Z"
   },
   {
    "duration": 65,
    "start_time": "2021-11-17T10:56:52.936Z"
   },
   {
    "duration": 4,
    "start_time": "2021-11-17T10:56:53.004Z"
   },
   {
    "duration": 70,
    "start_time": "2021-11-17T10:56:53.010Z"
   },
   {
    "duration": 3,
    "start_time": "2021-11-17T10:56:53.082Z"
   },
   {
    "duration": 66,
    "start_time": "2021-11-17T10:56:53.087Z"
   },
   {
    "duration": 628,
    "start_time": "2021-11-18T04:33:44.753Z"
   },
   {
    "duration": 25,
    "start_time": "2021-11-18T04:33:45.383Z"
   },
   {
    "duration": 2,
    "start_time": "2021-11-18T04:33:45.410Z"
   },
   {
    "duration": 267,
    "start_time": "2021-11-18T04:33:45.414Z"
   },
   {
    "duration": 15,
    "start_time": "2021-11-18T04:33:45.682Z"
   },
   {
    "duration": 5,
    "start_time": "2021-11-18T04:33:45.699Z"
   },
   {
    "duration": 66,
    "start_time": "2021-11-18T04:33:45.705Z"
   },
   {
    "duration": 6,
    "start_time": "2021-11-18T04:33:45.774Z"
   },
   {
    "duration": 4,
    "start_time": "2021-11-18T04:33:45.782Z"
   },
   {
    "duration": 67,
    "start_time": "2021-11-18T04:33:45.788Z"
   },
   {
    "duration": 6,
    "start_time": "2021-11-18T04:33:45.857Z"
   },
   {
    "duration": 4,
    "start_time": "2021-11-18T04:33:45.865Z"
   },
   {
    "duration": 65,
    "start_time": "2021-11-18T04:33:45.870Z"
   },
   {
    "duration": 7,
    "start_time": "2021-11-18T04:33:45.937Z"
   },
   {
    "duration": 4,
    "start_time": "2021-11-18T04:33:45.946Z"
   },
   {
    "duration": 65,
    "start_time": "2021-11-18T04:33:45.951Z"
   },
   {
    "duration": 7,
    "start_time": "2021-11-18T04:33:46.018Z"
   },
   {
    "duration": 5,
    "start_time": "2021-11-18T04:33:46.026Z"
   },
   {
    "duration": 71,
    "start_time": "2021-11-18T04:33:46.033Z"
   },
   {
    "duration": 2,
    "start_time": "2021-11-18T04:33:46.106Z"
   },
   {
    "duration": 119,
    "start_time": "2021-11-18T04:33:46.110Z"
   },
   {
    "duration": 2,
    "start_time": "2021-11-18T04:33:46.231Z"
   },
   {
    "duration": 72,
    "start_time": "2021-11-18T04:33:46.236Z"
   },
   {
    "duration": 3,
    "start_time": "2021-11-18T04:33:46.309Z"
   },
   {
    "duration": 78,
    "start_time": "2021-11-18T04:33:46.313Z"
   },
   {
    "duration": 2,
    "start_time": "2021-11-18T04:33:46.392Z"
   },
   {
    "duration": 69,
    "start_time": "2021-11-18T04:33:46.396Z"
   }
  ],
  "kernelspec": {
   "display_name": "Python 3",
   "language": "python",
   "name": "python3"
  },
  "language_info": {
   "codemirror_mode": {
    "name": "ipython",
    "version": 3
   },
   "file_extension": ".py",
   "mimetype": "text/x-python",
   "name": "python",
   "nbconvert_exporter": "python",
   "pygments_lexer": "ipython3",
   "version": "3.7.8"
  },
  "toc": {
   "base_numbering": 1,
   "nav_menu": {},
   "number_sections": true,
   "sideBar": true,
   "skip_h1_title": true,
   "title_cell": "Table of Contents",
   "title_sidebar": "Contents",
   "toc_cell": false,
   "toc_position": {},
   "toc_section_display": true,
   "toc_window_display": false
  }
 },
 "nbformat": 4,
 "nbformat_minor": 2
}
