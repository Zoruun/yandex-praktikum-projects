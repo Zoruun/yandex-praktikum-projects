{
 "cells": [
  {
   "cell_type": "markdown",
   "metadata": {},
   "source": [
    "# Банки — Сегментация пользователей по потреблению"
   ]
  },
  {
   "cell_type": "markdown",
   "metadata": {},
   "source": [
    "Задачи проекта:\n",
    "- Провести исследовательский анализ данных;\n",
    "- Сформировать портреты пользователей на основе данных о количестве потребляемых продуктов;\n",
    "- Сформулировать и проверить 2 статистические гипотезы:\n",
    "\n",
    "\n",
    "1) Проверить гипотезу о различии доходов между клиентами, которые пользуются двумя продуктами банка, и клиентами, которые пользуются одним.\n",
    "\n",
    "2) Проверить гипотезу о различии количетсва баллов скоринга, у клиентов, которые пользуются двумя продуктами банка, и клиентами, которые пользуются одним.\n",
    "\n",
    "- Сделать общий вывод и предложить рекомендации для удержания клиентов.\n",
    "- Ссылка на презентацию: https://www.canva.com/design/DAEvCX-4gdo/1RaoeufuVo5-H3qxgTUVLQ/view?utm_content=DAEvCX-4gdo&utm_campaign=designshare&utm_medium=link&utm_source=sharebutton\n",
    "- Ссылка на дашборд: https://public.tableau.com/app/profile/zorun/viz/Book3_16362773254090/Sheet3?publish=yes"
   ]
  },
  {
   "cell_type": "markdown",
   "metadata": {},
   "source": [
    "## Шаг №1. Загрузка данных и подготовка их к анализу"
   ]
  },
  {
   "cell_type": "code",
   "execution_count": 1,
   "metadata": {},
   "outputs": [],
   "source": [
    "#импортируем необходимые библиотеки\n",
    "\n",
    "import pandas as pd\n",
    "import seaborn as sns\n",
    "import matplotlib.pyplot as plt\n",
    "import scipy.stats as stats\n",
    "import numpy as np\n",
    "from scipy import stats as st"
   ]
  },
  {
   "cell_type": "code",
   "execution_count": 2,
   "metadata": {},
   "outputs": [
    {
     "data": {
      "text/html": [
       "<div>\n",
       "<style scoped>\n",
       "    .dataframe tbody tr th:only-of-type {\n",
       "        vertical-align: middle;\n",
       "    }\n",
       "\n",
       "    .dataframe tbody tr th {\n",
       "        vertical-align: top;\n",
       "    }\n",
       "\n",
       "    .dataframe thead th {\n",
       "        text-align: right;\n",
       "    }\n",
       "</style>\n",
       "<table border=\"1\" class=\"dataframe\">\n",
       "  <thead>\n",
       "    <tr style=\"text-align: right;\">\n",
       "      <th></th>\n",
       "      <th>userid</th>\n",
       "      <th>score</th>\n",
       "      <th>City</th>\n",
       "      <th>Gender</th>\n",
       "      <th>Age</th>\n",
       "      <th>Objects</th>\n",
       "      <th>Balance</th>\n",
       "      <th>Products</th>\n",
       "      <th>CreditCard</th>\n",
       "      <th>Loyalty</th>\n",
       "      <th>estimated_salary</th>\n",
       "      <th>Churn</th>\n",
       "    </tr>\n",
       "  </thead>\n",
       "  <tbody>\n",
       "    <tr>\n",
       "      <td>0</td>\n",
       "      <td>15677338</td>\n",
       "      <td>619</td>\n",
       "      <td>Ярославль</td>\n",
       "      <td>Ж</td>\n",
       "      <td>42</td>\n",
       "      <td>2</td>\n",
       "      <td>NaN</td>\n",
       "      <td>1</td>\n",
       "      <td>1</td>\n",
       "      <td>1</td>\n",
       "      <td>101348.88</td>\n",
       "      <td>1</td>\n",
       "    </tr>\n",
       "    <tr>\n",
       "      <td>1</td>\n",
       "      <td>15690047</td>\n",
       "      <td>608</td>\n",
       "      <td>Рыбинск</td>\n",
       "      <td>Ж</td>\n",
       "      <td>41</td>\n",
       "      <td>1</td>\n",
       "      <td>83807.86</td>\n",
       "      <td>1</td>\n",
       "      <td>0</td>\n",
       "      <td>1</td>\n",
       "      <td>112542.58</td>\n",
       "      <td>0</td>\n",
       "    </tr>\n",
       "    <tr>\n",
       "      <td>2</td>\n",
       "      <td>15662040</td>\n",
       "      <td>502</td>\n",
       "      <td>Ярославль</td>\n",
       "      <td>Ж</td>\n",
       "      <td>42</td>\n",
       "      <td>8</td>\n",
       "      <td>159660.80</td>\n",
       "      <td>3</td>\n",
       "      <td>1</td>\n",
       "      <td>0</td>\n",
       "      <td>113931.57</td>\n",
       "      <td>1</td>\n",
       "    </tr>\n",
       "    <tr>\n",
       "      <td>3</td>\n",
       "      <td>15744090</td>\n",
       "      <td>699</td>\n",
       "      <td>Ярославль</td>\n",
       "      <td>Ж</td>\n",
       "      <td>39</td>\n",
       "      <td>1</td>\n",
       "      <td>NaN</td>\n",
       "      <td>2</td>\n",
       "      <td>0</td>\n",
       "      <td>0</td>\n",
       "      <td>93826.63</td>\n",
       "      <td>0</td>\n",
       "    </tr>\n",
       "    <tr>\n",
       "      <td>4</td>\n",
       "      <td>15780624</td>\n",
       "      <td>850</td>\n",
       "      <td>Рыбинск</td>\n",
       "      <td>Ж</td>\n",
       "      <td>43</td>\n",
       "      <td>2</td>\n",
       "      <td>125510.82</td>\n",
       "      <td>1</td>\n",
       "      <td>1</td>\n",
       "      <td>1</td>\n",
       "      <td>79084.10</td>\n",
       "      <td>0</td>\n",
       "    </tr>\n",
       "  </tbody>\n",
       "</table>\n",
       "</div>"
      ],
      "text/plain": [
       "     userid  score       City Gender  Age  Objects    Balance  Products  \\\n",
       "0  15677338    619  Ярославль      Ж   42        2        NaN         1   \n",
       "1  15690047    608    Рыбинск      Ж   41        1   83807.86         1   \n",
       "2  15662040    502  Ярославль      Ж   42        8  159660.80         3   \n",
       "3  15744090    699  Ярославль      Ж   39        1        NaN         2   \n",
       "4  15780624    850    Рыбинск      Ж   43        2  125510.82         1   \n",
       "\n",
       "   CreditCard  Loyalty  estimated_salary  Churn  \n",
       "0           1        1         101348.88      1  \n",
       "1           0        1         112542.58      0  \n",
       "2           1        0         113931.57      1  \n",
       "3           0        0          93826.63      0  \n",
       "4           1        1          79084.10      0  "
      ]
     },
     "execution_count": 2,
     "metadata": {},
     "output_type": "execute_result"
    }
   ],
   "source": [
    "bank = pd.read_csv('/datasets/bank_dataset.csv')\n",
    "bank.head(5)"
   ]
  },
  {
   "cell_type": "code",
   "execution_count": 3,
   "metadata": {},
   "outputs": [
    {
     "data": {
      "text/plain": [
       "0"
      ]
     },
     "execution_count": 3,
     "metadata": {},
     "output_type": "execute_result"
    }
   ],
   "source": [
    "# Проверим таблицу на дубликаты\n",
    "bank.duplicated().sum()"
   ]
  },
  {
   "cell_type": "code",
   "execution_count": 4,
   "metadata": {},
   "outputs": [
    {
     "name": "stdout",
     "output_type": "stream",
     "text": [
      "<class 'pandas.core.frame.DataFrame'>\n",
      "RangeIndex: 10000 entries, 0 to 9999\n",
      "Data columns (total 12 columns):\n",
      "userid              10000 non-null int64\n",
      "score               10000 non-null int64\n",
      "City                10000 non-null object\n",
      "Gender              10000 non-null object\n",
      "Age                 10000 non-null int64\n",
      "Objects             10000 non-null int64\n",
      "Balance             6383 non-null float64\n",
      "Products            10000 non-null int64\n",
      "CreditCard          10000 non-null int64\n",
      "Loyalty             10000 non-null int64\n",
      "estimated_salary    10000 non-null float64\n",
      "Churn               10000 non-null int64\n",
      "dtypes: float64(2), int64(8), object(2)\n",
      "memory usage: 937.6+ KB\n"
     ]
    }
   ],
   "source": [
    "# посмотрим основную информацию по таблице bank\n",
    "bank.info()"
   ]
  },
  {
   "cell_type": "markdown",
   "metadata": {},
   "source": [
    "Типы данных соотвествуют данным для каждого из столбцов."
   ]
  },
  {
   "cell_type": "markdown",
   "metadata": {},
   "source": [
    "### Вывод"
   ]
  },
  {
   "cell_type": "markdown",
   "metadata": {},
   "source": [
    "Таблица имеет 10 000 сток и 12 столбцов:\n",
    "\n",
    "- userid — идентификатор пользователя,\n",
    "- score — баллы кредитного скоринга (рейтинг одобрения кредита от 350 до 850 баллов),\n",
    "- City — город,\n",
    "- Gender — пол,\n",
    "- Age — возраст,\n",
    "- Objects — количество объектов в собственности,\n",
    "- Balance — баланс на счёте,\n",
    "- Products — количество продуктов, которыми пользуется клиент,\n",
    "- CreditCard — наличие кредитной карты, где 1 - есть, 0 - нет.\n",
    "- Loyalty — активный клиент, где 1 - да, 0 - нет.\n",
    "- estimated_salary — заработная плата клиента,\n",
    "- Churn — параметр оттока, где 1 - ушёл, 0 - остался.\n",
    "\n",
    "В таблице нет дубликатов, типы данных соотвествуют данным для каждого из столбцов."
   ]
  },
  {
   "cell_type": "markdown",
   "metadata": {},
   "source": [
    "## Шаг №2. Исследовательский анализ данных"
   ]
  },
  {
   "cell_type": "markdown",
   "metadata": {},
   "source": [
    "Есть пропуски в столбце с балансом, рассмотрим поподробнее."
   ]
  },
  {
   "cell_type": "code",
   "execution_count": 5,
   "metadata": {},
   "outputs": [
    {
     "data": {
      "text/html": [
       "<div>\n",
       "<style scoped>\n",
       "    .dataframe tbody tr th:only-of-type {\n",
       "        vertical-align: middle;\n",
       "    }\n",
       "\n",
       "    .dataframe tbody tr th {\n",
       "        vertical-align: top;\n",
       "    }\n",
       "\n",
       "    .dataframe thead th {\n",
       "        text-align: right;\n",
       "    }\n",
       "</style>\n",
       "<table border=\"1\" class=\"dataframe\">\n",
       "  <thead>\n",
       "    <tr style=\"text-align: right;\">\n",
       "      <th></th>\n",
       "      <th>userid</th>\n",
       "      <th>score</th>\n",
       "      <th>City</th>\n",
       "      <th>Gender</th>\n",
       "      <th>Age</th>\n",
       "      <th>Objects</th>\n",
       "      <th>Balance</th>\n",
       "      <th>Products</th>\n",
       "      <th>CreditCard</th>\n",
       "      <th>Loyalty</th>\n",
       "      <th>estimated_salary</th>\n",
       "      <th>Churn</th>\n",
       "    </tr>\n",
       "  </thead>\n",
       "  <tbody>\n",
       "    <tr>\n",
       "      <td>0</td>\n",
       "      <td>15677338</td>\n",
       "      <td>619</td>\n",
       "      <td>Ярославль</td>\n",
       "      <td>Ж</td>\n",
       "      <td>42</td>\n",
       "      <td>2</td>\n",
       "      <td>NaN</td>\n",
       "      <td>1</td>\n",
       "      <td>1</td>\n",
       "      <td>1</td>\n",
       "      <td>101348.88</td>\n",
       "      <td>1</td>\n",
       "    </tr>\n",
       "    <tr>\n",
       "      <td>3</td>\n",
       "      <td>15744090</td>\n",
       "      <td>699</td>\n",
       "      <td>Ярославль</td>\n",
       "      <td>Ж</td>\n",
       "      <td>39</td>\n",
       "      <td>1</td>\n",
       "      <td>NaN</td>\n",
       "      <td>2</td>\n",
       "      <td>0</td>\n",
       "      <td>0</td>\n",
       "      <td>93826.63</td>\n",
       "      <td>0</td>\n",
       "    </tr>\n",
       "    <tr>\n",
       "      <td>6</td>\n",
       "      <td>15635267</td>\n",
       "      <td>822</td>\n",
       "      <td>Ярославль</td>\n",
       "      <td>М</td>\n",
       "      <td>50</td>\n",
       "      <td>7</td>\n",
       "      <td>NaN</td>\n",
       "      <td>2</td>\n",
       "      <td>1</td>\n",
       "      <td>1</td>\n",
       "      <td>10062.80</td>\n",
       "      <td>0</td>\n",
       "    </tr>\n",
       "    <tr>\n",
       "      <td>11</td>\n",
       "      <td>15779909</td>\n",
       "      <td>497</td>\n",
       "      <td>Рыбинск</td>\n",
       "      <td>М</td>\n",
       "      <td>24</td>\n",
       "      <td>3</td>\n",
       "      <td>NaN</td>\n",
       "      <td>2</td>\n",
       "      <td>1</td>\n",
       "      <td>0</td>\n",
       "      <td>76390.01</td>\n",
       "      <td>0</td>\n",
       "    </tr>\n",
       "    <tr>\n",
       "      <td>12</td>\n",
       "      <td>15675000</td>\n",
       "      <td>476</td>\n",
       "      <td>Ярославль</td>\n",
       "      <td>Ж</td>\n",
       "      <td>34</td>\n",
       "      <td>10</td>\n",
       "      <td>NaN</td>\n",
       "      <td>2</td>\n",
       "      <td>1</td>\n",
       "      <td>0</td>\n",
       "      <td>26260.98</td>\n",
       "      <td>0</td>\n",
       "    </tr>\n",
       "    <tr>\n",
       "      <td>...</td>\n",
       "      <td>...</td>\n",
       "      <td>...</td>\n",
       "      <td>...</td>\n",
       "      <td>...</td>\n",
       "      <td>...</td>\n",
       "      <td>...</td>\n",
       "      <td>...</td>\n",
       "      <td>...</td>\n",
       "      <td>...</td>\n",
       "      <td>...</td>\n",
       "      <td>...</td>\n",
       "      <td>...</td>\n",
       "    </tr>\n",
       "    <tr>\n",
       "      <td>9989</td>\n",
       "      <td>15648358</td>\n",
       "      <td>841</td>\n",
       "      <td>Рыбинск</td>\n",
       "      <td>М</td>\n",
       "      <td>28</td>\n",
       "      <td>4</td>\n",
       "      <td>NaN</td>\n",
       "      <td>2</td>\n",
       "      <td>1</td>\n",
       "      <td>1</td>\n",
       "      <td>179436.60</td>\n",
       "      <td>0</td>\n",
       "    </tr>\n",
       "    <tr>\n",
       "      <td>9992</td>\n",
       "      <td>15699841</td>\n",
       "      <td>726</td>\n",
       "      <td>Рыбинск</td>\n",
       "      <td>М</td>\n",
       "      <td>36</td>\n",
       "      <td>2</td>\n",
       "      <td>NaN</td>\n",
       "      <td>1</td>\n",
       "      <td>1</td>\n",
       "      <td>0</td>\n",
       "      <td>195192.40</td>\n",
       "      <td>0</td>\n",
       "    </tr>\n",
       "    <tr>\n",
       "      <td>9994</td>\n",
       "      <td>15762030</td>\n",
       "      <td>800</td>\n",
       "      <td>Ярославль</td>\n",
       "      <td>Ж</td>\n",
       "      <td>29</td>\n",
       "      <td>2</td>\n",
       "      <td>NaN</td>\n",
       "      <td>2</td>\n",
       "      <td>0</td>\n",
       "      <td>0</td>\n",
       "      <td>167773.55</td>\n",
       "      <td>0</td>\n",
       "    </tr>\n",
       "    <tr>\n",
       "      <td>9995</td>\n",
       "      <td>15648965</td>\n",
       "      <td>771</td>\n",
       "      <td>Ярославль</td>\n",
       "      <td>М</td>\n",
       "      <td>39</td>\n",
       "      <td>5</td>\n",
       "      <td>NaN</td>\n",
       "      <td>2</td>\n",
       "      <td>1</td>\n",
       "      <td>0</td>\n",
       "      <td>96270.64</td>\n",
       "      <td>0</td>\n",
       "    </tr>\n",
       "    <tr>\n",
       "      <td>9997</td>\n",
       "      <td>15627268</td>\n",
       "      <td>709</td>\n",
       "      <td>Ярославль</td>\n",
       "      <td>Ж</td>\n",
       "      <td>36</td>\n",
       "      <td>7</td>\n",
       "      <td>NaN</td>\n",
       "      <td>1</td>\n",
       "      <td>0</td>\n",
       "      <td>1</td>\n",
       "      <td>42085.58</td>\n",
       "      <td>1</td>\n",
       "    </tr>\n",
       "  </tbody>\n",
       "</table>\n",
       "<p>3617 rows × 12 columns</p>\n",
       "</div>"
      ],
      "text/plain": [
       "        userid  score       City Gender  Age  Objects  Balance  Products  \\\n",
       "0     15677338    619  Ярославль      Ж   42        2      NaN         1   \n",
       "3     15744090    699  Ярославль      Ж   39        1      NaN         2   \n",
       "6     15635267    822  Ярославль      М   50        7      NaN         2   \n",
       "11    15779909    497    Рыбинск      М   24        3      NaN         2   \n",
       "12    15675000    476  Ярославль      Ж   34       10      NaN         2   \n",
       "...        ...    ...        ...    ...  ...      ...      ...       ...   \n",
       "9989  15648358    841    Рыбинск      М   28        4      NaN         2   \n",
       "9992  15699841    726    Рыбинск      М   36        2      NaN         1   \n",
       "9994  15762030    800  Ярославль      Ж   29        2      NaN         2   \n",
       "9995  15648965    771  Ярославль      М   39        5      NaN         2   \n",
       "9997  15627268    709  Ярославль      Ж   36        7      NaN         1   \n",
       "\n",
       "      CreditCard  Loyalty  estimated_salary  Churn  \n",
       "0              1        1         101348.88      1  \n",
       "3              0        0          93826.63      0  \n",
       "6              1        1          10062.80      0  \n",
       "11             1        0          76390.01      0  \n",
       "12             1        0          26260.98      0  \n",
       "...          ...      ...               ...    ...  \n",
       "9989           1        1         179436.60      0  \n",
       "9992           1        0         195192.40      0  \n",
       "9994           0        0         167773.55      0  \n",
       "9995           1        0          96270.64      0  \n",
       "9997           0        1          42085.58      1  \n",
       "\n",
       "[3617 rows x 12 columns]"
      ]
     },
     "execution_count": 5,
     "metadata": {},
     "output_type": "execute_result"
    }
   ],
   "source": [
    "bank[bank['Balance'].isnull()]"
   ]
  },
  {
   "cell_type": "code",
   "execution_count": 6,
   "metadata": {},
   "outputs": [
    {
     "data": {
      "text/plain": [
       "CreditCard  Products\n",
       "0           1           1506\n",
       "            2           1344\n",
       "            3             76\n",
       "            4             19\n",
       "1           1           3578\n",
       "            2           3246\n",
       "            3            190\n",
       "            4             41\n",
       "Name: Products, dtype: int64"
      ]
     },
     "execution_count": 6,
     "metadata": {},
     "output_type": "execute_result"
    }
   ],
   "source": [
    "# Посмотрим в разрезе по наличию кредитной карты, сколько продуктов клиенты имеют в банке\n",
    "bank.groupby('CreditCard')['Products'].value_counts()"
   ]
  },
  {
   "cell_type": "code",
   "execution_count": 7,
   "metadata": {},
   "outputs": [
    {
     "data": {
      "text/plain": [
       "CreditCard  Products\n",
       "0           2            742\n",
       "            1            248\n",
       "            3             30\n",
       "            4              5\n",
       "1           2           1858\n",
       "            1            657\n",
       "            3             68\n",
       "            4              9\n",
       "Name: Products, dtype: int64"
      ]
     },
     "execution_count": 7,
     "metadata": {},
     "output_type": "execute_result"
    }
   ],
   "source": [
    "# Сделаем такой же разрез, но для клиентов у которых в поле баланса пропущенное значение\n",
    "bank[bank['Balance'].isnull()].groupby('CreditCard')['Products'].value_counts()"
   ]
  },
  {
   "cell_type": "markdown",
   "metadata": {},
   "source": [
    "В столбце с балансом есть 3617 пропущенных значений (36%), это большой показатель, потому я не могу их удалить. Заменить их на среднее или медиану тоже \"опасно\", т.к. я не вижу закономерности. "
   ]
  },
  {
   "cell_type": "code",
   "execution_count": 8,
   "metadata": {},
   "outputs": [
    {
     "data": {
      "text/html": [
       "<div>\n",
       "<style scoped>\n",
       "    .dataframe tbody tr th:only-of-type {\n",
       "        vertical-align: middle;\n",
       "    }\n",
       "\n",
       "    .dataframe tbody tr th {\n",
       "        vertical-align: top;\n",
       "    }\n",
       "\n",
       "    .dataframe thead th {\n",
       "        text-align: right;\n",
       "    }\n",
       "</style>\n",
       "<table border=\"1\" class=\"dataframe\">\n",
       "  <thead>\n",
       "    <tr style=\"text-align: right;\">\n",
       "      <th></th>\n",
       "      <th>userid</th>\n",
       "      <th>score</th>\n",
       "      <th>Age</th>\n",
       "      <th>Objects</th>\n",
       "      <th>Balance</th>\n",
       "      <th>Products</th>\n",
       "      <th>CreditCard</th>\n",
       "      <th>Loyalty</th>\n",
       "      <th>estimated_salary</th>\n",
       "      <th>Churn</th>\n",
       "    </tr>\n",
       "  </thead>\n",
       "  <tbody>\n",
       "    <tr>\n",
       "      <td>count</td>\n",
       "      <td>1.000000e+04</td>\n",
       "      <td>10000.000000</td>\n",
       "      <td>10000.000000</td>\n",
       "      <td>10000.000000</td>\n",
       "      <td>6383.000000</td>\n",
       "      <td>10000.000000</td>\n",
       "      <td>10000.00000</td>\n",
       "      <td>10000.000000</td>\n",
       "      <td>10000.000000</td>\n",
       "      <td>10000.000000</td>\n",
       "    </tr>\n",
       "    <tr>\n",
       "      <td>mean</td>\n",
       "      <td>1.573368e+07</td>\n",
       "      <td>650.528800</td>\n",
       "      <td>38.921800</td>\n",
       "      <td>5.012800</td>\n",
       "      <td>119827.493793</td>\n",
       "      <td>1.530200</td>\n",
       "      <td>0.70550</td>\n",
       "      <td>0.515100</td>\n",
       "      <td>100090.239881</td>\n",
       "      <td>0.203700</td>\n",
       "    </tr>\n",
       "    <tr>\n",
       "      <td>std</td>\n",
       "      <td>7.193619e+04</td>\n",
       "      <td>96.653299</td>\n",
       "      <td>10.487806</td>\n",
       "      <td>2.892174</td>\n",
       "      <td>30095.056462</td>\n",
       "      <td>0.581654</td>\n",
       "      <td>0.45584</td>\n",
       "      <td>0.499797</td>\n",
       "      <td>57510.492818</td>\n",
       "      <td>0.402769</td>\n",
       "    </tr>\n",
       "    <tr>\n",
       "      <td>min</td>\n",
       "      <td>1.560844e+07</td>\n",
       "      <td>350.000000</td>\n",
       "      <td>18.000000</td>\n",
       "      <td>0.000000</td>\n",
       "      <td>3768.690000</td>\n",
       "      <td>1.000000</td>\n",
       "      <td>0.00000</td>\n",
       "      <td>0.000000</td>\n",
       "      <td>11.580000</td>\n",
       "      <td>0.000000</td>\n",
       "    </tr>\n",
       "    <tr>\n",
       "      <td>25%</td>\n",
       "      <td>1.567126e+07</td>\n",
       "      <td>584.000000</td>\n",
       "      <td>32.000000</td>\n",
       "      <td>3.000000</td>\n",
       "      <td>100181.975000</td>\n",
       "      <td>1.000000</td>\n",
       "      <td>0.00000</td>\n",
       "      <td>0.000000</td>\n",
       "      <td>51002.110000</td>\n",
       "      <td>0.000000</td>\n",
       "    </tr>\n",
       "    <tr>\n",
       "      <td>50%</td>\n",
       "      <td>1.573347e+07</td>\n",
       "      <td>652.000000</td>\n",
       "      <td>37.000000</td>\n",
       "      <td>5.000000</td>\n",
       "      <td>119839.690000</td>\n",
       "      <td>1.000000</td>\n",
       "      <td>1.00000</td>\n",
       "      <td>1.000000</td>\n",
       "      <td>100193.915000</td>\n",
       "      <td>0.000000</td>\n",
       "    </tr>\n",
       "    <tr>\n",
       "      <td>75%</td>\n",
       "      <td>1.579597e+07</td>\n",
       "      <td>718.000000</td>\n",
       "      <td>44.000000</td>\n",
       "      <td>7.000000</td>\n",
       "      <td>139512.290000</td>\n",
       "      <td>2.000000</td>\n",
       "      <td>1.00000</td>\n",
       "      <td>1.000000</td>\n",
       "      <td>149388.247500</td>\n",
       "      <td>0.000000</td>\n",
       "    </tr>\n",
       "    <tr>\n",
       "      <td>max</td>\n",
       "      <td>1.585843e+07</td>\n",
       "      <td>850.000000</td>\n",
       "      <td>92.000000</td>\n",
       "      <td>10.000000</td>\n",
       "      <td>250898.090000</td>\n",
       "      <td>4.000000</td>\n",
       "      <td>1.00000</td>\n",
       "      <td>1.000000</td>\n",
       "      <td>199992.480000</td>\n",
       "      <td>1.000000</td>\n",
       "    </tr>\n",
       "  </tbody>\n",
       "</table>\n",
       "</div>"
      ],
      "text/plain": [
       "             userid         score           Age       Objects        Balance  \\\n",
       "count  1.000000e+04  10000.000000  10000.000000  10000.000000    6383.000000   \n",
       "mean   1.573368e+07    650.528800     38.921800      5.012800  119827.493793   \n",
       "std    7.193619e+04     96.653299     10.487806      2.892174   30095.056462   \n",
       "min    1.560844e+07    350.000000     18.000000      0.000000    3768.690000   \n",
       "25%    1.567126e+07    584.000000     32.000000      3.000000  100181.975000   \n",
       "50%    1.573347e+07    652.000000     37.000000      5.000000  119839.690000   \n",
       "75%    1.579597e+07    718.000000     44.000000      7.000000  139512.290000   \n",
       "max    1.585843e+07    850.000000     92.000000     10.000000  250898.090000   \n",
       "\n",
       "           Products   CreditCard       Loyalty  estimated_salary         Churn  \n",
       "count  10000.000000  10000.00000  10000.000000      10000.000000  10000.000000  \n",
       "mean       1.530200      0.70550      0.515100     100090.239881      0.203700  \n",
       "std        0.581654      0.45584      0.499797      57510.492818      0.402769  \n",
       "min        1.000000      0.00000      0.000000         11.580000      0.000000  \n",
       "25%        1.000000      0.00000      0.000000      51002.110000      0.000000  \n",
       "50%        1.000000      1.00000      1.000000     100193.915000      0.000000  \n",
       "75%        2.000000      1.00000      1.000000     149388.247500      0.000000  \n",
       "max        4.000000      1.00000      1.000000     199992.480000      1.000000  "
      ]
     },
     "execution_count": 8,
     "metadata": {},
     "output_type": "execute_result"
    }
   ],
   "source": [
    "# Посмотрим основные числовые характеристики для нашей таблицы\n",
    "bank.describe()"
   ]
  },
  {
   "cell_type": "code",
   "execution_count": 9,
   "metadata": {},
   "outputs": [
    {
     "data": {
      "text/plain": [
       "Churn  Loyalty\n",
       "0      1          4416\n",
       "       0          3547\n",
       "1      0          1302\n",
       "       1           735\n",
       "Name: Loyalty, dtype: int64"
      ]
     },
     "execution_count": 9,
     "metadata": {},
     "output_type": "execute_result"
    }
   ],
   "source": [
    "# Посмотрим в разрезе по параметру оттока, сколько активных клиентов в банке\n",
    "bank.groupby('Churn')['Loyalty'].value_counts()"
   ]
  },
  {
   "cell_type": "markdown",
   "metadata": {},
   "source": [
    "Столбец Score (кредитный скоринг), где минимальное 350 и максимальное 850, среднее и медиана составляют 650. Это говорит о том, что больше 50% клиентов имеют кредитный скоринг с возможностью одобрения 54% (если 350 брать за 0% и 850  за 100%)\n",
    "\n",
    "Столбец Age (возраст) имеет медиану в 37 лет, и среднее в 39 лет. Это говорит о том, что есть клиенты с большим возрастом, которые меняют среднее. Максимальный возвраст в таблице 92 года.\n",
    "\n",
    "Столбец Objects (кол-во объектов в собственности) имеет среднее и медианное в 5 объектов на клиента.\n",
    "\n",
    "Столбец Balance (баланс на счете) имеет и среднюю и медиану в 119 800 рублей.\n",
    "\n",
    "Столбец Products (количество продуктов, каким пользуется клиент) имеет среднее в 1,5 продукта, и медиану в 1. Это говорит о том, что есть небольшая группа клиентов, которая пользуется большим количеством продуктов, чем большинство и тем самым меняют среднее значение.\n",
    "\n",
    "Столбец CreditCard (наличие кредитной карты) указывает среднее 0,7, значит 70% клиентов имеют кредитную карту.\n",
    "\n",
    "Столбец Loyalty (активный клиент, где 1 - да, 0 - нет) указывает среднее 0,51, что говорит о том, что 51% клиентов активны.\n",
    "\n",
    "Столбец estimated_salary (заработная плата клиента) имеет среднее и медиану в 100 000 рублей.\n",
    "\n",
    "Столбец Churn (параметр оттока клиента, где 1 - что клиент покинул банк, 0 - является его клиентом на данный момент) имеет среднее в 0,2, что означает, что только 20% клиентов закрыли все свои счета в данном банке. Из данных 20%: 13% не были активными клиентами, возможно они уже давно не пользовались услугами банка, и 7% были активными клиентами и закрыли все свои счета."
   ]
  },
  {
   "cell_type": "markdown",
   "metadata": {},
   "source": [
    "### Вывод"
   ]
  },
  {
   "cell_type": "markdown",
   "metadata": {},
   "source": [
    "В столбце с балансом есть 3617 пропущенных (36%). Это большой показатель, потому я не могу их удалить. Заменить их на среднее или медиану тоже \"опасно\", т.к. я не вижу закономерности. \n",
    "\n",
    "Могу предположить следующие причины появления пропусков:\n",
    "\n",
    "- Есть какое-то количество клиентов, которые не пользуются услугами банка, который подразумевает баланс на счёте. Например, только кредит или ипотека.\n",
    "- В таблице есть новые клиенты, которые ещё не успели пополнить баланс на момент выгрузки.\n",
    "- Возможно была и какая-то техническая ошибка при выгрузке.\n",
    "\n",
    "По основным числовым характеристикам можем сделать следующие выводы:\n",
    " - Средний возраст клиентов от 37 до 39 лет.\n",
    " - В среднем клиент имеет 5 объектов в собственности, зарплату в 100 000 рублей и баланс на счёте в 120 000.\n",
    " - 70% клиентов имеют кредиткую карту.\n",
    " - 51% клиентов являются активными пользователями банка.\n",
    " - В основном клиеты пользуются только один продуктом банка, и небольшая группа людей пользуется большим количеством продуктов.\n",
    " - 20% клиентов закрыло все расчётные счета в данном банке, из них на момент выгрузки только 7% являлись активными пользователями услуг банка. 13% на момент выгрузки были неактивными клиентами."
   ]
  },
  {
   "cell_type": "markdown",
   "metadata": {},
   "source": [
    "## Шаг 3. Описание портретов пользователей на основе данных о количестве потребляемых продуктов"
   ]
  },
  {
   "cell_type": "code",
   "execution_count": 10,
   "metadata": {},
   "outputs": [
    {
     "data": {
      "text/html": [
       "<div>\n",
       "<style scoped>\n",
       "    .dataframe tbody tr th:only-of-type {\n",
       "        vertical-align: middle;\n",
       "    }\n",
       "\n",
       "    .dataframe tbody tr th {\n",
       "        vertical-align: top;\n",
       "    }\n",
       "\n",
       "    .dataframe thead th {\n",
       "        text-align: right;\n",
       "    }\n",
       "</style>\n",
       "<table border=\"1\" class=\"dataframe\">\n",
       "  <thead>\n",
       "    <tr style=\"text-align: right;\">\n",
       "      <th></th>\n",
       "      <th>userid</th>\n",
       "      <th>score</th>\n",
       "      <th>Age</th>\n",
       "      <th>Objects</th>\n",
       "      <th>Balance</th>\n",
       "      <th>Products</th>\n",
       "      <th>CreditCard</th>\n",
       "      <th>Loyalty</th>\n",
       "      <th>estimated_salary</th>\n",
       "      <th>Churn</th>\n",
       "    </tr>\n",
       "  </thead>\n",
       "  <tbody>\n",
       "    <tr>\n",
       "      <td>count</td>\n",
       "      <td>5.084000e+03</td>\n",
       "      <td>5084.000000</td>\n",
       "      <td>5084.000000</td>\n",
       "      <td>5084.000000</td>\n",
       "      <td>4179.000000</td>\n",
       "      <td>5084.0</td>\n",
       "      <td>5084.000000</td>\n",
       "      <td>5084.000000</td>\n",
       "      <td>5084.000000</td>\n",
       "      <td>5084.000000</td>\n",
       "    </tr>\n",
       "    <tr>\n",
       "      <td>mean</td>\n",
       "      <td>1.573237e+07</td>\n",
       "      <td>649.120968</td>\n",
       "      <td>39.673092</td>\n",
       "      <td>4.974626</td>\n",
       "      <td>119894.163723</td>\n",
       "      <td>1.0</td>\n",
       "      <td>0.703777</td>\n",
       "      <td>0.504131</td>\n",
       "      <td>99487.256851</td>\n",
       "      <td>0.277144</td>\n",
       "    </tr>\n",
       "    <tr>\n",
       "      <td>std</td>\n",
       "      <td>7.216578e+04</td>\n",
       "      <td>97.203710</td>\n",
       "      <td>10.659566</td>\n",
       "      <td>2.914269</td>\n",
       "      <td>29804.134035</td>\n",
       "      <td>0.0</td>\n",
       "      <td>0.456636</td>\n",
       "      <td>0.500032</td>\n",
       "      <td>57363.626412</td>\n",
       "      <td>0.447632</td>\n",
       "    </tr>\n",
       "    <tr>\n",
       "      <td>min</td>\n",
       "      <td>1.560844e+07</td>\n",
       "      <td>350.000000</td>\n",
       "      <td>18.000000</td>\n",
       "      <td>0.000000</td>\n",
       "      <td>12459.190000</td>\n",
       "      <td>1.0</td>\n",
       "      <td>0.000000</td>\n",
       "      <td>0.000000</td>\n",
       "      <td>11.580000</td>\n",
       "      <td>0.000000</td>\n",
       "    </tr>\n",
       "    <tr>\n",
       "      <td>25%</td>\n",
       "      <td>1.566940e+07</td>\n",
       "      <td>581.000000</td>\n",
       "      <td>32.000000</td>\n",
       "      <td>2.000000</td>\n",
       "      <td>100440.185000</td>\n",
       "      <td>1.0</td>\n",
       "      <td>0.000000</td>\n",
       "      <td>0.000000</td>\n",
       "      <td>50414.515000</td>\n",
       "      <td>0.000000</td>\n",
       "    </tr>\n",
       "    <tr>\n",
       "      <td>50%</td>\n",
       "      <td>1.573206e+07</td>\n",
       "      <td>651.000000</td>\n",
       "      <td>38.000000</td>\n",
       "      <td>5.000000</td>\n",
       "      <td>119919.120000</td>\n",
       "      <td>1.0</td>\n",
       "      <td>1.000000</td>\n",
       "      <td>1.000000</td>\n",
       "      <td>99226.830000</td>\n",
       "      <td>0.000000</td>\n",
       "    </tr>\n",
       "    <tr>\n",
       "      <td>75%</td>\n",
       "      <td>1.579434e+07</td>\n",
       "      <td>717.000000</td>\n",
       "      <td>45.000000</td>\n",
       "      <td>7.000000</td>\n",
       "      <td>139442.110000</td>\n",
       "      <td>1.0</td>\n",
       "      <td>1.000000</td>\n",
       "      <td>1.000000</td>\n",
       "      <td>148212.695000</td>\n",
       "      <td>1.000000</td>\n",
       "    </tr>\n",
       "    <tr>\n",
       "      <td>max</td>\n",
       "      <td>1.585843e+07</td>\n",
       "      <td>850.000000</td>\n",
       "      <td>92.000000</td>\n",
       "      <td>10.000000</td>\n",
       "      <td>238387.560000</td>\n",
       "      <td>1.0</td>\n",
       "      <td>1.000000</td>\n",
       "      <td>1.000000</td>\n",
       "      <td>199970.740000</td>\n",
       "      <td>1.000000</td>\n",
       "    </tr>\n",
       "  </tbody>\n",
       "</table>\n",
       "</div>"
      ],
      "text/plain": [
       "             userid        score          Age      Objects        Balance  \\\n",
       "count  5.084000e+03  5084.000000  5084.000000  5084.000000    4179.000000   \n",
       "mean   1.573237e+07   649.120968    39.673092     4.974626  119894.163723   \n",
       "std    7.216578e+04    97.203710    10.659566     2.914269   29804.134035   \n",
       "min    1.560844e+07   350.000000    18.000000     0.000000   12459.190000   \n",
       "25%    1.566940e+07   581.000000    32.000000     2.000000  100440.185000   \n",
       "50%    1.573206e+07   651.000000    38.000000     5.000000  119919.120000   \n",
       "75%    1.579434e+07   717.000000    45.000000     7.000000  139442.110000   \n",
       "max    1.585843e+07   850.000000    92.000000    10.000000  238387.560000   \n",
       "\n",
       "       Products   CreditCard      Loyalty  estimated_salary        Churn  \n",
       "count    5084.0  5084.000000  5084.000000       5084.000000  5084.000000  \n",
       "mean        1.0     0.703777     0.504131      99487.256851     0.277144  \n",
       "std         0.0     0.456636     0.500032      57363.626412     0.447632  \n",
       "min         1.0     0.000000     0.000000         11.580000     0.000000  \n",
       "25%         1.0     0.000000     0.000000      50414.515000     0.000000  \n",
       "50%         1.0     1.000000     1.000000      99226.830000     0.000000  \n",
       "75%         1.0     1.000000     1.000000     148212.695000     1.000000  \n",
       "max         1.0     1.000000     1.000000     199970.740000     1.000000  "
      ]
     },
     "execution_count": 10,
     "metadata": {},
     "output_type": "execute_result"
    }
   ],
   "source": [
    "# Посмотрим основные числовые характеристики для нашей таблицы для клиентов, какие используют один продукт банка\n",
    "bank[bank.Products == 1].describe()"
   ]
  },
  {
   "cell_type": "code",
   "execution_count": 11,
   "metadata": {},
   "outputs": [
    {
     "data": {
      "text/plain": [
       "Churn  Loyalty\n",
       "0      1          2078\n",
       "       0          1597\n",
       "1      0           924\n",
       "       1           485\n",
       "Name: Loyalty, dtype: int64"
      ]
     },
     "execution_count": 11,
     "metadata": {},
     "output_type": "execute_result"
    }
   ],
   "source": [
    "# Посмотрим в разрезе по параметру оттока, сколько активных клиентов, использующих 1 продукт банка\n",
    "bank[bank.Products == 1].groupby('Churn')['Loyalty'].value_counts()"
   ]
  },
  {
   "cell_type": "markdown",
   "metadata": {},
   "source": [
    "Все столбцы показывают те же показатели, что и для всей таблице. \n",
    "\n",
    "Только в столбце Churn (момент оттока) указывает, что из клиентов, пользующихся одинм продуктом банка, 27% закрыло все расчётные счёта, из них 9% клиентов были активными пользователями. 18% на момент выгрузки были неактивными клиентами"
   ]
  },
  {
   "cell_type": "code",
   "execution_count": 12,
   "metadata": {},
   "outputs": [
    {
     "data": {
      "text/html": [
       "<div>\n",
       "<style scoped>\n",
       "    .dataframe tbody tr th:only-of-type {\n",
       "        vertical-align: middle;\n",
       "    }\n",
       "\n",
       "    .dataframe tbody tr th {\n",
       "        vertical-align: top;\n",
       "    }\n",
       "\n",
       "    .dataframe thead th {\n",
       "        text-align: right;\n",
       "    }\n",
       "</style>\n",
       "<table border=\"1\" class=\"dataframe\">\n",
       "  <thead>\n",
       "    <tr style=\"text-align: right;\">\n",
       "      <th></th>\n",
       "      <th>userid</th>\n",
       "      <th>score</th>\n",
       "      <th>Age</th>\n",
       "      <th>Objects</th>\n",
       "      <th>Balance</th>\n",
       "      <th>Products</th>\n",
       "      <th>CreditCard</th>\n",
       "      <th>Loyalty</th>\n",
       "      <th>estimated_salary</th>\n",
       "      <th>Churn</th>\n",
       "    </tr>\n",
       "  </thead>\n",
       "  <tbody>\n",
       "    <tr>\n",
       "      <td>count</td>\n",
       "      <td>4.590000e+03</td>\n",
       "      <td>4590.000000</td>\n",
       "      <td>4590.000000</td>\n",
       "      <td>4590.000000</td>\n",
       "      <td>1990.000000</td>\n",
       "      <td>4590.0</td>\n",
       "      <td>4590.000000</td>\n",
       "      <td>4590.000000</td>\n",
       "      <td>4590.000000</td>\n",
       "      <td>4590.000000</td>\n",
       "    </tr>\n",
       "    <tr>\n",
       "      <td>mean</td>\n",
       "      <td>1.573484e+07</td>\n",
       "      <td>652.188671</td>\n",
       "      <td>37.753595</td>\n",
       "      <td>5.051852</td>\n",
       "      <td>119660.944362</td>\n",
       "      <td>2.0</td>\n",
       "      <td>0.707190</td>\n",
       "      <td>0.532898</td>\n",
       "      <td>100452.012821</td>\n",
       "      <td>0.075817</td>\n",
       "    </tr>\n",
       "    <tr>\n",
       "      <td>std</td>\n",
       "      <td>7.156542e+04</td>\n",
       "      <td>96.066831</td>\n",
       "      <td>10.145663</td>\n",
       "      <td>2.867741</td>\n",
       "      <td>30647.376666</td>\n",
       "      <td>0.0</td>\n",
       "      <td>0.455102</td>\n",
       "      <td>0.498971</td>\n",
       "      <td>57790.799984</td>\n",
       "      <td>0.264734</td>\n",
       "    </tr>\n",
       "    <tr>\n",
       "      <td>min</td>\n",
       "      <td>1.560845e+07</td>\n",
       "      <td>350.000000</td>\n",
       "      <td>18.000000</td>\n",
       "      <td>0.000000</td>\n",
       "      <td>3768.690000</td>\n",
       "      <td>2.0</td>\n",
       "      <td>0.000000</td>\n",
       "      <td>0.000000</td>\n",
       "      <td>90.070000</td>\n",
       "      <td>0.000000</td>\n",
       "    </tr>\n",
       "    <tr>\n",
       "      <td>25%</td>\n",
       "      <td>1.567420e+07</td>\n",
       "      <td>586.000000</td>\n",
       "      <td>31.000000</td>\n",
       "      <td>3.000000</td>\n",
       "      <td>99179.367500</td>\n",
       "      <td>2.0</td>\n",
       "      <td>0.000000</td>\n",
       "      <td>0.000000</td>\n",
       "      <td>50797.287500</td>\n",
       "      <td>0.000000</td>\n",
       "    </tr>\n",
       "    <tr>\n",
       "      <td>50%</td>\n",
       "      <td>1.573578e+07</td>\n",
       "      <td>653.000000</td>\n",
       "      <td>36.000000</td>\n",
       "      <td>5.000000</td>\n",
       "      <td>119762.245000</td>\n",
       "      <td>2.0</td>\n",
       "      <td>1.000000</td>\n",
       "      <td>1.000000</td>\n",
       "      <td>100738.855000</td>\n",
       "      <td>0.000000</td>\n",
       "    </tr>\n",
       "    <tr>\n",
       "      <td>75%</td>\n",
       "      <td>1.579700e+07</td>\n",
       "      <td>719.000000</td>\n",
       "      <td>42.000000</td>\n",
       "      <td>7.000000</td>\n",
       "      <td>139556.932500</td>\n",
       "      <td>2.0</td>\n",
       "      <td>1.000000</td>\n",
       "      <td>1.000000</td>\n",
       "      <td>150151.460000</td>\n",
       "      <td>0.000000</td>\n",
       "    </tr>\n",
       "    <tr>\n",
       "      <td>max</td>\n",
       "      <td>1.585838e+07</td>\n",
       "      <td>850.000000</td>\n",
       "      <td>92.000000</td>\n",
       "      <td>10.000000</td>\n",
       "      <td>214346.960000</td>\n",
       "      <td>2.0</td>\n",
       "      <td>1.000000</td>\n",
       "      <td>1.000000</td>\n",
       "      <td>199992.480000</td>\n",
       "      <td>1.000000</td>\n",
       "    </tr>\n",
       "  </tbody>\n",
       "</table>\n",
       "</div>"
      ],
      "text/plain": [
       "             userid        score          Age      Objects        Balance  \\\n",
       "count  4.590000e+03  4590.000000  4590.000000  4590.000000    1990.000000   \n",
       "mean   1.573484e+07   652.188671    37.753595     5.051852  119660.944362   \n",
       "std    7.156542e+04    96.066831    10.145663     2.867741   30647.376666   \n",
       "min    1.560845e+07   350.000000    18.000000     0.000000    3768.690000   \n",
       "25%    1.567420e+07   586.000000    31.000000     3.000000   99179.367500   \n",
       "50%    1.573578e+07   653.000000    36.000000     5.000000  119762.245000   \n",
       "75%    1.579700e+07   719.000000    42.000000     7.000000  139556.932500   \n",
       "max    1.585838e+07   850.000000    92.000000    10.000000  214346.960000   \n",
       "\n",
       "       Products   CreditCard      Loyalty  estimated_salary        Churn  \n",
       "count    4590.0  4590.000000  4590.000000       4590.000000  4590.000000  \n",
       "mean        2.0     0.707190     0.532898     100452.012821     0.075817  \n",
       "std         0.0     0.455102     0.498971      57790.799984     0.264734  \n",
       "min         2.0     0.000000     0.000000         90.070000     0.000000  \n",
       "25%         2.0     0.000000     0.000000      50797.287500     0.000000  \n",
       "50%         2.0     1.000000     1.000000     100738.855000     0.000000  \n",
       "75%         2.0     1.000000     1.000000     150151.460000     0.000000  \n",
       "max         2.0     1.000000     1.000000     199992.480000     1.000000  "
      ]
     },
     "execution_count": 12,
     "metadata": {},
     "output_type": "execute_result"
    }
   ],
   "source": [
    "# Посмотрим основные числовые характеристики для нашей таблицы для клиентов, какие используют два продукта банка\n",
    "bank[bank.Products == 2].describe()"
   ]
  },
  {
   "cell_type": "code",
   "execution_count": 13,
   "metadata": {},
   "outputs": [
    {
     "data": {
      "text/plain": [
       "Churn  Loyalty\n",
       "0      1          2310\n",
       "       0          1932\n",
       "1      0           212\n",
       "       1           136\n",
       "Name: Loyalty, dtype: int64"
      ]
     },
     "execution_count": 13,
     "metadata": {},
     "output_type": "execute_result"
    }
   ],
   "source": [
    "# Посмотрим в разрезе по параметру оттока, сколько активных клиентов, использующих 2 продукта банка\n",
    "bank[bank.Products == 2].groupby('Churn')['Loyalty'].value_counts()"
   ]
  },
  {
   "cell_type": "markdown",
   "metadata": {},
   "source": [
    "Клиенты, которые имеют два продукта банка, отличаются чуть более молодым возрастом 36-38 лет, когда для всей таблицы характерен возраст 37-39.\n",
    "\n",
    "Активность состаляет 53% против 51% по всей таблице.\n",
    "\n",
    "И среди данных клиентов всего 7% пользователей закрыло все расчётные счета, их которых активных было всего 3%. 4% на момент выгрузки уже являлись неактивными клиентами."
   ]
  },
  {
   "cell_type": "code",
   "execution_count": 14,
   "metadata": {},
   "outputs": [
    {
     "data": {
      "text/html": [
       "<div>\n",
       "<style scoped>\n",
       "    .dataframe tbody tr th:only-of-type {\n",
       "        vertical-align: middle;\n",
       "    }\n",
       "\n",
       "    .dataframe tbody tr th {\n",
       "        vertical-align: top;\n",
       "    }\n",
       "\n",
       "    .dataframe thead th {\n",
       "        text-align: right;\n",
       "    }\n",
       "</style>\n",
       "<table border=\"1\" class=\"dataframe\">\n",
       "  <thead>\n",
       "    <tr style=\"text-align: right;\">\n",
       "      <th></th>\n",
       "      <th>userid</th>\n",
       "      <th>score</th>\n",
       "      <th>Age</th>\n",
       "      <th>Objects</th>\n",
       "      <th>Balance</th>\n",
       "      <th>Products</th>\n",
       "      <th>CreditCard</th>\n",
       "      <th>Loyalty</th>\n",
       "      <th>estimated_salary</th>\n",
       "      <th>Churn</th>\n",
       "    </tr>\n",
       "  </thead>\n",
       "  <tbody>\n",
       "    <tr>\n",
       "      <td>count</td>\n",
       "      <td>2.660000e+02</td>\n",
       "      <td>266.000000</td>\n",
       "      <td>266.000000</td>\n",
       "      <td>266.000000</td>\n",
       "      <td>168.000000</td>\n",
       "      <td>266.0</td>\n",
       "      <td>266.000000</td>\n",
       "      <td>266.000000</td>\n",
       "      <td>266.000000</td>\n",
       "      <td>266.000000</td>\n",
       "    </tr>\n",
       "    <tr>\n",
       "      <td>mean</td>\n",
       "      <td>1.574182e+07</td>\n",
       "      <td>648.105263</td>\n",
       "      <td>43.195489</td>\n",
       "      <td>5.003759</td>\n",
       "      <td>119475.686310</td>\n",
       "      <td>3.0</td>\n",
       "      <td>0.714286</td>\n",
       "      <td>0.424812</td>\n",
       "      <td>104318.130564</td>\n",
       "      <td>0.827068</td>\n",
       "    </tr>\n",
       "    <tr>\n",
       "      <td>std</td>\n",
       "      <td>7.395279e+04</td>\n",
       "      <td>95.190396</td>\n",
       "      <td>10.422008</td>\n",
       "      <td>2.879332</td>\n",
       "      <td>31504.871935</td>\n",
       "      <td>0.0</td>\n",
       "      <td>0.452606</td>\n",
       "      <td>0.495246</td>\n",
       "      <td>55464.281426</td>\n",
       "      <td>0.378902</td>\n",
       "    </tr>\n",
       "    <tr>\n",
       "      <td>min</td>\n",
       "      <td>1.560905e+07</td>\n",
       "      <td>358.000000</td>\n",
       "      <td>21.000000</td>\n",
       "      <td>0.000000</td>\n",
       "      <td>43772.660000</td>\n",
       "      <td>3.0</td>\n",
       "      <td>0.000000</td>\n",
       "      <td>0.000000</td>\n",
       "      <td>3440.470000</td>\n",
       "      <td>0.000000</td>\n",
       "    </tr>\n",
       "    <tr>\n",
       "      <td>25%</td>\n",
       "      <td>1.568224e+07</td>\n",
       "      <td>586.000000</td>\n",
       "      <td>36.000000</td>\n",
       "      <td>3.000000</td>\n",
       "      <td>100741.587500</td>\n",
       "      <td>3.0</td>\n",
       "      <td>0.000000</td>\n",
       "      <td>0.000000</td>\n",
       "      <td>64344.800000</td>\n",
       "      <td>1.000000</td>\n",
       "    </tr>\n",
       "    <tr>\n",
       "      <td>50%</td>\n",
       "      <td>1.574438e+07</td>\n",
       "      <td>650.000000</td>\n",
       "      <td>42.000000</td>\n",
       "      <td>5.000000</td>\n",
       "      <td>118118.190000</td>\n",
       "      <td>3.0</td>\n",
       "      <td>1.000000</td>\n",
       "      <td>0.000000</td>\n",
       "      <td>101046.885000</td>\n",
       "      <td>1.000000</td>\n",
       "    </tr>\n",
       "    <tr>\n",
       "      <td>75%</td>\n",
       "      <td>1.580754e+07</td>\n",
       "      <td>711.000000</td>\n",
       "      <td>50.000000</td>\n",
       "      <td>8.000000</td>\n",
       "      <td>139714.815000</td>\n",
       "      <td>3.0</td>\n",
       "      <td>1.000000</td>\n",
       "      <td>1.000000</td>\n",
       "      <td>152230.195000</td>\n",
       "      <td>1.000000</td>\n",
       "    </tr>\n",
       "    <tr>\n",
       "      <td>max</td>\n",
       "      <td>1.585823e+07</td>\n",
       "      <td>850.000000</td>\n",
       "      <td>77.000000</td>\n",
       "      <td>10.000000</td>\n",
       "      <td>250898.090000</td>\n",
       "      <td>3.0</td>\n",
       "      <td>1.000000</td>\n",
       "      <td>1.000000</td>\n",
       "      <td>199357.240000</td>\n",
       "      <td>1.000000</td>\n",
       "    </tr>\n",
       "  </tbody>\n",
       "</table>\n",
       "</div>"
      ],
      "text/plain": [
       "             userid       score         Age     Objects        Balance  \\\n",
       "count  2.660000e+02  266.000000  266.000000  266.000000     168.000000   \n",
       "mean   1.574182e+07  648.105263   43.195489    5.003759  119475.686310   \n",
       "std    7.395279e+04   95.190396   10.422008    2.879332   31504.871935   \n",
       "min    1.560905e+07  358.000000   21.000000    0.000000   43772.660000   \n",
       "25%    1.568224e+07  586.000000   36.000000    3.000000  100741.587500   \n",
       "50%    1.574438e+07  650.000000   42.000000    5.000000  118118.190000   \n",
       "75%    1.580754e+07  711.000000   50.000000    8.000000  139714.815000   \n",
       "max    1.585823e+07  850.000000   77.000000   10.000000  250898.090000   \n",
       "\n",
       "       Products  CreditCard     Loyalty  estimated_salary       Churn  \n",
       "count     266.0  266.000000  266.000000        266.000000  266.000000  \n",
       "mean        3.0    0.714286    0.424812     104318.130564    0.827068  \n",
       "std         0.0    0.452606    0.495246      55464.281426    0.378902  \n",
       "min         3.0    0.000000    0.000000       3440.470000    0.000000  \n",
       "25%         3.0    0.000000    0.000000      64344.800000    1.000000  \n",
       "50%         3.0    1.000000    0.000000     101046.885000    1.000000  \n",
       "75%         3.0    1.000000    1.000000     152230.195000    1.000000  \n",
       "max         3.0    1.000000    1.000000     199357.240000    1.000000  "
      ]
     },
     "execution_count": 14,
     "metadata": {},
     "output_type": "execute_result"
    }
   ],
   "source": [
    "# Посмотрим основные числовые характеристики для нашей таблицы для клиентов, какие используют три продукта банка\n",
    "bank[bank.Products == 3].describe()"
   ]
  },
  {
   "cell_type": "code",
   "execution_count": 15,
   "metadata": {},
   "outputs": [
    {
     "data": {
      "text/plain": [
       "Churn  Loyalty\n",
       "0      1           28\n",
       "       0           18\n",
       "1      0          135\n",
       "       1           85\n",
       "Name: Loyalty, dtype: int64"
      ]
     },
     "execution_count": 15,
     "metadata": {},
     "output_type": "execute_result"
    }
   ],
   "source": [
    "# Посмотрим в разрезе по параметру оттока, сколько активных клиентов, использующих 2 продукта банка\n",
    "bank[bank.Products == 3].groupby('Churn')['Loyalty'].value_counts()"
   ]
  },
  {
   "cell_type": "markdown",
   "metadata": {},
   "source": [
    "Клиенты, которые используют 3 продукта банка, имеют более зрелый возраст, 42-43 года, когда для всей таблицы характерен возраст 37-39 лет.\n",
    "\n",
    "Активность состаляет 49% против 51% по всей таблице.\n",
    "\n",
    "Также у данных клиентов высокий отток, который составляет 82,7%, из которых 50% были активными пользователями. 32,7% данных клиентов на момент выгрузки являлось неактивными клиентами."
   ]
  },
  {
   "cell_type": "code",
   "execution_count": 16,
   "metadata": {},
   "outputs": [
    {
     "data": {
      "text/html": [
       "<div>\n",
       "<style scoped>\n",
       "    .dataframe tbody tr th:only-of-type {\n",
       "        vertical-align: middle;\n",
       "    }\n",
       "\n",
       "    .dataframe tbody tr th {\n",
       "        vertical-align: top;\n",
       "    }\n",
       "\n",
       "    .dataframe thead th {\n",
       "        text-align: right;\n",
       "    }\n",
       "</style>\n",
       "<table border=\"1\" class=\"dataframe\">\n",
       "  <thead>\n",
       "    <tr style=\"text-align: right;\">\n",
       "      <th></th>\n",
       "      <th>userid</th>\n",
       "      <th>score</th>\n",
       "      <th>Age</th>\n",
       "      <th>Objects</th>\n",
       "      <th>Balance</th>\n",
       "      <th>Products</th>\n",
       "      <th>CreditCard</th>\n",
       "      <th>Loyalty</th>\n",
       "      <th>estimated_salary</th>\n",
       "      <th>Churn</th>\n",
       "    </tr>\n",
       "  </thead>\n",
       "  <tbody>\n",
       "    <tr>\n",
       "      <td>count</td>\n",
       "      <td>6.000000e+01</td>\n",
       "      <td>60.000000</td>\n",
       "      <td>60.000000</td>\n",
       "      <td>60.000000</td>\n",
       "      <td>46.000000</td>\n",
       "      <td>60.0</td>\n",
       "      <td>60.000000</td>\n",
       "      <td>60.000000</td>\n",
       "      <td>60.000000</td>\n",
       "      <td>60.0</td>\n",
       "    </tr>\n",
       "    <tr>\n",
       "      <td>mean</td>\n",
       "      <td>1.571936e+07</td>\n",
       "      <td>653.583333</td>\n",
       "      <td>45.683333</td>\n",
       "      <td>5.300000</td>\n",
       "      <td>122260.610870</td>\n",
       "      <td>4.0</td>\n",
       "      <td>0.683333</td>\n",
       "      <td>0.483333</td>\n",
       "      <td>104763.723333</td>\n",
       "      <td>1.0</td>\n",
       "    </tr>\n",
       "    <tr>\n",
       "      <td>std</td>\n",
       "      <td>6.814840e+04</td>\n",
       "      <td>101.265600</td>\n",
       "      <td>8.619040</td>\n",
       "      <td>2.947564</td>\n",
       "      <td>27761.150772</td>\n",
       "      <td>0.0</td>\n",
       "      <td>0.469102</td>\n",
       "      <td>0.503939</td>\n",
       "      <td>57526.494114</td>\n",
       "      <td>0.0</td>\n",
       "    </tr>\n",
       "    <tr>\n",
       "      <td>min</td>\n",
       "      <td>1.561074e+07</td>\n",
       "      <td>376.000000</td>\n",
       "      <td>29.000000</td>\n",
       "      <td>1.000000</td>\n",
       "      <td>46870.430000</td>\n",
       "      <td>4.0</td>\n",
       "      <td>0.000000</td>\n",
       "      <td>0.000000</td>\n",
       "      <td>5669.310000</td>\n",
       "      <td>1.0</td>\n",
       "    </tr>\n",
       "    <tr>\n",
       "      <td>25%</td>\n",
       "      <td>1.566638e+07</td>\n",
       "      <td>595.000000</td>\n",
       "      <td>40.000000</td>\n",
       "      <td>2.750000</td>\n",
       "      <td>112063.295000</td>\n",
       "      <td>4.0</td>\n",
       "      <td>0.000000</td>\n",
       "      <td>0.000000</td>\n",
       "      <td>62033.390000</td>\n",
       "      <td>1.0</td>\n",
       "    </tr>\n",
       "    <tr>\n",
       "      <td>50%</td>\n",
       "      <td>1.570775e+07</td>\n",
       "      <td>643.000000</td>\n",
       "      <td>45.000000</td>\n",
       "      <td>5.000000</td>\n",
       "      <td>120968.270000</td>\n",
       "      <td>4.0</td>\n",
       "      <td>1.000000</td>\n",
       "      <td>0.000000</td>\n",
       "      <td>112163.105000</td>\n",
       "      <td>1.0</td>\n",
       "    </tr>\n",
       "    <tr>\n",
       "      <td>75%</td>\n",
       "      <td>1.576341e+07</td>\n",
       "      <td>708.000000</td>\n",
       "      <td>50.250000</td>\n",
       "      <td>8.000000</td>\n",
       "      <td>135527.207500</td>\n",
       "      <td>4.0</td>\n",
       "      <td>1.000000</td>\n",
       "      <td>1.000000</td>\n",
       "      <td>139371.955000</td>\n",
       "      <td>1.0</td>\n",
       "    </tr>\n",
       "    <tr>\n",
       "      <td>max</td>\n",
       "      <td>1.585805e+07</td>\n",
       "      <td>850.000000</td>\n",
       "      <td>68.000000</td>\n",
       "      <td>10.000000</td>\n",
       "      <td>195238.290000</td>\n",
       "      <td>4.0</td>\n",
       "      <td>1.000000</td>\n",
       "      <td>1.000000</td>\n",
       "      <td>198874.520000</td>\n",
       "      <td>1.0</td>\n",
       "    </tr>\n",
       "  </tbody>\n",
       "</table>\n",
       "</div>"
      ],
      "text/plain": [
       "             userid       score        Age    Objects        Balance  \\\n",
       "count  6.000000e+01   60.000000  60.000000  60.000000      46.000000   \n",
       "mean   1.571936e+07  653.583333  45.683333   5.300000  122260.610870   \n",
       "std    6.814840e+04  101.265600   8.619040   2.947564   27761.150772   \n",
       "min    1.561074e+07  376.000000  29.000000   1.000000   46870.430000   \n",
       "25%    1.566638e+07  595.000000  40.000000   2.750000  112063.295000   \n",
       "50%    1.570775e+07  643.000000  45.000000   5.000000  120968.270000   \n",
       "75%    1.576341e+07  708.000000  50.250000   8.000000  135527.207500   \n",
       "max    1.585805e+07  850.000000  68.000000  10.000000  195238.290000   \n",
       "\n",
       "       Products  CreditCard    Loyalty  estimated_salary  Churn  \n",
       "count      60.0   60.000000  60.000000         60.000000   60.0  \n",
       "mean        4.0    0.683333   0.483333     104763.723333    1.0  \n",
       "std         0.0    0.469102   0.503939      57526.494114    0.0  \n",
       "min         4.0    0.000000   0.000000       5669.310000    1.0  \n",
       "25%         4.0    0.000000   0.000000      62033.390000    1.0  \n",
       "50%         4.0    1.000000   0.000000     112163.105000    1.0  \n",
       "75%         4.0    1.000000   1.000000     139371.955000    1.0  \n",
       "max         4.0    1.000000   1.000000     198874.520000    1.0  "
      ]
     },
     "execution_count": 16,
     "metadata": {},
     "output_type": "execute_result"
    }
   ],
   "source": [
    "# Посмотрим основные числовые характеристики для нашей таблицы для клиентов, какие используют четыре продукта банка\n",
    "bank[bank.Products == 4].describe()"
   ]
  },
  {
   "cell_type": "code",
   "execution_count": 17,
   "metadata": {},
   "outputs": [
    {
     "data": {
      "text/plain": [
       "Churn  Loyalty\n",
       "1      0          31\n",
       "       1          29\n",
       "Name: Loyalty, dtype: int64"
      ]
     },
     "execution_count": 17,
     "metadata": {},
     "output_type": "execute_result"
    }
   ],
   "source": [
    "# Посмотрим в разрезе по параметру оттока, сколько активных клиентов, использующих 2 продукта банка\n",
    "bank[bank.Products == 4].groupby('Churn')['Loyalty'].value_counts()"
   ]
  },
  {
   "cell_type": "markdown",
   "metadata": {},
   "source": [
    "Клиенты, у которых есть 4 продукта банка, имеют возраст 45-46 лет, когда для всей таблицы характерен возраст 37-39 лет.\n",
    "\n",
    "Активность состаляет 48% против 51% по всей таблице.\n",
    "\n",
    "Они имеют чуть более высокий заработок в 104-112 тысячи рублей, против 100 тысяч рублей для всей таблицы.\n",
    "\n",
    "Также их отток составляет 100% из которых, 48% на момент выгрузки были активными пользователями."
   ]
  },
  {
   "cell_type": "code",
   "execution_count": 18,
   "metadata": {},
   "outputs": [
    {
     "data": {
      "image/png": "[encoded data removed]",
      "text/plain": [
       "<Figure size 1440x720 with 4 Axes>"
      ]
     },
     "metadata": {
      "needs_background": "light"
     },
     "output_type": "display_data"
    }
   ],
   "source": [
    "# Создадим таблицу с клиентами, использующих 1 продукт\n",
    "bank_1 = bank[bank.Products == 1]\n",
    "\n",
    "# Создадим таблицу с клиентами, использующих 2 продукта\n",
    "bank_2 = bank[bank.Products == 2]\n",
    "\n",
    "# Создадим таблицу с клиентами, использующих 3 продукта\n",
    "bank_3 = bank[bank.Products == 3]\n",
    "\n",
    "# Создадим таблицу с клиентами, использующих 4 продукта\n",
    "bank_4 = bank[bank.Products == 4]\n",
    "\n",
    "# Создадим рисунок с 4 графиками в ряд\n",
    "fig, axes = plt.subplots(nrows=1, ncols=4, figsize=(20, 10))\n",
    "\n",
    "# Построим гистрограмму для столбца с годом выпуска\n",
    "\n",
    "bank_1['score'].hist(density=True, ax=axes[0])\n",
    "bank_2['score'].hist(density=True, ax=axes[1])\n",
    "bank_3['score'].hist(density=True, ax=axes[2])\n",
    "bank_4['score'].hist(density=True, ax=axes[3])\n",
    "\n",
    "# Добавим подписи для каждой колонки \n",
    "axes[0].set_title('1 продукт банка')\n",
    "axes[0].set_xlabel('Баллы скоринга')\n",
    "axes[0].set_ylabel('Плотность распределения')\n",
    "axes[1].set_title('2 продукта банка')\n",
    "axes[1].set_xlabel('Баллы скоринга')\n",
    "axes[2].set_title('3 продукта банка')\n",
    "axes[2].set_xlabel('Баллы скоринга')\n",
    "axes[3].set_title('4 продукта банка')\n",
    "axes[3].set_xlabel('Баллы скоринга')\n",
    "\n",
    "# Добавим общий заголовок\n",
    "fig.suptitle('Баллы кредитного скоринга для клиентов, использующих разное количество продуктов банка');"
   ]
  },
  {
   "cell_type": "code",
   "execution_count": 19,
   "metadata": {},
   "outputs": [
    {
     "data": {
      "image/png": "[encoded data removed]",
      "text/plain": [
       "<Figure size 1440x720 with 1 Axes>"
      ]
     },
     "metadata": {
      "needs_background": "light"
     },
     "output_type": "display_data"
    }
   ],
   "source": [
    "# Построим столбчатые график по признаку пола для клиентов, использующих разное количество продуктов банка\n",
    "fig = plt.figure(figsize=(20,10))\n",
    "\n",
    "sns.barplot(data=bank.groupby(['Gender', 'Products']).agg({'Objects': 'count'}).reset_index(),\n",
    "            x='Gender',y='Objects',hue='Products');\n",
    "\n",
    "\n",
    "# Добавим подписи к графику\n",
    "plt.title('Распределение по полу клиента и количеству потребляемых продуктов')\n",
    "plt.xlabel('Пол клиента')\n",
    "plt.ylabel('Количество клиентов');"
   ]
  },
  {
   "cell_type": "code",
   "execution_count": 20,
   "metadata": {},
   "outputs": [
    {
     "data": {
      "image/png": "[encoded data removed]",
      "text/plain": [
       "<Figure size 1440x720 with 1 Axes>"
      ]
     },
     "metadata": {
      "needs_background": "light"
     },
     "output_type": "display_data"
    }
   ],
   "source": [
    "# Построим столбчатые график по признаку пола для клиентов, использующих разное количество продуктов банка\n",
    "fig = plt.figure(figsize=(20,10))\n",
    "\n",
    "sns.barplot(data=bank.groupby(['Age', 'Products']).agg({'Objects': 'count'}).reset_index(),\n",
    "            x='Age',y='Objects',hue='Products');\n",
    "\n",
    "\n",
    "# Добавим подписи к графику\n",
    "plt.title('Распределение по возрасту и количеству потребляемых продуктов')\n",
    "plt.xlabel('Возраст')\n",
    "plt.ylabel('Количество клиентов');"
   ]
  },
  {
   "cell_type": "code",
   "execution_count": 21,
   "metadata": {},
   "outputs": [
    {
     "data": {
      "image/png": "[encoded data removed]",
      "text/plain": [
       "<Figure size 1440x720 with 1 Axes>"
      ]
     },
     "metadata": {
      "needs_background": "light"
     },
     "output_type": "display_data"
    }
   ],
   "source": [
    "# Построим столбчатые график по признаку количество объектов в собственности для клиентов\n",
    "# использующих разное количество продуктов банка\n",
    "fig = plt.figure(figsize=(20,10))\n",
    "\n",
    "sns.barplot(data=bank.groupby(['Objects', 'Products']).agg({'Age': 'count'}).reset_index(),\n",
    "            x='Objects',y='Age',hue='Products');\n",
    "\n",
    "\n",
    "# Добавим подписи к графику\n",
    "plt.title('Распределение по количеству объектов в собственности и количеству потребляемых продуктов')\n",
    "plt.xlabel('Количество объектов в собственности клиента')\n",
    "plt.ylabel('Количество клиентов');"
   ]
  },
  {
   "cell_type": "code",
   "execution_count": 22,
   "metadata": {},
   "outputs": [
    {
     "data": {
      "image/png": "[encoded data removed]",
      "text/plain": [
       "<Figure size 1440x720 with 4 Axes>"
      ]
     },
     "metadata": {
      "needs_background": "light"
     },
     "output_type": "display_data"
    }
   ],
   "source": [
    "# Создадим рисунок с 4 графиками в ряд\n",
    "fig, axes = plt.subplots(nrows=1, ncols=4, figsize=(20, 10))\n",
    "\n",
    "# Построим гистрограмму для столбца с годом выпуска\n",
    "\n",
    "bank_1['Balance'].hist(density=True, ax=axes[0])\n",
    "bank_2['Balance'].hist(density=True, ax=axes[1])\n",
    "bank_3['Balance'].hist(density=True, ax=axes[2])\n",
    "bank_4['Balance'].hist(density=True, ax=axes[3])\n",
    "\n",
    "# Добавим подписи для каждой колонки \n",
    "axes[0].set_title('1 продукт банка')\n",
    "axes[0].set_xlabel('Баланс клиента')\n",
    "axes[0].set_ylabel('Плотность распределения')\n",
    "axes[1].set_title('2 продукта банка')\n",
    "axes[1].set_xlabel('Баланс клиента')\n",
    "axes[2].set_title('3 продукта банка')\n",
    "axes[2].set_xlabel('Баланс клиента')\n",
    "axes[3].set_title('4 продукта банка')\n",
    "axes[3].set_xlabel('Баланс клиента')\n",
    "\n",
    "# Добавим общий заголовок\n",
    "fig.suptitle('Баланс клиентов, использующих разное количество продуктов банка');"
   ]
  },
  {
   "cell_type": "code",
   "execution_count": 23,
   "metadata": {},
   "outputs": [
    {
     "data": {
      "image/png": "[encoded data removed]",
      "text/plain": [
       "<Figure size 1440x720 with 1 Axes>"
      ]
     },
     "metadata": {
      "needs_background": "light"
     },
     "output_type": "display_data"
    }
   ],
   "source": [
    "# Построим столбчатые график по признаку наличия кредитной карты\n",
    "# использующих разное количество продуктов банка\n",
    "fig = plt.figure(figsize=(20,10))\n",
    "\n",
    "sns.barplot(data=bank.groupby(['CreditCard', 'Products']).agg({'Age': 'count'}).reset_index(),\n",
    "            x='CreditCard',y='Age',hue='Products');\n",
    "\n",
    "\n",
    "# Добавим подписи к графику\n",
    "plt.title('Распределение по наличию кредитной карты и количеству потребляемых продуктов')\n",
    "plt.xlabel('Имеет ли клиент кредитную карту?')\n",
    "plt.ylabel('Количество клиентов')\n",
    "xlabels = ['нет крединой карты', 'есть кредитная карта']\n",
    "plt.xticks(range(2),xlabels, rotation=0);"
   ]
  },
  {
   "cell_type": "code",
   "execution_count": 24,
   "metadata": {},
   "outputs": [
    {
     "data": {
      "image/png": "[encoded data removed]",
      "text/plain": [
       "<Figure size 1440x720 with 1 Axes>"
      ]
     },
     "metadata": {
      "needs_background": "light"
     },
     "output_type": "display_data"
    }
   ],
   "source": [
    "# Построим столбчатые график по признаку активности клиента\n",
    "# использующих разное количество продуктов банка\n",
    "fig = plt.figure(figsize=(20,10))\n",
    "\n",
    "sns.barplot(data=bank.groupby(['Loyalty', 'Products']).agg({'Age': 'count'}).reset_index(),\n",
    "            x='Loyalty',y='Age',hue='Products');\n",
    "\n",
    "\n",
    "# Добавим подписи к графику\n",
    "plt.title('Распределение по активности клиентов и количеству потребляемых продуктов')\n",
    "plt.xlabel('Активен ли клиент?')\n",
    "plt.ylabel('Количество клиентов')\n",
    "xlabels = ['неактивен', 'активен']\n",
    "plt.xticks(range(2),xlabels, rotation=0);"
   ]
  },
  {
   "cell_type": "code",
   "execution_count": 25,
   "metadata": {},
   "outputs": [
    {
     "data": {
      "image/png": "[encoded data removed]",
      "text/plain": [
       "<Figure size 1440x720 with 4 Axes>"
      ]
     },
     "metadata": {
      "needs_background": "light"
     },
     "output_type": "display_data"
    }
   ],
   "source": [
    "# Создадим рисунок с 4 графиками в ряд\n",
    "fig, axes = plt.subplots(nrows=1, ncols=4, figsize=(20, 10))\n",
    "\n",
    "# Построим гистрограмму для столбца с годом выпуска\n",
    "\n",
    "bank_1['estimated_salary'].hist(density=True, ax=axes[0])\n",
    "bank_2['estimated_salary'].hist(density=True, ax=axes[1])\n",
    "bank_3['estimated_salary'].hist(density=True, ax=axes[2])\n",
    "bank_4['estimated_salary'].hist(density=True, ax=axes[3])\n",
    "\n",
    "# Добавим подписи для каждой колонки \n",
    "axes[0].set_title('1 продукт банка')\n",
    "axes[0].set_xlabel('Зарплата клиента')\n",
    "axes[0].set_ylabel('Плотность распределения')\n",
    "axes[1].set_title('2 продукта банка')\n",
    "axes[1].set_xlabel('Зарплата клиента')\n",
    "axes[2].set_title('3 продукта банка')\n",
    "axes[2].set_xlabel('Зарплата клиента')\n",
    "axes[3].set_title('4 продукта банка')\n",
    "axes[3].set_xlabel('Зарплата клиента')\n",
    "\n",
    "# Добавим общий заголовок\n",
    "fig.suptitle('Зарплата клиентов, использующих разное количество продуктов банка');"
   ]
  },
  {
   "cell_type": "code",
   "execution_count": 26,
   "metadata": {},
   "outputs": [
    {
     "data": {
      "image/png": "[encoded data removed]",
      "text/plain": [
       "<Figure size 1440x720 with 1 Axes>"
      ]
     },
     "metadata": {
      "needs_background": "light"
     },
     "output_type": "display_data"
    }
   ],
   "source": [
    "# Построим столбчатые график по признаку оттока клиента\n",
    "# использующих разное количество продуктов банка\n",
    "fig = plt.figure(figsize=(20,10))\n",
    "\n",
    "sns.barplot(data=bank.groupby(['Churn', 'Products']).agg({'Age': 'count'}).reset_index(),\n",
    "            x='Churn',y='Age',hue='Products');\n",
    "\n",
    "\n",
    "# Добавим подписи к графику\n",
    "plt.title('Распределение по признаку оттока клиентов и количеству потребляемых продуктов')\n",
    "plt.xlabel('Закрыл ли клиент все расчётные счета')\n",
    "plt.ylabel('Количество клиентов')\n",
    "xlabels = ['нет', 'да']\n",
    "plt.xticks(range(2),xlabels, rotation=0);"
   ]
  },
  {
   "cell_type": "code",
   "execution_count": 27,
   "metadata": {
    "scrolled": false
   },
   "outputs": [
    {
     "data": {
      "image/png": "[encoded data removed]",
      "text/plain": [
       "<Figure size 1080x1080 with 2 Axes>"
      ]
     },
     "metadata": {
      "needs_background": "light"
     },
     "output_type": "display_data"
    }
   ],
   "source": [
    "# создадим корреляционную матрицу\n",
    "corr_bank = bank.corr()\n",
    "\n",
    "# выведем цветовую карту для корреляционной матрице\n",
    "plt.figure(figsize = (15,15))\n",
    "sns.heatmap(corr_bank, square = True, annot = True)\n",
    "plt.show()"
   ]
  },
  {
   "cell_type": "markdown",
   "metadata": {},
   "source": [
    "Нет параметров сильно коррелирующих с параметром количества продуктов, которыми пользуется клиент, (Products).\n",
    "\n",
    "Самый высокий показатель корреляции в нашей таблицы между возрастом и параметром оттока, он составляет 0,29. "
   ]
  },
  {
   "cell_type": "markdown",
   "metadata": {},
   "source": [
    "### Вывод"
   ]
  },
  {
   "cell_type": "markdown",
   "metadata": {},
   "source": [
    "У нас всего 4 продукта, какими могут пользоваться клиенты:\n",
    "\n",
    "**Группа клиентов, которые пользуются одним продуктом** имеет 5084 человек, 1409 из которых попали в **отток**, что составило **27.71%**. Для группы характерно:\n",
    "\n",
    " - Средний и медианный скоринг 650.\n",
    " - 49% проживают в Ярославле.\n",
    " - 59% клиентов это мужчины.\n",
    " - Средний возраст 38-40 лет.\n",
    " - Данные клиенты в среднем имеют 5 объектов в собственности.\n",
    " - Средний баланс на карте на момент выгрузки составляет 120 000 рублей.\n",
    " - 70,38% имеют кредитную карту.\n",
    " - 50,41% данной группы активные клиенты.\n",
    " - Средняя зарплата данных клиентов составляет 99 200 рублей\n",
    " - 1409 клиентов (27,71%) закрыли все свои расчётные счета, из них на момент выгрузки 485 клиентов (9,53%) были активными клиентами на момент выгрузки.\n",
    "\n",
    "**Группа клиентов, которые пользуются двумя продуктами** имеет 4590 человек, 348 из которых попали в **отток**, что составило **7.58%**. Для группы характерно:\n",
    "\n",
    " - Средний и медианный скоринг 652\n",
    " - 51,56% проживают в Ярославле.\n",
    " - 55% клиентов это мужчины.\n",
    " - Средний возраст 36-38 лет.\n",
    " - Данные клиенты в среднем имеют 5 объектов в собственности.\n",
    " - Средний баланс на карте на момент выгрузки составляет 120 000 рублей.\n",
    " - 70,72% имеют кредитную карту.\n",
    " - 53,29% данной группы активные клиенты.\n",
    " - Средняя зарплата данных клиентов составляет 100 400 рублей\n",
    " - 348 клиентов (7,58%) закрыли все свои расчётные счета, из них на момент выгрузки 136 клиентов (2,96%) были активными клиентами на момент выгрузки.\n",
    "\n",
    "**Группа клиентов, которые пользуются тремя продуктами** имеет 266 человек, 220 из которых попали в **отток**, что составило **82.71%**. Для группы характерно:\n",
    "\n",
    " - Средний и медианный скоринг 650\n",
    " - 39% проживают в Ярославле.\n",
    " - 56% клиентов это женщины.\n",
    " - Средний возраст 42-43 лет.\n",
    " - Данные клиенты в среднем имеют 5 объектов в собственности.\n",
    " - Средний баланс на карте на момент выгрузки составляет 118 200 рублей.\n",
    " - 71,43% имеют кредитную карту.\n",
    " - 42,48% данной группы активные клиенты.\n",
    " - Средняя зарплата данных клиентов составляет 101 000 рублей\n",
    " - 220 клиентов (82,71%) закрыли все свои расчётные счета, из них на момент выгрузки 85 клиентов (31,95%) были активными клиентами на момент выгрузки.\n",
    " \n",
    "**Группа клиентов, которые пользуются четырьмя продуктами** имеет 60 человек, 60 из которых попали в **отток**, что составило **100%**. Для группы характерно:\n",
    "\n",
    " - Средний и медианный скоринг 643\n",
    " - 48,33% проживают в Ярославле.\n",
    " - 63,33% клиентов это женщины.\n",
    " - Средний возраст 45-46 лет.\n",
    " - Данные клиенты в среднем имеют 5 объектов в собственности.\n",
    " - Средний баланс на карте на момент выгрузки составляет 121 000 рублей.\n",
    " - 68,33% имеют кредитную карту.\n",
    " - 48,33% данной группы активные клиенты.\n",
    " - Средняя зарплата данных клиентов составляет 112 200 рублей\n",
    " - 60 клиентов (100%) закрыли все свои расчётные счета, из них на момент выгрузки 29 клиентов (48,33%) были активными клиентами на момент выгрузки."
   ]
  },
  {
   "cell_type": "markdown",
   "metadata": {},
   "source": [
    "## Сформулировать и проверить статистические гипотезы"
   ]
  },
  {
   "cell_type": "markdown",
   "metadata": {},
   "source": [
    "### Проверим гипотезу о различии доходов между клиентами, которые пользуются двумя продуктами банка, и клиентами, которые пользуются одним."
   ]
  },
  {
   "cell_type": "markdown",
   "metadata": {},
   "source": [
    "Так как у нас равномерное распределение, то будем проверять по методу Манн-Уитни."
   ]
  },
  {
   "cell_type": "markdown",
   "metadata": {},
   "source": [
    "Сформируем наши гипотезы:\n",
    "\n",
    "- **Нулевая гипотеза**: между клиентами, использующих 1 и 2 продукта, есть различия в плотности распределения заработной плате.\n",
    "- **Альтернативная гипотеза**: между клиентами, использующих 1 и 2 продукта, одинаковая плотность распределение в заработной плате."
   ]
  },
  {
   "cell_type": "code",
   "execution_count": 28,
   "metadata": {},
   "outputs": [
    {
     "name": "stdout",
     "output_type": "stream",
     "text": [
      "p-значение: 0.4079566651927651\n",
      "Не получилось отвергнуть нулевую гипотезу\n",
      "Средняя заработная плата клиентов, использующих 2 продукта, выше чем средняя заработная плата клиентов, использующих только 1 продукт, на 0.010\n"
     ]
    }
   ],
   "source": [
    "# Посчитаем статистическую значимость различий в средней заработной плате\n",
    "alpha = 0.05\n",
    "results = stats.mannwhitneyu(bank_1['estimated_salary'], bank_2['estimated_salary'], alternative = 'two-sided')[1]\n",
    "print('p-значение:', results)\n",
    "\n",
    "if results < alpha:\n",
    "    print(\"Отвергаем нулевую гипотезу\")\n",
    "else:\n",
    "    print(\"Не получилось отвергнуть нулевую гипотезу\")\n",
    "    \n",
    "print('Средняя заработная плата клиентов, использующих 2 продукта, выше',\n",
    "      'чем средняя заработная плата клиентов, использующих только 1 продукт, на {0:.3f}'.\n",
    "      format(bank_2['estimated_salary'].mean()/bank_1['estimated_salary'].mean()-1))"
   ]
  },
  {
   "cell_type": "markdown",
   "metadata": {},
   "source": [
    "#### Вывод"
   ]
  },
  {
   "cell_type": "markdown",
   "metadata": {},
   "source": [
    "Мы не отвергаем нулевую гипотезу, о том, что между клиентами, использующих 2 и 1 продукт, есть различия в плотности распределения заработной платы.\n",
    "\n",
    "Средняя заработная плата клиентов, использующих 2 продукта, выше, средняя заработная плата клиентов, использующих только 1 продукт, на 1%."
   ]
  },
  {
   "cell_type": "markdown",
   "metadata": {},
   "source": [
    "### Проверим гипотезу о различии количетсва баллов скоринга, у клиентов, которые пользуются двумя продуктами банка, и клиентами, которые пользуются одним."
   ]
  },
  {
   "cell_type": "markdown",
   "metadata": {},
   "source": [
    "Т.к. у нас нормально распределение, то будем проверять по критерию Стьюдента."
   ]
  },
  {
   "cell_type": "markdown",
   "metadata": {},
   "source": [
    "Сформируем наши гипотезы:\n",
    "\n",
    "- **Нулевая гипотеза**: Нет статистически значимых различий в среднем скоринговом балле между клиентами которые пользуются 1 и 2 продуктами.\n",
    "- **Альтернативная гипотеза**: у клиентов, которые пользуются двумя продуктами банка, и клиентов, которые пользуются одним, есть статистические различия в скоринговой балле.\n",
    "\n",
    "Нет статистически значимых различий в среднем скоринговом балле между клиентами которые пользуются 1 и 2 продуктами"
   ]
  },
  {
   "cell_type": "code",
   "execution_count": 29,
   "metadata": {},
   "outputs": [
    {
     "name": "stdout",
     "output_type": "stream",
     "text": [
      "Дисперсия клиентам, использующих один продукт банка: 9448.56120496532\n",
      "Дисперсия клиентам, использующих два продукта банка: 9228.836045084605\n"
     ]
    }
   ],
   "source": [
    "# Посмотрим на дисперсии наших выборок\n",
    "\n",
    "# рассчитаем дисперсию для клиентов, использующих только один продукт банка\n",
    "# Так как выборка в нашей изначальной таблице может быть неполной, то ddorf = 1\n",
    "dispersion_bank_1 = np.var(bank_1['score'], ddof = 1)\n",
    "\n",
    "# рассичтаем дисперчию для клиентов, использующих два продукта банка\n",
    "dispersion_bank_2 = np.var(bank_2['score'], ddof = 1)\n",
    "\n",
    "# И выведем их на экран\n",
    "print('Дисперсия клиентам, использующих один продукт банка:', dispersion_bank_1)\n",
    "print('Дисперсия клиентам, использующих два продукта банка:', dispersion_bank_2)"
   ]
  },
  {
   "cell_type": "markdown",
   "metadata": {},
   "source": [
    "Т.к. дисперчии не равны, то нужно использовать equal_var = False."
   ]
  },
  {
   "cell_type": "code",
   "execution_count": 30,
   "metadata": {},
   "outputs": [
    {
     "name": "stdout",
     "output_type": "stream",
     "text": [
      "Среднее количество балло скоринга для клиентов, использующих 1 продукт банка:  649.1209677419355\n",
      "Среднее количество балло скоринга для клиентов, использующих 2 продукта банка:  652.1886710239652\n",
      "p-значение: 0.11889293846062188\n",
      "Не получилось отвергнуть нулевую гипотезу\n"
     ]
    }
   ],
   "source": [
    "# Выведем на экран средние количество баллов скоринга клиентов использующих 1 и 2 продукта.\n",
    "print('Среднее количество балло скоринга для клиентов, использующих 1 продукт банка: ', bank_1['score'].mean())\n",
    "print('Среднее количество балло скоринга для клиентов, использующих 2 продукта банка: ', bank_2['score'].mean())\n",
    "\n",
    "alpha = 0.05\n",
    "results = st.ttest_ind(bank_1['score'], bank_2['score'], equal_var = False) \n",
    "print('p-значение:', results.pvalue)\n",
    "\n",
    "if results.pvalue < alpha:\n",
    "    print(\"Отвергаем нулевую гипотезу\")\n",
    "else:\n",
    "    print(\"Не получилось отвергнуть нулевую гипотезу\")"
   ]
  },
  {
   "cell_type": "markdown",
   "metadata": {},
   "source": [
    "#### Вывод"
   ]
  },
  {
   "cell_type": "markdown",
   "metadata": {},
   "source": [
    "Раз нулевая гипотеза с формулировкой, что у клиентов, которые пользуются двумя продуктами банка, и клиентов, которые пользуются одним, одинаковое количество баллов скоринга, не отвергается, то и опровергнуть мы её не можем.\n",
    "\n",
    "Выходит, что у клиентов, использующих 1 или 2 продукта, одинаковое количество баллов скоринга."
   ]
  },
  {
   "cell_type": "markdown",
   "metadata": {},
   "source": [
    "## Вывод"
   ]
  },
  {
   "cell_type": "code",
   "execution_count": 31,
   "metadata": {},
   "outputs": [
    {
     "data": {
      "text/html": [
       "<div>\n",
       "<style scoped>\n",
       "    .dataframe tbody tr th:only-of-type {\n",
       "        vertical-align: middle;\n",
       "    }\n",
       "\n",
       "    .dataframe tbody tr th {\n",
       "        vertical-align: top;\n",
       "    }\n",
       "\n",
       "    .dataframe thead th {\n",
       "        text-align: right;\n",
       "    }\n",
       "</style>\n",
       "<table border=\"1\" class=\"dataframe\">\n",
       "  <thead>\n",
       "    <tr style=\"text-align: right;\">\n",
       "      <th></th>\n",
       "      <th>userid</th>\n",
       "      <th>score</th>\n",
       "      <th>Age</th>\n",
       "      <th>Objects</th>\n",
       "      <th>Balance</th>\n",
       "      <th>Products</th>\n",
       "      <th>CreditCard</th>\n",
       "      <th>Loyalty</th>\n",
       "      <th>estimated_salary</th>\n",
       "      <th>Churn</th>\n",
       "    </tr>\n",
       "  </thead>\n",
       "  <tbody>\n",
       "    <tr>\n",
       "      <td>count</td>\n",
       "      <td>2.037000e+03</td>\n",
       "      <td>2037.000000</td>\n",
       "      <td>2037.000000</td>\n",
       "      <td>2037.000000</td>\n",
       "      <td>1537.000000</td>\n",
       "      <td>2037.000000</td>\n",
       "      <td>2037.000000</td>\n",
       "      <td>2037.000000</td>\n",
       "      <td>2037.000000</td>\n",
       "      <td>2037.0</td>\n",
       "    </tr>\n",
       "    <tr>\n",
       "      <td>mean</td>\n",
       "      <td>1.573279e+07</td>\n",
       "      <td>645.351497</td>\n",
       "      <td>44.837997</td>\n",
       "      <td>4.932744</td>\n",
       "      <td>120746.971132</td>\n",
       "      <td>1.475209</td>\n",
       "      <td>0.699067</td>\n",
       "      <td>0.360825</td>\n",
       "      <td>101465.677531</td>\n",
       "      <td>1.0</td>\n",
       "    </tr>\n",
       "    <tr>\n",
       "      <td>std</td>\n",
       "      <td>7.269262e+04</td>\n",
       "      <td>100.321503</td>\n",
       "      <td>9.761562</td>\n",
       "      <td>2.936106</td>\n",
       "      <td>30555.192802</td>\n",
       "      <td>0.801521</td>\n",
       "      <td>0.458776</td>\n",
       "      <td>0.480358</td>\n",
       "      <td>57912.418071</td>\n",
       "      <td>0.0</td>\n",
       "    </tr>\n",
       "    <tr>\n",
       "      <td>min</td>\n",
       "      <td>1.560844e+07</td>\n",
       "      <td>350.000000</td>\n",
       "      <td>18.000000</td>\n",
       "      <td>0.000000</td>\n",
       "      <td>3768.690000</td>\n",
       "      <td>1.000000</td>\n",
       "      <td>0.000000</td>\n",
       "      <td>0.000000</td>\n",
       "      <td>11.580000</td>\n",
       "      <td>1.0</td>\n",
       "    </tr>\n",
       "    <tr>\n",
       "      <td>25%</td>\n",
       "      <td>1.567010e+07</td>\n",
       "      <td>578.000000</td>\n",
       "      <td>38.000000</td>\n",
       "      <td>2.000000</td>\n",
       "      <td>103700.690000</td>\n",
       "      <td>1.000000</td>\n",
       "      <td>0.000000</td>\n",
       "      <td>0.000000</td>\n",
       "      <td>51907.720000</td>\n",
       "      <td>1.0</td>\n",
       "    </tr>\n",
       "    <tr>\n",
       "      <td>50%</td>\n",
       "      <td>1.573170e+07</td>\n",
       "      <td>646.000000</td>\n",
       "      <td>45.000000</td>\n",
       "      <td>5.000000</td>\n",
       "      <td>119948.090000</td>\n",
       "      <td>1.000000</td>\n",
       "      <td>1.000000</td>\n",
       "      <td>0.000000</td>\n",
       "      <td>102460.840000</td>\n",
       "      <td>1.0</td>\n",
       "    </tr>\n",
       "    <tr>\n",
       "      <td>75%</td>\n",
       "      <td>1.579583e+07</td>\n",
       "      <td>716.000000</td>\n",
       "      <td>51.000000</td>\n",
       "      <td>8.000000</td>\n",
       "      <td>137986.580000</td>\n",
       "      <td>2.000000</td>\n",
       "      <td>1.000000</td>\n",
       "      <td>1.000000</td>\n",
       "      <td>152422.910000</td>\n",
       "      <td>1.0</td>\n",
       "    </tr>\n",
       "    <tr>\n",
       "      <td>max</td>\n",
       "      <td>1.585839e+07</td>\n",
       "      <td>850.000000</td>\n",
       "      <td>84.000000</td>\n",
       "      <td>10.000000</td>\n",
       "      <td>250898.090000</td>\n",
       "      <td>4.000000</td>\n",
       "      <td>1.000000</td>\n",
       "      <td>1.000000</td>\n",
       "      <td>199808.100000</td>\n",
       "      <td>1.0</td>\n",
       "    </tr>\n",
       "  </tbody>\n",
       "</table>\n",
       "</div>"
      ],
      "text/plain": [
       "             userid        score          Age      Objects        Balance  \\\n",
       "count  2.037000e+03  2037.000000  2037.000000  2037.000000    1537.000000   \n",
       "mean   1.573279e+07   645.351497    44.837997     4.932744  120746.971132   \n",
       "std    7.269262e+04   100.321503     9.761562     2.936106   30555.192802   \n",
       "min    1.560844e+07   350.000000    18.000000     0.000000    3768.690000   \n",
       "25%    1.567010e+07   578.000000    38.000000     2.000000  103700.690000   \n",
       "50%    1.573170e+07   646.000000    45.000000     5.000000  119948.090000   \n",
       "75%    1.579583e+07   716.000000    51.000000     8.000000  137986.580000   \n",
       "max    1.585839e+07   850.000000    84.000000    10.000000  250898.090000   \n",
       "\n",
       "          Products   CreditCard      Loyalty  estimated_salary   Churn  \n",
       "count  2037.000000  2037.000000  2037.000000       2037.000000  2037.0  \n",
       "mean      1.475209     0.699067     0.360825     101465.677531     1.0  \n",
       "std       0.801521     0.458776     0.480358      57912.418071     0.0  \n",
       "min       1.000000     0.000000     0.000000         11.580000     1.0  \n",
       "25%       1.000000     0.000000     0.000000      51907.720000     1.0  \n",
       "50%       1.000000     1.000000     0.000000     102460.840000     1.0  \n",
       "75%       2.000000     1.000000     1.000000     152422.910000     1.0  \n",
       "max       4.000000     1.000000     1.000000     199808.100000     1.0  "
      ]
     },
     "execution_count": 31,
     "metadata": {},
     "output_type": "execute_result"
    }
   ],
   "source": [
    "bank[bank.Churn == 1].describe()"
   ]
  },
  {
   "cell_type": "code",
   "execution_count": 32,
   "metadata": {},
   "outputs": [
    {
     "data": {
      "image/png": "[encoded data removed]",
      "text/plain": [
       "<Figure size 1440x720 with 1 Axes>"
      ]
     },
     "metadata": {
      "needs_background": "light"
     },
     "output_type": "display_data"
    }
   ],
   "source": [
    "# Построим столбчатые гистограммы по признаку возраста клиентов и их оттоком из банка\n",
    "fig = plt.figure(figsize=(20,10))\n",
    "\n",
    "sns.barplot(data=bank.groupby(['Age', 'Churn']).agg({'Objects': 'count'}).reset_index(),\n",
    "            x='Age',y='Objects',hue='Churn');\n",
    "\n",
    "\n",
    "# Добавим подписи к графику\n",
    "plt.title('Распределение по возрасту и оттоком клиента')\n",
    "plt.xlabel('Возраст')\n",
    "plt.ylabel('Количество клиентов');"
   ]
  },
  {
   "cell_type": "markdown",
   "metadata": {},
   "source": [
    "У нас хорошие данные на 10000 клиентов, без дубликатов.\n",
    "\n",
    "В столбце с балансом есть 3617 пропущенных (36%).Могу предположить следующие причины появления пропусков:\n",
    "\n",
    "- Есть какое-то количество клиентов, которые не пользуются услугами банка, который подразумевает баланс на счёте. Например, только кредит или ипотека.\n",
    "- В таблице есть новые клиенты, которые ещё не успели пополнить баланс на момент выгрузки.\n",
    "- Возможно была и какая-то техническая ошибка при выгрузке.\n",
    "\n",
    "Можно выделить следующие группы клиентов по количеству потребляемых продуктов:\n",
    "\n",
    "**Группа клиентов, которые пользуются одним продуктом** имеет 5084 человек, 1409 из которых попали в **отток**, что составило **27.71%**. Для группы характерно:\n",
    "\n",
    " - Средний и медианный скоринг 650.\n",
    " - 49% проживают в Ярославле.\n",
    " - 59% клиентов это мужчины.\n",
    " - Средний возраст 38-40 лет.\n",
    " - Данные клиенты в среднем имеют 5 объектов в собственности.\n",
    " - Средний баланс на карте на момент выгрузки составляет 120 000 рублей.\n",
    " - 70,38% имеют кредитную карту.\n",
    " - 50,41% данной группы активные клиенты.\n",
    " - Средняя зарплата данных клиентов составляет 99 200 рублей\n",
    " - 1409 клиентов (27,71%) закрыли все свои расчётные счета, из них на момент выгрузки 485 клиентов (9,53%) были активными клиентами на момент выгрузки.\n",
    "\n",
    "**Группа клиентов, которые пользуются двумя продуктами** имеет 4590 человек, 348 из которых попали в **отток**, что составило **7.58%**. Для группы характерно:\n",
    "\n",
    " - Средний и медианный скоринг 652\n",
    " - 51,56% проживают в Ярославле.\n",
    " - 55% клиентов это мужчины.\n",
    " - Средний возраст 36-38 лет.\n",
    " - Данные клиенты в среднем имеют 5 объектов в собственности.\n",
    " - Средний баланс на карте на момент выгрузки составляет 120 000 рублей.\n",
    " - 70,72% имеют кредитную карту.\n",
    " - 53,29% данной группы активные клиенты.\n",
    " - Средняя зарплата данных клиентов составляет 100 400 рублей\n",
    " - 348 клиентов (7,58%) закрыли все свои расчётные счета, из них на момент выгрузки 136 клиентов (2,96%) были активными клиентами на момент выгрузки.\n",
    "\n",
    "**Группа клиентов, которые пользуются тремя продуктами** имеет 266 человек, 220 из которых попали в **отток**, что составило **82.71%**. Для группы характерно:\n",
    "\n",
    " - Средний и медианный скоринг 650\n",
    " - 39% проживают в Ярославле.\n",
    " - 56% клиентов это женщины.\n",
    " - Средний возраст 42-43 лет.\n",
    " - Данные клиенты в среднем имеют 5 объектов в собственности.\n",
    " - Средний баланс на карте на момент выгрузки составляет 118 200 рублей.\n",
    " - 71,43% имеют кредитную карту.\n",
    " - 42,48% данной группы активные клиенты.\n",
    " - Средняя зарплата данных клиентов составляет 101 000 рублей\n",
    " - 220 клиентов (82,71%) закрыли все свои расчётные счета, из них на момент выгрузки 85 клиентов (31,95%) были активными клиентами на момент выгрузки.\n",
    " \n",
    "**Группа клиентов, которые пользуются четырьмя продуктами** имеет 60 человек, 60 из которых попали в **отток**, что составило **100%**. Для группы характерно:\n",
    "\n",
    " - Средний и медианный скоринг 643\n",
    " - 48,33% проживают в Ярославле.\n",
    " - 63,33% клиентов это женщины.\n",
    " - Средний возраст 45-46 лет.\n",
    " - Данные клиенты в среднем имеют 5 объектов в собственности.\n",
    " - Средний баланс на карте на момент выгрузки составляет 121 000 рублей.\n",
    " - 68,33% имеют кредитную карту.\n",
    " - 48,33% данной группы активные клиенты.\n",
    " - Средняя зарплата данных клиентов составляет 112 200 рублей\n",
    " - 60 клиентов (100%) закрыли все свои расчётные счета, из них на момент выгрузки 29 клиентов (48,33%) были активными клиентами на момент выгрузки.\n",
    " \n",
    "Также я проверила две гипотезы:\n",
    " - Гипотезу о различии доходов между клиентами, которые пользуются двумя продуктами банка, и клиентами, которые пользуются одним.\n",
    " \n",
    "Между клиентами, использующих 2 и 1 продукт, есть различия в средней заработной плате.\n",
    "\n",
    "Средняя заработная плата клиентов, использующих 2 продукта, выше, чем средняя заработная плата клиентов, использующих только 1 продукт, на 1%.\n",
    "\n",
    "- Гипотезу о различии количетсва баллов скоринга, у клиентов, которые пользуются двумя продуктами банка, и клиентами, которые пользуются одним.\n",
    "\n",
    "По нашей выборке у клиентов, использующих 1 или 2 продукта, одинаковое количество баллов скоринга.\n",
    "\n",
    "Могу предложить следующие рекомендации:\n",
    "\n",
    "Так как отток клиентов происходит в основной своей массе в возрасте с 38 до 50 лет и у них в среднем 1 продукт, то стимулировать их подключать дополнительные продукты:\n",
    " - Для людей более старшего возраста создать(если нет) или подключать пенсионные проекты. Чтобы им на карточку приходила пенсия, и допустим, чтобы на неё ещё начислялся остаток, по аналогии с дебетовыми картами.\n",
    " - Для людей среднего возраста (с 28 до 38 лет) создать или подключать проекты, которые помогут преумножать собственные средства. Инвестиционные и накопительные счета, или же если клиенты бизнесмены, то расширять проекты по кредитованию (наличиными или ипотека) с наименьшими процентами под залог собственности.\n",
    " - Также из-за того, что активность клиентов, которые закрыли все расчётные счета, составляет всего 36%, то \"проводить профилактику по активности клиентов\" на всех этапах пользования клиентом банковских услуг."
   ]
  }
 ],
 "metadata": {
  "ExecuteTimeLog": [
   {
    "duration": 666,
    "start_time": "2021-11-03T09:15:05.684Z"
   },
   {
    "duration": 323,
    "start_time": "2021-11-03T09:21:25.059Z"
   },
   {
    "duration": 95,
    "start_time": "2021-11-03T09:21:42.121Z"
   },
   {
    "duration": 384,
    "start_time": "2021-11-03T09:21:43.769Z"
   },
   {
    "duration": 3,
    "start_time": "2021-11-03T09:21:56.007Z"
   },
   {
    "duration": 115,
    "start_time": "2021-11-03T09:21:57.524Z"
   },
   {
    "duration": 156,
    "start_time": "2021-11-03T09:25:47.617Z"
   },
   {
    "duration": 120,
    "start_time": "2021-11-03T09:26:02.116Z"
   },
   {
    "duration": 148,
    "start_time": "2021-11-03T09:26:09.446Z"
   },
   {
    "duration": 303,
    "start_time": "2021-11-03T09:32:20.722Z"
   },
   {
    "duration": 305,
    "start_time": "2021-11-03T09:32:34.882Z"
   },
   {
    "duration": 299,
    "start_time": "2021-11-03T09:37:39.860Z"
   },
   {
    "duration": 5093,
    "start_time": "2021-11-03T09:38:05.135Z"
   },
   {
    "duration": 5307,
    "start_time": "2021-11-03T09:38:52.297Z"
   },
   {
    "duration": 4716,
    "start_time": "2021-11-03T09:40:55.740Z"
   },
   {
    "duration": 687,
    "start_time": "2021-11-03T09:41:14.740Z"
   },
   {
    "duration": 4988,
    "start_time": "2021-11-03T09:41:15.429Z"
   },
   {
    "duration": 157,
    "start_time": "2021-11-03T09:41:20.262Z"
   },
   {
    "duration": 1068,
    "start_time": "2021-11-03T09:49:30.329Z"
   },
   {
    "duration": 4854,
    "start_time": "2021-11-03T09:50:21.584Z"
   },
   {
    "duration": 5209,
    "start_time": "2021-11-03T09:52:34.600Z"
   },
   {
    "duration": 722,
    "start_time": "2021-11-03T09:52:47.691Z"
   },
   {
    "duration": 729,
    "start_time": "2021-11-03T09:53:45.357Z"
   },
   {
    "duration": 737,
    "start_time": "2021-11-03T09:54:15.638Z"
   },
   {
    "duration": 772,
    "start_time": "2021-11-03T09:54:42.329Z"
   },
   {
    "duration": 484,
    "start_time": "2021-11-03T09:56:14.822Z"
   },
   {
    "duration": 5282,
    "start_time": "2021-11-03T09:56:40.684Z"
   },
   {
    "duration": 4746,
    "start_time": "2021-11-03T09:57:57.470Z"
   },
   {
    "duration": 5347,
    "start_time": "2021-11-03T09:58:25.617Z"
   },
   {
    "duration": 712,
    "start_time": "2021-11-03T09:58:52.226Z"
   },
   {
    "duration": 511,
    "start_time": "2021-11-03T09:59:07.481Z"
   },
   {
    "duration": 475,
    "start_time": "2021-11-03T09:59:59.135Z"
   },
   {
    "duration": 2,
    "start_time": "2021-11-03T10:00:18.476Z"
   },
   {
    "duration": 420,
    "start_time": "2021-11-03T10:00:18.480Z"
   },
   {
    "duration": 4840,
    "start_time": "2021-11-03T10:00:42.973Z"
   },
   {
    "duration": 5067,
    "start_time": "2021-11-03T10:00:53.917Z"
   },
   {
    "duration": 5153,
    "start_time": "2021-11-03T10:07:46.958Z"
   },
   {
    "duration": 2,
    "start_time": "2021-11-03T11:55:54.112Z"
   },
   {
    "duration": 41,
    "start_time": "2021-11-03T11:56:31.330Z"
   },
   {
    "duration": 11,
    "start_time": "2021-11-03T11:56:57.535Z"
   },
   {
    "duration": 13,
    "start_time": "2021-11-03T11:57:02.853Z"
   },
   {
    "duration": 19,
    "start_time": "2021-11-03T11:57:21.776Z"
   },
   {
    "duration": 9,
    "start_time": "2021-11-03T11:58:57.287Z"
   },
   {
    "duration": 10,
    "start_time": "2021-11-03T11:58:59.690Z"
   },
   {
    "duration": 7,
    "start_time": "2021-11-03T12:05:43.646Z"
   },
   {
    "duration": 93,
    "start_time": "2021-11-03T12:05:57.290Z"
   },
   {
    "duration": 8,
    "start_time": "2021-11-03T12:06:03.943Z"
   },
   {
    "duration": 3,
    "start_time": "2021-11-03T12:32:10.670Z"
   },
   {
    "duration": 43,
    "start_time": "2021-11-03T12:32:10.676Z"
   },
   {
    "duration": 35,
    "start_time": "2021-11-03T12:32:10.722Z"
   },
   {
    "duration": 13,
    "start_time": "2021-11-03T12:32:10.759Z"
   },
   {
    "duration": 31,
    "start_time": "2021-11-03T12:32:10.775Z"
   },
   {
    "duration": 38,
    "start_time": "2021-11-03T12:32:10.808Z"
   },
   {
    "duration": 11,
    "start_time": "2021-11-03T12:32:10.848Z"
   },
   {
    "duration": 92,
    "start_time": "2021-11-03T13:13:10.719Z"
   },
   {
    "duration": 19,
    "start_time": "2021-11-03T13:13:21.010Z"
   },
   {
    "duration": 8,
    "start_time": "2021-11-03T13:13:33.825Z"
   },
   {
    "duration": 8,
    "start_time": "2021-11-03T13:13:35.389Z"
   },
   {
    "duration": 44,
    "start_time": "2021-11-03T13:24:00.116Z"
   },
   {
    "duration": 36,
    "start_time": "2021-11-03T13:31:39.682Z"
   },
   {
    "duration": 7,
    "start_time": "2021-11-03T13:49:58.641Z"
   },
   {
    "duration": 666,
    "start_time": "2021-11-03T14:35:17.179Z"
   },
   {
    "duration": 57,
    "start_time": "2021-11-03T14:35:17.848Z"
   },
   {
    "duration": 15,
    "start_time": "2021-11-03T14:35:17.908Z"
   },
   {
    "duration": 19,
    "start_time": "2021-11-03T14:35:17.925Z"
   },
   {
    "duration": 20,
    "start_time": "2021-11-03T14:35:17.947Z"
   },
   {
    "duration": 8,
    "start_time": "2021-11-03T14:35:17.969Z"
   },
   {
    "duration": 10,
    "start_time": "2021-11-03T14:35:17.979Z"
   },
   {
    "duration": 54,
    "start_time": "2021-11-03T14:35:17.991Z"
   },
   {
    "duration": 8,
    "start_time": "2021-11-03T14:35:18.047Z"
   },
   {
    "duration": 9,
    "start_time": "2021-11-03T14:35:18.057Z"
   },
   {
    "duration": 41,
    "start_time": "2021-11-03T14:35:18.067Z"
   },
   {
    "duration": 36,
    "start_time": "2021-11-03T14:35:18.110Z"
   },
   {
    "duration": 32,
    "start_time": "2021-11-03T14:39:07.069Z"
   },
   {
    "duration": 34,
    "start_time": "2021-11-03T14:39:23.574Z"
   },
   {
    "duration": 9,
    "start_time": "2021-11-03T14:44:07.753Z"
   },
   {
    "duration": 85,
    "start_time": "2021-11-03T14:46:31.741Z"
   },
   {
    "duration": 35,
    "start_time": "2021-11-03T14:59:16.744Z"
   },
   {
    "duration": 8,
    "start_time": "2021-11-03T14:59:18.785Z"
   },
   {
    "duration": 35,
    "start_time": "2021-11-03T15:04:24.594Z"
   },
   {
    "duration": 626,
    "start_time": "2021-11-04T09:37:15.155Z"
   },
   {
    "duration": 43,
    "start_time": "2021-11-04T09:37:15.783Z"
   },
   {
    "duration": 10,
    "start_time": "2021-11-04T09:37:15.830Z"
   },
   {
    "duration": 24,
    "start_time": "2021-11-04T09:37:15.842Z"
   },
   {
    "duration": 19,
    "start_time": "2021-11-04T09:37:15.867Z"
   },
   {
    "duration": 7,
    "start_time": "2021-11-04T09:37:15.887Z"
   },
   {
    "duration": 8,
    "start_time": "2021-11-04T09:37:15.896Z"
   },
   {
    "duration": 17,
    "start_time": "2021-11-04T09:37:15.906Z"
   },
   {
    "duration": 43,
    "start_time": "2021-11-04T09:37:15.925Z"
   },
   {
    "duration": 7,
    "start_time": "2021-11-04T09:37:15.970Z"
   },
   {
    "duration": 35,
    "start_time": "2021-11-04T09:37:15.979Z"
   },
   {
    "duration": 8,
    "start_time": "2021-11-04T09:37:16.016Z"
   },
   {
    "duration": 68,
    "start_time": "2021-11-04T09:37:16.025Z"
   },
   {
    "duration": 8,
    "start_time": "2021-11-04T09:37:16.095Z"
   },
   {
    "duration": 34,
    "start_time": "2021-11-04T09:37:16.104Z"
   },
   {
    "duration": 30,
    "start_time": "2021-11-04T09:37:16.139Z"
   },
   {
    "duration": 35,
    "start_time": "2021-11-04T09:38:28.964Z"
   },
   {
    "duration": 8,
    "start_time": "2021-11-04T09:38:30.954Z"
   },
   {
    "duration": 34,
    "start_time": "2021-11-04T09:43:20.813Z"
   },
   {
    "duration": 8,
    "start_time": "2021-11-04T09:43:22.958Z"
   },
   {
    "duration": 521,
    "start_time": "2021-11-04T09:49:23.585Z"
   },
   {
    "duration": 330,
    "start_time": "2021-11-04T09:49:32.434Z"
   },
   {
    "duration": 3,
    "start_time": "2021-11-04T09:49:44.642Z"
   },
   {
    "duration": 2024,
    "start_time": "2021-11-04T09:49:51.208Z"
   },
   {
    "duration": 2020,
    "start_time": "2021-11-04T09:51:16.279Z"
   },
   {
    "duration": 399,
    "start_time": "2021-11-04T09:56:20.870Z"
   },
   {
    "duration": 629,
    "start_time": "2021-11-04T09:57:19.600Z"
   },
   {
    "duration": 530,
    "start_time": "2021-11-04T09:59:37.660Z"
   },
   {
    "duration": 541,
    "start_time": "2021-11-04T10:00:03.031Z"
   },
   {
    "duration": 262,
    "start_time": "2021-11-04T10:01:12.460Z"
   },
   {
    "duration": 1424,
    "start_time": "2021-11-04T10:02:33.075Z"
   },
   {
    "duration": 39,
    "start_time": "2021-11-04T10:02:34.501Z"
   },
   {
    "duration": 11,
    "start_time": "2021-11-04T10:02:34.542Z"
   },
   {
    "duration": 7,
    "start_time": "2021-11-04T10:02:34.563Z"
   },
   {
    "duration": 19,
    "start_time": "2021-11-04T10:02:34.572Z"
   },
   {
    "duration": 7,
    "start_time": "2021-11-04T10:02:34.593Z"
   },
   {
    "duration": 9,
    "start_time": "2021-11-04T10:02:34.602Z"
   },
   {
    "duration": 55,
    "start_time": "2021-11-04T10:02:34.613Z"
   },
   {
    "duration": 9,
    "start_time": "2021-11-04T10:02:34.671Z"
   },
   {
    "duration": 9,
    "start_time": "2021-11-04T10:02:34.681Z"
   },
   {
    "duration": 36,
    "start_time": "2021-11-04T10:02:34.692Z"
   },
   {
    "duration": 34,
    "start_time": "2021-11-04T10:02:34.730Z"
   },
   {
    "duration": 36,
    "start_time": "2021-11-04T10:02:34.766Z"
   },
   {
    "duration": 10,
    "start_time": "2021-11-04T10:02:34.804Z"
   },
   {
    "duration": 59,
    "start_time": "2021-11-04T10:02:34.816Z"
   },
   {
    "duration": 11,
    "start_time": "2021-11-04T10:02:34.877Z"
   },
   {
    "duration": 75,
    "start_time": "2021-11-04T10:02:34.890Z"
   },
   {
    "duration": 12,
    "start_time": "2021-11-04T10:02:34.967Z"
   },
   {
    "duration": 36,
    "start_time": "2021-11-04T10:02:34.981Z"
   },
   {
    "duration": 8,
    "start_time": "2021-11-04T10:02:35.019Z"
   },
   {
    "duration": 536,
    "start_time": "2021-11-04T10:02:35.029Z"
   },
   {
    "duration": 2114,
    "start_time": "2021-11-04T10:02:35.566Z"
   },
   {
    "duration": 537,
    "start_time": "2021-11-04T10:02:37.683Z"
   },
   {
    "duration": 477,
    "start_time": "2021-11-04T10:02:38.222Z"
   },
   {
    "duration": 399,
    "start_time": "2021-11-04T10:02:38.701Z"
   },
   {
    "duration": 476,
    "start_time": "2021-11-04T10:03:34.692Z"
   },
   {
    "duration": 356,
    "start_time": "2021-11-04T10:04:36.622Z"
   },
   {
    "duration": 376,
    "start_time": "2021-11-04T10:05:54.195Z"
   },
   {
    "duration": 218,
    "start_time": "2021-11-04T10:07:46.064Z"
   },
   {
    "duration": 365,
    "start_time": "2021-11-04T10:07:54.228Z"
   },
   {
    "duration": 497,
    "start_time": "2021-11-04T10:08:38.776Z"
   },
   {
    "duration": 350,
    "start_time": "2021-11-04T10:09:04.584Z"
   },
   {
    "duration": 472,
    "start_time": "2021-11-04T10:11:11.045Z"
   },
   {
    "duration": 366,
    "start_time": "2021-11-04T10:12:49.148Z"
   },
   {
    "duration": 5128,
    "start_time": "2021-11-04T10:41:55.401Z"
   },
   {
    "duration": 241,
    "start_time": "2021-11-04T10:48:04.014Z"
   },
   {
    "duration": 7,
    "start_time": "2021-11-04T10:48:08.197Z"
   },
   {
    "duration": 6,
    "start_time": "2021-11-04T10:49:22.852Z"
   },
   {
    "duration": 8,
    "start_time": "2021-11-04T10:50:07.825Z"
   },
   {
    "duration": 6,
    "start_time": "2021-11-04T10:52:42.169Z"
   },
   {
    "duration": 9,
    "start_time": "2021-11-04T10:52:42.238Z"
   },
   {
    "duration": 369,
    "start_time": "2021-11-04T10:56:35.884Z"
   },
   {
    "duration": 363,
    "start_time": "2021-11-04T10:57:51.500Z"
   },
   {
    "duration": 377,
    "start_time": "2021-11-04T10:58:17.297Z"
   },
   {
    "duration": 375,
    "start_time": "2021-11-04T10:59:22.246Z"
   },
   {
    "duration": 6471,
    "start_time": "2021-11-04T10:59:55.563Z"
   },
   {
    "duration": 106,
    "start_time": "2021-11-04T11:00:01.930Z"
   },
   {
    "duration": 7,
    "start_time": "2021-11-04T11:00:26.377Z"
   },
   {
    "duration": 10,
    "start_time": "2021-11-04T11:01:32.857Z"
   },
   {
    "duration": 9,
    "start_time": "2021-11-04T11:01:43.351Z"
   },
   {
    "duration": 257,
    "start_time": "2021-11-04T11:02:34.088Z"
   },
   {
    "duration": 8,
    "start_time": "2021-11-04T11:02:38.401Z"
   },
   {
    "duration": 7,
    "start_time": "2021-11-04T11:03:29.349Z"
   },
   {
    "duration": 9,
    "start_time": "2021-11-04T11:03:35.762Z"
   },
   {
    "duration": 8,
    "start_time": "2021-11-04T11:03:35.830Z"
   },
   {
    "duration": 9,
    "start_time": "2021-11-04T11:04:20.806Z"
   },
   {
    "duration": 8,
    "start_time": "2021-11-04T11:04:54.416Z"
   },
   {
    "duration": 8,
    "start_time": "2021-11-04T11:05:20.547Z"
   },
   {
    "duration": 11,
    "start_time": "2021-11-04T11:06:00.789Z"
   },
   {
    "duration": 8,
    "start_time": "2021-11-04T11:07:55.752Z"
   },
   {
    "duration": 273,
    "start_time": "2021-11-04T11:07:57.143Z"
   },
   {
    "duration": 14,
    "start_time": "2021-11-04T11:08:03.098Z"
   },
   {
    "duration": 9,
    "start_time": "2021-11-04T11:11:20.581Z"
   },
   {
    "duration": 9,
    "start_time": "2021-11-04T11:11:20.645Z"
   },
   {
    "duration": 9,
    "start_time": "2021-11-04T11:11:28.071Z"
   },
   {
    "duration": 9,
    "start_time": "2021-11-04T11:12:13.225Z"
   },
   {
    "duration": 7,
    "start_time": "2021-11-04T11:13:03.821Z"
   },
   {
    "duration": 9,
    "start_time": "2021-11-04T11:13:32.605Z"
   },
   {
    "duration": 6,
    "start_time": "2021-11-04T11:13:41.784Z"
   },
   {
    "duration": 12,
    "start_time": "2021-11-04T11:14:06.469Z"
   },
   {
    "duration": 9,
    "start_time": "2021-11-04T11:14:27.671Z"
   },
   {
    "duration": 9,
    "start_time": "2021-11-04T11:14:40.110Z"
   },
   {
    "duration": 9,
    "start_time": "2021-11-04T11:15:03.799Z"
   },
   {
    "duration": 11,
    "start_time": "2021-11-04T11:15:17.475Z"
   },
   {
    "duration": 9,
    "start_time": "2021-11-04T11:15:56.500Z"
   },
   {
    "duration": 10,
    "start_time": "2021-11-04T11:16:12.776Z"
   },
   {
    "duration": 12,
    "start_time": "2021-11-04T11:16:39.060Z"
   },
   {
    "duration": 10,
    "start_time": "2021-11-04T11:16:39.143Z"
   },
   {
    "duration": 9,
    "start_time": "2021-11-04T11:17:13.833Z"
   },
   {
    "duration": 14,
    "start_time": "2021-11-04T11:17:15.211Z"
   },
   {
    "duration": 8,
    "start_time": "2021-11-04T11:17:48.883Z"
   },
   {
    "duration": 9,
    "start_time": "2021-11-04T11:17:48.951Z"
   },
   {
    "duration": 8,
    "start_time": "2021-11-04T11:18:02.761Z"
   },
   {
    "duration": 8,
    "start_time": "2021-11-04T11:18:36.552Z"
   },
   {
    "duration": 7,
    "start_time": "2021-11-04T11:18:57.946Z"
   },
   {
    "duration": 7,
    "start_time": "2021-11-04T11:19:21.509Z"
   },
   {
    "duration": 9,
    "start_time": "2021-11-04T11:19:52.598Z"
   },
   {
    "duration": 8,
    "start_time": "2021-11-04T11:20:27.064Z"
   },
   {
    "duration": 6159,
    "start_time": "2021-11-04T11:20:57.503Z"
   },
   {
    "duration": 6,
    "start_time": "2021-11-04T11:21:11.969Z"
   },
   {
    "duration": 8,
    "start_time": "2021-11-04T11:21:33.392Z"
   },
   {
    "duration": 9,
    "start_time": "2021-11-04T11:21:49.649Z"
   },
   {
    "duration": 9,
    "start_time": "2021-11-04T11:22:19.452Z"
   },
   {
    "duration": 8,
    "start_time": "2021-11-04T11:22:36.905Z"
   },
   {
    "duration": 8,
    "start_time": "2021-11-04T11:22:52.088Z"
   },
   {
    "duration": 15,
    "start_time": "2021-11-04T11:23:56.415Z"
   },
   {
    "duration": 7,
    "start_time": "2021-11-04T11:23:57.612Z"
   },
   {
    "duration": 11,
    "start_time": "2021-11-04T11:24:32.268Z"
   },
   {
    "duration": 12,
    "start_time": "2021-11-04T11:25:16.423Z"
   },
   {
    "duration": 12,
    "start_time": "2021-11-04T11:25:23.728Z"
   },
   {
    "duration": 7,
    "start_time": "2021-11-04T11:25:23.812Z"
   },
   {
    "duration": 8,
    "start_time": "2021-11-04T11:25:40.994Z"
   },
   {
    "duration": 6,
    "start_time": "2021-11-04T11:26:03.179Z"
   },
   {
    "duration": 7,
    "start_time": "2021-11-04T11:26:25.407Z"
   },
   {
    "duration": 7,
    "start_time": "2021-11-04T11:26:45.809Z"
   },
   {
    "duration": 9,
    "start_time": "2021-11-04T11:27:03.781Z"
   },
   {
    "duration": 8,
    "start_time": "2021-11-04T11:27:23.563Z"
   },
   {
    "duration": 9,
    "start_time": "2021-11-04T11:27:42.414Z"
   },
   {
    "duration": 9,
    "start_time": "2021-11-04T11:27:57.739Z"
   },
   {
    "duration": 8,
    "start_time": "2021-11-04T11:28:17.138Z"
   },
   {
    "duration": 7,
    "start_time": "2021-11-04T11:28:54.729Z"
   },
   {
    "duration": 20,
    "start_time": "2021-11-04T11:28:58.396Z"
   },
   {
    "duration": 1459,
    "start_time": "2021-11-05T09:48:51.713Z"
   },
   {
    "duration": 49,
    "start_time": "2021-11-05T09:48:53.175Z"
   },
   {
    "duration": 17,
    "start_time": "2021-11-05T09:48:53.228Z"
   },
   {
    "duration": 13,
    "start_time": "2021-11-05T09:48:53.269Z"
   },
   {
    "duration": 31,
    "start_time": "2021-11-05T09:48:53.285Z"
   },
   {
    "duration": 52,
    "start_time": "2021-11-05T09:48:53.320Z"
   },
   {
    "duration": 13,
    "start_time": "2021-11-05T09:48:53.376Z"
   },
   {
    "duration": 29,
    "start_time": "2021-11-05T09:48:53.392Z"
   },
   {
    "duration": 46,
    "start_time": "2021-11-05T09:48:53.423Z"
   },
   {
    "duration": 11,
    "start_time": "2021-11-05T09:48:53.472Z"
   },
   {
    "duration": 56,
    "start_time": "2021-11-05T09:48:53.485Z"
   },
   {
    "duration": 10,
    "start_time": "2021-11-05T09:48:53.568Z"
   },
   {
    "duration": 56,
    "start_time": "2021-11-05T09:48:53.580Z"
   },
   {
    "duration": 37,
    "start_time": "2021-11-05T09:48:53.639Z"
   },
   {
    "duration": 57,
    "start_time": "2021-11-05T09:48:53.678Z"
   },
   {
    "duration": 38,
    "start_time": "2021-11-05T09:48:53.738Z"
   },
   {
    "duration": 57,
    "start_time": "2021-11-05T09:48:53.778Z"
   },
   {
    "duration": 37,
    "start_time": "2021-11-05T09:48:53.837Z"
   },
   {
    "duration": 56,
    "start_time": "2021-11-05T09:48:53.876Z"
   },
   {
    "duration": 39,
    "start_time": "2021-11-05T09:48:53.934Z"
   },
   {
    "duration": 818,
    "start_time": "2021-11-05T09:48:53.976Z"
   },
   {
    "duration": 652,
    "start_time": "2021-11-05T09:48:54.797Z"
   },
   {
    "duration": 635,
    "start_time": "2021-11-05T09:48:55.454Z"
   },
   {
    "duration": 3552,
    "start_time": "2021-11-05T09:48:56.092Z"
   },
   {
    "duration": 924,
    "start_time": "2021-11-05T09:48:59.647Z"
   },
   {
    "duration": 810,
    "start_time": "2021-11-05T09:49:00.574Z"
   },
   {
    "duration": 641,
    "start_time": "2021-11-05T09:49:01.387Z"
   },
   {
    "duration": 626,
    "start_time": "2021-11-05T09:49:02.030Z"
   },
   {
    "duration": 1001,
    "start_time": "2021-11-05T09:49:02.659Z"
   },
   {
    "duration": 745,
    "start_time": "2021-11-05T09:49:03.663Z"
   },
   {
    "duration": 7366,
    "start_time": "2021-11-05T09:49:04.411Z"
   },
   {
    "duration": 4,
    "start_time": "2021-11-05T09:57:23.106Z"
   },
   {
    "duration": 9,
    "start_time": "2021-11-05T09:57:24.524Z"
   },
   {
    "duration": 105,
    "start_time": "2021-11-05T09:57:24.588Z"
   },
   {
    "duration": 9,
    "start_time": "2021-11-05T09:57:47.380Z"
   },
   {
    "duration": 9,
    "start_time": "2021-11-05T10:02:17.141Z"
   },
   {
    "duration": 93,
    "start_time": "2021-11-05T10:12:34.608Z"
   },
   {
    "duration": 112,
    "start_time": "2021-11-05T10:37:13.774Z"
   },
   {
    "duration": 95,
    "start_time": "2021-11-05T10:37:53.555Z"
   },
   {
    "duration": 5,
    "start_time": "2021-11-05T10:38:32.273Z"
   },
   {
    "duration": 39,
    "start_time": "2021-11-05T10:38:32.341Z"
   },
   {
    "duration": 114,
    "start_time": "2021-11-05T10:38:44.534Z"
   },
   {
    "duration": 109,
    "start_time": "2021-11-05T10:42:07.588Z"
   },
   {
    "duration": 5,
    "start_time": "2021-11-05T10:42:19.968Z"
   },
   {
    "duration": 90,
    "start_time": "2021-11-05T10:46:27.114Z"
   },
   {
    "duration": 94,
    "start_time": "2021-11-05T10:47:38.338Z"
   },
   {
    "duration": 557,
    "start_time": "2021-11-05T10:48:14.442Z"
   },
   {
    "duration": 7,
    "start_time": "2021-11-05T10:48:34.531Z"
   },
   {
    "duration": 115,
    "start_time": "2021-11-05T10:58:33.366Z"
   },
   {
    "duration": 871,
    "start_time": "2021-11-05T10:58:32.613Z"
   },
   {
    "duration": 6,
    "start_time": "2021-11-05T10:58:58.552Z"
   },
   {
    "duration": 568,
    "start_time": "2021-11-05T10:58:58.616Z"
   },
   {
    "duration": 5,
    "start_time": "2021-11-05T11:00:09.481Z"
   },
   {
    "duration": 6,
    "start_time": "2021-11-05T11:00:15.924Z"
   },
   {
    "duration": 118,
    "start_time": "2021-11-05T11:04:15.626Z"
   },
   {
    "duration": 111,
    "start_time": "2021-11-05T11:04:33.460Z"
   },
   {
    "duration": 97,
    "start_time": "2021-11-05T11:04:39.470Z"
   },
   {
    "duration": 99,
    "start_time": "2021-11-05T11:05:31.232Z"
   },
   {
    "duration": 100,
    "start_time": "2021-11-05T11:06:36.011Z"
   },
   {
    "duration": 130,
    "start_time": "2021-11-05T11:07:56.958Z"
   },
   {
    "duration": 899,
    "start_time": "2021-11-05T11:07:56.192Z"
   },
   {
    "duration": 103,
    "start_time": "2021-11-05T11:08:02.092Z"
   },
   {
    "duration": 103,
    "start_time": "2021-11-05T11:08:13.270Z"
   },
   {
    "duration": 901,
    "start_time": "2021-11-05T11:08:12.474Z"
   },
   {
    "duration": 7,
    "start_time": "2021-11-05T11:08:19.185Z"
   },
   {
    "duration": 9,
    "start_time": "2021-11-05T11:08:27.056Z"
   },
   {
    "duration": 104,
    "start_time": "2021-11-05T11:09:17.781Z"
   },
   {
    "duration": 102,
    "start_time": "2021-11-05T11:09:49.104Z"
   },
   {
    "duration": 9,
    "start_time": "2021-11-05T11:10:04.983Z"
   },
   {
    "duration": 7,
    "start_time": "2021-11-05T11:10:12.472Z"
   },
   {
    "duration": 7,
    "start_time": "2021-11-05T11:11:16.044Z"
   },
   {
    "duration": 11,
    "start_time": "2021-11-05T11:15:56.261Z"
   },
   {
    "duration": 627,
    "start_time": "2021-11-05T11:17:37.993Z"
   },
   {
    "duration": 601,
    "start_time": "2021-11-05T11:18:19.797Z"
   },
   {
    "duration": 5,
    "start_time": "2021-11-05T11:19:54.945Z"
   },
   {
    "duration": 285,
    "start_time": "2021-11-05T11:19:57.692Z"
   },
   {
    "duration": 6,
    "start_time": "2021-11-05T11:20:51.809Z"
   },
   {
    "duration": 5,
    "start_time": "2021-11-05T11:21:27.675Z"
   },
   {
    "duration": 661,
    "start_time": "2021-11-05T11:21:29.230Z"
   },
   {
    "duration": 7,
    "start_time": "2021-11-05T11:23:44.240Z"
   },
   {
    "duration": 8,
    "start_time": "2021-11-05T12:03:00.687Z"
   },
   {
    "duration": 310,
    "start_time": "2021-11-05T12:05:40.670Z"
   },
   {
    "duration": 4,
    "start_time": "2021-11-05T12:06:02.704Z"
   },
   {
    "duration": 11,
    "start_time": "2021-11-05T12:06:06.778Z"
   },
   {
    "duration": 10,
    "start_time": "2021-11-05T12:06:39.599Z"
   },
   {
    "duration": 9,
    "start_time": "2021-11-05T12:06:44.810Z"
   },
   {
    "duration": 10,
    "start_time": "2021-11-05T12:10:19.807Z"
   },
   {
    "duration": 9,
    "start_time": "2021-11-05T12:11:57.331Z"
   },
   {
    "duration": 12,
    "start_time": "2021-11-05T12:13:20.718Z"
   },
   {
    "duration": 294,
    "start_time": "2021-11-05T12:13:29.019Z"
   },
   {
    "duration": 11,
    "start_time": "2021-11-05T12:13:33.865Z"
   },
   {
    "duration": 303,
    "start_time": "2021-11-05T12:13:46.372Z"
   },
   {
    "duration": 11,
    "start_time": "2021-11-05T12:13:52.320Z"
   },
   {
    "duration": 10,
    "start_time": "2021-11-05T12:14:02.355Z"
   },
   {
    "duration": 10,
    "start_time": "2021-11-05T12:14:02.420Z"
   },
   {
    "duration": 301,
    "start_time": "2021-11-05T12:14:14.364Z"
   },
   {
    "duration": 309,
    "start_time": "2021-11-05T12:14:18.940Z"
   },
   {
    "duration": 12,
    "start_time": "2021-11-05T12:14:22.539Z"
   },
   {
    "duration": 10,
    "start_time": "2021-11-05T12:14:48.295Z"
   },
   {
    "duration": 11,
    "start_time": "2021-11-05T12:14:54.779Z"
   },
   {
    "duration": 305,
    "start_time": "2021-11-05T12:15:07.241Z"
   },
   {
    "duration": 11,
    "start_time": "2021-11-05T12:15:11.860Z"
   },
   {
    "duration": 11,
    "start_time": "2021-11-05T12:15:48.715Z"
   },
   {
    "duration": 95,
    "start_time": "2021-11-05T12:15:54.905Z"
   },
   {
    "duration": 11,
    "start_time": "2021-11-05T12:16:10.087Z"
   },
   {
    "duration": 1478,
    "start_time": "2021-11-05T12:17:07.704Z"
   },
   {
    "duration": 57,
    "start_time": "2021-11-05T12:17:09.185Z"
   },
   {
    "duration": 23,
    "start_time": "2021-11-05T12:17:09.245Z"
   },
   {
    "duration": 10,
    "start_time": "2021-11-05T12:17:09.271Z"
   },
   {
    "duration": 30,
    "start_time": "2021-11-05T12:17:09.283Z"
   },
   {
    "duration": 10,
    "start_time": "2021-11-05T12:17:09.315Z"
   },
   {
    "duration": 47,
    "start_time": "2021-11-05T12:17:09.328Z"
   },
   {
    "duration": 29,
    "start_time": "2021-11-05T12:17:09.379Z"
   },
   {
    "duration": 11,
    "start_time": "2021-11-05T12:17:09.412Z"
   },
   {
    "duration": 49,
    "start_time": "2021-11-05T12:17:09.426Z"
   },
   {
    "duration": 58,
    "start_time": "2021-11-05T12:17:09.478Z"
   },
   {
    "duration": 30,
    "start_time": "2021-11-05T12:17:09.539Z"
   },
   {
    "duration": 57,
    "start_time": "2021-11-05T12:17:09.572Z"
   },
   {
    "duration": 41,
    "start_time": "2021-11-05T12:17:09.632Z"
   },
   {
    "duration": 57,
    "start_time": "2021-11-05T12:17:09.676Z"
   },
   {
    "duration": 37,
    "start_time": "2021-11-05T12:17:09.735Z"
   },
   {
    "duration": 58,
    "start_time": "2021-11-05T12:17:09.775Z"
   },
   {
    "duration": 41,
    "start_time": "2021-11-05T12:17:09.836Z"
   },
   {
    "duration": 65,
    "start_time": "2021-11-05T12:17:09.880Z"
   },
   {
    "duration": 13,
    "start_time": "2021-11-05T12:17:09.969Z"
   },
   {
    "duration": 817,
    "start_time": "2021-11-05T12:17:09.984Z"
   },
   {
    "duration": 667,
    "start_time": "2021-11-05T12:17:10.803Z"
   },
   {
    "duration": 627,
    "start_time": "2021-11-05T12:17:11.475Z"
   },
   {
    "duration": 3674,
    "start_time": "2021-11-05T12:17:12.105Z"
   },
   {
    "duration": 956,
    "start_time": "2021-11-05T12:17:15.782Z"
   },
   {
    "duration": 812,
    "start_time": "2021-11-05T12:17:16.741Z"
   },
   {
    "duration": 652,
    "start_time": "2021-11-05T12:17:17.556Z"
   },
   {
    "duration": 642,
    "start_time": "2021-11-05T12:17:18.211Z"
   },
   {
    "duration": 814,
    "start_time": "2021-11-05T12:17:18.856Z"
   },
   {
    "duration": 764,
    "start_time": "2021-11-05T12:17:19.674Z"
   },
   {
    "duration": 8641,
    "start_time": "2021-11-05T12:17:20.441Z"
   },
   {
    "duration": 10,
    "start_time": "2021-11-05T12:17:29.085Z"
   },
   {
    "duration": 11,
    "start_time": "2021-11-05T12:17:29.097Z"
   },
   {
    "duration": 9,
    "start_time": "2021-11-05T12:17:29.111Z"
   },
   {
    "duration": 52,
    "start_time": "2021-11-05T12:17:29.123Z"
   },
   {
    "duration": 534,
    "start_time": "2021-11-05T12:46:50.708Z"
   },
   {
    "duration": 2622,
    "start_time": "2021-11-05T12:47:01.298Z"
   },
   {
    "duration": 2722,
    "start_time": "2021-11-05T12:47:55.075Z"
   },
   {
    "duration": 58,
    "start_time": "2021-11-05T12:55:26.035Z"
   },
   {
    "duration": 1515,
    "start_time": "2021-11-05T13:02:44.075Z"
   },
   {
    "duration": 49,
    "start_time": "2021-11-05T13:02:45.594Z"
   },
   {
    "duration": 25,
    "start_time": "2021-11-05T13:02:45.646Z"
   },
   {
    "duration": 11,
    "start_time": "2021-11-05T13:02:45.673Z"
   },
   {
    "duration": 30,
    "start_time": "2021-11-05T13:02:45.686Z"
   },
   {
    "duration": 12,
    "start_time": "2021-11-05T13:02:45.718Z"
   },
   {
    "duration": 14,
    "start_time": "2021-11-05T13:02:45.768Z"
   },
   {
    "duration": 41,
    "start_time": "2021-11-05T13:02:45.787Z"
   },
   {
    "duration": 10,
    "start_time": "2021-11-05T13:02:45.831Z"
   },
   {
    "duration": 34,
    "start_time": "2021-11-05T13:02:45.843Z"
   },
   {
    "duration": 59,
    "start_time": "2021-11-05T13:02:45.880Z"
   },
   {
    "duration": 11,
    "start_time": "2021-11-05T13:02:45.967Z"
   },
   {
    "duration": 89,
    "start_time": "2021-11-05T13:02:45.980Z"
   },
   {
    "duration": 15,
    "start_time": "2021-11-05T13:02:46.072Z"
   },
   {
    "duration": 83,
    "start_time": "2021-11-05T13:02:46.090Z"
   },
   {
    "duration": 12,
    "start_time": "2021-11-05T13:02:46.175Z"
   },
   {
    "duration": 80,
    "start_time": "2021-11-05T13:02:46.189Z"
   },
   {
    "duration": 11,
    "start_time": "2021-11-05T13:02:46.272Z"
   },
   {
    "duration": 84,
    "start_time": "2021-11-05T13:02:46.285Z"
   },
   {
    "duration": 11,
    "start_time": "2021-11-05T13:02:46.371Z"
   },
   {
    "duration": 860,
    "start_time": "2021-11-05T13:02:46.384Z"
   },
   {
    "duration": 666,
    "start_time": "2021-11-05T13:02:47.246Z"
   },
   {
    "duration": 662,
    "start_time": "2021-11-05T13:02:47.917Z"
   },
   {
    "duration": 3774,
    "start_time": "2021-11-05T13:02:48.582Z"
   },
   {
    "duration": 1065,
    "start_time": "2021-11-05T13:02:52.359Z"
   },
   {
    "duration": 803,
    "start_time": "2021-11-05T13:02:53.427Z"
   },
   {
    "duration": 669,
    "start_time": "2021-11-05T13:02:54.232Z"
   },
   {
    "duration": 622,
    "start_time": "2021-11-05T13:02:54.903Z"
   },
   {
    "duration": 827,
    "start_time": "2021-11-05T13:02:55.527Z"
   },
   {
    "duration": 765,
    "start_time": "2021-11-05T13:02:56.358Z"
   },
   {
    "duration": 7145,
    "start_time": "2021-11-05T13:02:57.125Z"
   },
   {
    "duration": 11,
    "start_time": "2021-11-05T13:03:04.272Z"
   },
   {
    "duration": 12,
    "start_time": "2021-11-05T13:03:04.285Z"
   },
   {
    "duration": 17,
    "start_time": "2021-11-05T13:03:04.300Z"
   },
   {
    "duration": 47,
    "start_time": "2021-11-05T13:03:04.320Z"
   },
   {
    "duration": 58,
    "start_time": "2021-11-05T13:03:04.370Z"
   },
   {
    "duration": 2382,
    "start_time": "2021-11-05T13:03:07.093Z"
   },
   {
    "duration": 1450,
    "start_time": "2021-11-05T13:06:24.420Z"
   },
   {
    "duration": 50,
    "start_time": "2021-11-05T13:06:25.872Z"
   },
   {
    "duration": 16,
    "start_time": "2021-11-05T13:06:25.925Z"
   },
   {
    "duration": 27,
    "start_time": "2021-11-05T13:06:25.944Z"
   },
   {
    "duration": 28,
    "start_time": "2021-11-05T13:06:25.974Z"
   },
   {
    "duration": 10,
    "start_time": "2021-11-05T13:06:26.005Z"
   },
   {
    "duration": 14,
    "start_time": "2021-11-05T13:06:26.018Z"
   },
   {
    "duration": 59,
    "start_time": "2021-11-05T13:06:26.069Z"
   },
   {
    "duration": 10,
    "start_time": "2021-11-05T13:06:26.131Z"
   },
   {
    "duration": 77,
    "start_time": "2021-11-05T13:06:26.143Z"
   },
   {
    "duration": 11,
    "start_time": "2021-11-05T13:06:26.222Z"
   },
   {
    "duration": 85,
    "start_time": "2021-11-05T13:06:26.236Z"
   },
   {
    "duration": 11,
    "start_time": "2021-11-05T13:06:26.324Z"
   },
   {
    "duration": 81,
    "start_time": "2021-11-05T13:06:26.337Z"
   },
   {
    "duration": 11,
    "start_time": "2021-11-05T13:06:26.420Z"
   },
   {
    "duration": 81,
    "start_time": "2021-11-05T13:06:26.433Z"
   },
   {
    "duration": 11,
    "start_time": "2021-11-05T13:06:26.516Z"
   },
   {
    "duration": 829,
    "start_time": "2021-11-05T13:06:26.529Z"
   },
   {
    "duration": 650,
    "start_time": "2021-11-05T13:06:27.360Z"
   },
   {
    "duration": 615,
    "start_time": "2021-11-05T13:06:28.012Z"
   },
   {
    "duration": 3542,
    "start_time": "2021-11-05T13:06:28.629Z"
   },
   {
    "duration": 907,
    "start_time": "2021-11-05T13:06:32.174Z"
   },
   {
    "duration": 818,
    "start_time": "2021-11-05T13:06:33.086Z"
   },
   {
    "duration": 631,
    "start_time": "2021-11-05T13:06:33.907Z"
   },
   {
    "duration": 610,
    "start_time": "2021-11-05T13:06:34.540Z"
   },
   {
    "duration": 824,
    "start_time": "2021-11-05T13:06:35.153Z"
   },
   {
    "duration": 745,
    "start_time": "2021-11-05T13:06:35.979Z"
   },
   {
    "duration": 7367,
    "start_time": "2021-11-05T13:06:36.726Z"
   },
   {
    "duration": 12,
    "start_time": "2021-11-05T13:06:44.096Z"
   },
   {
    "duration": 10,
    "start_time": "2021-11-05T13:06:44.111Z"
   },
   {
    "duration": 9,
    "start_time": "2021-11-05T13:06:44.124Z"
   },
   {
    "duration": 58,
    "start_time": "2021-11-05T13:06:44.168Z"
   },
   {
    "duration": 3191,
    "start_time": "2021-11-05T13:06:44.229Z"
   },
   {
    "duration": 123,
    "start_time": "2021-11-06T13:52:49.642Z"
   },
   {
    "duration": 89,
    "start_time": "2021-11-06T13:54:52.695Z"
   },
   {
    "duration": 96,
    "start_time": "2021-11-06T14:00:36.247Z"
   },
   {
    "duration": 89,
    "start_time": "2021-11-06T14:33:29.627Z"
   },
   {
    "duration": 86,
    "start_time": "2021-11-06T14:34:59.839Z"
   },
   {
    "duration": 1451,
    "start_time": "2021-11-06T14:45:37.832Z"
   },
   {
    "duration": 86,
    "start_time": "2021-11-06T14:53:09.204Z"
   },
   {
    "duration": 1529,
    "start_time": "2021-11-06T15:23:42.057Z"
   },
   {
    "duration": 151,
    "start_time": "2021-11-06T15:23:43.590Z"
   },
   {
    "duration": 16,
    "start_time": "2021-11-06T15:23:43.744Z"
   },
   {
    "duration": 11,
    "start_time": "2021-11-06T15:23:43.763Z"
   },
   {
    "duration": 29,
    "start_time": "2021-11-06T15:23:43.776Z"
   },
   {
    "duration": 9,
    "start_time": "2021-11-06T15:23:43.807Z"
   },
   {
    "duration": 11,
    "start_time": "2021-11-06T15:23:43.819Z"
   },
   {
    "duration": 99,
    "start_time": "2021-11-06T15:23:43.834Z"
   },
   {
    "duration": 11,
    "start_time": "2021-11-06T15:23:43.936Z"
   },
   {
    "duration": 82,
    "start_time": "2021-11-06T15:23:43.950Z"
   },
   {
    "duration": 15,
    "start_time": "2021-11-06T15:23:44.035Z"
   },
   {
    "duration": 81,
    "start_time": "2021-11-06T15:23:44.052Z"
   },
   {
    "duration": 15,
    "start_time": "2021-11-06T15:23:44.136Z"
   },
   {
    "duration": 79,
    "start_time": "2021-11-06T15:23:44.154Z"
   },
   {
    "duration": 12,
    "start_time": "2021-11-06T15:23:44.236Z"
   },
   {
    "duration": 92,
    "start_time": "2021-11-06T15:23:44.251Z"
   },
   {
    "duration": 12,
    "start_time": "2021-11-06T15:23:44.346Z"
   },
   {
    "duration": 828,
    "start_time": "2021-11-06T15:23:44.360Z"
   },
   {
    "duration": 666,
    "start_time": "2021-11-06T15:23:45.190Z"
   },
   {
    "duration": 717,
    "start_time": "2021-11-06T15:23:45.859Z"
   },
   {
    "duration": 3707,
    "start_time": "2021-11-06T15:23:46.582Z"
   },
   {
    "duration": 913,
    "start_time": "2021-11-06T15:23:50.292Z"
   },
   {
    "duration": 804,
    "start_time": "2021-11-06T15:23:51.209Z"
   },
   {
    "duration": 626,
    "start_time": "2021-11-06T15:23:52.016Z"
   },
   {
    "duration": 610,
    "start_time": "2021-11-06T15:23:52.645Z"
   },
   {
    "duration": 798,
    "start_time": "2021-11-06T15:23:53.258Z"
   },
   {
    "duration": 738,
    "start_time": "2021-11-06T15:23:54.058Z"
   },
   {
    "duration": 7089,
    "start_time": "2021-11-06T15:23:54.798Z"
   },
   {
    "duration": 11,
    "start_time": "2021-11-06T15:24:01.889Z"
   },
   {
    "duration": 22,
    "start_time": "2021-11-06T15:24:01.902Z"
   },
   {
    "duration": 21,
    "start_time": "2021-11-06T15:24:01.926Z"
   },
   {
    "duration": 73,
    "start_time": "2021-11-06T15:24:01.949Z"
   },
   {
    "duration": 2434,
    "start_time": "2021-11-06T15:24:02.025Z"
   },
   {
    "duration": 303,
    "start_time": "2021-11-06T15:27:13.359Z"
   },
   {
    "duration": 437,
    "start_time": "2021-11-06T15:30:48.367Z"
   },
   {
    "duration": 9,
    "start_time": "2021-11-06T15:30:48.798Z"
   },
   {
    "duration": 309,
    "start_time": "2021-11-06T15:31:03.846Z"
   },
   {
    "duration": 283,
    "start_time": "2021-11-06T15:38:08.847Z"
   },
   {
    "duration": 227,
    "start_time": "2021-11-06T15:38:16.779Z"
   },
   {
    "duration": 896,
    "start_time": "2021-11-06T15:38:34.334Z"
   },
   {
    "duration": 1158,
    "start_time": "2021-11-06T15:38:45.854Z"
   },
   {
    "duration": 1246,
    "start_time": "2021-11-06T15:38:55.580Z"
   },
   {
    "duration": 1297,
    "start_time": "2021-11-06T15:39:03.358Z"
   },
   {
    "duration": 1026,
    "start_time": "2021-11-06T15:39:12.840Z"
   },
   {
    "duration": 1139,
    "start_time": "2021-11-06T15:39:26.495Z"
   },
   {
    "duration": 1162,
    "start_time": "2021-11-06T15:39:29.637Z"
   },
   {
    "duration": 322,
    "start_time": "2021-11-06T15:39:30.802Z"
   },
   {
    "duration": 1037,
    "start_time": "2021-11-06T15:39:38.126Z"
   },
   {
    "duration": 1101,
    "start_time": "2021-11-06T15:39:57.768Z"
   },
   {
    "duration": 1102,
    "start_time": "2021-11-06T15:42:48.162Z"
   },
   {
    "duration": 622,
    "start_time": "2021-11-06T15:42:49.266Z"
   },
   {
    "duration": 1251,
    "start_time": "2021-11-06T15:43:54.631Z"
   },
   {
    "duration": 1289,
    "start_time": "2021-11-06T15:47:06.372Z"
   },
   {
    "duration": 1079,
    "start_time": "2021-11-06T15:47:33.480Z"
   },
   {
    "duration": 1171,
    "start_time": "2021-11-06T15:48:00.562Z"
   },
   {
    "duration": 672,
    "start_time": "2021-11-06T15:48:01.736Z"
   },
   {
    "duration": 1272,
    "start_time": "2021-11-06T15:48:10.701Z"
   },
   {
    "duration": 724,
    "start_time": "2021-11-06T15:48:26.632Z"
   },
   {
    "duration": 803,
    "start_time": "2021-11-06T15:48:30.070Z"
   },
   {
    "duration": 1188,
    "start_time": "2021-11-06T15:48:42.713Z"
   },
   {
    "duration": 620,
    "start_time": "2021-11-06T15:48:43.903Z"
   },
   {
    "duration": 1283,
    "start_time": "2021-11-06T15:49:29.287Z"
   },
   {
    "duration": 628,
    "start_time": "2021-11-06T15:49:30.572Z"
   },
   {
    "duration": 1369,
    "start_time": "2021-11-06T15:49:56.062Z"
   },
   {
    "duration": 1291,
    "start_time": "2021-11-06T15:50:04.451Z"
   },
   {
    "duration": 1152,
    "start_time": "2021-11-06T15:50:08.260Z"
   },
   {
    "duration": 623,
    "start_time": "2021-11-06T15:50:09.415Z"
   },
   {
    "duration": 1162,
    "start_time": "2021-11-06T15:51:43.722Z"
   },
   {
    "duration": 1698,
    "start_time": "2021-11-06T15:58:45.897Z"
   },
   {
    "duration": 1410,
    "start_time": "2021-11-06T15:58:58.179Z"
   },
   {
    "duration": 1464,
    "start_time": "2021-11-06T16:01:46.827Z"
   },
   {
    "duration": 3086,
    "start_time": "2021-11-06T16:03:51.666Z"
   },
   {
    "duration": 108,
    "start_time": "2021-11-06T16:05:58.597Z"
   },
   {
    "duration": 1306,
    "start_time": "2021-11-06T16:06:12.044Z"
   },
   {
    "duration": 93,
    "start_time": "2021-11-06T16:07:11.904Z"
   },
   {
    "duration": 1153,
    "start_time": "2021-11-06T16:07:19.247Z"
   },
   {
    "duration": 1191,
    "start_time": "2021-11-06T16:08:43.565Z"
   },
   {
    "duration": 1319,
    "start_time": "2021-11-06T16:08:59.587Z"
   },
   {
    "duration": 1327,
    "start_time": "2021-11-06T16:09:17.958Z"
   },
   {
    "duration": 799,
    "start_time": "2021-11-06T16:09:19.287Z"
   },
   {
    "duration": 1317,
    "start_time": "2021-11-06T16:10:44.577Z"
   },
   {
    "duration": 4,
    "start_time": "2021-11-06T16:16:14.246Z"
   },
   {
    "duration": 52,
    "start_time": "2021-11-06T16:16:14.253Z"
   },
   {
    "duration": 15,
    "start_time": "2021-11-06T16:16:14.307Z"
   },
   {
    "duration": 13,
    "start_time": "2021-11-06T16:16:14.330Z"
   },
   {
    "duration": 60,
    "start_time": "2021-11-06T16:16:14.347Z"
   },
   {
    "duration": 11,
    "start_time": "2021-11-06T16:16:14.409Z"
   },
   {
    "duration": 12,
    "start_time": "2021-11-06T16:16:14.422Z"
   },
   {
    "duration": 90,
    "start_time": "2021-11-06T16:16:14.437Z"
   },
   {
    "duration": 10,
    "start_time": "2021-11-06T16:16:14.530Z"
   },
   {
    "duration": 77,
    "start_time": "2021-11-06T16:16:14.542Z"
   },
   {
    "duration": 12,
    "start_time": "2021-11-06T16:16:14.621Z"
   },
   {
    "duration": 88,
    "start_time": "2021-11-06T16:16:14.635Z"
   },
   {
    "duration": 12,
    "start_time": "2021-11-06T16:16:14.725Z"
   },
   {
    "duration": 82,
    "start_time": "2021-11-06T16:16:14.739Z"
   },
   {
    "duration": 14,
    "start_time": "2021-11-06T16:16:14.823Z"
   },
   {
    "duration": 79,
    "start_time": "2021-11-06T16:16:14.839Z"
   },
   {
    "duration": 12,
    "start_time": "2021-11-06T16:16:14.920Z"
   },
   {
    "duration": 1421,
    "start_time": "2021-11-06T16:16:14.934Z"
   },
   {
    "duration": 595,
    "start_time": "2021-11-06T16:16:16.358Z"
   },
   {
    "duration": 3536,
    "start_time": "2021-11-06T16:16:16.955Z"
   },
   {
    "duration": 908,
    "start_time": "2021-11-06T16:16:20.493Z"
   },
   {
    "duration": 1564,
    "start_time": "2021-11-06T16:16:21.404Z"
   },
   {
    "duration": 615,
    "start_time": "2021-11-06T16:16:22.983Z"
   },
   {
    "duration": 615,
    "start_time": "2021-11-06T16:16:23.600Z"
   },
   {
    "duration": 1428,
    "start_time": "2021-11-06T16:16:24.218Z"
   },
   {
    "duration": 624,
    "start_time": "2021-11-06T16:16:25.649Z"
   },
   {
    "duration": 6819,
    "start_time": "2021-11-06T16:16:26.276Z"
   },
   {
    "duration": 11,
    "start_time": "2021-11-06T16:16:33.097Z"
   },
   {
    "duration": 14,
    "start_time": "2021-11-06T16:16:33.110Z"
   },
   {
    "duration": 12,
    "start_time": "2021-11-06T16:16:33.126Z"
   },
   {
    "duration": 84,
    "start_time": "2021-11-06T16:16:33.141Z"
   },
   {
    "duration": 2508,
    "start_time": "2021-11-06T16:16:33.228Z"
   },
   {
    "duration": 1442,
    "start_time": "2021-11-06T16:17:51.021Z"
   },
   {
    "duration": 45,
    "start_time": "2021-11-06T16:17:52.466Z"
   },
   {
    "duration": 14,
    "start_time": "2021-11-06T16:17:52.514Z"
   },
   {
    "duration": 12,
    "start_time": "2021-11-06T16:17:52.531Z"
   },
   {
    "duration": 62,
    "start_time": "2021-11-06T16:17:52.545Z"
   },
   {
    "duration": 9,
    "start_time": "2021-11-06T16:17:52.610Z"
   },
   {
    "duration": 11,
    "start_time": "2021-11-06T16:17:52.621Z"
   },
   {
    "duration": 93,
    "start_time": "2021-11-06T16:17:52.635Z"
   },
   {
    "duration": 11,
    "start_time": "2021-11-06T16:17:52.731Z"
   },
   {
    "duration": 83,
    "start_time": "2021-11-06T16:17:52.744Z"
   },
   {
    "duration": 12,
    "start_time": "2021-11-06T16:17:52.829Z"
   },
   {
    "duration": 83,
    "start_time": "2021-11-06T16:17:52.844Z"
   },
   {
    "duration": 11,
    "start_time": "2021-11-06T16:17:52.930Z"
   },
   {
    "duration": 78,
    "start_time": "2021-11-06T16:17:52.944Z"
   },
   {
    "duration": 12,
    "start_time": "2021-11-06T16:17:53.024Z"
   },
   {
    "duration": 76,
    "start_time": "2021-11-06T16:17:53.039Z"
   },
   {
    "duration": 14,
    "start_time": "2021-11-06T16:17:53.118Z"
   },
   {
    "duration": 1328,
    "start_time": "2021-11-06T16:17:53.134Z"
   },
   {
    "duration": 610,
    "start_time": "2021-11-06T16:17:54.464Z"
   },
   {
    "duration": 3812,
    "start_time": "2021-11-06T16:17:55.077Z"
   },
   {
    "duration": 892,
    "start_time": "2021-11-06T16:17:58.892Z"
   },
   {
    "duration": 1359,
    "start_time": "2021-11-06T16:17:59.786Z"
   },
   {
    "duration": 734,
    "start_time": "2021-11-06T16:18:01.151Z"
   },
   {
    "duration": 805,
    "start_time": "2021-11-06T16:18:01.888Z"
   },
   {
    "duration": 1296,
    "start_time": "2021-11-06T16:18:02.695Z"
   },
   {
    "duration": 630,
    "start_time": "2021-11-06T16:18:03.994Z"
   },
   {
    "duration": 7058,
    "start_time": "2021-11-06T16:18:04.626Z"
   },
   {
    "duration": 11,
    "start_time": "2021-11-06T16:18:11.687Z"
   },
   {
    "duration": 6,
    "start_time": "2021-11-06T16:18:11.700Z"
   },
   {
    "duration": 12,
    "start_time": "2021-11-06T16:18:11.708Z"
   },
   {
    "duration": 92,
    "start_time": "2021-11-06T16:18:11.722Z"
   },
   {
    "duration": 2390,
    "start_time": "2021-11-06T16:18:11.816Z"
   },
   {
    "duration": 1293,
    "start_time": "2021-11-06T16:22:58.066Z"
   },
   {
    "duration": 11,
    "start_time": "2021-11-06T16:31:25.392Z"
   },
   {
    "duration": 11,
    "start_time": "2021-11-06T16:42:45.042Z"
   },
   {
    "duration": 12,
    "start_time": "2021-11-06T16:43:19.302Z"
   },
   {
    "duration": 6,
    "start_time": "2021-11-07T08:32:43.884Z"
   },
   {
    "duration": 45,
    "start_time": "2021-11-07T08:32:43.892Z"
   },
   {
    "duration": 29,
    "start_time": "2021-11-07T08:32:43.939Z"
   },
   {
    "duration": 9,
    "start_time": "2021-11-07T08:32:43.971Z"
   },
   {
    "duration": 31,
    "start_time": "2021-11-07T08:32:43.983Z"
   },
   {
    "duration": 12,
    "start_time": "2021-11-07T08:32:44.017Z"
   },
   {
    "duration": 13,
    "start_time": "2021-11-07T08:32:44.067Z"
   },
   {
    "duration": 59,
    "start_time": "2021-11-07T08:32:44.082Z"
   },
   {
    "duration": 32,
    "start_time": "2021-11-07T08:32:44.143Z"
   },
   {
    "duration": 58,
    "start_time": "2021-11-07T08:32:44.177Z"
   },
   {
    "duration": 41,
    "start_time": "2021-11-07T08:32:44.238Z"
   },
   {
    "duration": 85,
    "start_time": "2021-11-07T08:32:44.282Z"
   },
   {
    "duration": 14,
    "start_time": "2021-11-07T08:32:44.370Z"
   },
   {
    "duration": 90,
    "start_time": "2021-11-07T08:32:44.387Z"
   },
   {
    "duration": 12,
    "start_time": "2021-11-07T08:32:44.479Z"
   },
   {
    "duration": 83,
    "start_time": "2021-11-07T08:32:44.494Z"
   },
   {
    "duration": 12,
    "start_time": "2021-11-07T08:32:44.579Z"
   },
   {
    "duration": 1337,
    "start_time": "2021-11-07T08:32:44.594Z"
   },
   {
    "duration": 610,
    "start_time": "2021-11-07T08:32:45.934Z"
   },
   {
    "duration": 3762,
    "start_time": "2021-11-07T08:32:46.547Z"
   },
   {
    "duration": 920,
    "start_time": "2021-11-07T08:32:50.311Z"
   },
   {
    "duration": 1393,
    "start_time": "2021-11-07T08:32:51.234Z"
   },
   {
    "duration": 640,
    "start_time": "2021-11-07T08:32:52.630Z"
   },
   {
    "duration": 629,
    "start_time": "2021-11-07T08:32:53.272Z"
   },
   {
    "duration": 1340,
    "start_time": "2021-11-07T08:32:53.904Z"
   },
   {
    "duration": 878,
    "start_time": "2021-11-07T08:32:55.246Z"
   },
   {
    "duration": 1452,
    "start_time": "2021-11-07T08:32:56.127Z"
   },
   {
    "duration": 15,
    "start_time": "2021-11-07T08:32:57.582Z"
   },
   {
    "duration": 8,
    "start_time": "2021-11-07T08:32:57.601Z"
   },
   {
    "duration": 12,
    "start_time": "2021-11-07T08:32:57.612Z"
   },
   {
    "duration": 60,
    "start_time": "2021-11-07T08:32:57.669Z"
   },
   {
    "duration": 2710,
    "start_time": "2021-11-07T08:32:57.732Z"
   },
   {
    "duration": 124,
    "start_time": "2021-11-08T07:15:49.825Z"
   },
   {
    "duration": 76,
    "start_time": "2021-11-08T07:20:01.685Z"
   },
   {
    "duration": 76,
    "start_time": "2021-11-08T07:22:39.460Z"
   },
   {
    "duration": 1442,
    "start_time": "2022-02-10T13:50:04.520Z"
   },
   {
    "duration": 61,
    "start_time": "2022-02-10T13:50:05.967Z"
   },
   {
    "duration": 27,
    "start_time": "2022-02-10T13:50:06.032Z"
   },
   {
    "duration": 15,
    "start_time": "2022-02-10T13:50:06.062Z"
   },
   {
    "duration": 45,
    "start_time": "2022-02-10T13:50:06.081Z"
   },
   {
    "duration": 34,
    "start_time": "2022-02-10T13:50:06.129Z"
   },
   {
    "duration": 16,
    "start_time": "2022-02-10T13:50:06.166Z"
   },
   {
    "duration": 89,
    "start_time": "2022-02-10T13:50:06.185Z"
   },
   {
    "duration": 11,
    "start_time": "2022-02-10T13:50:06.280Z"
   },
   {
    "duration": 81,
    "start_time": "2022-02-10T13:50:06.294Z"
   },
   {
    "duration": 11,
    "start_time": "2022-02-10T13:50:06.378Z"
   },
   {
    "duration": 77,
    "start_time": "2022-02-10T13:50:06.391Z"
   },
   {
    "duration": 16,
    "start_time": "2022-02-10T13:50:06.471Z"
   },
   {
    "duration": 90,
    "start_time": "2022-02-10T13:50:06.490Z"
   },
   {
    "duration": 10,
    "start_time": "2022-02-10T13:50:06.583Z"
   },
   {
    "duration": 79,
    "start_time": "2022-02-10T13:50:06.595Z"
   },
   {
    "duration": 11,
    "start_time": "2022-02-10T13:50:06.676Z"
   },
   {
    "duration": 1407,
    "start_time": "2022-02-10T13:50:06.690Z"
   },
   {
    "duration": 646,
    "start_time": "2022-02-10T13:50:08.101Z"
   },
   {
    "duration": 3655,
    "start_time": "2022-02-10T13:50:08.750Z"
   },
   {
    "duration": 983,
    "start_time": "2022-02-10T13:50:12.408Z"
   },
   {
    "duration": 1412,
    "start_time": "2022-02-10T13:50:13.394Z"
   },
   {
    "duration": 646,
    "start_time": "2022-02-10T13:50:14.809Z"
   },
   {
    "duration": 746,
    "start_time": "2022-02-10T13:50:15.460Z"
   },
   {
    "duration": 1357,
    "start_time": "2022-02-10T13:50:16.209Z"
   },
   {
    "duration": 644,
    "start_time": "2022-02-10T13:50:17.570Z"
   },
   {
    "duration": 1377,
    "start_time": "2022-02-10T13:50:18.219Z"
   },
   {
    "duration": 11,
    "start_time": "2022-02-10T13:50:19.598Z"
   },
   {
    "duration": 6,
    "start_time": "2022-02-10T13:50:19.612Z"
   },
   {
    "duration": 45,
    "start_time": "2022-02-10T13:50:19.621Z"
   },
   {
    "duration": 58,
    "start_time": "2022-02-10T13:50:19.669Z"
   },
   {
    "duration": 2734,
    "start_time": "2022-02-10T13:50:19.729Z"
   }
  ],
  "kernelspec": {
   "display_name": "Python 3",
   "language": "python",
   "name": "python3"
  },
  "language_info": {
   "codemirror_mode": {
    "name": "ipython",
    "version": 3
   },
   "file_extension": ".py",
   "mimetype": "text/x-python",
   "name": "python",
   "nbconvert_exporter": "python",
   "pygments_lexer": "ipython3",
   "version": "3.7.8"
  },
  "toc": {
   "base_numbering": 1,
   "nav_menu": {},
   "number_sections": true,
   "sideBar": true,
   "skip_h1_title": true,
   "title_cell": "Table of Contents",
   "title_sidebar": "Contents",
   "toc_cell": false,
   "toc_position": {},
   "toc_section_display": true,
   "toc_window_display": true
  }
 },
 "nbformat": 4,
 "nbformat_minor": 2
}
