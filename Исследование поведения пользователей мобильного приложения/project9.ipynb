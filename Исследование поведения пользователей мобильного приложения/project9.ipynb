{
 "cells": [
  {
   "cell_type": "markdown",
   "metadata": {},
   "source": [
    "# Поведение пользователей мобильного приложения"
   ]
  },
  {
   "cell_type": "markdown",
   "metadata": {},
   "source": [
    "**Описание проекта**:\n",
    "\n",
    "Вы работаете в стартапе, который продаёт продукты питания. Нужно разобраться, как ведут себя пользователи вашего мобильного приложения. \n",
    "\n",
    "Изучите воронку продаж. Узнайте, как пользователи доходят до покупки. Сколько пользователей доходит до покупки, а сколько — «застревает» на предыдущих шагах? На каких именно?\n",
    "\n",
    "После этого исследуйте результаты A/A/B-эксперимента: дизайнеры захотели поменять шрифты во всём приложении, а менеджеры испугались, что пользователям будет непривычно. Договорились принять решение по результатам A/A/B-теста. \n",
    "\n",
    "Пользователей разбили на 3 группы: 2 контрольные со старыми шрифтами и одну экспериментальную — с новыми. Выясните, какой шрифт лучше."
   ]
  },
  {
   "cell_type": "markdown",
   "metadata": {},
   "source": [
    "**Задачи проекта**:\n",
    "\n",
    " - Выявить полные данные из таблицы\n",
    " - Изучить воронку событий\n",
    " \n",
    "  1) Какие события есть в логах и как часто они встречаются;\n",
    "  \n",
    "  2) Сколько пользователей совершало то или иное событие;\n",
    "  \n",
    "  \n",
    " - Изучить результаты эксперемента по изменению шрифта\n",
    "  \n",
    "  1) Есть ли разница в статистических критериях между выборками в группах 246 и 247; \n",
    "  \n",
    "  2) Есть ли разница в статистических критериях между выборками в группах 246 и 248;  \n",
    "  \n",
    "  3) Есть ли разница в статистических критериях между выборками в группах 247 и 248; \n",
    "  \n",
    "  4) Есть ли разница в статистических критериях между выборками в объединённой контрольной группе и 248 группой; \n",
    "  \n",
    "  \n",
    " - Сделать выводы по изменению шрифта."
   ]
  },
  {
   "cell_type": "markdown",
   "metadata": {},
   "source": [
    "## Знакомство с информацией и подготовка данных к обработке"
   ]
  },
  {
   "cell_type": "code",
   "execution_count": 1,
   "metadata": {},
   "outputs": [],
   "source": [
    "#импортируем необходимые библиотеки\n",
    "import pandas as pd\n",
    "import datetime as dt\n",
    "import seaborn as sns\n",
    "import matplotlib.pyplot as plt\n",
    "from plotly import graph_objects as go\n",
    "import math as mth\n",
    "from scipy import stats as st"
   ]
  },
  {
   "cell_type": "code",
   "execution_count": 2,
   "metadata": {},
   "outputs": [
    {
     "data": {
      "text/html": [
       "<div>\n",
       "<style scoped>\n",
       "    .dataframe tbody tr th:only-of-type {\n",
       "        vertical-align: middle;\n",
       "    }\n",
       "\n",
       "    .dataframe tbody tr th {\n",
       "        vertical-align: top;\n",
       "    }\n",
       "\n",
       "    .dataframe thead th {\n",
       "        text-align: right;\n",
       "    }\n",
       "</style>\n",
       "<table border=\"1\" class=\"dataframe\">\n",
       "  <thead>\n",
       "    <tr style=\"text-align: right;\">\n",
       "      <th></th>\n",
       "      <th>EventName</th>\n",
       "      <th>DeviceIDHash</th>\n",
       "      <th>EventTimestamp</th>\n",
       "      <th>ExpId</th>\n",
       "    </tr>\n",
       "  </thead>\n",
       "  <tbody>\n",
       "    <tr>\n",
       "      <td>0</td>\n",
       "      <td>MainScreenAppear</td>\n",
       "      <td>4575588528974610257</td>\n",
       "      <td>2019-07-25 04:43:36</td>\n",
       "      <td>246</td>\n",
       "    </tr>\n",
       "    <tr>\n",
       "      <td>1</td>\n",
       "      <td>MainScreenAppear</td>\n",
       "      <td>7416695313311560658</td>\n",
       "      <td>2019-07-25 11:11:42</td>\n",
       "      <td>246</td>\n",
       "    </tr>\n",
       "    <tr>\n",
       "      <td>2</td>\n",
       "      <td>PaymentScreenSuccessful</td>\n",
       "      <td>3518123091307005509</td>\n",
       "      <td>2019-07-25 11:28:47</td>\n",
       "      <td>248</td>\n",
       "    </tr>\n",
       "    <tr>\n",
       "      <td>3</td>\n",
       "      <td>CartScreenAppear</td>\n",
       "      <td>3518123091307005509</td>\n",
       "      <td>2019-07-25 11:28:47</td>\n",
       "      <td>248</td>\n",
       "    </tr>\n",
       "    <tr>\n",
       "      <td>4</td>\n",
       "      <td>PaymentScreenSuccessful</td>\n",
       "      <td>6217807653094995999</td>\n",
       "      <td>2019-07-25 11:48:42</td>\n",
       "      <td>248</td>\n",
       "    </tr>\n",
       "  </tbody>\n",
       "</table>\n",
       "</div>"
      ],
      "text/plain": [
       "                 EventName         DeviceIDHash      EventTimestamp  ExpId\n",
       "0         MainScreenAppear  4575588528974610257 2019-07-25 04:43:36    246\n",
       "1         MainScreenAppear  7416695313311560658 2019-07-25 11:11:42    246\n",
       "2  PaymentScreenSuccessful  3518123091307005509 2019-07-25 11:28:47    248\n",
       "3         CartScreenAppear  3518123091307005509 2019-07-25 11:28:47    248\n",
       "4  PaymentScreenSuccessful  6217807653094995999 2019-07-25 11:48:42    248"
      ]
     },
     "execution_count": 2,
     "metadata": {},
     "output_type": "execute_result"
    }
   ],
   "source": [
    "# Напишем функцию для изменения столбца с датой\n",
    "custom_date_parser = lambda x: pd.to_datetime (x, unit='s') \n",
    "#откроем таблицу hypothesis и выведем её на экран\n",
    "logs = pd.read_csv ('/datasets/logs_exp.csv', sep = '\\t', parse_dates = ['EventTimestamp'], date_parser = custom_date_parser)\n",
    "logs.head()"
   ]
  },
  {
   "cell_type": "code",
   "execution_count": 3,
   "metadata": {},
   "outputs": [
    {
     "name": "stdout",
     "output_type": "stream",
     "text": [
      "<class 'pandas.core.frame.DataFrame'>\n",
      "RangeIndex: 244126 entries, 0 to 244125\n",
      "Data columns (total 4 columns):\n",
      "EventName         244126 non-null object\n",
      "DeviceIDHash      244126 non-null int64\n",
      "EventTimestamp    244126 non-null datetime64[ns]\n",
      "ExpId             244126 non-null int64\n",
      "dtypes: datetime64[ns](1), int64(2), object(1)\n",
      "memory usage: 7.5+ MB\n"
     ]
    }
   ],
   "source": [
    "# Просмотрим основную информацию по данной таблице\n",
    "logs.info()"
   ]
  },
  {
   "cell_type": "markdown",
   "metadata": {},
   "source": [
    "Нет пропущенных значений.\n",
    "\n",
    "В таблице 244126 строк и 4 столбца:\n",
    "\n",
    " - \tEventName — название события;\n",
    " - \tDeviceIDHash — уникальный идентификатор пользователя;\n",
    " - \tEventTimestamp — время события;\n",
    " - \tExpId — номер эксперимента: 246 и 247 — контрольные группы, а 248 — экспериментальная"
   ]
  },
  {
   "cell_type": "code",
   "execution_count": 4,
   "metadata": {},
   "outputs": [
    {
     "name": "stdout",
     "output_type": "stream",
     "text": [
      "Всего в таблице 413 дубликатов\n",
      "Это всего 0.17% от общего количества, так что спокойно их удаляем\n"
     ]
    }
   ],
   "source": [
    "# Проверим таблицу на дубликаты\n",
    "print('Всего в таблице', logs.duplicated().sum(), 'дубликатов')\n",
    "print('Это всего {:.2%} от общего количества, так что спокойно их удаляем'.format(logs.duplicated().sum() / len(logs)))"
   ]
  },
  {
   "cell_type": "code",
   "execution_count": 5,
   "metadata": {},
   "outputs": [],
   "source": [
    "# удаление всех дубликатов\n",
    "logs=logs.drop_duplicates().reset_index(drop=True)"
   ]
  },
  {
   "cell_type": "code",
   "execution_count": 6,
   "metadata": {},
   "outputs": [],
   "source": [
    "# Переименуем наши столбцы\n",
    "logs = logs.rename(columns={'EventName': 'name', 'DeviceIDHash': 'id', 'EventTimestamp': 'data_time', 'ExpId': 'group'})\n",
    "                                   \n",
    "# Создадим отдельный столбец с датой\n",
    "logs['data'] = logs['data_time'].dt.date"
   ]
  },
  {
   "cell_type": "markdown",
   "metadata": {},
   "source": [
    "### Вывод"
   ]
  },
  {
   "cell_type": "markdown",
   "metadata": {},
   "source": [
    "Я выгрузила таблицу\n",
    "В ней нет пропущенных значений.\n",
    "\n",
    "В таблице 244126 строк и 4 столбца:\n",
    "\n",
    "    EventName — название события;\n",
    "    DeviceIDHash — уникальный идентификатор пользователя;\n",
    "    EventTimestamp — время события;\n",
    "    ExpId — номер эксперимента: 246 и 247 — контрольные группы, а 248 — экспериментальная\n",
    "\n",
    "Также были дубликаты, я их удалила.\n",
    "Подготовила таблицу к дальнейшей обработке. Изменила название столбцов, привела стобец с датой и временем к читаемому виду, и также вывела отдельный столбец с датой."
   ]
  },
  {
   "cell_type": "markdown",
   "metadata": {},
   "source": [
    "## Изучение и проверка данных"
   ]
  },
  {
   "cell_type": "markdown",
   "metadata": {},
   "source": [
    "###  Сколько всего событий в логе?"
   ]
  },
  {
   "cell_type": "code",
   "execution_count": 7,
   "metadata": {},
   "outputs": [
    {
     "name": "stdout",
     "output_type": "stream",
     "text": [
      "Всего событий 243713\n"
     ]
    }
   ],
   "source": [
    "print('Всего событий', len(logs['name']))"
   ]
  },
  {
   "cell_type": "markdown",
   "metadata": {},
   "source": [
    "###  Сколько всего пользователей в логе?"
   ]
  },
  {
   "cell_type": "code",
   "execution_count": 8,
   "metadata": {},
   "outputs": [
    {
     "name": "stdout",
     "output_type": "stream",
     "text": [
      "Всего пользователей 7551\n"
     ]
    }
   ],
   "source": [
    "print('Всего пользователей', logs['id'].nunique())"
   ]
  },
  {
   "cell_type": "markdown",
   "metadata": {},
   "source": [
    "### Сколько в среднем событий приходится на пользователя"
   ]
  },
  {
   "cell_type": "code",
   "execution_count": 9,
   "metadata": {},
   "outputs": [
    {
     "name": "stdout",
     "output_type": "stream",
     "text": [
      "В среднем на одного пользователя выходит 20 событий\n"
     ]
    }
   ],
   "source": [
    "# Создадим группировкой таблицу по клиентам выведем медиану\n",
    "logs.groupby('id').agg({'name': 'count'}).median()\n",
    "print('В среднем на одного пользователя выходит {} событий'.format(int(logs.groupby('id').agg({'name': 'count'}).median())))"
   ]
  },
  {
   "cell_type": "markdown",
   "metadata": {},
   "source": [
    "### Период данных"
   ]
  },
  {
   "cell_type": "code",
   "execution_count": 10,
   "metadata": {},
   "outputs": [
    {
     "name": "stdout",
     "output_type": "stream",
     "text": [
      "Минимальный дата в нашей таблице 2019-07-25\n",
      "Максимальная дата в нашей таблице 2019-08-07\n"
     ]
    }
   ],
   "source": [
    "# Посмотрим минимальную и максимальную дату\n",
    "print('Минимальный дата в нашей таблице', logs['data'].min())\n",
    "print('Максимальная дата в нашей таблице',logs['data'].max())"
   ]
  },
  {
   "cell_type": "markdown",
   "metadata": {},
   "source": [
    "В таблице мы имеем период с 25 июля до 7 августа 2019 года. Но посмотрим сколько событий приходится на тот или иной день."
   ]
  },
  {
   "cell_type": "code",
   "execution_count": 11,
   "metadata": {},
   "outputs": [
    {
     "data": {
      "image/png": "[encoded data removed]",
      "text/plain": [
       "<Figure size 1152x360 with 1 Axes>"
      ]
     },
     "metadata": {
      "needs_background": "light"
     },
     "output_type": "display_data"
    }
   ],
   "source": [
    "# Увеличим размер рисунка\n",
    "plt.figure(figsize=(16, 5))\n",
    "\n",
    "# Построим гистограмму по дате и типу события\n",
    "sns.countplot(x='data', hue='name', data=logs)\n",
    "\n",
    "# Добавим подпись к таблице, вынесем легенду за график, и развернем подписи к оси x\n",
    "plt.title('Количество событий на каждый из дней')\n",
    "plt.xlabel('Дата')\n",
    "plt.ylabel('Количествено событий')\n",
    "plt.legend(bbox_to_anchor=(1.05, 1))\n",
    "plt.xticks(rotation=45);"
   ]
  },
  {
   "cell_type": "markdown",
   "metadata": {},
   "source": [
    "Судя по графику, полные данные у нас начинаются с 1 августа, удалим все остальные данные из таблицы."
   ]
  },
  {
   "cell_type": "code",
   "execution_count": 12,
   "metadata": {},
   "outputs": [
    {
     "name": "stdout",
     "output_type": "stream",
     "text": [
      "2019-08-01 00:00:00\n",
      "2019-08-07 00:00:00\n"
     ]
    }
   ],
   "source": [
    "# Приведём столбец с датой к типу данный даты\n",
    "logs['data'] = pd.to_datetime(logs['data'])\n",
    "\n",
    "# обновим нашу таблицу по информации по дате\n",
    "logs = logs['2019-08-01' <= logs['data']]\n",
    "\n",
    "print(logs['data'].min())\n",
    "print(logs['data'].max())"
   ]
  },
  {
   "cell_type": "markdown",
   "metadata": {},
   "source": [
    "Итого мы располагаем информацией с 1 по 7 августа 2019 года"
   ]
  },
  {
   "cell_type": "markdown",
   "metadata": {},
   "source": [
    "### Сколько данных потеряно из-за изменения периода"
   ]
  },
  {
   "cell_type": "markdown",
   "metadata": {},
   "source": [
    "Посмотрим сколько у нас данных по обновлённой таблице."
   ]
  },
  {
   "cell_type": "code",
   "execution_count": 13,
   "metadata": {},
   "outputs": [
    {
     "name": "stdout",
     "output_type": "stream",
     "text": [
      "Событий в логе в период с 1 по 7 августа 240887\n",
      "Изначально в таблице было 243713 события, итого мы потеряли 2826 событий, это 1.16%\n",
      "Количество пользователей в период с 1 по 7 августа 7534\n",
      "Пользователей было 7551, итого мы потеряли 17 пользователей, это 0.23%\n"
     ]
    }
   ],
   "source": [
    "print('Событий в логе в период с 1 по 7 августа', len(logs['name']))\n",
    "print('Изначально в таблице было 243713 события, итого мы потеряли {} событий, это {:.2%}'.format(243713 - len(logs['name']), (243713 - len(logs['name'])) / 243713))\n",
    "print('Количество пользователей в период с 1 по 7 августа', logs['id'].nunique())\n",
    "print('Пользователей было 7551, итого мы потеряли {} пользователей, это {:.2%}'.format(7551 - logs['id'].nunique(), (7551 - logs['id'].nunique()) / 7551))"
   ]
  },
  {
   "cell_type": "markdown",
   "metadata": {},
   "source": [
    "### Проверка, что есть пользователи из всех трёх экспериментальных групп"
   ]
  },
  {
   "cell_type": "code",
   "execution_count": 14,
   "metadata": {},
   "outputs": [
    {
     "data": {
      "text/plain": [
       "248    84563\n",
       "246    79302\n",
       "247    77022\n",
       "Name: group, dtype: int64"
      ]
     },
     "execution_count": 14,
     "metadata": {},
     "output_type": "execute_result"
    }
   ],
   "source": [
    "# Посмотрим сколько сколько значений есть в столбце с группами\n",
    "logs['group'].value_counts()"
   ]
  },
  {
   "cell_type": "markdown",
   "metadata": {},
   "source": [
    "Все три группы пользователей остались в нашей изменённой таблице."
   ]
  },
  {
   "cell_type": "markdown",
   "metadata": {},
   "source": [
    "### Вывод"
   ]
  },
  {
   "cell_type": "markdown",
   "metadata": {},
   "source": [
    "Мы убрали из таблицы неполные данные, и наша таблица теперь имеет информацию с 1 по 7 августа.\n",
    "\n",
    "При удалении неполных данных мы потеряли около 1% данных, но основные данные сохранились прежними, в нашем анализе будет присутсвовать информация по всем трём группам.\n",
    "\n",
    "Итого в нашей таблице 240887 событий и 7534 пользователя."
   ]
  },
  {
   "cell_type": "markdown",
   "metadata": {},
   "source": [
    "## Изучение воронки событий"
   ]
  },
  {
   "cell_type": "markdown",
   "metadata": {},
   "source": [
    "### Какие события есть в логах, как часто они встречаются."
   ]
  },
  {
   "cell_type": "code",
   "execution_count": 15,
   "metadata": {},
   "outputs": [
    {
     "data": {
      "text/plain": [
       "MainScreenAppear           117328\n",
       "OffersScreenAppear          46333\n",
       "CartScreenAppear            42303\n",
       "PaymentScreenSuccessful     33918\n",
       "Tutorial                     1005\n",
       "Name: name, dtype: int64"
      ]
     },
     "execution_count": 15,
     "metadata": {},
     "output_type": "execute_result"
    }
   ],
   "source": [
    "# Посмотрим какие типы событий в нашей таблице\n",
    "logs['name'].value_counts()"
   ]
  },
  {
   "cell_type": "code",
   "execution_count": 16,
   "metadata": {},
   "outputs": [
    {
     "data": {
      "image/png": "[encoded data removed]",
      "text/plain": [
       "<Figure size 1152x360 with 1 Axes>"
      ]
     },
     "metadata": {
      "needs_background": "light"
     },
     "output_type": "display_data"
    }
   ],
   "source": [
    "# Построим график по типу событий и отсортируем его по убыванию\n",
    "logs.groupby('name').agg({'id': 'count'}).sort_values('id', ascending = True).plot(figsize=(16, 5), kind='barh')\n",
    "\n",
    "# Добавим подпись к таблице, вынесем легенду за график, и развернем подписи к оси x\n",
    "plt.title('Типы событий')\n",
    "plt.xlabel('Количество событий')\n",
    "plt.ylabel('Название события');"
   ]
  },
  {
   "cell_type": "markdown",
   "metadata": {},
   "source": [
    "Всего у нас 5 событий в таблице:\n",
    " - MainScreenAppear - открыл главный экран - его совершили 117 328 раз\n",
    " - OffersScreenAppear - открыл экран предложений - его совершили 46 333 раза\n",
    " - CartScreenAppear - открыл корзину - его совершили 42 303 раза\n",
    " - PaymentScreenSuccessful - открыл экран оплаты - его совершили 33 918 раз\n",
    " - Tutorial - открыл руководство - его совершили 1 005 раз"
   ]
  },
  {
   "cell_type": "markdown",
   "metadata": {},
   "source": [
    "### Сколько пользователей совершали то или иное событие."
   ]
  },
  {
   "cell_type": "code",
   "execution_count": 17,
   "metadata": {},
   "outputs": [
    {
     "data": {
      "image/png": "[encoded data removed]",
      "text/plain": [
       "<Figure size 1152x360 with 1 Axes>"
      ]
     },
     "metadata": {
      "needs_background": "light"
     },
     "output_type": "display_data"
    }
   ],
   "source": [
    "# Построим график по типу событий и отсортируем его по убыванию\n",
    "logs.groupby('name').agg({'id': 'nunique'}).sort_values('id', ascending = True).plot(figsize=(16, 5), kind='barh')\n",
    "\n",
    "# Добавим подпись к таблице, вынесем легенду за график, и развернем подписи к оси x\n",
    "plt.title('Типы событий')\n",
    "plt.xlabel('Количество событий')\n",
    "plt.ylabel('Название события');"
   ]
  },
  {
   "cell_type": "code",
   "execution_count": 18,
   "metadata": {},
   "outputs": [
    {
     "data": {
      "text/html": [
       "<div>\n",
       "<style scoped>\n",
       "    .dataframe tbody tr th:only-of-type {\n",
       "        vertical-align: middle;\n",
       "    }\n",
       "\n",
       "    .dataframe tbody tr th {\n",
       "        vertical-align: top;\n",
       "    }\n",
       "\n",
       "    .dataframe thead th {\n",
       "        text-align: right;\n",
       "    }\n",
       "</style>\n",
       "<table border=\"1\" class=\"dataframe\">\n",
       "  <thead>\n",
       "    <tr style=\"text-align: right;\">\n",
       "      <th></th>\n",
       "      <th>name</th>\n",
       "      <th>id</th>\n",
       "      <th>all_id</th>\n",
       "      <th>share</th>\n",
       "    </tr>\n",
       "  </thead>\n",
       "  <tbody>\n",
       "    <tr>\n",
       "      <td>1</td>\n",
       "      <td>MainScreenAppear</td>\n",
       "      <td>7419</td>\n",
       "      <td>7534</td>\n",
       "      <td>98.5</td>\n",
       "    </tr>\n",
       "    <tr>\n",
       "      <td>2</td>\n",
       "      <td>OffersScreenAppear</td>\n",
       "      <td>4593</td>\n",
       "      <td>7534</td>\n",
       "      <td>61.0</td>\n",
       "    </tr>\n",
       "    <tr>\n",
       "      <td>0</td>\n",
       "      <td>CartScreenAppear</td>\n",
       "      <td>3734</td>\n",
       "      <td>7534</td>\n",
       "      <td>49.6</td>\n",
       "    </tr>\n",
       "    <tr>\n",
       "      <td>3</td>\n",
       "      <td>PaymentScreenSuccessful</td>\n",
       "      <td>3539</td>\n",
       "      <td>7534</td>\n",
       "      <td>47.0</td>\n",
       "    </tr>\n",
       "    <tr>\n",
       "      <td>4</td>\n",
       "      <td>Tutorial</td>\n",
       "      <td>840</td>\n",
       "      <td>7534</td>\n",
       "      <td>11.1</td>\n",
       "    </tr>\n",
       "  </tbody>\n",
       "</table>\n",
       "</div>"
      ],
      "text/plain": [
       "                      name    id  all_id  share\n",
       "1         MainScreenAppear  7419    7534   98.5\n",
       "2       OffersScreenAppear  4593    7534   61.0\n",
       "0         CartScreenAppear  3734    7534   49.6\n",
       "3  PaymentScreenSuccessful  3539    7534   47.0\n",
       "4                 Tutorial   840    7534   11.1"
      ]
     },
     "execution_count": 18,
     "metadata": {},
     "output_type": "execute_result"
    }
   ],
   "source": [
    "# Создадим новую таблицу и несколько столбцов в ней, чтобы вычислить долю пользоватлей\n",
    "logs_2=logs.pivot_table(index='name', values='id', aggfunc=['nunique']).reset_index()\n",
    "logs_2.columns = ['name', 'id', '123']\n",
    "logs_2 = logs_2[['name', 'id']]\n",
    "logs_2['all_id'] = logs['id'].nunique()\n",
    "logs_2['share'] = (logs_2['id'] / logs_2['all_id'] * 100).round(1)\n",
    "logs_2.sort_values('share', ascending = False)"
   ]
  },
  {
   "cell_type": "markdown",
   "metadata": {},
   "source": [
    "Событие \"открытие главного экран\" (MainScreenAppear) совершили 7419 клиента - это 98,5% от всех пользователей\n",
    "\n",
    "Событие \"открытие экрана предложений\" (OffersScreenAppear) совершили 4593 клиента - это 61% от всех пользователей\n",
    "\n",
    "Событие \"открытие корзины\" (CartScreenAppear) совершили 3434 клиента - это 49,6% от всех пользователей\n",
    "\n",
    "Событие \"открытие экрана оплаты\" (PaymentScreenSuccessful) совершили 3539 клиента - это 47% от всех пользователей\n",
    "\n",
    "Событие \"открытие руководства\" (Tutorial) совершили 840 клиента - это 11,1% от всех пользователей"
   ]
  },
  {
   "cell_type": "markdown",
   "metadata": {},
   "source": [
    "### Предположение, в каком порядке происходят события. "
   ]
  },
  {
   "cell_type": "markdown",
   "metadata": {},
   "source": [
    "Предположим, что пользователь\n",
    "\n",
    " - сначала открывает главную страницу приложения(MainScreenAppear)\n",
    " - потом переходит на экран предложений(OffersScreenAppear)\n",
    " - выбирает товары и переходит в корзину(CartScreenAppear)\n",
    " - и оплачивает(PaymentScreenSuccessful)\n",
    " \n",
    " \n",
    "Событие 'открытие руководства (Tutorial)' я решила не добавлять в определённую цепочку событий, т.к. слишком мало пользователей открывало руководство, и сложно предположить на каком именно этапе. "
   ]
  },
  {
   "cell_type": "markdown",
   "metadata": {},
   "source": [
    "### Построение воронки событий"
   ]
  },
  {
   "cell_type": "code",
   "execution_count": null,
   "metadata": {},
   "outputs": [],
   "source": [
    "# Построим воронку продаж\n",
    "fig = go.Figure(go.Funnel(\n",
    "    y = (logs_2[(logs_2['name'] != 'Tutorial')].sort_values('id', ascending=False)['name']),\n",
    "    x = (logs_2[(logs_2['name'] != 'Tutorial')].sort_values('id', ascending=False)['id'])))\n",
    "\n",
    "fig.show()"
   ]
  },
  {
   "attachments": {
    "%D0%A1%D0%BD%D0%B8%D0%BC%D0%BE%D0%BA.PNG": {
     "image/png": "[encoded data removed]"
    }
   },
   "cell_type": "markdown",
   "metadata": {},
   "source": [
    "![%D0%A1%D0%BD%D0%B8%D0%BC%D0%BE%D0%BA.PNG](attachment:%D0%A1%D0%BD%D0%B8%D0%BC%D0%BE%D0%BA.PNG)"
   ]
  },
  {
   "cell_type": "markdown",
   "metadata": {},
   "source": [
    "### Вывод"
   ]
  },
  {
   "cell_type": "markdown",
   "metadata": {},
   "source": [
    "У нас есть 5 типов событий\n",
    "\n",
    " - MainScreenAppear - открытие главного экран - его совершили 7419 клиентов 117 328 раз\n",
    " - OffersScreenAppear - открытие экрана предложений - его совершили 4593 клиентов 46 333 раза\n",
    " - CartScreenAppear - открытие корзины - его совершили 3434 клиента 42 303 раза\n",
    " - PaymentScreenSuccessful - открытие экрана оплаты - его совершили 3539 клиент 33 918 раз\n",
    " - Tutorial - открытие руководство - его совершили 840 клиента 1 005 раз\n",
    "\n",
    "\n",
    "Больше всего пользователей, а именно 38% уходят, открыв главный экран(MainScreenAppear) и даже без перехода к экрану предложений(OffersScreenAppear). \n",
    "\n",
    "Возможно зедсь часть клиентов, которая попала в приложение ошибочно, но процент слишком большой, скорее всего приложение не корректно работает или интерфейс основной страницы неудобен и/или некорректно отображается на части устройств.\n",
    "\n",
    "От первого события до оплаты доходит меньше половины пользователей, а именно 47,7% пользователей"
   ]
  },
  {
   "cell_type": "markdown",
   "metadata": {},
   "source": [
    "## Изучение результатов эксперимента"
   ]
  },
  {
   "cell_type": "markdown",
   "metadata": {},
   "source": [
    "### Сколько пользователей в каждой экспериментальной группе"
   ]
  },
  {
   "cell_type": "code",
   "execution_count": 19,
   "metadata": {},
   "outputs": [
    {
     "data": {
      "text/html": [
       "<div>\n",
       "<style scoped>\n",
       "    .dataframe tbody tr th:only-of-type {\n",
       "        vertical-align: middle;\n",
       "    }\n",
       "\n",
       "    .dataframe tbody tr th {\n",
       "        vertical-align: top;\n",
       "    }\n",
       "\n",
       "    .dataframe thead th {\n",
       "        text-align: right;\n",
       "    }\n",
       "</style>\n",
       "<table border=\"1\" class=\"dataframe\">\n",
       "  <thead>\n",
       "    <tr style=\"text-align: right;\">\n",
       "      <th></th>\n",
       "      <th>id</th>\n",
       "    </tr>\n",
       "    <tr>\n",
       "      <th>group</th>\n",
       "      <th></th>\n",
       "    </tr>\n",
       "  </thead>\n",
       "  <tbody>\n",
       "    <tr>\n",
       "      <td>246</td>\n",
       "      <td>2484</td>\n",
       "    </tr>\n",
       "    <tr>\n",
       "      <td>247</td>\n",
       "      <td>2513</td>\n",
       "    </tr>\n",
       "    <tr>\n",
       "      <td>248</td>\n",
       "      <td>2537</td>\n",
       "    </tr>\n",
       "  </tbody>\n",
       "</table>\n",
       "</div>"
      ],
      "text/plain": [
       "         id\n",
       "group      \n",
       "246    2484\n",
       "247    2513\n",
       "248    2537"
      ]
     },
     "execution_count": 19,
     "metadata": {},
     "output_type": "execute_result"
    }
   ],
   "source": [
    "# Сгруппируем таблицу по группам и посчитаем уникальное количество id клиентов \n",
    "logs.groupby('group').agg({'id': 'nunique'})"
   ]
  },
  {
   "cell_type": "markdown",
   "metadata": {},
   "source": [
    "В 246 группе - 2484 человека, в 247 группу - 2513 человек, в 248 группе - 2537 человек. "
   ]
  },
  {
   "cell_type": "markdown",
   "metadata": {},
   "source": [
    "### Есть ли разница в статистических критериях между выборками 246 и 247?"
   ]
  },
  {
   "cell_type": "code",
   "execution_count": 20,
   "metadata": {},
   "outputs": [],
   "source": [
    "# Создадим сводную таблицу по группам пользователей и событиям, которые они совершали\n",
    "logs_3 = logs.pivot_table(index = 'name', columns = 'group', values = 'id', aggfunc = 'nunique').sort_values(246, ascending=False)\n",
    "\n",
    "# Добавим в нашу таблицу новый столбец с объединёнными группами 246 и 247\n",
    "logs_3['246+247'] = logs_3[246] + logs_3[247]\n",
    "logs_3.drop(['Tutorial'], inplace = True)\n",
    "\n",
    "# Скинем индексы\n",
    "logs_3 = logs_3.reset_index()\n",
    "\n",
    "# Также создадим ключи, чтобы по номеру группы выводилось количество клиентов в этой группе\n",
    "group_id = {246: logs[logs['group']==246]['id'].nunique(),\n",
    "           247: logs[logs['group']==247]['id'].nunique(),\n",
    "           248: logs[logs['group']==248]['id'].nunique(),\n",
    "           '246+247' : logs[(logs['group']==246) | (logs['group']==247)]['id'].nunique()}\n"
   ]
  },
  {
   "cell_type": "markdown",
   "metadata": {},
   "source": [
    "Сформулируем нулевую и альтернативную гипотезы:\n",
    "\n",
    " - Нулевая гипотеза: Доли в группах одинаковые\n",
    " - Альтернативная гипотеза : Доли в группах разные\n",
    " \n",
    "Наши гипотезы будем проверять с уровнем значимости статистического теста = 0.05"
   ]
  },
  {
   "cell_type": "code",
   "execution_count": 21,
   "metadata": {},
   "outputs": [],
   "source": [
    "# Создадим функцию для сравнение долей в группах\n",
    "def difference(group_1, group_2, alpha):\n",
    "    for i in logs_3.index:\n",
    "        alpha = alpha\n",
    "        # сколько людей выполнило действие относительно общего количества в первой группе\n",
    "        p1 = logs_3[group_1][i] / group_id[group_1]\n",
    "        # сколько людей выполнило действие относительно общего количества во второй группе\n",
    "        p2 = logs_3[group_2][i] / group_id[group_2]\n",
    "        # сколько людей выполнило действие относительно общего количества\n",
    "        p3 = ((logs_3[group_1][i] + logs_3[group_2][i]) / (group_id[group_1]+group_id[group_2]))\n",
    "        # разница пропорций\n",
    "        difference = p1 - p2\n",
    "        # статистика в ст.отклонениях стандартного нормального распределения\n",
    "        value = difference / mth.sqrt(p3 * (1-p3) * (1/group_id[group_1] + 1/ group_id[group_2]))\n",
    "        # задаем стандартное нормальное распределение (среднее 0, ст.отклонение 1)\n",
    "        distr = st.norm(0, 1)\n",
    "        p_value = (1 - distr.cdf(abs(value))) * 2\n",
    "        print('Для события {} p-значение: {}'.format(logs_3['name'][i], p_value))\n",
    "        if (p_value < alpha):\n",
    "            print(\"Отвергаем нулевую гипотезу: доли в группах\", group_1, 'и', group_2, 'разные')\n",
    "        else:\n",
    "            print(\"Не получилось отвергнуть нулевую гипотезу: доли в группах\", group_1, 'и', group_2, 'одинаковые')\n",
    "        print('')\n",
    "        \n",
    "    # И добавим также в функцию построение воронки для наглядности   \n",
    "    fig = go.Figure()\n",
    "    for i, group in enumerate([group_1, group_2]):\n",
    "        fig.add_trace(go.Funnel(\n",
    "            name = str(group),\n",
    "            y = logs_3['name'],\n",
    "            x = logs_3[group]))\n",
    "\n",
    "    fig.show()"
   ]
  },
  {
   "cell_type": "code",
   "execution_count": 22,
   "metadata": {},
   "outputs": [
    {
     "name": "stdout",
     "output_type": "stream",
     "text": [
      "Для события MainScreenAppear p-значение: 0.7570597232046099\n",
      "Не получилось отвергнуть нулевую гипотезу: доли в группах 246 и 247 одинаковые\n",
      "\n",
      "Для события OffersScreenAppear p-значение: 0.2480954578522181\n",
      "Не получилось отвергнуть нулевую гипотезу: доли в группах 246 и 247 одинаковые\n",
      "\n",
      "Для события CartScreenAppear p-значение: 0.22883372237997213\n",
      "Не получилось отвергнуть нулевую гипотезу: доли в группах 246 и 247 одинаковые\n",
      "\n",
      "Для события PaymentScreenSuccessful p-значение: 0.11456679313141849\n",
      "Не получилось отвергнуть нулевую гипотезу: доли в группах 246 и 247 одинаковые\n",
      "\n"
     ]
    }
   ],
   "source": [
    "difference(246, 247, 0.05)"
   ]
  },
  {
   "attachments": {
    "%D0%A1%D0%BD%D0%B8%D0%BC%D0%BE%D0%BA1.PNG": {
     "image/png": "[encoded data removed]"
    }
   },
   "cell_type": "markdown",
   "metadata": {},
   "source": [
    "![%D0%A1%D0%BD%D0%B8%D0%BC%D0%BE%D0%BA1.PNG](attachment:%D0%A1%D0%BD%D0%B8%D0%BC%D0%BE%D0%BA1.PNG)"
   ]
  },
  {
   "cell_type": "markdown",
   "metadata": {},
   "source": [
    "В статистических критериях между группами нет значимой разницы, так что обе группы можно считать контрольными."
   ]
  },
  {
   "cell_type": "markdown",
   "metadata": {},
   "source": [
    "### Есть ли разница в статистических критериях между выборками 246 и 248?"
   ]
  },
  {
   "cell_type": "markdown",
   "metadata": {},
   "source": [
    "Наши гипотезы остаются прежними:\n",
    "\n",
    " - Нулевая гипотеза: Доли в группах одинаковые\n",
    " - Альтернативная гипотеза : Доли в группах разные"
   ]
  },
  {
   "cell_type": "code",
   "execution_count": 23,
   "metadata": {},
   "outputs": [
    {
     "name": "stdout",
     "output_type": "stream",
     "text": [
      "Для события MainScreenAppear p-значение: 0.2949721933554552\n",
      "Не получилось отвергнуть нулевую гипотезу: доли в группах 246 и 248 одинаковые\n",
      "\n",
      "Для события OffersScreenAppear p-значение: 0.20836205402738917\n",
      "Не получилось отвергнуть нулевую гипотезу: доли в группах 246 и 248 одинаковые\n",
      "\n",
      "Для события CartScreenAppear p-значение: 0.07842923237520116\n",
      "Не получилось отвергнуть нулевую гипотезу: доли в группах 246 и 248 одинаковые\n",
      "\n",
      "Для события PaymentScreenSuccessful p-значение: 0.2122553275697796\n",
      "Не получилось отвергнуть нулевую гипотезу: доли в группах 246 и 248 одинаковые\n",
      "\n"
     ]
    }
   ],
   "source": [
    "difference(246, 248, 0.05)"
   ]
  },
  {
   "attachments": {
    "%D0%A1%D0%BD%D0%B8%D0%BC%D0%BE%D0%BA2.PNG": {
     "image/png": "[encoded data removed]"
    }
   },
   "cell_type": "markdown",
   "metadata": {},
   "source": [
    "![%D0%A1%D0%BD%D0%B8%D0%BC%D0%BE%D0%BA2.PNG](attachment:%D0%A1%D0%BD%D0%B8%D0%BC%D0%BE%D0%BA2.PNG)"
   ]
  },
  {
   "cell_type": "markdown",
   "metadata": {},
   "source": [
    "Значимой разницы между контрольной группой 246 и экспериментальной группой 248 нет."
   ]
  },
  {
   "cell_type": "markdown",
   "metadata": {},
   "source": [
    "### Есть ли разница в статистических критериях между выборками 247 и 248?"
   ]
  },
  {
   "cell_type": "markdown",
   "metadata": {},
   "source": [
    "Наши гипотезы остаются прежними:\n",
    "\n",
    " - Нулевая гипотеза: Доли в группах одинаковые\n",
    " - Альтернативная гипотеза : Доли в группах разные"
   ]
  },
  {
   "cell_type": "code",
   "execution_count": 24,
   "metadata": {},
   "outputs": [
    {
     "name": "stdout",
     "output_type": "stream",
     "text": [
      "Для события MainScreenAppear p-значение: 0.4587053616621515\n",
      "Не получилось отвергнуть нулевую гипотезу: доли в группах 247 и 248 одинаковые\n",
      "\n",
      "Для события OffersScreenAppear p-значение: 0.9197817830592261\n",
      "Не получилось отвергнуть нулевую гипотезу: доли в группах 247 и 248 одинаковые\n",
      "\n",
      "Для события CartScreenAppear p-значение: 0.5786197879539783\n",
      "Не получилось отвергнуть нулевую гипотезу: доли в группах 247 и 248 одинаковые\n",
      "\n",
      "Для события PaymentScreenSuccessful p-значение: 0.7373415053803964\n",
      "Не получилось отвергнуть нулевую гипотезу: доли в группах 247 и 248 одинаковые\n",
      "\n"
     ]
    }
   ],
   "source": [
    "difference(247, 248, 0.05)"
   ]
  },
  {
   "attachments": {
    "%D0%A1%D0%BD%D0%B8%D0%BC%D0%BE%D0%BA3.PNG": {
     "image/png": "[encoded data removed]"
    }
   },
   "cell_type": "markdown",
   "metadata": {},
   "source": [
    "![%D0%A1%D0%BD%D0%B8%D0%BC%D0%BE%D0%BA3.PNG](attachment:%D0%A1%D0%BD%D0%B8%D0%BC%D0%BE%D0%BA3.PNG)"
   ]
  },
  {
   "cell_type": "markdown",
   "metadata": {},
   "source": [
    "Значимой разницы между контрольной группой 247 и экспериментальной группой 248 нет."
   ]
  },
  {
   "cell_type": "markdown",
   "metadata": {},
   "source": [
    "### Есть ли разница в статистических критериях между выборками объединёнными контрольными группами и 248?"
   ]
  },
  {
   "cell_type": "code",
   "execution_count": 25,
   "metadata": {},
   "outputs": [
    {
     "name": "stdout",
     "output_type": "stream",
     "text": [
      "Для события MainScreenAppear p-значение: 0.29424526837179577\n",
      "Не получилось отвергнуть нулевую гипотезу: доли в группах 246+247 и 248 одинаковые\n",
      "\n",
      "Для события OffersScreenAppear p-значение: 0.43425549655188256\n",
      "Не получилось отвергнуть нулевую гипотезу: доли в группах 246+247 и 248 одинаковые\n",
      "\n",
      "Для события CartScreenAppear p-значение: 0.18175875284404386\n",
      "Не получилось отвергнуть нулевую гипотезу: доли в группах 246+247 и 248 одинаковые\n",
      "\n",
      "Для события PaymentScreenSuccessful p-значение: 0.6004294282308704\n",
      "Не получилось отвергнуть нулевую гипотезу: доли в группах 246+247 и 248 одинаковые\n",
      "\n"
     ]
    }
   ],
   "source": [
    "difference('246+247', 248, 0.05)"
   ]
  },
  {
   "attachments": {
    "%D0%A1%D0%BD%D0%B8%D0%BC%D0%BE%D0%BA4.PNG": {
     "image/png": "[encoded data removed]"
    }
   },
   "cell_type": "markdown",
   "metadata": {},
   "source": [
    "![%D0%A1%D0%BD%D0%B8%D0%BC%D0%BE%D0%BA4.PNG](attachment:%D0%A1%D0%BD%D0%B8%D0%BC%D0%BE%D0%BA4.PNG)"
   ]
  },
  {
   "cell_type": "markdown",
   "metadata": {},
   "source": [
    "Значимой разницы между объединёнными контрольными группами (246+247) и экспериментальной группой 248 нет."
   ]
  },
  {
   "cell_type": "markdown",
   "metadata": {},
   "source": [
    "### Вывод"
   ]
  },
  {
   "cell_type": "markdown",
   "metadata": {},
   "source": [
    "Изменение шрифта никак не влияет на воронку продаж."
   ]
  },
  {
   "cell_type": "markdown",
   "metadata": {},
   "source": [
    "## Вывод"
   ]
  },
  {
   "cell_type": "markdown",
   "metadata": {},
   "source": [
    "В базовой таблице было 413 дублированных строк, что составило 0,17% от всей таблицы. Я их удалила.\n",
    "\n",
    "Изначально данные в таблице были неполные. Я стала рассматривать информацию с 1 по 7 августа.\n",
    "\n",
    "При удалении неполных данных я потеряла около 1% данных, но основные данные сохранились прежними.\n",
    "\n",
    "Итого в таблице присутствуют 240887 событий и 7534 пользователя.\n",
    "\n",
    "В таблице есть 5 типов событий\n",
    "\n",
    " - MainScreenAppear - открытие главного экран - его совершили 7419 клиентов 117 328 раз\n",
    " - OffersScreenAppear - открытие экрана предложений - его совершили 4593 клиентов 46 333 раза\n",
    " - CartScreenAppear - открытие корзины - его совершили 3434 клиента 42 303 раза\n",
    " - PaymentScreenSuccessful - открытие экрана оплаты - его совершили 3539 клиент 33 918 раз\n",
    " - Tutorial - открытие руководство - его совершили 840 клиента 1 005 раз\n",
    "\n",
    "\n",
    "Больше всего пользователей, а именно 38% уходят, открыв главный экран(MainScreenAppear) и даже без перехода к экрану предложений(OffersScreenAppear). \n",
    "\n",
    "Возможно интерфейс основной страницы неудобен или некорректно отображается на части устройств.\n",
    "\n",
    "От первого события до оплаты доходит меньше половины пользователей, а именно 47,7% пользователей.\n",
    "\n",
    "\n",
    "Мы провели 16 проверок статистических гипотез с уровнем значимости 0.05 (12 из них проверяли разницу между контрольными группами и группой с изменённым шрифтом) и ни одна из них не выявила значимой разницы.\n",
    "\n",
    "\n",
    "\n",
    "\n",
    "Я провела 16 проверок статистических гипотез с новым уровнем значимости  0.05: 4 из которых были между контрольными группами и 12 между контрольными группами и группой с изменённым шрифтом и ни одна из них не выявила значимой разницы.\n",
    "\n",
    "При уровне значимости 0.1 одна из проверок покажет значимую разницу, между группой 246 и группой 248 в доле события  CartScreenAppear - открытие корзины, в пользу 246 группы. Но при уровне значимости 0.1 каждый десятый раз можно получать ложный результат, поэтому стоит установить уровень значимости 0.05.\n",
    "\n",
    "Исходя из результатов данного эксперимента, я могу сделать вывод, что изменение шрифта никак не влияет на поведение клиентов. Поэтому нельзя сделать вывод какой шрифт лучше. Если с помощью изменения шрифта хотели увеличить количество клиентов, которые совершают покупки, то шрифт никак на это не повлияет."
   ]
  }
 ],
 "metadata": {
  "ExecuteTimeLog": [
   {
    "duration": 584,
    "start_time": "2021-08-19T07:02:09.868Z"
   },
   {
    "duration": 247,
    "start_time": "2021-08-19T07:02:52.244Z"
   },
   {
    "duration": 239,
    "start_time": "2021-08-19T07:03:14.072Z"
   },
   {
    "duration": 135,
    "start_time": "2021-08-19T07:04:34.369Z"
   },
   {
    "duration": 17,
    "start_time": "2021-08-19T07:05:08.787Z"
   },
   {
    "duration": 52,
    "start_time": "2021-08-19T07:13:25.080Z"
   },
   {
    "duration": 60,
    "start_time": "2021-08-19T07:14:23.491Z"
   },
   {
    "duration": 50,
    "start_time": "2021-08-19T07:14:26.834Z"
   },
   {
    "duration": 189,
    "start_time": "2021-08-19T07:16:08.947Z"
   },
   {
    "duration": 2,
    "start_time": "2021-08-19T07:16:26.020Z"
   },
   {
    "duration": 339,
    "start_time": "2021-08-19T07:16:28.483Z"
   },
   {
    "duration": 23,
    "start_time": "2021-08-19T07:16:59.406Z"
   },
   {
    "duration": 23,
    "start_time": "2021-08-19T07:17:07.269Z"
   },
   {
    "duration": 23,
    "start_time": "2021-08-19T07:17:12.961Z"
   },
   {
    "duration": 2,
    "start_time": "2021-08-19T07:17:37.891Z"
   },
   {
    "duration": 37,
    "start_time": "2021-08-19T07:25:35.066Z"
   },
   {
    "duration": 178,
    "start_time": "2021-08-19T07:26:27.275Z"
   },
   {
    "duration": 37,
    "start_time": "2021-08-19T07:32:25.017Z"
   },
   {
    "duration": 10,
    "start_time": "2021-08-19T07:32:37.544Z"
   },
   {
    "duration": 575,
    "start_time": "2021-08-19T07:32:53.179Z"
   },
   {
    "duration": 133,
    "start_time": "2021-08-19T07:32:53.756Z"
   },
   {
    "duration": 17,
    "start_time": "2021-08-19T07:32:53.891Z"
   },
   {
    "duration": 58,
    "start_time": "2021-08-19T07:32:53.909Z"
   },
   {
    "duration": 86,
    "start_time": "2021-08-19T07:32:53.969Z"
   },
   {
    "duration": 39,
    "start_time": "2021-08-19T07:40:25.966Z"
   },
   {
    "duration": 237,
    "start_time": "2021-08-19T07:43:39.588Z"
   },
   {
    "duration": 551,
    "start_time": "2021-08-19T08:17:31.818Z"
   },
   {
    "duration": 138,
    "start_time": "2021-08-19T08:17:32.371Z"
   },
   {
    "duration": 17,
    "start_time": "2021-08-19T08:17:32.512Z"
   },
   {
    "duration": 79,
    "start_time": "2021-08-19T08:17:32.531Z"
   },
   {
    "duration": 80,
    "start_time": "2021-08-19T08:17:32.611Z"
   },
   {
    "duration": 10,
    "start_time": "2021-08-19T08:17:32.693Z"
   },
   {
    "duration": 9,
    "start_time": "2021-08-19T08:17:44.061Z"
   },
   {
    "duration": 737,
    "start_time": "2021-08-19T10:24:21.577Z"
   },
   {
    "duration": 186,
    "start_time": "2021-08-19T10:24:22.316Z"
   },
   {
    "duration": 22,
    "start_time": "2021-08-19T10:24:22.504Z"
   },
   {
    "duration": 79,
    "start_time": "2021-08-19T10:24:22.528Z"
   },
   {
    "duration": 60,
    "start_time": "2021-08-19T10:24:22.609Z"
   },
   {
    "duration": 8,
    "start_time": "2021-08-19T10:24:22.670Z"
   },
   {
    "duration": 6,
    "start_time": "2021-08-19T10:25:00.619Z"
   },
   {
    "duration": 21,
    "start_time": "2021-08-19T10:29:59.879Z"
   },
   {
    "duration": 22,
    "start_time": "2021-08-19T10:30:44.480Z"
   },
   {
    "duration": 19,
    "start_time": "2021-08-19T10:30:52.799Z"
   },
   {
    "duration": 22,
    "start_time": "2021-08-19T10:30:56.477Z"
   },
   {
    "duration": 21,
    "start_time": "2021-08-19T10:32:45.908Z"
   },
   {
    "duration": 79,
    "start_time": "2021-08-19T10:33:50.082Z"
   },
   {
    "duration": 84,
    "start_time": "2021-08-19T10:34:11.614Z"
   },
   {
    "duration": 1924,
    "start_time": "2021-08-19T10:34:18.632Z"
   },
   {
    "duration": 2,
    "start_time": "2021-08-19T10:34:48.650Z"
   },
   {
    "duration": 2260,
    "start_time": "2021-08-19T10:34:51.662Z"
   },
   {
    "duration": 78,
    "start_time": "2021-08-19T10:37:03.442Z"
   },
   {
    "duration": 96,
    "start_time": "2021-08-19T10:37:10.777Z"
   },
   {
    "duration": 574,
    "start_time": "2021-08-19T10:38:16.669Z"
   },
   {
    "duration": 120,
    "start_time": "2021-08-19T10:38:17.244Z"
   },
   {
    "duration": 13,
    "start_time": "2021-08-19T10:38:17.366Z"
   },
   {
    "duration": 55,
    "start_time": "2021-08-19T10:38:17.381Z"
   },
   {
    "duration": 65,
    "start_time": "2021-08-19T10:38:17.437Z"
   },
   {
    "duration": 90,
    "start_time": "2021-08-19T10:38:17.503Z"
   },
   {
    "duration": 27,
    "start_time": "2021-08-19T10:52:20.957Z"
   },
   {
    "duration": 20,
    "start_time": "2021-08-19T10:52:27.807Z"
   },
   {
    "duration": 5,
    "start_time": "2021-08-19T11:49:38.939Z"
   },
   {
    "duration": 6628,
    "start_time": "2021-08-19T11:52:00.406Z"
   },
   {
    "duration": 331,
    "start_time": "2021-08-19T11:52:15.576Z"
   },
   {
    "duration": 21,
    "start_time": "2021-08-19T11:52:44.489Z"
   },
   {
    "duration": 27,
    "start_time": "2021-08-19T11:53:36.438Z"
   },
   {
    "duration": 47,
    "start_time": "2021-08-19T11:58:00.973Z"
   },
   {
    "duration": 17,
    "start_time": "2021-08-19T11:58:13.515Z"
   },
   {
    "duration": 49,
    "start_time": "2021-08-19T11:58:39.250Z"
   },
   {
    "duration": 77,
    "start_time": "2021-08-19T12:00:37.666Z"
   },
   {
    "duration": 78,
    "start_time": "2021-08-19T12:00:49.942Z"
   },
   {
    "duration": 238,
    "start_time": "2021-08-19T12:01:00.615Z"
   },
   {
    "duration": 209,
    "start_time": "2021-08-19T12:01:29.853Z"
   },
   {
    "duration": 348,
    "start_time": "2021-08-19T12:02:24.011Z"
   },
   {
    "duration": 4,
    "start_time": "2021-08-19T12:06:20.991Z"
   },
   {
    "duration": 23,
    "start_time": "2021-08-19T12:07:19.551Z"
   },
   {
    "duration": 19,
    "start_time": "2021-08-19T12:07:25.180Z"
   },
   {
    "duration": 293,
    "start_time": "2021-08-19T12:16:52.370Z"
   },
   {
    "duration": 1307,
    "start_time": "2021-08-19T12:17:00.830Z"
   },
   {
    "duration": 7068,
    "start_time": "2021-08-19T12:17:44.717Z"
   },
   {
    "duration": 1262,
    "start_time": "2021-08-19T12:18:01.252Z"
   },
   {
    "duration": 519,
    "start_time": "2021-08-19T12:21:30.963Z"
   },
   {
    "duration": 7213,
    "start_time": "2021-08-19T12:21:53.119Z"
   },
   {
    "duration": 6803,
    "start_time": "2021-08-19T12:22:21.121Z"
   },
   {
    "duration": 1391,
    "start_time": "2021-08-19T12:22:45.662Z"
   },
   {
    "duration": 1698,
    "start_time": "2021-08-19T12:24:23.073Z"
   },
   {
    "duration": 419,
    "start_time": "2021-08-19T12:24:38.627Z"
   },
   {
    "duration": 435,
    "start_time": "2021-08-19T12:25:06.014Z"
   },
   {
    "duration": 477,
    "start_time": "2021-08-19T12:25:11.022Z"
   },
   {
    "duration": 423,
    "start_time": "2021-08-19T12:25:20.444Z"
   },
   {
    "duration": 481,
    "start_time": "2021-08-19T12:25:51.794Z"
   },
   {
    "duration": 271,
    "start_time": "2021-08-19T12:26:22.592Z"
   },
   {
    "duration": 574,
    "start_time": "2021-08-19T12:26:32.249Z"
   },
   {
    "duration": 239,
    "start_time": "2021-08-19T13:09:14.349Z"
   },
   {
    "duration": 6135,
    "start_time": "2021-08-19T13:09:21.980Z"
   },
   {
    "duration": 938,
    "start_time": "2021-08-19T13:09:34.889Z"
   },
   {
    "duration": 226,
    "start_time": "2021-08-19T13:10:18.735Z"
   },
   {
    "duration": 1062,
    "start_time": "2021-08-19T13:10:26.238Z"
   },
   {
    "duration": 121,
    "start_time": "2021-08-19T13:10:27.302Z"
   },
   {
    "duration": 15,
    "start_time": "2021-08-19T13:10:27.424Z"
   },
   {
    "duration": 68,
    "start_time": "2021-08-19T13:10:27.441Z"
   },
   {
    "duration": 66,
    "start_time": "2021-08-19T13:10:27.511Z"
   },
   {
    "duration": 91,
    "start_time": "2021-08-19T13:10:27.579Z"
   },
   {
    "duration": 26,
    "start_time": "2021-08-19T13:10:27.672Z"
   },
   {
    "duration": 11,
    "start_time": "2021-08-19T13:10:27.700Z"
   },
   {
    "duration": 35,
    "start_time": "2021-08-19T13:10:27.713Z"
   },
   {
    "duration": 42,
    "start_time": "2021-08-19T13:10:27.749Z"
   },
   {
    "duration": 518,
    "start_time": "2021-08-19T13:10:27.793Z"
   },
   {
    "duration": 1016,
    "start_time": "2021-08-19T13:10:28.313Z"
   },
   {
    "duration": 386,
    "start_time": "2021-08-19T13:10:28.945Z"
   },
   {
    "duration": 255,
    "start_time": "2021-08-19T13:10:32.094Z"
   },
   {
    "duration": 21,
    "start_time": "2021-08-19T13:10:37.135Z"
   },
   {
    "duration": 1033,
    "start_time": "2021-08-19T13:12:27.746Z"
   },
   {
    "duration": 116,
    "start_time": "2021-08-19T13:12:28.781Z"
   },
   {
    "duration": 13,
    "start_time": "2021-08-19T13:12:28.901Z"
   },
   {
    "duration": 55,
    "start_time": "2021-08-19T13:12:28.916Z"
   },
   {
    "duration": 75,
    "start_time": "2021-08-19T13:12:28.972Z"
   },
   {
    "duration": 84,
    "start_time": "2021-08-19T13:12:29.049Z"
   },
   {
    "duration": 407,
    "start_time": "2021-08-19T13:12:28.728Z"
   },
   {
    "duration": 391,
    "start_time": "2021-08-19T13:12:28.744Z"
   },
   {
    "duration": 380,
    "start_time": "2021-08-19T13:12:28.756Z"
   },
   {
    "duration": 378,
    "start_time": "2021-08-19T13:12:28.759Z"
   },
   {
    "duration": 375,
    "start_time": "2021-08-19T13:12:28.763Z"
   },
   {
    "duration": 366,
    "start_time": "2021-08-19T13:12:28.773Z"
   },
   {
    "duration": 363,
    "start_time": "2021-08-19T13:12:28.777Z"
   },
   {
    "duration": 361,
    "start_time": "2021-08-19T13:12:28.780Z"
   },
   {
    "duration": 81,
    "start_time": "2021-08-19T13:12:54.214Z"
   },
   {
    "duration": 102,
    "start_time": "2021-08-19T13:13:07.941Z"
   },
   {
    "duration": 21,
    "start_time": "2021-08-19T13:13:09.624Z"
   },
   {
    "duration": 1034,
    "start_time": "2021-08-19T13:13:17.144Z"
   },
   {
    "duration": 118,
    "start_time": "2021-08-19T13:13:18.180Z"
   },
   {
    "duration": 14,
    "start_time": "2021-08-19T13:13:18.302Z"
   },
   {
    "duration": 49,
    "start_time": "2021-08-19T13:13:18.317Z"
   },
   {
    "duration": 71,
    "start_time": "2021-08-19T13:13:18.368Z"
   },
   {
    "duration": 85,
    "start_time": "2021-08-19T13:13:18.440Z"
   },
   {
    "duration": 21,
    "start_time": "2021-08-19T13:13:18.527Z"
   },
   {
    "duration": 8,
    "start_time": "2021-08-19T13:13:18.549Z"
   },
   {
    "duration": 34,
    "start_time": "2021-08-19T13:13:18.558Z"
   },
   {
    "duration": 5,
    "start_time": "2021-08-19T13:13:18.593Z"
   },
   {
    "duration": 1069,
    "start_time": "2021-08-19T13:13:47.111Z"
   },
   {
    "duration": 118,
    "start_time": "2021-08-19T13:13:48.182Z"
   },
   {
    "duration": 14,
    "start_time": "2021-08-19T13:13:48.301Z"
   },
   {
    "duration": 53,
    "start_time": "2021-08-19T13:13:48.317Z"
   },
   {
    "duration": 79,
    "start_time": "2021-08-19T13:13:48.372Z"
   },
   {
    "duration": 121,
    "start_time": "2021-08-19T13:13:48.453Z"
   },
   {
    "duration": 21,
    "start_time": "2021-08-19T13:13:48.575Z"
   },
   {
    "duration": 6,
    "start_time": "2021-08-19T13:13:48.598Z"
   },
   {
    "duration": 20,
    "start_time": "2021-08-19T13:13:48.605Z"
   },
   {
    "duration": 4,
    "start_time": "2021-08-19T13:13:48.627Z"
   },
   {
    "duration": 513,
    "start_time": "2021-08-19T13:13:48.632Z"
   },
   {
    "duration": 16,
    "start_time": "2021-08-19T13:13:49.146Z"
   },
   {
    "duration": 27,
    "start_time": "2021-08-19T13:13:49.164Z"
   },
   {
    "duration": 8,
    "start_time": "2021-08-19T13:15:01.854Z"
   },
   {
    "duration": 678,
    "start_time": "2021-08-19T13:17:18.184Z"
   },
   {
    "duration": 1175,
    "start_time": "2021-08-19T13:18:19.617Z"
   },
   {
    "duration": 119,
    "start_time": "2021-08-19T13:18:20.794Z"
   },
   {
    "duration": 15,
    "start_time": "2021-08-19T13:18:20.915Z"
   },
   {
    "duration": 62,
    "start_time": "2021-08-19T13:18:20.932Z"
   },
   {
    "duration": 62,
    "start_time": "2021-08-19T13:18:20.996Z"
   },
   {
    "duration": 96,
    "start_time": "2021-08-19T13:18:21.060Z"
   },
   {
    "duration": 22,
    "start_time": "2021-08-19T13:18:21.158Z"
   },
   {
    "duration": 6,
    "start_time": "2021-08-19T13:18:21.190Z"
   },
   {
    "duration": 31,
    "start_time": "2021-08-19T13:18:21.197Z"
   },
   {
    "duration": 27,
    "start_time": "2021-08-19T13:18:21.230Z"
   },
   {
    "duration": 813,
    "start_time": "2021-08-19T13:18:21.259Z"
   },
   {
    "duration": 342,
    "start_time": "2021-08-19T13:18:21.732Z"
   },
   {
    "duration": 330,
    "start_time": "2021-08-19T13:18:21.745Z"
   },
   {
    "duration": 498,
    "start_time": "2021-08-19T13:18:31.651Z"
   },
   {
    "duration": 44,
    "start_time": "2021-08-19T13:18:37.204Z"
   },
   {
    "duration": 1098,
    "start_time": "2021-08-19T13:20:35.487Z"
   },
   {
    "duration": 120,
    "start_time": "2021-08-19T13:20:36.587Z"
   },
   {
    "duration": 14,
    "start_time": "2021-08-19T13:20:36.708Z"
   },
   {
    "duration": 50,
    "start_time": "2021-08-19T13:20:36.724Z"
   },
   {
    "duration": 72,
    "start_time": "2021-08-19T13:20:36.775Z"
   },
   {
    "duration": 91,
    "start_time": "2021-08-19T13:20:36.849Z"
   },
   {
    "duration": 37793,
    "start_time": "2021-08-19T13:20:36.942Z"
   },
   {
    "duration": 72,
    "start_time": "2021-08-19T13:21:14.736Z"
   },
   {
    "duration": 9,
    "start_time": "2021-08-19T13:21:14.810Z"
   },
   {
    "duration": 95,
    "start_time": "2021-08-19T13:21:14.821Z"
   },
   {
    "duration": 88,
    "start_time": "2021-08-19T13:21:14.918Z"
   },
   {
    "duration": 528,
    "start_time": "2021-08-19T13:21:15.008Z"
   },
   {
    "duration": 60,
    "start_time": "2021-08-19T13:21:15.537Z"
   },
   {
    "duration": 1095,
    "start_time": "2021-08-19T13:30:21.489Z"
   },
   {
    "duration": 119,
    "start_time": "2021-08-19T13:30:22.586Z"
   },
   {
    "duration": 14,
    "start_time": "2021-08-19T13:30:22.707Z"
   },
   {
    "duration": 51,
    "start_time": "2021-08-19T13:30:22.723Z"
   },
   {
    "duration": 71,
    "start_time": "2021-08-19T13:30:22.776Z"
   },
   {
    "duration": 88,
    "start_time": "2021-08-19T13:30:22.849Z"
   },
   {
    "duration": 4,
    "start_time": "2021-08-19T13:30:22.939Z"
   },
   {
    "duration": 23,
    "start_time": "2021-08-19T13:30:22.945Z"
   },
   {
    "duration": 15,
    "start_time": "2021-08-19T13:30:22.970Z"
   },
   {
    "duration": 29,
    "start_time": "2021-08-19T13:30:22.991Z"
   },
   {
    "duration": 28,
    "start_time": "2021-08-19T13:30:23.022Z"
   },
   {
    "duration": 512,
    "start_time": "2021-08-19T13:30:23.051Z"
   },
   {
    "duration": 52,
    "start_time": "2021-08-19T13:30:23.565Z"
   },
   {
    "duration": 7,
    "start_time": "2021-08-19T13:32:13.164Z"
   },
   {
    "duration": 6,
    "start_time": "2021-08-19T13:33:35.799Z"
   },
   {
    "duration": 362,
    "start_time": "2021-08-19T13:36:37.078Z"
   },
   {
    "duration": 292,
    "start_time": "2021-08-19T13:37:04.292Z"
   },
   {
    "duration": 285,
    "start_time": "2021-08-19T13:37:51.843Z"
   },
   {
    "duration": 286,
    "start_time": "2021-08-19T13:37:55.994Z"
   },
   {
    "duration": 1092,
    "start_time": "2021-08-19T13:40:20.293Z"
   },
   {
    "duration": 125,
    "start_time": "2021-08-19T13:40:21.387Z"
   },
   {
    "duration": 15,
    "start_time": "2021-08-19T13:40:21.515Z"
   },
   {
    "duration": 60,
    "start_time": "2021-08-19T13:40:21.532Z"
   },
   {
    "duration": 62,
    "start_time": "2021-08-19T13:40:21.594Z"
   },
   {
    "duration": 88,
    "start_time": "2021-08-19T13:40:21.657Z"
   },
   {
    "duration": 3,
    "start_time": "2021-08-19T13:40:21.747Z"
   },
   {
    "duration": 22,
    "start_time": "2021-08-19T13:40:21.752Z"
   },
   {
    "duration": 18,
    "start_time": "2021-08-19T13:40:21.776Z"
   },
   {
    "duration": 30,
    "start_time": "2021-08-19T13:40:21.795Z"
   },
   {
    "duration": 28,
    "start_time": "2021-08-19T13:40:21.826Z"
   },
   {
    "duration": 522,
    "start_time": "2021-08-19T13:40:21.855Z"
   },
   {
    "duration": 49,
    "start_time": "2021-08-19T13:40:22.378Z"
   },
   {
    "duration": 5,
    "start_time": "2021-08-19T13:40:22.429Z"
   },
   {
    "duration": 306,
    "start_time": "2021-08-19T13:40:22.435Z"
   },
   {
    "duration": 21,
    "start_time": "2021-08-19T14:07:17.104Z"
   },
   {
    "duration": 110,
    "start_time": "2021-08-19T14:07:25.303Z"
   },
   {
    "duration": 27,
    "start_time": "2021-08-19T14:32:36.283Z"
   },
   {
    "duration": 231,
    "start_time": "2021-08-19T14:33:17.025Z"
   },
   {
    "duration": 215,
    "start_time": "2021-08-19T14:34:00.742Z"
   },
   {
    "duration": 217,
    "start_time": "2021-08-19T14:35:49.248Z"
   },
   {
    "duration": 311,
    "start_time": "2021-08-19T15:09:08.681Z"
   },
   {
    "duration": 4169,
    "start_time": "2021-08-19T15:09:37.832Z"
   },
   {
    "duration": 288,
    "start_time": "2021-08-19T15:14:16.181Z"
   },
   {
    "duration": 48,
    "start_time": "2021-08-19T15:14:40.282Z"
   },
   {
    "duration": 439,
    "start_time": "2021-08-19T15:16:31.022Z"
   },
   {
    "duration": 5907,
    "start_time": "2021-08-19T15:16:34.011Z"
   },
   {
    "duration": 49,
    "start_time": "2021-08-19T15:16:45.561Z"
   },
   {
    "duration": 6,
    "start_time": "2021-08-19T15:16:47.768Z"
   },
   {
    "duration": 237,
    "start_time": "2021-08-19T15:19:21.074Z"
   },
   {
    "duration": 238,
    "start_time": "2021-08-19T15:19:38.272Z"
   },
   {
    "duration": 236,
    "start_time": "2021-08-19T15:19:50.158Z"
   },
   {
    "duration": 236,
    "start_time": "2021-08-19T15:21:07.751Z"
   },
   {
    "duration": 214,
    "start_time": "2021-08-19T15:21:20.830Z"
   },
   {
    "duration": 286,
    "start_time": "2021-08-19T15:22:42.494Z"
   },
   {
    "duration": 43,
    "start_time": "2021-08-19T15:22:49.552Z"
   },
   {
    "duration": 43,
    "start_time": "2021-08-19T15:23:20.275Z"
   },
   {
    "duration": 249,
    "start_time": "2021-08-19T15:23:21.675Z"
   },
   {
    "duration": 236,
    "start_time": "2021-08-19T15:23:29.752Z"
   },
   {
    "duration": 45,
    "start_time": "2021-08-19T15:23:36.646Z"
   },
   {
    "duration": 237,
    "start_time": "2021-08-19T15:23:38.309Z"
   },
   {
    "duration": 44,
    "start_time": "2021-08-19T15:24:19.103Z"
   },
   {
    "duration": 258,
    "start_time": "2021-08-19T15:24:21.269Z"
   },
   {
    "duration": 1061,
    "start_time": "2021-08-19T15:24:32.023Z"
   },
   {
    "duration": 120,
    "start_time": "2021-08-19T15:24:33.086Z"
   },
   {
    "duration": 13,
    "start_time": "2021-08-19T15:24:33.208Z"
   },
   {
    "duration": 68,
    "start_time": "2021-08-19T15:24:33.223Z"
   },
   {
    "duration": 64,
    "start_time": "2021-08-19T15:24:33.293Z"
   },
   {
    "duration": 88,
    "start_time": "2021-08-19T15:24:33.359Z"
   },
   {
    "duration": 3,
    "start_time": "2021-08-19T15:24:33.449Z"
   },
   {
    "duration": 16,
    "start_time": "2021-08-19T15:24:33.454Z"
   },
   {
    "duration": 36,
    "start_time": "2021-08-19T15:24:33.471Z"
   },
   {
    "duration": 28,
    "start_time": "2021-08-19T15:24:33.508Z"
   },
   {
    "duration": 516,
    "start_time": "2021-08-19T15:24:33.538Z"
   },
   {
    "duration": 52,
    "start_time": "2021-08-19T15:24:34.055Z"
   },
   {
    "duration": 5,
    "start_time": "2021-08-19T15:24:34.109Z"
   },
   {
    "duration": 302,
    "start_time": "2021-08-19T15:24:34.115Z"
   },
   {
    "duration": 20,
    "start_time": "2021-08-19T15:24:34.418Z"
   },
   {
    "duration": 251,
    "start_time": "2021-08-19T15:24:34.440Z"
   },
   {
    "duration": 45,
    "start_time": "2021-08-19T15:24:34.692Z"
   },
   {
    "duration": 320,
    "start_time": "2021-08-19T15:24:34.739Z"
   },
   {
    "duration": 235,
    "start_time": "2021-08-19T15:24:47.335Z"
   },
   {
    "duration": 44,
    "start_time": "2021-08-19T15:25:41.707Z"
   },
   {
    "duration": 44,
    "start_time": "2021-08-19T15:26:38.174Z"
   },
   {
    "duration": 42,
    "start_time": "2021-08-19T15:26:45.861Z"
   },
   {
    "duration": 241,
    "start_time": "2021-08-19T15:26:47.810Z"
   },
   {
    "duration": 1113,
    "start_time": "2021-08-19T15:26:52.273Z"
   },
   {
    "duration": 121,
    "start_time": "2021-08-19T15:26:53.388Z"
   },
   {
    "duration": 16,
    "start_time": "2021-08-19T15:26:53.511Z"
   },
   {
    "duration": 52,
    "start_time": "2021-08-19T15:26:53.529Z"
   },
   {
    "duration": 64,
    "start_time": "2021-08-19T15:26:53.592Z"
   },
   {
    "duration": 98,
    "start_time": "2021-08-19T15:26:53.658Z"
   },
   {
    "duration": 4,
    "start_time": "2021-08-19T15:26:53.758Z"
   },
   {
    "duration": 7,
    "start_time": "2021-08-19T15:26:53.765Z"
   },
   {
    "duration": 42,
    "start_time": "2021-08-19T15:26:53.773Z"
   },
   {
    "duration": 28,
    "start_time": "2021-08-19T15:26:53.816Z"
   },
   {
    "duration": 515,
    "start_time": "2021-08-19T15:26:53.846Z"
   },
   {
    "duration": 53,
    "start_time": "2021-08-19T15:26:54.364Z"
   },
   {
    "duration": 6,
    "start_time": "2021-08-19T15:26:54.419Z"
   },
   {
    "duration": 312,
    "start_time": "2021-08-19T15:26:54.427Z"
   },
   {
    "duration": 26,
    "start_time": "2021-08-19T15:26:54.741Z"
   },
   {
    "duration": 227,
    "start_time": "2021-08-19T15:26:54.768Z"
   },
   {
    "duration": 45,
    "start_time": "2021-08-19T15:26:54.997Z"
   },
   {
    "duration": 333,
    "start_time": "2021-08-19T15:26:55.044Z"
   },
   {
    "duration": 434,
    "start_time": "2021-08-19T15:26:54.946Z"
   },
   {
    "duration": 92,
    "start_time": "2021-08-19T15:27:35.551Z"
   },
   {
    "duration": 45,
    "start_time": "2021-08-19T15:27:51.766Z"
   },
   {
    "duration": 45,
    "start_time": "2021-08-19T15:28:34.910Z"
   },
   {
    "duration": 48,
    "start_time": "2021-08-19T15:30:06.009Z"
   },
   {
    "duration": 246,
    "start_time": "2021-08-19T15:30:10.165Z"
   },
   {
    "duration": 47,
    "start_time": "2021-08-19T15:31:02.914Z"
   },
   {
    "duration": 239,
    "start_time": "2021-08-19T15:31:04.924Z"
   },
   {
    "duration": 225,
    "start_time": "2021-08-19T15:31:16.680Z"
   },
   {
    "duration": 234,
    "start_time": "2021-08-19T15:31:21.841Z"
   },
   {
    "duration": 1016,
    "start_time": "2021-08-19T15:37:10.056Z"
   },
   {
    "duration": 44,
    "start_time": "2021-08-19T15:37:32.953Z"
   },
   {
    "duration": 655,
    "start_time": "2021-08-19T15:38:05.692Z"
   },
   {
    "duration": 43,
    "start_time": "2021-08-19T15:38:09.900Z"
   },
   {
    "duration": 281,
    "start_time": "2021-08-19T15:38:14.575Z"
   },
   {
    "duration": 1081,
    "start_time": "2021-08-19T15:38:34.422Z"
   },
   {
    "duration": 120,
    "start_time": "2021-08-19T15:38:35.505Z"
   },
   {
    "duration": 14,
    "start_time": "2021-08-19T15:38:35.627Z"
   },
   {
    "duration": 67,
    "start_time": "2021-08-19T15:38:35.642Z"
   },
   {
    "duration": 67,
    "start_time": "2021-08-19T15:38:35.710Z"
   },
   {
    "duration": 91,
    "start_time": "2021-08-19T15:38:35.778Z"
   },
   {
    "duration": 3,
    "start_time": "2021-08-19T15:38:35.871Z"
   },
   {
    "duration": 15,
    "start_time": "2021-08-19T15:38:35.877Z"
   },
   {
    "duration": 43,
    "start_time": "2021-08-19T15:38:35.894Z"
   },
   {
    "duration": 28,
    "start_time": "2021-08-19T15:38:35.938Z"
   },
   {
    "duration": 512,
    "start_time": "2021-08-19T15:38:35.968Z"
   },
   {
    "duration": 50,
    "start_time": "2021-08-19T15:38:36.482Z"
   },
   {
    "duration": 6,
    "start_time": "2021-08-19T15:38:36.534Z"
   },
   {
    "duration": 312,
    "start_time": "2021-08-19T15:38:36.542Z"
   },
   {
    "duration": 21,
    "start_time": "2021-08-19T15:38:36.855Z"
   },
   {
    "duration": 231,
    "start_time": "2021-08-19T15:38:36.878Z"
   },
   {
    "duration": 345,
    "start_time": "2021-08-19T15:38:37.110Z"
   },
   {
    "duration": 448,
    "start_time": "2021-08-19T15:38:37.009Z"
   },
   {
    "duration": 446,
    "start_time": "2021-08-19T15:38:37.012Z"
   },
   {
    "duration": 43,
    "start_time": "2021-08-19T15:39:15.038Z"
   },
   {
    "duration": 45,
    "start_time": "2021-08-19T15:39:30.872Z"
   },
   {
    "duration": 278,
    "start_time": "2021-08-19T15:39:32.095Z"
   },
   {
    "duration": 1018,
    "start_time": "2021-08-19T15:39:40.355Z"
   },
   {
    "duration": 234,
    "start_time": "2021-08-19T15:41:38.145Z"
   },
   {
    "duration": 338,
    "start_time": "2021-08-19T15:42:30.562Z"
   },
   {
    "duration": 227,
    "start_time": "2021-08-19T15:42:41.863Z"
   },
   {
    "duration": 44,
    "start_time": "2021-08-19T15:42:54.020Z"
   },
   {
    "duration": 523,
    "start_time": "2021-08-19T15:42:55.538Z"
   },
   {
    "duration": 323,
    "start_time": "2021-08-19T15:43:23.337Z"
   },
   {
    "duration": 64,
    "start_time": "2021-08-19T15:43:56.810Z"
   },
   {
    "duration": 233,
    "start_time": "2021-08-19T15:43:58.145Z"
   },
   {
    "duration": 67,
    "start_time": "2021-08-19T15:44:53.534Z"
   },
   {
    "duration": 235,
    "start_time": "2021-08-19T15:44:54.438Z"
   },
   {
    "duration": 79,
    "start_time": "2021-08-19T15:45:09.786Z"
   },
   {
    "duration": 238,
    "start_time": "2021-08-19T15:45:17.933Z"
   },
   {
    "duration": 218,
    "start_time": "2021-08-19T15:45:55.934Z"
   },
   {
    "duration": 45,
    "start_time": "2021-08-19T15:46:37.288Z"
   },
   {
    "duration": 44,
    "start_time": "2021-08-19T15:46:51.245Z"
   },
   {
    "duration": 43,
    "start_time": "2021-08-19T15:48:25.143Z"
   },
   {
    "duration": 49,
    "start_time": "2021-08-19T15:48:34.477Z"
   },
   {
    "duration": 48,
    "start_time": "2021-08-19T15:49:30.422Z"
   },
   {
    "duration": 48,
    "start_time": "2021-08-19T15:49:35.477Z"
   },
   {
    "duration": 75,
    "start_time": "2021-08-19T15:49:56.175Z"
   },
   {
    "duration": 48,
    "start_time": "2021-08-19T15:49:59.723Z"
   },
   {
    "duration": 51,
    "start_time": "2021-08-19T15:50:40.413Z"
   },
   {
    "duration": 59,
    "start_time": "2021-08-19T15:50:44.549Z"
   },
   {
    "duration": 81,
    "start_time": "2021-08-19T15:50:59.438Z"
   },
   {
    "duration": 84,
    "start_time": "2021-08-19T15:51:02.660Z"
   },
   {
    "duration": 81,
    "start_time": "2021-08-19T15:51:09.293Z"
   },
   {
    "duration": 48,
    "start_time": "2021-08-19T15:51:14.659Z"
   },
   {
    "duration": 1069,
    "start_time": "2021-08-19T15:57:06.431Z"
   },
   {
    "duration": 123,
    "start_time": "2021-08-19T15:57:07.502Z"
   },
   {
    "duration": 14,
    "start_time": "2021-08-19T15:57:07.626Z"
   },
   {
    "duration": 56,
    "start_time": "2021-08-19T15:57:07.641Z"
   },
   {
    "duration": 63,
    "start_time": "2021-08-19T15:57:07.698Z"
   },
   {
    "duration": 94,
    "start_time": "2021-08-19T15:57:07.762Z"
   },
   {
    "duration": 3,
    "start_time": "2021-08-19T15:57:07.858Z"
   },
   {
    "duration": 8,
    "start_time": "2021-08-19T15:57:07.863Z"
   },
   {
    "duration": 40,
    "start_time": "2021-08-19T15:57:07.873Z"
   },
   {
    "duration": 28,
    "start_time": "2021-08-19T15:57:07.914Z"
   },
   {
    "duration": 521,
    "start_time": "2021-08-19T15:57:07.943Z"
   },
   {
    "duration": 46,
    "start_time": "2021-08-19T15:57:08.466Z"
   },
   {
    "duration": 5,
    "start_time": "2021-08-19T15:57:08.514Z"
   },
   {
    "duration": 311,
    "start_time": "2021-08-19T15:57:08.520Z"
   },
   {
    "duration": 20,
    "start_time": "2021-08-19T15:57:08.833Z"
   },
   {
    "duration": 225,
    "start_time": "2021-08-19T15:57:08.855Z"
   },
   {
    "duration": 380,
    "start_time": "2021-08-19T15:57:09.081Z"
   },
   {
    "duration": 459,
    "start_time": "2021-08-19T15:57:09.004Z"
   },
   {
    "duration": 456,
    "start_time": "2021-08-19T15:57:09.008Z"
   },
   {
    "duration": 453,
    "start_time": "2021-08-19T15:57:09.012Z"
   },
   {
    "duration": 5987,
    "start_time": "2021-08-19T15:58:02.826Z"
   },
   {
    "duration": 313,
    "start_time": "2021-08-19T15:58:10.342Z"
   },
   {
    "duration": 288,
    "start_time": "2021-08-19T15:58:13.410Z"
   },
   {
    "duration": 281,
    "start_time": "2021-08-19T15:58:48.274Z"
   },
   {
    "duration": 1103,
    "start_time": "2021-08-19T15:58:54.588Z"
   },
   {
    "duration": 121,
    "start_time": "2021-08-19T15:58:55.693Z"
   },
   {
    "duration": 14,
    "start_time": "2021-08-19T15:58:55.816Z"
   },
   {
    "duration": 60,
    "start_time": "2021-08-19T15:58:55.832Z"
   },
   {
    "duration": 68,
    "start_time": "2021-08-19T15:58:55.894Z"
   },
   {
    "duration": 94,
    "start_time": "2021-08-19T15:58:55.964Z"
   },
   {
    "duration": 3,
    "start_time": "2021-08-19T15:58:56.060Z"
   },
   {
    "duration": 8,
    "start_time": "2021-08-19T15:58:56.064Z"
   },
   {
    "duration": 40,
    "start_time": "2021-08-19T15:58:56.074Z"
   },
   {
    "duration": 28,
    "start_time": "2021-08-19T15:58:56.115Z"
   },
   {
    "duration": 533,
    "start_time": "2021-08-19T15:58:56.145Z"
   },
   {
    "duration": 48,
    "start_time": "2021-08-19T15:58:56.679Z"
   },
   {
    "duration": 5,
    "start_time": "2021-08-19T15:58:56.729Z"
   },
   {
    "duration": 305,
    "start_time": "2021-08-19T15:58:56.736Z"
   },
   {
    "duration": 21,
    "start_time": "2021-08-19T15:58:57.043Z"
   },
   {
    "duration": 225,
    "start_time": "2021-08-19T15:58:57.066Z"
   },
   {
    "duration": 390,
    "start_time": "2021-08-19T15:58:57.293Z"
   },
   {
    "duration": 433,
    "start_time": "2021-08-19T15:58:57.252Z"
   },
   {
    "duration": 423,
    "start_time": "2021-08-19T15:58:57.263Z"
   },
   {
    "duration": 420,
    "start_time": "2021-08-19T15:58:57.267Z"
   },
   {
    "duration": 41,
    "start_time": "2021-08-19T15:59:23.145Z"
   },
   {
    "duration": 6,
    "start_time": "2021-08-19T15:59:32.755Z"
   },
   {
    "duration": 256,
    "start_time": "2021-08-19T15:59:37.596Z"
   },
   {
    "duration": 733,
    "start_time": "2021-08-19T15:59:40.156Z"
   },
   {
    "duration": 4,
    "start_time": "2021-08-19T15:59:46.983Z"
   },
   {
    "duration": 49,
    "start_time": "2021-08-19T16:00:00.573Z"
   },
   {
    "duration": 233,
    "start_time": "2021-08-19T16:04:46.234Z"
   },
   {
    "duration": 259,
    "start_time": "2021-08-19T16:05:18.028Z"
   },
   {
    "duration": 217,
    "start_time": "2021-08-19T16:05:53.902Z"
   },
   {
    "duration": 6582,
    "start_time": "2021-08-19T16:06:18.830Z"
   },
   {
    "duration": 316,
    "start_time": "2021-08-19T16:06:52.214Z"
   },
   {
    "duration": 51,
    "start_time": "2021-08-19T16:06:59.897Z"
   },
   {
    "duration": 90,
    "start_time": "2021-08-19T16:08:01.873Z"
   },
   {
    "duration": 48,
    "start_time": "2021-08-19T16:08:10.572Z"
   },
   {
    "duration": 50,
    "start_time": "2021-08-19T16:08:57.020Z"
   },
   {
    "duration": 6670,
    "start_time": "2021-08-19T16:23:11.836Z"
   },
   {
    "duration": 6202,
    "start_time": "2021-08-19T16:23:32.388Z"
   },
   {
    "duration": 6550,
    "start_time": "2021-08-19T16:23:45.116Z"
   },
   {
    "duration": 74,
    "start_time": "2021-08-19T16:24:04.699Z"
   },
   {
    "duration": 235,
    "start_time": "2021-08-19T16:24:35.480Z"
   },
   {
    "duration": 5847,
    "start_time": "2021-08-19T16:24:52.060Z"
   },
   {
    "duration": 1190,
    "start_time": "2021-08-19T16:26:07.786Z"
   },
   {
    "duration": 292,
    "start_time": "2021-08-19T16:27:02.284Z"
   },
   {
    "duration": 1081,
    "start_time": "2021-08-19T16:29:29.131Z"
   },
   {
    "duration": 130,
    "start_time": "2021-08-19T16:29:30.214Z"
   },
   {
    "duration": 15,
    "start_time": "2021-08-19T16:29:30.346Z"
   },
   {
    "duration": 70,
    "start_time": "2021-08-19T16:29:30.363Z"
   },
   {
    "duration": 79,
    "start_time": "2021-08-19T16:29:30.434Z"
   },
   {
    "duration": 88,
    "start_time": "2021-08-19T16:29:30.515Z"
   },
   {
    "duration": 3,
    "start_time": "2021-08-19T16:29:30.605Z"
   },
   {
    "duration": 26,
    "start_time": "2021-08-19T16:29:30.611Z"
   },
   {
    "duration": 37,
    "start_time": "2021-08-19T16:29:30.639Z"
   },
   {
    "duration": 31,
    "start_time": "2021-08-19T16:29:30.678Z"
   },
   {
    "duration": 539,
    "start_time": "2021-08-19T16:29:30.711Z"
   },
   {
    "duration": 50,
    "start_time": "2021-08-19T16:29:31.252Z"
   },
   {
    "duration": 5,
    "start_time": "2021-08-19T16:29:31.304Z"
   },
   {
    "duration": 321,
    "start_time": "2021-08-19T16:29:31.310Z"
   },
   {
    "duration": 22,
    "start_time": "2021-08-19T16:29:31.632Z"
   },
   {
    "duration": 236,
    "start_time": "2021-08-19T16:29:31.655Z"
   },
   {
    "duration": 250,
    "start_time": "2021-08-19T16:29:31.893Z"
   },
   {
    "duration": 63,
    "start_time": "2021-08-19T16:29:32.145Z"
   },
   {
    "duration": 380,
    "start_time": "2021-08-19T16:29:32.210Z"
   },
   {
    "duration": 448,
    "start_time": "2021-08-19T16:29:32.145Z"
   },
   {
    "duration": 318,
    "start_time": "2021-08-19T16:29:42.057Z"
   },
   {
    "duration": 1275,
    "start_time": "2021-08-19T16:30:01.255Z"
   },
   {
    "duration": 295,
    "start_time": "2021-08-19T16:30:21.521Z"
   },
   {
    "duration": 6933,
    "start_time": "2021-08-19T16:30:23.285Z"
   },
   {
    "duration": 398,
    "start_time": "2021-08-19T16:30:46.113Z"
   },
   {
    "duration": 6922,
    "start_time": "2021-08-19T16:31:16.659Z"
   },
   {
    "duration": 310,
    "start_time": "2021-08-19T16:31:43.072Z"
   },
   {
    "duration": 500,
    "start_time": "2021-08-19T16:31:57.121Z"
   },
   {
    "duration": 305,
    "start_time": "2021-08-19T16:33:01.088Z"
   },
   {
    "duration": 508,
    "start_time": "2021-08-19T16:33:09.043Z"
   },
   {
    "duration": 453,
    "start_time": "2021-08-19T16:33:38.468Z"
   },
   {
    "duration": 304,
    "start_time": "2021-08-19T16:33:57.289Z"
   },
   {
    "duration": 5,
    "start_time": "2021-08-19T16:34:42.102Z"
   },
   {
    "duration": 298,
    "start_time": "2021-08-19T16:35:07.415Z"
   },
   {
    "duration": 1093,
    "start_time": "2021-08-19T16:35:18.198Z"
   },
   {
    "duration": 120,
    "start_time": "2021-08-19T16:35:19.293Z"
   },
   {
    "duration": 13,
    "start_time": "2021-08-19T16:35:19.415Z"
   },
   {
    "duration": 62,
    "start_time": "2021-08-19T16:35:19.430Z"
   },
   {
    "duration": 59,
    "start_time": "2021-08-19T16:35:19.493Z"
   },
   {
    "duration": 94,
    "start_time": "2021-08-19T16:35:19.553Z"
   },
   {
    "duration": 3,
    "start_time": "2021-08-19T16:35:19.648Z"
   },
   {
    "duration": 8,
    "start_time": "2021-08-19T16:35:19.654Z"
   },
   {
    "duration": 39,
    "start_time": "2021-08-19T16:35:19.663Z"
   },
   {
    "duration": 27,
    "start_time": "2021-08-19T16:35:19.703Z"
   },
   {
    "duration": 514,
    "start_time": "2021-08-19T16:35:19.732Z"
   },
   {
    "duration": 51,
    "start_time": "2021-08-19T16:35:20.248Z"
   },
   {
    "duration": 5,
    "start_time": "2021-08-19T16:35:20.300Z"
   },
   {
    "duration": 304,
    "start_time": "2021-08-19T16:35:20.307Z"
   },
   {
    "duration": 22,
    "start_time": "2021-08-19T16:35:20.612Z"
   },
   {
    "duration": 225,
    "start_time": "2021-08-19T16:35:20.636Z"
   },
   {
    "duration": 255,
    "start_time": "2021-08-19T16:35:20.863Z"
   },
   {
    "duration": 54,
    "start_time": "2021-08-19T16:35:21.120Z"
   },
   {
    "duration": 297,
    "start_time": "2021-08-19T16:35:21.175Z"
   },
   {
    "duration": 1050,
    "start_time": "2021-08-19T16:35:21.473Z"
   },
   {
    "duration": 1102,
    "start_time": "2021-08-19T16:35:22.526Z"
   },
   {
    "duration": 8,
    "start_time": "2021-08-19T16:35:52.694Z"
   },
   {
    "duration": 6033,
    "start_time": "2021-08-19T16:38:53.104Z"
   },
   {
    "duration": 5725,
    "start_time": "2021-08-19T16:39:15.963Z"
   },
   {
    "duration": 7,
    "start_time": "2021-08-19T16:39:29.850Z"
   },
   {
    "duration": 1231,
    "start_time": "2021-08-19T16:40:01.302Z"
   },
   {
    "duration": 7,
    "start_time": "2021-08-19T16:40:14.483Z"
   },
   {
    "duration": 247,
    "start_time": "2021-08-19T16:41:17.708Z"
   },
   {
    "duration": 192,
    "start_time": "2021-08-19T16:41:33.967Z"
   },
   {
    "duration": 168,
    "start_time": "2021-08-19T16:42:06.675Z"
   },
   {
    "duration": 293,
    "start_time": "2021-08-19T16:42:27.743Z"
   },
   {
    "duration": 311,
    "start_time": "2021-08-19T16:42:30.592Z"
   },
   {
    "duration": 167,
    "start_time": "2021-08-19T16:43:17.980Z"
   },
   {
    "duration": 122,
    "start_time": "2021-08-19T16:43:36.379Z"
   },
   {
    "duration": 254,
    "start_time": "2021-08-19T16:43:51.402Z"
   },
   {
    "duration": 1087,
    "start_time": "2021-08-19T16:44:06.011Z"
   },
   {
    "duration": 120,
    "start_time": "2021-08-19T16:44:07.100Z"
   },
   {
    "duration": 14,
    "start_time": "2021-08-19T16:44:07.222Z"
   },
   {
    "duration": 63,
    "start_time": "2021-08-19T16:44:07.238Z"
   },
   {
    "duration": 66,
    "start_time": "2021-08-19T16:44:07.302Z"
   },
   {
    "duration": 93,
    "start_time": "2021-08-19T16:44:07.369Z"
   },
   {
    "duration": 3,
    "start_time": "2021-08-19T16:44:07.464Z"
   },
   {
    "duration": 7,
    "start_time": "2021-08-19T16:44:07.470Z"
   },
   {
    "duration": 38,
    "start_time": "2021-08-19T16:44:07.479Z"
   },
   {
    "duration": 29,
    "start_time": "2021-08-19T16:44:07.519Z"
   },
   {
    "duration": 527,
    "start_time": "2021-08-19T16:44:07.549Z"
   },
   {
    "duration": 49,
    "start_time": "2021-08-19T16:44:08.077Z"
   },
   {
    "duration": 6,
    "start_time": "2021-08-19T16:44:08.128Z"
   },
   {
    "duration": 312,
    "start_time": "2021-08-19T16:44:08.135Z"
   },
   {
    "duration": 22,
    "start_time": "2021-08-19T16:44:08.448Z"
   },
   {
    "duration": 227,
    "start_time": "2021-08-19T16:44:08.471Z"
   },
   {
    "duration": 240,
    "start_time": "2021-08-19T16:44:08.700Z"
   },
   {
    "duration": 69,
    "start_time": "2021-08-19T16:44:08.942Z"
   },
   {
    "duration": 298,
    "start_time": "2021-08-19T16:44:09.013Z"
   },
   {
    "duration": 166,
    "start_time": "2021-08-19T16:44:09.313Z"
   },
   {
    "duration": 315,
    "start_time": "2021-08-19T16:44:09.481Z"
   },
   {
    "duration": 472,
    "start_time": "2021-08-19T16:44:09.326Z"
   },
   {
    "duration": 454,
    "start_time": "2021-08-19T16:44:09.344Z"
   },
   {
    "duration": 1115,
    "start_time": "2021-08-19T16:44:26.300Z"
   },
   {
    "duration": 400,
    "start_time": "2021-08-19T16:45:05.198Z"
   },
   {
    "duration": 200,
    "start_time": "2021-08-19T16:45:11.320Z"
   },
   {
    "duration": 6,
    "start_time": "2021-08-19T16:47:21.202Z"
   },
   {
    "duration": 165,
    "start_time": "2021-08-19T16:48:14.016Z"
   },
   {
    "duration": 80,
    "start_time": "2021-08-19T16:48:56.305Z"
   },
   {
    "duration": 60,
    "start_time": "2021-08-19T16:49:11.602Z"
   },
   {
    "duration": 15,
    "start_time": "2021-08-19T16:50:19.463Z"
   },
   {
    "duration": 17,
    "start_time": "2021-08-19T16:51:51.229Z"
   },
   {
    "duration": 78,
    "start_time": "2021-08-19T16:52:28.324Z"
   },
   {
    "duration": 16,
    "start_time": "2021-08-19T16:52:36.644Z"
   },
   {
    "duration": 1110,
    "start_time": "2021-08-19T16:54:41.487Z"
   },
   {
    "duration": 122,
    "start_time": "2021-08-19T16:54:42.599Z"
   },
   {
    "duration": 14,
    "start_time": "2021-08-19T16:54:42.723Z"
   },
   {
    "duration": 63,
    "start_time": "2021-08-19T16:54:42.739Z"
   },
   {
    "duration": 69,
    "start_time": "2021-08-19T16:54:42.804Z"
   },
   {
    "duration": 96,
    "start_time": "2021-08-19T16:54:42.875Z"
   },
   {
    "duration": 3,
    "start_time": "2021-08-19T16:54:42.973Z"
   },
   {
    "duration": 17,
    "start_time": "2021-08-19T16:54:42.978Z"
   },
   {
    "duration": 34,
    "start_time": "2021-08-19T16:54:42.997Z"
   },
   {
    "duration": 30,
    "start_time": "2021-08-19T16:54:43.033Z"
   },
   {
    "duration": 633,
    "start_time": "2021-08-19T16:54:43.065Z"
   },
   {
    "duration": 42,
    "start_time": "2021-08-19T16:54:43.700Z"
   },
   {
    "duration": 5,
    "start_time": "2021-08-19T16:54:43.744Z"
   },
   {
    "duration": 322,
    "start_time": "2021-08-19T16:54:43.750Z"
   },
   {
    "duration": 24,
    "start_time": "2021-08-19T16:54:44.074Z"
   },
   {
    "duration": 219,
    "start_time": "2021-08-19T16:54:44.100Z"
   },
   {
    "duration": 258,
    "start_time": "2021-08-19T16:54:44.321Z"
   },
   {
    "duration": 59,
    "start_time": "2021-08-19T16:54:44.581Z"
   },
   {
    "duration": 313,
    "start_time": "2021-08-19T16:54:44.641Z"
   },
   {
    "duration": 189,
    "start_time": "2021-08-19T16:54:44.956Z"
   },
   {
    "duration": 311,
    "start_time": "2021-08-19T16:54:45.146Z"
   },
   {
    "duration": 464,
    "start_time": "2021-08-19T16:54:44.995Z"
   },
   {
    "duration": 459,
    "start_time": "2021-08-19T16:54:45.001Z"
   },
   {
    "duration": 542,
    "start_time": "2021-08-19T16:55:33.894Z"
   },
   {
    "duration": 282,
    "start_time": "2021-08-19T16:55:35.366Z"
   },
   {
    "duration": 278,
    "start_time": "2021-08-19T16:56:14.933Z"
   },
   {
    "duration": 85,
    "start_time": "2021-08-19T16:58:14.915Z"
   },
   {
    "duration": 79,
    "start_time": "2021-08-19T16:58:25.919Z"
   },
   {
    "duration": 6064,
    "start_time": "2021-08-19T16:58:30.790Z"
   },
   {
    "duration": 712,
    "start_time": "2021-08-19T16:58:51.911Z"
   },
   {
    "duration": 83,
    "start_time": "2021-08-19T16:59:52.472Z"
   },
   {
    "duration": 76,
    "start_time": "2021-08-19T16:59:56.387Z"
   },
   {
    "duration": 109,
    "start_time": "2021-08-19T17:00:00.215Z"
   },
   {
    "duration": 327,
    "start_time": "2021-08-19T17:04:41.233Z"
   },
   {
    "duration": 237,
    "start_time": "2021-08-19T17:04:46.937Z"
   },
   {
    "duration": 233,
    "start_time": "2021-08-19T17:05:09.648Z"
   },
   {
    "duration": 3,
    "start_time": "2021-08-19T17:05:32.514Z"
   },
   {
    "duration": 233,
    "start_time": "2021-08-19T17:05:35.815Z"
   },
   {
    "duration": 233,
    "start_time": "2021-08-19T17:05:47.429Z"
   },
   {
    "duration": 228,
    "start_time": "2021-08-19T17:05:52.706Z"
   },
   {
    "duration": 29,
    "start_time": "2021-08-19T17:05:57.500Z"
   },
   {
    "duration": 417,
    "start_time": "2021-08-19T17:06:14.043Z"
   },
   {
    "duration": 168,
    "start_time": "2021-08-19T17:06:43.919Z"
   },
   {
    "duration": 164,
    "start_time": "2021-08-19T17:06:47.467Z"
   },
   {
    "duration": 165,
    "start_time": "2021-08-19T17:06:51.832Z"
   },
   {
    "duration": 164,
    "start_time": "2021-08-19T17:06:55.726Z"
   },
   {
    "duration": 169,
    "start_time": "2021-08-19T17:07:01.135Z"
   },
   {
    "duration": 474,
    "start_time": "2021-08-19T17:07:39.497Z"
   },
   {
    "duration": 172,
    "start_time": "2021-08-19T17:07:42.057Z"
   },
   {
    "duration": 427,
    "start_time": "2021-08-19T17:07:52.437Z"
   },
   {
    "duration": 166,
    "start_time": "2021-08-19T17:07:58.880Z"
   },
   {
    "duration": 164,
    "start_time": "2021-08-19T17:08:07.151Z"
   },
   {
    "duration": 1441,
    "start_time": "2021-08-19T17:09:15.179Z"
   },
   {
    "duration": 126,
    "start_time": "2021-08-19T17:09:16.622Z"
   },
   {
    "duration": 14,
    "start_time": "2021-08-19T17:09:16.751Z"
   },
   {
    "duration": 69,
    "start_time": "2021-08-19T17:09:16.766Z"
   },
   {
    "duration": 56,
    "start_time": "2021-08-19T17:09:16.837Z"
   },
   {
    "duration": 81,
    "start_time": "2021-08-19T17:09:16.895Z"
   },
   {
    "duration": 14,
    "start_time": "2021-08-19T17:09:16.978Z"
   },
   {
    "duration": 21,
    "start_time": "2021-08-19T17:09:16.994Z"
   },
   {
    "duration": 48,
    "start_time": "2021-08-19T17:09:17.017Z"
   },
   {
    "duration": 33,
    "start_time": "2021-08-19T17:09:17.067Z"
   },
   {
    "duration": 527,
    "start_time": "2021-08-19T17:09:17.102Z"
   },
   {
    "duration": 61,
    "start_time": "2021-08-19T17:09:17.631Z"
   },
   {
    "duration": 6,
    "start_time": "2021-08-19T17:09:17.694Z"
   },
   {
    "duration": 316,
    "start_time": "2021-08-19T17:09:17.701Z"
   },
   {
    "duration": 23,
    "start_time": "2021-08-19T17:09:18.019Z"
   },
   {
    "duration": 234,
    "start_time": "2021-08-19T17:09:18.044Z"
   },
   {
    "duration": 245,
    "start_time": "2021-08-19T17:09:18.279Z"
   },
   {
    "duration": 511,
    "start_time": "2021-08-19T17:09:18.526Z"
   },
   {
    "duration": 483,
    "start_time": "2021-08-19T17:09:18.556Z"
   },
   {
    "duration": 477,
    "start_time": "2021-08-19T17:09:18.562Z"
   },
   {
    "duration": 474,
    "start_time": "2021-08-19T17:09:18.566Z"
   },
   {
    "duration": 465,
    "start_time": "2021-08-19T17:09:18.576Z"
   },
   {
    "duration": 461,
    "start_time": "2021-08-19T17:09:18.581Z"
   },
   {
    "duration": 453,
    "start_time": "2021-08-19T17:09:18.589Z"
   },
   {
    "duration": 163,
    "start_time": "2021-08-19T17:09:35.002Z"
   },
   {
    "duration": 568,
    "start_time": "2021-08-19T17:10:06.641Z"
   },
   {
    "duration": 105,
    "start_time": "2021-08-19T17:11:09.361Z"
   },
   {
    "duration": 111,
    "start_time": "2021-08-19T17:11:14.896Z"
   },
   {
    "duration": 449,
    "start_time": "2021-08-19T17:15:55.387Z"
   },
   {
    "duration": 160,
    "start_time": "2021-08-19T17:16:03.177Z"
   },
   {
    "duration": 174,
    "start_time": "2021-08-19T17:16:06.803Z"
   },
   {
    "duration": 165,
    "start_time": "2021-08-19T17:16:15.707Z"
   },
   {
    "duration": 1984,
    "start_time": "2021-08-20T10:00:34.110Z"
   },
   {
    "duration": 177,
    "start_time": "2021-08-20T10:00:36.097Z"
   },
   {
    "duration": 27,
    "start_time": "2021-08-20T10:00:36.276Z"
   },
   {
    "duration": 109,
    "start_time": "2021-08-20T10:00:36.307Z"
   },
   {
    "duration": 111,
    "start_time": "2021-08-20T10:00:36.419Z"
   },
   {
    "duration": 147,
    "start_time": "2021-08-20T10:00:36.533Z"
   },
   {
    "duration": 7,
    "start_time": "2021-08-20T10:00:36.682Z"
   },
   {
    "duration": 10,
    "start_time": "2021-08-20T10:00:36.694Z"
   },
   {
    "duration": 78,
    "start_time": "2021-08-20T10:00:36.709Z"
   },
   {
    "duration": 46,
    "start_time": "2021-08-20T10:00:36.790Z"
   },
   {
    "duration": 948,
    "start_time": "2021-08-20T10:00:36.839Z"
   },
   {
    "duration": 78,
    "start_time": "2021-08-20T10:00:37.789Z"
   },
   {
    "duration": 9,
    "start_time": "2021-08-20T10:00:37.870Z"
   },
   {
    "duration": 570,
    "start_time": "2021-08-20T10:00:37.881Z"
   },
   {
    "duration": 35,
    "start_time": "2021-08-20T10:00:38.453Z"
   },
   {
    "duration": 415,
    "start_time": "2021-08-20T10:00:38.491Z"
   },
   {
    "duration": 480,
    "start_time": "2021-08-20T10:00:38.908Z"
   },
   {
    "duration": 442,
    "start_time": "2021-08-20T10:00:39.391Z"
   },
   {
    "duration": 884,
    "start_time": "2021-08-20T10:00:39.836Z"
   },
   {
    "duration": 11,
    "start_time": "2021-08-20T10:01:56.196Z"
   },
   {
    "duration": 2618,
    "start_time": "2021-08-21T13:58:29.495Z"
   },
   {
    "duration": 185,
    "start_time": "2021-08-21T13:58:32.117Z"
   },
   {
    "duration": 22,
    "start_time": "2021-08-21T13:58:32.306Z"
   },
   {
    "duration": 95,
    "start_time": "2021-08-21T13:58:32.331Z"
   },
   {
    "duration": 101,
    "start_time": "2021-08-21T13:58:32.429Z"
   },
   {
    "duration": 136,
    "start_time": "2021-08-21T13:58:32.533Z"
   },
   {
    "duration": 5,
    "start_time": "2021-08-21T13:58:32.671Z"
   },
   {
    "duration": 7,
    "start_time": "2021-08-21T13:58:32.680Z"
   },
   {
    "duration": 76,
    "start_time": "2021-08-21T13:58:32.690Z"
   },
   {
    "duration": 44,
    "start_time": "2021-08-21T13:58:32.768Z"
   },
   {
    "duration": 1013,
    "start_time": "2021-08-21T13:58:32.815Z"
   },
   {
    "duration": 68,
    "start_time": "2021-08-21T13:58:33.831Z"
   },
   {
    "duration": 7,
    "start_time": "2021-08-21T13:58:33.902Z"
   },
   {
    "duration": 12,
    "start_time": "2021-08-21T13:58:33.911Z"
   },
   {
    "duration": 29,
    "start_time": "2021-08-21T13:58:33.957Z"
   },
   {
    "duration": 420,
    "start_time": "2021-08-21T13:58:33.988Z"
   },
   {
    "duration": 464,
    "start_time": "2021-08-21T13:58:34.410Z"
   },
   {
    "duration": 352,
    "start_time": "2021-08-21T13:58:34.877Z"
   },
   {
    "duration": 1147,
    "start_time": "2021-08-21T13:58:35.231Z"
   },
   {
    "duration": 9,
    "start_time": "2021-08-21T14:03:17.551Z"
   },
   {
    "duration": 160,
    "start_time": "2021-08-21T14:05:36.717Z"
   },
   {
    "duration": 39,
    "start_time": "2021-08-21T14:05:41.965Z"
   },
   {
    "duration": 645,
    "start_time": "2021-08-21T14:10:00.508Z"
   },
   {
    "duration": 497,
    "start_time": "2021-08-21T14:14:03.424Z"
   },
   {
    "duration": 344,
    "start_time": "2021-08-21T14:18:07.366Z"
   },
   {
    "duration": 366,
    "start_time": "2021-08-21T14:18:12.362Z"
   },
   {
    "duration": 19,
    "start_time": "2021-08-21T14:18:55.771Z"
   },
   {
    "duration": 642,
    "start_time": "2021-08-21T14:19:25.118Z"
   },
   {
    "duration": 1139,
    "start_time": "2021-08-21T14:20:09.086Z"
   },
   {
    "duration": 835,
    "start_time": "2021-08-21T14:20:45.108Z"
   },
   {
    "duration": 4,
    "start_time": "2021-08-21T14:21:02.059Z"
   },
   {
    "duration": 201,
    "start_time": "2021-08-21T14:21:03.280Z"
   },
   {
    "duration": 305,
    "start_time": "2021-08-21T14:26:20.184Z"
   },
   {
    "duration": 507,
    "start_time": "2021-08-21T14:27:32.757Z"
   },
   {
    "duration": 7285,
    "start_time": "2021-08-21T14:28:38.910Z"
   },
   {
    "duration": 309,
    "start_time": "2021-08-21T14:28:55.282Z"
   },
   {
    "duration": 304,
    "start_time": "2021-08-21T14:29:53.585Z"
   },
   {
    "duration": 1887,
    "start_time": "2021-08-21T14:30:57.736Z"
   },
   {
    "duration": 304,
    "start_time": "2021-08-21T14:31:10.864Z"
   },
   {
    "duration": 1907,
    "start_time": "2021-08-21T14:31:32.800Z"
   },
   {
    "duration": 187,
    "start_time": "2021-08-21T14:31:34.710Z"
   },
   {
    "duration": 21,
    "start_time": "2021-08-21T14:31:34.903Z"
   },
   {
    "duration": 95,
    "start_time": "2021-08-21T14:31:34.926Z"
   },
   {
    "duration": 102,
    "start_time": "2021-08-21T14:31:35.023Z"
   },
   {
    "duration": 134,
    "start_time": "2021-08-21T14:31:35.128Z"
   },
   {
    "duration": 5,
    "start_time": "2021-08-21T14:31:35.266Z"
   },
   {
    "duration": 11,
    "start_time": "2021-08-21T14:31:35.274Z"
   },
   {
    "duration": 70,
    "start_time": "2021-08-21T14:31:35.287Z"
   },
   {
    "duration": 42,
    "start_time": "2021-08-21T14:31:35.360Z"
   },
   {
    "duration": 924,
    "start_time": "2021-08-21T14:31:35.405Z"
   },
   {
    "duration": 87,
    "start_time": "2021-08-21T14:31:36.332Z"
   },
   {
    "duration": 8,
    "start_time": "2021-08-21T14:31:36.421Z"
   },
   {
    "duration": 28,
    "start_time": "2021-08-21T14:31:36.432Z"
   },
   {
    "duration": 44,
    "start_time": "2021-08-21T14:31:36.463Z"
   },
   {
    "duration": 401,
    "start_time": "2021-08-21T14:31:36.509Z"
   },
   {
    "duration": 429,
    "start_time": "2021-08-21T14:31:36.913Z"
   },
   {
    "duration": 270,
    "start_time": "2021-08-21T14:31:37.344Z"
   },
   {
    "duration": 839,
    "start_time": "2021-08-21T14:31:37.617Z"
   },
   {
    "duration": 41,
    "start_time": "2021-08-21T14:31:38.458Z"
   },
   {
    "duration": 401,
    "start_time": "2021-08-21T14:31:38.556Z"
   },
   {
    "duration": 401,
    "start_time": "2021-08-21T14:31:38.961Z"
   },
   {
    "duration": 14,
    "start_time": "2021-08-21T14:31:39.364Z"
   },
   {
    "duration": 16,
    "start_time": "2021-08-21T14:31:39.382Z"
   },
   {
    "duration": 227,
    "start_time": "2021-08-21T14:31:39.401Z"
   },
   {
    "duration": 948,
    "start_time": "2021-08-21T14:32:25.376Z"
   },
   {
    "duration": 308,
    "start_time": "2021-08-21T14:32:43.291Z"
   },
   {
    "duration": 306,
    "start_time": "2021-08-21T14:33:09.529Z"
   },
   {
    "duration": 317,
    "start_time": "2021-08-21T14:33:12.885Z"
   },
   {
    "duration": 298,
    "start_time": "2021-08-21T14:33:23.105Z"
   },
   {
    "duration": 305,
    "start_time": "2021-08-21T14:33:30.885Z"
   },
   {
    "duration": 844,
    "start_time": "2021-08-21T14:35:34.793Z"
   },
   {
    "duration": 320,
    "start_time": "2021-08-21T14:35:52.169Z"
   },
   {
    "duration": 11364,
    "start_time": "2021-08-21T14:37:47.984Z"
   },
   {
    "duration": 359,
    "start_time": "2021-08-21T14:38:05.574Z"
   },
   {
    "duration": 1877,
    "start_time": "2021-08-21T14:38:55.791Z"
   },
   {
    "duration": 173,
    "start_time": "2021-08-21T14:38:57.670Z"
   },
   {
    "duration": 23,
    "start_time": "2021-08-21T14:38:57.849Z"
   },
   {
    "duration": 101,
    "start_time": "2021-08-21T14:38:57.874Z"
   },
   {
    "duration": 94,
    "start_time": "2021-08-21T14:38:57.978Z"
   },
   {
    "duration": 135,
    "start_time": "2021-08-21T14:38:58.074Z"
   },
   {
    "duration": 4,
    "start_time": "2021-08-21T14:38:58.213Z"
   },
   {
    "duration": 12,
    "start_time": "2021-08-21T14:38:58.220Z"
   },
   {
    "duration": 60,
    "start_time": "2021-08-21T14:38:58.235Z"
   },
   {
    "duration": 65,
    "start_time": "2021-08-21T14:38:58.297Z"
   },
   {
    "duration": 901,
    "start_time": "2021-08-21T14:38:58.365Z"
   },
   {
    "duration": 88,
    "start_time": "2021-08-21T14:38:59.269Z"
   },
   {
    "duration": 9,
    "start_time": "2021-08-21T14:38:59.359Z"
   },
   {
    "duration": 10,
    "start_time": "2021-08-21T14:38:59.371Z"
   },
   {
    "duration": 36,
    "start_time": "2021-08-21T14:38:59.384Z"
   },
   {
    "duration": 417,
    "start_time": "2021-08-21T14:38:59.423Z"
   },
   {
    "duration": 442,
    "start_time": "2021-08-21T14:38:59.843Z"
   },
   {
    "duration": 282,
    "start_time": "2021-08-21T14:39:00.287Z"
   },
   {
    "duration": 836,
    "start_time": "2021-08-21T14:39:00.572Z"
   },
   {
    "duration": 68,
    "start_time": "2021-08-21T14:39:01.410Z"
   },
   {
    "duration": 509,
    "start_time": "2021-08-21T14:39:01.480Z"
   },
   {
    "duration": 407,
    "start_time": "2021-08-21T14:39:01.993Z"
   },
   {
    "duration": 14,
    "start_time": "2021-08-21T14:39:02.402Z"
   },
   {
    "duration": 20,
    "start_time": "2021-08-21T14:39:02.419Z"
   },
   {
    "duration": 214,
    "start_time": "2021-08-21T14:39:02.442Z"
   },
   {
    "duration": 7,
    "start_time": "2021-08-21T14:41:13.245Z"
   },
   {
    "duration": 19,
    "start_time": "2021-08-21T14:41:26.329Z"
   },
   {
    "duration": 7,
    "start_time": "2021-08-21T14:41:34.542Z"
   },
   {
    "duration": 325,
    "start_time": "2021-08-21T14:42:37.200Z"
   },
   {
    "duration": 218,
    "start_time": "2021-08-21T14:49:56.938Z"
   },
   {
    "duration": 7,
    "start_time": "2021-08-21T14:54:21.593Z"
   },
   {
    "duration": 312,
    "start_time": "2021-08-21T14:57:49.560Z"
   },
   {
    "duration": 130,
    "start_time": "2021-08-21T15:13:37.814Z"
   },
   {
    "duration": 122,
    "start_time": "2021-08-21T15:13:44.764Z"
   },
   {
    "duration": 187,
    "start_time": "2021-08-21T15:13:55.098Z"
   },
   {
    "duration": 8,
    "start_time": "2021-08-21T15:14:05.338Z"
   },
   {
    "duration": 967,
    "start_time": "2021-08-21T15:14:25.316Z"
   },
   {
    "duration": 8,
    "start_time": "2021-08-21T15:14:42.013Z"
   },
   {
    "duration": 18,
    "start_time": "2021-08-21T15:14:43.471Z"
   },
   {
    "duration": 323,
    "start_time": "2021-08-21T15:16:00.109Z"
   },
   {
    "duration": 6,
    "start_time": "2021-08-21T15:16:22.124Z"
   },
   {
    "duration": 10,
    "start_time": "2021-08-21T15:19:33.015Z"
   },
   {
    "duration": 9,
    "start_time": "2021-08-21T15:21:53.009Z"
   },
   {
    "duration": 10,
    "start_time": "2021-08-21T15:21:56.594Z"
   },
   {
    "duration": 907,
    "start_time": "2021-08-21T15:21:59.208Z"
   },
   {
    "duration": 10,
    "start_time": "2021-08-21T15:22:09.447Z"
   },
   {
    "duration": 372,
    "start_time": "2021-08-21T15:22:12.947Z"
   },
   {
    "duration": 10,
    "start_time": "2021-08-21T15:22:32.522Z"
   },
   {
    "duration": 191,
    "start_time": "2021-08-21T15:22:34.675Z"
   },
   {
    "duration": 208,
    "start_time": "2021-08-21T15:28:23.930Z"
   },
   {
    "duration": 131,
    "start_time": "2021-08-21T15:30:45.405Z"
   },
   {
    "duration": 188,
    "start_time": "2021-08-21T15:31:01.377Z"
   },
   {
    "duration": 10,
    "start_time": "2021-08-21T15:32:51.998Z"
   },
   {
    "duration": 29,
    "start_time": "2021-08-21T15:34:20.205Z"
   },
   {
    "duration": 9,
    "start_time": "2021-08-21T15:35:36.015Z"
   },
   {
    "duration": 9,
    "start_time": "2021-08-21T15:35:51.964Z"
   },
   {
    "duration": 11,
    "start_time": "2021-08-21T15:35:53.257Z"
   },
   {
    "duration": 10267,
    "start_time": "2021-08-21T15:36:35.018Z"
   },
   {
    "duration": 741,
    "start_time": "2021-08-21T15:37:01.685Z"
   },
   {
    "duration": 5,
    "start_time": "2021-08-21T15:38:20.691Z"
   },
   {
    "duration": 1942,
    "start_time": "2021-08-21T15:38:28.941Z"
   },
   {
    "duration": 184,
    "start_time": "2021-08-21T15:38:30.886Z"
   },
   {
    "duration": 21,
    "start_time": "2021-08-21T15:38:31.075Z"
   },
   {
    "duration": 97,
    "start_time": "2021-08-21T15:38:31.100Z"
   },
   {
    "duration": 99,
    "start_time": "2021-08-21T15:38:31.200Z"
   },
   {
    "duration": 141,
    "start_time": "2021-08-21T15:38:31.302Z"
   },
   {
    "duration": 12,
    "start_time": "2021-08-21T15:38:31.446Z"
   },
   {
    "duration": 13,
    "start_time": "2021-08-21T15:38:31.464Z"
   },
   {
    "duration": 50,
    "start_time": "2021-08-21T15:38:31.480Z"
   },
   {
    "duration": 45,
    "start_time": "2021-08-21T15:38:31.557Z"
   },
   {
    "duration": 917,
    "start_time": "2021-08-21T15:38:31.605Z"
   },
   {
    "duration": 88,
    "start_time": "2021-08-21T15:38:32.525Z"
   },
   {
    "duration": 10,
    "start_time": "2021-08-21T15:38:32.616Z"
   },
   {
    "duration": 11,
    "start_time": "2021-08-21T15:38:32.657Z"
   },
   {
    "duration": 30,
    "start_time": "2021-08-21T15:38:32.671Z"
   },
   {
    "duration": 418,
    "start_time": "2021-08-21T15:38:32.703Z"
   },
   {
    "duration": 435,
    "start_time": "2021-08-21T15:38:33.123Z"
   },
   {
    "duration": 270,
    "start_time": "2021-08-21T15:38:33.561Z"
   },
   {
    "duration": 839,
    "start_time": "2021-08-21T15:38:33.834Z"
   },
   {
    "duration": 90,
    "start_time": "2021-08-21T15:38:34.675Z"
   },
   {
    "duration": 433,
    "start_time": "2021-08-21T15:38:34.767Z"
   },
   {
    "duration": 9,
    "start_time": "2021-08-21T15:38:35.203Z"
   },
   {
    "duration": 216,
    "start_time": "2021-08-21T15:38:35.216Z"
   },
   {
    "duration": 216,
    "start_time": "2021-08-21T15:38:35.435Z"
   },
   {
    "duration": 217,
    "start_time": "2021-08-21T15:38:35.653Z"
   },
   {
    "duration": 5,
    "start_time": "2021-08-21T15:38:35.872Z"
   },
   {
    "duration": 934,
    "start_time": "2021-08-21T15:38:35.879Z"
   },
   {
    "duration": 2292,
    "start_time": "2021-08-21T15:40:22.382Z"
   },
   {
    "duration": 180,
    "start_time": "2021-08-21T15:40:24.677Z"
   },
   {
    "duration": 19,
    "start_time": "2021-08-21T15:40:24.860Z"
   },
   {
    "duration": 99,
    "start_time": "2021-08-21T15:40:24.881Z"
   },
   {
    "duration": 98,
    "start_time": "2021-08-21T15:40:24.983Z"
   },
   {
    "duration": 137,
    "start_time": "2021-08-21T15:40:25.083Z"
   },
   {
    "duration": 5,
    "start_time": "2021-08-21T15:40:25.222Z"
   },
   {
    "duration": 25,
    "start_time": "2021-08-21T15:40:25.231Z"
   },
   {
    "duration": 70,
    "start_time": "2021-08-21T15:40:25.258Z"
   },
   {
    "duration": 45,
    "start_time": "2021-08-21T15:40:25.331Z"
   },
   {
    "duration": 944,
    "start_time": "2021-08-21T15:40:25.380Z"
   },
   {
    "duration": 76,
    "start_time": "2021-08-21T15:40:26.326Z"
   },
   {
    "duration": 8,
    "start_time": "2021-08-21T15:40:26.405Z"
   },
   {
    "duration": 24,
    "start_time": "2021-08-21T15:40:26.415Z"
   },
   {
    "duration": 29,
    "start_time": "2021-08-21T15:40:26.456Z"
   },
   {
    "duration": 403,
    "start_time": "2021-08-21T15:40:26.488Z"
   },
   {
    "duration": 428,
    "start_time": "2021-08-21T15:40:26.894Z"
   },
   {
    "duration": 273,
    "start_time": "2021-08-21T15:40:27.324Z"
   },
   {
    "duration": 833,
    "start_time": "2021-08-21T15:40:27.599Z"
   },
   {
    "duration": 60,
    "start_time": "2021-08-21T15:40:28.434Z"
   },
   {
    "duration": 569,
    "start_time": "2021-08-21T15:40:28.497Z"
   },
   {
    "duration": 9,
    "start_time": "2021-08-21T15:40:29.069Z"
   },
   {
    "duration": 216,
    "start_time": "2021-08-21T15:40:29.084Z"
   },
   {
    "duration": 213,
    "start_time": "2021-08-21T15:40:29.303Z"
   },
   {
    "duration": 215,
    "start_time": "2021-08-21T15:40:29.518Z"
   },
   {
    "duration": 1373,
    "start_time": "2021-08-21T15:40:29.736Z"
   },
   {
    "duration": 16,
    "start_time": "2021-08-21T15:41:14.942Z"
   },
   {
    "duration": 9038,
    "start_time": "2021-08-21T15:41:49.131Z"
   },
   {
    "duration": 1919,
    "start_time": "2021-08-21T15:42:31.156Z"
   },
   {
    "duration": 200,
    "start_time": "2021-08-21T15:42:33.077Z"
   },
   {
    "duration": 31,
    "start_time": "2021-08-21T15:42:33.282Z"
   },
   {
    "duration": 95,
    "start_time": "2021-08-21T15:42:33.316Z"
   },
   {
    "duration": 103,
    "start_time": "2021-08-21T15:42:33.413Z"
   },
   {
    "duration": 137,
    "start_time": "2021-08-21T15:42:33.519Z"
   },
   {
    "duration": 4,
    "start_time": "2021-08-21T15:42:33.658Z"
   },
   {
    "duration": 10,
    "start_time": "2021-08-21T15:42:33.666Z"
   },
   {
    "duration": 45,
    "start_time": "2021-08-21T15:42:33.680Z"
   },
   {
    "duration": 71,
    "start_time": "2021-08-21T15:42:33.728Z"
   },
   {
    "duration": 1004,
    "start_time": "2021-08-21T15:42:33.802Z"
   },
   {
    "duration": 78,
    "start_time": "2021-08-21T15:42:34.809Z"
   },
   {
    "duration": 9,
    "start_time": "2021-08-21T15:42:34.889Z"
   },
   {
    "duration": 29,
    "start_time": "2021-08-21T15:42:34.900Z"
   },
   {
    "duration": 42,
    "start_time": "2021-08-21T15:42:34.931Z"
   },
   {
    "duration": 401,
    "start_time": "2021-08-21T15:42:34.975Z"
   },
   {
    "duration": 437,
    "start_time": "2021-08-21T15:42:35.378Z"
   },
   {
    "duration": 268,
    "start_time": "2021-08-21T15:42:35.819Z"
   },
   {
    "duration": 821,
    "start_time": "2021-08-21T15:42:36.089Z"
   },
   {
    "duration": 71,
    "start_time": "2021-08-21T15:42:36.912Z"
   },
   {
    "duration": 458,
    "start_time": "2021-08-21T15:42:36.985Z"
   },
   {
    "duration": 16,
    "start_time": "2021-08-21T15:42:37.445Z"
   },
   {
    "duration": 208,
    "start_time": "2021-08-21T15:42:37.465Z"
   },
   {
    "duration": 215,
    "start_time": "2021-08-21T15:42:37.675Z"
   },
   {
    "duration": 216,
    "start_time": "2021-08-21T15:42:37.893Z"
   },
   {
    "duration": 991,
    "start_time": "2021-08-21T15:42:38.112Z"
   },
   {
    "duration": 145,
    "start_time": "2021-08-21T15:43:24.938Z"
   },
   {
    "duration": 373,
    "start_time": "2021-08-21T15:43:33.543Z"
   },
   {
    "duration": 740,
    "start_time": "2021-08-21T15:45:08.193Z"
   },
   {
    "duration": 114,
    "start_time": "2021-08-21T15:46:21.776Z"
   },
   {
    "duration": 132,
    "start_time": "2021-08-21T15:46:38.566Z"
   },
   {
    "duration": 366,
    "start_time": "2021-08-21T15:46:47.448Z"
   },
   {
    "duration": 373,
    "start_time": "2021-08-21T15:47:32.829Z"
   },
   {
    "duration": 5,
    "start_time": "2021-08-21T15:47:38.959Z"
   },
   {
    "duration": 7,
    "start_time": "2021-08-21T15:47:53.467Z"
   },
   {
    "duration": 319,
    "start_time": "2021-08-21T15:48:45.688Z"
   },
   {
    "duration": 343,
    "start_time": "2021-08-21T15:48:50.444Z"
   },
   {
    "duration": 2009,
    "start_time": "2021-08-21T15:59:33.273Z"
   },
   {
    "duration": 182,
    "start_time": "2021-08-21T15:59:35.285Z"
   },
   {
    "duration": 19,
    "start_time": "2021-08-21T15:59:35.471Z"
   },
   {
    "duration": 92,
    "start_time": "2021-08-21T15:59:35.493Z"
   },
   {
    "duration": 101,
    "start_time": "2021-08-21T15:59:35.588Z"
   },
   {
    "duration": 138,
    "start_time": "2021-08-21T15:59:35.692Z"
   },
   {
    "duration": 5,
    "start_time": "2021-08-21T15:59:35.833Z"
   },
   {
    "duration": 23,
    "start_time": "2021-08-21T15:59:35.842Z"
   },
   {
    "duration": 58,
    "start_time": "2021-08-21T15:59:35.868Z"
   },
   {
    "duration": 78,
    "start_time": "2021-08-21T15:59:35.929Z"
   },
   {
    "duration": 1202,
    "start_time": "2021-08-21T15:59:36.010Z"
   },
   {
    "duration": 80,
    "start_time": "2021-08-21T15:59:37.214Z"
   },
   {
    "duration": 9,
    "start_time": "2021-08-21T15:59:37.296Z"
   },
   {
    "duration": 12,
    "start_time": "2021-08-21T15:59:37.307Z"
   },
   {
    "duration": 62,
    "start_time": "2021-08-21T15:59:37.321Z"
   },
   {
    "duration": 398,
    "start_time": "2021-08-21T15:59:37.386Z"
   },
   {
    "duration": 440,
    "start_time": "2021-08-21T15:59:37.786Z"
   },
   {
    "duration": 268,
    "start_time": "2021-08-21T15:59:38.228Z"
   },
   {
    "duration": 922,
    "start_time": "2021-08-21T15:59:38.499Z"
   },
   {
    "duration": 60,
    "start_time": "2021-08-21T15:59:39.424Z"
   },
   {
    "duration": 471,
    "start_time": "2021-08-21T15:59:39.486Z"
   },
   {
    "duration": 11,
    "start_time": "2021-08-21T15:59:39.960Z"
   },
   {
    "duration": 229,
    "start_time": "2021-08-21T15:59:39.975Z"
   },
   {
    "duration": 206,
    "start_time": "2021-08-21T15:59:40.207Z"
   },
   {
    "duration": 311,
    "start_time": "2021-08-21T15:59:40.415Z"
   },
   {
    "duration": 361,
    "start_time": "2021-08-21T15:59:40.729Z"
   },
   {
    "duration": 1924,
    "start_time": "2021-08-21T16:07:24.387Z"
   },
   {
    "duration": 173,
    "start_time": "2021-08-21T16:07:26.314Z"
   },
   {
    "duration": 18,
    "start_time": "2021-08-21T16:07:26.490Z"
   },
   {
    "duration": 90,
    "start_time": "2021-08-21T16:07:26.511Z"
   },
   {
    "duration": 97,
    "start_time": "2021-08-21T16:07:26.603Z"
   },
   {
    "duration": 134,
    "start_time": "2021-08-21T16:07:26.703Z"
   },
   {
    "duration": 5,
    "start_time": "2021-08-21T16:07:26.839Z"
   },
   {
    "duration": 12,
    "start_time": "2021-08-21T16:07:26.848Z"
   },
   {
    "duration": 46,
    "start_time": "2021-08-21T16:07:26.863Z"
   },
   {
    "duration": 71,
    "start_time": "2021-08-21T16:07:26.911Z"
   },
   {
    "duration": 999,
    "start_time": "2021-08-21T16:07:26.984Z"
   },
   {
    "duration": 78,
    "start_time": "2021-08-21T16:07:27.986Z"
   },
   {
    "duration": 9,
    "start_time": "2021-08-21T16:07:28.066Z"
   },
   {
    "duration": 13,
    "start_time": "2021-08-21T16:07:28.078Z"
   },
   {
    "duration": 63,
    "start_time": "2021-08-21T16:07:28.094Z"
   },
   {
    "duration": 396,
    "start_time": "2021-08-21T16:07:28.159Z"
   },
   {
    "duration": 424,
    "start_time": "2021-08-21T16:07:28.558Z"
   },
   {
    "duration": 272,
    "start_time": "2021-08-21T16:07:28.985Z"
   },
   {
    "duration": 847,
    "start_time": "2021-08-21T16:07:29.260Z"
   },
   {
    "duration": 67,
    "start_time": "2021-08-21T16:07:30.110Z"
   },
   {
    "duration": 502,
    "start_time": "2021-08-21T16:07:30.179Z"
   },
   {
    "duration": 9,
    "start_time": "2021-08-21T16:07:30.684Z"
   },
   {
    "duration": 229,
    "start_time": "2021-08-21T16:07:30.697Z"
   },
   {
    "duration": 218,
    "start_time": "2021-08-21T16:07:30.929Z"
   },
   {
    "duration": 212,
    "start_time": "2021-08-21T16:07:31.150Z"
   },
   {
    "duration": 351,
    "start_time": "2021-08-21T16:07:31.364Z"
   },
   {
    "duration": 1973,
    "start_time": "2021-08-22T08:15:38.141Z"
   },
   {
    "duration": 174,
    "start_time": "2021-08-22T08:15:40.118Z"
   },
   {
    "duration": 22,
    "start_time": "2021-08-22T08:15:40.296Z"
   },
   {
    "duration": 89,
    "start_time": "2021-08-22T08:15:40.321Z"
   },
   {
    "duration": 100,
    "start_time": "2021-08-22T08:15:40.413Z"
   },
   {
    "duration": 142,
    "start_time": "2021-08-22T08:15:40.516Z"
   },
   {
    "duration": 9,
    "start_time": "2021-08-22T08:15:40.661Z"
   },
   {
    "duration": 10,
    "start_time": "2021-08-22T08:15:40.672Z"
   },
   {
    "duration": 45,
    "start_time": "2021-08-22T08:15:40.686Z"
   },
   {
    "duration": 71,
    "start_time": "2021-08-22T08:15:40.735Z"
   },
   {
    "duration": 1037,
    "start_time": "2021-08-22T08:15:40.809Z"
   },
   {
    "duration": 79,
    "start_time": "2021-08-22T08:15:41.848Z"
   },
   {
    "duration": 7,
    "start_time": "2021-08-22T08:15:41.930Z"
   },
   {
    "duration": 32,
    "start_time": "2021-08-22T08:15:41.940Z"
   },
   {
    "duration": 35,
    "start_time": "2021-08-22T08:15:41.974Z"
   },
   {
    "duration": 414,
    "start_time": "2021-08-22T08:15:42.011Z"
   },
   {
    "duration": 444,
    "start_time": "2021-08-22T08:15:42.428Z"
   },
   {
    "duration": 285,
    "start_time": "2021-08-22T08:15:42.874Z"
   },
   {
    "duration": 837,
    "start_time": "2021-08-22T08:15:43.162Z"
   },
   {
    "duration": 98,
    "start_time": "2021-08-22T08:15:44.002Z"
   },
   {
    "duration": 519,
    "start_time": "2021-08-22T08:15:44.104Z"
   },
   {
    "duration": 10,
    "start_time": "2021-08-22T08:15:44.626Z"
   },
   {
    "duration": 213,
    "start_time": "2021-08-22T08:15:44.638Z"
   },
   {
    "duration": 217,
    "start_time": "2021-08-22T08:15:44.854Z"
   },
   {
    "duration": 216,
    "start_time": "2021-08-22T08:15:45.074Z"
   },
   {
    "duration": 347,
    "start_time": "2021-08-22T08:15:45.292Z"
   },
   {
    "duration": 2061,
    "start_time": "2021-08-22T08:43:42.365Z"
   },
   {
    "duration": 176,
    "start_time": "2021-08-22T08:43:44.429Z"
   },
   {
    "duration": 22,
    "start_time": "2021-08-22T08:43:44.609Z"
   },
   {
    "duration": 103,
    "start_time": "2021-08-22T08:43:44.634Z"
   },
   {
    "duration": 132,
    "start_time": "2021-08-22T08:43:44.740Z"
   },
   {
    "duration": 231,
    "start_time": "2021-08-22T08:43:44.875Z"
   },
   {
    "duration": 7,
    "start_time": "2021-08-22T08:43:45.109Z"
   },
   {
    "duration": 10,
    "start_time": "2021-08-22T08:43:45.121Z"
   },
   {
    "duration": 86,
    "start_time": "2021-08-22T08:43:45.135Z"
   },
   {
    "duration": 89,
    "start_time": "2021-08-22T08:43:45.224Z"
   },
   {
    "duration": 1468,
    "start_time": "2021-08-22T08:43:45.316Z"
   },
   {
    "duration": 104,
    "start_time": "2021-08-22T08:43:46.787Z"
   },
   {
    "duration": 10,
    "start_time": "2021-08-22T08:43:46.894Z"
   },
   {
    "duration": 12,
    "start_time": "2021-08-22T08:43:46.907Z"
   },
   {
    "duration": 64,
    "start_time": "2021-08-22T08:43:46.922Z"
   },
   {
    "duration": 414,
    "start_time": "2021-08-22T08:43:46.989Z"
   },
   {
    "duration": 437,
    "start_time": "2021-08-22T08:43:47.406Z"
   },
   {
    "duration": 284,
    "start_time": "2021-08-22T08:43:47.845Z"
   },
   {
    "duration": 850,
    "start_time": "2021-08-22T08:43:48.131Z"
   },
   {
    "duration": 94,
    "start_time": "2021-08-22T08:43:48.983Z"
   },
   {
    "duration": 426,
    "start_time": "2021-08-22T08:43:49.080Z"
   },
   {
    "duration": 10,
    "start_time": "2021-08-22T08:43:49.508Z"
   },
   {
    "duration": 219,
    "start_time": "2021-08-22T08:43:49.522Z"
   },
   {
    "duration": 219,
    "start_time": "2021-08-22T08:43:49.743Z"
   },
   {
    "duration": 213,
    "start_time": "2021-08-22T08:43:49.968Z"
   },
   {
    "duration": 347,
    "start_time": "2021-08-22T08:43:50.184Z"
   },
   {
    "duration": 2128,
    "start_time": "2021-08-23T15:09:17.002Z"
   },
   {
    "duration": 171,
    "start_time": "2021-08-23T15:09:19.133Z"
   },
   {
    "duration": 26,
    "start_time": "2021-08-23T15:09:19.307Z"
   },
   {
    "duration": 93,
    "start_time": "2021-08-23T15:09:19.336Z"
   },
   {
    "duration": 94,
    "start_time": "2021-08-23T15:09:19.431Z"
   },
   {
    "duration": 136,
    "start_time": "2021-08-23T15:09:19.528Z"
   },
   {
    "duration": 5,
    "start_time": "2021-08-23T15:09:19.666Z"
   },
   {
    "duration": 25,
    "start_time": "2021-08-23T15:09:19.676Z"
   },
   {
    "duration": 44,
    "start_time": "2021-08-23T15:09:19.704Z"
   },
   {
    "duration": 67,
    "start_time": "2021-08-23T15:09:19.750Z"
   },
   {
    "duration": 948,
    "start_time": "2021-08-23T15:09:19.820Z"
   },
   {
    "duration": 83,
    "start_time": "2021-08-23T15:09:20.770Z"
   },
   {
    "duration": 8,
    "start_time": "2021-08-23T15:09:20.855Z"
   },
   {
    "duration": 48,
    "start_time": "2021-08-23T15:09:20.866Z"
   },
   {
    "duration": 30,
    "start_time": "2021-08-23T15:09:20.917Z"
   },
   {
    "duration": 446,
    "start_time": "2021-08-23T15:09:20.950Z"
   },
   {
    "duration": 456,
    "start_time": "2021-08-23T15:09:21.401Z"
   },
   {
    "duration": 305,
    "start_time": "2021-08-23T15:09:21.860Z"
   },
   {
    "duration": 862,
    "start_time": "2021-08-23T15:09:22.168Z"
   },
   {
    "duration": 87,
    "start_time": "2021-08-23T15:09:23.033Z"
   },
   {
    "duration": 498,
    "start_time": "2021-08-23T15:09:23.123Z"
   },
   {
    "duration": 10,
    "start_time": "2021-08-23T15:09:23.624Z"
   },
   {
    "duration": 224,
    "start_time": "2021-08-23T15:09:23.638Z"
   },
   {
    "duration": 209,
    "start_time": "2021-08-23T15:09:23.864Z"
   },
   {
    "duration": 211,
    "start_time": "2021-08-23T15:09:24.075Z"
   },
   {
    "duration": 345,
    "start_time": "2021-08-23T15:09:24.289Z"
   },
   {
    "duration": 1942,
    "start_time": "2021-08-23T15:14:06.357Z"
   },
   {
    "duration": 542,
    "start_time": "2021-08-23T15:14:09.389Z"
   },
   {
    "duration": 690,
    "start_time": "2021-08-23T15:14:33.180Z"
   },
   {
    "duration": 419,
    "start_time": "2021-08-23T15:18:02.104Z"
   },
   {
    "duration": 428,
    "start_time": "2021-08-23T15:18:26.878Z"
   },
   {
    "duration": 422,
    "start_time": "2021-08-23T15:18:36.058Z"
   },
   {
    "duration": 273,
    "start_time": "2021-08-23T15:18:57.775Z"
   },
   {
    "duration": 272,
    "start_time": "2021-08-23T15:19:02.740Z"
   },
   {
    "duration": 22,
    "start_time": "2021-08-23T15:19:07.700Z"
   },
   {
    "duration": 31,
    "start_time": "2021-08-23T15:19:18.586Z"
   },
   {
    "duration": 1046,
    "start_time": "2021-08-23T15:20:09.457Z"
   },
   {
    "duration": 19,
    "start_time": "2021-08-23T15:24:42.322Z"
   },
   {
    "duration": 524,
    "start_time": "2021-08-23T15:24:52.722Z"
   },
   {
    "duration": 1867,
    "start_time": "2021-08-23T15:25:38.535Z"
   },
   {
    "duration": 4729,
    "start_time": "2021-08-23T15:25:51.943Z"
   },
   {
    "duration": 4323,
    "start_time": "2021-08-23T15:26:25.185Z"
   },
   {
    "duration": 576,
    "start_time": "2021-08-23T15:27:30.947Z"
   },
   {
    "duration": 23,
    "start_time": "2021-08-23T15:27:37.801Z"
   },
   {
    "duration": 2697,
    "start_time": "2021-08-23T15:29:45.658Z"
   },
   {
    "duration": 551,
    "start_time": "2021-08-23T15:29:50.017Z"
   },
   {
    "duration": 21,
    "start_time": "2021-08-23T15:29:53.251Z"
   },
   {
    "duration": 73,
    "start_time": "2021-08-23T15:29:56.352Z"
   },
   {
    "duration": 172,
    "start_time": "2021-08-23T15:32:31.979Z"
   },
   {
    "duration": 133,
    "start_time": "2021-08-23T15:40:51.950Z"
   },
   {
    "duration": 131,
    "start_time": "2021-08-23T15:41:07.361Z"
   },
   {
    "duration": 559,
    "start_time": "2021-08-23T15:43:49.234Z"
   },
   {
    "duration": 90,
    "start_time": "2021-08-23T15:44:00.040Z"
   },
   {
    "duration": 119,
    "start_time": "2021-08-23T15:44:01.464Z"
   },
   {
    "duration": 5,
    "start_time": "2021-08-23T15:44:08.257Z"
   },
   {
    "duration": 8,
    "start_time": "2021-08-23T15:44:09.729Z"
   },
   {
    "duration": 36,
    "start_time": "2021-08-23T15:44:11.289Z"
   },
   {
    "duration": 28,
    "start_time": "2021-08-23T15:44:30.964Z"
   },
   {
    "duration": 47,
    "start_time": "2021-08-23T15:46:06.958Z"
   },
   {
    "duration": 44,
    "start_time": "2021-08-23T15:46:53.519Z"
   },
   {
    "duration": 514,
    "start_time": "2021-08-23T15:48:24.208Z"
   },
   {
    "duration": 883,
    "start_time": "2021-08-23T15:56:51.960Z"
   },
   {
    "duration": 9,
    "start_time": "2021-08-23T16:00:25.426Z"
   },
   {
    "duration": 10,
    "start_time": "2021-08-23T16:00:37.685Z"
   },
   {
    "duration": 97,
    "start_time": "2021-08-23T16:01:00.857Z"
   },
   {
    "duration": 11,
    "start_time": "2021-08-23T16:01:03.283Z"
   },
   {
    "duration": 21,
    "start_time": "2021-08-23T16:02:37.200Z"
   },
   {
    "duration": 14,
    "start_time": "2021-08-23T16:03:13.626Z"
   },
   {
    "duration": 15,
    "start_time": "2021-08-23T16:04:15.084Z"
   },
   {
    "duration": 1963,
    "start_time": "2021-08-24T10:37:26.547Z"
   },
   {
    "duration": 601,
    "start_time": "2021-08-24T10:37:28.512Z"
   },
   {
    "duration": 22,
    "start_time": "2021-08-24T10:37:29.116Z"
   },
   {
    "duration": 171,
    "start_time": "2021-08-24T10:37:29.141Z"
   },
   {
    "duration": 101,
    "start_time": "2021-08-24T10:37:29.314Z"
   },
   {
    "duration": 134,
    "start_time": "2021-08-24T10:37:29.418Z"
   },
   {
    "duration": 12,
    "start_time": "2021-08-24T10:37:29.555Z"
   },
   {
    "duration": 13,
    "start_time": "2021-08-24T10:37:29.571Z"
   },
   {
    "duration": 54,
    "start_time": "2021-08-24T10:37:29.587Z"
   },
   {
    "duration": 45,
    "start_time": "2021-08-24T10:37:29.668Z"
   },
   {
    "duration": 961,
    "start_time": "2021-08-24T10:37:29.715Z"
   },
   {
    "duration": 117,
    "start_time": "2021-08-24T10:37:30.679Z"
   },
   {
    "duration": 20,
    "start_time": "2021-08-24T10:37:30.799Z"
   },
   {
    "duration": 15,
    "start_time": "2021-08-24T10:37:30.822Z"
   },
   {
    "duration": 73,
    "start_time": "2021-08-24T10:37:30.841Z"
   },
   {
    "duration": 615,
    "start_time": "2021-08-24T10:37:30.917Z"
   },
   {
    "duration": 635,
    "start_time": "2021-08-24T10:37:31.535Z"
   },
   {
    "duration": 463,
    "start_time": "2021-08-24T10:37:32.173Z"
   },
   {
    "duration": 871,
    "start_time": "2021-08-24T10:37:32.638Z"
   },
   {
    "duration": 72,
    "start_time": "2021-08-24T10:37:33.512Z"
   },
   {
    "duration": 518,
    "start_time": "2021-08-24T10:37:33.587Z"
   },
   {
    "duration": 9,
    "start_time": "2021-08-24T10:37:34.108Z"
   },
   {
    "duration": 216,
    "start_time": "2021-08-24T10:37:34.121Z"
   },
   {
    "duration": 213,
    "start_time": "2021-08-24T10:37:34.340Z"
   },
   {
    "duration": 218,
    "start_time": "2021-08-24T10:37:34.556Z"
   },
   {
    "duration": 390,
    "start_time": "2021-08-24T10:37:34.777Z"
   },
   {
    "duration": 1860,
    "start_time": "2021-11-11T12:36:46.075Z"
   },
   {
    "duration": 2003,
    "start_time": "2021-11-11T12:36:47.944Z"
   },
   {
    "duration": 19,
    "start_time": "2021-11-11T12:36:49.950Z"
   },
   {
    "duration": 180,
    "start_time": "2021-11-11T12:36:49.971Z"
   },
   {
    "duration": 103,
    "start_time": "2021-11-11T12:36:50.153Z"
   },
   {
    "duration": 126,
    "start_time": "2021-11-11T12:36:50.258Z"
   },
   {
    "duration": 5,
    "start_time": "2021-11-11T12:36:50.388Z"
   },
   {
    "duration": 13,
    "start_time": "2021-11-11T12:36:50.396Z"
   },
   {
    "duration": 77,
    "start_time": "2021-11-11T12:36:50.412Z"
   },
   {
    "duration": 63,
    "start_time": "2021-11-11T12:36:50.492Z"
   },
   {
    "duration": 904,
    "start_time": "2021-11-11T12:36:50.557Z"
   },
   {
    "duration": 78,
    "start_time": "2021-11-11T12:36:51.463Z"
   },
   {
    "duration": 13,
    "start_time": "2021-11-11T12:36:51.543Z"
   },
   {
    "duration": 18,
    "start_time": "2021-11-11T12:36:51.558Z"
   },
   {
    "duration": 52,
    "start_time": "2021-11-11T12:36:51.578Z"
   },
   {
    "duration": 486,
    "start_time": "2021-11-11T12:36:51.632Z"
   },
   {
    "duration": 414,
    "start_time": "2021-11-11T12:36:52.121Z"
   },
   {
    "duration": 275,
    "start_time": "2021-11-11T12:36:52.537Z"
   },
   {
    "duration": 851,
    "start_time": "2021-11-11T12:36:52.814Z"
   },
   {
    "duration": 76,
    "start_time": "2021-11-11T12:36:53.667Z"
   },
   {
    "duration": 433,
    "start_time": "2021-11-11T12:36:53.745Z"
   },
   {
    "duration": 11,
    "start_time": "2021-11-11T12:36:54.182Z"
   },
   {
    "duration": 24,
    "start_time": "2021-11-11T12:36:54.195Z"
   },
   {
    "duration": 209,
    "start_time": "2021-11-11T12:36:54.221Z"
   },
   {
    "duration": 202,
    "start_time": "2021-11-11T12:36:54.432Z"
   },
   {
    "duration": 206,
    "start_time": "2021-11-11T12:36:54.636Z"
   },
   {
    "duration": 343,
    "start_time": "2021-11-11T12:36:54.844Z"
   },
   {
    "duration": 2134,
    "start_time": "2022-02-09T18:25:57.917Z"
   },
   {
    "duration": 700,
    "start_time": "2022-02-09T18:26:00.054Z"
   },
   {
    "duration": 22,
    "start_time": "2022-02-09T18:26:00.770Z"
   },
   {
    "duration": 177,
    "start_time": "2022-02-09T18:26:00.795Z"
   },
   {
    "duration": 112,
    "start_time": "2022-02-09T18:26:00.974Z"
   },
   {
    "duration": 135,
    "start_time": "2022-02-09T18:26:01.088Z"
   },
   {
    "duration": 5,
    "start_time": "2022-02-09T18:26:01.227Z"
   },
   {
    "duration": 12,
    "start_time": "2022-02-09T18:26:01.235Z"
   },
   {
    "duration": 71,
    "start_time": "2022-02-09T18:26:01.249Z"
   },
   {
    "duration": 64,
    "start_time": "2022-02-09T18:26:01.323Z"
   },
   {
    "duration": 1168,
    "start_time": "2022-02-09T18:26:01.389Z"
   },
   {
    "duration": 69,
    "start_time": "2022-02-09T18:26:02.559Z"
   },
   {
    "duration": 40,
    "start_time": "2022-02-09T18:26:02.630Z"
   },
   {
    "duration": 12,
    "start_time": "2022-02-09T18:26:02.672Z"
   },
   {
    "duration": 31,
    "start_time": "2022-02-09T18:26:02.687Z"
   },
   {
    "duration": 433,
    "start_time": "2022-02-09T18:26:02.720Z"
   },
   {
    "duration": 443,
    "start_time": "2022-02-09T18:26:03.156Z"
   },
   {
    "duration": 314,
    "start_time": "2022-02-09T18:26:03.602Z"
   },
   {
    "duration": 861,
    "start_time": "2022-02-09T18:26:03.919Z"
   },
   {
    "duration": 96,
    "start_time": "2022-02-09T18:26:04.783Z"
   },
   {
    "duration": 437,
    "start_time": "2022-02-09T18:26:04.881Z"
   },
   {
    "duration": 11,
    "start_time": "2022-02-09T18:26:05.323Z"
   },
   {
    "duration": 11,
    "start_time": "2022-02-09T18:26:05.337Z"
   },
   {
    "duration": 235,
    "start_time": "2022-02-09T18:26:05.351Z"
   },
   {
    "duration": 224,
    "start_time": "2022-02-09T18:26:05.589Z"
   },
   {
    "duration": 259,
    "start_time": "2022-02-09T18:26:05.815Z"
   },
   {
    "duration": 362,
    "start_time": "2022-02-09T18:26:06.077Z"
   },
   {
    "duration": 2070,
    "start_time": "2022-02-09T18:32:13.068Z"
   },
   {
    "duration": 576,
    "start_time": "2022-02-09T18:32:15.141Z"
   },
   {
    "duration": 20,
    "start_time": "2022-02-09T18:32:15.720Z"
   },
   {
    "duration": 182,
    "start_time": "2022-02-09T18:32:15.744Z"
   },
   {
    "duration": 114,
    "start_time": "2022-02-09T18:32:15.930Z"
   },
   {
    "duration": 136,
    "start_time": "2022-02-09T18:32:16.047Z"
   },
   {
    "duration": 6,
    "start_time": "2022-02-09T18:32:16.186Z"
   },
   {
    "duration": 9,
    "start_time": "2022-02-09T18:32:16.198Z"
   },
   {
    "duration": 93,
    "start_time": "2022-02-09T18:32:16.211Z"
   },
   {
    "duration": 64,
    "start_time": "2022-02-09T18:32:16.307Z"
   },
   {
    "duration": 1079,
    "start_time": "2022-02-09T18:32:16.373Z"
   },
   {
    "duration": 74,
    "start_time": "2022-02-09T18:32:17.454Z"
   },
   {
    "duration": 40,
    "start_time": "2022-02-09T18:32:17.530Z"
   },
   {
    "duration": 13,
    "start_time": "2022-02-09T18:32:17.573Z"
   },
   {
    "duration": 30,
    "start_time": "2022-02-09T18:32:17.588Z"
   },
   {
    "duration": 451,
    "start_time": "2022-02-09T18:32:17.621Z"
   },
   {
    "duration": 468,
    "start_time": "2022-02-09T18:32:18.075Z"
   },
   {
    "duration": 292,
    "start_time": "2022-02-09T18:32:18.546Z"
   },
   {
    "duration": 857,
    "start_time": "2022-02-09T18:32:18.841Z"
   },
   {
    "duration": 83,
    "start_time": "2022-02-09T18:32:19.701Z"
   },
   {
    "duration": 521,
    "start_time": "2022-02-09T18:32:19.786Z"
   },
   {
    "duration": 12,
    "start_time": "2022-02-09T18:32:20.310Z"
   },
   {
    "duration": 10,
    "start_time": "2022-02-09T18:32:20.327Z"
   },
   {
    "duration": 349,
    "start_time": "2022-02-09T18:32:20.340Z"
   },
   {
    "duration": 212,
    "start_time": "2022-02-09T18:32:20.693Z"
   },
   {
    "duration": 251,
    "start_time": "2022-02-09T18:32:20.907Z"
   },
   {
    "duration": 363,
    "start_time": "2022-02-09T18:32:21.160Z"
   },
   {
    "duration": 189,
    "start_time": "2022-02-09T18:33:23.974Z"
   },
   {
    "duration": 196,
    "start_time": "2022-02-09T18:33:34.786Z"
   },
   {
    "duration": 197,
    "start_time": "2022-02-09T18:33:39.102Z"
   },
   {
    "duration": 366,
    "start_time": "2022-02-09T18:33:43.065Z"
   },
   {
    "duration": 198,
    "start_time": "2022-02-09T18:33:47.359Z"
   },
   {
    "duration": 27,
    "start_time": "2022-02-09T18:37:09.490Z"
   },
   {
    "duration": 96,
    "start_time": "2022-02-09T18:37:37.971Z"
   },
   {
    "duration": 497,
    "start_time": "2022-02-09T18:37:42.943Z"
   },
   {
    "duration": 26,
    "start_time": "2022-02-09T18:37:48.991Z"
   },
   {
    "duration": 27,
    "start_time": "2022-02-09T18:37:55.095Z"
   },
   {
    "duration": 2199,
    "start_time": "2022-02-09T18:38:03.255Z"
   },
   {
    "duration": 613,
    "start_time": "2022-02-09T18:38:05.457Z"
   },
   {
    "duration": 21,
    "start_time": "2022-02-09T18:38:06.073Z"
   },
   {
    "duration": 190,
    "start_time": "2022-02-09T18:38:06.097Z"
   },
   {
    "duration": 121,
    "start_time": "2022-02-09T18:38:06.289Z"
   },
   {
    "duration": 140,
    "start_time": "2022-02-09T18:38:06.412Z"
   },
   {
    "duration": 15,
    "start_time": "2022-02-09T18:38:06.555Z"
   },
   {
    "duration": 10,
    "start_time": "2022-02-09T18:38:06.574Z"
   },
   {
    "duration": 102,
    "start_time": "2022-02-09T18:38:06.589Z"
   },
   {
    "duration": 46,
    "start_time": "2022-02-09T18:38:06.694Z"
   },
   {
    "duration": 1120,
    "start_time": "2022-02-09T18:38:06.743Z"
   },
   {
    "duration": 102,
    "start_time": "2022-02-09T18:38:07.870Z"
   },
   {
    "duration": 15,
    "start_time": "2022-02-09T18:38:07.974Z"
   },
   {
    "duration": 10,
    "start_time": "2022-02-09T18:38:07.992Z"
   },
   {
    "duration": 65,
    "start_time": "2022-02-09T18:38:08.004Z"
   },
   {
    "duration": 410,
    "start_time": "2022-02-09T18:38:08.071Z"
   },
   {
    "duration": 444,
    "start_time": "2022-02-09T18:38:08.484Z"
   },
   {
    "duration": 419,
    "start_time": "2022-02-09T18:38:08.930Z"
   },
   {
    "duration": 923,
    "start_time": "2022-02-09T18:38:09.351Z"
   },
   {
    "duration": 30,
    "start_time": "2022-02-09T18:38:10.276Z"
   },
   {
    "duration": 98,
    "start_time": "2022-02-09T18:38:10.309Z"
   },
   {
    "duration": 486,
    "start_time": "2022-02-09T18:38:10.410Z"
   },
   {
    "duration": 11,
    "start_time": "2022-02-09T18:38:10.902Z"
   },
   {
    "duration": 13,
    "start_time": "2022-02-09T18:38:10.917Z"
   },
   {
    "duration": 251,
    "start_time": "2022-02-09T18:38:10.933Z"
   },
   {
    "duration": 217,
    "start_time": "2022-02-09T18:38:11.187Z"
   },
   {
    "duration": 219,
    "start_time": "2022-02-09T18:38:11.407Z"
   },
   {
    "duration": 375,
    "start_time": "2022-02-09T18:38:11.628Z"
   },
   {
    "duration": 543,
    "start_time": "2022-02-09T18:40:33.364Z"
   },
   {
    "duration": 986,
    "start_time": "2022-02-09T18:42:17.309Z"
   },
   {
    "duration": 127,
    "start_time": "2022-02-09T18:42:56.765Z"
   },
   {
    "duration": 108,
    "start_time": "2022-02-09T18:43:00.148Z"
   },
   {
    "duration": 87,
    "start_time": "2022-02-09T18:43:06.908Z"
   },
   {
    "duration": 96,
    "start_time": "2022-02-09T18:43:13.692Z"
   },
   {
    "duration": 84,
    "start_time": "2022-02-09T18:43:18.724Z"
   },
   {
    "duration": 104,
    "start_time": "2022-02-09T18:43:45.844Z"
   },
   {
    "duration": 106,
    "start_time": "2022-02-09T18:44:14.017Z"
   },
   {
    "duration": 284,
    "start_time": "2022-02-09T18:44:49.520Z"
   },
   {
    "duration": 211,
    "start_time": "2022-02-09T18:45:55.013Z"
   },
   {
    "duration": 2045,
    "start_time": "2022-02-09T18:46:17.560Z"
   },
   {
    "duration": 698,
    "start_time": "2022-02-09T18:46:19.608Z"
   },
   {
    "duration": 22,
    "start_time": "2022-02-09T18:46:20.309Z"
   },
   {
    "duration": 179,
    "start_time": "2022-02-09T18:46:20.335Z"
   },
   {
    "duration": 110,
    "start_time": "2022-02-09T18:46:20.517Z"
   },
   {
    "duration": 130,
    "start_time": "2022-02-09T18:46:20.630Z"
   },
   {
    "duration": 10,
    "start_time": "2022-02-09T18:46:20.762Z"
   },
   {
    "duration": 8,
    "start_time": "2022-02-09T18:46:20.776Z"
   },
   {
    "duration": 81,
    "start_time": "2022-02-09T18:46:20.788Z"
   },
   {
    "duration": 45,
    "start_time": "2022-02-09T18:46:20.872Z"
   },
   {
    "duration": 963,
    "start_time": "2022-02-09T18:46:20.919Z"
   },
   {
    "duration": 69,
    "start_time": "2022-02-09T18:46:21.885Z"
   },
   {
    "duration": 14,
    "start_time": "2022-02-09T18:46:21.970Z"
   },
   {
    "duration": 18,
    "start_time": "2022-02-09T18:46:21.987Z"
   },
   {
    "duration": 29,
    "start_time": "2022-02-09T18:46:22.007Z"
   },
   {
    "duration": 438,
    "start_time": "2022-02-09T18:46:22.039Z"
   },
   {
    "duration": 441,
    "start_time": "2022-02-09T18:46:22.479Z"
   },
   {
    "duration": 295,
    "start_time": "2022-02-09T18:46:22.922Z"
   },
   {
    "duration": 853,
    "start_time": "2022-02-09T18:46:23.220Z"
   },
   {
    "duration": 397,
    "start_time": "2022-02-09T18:46:24.076Z"
   },
   {
    "duration": 94,
    "start_time": "2022-02-09T18:46:24.475Z"
   },
   {
    "duration": 661,
    "start_time": "2022-02-09T18:46:24.572Z"
   },
   {
    "duration": 12,
    "start_time": "2022-02-09T18:46:25.239Z"
   },
   {
    "duration": 23,
    "start_time": "2022-02-09T18:46:25.253Z"
   },
   {
    "duration": 223,
    "start_time": "2022-02-09T18:46:25.278Z"
   },
   {
    "duration": 226,
    "start_time": "2022-02-09T18:46:25.503Z"
   },
   {
    "duration": 511,
    "start_time": "2022-02-09T18:46:25.732Z"
   },
   {
    "duration": 223,
    "start_time": "2022-02-09T18:46:26.246Z"
   },
   {
    "duration": 2095,
    "start_time": "2022-02-09T18:55:38.488Z"
   },
   {
    "duration": 699,
    "start_time": "2022-02-09T18:55:40.586Z"
   },
   {
    "duration": 31,
    "start_time": "2022-02-09T18:55:43.505Z"
   },
   {
    "duration": 149,
    "start_time": "2022-02-09T18:55:47.200Z"
   },
   {
    "duration": 93,
    "start_time": "2022-02-09T18:55:48.696Z"
   },
   {
    "duration": 130,
    "start_time": "2022-02-09T18:55:49.968Z"
   },
   {
    "duration": 6,
    "start_time": "2022-02-09T18:55:53.457Z"
   },
   {
    "duration": 9,
    "start_time": "2022-02-09T18:55:55.080Z"
   },
   {
    "duration": 58,
    "start_time": "2022-02-09T18:55:56.464Z"
   },
   {
    "duration": 50,
    "start_time": "2022-02-09T18:55:58.073Z"
   },
   {
    "duration": 958,
    "start_time": "2022-02-09T18:56:03.633Z"
   },
   {
    "duration": 70,
    "start_time": "2022-02-09T18:56:07.817Z"
   },
   {
    "duration": 15,
    "start_time": "2022-02-09T18:56:09.329Z"
   },
   {
    "duration": 10,
    "start_time": "2022-02-09T18:56:12.882Z"
   },
   {
    "duration": 31,
    "start_time": "2022-02-09T18:56:14.947Z"
   },
   {
    "duration": 513,
    "start_time": "2022-02-09T18:56:17.928Z"
   },
   {
    "duration": 434,
    "start_time": "2022-02-09T18:56:21.160Z"
   },
   {
    "duration": 263,
    "start_time": "2022-02-09T18:56:24.657Z"
   },
   {
    "duration": 40,
    "start_time": "2022-02-09T18:56:45.346Z"
   },
   {
    "duration": 346,
    "start_time": "2022-02-09T18:56:46.965Z"
   },
   {
    "duration": 9,
    "start_time": "2022-02-09T18:57:17.528Z"
   },
   {
    "duration": 15,
    "start_time": "2022-02-09T18:57:23.186Z"
   },
   {
    "duration": 16,
    "start_time": "2022-02-09T18:57:27.897Z"
   },
   {
    "duration": 13,
    "start_time": "2022-02-09T18:57:32.002Z"
   },
   {
    "duration": 16,
    "start_time": "2022-02-09T18:57:35.906Z"
   }
  ],
  "kernelspec": {
   "display_name": "Python 3",
   "language": "python",
   "name": "python3"
  },
  "language_info": {
   "codemirror_mode": {
    "name": "ipython",
    "version": 3
   },
   "file_extension": ".py",
   "mimetype": "text/x-python",
   "name": "python",
   "nbconvert_exporter": "python",
   "pygments_lexer": "ipython3",
   "version": "3.7.8"
  },
  "toc": {
   "base_numbering": 1,
   "nav_menu": {},
   "number_sections": true,
   "sideBar": true,
   "skip_h1_title": true,
   "title_cell": "Table of Contents",
   "title_sidebar": "Contents",
   "toc_cell": false,
   "toc_position": {
    "height": "calc(100% - 180px)",
    "left": "10px",
    "top": "150px",
    "width": "366.4px"
   },
   "toc_section_display": true,
   "toc_window_display": true
  }
 },
 "nbformat": 4,
 "nbformat_minor": 2
}
