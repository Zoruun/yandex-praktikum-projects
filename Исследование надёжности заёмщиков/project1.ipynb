{
 "cells": [
  {
   "cell_type": "markdown",
   "metadata": {},
   "source": [
    "# Исследование надёжности заёмщиков"
   ]
  },
  {
   "cell_type": "markdown",
   "metadata": {},
   "source": [
    "Кредитный отдел банка попросил разобраться, влияет ли на факт погашения кредит с срок семейное положение и количество детей. Входные данные от банка — статистика о платёжеспособности клиентов.\n",
    "\n",
    "Результаты исследования нужны при построении модели **кредитного скоринга** — специальной системы, которая оценивает способность потенциального заёмщика вернуть кредит банку."
   ]
  },
  {
   "cell_type": "markdown",
   "metadata": {},
   "source": [
    "## Шаг 1. Откройте файл с данными и изучите общую информацию"
   ]
  },
  {
   "cell_type": "code",
   "execution_count": 1,
   "metadata": {},
   "outputs": [],
   "source": [
    "# Импортируем необходимые библиотеки\n",
    "import pandas as pd\n",
    "from pymystem3 import Mystem\n",
    "m = Mystem()\n",
    "import warnings\n",
    "warnings.filterwarnings(\"ignore\")"
   ]
  },
  {
   "cell_type": "code",
   "execution_count": 2,
   "metadata": {},
   "outputs": [
    {
     "data": {
      "text/html": [
       "<div>\n",
       "<style scoped>\n",
       "    .dataframe tbody tr th:only-of-type {\n",
       "        vertical-align: middle;\n",
       "    }\n",
       "\n",
       "    .dataframe tbody tr th {\n",
       "        vertical-align: top;\n",
       "    }\n",
       "\n",
       "    .dataframe thead th {\n",
       "        text-align: right;\n",
       "    }\n",
       "</style>\n",
       "<table border=\"1\" class=\"dataframe\">\n",
       "  <thead>\n",
       "    <tr style=\"text-align: right;\">\n",
       "      <th></th>\n",
       "      <th>children</th>\n",
       "      <th>days_employed</th>\n",
       "      <th>dob_years</th>\n",
       "      <th>education</th>\n",
       "      <th>education_id</th>\n",
       "      <th>family_status</th>\n",
       "      <th>family_status_id</th>\n",
       "      <th>gender</th>\n",
       "      <th>income_type</th>\n",
       "      <th>debt</th>\n",
       "      <th>total_income</th>\n",
       "      <th>purpose</th>\n",
       "    </tr>\n",
       "  </thead>\n",
       "  <tbody>\n",
       "    <tr>\n",
       "      <td>0</td>\n",
       "      <td>1</td>\n",
       "      <td>-8437.673028</td>\n",
       "      <td>42</td>\n",
       "      <td>высшее</td>\n",
       "      <td>0</td>\n",
       "      <td>женат / замужем</td>\n",
       "      <td>0</td>\n",
       "      <td>F</td>\n",
       "      <td>сотрудник</td>\n",
       "      <td>0</td>\n",
       "      <td>253875.639453</td>\n",
       "      <td>покупка жилья</td>\n",
       "    </tr>\n",
       "    <tr>\n",
       "      <td>1</td>\n",
       "      <td>1</td>\n",
       "      <td>-4024.803754</td>\n",
       "      <td>36</td>\n",
       "      <td>среднее</td>\n",
       "      <td>1</td>\n",
       "      <td>женат / замужем</td>\n",
       "      <td>0</td>\n",
       "      <td>F</td>\n",
       "      <td>сотрудник</td>\n",
       "      <td>0</td>\n",
       "      <td>112080.014102</td>\n",
       "      <td>приобретение автомобиля</td>\n",
       "    </tr>\n",
       "    <tr>\n",
       "      <td>2</td>\n",
       "      <td>0</td>\n",
       "      <td>-5623.422610</td>\n",
       "      <td>33</td>\n",
       "      <td>Среднее</td>\n",
       "      <td>1</td>\n",
       "      <td>женат / замужем</td>\n",
       "      <td>0</td>\n",
       "      <td>M</td>\n",
       "      <td>сотрудник</td>\n",
       "      <td>0</td>\n",
       "      <td>145885.952297</td>\n",
       "      <td>покупка жилья</td>\n",
       "    </tr>\n",
       "    <tr>\n",
       "      <td>3</td>\n",
       "      <td>3</td>\n",
       "      <td>-4124.747207</td>\n",
       "      <td>32</td>\n",
       "      <td>среднее</td>\n",
       "      <td>1</td>\n",
       "      <td>женат / замужем</td>\n",
       "      <td>0</td>\n",
       "      <td>M</td>\n",
       "      <td>сотрудник</td>\n",
       "      <td>0</td>\n",
       "      <td>267628.550329</td>\n",
       "      <td>дополнительное образование</td>\n",
       "    </tr>\n",
       "    <tr>\n",
       "      <td>4</td>\n",
       "      <td>0</td>\n",
       "      <td>340266.072047</td>\n",
       "      <td>53</td>\n",
       "      <td>среднее</td>\n",
       "      <td>1</td>\n",
       "      <td>гражданский брак</td>\n",
       "      <td>1</td>\n",
       "      <td>F</td>\n",
       "      <td>пенсионер</td>\n",
       "      <td>0</td>\n",
       "      <td>158616.077870</td>\n",
       "      <td>сыграть свадьбу</td>\n",
       "    </tr>\n",
       "    <tr>\n",
       "      <td>5</td>\n",
       "      <td>0</td>\n",
       "      <td>-926.185831</td>\n",
       "      <td>27</td>\n",
       "      <td>высшее</td>\n",
       "      <td>0</td>\n",
       "      <td>гражданский брак</td>\n",
       "      <td>1</td>\n",
       "      <td>M</td>\n",
       "      <td>компаньон</td>\n",
       "      <td>0</td>\n",
       "      <td>255763.565419</td>\n",
       "      <td>покупка жилья</td>\n",
       "    </tr>\n",
       "    <tr>\n",
       "      <td>6</td>\n",
       "      <td>0</td>\n",
       "      <td>-2879.202052</td>\n",
       "      <td>43</td>\n",
       "      <td>высшее</td>\n",
       "      <td>0</td>\n",
       "      <td>женат / замужем</td>\n",
       "      <td>0</td>\n",
       "      <td>F</td>\n",
       "      <td>компаньон</td>\n",
       "      <td>0</td>\n",
       "      <td>240525.971920</td>\n",
       "      <td>операции с жильем</td>\n",
       "    </tr>\n",
       "    <tr>\n",
       "      <td>7</td>\n",
       "      <td>0</td>\n",
       "      <td>-152.779569</td>\n",
       "      <td>50</td>\n",
       "      <td>СРЕДНЕЕ</td>\n",
       "      <td>1</td>\n",
       "      <td>женат / замужем</td>\n",
       "      <td>0</td>\n",
       "      <td>M</td>\n",
       "      <td>сотрудник</td>\n",
       "      <td>0</td>\n",
       "      <td>135823.934197</td>\n",
       "      <td>образование</td>\n",
       "    </tr>\n",
       "    <tr>\n",
       "      <td>8</td>\n",
       "      <td>2</td>\n",
       "      <td>-6929.865299</td>\n",
       "      <td>35</td>\n",
       "      <td>ВЫСШЕЕ</td>\n",
       "      <td>0</td>\n",
       "      <td>гражданский брак</td>\n",
       "      <td>1</td>\n",
       "      <td>F</td>\n",
       "      <td>сотрудник</td>\n",
       "      <td>0</td>\n",
       "      <td>95856.832424</td>\n",
       "      <td>на проведение свадьбы</td>\n",
       "    </tr>\n",
       "    <tr>\n",
       "      <td>9</td>\n",
       "      <td>0</td>\n",
       "      <td>-2188.756445</td>\n",
       "      <td>41</td>\n",
       "      <td>среднее</td>\n",
       "      <td>1</td>\n",
       "      <td>женат / замужем</td>\n",
       "      <td>0</td>\n",
       "      <td>M</td>\n",
       "      <td>сотрудник</td>\n",
       "      <td>0</td>\n",
       "      <td>144425.938277</td>\n",
       "      <td>покупка жилья для семьи</td>\n",
       "    </tr>\n",
       "  </tbody>\n",
       "</table>\n",
       "</div>"
      ],
      "text/plain": [
       "   children  days_employed  dob_years education  education_id  \\\n",
       "0         1   -8437.673028         42    высшее             0   \n",
       "1         1   -4024.803754         36   среднее             1   \n",
       "2         0   -5623.422610         33   Среднее             1   \n",
       "3         3   -4124.747207         32   среднее             1   \n",
       "4         0  340266.072047         53   среднее             1   \n",
       "5         0    -926.185831         27    высшее             0   \n",
       "6         0   -2879.202052         43    высшее             0   \n",
       "7         0    -152.779569         50   СРЕДНЕЕ             1   \n",
       "8         2   -6929.865299         35    ВЫСШЕЕ             0   \n",
       "9         0   -2188.756445         41   среднее             1   \n",
       "\n",
       "      family_status  family_status_id gender income_type  debt   total_income  \\\n",
       "0   женат / замужем                 0      F   сотрудник     0  253875.639453   \n",
       "1   женат / замужем                 0      F   сотрудник     0  112080.014102   \n",
       "2   женат / замужем                 0      M   сотрудник     0  145885.952297   \n",
       "3   женат / замужем                 0      M   сотрудник     0  267628.550329   \n",
       "4  гражданский брак                 1      F   пенсионер     0  158616.077870   \n",
       "5  гражданский брак                 1      M   компаньон     0  255763.565419   \n",
       "6   женат / замужем                 0      F   компаньон     0  240525.971920   \n",
       "7   женат / замужем                 0      M   сотрудник     0  135823.934197   \n",
       "8  гражданский брак                 1      F   сотрудник     0   95856.832424   \n",
       "9   женат / замужем                 0      M   сотрудник     0  144425.938277   \n",
       "\n",
       "                      purpose  \n",
       "0               покупка жилья  \n",
       "1     приобретение автомобиля  \n",
       "2               покупка жилья  \n",
       "3  дополнительное образование  \n",
       "4             сыграть свадьбу  \n",
       "5               покупка жилья  \n",
       "6           операции с жильем  \n",
       "7                 образование  \n",
       "8       на проведение свадьбы  \n",
       "9     покупка жилья для семьи  "
      ]
     },
     "execution_count": 2,
     "metadata": {},
     "output_type": "execute_result"
    }
   ],
   "source": [
    "df = pd.read_csv('/datasets/data.csv')\n",
    "df.head(10)"
   ]
  },
  {
   "cell_type": "code",
   "execution_count": 3,
   "metadata": {},
   "outputs": [
    {
     "name": "stdout",
     "output_type": "stream",
     "text": [
      "<class 'pandas.core.frame.DataFrame'>\n",
      "RangeIndex: 21525 entries, 0 to 21524\n",
      "Data columns (total 12 columns):\n",
      "children            21525 non-null int64\n",
      "days_employed       19351 non-null float64\n",
      "dob_years           21525 non-null int64\n",
      "education           21525 non-null object\n",
      "education_id        21525 non-null int64\n",
      "family_status       21525 non-null object\n",
      "family_status_id    21525 non-null int64\n",
      "gender              21525 non-null object\n",
      "income_type         21525 non-null object\n",
      "debt                21525 non-null int64\n",
      "total_income        19351 non-null float64\n",
      "purpose             21525 non-null object\n",
      "dtypes: float64(2), int64(5), object(5)\n",
      "memory usage: 2.0+ MB\n"
     ]
    }
   ],
   "source": [
    "# посмотрим общую информацию\n",
    "df.info()"
   ]
  },
  {
   "cell_type": "code",
   "execution_count": 4,
   "metadata": {},
   "outputs": [
    {
     "data": {
      "text/html": [
       "<div>\n",
       "<style scoped>\n",
       "    .dataframe tbody tr th:only-of-type {\n",
       "        vertical-align: middle;\n",
       "    }\n",
       "\n",
       "    .dataframe tbody tr th {\n",
       "        vertical-align: top;\n",
       "    }\n",
       "\n",
       "    .dataframe thead th {\n",
       "        text-align: right;\n",
       "    }\n",
       "</style>\n",
       "<table border=\"1\" class=\"dataframe\">\n",
       "  <thead>\n",
       "    <tr style=\"text-align: right;\">\n",
       "      <th></th>\n",
       "      <th>children</th>\n",
       "      <th>days_employed</th>\n",
       "      <th>dob_years</th>\n",
       "      <th>education_id</th>\n",
       "      <th>family_status_id</th>\n",
       "      <th>debt</th>\n",
       "      <th>total_income</th>\n",
       "    </tr>\n",
       "  </thead>\n",
       "  <tbody>\n",
       "    <tr>\n",
       "      <td>count</td>\n",
       "      <td>21525.000000</td>\n",
       "      <td>19351.000000</td>\n",
       "      <td>21525.000000</td>\n",
       "      <td>21525.000000</td>\n",
       "      <td>21525.000000</td>\n",
       "      <td>21525.000000</td>\n",
       "      <td>1.935100e+04</td>\n",
       "    </tr>\n",
       "    <tr>\n",
       "      <td>mean</td>\n",
       "      <td>0.538908</td>\n",
       "      <td>63046.497661</td>\n",
       "      <td>43.293380</td>\n",
       "      <td>0.817236</td>\n",
       "      <td>0.972544</td>\n",
       "      <td>0.080883</td>\n",
       "      <td>1.674223e+05</td>\n",
       "    </tr>\n",
       "    <tr>\n",
       "      <td>std</td>\n",
       "      <td>1.381587</td>\n",
       "      <td>140827.311974</td>\n",
       "      <td>12.574584</td>\n",
       "      <td>0.548138</td>\n",
       "      <td>1.420324</td>\n",
       "      <td>0.272661</td>\n",
       "      <td>1.029716e+05</td>\n",
       "    </tr>\n",
       "    <tr>\n",
       "      <td>min</td>\n",
       "      <td>-1.000000</td>\n",
       "      <td>-18388.949901</td>\n",
       "      <td>0.000000</td>\n",
       "      <td>0.000000</td>\n",
       "      <td>0.000000</td>\n",
       "      <td>0.000000</td>\n",
       "      <td>2.066726e+04</td>\n",
       "    </tr>\n",
       "    <tr>\n",
       "      <td>25%</td>\n",
       "      <td>0.000000</td>\n",
       "      <td>-2747.423625</td>\n",
       "      <td>33.000000</td>\n",
       "      <td>1.000000</td>\n",
       "      <td>0.000000</td>\n",
       "      <td>0.000000</td>\n",
       "      <td>1.030532e+05</td>\n",
       "    </tr>\n",
       "    <tr>\n",
       "      <td>50%</td>\n",
       "      <td>0.000000</td>\n",
       "      <td>-1203.369529</td>\n",
       "      <td>42.000000</td>\n",
       "      <td>1.000000</td>\n",
       "      <td>0.000000</td>\n",
       "      <td>0.000000</td>\n",
       "      <td>1.450179e+05</td>\n",
       "    </tr>\n",
       "    <tr>\n",
       "      <td>75%</td>\n",
       "      <td>1.000000</td>\n",
       "      <td>-291.095954</td>\n",
       "      <td>53.000000</td>\n",
       "      <td>1.000000</td>\n",
       "      <td>1.000000</td>\n",
       "      <td>0.000000</td>\n",
       "      <td>2.034351e+05</td>\n",
       "    </tr>\n",
       "    <tr>\n",
       "      <td>max</td>\n",
       "      <td>20.000000</td>\n",
       "      <td>401755.400475</td>\n",
       "      <td>75.000000</td>\n",
       "      <td>4.000000</td>\n",
       "      <td>4.000000</td>\n",
       "      <td>1.000000</td>\n",
       "      <td>2.265604e+06</td>\n",
       "    </tr>\n",
       "  </tbody>\n",
       "</table>\n",
       "</div>"
      ],
      "text/plain": [
       "           children  days_employed     dob_years  education_id  \\\n",
       "count  21525.000000   19351.000000  21525.000000  21525.000000   \n",
       "mean       0.538908   63046.497661     43.293380      0.817236   \n",
       "std        1.381587  140827.311974     12.574584      0.548138   \n",
       "min       -1.000000  -18388.949901      0.000000      0.000000   \n",
       "25%        0.000000   -2747.423625     33.000000      1.000000   \n",
       "50%        0.000000   -1203.369529     42.000000      1.000000   \n",
       "75%        1.000000    -291.095954     53.000000      1.000000   \n",
       "max       20.000000  401755.400475     75.000000      4.000000   \n",
       "\n",
       "       family_status_id          debt  total_income  \n",
       "count      21525.000000  21525.000000  1.935100e+04  \n",
       "mean           0.972544      0.080883  1.674223e+05  \n",
       "std            1.420324      0.272661  1.029716e+05  \n",
       "min            0.000000      0.000000  2.066726e+04  \n",
       "25%            0.000000      0.000000  1.030532e+05  \n",
       "50%            0.000000      0.000000  1.450179e+05  \n",
       "75%            1.000000      0.000000  2.034351e+05  \n",
       "max            4.000000      1.000000  2.265604e+06  "
      ]
     },
     "execution_count": 4,
     "metadata": {},
     "output_type": "execute_result"
    }
   ],
   "source": [
    "# посмотрим основные статистические характеристики данных по каждому числовому признаку \n",
    "df.describe()"
   ]
  },
  {
   "cell_type": "markdown",
   "metadata": {},
   "source": [
    "**Вывод**"
   ]
  },
  {
   "cell_type": "markdown",
   "metadata": {},
   "source": [
    "Рассмотрим полученную информацию подробнее.\n",
    "Всего в таблице 12 столбцов:\n",
    "\n",
    " - children — количество детей в семье\n",
    " - days_employed — общий трудовой стаж в днях\n",
    " - dob_years — возраст клиента в годах\n",
    " - education — уровень образования клиента\n",
    " - education_id — идентификатор уровня образования\n",
    " - family_status — семейное положение\n",
    " - family_status_id — идентификатор семейного положения\n",
    " - gender — пол клиента\n",
    " - income_type — тип занятости\n",
    " - debt — имел ли задолженность по возврату кредитов\n",
    " - total_income — ежемесячный доход\n",
    " - purpose — цель получения кредита\n",
    "\n",
    "\n",
    "В столбцах days_employed и total_income (общий трудовой стаж в днях и ежемесячный доход) есть пропущенные значения."
   ]
  },
  {
   "cell_type": "markdown",
   "metadata": {},
   "source": [
    "## Шаг 2. Предобработка данных"
   ]
  },
  {
   "cell_type": "markdown",
   "metadata": {},
   "source": [
    "### Лемматизация"
   ]
  },
  {
   "cell_type": "code",
   "execution_count": 5,
   "metadata": {},
   "outputs": [],
   "source": [
    "# Приведём значения из столбцов 'education' и 'family_status' к нижнему регистру\n",
    "df['education'] = df['education'].str.lower()\n",
    "df['family_status'] = df['family_status'].str.lower()"
   ]
  },
  {
   "cell_type": "code",
   "execution_count": 6,
   "metadata": {},
   "outputs": [
    {
     "data": {
      "text/plain": [
       "F      14236\n",
       "M       7288\n",
       "XNA        1\n",
       "Name: gender, dtype: int64"
      ]
     },
     "execution_count": 6,
     "metadata": {},
     "output_type": "execute_result"
    }
   ],
   "source": [
    "# Посмотрим уникальные значение в столбце 'gender'\n",
    "df['gender'].value_counts()"
   ]
  },
  {
   "cell_type": "markdown",
   "metadata": {},
   "source": [
    "Один XNA можно будет удалить, он не повлияется на результаты."
   ]
  },
  {
   "cell_type": "code",
   "execution_count": 7,
   "metadata": {},
   "outputs": [],
   "source": [
    "# Создаем новую таблицу, куда мы добавляем все строки, кроме строки, что в столбце gender есть значение XNA\n",
    "df = df.loc[df['gender'] != 'XNA']"
   ]
  },
  {
   "cell_type": "code",
   "execution_count": 8,
   "metadata": {},
   "outputs": [
    {
     "data": {
      "text/plain": [
       "array(['покупка жилья', 'приобретение автомобиля',\n",
       "       'дополнительное образование', 'сыграть свадьбу',\n",
       "       'операции с жильем', 'образование', 'на проведение свадьбы',\n",
       "       'покупка жилья для семьи', 'покупка недвижимости',\n",
       "       'покупка коммерческой недвижимости', 'покупка жилой недвижимости',\n",
       "       'строительство собственной недвижимости', 'недвижимость',\n",
       "       'строительство недвижимости', 'на покупку подержанного автомобиля',\n",
       "       'на покупку своего автомобиля',\n",
       "       'операции с коммерческой недвижимостью',\n",
       "       'строительство жилой недвижимости', 'жилье',\n",
       "       'операции со своей недвижимостью', 'автомобили',\n",
       "       'заняться образованием', 'сделка с подержанным автомобилем',\n",
       "       'получение образования', 'автомобиль', 'свадьба',\n",
       "       'получение дополнительного образования', 'покупка своего жилья',\n",
       "       'операции с недвижимостью', 'получение высшего образования',\n",
       "       'свой автомобиль', 'сделка с автомобилем',\n",
       "       'профильное образование', 'высшее образование',\n",
       "       'покупка жилья для сдачи', 'на покупку автомобиля', 'ремонт жилью',\n",
       "       'заняться высшим образованием'], dtype=object)"
      ]
     },
     "execution_count": 8,
     "metadata": {},
     "output_type": "execute_result"
    }
   ],
   "source": [
    "# Посмотрим уникальные значение в столбце 'purpose'\n",
    "df['purpose'].unique()"
   ]
  },
  {
   "cell_type": "markdown",
   "metadata": {},
   "source": [
    "Данных значений очень много, объединим данные в несколько подгрупп"
   ]
  },
  {
   "cell_type": "code",
   "execution_count": 9,
   "metadata": {},
   "outputs": [],
   "source": [
    "# Создадим функцию, которая будет брать каждую строку и если в ней есть определенное слово\n",
    "# то есть всё значение будет заменять на обредённый текст\n",
    "def category_purpose(row):\n",
    "    lem_purpose = m.lemmatize(row)\n",
    "    if 'недвижимость' in lem_purpose:\n",
    "        return 'Операции с недвижимостью'\n",
    "    if 'образование' in lem_purpose:\n",
    "        return 'Для образования'\n",
    "    if 'свадьба' in lem_purpose:\n",
    "        return 'Для проведения свадьбы'\n",
    "    if 'автомобиль' in lem_purpose:\n",
    "        return 'Покупка автомобиля'\n",
    "    if 'жилье' in lem_purpose:\n",
    "        return 'Ипотека'\n",
    "\n",
    "# Заменим имеющиюся цели кредита на изменённые нами\n",
    "df['purpose']=df['purpose'].apply(category_purpose)"
   ]
  },
  {
   "cell_type": "code",
   "execution_count": 10,
   "metadata": {},
   "outputs": [
    {
     "data": {
      "text/plain": [
       "Операции с недвижимостью    6366\n",
       "Ипотека                     4473\n",
       "Покупка автомобиля          4315\n",
       "Для образования             4022\n",
       "Для проведения свадьбы      2348\n",
       "Name: purpose, dtype: int64"
      ]
     },
     "execution_count": 10,
     "metadata": {},
     "output_type": "execute_result"
    }
   ],
   "source": [
    "# проверим нашу замену\n",
    "df['purpose'].value_counts()"
   ]
  },
  {
   "cell_type": "markdown",
   "metadata": {},
   "source": [
    "**Вывод**"
   ]
  },
  {
   "cell_type": "markdown",
   "metadata": {},
   "source": [
    "Такое большое разноообразия в одинаковых по смыслу ячейках произошел из-за возможности заполнять данные графы клиентам самостоятельно. Ведь одну и ту же цель можно описать множеством способов. Потому я привела их к единым целям:\n",
    " - \"Для проведения свадьбы\"\n",
    " - \"Операции с недвижимостью\"\n",
    " - \"Покупка автомобиля\"\n",
    " - \"Для образования\"\n",
    " - \"Ипотека\"\n",
    "\n",
    "Ипотеку и операции с недвижимостью решила разбить на две разные группы, так как была формулировка \"покупка коммерческой недвижимости\", вовсе не обязательно, что где присутствовало слово \"недвижимость\", что это именно для собственного жилья, поэтому решила вывести в отдельную цель кредита.\n",
    "\n",
    "Аналогично для образования. Всё приведено к нижнему регистру, чтобы не было дубликатов.\n",
    "\n",
    "В данном массиве есть следующие словари:\n",
    "\n",
    "В графах education и education_id:\n",
    "Высшее образование - 0\n",
    "Среднее образование - 1\n",
    "Неоконченное высшее - 2\n",
    "Начальное образование - 3\n",
    "Учёная степень - 4\n",
    "\n",
    "\n",
    "В графах family_status \tfamily_status_id:\n",
    "Женат / замужем - 0\n",
    "Гражданский брак - 1\n",
    "Вдовец / вдова - 2\n",
    "В разводе - 3\n",
    "Не женат / не замужем - 4\n",
    "\n",
    "\n",
    "в графе gender это:\n",
    "F - женский пол\n",
    "M - мужской пол\n",
    "\n",
    "В графе debt это:\n",
    "0 - не имел задолженности\n",
    "1 - имел задолженность перед банком"
   ]
  },
  {
   "cell_type": "markdown",
   "metadata": {},
   "source": [
    "###  Обработка дубликатов"
   ]
  },
  {
   "cell_type": "code",
   "execution_count": 11,
   "metadata": {},
   "outputs": [
    {
     "data": {
      "text/plain": [
       "315"
      ]
     },
     "execution_count": 11,
     "metadata": {},
     "output_type": "execute_result"
    }
   ],
   "source": [
    "# получение суммарного количества дубликатов в таблице df\n",
    "df.duplicated().sum()"
   ]
  },
  {
   "cell_type": "code",
   "execution_count": 12,
   "metadata": {},
   "outputs": [],
   "source": [
    "# удаление всех дубликатов из таблицы df с помощью метода\n",
    "df=df.drop_duplicates().reset_index(drop=True)"
   ]
  },
  {
   "cell_type": "code",
   "execution_count": 13,
   "metadata": {},
   "outputs": [
    {
     "data": {
      "text/plain": [
       "0"
      ]
     },
     "execution_count": 13,
     "metadata": {},
     "output_type": "execute_result"
    }
   ],
   "source": [
    "# проверка на отсутствие\n",
    "df.duplicated().sum()"
   ]
  },
  {
   "cell_type": "markdown",
   "metadata": {},
   "source": [
    "**Вывод**"
   ]
  },
  {
   "cell_type": "markdown",
   "metadata": {},
   "source": [
    "Дубликаты могли появиться вследствие сбоя в записи данных.\n",
    "Стоит обратить внимание и разобраться с причинами появления такого «информационного мусора»."
   ]
  },
  {
   "cell_type": "markdown",
   "metadata": {},
   "source": [
    "### Изменение недопустимых значений"
   ]
  },
  {
   "cell_type": "markdown",
   "metadata": {},
   "source": [
    "Также нам нужно привести данные в порядок в столбцах, содержащих информацию о количестве детей, общем трудовом стаже и возрасте клиента. Ведь данная информация не может быть минусовой (для всех трёх столбцов) и нулевой (для стобца с возрастом)."
   ]
  },
  {
   "cell_type": "code",
   "execution_count": 14,
   "metadata": {},
   "outputs": [
    {
     "data": {
      "text/plain": [
       "array([ 1,  0,  3,  2, -1,  4, 20,  5])"
      ]
     },
     "execution_count": 14,
     "metadata": {},
     "output_type": "execute_result"
    }
   ],
   "source": [
    "# Посмотрим уникальные значения столбика 'children'\n",
    "df['children'].unique()"
   ]
  },
  {
   "cell_type": "markdown",
   "metadata": {},
   "source": [
    "Отрицательное число детей невозможно. А количество детей в 20 маловероятно. Их нужно заменить.\n",
    "Заменим по медиане."
   ]
  },
  {
   "cell_type": "code",
   "execution_count": 15,
   "metadata": {},
   "outputs": [
    {
     "data": {
      "text/plain": [
       "array([1., 0., 3., 2., 4., 5.])"
      ]
     },
     "execution_count": 15,
     "metadata": {},
     "output_type": "execute_result"
    }
   ],
   "source": [
    "df.loc[(df.children<0), 'children'] = df['children'].median()\n",
    "df.loc[(df.children>10), 'children'] = df['children'].median()\n",
    "# проверим исчезновение недопустимых значений\n",
    "df['children'].unique()"
   ]
  },
  {
   "cell_type": "code",
   "execution_count": 16,
   "metadata": {},
   "outputs": [
    {
     "name": "stdout",
     "output_type": "stream",
     "text": [
      "Количество клиентов, которые указали свой возраст меньше 18 лет - 101 человек\n"
     ]
    }
   ],
   "source": [
    "# Посмотрим сколько у нас клиентов, которых возраст меньше 18 лет\n",
    "print('Количество клиентов, которые указали свой возраст меньше 18 лет -', len(df.loc[(df.dob_years < 18)]), 'человек')"
   ]
  },
  {
   "cell_type": "code",
   "execution_count": 17,
   "metadata": {},
   "outputs": [],
   "source": [
    "df.loc[(df.dob_years < 18), 'dob_years'] = df['dob_years'].median()"
   ]
  },
  {
   "cell_type": "code",
   "execution_count": 18,
   "metadata": {},
   "outputs": [
    {
     "name": "stdout",
     "output_type": "stream",
     "text": [
      "Медиана трудового стажа -1203.307346482598 дней\n"
     ]
    }
   ],
   "source": [
    "# Выведем медиану столбца с трудовым стажем\n",
    "print('Медиана трудового стажа', df['days_employed'].median(), 'дней')"
   ]
  },
  {
   "cell_type": "code",
   "execution_count": 19,
   "metadata": {},
   "outputs": [],
   "source": [
    "# Заменим значения в стаже на модуль\n",
    "df['days_employed'] = df['days_employed'].abs()"
   ]
  },
  {
   "cell_type": "code",
   "execution_count": 20,
   "metadata": {},
   "outputs": [
    {
     "data": {
      "text/plain": [
       "dob_years\n",
       "19.0       724.492610\n",
       "20.0       674.838979\n",
       "21.0       618.733817\n",
       "22.0       703.310078\n",
       "23.0       690.204208\n",
       "24.0       942.390603\n",
       "25.0       919.199388\n",
       "26.0      1083.658132\n",
       "27.0      1166.212160\n",
       "28.0      1141.705450\n",
       "29.0      1315.453550\n",
       "30.0      1420.586863\n",
       "31.0      1308.901135\n",
       "32.0      1446.622542\n",
       "33.0      1426.415003\n",
       "34.0      1615.910188\n",
       "35.0      1613.494818\n",
       "36.0      1799.520465\n",
       "37.0      1816.713382\n",
       "38.0      1817.194286\n",
       "39.0      1891.388566\n",
       "40.0      1728.936706\n",
       "41.0      1864.657692\n",
       "42.0      2210.575665\n",
       "43.0      1869.019899\n",
       "44.0      2084.330015\n",
       "45.0      2254.431130\n",
       "46.0      2100.473217\n",
       "47.0      2203.078545\n",
       "48.0      2429.674518\n",
       "49.0      2560.317106\n",
       "50.0      2626.986257\n",
       "51.0      2846.080700\n",
       "52.0      3395.639568\n",
       "53.0      3650.007523\n",
       "54.0      4026.541145\n",
       "55.0      7043.471139\n",
       "56.0      6850.179463\n",
       "57.0    333953.491811\n",
       "58.0    331245.976666\n",
       "59.0    344372.337365\n",
       "60.0    349414.537285\n",
       "61.0    343984.931910\n",
       "62.0    354981.718187\n",
       "63.0    358482.295938\n",
       "64.0    355781.562599\n",
       "65.0    357103.967291\n",
       "66.0    363827.438951\n",
       "67.0    357222.855215\n",
       "68.0    365278.194581\n",
       "69.0    362313.375280\n",
       "70.0    362787.772498\n",
       "71.0    359700.938607\n",
       "72.0    367378.973169\n",
       "73.0    364291.049263\n",
       "74.0    343075.981127\n",
       "75.0      1678.969771\n",
       "Name: days_employed, dtype: float64"
      ]
     },
     "execution_count": 20,
     "metadata": {},
     "output_type": "execute_result"
    }
   ],
   "source": [
    "# выведем медиану по трудовому стажу для каждого возраста\n",
    "df.groupby('dob_years')['days_employed'].median()"
   ]
  },
  {
   "cell_type": "markdown",
   "metadata": {},
   "source": [
    "Все неадекватно большие числа (больше 12000 = 1200 / 250 р.д. = 48 рабочих лет) разделим на возраст клиента.\n",
    "Клиента с возрастом 75 лет удалим из таблицы, т.к. это сильно не повлияет на результаты."
   ]
  },
  {
   "cell_type": "code",
   "execution_count": 21,
   "metadata": {},
   "outputs": [],
   "source": [
    "# Создадим функцию, где для каждой строки, где значение стажа больше 12000 дней\n",
    "# Будет происходить деление стажа на возраст клиента\n",
    "# Во всех остальных случаях будет возвращаться просто строка с изначальным стажем\n",
    "def function(row):    \n",
    "    if row['days_employed'] > 12000:\n",
    "        return row['days_employed'] / row['dob_years']\n",
    "    return row['days_employed']\n",
    "\n",
    "# Заменим значения стажа по нашей функции\n",
    "df['days_employed'] = df.apply(function, axis=1)"
   ]
  },
  {
   "cell_type": "code",
   "execution_count": 22,
   "metadata": {},
   "outputs": [],
   "source": [
    "# Создаем новую таблицу, куда мы добавляем все строки, кроме строки, где возраст клиента равен 75\n",
    "df = df.loc[df['dob_years'] != 75]"
   ]
  },
  {
   "cell_type": "markdown",
   "metadata": {},
   "source": [
    "**Вывод**"
   ]
  },
  {
   "cell_type": "markdown",
   "metadata": {},
   "source": [
    "Неадекватные значения детей и возраста были заменены по медиане.\n",
    "\n",
    "Отрицательные значения стажа были заменены на индентичные, но со знаком плюс.\n",
    "\n",
    "Огромные количество трудового стажа были заменены из предположения, что такие числа получились из-за технической ошибки умножения возраста клиента на его трудовой стаж.\n",
    "\n",
    "Стаж свыше 12000 дней (48 рабочих лет) делился на возраст клиента.\n",
    "\n",
    "Есть огромные проблемы с выгрузкой данных. Возможно они происходят из разных источников, где различаются единицы измерения. Нужно поставить задачу по выявлению проблемных данных. Например, таких как отрицательные значение детей или трудового стажа."
   ]
  },
  {
   "cell_type": "markdown",
   "metadata": {},
   "source": [
    "### Обработка пропусков"
   ]
  },
  {
   "cell_type": "code",
   "execution_count": 23,
   "metadata": {},
   "outputs": [
    {
     "data": {
      "text/plain": [
       "children               0\n",
       "days_employed       1859\n",
       "dob_years              0\n",
       "education              0\n",
       "education_id           0\n",
       "family_status          0\n",
       "family_status_id       0\n",
       "gender                 0\n",
       "income_type            0\n",
       "debt                   0\n",
       "total_income        1859\n",
       "purpose                0\n",
       "dtype: int64"
      ]
     },
     "execution_count": 23,
     "metadata": {},
     "output_type": "execute_result"
    }
   ],
   "source": [
    "# суммарное количество пропусков в таблице df, выявленных методом isnull()\n",
    "df.isnull().sum()"
   ]
  },
  {
   "cell_type": "code",
   "execution_count": 24,
   "metadata": {},
   "outputs": [],
   "source": [
    "# Заменим пропущенные значения по столбцу 'total_income' на медиану в разрезе возраста и типа занятости\n",
    "df['total_income'] = df['total_income']\\\n",
    ".fillna(df.groupby(['income_type', 'dob_years'])['total_income']\\\n",
    ".transform('median'))\n",
    "\n",
    "# И пропущенные значения по столбцу 'days_employed' на медиану в разрезе возраста и типа занятости\n",
    "df['days_employed'] = df['days_employed']\\\n",
    ".fillna(df.groupby(['income_type', 'dob_years'])['days_employed']\\\n",
    ".transform('median'))"
   ]
  },
  {
   "cell_type": "code",
   "execution_count": 25,
   "metadata": {},
   "outputs": [],
   "source": [
    "# Остальные строки удалим, они никак не повлияются на наши вычисления\n",
    "df.dropna(axis=0,inplace=True)"
   ]
  },
  {
   "cell_type": "markdown",
   "metadata": {},
   "source": [
    "**Вывод**"
   ]
  },
  {
   "cell_type": "markdown",
   "metadata": {},
   "source": [
    "Пропуски могли возникнуть из-за системной ошибки, или же просто люди при заполнении информации в банк решили не указывать свой заработок и/или трудовой стаж.\n",
    "Заполнила пропуски в разрезе по возрасту, так как если бы мы брали медиану в целом, то было бы заполнено относительно общего обращения в банк всех людей, а средний возраст таких людей около 43 лет. У таких людей соотвественно выше стаж по сравнению, например, с 20-ти летними."
   ]
  },
  {
   "cell_type": "markdown",
   "metadata": {},
   "source": [
    "### Замена типа данных"
   ]
  },
  {
   "cell_type": "code",
   "execution_count": 26,
   "metadata": {},
   "outputs": [],
   "source": [
    "#замена вещественного типа данных на целочисленный для столбцов days_employed и total_income\n",
    "df['days_employed']=df['days_employed'].astype('int')\n",
    "df['total_income']=df['total_income'].astype('int')"
   ]
  },
  {
   "cell_type": "code",
   "execution_count": 27,
   "metadata": {},
   "outputs": [
    {
     "name": "stdout",
     "output_type": "stream",
     "text": [
      "<class 'pandas.core.frame.DataFrame'>\n",
      "Int64Index: 21204 entries, 0 to 21208\n",
      "Data columns (total 12 columns):\n",
      "children            21204 non-null float64\n",
      "days_employed       21204 non-null int64\n",
      "dob_years           21204 non-null float64\n",
      "education           21204 non-null object\n",
      "education_id        21204 non-null int64\n",
      "family_status       21204 non-null object\n",
      "family_status_id    21204 non-null int64\n",
      "gender              21204 non-null object\n",
      "income_type         21204 non-null object\n",
      "debt                21204 non-null int64\n",
      "total_income        21204 non-null int64\n",
      "purpose             21204 non-null object\n",
      "dtypes: float64(2), int64(5), object(5)\n",
      "memory usage: 2.1+ MB\n"
     ]
    }
   ],
   "source": [
    "# проверим, поменялся ли тип данных\n",
    "df.info()"
   ]
  },
  {
   "cell_type": "markdown",
   "metadata": {},
   "source": [
    "**Вывод**"
   ]
  },
  {
   "cell_type": "markdown",
   "metadata": {},
   "source": [
    "Мы заменили тип данных на целочисленный в столбцах содержащих такую информацию как общий трудовой стаж и ежемесячный доход, так как это целочисленные значения. Нельзя указывать количество трудового стажа, как, например, 1,58 дня."
   ]
  },
  {
   "cell_type": "markdown",
   "metadata": {},
   "source": [
    "### Категоризация данных"
   ]
  },
  {
   "cell_type": "code",
   "execution_count": 28,
   "metadata": {},
   "outputs": [
    {
     "data": {
      "text/plain": [
       "children  debt\n",
       "0.0       0       12939\n",
       "          1        1071\n",
       "1.0       0        4329\n",
       "          1         444\n",
       "2.0       0        1848\n",
       "          1         194\n",
       "3.0       0         302\n",
       "          1          27\n",
       "4.0       0          37\n",
       "          1           4\n",
       "5.0       0           9\n",
       "Name: debt, dtype: int64"
      ]
     },
     "execution_count": 28,
     "metadata": {},
     "output_type": "execute_result"
    }
   ],
   "source": [
    "# Создадим отдельную таблицу со столбцами 'children' и 'debt'\n",
    "child_debt = df[['children','debt']]\n",
    "# Посмотрим в разрезе по количеству детей\n",
    "# Cколько клиентов с тем или иным количеством детей имел или не имел задолженность перед банком\n",
    "# где 1 - имел задолженность, 0 - не имел.\n",
    "child_debt.groupby('children')['debt'].value_counts()"
   ]
  },
  {
   "cell_type": "code",
   "execution_count": 29,
   "metadata": {},
   "outputs": [
    {
     "data": {
      "text/plain": [
       "family_status          debt\n",
       "в разводе              0        1108\n",
       "                       1          85\n",
       "вдовец / вдова         0         884\n",
       "                       1          63\n",
       "гражданский брак       0        3739\n",
       "                       1         388\n",
       "женат / замужем        0       11216\n",
       "                       1         930\n",
       "не женат / не замужем  0        2517\n",
       "                       1         274\n",
       "Name: debt, dtype: int64"
      ]
     },
     "execution_count": 29,
     "metadata": {},
     "output_type": "execute_result"
    }
   ],
   "source": [
    "# Создадим отдельную таблицу со столбцами 'family_status' и 'debt'\n",
    "family_status_debt = df[['family_status','debt']]\n",
    "# Посмотрим в разрезе по семейному положению\n",
    "# Cколько клиентов с тем или иным семейным положением имел или не имел задолженность перед банком\n",
    "# где 1 - имел задолженность, 0 - не имел.\n",
    "family_status_debt.groupby('family_status')['debt'].value_counts()"
   ]
  },
  {
   "cell_type": "code",
   "execution_count": 30,
   "metadata": {},
   "outputs": [
    {
     "data": {
      "text/plain": [
       "income_class           debt\n",
       "Высокие доходы         0       6443\n",
       "                       1        577\n",
       "Средне высокие доходы  0       6286\n",
       "                       1        615\n",
       "Средне низкие доходы   0        349\n",
       "                       1         23\n",
       "Средние доходы         0       3765\n",
       "                       1        331\n",
       "Name: debt, dtype: int64"
      ]
     },
     "execution_count": 30,
     "metadata": {},
     "output_type": "execute_result"
    }
   ],
   "source": [
    "# Создадим отдельную таблицу со столбцами 'total_income' и 'debt'\n",
    "total_income_debt = df[['total_income','debt']]\n",
    "\n",
    "def income_class(row):\n",
    "        \"\"\"\n",
    "        Создадим классификацию по доходам\n",
    "        Возвращает класс по доходам по значению доходов, используя правила:\n",
    "        - 'Низкие доходы' при значении income < 20 000\n",
    "        - 'Средне низкие доходы' при значениии более 20 000 и менее 50 000, включая 50 000\n",
    "        - 'Средние доходы' при значениии более 50 000 и менее 100 000, включая 100 000\n",
    "        - 'Средне высокие доходы' при значениии более 100 000 и менее 150 000, включая 150 000\n",
    "        - 'Высокие доходы' при значениии более 150 000 и менее 250 000, включая 250 000\n",
    "        - 'Безработные' во всех остальных случаях\n",
    "        \"\"\"\n",
    "\n",
    "        if row['total_income'] < 20000:\n",
    "                return 'Низкие доходы'\n",
    "        if row['total_income'] <=  50000:\n",
    "                return 'Средне низкие доходы'\n",
    "        if row['total_income'] <=  100000:\n",
    "                return 'Средние доходы' \n",
    "        if row['total_income'] <=  150000:\n",
    "                return 'Средне высокие доходы'\n",
    "        if row['total_income'] <=  250000:\n",
    "                return 'Высокие доходы'\n",
    "\n",
    "total_income_debt['income_class'] = total_income_debt.apply(income_class, axis=1)\n",
    "\n",
    "# Посмотрим в разрезе по доходам\n",
    "# Cколько клиентов с тем или иным заработком имел или не имел задолженность перед банком\n",
    "# где 1 - имел задолженность, 0 - не имел.\n",
    "total_income_debt.groupby('income_class')['debt'].value_counts()"
   ]
  },
  {
   "cell_type": "code",
   "execution_count": 31,
   "metadata": {},
   "outputs": [
    {
     "data": {
      "text/plain": [
       "purpose                   debt\n",
       "Для образования           0       3593\n",
       "                          1        370\n",
       "Для проведения свадьбы    0       2119\n",
       "                          1        186\n",
       "Ипотека                   0       4099\n",
       "                          1        308\n",
       "Операции с недвижимостью  0       5784\n",
       "                          1        474\n",
       "Покупка автомобиля        0       3869\n",
       "                          1        402\n",
       "Name: debt, dtype: int64"
      ]
     },
     "execution_count": 31,
     "metadata": {},
     "output_type": "execute_result"
    }
   ],
   "source": [
    "# Создадим отдельную таблицу со столбцами 'purpose' и 'debt'\n",
    "purpose_debt = df[['purpose','debt']]\n",
    "# Посмотрим в разрезе по целям кредита\n",
    "# Cколько клиентов с той или иной целью кредита имел или не имел задолженность перед банком\n",
    "# где 1 - имел задолженность, 0 - не имел.\n",
    "purpose_debt.groupby('purpose')['debt'].value_counts()"
   ]
  },
  {
   "cell_type": "markdown",
   "metadata": {},
   "source": [
    "## Шаг 3. Ответьте на вопросы"
   ]
  },
  {
   "cell_type": "markdown",
   "metadata": {},
   "source": [
    "- Есть ли зависимость между наличием детей и возвратом кредита в срок"
   ]
  },
  {
   "cell_type": "code",
   "execution_count": 32,
   "metadata": {},
   "outputs": [
    {
     "data": {
      "text/html": [
       "<div>\n",
       "<style scoped>\n",
       "    .dataframe tbody tr th:only-of-type {\n",
       "        vertical-align: middle;\n",
       "    }\n",
       "\n",
       "    .dataframe tbody tr th {\n",
       "        vertical-align: top;\n",
       "    }\n",
       "\n",
       "    .dataframe thead tr th {\n",
       "        text-align: left;\n",
       "    }\n",
       "\n",
       "    .dataframe thead tr:last-of-type th {\n",
       "        text-align: right;\n",
       "    }\n",
       "</style>\n",
       "<table border=\"1\" class=\"dataframe\">\n",
       "  <thead>\n",
       "    <tr>\n",
       "      <th></th>\n",
       "      <th colspan=\"3\" halign=\"left\">debt</th>\n",
       "    </tr>\n",
       "    <tr>\n",
       "      <th></th>\n",
       "      <th>count</th>\n",
       "      <th>sum</th>\n",
       "      <th>&lt;lambda_0&gt;</th>\n",
       "    </tr>\n",
       "    <tr>\n",
       "      <th>children</th>\n",
       "      <th></th>\n",
       "      <th></th>\n",
       "      <th></th>\n",
       "    </tr>\n",
       "  </thead>\n",
       "  <tbody>\n",
       "    <tr>\n",
       "      <td>0.0</td>\n",
       "      <td>14010</td>\n",
       "      <td>1071</td>\n",
       "      <td>7.64%</td>\n",
       "    </tr>\n",
       "    <tr>\n",
       "      <td>1.0</td>\n",
       "      <td>4773</td>\n",
       "      <td>444</td>\n",
       "      <td>9.3%</td>\n",
       "    </tr>\n",
       "    <tr>\n",
       "      <td>2.0</td>\n",
       "      <td>2042</td>\n",
       "      <td>194</td>\n",
       "      <td>9.5%</td>\n",
       "    </tr>\n",
       "    <tr>\n",
       "      <td>3.0</td>\n",
       "      <td>329</td>\n",
       "      <td>27</td>\n",
       "      <td>8.21%</td>\n",
       "    </tr>\n",
       "    <tr>\n",
       "      <td>4.0</td>\n",
       "      <td>41</td>\n",
       "      <td>4</td>\n",
       "      <td>9.76%</td>\n",
       "    </tr>\n",
       "    <tr>\n",
       "      <td>5.0</td>\n",
       "      <td>9</td>\n",
       "      <td>0</td>\n",
       "      <td>0.0%</td>\n",
       "    </tr>\n",
       "  </tbody>\n",
       "</table>\n",
       "</div>"
      ],
      "text/plain": [
       "           debt                 \n",
       "          count   sum <lambda_0>\n",
       "children                        \n",
       "0.0       14010  1071      7.64%\n",
       "1.0        4773   444       9.3%\n",
       "2.0        2042   194       9.5%\n",
       "3.0         329    27      8.21%\n",
       "4.0          41     4      9.76%\n",
       "5.0           9     0       0.0%"
      ]
     },
     "execution_count": 32,
     "metadata": {},
     "output_type": "execute_result"
    }
   ],
   "source": [
    "# Выведем таблицу, с количеством детей, где указано сколько людей не имело задолженностей перед банком\n",
    "# И сколько имело задолженности, и сразу выведем в процентах количество должников\n",
    "df.groupby('children').agg({'debt':['count', 'sum', lambda x: str(round(x.mean()*100,2)) +'%' ]})"
   ]
  },
  {
   "cell_type": "markdown",
   "metadata": {},
   "source": [
    "**Вывод**"
   ]
  },
  {
   "cell_type": "markdown",
   "metadata": {},
   "source": [
    "Самые надежные клиенты это люди имеющие пятерых детей.\n",
    "Среди них 0% должников.\n",
    "Но брать этот вывод как константу не стоит, ведь в данной выборке участвовало всего 9 клиентов.\n",
    "\n",
    "Так что скорее всего **самые надежные** клиенты - это люди без детей, имеют меньше задолженностей перед банком. Всего **7,64% людей** не возвращают кредиты во время.\n",
    "\n",
    "А **самые безответственные** - это люди, имеющие в семье 4х детей: **9,76% людей** из данной выборки не возвращают кредиты в срок.\n",
    "\n",
    "Семьи с количеством детей 1, 2 и 3 имеют следующие показатели задолженностей перед банком: 9,3%, 9,5% и 8,21%."
   ]
  },
  {
   "cell_type": "markdown",
   "metadata": {},
   "source": [
    "- Есть ли зависимость между семейным положением и возвратом кредита в срок?"
   ]
  },
  {
   "cell_type": "code",
   "execution_count": 33,
   "metadata": {},
   "outputs": [
    {
     "data": {
      "text/html": [
       "<div>\n",
       "<style scoped>\n",
       "    .dataframe tbody tr th:only-of-type {\n",
       "        vertical-align: middle;\n",
       "    }\n",
       "\n",
       "    .dataframe tbody tr th {\n",
       "        vertical-align: top;\n",
       "    }\n",
       "\n",
       "    .dataframe thead tr th {\n",
       "        text-align: left;\n",
       "    }\n",
       "\n",
       "    .dataframe thead tr:last-of-type th {\n",
       "        text-align: right;\n",
       "    }\n",
       "</style>\n",
       "<table border=\"1\" class=\"dataframe\">\n",
       "  <thead>\n",
       "    <tr>\n",
       "      <th></th>\n",
       "      <th colspan=\"3\" halign=\"left\">debt</th>\n",
       "    </tr>\n",
       "    <tr>\n",
       "      <th></th>\n",
       "      <th>count</th>\n",
       "      <th>sum</th>\n",
       "      <th>&lt;lambda_0&gt;</th>\n",
       "    </tr>\n",
       "    <tr>\n",
       "      <th>family_status</th>\n",
       "      <th></th>\n",
       "      <th></th>\n",
       "      <th></th>\n",
       "    </tr>\n",
       "  </thead>\n",
       "  <tbody>\n",
       "    <tr>\n",
       "      <td>в разводе</td>\n",
       "      <td>1193</td>\n",
       "      <td>85</td>\n",
       "      <td>7.12%</td>\n",
       "    </tr>\n",
       "    <tr>\n",
       "      <td>вдовец / вдова</td>\n",
       "      <td>947</td>\n",
       "      <td>63</td>\n",
       "      <td>6.65%</td>\n",
       "    </tr>\n",
       "    <tr>\n",
       "      <td>гражданский брак</td>\n",
       "      <td>4127</td>\n",
       "      <td>388</td>\n",
       "      <td>9.4%</td>\n",
       "    </tr>\n",
       "    <tr>\n",
       "      <td>женат / замужем</td>\n",
       "      <td>12146</td>\n",
       "      <td>930</td>\n",
       "      <td>7.66%</td>\n",
       "    </tr>\n",
       "    <tr>\n",
       "      <td>не женат / не замужем</td>\n",
       "      <td>2791</td>\n",
       "      <td>274</td>\n",
       "      <td>9.82%</td>\n",
       "    </tr>\n",
       "  </tbody>\n",
       "</table>\n",
       "</div>"
      ],
      "text/plain": [
       "                        debt                \n",
       "                       count  sum <lambda_0>\n",
       "family_status                               \n",
       "в разводе               1193   85      7.12%\n",
       "вдовец / вдова           947   63      6.65%\n",
       "гражданский брак        4127  388       9.4%\n",
       "женат / замужем        12146  930      7.66%\n",
       "не женат / не замужем   2791  274      9.82%"
      ]
     },
     "execution_count": 33,
     "metadata": {},
     "output_type": "execute_result"
    }
   ],
   "source": [
    "# Выведем таблицу, с семейным статусом, где указано сколько людей в том или ином статусе\n",
    "# не имело задолженностей перед банком и сколько имело задолженности, и сразу выведем в процентах количество должников\n",
    "df.groupby('family_status').agg({'debt':['count', 'sum', lambda x: str(round(x.mean()*100,2)) +'%' ]})"
   ]
  },
  {
   "cell_type": "markdown",
   "metadata": {},
   "source": [
    "**Вывод**"
   ]
  },
  {
   "cell_type": "markdown",
   "metadata": {},
   "source": [
    "**Самые надежные** клиенты это люди, находящиеся в статусе вдов / вдовцов. Среди них **6,65% дожников**.\n",
    "\n",
    "А **самые безответственные** - это люди, не вступавшие в брак: **9,82% людей** из данной выборки не возвращают кредиты в срок.\n",
    "\n",
    "Средние показатели показывают люди, находящиеся в разводе или же состоящих в статусе \"женат / замужем\" - 7,12% и 7,66% должников в данной выборке.\n",
    "\n",
    "Люди, находящиеся в гражданском браке приближены к самым безответсвенным: 9,4% должников.\n",
    "\n",
    "Возможно это связано с законодательством РФ, о том, что долги семейных людей по закону выплачиваются в равной степени мужем и женой. В гражанском браке же, каждый несёт отвественность сам за себя."
   ]
  },
  {
   "cell_type": "markdown",
   "metadata": {},
   "source": [
    "- Есть ли зависимость между уровнем дохода и возвратом кредита в срок?"
   ]
  },
  {
   "cell_type": "code",
   "execution_count": 34,
   "metadata": {},
   "outputs": [
    {
     "data": {
      "text/html": [
       "<div>\n",
       "<style scoped>\n",
       "    .dataframe tbody tr th:only-of-type {\n",
       "        vertical-align: middle;\n",
       "    }\n",
       "\n",
       "    .dataframe tbody tr th {\n",
       "        vertical-align: top;\n",
       "    }\n",
       "\n",
       "    .dataframe thead tr th {\n",
       "        text-align: left;\n",
       "    }\n",
       "\n",
       "    .dataframe thead tr:last-of-type th {\n",
       "        text-align: right;\n",
       "    }\n",
       "</style>\n",
       "<table border=\"1\" class=\"dataframe\">\n",
       "  <thead>\n",
       "    <tr>\n",
       "      <th></th>\n",
       "      <th colspan=\"3\" halign=\"left\">debt</th>\n",
       "    </tr>\n",
       "    <tr>\n",
       "      <th></th>\n",
       "      <th>count</th>\n",
       "      <th>sum</th>\n",
       "      <th>&lt;lambda_0&gt;</th>\n",
       "    </tr>\n",
       "    <tr>\n",
       "      <th>income_class</th>\n",
       "      <th></th>\n",
       "      <th></th>\n",
       "      <th></th>\n",
       "    </tr>\n",
       "  </thead>\n",
       "  <tbody>\n",
       "    <tr>\n",
       "      <td>Высокие доходы</td>\n",
       "      <td>7020</td>\n",
       "      <td>577</td>\n",
       "      <td>8.22%</td>\n",
       "    </tr>\n",
       "    <tr>\n",
       "      <td>Средне высокие доходы</td>\n",
       "      <td>6901</td>\n",
       "      <td>615</td>\n",
       "      <td>8.91%</td>\n",
       "    </tr>\n",
       "    <tr>\n",
       "      <td>Средне низкие доходы</td>\n",
       "      <td>372</td>\n",
       "      <td>23</td>\n",
       "      <td>6.18%</td>\n",
       "    </tr>\n",
       "    <tr>\n",
       "      <td>Средние доходы</td>\n",
       "      <td>4096</td>\n",
       "      <td>331</td>\n",
       "      <td>8.08%</td>\n",
       "    </tr>\n",
       "  </tbody>\n",
       "</table>\n",
       "</div>"
      ],
      "text/plain": [
       "                       debt                \n",
       "                      count  sum <lambda_0>\n",
       "income_class                               \n",
       "Высокие доходы         7020  577      8.22%\n",
       "Средне высокие доходы  6901  615      8.91%\n",
       "Средне низкие доходы    372   23      6.18%\n",
       "Средние доходы         4096  331      8.08%"
      ]
     },
     "execution_count": 34,
     "metadata": {},
     "output_type": "execute_result"
    }
   ],
   "source": [
    "# Выведем таблицу, с доходами, где указано сколько людей с тем или иным заработком\n",
    "# не имело задолженностей перед банком и сколько имело задолженности, и сразу выведем в процентах количество должников\n",
    "total_income_debt.groupby('income_class').agg({'debt':['count', 'sum', lambda x: str(round(x.mean()*100,2)) +'%' ]})"
   ]
  },
  {
   "cell_type": "markdown",
   "metadata": {},
   "source": [
    "**Вывод**"
   ]
  },
  {
   "cell_type": "markdown",
   "metadata": {},
   "source": [
    "**Самые надежные** клиенты это люди, имеющие доход от 20 до 50 т.р.: **6.18% клиентов** не вернувших вовремя кредит.\n",
    "\n",
    "А **самые безответсвенные** - это люди, имеющие доход от 100 до 150 т.р.: **8,91% должников**\n",
    "\n",
    "Средние показатели показывают люди, имеющие доход от 50 до 100 т.р. и высокие доходы от 150 до 250 т.р. - 8,08% и 8,22% должников соответственно.\n",
    "\n",
    "Возможно это связано с количеством свободных денег: люди, имеющие больший заработок, активнее возьмут кредит, т.к. уверены, что могут его вернуть. И также для них просрочка не проблема, могут просто забыть заплатить вовремя.\n",
    "А люди с меньшими доходами с опаской относятся к кредитам, так как не уверены, что смогут выплатить его вовремя."
   ]
  },
  {
   "cell_type": "markdown",
   "metadata": {},
   "source": [
    "- Как разные цели кредита влияют на его возврат в срок?"
   ]
  },
  {
   "cell_type": "code",
   "execution_count": 35,
   "metadata": {},
   "outputs": [
    {
     "data": {
      "text/html": [
       "<div>\n",
       "<style scoped>\n",
       "    .dataframe tbody tr th:only-of-type {\n",
       "        vertical-align: middle;\n",
       "    }\n",
       "\n",
       "    .dataframe tbody tr th {\n",
       "        vertical-align: top;\n",
       "    }\n",
       "\n",
       "    .dataframe thead tr th {\n",
       "        text-align: left;\n",
       "    }\n",
       "\n",
       "    .dataframe thead tr:last-of-type th {\n",
       "        text-align: right;\n",
       "    }\n",
       "</style>\n",
       "<table border=\"1\" class=\"dataframe\">\n",
       "  <thead>\n",
       "    <tr>\n",
       "      <th></th>\n",
       "      <th colspan=\"3\" halign=\"left\">debt</th>\n",
       "    </tr>\n",
       "    <tr>\n",
       "      <th></th>\n",
       "      <th>count</th>\n",
       "      <th>sum</th>\n",
       "      <th>&lt;lambda_0&gt;</th>\n",
       "    </tr>\n",
       "    <tr>\n",
       "      <th>purpose</th>\n",
       "      <th></th>\n",
       "      <th></th>\n",
       "      <th></th>\n",
       "    </tr>\n",
       "  </thead>\n",
       "  <tbody>\n",
       "    <tr>\n",
       "      <td>Для образования</td>\n",
       "      <td>3963</td>\n",
       "      <td>370</td>\n",
       "      <td>9.34%</td>\n",
       "    </tr>\n",
       "    <tr>\n",
       "      <td>Для проведения свадьбы</td>\n",
       "      <td>2305</td>\n",
       "      <td>186</td>\n",
       "      <td>8.07%</td>\n",
       "    </tr>\n",
       "    <tr>\n",
       "      <td>Ипотека</td>\n",
       "      <td>4407</td>\n",
       "      <td>308</td>\n",
       "      <td>6.99%</td>\n",
       "    </tr>\n",
       "    <tr>\n",
       "      <td>Операции с недвижимостью</td>\n",
       "      <td>6258</td>\n",
       "      <td>474</td>\n",
       "      <td>7.57%</td>\n",
       "    </tr>\n",
       "    <tr>\n",
       "      <td>Покупка автомобиля</td>\n",
       "      <td>4271</td>\n",
       "      <td>402</td>\n",
       "      <td>9.41%</td>\n",
       "    </tr>\n",
       "  </tbody>\n",
       "</table>\n",
       "</div>"
      ],
      "text/plain": [
       "                          debt                \n",
       "                         count  sum <lambda_0>\n",
       "purpose                                       \n",
       "Для образования           3963  370      9.34%\n",
       "Для проведения свадьбы    2305  186      8.07%\n",
       "Ипотека                   4407  308      6.99%\n",
       "Операции с недвижимостью  6258  474      7.57%\n",
       "Покупка автомобиля        4271  402      9.41%"
      ]
     },
     "execution_count": 35,
     "metadata": {},
     "output_type": "execute_result"
    }
   ],
   "source": [
    "# Выведем таблицу, с целями кредита, где указано сколько людей с той или иной целью\n",
    "# не имело задолженностей перед банком и сколько имело задолженности, и сразу выведем в процентах количество должников\n",
    "df.groupby('purpose').agg({'debt':['count', 'sum', lambda x: str(round(x.mean()*100,2)) +'%' ]})"
   ]
  },
  {
   "cell_type": "markdown",
   "metadata": {},
   "source": [
    "**Вывод**"
   ]
  },
  {
   "cell_type": "markdown",
   "metadata": {},
   "source": [
    "**Самые надежные** клиенты это люди, берущие кредит для Ипотеки : **6,99%** задолженностей было в данной выборке.\n",
    "\n",
    "А **самые безответсвенные** - это люди, берущие кредит для покупки автомобиля: **9,41%** должников среди таких клиентов.\n",
    "\n",
    "Средние показатели показывают люди, берущие кредит для операция с недвижимостью и проведения свадьбы. - 7,57% и 8,07% должников соответственно.\n",
    "\n",
    "Люди, берущие кредит для получения образования к самым безответсвенным: 9,34% должников.\n",
    "\n",
    "Возможно это связано с тем, что людям не хватает их заработков и для их повышения они идут учится или же покупают автомобиль, чтобы с помощью данных инструментов больше зарабатывать.\n",
    "\n",
    "Люди берущие ипотеку, улучшают свою кредитную историю, чтобы получить более выгодные условия для кредита. Ведь их кредит является долгосрочным."
   ]
  },
  {
   "cell_type": "markdown",
   "metadata": {},
   "source": [
    "## Шаг 4. Общий вывод"
   ]
  },
  {
   "cell_type": "markdown",
   "metadata": {},
   "source": [
    "В целом процент должников в массе людей имеет примерный показатель ~8%.\n",
    "\n",
    "Самыми отвественные клиентами являют люди заработывающие от 20 до 50 тысяч, они показывали самое низкое количество должников - 6,18%.\n",
    "\n",
    "А самые безответственные клиенты это люди, состоящих в статусе \"не женат / не замужем\" - среди них 9,82% должников.\n",
    "\n",
    "Если не брать в расчет наибольшие и наименьшие проценты должников среди тех или иных групп населения.\n",
    "Самыми надёжными средними являются люди, находящиеся в официальном браке, не имеющие детей, имеющие доход свыше 50 тысяч рублей, берущих кредит для ипотеки, свадьбы или же операций с недвижимостью."
   ]
  }
 ],
 "metadata": {
  "ExecuteTimeLog": [
   {
    "duration": 924,
    "start_time": "2022-02-06T14:19:34.894Z"
   },
   {
    "duration": 12,
    "start_time": "2022-02-06T14:19:41.408Z"
   },
   {
    "duration": 32,
    "start_time": "2022-02-06T14:19:45.571Z"
   },
   {
    "duration": 5,
    "start_time": "2022-02-06T14:19:55.735Z"
   },
   {
    "duration": 7,
    "start_time": "2022-02-06T14:19:58.608Z"
   },
   {
    "duration": 615,
    "start_time": "2022-02-06T14:20:02.274Z"
   },
   {
    "duration": 8,
    "start_time": "2022-02-06T14:20:11.079Z"
   },
   {
    "duration": 9,
    "start_time": "2022-02-06T14:20:17.189Z"
   },
   {
    "duration": 6,
    "start_time": "2022-02-06T14:38:48.033Z"
   },
   {
    "duration": 25,
    "start_time": "2022-02-06T14:44:23.698Z"
   },
   {
    "duration": 6,
    "start_time": "2022-02-06T14:44:47.715Z"
   },
   {
    "duration": 6,
    "start_time": "2022-02-06T14:45:58.159Z"
   },
   {
    "duration": 6,
    "start_time": "2022-02-06T14:47:10.702Z"
   },
   {
    "duration": 6,
    "start_time": "2022-02-06T14:47:30.236Z"
   },
   {
    "duration": 8,
    "start_time": "2022-02-06T14:48:31.802Z"
   },
   {
    "duration": 86,
    "start_time": "2022-02-06T14:48:39.289Z"
   },
   {
    "duration": 10,
    "start_time": "2022-02-06T14:48:45.937Z"
   },
   {
    "duration": 6,
    "start_time": "2022-02-06T14:48:50.456Z"
   },
   {
    "duration": 5,
    "start_time": "2022-02-06T14:50:20.553Z"
   },
   {
    "duration": 6,
    "start_time": "2022-02-06T14:51:01.177Z"
   },
   {
    "duration": 82,
    "start_time": "2022-02-06T14:59:30.669Z"
   },
   {
    "duration": 123,
    "start_time": "2022-02-06T14:59:39.264Z"
   },
   {
    "duration": 278,
    "start_time": "2022-02-06T14:59:46.375Z"
   },
   {
    "duration": 290,
    "start_time": "2022-02-06T15:01:13.504Z"
   },
   {
    "duration": 262,
    "start_time": "2022-02-06T15:01:35.141Z"
   },
   {
    "duration": 78,
    "start_time": "2022-02-06T15:01:38.767Z"
   },
   {
    "duration": 258,
    "start_time": "2022-02-06T15:01:42.616Z"
   },
   {
    "duration": 262,
    "start_time": "2022-02-06T15:01:51.266Z"
   },
   {
    "duration": 669,
    "start_time": "2022-02-06T15:02:44.156Z"
   },
   {
    "duration": 10,
    "start_time": "2022-02-06T15:02:44.827Z"
   },
   {
    "duration": 38,
    "start_time": "2022-02-06T15:02:44.839Z"
   },
   {
    "duration": 5,
    "start_time": "2022-02-06T15:02:44.878Z"
   },
   {
    "duration": 34,
    "start_time": "2022-02-06T15:02:44.884Z"
   },
   {
    "duration": 7,
    "start_time": "2022-02-06T15:02:44.920Z"
   },
   {
    "duration": 14,
    "start_time": "2022-02-06T15:02:44.928Z"
   },
   {
    "duration": 12,
    "start_time": "2022-02-06T15:02:44.945Z"
   },
   {
    "duration": 14,
    "start_time": "2022-02-06T15:02:44.960Z"
   },
   {
    "duration": 6,
    "start_time": "2022-02-06T15:02:44.976Z"
   },
   {
    "duration": 11,
    "start_time": "2022-02-06T15:02:44.984Z"
   },
   {
    "duration": 55,
    "start_time": "2022-02-06T15:02:44.996Z"
   },
   {
    "duration": 7,
    "start_time": "2022-02-06T15:02:45.052Z"
   },
   {
    "duration": 10,
    "start_time": "2022-02-06T15:02:45.061Z"
   },
   {
    "duration": 18,
    "start_time": "2022-02-06T15:02:45.073Z"
   },
   {
    "duration": 10,
    "start_time": "2022-02-06T15:02:45.092Z"
   },
   {
    "duration": 9,
    "start_time": "2022-02-06T15:02:45.119Z"
   },
   {
    "duration": 3977,
    "start_time": "2022-02-06T15:02:45.130Z"
   },
   {
    "duration": 17,
    "start_time": "2022-02-06T15:02:49.109Z"
   },
   {
    "duration": 30,
    "start_time": "2022-02-06T15:02:49.127Z"
   },
   {
    "duration": 26,
    "start_time": "2022-02-06T15:02:49.159Z"
   },
   {
    "duration": 34,
    "start_time": "2022-02-06T15:02:49.187Z"
   },
   {
    "duration": 4,
    "start_time": "2022-02-06T15:02:49.224Z"
   },
   {
    "duration": 10,
    "start_time": "2022-02-06T15:02:49.230Z"
   },
   {
    "duration": 6,
    "start_time": "2022-02-06T15:02:49.241Z"
   },
   {
    "duration": 7,
    "start_time": "2022-02-06T15:02:49.249Z"
   },
   {
    "duration": 16,
    "start_time": "2022-02-06T15:02:49.258Z"
   },
   {
    "duration": 13,
    "start_time": "2022-02-06T15:02:49.276Z"
   },
   {
    "duration": 28,
    "start_time": "2022-02-06T15:02:49.291Z"
   },
   {
    "duration": 5,
    "start_time": "2022-02-06T15:02:49.321Z"
   },
   {
    "duration": 7,
    "start_time": "2022-02-06T15:02:49.327Z"
   },
   {
    "duration": 12,
    "start_time": "2022-02-06T15:02:49.336Z"
   },
   {
    "duration": 18,
    "start_time": "2022-02-06T15:02:49.350Z"
   },
   {
    "duration": 419,
    "start_time": "2022-02-06T15:02:49.370Z"
   },
   {
    "duration": 5,
    "start_time": "2022-02-06T15:02:49.791Z"
   },
   {
    "duration": 7,
    "start_time": "2022-02-06T15:02:49.797Z"
   },
   {
    "duration": 7,
    "start_time": "2022-02-06T15:02:49.818Z"
   },
   {
    "duration": 22,
    "start_time": "2022-02-06T15:02:49.827Z"
   },
   {
    "duration": 7,
    "start_time": "2022-02-06T15:02:49.851Z"
   },
   {
    "duration": 6,
    "start_time": "2022-02-06T15:02:49.860Z"
   },
   {
    "duration": 11,
    "start_time": "2022-02-06T15:02:49.868Z"
   },
   {
    "duration": 43,
    "start_time": "2022-02-06T15:02:49.880Z"
   },
   {
    "duration": 10,
    "start_time": "2022-02-06T15:02:49.926Z"
   },
   {
    "duration": 9,
    "start_time": "2022-02-06T15:02:49.938Z"
   },
   {
    "duration": 10,
    "start_time": "2022-02-06T15:02:49.949Z"
   },
   {
    "duration": 59,
    "start_time": "2022-02-06T15:02:49.961Z"
   },
   {
    "duration": 9,
    "start_time": "2022-02-06T15:02:50.022Z"
   },
   {
    "duration": 12,
    "start_time": "2022-02-06T15:02:50.033Z"
   },
   {
    "duration": 5,
    "start_time": "2022-02-06T15:02:50.047Z"
   },
   {
    "duration": 15,
    "start_time": "2022-02-06T15:02:50.054Z"
   },
   {
    "duration": 47,
    "start_time": "2022-02-06T15:02:50.071Z"
   },
   {
    "duration": 14,
    "start_time": "2022-02-06T15:02:50.121Z"
   },
   {
    "duration": 659,
    "start_time": "2022-02-06T15:02:50.137Z"
   },
   {
    "duration": 23,
    "start_time": "2022-02-06T15:02:50.798Z"
   },
   {
    "duration": 15,
    "start_time": "2022-02-06T15:02:50.823Z"
   },
   {
    "duration": 14,
    "start_time": "2022-02-06T15:02:50.840Z"
   },
   {
    "duration": 14,
    "start_time": "2022-02-06T15:02:50.856Z"
   },
   {
    "duration": 16,
    "start_time": "2022-02-06T15:02:50.872Z"
   },
   {
    "duration": 14,
    "start_time": "2022-02-06T15:02:50.919Z"
   },
   {
    "duration": 15,
    "start_time": "2022-02-06T15:02:50.935Z"
   },
   {
    "duration": 94,
    "start_time": "2022-02-06T15:03:07.879Z"
   },
   {
    "duration": 84,
    "start_time": "2022-02-06T15:03:12.938Z"
   },
   {
    "duration": 10,
    "start_time": "2022-02-06T15:03:24.200Z"
   },
   {
    "duration": 10,
    "start_time": "2022-02-06T15:03:32.529Z"
   },
   {
    "duration": 10,
    "start_time": "2022-02-06T15:03:51.717Z"
   },
   {
    "duration": 12,
    "start_time": "2022-02-06T15:03:53.869Z"
   },
   {
    "duration": 648,
    "start_time": "2022-02-06T15:05:09.066Z"
   },
   {
    "duration": 10,
    "start_time": "2022-02-06T15:05:09.716Z"
   },
   {
    "duration": 31,
    "start_time": "2022-02-06T15:05:09.729Z"
   },
   {
    "duration": 4,
    "start_time": "2022-02-06T15:05:09.762Z"
   },
   {
    "duration": 14,
    "start_time": "2022-02-06T15:05:09.768Z"
   },
   {
    "duration": 18,
    "start_time": "2022-02-06T15:05:09.784Z"
   },
   {
    "duration": 18,
    "start_time": "2022-02-06T15:05:09.804Z"
   },
   {
    "duration": 24,
    "start_time": "2022-02-06T15:05:09.824Z"
   },
   {
    "duration": 11,
    "start_time": "2022-02-06T15:05:09.851Z"
   },
   {
    "duration": 6,
    "start_time": "2022-02-06T15:05:09.864Z"
   },
   {
    "duration": 20,
    "start_time": "2022-02-06T15:05:09.872Z"
   },
   {
    "duration": 47,
    "start_time": "2022-02-06T15:05:09.894Z"
   },
   {
    "duration": 6,
    "start_time": "2022-02-06T15:05:09.943Z"
   },
   {
    "duration": 7,
    "start_time": "2022-02-06T15:05:09.951Z"
   },
   {
    "duration": 8,
    "start_time": "2022-02-06T15:05:09.959Z"
   },
   {
    "duration": 8,
    "start_time": "2022-02-06T15:05:09.968Z"
   },
   {
    "duration": 9,
    "start_time": "2022-02-06T15:05:09.977Z"
   },
   {
    "duration": 4215,
    "start_time": "2022-02-06T15:05:09.987Z"
   },
   {
    "duration": 21,
    "start_time": "2022-02-06T15:05:14.204Z"
   },
   {
    "duration": 25,
    "start_time": "2022-02-06T15:05:14.227Z"
   },
   {
    "duration": 21,
    "start_time": "2022-02-06T15:05:14.254Z"
   },
   {
    "duration": 16,
    "start_time": "2022-02-06T15:05:14.277Z"
   },
   {
    "duration": 23,
    "start_time": "2022-02-06T15:05:14.298Z"
   },
   {
    "duration": 15,
    "start_time": "2022-02-06T15:05:14.323Z"
   },
   {
    "duration": 7,
    "start_time": "2022-02-06T15:05:14.340Z"
   },
   {
    "duration": 5,
    "start_time": "2022-02-06T15:05:14.349Z"
   },
   {
    "duration": 11,
    "start_time": "2022-02-06T15:05:14.356Z"
   },
   {
    "duration": 8,
    "start_time": "2022-02-06T15:05:14.368Z"
   },
   {
    "duration": 9,
    "start_time": "2022-02-06T15:05:14.378Z"
   },
   {
    "duration": 7,
    "start_time": "2022-02-06T15:05:14.388Z"
   },
   {
    "duration": 24,
    "start_time": "2022-02-06T15:05:14.397Z"
   },
   {
    "duration": 9,
    "start_time": "2022-02-06T15:05:14.423Z"
   },
   {
    "duration": 12,
    "start_time": "2022-02-06T15:05:14.433Z"
   },
   {
    "duration": 375,
    "start_time": "2022-02-06T15:05:14.446Z"
   },
   {
    "duration": 5,
    "start_time": "2022-02-06T15:05:14.823Z"
   },
   {
    "duration": 6,
    "start_time": "2022-02-06T15:05:14.830Z"
   },
   {
    "duration": 12,
    "start_time": "2022-02-06T15:05:14.837Z"
   },
   {
    "duration": 26,
    "start_time": "2022-02-06T15:05:14.851Z"
   },
   {
    "duration": 6,
    "start_time": "2022-02-06T15:05:14.879Z"
   },
   {
    "duration": 5,
    "start_time": "2022-02-06T15:05:14.886Z"
   },
   {
    "duration": 9,
    "start_time": "2022-02-06T15:05:14.919Z"
   },
   {
    "duration": 9,
    "start_time": "2022-02-06T15:05:14.930Z"
   },
   {
    "duration": 9,
    "start_time": "2022-02-06T15:05:14.940Z"
   },
   {
    "duration": 8,
    "start_time": "2022-02-06T15:05:14.950Z"
   },
   {
    "duration": 8,
    "start_time": "2022-02-06T15:05:14.960Z"
   },
   {
    "duration": 390,
    "start_time": "2022-02-06T15:05:14.970Z"
   },
   {
    "duration": 445,
    "start_time": "2022-02-06T15:05:14.917Z"
   },
   {
    "duration": 437,
    "start_time": "2022-02-06T15:05:14.926Z"
   },
   {
    "duration": 433,
    "start_time": "2022-02-06T15:05:14.932Z"
   },
   {
    "duration": 427,
    "start_time": "2022-02-06T15:05:14.939Z"
   },
   {
    "duration": 419,
    "start_time": "2022-02-06T15:05:14.949Z"
   },
   {
    "duration": 409,
    "start_time": "2022-02-06T15:05:14.960Z"
   },
   {
    "duration": 405,
    "start_time": "2022-02-06T15:05:14.966Z"
   },
   {
    "duration": 395,
    "start_time": "2022-02-06T15:05:14.977Z"
   },
   {
    "duration": 391,
    "start_time": "2022-02-06T15:05:14.983Z"
   },
   {
    "duration": 381,
    "start_time": "2022-02-06T15:05:14.995Z"
   },
   {
    "duration": 372,
    "start_time": "2022-02-06T15:05:15.005Z"
   },
   {
    "duration": 359,
    "start_time": "2022-02-06T15:05:15.020Z"
   },
   {
    "duration": 353,
    "start_time": "2022-02-06T15:05:15.027Z"
   },
   {
    "duration": 345,
    "start_time": "2022-02-06T15:05:15.037Z"
   },
   {
    "duration": 337,
    "start_time": "2022-02-06T15:05:15.046Z"
   },
   {
    "duration": 28,
    "start_time": "2022-02-06T15:05:47.943Z"
   },
   {
    "duration": 14,
    "start_time": "2022-02-06T15:07:05.914Z"
   },
   {
    "duration": 11,
    "start_time": "2022-02-06T15:07:12.009Z"
   },
   {
    "duration": 652,
    "start_time": "2022-02-06T15:24:28.622Z"
   },
   {
    "duration": 73,
    "start_time": "2022-02-06T15:24:29.277Z"
   },
   {
    "duration": 12,
    "start_time": "2022-02-06T15:24:29.353Z"
   },
   {
    "duration": 55,
    "start_time": "2022-02-06T15:24:29.368Z"
   },
   {
    "duration": 28,
    "start_time": "2022-02-06T15:24:29.425Z"
   },
   {
    "duration": 14,
    "start_time": "2022-02-06T15:24:29.455Z"
   },
   {
    "duration": 8,
    "start_time": "2022-02-06T15:24:30.465Z"
   },
   {
    "duration": 27,
    "start_time": "2022-02-06T15:24:30.475Z"
   },
   {
    "duration": 3614,
    "start_time": "2022-02-06T15:24:30.504Z"
   },
   {
    "duration": 7,
    "start_time": "2022-02-06T15:24:34.121Z"
   },
   {
    "duration": 25,
    "start_time": "2022-02-06T15:24:34.130Z"
   },
   {
    "duration": 21,
    "start_time": "2022-02-06T15:24:34.157Z"
   },
   {
    "duration": 44,
    "start_time": "2022-02-06T15:24:34.180Z"
   },
   {
    "duration": 5,
    "start_time": "2022-02-06T15:24:34.226Z"
   },
   {
    "duration": 14,
    "start_time": "2022-02-06T15:24:34.233Z"
   },
   {
    "duration": 6,
    "start_time": "2022-02-06T15:24:34.249Z"
   },
   {
    "duration": 9,
    "start_time": "2022-02-06T15:24:34.257Z"
   },
   {
    "duration": 5,
    "start_time": "2022-02-06T15:24:34.268Z"
   },
   {
    "duration": 3,
    "start_time": "2022-02-06T15:24:34.275Z"
   },
   {
    "duration": 47,
    "start_time": "2022-02-06T15:24:34.281Z"
   },
   {
    "duration": 407,
    "start_time": "2022-02-06T15:24:34.330Z"
   },
   {
    "duration": 7,
    "start_time": "2022-02-06T15:24:34.739Z"
   },
   {
    "duration": 16,
    "start_time": "2022-02-06T15:24:34.748Z"
   },
   {
    "duration": 31,
    "start_time": "2022-02-06T15:24:34.766Z"
   },
   {
    "duration": 12,
    "start_time": "2022-02-06T15:24:34.799Z"
   },
   {
    "duration": 5,
    "start_time": "2022-02-06T15:24:34.819Z"
   },
   {
    "duration": 18,
    "start_time": "2022-02-06T15:24:34.826Z"
   },
   {
    "duration": 12,
    "start_time": "2022-02-06T15:24:34.846Z"
   },
   {
    "duration": 11,
    "start_time": "2022-02-06T15:24:34.860Z"
   },
   {
    "duration": 687,
    "start_time": "2022-02-06T15:24:34.873Z"
   },
   {
    "duration": 11,
    "start_time": "2022-02-06T15:24:35.562Z"
   },
   {
    "duration": 18,
    "start_time": "2022-02-06T15:24:35.575Z"
   },
   {
    "duration": 38,
    "start_time": "2022-02-06T15:24:35.594Z"
   },
   {
    "duration": 31,
    "start_time": "2022-02-06T15:24:35.634Z"
   },
   {
    "duration": 15,
    "start_time": "2022-02-06T15:24:35.667Z"
   }
  ],
  "kernelspec": {
   "display_name": "Python 3",
   "language": "python",
   "name": "python3"
  },
  "language_info": {
   "codemirror_mode": {
    "name": "ipython",
    "version": 3
   },
   "file_extension": ".py",
   "mimetype": "text/x-python",
   "name": "python",
   "nbconvert_exporter": "python",
   "pygments_lexer": "ipython3",
   "version": "3.7.8"
  },
  "toc": {
   "base_numbering": 1,
   "nav_menu": {},
   "number_sections": true,
   "sideBar": true,
   "skip_h1_title": true,
   "title_cell": "Table of Contents",
   "title_sidebar": "Contents",
   "toc_cell": false,
   "toc_position": {
    "height": "calc(100% - 180px)",
    "left": "10px",
    "top": "150px",
    "width": "165px"
   },
   "toc_section_display": true,
   "toc_window_display": false
  }
 },
 "nbformat": 4,
 "nbformat_minor": 2
}
