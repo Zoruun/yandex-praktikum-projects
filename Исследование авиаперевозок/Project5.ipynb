{
 "cells": [
  {
   "cell_type": "markdown",
   "metadata": {},
   "source": [
    "# Аналитика в авиакомпании"
   ]
  },
  {
   "cell_type": "markdown",
   "metadata": {},
   "source": [
    "##  Парсер для сбора с сайта данных о крупнейших фестивалях"
   ]
  },
  {
   "cell_type": "code",
   "execution_count": 1,
   "metadata": {},
   "outputs": [],
   "source": [
    "import requests\n",
    "import pandas as pd\n",
    "from bs4 import BeautifulSoup\n",
    "\n",
    "URL = 'https://code.s3.yandex.net/learning-materials/data-analyst/festival_news/index.html'\n",
    "req = requests.get(URL)\n",
    "soup = BeautifulSoup(req.text, 'lxml')\n",
    "\n",
    "table = soup.find('table',attrs={'id': 'best_festivals'})\n",
    "heading_table = [] # Список, в котором будут храниться названия столбцов\n",
    "for row in table.find_all('th'): # Названия столбцов прячутся в элементах th, \n",
    "# поэтому будем искать все элементы th внутри table и пробегать по ним в цикле\n",
    "        heading_table.append(row.text) # Добавляем контент из тега th в список heading_table методом append()\n",
    "\n",
    "content=[] # Список, в котором будут храниться данные из таблицы\n",
    "for row in table.find_all('tr'): \n",
    "# Каждая строка обрамляется тегом tr, необходимо пробежаться в цикле по всем строкам\n",
    "    if not row.find_all('th'): \n",
    "# Эта проверка необходима, чтобы пропустить первую строку таблицы с заголовками\n",
    "            content.append([element.text for element in row.find_all('td')])\n",
    "            # В каждой строке контент ячейки обрамляется тегами <td> </td>\n",
    "            # Необходимо пробежаться в цикле по всем элементам td, вычленить контент из ячеек и добавить его в список \n",
    "            # Затем добавить каждый из списков в список content \n",
    "\n",
    "festivals  = pd.DataFrame(content, columns=heading_table)"
   ]
  },
  {
   "cell_type": "markdown",
   "metadata": {},
   "source": [
    "## SQL запрос для выведения таблицы "
   ]
  },
  {
   "cell_type": "markdown",
   "metadata": {},
   "source": [
    "Для таблицы model_flights\n",
    "\n",
    "SELECT\n",
    "\n",
    "    aircrafts.model AS model,\n",
    "    COUNT(flights.flight_id) AS flights_amount \n",
    "FROM\n",
    "\n",
    "    flights\n",
    "    LEFT JOIN aircrafts  ON aircrafts.aircraft_code = flights.aircraft_code\n",
    "WHERE\n",
    "\n",
    "    CAST(departure_time AS date) BETWEEN '2018-09-01' AND '2018-09-30'\n",
    "GROUP BY\n",
    "\n",
    "    model \n",
    "ORDER BY\n",
    "\n",
    "    flights_amount"
   ]
  },
  {
   "cell_type": "markdown",
   "metadata": {},
   "source": [
    "Для таблицы city_average_flights\n",
    "\n",
    "SELECT\n",
    "\n",
    "    T.city,\n",
    "    AVG(T.flights_amount) AS average_flights\n",
    "FROM (\n",
    "\n",
    "    SELECT\n",
    "        city,\n",
    "        EXTRACT(day FROM flights.arrival_time) AS day_number,\n",
    "        COUNT(flights.flight_id) AS flights_amount\n",
    "    FROM\n",
    "        flights\n",
    "        INNER JOIN airports ON airports.airport_code = flights.arrival_airport\n",
    "    WHERE\n",
    "        CAST(flights.arrival_time AS date) BETWEEN '2018-08-01' AND '2018-08-31'\n",
    "    GROUP BY\n",
    "        city,\n",
    "        day_number) AS T\n",
    "GROUP BY\n",
    "\n",
    "    city;"
   ]
  },
  {
   "cell_type": "markdown",
   "metadata": {},
   "source": [
    "## Работа в python"
   ]
  },
  {
   "cell_type": "code",
   "execution_count": 2,
   "metadata": {},
   "outputs": [],
   "source": [
    "#импортируем необходимые библиотеки\n",
    "import pandas as pd\n",
    "import matplotlib.pyplot as plt\n",
    "import seaborn as sns"
   ]
  },
  {
   "cell_type": "code",
   "execution_count": 3,
   "metadata": {},
   "outputs": [
    {
     "data": {
      "text/html": [
       "<div>\n",
       "<style scoped>\n",
       "    .dataframe tbody tr th:only-of-type {\n",
       "        vertical-align: middle;\n",
       "    }\n",
       "\n",
       "    .dataframe tbody tr th {\n",
       "        vertical-align: top;\n",
       "    }\n",
       "\n",
       "    .dataframe thead th {\n",
       "        text-align: right;\n",
       "    }\n",
       "</style>\n",
       "<table border=\"1\" class=\"dataframe\">\n",
       "  <thead>\n",
       "    <tr style=\"text-align: right;\">\n",
       "      <th></th>\n",
       "      <th>model</th>\n",
       "      <th>flights_amount</th>\n",
       "    </tr>\n",
       "  </thead>\n",
       "  <tbody>\n",
       "    <tr>\n",
       "      <td>0</td>\n",
       "      <td>Airbus A319-100</td>\n",
       "      <td>607</td>\n",
       "    </tr>\n",
       "    <tr>\n",
       "      <td>1</td>\n",
       "      <td>Airbus A321-200</td>\n",
       "      <td>960</td>\n",
       "    </tr>\n",
       "    <tr>\n",
       "      <td>2</td>\n",
       "      <td>Boeing 737-300</td>\n",
       "      <td>630</td>\n",
       "    </tr>\n",
       "    <tr>\n",
       "      <td>3</td>\n",
       "      <td>Boeing 767-300</td>\n",
       "      <td>600</td>\n",
       "    </tr>\n",
       "    <tr>\n",
       "      <td>4</td>\n",
       "      <td>Boeing 777-300</td>\n",
       "      <td>300</td>\n",
       "    </tr>\n",
       "    <tr>\n",
       "      <td>5</td>\n",
       "      <td>Bombardier CRJ-200</td>\n",
       "      <td>4446</td>\n",
       "    </tr>\n",
       "    <tr>\n",
       "      <td>6</td>\n",
       "      <td>Cessna 208 Caravan</td>\n",
       "      <td>4557</td>\n",
       "    </tr>\n",
       "    <tr>\n",
       "      <td>7</td>\n",
       "      <td>Sukhoi SuperJet-100</td>\n",
       "      <td>4185</td>\n",
       "    </tr>\n",
       "  </tbody>\n",
       "</table>\n",
       "</div>"
      ],
      "text/plain": [
       "                 model  flights_amount\n",
       "0      Airbus A319-100             607\n",
       "1      Airbus A321-200             960\n",
       "2       Boeing 737-300             630\n",
       "3       Boeing 767-300             600\n",
       "4       Boeing 777-300             300\n",
       "5   Bombardier CRJ-200            4446\n",
       "6   Cessna 208 Caravan            4557\n",
       "7  Sukhoi SuperJet-100            4185"
      ]
     },
     "execution_count": 3,
     "metadata": {},
     "output_type": "execute_result"
    }
   ],
   "source": [
    "#откроем таблицу с моделями самолётов и количеством полётов на них в сентябре 2018 и выведем её на экран\n",
    "model_flights = pd.read_csv('/datasets/query_1.csv')\n",
    "model_flights"
   ]
  },
  {
   "cell_type": "code",
   "execution_count": 4,
   "metadata": {},
   "outputs": [
    {
     "data": {
      "text/html": [
       "<div>\n",
       "<style scoped>\n",
       "    .dataframe tbody tr th:only-of-type {\n",
       "        vertical-align: middle;\n",
       "    }\n",
       "\n",
       "    .dataframe tbody tr th {\n",
       "        vertical-align: top;\n",
       "    }\n",
       "\n",
       "    .dataframe thead th {\n",
       "        text-align: right;\n",
       "    }\n",
       "</style>\n",
       "<table border=\"1\" class=\"dataframe\">\n",
       "  <thead>\n",
       "    <tr style=\"text-align: right;\">\n",
       "      <th></th>\n",
       "      <th>flights_amount</th>\n",
       "    </tr>\n",
       "  </thead>\n",
       "  <tbody>\n",
       "    <tr>\n",
       "      <td>count</td>\n",
       "      <td>8.000000</td>\n",
       "    </tr>\n",
       "    <tr>\n",
       "      <td>mean</td>\n",
       "      <td>2035.625000</td>\n",
       "    </tr>\n",
       "    <tr>\n",
       "      <td>std</td>\n",
       "      <td>1965.203947</td>\n",
       "    </tr>\n",
       "    <tr>\n",
       "      <td>min</td>\n",
       "      <td>300.000000</td>\n",
       "    </tr>\n",
       "    <tr>\n",
       "      <td>25%</td>\n",
       "      <td>605.250000</td>\n",
       "    </tr>\n",
       "    <tr>\n",
       "      <td>50%</td>\n",
       "      <td>795.000000</td>\n",
       "    </tr>\n",
       "    <tr>\n",
       "      <td>75%</td>\n",
       "      <td>4250.250000</td>\n",
       "    </tr>\n",
       "    <tr>\n",
       "      <td>max</td>\n",
       "      <td>4557.000000</td>\n",
       "    </tr>\n",
       "  </tbody>\n",
       "</table>\n",
       "</div>"
      ],
      "text/plain": [
       "       flights_amount\n",
       "count        8.000000\n",
       "mean      2035.625000\n",
       "std       1965.203947\n",
       "min        300.000000\n",
       "25%        605.250000\n",
       "50%        795.000000\n",
       "75%       4250.250000\n",
       "max       4557.000000"
      ]
     },
     "execution_count": 4,
     "metadata": {},
     "output_type": "execute_result"
    }
   ],
   "source": [
    "# посмотрим основные числовые характеристики для model_flights\n",
    "model_flights.describe()"
   ]
  },
  {
   "cell_type": "code",
   "execution_count": 5,
   "metadata": {},
   "outputs": [
    {
     "name": "stdout",
     "output_type": "stream",
     "text": [
      "<class 'pandas.core.frame.DataFrame'>\n",
      "RangeIndex: 8 entries, 0 to 7\n",
      "Data columns (total 2 columns):\n",
      "model             8 non-null object\n",
      "flights_amount    8 non-null int64\n",
      "dtypes: int64(1), object(1)\n",
      "memory usage: 256.0+ bytes\n"
     ]
    }
   ],
   "source": [
    "# посмотрим основную информацию по таблицу model_flights\n",
    "model_flights.info()"
   ]
  },
  {
   "cell_type": "code",
   "execution_count": 6,
   "metadata": {},
   "outputs": [],
   "source": [
    "model_flights['flights_amount']=model_flights['flights_amount'].astype('int')"
   ]
  },
  {
   "cell_type": "code",
   "execution_count": 7,
   "metadata": {},
   "outputs": [
    {
     "data": {
      "text/html": [
       "<div>\n",
       "<style scoped>\n",
       "    .dataframe tbody tr th:only-of-type {\n",
       "        vertical-align: middle;\n",
       "    }\n",
       "\n",
       "    .dataframe tbody tr th {\n",
       "        vertical-align: top;\n",
       "    }\n",
       "\n",
       "    .dataframe thead th {\n",
       "        text-align: right;\n",
       "    }\n",
       "</style>\n",
       "<table border=\"1\" class=\"dataframe\">\n",
       "  <thead>\n",
       "    <tr style=\"text-align: right;\">\n",
       "      <th></th>\n",
       "      <th>city</th>\n",
       "      <th>average_flights</th>\n",
       "    </tr>\n",
       "  </thead>\n",
       "  <tbody>\n",
       "    <tr>\n",
       "      <td>0</td>\n",
       "      <td>Абакан</td>\n",
       "      <td>3.870968</td>\n",
       "    </tr>\n",
       "    <tr>\n",
       "      <td>1</td>\n",
       "      <td>Анадырь</td>\n",
       "      <td>1.000000</td>\n",
       "    </tr>\n",
       "    <tr>\n",
       "      <td>2</td>\n",
       "      <td>Анапа</td>\n",
       "      <td>2.161290</td>\n",
       "    </tr>\n",
       "    <tr>\n",
       "      <td>3</td>\n",
       "      <td>Архангельск</td>\n",
       "      <td>5.354839</td>\n",
       "    </tr>\n",
       "    <tr>\n",
       "      <td>4</td>\n",
       "      <td>Астрахань</td>\n",
       "      <td>2.451613</td>\n",
       "    </tr>\n",
       "  </tbody>\n",
       "</table>\n",
       "</div>"
      ],
      "text/plain": [
       "          city  average_flights\n",
       "0       Абакан         3.870968\n",
       "1      Анадырь         1.000000\n",
       "2        Анапа         2.161290\n",
       "3  Архангельск         5.354839\n",
       "4    Астрахань         2.451613"
      ]
     },
     "execution_count": 7,
     "metadata": {},
     "output_type": "execute_result"
    }
   ],
   "source": [
    "#откроем таблицу с городом и средним количеством входящих полётов в августе 2018 года и выведем её на экран\n",
    "city_average_flights = pd.read_csv('/datasets/query_3.csv')\n",
    "city_average_flights.head()"
   ]
  },
  {
   "cell_type": "code",
   "execution_count": 8,
   "metadata": {},
   "outputs": [
    {
     "data": {
      "text/html": [
       "<div>\n",
       "<style scoped>\n",
       "    .dataframe tbody tr th:only-of-type {\n",
       "        vertical-align: middle;\n",
       "    }\n",
       "\n",
       "    .dataframe tbody tr th {\n",
       "        vertical-align: top;\n",
       "    }\n",
       "\n",
       "    .dataframe thead th {\n",
       "        text-align: right;\n",
       "    }\n",
       "</style>\n",
       "<table border=\"1\" class=\"dataframe\">\n",
       "  <thead>\n",
       "    <tr style=\"text-align: right;\">\n",
       "      <th></th>\n",
       "      <th>average_flights</th>\n",
       "    </tr>\n",
       "  </thead>\n",
       "  <tbody>\n",
       "    <tr>\n",
       "      <td>count</td>\n",
       "      <td>101.000000</td>\n",
       "    </tr>\n",
       "    <tr>\n",
       "      <td>mean</td>\n",
       "      <td>5.494189</td>\n",
       "    </tr>\n",
       "    <tr>\n",
       "      <td>std</td>\n",
       "      <td>13.119790</td>\n",
       "    </tr>\n",
       "    <tr>\n",
       "      <td>min</td>\n",
       "      <td>1.000000</td>\n",
       "    </tr>\n",
       "    <tr>\n",
       "      <td>25%</td>\n",
       "      <td>2.000000</td>\n",
       "    </tr>\n",
       "    <tr>\n",
       "      <td>50%</td>\n",
       "      <td>3.000000</td>\n",
       "    </tr>\n",
       "    <tr>\n",
       "      <td>75%</td>\n",
       "      <td>5.870968</td>\n",
       "    </tr>\n",
       "    <tr>\n",
       "      <td>max</td>\n",
       "      <td>129.774194</td>\n",
       "    </tr>\n",
       "  </tbody>\n",
       "</table>\n",
       "</div>"
      ],
      "text/plain": [
       "       average_flights\n",
       "count       101.000000\n",
       "mean          5.494189\n",
       "std          13.119790\n",
       "min           1.000000\n",
       "25%           2.000000\n",
       "50%           3.000000\n",
       "75%           5.870968\n",
       "max         129.774194"
      ]
     },
     "execution_count": 8,
     "metadata": {},
     "output_type": "execute_result"
    }
   ],
   "source": [
    "# посмотрим основные числовые характеристики для city_average_flights\n",
    "city_average_flights.describe()"
   ]
  },
  {
   "cell_type": "code",
   "execution_count": 9,
   "metadata": {},
   "outputs": [
    {
     "name": "stdout",
     "output_type": "stream",
     "text": [
      "<class 'pandas.core.frame.DataFrame'>\n",
      "RangeIndex: 101 entries, 0 to 100\n",
      "Data columns (total 2 columns):\n",
      "city               101 non-null object\n",
      "average_flights    101 non-null float64\n",
      "dtypes: float64(1), object(1)\n",
      "memory usage: 1.7+ KB\n"
     ]
    }
   ],
   "source": [
    "# посмотрим основную информацию по таблицу city_average_flights\n",
    "city_average_flights.info()"
   ]
  },
  {
   "cell_type": "markdown",
   "metadata": {},
   "source": [
    "### Вывод"
   ]
  },
  {
   "cell_type": "markdown",
   "metadata": {},
   "source": [
    "У нас есть две таблицы:\n",
    " 1) Таблица с моделью самолёта и количество полётом на них в сентябре 2018 года\n",
    " \n",
    "В ней 2 столбца:\n",
    " - model — модели самолета\n",
    " - flights_amount — количество рейсов для каждой модели самолетов model в сентябре 2018 года\n",
    "\n",
    "И 7 строк, нет ни одного пропуска.\n",
    "\n",
    "Столбец модели имеет тип данных object, стобец с количеством рейсой имел тип данных float64 (с плавающей запятой), я заменила его на int64 (целочисленный), ведь не может быть количество полётов 1/2.\n",
    "\n",
    " 2) Таблица с городом и средним количеством входящих авиасообщений в день за август 2018 года\n",
    "\n",
    "В ней 2 стоблца:\n",
    " - city — городах\n",
    " - average_flights — среднем количестве рейсов, прибывающих в город city за день в августе 2018 года\n",
    "\n",
    "и 100 строк, где нет ни одного пропуска.\n",
    "\n",
    "Столбец года  имеет тип данных object, стобец с количеством рейсой имеет тип данных float64."
   ]
  },
  {
   "cell_type": "markdown",
   "metadata": {},
   "source": [
    "## Исследовательский анализ данных"
   ]
  },
  {
   "cell_type": "markdown",
   "metadata": {},
   "source": [
    "### Топ-10 городов по количеству рейсов"
   ]
  },
  {
   "cell_type": "code",
   "execution_count": 10,
   "metadata": {},
   "outputs": [
    {
     "data": {
      "text/html": [
       "<div>\n",
       "<style scoped>\n",
       "    .dataframe tbody tr th:only-of-type {\n",
       "        vertical-align: middle;\n",
       "    }\n",
       "\n",
       "    .dataframe tbody tr th {\n",
       "        vertical-align: top;\n",
       "    }\n",
       "\n",
       "    .dataframe thead th {\n",
       "        text-align: right;\n",
       "    }\n",
       "</style>\n",
       "<table border=\"1\" class=\"dataframe\">\n",
       "  <thead>\n",
       "    <tr style=\"text-align: right;\">\n",
       "      <th></th>\n",
       "      <th>city</th>\n",
       "      <th>average_flights</th>\n",
       "    </tr>\n",
       "  </thead>\n",
       "  <tbody>\n",
       "    <tr>\n",
       "      <td>43</td>\n",
       "      <td>Москва</td>\n",
       "      <td>129.774194</td>\n",
       "    </tr>\n",
       "    <tr>\n",
       "      <td>70</td>\n",
       "      <td>Санкт-Петербург</td>\n",
       "      <td>31.161290</td>\n",
       "    </tr>\n",
       "    <tr>\n",
       "      <td>54</td>\n",
       "      <td>Новосибирск</td>\n",
       "      <td>17.322581</td>\n",
       "    </tr>\n",
       "    <tr>\n",
       "      <td>33</td>\n",
       "      <td>Красноярск</td>\n",
       "      <td>11.580645</td>\n",
       "    </tr>\n",
       "    <tr>\n",
       "      <td>20</td>\n",
       "      <td>Екатеринбург</td>\n",
       "      <td>11.322581</td>\n",
       "    </tr>\n",
       "    <tr>\n",
       "      <td>67</td>\n",
       "      <td>Ростов-на-Дону</td>\n",
       "      <td>10.193548</td>\n",
       "    </tr>\n",
       "    <tr>\n",
       "      <td>63</td>\n",
       "      <td>Пермь</td>\n",
       "      <td>10.129032</td>\n",
       "    </tr>\n",
       "    <tr>\n",
       "      <td>10</td>\n",
       "      <td>Брянск</td>\n",
       "      <td>10.000000</td>\n",
       "    </tr>\n",
       "    <tr>\n",
       "      <td>74</td>\n",
       "      <td>Сочи</td>\n",
       "      <td>9.612903</td>\n",
       "    </tr>\n",
       "    <tr>\n",
       "      <td>84</td>\n",
       "      <td>Ульяновск</td>\n",
       "      <td>9.580645</td>\n",
       "    </tr>\n",
       "  </tbody>\n",
       "</table>\n",
       "</div>"
      ],
      "text/plain": [
       "               city  average_flights\n",
       "43           Москва       129.774194\n",
       "70  Санкт-Петербург        31.161290\n",
       "54      Новосибирск        17.322581\n",
       "33       Красноярск        11.580645\n",
       "20     Екатеринбург        11.322581\n",
       "67   Ростов-на-Дону        10.193548\n",
       "63            Пермь        10.129032\n",
       "10           Брянск        10.000000\n",
       "74             Сочи         9.612903\n",
       "84        Ульяновск         9.580645"
      ]
     },
     "execution_count": 10,
     "metadata": {},
     "output_type": "execute_result"
    }
   ],
   "source": [
    "# Посмотрим нашу таблицу city_average_flights на первые 10 строчек по убыванию\n",
    "# чтобы выяснить, 10 городов, с самым большим средним входящим потоком авиасообщений за август 2018 года\n",
    "\n",
    "city_average_flights.sort_values(by = 'average_flights', ascending = False).head(10)"
   ]
  },
  {
   "cell_type": "code",
   "execution_count": 11,
   "metadata": {},
   "outputs": [],
   "source": [
    "# Создадим переменную с перечислением наших 10 городов\n",
    "top_10_city = [\n",
    "    'Москва', 'Санкт-Петербург', 'Новосибирск', 'Красноярск', 'Екатеринбург',\n",
    "    'Ростов-на-Дону', 'Пермь', 'Брянск', 'Сочи', 'Ульяновск']\n",
    "\n",
    "# Создадим новую таблицу, в которой будет информация по играм из 5 платформ\n",
    "top_10_city_average_flights = city_average_flights.query('city == @top_10_city')"
   ]
  },
  {
   "cell_type": "markdown",
   "metadata": {},
   "source": [
    "### Построение графиков"
   ]
  },
  {
   "cell_type": "code",
   "execution_count": 12,
   "metadata": {},
   "outputs": [
    {
     "data": {
      "image/png": "[encoded data removed]",
      "text/plain": [
       "<Figure size 432x288 with 1 Axes>"
      ]
     },
     "metadata": {
      "needs_background": "light"
     },
     "output_type": "display_data"
    }
   ],
   "source": [
    "# Построим график для таблицы model_flights\n",
    "model_flights.pivot_table(index='model', values='flights_amount')\\\n",
    ".sort_values('flights_amount', ascending = True)\\\n",
    ".plot(kind='barh');"
   ]
  },
  {
   "cell_type": "markdown",
   "metadata": {},
   "source": [
    "По данному графику видим, что модели самолётов такие как Cessna 208 Caravan, Bombardier CRJ-200 и Sukhoi SuperJet-100 имеют самое большое количество полётов в месяц.\t\n",
    "\n",
    "Скорее всего это связано с тем, что у малогабаритных воздушных суден эксплуатация проще, чем у крупногабаритных."
   ]
  },
  {
   "cell_type": "code",
   "execution_count": 13,
   "metadata": {},
   "outputs": [
    {
     "data": {
      "image/png": "[encoded data removed]",
      "text/plain": [
       "<Figure size 1152x360 with 1 Axes>"
      ]
     },
     "metadata": {
      "needs_background": "light"
     },
     "output_type": "display_data"
    }
   ],
   "source": [
    "# Построим график для таблицы city_average_flights\n",
    "city_average_flights.pivot_table(index='city', values='average_flights').plot(kind='bar', figsize=(16, 5));"
   ]
  },
  {
   "cell_type": "markdown",
   "metadata": {},
   "source": [
    "По данному графику мы видим, что самое большое количество входящих авиасообщений имеет Москва, Санкт-Петербург и Новороссийск, но по топ 10 городам, мы рассмотрим следующий графк. По России, если не бракть крупные города, мало развито авиасообщение, в целом менее 5 самолётов в день прилётает в города."
   ]
  },
  {
   "cell_type": "code",
   "execution_count": 14,
   "metadata": {},
   "outputs": [
    {
     "data": {
      "image/png": "[encoded data removed]",
      "text/plain": [
       "<Figure size 1080x432 with 1 Axes>"
      ]
     },
     "metadata": {
      "needs_background": "light"
     },
     "output_type": "display_data"
    }
   ],
   "source": [
    "# Построим график для таблицы model_flights\n",
    "top_10_city_average_flights\\\n",
    ".sort_values('average_flights', ascending = True)\\\n",
    ".plot(x='city', y='average_flights', figsize=(15,6), kind='barh');"
   ]
  },
  {
   "cell_type": "markdown",
   "metadata": {},
   "source": [
    "В целом, если не брать в расчёт Москву, в то 10 городов прилетаемт около 10 авиасообщений в день. \n",
    "\n",
    "Лидируют города, которые являют крупными транспортными узлами и/или имеют важное экономическое значение."
   ]
  },
  {
   "cell_type": "markdown",
   "metadata": {},
   "source": [
    "## Общий вывод"
   ]
  },
  {
   "cell_type": "markdown",
   "metadata": {},
   "source": [
    "На России самые распространённые модели самолётов это Bombardier CRJ-200, Cessna 208 Caravan и Sukhoi SuperJet-100.\n",
    "\n",
    "Больше всего самолётов в день принимают такие города как Москва (более 120 самолётов в день) и Санкт-Петербург (чуть больше 30 самолётов в день).\n",
    "\n",
    "По всем остальным городам можно судить, что авиасообщение в России развито плохо, в среднем это менее 5 входящих самолётов в день."
   ]
  }
 ],
 "metadata": {
  "ExecuteTimeLog": [
   {
    "duration": 1876,
    "start_time": "2021-07-04T08:33:03.982Z"
   },
   {
    "duration": 27,
    "start_time": "2021-07-04T08:34:05.180Z"
   },
   {
    "duration": 19,
    "start_time": "2021-07-04T08:34:46.946Z"
   },
   {
    "duration": 18,
    "start_time": "2021-07-04T08:35:18.682Z"
   },
   {
    "duration": 19,
    "start_time": "2021-07-04T08:35:44.938Z"
   },
   {
    "duration": 557,
    "start_time": "2021-07-04T08:37:51.203Z"
   },
   {
    "duration": 20,
    "start_time": "2021-07-04T08:37:53.452Z"
   },
   {
    "duration": 233,
    "start_time": "2021-07-04T08:38:56.782Z"
   },
   {
    "duration": 12,
    "start_time": "2021-07-04T08:39:05.142Z"
   },
   {
    "duration": 6,
    "start_time": "2021-07-04T08:39:10.794Z"
   },
   {
    "duration": 12,
    "start_time": "2021-07-04T08:39:51.658Z"
   },
   {
    "duration": 6,
    "start_time": "2021-07-04T08:39:53.633Z"
   },
   {
    "duration": 12,
    "start_time": "2021-07-04T08:40:07.895Z"
   },
   {
    "duration": 6,
    "start_time": "2021-07-04T08:40:10.009Z"
   },
   {
    "duration": 20,
    "start_time": "2021-07-04T08:42:25.713Z"
   },
   {
    "duration": 3,
    "start_time": "2021-07-04T08:48:13.959Z"
   },
   {
    "duration": 6,
    "start_time": "2021-07-04T08:48:19.711Z"
   },
   {
    "duration": 582,
    "start_time": "2021-07-04T08:50:16.159Z"
   },
   {
    "duration": 11,
    "start_time": "2021-07-04T08:50:16.742Z"
   },
   {
    "duration": 10,
    "start_time": "2021-07-04T08:50:16.755Z"
   },
   {
    "duration": 4,
    "start_time": "2021-07-04T08:50:16.767Z"
   },
   {
    "duration": 21,
    "start_time": "2021-07-04T08:50:16.773Z"
   },
   {
    "duration": 9,
    "start_time": "2021-07-04T08:50:16.796Z"
   },
   {
    "duration": 8,
    "start_time": "2021-07-04T08:50:16.807Z"
   },
   {
    "duration": 238,
    "start_time": "2021-07-04T08:55:20.834Z"
   },
   {
    "duration": 12,
    "start_time": "2021-07-04T08:55:45.714Z"
   },
   {
    "duration": 9,
    "start_time": "2021-07-04T08:55:59.584Z"
   },
   {
    "duration": 6,
    "start_time": "2021-07-04T08:57:58.625Z"
   },
   {
    "duration": 220,
    "start_time": "2021-07-04T09:00:10.951Z"
   },
   {
    "duration": 585,
    "start_time": "2021-07-04T09:00:28.537Z"
   },
   {
    "duration": 10,
    "start_time": "2021-07-04T09:00:29.124Z"
   },
   {
    "duration": 5,
    "start_time": "2021-07-04T09:00:29.136Z"
   },
   {
    "duration": 9,
    "start_time": "2021-07-04T09:00:29.143Z"
   },
   {
    "duration": 22,
    "start_time": "2021-07-04T09:00:29.153Z"
   },
   {
    "duration": 11,
    "start_time": "2021-07-04T09:00:29.176Z"
   },
   {
    "duration": 8,
    "start_time": "2021-07-04T09:00:29.188Z"
   },
   {
    "duration": 9,
    "start_time": "2021-07-04T09:00:29.198Z"
   },
   {
    "duration": 5,
    "start_time": "2021-07-04T09:00:29.208Z"
   },
   {
    "duration": 974,
    "start_time": "2021-07-04T09:00:29.215Z"
   },
   {
    "duration": 1041,
    "start_time": "2021-07-04T09:00:47.407Z"
   },
   {
    "duration": 12,
    "start_time": "2021-07-04T09:00:48.450Z"
   },
   {
    "duration": 7,
    "start_time": "2021-07-04T09:00:48.464Z"
   },
   {
    "duration": 11,
    "start_time": "2021-07-04T09:00:48.473Z"
   },
   {
    "duration": 20,
    "start_time": "2021-07-04T09:00:48.486Z"
   },
   {
    "duration": 12,
    "start_time": "2021-07-04T09:00:48.508Z"
   },
   {
    "duration": 13,
    "start_time": "2021-07-04T09:00:48.522Z"
   },
   {
    "duration": 9,
    "start_time": "2021-07-04T09:00:48.537Z"
   },
   {
    "duration": 6,
    "start_time": "2021-07-04T09:00:48.548Z"
   },
   {
    "duration": 1150,
    "start_time": "2021-07-04T09:00:48.555Z"
   },
   {
    "duration": 284,
    "start_time": "2021-07-04T09:01:22.279Z"
   },
   {
    "duration": 615,
    "start_time": "2021-07-04T09:01:30.149Z"
   },
   {
    "duration": 536,
    "start_time": "2021-07-04T09:02:26.628Z"
   },
   {
    "duration": 199,
    "start_time": "2021-07-04T09:02:49.114Z"
   },
   {
    "duration": 165,
    "start_time": "2021-07-04T09:04:01.101Z"
   },
   {
    "duration": 185,
    "start_time": "2021-07-04T09:04:25.253Z"
   },
   {
    "duration": 169,
    "start_time": "2021-07-04T09:04:29.804Z"
   },
   {
    "duration": 1170,
    "start_time": "2021-07-04T09:05:30.039Z"
   },
   {
    "duration": 1024,
    "start_time": "2021-07-04T09:06:11.526Z"
   },
   {
    "duration": 1093,
    "start_time": "2021-07-04T09:06:24.620Z"
   },
   {
    "duration": 1036,
    "start_time": "2021-07-04T09:06:38.013Z"
   },
   {
    "duration": 11,
    "start_time": "2021-07-04T09:06:39.051Z"
   },
   {
    "duration": 6,
    "start_time": "2021-07-04T09:06:39.066Z"
   },
   {
    "duration": 12,
    "start_time": "2021-07-04T09:06:39.073Z"
   },
   {
    "duration": 20,
    "start_time": "2021-07-04T09:06:39.086Z"
   },
   {
    "duration": 12,
    "start_time": "2021-07-04T09:06:39.107Z"
   },
   {
    "duration": 7,
    "start_time": "2021-07-04T09:06:39.121Z"
   },
   {
    "duration": 12,
    "start_time": "2021-07-04T09:06:39.129Z"
   },
   {
    "duration": 5,
    "start_time": "2021-07-04T09:06:39.142Z"
   },
   {
    "duration": 1226,
    "start_time": "2021-07-04T09:06:39.149Z"
   },
   {
    "duration": 36,
    "start_time": "2021-07-04T09:06:40.349Z"
   },
   {
    "duration": 161,
    "start_time": "2021-07-04T09:06:48.696Z"
   },
   {
    "duration": 1902,
    "start_time": "2021-07-04T09:07:10.272Z"
   },
   {
    "duration": 546,
    "start_time": "2021-07-04T09:08:30.470Z"
   },
   {
    "duration": 468,
    "start_time": "2021-07-04T09:08:56.476Z"
   },
   {
    "duration": 481,
    "start_time": "2021-07-04T09:09:57.394Z"
   },
   {
    "duration": 497,
    "start_time": "2021-07-04T09:10:14.978Z"
   },
   {
    "duration": 485,
    "start_time": "2021-07-04T09:10:21.136Z"
   },
   {
    "duration": 86,
    "start_time": "2021-07-04T09:10:43.683Z"
   },
   {
    "duration": 488,
    "start_time": "2021-07-04T09:10:56.726Z"
   },
   {
    "duration": 562,
    "start_time": "2021-07-04T09:11:13.544Z"
   },
   {
    "duration": 480,
    "start_time": "2021-07-04T09:11:20.994Z"
   },
   {
    "duration": 349,
    "start_time": "2021-07-04T09:11:27.415Z"
   },
   {
    "duration": 390,
    "start_time": "2021-07-04T09:11:36.232Z"
   },
   {
    "duration": 345,
    "start_time": "2021-07-04T09:11:42.645Z"
   },
   {
    "duration": 473,
    "start_time": "2021-07-04T09:11:49.021Z"
   },
   {
    "duration": 342,
    "start_time": "2021-07-04T09:14:01.962Z"
   },
   {
    "duration": 177,
    "start_time": "2021-07-04T09:14:53.814Z"
   },
   {
    "duration": 368,
    "start_time": "2021-07-04T09:15:23.518Z"
   },
   {
    "duration": 450,
    "start_time": "2021-07-04T09:15:49.342Z"
   },
   {
    "duration": 198,
    "start_time": "2021-07-04T09:20:22.490Z"
   },
   {
    "duration": 580,
    "start_time": "2021-07-04T09:20:38.745Z"
   },
   {
    "duration": 628,
    "start_time": "2021-07-04T09:20:43.711Z"
   },
   {
    "duration": 186,
    "start_time": "2021-07-04T09:21:18.335Z"
   },
   {
    "duration": 189,
    "start_time": "2021-07-04T09:21:26.561Z"
   },
   {
    "duration": 22,
    "start_time": "2021-07-04T09:21:57.925Z"
   },
   {
    "duration": 21,
    "start_time": "2021-07-04T09:22:04.597Z"
   },
   {
    "duration": 1090,
    "start_time": "2021-07-04T09:22:12.119Z"
   },
   {
    "duration": 11,
    "start_time": "2021-07-04T09:22:13.211Z"
   },
   {
    "duration": 17,
    "start_time": "2021-07-04T09:22:13.224Z"
   },
   {
    "duration": 9,
    "start_time": "2021-07-04T09:22:13.243Z"
   },
   {
    "duration": 24,
    "start_time": "2021-07-04T09:22:13.254Z"
   },
   {
    "duration": 11,
    "start_time": "2021-07-04T09:22:13.280Z"
   },
   {
    "duration": 7,
    "start_time": "2021-07-04T09:22:13.293Z"
   },
   {
    "duration": 9,
    "start_time": "2021-07-04T09:22:13.302Z"
   },
   {
    "duration": 8,
    "start_time": "2021-07-04T09:22:13.312Z"
   },
   {
    "duration": 278,
    "start_time": "2021-07-04T09:22:13.321Z"
   },
   {
    "duration": 405,
    "start_time": "2021-07-04T09:22:19.538Z"
   },
   {
    "duration": 181,
    "start_time": "2021-07-04T09:22:36.546Z"
   },
   {
    "duration": 5,
    "start_time": "2021-07-04T09:22:43.210Z"
   },
   {
    "duration": 1463,
    "start_time": "2021-07-04T09:25:20.888Z"
   },
   {
    "duration": 200,
    "start_time": "2021-07-04T09:25:53.377Z"
   },
   {
    "duration": 1579,
    "start_time": "2021-07-04T09:26:39.502Z"
   },
   {
    "duration": 1505,
    "start_time": "2021-07-04T11:52:22.889Z"
   },
   {
    "duration": 19,
    "start_time": "2021-07-04T11:52:24.397Z"
   },
   {
    "duration": 16,
    "start_time": "2021-07-04T11:52:24.420Z"
   },
   {
    "duration": 16,
    "start_time": "2021-07-04T11:52:24.439Z"
   },
   {
    "duration": 39,
    "start_time": "2021-07-04T11:52:24.458Z"
   },
   {
    "duration": 17,
    "start_time": "2021-07-04T11:52:24.499Z"
   },
   {
    "duration": 23,
    "start_time": "2021-07-04T11:52:24.519Z"
   },
   {
    "duration": 19,
    "start_time": "2021-07-04T11:52:24.544Z"
   },
   {
    "duration": 26,
    "start_time": "2021-07-04T11:52:24.567Z"
   },
   {
    "duration": 297,
    "start_time": "2021-07-04T11:52:24.596Z"
   },
   {
    "duration": 2399,
    "start_time": "2021-07-04T11:52:24.895Z"
   },
   {
    "duration": 328,
    "start_time": "2021-07-04T11:52:27.297Z"
   },
   {
    "duration": 8511,
    "start_time": "2021-07-04T11:52:27.628Z"
   },
   {
    "duration": 540,
    "start_time": "2021-07-04T11:54:11.488Z"
   },
   {
    "duration": 24,
    "start_time": "2021-07-04T11:54:22.737Z"
   },
   {
    "duration": 27,
    "start_time": "2021-07-04T11:54:22.764Z"
   },
   {
    "duration": 12,
    "start_time": "2021-07-04T11:54:22.794Z"
   },
   {
    "duration": 11,
    "start_time": "2021-07-04T11:54:22.809Z"
   },
   {
    "duration": 34,
    "start_time": "2021-07-04T11:54:22.822Z"
   },
   {
    "duration": 17,
    "start_time": "2021-07-04T11:54:22.859Z"
   },
   {
    "duration": 14,
    "start_time": "2021-07-04T11:54:22.879Z"
   },
   {
    "duration": 18,
    "start_time": "2021-07-04T11:54:22.895Z"
   },
   {
    "duration": 38,
    "start_time": "2021-07-04T11:54:22.916Z"
   },
   {
    "duration": 328,
    "start_time": "2021-07-04T11:54:22.957Z"
   },
   {
    "duration": 261,
    "start_time": "2021-07-04T11:54:23.287Z"
   },
   {
    "duration": 259,
    "start_time": "2021-07-04T11:54:29.269Z"
   },
   {
    "duration": 275,
    "start_time": "2021-07-04T11:54:47.377Z"
   },
   {
    "duration": 16,
    "start_time": "2021-07-04T11:57:31.155Z"
   },
   {
    "duration": 13,
    "start_time": "2021-07-04T11:57:51.114Z"
   },
   {
    "duration": 12,
    "start_time": "2021-07-04T11:57:56.349Z"
   },
   {
    "duration": 1102,
    "start_time": "2022-02-09T15:53:16.994Z"
   },
   {
    "duration": 64,
    "start_time": "2022-02-09T15:54:26.202Z"
   },
   {
    "duration": 742,
    "start_time": "2022-02-09T15:54:42.385Z"
   },
   {
    "duration": 24,
    "start_time": "2022-02-09T15:54:43.515Z"
   },
   {
    "duration": 965,
    "start_time": "2022-02-09T16:02:44.430Z"
   },
   {
    "duration": 1242,
    "start_time": "2022-02-09T16:02:54.059Z"
   },
   {
    "duration": 789,
    "start_time": "2022-02-09T16:02:55.304Z"
   },
   {
    "duration": 22,
    "start_time": "2022-02-09T16:02:56.096Z"
   },
   {
    "duration": 22,
    "start_time": "2022-02-09T16:02:56.121Z"
   },
   {
    "duration": 37,
    "start_time": "2022-02-09T16:02:56.146Z"
   },
   {
    "duration": 7,
    "start_time": "2022-02-09T16:02:56.185Z"
   },
   {
    "duration": 24,
    "start_time": "2022-02-09T16:02:56.194Z"
   },
   {
    "duration": 18,
    "start_time": "2022-02-09T16:02:56.221Z"
   },
   {
    "duration": 35,
    "start_time": "2022-02-09T16:02:56.241Z"
   },
   {
    "duration": 14,
    "start_time": "2022-02-09T16:02:56.279Z"
   },
   {
    "duration": 12,
    "start_time": "2022-02-09T16:02:56.295Z"
   },
   {
    "duration": 347,
    "start_time": "2022-02-09T16:02:56.309Z"
   },
   {
    "duration": 2393,
    "start_time": "2022-02-09T16:02:56.658Z"
   },
   {
    "duration": 353,
    "start_time": "2022-02-09T16:02:59.054Z"
   },
   {
    "duration": 1949,
    "start_time": "2022-02-09T16:02:59.410Z"
   },
   {
    "duration": 21,
    "start_time": "2022-02-09T16:03:01.370Z"
   },
   {
    "duration": 298,
    "start_time": "2022-02-09T16:05:30.674Z"
   },
   {
    "duration": 101,
    "start_time": "2022-02-09T16:05:50.224Z"
   },
   {
    "duration": 17,
    "start_time": "2022-02-09T16:05:54.345Z"
   },
   {
    "duration": 18,
    "start_time": "2022-02-09T16:06:22.113Z"
   },
   {
    "duration": 18,
    "start_time": "2022-02-09T16:06:37.745Z"
   },
   {
    "duration": 293,
    "start_time": "2022-02-09T16:06:43.353Z"
   },
   {
    "duration": 303,
    "start_time": "2022-02-09T16:07:02.584Z"
   },
   {
    "duration": 415,
    "start_time": "2022-02-09T16:11:36.099Z"
   },
   {
    "duration": 994,
    "start_time": "2022-02-09T16:14:27.968Z"
   },
   {
    "duration": 753,
    "start_time": "2022-02-09T16:14:28.965Z"
   },
   {
    "duration": 25,
    "start_time": "2022-02-09T16:14:29.721Z"
   },
   {
    "duration": 28,
    "start_time": "2022-02-09T16:14:29.750Z"
   },
   {
    "duration": 8,
    "start_time": "2022-02-09T16:14:29.781Z"
   },
   {
    "duration": 7,
    "start_time": "2022-02-09T16:14:29.791Z"
   },
   {
    "duration": 20,
    "start_time": "2022-02-09T16:14:29.800Z"
   },
   {
    "duration": 47,
    "start_time": "2022-02-09T16:14:29.823Z"
   },
   {
    "duration": 8,
    "start_time": "2022-02-09T16:14:29.873Z"
   },
   {
    "duration": 11,
    "start_time": "2022-02-09T16:14:29.884Z"
   },
   {
    "duration": 11,
    "start_time": "2022-02-09T16:14:29.898Z"
   },
   {
    "duration": 352,
    "start_time": "2022-02-09T16:14:29.911Z"
   },
   {
    "duration": 2474,
    "start_time": "2022-02-09T16:14:30.269Z"
   },
   {
    "duration": 437,
    "start_time": "2022-02-09T16:14:32.745Z"
   }
  ],
  "kernelspec": {
   "display_name": "Python 3",
   "language": "python",
   "name": "python3"
  },
  "language_info": {
   "codemirror_mode": {
    "name": "ipython",
    "version": 3
   },
   "file_extension": ".py",
   "mimetype": "text/x-python",
   "name": "python",
   "nbconvert_exporter": "python",
   "pygments_lexer": "ipython3",
   "version": "3.7.8"
  },
  "toc": {
   "base_numbering": 1,
   "nav_menu": {},
   "number_sections": true,
   "sideBar": true,
   "skip_h1_title": true,
   "title_cell": "Table of Contents",
   "title_sidebar": "Contents",
   "toc_cell": false,
   "toc_position": {},
   "toc_section_display": true,
   "toc_window_display": false
  }
 },
 "nbformat": 4,
 "nbformat_minor": 2
}
