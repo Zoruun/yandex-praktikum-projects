{
 "cells": [
  {
   "cell_type": "markdown",
   "metadata": {},
   "source": [
    "# Приоритизация гипотез, A/B-тест и анализ результатов"
   ]
  },
  {
   "cell_type": "markdown",
   "metadata": {},
   "source": [
    "Задачи проекта:\n",
    "\n",
    " - Выявить самую приоритетную гипотезу;\n",
    " - Провести А/В тест: \n",
    " \n",
    "  1) Построить график кумулятивной выручки по группам;\n",
    "  \n",
    "  2) Построить график кумулятивного среднего чека по группам;\n",
    "  \n",
    "  3) Построить график относительного изменения кумулятивного среднего чека группы B к группе A; \n",
    "  \n",
    "  4) Построить график кумулятивной конверсии по группам; \n",
    "  \n",
    "  5) Построить график относительного изменения кумулятивной конверсии группы B к группе A; \n",
    "  \n",
    "  6) Построить точечный график количества заказов по пользователям и выявить границу для определения аномальных пользователей; \n",
    "  \n",
    "  7) Построить точечный график стоимостей заказов и выявить границу для определения аномальных пользователей; \n",
    "  \n",
    "  8) Рассчитать статистическую значимость различий в конверсии между группами по «сырым» данным; \n",
    "  \n",
    "  9) Рассчитать статистическую значимость различий в среднем чеке заказа между группами по «сырым» данным; \n",
    "  \n",
    "  10) Рассчитать статистическую значимость различий в конверсии между группами по «очищенным» данным; \n",
    "  \n",
    "  11) Рассчитать статистическую значимость различий в среднем чеке заказа между группами по «очищенным» данным. ; \n",
    "  \n",
    "  \n",
    " - Сделать выводы по результатам теста."
   ]
  },
  {
   "cell_type": "markdown",
   "metadata": {},
   "source": [
    "## Часть 1. Приоритизация гипотез."
   ]
  },
  {
   "cell_type": "markdown",
   "metadata": {},
   "source": [
    "### Подготовка данных"
   ]
  },
  {
   "cell_type": "code",
   "execution_count": 1,
   "metadata": {},
   "outputs": [],
   "source": [
    "#импортируем необходимые библиотеки\n",
    "import pandas as pd\n",
    "import datetime as dt\n",
    "import numpy as np\n",
    "import matplotlib.pyplot as plt\n",
    "import scipy.stats as stats\n",
    "import seaborn as sns\n",
    "import warnings\n",
    "warnings.filterwarnings(\"ignore\")"
   ]
  },
  {
   "cell_type": "code",
   "execution_count": 2,
   "metadata": {},
   "outputs": [
    {
     "data": {
      "text/html": [
       "<div>\n",
       "<style scoped>\n",
       "    .dataframe tbody tr th:only-of-type {\n",
       "        vertical-align: middle;\n",
       "    }\n",
       "\n",
       "    .dataframe tbody tr th {\n",
       "        vertical-align: top;\n",
       "    }\n",
       "\n",
       "    .dataframe thead th {\n",
       "        text-align: right;\n",
       "    }\n",
       "</style>\n",
       "<table border=\"1\" class=\"dataframe\">\n",
       "  <thead>\n",
       "    <tr style=\"text-align: right;\">\n",
       "      <th></th>\n",
       "      <th>Hypothesis</th>\n",
       "      <th>Reach</th>\n",
       "      <th>Impact</th>\n",
       "      <th>Confidence</th>\n",
       "      <th>Efforts</th>\n",
       "    </tr>\n",
       "  </thead>\n",
       "  <tbody>\n",
       "    <tr>\n",
       "      <td>0</td>\n",
       "      <td>Добавить два новых канала привлечения трафика, что позволит привлекать на 30% больше пользователей</td>\n",
       "      <td>3</td>\n",
       "      <td>10</td>\n",
       "      <td>8</td>\n",
       "      <td>6</td>\n",
       "    </tr>\n",
       "    <tr>\n",
       "      <td>1</td>\n",
       "      <td>Запустить собственную службу доставки, что сократит срок доставки заказов</td>\n",
       "      <td>2</td>\n",
       "      <td>5</td>\n",
       "      <td>4</td>\n",
       "      <td>10</td>\n",
       "    </tr>\n",
       "    <tr>\n",
       "      <td>2</td>\n",
       "      <td>Добавить блоки рекомендаций товаров на сайт интернет магазина, чтобы повысить конверсию и средний чек заказа</td>\n",
       "      <td>8</td>\n",
       "      <td>3</td>\n",
       "      <td>7</td>\n",
       "      <td>3</td>\n",
       "    </tr>\n",
       "    <tr>\n",
       "      <td>3</td>\n",
       "      <td>Изменить структура категорий, что увеличит конверсию, т.к. пользователи быстрее найдут нужный товар</td>\n",
       "      <td>8</td>\n",
       "      <td>3</td>\n",
       "      <td>3</td>\n",
       "      <td>8</td>\n",
       "    </tr>\n",
       "    <tr>\n",
       "      <td>4</td>\n",
       "      <td>Изменить цвет фона главной страницы, чтобы увеличить вовлеченность пользователей</td>\n",
       "      <td>3</td>\n",
       "      <td>1</td>\n",
       "      <td>1</td>\n",
       "      <td>1</td>\n",
       "    </tr>\n",
       "    <tr>\n",
       "      <td>5</td>\n",
       "      <td>Добавить страницу отзывов клиентов о магазине, что позволит увеличить количество заказов</td>\n",
       "      <td>3</td>\n",
       "      <td>2</td>\n",
       "      <td>2</td>\n",
       "      <td>3</td>\n",
       "    </tr>\n",
       "    <tr>\n",
       "      <td>6</td>\n",
       "      <td>Показать на главной странице баннеры с актуальными акциями и распродажами, чтобы увеличить конверсию</td>\n",
       "      <td>5</td>\n",
       "      <td>3</td>\n",
       "      <td>8</td>\n",
       "      <td>3</td>\n",
       "    </tr>\n",
       "    <tr>\n",
       "      <td>7</td>\n",
       "      <td>Добавить форму подписки на все основные страницы, чтобы собрать базу клиентов для email-рассылок</td>\n",
       "      <td>10</td>\n",
       "      <td>7</td>\n",
       "      <td>8</td>\n",
       "      <td>5</td>\n",
       "    </tr>\n",
       "    <tr>\n",
       "      <td>8</td>\n",
       "      <td>Запустить акцию, дающую скидку на товар в день рождения</td>\n",
       "      <td>1</td>\n",
       "      <td>9</td>\n",
       "      <td>9</td>\n",
       "      <td>5</td>\n",
       "    </tr>\n",
       "  </tbody>\n",
       "</table>\n",
       "</div>"
      ],
      "text/plain": [
       "                                                                                                     Hypothesis  \\\n",
       "0            Добавить два новых канала привлечения трафика, что позволит привлекать на 30% больше пользователей   \n",
       "1                                     Запустить собственную службу доставки, что сократит срок доставки заказов   \n",
       "2  Добавить блоки рекомендаций товаров на сайт интернет магазина, чтобы повысить конверсию и средний чек заказа   \n",
       "3           Изменить структура категорий, что увеличит конверсию, т.к. пользователи быстрее найдут нужный товар   \n",
       "4                              Изменить цвет фона главной страницы, чтобы увеличить вовлеченность пользователей   \n",
       "5                      Добавить страницу отзывов клиентов о магазине, что позволит увеличить количество заказов   \n",
       "6          Показать на главной странице баннеры с актуальными акциями и распродажами, чтобы увеличить конверсию   \n",
       "7              Добавить форму подписки на все основные страницы, чтобы собрать базу клиентов для email-рассылок   \n",
       "8                                                       Запустить акцию, дающую скидку на товар в день рождения   \n",
       "\n",
       "   Reach  Impact  Confidence  Efforts  \n",
       "0      3      10           8        6  \n",
       "1      2       5           4       10  \n",
       "2      8       3           7        3  \n",
       "3      8       3           3        8  \n",
       "4      3       1           1        1  \n",
       "5      3       2           2        3  \n",
       "6      5       3           8        3  \n",
       "7     10       7           8        5  \n",
       "8      1       9           9        5  "
      ]
     },
     "execution_count": 2,
     "metadata": {},
     "output_type": "execute_result"
    }
   ],
   "source": [
    "#откроем таблицу hypothesis и выведем её на экран\n",
    "hypothesis = pd.read_csv('/datasets/hypothesis.csv')\n",
    "\n",
    "# Увеличим количество обображаемых символов\n",
    "pd.set_option('display.max_columns', None)\n",
    "pd.options.display.max_colwidth = 150\n",
    "\n",
    "hypothesis"
   ]
  },
  {
   "cell_type": "code",
   "execution_count": 3,
   "metadata": {},
   "outputs": [
    {
     "name": "stdout",
     "output_type": "stream",
     "text": [
      "<class 'pandas.core.frame.DataFrame'>\n",
      "RangeIndex: 9 entries, 0 to 8\n",
      "Data columns (total 5 columns):\n",
      "hypothesis    9 non-null object\n",
      "reach         9 non-null int64\n",
      "impact        9 non-null int64\n",
      "confidence    9 non-null int64\n",
      "efforts       9 non-null int64\n",
      "dtypes: int64(4), object(1)\n",
      "memory usage: 488.0+ bytes\n"
     ]
    }
   ],
   "source": [
    "# приведём названия столбцов к нижнему регистру\n",
    "hypothesis.columns = map(str.lower, hypothesis.columns)\n",
    "\n",
    "# Просмотрим основную информацию по данной таблице\n",
    "hypothesis.info()"
   ]
  },
  {
   "cell_type": "markdown",
   "metadata": {},
   "source": [
    "Нет пропущенных значений и каждый столбец соотвествует своему типу данных. Менять ничего не нужно.\n",
    "\n",
    "В таблице 9 строк и 5 столбцов:\n",
    "\n",
    " - Hypothesis — краткое описание гипотезы;\n",
    " - Reach — охват пользователей по 10-балльной шкале;\n",
    " - Impact — влияние на пользователей по 10-балльной шкале;\n",
    " - Confidence — уверенность в гипотезе по 10-балльной шкале;\n",
    " - Efforts — затраты ресурсов на проверку гипотезы по 10-балльной шкале. Чем больше значение Efforts, тем дороже проверка гипотезы."
   ]
  },
  {
   "cell_type": "markdown",
   "metadata": {},
   "source": [
    "### Расчёт ICE"
   ]
  },
  {
   "cell_type": "code",
   "execution_count": 4,
   "metadata": {},
   "outputs": [
    {
     "data": {
      "text/html": [
       "<div>\n",
       "<style scoped>\n",
       "    .dataframe tbody tr th:only-of-type {\n",
       "        vertical-align: middle;\n",
       "    }\n",
       "\n",
       "    .dataframe tbody tr th {\n",
       "        vertical-align: top;\n",
       "    }\n",
       "\n",
       "    .dataframe thead th {\n",
       "        text-align: right;\n",
       "    }\n",
       "</style>\n",
       "<table border=\"1\" class=\"dataframe\">\n",
       "  <thead>\n",
       "    <tr style=\"text-align: right;\">\n",
       "      <th></th>\n",
       "      <th>hypothesis</th>\n",
       "      <th>ICE</th>\n",
       "    </tr>\n",
       "  </thead>\n",
       "  <tbody>\n",
       "    <tr>\n",
       "      <td>8</td>\n",
       "      <td>Запустить акцию, дающую скидку на товар в день рождения</td>\n",
       "      <td>16.0</td>\n",
       "    </tr>\n",
       "    <tr>\n",
       "      <td>0</td>\n",
       "      <td>Добавить два новых канала привлечения трафика, что позволит привлекать на 30% больше пользователей</td>\n",
       "      <td>13.0</td>\n",
       "    </tr>\n",
       "    <tr>\n",
       "      <td>7</td>\n",
       "      <td>Добавить форму подписки на все основные страницы, чтобы собрать базу клиентов для email-рассылок</td>\n",
       "      <td>11.0</td>\n",
       "    </tr>\n",
       "    <tr>\n",
       "      <td>6</td>\n",
       "      <td>Показать на главной странице баннеры с актуальными акциями и распродажами, чтобы увеличить конверсию</td>\n",
       "      <td>8.0</td>\n",
       "    </tr>\n",
       "    <tr>\n",
       "      <td>2</td>\n",
       "      <td>Добавить блоки рекомендаций товаров на сайт интернет магазина, чтобы повысить конверсию и средний чек заказа</td>\n",
       "      <td>7.0</td>\n",
       "    </tr>\n",
       "    <tr>\n",
       "      <td>1</td>\n",
       "      <td>Запустить собственную службу доставки, что сократит срок доставки заказов</td>\n",
       "      <td>2.0</td>\n",
       "    </tr>\n",
       "    <tr>\n",
       "      <td>3</td>\n",
       "      <td>Изменить структура категорий, что увеличит конверсию, т.к. пользователи быстрее найдут нужный товар</td>\n",
       "      <td>1.0</td>\n",
       "    </tr>\n",
       "    <tr>\n",
       "      <td>4</td>\n",
       "      <td>Изменить цвет фона главной страницы, чтобы увеличить вовлеченность пользователей</td>\n",
       "      <td>1.0</td>\n",
       "    </tr>\n",
       "    <tr>\n",
       "      <td>5</td>\n",
       "      <td>Добавить страницу отзывов клиентов о магазине, что позволит увеличить количество заказов</td>\n",
       "      <td>1.0</td>\n",
       "    </tr>\n",
       "  </tbody>\n",
       "</table>\n",
       "</div>"
      ],
      "text/plain": [
       "                                                                                                     hypothesis  \\\n",
       "8                                                       Запустить акцию, дающую скидку на товар в день рождения   \n",
       "0            Добавить два новых канала привлечения трафика, что позволит привлекать на 30% больше пользователей   \n",
       "7              Добавить форму подписки на все основные страницы, чтобы собрать базу клиентов для email-рассылок   \n",
       "6          Показать на главной странице баннеры с актуальными акциями и распродажами, чтобы увеличить конверсию   \n",
       "2  Добавить блоки рекомендаций товаров на сайт интернет магазина, чтобы повысить конверсию и средний чек заказа   \n",
       "1                                     Запустить собственную службу доставки, что сократит срок доставки заказов   \n",
       "3           Изменить структура категорий, что увеличит конверсию, т.к. пользователи быстрее найдут нужный товар   \n",
       "4                              Изменить цвет фона главной страницы, чтобы увеличить вовлеченность пользователей   \n",
       "5                      Добавить страницу отзывов клиентов о магазине, что позволит увеличить количество заказов   \n",
       "\n",
       "    ICE  \n",
       "8  16.0  \n",
       "0  13.0  \n",
       "7  11.0  \n",
       "6   8.0  \n",
       "2   7.0  \n",
       "1   2.0  \n",
       "3   1.0  \n",
       "4   1.0  \n",
       "5   1.0  "
      ]
     },
     "execution_count": 4,
     "metadata": {},
     "output_type": "execute_result"
    }
   ],
   "source": [
    "# Рассчитаем Ice по формуле Impact * Confidence / Efforts\n",
    "hypothesis['ICE'] = round((hypothesis['impact'] * hypothesis['confidence']) / hypothesis['efforts'])\n",
    "\n",
    "# Отсортируем таблицу и выведем по убыванию показателя ICE\n",
    "hypothesis[['hypothesis', 'ICE']].sort_values(by='ICE', ascending=False)"
   ]
  },
  {
   "cell_type": "markdown",
   "metadata": {},
   "source": [
    "По данной сортировке самые приоритетные теории:\n",
    " - 8 теория: \"Запустить акцию, дающую скидку на товар в день рождения\" с ICE равной 16\n",
    " - 0 теория: \"Добавить два новых канала привлечения трафика, что позволит привлекать на 30% больше пользователей\" с ICE равной 13\n",
    " - 7 теория: \"Добавить форму подписки на все основные страницы, чтобы собрать базу клиентов для email-рассылок\" с ICE равной 11"
   ]
  },
  {
   "cell_type": "markdown",
   "metadata": {},
   "source": [
    "### Расчёт RICE"
   ]
  },
  {
   "cell_type": "code",
   "execution_count": 5,
   "metadata": {},
   "outputs": [
    {
     "data": {
      "text/html": [
       "<style  type=\"text/css\" >\n",
       "</style><table id=\"T_8a0df8f8_89d1_11ec_a0b0_02420a390434\" ><thead>    <tr>        <th class=\"blank level0\" ></th>        <th class=\"col_heading level0 col0\" >hypothesis</th>        <th class=\"col_heading level0 col1\" >RICE</th>        <th class=\"col_heading level0 col2\" >ICE</th>    </tr></thead><tbody>\n",
       "                <tr>\n",
       "                        <th id=\"T_8a0df8f8_89d1_11ec_a0b0_02420a390434level0_row0\" class=\"row_heading level0 row0\" >7</th>\n",
       "                        <td id=\"T_8a0df8f8_89d1_11ec_a0b0_02420a390434row0_col0\" class=\"data row0 col0\" >Добавить форму подписки на все основные страницы, чтобы собрать базу клиентов для email-рассылок</td>\n",
       "                        <td id=\"T_8a0df8f8_89d1_11ec_a0b0_02420a390434row0_col1\" class=\"data row0 col1\" >112</td>\n",
       "                        <td id=\"T_8a0df8f8_89d1_11ec_a0b0_02420a390434row0_col2\" class=\"data row0 col2\" >11</td>\n",
       "            </tr>\n",
       "            <tr>\n",
       "                        <th id=\"T_8a0df8f8_89d1_11ec_a0b0_02420a390434level0_row1\" class=\"row_heading level0 row1\" >2</th>\n",
       "                        <td id=\"T_8a0df8f8_89d1_11ec_a0b0_02420a390434row1_col0\" class=\"data row1 col0\" >Добавить блоки рекомендаций товаров на сайт интернет магазина, чтобы повысить конверсию и средний чек заказа</td>\n",
       "                        <td id=\"T_8a0df8f8_89d1_11ec_a0b0_02420a390434row1_col1\" class=\"data row1 col1\" >56</td>\n",
       "                        <td id=\"T_8a0df8f8_89d1_11ec_a0b0_02420a390434row1_col2\" class=\"data row1 col2\" >7</td>\n",
       "            </tr>\n",
       "            <tr>\n",
       "                        <th id=\"T_8a0df8f8_89d1_11ec_a0b0_02420a390434level0_row2\" class=\"row_heading level0 row2\" >0</th>\n",
       "                        <td id=\"T_8a0df8f8_89d1_11ec_a0b0_02420a390434row2_col0\" class=\"data row2 col0\" >Добавить два новых канала привлечения трафика, что позволит привлекать на 30% больше пользователей</td>\n",
       "                        <td id=\"T_8a0df8f8_89d1_11ec_a0b0_02420a390434row2_col1\" class=\"data row2 col1\" >40</td>\n",
       "                        <td id=\"T_8a0df8f8_89d1_11ec_a0b0_02420a390434row2_col2\" class=\"data row2 col2\" >13</td>\n",
       "            </tr>\n",
       "            <tr>\n",
       "                        <th id=\"T_8a0df8f8_89d1_11ec_a0b0_02420a390434level0_row3\" class=\"row_heading level0 row3\" >6</th>\n",
       "                        <td id=\"T_8a0df8f8_89d1_11ec_a0b0_02420a390434row3_col0\" class=\"data row3 col0\" >Показать на главной странице баннеры с актуальными акциями и распродажами, чтобы увеличить конверсию</td>\n",
       "                        <td id=\"T_8a0df8f8_89d1_11ec_a0b0_02420a390434row3_col1\" class=\"data row3 col1\" >40</td>\n",
       "                        <td id=\"T_8a0df8f8_89d1_11ec_a0b0_02420a390434row3_col2\" class=\"data row3 col2\" >8</td>\n",
       "            </tr>\n",
       "            <tr>\n",
       "                        <th id=\"T_8a0df8f8_89d1_11ec_a0b0_02420a390434level0_row4\" class=\"row_heading level0 row4\" >8</th>\n",
       "                        <td id=\"T_8a0df8f8_89d1_11ec_a0b0_02420a390434row4_col0\" class=\"data row4 col0\" >Запустить акцию, дающую скидку на товар в день рождения</td>\n",
       "                        <td id=\"T_8a0df8f8_89d1_11ec_a0b0_02420a390434row4_col1\" class=\"data row4 col1\" >16.2</td>\n",
       "                        <td id=\"T_8a0df8f8_89d1_11ec_a0b0_02420a390434row4_col2\" class=\"data row4 col2\" >16</td>\n",
       "            </tr>\n",
       "            <tr>\n",
       "                        <th id=\"T_8a0df8f8_89d1_11ec_a0b0_02420a390434level0_row5\" class=\"row_heading level0 row5\" >3</th>\n",
       "                        <td id=\"T_8a0df8f8_89d1_11ec_a0b0_02420a390434row5_col0\" class=\"data row5 col0\" >Изменить структура категорий, что увеличит конверсию, т.к. пользователи быстрее найдут нужный товар</td>\n",
       "                        <td id=\"T_8a0df8f8_89d1_11ec_a0b0_02420a390434row5_col1\" class=\"data row5 col1\" >9</td>\n",
       "                        <td id=\"T_8a0df8f8_89d1_11ec_a0b0_02420a390434row5_col2\" class=\"data row5 col2\" >1</td>\n",
       "            </tr>\n",
       "            <tr>\n",
       "                        <th id=\"T_8a0df8f8_89d1_11ec_a0b0_02420a390434level0_row6\" class=\"row_heading level0 row6\" >1</th>\n",
       "                        <td id=\"T_8a0df8f8_89d1_11ec_a0b0_02420a390434row6_col0\" class=\"data row6 col0\" >Запустить собственную службу доставки, что сократит срок доставки заказов</td>\n",
       "                        <td id=\"T_8a0df8f8_89d1_11ec_a0b0_02420a390434row6_col1\" class=\"data row6 col1\" >4</td>\n",
       "                        <td id=\"T_8a0df8f8_89d1_11ec_a0b0_02420a390434row6_col2\" class=\"data row6 col2\" >2</td>\n",
       "            </tr>\n",
       "            <tr>\n",
       "                        <th id=\"T_8a0df8f8_89d1_11ec_a0b0_02420a390434level0_row7\" class=\"row_heading level0 row7\" >5</th>\n",
       "                        <td id=\"T_8a0df8f8_89d1_11ec_a0b0_02420a390434row7_col0\" class=\"data row7 col0\" >Добавить страницу отзывов клиентов о магазине, что позволит увеличить количество заказов</td>\n",
       "                        <td id=\"T_8a0df8f8_89d1_11ec_a0b0_02420a390434row7_col1\" class=\"data row7 col1\" >4</td>\n",
       "                        <td id=\"T_8a0df8f8_89d1_11ec_a0b0_02420a390434row7_col2\" class=\"data row7 col2\" >1</td>\n",
       "            </tr>\n",
       "            <tr>\n",
       "                        <th id=\"T_8a0df8f8_89d1_11ec_a0b0_02420a390434level0_row8\" class=\"row_heading level0 row8\" >4</th>\n",
       "                        <td id=\"T_8a0df8f8_89d1_11ec_a0b0_02420a390434row8_col0\" class=\"data row8 col0\" >Изменить цвет фона главной страницы, чтобы увеличить вовлеченность пользователей</td>\n",
       "                        <td id=\"T_8a0df8f8_89d1_11ec_a0b0_02420a390434row8_col1\" class=\"data row8 col1\" >3</td>\n",
       "                        <td id=\"T_8a0df8f8_89d1_11ec_a0b0_02420a390434row8_col2\" class=\"data row8 col2\" >1</td>\n",
       "            </tr>\n",
       "    </tbody></table>"
      ],
      "text/plain": [
       "<pandas.io.formats.style.Styler at 0x7fa74c82a9d0>"
      ]
     },
     "execution_count": 5,
     "metadata": {},
     "output_type": "execute_result"
    }
   ],
   "source": [
    "# Рассчитаем Rice по формуле Impact * Confidence * Reach / Efforts\n",
    "hypothesis['RICE'] = (hypothesis['impact'] * hypothesis['confidence'] * hypothesis['reach']) / hypothesis['efforts']\n",
    "\n",
    "# Отсортируем таблицу и выведем по убыванию показателя RICE и ICE\n",
    "hypothesis = hypothesis[['hypothesis', 'RICE', 'ICE']].sort_values(by='RICE', ascending=False).style\n",
    "\n",
    "hypothesis"
   ]
  },
  {
   "cell_type": "code",
   "execution_count": 6,
   "metadata": {},
   "outputs": [
    {
     "data": {
      "text/html": [
       "<style  type=\"text/css\" >\n",
       "    #T_8a132e36_89d1_11ec_a0b0_02420a390434row0_col1 {\n",
       "            color: white;\n",
       "            background-color: darkblue;\n",
       "        }    #T_8a132e36_89d1_11ec_a0b0_02420a390434row3_col0 {\n",
       "            color: white;\n",
       "            background-color: darkblue;\n",
       "        }    #T_8a132e36_89d1_11ec_a0b0_02420a390434row4_col2 {\n",
       "            color: white;\n",
       "            background-color: darkblue;\n",
       "        }</style><table id=\"T_8a132e36_89d1_11ec_a0b0_02420a390434\" ><thead>    <tr>        <th class=\"blank level0\" ></th>        <th class=\"col_heading level0 col0\" >hypothesis</th>        <th class=\"col_heading level0 col1\" >RICE</th>        <th class=\"col_heading level0 col2\" >ICE</th>    </tr></thead><tbody>\n",
       "                <tr>\n",
       "                        <th id=\"T_8a132e36_89d1_11ec_a0b0_02420a390434level0_row0\" class=\"row_heading level0 row0\" >7</th>\n",
       "                        <td id=\"T_8a132e36_89d1_11ec_a0b0_02420a390434row0_col0\" class=\"data row0 col0\" >Добавить форму подписки на все основные страницы, чтобы собрать базу клиентов для email-рассылок</td>\n",
       "                        <td id=\"T_8a132e36_89d1_11ec_a0b0_02420a390434row0_col1\" class=\"data row0 col1\" >112</td>\n",
       "                        <td id=\"T_8a132e36_89d1_11ec_a0b0_02420a390434row0_col2\" class=\"data row0 col2\" >11</td>\n",
       "            </tr>\n",
       "            <tr>\n",
       "                        <th id=\"T_8a132e36_89d1_11ec_a0b0_02420a390434level0_row1\" class=\"row_heading level0 row1\" >2</th>\n",
       "                        <td id=\"T_8a132e36_89d1_11ec_a0b0_02420a390434row1_col0\" class=\"data row1 col0\" >Добавить блоки рекомендаций товаров на сайт интернет магазина, чтобы повысить конверсию и средний чек заказа</td>\n",
       "                        <td id=\"T_8a132e36_89d1_11ec_a0b0_02420a390434row1_col1\" class=\"data row1 col1\" >56</td>\n",
       "                        <td id=\"T_8a132e36_89d1_11ec_a0b0_02420a390434row1_col2\" class=\"data row1 col2\" >7</td>\n",
       "            </tr>\n",
       "            <tr>\n",
       "                        <th id=\"T_8a132e36_89d1_11ec_a0b0_02420a390434level0_row2\" class=\"row_heading level0 row2\" >0</th>\n",
       "                        <td id=\"T_8a132e36_89d1_11ec_a0b0_02420a390434row2_col0\" class=\"data row2 col0\" >Добавить два новых канала привлечения трафика, что позволит привлекать на 30% больше пользователей</td>\n",
       "                        <td id=\"T_8a132e36_89d1_11ec_a0b0_02420a390434row2_col1\" class=\"data row2 col1\" >40</td>\n",
       "                        <td id=\"T_8a132e36_89d1_11ec_a0b0_02420a390434row2_col2\" class=\"data row2 col2\" >13</td>\n",
       "            </tr>\n",
       "            <tr>\n",
       "                        <th id=\"T_8a132e36_89d1_11ec_a0b0_02420a390434level0_row3\" class=\"row_heading level0 row3\" >6</th>\n",
       "                        <td id=\"T_8a132e36_89d1_11ec_a0b0_02420a390434row3_col0\" class=\"data row3 col0\" >Показать на главной странице баннеры с актуальными акциями и распродажами, чтобы увеличить конверсию</td>\n",
       "                        <td id=\"T_8a132e36_89d1_11ec_a0b0_02420a390434row3_col1\" class=\"data row3 col1\" >40</td>\n",
       "                        <td id=\"T_8a132e36_89d1_11ec_a0b0_02420a390434row3_col2\" class=\"data row3 col2\" >8</td>\n",
       "            </tr>\n",
       "            <tr>\n",
       "                        <th id=\"T_8a132e36_89d1_11ec_a0b0_02420a390434level0_row4\" class=\"row_heading level0 row4\" >8</th>\n",
       "                        <td id=\"T_8a132e36_89d1_11ec_a0b0_02420a390434row4_col0\" class=\"data row4 col0\" >Запустить акцию, дающую скидку на товар в день рождения</td>\n",
       "                        <td id=\"T_8a132e36_89d1_11ec_a0b0_02420a390434row4_col1\" class=\"data row4 col1\" >16.2</td>\n",
       "                        <td id=\"T_8a132e36_89d1_11ec_a0b0_02420a390434row4_col2\" class=\"data row4 col2\" >16</td>\n",
       "            </tr>\n",
       "            <tr>\n",
       "                        <th id=\"T_8a132e36_89d1_11ec_a0b0_02420a390434level0_row5\" class=\"row_heading level0 row5\" >3</th>\n",
       "                        <td id=\"T_8a132e36_89d1_11ec_a0b0_02420a390434row5_col0\" class=\"data row5 col0\" >Изменить структура категорий, что увеличит конверсию, т.к. пользователи быстрее найдут нужный товар</td>\n",
       "                        <td id=\"T_8a132e36_89d1_11ec_a0b0_02420a390434row5_col1\" class=\"data row5 col1\" >9</td>\n",
       "                        <td id=\"T_8a132e36_89d1_11ec_a0b0_02420a390434row5_col2\" class=\"data row5 col2\" >1</td>\n",
       "            </tr>\n",
       "            <tr>\n",
       "                        <th id=\"T_8a132e36_89d1_11ec_a0b0_02420a390434level0_row6\" class=\"row_heading level0 row6\" >1</th>\n",
       "                        <td id=\"T_8a132e36_89d1_11ec_a0b0_02420a390434row6_col0\" class=\"data row6 col0\" >Запустить собственную службу доставки, что сократит срок доставки заказов</td>\n",
       "                        <td id=\"T_8a132e36_89d1_11ec_a0b0_02420a390434row6_col1\" class=\"data row6 col1\" >4</td>\n",
       "                        <td id=\"T_8a132e36_89d1_11ec_a0b0_02420a390434row6_col2\" class=\"data row6 col2\" >2</td>\n",
       "            </tr>\n",
       "            <tr>\n",
       "                        <th id=\"T_8a132e36_89d1_11ec_a0b0_02420a390434level0_row7\" class=\"row_heading level0 row7\" >5</th>\n",
       "                        <td id=\"T_8a132e36_89d1_11ec_a0b0_02420a390434row7_col0\" class=\"data row7 col0\" >Добавить страницу отзывов клиентов о магазине, что позволит увеличить количество заказов</td>\n",
       "                        <td id=\"T_8a132e36_89d1_11ec_a0b0_02420a390434row7_col1\" class=\"data row7 col1\" >4</td>\n",
       "                        <td id=\"T_8a132e36_89d1_11ec_a0b0_02420a390434row7_col2\" class=\"data row7 col2\" >1</td>\n",
       "            </tr>\n",
       "            <tr>\n",
       "                        <th id=\"T_8a132e36_89d1_11ec_a0b0_02420a390434level0_row8\" class=\"row_heading level0 row8\" >4</th>\n",
       "                        <td id=\"T_8a132e36_89d1_11ec_a0b0_02420a390434row8_col0\" class=\"data row8 col0\" >Изменить цвет фона главной страницы, чтобы увеличить вовлеченность пользователей</td>\n",
       "                        <td id=\"T_8a132e36_89d1_11ec_a0b0_02420a390434row8_col1\" class=\"data row8 col1\" >3</td>\n",
       "                        <td id=\"T_8a132e36_89d1_11ec_a0b0_02420a390434row8_col2\" class=\"data row8 col2\" >1</td>\n",
       "            </tr>\n",
       "    </tbody></table>"
      ],
      "text/plain": [
       "<pandas.io.formats.style.Styler at 0x7fa74c82a9d0>"
      ]
     },
     "execution_count": 6,
     "metadata": {},
     "output_type": "execute_result"
    }
   ],
   "source": [
    "def highlight_max(hypothesis, props=''):\n",
    "    return np.where(hypothesis == np.nanmax(hypothesis.values), props, '')\n",
    "hypothesis.apply(highlight_max, props='color:white;background-color:darkblue', axis=0)"
   ]
  },
  {
   "cell_type": "markdown",
   "metadata": {},
   "source": [
    "По данной сортировке самые приоритетные теории:\n",
    " - 7 теория: \"Добавить форму подписки на все основные страницы, чтобы собрать базу клиентов для email-рассылок\" с RICE равной 112\n",
    " - 2 теория: \"Добавить блоки рекомендаций товаров на сайт интернет магазина, чтобы повысить конверсию и средний чек заказа\" с RICE равной 56\n",
    " - 0 теория: \"Добавить два новых канала привлечения трафика, что позволит привлекать на 30% больше пользователей\" с RICE равной 40"
   ]
  },
  {
   "cell_type": "markdown",
   "metadata": {},
   "source": [
    "### Вывод"
   ]
  },
  {
   "cell_type": "markdown",
   "metadata": {},
   "source": [
    "При приоритизации теорий мы выявили теорию с самым высоким приоритетом, это 7 теория: \"Добавить форму подписки на все основные страницы, чтобы собрать базу клиентов для email-рассылок\"\n",
    "\n",
    "При расчёте ICE эта теория занимала 3 место в рейтинге, но при расчёте RICE она стала на первом месте, т.к. при расчёте используется ещё показатель Reach — охват пользователей по 10-балльной шкале.\n",
    "\n",
    "7 теория имеет охват пользователь 10 из 10."
   ]
  },
  {
   "cell_type": "markdown",
   "metadata": {},
   "source": [
    "## Часть 2. Анализ A/B-теста"
   ]
  },
  {
   "cell_type": "markdown",
   "metadata": {},
   "source": [
    "### Подготовка данных"
   ]
  },
  {
   "cell_type": "code",
   "execution_count": 7,
   "metadata": {},
   "outputs": [
    {
     "data": {
      "text/html": [
       "<div>\n",
       "<style scoped>\n",
       "    .dataframe tbody tr th:only-of-type {\n",
       "        vertical-align: middle;\n",
       "    }\n",
       "\n",
       "    .dataframe tbody tr th {\n",
       "        vertical-align: top;\n",
       "    }\n",
       "\n",
       "    .dataframe thead th {\n",
       "        text-align: right;\n",
       "    }\n",
       "</style>\n",
       "<table border=\"1\" class=\"dataframe\">\n",
       "  <thead>\n",
       "    <tr style=\"text-align: right;\">\n",
       "      <th></th>\n",
       "      <th>transactionId</th>\n",
       "      <th>visitorId</th>\n",
       "      <th>date</th>\n",
       "      <th>revenue</th>\n",
       "      <th>group</th>\n",
       "    </tr>\n",
       "  </thead>\n",
       "  <tbody>\n",
       "    <tr>\n",
       "      <td>0</td>\n",
       "      <td>3667963787</td>\n",
       "      <td>3312258926</td>\n",
       "      <td>2019-08-15</td>\n",
       "      <td>1650</td>\n",
       "      <td>B</td>\n",
       "    </tr>\n",
       "    <tr>\n",
       "      <td>1</td>\n",
       "      <td>2804400009</td>\n",
       "      <td>3642806036</td>\n",
       "      <td>2019-08-15</td>\n",
       "      <td>730</td>\n",
       "      <td>B</td>\n",
       "    </tr>\n",
       "    <tr>\n",
       "      <td>2</td>\n",
       "      <td>2961555356</td>\n",
       "      <td>4069496402</td>\n",
       "      <td>2019-08-15</td>\n",
       "      <td>400</td>\n",
       "      <td>A</td>\n",
       "    </tr>\n",
       "    <tr>\n",
       "      <td>3</td>\n",
       "      <td>3797467345</td>\n",
       "      <td>1196621759</td>\n",
       "      <td>2019-08-15</td>\n",
       "      <td>9759</td>\n",
       "      <td>B</td>\n",
       "    </tr>\n",
       "    <tr>\n",
       "      <td>4</td>\n",
       "      <td>2282983706</td>\n",
       "      <td>2322279887</td>\n",
       "      <td>2019-08-15</td>\n",
       "      <td>2308</td>\n",
       "      <td>B</td>\n",
       "    </tr>\n",
       "  </tbody>\n",
       "</table>\n",
       "</div>"
      ],
      "text/plain": [
       "   transactionId   visitorId        date  revenue group\n",
       "0     3667963787  3312258926  2019-08-15     1650     B\n",
       "1     2804400009  3642806036  2019-08-15      730     B\n",
       "2     2961555356  4069496402  2019-08-15      400     A\n",
       "3     3797467345  1196621759  2019-08-15     9759     B\n",
       "4     2282983706  2322279887  2019-08-15     2308     B"
      ]
     },
     "execution_count": 7,
     "metadata": {},
     "output_type": "execute_result"
    }
   ],
   "source": [
    "#откроем таблицу orders и выведем её на экран\n",
    "orders = pd.read_csv('/datasets/orders.csv')\n",
    "orders.head()"
   ]
  },
  {
   "cell_type": "code",
   "execution_count": 8,
   "metadata": {},
   "outputs": [
    {
     "name": "stdout",
     "output_type": "stream",
     "text": [
      "<class 'pandas.core.frame.DataFrame'>\n",
      "RangeIndex: 1197 entries, 0 to 1196\n",
      "Data columns (total 5 columns):\n",
      "transactionId    1197 non-null int64\n",
      "visitorId        1197 non-null int64\n",
      "date             1197 non-null object\n",
      "revenue          1197 non-null int64\n",
      "group            1197 non-null object\n",
      "dtypes: int64(3), object(2)\n",
      "memory usage: 46.9+ KB\n"
     ]
    }
   ],
   "source": [
    "# Просмотрим основную информацию по данной таблице\n",
    "orders.info()"
   ]
  },
  {
   "cell_type": "code",
   "execution_count": 9,
   "metadata": {},
   "outputs": [
    {
     "name": "stdout",
     "output_type": "stream",
     "text": [
      "58 пользователей попали в обе группы\n"
     ]
    }
   ],
   "source": [
    "# Приведём столбец с датой к типу данный даты\n",
    "orders['date'] = orders['date'].map(\n",
    "    lambda x: dt.datetime.strptime(x,'%Y-%m-%d')\n",
    ")\n",
    "\n",
    "# Посмотрим, есть ли у нас пользователи попавшие в обе группы теста\n",
    "common_clients = np.intersect1d(orders.query('group == \"A\"')['visitorId'].unique(), orders.query('group == \"B\"')['visitorId'].unique())\n",
    "print(len(common_clients), 'пользователей попали в обе группы')"
   ]
  },
  {
   "cell_type": "code",
   "execution_count": 10,
   "metadata": {},
   "outputs": [],
   "source": [
    "# удалим из нашей таблицы клиентов из группы abnormalUsers\n",
    "orders = orders.loc[~orders['visitorId'].isin(common_clients)]"
   ]
  },
  {
   "cell_type": "code",
   "execution_count": 11,
   "metadata": {},
   "outputs": [
    {
     "data": {
      "text/html": [
       "<div>\n",
       "<style scoped>\n",
       "    .dataframe tbody tr th:only-of-type {\n",
       "        vertical-align: middle;\n",
       "    }\n",
       "\n",
       "    .dataframe tbody tr th {\n",
       "        vertical-align: top;\n",
       "    }\n",
       "\n",
       "    .dataframe thead th {\n",
       "        text-align: right;\n",
       "    }\n",
       "</style>\n",
       "<table border=\"1\" class=\"dataframe\">\n",
       "  <thead>\n",
       "    <tr style=\"text-align: right;\">\n",
       "      <th></th>\n",
       "      <th>date</th>\n",
       "      <th>group</th>\n",
       "      <th>visitors</th>\n",
       "    </tr>\n",
       "  </thead>\n",
       "  <tbody>\n",
       "    <tr>\n",
       "      <td>0</td>\n",
       "      <td>2019-08-01</td>\n",
       "      <td>A</td>\n",
       "      <td>719</td>\n",
       "    </tr>\n",
       "    <tr>\n",
       "      <td>1</td>\n",
       "      <td>2019-08-02</td>\n",
       "      <td>A</td>\n",
       "      <td>619</td>\n",
       "    </tr>\n",
       "    <tr>\n",
       "      <td>2</td>\n",
       "      <td>2019-08-03</td>\n",
       "      <td>A</td>\n",
       "      <td>507</td>\n",
       "    </tr>\n",
       "    <tr>\n",
       "      <td>3</td>\n",
       "      <td>2019-08-04</td>\n",
       "      <td>A</td>\n",
       "      <td>717</td>\n",
       "    </tr>\n",
       "    <tr>\n",
       "      <td>4</td>\n",
       "      <td>2019-08-05</td>\n",
       "      <td>A</td>\n",
       "      <td>756</td>\n",
       "    </tr>\n",
       "  </tbody>\n",
       "</table>\n",
       "</div>"
      ],
      "text/plain": [
       "         date group  visitors\n",
       "0  2019-08-01     A       719\n",
       "1  2019-08-02     A       619\n",
       "2  2019-08-03     A       507\n",
       "3  2019-08-04     A       717\n",
       "4  2019-08-05     A       756"
      ]
     },
     "execution_count": 11,
     "metadata": {},
     "output_type": "execute_result"
    }
   ],
   "source": [
    "#откроем таблицу visitors и выведем её на экран\n",
    "visitors = pd.read_csv('/datasets/visitors.csv')\n",
    "visitors.head()"
   ]
  },
  {
   "cell_type": "code",
   "execution_count": 12,
   "metadata": {},
   "outputs": [
    {
     "name": "stdout",
     "output_type": "stream",
     "text": [
      "<class 'pandas.core.frame.DataFrame'>\n",
      "RangeIndex: 62 entries, 0 to 61\n",
      "Data columns (total 3 columns):\n",
      "date        62 non-null object\n",
      "group       62 non-null object\n",
      "visitors    62 non-null int64\n",
      "dtypes: int64(1), object(2)\n",
      "memory usage: 1.6+ KB\n"
     ]
    }
   ],
   "source": [
    "# Просмотрим основную информацию по данной таблице\n",
    "visitors.info()"
   ]
  },
  {
   "cell_type": "code",
   "execution_count": 13,
   "metadata": {},
   "outputs": [],
   "source": [
    "# Приведём столбец с датой к типу данный даты\n",
    "visitors['date'] = visitors['date'].map(\n",
    "    lambda x: dt.datetime.strptime(x, '%Y-%m-%d')\n",
    ")"
   ]
  },
  {
   "cell_type": "markdown",
   "metadata": {},
   "source": [
    "Таблица orders имеет 1197 строк и 5 столбцов:\n",
    "\n",
    " - transactionId — идентификатор заказа;\n",
    " - visitorId — идентификатор пользователя, совершившего заказ;\n",
    " - date — дата, когда был совершён заказ;\n",
    " - revenue — выручка заказа;\n",
    " - group — группа A/B-теста, в которую попал заказ.\n",
    "\n",
    "Таблица visitors имеет 62 строки и 3 столбца:\n",
    " \n",
    " - date — дата;\n",
    " - group — группа A/B-теста;\n",
    " - visitors — количество пользователей в указанную дату в указанной группе A/B-теста.\n",
    " \n",
    "У таблиц нет пропущенных значений, но у столбцов date я изменила тип данных с object на дату."
   ]
  },
  {
   "cell_type": "markdown",
   "metadata": {},
   "source": [
    "###  Построим график кумулятивной выручки по группам."
   ]
  },
  {
   "cell_type": "code",
   "execution_count": 14,
   "metadata": {},
   "outputs": [
    {
     "data": {
      "image/png": "[encoded data removed]",
      "text/plain": [
       "<Figure size 1152x360 with 1 Axes>"
      ]
     },
     "metadata": {
      "needs_background": "light"
     },
     "output_type": "display_data"
    }
   ],
   "source": [
    "# создаем массив уникальных пар значений дат и групп теста\n",
    "datesGroups = orders[['date','group']].drop_duplicates()\n",
    "\n",
    "# Создадим код для ежедневного счёта результатов тестирования\n",
    "ordersAggregated = datesGroups.apply(lambda x: orders[np.logical_and(orders['date'] <= x['date'], orders['group'] == x['group'])]\\\n",
    ".agg({'date' : 'max', 'group' : 'max', 'transactionId' : pd.Series.nunique, 'visitorId' : pd.Series.nunique, 'revenue' : 'sum'}), axis=1).sort_values(by=['date','group']) \n",
    "\n",
    "# Получим агрегированные кумулятивные по дням данные о посетителях интернет-магазина: \n",
    "visitorsAggregated = datesGroups.apply(lambda x: visitors[np.logical_and(visitors['date'] <= x['date'], visitors['group'] == x['group'])].agg({'date' : 'max', 'group' : 'max', 'visitors' : 'sum'}), axis=1).sort_values(by=['date','group']) \n",
    "\n",
    "# объединяем кумулятивные данные в одной таблице и присваиваем ее столбцам понятные названия\n",
    "cumulativeData = ordersAggregated.merge(visitorsAggregated, left_on=['date', 'group'], right_on=['date', 'group'])\n",
    "cumulativeData.columns = ['date', 'group', 'orders', 'buyers', 'revenue', 'visitors']\n",
    "\n",
    "# датафрейм с кумулятивным количеством заказов и кумулятивной выручкой по дням в группе А\n",
    "cumulativeRevenueA = cumulativeData[cumulativeData['group']=='A'][['date','revenue', 'orders']]\n",
    "\n",
    "# датафрейм с кумулятивным количеством заказов и кумулятивной выручкой по дням в группе B\n",
    "cumulativeRevenueB = cumulativeData[cumulativeData['group']=='B'][['date','revenue', 'orders']]\n",
    "\n",
    "# Зададим размер рисунка\n",
    "plt.figure(figsize=(16, 5))\n",
    "\n",
    "# Строим график выручки группы А\n",
    "plt.plot(cumulativeRevenueA['date'], cumulativeRevenueA['revenue'], label='A')\n",
    "\n",
    "# Строим график выручки группы B\n",
    "plt.plot(cumulativeRevenueB['date'], cumulativeRevenueB['revenue'], label='B')\n",
    "\n",
    "# Добавим подписи к графику\n",
    "plt.legend()\n",
    "plt.title('Накопительная выручка по группам')\n",
    "plt.xlabel('Дата')\n",
    "plt.ylabel('Выручка')\n",
    "plt.xticks(rotation=45)\n",
    "\n",
    "plt.annotate('скачок', xy=('2019-08-17', 2500000), xytext=('2019-08-13', 3300000),\n",
    "            arrowprops=dict(facecolor='g'))\n",
    "plt.annotate('отрыв', xy=('2019-08-05', 800000), xytext=('2019-08-05', 2000000),\n",
    "            arrowprops=dict(facecolor='g'));"
   ]
  },
  {
   "cell_type": "markdown",
   "metadata": {},
   "source": [
    "Выручка почти равномерно увеличивается в течение всего теста.\n",
    "\n",
    "Однако график выручки в группе B в нескольких точках резко растет. Это может сигнализировать о всплесках числа заказов, либо о появлении очень дорогих заказов в выборке. \n",
    "\n",
    "В целом группа B имеет большую выручку, относительно группы A."
   ]
  },
  {
   "cell_type": "markdown",
   "metadata": {},
   "source": [
    "###  Построим график кумулятивного среднего чека по группам."
   ]
  },
  {
   "cell_type": "code",
   "execution_count": 15,
   "metadata": {},
   "outputs": [
    {
     "data": {
      "image/png": "[encoded data removed]",
      "text/plain": [
       "<Figure size 1152x360 with 1 Axes>"
      ]
     },
     "metadata": {
      "needs_background": "light"
     },
     "output_type": "display_data"
    }
   ],
   "source": [
    "# Зададим размер рисунка\n",
    "plt.figure(figsize=(16, 5))\n",
    "\n",
    "# Построим график кумулятивного среднего чека (для этого сумму заказов делим на количество заказов)\n",
    "plt.plot(cumulativeRevenueA['date'], cumulativeRevenueA['revenue']/cumulativeRevenueA['orders'], label='A')\n",
    "plt.plot(cumulativeRevenueB['date'], cumulativeRevenueB['revenue']/cumulativeRevenueB['orders'], label='B')\n",
    "\n",
    "# Добавим подписи к графику\n",
    "plt.legend()\n",
    "plt.title('Накопительный средний чек по группам')\n",
    "plt.xlabel('Дата')\n",
    "plt.ylabel('Сумма среднего чека')\n",
    "plt.xticks(rotation=45)\n",
    "\n",
    "plt.annotate('отрыв и скачок', xy=('2019-08-19', 7200), xytext=('2019-08-21', 8300),\n",
    "            arrowprops=dict(facecolor='g'));"
   ]
  },
  {
   "cell_type": "markdown",
   "metadata": {},
   "source": [
    "Средний чек, если исключить резкие скачки тоже понемногу растёт.\n",
    "\n",
    "Однако линии имеют скачкообразный вид. Это значит, что были дорогие заказы.\n",
    "\n",
    "По данному графику трудно судить, у какой группы более высокий средний чек."
   ]
  },
  {
   "cell_type": "markdown",
   "metadata": {},
   "source": [
    "###  Построим график относительного изменения кумулятивного среднего чека группы B к группе A."
   ]
  },
  {
   "cell_type": "code",
   "execution_count": 16,
   "metadata": {},
   "outputs": [
    {
     "data": {
      "image/png": "[encoded data removed]",
      "text/plain": [
       "<Figure size 1152x360 with 1 Axes>"
      ]
     },
     "metadata": {
      "needs_background": "light"
     },
     "output_type": "display_data"
    }
   ],
   "source": [
    "# собираем данные в одном датафрейме\n",
    "mergedCumulativeRevenue = cumulativeRevenueA.merge(cumulativeRevenueB, left_on='date', right_on='date', how='left', suffixes=['A', 'B'])\n",
    "\n",
    "# Зададим размер рисунка\n",
    "plt.figure(figsize=(16, 5))\n",
    "\n",
    "# cтроим отношение средних чеков\n",
    "plt.plot(mergedCumulativeRevenue['date'], (mergedCumulativeRevenue['revenueB']/mergedCumulativeRevenue['ordersB'])/(mergedCumulativeRevenue['revenueA']/mergedCumulativeRevenue['ordersA'])-1)\n",
    "\n",
    "# добавляем ось X\n",
    "plt.axhline(y=0, color='black', linestyle='--')\n",
    "\n",
    "# Добавим подписи к графику\n",
    "plt.title('Изменение кумулятивного среднего чека группы В к группе А')\n",
    "plt.xlabel('Дата')\n",
    "plt.xticks(rotation=45);"
   ]
  },
  {
   "cell_type": "markdown",
   "metadata": {},
   "source": [
    "В нескольких точках график различия между сегментами резко «скачет». Значит у нас точно в выборке есть крупные заказы и выбросы."
   ]
  },
  {
   "cell_type": "markdown",
   "metadata": {},
   "source": [
    "###  Построим график кумулятивной конверсии по группам."
   ]
  },
  {
   "cell_type": "code",
   "execution_count": 17,
   "metadata": {},
   "outputs": [
    {
     "data": {
      "image/png": "[encoded data removed]",
      "text/plain": [
       "<Figure size 1152x360 with 1 Axes>"
      ]
     },
     "metadata": {
      "needs_background": "light"
     },
     "output_type": "display_data"
    }
   ],
   "source": [
    "# считаем кумулятивную конверсию\n",
    "cumulativeData['conversion'] = cumulativeData['orders']/cumulativeData['visitors']\n",
    "\n",
    "# отделяем данные по группе A\n",
    "cumulativeDataA = cumulativeData[cumulativeData['group']=='A']\n",
    "\n",
    "# отделяем данные по группе B\n",
    "cumulativeDataB = cumulativeData[cumulativeData['group']=='B']\n",
    "\n",
    "# Зададим размер рисунка\n",
    "plt.figure(figsize=(16, 5))\n",
    "\n",
    "# строим графики\n",
    "plt.plot(cumulativeDataA['date'], cumulativeDataA['conversion'], label='A')\n",
    "plt.plot(cumulativeDataB['date'], cumulativeDataB['conversion'], label='B')\n",
    "\n",
    "# задаем масштаб осей\n",
    "plt.axis([\"2019-08-01\", '2019-08-31', 0.02, 0.05])\n",
    "\n",
    "# Добавим подписи к графику\n",
    "plt.legend()\n",
    "plt.title('Конверсия по группам')\n",
    "plt.xlabel('Дата')\n",
    "plt.xticks(rotation=45)\n",
    "\n",
    "\n",
    "plt.annotate('отрыв', xy=('2019-08-06', 0.03), xytext=('2019-08-04', 0.035),\n",
    "            arrowprops=dict(facecolor='g'));"
   ]
  },
  {
   "cell_type": "markdown",
   "metadata": {},
   "source": [
    "Группы колебались около одного значения, но затем конверсия группы B вырвалась вперёд и зафиксировалась, а конверсия группы A просела и также зафиксировалась."
   ]
  },
  {
   "cell_type": "markdown",
   "metadata": {},
   "source": [
    "###  Построим график относительного изменения кумулятивной конверсии группы B к группе A."
   ]
  },
  {
   "cell_type": "code",
   "execution_count": 18,
   "metadata": {},
   "outputs": [
    {
     "data": {
      "image/png": "[encoded data removed]",
      "text/plain": [
       "<Figure size 1152x360 with 1 Axes>"
      ]
     },
     "metadata": {
      "needs_background": "light"
     },
     "output_type": "display_data"
    }
   ],
   "source": [
    "#Построим график относительного различия кумулятивных конверсий:\n",
    "mergedCumulativeConversions = cumulativeDataA[['date','conversion']].merge(cumulativeDataB[['date','conversion']], left_on='date', right_on='date', how='left', suffixes=['A', 'B'])\n",
    "\n",
    "# Зададим размер рисунка\n",
    "plt.figure(figsize=(16, 5))\n",
    "\n",
    "plt.plot(mergedCumulativeConversions['date'], mergedCumulativeConversions['conversionB']/mergedCumulativeConversions['conversionA']-1)\n",
    "plt.axhline(y=0, color='black', linestyle='--')\n",
    "plt.axhline(y=-0.1, color='grey', linestyle='--')\n",
    "plt.axis([\"2019-08-01\", '2019-08-31', -0.6, 0.6])\n",
    "\n",
    "# Добавим подписи к графику\n",
    "plt.title('Прирост конверсии группы В относительно группы А')\n",
    "plt.xlabel('Дата')\n",
    "plt.xticks(rotation=45);"
   ]
  },
  {
   "cell_type": "markdown",
   "metadata": {},
   "source": [
    "В начале теста группа B немного проигрывала группе A, затем вырвалась вперёд. Потом её конверсия стала немного падать, но теперь постепенно растёт.\n",
    "\n",
    "В целом отношение конверсии группы B выше конверсии группы А, но делать выводы рано, так как скорее всего в данных есть выбросы, которые сильно влияют на результаты. "
   ]
  },
  {
   "cell_type": "markdown",
   "metadata": {},
   "source": [
    "###  Построим точечный график количества заказов по пользователям."
   ]
  },
  {
   "cell_type": "code",
   "execution_count": 19,
   "metadata": {},
   "outputs": [
    {
     "data": {
      "image/png": "[encoded data removed]",
      "text/plain": [
       "<Figure size 1152x360 with 1 Axes>"
      ]
     },
     "metadata": {
      "needs_background": "light"
     },
     "output_type": "display_data"
    }
   ],
   "source": [
    "# Выведем таблицу с количество заказов по пользователям\n",
    "\n",
    "ordersByUsers = (\n",
    "    orders.drop(['group', 'revenue', 'date'], axis=1)\n",
    "    .groupby('visitorId', as_index=False)\n",
    "    .agg({'transactionId': pd.Series.nunique})\n",
    ")\n",
    "\n",
    "# Переименуем столбцы в таблице\n",
    "ordersByUsers.columns = ['userId', 'orders']\n",
    "\n",
    "# Зададим размер рисунка\n",
    "plt.figure(figsize=(16, 5))\n",
    "\n",
    "# Построим гистрограмму распределения количества заказов на одного пользователя.\n",
    "plt.hist(ordersByUsers['orders'])\n",
    "\n",
    "# Добавим подписи к графику\n",
    "plt.title('Количество заказов по пользователям')\n",
    "plt.xlabel('Количество заказов')\n",
    "plt.ylabel('Количество пользователей');"
   ]
  },
  {
   "cell_type": "markdown",
   "metadata": {},
   "source": [
    "Большинство покупателей заказывали только один раз. Однако доля пользователей с 2-3 заказами тоже значительна. "
   ]
  },
  {
   "cell_type": "code",
   "execution_count": 20,
   "metadata": {},
   "outputs": [
    {
     "data": {
      "image/png": "[encoded data removed]",
      "text/plain": [
       "<Figure size 1152x360 with 1 Axes>"
      ]
     },
     "metadata": {
      "needs_background": "light"
     },
     "output_type": "display_data"
    }
   ],
   "source": [
    "# Построим точечную диаграмму числа заказов на одного пользователя\n",
    "x_values = pd.Series(range(0,len(ordersByUsers)))\n",
    "\n",
    "# Зададим размер рисунка\n",
    "plt.figure(figsize=(16, 5))\n",
    "\n",
    "plt.scatter(x_values, ordersByUsers['orders'])\n",
    "\n",
    "# Добавим подписи к графику\n",
    "plt.title('Количество заказов по пользователям')\n",
    "plt.ylabel('Количество заказов');"
   ]
  },
  {
   "cell_type": "markdown",
   "metadata": {},
   "source": [
    "Выводы подтверждаются: много пользователей с 2-3 заказами. Их точная доля не ясна — непонятно, считать их аномалиями или нет. Нужно высчитать перцентили."
   ]
  },
  {
   "cell_type": "markdown",
   "metadata": {},
   "source": [
    "###  Посчитаем 95-й и 99-й перцентили количества заказов на пользователя."
   ]
  },
  {
   "cell_type": "code",
   "execution_count": 21,
   "metadata": {},
   "outputs": [
    {
     "name": "stdout",
     "output_type": "stream",
     "text": [
      "[1. 2.]\n"
     ]
    }
   ],
   "source": [
    "# Высчитаем 95 и 99 перцентили\n",
    "print(np.percentile(ordersByUsers['orders'], [95, 99]))"
   ]
  },
  {
   "cell_type": "markdown",
   "metadata": {},
   "source": [
    "Не более 1% пользователей оформляли больше чем 2 заказа.\n",
    "\n",
    "Выберем 2 заказ на одного пользователя за нижнюю границу числа заказов. "
   ]
  },
  {
   "cell_type": "markdown",
   "metadata": {},
   "source": [
    "###  Построим точечный график стоимостей заказов."
   ]
  },
  {
   "cell_type": "code",
   "execution_count": 22,
   "metadata": {},
   "outputs": [
    {
     "data": {
      "image/png": "[encoded data removed]",
      "text/plain": [
       "<Figure size 1152x360 with 1 Axes>"
      ]
     },
     "metadata": {
      "needs_background": "light"
     },
     "output_type": "display_data"
    }
   ],
   "source": [
    "# Зададим размер рисунка\n",
    "plt.figure(figsize=(16, 5))\n",
    "\n",
    "# Построим гистрограмму распределения стоимости заказов\n",
    "plt.hist(orders['revenue'])\n",
    "plt.xlim(0,200000)\n",
    "\n",
    "# Добавим подписи к графику\n",
    "plt.title('Стоимость заказов')\n",
    "plt.xlabel('Сумма заказа')\n",
    "plt.ylabel('Количество заказов');"
   ]
  },
  {
   "cell_type": "markdown",
   "metadata": {},
   "source": [
    "По данному графику сложно сделать какие-то выводы, построю точечный график стоимости заказов."
   ]
  },
  {
   "cell_type": "code",
   "execution_count": 23,
   "metadata": {},
   "outputs": [
    {
     "data": {
      "image/png": "[encoded data removed]",
      "text/plain": [
       "<Figure size 1152x360 with 1 Axes>"
      ]
     },
     "metadata": {
      "needs_background": "light"
     },
     "output_type": "display_data"
    }
   ],
   "source": [
    "# Зададим размер рисунка\n",
    "plt.figure(figsize=(16, 5))\n",
    "\n",
    "# Построим точечную диаграмму стоимостей заказов\n",
    "x_values = pd.Series(range(0,len(orders['revenue'])))\n",
    "plt.scatter(x_values, orders['revenue'], alpha = 0.2)\n",
    "\n",
    "# Добавим подписи к графику\n",
    "plt.title('Сумма заказов по пользователям')\n",
    "plt.ylabel('Сумма одного заказа');"
   ]
  },
  {
   "cell_type": "markdown",
   "metadata": {},
   "source": [
    "Большинство сумм заказов лежит до 100000 рублей, есть два точечных выброса, но они наверняка очень сильно влияются на данные. Нужно расчитать перцентили."
   ]
  },
  {
   "cell_type": "markdown",
   "metadata": {},
   "source": [
    "###  Посчитаем 95-й и 99-й перцентили стоимости заказов."
   ]
  },
  {
   "cell_type": "code",
   "execution_count": 24,
   "metadata": {},
   "outputs": [
    {
     "name": "stdout",
     "output_type": "stream",
     "text": [
      "[26785. 53904.]\n"
     ]
    }
   ],
   "source": [
    "# Высчитаем 95 и 99 перцентили\n",
    "print(np.percentile(orders['revenue'], [95, 99])) "
   ]
  },
  {
   "cell_type": "markdown",
   "metadata": {},
   "source": [
    "Не более 5% пользователей оформляли заказы на сумму 26 785. И 1% пользователей заказывали на сумму больше 53 904.\n",
    "\n",
    "Выберем сумму в 35000 за нижнюю границу суммы заказов."
   ]
  },
  {
   "cell_type": "markdown",
   "metadata": {},
   "source": [
    "###  Посчитаем статистическую значимость различий в конверсии между группами по «сырым» данным."
   ]
  },
  {
   "cell_type": "markdown",
   "metadata": {},
   "source": [
    "Сначала создадим таблицу для дальнейших расчётов"
   ]
  },
  {
   "cell_type": "code",
   "execution_count": 25,
   "metadata": {},
   "outputs": [
    {
     "data": {
      "text/html": [
       "<div>\n",
       "<style scoped>\n",
       "    .dataframe tbody tr th:only-of-type {\n",
       "        vertical-align: middle;\n",
       "    }\n",
       "\n",
       "    .dataframe tbody tr th {\n",
       "        vertical-align: top;\n",
       "    }\n",
       "\n",
       "    .dataframe thead th {\n",
       "        text-align: right;\n",
       "    }\n",
       "</style>\n",
       "<table border=\"1\" class=\"dataframe\">\n",
       "  <thead>\n",
       "    <tr style=\"text-align: right;\">\n",
       "      <th></th>\n",
       "      <th>date</th>\n",
       "      <th>ordersPerDateA</th>\n",
       "      <th>revenuePerDateA</th>\n",
       "      <th>ordersPerDateB</th>\n",
       "      <th>revenuePerDateB</th>\n",
       "      <th>ordersCummulativeA</th>\n",
       "      <th>revenueCummulativeA</th>\n",
       "      <th>ordersCummulativeB</th>\n",
       "      <th>revenueCummulativeB</th>\n",
       "      <th>visitorsPerDateA</th>\n",
       "      <th>visitorsPerDateB</th>\n",
       "      <th>visitorsCummulativeA</th>\n",
       "      <th>visitorsCummulativeB</th>\n",
       "    </tr>\n",
       "  </thead>\n",
       "  <tbody>\n",
       "    <tr>\n",
       "      <td>0</td>\n",
       "      <td>2019-08-01</td>\n",
       "      <td>23</td>\n",
       "      <td>142779</td>\n",
       "      <td>17</td>\n",
       "      <td>59758</td>\n",
       "      <td>23</td>\n",
       "      <td>142779</td>\n",
       "      <td>17</td>\n",
       "      <td>59758</td>\n",
       "      <td>719</td>\n",
       "      <td>713</td>\n",
       "      <td>719</td>\n",
       "      <td>713</td>\n",
       "    </tr>\n",
       "    <tr>\n",
       "      <td>1</td>\n",
       "      <td>2019-08-02</td>\n",
       "      <td>19</td>\n",
       "      <td>91602</td>\n",
       "      <td>23</td>\n",
       "      <td>162043</td>\n",
       "      <td>42</td>\n",
       "      <td>234381</td>\n",
       "      <td>40</td>\n",
       "      <td>221801</td>\n",
       "      <td>619</td>\n",
       "      <td>581</td>\n",
       "      <td>1338</td>\n",
       "      <td>1294</td>\n",
       "    </tr>\n",
       "    <tr>\n",
       "      <td>2</td>\n",
       "      <td>2019-08-03</td>\n",
       "      <td>24</td>\n",
       "      <td>112473</td>\n",
       "      <td>14</td>\n",
       "      <td>67049</td>\n",
       "      <td>66</td>\n",
       "      <td>346854</td>\n",
       "      <td>54</td>\n",
       "      <td>288850</td>\n",
       "      <td>507</td>\n",
       "      <td>509</td>\n",
       "      <td>1845</td>\n",
       "      <td>1803</td>\n",
       "    </tr>\n",
       "    <tr>\n",
       "      <td>3</td>\n",
       "      <td>2019-08-04</td>\n",
       "      <td>11</td>\n",
       "      <td>41176</td>\n",
       "      <td>14</td>\n",
       "      <td>96890</td>\n",
       "      <td>77</td>\n",
       "      <td>388030</td>\n",
       "      <td>68</td>\n",
       "      <td>385740</td>\n",
       "      <td>717</td>\n",
       "      <td>770</td>\n",
       "      <td>2562</td>\n",
       "      <td>2573</td>\n",
       "    </tr>\n",
       "    <tr>\n",
       "      <td>4</td>\n",
       "      <td>2019-08-05</td>\n",
       "      <td>22</td>\n",
       "      <td>86383</td>\n",
       "      <td>21</td>\n",
       "      <td>89908</td>\n",
       "      <td>99</td>\n",
       "      <td>474413</td>\n",
       "      <td>89</td>\n",
       "      <td>475648</td>\n",
       "      <td>756</td>\n",
       "      <td>707</td>\n",
       "      <td>3318</td>\n",
       "      <td>3280</td>\n",
       "    </tr>\n",
       "  </tbody>\n",
       "</table>\n",
       "</div>"
      ],
      "text/plain": [
       "        date  ordersPerDateA  revenuePerDateA  ordersPerDateB  \\\n",
       "0 2019-08-01              23           142779              17   \n",
       "1 2019-08-02              19            91602              23   \n",
       "2 2019-08-03              24           112473              14   \n",
       "3 2019-08-04              11            41176              14   \n",
       "4 2019-08-05              22            86383              21   \n",
       "\n",
       "   revenuePerDateB  ordersCummulativeA  revenueCummulativeA  \\\n",
       "0            59758                  23               142779   \n",
       "1           162043                  42               234381   \n",
       "2            67049                  66               346854   \n",
       "3            96890                  77               388030   \n",
       "4            89908                  99               474413   \n",
       "\n",
       "   ordersCummulativeB  revenueCummulativeB  visitorsPerDateA  \\\n",
       "0                  17                59758               719   \n",
       "1                  40               221801               619   \n",
       "2                  54               288850               507   \n",
       "3                  68               385740               717   \n",
       "4                  89               475648               756   \n",
       "\n",
       "   visitorsPerDateB  visitorsCummulativeA  visitorsCummulativeB  \n",
       "0               713                   719                   713  \n",
       "1               581                  1338                  1294  \n",
       "2               509                  1845                  1803  \n",
       "3               770                  2562                  2573  \n",
       "4               707                  3318                  3280  "
      ]
     },
     "execution_count": 25,
     "metadata": {},
     "output_type": "execute_result"
    }
   ],
   "source": [
    "# Создадим таблицу по визитам на сайт от группы А\n",
    "visitorsADaily = visitors[visitors['group'] == 'A'][['date', 'visitors']]\n",
    "# Переименуем название столбцов\n",
    "visitorsADaily.columns = ['date', 'visitorsPerDateA']\n",
    "\n",
    "# Рассчитаем visitorsCummulativeA — количество пользователей до выбранной даты включительно в группе A\n",
    "visitorsACummulative = visitorsADaily.apply(\n",
    "    lambda x: visitorsADaily[visitorsADaily['date'] <= x['date']].agg(\n",
    "        {'date': 'max', 'visitorsPerDateA': 'sum'}\n",
    "    ),\n",
    "    axis=1,\n",
    ")\n",
    "visitorsACummulative.columns = ['date', 'visitorsCummulativeA']\n",
    "\n",
    "# Создадим таблицу по визитам на сайт от группы B\n",
    "visitorsBDaily = visitors[visitors['group'] == 'B'][['date', 'visitors']]\n",
    "# Переименуем название столбцов\n",
    "visitorsBDaily.columns = ['date', 'visitorsPerDateB']\n",
    "\n",
    "# Рассчитаем visitorsCummulativeB — количество пользователей до выбранной даты включительно в группе B\n",
    "visitorsBCummulative = visitorsBDaily.apply(\n",
    "    lambda x: visitorsBDaily[visitorsBDaily['date'] <= x['date']].agg(\n",
    "        {'date': 'max', 'visitorsPerDateB': 'sum'}\n",
    "    ),\n",
    "    axis=1,\n",
    ")\n",
    "visitorsBCummulative.columns = ['date', 'visitorsCummulativeB']\n",
    "\n",
    "#Рассчитаем ordersPerDateA — количество заказов в выбранную дату в группе A\n",
    "#И revenuePerDateA — суммарная выручка в выбранную дату в группе A\n",
    "ordersADaily = (\n",
    "    orders[orders['group'] == 'A'][['date', 'transactionId', 'visitorId', 'revenue']]\n",
    "    .groupby('date', as_index=False)\n",
    "    .agg({'transactionId': pd.Series.nunique, 'revenue': 'sum'})\n",
    ")\n",
    "ordersADaily.columns = ['date', 'ordersPerDateA', 'revenuePerDateA']\n",
    "\n",
    "\n",
    "#Рассчитаем ordersCummulativeA — суммарное число заказов до выбранной даты включительно в группе A\n",
    "#И revenueCummulativeA — суммарная выручка до выбранной даты включительно в группе A\n",
    "ordersACummulative = ordersADaily.apply(\n",
    "    lambda x: ordersADaily[ordersADaily['date'] <= x['date']].agg(\n",
    "        {'date': 'max', 'ordersPerDateA': 'sum', 'revenuePerDateA': 'sum'}\n",
    "    ),\n",
    "    axis=1,\n",
    ").sort_values(by=['date'])\n",
    "ordersACummulative.columns = [\n",
    "    'date',\n",
    "    'ordersCummulativeA',\n",
    "    'revenueCummulativeA',\n",
    "]\n",
    "\n",
    "#Рассчитаем ordersPerDateB — количество заказов в выбранную дату в группе B\n",
    "#И revenuePerDateB — суммарная выручка в выбранную дату в группе B\n",
    "ordersBDaily = (\n",
    "    orders[orders['group'] == 'B'][['date', 'transactionId', 'visitorId', 'revenue']]\n",
    "    .groupby('date', as_index=False)\n",
    "    .agg({'transactionId': pd.Series.nunique, 'revenue': 'sum'})\n",
    ")\n",
    "ordersBDaily.columns = ['date', 'ordersPerDateB', 'revenuePerDateB']\n",
    "\n",
    "#Рассчитаем ordersCummulativeB — суммарное число заказов до выбранной даты включительно в группе B\n",
    "#И revenueCummulativeB — суммарная выручка до выбранной даты включительно в группе B\n",
    "ordersBCummulative = ordersBDaily.apply(\n",
    "    lambda x: ordersBDaily[ordersBDaily['date'] <= x['date']].agg(\n",
    "        {'date': 'max', 'ordersPerDateB': 'sum', 'revenuePerDateB': 'sum'}\n",
    "    ),\n",
    "    axis=1,\n",
    ").sort_values(by=['date'])\n",
    "ordersBCummulative.columns = [\n",
    "    'date',\n",
    "    'ordersCummulativeB',\n",
    "    'revenueCummulativeB',\n",
    "]\n",
    "\n",
    "# Создадим таблицу для дальнейших расчётов объединив все остальные\n",
    "data = (\n",
    "    ordersADaily.merge(\n",
    "        ordersBDaily, left_on='date', right_on='date', how='left'\n",
    "    )\n",
    "    .merge(ordersACummulative, left_on='date', right_on='date', how='left')\n",
    "    .merge(ordersBCummulative, left_on='date', right_on='date', how='left')\n",
    "    .merge(visitorsADaily, left_on='date', right_on='date', how='left')\n",
    "    .merge(visitorsBDaily, left_on='date', right_on='date', how='left')\n",
    "    .merge(visitorsACummulative, left_on='date', right_on='date', how='left')\n",
    "    .merge(visitorsBCummulative, left_on='date', right_on='date', how='left')\n",
    ")\n",
    "\n",
    "data.head(5)"
   ]
  },
  {
   "cell_type": "markdown",
   "metadata": {},
   "source": [
    "Содержание столбцов следующее:\n",
    "\n",
    " -\tdate — дата;\n",
    " -\tordersPerDateA — количество заказов в выбранную дату в группе A;\n",
    " -\trevenuePerDateA — суммарная выручка в выбранную дату в группе A;\n",
    " -\tordersPerDateB — количество заказов в выбранную дату в группе B;\n",
    " -\trevenuePerDateB — суммарная выручка в выбранную дату в группе B;\n",
    " -\tordersCummulativeA — суммарное число заказов до выбранной даты включительно в группе A;\n",
    " -\trevenueCummulativeA — суммарная выручка до выбранной даты включительно в группе A;\n",
    " -\tordersCummulativeB — суммарное количество заказов до выбранной даты включительно в группе B;\n",
    " -\trevenueCummulativeB — суммарная выручка до выбранной даты включительно в группе B;\n",
    " -\tvisitorsPerDateA — количество пользователей в выбранную дату в группе A;\n",
    " -\tvisitorsPerDateB — количество пользователей в выбранную дату в группе B;\n",
    " -\tvisitorsCummulativeA — количество пользователей до выбранной даты включительно в группе A;\n",
    " -\tvisitorsCummulativeB — количество пользователей до выбранной даты включительно в группе B."
   ]
  },
  {
   "cell_type": "markdown",
   "metadata": {},
   "source": [
    "Сформируем наши гипотезы:\n",
    "\n",
    " - Нулевая гипотеза: Статистически значимых различий в конверсии между группами нет.\n",
    " - Обратная гипотеза: Статистически значимые различия в конверсии между группами есть."
   ]
  },
  {
   "cell_type": "code",
   "execution_count": 26,
   "metadata": {},
   "outputs": [
    {
     "name": "stdout",
     "output_type": "stream",
     "text": [
      "0.011\n",
      "0.160\n"
     ]
    }
   ],
   "source": [
    "# Создадим переменные ordersByUsersA и ordersByUsersB со столбцами ['userId', 'orders']. \n",
    "# В них для пользователей, которые заказывали хотя бы 1 раз, укажем число совершённых заказов. \n",
    "ordersByUsersA = (\n",
    "    orders[orders['group'] == 'A']\n",
    "    .groupby('visitorId', as_index=False)\n",
    "    .agg({'transactionId': pd.Series.nunique})\n",
    ")\n",
    "ordersByUsersA.columns = ['userId', 'orders']\n",
    "\n",
    "ordersByUsersB = (\n",
    "    orders[orders['group'] == 'B']\n",
    "    .groupby('visitorId', as_index=False)\n",
    "    .agg({'transactionId': pd.Series.nunique})\n",
    ")\n",
    "ordersByUsersB.columns = ['userId', 'orders'] \n",
    "\n",
    "# Объявим переменные sampleA и sampleB, в которых пользователям из разных групп будет соответствовать количество заказов. \n",
    "# Тем, кто ничего не заказал, будут соответствовать нули. \n",
    "\n",
    "sampleA = pd.concat(\n",
    "    [\n",
    "        ordersByUsersA['orders'],\n",
    "        pd.Series(\n",
    "            0,\n",
    "            index=np.arange(\n",
    "                data['visitorsPerDateA'].sum() - len(ordersByUsersA['orders'])\n",
    "            ),\n",
    "            name='orders',\n",
    "        ),\n",
    "    ],\n",
    "    axis=0,\n",
    ")\n",
    "\n",
    "sampleB = pd.concat(\n",
    "    [\n",
    "        ordersByUsersB['orders'],\n",
    "        pd.Series(\n",
    "            0,\n",
    "            index=np.arange(\n",
    "                data['visitorsPerDateB'].sum() - len(ordersByUsersB['orders'])\n",
    "            ),\n",
    "            name='orders',\n",
    "        ),\n",
    "    ],\n",
    "    axis=0,\n",
    ")\n",
    "\n",
    "# Применим критерий и отформатируем p-value, округлив его до трёх знаков после запятой.\n",
    "print(\"{0:.3f}\".format(stats.mannwhitneyu(sampleA, sampleB, alternative = 'two-sided')[1]))\n",
    "print(\"{0:.3f}\".format(sampleB.mean() / sampleA.mean() - 1))"
   ]
  },
  {
   "cell_type": "markdown",
   "metadata": {},
   "source": [
    "Вывод: По «сырым» данным есть различия в конверсии групп A и B. \n",
    "\n",
    "Первое число — p-value = 0.011 меньше 0.05. Значит, нулевую гипотезу о том, что статистически значимых различий в конверсии между группами нет, отвергаем. \n",
    "\n",
    "Выигрыш группы B равен 16% — второе число в выводе. "
   ]
  },
  {
   "cell_type": "markdown",
   "metadata": {},
   "source": [
    "###  Посчитаем статистическую значимость различий в среднем чеке заказа между группами по «сырым» данным."
   ]
  },
  {
   "cell_type": "markdown",
   "metadata": {},
   "source": [
    "Сформируем наши гипотезы:\n",
    "\n",
    " - Нулевая гипотеза: В среднем чеке между группами есть различия.\n",
    " - Обратная гипотеза: В среднем чеке между группами различий нет."
   ]
  },
  {
   "cell_type": "code",
   "execution_count": 27,
   "metadata": {},
   "outputs": [
    {
     "name": "stdout",
     "output_type": "stream",
     "text": [
      "0.829\n",
      "0.287\n"
     ]
    }
   ],
   "source": [
    "print('{0:.3f}'.format(stats.mannwhitneyu(orders[orders['group']=='A']['revenue'], orders[orders['group']=='B']['revenue'], alternative = 'two-sided')[1]))\n",
    "print('{0:.3f}'.format(orders[orders['group']=='B']['revenue'].mean()/orders[orders['group']=='A']['revenue'].mean()-1)) "
   ]
  },
  {
   "cell_type": "markdown",
   "metadata": {},
   "source": [
    "P-value (первое число) значительно больше 0.05. Значит мы не отвергаем нулевую гипотезу, о том, что в среднем чеке между группами есть различия. \n",
    "\n",
    "Средний чек группы B значительно выше среднего чека группы A, почти на 29%."
   ]
  },
  {
   "cell_type": "markdown",
   "metadata": {},
   "source": [
    "###  Посчитаем статистическую значимость различий в конверсии между группами по «очищенным» данным."
   ]
  },
  {
   "cell_type": "code",
   "execution_count": 28,
   "metadata": {},
   "outputs": [
    {
     "name": "stdout",
     "output_type": "stream",
     "text": [
      "(37,)\n"
     ]
    }
   ],
   "source": [
    "# Сделаем срезы пользователей с числом заказов больше 2\n",
    "usersWithManyOrders = pd.concat(\n",
    "    [\n",
    "        ordersByUsersA[ordersByUsersA['orders'] > 2]['userId'],\n",
    "        ordersByUsersB[ordersByUsersB['orders'] > 2]['userId'],\n",
    "    ],\n",
    "    axis=0,\n",
    ")\n",
    "\n",
    "# Сделаем срезы пользователей, совершивших заказы дороже 20 000\n",
    "usersWithExpensiveOrders = orders[orders['revenue'] > 35000]['visitorId']\n",
    "\n",
    "# Объединим наши таблицы\n",
    "abnormalUsers = (\n",
    "    pd.concat([usersWithManyOrders, usersWithExpensiveOrders], axis=0)\n",
    "    .drop_duplicates()\n",
    "    .sort_values()\n",
    ")\n",
    "\n",
    "# Узнаем, сколько всего аномальных пользователей методом shape().\n",
    "print(abnormalUsers.shape) "
   ]
  },
  {
   "cell_type": "markdown",
   "metadata": {},
   "source": [
    "У нас 37 аномальных пользователей. \n",
    "\n",
    "Узнаем, как их действия повлияли на результаты теста."
   ]
  },
  {
   "cell_type": "code",
   "execution_count": 29,
   "metadata": {},
   "outputs": [
    {
     "name": "stdout",
     "output_type": "stream",
     "text": [
      "0.007\n",
      "0.194\n"
     ]
    }
   ],
   "source": [
    "# Объявим переменные sampleAFiltered и sampleBFiltered\n",
    "# в которых пользователям из разных групп будет соответствовать количество заказов. \n",
    "# Тем, кто ничего не заказал, будут соответствовать нули\n",
    "# Без наших 37 пользователей\n",
    "\n",
    "sampleAFiltered = pd.concat(\n",
    "    [\n",
    "        ordersByUsersA[\n",
    "            np.logical_not(ordersByUsersA['userId'].isin(abnormalUsers))\n",
    "        ]['orders'],\n",
    "        pd.Series(\n",
    "            0,\n",
    "            index=np.arange(\n",
    "                data['visitorsPerDateA'].sum() - len(ordersByUsersA['orders'])\n",
    "            ),\n",
    "            name='orders',\n",
    "        ),\n",
    "    ],\n",
    "    axis=0,\n",
    ")\n",
    "\n",
    "sampleBFiltered = pd.concat(\n",
    "    [\n",
    "        ordersByUsersB[\n",
    "            np.logical_not(ordersByUsersB['userId'].isin(abnormalUsers))\n",
    "        ]['orders'],\n",
    "        pd.Series(\n",
    "            0,\n",
    "            index=np.arange(\n",
    "                data['visitorsPerDateB'].sum() - len(ordersByUsersB['orders'])\n",
    "            ),\n",
    "            name='orders',\n",
    "        ),\n",
    "    ],\n",
    "    axis=0,\n",
    ") \n",
    "\n",
    "# Применим статистический критерий Манна-Уитни к полученным выборкам:\n",
    "print('{0:.3f}'.format(stats.mannwhitneyu(sampleAFiltered, sampleBFiltered, alternative = 'two-sided')[1]))\n",
    "print('{0:.3f}'.format(sampleBFiltered.mean()/sampleAFiltered.mean()-1)) "
   ]
  },
  {
   "cell_type": "markdown",
   "metadata": {},
   "source": [
    "Результаты по конверсии изменились, выигрыш группы B вырос с 16% до 19,4%\n",
    "\n",
    "Посмотрим на графике, как изменилась кумулятивная конверсии группы B к группе A, без наших выбросов."
   ]
  },
  {
   "cell_type": "code",
   "execution_count": 30,
   "metadata": {},
   "outputs": [
    {
     "data": {
      "image/png": "[encoded data removed]",
      "text/plain": [
       "<Figure size 1152x360 with 1 Axes>"
      ]
     },
     "metadata": {
      "needs_background": "light"
     },
     "output_type": "display_data"
    }
   ],
   "source": [
    "# Для этого удалим из нашей таблицы клиентов из группы abnormalUsers\n",
    "orders = orders.loc[~orders['visitorId'].isin(abnormalUsers)]\n",
    "\n",
    "# создаем массив уникальных пар значений дат и групп теста\n",
    "datesGroups = orders[['date','group']].drop_duplicates()\n",
    "\n",
    "# Создадим код для ежедневного счёта результатов тестирования\n",
    "ordersAggregated = datesGroups.apply(lambda x: orders[np.logical_and(orders['date'] <= x['date'], orders['group'] == x['group'])]\\\n",
    ".agg({'date' : 'max', 'group' : 'max', 'transactionId' : pd.Series.nunique, 'visitorId' : pd.Series.nunique, 'revenue' : 'sum'}), axis=1).sort_values(by=['date','group']) \n",
    "\n",
    "# Получим агрегированные кумулятивные по дням данные о посетителях интернет-магазина: \n",
    "visitorsAggregated = datesGroups.apply(lambda x: visitors[np.logical_and(visitors['date'] <= x['date'], visitors['group'] == x['group'])].agg({'date' : 'max', 'group' : 'max', 'visitors' : 'sum'}), axis=1).sort_values(by=['date','group']) \n",
    "\n",
    "# объединяем кумулятивные данные в одной таблице и присваиваем ее столбцам понятные названия\n",
    "cumulativeData = ordersAggregated.merge(visitorsAggregated, left_on=['date', 'group'], right_on=['date', 'group'])\n",
    "cumulativeData.columns = ['date', 'group', 'orders', 'buyers', 'revenue', 'visitors']\n",
    "\n",
    "# считаем кумулятивную конверсию\n",
    "cumulativeData['conversion'] = cumulativeData['orders']/cumulativeData['visitors']\n",
    "\n",
    "# отделяем данные по группе A\n",
    "cumulativeDataA = cumulativeData[cumulativeData['group']=='A']\n",
    "\n",
    "# отделяем данные по группе B\n",
    "cumulativeDataB = cumulativeData[cumulativeData['group']=='B']\n",
    "\n",
    "#Построим график относительного различия кумулятивных конверсий:\n",
    "mergedCumulativeConversions = cumulativeDataA[['date','conversion']].merge(cumulativeDataB[['date','conversion']], left_on='date', right_on='date', how='left', suffixes=['A', 'B'])\n",
    "\n",
    "# Зададим размер рисунка\n",
    "plt.figure(figsize=(16, 5))\n",
    "\n",
    "plt.plot(mergedCumulativeConversions['date'], mergedCumulativeConversions['conversionB']/mergedCumulativeConversions['conversionA']-1)\n",
    "plt.axhline(y=0, color='black', linestyle='--')\n",
    "plt.axhline(y=-0.1, color='grey', linestyle='--')\n",
    "plt.axis([\"2019-08-01\", '2019-08-31', -0.6, 0.6])\n",
    "\n",
    "# Добавим подписи к графику\n",
    "plt.title('Относительный прирост конверсии группы B относительно группы A')\n",
    "plt.xlabel('Дата')\n",
    "plt.xticks(rotation=45);"
   ]
  },
  {
   "cell_type": "markdown",
   "metadata": {},
   "source": [
    "В начале теста группа B шла вровень с группой A, затем вырвалась вперёд. Потом её конверсия стала немного падать, но теперь постепенно растёт."
   ]
  },
  {
   "cell_type": "markdown",
   "metadata": {},
   "source": [
    "###  Посчитаем статистическую значимость различий в среднем чеке заказа между группами по «очищенным» данным."
   ]
  },
  {
   "cell_type": "code",
   "execution_count": 31,
   "metadata": {},
   "outputs": [
    {
     "name": "stdout",
     "output_type": "stream",
     "text": [
      "0.869\n",
      "0.003\n"
     ]
    }
   ],
   "source": [
    "print(\n",
    "    '{0:.3f}'.format(\n",
    "        stats.mannwhitneyu(\n",
    "            orders[\n",
    "                np.logical_and(\n",
    "                    orders['group'] == 'A',\n",
    "                    np.logical_not(orders['visitorId'].isin(abnormalUsers)),\n",
    "                )\n",
    "            ]['revenue'],\n",
    "            orders[\n",
    "                np.logical_and(\n",
    "                    orders['group'] == 'B',\n",
    "                    np.logical_not(orders['visitorId'].isin(abnormalUsers)),\n",
    "                )\n",
    "            ]['revenue'], alternative = 'two-sided',\n",
    "        )[1]\n",
    "    )\n",
    ")\n",
    "\n",
    "print(\n",
    "    \"{0:.3f}\".format(\n",
    "        orders[\n",
    "            np.logical_and(\n",
    "                orders['group'] == 'B',\n",
    "                np.logical_not(orders['visitorId'].isin(abnormalUsers)),\n",
    "            )\n",
    "        ]['revenue'].mean()\n",
    "        / orders[\n",
    "            np.logical_and(\n",
    "                orders['group'] == 'A',\n",
    "                np.logical_not(orders['visitorId'].isin(abnormalUsers)),\n",
    "            )\n",
    "        ]['revenue'].mean()\n",
    "        - 1\n",
    "    )\n",
    ") "
   ]
  },
  {
   "cell_type": "markdown",
   "metadata": {},
   "source": [
    "P-value увеличился, но и разница между сегментами сократилась с 28% до 3%.\n",
    "\n",
    "Посмотрим на графике, как изменился средний чек между группами, без наших выбросов."
   ]
  },
  {
   "cell_type": "code",
   "execution_count": 32,
   "metadata": {},
   "outputs": [
    {
     "data": {
      "image/png": "[encoded data removed]",
      "text/plain": [
       "<Figure size 1152x360 with 1 Axes>"
      ]
     },
     "metadata": {
      "needs_background": "light"
     },
     "output_type": "display_data"
    }
   ],
   "source": [
    "# датафрейм с кумулятивным количеством заказов и кумулятивной выручкой по дням в группе А\n",
    "cumulativeRevenueA = cumulativeData[cumulativeData['group']=='A'][['date','revenue', 'orders']]\n",
    "\n",
    "# датафрейм с кумулятивным количеством заказов и кумулятивной выручкой по дням в группе B\n",
    "cumulativeRevenueB = cumulativeData[cumulativeData['group']=='B'][['date','revenue', 'orders']]\n",
    "\n",
    "# собираем данные в одном датафрейме\n",
    "mergedCumulativeRevenue = cumulativeRevenueA.merge(cumulativeRevenueB, left_on='date', right_on='date', how='left', suffixes=['A', 'B'])\n",
    "\n",
    "# Зададим размер рисунка\n",
    "plt.figure(figsize=(16, 5))\n",
    "\n",
    "# cтроим отношение средних чеков\n",
    "plt.plot(mergedCumulativeRevenue['date'], (mergedCumulativeRevenue['revenueB']/mergedCumulativeRevenue['ordersB'])/(mergedCumulativeRevenue['revenueA']/mergedCumulativeRevenue['ordersA'])-1)\n",
    "\n",
    "# добавляем ось X\n",
    "plt.axhline(y=0, color='black', linestyle='--')\n",
    "\n",
    "# Добавим подписи к графику\n",
    "plt.title('Изменение кумулятивного среднего чека группы В к группе А')\n",
    "plt.xlabel('Дата')\n",
    "plt.xticks(rotation=45);"
   ]
  },
  {
   "cell_type": "markdown",
   "metadata": {},
   "source": [
    "На начальных этапах средний чек группы B был выше, чем у группы А, но в потом он стабилизировался и стал чуть больше, чем у группы А."
   ]
  },
  {
   "cell_type": "markdown",
   "metadata": {},
   "source": [
    "###  Вывод."
   ]
  },
  {
   "cell_type": "markdown",
   "metadata": {},
   "source": [
    "Изначально мы выявили теорию с самым высоким приоритетом: \"Добавить форму подписки на все основные страницы, чтобы собрать базу клиентов для email-рассылок\"\n",
    "\n",
    "Изначально в наших данных была группа пользователей из 58 человек, которые попали в обе группы. Я их удалила сделала на их основе A/B тест.\n",
    "\n",
    "По проверке теории, имеем следующие факты:\n",
    "\n",
    " -\tЕсть статистически значимое различие по конверсии между группами по «сырым» и по данным после фильтрации аномалий;\n",
    " -\tЕсть статистически значимое различия по среднему чеку между группами по «сырым» и по данным после фильтрации аномалий;\n",
    " -\tГрафик различия конверсии между группами сообщает, что результаты группы B лучше группы A:\n",
    " \n",
    " 1) Что до фильтрации, что после неё пользователи группы B на 20% чаще покупают, чем пользователи группы А.\n",
    " \n",
    " \n",
    " -\tГрафик различия среднего чека говорит о том, что результаты группы B лучше, чем у группы А:\n",
    " \n",
    " 1) До фильтрации разница составляла 28%\n",
    " \n",
    " 2) После фильтрации составляет 3%\n",
    " \n",
    "Исходя из обнаруженных фактов, тест следует остановить и признать его успешным. Группа B заказывает чаще, и пусть с маленьким, но всё-таки приростом среднего чека на 3%.\n",
    "\n",
    "Что и требовалось, мы добавляли форму подписки, люди стали заказывать чаще, то есть чаще возвращаться на сайт."
   ]
  }
 ],
 "metadata": {
  "ExecuteTimeLog": [
   {
    "duration": 214,
    "start_time": "2021-07-28T13:35:41.952Z"
   },
   {
    "duration": 587,
    "start_time": "2021-07-28T13:35:43.777Z"
   },
   {
    "duration": 30,
    "start_time": "2021-07-28T13:35:45.315Z"
   },
   {
    "duration": 23,
    "start_time": "2021-07-28T13:35:52.308Z"
   },
   {
    "duration": 7,
    "start_time": "2021-07-28T13:36:06.120Z"
   },
   {
    "duration": 7,
    "start_time": "2021-07-28T13:41:28.128Z"
   },
   {
    "duration": 22,
    "start_time": "2021-07-28T13:41:32.749Z"
   },
   {
    "duration": 13,
    "start_time": "2021-07-28T13:41:47.085Z"
   },
   {
    "duration": 574,
    "start_time": "2021-07-28T13:41:51.494Z"
   },
   {
    "duration": 37,
    "start_time": "2021-07-28T13:41:52.070Z"
   },
   {
    "duration": 6,
    "start_time": "2021-07-28T13:41:52.110Z"
   },
   {
    "duration": 14,
    "start_time": "2021-07-28T13:41:52.118Z"
   },
   {
    "duration": 280,
    "start_time": "2021-07-28T13:41:52.134Z"
   },
   {
    "duration": 10,
    "start_time": "2021-07-28T13:42:20.976Z"
   },
   {
    "duration": 9,
    "start_time": "2021-07-28T13:43:23.382Z"
   },
   {
    "duration": 14,
    "start_time": "2021-07-28T13:43:43.180Z"
   },
   {
    "duration": 10,
    "start_time": "2021-07-28T13:51:35.264Z"
   },
   {
    "duration": 5,
    "start_time": "2021-07-28T13:53:44.013Z"
   },
   {
    "duration": 4,
    "start_time": "2021-07-28T13:53:51.796Z"
   },
   {
    "duration": 4,
    "start_time": "2021-07-28T13:54:00.275Z"
   },
   {
    "duration": 4,
    "start_time": "2021-07-28T13:54:36.817Z"
   },
   {
    "duration": 4,
    "start_time": "2021-07-28T13:55:04.561Z"
   },
   {
    "duration": 192,
    "start_time": "2021-07-28T13:57:17.115Z"
   },
   {
    "duration": 12,
    "start_time": "2021-07-28T13:57:23.177Z"
   },
   {
    "duration": 4,
    "start_time": "2021-07-28T13:58:02.853Z"
   },
   {
    "duration": 58,
    "start_time": "2021-07-28T14:21:10.570Z"
   },
   {
    "duration": 57,
    "start_time": "2021-07-28T14:21:23.237Z"
   },
   {
    "duration": 6,
    "start_time": "2021-07-28T14:21:54.337Z"
   },
   {
    "duration": 6,
    "start_time": "2021-07-28T14:22:00.017Z"
   },
   {
    "duration": 223,
    "start_time": "2021-07-28T14:22:02.345Z"
   },
   {
    "duration": 18,
    "start_time": "2021-07-28T14:22:34.948Z"
   },
   {
    "duration": 20,
    "start_time": "2021-07-28T14:39:47.297Z"
   },
   {
    "duration": 6,
    "start_time": "2021-07-28T14:39:49.796Z"
   },
   {
    "duration": 29,
    "start_time": "2021-07-28T14:40:05.095Z"
   },
   {
    "duration": 21,
    "start_time": "2021-07-28T14:40:08.659Z"
   },
   {
    "duration": 12,
    "start_time": "2021-07-28T14:40:30.739Z"
   },
   {
    "duration": 555,
    "start_time": "2021-07-28T14:45:32.812Z"
   },
   {
    "duration": 32,
    "start_time": "2021-07-28T14:45:33.369Z"
   },
   {
    "duration": 14,
    "start_time": "2021-07-28T14:45:33.403Z"
   },
   {
    "duration": 18,
    "start_time": "2021-07-28T14:45:33.419Z"
   },
   {
    "duration": 20,
    "start_time": "2021-07-28T14:45:33.439Z"
   },
   {
    "duration": 62,
    "start_time": "2021-07-28T14:45:33.461Z"
   },
   {
    "duration": 15,
    "start_time": "2021-07-28T14:45:33.525Z"
   },
   {
    "duration": 915,
    "start_time": "2021-07-28T14:45:33.542Z"
   },
   {
    "duration": 67,
    "start_time": "2021-07-28T14:45:34.392Z"
   },
   {
    "duration": 65,
    "start_time": "2021-07-28T14:45:34.396Z"
   },
   {
    "duration": 60,
    "start_time": "2021-07-28T14:45:34.402Z"
   },
   {
    "duration": 56,
    "start_time": "2021-07-28T14:45:34.407Z"
   },
   {
    "duration": 49,
    "start_time": "2021-07-28T14:45:34.416Z"
   },
   {
    "duration": 46,
    "start_time": "2021-07-28T14:45:34.420Z"
   },
   {
    "duration": 45,
    "start_time": "2021-07-28T14:45:34.422Z"
   },
   {
    "duration": 3,
    "start_time": "2021-07-28T14:46:49.548Z"
   },
   {
    "duration": 843,
    "start_time": "2021-07-28T14:46:54.197Z"
   },
   {
    "duration": 953,
    "start_time": "2021-07-28T14:47:21.479Z"
   },
   {
    "duration": 12,
    "start_time": "2021-07-28T14:48:02.271Z"
   },
   {
    "duration": 9,
    "start_time": "2021-07-28T14:48:04.281Z"
   },
   {
    "duration": 23,
    "start_time": "2021-07-28T14:48:08.720Z"
   },
   {
    "duration": 24,
    "start_time": "2021-07-28T14:48:10.562Z"
   },
   {
    "duration": 7,
    "start_time": "2021-07-28T14:48:21.435Z"
   },
   {
    "duration": 5,
    "start_time": "2021-07-28T14:48:23.184Z"
   },
   {
    "duration": 6,
    "start_time": "2021-07-28T14:48:25.009Z"
   },
   {
    "duration": 16,
    "start_time": "2021-07-28T14:48:31.444Z"
   },
   {
    "duration": 2,
    "start_time": "2021-07-28T15:28:34.741Z"
   },
   {
    "duration": 13,
    "start_time": "2021-07-28T15:29:16.535Z"
   },
   {
    "duration": 185,
    "start_time": "2021-07-28T15:29:32.587Z"
   },
   {
    "duration": 203,
    "start_time": "2021-07-28T15:30:15.588Z"
   },
   {
    "duration": 56,
    "start_time": "2021-07-28T15:32:32.356Z"
   },
   {
    "duration": 68,
    "start_time": "2021-07-28T15:32:36.485Z"
   },
   {
    "duration": 5181,
    "start_time": "2021-07-28T15:32:40.021Z"
   },
   {
    "duration": 201,
    "start_time": "2021-07-28T15:36:55.272Z"
   },
   {
    "duration": 224,
    "start_time": "2021-07-28T15:36:59.422Z"
   },
   {
    "duration": 351,
    "start_time": "2021-07-28T15:43:49.984Z"
   },
   {
    "duration": 336,
    "start_time": "2021-07-28T15:44:41.432Z"
   },
   {
    "duration": 352,
    "start_time": "2021-07-28T15:44:45.839Z"
   },
   {
    "duration": 77,
    "start_time": "2021-07-28T15:45:22.904Z"
   },
   {
    "duration": 577,
    "start_time": "2021-07-28T15:46:18.077Z"
   },
   {
    "duration": 3,
    "start_time": "2021-07-28T15:47:00.891Z"
   },
   {
    "duration": 675,
    "start_time": "2021-07-28T15:47:04.233Z"
   },
   {
    "duration": 194,
    "start_time": "2021-07-28T15:53:12.062Z"
   },
   {
    "duration": 277,
    "start_time": "2021-07-28T16:01:19.815Z"
   },
   {
    "duration": 167,
    "start_time": "2021-07-28T16:06:47.330Z"
   },
   {
    "duration": 198,
    "start_time": "2021-07-28T16:07:22.738Z"
   },
   {
    "duration": 13,
    "start_time": "2021-07-28T16:07:35.890Z"
   },
   {
    "duration": 182,
    "start_time": "2021-07-28T16:07:52.257Z"
   },
   {
    "duration": 177,
    "start_time": "2021-07-28T16:08:00.208Z"
   },
   {
    "duration": 193,
    "start_time": "2021-07-28T16:08:08.516Z"
   },
   {
    "duration": 176,
    "start_time": "2021-07-28T16:08:21.418Z"
   },
   {
    "duration": 181,
    "start_time": "2021-07-28T16:08:26.157Z"
   },
   {
    "duration": 171,
    "start_time": "2021-07-28T16:08:32.157Z"
   },
   {
    "duration": 230,
    "start_time": "2021-07-28T16:08:38.514Z"
   },
   {
    "duration": 170,
    "start_time": "2021-07-28T16:08:45.668Z"
   },
   {
    "duration": 179,
    "start_time": "2021-07-28T16:08:56.345Z"
   },
   {
    "duration": 167,
    "start_time": "2021-07-28T16:09:06.329Z"
   },
   {
    "duration": 176,
    "start_time": "2021-07-28T16:09:18.530Z"
   },
   {
    "duration": 323,
    "start_time": "2021-07-28T16:12:51.061Z"
   },
   {
    "duration": 1130,
    "start_time": "2021-07-30T15:23:46.288Z"
   },
   {
    "duration": 37,
    "start_time": "2021-07-30T15:23:47.422Z"
   },
   {
    "duration": 12,
    "start_time": "2021-07-30T15:23:47.462Z"
   },
   {
    "duration": 18,
    "start_time": "2021-07-30T15:23:47.477Z"
   },
   {
    "duration": 15,
    "start_time": "2021-07-30T15:23:47.497Z"
   },
   {
    "duration": 60,
    "start_time": "2021-07-30T15:23:47.514Z"
   },
   {
    "duration": 7,
    "start_time": "2021-07-30T15:23:47.576Z"
   },
   {
    "duration": 23,
    "start_time": "2021-07-30T15:23:47.586Z"
   },
   {
    "duration": 51,
    "start_time": "2021-07-30T15:23:47.612Z"
   },
   {
    "duration": 23,
    "start_time": "2021-07-30T15:23:47.665Z"
   },
   {
    "duration": 12,
    "start_time": "2021-07-30T15:23:47.690Z"
   },
   {
    "duration": 8,
    "start_time": "2021-07-30T15:23:47.704Z"
   },
   {
    "duration": 18,
    "start_time": "2021-07-30T15:23:47.714Z"
   },
   {
    "duration": 928,
    "start_time": "2021-07-30T15:23:47.734Z"
   },
   {
    "duration": 306,
    "start_time": "2021-07-30T15:23:48.664Z"
   },
   {
    "duration": 405,
    "start_time": "2021-07-30T15:23:48.972Z"
   },
   {
    "duration": 483,
    "start_time": "2021-07-30T15:23:49.379Z"
   },
   {
    "duration": 547,
    "start_time": "2021-07-30T15:23:49.865Z"
   },
   {
    "duration": 427,
    "start_time": "2021-07-30T15:24:00.256Z"
   },
   {
    "duration": 385,
    "start_time": "2021-07-30T15:25:24.717Z"
   },
   {
    "duration": 34,
    "start_time": "2021-07-30T15:27:55.267Z"
   },
   {
    "duration": 110,
    "start_time": "2021-07-30T15:29:24.950Z"
   },
   {
    "duration": 317,
    "start_time": "2021-07-30T15:29:39.520Z"
   },
   {
    "duration": 619,
    "start_time": "2021-07-30T15:30:27.682Z"
   },
   {
    "duration": 461,
    "start_time": "2021-07-30T15:30:32.153Z"
   },
   {
    "duration": 401,
    "start_time": "2021-07-30T15:31:20.207Z"
   },
   {
    "duration": 89,
    "start_time": "2021-07-30T15:33:33.993Z"
   },
   {
    "duration": 68,
    "start_time": "2021-07-30T15:33:39.020Z"
   },
   {
    "duration": 7,
    "start_time": "2021-07-30T15:33:47.495Z"
   },
   {
    "duration": 278,
    "start_time": "2021-07-30T15:36:54.432Z"
   },
   {
    "duration": 21,
    "start_time": "2021-07-30T15:38:02.261Z"
   },
   {
    "duration": 520,
    "start_time": "2021-07-30T15:38:08.511Z"
   },
   {
    "duration": 494,
    "start_time": "2021-07-30T15:38:12.662Z"
   },
   {
    "duration": 6,
    "start_time": "2021-07-30T15:40:31.018Z"
   },
   {
    "duration": 6,
    "start_time": "2021-07-30T15:41:52.452Z"
   },
   {
    "duration": 6,
    "start_time": "2021-07-30T15:42:00.862Z"
   },
   {
    "duration": 7,
    "start_time": "2021-07-30T15:42:08.286Z"
   },
   {
    "duration": 6,
    "start_time": "2021-07-30T15:42:12.288Z"
   },
   {
    "duration": 7,
    "start_time": "2021-07-30T15:42:23.882Z"
   },
   {
    "duration": 683,
    "start_time": "2021-07-30T15:51:55.538Z"
   },
   {
    "duration": 673,
    "start_time": "2021-07-30T15:58:30.917Z"
   },
   {
    "duration": 492,
    "start_time": "2021-07-30T16:05:47.466Z"
   },
   {
    "duration": 517,
    "start_time": "2021-07-30T16:06:11.942Z"
   },
   {
    "duration": 346,
    "start_time": "2021-07-30T16:06:16.414Z"
   },
   {
    "duration": 1358,
    "start_time": "2021-07-31T13:02:04.589Z"
   },
   {
    "duration": 29,
    "start_time": "2021-07-31T13:02:05.949Z"
   },
   {
    "duration": 12,
    "start_time": "2021-07-31T13:02:05.983Z"
   },
   {
    "duration": 18,
    "start_time": "2021-07-31T13:02:05.998Z"
   },
   {
    "duration": 17,
    "start_time": "2021-07-31T13:02:06.018Z"
   },
   {
    "duration": 58,
    "start_time": "2021-07-31T13:02:06.038Z"
   },
   {
    "duration": 9,
    "start_time": "2021-07-31T13:02:06.099Z"
   },
   {
    "duration": 20,
    "start_time": "2021-07-31T13:02:06.112Z"
   },
   {
    "duration": 58,
    "start_time": "2021-07-31T13:02:06.134Z"
   },
   {
    "duration": 26,
    "start_time": "2021-07-31T13:02:06.195Z"
   },
   {
    "duration": 7,
    "start_time": "2021-07-31T13:02:06.223Z"
   },
   {
    "duration": 6,
    "start_time": "2021-07-31T13:02:06.233Z"
   },
   {
    "duration": 48,
    "start_time": "2021-07-31T13:02:06.241Z"
   },
   {
    "duration": 956,
    "start_time": "2021-07-31T13:02:06.294Z"
   },
   {
    "duration": 329,
    "start_time": "2021-07-31T13:02:07.253Z"
   },
   {
    "duration": 438,
    "start_time": "2021-07-31T13:02:07.585Z"
   },
   {
    "duration": 320,
    "start_time": "2021-07-31T13:02:08.026Z"
   },
   {
    "duration": 475,
    "start_time": "2021-07-31T13:02:08.348Z"
   },
   {
    "duration": 492,
    "start_time": "2021-07-31T13:02:08.825Z"
   },
   {
    "duration": 378,
    "start_time": "2021-07-31T13:02:09.320Z"
   },
   {
    "duration": 9,
    "start_time": "2021-07-31T13:02:09.701Z"
   },
   {
    "duration": 320,
    "start_time": "2021-07-31T13:02:09.713Z"
   },
   {
    "duration": 456,
    "start_time": "2021-07-31T13:02:10.038Z"
   },
   {
    "duration": 10,
    "start_time": "2021-07-31T13:02:10.498Z"
   },
   {
    "duration": 576,
    "start_time": "2021-07-31T13:02:10.511Z"
   },
   {
    "duration": 265,
    "start_time": "2021-07-31T13:02:11.090Z"
   },
   {
    "duration": 1900,
    "start_time": "2021-07-31T13:03:47.153Z"
   },
   {
    "duration": 28,
    "start_time": "2021-07-31T13:03:49.055Z"
   },
   {
    "duration": 17,
    "start_time": "2021-07-31T13:03:49.087Z"
   },
   {
    "duration": 32,
    "start_time": "2021-07-31T13:03:49.108Z"
   },
   {
    "duration": 14,
    "start_time": "2021-07-31T13:03:49.142Z"
   },
   {
    "duration": 63,
    "start_time": "2021-07-31T13:03:49.158Z"
   },
   {
    "duration": 29,
    "start_time": "2021-07-31T13:03:49.223Z"
   },
   {
    "duration": 46,
    "start_time": "2021-07-31T13:03:49.255Z"
   },
   {
    "duration": 32,
    "start_time": "2021-07-31T13:03:49.305Z"
   },
   {
    "duration": 21,
    "start_time": "2021-07-31T13:03:49.339Z"
   },
   {
    "duration": 34,
    "start_time": "2021-07-31T13:03:49.363Z"
   },
   {
    "duration": 17,
    "start_time": "2021-07-31T13:03:49.401Z"
   },
   {
    "duration": 47,
    "start_time": "2021-07-31T13:03:49.420Z"
   },
   {
    "duration": 970,
    "start_time": "2021-07-31T13:03:49.470Z"
   },
   {
    "duration": 328,
    "start_time": "2021-07-31T13:03:50.442Z"
   },
   {
    "duration": 428,
    "start_time": "2021-07-31T13:03:50.773Z"
   },
   {
    "duration": 332,
    "start_time": "2021-07-31T13:03:51.205Z"
   },
   {
    "duration": 482,
    "start_time": "2021-07-31T13:03:51.539Z"
   },
   {
    "duration": 514,
    "start_time": "2021-07-31T13:03:52.024Z"
   },
   {
    "duration": 435,
    "start_time": "2021-07-31T13:03:52.541Z"
   },
   {
    "duration": 8,
    "start_time": "2021-07-31T13:03:52.982Z"
   },
   {
    "duration": 440,
    "start_time": "2021-07-31T13:03:52.995Z"
   },
   {
    "duration": 459,
    "start_time": "2021-07-31T13:03:53.440Z"
   },
   {
    "duration": 7,
    "start_time": "2021-07-31T13:03:53.902Z"
   },
   {
    "duration": 566,
    "start_time": "2021-07-31T13:03:53.912Z"
   },
   {
    "duration": 314,
    "start_time": "2021-07-31T13:03:54.483Z"
   },
   {
    "duration": 13,
    "start_time": "2021-07-31T13:05:26.838Z"
   },
   {
    "duration": 1356,
    "start_time": "2021-07-31T13:06:47.882Z"
   },
   {
    "duration": 29,
    "start_time": "2021-07-31T13:06:49.240Z"
   },
   {
    "duration": 14,
    "start_time": "2021-07-31T13:06:49.272Z"
   },
   {
    "duration": 21,
    "start_time": "2021-07-31T13:06:49.291Z"
   },
   {
    "duration": 15,
    "start_time": "2021-07-31T13:06:49.315Z"
   },
   {
    "duration": 56,
    "start_time": "2021-07-31T13:06:49.332Z"
   },
   {
    "duration": 13,
    "start_time": "2021-07-31T13:06:49.391Z"
   },
   {
    "duration": 24,
    "start_time": "2021-07-31T13:06:49.408Z"
   },
   {
    "duration": 49,
    "start_time": "2021-07-31T13:06:49.435Z"
   },
   {
    "duration": 24,
    "start_time": "2021-07-31T13:06:49.488Z"
   },
   {
    "duration": 8,
    "start_time": "2021-07-31T13:06:49.515Z"
   },
   {
    "duration": 9,
    "start_time": "2021-07-31T13:06:49.525Z"
   },
   {
    "duration": 17,
    "start_time": "2021-07-31T13:06:49.537Z"
   },
   {
    "duration": 960,
    "start_time": "2021-07-31T13:06:49.583Z"
   },
   {
    "duration": 358,
    "start_time": "2021-07-31T13:06:50.545Z"
   },
   {
    "duration": 423,
    "start_time": "2021-07-31T13:06:50.906Z"
   },
   {
    "duration": 334,
    "start_time": "2021-07-31T13:06:51.332Z"
   },
   {
    "duration": 484,
    "start_time": "2021-07-31T13:06:51.669Z"
   },
   {
    "duration": 470,
    "start_time": "2021-07-31T13:06:52.156Z"
   },
   {
    "duration": 376,
    "start_time": "2021-07-31T13:06:52.628Z"
   },
   {
    "duration": 5,
    "start_time": "2021-07-31T13:06:53.007Z"
   },
   {
    "duration": 326,
    "start_time": "2021-07-31T13:06:53.015Z"
   },
   {
    "duration": 429,
    "start_time": "2021-07-31T13:06:53.346Z"
   },
   {
    "duration": 6,
    "start_time": "2021-07-31T13:06:53.778Z"
   },
   {
    "duration": 570,
    "start_time": "2021-07-31T13:06:53.787Z"
   },
   {
    "duration": 263,
    "start_time": "2021-07-31T13:06:54.359Z"
   },
   {
    "duration": 15,
    "start_time": "2021-07-31T13:06:54.624Z"
   },
   {
    "duration": 9,
    "start_time": "2021-07-31T13:08:49.015Z"
   },
   {
    "duration": 7,
    "start_time": "2021-07-31T13:08:58.166Z"
   },
   {
    "duration": 6,
    "start_time": "2021-07-31T13:09:03.336Z"
   },
   {
    "duration": 7530,
    "start_time": "2021-07-31T13:13:01.819Z"
   },
   {
    "duration": 11,
    "start_time": "2021-07-31T13:13:20.651Z"
   },
   {
    "duration": 23,
    "start_time": "2021-07-31T13:13:37.913Z"
   },
   {
    "duration": 15,
    "start_time": "2021-07-31T13:13:56.741Z"
   },
   {
    "duration": 16,
    "start_time": "2021-07-31T13:16:13.418Z"
   },
   {
    "duration": 17,
    "start_time": "2021-07-31T13:18:14.452Z"
   },
   {
    "duration": 7880,
    "start_time": "2021-07-31T13:20:05.201Z"
   },
   {
    "duration": 20,
    "start_time": "2021-07-31T13:20:32.063Z"
   },
   {
    "duration": 15,
    "start_time": "2021-07-31T13:30:10.910Z"
   },
   {
    "duration": 23,
    "start_time": "2021-07-31T13:31:13.370Z"
   },
   {
    "duration": 19,
    "start_time": "2021-07-31T13:31:48.214Z"
   },
   {
    "duration": 32,
    "start_time": "2021-07-31T13:32:33.979Z"
   },
   {
    "duration": 14,
    "start_time": "2021-07-31T13:33:05.156Z"
   },
   {
    "duration": 311,
    "start_time": "2021-07-31T13:39:34.608Z"
   },
   {
    "duration": 10,
    "start_time": "2021-07-31T13:40:16.090Z"
   },
   {
    "duration": 3557,
    "start_time": "2021-07-31T13:40:18.271Z"
   },
   {
    "duration": 1379,
    "start_time": "2021-07-31T13:40:34.368Z"
   },
   {
    "duration": 29,
    "start_time": "2021-07-31T13:40:35.749Z"
   },
   {
    "duration": 20,
    "start_time": "2021-07-31T13:40:35.783Z"
   },
   {
    "duration": 20,
    "start_time": "2021-07-31T13:40:35.807Z"
   },
   {
    "duration": 16,
    "start_time": "2021-07-31T13:40:35.830Z"
   },
   {
    "duration": 49,
    "start_time": "2021-07-31T13:40:35.849Z"
   },
   {
    "duration": 12,
    "start_time": "2021-07-31T13:40:35.905Z"
   },
   {
    "duration": 22,
    "start_time": "2021-07-31T13:40:35.923Z"
   },
   {
    "duration": 60,
    "start_time": "2021-07-31T13:40:35.948Z"
   },
   {
    "duration": 23,
    "start_time": "2021-07-31T13:40:36.011Z"
   },
   {
    "duration": 7,
    "start_time": "2021-07-31T13:40:36.036Z"
   },
   {
    "duration": 9,
    "start_time": "2021-07-31T13:40:36.046Z"
   },
   {
    "duration": 49,
    "start_time": "2021-07-31T13:40:36.057Z"
   },
   {
    "duration": 962,
    "start_time": "2021-07-31T13:40:36.110Z"
   },
   {
    "duration": 336,
    "start_time": "2021-07-31T13:40:37.082Z"
   },
   {
    "duration": 428,
    "start_time": "2021-07-31T13:40:37.420Z"
   },
   {
    "duration": 338,
    "start_time": "2021-07-31T13:40:37.850Z"
   },
   {
    "duration": 451,
    "start_time": "2021-07-31T13:40:38.193Z"
   },
   {
    "duration": 488,
    "start_time": "2021-07-31T13:40:38.646Z"
   },
   {
    "duration": 395,
    "start_time": "2021-07-31T13:40:39.136Z"
   },
   {
    "duration": 6,
    "start_time": "2021-07-31T13:40:39.534Z"
   },
   {
    "duration": 331,
    "start_time": "2021-07-31T13:40:39.542Z"
   },
   {
    "duration": 429,
    "start_time": "2021-07-31T13:40:39.882Z"
   },
   {
    "duration": 5,
    "start_time": "2021-07-31T13:40:40.315Z"
   },
   {
    "duration": 710,
    "start_time": "2021-07-31T13:40:40.324Z"
   },
   {
    "duration": 292,
    "start_time": "2021-07-31T13:40:41.036Z"
   },
   {
    "duration": 23,
    "start_time": "2021-07-31T13:40:41.331Z"
   },
   {
    "duration": 56,
    "start_time": "2021-07-31T13:40:41.356Z"
   },
   {
    "duration": 24,
    "start_time": "2021-07-31T13:40:41.417Z"
   },
   {
    "duration": 56,
    "start_time": "2021-07-31T13:40:41.444Z"
   },
   {
    "duration": 78,
    "start_time": "2021-07-31T13:40:41.505Z"
   },
   {
    "duration": 13,
    "start_time": "2021-07-31T13:40:41.587Z"
   },
   {
    "duration": 464,
    "start_time": "2021-07-31T13:40:41.603Z"
   },
   {
    "duration": 1430,
    "start_time": "2021-07-31T13:43:24.122Z"
   },
   {
    "duration": 33,
    "start_time": "2021-07-31T13:43:25.555Z"
   },
   {
    "duration": 15,
    "start_time": "2021-07-31T13:43:25.598Z"
   },
   {
    "duration": 18,
    "start_time": "2021-07-31T13:43:25.617Z"
   },
   {
    "duration": 15,
    "start_time": "2021-07-31T13:43:25.638Z"
   },
   {
    "duration": 42,
    "start_time": "2021-07-31T13:43:25.684Z"
   },
   {
    "duration": 8,
    "start_time": "2021-07-31T13:43:25.728Z"
   },
   {
    "duration": 26,
    "start_time": "2021-07-31T13:43:25.739Z"
   },
   {
    "duration": 43,
    "start_time": "2021-07-31T13:43:25.768Z"
   },
   {
    "duration": 23,
    "start_time": "2021-07-31T13:43:25.815Z"
   },
   {
    "duration": 7,
    "start_time": "2021-07-31T13:43:25.841Z"
   },
   {
    "duration": 8,
    "start_time": "2021-07-31T13:43:25.850Z"
   },
   {
    "duration": 38,
    "start_time": "2021-07-31T13:43:25.885Z"
   },
   {
    "duration": 964,
    "start_time": "2021-07-31T13:43:25.926Z"
   },
   {
    "duration": 347,
    "start_time": "2021-07-31T13:43:26.894Z"
   },
   {
    "duration": 511,
    "start_time": "2021-07-31T13:43:27.243Z"
   },
   {
    "duration": 376,
    "start_time": "2021-07-31T13:43:27.757Z"
   },
   {
    "duration": 500,
    "start_time": "2021-07-31T13:43:28.136Z"
   },
   {
    "duration": 492,
    "start_time": "2021-07-31T13:43:28.638Z"
   },
   {
    "duration": 352,
    "start_time": "2021-07-31T13:43:29.132Z"
   },
   {
    "duration": 8,
    "start_time": "2021-07-31T13:43:29.493Z"
   },
   {
    "duration": 335,
    "start_time": "2021-07-31T13:43:29.505Z"
   },
   {
    "duration": 460,
    "start_time": "2021-07-31T13:43:29.844Z"
   },
   {
    "duration": 7,
    "start_time": "2021-07-31T13:43:30.309Z"
   },
   {
    "duration": 617,
    "start_time": "2021-07-31T13:43:30.318Z"
   },
   {
    "duration": 231,
    "start_time": "2021-07-31T13:43:30.937Z"
   },
   {
    "duration": 32,
    "start_time": "2021-07-31T13:43:31.170Z"
   },
   {
    "duration": 43,
    "start_time": "2021-07-31T13:43:31.205Z"
   },
   {
    "duration": 18,
    "start_time": "2021-07-31T13:43:31.251Z"
   },
   {
    "duration": 33,
    "start_time": "2021-07-31T13:43:31.271Z"
   },
   {
    "duration": 22,
    "start_time": "2021-07-31T13:43:31.308Z"
   },
   {
    "duration": 103,
    "start_time": "2021-07-31T13:43:31.333Z"
   },
   {
    "duration": 45,
    "start_time": "2021-07-31T13:43:31.394Z"
   },
   {
    "duration": 403,
    "start_time": "2021-07-31T13:43:40.961Z"
   },
   {
    "duration": 102,
    "start_time": "2021-07-31T13:44:12.415Z"
   },
   {
    "duration": 677,
    "start_time": "2021-07-31T13:44:23.656Z"
   },
   {
    "duration": 290,
    "start_time": "2021-07-31T13:44:30.546Z"
   },
   {
    "duration": 293,
    "start_time": "2021-07-31T13:46:38.523Z"
   },
   {
    "duration": 21,
    "start_time": "2021-07-31T13:48:56.628Z"
   },
   {
    "duration": 1458,
    "start_time": "2021-07-31T13:49:24.155Z"
   },
   {
    "duration": 31,
    "start_time": "2021-07-31T13:49:25.616Z"
   },
   {
    "duration": 31,
    "start_time": "2021-07-31T13:49:25.651Z"
   },
   {
    "duration": 24,
    "start_time": "2021-07-31T13:49:25.687Z"
   },
   {
    "duration": 18,
    "start_time": "2021-07-31T13:49:25.716Z"
   },
   {
    "duration": 49,
    "start_time": "2021-07-31T13:49:25.736Z"
   },
   {
    "duration": 15,
    "start_time": "2021-07-31T13:49:25.788Z"
   },
   {
    "duration": 26,
    "start_time": "2021-07-31T13:49:25.810Z"
   },
   {
    "duration": 72,
    "start_time": "2021-07-31T13:49:25.840Z"
   },
   {
    "duration": 25,
    "start_time": "2021-07-31T13:49:25.914Z"
   },
   {
    "duration": 8,
    "start_time": "2021-07-31T13:49:25.942Z"
   },
   {
    "duration": 10,
    "start_time": "2021-07-31T13:49:25.952Z"
   },
   {
    "duration": 29,
    "start_time": "2021-07-31T13:49:25.986Z"
   },
   {
    "duration": 955,
    "start_time": "2021-07-31T13:49:26.018Z"
   },
   {
    "duration": 319,
    "start_time": "2021-07-31T13:49:26.989Z"
   },
   {
    "duration": 417,
    "start_time": "2021-07-31T13:49:27.310Z"
   },
   {
    "duration": 348,
    "start_time": "2021-07-31T13:49:27.730Z"
   },
   {
    "duration": 456,
    "start_time": "2021-07-31T13:49:28.082Z"
   },
   {
    "duration": 457,
    "start_time": "2021-07-31T13:49:28.542Z"
   },
   {
    "duration": 386,
    "start_time": "2021-07-31T13:49:29.006Z"
   },
   {
    "duration": 14,
    "start_time": "2021-07-31T13:49:29.396Z"
   },
   {
    "duration": 357,
    "start_time": "2021-07-31T13:49:29.415Z"
   },
   {
    "duration": 454,
    "start_time": "2021-07-31T13:49:29.779Z"
   },
   {
    "duration": 6,
    "start_time": "2021-07-31T13:49:30.236Z"
   },
   {
    "duration": 633,
    "start_time": "2021-07-31T13:49:30.245Z"
   },
   {
    "duration": 277,
    "start_time": "2021-07-31T13:49:30.886Z"
   },
   {
    "duration": 33,
    "start_time": "2021-07-31T13:49:31.166Z"
   },
   {
    "duration": 23,
    "start_time": "2021-07-31T13:49:31.205Z"
   },
   {
    "duration": 13,
    "start_time": "2021-07-31T13:49:31.231Z"
   },
   {
    "duration": 62,
    "start_time": "2021-07-31T13:49:31.247Z"
   },
   {
    "duration": 25,
    "start_time": "2021-07-31T13:49:31.313Z"
   },
   {
    "duration": 54,
    "start_time": "2021-07-31T13:49:31.341Z"
   },
   {
    "duration": 24,
    "start_time": "2021-07-31T13:49:31.398Z"
   },
   {
    "duration": 100,
    "start_time": "2021-07-31T13:49:31.425Z"
   },
   {
    "duration": 859,
    "start_time": "2021-07-31T13:49:58.236Z"
   },
   {
    "duration": 391,
    "start_time": "2021-07-31T13:50:22.125Z"
   },
   {
    "duration": 863,
    "start_time": "2021-07-31T13:51:30.205Z"
   },
   {
    "duration": 1438,
    "start_time": "2021-07-31T13:56:06.118Z"
   },
   {
    "duration": 35,
    "start_time": "2021-07-31T13:56:07.558Z"
   },
   {
    "duration": 12,
    "start_time": "2021-07-31T13:56:07.597Z"
   },
   {
    "duration": 19,
    "start_time": "2021-07-31T13:56:07.611Z"
   },
   {
    "duration": 14,
    "start_time": "2021-07-31T13:56:07.632Z"
   },
   {
    "duration": 76,
    "start_time": "2021-07-31T13:56:07.648Z"
   },
   {
    "duration": 9,
    "start_time": "2021-07-31T13:56:07.726Z"
   },
   {
    "duration": 20,
    "start_time": "2021-07-31T13:56:07.738Z"
   },
   {
    "duration": 43,
    "start_time": "2021-07-31T13:56:07.761Z"
   },
   {
    "duration": 22,
    "start_time": "2021-07-31T13:56:07.806Z"
   },
   {
    "duration": 9,
    "start_time": "2021-07-31T13:56:07.830Z"
   },
   {
    "duration": 8,
    "start_time": "2021-07-31T13:56:07.841Z"
   },
   {
    "duration": 40,
    "start_time": "2021-07-31T13:56:07.851Z"
   },
   {
    "duration": 966,
    "start_time": "2021-07-31T13:56:07.895Z"
   },
   {
    "duration": 339,
    "start_time": "2021-07-31T13:56:08.864Z"
   },
   {
    "duration": 401,
    "start_time": "2021-07-31T13:56:09.206Z"
   },
   {
    "duration": 325,
    "start_time": "2021-07-31T13:56:09.610Z"
   },
   {
    "duration": 479,
    "start_time": "2021-07-31T13:56:09.938Z"
   },
   {
    "duration": 497,
    "start_time": "2021-07-31T13:56:10.420Z"
   },
   {
    "duration": 395,
    "start_time": "2021-07-31T13:56:10.919Z"
   },
   {
    "duration": 5,
    "start_time": "2021-07-31T13:56:11.316Z"
   },
   {
    "duration": 315,
    "start_time": "2021-07-31T13:56:11.324Z"
   },
   {
    "duration": 466,
    "start_time": "2021-07-31T13:56:11.643Z"
   },
   {
    "duration": 7,
    "start_time": "2021-07-31T13:56:12.111Z"
   },
   {
    "duration": 580,
    "start_time": "2021-07-31T13:56:12.121Z"
   },
   {
    "duration": 237,
    "start_time": "2021-07-31T13:56:12.704Z"
   },
   {
    "duration": 13,
    "start_time": "2021-07-31T13:56:12.944Z"
   },
   {
    "duration": 44,
    "start_time": "2021-07-31T13:56:12.959Z"
   },
   {
    "duration": 14,
    "start_time": "2021-07-31T13:56:13.005Z"
   },
   {
    "duration": 19,
    "start_time": "2021-07-31T13:56:13.022Z"
   },
   {
    "duration": 1068,
    "start_time": "2021-07-31T13:56:13.044Z"
   },
   {
    "duration": 21,
    "start_time": "2021-07-31T13:56:14.114Z"
   },
   {
    "duration": 463,
    "start_time": "2021-07-31T13:56:14.138Z"
   },
   {
    "duration": 1349,
    "start_time": "2021-07-31T14:33:39.260Z"
   },
   {
    "duration": 31,
    "start_time": "2021-07-31T14:33:40.614Z"
   },
   {
    "duration": 9,
    "start_time": "2021-07-31T14:33:40.649Z"
   },
   {
    "duration": 52,
    "start_time": "2021-07-31T14:33:40.662Z"
   },
   {
    "duration": 21,
    "start_time": "2021-07-31T14:33:40.717Z"
   },
   {
    "duration": 41,
    "start_time": "2021-07-31T14:33:40.741Z"
   },
   {
    "duration": 11,
    "start_time": "2021-07-31T14:33:40.791Z"
   },
   {
    "duration": 23,
    "start_time": "2021-07-31T14:33:40.806Z"
   },
   {
    "duration": 26,
    "start_time": "2021-07-31T14:33:40.832Z"
   },
   {
    "duration": 29,
    "start_time": "2021-07-31T14:33:40.882Z"
   },
   {
    "duration": 12,
    "start_time": "2021-07-31T14:33:40.914Z"
   },
   {
    "duration": 9,
    "start_time": "2021-07-31T14:33:40.928Z"
   },
   {
    "duration": 24,
    "start_time": "2021-07-31T14:33:40.939Z"
   },
   {
    "duration": 1312,
    "start_time": "2021-07-31T14:33:40.981Z"
   },
   {
    "duration": 422,
    "start_time": "2021-07-31T14:33:42.296Z"
   },
   {
    "duration": 612,
    "start_time": "2021-07-31T14:33:42.722Z"
   },
   {
    "duration": 450,
    "start_time": "2021-07-31T14:33:43.336Z"
   },
   {
    "duration": 805,
    "start_time": "2021-07-31T14:33:43.789Z"
   },
   {
    "duration": 542,
    "start_time": "2021-07-31T14:33:44.604Z"
   },
   {
    "duration": 423,
    "start_time": "2021-07-31T14:33:45.148Z"
   },
   {
    "duration": 21,
    "start_time": "2021-07-31T14:33:45.573Z"
   },
   {
    "duration": 285,
    "start_time": "2021-07-31T14:33:45.602Z"
   },
   {
    "duration": 394,
    "start_time": "2021-07-31T14:33:45.893Z"
   },
   {
    "duration": 7,
    "start_time": "2021-07-31T14:33:46.290Z"
   },
   {
    "duration": 739,
    "start_time": "2021-07-31T14:33:46.300Z"
   },
   {
    "duration": 346,
    "start_time": "2021-07-31T14:33:47.041Z"
   },
   {
    "duration": 31,
    "start_time": "2021-07-31T14:33:47.390Z"
   },
   {
    "duration": 18,
    "start_time": "2021-07-31T14:33:47.423Z"
   },
   {
    "duration": 15,
    "start_time": "2021-07-31T14:33:47.443Z"
   },
   {
    "duration": 58,
    "start_time": "2021-07-31T14:33:47.460Z"
   },
   {
    "duration": 1102,
    "start_time": "2021-07-31T14:33:47.521Z"
   },
   {
    "duration": 22,
    "start_time": "2021-07-31T14:33:48.627Z"
   },
   {
    "duration": 522,
    "start_time": "2021-07-31T14:33:48.651Z"
   },
   {
    "duration": 1444,
    "start_time": "2021-07-31T14:35:47.716Z"
   },
   {
    "duration": 975,
    "start_time": "2021-07-31T14:36:10.654Z"
   },
   {
    "duration": 953,
    "start_time": "2021-07-31T14:38:45.518Z"
   },
   {
    "duration": 1001,
    "start_time": "2021-07-31T14:39:09.957Z"
   },
   {
    "duration": 960,
    "start_time": "2021-07-31T14:39:25.654Z"
   },
   {
    "duration": 951,
    "start_time": "2021-07-31T14:39:34.277Z"
   },
   {
    "duration": 453,
    "start_time": "2021-07-31T14:40:18.644Z"
   },
   {
    "duration": 417,
    "start_time": "2021-07-31T14:41:13.841Z"
   },
   {
    "duration": 512,
    "start_time": "2021-07-31T14:41:18.864Z"
   },
   {
    "duration": 307,
    "start_time": "2021-07-31T14:42:08.798Z"
   },
   {
    "duration": 454,
    "start_time": "2021-07-31T14:43:02.019Z"
   },
   {
    "duration": 496,
    "start_time": "2021-07-31T14:43:17.539Z"
   },
   {
    "duration": 401,
    "start_time": "2021-07-31T14:43:22.726Z"
   },
   {
    "duration": 1500,
    "start_time": "2021-07-31T14:48:41.129Z"
   },
   {
    "duration": 81,
    "start_time": "2021-07-31T14:48:42.640Z"
   },
   {
    "duration": 19,
    "start_time": "2021-07-31T14:48:42.725Z"
   },
   {
    "duration": 37,
    "start_time": "2021-07-31T14:48:42.751Z"
   },
   {
    "duration": 49,
    "start_time": "2021-07-31T14:48:42.792Z"
   },
   {
    "duration": 59,
    "start_time": "2021-07-31T14:48:42.845Z"
   },
   {
    "duration": 11,
    "start_time": "2021-07-31T14:48:42.908Z"
   },
   {
    "duration": 21,
    "start_time": "2021-07-31T14:48:42.924Z"
   },
   {
    "duration": 46,
    "start_time": "2021-07-31T14:48:42.948Z"
   },
   {
    "duration": 26,
    "start_time": "2021-07-31T14:48:42.997Z"
   },
   {
    "duration": 12,
    "start_time": "2021-07-31T14:48:43.025Z"
   },
   {
    "duration": 10,
    "start_time": "2021-07-31T14:48:43.039Z"
   },
   {
    "duration": 42,
    "start_time": "2021-07-31T14:48:43.051Z"
   },
   {
    "duration": 1040,
    "start_time": "2021-07-31T14:48:43.096Z"
   },
   {
    "duration": 374,
    "start_time": "2021-07-31T14:48:44.139Z"
   },
   {
    "duration": 436,
    "start_time": "2021-07-31T14:48:44.515Z"
   },
   {
    "duration": 356,
    "start_time": "2021-07-31T14:48:44.953Z"
   },
   {
    "duration": 429,
    "start_time": "2021-07-31T14:48:45.316Z"
   },
   {
    "duration": 510,
    "start_time": "2021-07-31T14:48:45.748Z"
   },
   {
    "duration": 466,
    "start_time": "2021-07-31T14:48:46.261Z"
   },
   {
    "duration": 7,
    "start_time": "2021-07-31T14:48:46.730Z"
   },
   {
    "duration": 387,
    "start_time": "2021-07-31T14:48:46.741Z"
   },
   {
    "duration": 420,
    "start_time": "2021-07-31T14:48:47.132Z"
   },
   {
    "duration": 5,
    "start_time": "2021-07-31T14:48:47.555Z"
   },
   {
    "duration": 672,
    "start_time": "2021-07-31T14:48:47.562Z"
   },
   {
    "duration": 251,
    "start_time": "2021-07-31T14:48:48.236Z"
   },
   {
    "duration": 21,
    "start_time": "2021-07-31T14:48:48.490Z"
   },
   {
    "duration": 19,
    "start_time": "2021-07-31T14:48:48.513Z"
   },
   {
    "duration": 49,
    "start_time": "2021-07-31T14:48:48.535Z"
   },
   {
    "duration": 26,
    "start_time": "2021-07-31T14:48:48.587Z"
   },
   {
    "duration": 1198,
    "start_time": "2021-07-31T14:48:48.617Z"
   },
   {
    "duration": 20,
    "start_time": "2021-07-31T14:48:49.817Z"
   },
   {
    "duration": 745,
    "start_time": "2021-07-31T14:48:49.839Z"
   },
   {
    "duration": 80,
    "start_time": "2021-07-31T16:23:28.742Z"
   },
   {
    "duration": 990,
    "start_time": "2021-07-31T16:25:45.470Z"
   },
   {
    "duration": 22,
    "start_time": "2021-07-31T16:25:46.462Z"
   },
   {
    "duration": 6,
    "start_time": "2021-07-31T16:25:46.486Z"
   },
   {
    "duration": 10,
    "start_time": "2021-07-31T16:25:46.494Z"
   },
   {
    "duration": 9,
    "start_time": "2021-07-31T16:25:46.506Z"
   },
   {
    "duration": 36,
    "start_time": "2021-07-31T16:25:46.517Z"
   },
   {
    "duration": 4,
    "start_time": "2021-07-31T16:25:46.555Z"
   },
   {
    "duration": 12,
    "start_time": "2021-07-31T16:25:46.561Z"
   },
   {
    "duration": 18,
    "start_time": "2021-07-31T16:25:46.575Z"
   },
   {
    "duration": 6,
    "start_time": "2021-07-31T16:25:46.595Z"
   },
   {
    "duration": 7,
    "start_time": "2021-07-31T16:25:46.602Z"
   },
   {
    "duration": 501,
    "start_time": "2021-07-31T16:25:46.610Z"
   },
   {
    "duration": 195,
    "start_time": "2021-07-31T16:25:47.112Z"
   },
   {
    "duration": 304,
    "start_time": "2021-07-31T16:25:47.308Z"
   },
   {
    "duration": 171,
    "start_time": "2021-07-31T16:25:47.614Z"
   },
   {
    "duration": 310,
    "start_time": "2021-07-31T16:25:47.786Z"
   },
   {
    "duration": 295,
    "start_time": "2021-07-31T16:25:48.098Z"
   },
   {
    "duration": 283,
    "start_time": "2021-07-31T16:25:48.395Z"
   },
   {
    "duration": 12,
    "start_time": "2021-07-31T16:25:48.680Z"
   },
   {
    "duration": 168,
    "start_time": "2021-07-31T16:25:48.693Z"
   },
   {
    "duration": 330,
    "start_time": "2021-07-31T16:25:48.862Z"
   },
   {
    "duration": 3,
    "start_time": "2021-07-31T16:25:49.193Z"
   },
   {
    "duration": 322,
    "start_time": "2021-07-31T16:25:49.198Z"
   },
   {
    "duration": 122,
    "start_time": "2021-07-31T16:25:49.522Z"
   },
   {
    "duration": 10,
    "start_time": "2021-07-31T16:25:49.646Z"
   },
   {
    "duration": 8,
    "start_time": "2021-07-31T16:25:49.658Z"
   },
   {
    "duration": 29,
    "start_time": "2021-07-31T16:25:49.670Z"
   },
   {
    "duration": 707,
    "start_time": "2021-07-31T16:25:49.701Z"
   },
   {
    "duration": 13,
    "start_time": "2021-07-31T16:25:50.410Z"
   },
   {
    "duration": 289,
    "start_time": "2021-07-31T16:25:50.425Z"
   },
   {
    "duration": 1426,
    "start_time": "2021-08-01T08:21:52.508Z"
   },
   {
    "duration": 17,
    "start_time": "2021-08-01T08:21:55.141Z"
   },
   {
    "duration": 30,
    "start_time": "2021-08-01T08:22:04.527Z"
   },
   {
    "duration": 10,
    "start_time": "2021-08-01T08:22:39.315Z"
   },
   {
    "duration": 19,
    "start_time": "2021-08-01T08:23:23.552Z"
   },
   {
    "duration": 15,
    "start_time": "2021-08-01T08:24:06.352Z"
   },
   {
    "duration": 15,
    "start_time": "2021-08-01T08:27:05.116Z"
   },
   {
    "duration": 577,
    "start_time": "2021-08-01T08:27:24.509Z"
   },
   {
    "duration": 14,
    "start_time": "2021-08-01T08:28:39.432Z"
   },
   {
    "duration": 13,
    "start_time": "2021-08-01T08:28:43.582Z"
   },
   {
    "duration": 27,
    "start_time": "2021-08-01T08:50:03.204Z"
   },
   {
    "duration": 9997,
    "start_time": "2021-08-01T08:53:49.587Z"
   },
   {
    "duration": 5951,
    "start_time": "2021-08-01T08:55:15.674Z"
   },
   {
    "duration": 1484,
    "start_time": "2021-08-01T08:55:35.283Z"
   },
   {
    "duration": 30,
    "start_time": "2021-08-01T08:55:36.770Z"
   },
   {
    "duration": 10,
    "start_time": "2021-08-01T08:55:36.803Z"
   },
   {
    "duration": 17,
    "start_time": "2021-08-01T08:55:36.816Z"
   },
   {
    "duration": 938,
    "start_time": "2021-08-01T08:55:36.835Z"
   },
   {
    "duration": 265,
    "start_time": "2021-08-01T08:55:37.512Z"
   },
   {
    "duration": 257,
    "start_time": "2021-08-01T08:55:37.521Z"
   },
   {
    "duration": 249,
    "start_time": "2021-08-01T08:55:37.530Z"
   },
   {
    "duration": 242,
    "start_time": "2021-08-01T08:55:37.539Z"
   },
   {
    "duration": 234,
    "start_time": "2021-08-01T08:55:37.548Z"
   },
   {
    "duration": 228,
    "start_time": "2021-08-01T08:55:37.556Z"
   },
   {
    "duration": 220,
    "start_time": "2021-08-01T08:55:37.565Z"
   },
   {
    "duration": 213,
    "start_time": "2021-08-01T08:55:37.574Z"
   },
   {
    "duration": 206,
    "start_time": "2021-08-01T08:55:37.582Z"
   },
   {
    "duration": 199,
    "start_time": "2021-08-01T08:55:37.591Z"
   },
   {
    "duration": 194,
    "start_time": "2021-08-01T08:55:37.597Z"
   },
   {
    "duration": 191,
    "start_time": "2021-08-01T08:55:37.602Z"
   },
   {
    "duration": 186,
    "start_time": "2021-08-01T08:55:37.608Z"
   },
   {
    "duration": 182,
    "start_time": "2021-08-01T08:55:37.614Z"
   },
   {
    "duration": 177,
    "start_time": "2021-08-01T08:55:37.620Z"
   },
   {
    "duration": 173,
    "start_time": "2021-08-01T08:55:37.626Z"
   },
   {
    "duration": 168,
    "start_time": "2021-08-01T08:55:37.632Z"
   },
   {
    "duration": 164,
    "start_time": "2021-08-01T08:55:37.638Z"
   },
   {
    "duration": 160,
    "start_time": "2021-08-01T08:55:37.643Z"
   },
   {
    "duration": 155,
    "start_time": "2021-08-01T08:55:37.649Z"
   },
   {
    "duration": 151,
    "start_time": "2021-08-01T08:55:37.655Z"
   },
   {
    "duration": 148,
    "start_time": "2021-08-01T08:55:37.660Z"
   },
   {
    "duration": 142,
    "start_time": "2021-08-01T08:55:37.667Z"
   },
   {
    "duration": 139,
    "start_time": "2021-08-01T08:55:37.672Z"
   },
   {
    "duration": 135,
    "start_time": "2021-08-01T08:55:37.677Z"
   },
   {
    "duration": 1333,
    "start_time": "2021-08-01T08:58:29.412Z"
   },
   {
    "duration": 29,
    "start_time": "2021-08-01T08:58:31.882Z"
   },
   {
    "duration": 11,
    "start_time": "2021-08-01T08:58:32.512Z"
   },
   {
    "duration": 21,
    "start_time": "2021-08-01T08:58:34.887Z"
   },
   {
    "duration": 77,
    "start_time": "2021-08-01T08:58:38.964Z"
   },
   {
    "duration": 64,
    "start_time": "2021-08-01T08:58:44.042Z"
   },
   {
    "duration": 873,
    "start_time": "2021-08-01T08:58:59.876Z"
   },
   {
    "duration": 40,
    "start_time": "2021-08-01T08:59:35.358Z"
   },
   {
    "duration": 235,
    "start_time": "2021-08-01T08:59:57.687Z"
   },
   {
    "duration": 33,
    "start_time": "2021-08-01T09:02:01.900Z"
   },
   {
    "duration": 274,
    "start_time": "2021-08-01T09:02:59.291Z"
   },
   {
    "duration": 127,
    "start_time": "2021-08-01T09:03:21.245Z"
   },
   {
    "duration": 1448,
    "start_time": "2021-08-01T09:03:38.329Z"
   },
   {
    "duration": 30,
    "start_time": "2021-08-01T09:03:39.779Z"
   },
   {
    "duration": 13,
    "start_time": "2021-08-01T09:03:39.815Z"
   },
   {
    "duration": 39,
    "start_time": "2021-08-01T09:03:39.831Z"
   },
   {
    "duration": 1555,
    "start_time": "2021-08-01T09:03:39.873Z"
   },
   {
    "duration": 238,
    "start_time": "2021-08-01T09:03:41.194Z"
   },
   {
    "duration": 231,
    "start_time": "2021-08-01T09:03:41.203Z"
   },
   {
    "duration": 213,
    "start_time": "2021-08-01T09:03:41.222Z"
   },
   {
    "duration": 210,
    "start_time": "2021-08-01T09:03:41.227Z"
   },
   {
    "duration": 205,
    "start_time": "2021-08-01T09:03:41.233Z"
   },
   {
    "duration": 194,
    "start_time": "2021-08-01T09:03:41.246Z"
   },
   {
    "duration": 191,
    "start_time": "2021-08-01T09:03:41.250Z"
   },
   {
    "duration": 182,
    "start_time": "2021-08-01T09:03:41.260Z"
   },
   {
    "duration": 180,
    "start_time": "2021-08-01T09:03:41.264Z"
   },
   {
    "duration": 196,
    "start_time": "2021-08-01T09:03:41.270Z"
   },
   {
    "duration": 189,
    "start_time": "2021-08-01T09:03:41.279Z"
   },
   {
    "duration": 186,
    "start_time": "2021-08-01T09:03:41.283Z"
   },
   {
    "duration": 176,
    "start_time": "2021-08-01T09:03:41.295Z"
   },
   {
    "duration": 172,
    "start_time": "2021-08-01T09:03:41.300Z"
   },
   {
    "duration": 161,
    "start_time": "2021-08-01T09:03:41.312Z"
   },
   {
    "duration": 158,
    "start_time": "2021-08-01T09:03:41.316Z"
   },
   {
    "duration": 155,
    "start_time": "2021-08-01T09:03:41.321Z"
   },
   {
    "duration": 146,
    "start_time": "2021-08-01T09:03:41.331Z"
   },
   {
    "duration": 143,
    "start_time": "2021-08-01T09:03:41.335Z"
   },
   {
    "duration": 132,
    "start_time": "2021-08-01T09:03:41.347Z"
   },
   {
    "duration": 129,
    "start_time": "2021-08-01T09:03:41.351Z"
   },
   {
    "duration": 120,
    "start_time": "2021-08-01T09:03:41.362Z"
   },
   {
    "duration": 118,
    "start_time": "2021-08-01T09:03:41.365Z"
   },
   {
    "duration": 94,
    "start_time": "2021-08-01T09:03:41.390Z"
   },
   {
    "duration": 89,
    "start_time": "2021-08-01T09:03:41.397Z"
   },
   {
    "duration": 32,
    "start_time": "2021-08-01T09:04:09.703Z"
   },
   {
    "duration": 11,
    "start_time": "2021-08-01T09:07:41.477Z"
   },
   {
    "duration": 313,
    "start_time": "2021-08-01T09:07:53.876Z"
   },
   {
    "duration": 31,
    "start_time": "2021-08-01T09:08:14.663Z"
   },
   {
    "duration": 655,
    "start_time": "2021-08-01T09:10:00.682Z"
   },
   {
    "duration": 1480,
    "start_time": "2021-08-01T09:10:14.809Z"
   },
   {
    "duration": 31,
    "start_time": "2021-08-01T09:10:16.292Z"
   },
   {
    "duration": 11,
    "start_time": "2021-08-01T09:10:16.327Z"
   },
   {
    "duration": 38,
    "start_time": "2021-08-01T09:10:16.341Z"
   },
   {
    "duration": 542,
    "start_time": "2021-08-01T09:10:16.382Z"
   },
   {
    "duration": 730,
    "start_time": "2021-08-01T09:10:16.927Z"
   },
   {
    "duration": 57,
    "start_time": "2021-08-01T09:10:17.660Z"
   },
   {
    "duration": 9,
    "start_time": "2021-08-01T09:10:17.721Z"
   },
   {
    "duration": 28,
    "start_time": "2021-08-01T09:10:17.733Z"
   },
   {
    "duration": 27,
    "start_time": "2021-08-01T09:10:17.764Z"
   },
   {
    "duration": 11,
    "start_time": "2021-08-01T09:10:17.795Z"
   },
   {
    "duration": 9,
    "start_time": "2021-08-01T09:10:17.809Z"
   },
   {
    "duration": 954,
    "start_time": "2021-08-01T09:10:17.821Z"
   },
   {
    "duration": 355,
    "start_time": "2021-08-01T09:10:18.779Z"
   },
   {
    "duration": 496,
    "start_time": "2021-08-01T09:10:19.137Z"
   },
   {
    "duration": 375,
    "start_time": "2021-08-01T09:10:19.636Z"
   },
   {
    "duration": 490,
    "start_time": "2021-08-01T09:10:20.013Z"
   },
   {
    "duration": 461,
    "start_time": "2021-08-01T09:10:20.506Z"
   },
   {
    "duration": 403,
    "start_time": "2021-08-01T09:10:20.970Z"
   },
   {
    "duration": 6,
    "start_time": "2021-08-01T09:10:21.376Z"
   },
   {
    "duration": 593,
    "start_time": "2021-08-01T09:10:21.384Z"
   },
   {
    "duration": 526,
    "start_time": "2021-08-01T09:10:21.980Z"
   },
   {
    "duration": 5,
    "start_time": "2021-08-01T09:10:22.510Z"
   },
   {
    "duration": 491,
    "start_time": "2021-08-01T09:10:22.518Z"
   },
   {
    "duration": 243,
    "start_time": "2021-08-01T09:10:23.011Z"
   },
   {
    "duration": 20,
    "start_time": "2021-08-01T09:10:23.256Z"
   },
   {
    "duration": 15,
    "start_time": "2021-08-01T09:10:23.280Z"
   },
   {
    "duration": 21,
    "start_time": "2021-08-01T09:10:23.297Z"
   },
   {
    "duration": 1117,
    "start_time": "2021-08-01T09:10:23.321Z"
   },
   {
    "duration": 28,
    "start_time": "2021-08-01T09:10:24.440Z"
   },
   {
    "duration": 463,
    "start_time": "2021-08-01T09:10:24.472Z"
   },
   {
    "duration": 1011,
    "start_time": "2021-08-01T09:10:30.471Z"
   },
   {
    "duration": 1490,
    "start_time": "2021-08-01T09:10:40.152Z"
   },
   {
    "duration": 30,
    "start_time": "2021-08-01T09:10:41.645Z"
   },
   {
    "duration": 12,
    "start_time": "2021-08-01T09:10:41.679Z"
   },
   {
    "duration": 20,
    "start_time": "2021-08-01T09:10:41.695Z"
   },
   {
    "duration": 678,
    "start_time": "2021-08-01T09:10:41.718Z"
   },
   {
    "duration": 101,
    "start_time": "2021-08-01T09:10:42.398Z"
   },
   {
    "duration": 87,
    "start_time": "2021-08-01T09:10:42.502Z"
   },
   {
    "duration": 9,
    "start_time": "2021-08-01T09:10:42.594Z"
   },
   {
    "duration": 82,
    "start_time": "2021-08-01T09:10:42.605Z"
   },
   {
    "duration": 24,
    "start_time": "2021-08-01T09:10:42.690Z"
   },
   {
    "duration": 64,
    "start_time": "2021-08-01T09:10:42.716Z"
   },
   {
    "duration": 8,
    "start_time": "2021-08-01T09:10:42.784Z"
   },
   {
    "duration": 1338,
    "start_time": "2021-08-01T09:10:42.795Z"
   },
   {
    "duration": 360,
    "start_time": "2021-08-01T09:10:44.136Z"
   },
   {
    "duration": 457,
    "start_time": "2021-08-01T09:10:44.499Z"
   },
   {
    "duration": 336,
    "start_time": "2021-08-01T09:10:44.958Z"
   },
   {
    "duration": 505,
    "start_time": "2021-08-01T09:10:45.297Z"
   },
   {
    "duration": 517,
    "start_time": "2021-08-01T09:10:45.805Z"
   },
   {
    "duration": 473,
    "start_time": "2021-08-01T09:10:46.324Z"
   },
   {
    "duration": 6,
    "start_time": "2021-08-01T09:10:46.800Z"
   },
   {
    "duration": 315,
    "start_time": "2021-08-01T09:10:46.808Z"
   },
   {
    "duration": 480,
    "start_time": "2021-08-01T09:10:47.125Z"
   },
   {
    "duration": 5,
    "start_time": "2021-08-01T09:10:47.610Z"
   },
   {
    "duration": 478,
    "start_time": "2021-08-01T09:10:47.618Z"
   },
   {
    "duration": 269,
    "start_time": "2021-08-01T09:10:48.098Z"
   },
   {
    "duration": 17,
    "start_time": "2021-08-01T09:10:48.370Z"
   },
   {
    "duration": 14,
    "start_time": "2021-08-01T09:10:48.390Z"
   },
   {
    "duration": 18,
    "start_time": "2021-08-01T09:10:48.406Z"
   },
   {
    "duration": 1065,
    "start_time": "2021-08-01T09:10:48.427Z"
   },
   {
    "duration": 22,
    "start_time": "2021-08-01T09:10:49.496Z"
   },
   {
    "duration": 492,
    "start_time": "2021-08-01T09:10:49.521Z"
   },
   {
    "duration": 578,
    "start_time": "2021-08-01T09:12:30.819Z"
   },
   {
    "duration": 49,
    "start_time": "2021-08-01T09:12:37.704Z"
   },
   {
    "duration": 298,
    "start_time": "2021-08-01T09:13:33.695Z"
   },
   {
    "duration": 229,
    "start_time": "2021-08-01T09:13:36.160Z"
   },
   {
    "duration": 1543,
    "start_time": "2021-08-01T09:14:28.475Z"
   },
   {
    "duration": 31,
    "start_time": "2021-08-01T09:14:30.020Z"
   },
   {
    "duration": 16,
    "start_time": "2021-08-01T09:14:30.054Z"
   },
   {
    "duration": 25,
    "start_time": "2021-08-01T09:14:30.074Z"
   },
   {
    "duration": 634,
    "start_time": "2021-08-01T09:14:30.102Z"
   },
   {
    "duration": 758,
    "start_time": "2021-08-01T09:14:30.739Z"
   },
   {
    "duration": 52,
    "start_time": "2021-08-01T09:14:31.500Z"
   },
   {
    "duration": 12,
    "start_time": "2021-08-01T09:14:31.557Z"
   },
   {
    "duration": 30,
    "start_time": "2021-08-01T09:14:31.574Z"
   },
   {
    "duration": 34,
    "start_time": "2021-08-01T09:14:31.607Z"
   },
   {
    "duration": 25,
    "start_time": "2021-08-01T09:14:31.646Z"
   },
   {
    "duration": 15,
    "start_time": "2021-08-01T09:14:31.673Z"
   },
   {
    "duration": 1600,
    "start_time": "2021-08-01T09:14:31.691Z"
   },
   {
    "duration": 477,
    "start_time": "2021-08-01T09:14:33.294Z"
   },
   {
    "duration": 462,
    "start_time": "2021-08-01T09:14:33.774Z"
   },
   {
    "duration": 333,
    "start_time": "2021-08-01T09:14:34.238Z"
   },
   {
    "duration": 517,
    "start_time": "2021-08-01T09:14:34.574Z"
   },
   {
    "duration": 483,
    "start_time": "2021-08-01T09:14:35.094Z"
   },
   {
    "duration": 399,
    "start_time": "2021-08-01T09:14:35.580Z"
   },
   {
    "duration": 6,
    "start_time": "2021-08-01T09:14:35.982Z"
   },
   {
    "duration": 333,
    "start_time": "2021-08-01T09:14:35.990Z"
   },
   {
    "duration": 419,
    "start_time": "2021-08-01T09:14:36.325Z"
   },
   {
    "duration": 17,
    "start_time": "2021-08-01T09:14:36.749Z"
   },
   {
    "duration": 485,
    "start_time": "2021-08-01T09:14:36.769Z"
   },
   {
    "duration": 292,
    "start_time": "2021-08-01T09:14:37.257Z"
   },
   {
    "duration": 18,
    "start_time": "2021-08-01T09:14:37.568Z"
   },
   {
    "duration": 13,
    "start_time": "2021-08-01T09:14:37.589Z"
   },
   {
    "duration": 18,
    "start_time": "2021-08-01T09:14:37.604Z"
   },
   {
    "duration": 1180,
    "start_time": "2021-08-01T09:14:37.624Z"
   },
   {
    "duration": 20,
    "start_time": "2021-08-01T09:14:38.807Z"
   },
   {
    "duration": 467,
    "start_time": "2021-08-01T09:14:38.830Z"
   },
   {
    "duration": 357,
    "start_time": "2021-08-01T09:14:49.014Z"
   },
   {
    "duration": 1469,
    "start_time": "2021-08-01T09:14:54.412Z"
   },
   {
    "duration": 32,
    "start_time": "2021-08-01T09:14:55.884Z"
   },
   {
    "duration": 12,
    "start_time": "2021-08-01T09:14:55.920Z"
   },
   {
    "duration": 38,
    "start_time": "2021-08-01T09:14:55.936Z"
   },
   {
    "duration": 560,
    "start_time": "2021-08-01T09:14:55.977Z"
   },
   {
    "duration": 408,
    "start_time": "2021-08-01T09:14:56.540Z"
   },
   {
    "duration": 41,
    "start_time": "2021-08-01T09:14:56.950Z"
   },
   {
    "duration": 10,
    "start_time": "2021-08-01T09:14:56.996Z"
   },
   {
    "duration": 28,
    "start_time": "2021-08-01T09:14:57.009Z"
   },
   {
    "duration": 29,
    "start_time": "2021-08-01T09:14:57.040Z"
   },
   {
    "duration": 11,
    "start_time": "2021-08-01T09:14:57.072Z"
   },
   {
    "duration": 8,
    "start_time": "2021-08-01T09:14:57.089Z"
   },
   {
    "duration": 1301,
    "start_time": "2021-08-01T09:14:57.099Z"
   },
   {
    "duration": 505,
    "start_time": "2021-08-01T09:14:58.403Z"
   },
   {
    "duration": 459,
    "start_time": "2021-08-01T09:14:58.911Z"
   },
   {
    "duration": 355,
    "start_time": "2021-08-01T09:14:59.373Z"
   },
   {
    "duration": 540,
    "start_time": "2021-08-01T09:14:59.730Z"
   },
   {
    "duration": 495,
    "start_time": "2021-08-01T09:15:00.273Z"
   },
   {
    "duration": 411,
    "start_time": "2021-08-01T09:15:00.771Z"
   },
   {
    "duration": 6,
    "start_time": "2021-08-01T09:15:01.184Z"
   },
   {
    "duration": 364,
    "start_time": "2021-08-01T09:15:01.192Z"
   },
   {
    "duration": 449,
    "start_time": "2021-08-01T09:15:01.559Z"
   },
   {
    "duration": 6,
    "start_time": "2021-08-01T09:15:02.013Z"
   },
   {
    "duration": 530,
    "start_time": "2021-08-01T09:15:02.022Z"
   },
   {
    "duration": 261,
    "start_time": "2021-08-01T09:15:02.554Z"
   },
   {
    "duration": 15,
    "start_time": "2021-08-01T09:15:02.818Z"
   },
   {
    "duration": 40,
    "start_time": "2021-08-01T09:15:02.835Z"
   },
   {
    "duration": 25,
    "start_time": "2021-08-01T09:15:02.879Z"
   },
   {
    "duration": 1169,
    "start_time": "2021-08-01T09:15:02.906Z"
   },
   {
    "duration": 23,
    "start_time": "2021-08-01T09:15:04.078Z"
   },
   {
    "duration": 524,
    "start_time": "2021-08-01T09:15:04.104Z"
   },
   {
    "duration": 1567,
    "start_time": "2021-08-01T09:15:12.530Z"
   },
   {
    "duration": 29,
    "start_time": "2021-08-01T09:15:14.100Z"
   },
   {
    "duration": 11,
    "start_time": "2021-08-01T09:15:14.132Z"
   },
   {
    "duration": 37,
    "start_time": "2021-08-01T09:15:14.146Z"
   },
   {
    "duration": 510,
    "start_time": "2021-08-01T09:15:14.185Z"
   },
   {
    "duration": 42,
    "start_time": "2021-08-01T09:15:14.697Z"
   },
   {
    "duration": 48,
    "start_time": "2021-08-01T09:15:14.742Z"
   },
   {
    "duration": 9,
    "start_time": "2021-08-01T09:15:14.794Z"
   },
   {
    "duration": 20,
    "start_time": "2021-08-01T09:15:14.806Z"
   },
   {
    "duration": 42,
    "start_time": "2021-08-01T09:15:14.828Z"
   },
   {
    "duration": 11,
    "start_time": "2021-08-01T09:15:14.874Z"
   },
   {
    "duration": 5,
    "start_time": "2021-08-01T09:15:14.888Z"
   },
   {
    "duration": 1427,
    "start_time": "2021-08-01T09:15:14.896Z"
   },
   {
    "duration": 367,
    "start_time": "2021-08-01T09:15:16.326Z"
   },
   {
    "duration": 547,
    "start_time": "2021-08-01T09:15:16.696Z"
   },
   {
    "duration": 346,
    "start_time": "2021-08-01T09:15:17.246Z"
   },
   {
    "duration": 522,
    "start_time": "2021-08-01T09:15:17.595Z"
   },
   {
    "duration": 506,
    "start_time": "2021-08-01T09:15:18.120Z"
   },
   {
    "duration": 440,
    "start_time": "2021-08-01T09:15:18.628Z"
   },
   {
    "duration": 5,
    "start_time": "2021-08-01T09:15:19.071Z"
   },
   {
    "duration": 327,
    "start_time": "2021-08-01T09:15:19.079Z"
   },
   {
    "duration": 407,
    "start_time": "2021-08-01T09:15:19.409Z"
   },
   {
    "duration": 5,
    "start_time": "2021-08-01T09:15:19.821Z"
   },
   {
    "duration": 632,
    "start_time": "2021-08-01T09:15:19.829Z"
   },
   {
    "duration": 247,
    "start_time": "2021-08-01T09:15:20.463Z"
   },
   {
    "duration": 13,
    "start_time": "2021-08-01T09:15:20.713Z"
   },
   {
    "duration": 14,
    "start_time": "2021-08-01T09:15:20.728Z"
   },
   {
    "duration": 42,
    "start_time": "2021-08-01T09:15:20.744Z"
   },
   {
    "duration": 1155,
    "start_time": "2021-08-01T09:15:20.788Z"
   },
   {
    "duration": 29,
    "start_time": "2021-08-01T09:15:21.945Z"
   },
   {
    "duration": 442,
    "start_time": "2021-08-01T09:15:21.979Z"
   },
   {
    "duration": 470,
    "start_time": "2021-08-01T09:15:30.205Z"
   },
   {
    "duration": 1508,
    "start_time": "2021-08-01T09:15:35.841Z"
   },
   {
    "duration": 36,
    "start_time": "2021-08-01T09:15:37.352Z"
   },
   {
    "duration": 8,
    "start_time": "2021-08-01T09:15:37.391Z"
   },
   {
    "duration": 16,
    "start_time": "2021-08-01T09:15:37.402Z"
   },
   {
    "duration": 594,
    "start_time": "2021-08-01T09:15:37.421Z"
   },
   {
    "duration": 26,
    "start_time": "2021-08-01T09:15:38.018Z"
   },
   {
    "duration": 44,
    "start_time": "2021-08-01T09:15:38.047Z"
   },
   {
    "duration": 8,
    "start_time": "2021-08-01T09:15:38.094Z"
   },
   {
    "duration": 22,
    "start_time": "2021-08-01T09:15:38.105Z"
   },
   {
    "duration": 38,
    "start_time": "2021-08-01T09:15:38.129Z"
   },
   {
    "duration": 10,
    "start_time": "2021-08-01T09:15:38.171Z"
   },
   {
    "duration": 13,
    "start_time": "2021-08-01T09:15:38.184Z"
   },
   {
    "duration": 1110,
    "start_time": "2021-08-01T09:15:38.199Z"
   },
   {
    "duration": 680,
    "start_time": "2021-08-01T09:15:39.311Z"
   },
   {
    "duration": 619,
    "start_time": "2021-08-01T09:15:39.994Z"
   },
   {
    "duration": 355,
    "start_time": "2021-08-01T09:15:40.616Z"
   },
   {
    "duration": 525,
    "start_time": "2021-08-01T09:15:40.975Z"
   },
   {
    "duration": 488,
    "start_time": "2021-08-01T09:15:41.502Z"
   },
   {
    "duration": 386,
    "start_time": "2021-08-01T09:15:41.993Z"
   },
   {
    "duration": 6,
    "start_time": "2021-08-01T09:15:42.382Z"
   },
   {
    "duration": 338,
    "start_time": "2021-08-01T09:15:42.391Z"
   },
   {
    "duration": 484,
    "start_time": "2021-08-01T09:15:42.732Z"
   },
   {
    "duration": 7,
    "start_time": "2021-08-01T09:15:43.220Z"
   },
   {
    "duration": 505,
    "start_time": "2021-08-01T09:15:43.230Z"
   },
   {
    "duration": 266,
    "start_time": "2021-08-01T09:15:43.738Z"
   },
   {
    "duration": 14,
    "start_time": "2021-08-01T09:15:44.007Z"
   },
   {
    "duration": 13,
    "start_time": "2021-08-01T09:15:44.024Z"
   },
   {
    "duration": 48,
    "start_time": "2021-08-01T09:15:44.040Z"
   },
   {
    "duration": 1117,
    "start_time": "2021-08-01T09:15:44.091Z"
   },
   {
    "duration": 22,
    "start_time": "2021-08-01T09:15:45.210Z"
   },
   {
    "duration": 484,
    "start_time": "2021-08-01T09:15:45.235Z"
   },
   {
    "duration": 1559,
    "start_time": "2021-08-01T09:16:21.484Z"
   },
   {
    "duration": 34,
    "start_time": "2021-08-01T09:16:23.047Z"
   },
   {
    "duration": 10,
    "start_time": "2021-08-01T09:16:23.084Z"
   },
   {
    "duration": 21,
    "start_time": "2021-08-01T09:16:23.096Z"
   },
   {
    "duration": 605,
    "start_time": "2021-08-01T09:16:23.119Z"
   },
   {
    "duration": 788,
    "start_time": "2021-08-01T09:16:23.727Z"
   },
   {
    "duration": 70,
    "start_time": "2021-08-01T09:16:24.521Z"
   },
   {
    "duration": 10,
    "start_time": "2021-08-01T09:16:24.594Z"
   },
   {
    "duration": 23,
    "start_time": "2021-08-01T09:16:24.606Z"
   },
   {
    "duration": 37,
    "start_time": "2021-08-01T09:16:24.632Z"
   },
   {
    "duration": 12,
    "start_time": "2021-08-01T09:16:24.673Z"
   },
   {
    "duration": 10,
    "start_time": "2021-08-01T09:16:24.688Z"
   },
   {
    "duration": 1215,
    "start_time": "2021-08-01T09:16:24.700Z"
   },
   {
    "duration": 548,
    "start_time": "2021-08-01T09:16:25.968Z"
   },
   {
    "duration": 528,
    "start_time": "2021-08-01T09:16:26.519Z"
   },
   {
    "duration": 348,
    "start_time": "2021-08-01T09:16:27.049Z"
   },
   {
    "duration": 518,
    "start_time": "2021-08-01T09:16:27.399Z"
   },
   {
    "duration": 498,
    "start_time": "2021-08-01T09:16:27.920Z"
   },
   {
    "duration": 477,
    "start_time": "2021-08-01T09:16:28.421Z"
   },
   {
    "duration": 7,
    "start_time": "2021-08-01T09:16:28.901Z"
   },
   {
    "duration": 354,
    "start_time": "2021-08-01T09:16:28.910Z"
   },
   {
    "duration": 456,
    "start_time": "2021-08-01T09:16:29.267Z"
   },
   {
    "duration": 6,
    "start_time": "2021-08-01T09:16:29.727Z"
   },
   {
    "duration": 527,
    "start_time": "2021-08-01T09:16:29.735Z"
   },
   {
    "duration": 276,
    "start_time": "2021-08-01T09:16:30.268Z"
   },
   {
    "duration": 31,
    "start_time": "2021-08-01T09:16:30.547Z"
   },
   {
    "duration": 39,
    "start_time": "2021-08-01T09:16:30.582Z"
   },
   {
    "duration": 26,
    "start_time": "2021-08-01T09:16:30.623Z"
   },
   {
    "duration": 1260,
    "start_time": "2021-08-01T09:16:30.652Z"
   },
   {
    "duration": 70,
    "start_time": "2021-08-01T09:16:31.914Z"
   },
   {
    "duration": 498,
    "start_time": "2021-08-01T09:16:31.986Z"
   },
   {
    "duration": 1531,
    "start_time": "2021-08-01T09:17:05.517Z"
   },
   {
    "duration": 34,
    "start_time": "2021-08-01T09:17:07.050Z"
   },
   {
    "duration": 10,
    "start_time": "2021-08-01T09:17:07.088Z"
   },
   {
    "duration": 19,
    "start_time": "2021-08-01T09:17:07.103Z"
   },
   {
    "duration": 1168,
    "start_time": "2021-08-01T09:17:07.125Z"
   },
   {
    "duration": 255,
    "start_time": "2021-08-01T09:17:08.042Z"
   },
   {
    "duration": 249,
    "start_time": "2021-08-01T09:17:08.049Z"
   },
   {
    "duration": 237,
    "start_time": "2021-08-01T09:17:08.063Z"
   },
   {
    "duration": 228,
    "start_time": "2021-08-01T09:17:08.073Z"
   },
   {
    "duration": 214,
    "start_time": "2021-08-01T09:17:08.089Z"
   },
   {
    "duration": 203,
    "start_time": "2021-08-01T09:17:08.101Z"
   },
   {
    "duration": 195,
    "start_time": "2021-08-01T09:17:08.112Z"
   },
   {
    "duration": 190,
    "start_time": "2021-08-01T09:17:08.118Z"
   },
   {
    "duration": 183,
    "start_time": "2021-08-01T09:17:08.127Z"
   },
   {
    "duration": 157,
    "start_time": "2021-08-01T09:17:08.154Z"
   },
   {
    "duration": 153,
    "start_time": "2021-08-01T09:17:08.160Z"
   },
   {
    "duration": 148,
    "start_time": "2021-08-01T09:17:08.166Z"
   },
   {
    "duration": 139,
    "start_time": "2021-08-01T09:17:08.177Z"
   },
   {
    "duration": 136,
    "start_time": "2021-08-01T09:17:08.181Z"
   },
   {
    "duration": 127,
    "start_time": "2021-08-01T09:17:08.192Z"
   },
   {
    "duration": 124,
    "start_time": "2021-08-01T09:17:08.196Z"
   },
   {
    "duration": 120,
    "start_time": "2021-08-01T09:17:08.201Z"
   },
   {
    "duration": 109,
    "start_time": "2021-08-01T09:17:08.214Z"
   },
   {
    "duration": 106,
    "start_time": "2021-08-01T09:17:08.218Z"
   },
   {
    "duration": 96,
    "start_time": "2021-08-01T09:17:08.229Z"
   },
   {
    "duration": 92,
    "start_time": "2021-08-01T09:17:08.235Z"
   },
   {
    "duration": 86,
    "start_time": "2021-08-01T09:17:08.243Z"
   },
   {
    "duration": 83,
    "start_time": "2021-08-01T09:17:08.248Z"
   },
   {
    "duration": 73,
    "start_time": "2021-08-01T09:17:08.259Z"
   },
   {
    "duration": 64,
    "start_time": "2021-08-01T09:17:08.269Z"
   },
   {
    "duration": 85,
    "start_time": "2021-08-01T09:17:08.285Z"
   },
   {
    "duration": 1481,
    "start_time": "2021-08-01T09:17:39.618Z"
   },
   {
    "duration": 33,
    "start_time": "2021-08-01T09:17:41.102Z"
   },
   {
    "duration": 11,
    "start_time": "2021-08-01T09:17:41.139Z"
   },
   {
    "duration": 41,
    "start_time": "2021-08-01T09:17:41.153Z"
   },
   {
    "duration": 14,
    "start_time": "2021-08-01T09:17:41.197Z"
   },
   {
    "duration": 975,
    "start_time": "2021-08-01T09:17:41.214Z"
   },
   {
    "duration": -63,
    "start_time": "2021-08-01T09:17:42.257Z"
   },
   {
    "duration": -66,
    "start_time": "2021-08-01T09:17:42.262Z"
   },
   {
    "duration": -68,
    "start_time": "2021-08-01T09:17:42.266Z"
   },
   {
    "duration": -368,
    "start_time": "2021-08-01T09:17:42.568Z"
   },
   {
    "duration": -402,
    "start_time": "2021-08-01T09:17:42.604Z"
   },
   {
    "duration": -425,
    "start_time": "2021-08-01T09:17:42.629Z"
   },
   {
    "duration": -429,
    "start_time": "2021-08-01T09:17:42.638Z"
   },
   {
    "duration": -449,
    "start_time": "2021-08-01T09:17:42.660Z"
   },
   {
    "duration": -454,
    "start_time": "2021-08-01T09:17:42.667Z"
   },
   {
    "duration": -473,
    "start_time": "2021-08-01T09:17:42.688Z"
   },
   {
    "duration": -488,
    "start_time": "2021-08-01T09:17:42.705Z"
   },
   {
    "duration": -491,
    "start_time": "2021-08-01T09:17:42.710Z"
   },
   {
    "duration": -495,
    "start_time": "2021-08-01T09:17:42.716Z"
   },
   {
    "duration": -468,
    "start_time": "2021-08-01T09:17:42.735Z"
   },
   {
    "duration": -481,
    "start_time": "2021-08-01T09:17:42.750Z"
   },
   {
    "duration": -492,
    "start_time": "2021-08-01T09:17:42.764Z"
   },
   {
    "duration": -504,
    "start_time": "2021-08-01T09:17:42.778Z"
   },
   {
    "duration": -531,
    "start_time": "2021-08-01T09:17:42.807Z"
   },
   {
    "duration": -543,
    "start_time": "2021-08-01T09:17:42.821Z"
   },
   {
    "duration": -546,
    "start_time": "2021-08-01T09:17:42.826Z"
   },
   {
    "duration": -549,
    "start_time": "2021-08-01T09:17:42.831Z"
   },
   {
    "duration": -560,
    "start_time": "2021-08-01T09:17:42.844Z"
   },
   {
    "duration": -567,
    "start_time": "2021-08-01T09:17:42.853Z"
   },
   {
    "duration": -578,
    "start_time": "2021-08-01T09:17:42.866Z"
   },
   {
    "duration": -589,
    "start_time": "2021-08-01T09:17:42.879Z"
   },
   {
    "duration": 6427,
    "start_time": "2021-08-01T09:17:59.920Z"
   },
   {
    "duration": 1806,
    "start_time": "2021-08-01T09:18:36.110Z"
   },
   {
    "duration": 32,
    "start_time": "2021-08-01T09:18:37.968Z"
   },
   {
    "duration": 10,
    "start_time": "2021-08-01T09:18:38.004Z"
   },
   {
    "duration": 19,
    "start_time": "2021-08-01T09:18:38.017Z"
   },
   {
    "duration": 595,
    "start_time": "2021-08-01T09:18:38.039Z"
   },
   {
    "duration": 58,
    "start_time": "2021-08-01T09:18:38.638Z"
   },
   {
    "duration": 51,
    "start_time": "2021-08-01T09:18:38.698Z"
   },
   {
    "duration": 8,
    "start_time": "2021-08-01T09:18:38.754Z"
   },
   {
    "duration": 31,
    "start_time": "2021-08-01T09:18:38.765Z"
   },
   {
    "duration": 73,
    "start_time": "2021-08-01T09:18:38.798Z"
   },
   {
    "duration": 14,
    "start_time": "2021-08-01T09:18:38.874Z"
   },
   {
    "duration": 12,
    "start_time": "2021-08-01T09:18:38.891Z"
   },
   {
    "duration": 1452,
    "start_time": "2021-08-01T09:18:38.905Z"
   },
   {
    "duration": 361,
    "start_time": "2021-08-01T09:18:40.367Z"
   },
   {
    "duration": 508,
    "start_time": "2021-08-01T09:18:40.730Z"
   },
   {
    "duration": 349,
    "start_time": "2021-08-01T09:18:41.240Z"
   },
   {
    "duration": 517,
    "start_time": "2021-08-01T09:18:41.591Z"
   },
   {
    "duration": 487,
    "start_time": "2021-08-01T09:18:42.111Z"
   },
   {
    "duration": 494,
    "start_time": "2021-08-01T09:18:42.600Z"
   },
   {
    "duration": 6,
    "start_time": "2021-08-01T09:18:43.097Z"
   },
   {
    "duration": 325,
    "start_time": "2021-08-01T09:18:43.106Z"
   },
   {
    "duration": 455,
    "start_time": "2021-08-01T09:18:43.434Z"
   },
   {
    "duration": 6,
    "start_time": "2021-08-01T09:18:43.893Z"
   },
   {
    "duration": 528,
    "start_time": "2021-08-01T09:18:43.902Z"
   },
   {
    "duration": 229,
    "start_time": "2021-08-01T09:18:44.432Z"
   },
   {
    "duration": 18,
    "start_time": "2021-08-01T09:18:44.667Z"
   },
   {
    "duration": 13,
    "start_time": "2021-08-01T09:18:44.687Z"
   },
   {
    "duration": 19,
    "start_time": "2021-08-01T09:18:44.703Z"
   },
   {
    "duration": 1087,
    "start_time": "2021-08-01T09:18:44.725Z"
   },
   {
    "duration": 22,
    "start_time": "2021-08-01T09:18:45.814Z"
   },
   {
    "duration": 468,
    "start_time": "2021-08-01T09:18:45.838Z"
   },
   {
    "duration": 1546,
    "start_time": "2021-08-01T09:36:43.097Z"
   },
   {
    "duration": 1607,
    "start_time": "2021-08-01T09:36:52.581Z"
   },
   {
    "duration": 37,
    "start_time": "2021-08-01T09:36:54.192Z"
   },
   {
    "duration": 25,
    "start_time": "2021-08-01T09:36:54.233Z"
   },
   {
    "duration": 20,
    "start_time": "2021-08-01T09:36:54.268Z"
   },
   {
    "duration": 644,
    "start_time": "2021-08-01T09:36:54.290Z"
   },
   {
    "duration": 38,
    "start_time": "2021-08-01T09:36:54.936Z"
   },
   {
    "duration": 47,
    "start_time": "2021-08-01T09:36:54.977Z"
   },
   {
    "duration": 8,
    "start_time": "2021-08-01T09:36:55.029Z"
   },
   {
    "duration": 36,
    "start_time": "2021-08-01T09:36:55.040Z"
   },
   {
    "duration": 1509,
    "start_time": "2021-08-01T09:36:55.078Z"
   },
   {
    "duration": 10,
    "start_time": "2021-08-01T09:36:56.590Z"
   },
   {
    "duration": 10,
    "start_time": "2021-08-01T09:36:56.603Z"
   },
   {
    "duration": 1078,
    "start_time": "2021-08-01T09:36:56.616Z"
   },
   {
    "duration": 476,
    "start_time": "2021-08-01T09:36:57.696Z"
   },
   {
    "duration": 729,
    "start_time": "2021-08-01T09:36:58.175Z"
   },
   {
    "duration": 482,
    "start_time": "2021-08-01T09:36:58.906Z"
   },
   {
    "duration": 478,
    "start_time": "2021-08-01T09:36:59.391Z"
   },
   {
    "duration": 475,
    "start_time": "2021-08-01T09:36:59.872Z"
   },
   {
    "duration": 405,
    "start_time": "2021-08-01T09:37:00.350Z"
   },
   {
    "duration": 12,
    "start_time": "2021-08-01T09:37:00.758Z"
   },
   {
    "duration": 315,
    "start_time": "2021-08-01T09:37:00.772Z"
   },
   {
    "duration": 394,
    "start_time": "2021-08-01T09:37:01.089Z"
   },
   {
    "duration": 5,
    "start_time": "2021-08-01T09:37:01.488Z"
   },
   {
    "duration": 496,
    "start_time": "2021-08-01T09:37:01.496Z"
   },
   {
    "duration": 241,
    "start_time": "2021-08-01T09:37:01.995Z"
   },
   {
    "duration": 13,
    "start_time": "2021-08-01T09:37:02.238Z"
   },
   {
    "duration": 13,
    "start_time": "2021-08-01T09:37:02.268Z"
   },
   {
    "duration": 21,
    "start_time": "2021-08-01T09:37:02.284Z"
   },
   {
    "duration": 1066,
    "start_time": "2021-08-01T09:37:02.308Z"
   },
   {
    "duration": 23,
    "start_time": "2021-08-01T09:37:03.376Z"
   },
   {
    "duration": 479,
    "start_time": "2021-08-01T09:37:03.401Z"
   },
   {
    "duration": 1443,
    "start_time": "2021-08-01T09:39:17.497Z"
   },
   {
    "duration": 31,
    "start_time": "2021-08-01T09:39:18.943Z"
   },
   {
    "duration": 11,
    "start_time": "2021-08-01T09:39:18.978Z"
   },
   {
    "duration": 22,
    "start_time": "2021-08-01T09:39:18.993Z"
   },
   {
    "duration": 655,
    "start_time": "2021-08-01T09:39:19.018Z"
   },
   {
    "duration": 25,
    "start_time": "2021-08-01T09:39:19.675Z"
   },
   {
    "duration": 62,
    "start_time": "2021-08-01T09:39:19.703Z"
   },
   {
    "duration": 8,
    "start_time": "2021-08-01T09:39:19.768Z"
   },
   {
    "duration": 21,
    "start_time": "2021-08-01T09:39:19.779Z"
   },
   {
    "duration": 26,
    "start_time": "2021-08-01T09:39:19.803Z"
   },
   {
    "duration": 10,
    "start_time": "2021-08-01T09:39:19.831Z"
   },
   {
    "duration": 27,
    "start_time": "2021-08-01T09:39:19.843Z"
   },
   {
    "duration": 1037,
    "start_time": "2021-08-01T09:39:19.872Z"
   },
   {
    "duration": 371,
    "start_time": "2021-08-01T09:39:20.912Z"
   },
   {
    "duration": 458,
    "start_time": "2021-08-01T09:39:21.286Z"
   },
   {
    "duration": 330,
    "start_time": "2021-08-01T09:39:21.746Z"
   },
   {
    "duration": 818,
    "start_time": "2021-08-01T09:39:22.079Z"
   },
   {
    "duration": 480,
    "start_time": "2021-08-01T09:39:22.900Z"
   },
   {
    "duration": 396,
    "start_time": "2021-08-01T09:39:23.383Z"
   },
   {
    "duration": 5,
    "start_time": "2021-08-01T09:39:23.781Z"
   },
   {
    "duration": 337,
    "start_time": "2021-08-01T09:39:23.789Z"
   },
   {
    "duration": 435,
    "start_time": "2021-08-01T09:39:24.128Z"
   },
   {
    "duration": 6,
    "start_time": "2021-08-01T09:39:24.568Z"
   },
   {
    "duration": 476,
    "start_time": "2021-08-01T09:39:24.576Z"
   },
   {
    "duration": 240,
    "start_time": "2021-08-01T09:39:25.054Z"
   },
   {
    "duration": 13,
    "start_time": "2021-08-01T09:39:25.296Z"
   },
   {
    "duration": 12,
    "start_time": "2021-08-01T09:39:25.312Z"
   },
   {
    "duration": 51,
    "start_time": "2021-08-01T09:39:25.326Z"
   },
   {
    "duration": 1016,
    "start_time": "2021-08-01T09:39:25.380Z"
   },
   {
    "duration": 20,
    "start_time": "2021-08-01T09:39:26.398Z"
   },
   {
    "duration": 459,
    "start_time": "2021-08-01T09:39:26.421Z"
   },
   {
    "duration": 399,
    "start_time": "2021-08-01T09:39:52.918Z"
   },
   {
    "duration": 1465,
    "start_time": "2021-08-01T09:39:59.189Z"
   },
   {
    "duration": 34,
    "start_time": "2021-08-01T09:40:00.657Z"
   },
   {
    "duration": 14,
    "start_time": "2021-08-01T09:40:00.696Z"
   },
   {
    "duration": 32,
    "start_time": "2021-08-01T09:40:00.713Z"
   },
   {
    "duration": 565,
    "start_time": "2021-08-01T09:40:00.747Z"
   },
   {
    "duration": 23,
    "start_time": "2021-08-01T09:40:01.315Z"
   },
   {
    "duration": 67,
    "start_time": "2021-08-01T09:40:01.341Z"
   },
   {
    "duration": 9,
    "start_time": "2021-08-01T09:40:01.412Z"
   },
   {
    "duration": 43,
    "start_time": "2021-08-01T09:40:01.424Z"
   },
   {
    "duration": 36,
    "start_time": "2021-08-01T09:40:01.470Z"
   },
   {
    "duration": 16,
    "start_time": "2021-08-01T09:40:01.508Z"
   },
   {
    "duration": 25,
    "start_time": "2021-08-01T09:40:01.527Z"
   },
   {
    "duration": 1081,
    "start_time": "2021-08-01T09:40:01.554Z"
   },
   {
    "duration": 458,
    "start_time": "2021-08-01T09:40:02.638Z"
   },
   {
    "duration": 504,
    "start_time": "2021-08-01T09:40:03.098Z"
   },
   {
    "duration": 346,
    "start_time": "2021-08-01T09:40:03.604Z"
   },
   {
    "duration": 636,
    "start_time": "2021-08-01T09:40:03.952Z"
   },
   {
    "duration": 708,
    "start_time": "2021-08-01T09:40:04.591Z"
   },
   {
    "duration": 365,
    "start_time": "2021-08-01T09:40:05.302Z"
   },
   {
    "duration": 6,
    "start_time": "2021-08-01T09:40:05.669Z"
   },
   {
    "duration": 316,
    "start_time": "2021-08-01T09:40:05.677Z"
   },
   {
    "duration": 392,
    "start_time": "2021-08-01T09:40:05.996Z"
   },
   {
    "duration": 6,
    "start_time": "2021-08-01T09:40:06.393Z"
   },
   {
    "duration": 476,
    "start_time": "2021-08-01T09:40:06.402Z"
   },
   {
    "duration": 246,
    "start_time": "2021-08-01T09:40:06.880Z"
   },
   {
    "duration": 14,
    "start_time": "2021-08-01T09:40:07.129Z"
   },
   {
    "duration": 29,
    "start_time": "2021-08-01T09:40:07.145Z"
   },
   {
    "duration": 30,
    "start_time": "2021-08-01T09:40:07.177Z"
   },
   {
    "duration": 1025,
    "start_time": "2021-08-01T09:40:07.209Z"
   },
   {
    "duration": 33,
    "start_time": "2021-08-01T09:40:08.236Z"
   },
   {
    "duration": 425,
    "start_time": "2021-08-01T09:40:08.271Z"
   },
   {
    "duration": 1502,
    "start_time": "2021-08-01T09:41:04.945Z"
   },
   {
    "duration": 29,
    "start_time": "2021-08-01T09:41:06.450Z"
   },
   {
    "duration": 18,
    "start_time": "2021-08-01T09:41:06.482Z"
   },
   {
    "duration": 26,
    "start_time": "2021-08-01T09:41:06.503Z"
   },
   {
    "duration": 555,
    "start_time": "2021-08-01T09:41:06.532Z"
   },
   {
    "duration": 27,
    "start_time": "2021-08-01T09:41:07.089Z"
   },
   {
    "duration": 51,
    "start_time": "2021-08-01T09:41:07.118Z"
   },
   {
    "duration": 9,
    "start_time": "2021-08-01T09:41:07.173Z"
   },
   {
    "duration": 19,
    "start_time": "2021-08-01T09:41:07.185Z"
   },
   {
    "duration": 25,
    "start_time": "2021-08-01T09:41:07.207Z"
   },
   {
    "duration": 9,
    "start_time": "2021-08-01T09:41:07.234Z"
   },
   {
    "duration": 6,
    "start_time": "2021-08-01T09:41:07.267Z"
   },
   {
    "duration": 1061,
    "start_time": "2021-08-01T09:41:07.276Z"
   },
   {
    "duration": 461,
    "start_time": "2021-08-01T09:41:08.339Z"
   },
   {
    "duration": 482,
    "start_time": "2021-08-01T09:41:08.803Z"
   },
   {
    "duration": 382,
    "start_time": "2021-08-01T09:41:09.288Z"
   },
   {
    "duration": 795,
    "start_time": "2021-08-01T09:41:09.672Z"
   },
   {
    "duration": 476,
    "start_time": "2021-08-01T09:41:10.470Z"
   },
   {
    "duration": 398,
    "start_time": "2021-08-01T09:41:10.948Z"
   },
   {
    "duration": 5,
    "start_time": "2021-08-01T09:41:11.348Z"
   },
   {
    "duration": 308,
    "start_time": "2021-08-01T09:41:11.367Z"
   },
   {
    "duration": 415,
    "start_time": "2021-08-01T09:41:11.678Z"
   },
   {
    "duration": 6,
    "start_time": "2021-08-01T09:41:12.098Z"
   },
   {
    "duration": 487,
    "start_time": "2021-08-01T09:41:12.107Z"
   },
   {
    "duration": 227,
    "start_time": "2021-08-01T09:41:12.596Z"
   },
   {
    "duration": 13,
    "start_time": "2021-08-01T09:41:12.826Z"
   },
   {
    "duration": 33,
    "start_time": "2021-08-01T09:41:12.842Z"
   },
   {
    "duration": 19,
    "start_time": "2021-08-01T09:41:12.877Z"
   },
   {
    "duration": 1023,
    "start_time": "2021-08-01T09:41:12.898Z"
   },
   {
    "duration": 21,
    "start_time": "2021-08-01T09:41:13.923Z"
   },
   {
    "duration": 448,
    "start_time": "2021-08-01T09:41:13.947Z"
   },
   {
    "duration": 402,
    "start_time": "2021-08-01T09:41:40.126Z"
   },
   {
    "duration": 1702,
    "start_time": "2021-08-01T09:41:45.375Z"
   },
   {
    "duration": 32,
    "start_time": "2021-08-01T09:41:47.080Z"
   },
   {
    "duration": 11,
    "start_time": "2021-08-01T09:41:47.115Z"
   },
   {
    "duration": 48,
    "start_time": "2021-08-01T09:41:47.129Z"
   },
   {
    "duration": 1006,
    "start_time": "2021-08-01T09:41:47.180Z"
   },
   {
    "duration": 25,
    "start_time": "2021-08-01T09:41:48.188Z"
   },
   {
    "duration": 45,
    "start_time": "2021-08-01T09:41:48.215Z"
   },
   {
    "duration": 9,
    "start_time": "2021-08-01T09:41:48.264Z"
   },
   {
    "duration": 22,
    "start_time": "2021-08-01T09:41:48.276Z"
   },
   {
    "duration": 26,
    "start_time": "2021-08-01T09:41:48.300Z"
   },
   {
    "duration": 10,
    "start_time": "2021-08-01T09:41:48.329Z"
   },
   {
    "duration": 31,
    "start_time": "2021-08-01T09:41:48.341Z"
   },
   {
    "duration": 1138,
    "start_time": "2021-08-01T09:41:48.374Z"
   },
   {
    "duration": 431,
    "start_time": "2021-08-01T09:41:49.515Z"
   },
   {
    "duration": 494,
    "start_time": "2021-08-01T09:41:49.950Z"
   },
   {
    "duration": 353,
    "start_time": "2021-08-01T09:41:50.447Z"
   },
   {
    "duration": 508,
    "start_time": "2021-08-01T09:41:50.802Z"
   },
   {
    "duration": 538,
    "start_time": "2021-08-01T09:41:51.312Z"
   },
   {
    "duration": 418,
    "start_time": "2021-08-01T09:41:51.852Z"
   },
   {
    "duration": 6,
    "start_time": "2021-08-01T09:41:52.273Z"
   },
   {
    "duration": 319,
    "start_time": "2021-08-01T09:41:52.281Z"
   },
   {
    "duration": 401,
    "start_time": "2021-08-01T09:41:52.602Z"
   },
   {
    "duration": 5,
    "start_time": "2021-08-01T09:41:53.007Z"
   },
   {
    "duration": 579,
    "start_time": "2021-08-01T09:41:53.015Z"
   },
   {
    "duration": 251,
    "start_time": "2021-08-01T09:41:53.597Z"
   },
   {
    "duration": 23,
    "start_time": "2021-08-01T09:41:53.850Z"
   },
   {
    "duration": 13,
    "start_time": "2021-08-01T09:41:53.875Z"
   },
   {
    "duration": 18,
    "start_time": "2021-08-01T09:41:53.891Z"
   },
   {
    "duration": 1033,
    "start_time": "2021-08-01T09:41:53.912Z"
   },
   {
    "duration": 31,
    "start_time": "2021-08-01T09:41:54.947Z"
   },
   {
    "duration": 421,
    "start_time": "2021-08-01T09:41:54.980Z"
   },
   {
    "duration": 1468,
    "start_time": "2021-08-01T09:44:51.069Z"
   },
   {
    "duration": 30,
    "start_time": "2021-08-01T09:44:52.540Z"
   },
   {
    "duration": 9,
    "start_time": "2021-08-01T09:44:52.573Z"
   },
   {
    "duration": 27,
    "start_time": "2021-08-01T09:44:52.585Z"
   },
   {
    "duration": 531,
    "start_time": "2021-08-01T09:44:52.614Z"
   },
   {
    "duration": 29,
    "start_time": "2021-08-01T09:44:53.148Z"
   },
   {
    "duration": 46,
    "start_time": "2021-08-01T09:44:53.179Z"
   },
   {
    "duration": 8,
    "start_time": "2021-08-01T09:44:53.229Z"
   },
   {
    "duration": 5972,
    "start_time": "2021-08-01T09:44:53.240Z"
   },
   {
    "duration": 243,
    "start_time": "2021-08-01T09:44:58.972Z"
   },
   {
    "duration": 238,
    "start_time": "2021-08-01T09:44:58.979Z"
   },
   {
    "duration": 227,
    "start_time": "2021-08-01T09:44:58.991Z"
   },
   {
    "duration": 224,
    "start_time": "2021-08-01T09:44:58.996Z"
   },
   {
    "duration": 215,
    "start_time": "2021-08-01T09:44:59.007Z"
   },
   {
    "duration": 213,
    "start_time": "2021-08-01T09:44:59.011Z"
   },
   {
    "duration": 202,
    "start_time": "2021-08-01T09:44:59.023Z"
   },
   {
    "duration": 200,
    "start_time": "2021-08-01T09:44:59.027Z"
   },
   {
    "duration": 191,
    "start_time": "2021-08-01T09:44:59.037Z"
   },
   {
    "duration": 188,
    "start_time": "2021-08-01T09:44:59.041Z"
   },
   {
    "duration": 185,
    "start_time": "2021-08-01T09:44:59.046Z"
   },
   {
    "duration": 177,
    "start_time": "2021-08-01T09:44:59.055Z"
   },
   {
    "duration": 173,
    "start_time": "2021-08-01T09:44:59.061Z"
   },
   {
    "duration": 169,
    "start_time": "2021-08-01T09:44:59.066Z"
   },
   {
    "duration": 159,
    "start_time": "2021-08-01T09:44:59.077Z"
   },
   {
    "duration": 155,
    "start_time": "2021-08-01T09:44:59.083Z"
   },
   {
    "duration": 144,
    "start_time": "2021-08-01T09:44:59.095Z"
   },
   {
    "duration": 137,
    "start_time": "2021-08-01T09:44:59.104Z"
   },
   {
    "duration": 133,
    "start_time": "2021-08-01T09:44:59.109Z"
   },
   {
    "duration": 130,
    "start_time": "2021-08-01T09:44:59.113Z"
   },
   {
    "duration": 122,
    "start_time": "2021-08-01T09:44:59.123Z"
   },
   {
    "duration": 118,
    "start_time": "2021-08-01T09:44:59.128Z"
   },
   {
    "duration": 1057,
    "start_time": "2021-08-01T09:45:14.818Z"
   },
   {
    "duration": 1450,
    "start_time": "2021-08-01T09:45:32.484Z"
   },
   {
    "duration": 35,
    "start_time": "2021-08-01T09:45:33.937Z"
   },
   {
    "duration": 9,
    "start_time": "2021-08-01T09:45:33.975Z"
   },
   {
    "duration": 21,
    "start_time": "2021-08-01T09:45:33.987Z"
   },
   {
    "duration": 530,
    "start_time": "2021-08-01T09:45:34.010Z"
   },
   {
    "duration": 33,
    "start_time": "2021-08-01T09:45:34.543Z"
   },
   {
    "duration": 42,
    "start_time": "2021-08-01T09:45:34.578Z"
   },
   {
    "duration": 9,
    "start_time": "2021-08-01T09:45:34.624Z"
   },
   {
    "duration": 44,
    "start_time": "2021-08-01T09:45:34.636Z"
   },
   {
    "duration": 22,
    "start_time": "2021-08-01T09:45:34.683Z"
   },
   {
    "duration": 9,
    "start_time": "2021-08-01T09:45:34.708Z"
   },
   {
    "duration": 8,
    "start_time": "2021-08-01T09:45:34.720Z"
   },
   {
    "duration": 1069,
    "start_time": "2021-08-01T09:45:34.730Z"
   },
   {
    "duration": 454,
    "start_time": "2021-08-01T09:45:35.801Z"
   },
   {
    "duration": 487,
    "start_time": "2021-08-01T09:45:36.258Z"
   },
   {
    "duration": 343,
    "start_time": "2021-08-01T09:45:36.747Z"
   },
   {
    "duration": 490,
    "start_time": "2021-08-01T09:45:37.092Z"
   },
   {
    "duration": 471,
    "start_time": "2021-08-01T09:45:37.584Z"
   },
   {
    "duration": 397,
    "start_time": "2021-08-01T09:45:38.058Z"
   },
   {
    "duration": 11,
    "start_time": "2021-08-01T09:45:38.457Z"
   },
   {
    "duration": 313,
    "start_time": "2021-08-01T09:45:38.471Z"
   },
   {
    "duration": 415,
    "start_time": "2021-08-01T09:45:38.786Z"
   },
   {
    "duration": 6,
    "start_time": "2021-08-01T09:45:39.205Z"
   },
   {
    "duration": 490,
    "start_time": "2021-08-01T09:45:39.213Z"
   },
   {
    "duration": 246,
    "start_time": "2021-08-01T09:45:39.705Z"
   },
   {
    "duration": 18,
    "start_time": "2021-08-01T09:45:39.953Z"
   },
   {
    "duration": 17,
    "start_time": "2021-08-01T09:45:39.973Z"
   },
   {
    "duration": 18,
    "start_time": "2021-08-01T09:45:39.993Z"
   },
   {
    "duration": 1062,
    "start_time": "2021-08-01T09:45:40.014Z"
   },
   {
    "duration": 22,
    "start_time": "2021-08-01T09:45:41.078Z"
   },
   {
    "duration": 481,
    "start_time": "2021-08-01T09:45:41.102Z"
   },
   {
    "duration": 1496,
    "start_time": "2021-08-01T09:50:10.464Z"
   },
   {
    "duration": 31,
    "start_time": "2021-08-01T09:50:11.962Z"
   },
   {
    "duration": 12,
    "start_time": "2021-08-01T09:50:11.997Z"
   },
   {
    "duration": 20,
    "start_time": "2021-08-01T09:50:12.011Z"
   },
   {
    "duration": 628,
    "start_time": "2021-08-01T09:50:12.033Z"
   },
   {
    "duration": 26,
    "start_time": "2021-08-01T09:50:12.664Z"
   },
   {
    "duration": 65,
    "start_time": "2021-08-01T09:50:12.692Z"
   },
   {
    "duration": 9,
    "start_time": "2021-08-01T09:50:12.762Z"
   },
   {
    "duration": 30,
    "start_time": "2021-08-01T09:50:12.775Z"
   },
   {
    "duration": 11,
    "start_time": "2021-08-01T09:50:12.808Z"
   },
   {
    "duration": 36,
    "start_time": "2021-08-01T09:50:12.821Z"
   },
   {
    "duration": 14,
    "start_time": "2021-08-01T09:50:12.859Z"
   },
   {
    "duration": 12,
    "start_time": "2021-08-01T09:50:12.875Z"
   },
   {
    "duration": 1149,
    "start_time": "2021-08-01T09:50:12.891Z"
   },
   {
    "duration": 478,
    "start_time": "2021-08-01T09:50:14.042Z"
   },
   {
    "duration": 497,
    "start_time": "2021-08-01T09:50:14.522Z"
   },
   {
    "duration": 332,
    "start_time": "2021-08-01T09:50:15.021Z"
   },
   {
    "duration": 509,
    "start_time": "2021-08-01T09:50:15.356Z"
   },
   {
    "duration": 1333,
    "start_time": "2021-08-01T09:50:15.868Z"
   },
   {
    "duration": 403,
    "start_time": "2021-08-01T09:50:17.204Z"
   },
   {
    "duration": 6,
    "start_time": "2021-08-01T09:50:17.610Z"
   },
   {
    "duration": 313,
    "start_time": "2021-08-01T09:50:17.620Z"
   },
   {
    "duration": 457,
    "start_time": "2021-08-01T09:50:17.939Z"
   },
   {
    "duration": 6,
    "start_time": "2021-08-01T09:50:18.399Z"
   },
   {
    "duration": 486,
    "start_time": "2021-08-01T09:50:18.408Z"
   },
   {
    "duration": 249,
    "start_time": "2021-08-01T09:50:18.897Z"
   },
   {
    "duration": 25,
    "start_time": "2021-08-01T09:50:19.148Z"
   },
   {
    "duration": 12,
    "start_time": "2021-08-01T09:50:19.176Z"
   },
   {
    "duration": 18,
    "start_time": "2021-08-01T09:50:19.191Z"
   },
   {
    "duration": 1067,
    "start_time": "2021-08-01T09:50:19.212Z"
   },
   {
    "duration": 20,
    "start_time": "2021-08-01T09:50:20.281Z"
   },
   {
    "duration": 476,
    "start_time": "2021-08-01T09:50:20.303Z"
   },
   {
    "duration": 1486,
    "start_time": "2021-08-01T09:50:35.963Z"
   },
   {
    "duration": 30,
    "start_time": "2021-08-01T09:50:37.452Z"
   },
   {
    "duration": 11,
    "start_time": "2021-08-01T09:50:37.485Z"
   },
   {
    "duration": 20,
    "start_time": "2021-08-01T09:50:37.499Z"
   },
   {
    "duration": 542,
    "start_time": "2021-08-01T09:50:37.522Z"
   },
   {
    "duration": 25,
    "start_time": "2021-08-01T09:50:38.067Z"
   },
   {
    "duration": 51,
    "start_time": "2021-08-01T09:50:38.095Z"
   },
   {
    "duration": 9,
    "start_time": "2021-08-01T09:50:38.150Z"
   },
   {
    "duration": 32,
    "start_time": "2021-08-01T09:50:38.162Z"
   },
   {
    "duration": 5,
    "start_time": "2021-08-01T09:50:38.197Z"
   },
   {
    "duration": 14,
    "start_time": "2021-08-01T09:50:38.204Z"
   },
   {
    "duration": 24,
    "start_time": "2021-08-01T09:50:38.220Z"
   },
   {
    "duration": 9,
    "start_time": "2021-08-01T09:50:38.267Z"
   },
   {
    "duration": 9,
    "start_time": "2021-08-01T09:50:38.279Z"
   },
   {
    "duration": 1055,
    "start_time": "2021-08-01T09:50:38.291Z"
   },
   {
    "duration": 455,
    "start_time": "2021-08-01T09:50:39.350Z"
   },
   {
    "duration": 762,
    "start_time": "2021-08-01T09:50:39.808Z"
   },
   {
    "duration": 432,
    "start_time": "2021-08-01T09:50:40.572Z"
   },
   {
    "duration": 482,
    "start_time": "2021-08-01T09:50:41.006Z"
   },
   {
    "duration": 516,
    "start_time": "2021-08-01T09:50:41.490Z"
   },
   {
    "duration": 405,
    "start_time": "2021-08-01T09:50:42.008Z"
   },
   {
    "duration": 5,
    "start_time": "2021-08-01T09:50:42.415Z"
   },
   {
    "duration": 312,
    "start_time": "2021-08-01T09:50:42.425Z"
   },
   {
    "duration": 447,
    "start_time": "2021-08-01T09:50:42.740Z"
   },
   {
    "duration": 5,
    "start_time": "2021-08-01T09:50:43.189Z"
   },
   {
    "duration": 484,
    "start_time": "2021-08-01T09:50:43.197Z"
   },
   {
    "duration": 271,
    "start_time": "2021-08-01T09:50:43.683Z"
   },
   {
    "duration": 16,
    "start_time": "2021-08-01T09:50:43.966Z"
   },
   {
    "duration": 12,
    "start_time": "2021-08-01T09:50:43.984Z"
   },
   {
    "duration": 18,
    "start_time": "2021-08-01T09:50:43.999Z"
   },
   {
    "duration": 1057,
    "start_time": "2021-08-01T09:50:44.019Z"
   },
   {
    "duration": 21,
    "start_time": "2021-08-01T09:50:45.079Z"
   },
   {
    "duration": 481,
    "start_time": "2021-08-01T09:50:45.103Z"
   },
   {
    "duration": 1588,
    "start_time": "2021-08-01T09:51:25.250Z"
   },
   {
    "duration": 32,
    "start_time": "2021-08-01T09:51:26.840Z"
   },
   {
    "duration": 10,
    "start_time": "2021-08-01T09:51:26.878Z"
   },
   {
    "duration": 21,
    "start_time": "2021-08-01T09:51:26.890Z"
   },
   {
    "duration": 573,
    "start_time": "2021-08-01T09:51:26.914Z"
   },
   {
    "duration": 26,
    "start_time": "2021-08-01T09:51:27.489Z"
   },
   {
    "duration": 60,
    "start_time": "2021-08-01T09:51:27.519Z"
   },
   {
    "duration": 8,
    "start_time": "2021-08-01T09:51:27.581Z"
   },
   {
    "duration": 33,
    "start_time": "2021-08-01T09:51:27.592Z"
   },
   {
    "duration": 6,
    "start_time": "2021-08-01T09:51:27.627Z"
   },
   {
    "duration": 41,
    "start_time": "2021-08-01T09:51:27.635Z"
   },
   {
    "duration": 9,
    "start_time": "2021-08-01T09:51:27.679Z"
   },
   {
    "duration": 11,
    "start_time": "2021-08-01T09:51:27.690Z"
   },
   {
    "duration": 1082,
    "start_time": "2021-08-01T09:51:27.704Z"
   },
   {
    "duration": 453,
    "start_time": "2021-08-01T09:51:28.788Z"
   },
   {
    "duration": 476,
    "start_time": "2021-08-01T09:51:29.244Z"
   },
   {
    "duration": 468,
    "start_time": "2021-08-01T09:51:29.722Z"
   },
   {
    "duration": 753,
    "start_time": "2021-08-01T09:51:30.193Z"
   },
   {
    "duration": 522,
    "start_time": "2021-08-01T09:51:30.948Z"
   },
   {
    "duration": 416,
    "start_time": "2021-08-01T09:51:31.472Z"
   },
   {
    "duration": 6,
    "start_time": "2021-08-01T09:51:31.891Z"
   },
   {
    "duration": 324,
    "start_time": "2021-08-01T09:51:31.902Z"
   },
   {
    "duration": 433,
    "start_time": "2021-08-01T09:51:32.230Z"
   },
   {
    "duration": 6,
    "start_time": "2021-08-01T09:51:32.666Z"
   },
   {
    "duration": 486,
    "start_time": "2021-08-01T09:51:32.675Z"
   },
   {
    "duration": 212,
    "start_time": "2021-08-01T09:51:33.166Z"
   },
   {
    "duration": 14,
    "start_time": "2021-08-01T09:51:33.380Z"
   },
   {
    "duration": 13,
    "start_time": "2021-08-01T09:51:33.397Z"
   },
   {
    "duration": 54,
    "start_time": "2021-08-01T09:51:33.412Z"
   },
   {
    "duration": 1014,
    "start_time": "2021-08-01T09:51:33.469Z"
   },
   {
    "duration": 21,
    "start_time": "2021-08-01T09:51:34.486Z"
   },
   {
    "duration": 481,
    "start_time": "2021-08-01T09:51:34.509Z"
   },
   {
    "duration": 1420,
    "start_time": "2021-08-01T09:51:58.315Z"
   },
   {
    "duration": 31,
    "start_time": "2021-08-01T09:51:59.738Z"
   },
   {
    "duration": 9,
    "start_time": "2021-08-01T09:51:59.772Z"
   },
   {
    "duration": 20,
    "start_time": "2021-08-01T09:51:59.784Z"
   },
   {
    "duration": 552,
    "start_time": "2021-08-01T09:51:59.806Z"
   },
   {
    "duration": 26,
    "start_time": "2021-08-01T09:52:00.361Z"
   },
   {
    "duration": 53,
    "start_time": "2021-08-01T09:52:00.390Z"
   },
   {
    "duration": 9,
    "start_time": "2021-08-01T09:52:00.447Z"
   },
   {
    "duration": 32,
    "start_time": "2021-08-01T09:52:00.459Z"
   },
   {
    "duration": 13,
    "start_time": "2021-08-01T09:52:00.494Z"
   },
   {
    "duration": 48,
    "start_time": "2021-08-01T09:52:00.509Z"
   },
   {
    "duration": 33,
    "start_time": "2021-08-01T09:52:00.560Z"
   },
   {
    "duration": 20,
    "start_time": "2021-08-01T09:52:00.596Z"
   },
   {
    "duration": 1221,
    "start_time": "2021-08-01T09:52:00.619Z"
   },
   {
    "duration": 453,
    "start_time": "2021-08-01T09:52:01.843Z"
   },
   {
    "duration": 441,
    "start_time": "2021-08-01T09:52:02.299Z"
   },
   {
    "duration": 461,
    "start_time": "2021-08-01T09:52:02.742Z"
   },
   {
    "duration": 749,
    "start_time": "2021-08-01T09:52:03.206Z"
   },
   {
    "duration": 511,
    "start_time": "2021-08-01T09:52:03.958Z"
   },
   {
    "duration": 420,
    "start_time": "2021-08-01T09:52:04.472Z"
   },
   {
    "duration": 6,
    "start_time": "2021-08-01T09:52:04.894Z"
   },
   {
    "duration": 328,
    "start_time": "2021-08-01T09:52:04.902Z"
   },
   {
    "duration": 434,
    "start_time": "2021-08-01T09:52:05.234Z"
   },
   {
    "duration": 7,
    "start_time": "2021-08-01T09:52:05.671Z"
   },
   {
    "duration": 626,
    "start_time": "2021-08-01T09:52:05.681Z"
   },
   {
    "duration": 358,
    "start_time": "2021-08-01T09:52:06.311Z"
   },
   {
    "duration": 15,
    "start_time": "2021-08-01T09:52:06.672Z"
   },
   {
    "duration": 18,
    "start_time": "2021-08-01T09:52:06.691Z"
   },
   {
    "duration": 61,
    "start_time": "2021-08-01T09:52:06.713Z"
   },
   {
    "duration": 1049,
    "start_time": "2021-08-01T09:52:06.777Z"
   },
   {
    "duration": 20,
    "start_time": "2021-08-01T09:52:07.828Z"
   },
   {
    "duration": 452,
    "start_time": "2021-08-01T09:52:07.867Z"
   },
   {
    "duration": 5,
    "start_time": "2021-08-01T09:52:12.846Z"
   },
   {
    "duration": 5,
    "start_time": "2021-08-01T09:52:22.877Z"
   },
   {
    "duration": 5,
    "start_time": "2021-08-01T09:52:39.026Z"
   },
   {
    "duration": 4,
    "start_time": "2021-08-01T09:52:46.949Z"
   },
   {
    "duration": 1511,
    "start_time": "2021-08-01T09:52:55.829Z"
   },
   {
    "duration": 30,
    "start_time": "2021-08-01T09:52:58.553Z"
   },
   {
    "duration": 10,
    "start_time": "2021-08-01T09:53:00.633Z"
   },
   {
    "duration": 20,
    "start_time": "2021-08-01T09:53:02.052Z"
   },
   {
    "duration": 652,
    "start_time": "2021-08-01T09:53:04.269Z"
   },
   {
    "duration": 26,
    "start_time": "2021-08-01T09:53:06.997Z"
   },
   {
    "duration": 43,
    "start_time": "2021-08-01T09:53:10.245Z"
   },
   {
    "duration": 9,
    "start_time": "2021-08-01T09:53:12.501Z"
   },
   {
    "duration": 30,
    "start_time": "2021-08-01T09:53:13.947Z"
   },
   {
    "duration": 7,
    "start_time": "2021-08-01T09:53:15.961Z"
   },
   {
    "duration": 24,
    "start_time": "2021-08-01T09:53:17.190Z"
   },
   {
    "duration": 8,
    "start_time": "2021-08-01T09:53:18.973Z"
   },
   {
    "duration": 5,
    "start_time": "2021-08-01T09:53:20.130Z"
   },
   {
    "duration": 1046,
    "start_time": "2021-08-01T09:53:24.258Z"
   },
   {
    "duration": 441,
    "start_time": "2021-08-01T09:53:32.292Z"
   },
   {
    "duration": 403,
    "start_time": "2021-08-01T09:54:18.403Z"
   },
   {
    "duration": 396,
    "start_time": "2021-08-01T09:54:24.725Z"
   },
   {
    "duration": 470,
    "start_time": "2021-08-01T09:54:35.427Z"
   },
   {
    "duration": 492,
    "start_time": "2021-08-01T09:54:44.431Z"
   },
   {
    "duration": 393,
    "start_time": "2021-08-01T09:56:02.281Z"
   },
   {
    "duration": 404,
    "start_time": "2021-08-01T09:56:09.660Z"
   },
   {
    "duration": 384,
    "start_time": "2021-08-01T09:56:21.633Z"
   },
   {
    "duration": 367,
    "start_time": "2021-08-01T09:56:34.845Z"
   },
   {
    "duration": 374,
    "start_time": "2021-08-01T09:56:40.475Z"
   },
   {
    "duration": 401,
    "start_time": "2021-08-01T09:56:46.657Z"
   },
   {
    "duration": 427,
    "start_time": "2021-08-01T09:57:12.019Z"
   },
   {
    "duration": 490,
    "start_time": "2021-08-01T09:57:15.231Z"
   },
   {
    "duration": 389,
    "start_time": "2021-08-01T09:57:20.493Z"
   },
   {
    "duration": 6,
    "start_time": "2021-08-01T09:57:34.981Z"
   },
   {
    "duration": 392,
    "start_time": "2021-08-01T09:57:51.603Z"
   },
   {
    "duration": 384,
    "start_time": "2021-08-01T09:57:55.280Z"
   },
   {
    "duration": 7,
    "start_time": "2021-08-01T09:58:00.260Z"
   },
   {
    "duration": 459,
    "start_time": "2021-08-01T09:58:06.846Z"
   },
   {
    "duration": 228,
    "start_time": "2021-08-01T10:01:00.064Z"
   },
   {
    "duration": 15,
    "start_time": "2021-08-01T10:02:33.104Z"
   },
   {
    "duration": 13,
    "start_time": "2021-08-01T10:03:36.841Z"
   },
   {
    "duration": 19,
    "start_time": "2021-08-01T10:03:53.386Z"
   },
   {
    "duration": 1034,
    "start_time": "2021-08-01T10:04:29.982Z"
   },
   {
    "duration": 21,
    "start_time": "2021-08-01T10:05:05.989Z"
   },
   {
    "duration": 445,
    "start_time": "2021-08-01T10:05:39.066Z"
   },
   {
    "duration": 1474,
    "start_time": "2021-08-01T10:11:37.688Z"
   },
   {
    "duration": 1519,
    "start_time": "2021-08-01T10:11:40.161Z"
   },
   {
    "duration": 10,
    "start_time": "2021-08-01T10:11:43.680Z"
   },
   {
    "duration": 21,
    "start_time": "2021-08-01T10:11:46.146Z"
   },
   {
    "duration": 534,
    "start_time": "2021-08-01T10:11:47.893Z"
   },
   {
    "duration": 25,
    "start_time": "2021-08-01T10:11:50.935Z"
   },
   {
    "duration": 66,
    "start_time": "2021-08-01T10:11:54.511Z"
   },
   {
    "duration": 10,
    "start_time": "2021-08-01T10:11:56.260Z"
   },
   {
    "duration": 28,
    "start_time": "2021-08-01T10:11:57.535Z"
   },
   {
    "duration": 1322,
    "start_time": "2021-08-01T10:12:15.517Z"
   },
   {
    "duration": 1174,
    "start_time": "2021-08-01T10:12:32.426Z"
   },
   {
    "duration": 1519,
    "start_time": "2021-08-01T10:12:48.935Z"
   },
   {
    "duration": 31,
    "start_time": "2021-08-01T10:12:50.457Z"
   },
   {
    "duration": 9,
    "start_time": "2021-08-01T10:12:52.168Z"
   },
   {
    "duration": 20,
    "start_time": "2021-08-01T10:12:54.450Z"
   },
   {
    "duration": 534,
    "start_time": "2021-08-01T10:12:56.788Z"
   },
   {
    "duration": 24,
    "start_time": "2021-08-01T10:12:59.639Z"
   },
   {
    "duration": 49,
    "start_time": "2021-08-01T10:13:02.430Z"
   },
   {
    "duration": 9,
    "start_time": "2021-08-01T10:13:04.521Z"
   },
   {
    "duration": 31,
    "start_time": "2021-08-01T10:13:06.241Z"
   },
   {
    "duration": 6,
    "start_time": "2021-08-01T10:13:18.532Z"
   },
   {
    "duration": 23,
    "start_time": "2021-08-01T10:13:20.020Z"
   },
   {
    "duration": 8,
    "start_time": "2021-08-01T10:13:22.004Z"
   },
   {
    "duration": 6,
    "start_time": "2021-08-01T10:13:23.160Z"
   },
   {
    "duration": 1021,
    "start_time": "2021-08-01T10:13:25.737Z"
   },
   {
    "duration": 401,
    "start_time": "2021-08-01T10:15:06.759Z"
   },
   {
    "duration": 458,
    "start_time": "2021-08-01T10:15:10.268Z"
   },
   {
    "duration": 370,
    "start_time": "2021-08-01T10:15:13.451Z"
   },
   {
    "duration": 515,
    "start_time": "2021-08-01T10:15:16.708Z"
   },
   {
    "duration": 502,
    "start_time": "2021-08-01T10:15:20.767Z"
   },
   {
    "duration": 433,
    "start_time": "2021-08-01T10:15:23.140Z"
   },
   {
    "duration": 5,
    "start_time": "2021-08-01T10:15:25.856Z"
   },
   {
    "duration": 284,
    "start_time": "2021-08-01T10:15:27.706Z"
   },
   {
    "duration": 428,
    "start_time": "2021-08-01T10:15:29.750Z"
   },
   {
    "duration": 6,
    "start_time": "2021-08-01T10:15:31.934Z"
   },
   {
    "duration": 484,
    "start_time": "2021-08-01T10:15:56.760Z"
   },
   {
    "duration": 216,
    "start_time": "2021-08-01T10:16:25.281Z"
   },
   {
    "duration": 14,
    "start_time": "2021-08-01T10:16:54.756Z"
   },
   {
    "duration": 14,
    "start_time": "2021-08-01T10:17:17.627Z"
   },
   {
    "duration": 19,
    "start_time": "2021-08-01T10:17:28.542Z"
   },
   {
    "duration": 21,
    "start_time": "2021-08-01T10:17:49.634Z"
   },
   {
    "duration": 1460,
    "start_time": "2021-08-01T10:19:49.895Z"
   },
   {
    "duration": 30,
    "start_time": "2021-08-01T10:19:51.358Z"
   },
   {
    "duration": 10,
    "start_time": "2021-08-01T10:19:51.391Z"
   },
   {
    "duration": 20,
    "start_time": "2021-08-01T10:19:51.403Z"
   },
   {
    "duration": 561,
    "start_time": "2021-08-01T10:19:51.425Z"
   },
   {
    "duration": 24,
    "start_time": "2021-08-01T10:19:51.989Z"
   },
   {
    "duration": 59,
    "start_time": "2021-08-01T10:19:52.015Z"
   },
   {
    "duration": 9,
    "start_time": "2021-08-01T10:19:52.077Z"
   },
   {
    "duration": 31,
    "start_time": "2021-08-01T10:19:52.089Z"
   },
   {
    "duration": 6,
    "start_time": "2021-08-01T10:19:52.122Z"
   },
   {
    "duration": 45,
    "start_time": "2021-08-01T10:19:52.130Z"
   },
   {
    "duration": 8,
    "start_time": "2021-08-01T10:19:52.177Z"
   },
   {
    "duration": 9,
    "start_time": "2021-08-01T10:19:52.188Z"
   },
   {
    "duration": 1059,
    "start_time": "2021-08-01T10:19:52.199Z"
   },
   {
    "duration": 417,
    "start_time": "2021-08-01T10:19:53.261Z"
   },
   {
    "duration": 449,
    "start_time": "2021-08-01T10:19:53.681Z"
   },
   {
    "duration": 387,
    "start_time": "2021-08-01T10:19:54.132Z"
   },
   {
    "duration": 514,
    "start_time": "2021-08-01T10:19:54.522Z"
   },
   {
    "duration": 473,
    "start_time": "2021-08-01T10:19:55.038Z"
   },
   {
    "duration": 757,
    "start_time": "2021-08-01T10:19:55.513Z"
   },
   {
    "duration": 7,
    "start_time": "2021-08-01T10:19:56.273Z"
   },
   {
    "duration": 888,
    "start_time": "2021-08-01T10:19:56.283Z"
   },
   {
    "duration": 394,
    "start_time": "2021-08-01T10:19:57.176Z"
   },
   {
    "duration": 5,
    "start_time": "2021-08-01T10:19:57.573Z"
   },
   {
    "duration": 480,
    "start_time": "2021-08-01T10:19:57.580Z"
   },
   {
    "duration": 225,
    "start_time": "2021-08-01T10:19:58.063Z"
   },
   {
    "duration": 15,
    "start_time": "2021-08-01T10:19:58.291Z"
   },
   {
    "duration": 13,
    "start_time": "2021-08-01T10:19:58.308Z"
   },
   {
    "duration": 47,
    "start_time": "2021-08-01T10:19:58.323Z"
   },
   {
    "duration": 1011,
    "start_time": "2021-08-01T10:19:58.373Z"
   },
   {
    "duration": 21,
    "start_time": "2021-08-01T10:19:59.386Z"
   },
   {
    "duration": 479,
    "start_time": "2021-08-01T10:19:59.409Z"
   },
   {
    "duration": 1488,
    "start_time": "2021-08-01T18:51:40.860Z"
   },
   {
    "duration": 34,
    "start_time": "2021-08-01T18:51:42.350Z"
   },
   {
    "duration": 10,
    "start_time": "2021-08-01T18:51:42.386Z"
   },
   {
    "duration": 20,
    "start_time": "2021-08-01T18:51:42.399Z"
   },
   {
    "duration": 46295,
    "start_time": "2021-08-01T18:51:42.421Z"
   },
   {
    "duration": 185,
    "start_time": "2021-08-01T18:52:28.719Z"
   },
   {
    "duration": -1219,
    "start_time": "2021-08-01T18:52:30.127Z"
   },
   {
    "duration": -1221,
    "start_time": "2021-08-01T18:52:30.131Z"
   },
   {
    "duration": -1256,
    "start_time": "2021-08-01T18:52:30.167Z"
   },
   {
    "duration": -1259,
    "start_time": "2021-08-01T18:52:30.171Z"
   },
   {
    "duration": -1266,
    "start_time": "2021-08-01T18:52:30.179Z"
   },
   {
    "duration": -1277,
    "start_time": "2021-08-01T18:52:30.192Z"
   },
   {
    "duration": -1288,
    "start_time": "2021-08-01T18:52:30.204Z"
   },
   {
    "duration": -1432,
    "start_time": "2021-08-01T18:52:30.350Z"
   },
   {
    "duration": -1434,
    "start_time": "2021-08-01T18:52:30.353Z"
   },
   {
    "duration": -1654,
    "start_time": "2021-08-01T18:52:30.574Z"
   },
   {
    "duration": -1683,
    "start_time": "2021-08-01T18:52:30.605Z"
   },
   {
    "duration": -1688,
    "start_time": "2021-08-01T18:52:30.612Z"
   },
   {
    "duration": -1690,
    "start_time": "2021-08-01T18:52:30.615Z"
   },
   {
    "duration": -1692,
    "start_time": "2021-08-01T18:52:30.618Z"
   },
   {
    "duration": -1697,
    "start_time": "2021-08-01T18:52:30.625Z"
   },
   {
    "duration": -1705,
    "start_time": "2021-08-01T18:52:30.634Z"
   },
   {
    "duration": -1717,
    "start_time": "2021-08-01T18:52:30.647Z"
   },
   {
    "duration": -1725,
    "start_time": "2021-08-01T18:52:30.657Z"
   },
   {
    "duration": -1727,
    "start_time": "2021-08-01T18:52:30.660Z"
   },
   {
    "duration": -1734,
    "start_time": "2021-08-01T18:52:30.668Z"
   },
   {
    "duration": -1750,
    "start_time": "2021-08-01T18:52:30.685Z"
   },
   {
    "duration": -1752,
    "start_time": "2021-08-01T18:52:30.688Z"
   },
   {
    "duration": -1753,
    "start_time": "2021-08-01T18:52:30.691Z"
   },
   {
    "duration": -1754,
    "start_time": "2021-08-01T18:52:30.694Z"
   },
   {
    "duration": -1761,
    "start_time": "2021-08-01T18:52:30.702Z"
   },
   {
    "duration": -1762,
    "start_time": "2021-08-01T18:52:30.705Z"
   },
   {
    "duration": -1764,
    "start_time": "2021-08-01T18:52:30.708Z"
   },
   {
    "duration": 1056,
    "start_time": "2021-08-01T18:52:38.476Z"
   },
   {
    "duration": 800,
    "start_time": "2021-08-01T18:52:47.417Z"
   },
   {
    "duration": 1640,
    "start_time": "2021-08-01T18:53:37.574Z"
   },
   {
    "duration": 31,
    "start_time": "2021-08-01T18:53:39.216Z"
   },
   {
    "duration": 9,
    "start_time": "2021-08-01T18:53:39.250Z"
   },
   {
    "duration": 21,
    "start_time": "2021-08-01T18:53:39.268Z"
   },
   {
    "duration": 55487,
    "start_time": "2021-08-01T18:53:39.291Z"
   },
   {
    "duration": 28,
    "start_time": "2021-08-01T18:54:34.782Z"
   },
   {
    "duration": 91,
    "start_time": "2021-08-01T18:54:34.812Z"
   },
   {
    "duration": 9,
    "start_time": "2021-08-01T18:54:34.907Z"
   },
   {
    "duration": 38,
    "start_time": "2021-08-01T18:54:34.919Z"
   },
   {
    "duration": 6,
    "start_time": "2021-08-01T18:54:34.959Z"
   },
   {
    "duration": 38,
    "start_time": "2021-08-01T18:54:34.967Z"
   },
   {
    "duration": 24,
    "start_time": "2021-08-01T18:54:35.007Z"
   },
   {
    "duration": 19,
    "start_time": "2021-08-01T18:54:35.033Z"
   },
   {
    "duration": 1107,
    "start_time": "2021-08-01T18:54:35.054Z"
   },
   {
    "duration": 554,
    "start_time": "2021-08-01T18:54:36.168Z"
   },
   {
    "duration": 510,
    "start_time": "2021-08-01T18:54:36.724Z"
   },
   {
    "duration": 423,
    "start_time": "2021-08-01T18:54:37.236Z"
   },
   {
    "duration": 519,
    "start_time": "2021-08-01T18:54:37.662Z"
   },
   {
    "duration": 527,
    "start_time": "2021-08-01T18:54:38.184Z"
   },
   {
    "duration": 432,
    "start_time": "2021-08-01T18:54:38.714Z"
   },
   {
    "duration": 20,
    "start_time": "2021-08-01T18:54:39.149Z"
   },
   {
    "duration": 310,
    "start_time": "2021-08-01T18:54:39.172Z"
   },
   {
    "duration": 413,
    "start_time": "2021-08-01T18:54:39.487Z"
   },
   {
    "duration": 5,
    "start_time": "2021-08-01T18:54:39.903Z"
   },
   {
    "duration": 509,
    "start_time": "2021-08-01T18:54:39.912Z"
   },
   {
    "duration": 247,
    "start_time": "2021-08-01T18:54:40.424Z"
   },
   {
    "duration": 18,
    "start_time": "2021-08-01T18:54:40.674Z"
   },
   {
    "duration": 13,
    "start_time": "2021-08-01T18:54:40.695Z"
   },
   {
    "duration": 19,
    "start_time": "2021-08-01T18:54:40.711Z"
   },
   {
    "duration": 1048,
    "start_time": "2021-08-01T18:54:40.768Z"
   },
   {
    "duration": 22,
    "start_time": "2021-08-01T18:54:41.818Z"
   },
   {
    "duration": 470,
    "start_time": "2021-08-01T18:54:41.843Z"
   },
   {
    "duration": 1509,
    "start_time": "2022-02-09T17:49:31.849Z"
   },
   {
    "duration": 29,
    "start_time": "2022-02-09T17:49:33.361Z"
   },
   {
    "duration": 10,
    "start_time": "2022-02-09T17:49:33.394Z"
   },
   {
    "duration": 18,
    "start_time": "2022-02-09T17:49:33.407Z"
   },
   {
    "duration": 714,
    "start_time": "2022-02-09T17:49:33.428Z"
   },
   {
    "duration": 41,
    "start_time": "2022-02-09T17:49:34.145Z"
   },
   {
    "duration": 33,
    "start_time": "2022-02-09T17:49:34.188Z"
   },
   {
    "duration": 8,
    "start_time": "2022-02-09T17:49:34.226Z"
   },
   {
    "duration": 50,
    "start_time": "2022-02-09T17:49:34.237Z"
   },
   {
    "duration": 5,
    "start_time": "2022-02-09T17:49:34.290Z"
   },
   {
    "duration": 29,
    "start_time": "2022-02-09T17:49:34.297Z"
   },
   {
    "duration": 22,
    "start_time": "2022-02-09T17:49:34.329Z"
   },
   {
    "duration": 30,
    "start_time": "2022-02-09T17:49:34.354Z"
   },
   {
    "duration": 1028,
    "start_time": "2022-02-09T17:49:34.386Z"
   },
   {
    "duration": 518,
    "start_time": "2022-02-09T17:49:35.416Z"
   },
   {
    "duration": 474,
    "start_time": "2022-02-09T17:49:35.938Z"
   },
   {
    "duration": 430,
    "start_time": "2022-02-09T17:49:36.414Z"
   },
   {
    "duration": 523,
    "start_time": "2022-02-09T17:49:36.847Z"
   },
   {
    "duration": 928,
    "start_time": "2022-02-09T17:49:37.373Z"
   },
   {
    "duration": 1025,
    "start_time": "2022-02-09T17:49:37.279Z"
   },
   {
    "duration": 1017,
    "start_time": "2022-02-09T17:49:37.288Z"
   },
   {
    "duration": 1014,
    "start_time": "2022-02-09T17:49:37.293Z"
   },
   {
    "duration": 1012,
    "start_time": "2022-02-09T17:49:37.297Z"
   },
   {
    "duration": 1004,
    "start_time": "2022-02-09T17:49:37.306Z"
   },
   {
    "duration": 1002,
    "start_time": "2022-02-09T17:49:37.310Z"
   },
   {
    "duration": 993,
    "start_time": "2022-02-09T17:49:37.320Z"
   },
   {
    "duration": 991,
    "start_time": "2022-02-09T17:49:37.324Z"
   },
   {
    "duration": 988,
    "start_time": "2022-02-09T17:49:37.329Z"
   },
   {
    "duration": 981,
    "start_time": "2022-02-09T17:49:37.337Z"
   },
   {
    "duration": 979,
    "start_time": "2022-02-09T17:49:37.341Z"
   },
   {
    "duration": 977,
    "start_time": "2022-02-09T17:49:37.345Z"
   },
   {
    "duration": 967,
    "start_time": "2022-02-09T17:49:37.356Z"
   },
   {
    "duration": 486,
    "start_time": "2022-02-09T17:50:21.363Z"
   },
   {
    "duration": 510,
    "start_time": "2022-02-09T17:50:25.587Z"
   },
   {
    "duration": 432,
    "start_time": "2022-02-09T17:50:30.439Z"
   },
   {
    "duration": 385,
    "start_time": "2022-02-09T17:50:39.394Z"
   },
   {
    "duration": 383,
    "start_time": "2022-02-09T17:50:48.003Z"
   },
   {
    "duration": 6,
    "start_time": "2022-02-09T17:50:50.957Z"
   },
   {
    "duration": 562,
    "start_time": "2022-02-09T17:50:51.962Z"
   },
   {
    "duration": 321,
    "start_time": "2022-02-09T17:50:57.812Z"
   },
   {
    "duration": 438,
    "start_time": "2022-02-09T17:51:21.828Z"
   },
   {
    "duration": 298,
    "start_time": "2022-02-09T17:51:33.508Z"
   },
   {
    "duration": 510,
    "start_time": "2022-02-09T17:51:39.019Z"
   },
   {
    "duration": 483,
    "start_time": "2022-02-09T17:51:44.996Z"
   },
   {
    "duration": 399,
    "start_time": "2022-02-09T17:51:57.812Z"
   },
   {
    "duration": 5,
    "start_time": "2022-02-09T17:51:59.308Z"
   },
   {
    "duration": 487,
    "start_time": "2022-02-09T17:52:01.388Z"
   },
   {
    "duration": 243,
    "start_time": "2022-02-09T17:52:03.149Z"
   },
   {
    "duration": 1908,
    "start_time": "2022-02-09T17:55:00.946Z"
   },
   {
    "duration": 26,
    "start_time": "2022-02-09T17:55:02.857Z"
   },
   {
    "duration": 11,
    "start_time": "2022-02-09T17:55:02.886Z"
   },
   {
    "duration": 17,
    "start_time": "2022-02-09T17:55:02.900Z"
   },
   {
    "duration": 775,
    "start_time": "2022-02-09T17:55:02.919Z"
   },
   {
    "duration": 74,
    "start_time": "2022-02-09T17:55:03.697Z"
   },
   {
    "duration": 50,
    "start_time": "2022-02-09T17:55:03.774Z"
   },
   {
    "duration": 49,
    "start_time": "2022-02-09T17:55:03.828Z"
   },
   {
    "duration": 43,
    "start_time": "2022-02-09T17:55:03.880Z"
   },
   {
    "duration": 6,
    "start_time": "2022-02-09T17:55:03.926Z"
   },
   {
    "duration": 20,
    "start_time": "2022-02-09T17:55:03.970Z"
   },
   {
    "duration": 12,
    "start_time": "2022-02-09T17:55:03.993Z"
   },
   {
    "duration": 9,
    "start_time": "2022-02-09T17:55:04.007Z"
   },
   {
    "duration": 1229,
    "start_time": "2022-02-09T17:55:04.019Z"
   },
   {
    "duration": 528,
    "start_time": "2022-02-09T17:55:05.250Z"
   },
   {
    "duration": 645,
    "start_time": "2022-02-09T17:55:05.781Z"
   },
   {
    "duration": 497,
    "start_time": "2022-02-09T17:55:06.429Z"
   },
   {
    "duration": 808,
    "start_time": "2022-02-09T17:55:06.928Z"
   },
   {
    "duration": 921,
    "start_time": "2022-02-09T17:55:07.740Z"
   },
   {
    "duration": 636,
    "start_time": "2022-02-09T17:55:08.669Z"
   },
   {
    "duration": 6,
    "start_time": "2022-02-09T17:55:09.307Z"
   },
   {
    "duration": 423,
    "start_time": "2022-02-09T17:55:09.317Z"
   },
   {
    "duration": 537,
    "start_time": "2022-02-09T17:55:09.745Z"
   },
   {
    "duration": 5,
    "start_time": "2022-02-09T17:55:10.285Z"
   },
   {
    "duration": 479,
    "start_time": "2022-02-09T17:55:10.293Z"
   },
   {
    "duration": 224,
    "start_time": "2022-02-09T17:55:10.775Z"
   },
   {
    "duration": 15,
    "start_time": "2022-02-09T17:55:11.002Z"
   },
   {
    "duration": 16,
    "start_time": "2022-02-09T17:55:11.019Z"
   },
   {
    "duration": 48,
    "start_time": "2022-02-09T17:55:11.037Z"
   },
   {
    "duration": 1132,
    "start_time": "2022-02-09T17:55:11.087Z"
   },
   {
    "duration": 20,
    "start_time": "2022-02-09T17:55:12.221Z"
   },
   {
    "duration": 572,
    "start_time": "2022-02-09T17:55:12.244Z"
   },
   {
    "duration": 1161,
    "start_time": "2022-02-09T17:55:37.062Z"
   },
   {
    "duration": 1281,
    "start_time": "2022-02-09T17:55:43.662Z"
   },
   {
    "duration": 1489,
    "start_time": "2022-02-09T17:55:57.679Z"
   },
   {
    "duration": 27,
    "start_time": "2022-02-09T17:55:59.171Z"
   },
   {
    "duration": 11,
    "start_time": "2022-02-09T17:55:59.201Z"
   },
   {
    "duration": 20,
    "start_time": "2022-02-09T17:55:59.215Z"
   },
   {
    "duration": 669,
    "start_time": "2022-02-09T17:55:59.238Z"
   },
   {
    "duration": 28,
    "start_time": "2022-02-09T17:55:59.910Z"
   },
   {
    "duration": 40,
    "start_time": "2022-02-09T17:55:59.941Z"
   },
   {
    "duration": 8,
    "start_time": "2022-02-09T17:55:59.986Z"
   },
   {
    "duration": 37,
    "start_time": "2022-02-09T17:55:59.998Z"
   },
   {
    "duration": 6,
    "start_time": "2022-02-09T17:56:00.070Z"
   },
   {
    "duration": 28,
    "start_time": "2022-02-09T17:56:00.078Z"
   },
   {
    "duration": 15,
    "start_time": "2022-02-09T17:56:00.108Z"
   },
   {
    "duration": 15,
    "start_time": "2022-02-09T17:56:00.125Z"
   },
   {
    "duration": 1199,
    "start_time": "2022-02-09T17:56:00.142Z"
   },
   {
    "duration": 527,
    "start_time": "2022-02-09T17:56:01.343Z"
   },
   {
    "duration": 897,
    "start_time": "2022-02-09T17:56:01.872Z"
   },
   {
    "duration": 610,
    "start_time": "2022-02-09T17:56:02.773Z"
   },
   {
    "duration": 688,
    "start_time": "2022-02-09T17:56:03.387Z"
   },
   {
    "duration": 642,
    "start_time": "2022-02-09T17:56:04.078Z"
   },
   {
    "duration": 593,
    "start_time": "2022-02-09T17:56:04.724Z"
   },
   {
    "duration": 7,
    "start_time": "2022-02-09T17:56:05.321Z"
   },
   {
    "duration": 485,
    "start_time": "2022-02-09T17:56:05.331Z"
   },
   {
    "duration": 505,
    "start_time": "2022-02-09T17:56:05.820Z"
   },
   {
    "duration": 5,
    "start_time": "2022-02-09T17:56:06.329Z"
   },
   {
    "duration": 495,
    "start_time": "2022-02-09T17:56:06.337Z"
   },
   {
    "duration": 251,
    "start_time": "2022-02-09T17:56:06.835Z"
   },
   {
    "duration": 15,
    "start_time": "2022-02-09T17:56:07.088Z"
   },
   {
    "duration": 13,
    "start_time": "2022-02-09T17:56:07.106Z"
   },
   {
    "duration": 56,
    "start_time": "2022-02-09T17:56:07.122Z"
   },
   {
    "duration": 1163,
    "start_time": "2022-02-09T17:56:07.181Z"
   },
   {
    "duration": 32,
    "start_time": "2022-02-09T17:56:08.347Z"
   },
   {
    "duration": 533,
    "start_time": "2022-02-09T17:56:08.381Z"
   }
  ],
  "kernelspec": {
   "display_name": "Python 3",
   "language": "python",
   "name": "python3"
  },
  "language_info": {
   "codemirror_mode": {
    "name": "ipython",
    "version": 3
   },
   "file_extension": ".py",
   "mimetype": "text/x-python",
   "name": "python",
   "nbconvert_exporter": "python",
   "pygments_lexer": "ipython3",
   "version": "3.7.8"
  },
  "toc": {
   "base_numbering": 1,
   "nav_menu": {},
   "number_sections": true,
   "sideBar": true,
   "skip_h1_title": true,
   "title_cell": "Table of Contents",
   "title_sidebar": "Contents",
   "toc_cell": false,
   "toc_position": {
    "height": "calc(100% - 180px)",
    "left": "10px",
    "top": "150px",
    "width": "366.4px"
   },
   "toc_section_display": true,
   "toc_window_display": true
  }
 },
 "nbformat": 4,
 "nbformat_minor": 2
}
